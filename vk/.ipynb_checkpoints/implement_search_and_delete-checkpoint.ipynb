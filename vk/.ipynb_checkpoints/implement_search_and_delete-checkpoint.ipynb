{
 "cells": [
  {
   "cell_type": "code",
   "execution_count": 32,
   "metadata": {},
   "outputs": [],
   "source": [
    "import vk\n",
    "import time\n",
    "from Levenshtein import distance"
   ]
  },
  {
   "cell_type": "code",
   "execution_count": null,
   "metadata": {},
   "outputs": [],
   "source": [
    "https://vk.com/dev/implicit_flow_user\n",
    "    \n",
    "    переадресовываем на свою страницу домашнюю просто"
   ]
  },
  {
   "cell_type": "code",
   "execution_count": 4,
   "metadata": {},
   "outputs": [],
   "source": [
    "token_id_leo_wall = \"328b4e2e3ac7378e82954f199f66bad644bd39c21cb419d8f02a9082f0288c27e59ec0e59eec557c486b4\""
   ]
  },
  {
   "cell_type": "code",
   "execution_count": 83,
   "metadata": {},
   "outputs": [
    {
     "data": {
      "text/plain": [
       "1"
      ]
     },
     "execution_count": 83,
     "metadata": {},
     "output_type": "execute_result"
    }
   ],
   "source": [
    "session = vk.AuthSession(access_token=token_id_leo_wall)\n",
    "api = vk.API(session, v='5.95', lang='ru', timeout=10)\n",
    "\n",
    "api.wall.deleteComment(owner_id = '-15787787',comment_id = '150952')\n"
   ]
  },
  {
   "cell_type": "code",
   "execution_count": 84,
   "metadata": {},
   "outputs": [
    {
     "data": {
      "text/plain": [
       "1"
      ]
     },
     "execution_count": 84,
     "metadata": {},
     "output_type": "execute_result"
    }
   ],
   "source": [
    "api.wall.restoreComment(owner_id = '-15787787',comment_id = '150952')"
   ]
  },
  {
   "cell_type": "code",
   "execution_count": 101,
   "metadata": {},
   "outputs": [
    {
     "data": {
      "text/plain": [
       "[{'id': 2513435,\n",
       "  'first_name': 'Igor',\n",
       "  'last_name': 'Sushko',\n",
       "  'is_closed': True,\n",
       "  'can_access_closed': False}]"
      ]
     },
     "execution_count": 101,
     "metadata": {},
     "output_type": "execute_result"
    }
   ],
   "source": [
    "api.users.get(user_ids = '2513435')\n"
   ]
  },
  {
   "cell_type": "code",
   "execution_count": 99,
   "metadata": {},
   "outputs": [
    {
     "data": {
      "text/plain": [
       "{'first_name': 'Lingua',\n",
       " 'last_name': 'Leo',\n",
       " 'sex': 2,\n",
       " 'relation': 0,\n",
       " 'bdate': '2.3.1960',\n",
       " 'bdate_visibility': 1,\n",
       " 'home_town': 'Москва',\n",
       " 'country': {'id': 1, 'title': 'Россия'},\n",
       " 'city': {'id': 1, 'title': 'Москва'},\n",
       " 'status': '',\n",
       " 'phone': '+7 *** *** ** 48'}"
      ]
     },
     "execution_count": 99,
     "metadata": {},
     "output_type": "execute_result"
    }
   ],
   "source": [
    "api.account.getProfileInfo(owner_id = \"2513435\")"
   ]
  },
  {
   "cell_type": "markdown",
   "metadata": {},
   "source": [
    "# BAD WORDS DETECTION"
   ]
  },
  {
   "cell_type": "code",
   "execution_count": null,
   "metadata": {},
   "outputs": [],
   "source": [
    "from string import punctuation"
   ]
  },
  {
   "cell_type": "code",
   "execution_count": 66,
   "metadata": {},
   "outputs": [],
   "source": [
    "from pymystem3 import Mystem\n",
    "m = Mystem()\n",
    "text = \"Красивая мама красиво мыла раму\"\n",
    "lemmas = m.lemmatize(text)"
   ]
  },
  {
   "cell_type": "code",
   "execution_count": 50,
   "metadata": {},
   "outputs": [],
   "source": [
    "bad_words_list = []\n",
    "with open(\"bad_words.txt\", \"r\") as f:\n",
    "    for word in f.readlines():\n",
    "        bad_words_list.append(word[:-1])\n",
    "        if word[:-1].endswith(\"ть\"):\n",
    "            vozvr = word[:-1] + \"ся\"\n",
    "            #print(vozvr)\n",
    "            bad_words_list.append(vozvr) \n",
    "        #print(\"||\",word[:-1],\"||\")\n",
    "    "
   ]
  },
  {
   "cell_type": "code",
   "execution_count": 16,
   "metadata": {},
   "outputs": [
    {
     "data": {
      "text/plain": [
       "'авотхуй'"
      ]
     },
     "execution_count": 16,
     "metadata": {},
     "output_type": "execute_result"
    }
   ],
   "source": [
    "bad_words_list[0]"
   ]
  },
  {
   "cell_type": "code",
   "execution_count": 59,
   "metadata": {},
   "outputs": [
    {
     "data": {
      "text/plain": [
       "['блядский', '\\n']"
      ]
     },
     "execution_count": 59,
     "metadata": {},
     "output_type": "execute_result"
    }
   ],
   "source": [
    "m.lemmatize(\"блядские\")"
   ]
  },
  {
   "cell_type": "code",
   "execution_count": 28,
   "metadata": {},
   "outputs": [
    {
     "data": {
      "text/plain": [
       "'!\"#$%&\\'()*+,-./:;<=>?@[\\\\]^_`{|}~'"
      ]
     },
     "execution_count": 28,
     "metadata": {},
     "output_type": "execute_result"
    }
   ],
   "source": [
    "punctuation"
   ]
  },
  {
   "cell_type": "code",
   "execution_count": 33,
   "metadata": {},
   "outputs": [
    {
     "data": {
      "text/plain": [
       "1"
      ]
     },
     "execution_count": 33,
     "metadata": {},
     "output_type": "execute_result"
    }
   ],
   "source": [
    "distance(\"мама\",\"пама\")"
   ]
  },
  {
   "cell_type": "code",
   "execution_count": 56,
   "metadata": {},
   "outputs": [],
   "source": [
    "test_text = \"\"\"Вероника, вас откровенно жалко, не в ту компанию вы устроились. \n",
    "Там заправляют бездумные недальновидные люди. Вот просто по человечески все понято, с вас спроса никакого. \n",
    "Сделать пост в социалочке, попытаться сгладить косяки коллег - жаль, но этого не достаточно, чтобы снять весь тот \n",
    "негатив, который накопился из-за наплевательского и непрофессионального подхода. \n",
    "Обещания и ожидания, вот что мы пользователи видим и будем видеть и дальше. \n",
    "Сам имею опыт работы в нескольких it-продуктовых компаниях, но чтобы так нафакапить в релизе и не исправить косяк \n",
    "за пару дней, такого нет, не помню ни разу. Даже если происходит что-то из разряда вон выходящего, накатывается бэкап, а разрабы\n",
    "в режиме 24/7 пыхтят над исправлением косяка. Просто на ходу дырявый \"титаник\" НИКТО никогда не латает. \n",
    "Если любая из компаний в которых я работал/ю так, извините за мой \"французкий\",  бы, я бы первый уволился. \n",
    "Просто мне с профессиональной точки зрения с такими людьми не по пути. \n",
    "Терпения вам, и всего самого плохого вашим нелогичным коллегам...\"\"\""
   ]
  },
  {
   "cell_type": "code",
   "execution_count": 81,
   "metadata": {},
   "outputs": [
    {
     "name": "stdout",
     "output_type": "stream",
     "text": [
      "line is clear None\n"
     ]
    }
   ],
   "source": [
    "#%%time\n",
    "m = Mystem()\n",
    "\n",
    "def detect_bad_words(line):\n",
    "    needs_attention = False\n",
    "    needs_attention_list = []\n",
    "    clean_line = ''\n",
    "    for char in line:\n",
    "        if char not in punctuation:\n",
    "            clean_line += char.lower()\n",
    "        else:\n",
    "            clean_line += ' '\n",
    "    #print(clean_line)\n",
    "    clean_line = clean_line.strip()\n",
    "    clean_line_list = clean_line.split()\n",
    "    for clean_word in clean_line_list:\n",
    "        if clean_word in bad_words_list:\n",
    "            return \"direct_bad_word_equality\", (clean_word,clean_word)\n",
    "        clean_lemma = m.lemmatize(clean_word)[0]\n",
    "        \n",
    "        if clean_lemma in bad_words_list:\n",
    "            return \"lemma_bad_word_equality\", (clean_word,clean_lemma)\n",
    "        \n",
    "        not_handle_levenstein = ['чмо','гад']\n",
    "        for bad_word in bad_words_list:\n",
    "            if bad_word not in not_handle_levenstein:\n",
    "                #print(bad_word, clean_lemma)\n",
    "                dst = distance(bad_word, clean_lemma)\n",
    "                if dst == 1:\n",
    "                    needs_attention = True\n",
    "                    needs_attention_list.append((clean_word,bad_word))\n",
    "    if needs_attention:\n",
    "        #print (needs_attention_list)\n",
    "        return \"NEEDS_ATTETNION\", needs_attention_list\n",
    "    return \"line is clear\", None\n",
    "res, word_pair = detect_bad_words(test_text)       \n",
    "print(res,word_pair)"
   ]
  },
  {
   "cell_type": "markdown",
   "metadata": {},
   "source": [
    "# iterate"
   ]
  },
  {
   "cell_type": "code",
   "execution_count": 102,
   "metadata": {},
   "outputs": [],
   "source": [
    "def handle_comment_check_results(check_results, detected_items, delete_list, attention_list,detected_comment_id, wall_owner_id, comment_text,comment_author_id, debug = False):\n",
    "    bad_found_states = ['direct_bad_word_equality','lemma_bad_word_equality']\n",
    "    if debug == True and check_results in bad_found_states: print(\"BAD_FOUND\", detected_items)\n",
    "    if check_results in bad_found_states:\n",
    "        author_info = api.users.get(user_ids = comment_author_id)\n",
    "        api.wall.deleteComment(owner_id = wall_owner_id,comment_id = detected_comment_id)\n",
    "        delete_json = {'comment_id':detected_comment_id, 'wall_owner_id':wall_owner_id, 'detccted_items':detected_items,\"author\":author_info}\n",
    "        delete_list.append(delete_json)\n",
    "    if debug == True and check_results == \"NEEDS_ATTETNION\": print(\"NEEDS_ATTETNION\", detected_items)\n",
    "    elif check_results == \"NEEDS_ATTETNION\":\n",
    "        author_info = api.users.get(user_ids = comment_author_id)\n",
    "        attention_json = {'comment_id':detected_comment_id, 'wall_owner_id':wall_owner_id, 'attention_items':detected_items,\"author\":author_info}\n",
    "        attention_list.append(attention_json)"
   ]
  },
  {
   "cell_type": "code",
   "execution_count": 105,
   "metadata": {},
   "outputs": [],
   "source": [
    "import datetime"
   ]
  },
  {
   "cell_type": "code",
   "execution_count": 106,
   "metadata": {},
   "outputs": [
    {
     "data": {
      "text/plain": [
       "datetime.datetime(2019, 6, 20, 14, 19, 28, 449433)"
      ]
     },
     "execution_count": 106,
     "metadata": {},
     "output_type": "execute_result"
    }
   ],
   "source": [
    "datetime.datetime.now()"
   ]
  },
  {
   "cell_type": "code",
   "execution_count": null,
   "metadata": {},
   "outputs": [],
   "source": [
    ">>> \n",
    ">>> \n",
    "datetime.datetime(2009, 1, 6, 15, 8, 24, 78915)\n",
    "\n",
    ">>> \n",
    "2018-07-29 09:17:13.812189"
   ]
  },
  {
   "cell_type": "code",
   "execution_count": 103,
   "metadata": {},
   "outputs": [
    {
     "name": "stdout",
     "output_type": "stream",
     "text": [
      "NEEDS_ATTETNION [('ура', 'дура')]\n",
      "NEEDS_ATTETNION [('верните', 'пернуть')]\n",
      "NEEDS_ATTETNION [('для', 'бля'), ('для', '6ля'), ('для', 'бля')]\n",
      "NEEDS_ATTETNION [('верните', 'пернуть')]\n",
      "NEEDS_ATTETNION [('для', 'бля'), ('для', '6ля'), ('для', 'бля')]\n",
      "NEEDS_ATTETNION [('прем', 'пердеть'), ('верните', 'пернуть')]\n",
      "NEEDS_ATTETNION [('верните', 'пернуть')]\n",
      "NEEDS_ATTETNION [('брала', 'срать')]\n",
      "NEEDS_ATTETNION [('ui', 'hui')]\n",
      "NEEDS_ATTETNION [('давно', 'гавно')]\n",
      "NEEDS_ATTETNION [('суток', 'суки'), ('суток', 'суки')]\n",
      "NEEDS_ATTETNION [('верните', 'пернуть')]\n",
      "NEEDS_ATTETNION [('давно', 'гавно')]\n",
      "NEEDS_ATTETNION [('суток', 'суки'), ('суток', 'суки')]\n",
      "NEEDS_ATTETNION [('верните', 'пернуть')]\n"
     ]
    }
   ],
   "source": [
    "m = Mystem()\n",
    "def iterate_within_wall(wall_owner_id, print_comments = False, print_detections = False):\n",
    "    items_for_deletion = []\n",
    "    items_for_attention = []\n",
    "    \n",
    "    wall = api.wall.get(owner_id = wall_owner_id, count = 50)\n",
    "    posts = wall['items']\n",
    "    for post in posts:\n",
    "        if print_comments: print(post['text'])\n",
    "        post_comments = api.wall.getComments(owner_id = wall_owner_id ,post_id = post['id'],sort = \"asc\")\n",
    "        post_comments_count = post_comments['count']\n",
    "        post_first_comment_id = post_comments['items'][0]['id']\n",
    "        #comments = api.wall.getComments(owner_id = wall_owner_id ,post_id = post['id'],sort = \"asc\",count = 100)\n",
    "        if print_comments:print(\"post_comments_count\",post_comments_count,'post_first_comment_id',post_first_comment_id)\n",
    "        if print_comments:print(\"============COMMENTS===============\")\n",
    "        for st_comment_id in range(post_first_comment_id,post_first_comment_id + post_comments_count, 100 ):\n",
    "            if print_comments:print(\"post_id\",post['id'], \"st_comment_id\",st_comment_id )\n",
    "            comments = api.wall.getComments(post_id = post['id'], start_comment_id = st_comment_id, owner_id = wall_owner_id ,sort = \"asc\",count = 100)\n",
    "            #print(comments)\n",
    "            for comment in comments['items']:\n",
    "                if \"deleted\" not in comment:\n",
    "                    #print(comment)\n",
    "                    if print_comments:\n",
    "                        print(comment['id'])\n",
    "                        print(comment['text'])\n",
    "                        print(\"\\n\")\n",
    "                    check_results, detected_features = detect_bad_words(comment['text'])\n",
    "                    handle_comment_check_results(check_results, detected_features, items_for_deletion, items_for_attention,comment['id'], wall_owner_id,comment['text'],comment['from_id'], debug = print_detections)\n",
    "                    try:\n",
    "                        comment_thread = api.wall.getComments(post_id = post['id'], comment_id = comment['id'], owner_id = wall_owner_id)\n",
    "                        if len(comment_thread['items']) > 0:\n",
    "                            if print_comments:print(\"********thread_begins********\")\n",
    "                            for thread_mes in comment_thread['items']:\n",
    "                                if print_comments:\n",
    "                                    print(thread_mes['id'])\n",
    "                                    print(thread_mes['text'],'\\n')\n",
    "                                check_results, detected_features = detect_bad_words(thread_mes['text'])\n",
    "                                handle_comment_check_results(check_results, detected_features, items_for_deletion, items_for_attention,thread_mes['id'], wall_owner_id,thread_mes['text'],thread_mes['from_id'], debug = print_comments)\n",
    "                            if print_comments:\n",
    "                                print(\"********thread_ends********\\n\")\n",
    "                    except:\n",
    "                        if print_comments: print(\"parent comment was deleted\")\n",
    "                        pass\n",
    "                time.sleep(1)\n",
    "        if print_comments:\n",
    "            print(\"==============================\")\n",
    "        \n",
    "        \n",
    "        time.sleep(1)\n",
    "        \n",
    "        return items_for_deletion, items_for_attention\n",
    "deleted, attention = iterate_within_wall(\"-15787787\",print_comments = False, print_detections = True)"
   ]
  },
  {
   "cell_type": "code",
   "execution_count": 104,
   "metadata": {},
   "outputs": [
    {
     "data": {
      "text/plain": [
       "[]"
      ]
     },
     "execution_count": 104,
     "metadata": {},
     "output_type": "execute_result"
    }
   ],
   "source": [
    "deleted"
   ]
  },
  {
   "cell_type": "code",
   "execution_count": 91,
   "metadata": {},
   "outputs": [
    {
     "data": {
      "text/plain": [
       "[{'comment_id': 151148,\n",
       "  'wall_owner_id': '-15787787',\n",
       "  'attention_items': [('для', 'бля'), ('для', '6ля'), ('для', 'бля')]},\n",
       " {'comment_id': 151072,\n",
       "  'wall_owner_id': '-15787787',\n",
       "  'attention_items': [('для', 'бля'), ('для', '6ля'), ('для', 'бля')]},\n",
       " {'comment_id': 151063,\n",
       "  'wall_owner_id': '-15787787',\n",
       "  'attention_items': [('для', 'бля'), ('для', '6ля'), ('для', 'бля')]},\n",
       " {'comment_id': 151042,\n",
       "  'wall_owner_id': '-15787787',\n",
       "  'attention_items': [('для', 'бля'), ('для', '6ля'), ('для', 'бля')]},\n",
       " {'comment_id': 151049,\n",
       "  'wall_owner_id': '-15787787',\n",
       "  'attention_items': [('врать', 'срать')]},\n",
       " {'comment_id': 151050,\n",
       "  'wall_owner_id': '-15787787',\n",
       "  'attention_items': [('вру', 'срать')]},\n",
       " {'comment_id': 151146,\n",
       "  'wall_owner_id': '-15787787',\n",
       "  'attention_items': [('души', 'дура')]},\n",
       " {'comment_id': 151124,\n",
       "  'wall_owner_id': '-15787787',\n",
       "  'attention_items': [('плюшки', 'шлюшка')]},\n",
       " {'comment_id': 151134,\n",
       "  'wall_owner_id': '-15787787',\n",
       "  'attention_items': [('врут', 'срать')]},\n",
       " {'comment_id': 151142,\n",
       "  'wall_owner_id': '-15787787',\n",
       "  'attention_items': [('врет', 'срать')]},\n",
       " {'comment_id': 151146,\n",
       "  'wall_owner_id': '-15787787',\n",
       "  'attention_items': [('души', 'дура')]},\n",
       " {'comment_id': 151124,\n",
       "  'wall_owner_id': '-15787787',\n",
       "  'attention_items': [('плюшки', 'шлюшка')]},\n",
       " {'comment_id': 151134,\n",
       "  'wall_owner_id': '-15787787',\n",
       "  'attention_items': [('врут', 'срать')]},\n",
       " {'comment_id': 151142,\n",
       "  'wall_owner_id': '-15787787',\n",
       "  'attention_items': [('врет', 'срать')]}]"
      ]
     },
     "execution_count": 91,
     "metadata": {},
     "output_type": "execute_result"
    }
   ],
   "source": [
    "attention"
   ]
  }
 ],
 "metadata": {
  "kernelspec": {
   "display_name": "Python 3",
   "language": "python",
   "name": "python3"
  },
  "language_info": {
   "codemirror_mode": {
    "name": "ipython",
    "version": 3
   },
   "file_extension": ".py",
   "mimetype": "text/x-python",
   "name": "python",
   "nbconvert_exporter": "python",
   "pygments_lexer": "ipython3",
   "version": "3.7.3"
  }
 },
 "nbformat": 4,
 "nbformat_minor": 2
}
