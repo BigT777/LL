{
 "cells": [
  {
   "cell_type": "code",
   "execution_count": 46,
   "metadata": {},
   "outputs": [],
   "source": [
    "import vk\n",
    "import time\n",
    "import requests"
   ]
  },
  {
   "cell_type": "code",
   "execution_count": 58,
   "metadata": {},
   "outputs": [],
   "source": [
    "#vs likes\n",
    "token_id_leo_wall_offline_likes_utils_group = \"4ff46cfae923452ed4ad41e04ef327e6a10e95ca1232d8aeaf35fd3c6a11dd993aae675d4a2891663a9ae\"\n",
    "\n"
   ]
  },
  {
   "cell_type": "code",
   "execution_count": 48,
   "metadata": {},
   "outputs": [],
   "source": [
    "token_id_leo_wall_offline_likes_utils_group = \"YXV0aG9yaXplP2NsaWVudF9pZD03MDIzODgxJnJlZGlyZWN0X3VyaT1odHRwcyUzQSUyRiUyRnZrLmNvbSUyRmlkNTQ0NzM4NTA4JnJlc3BvbnNlX3R5cGU9dG9rZW4mc2NvcGU9MzM1ODcyJnY9NS45NSZzdGF0ZT0mZGlzcGxheT1wYWdl\""
   ]
  },
  {
   "cell_type": "code",
   "execution_count": 60,
   "metadata": {},
   "outputs": [],
   "source": [
    "#token_id_leo_wall_offline = \"db0023e08ccabd6f4e57d79b47b204a54c6eb65e51c234785ea37809a377607a145246261b189ba66d6c7\"\n",
    "session = vk.AuthSession(access_token=token_id_leo_wall_offline_likes_utils_group)\n",
    "api = vk.API(session, v='5.95', lang='ru', timeout=10)\n"
   ]
  },
  {
   "cell_type": "code",
   "execution_count": 61,
   "metadata": {},
   "outputs": [
    {
     "name": "stdout",
     "output_type": "stream",
     "text": [
      "152758\n",
      "11 comments 34 likes 2 respost\n",
      "subs 389388 10854 views\n",
      "152900\n",
      "6 comments 16 likes 0 respost\n",
      "subs 389388 3351 views\n"
     ]
    },
    {
     "data": {
      "text/plain": [
       "{152758: {'comments_count': 11,\n",
       "  'likes_count': 34,\n",
       "  'reposts': 2,\n",
       "  'followers': 389388,\n",
       "  'views': 10854},\n",
       " 152900: {'comments_count': 6,\n",
       "  'likes_count': 16,\n",
       "  'reposts': 0,\n",
       "  'followers': 389388,\n",
       "  'views': 3351}}"
      ]
     },
     "execution_count": 61,
     "metadata": {},
     "output_type": "execute_result"
    }
   ],
   "source": [
    "def iterate_within_wall(wall_owner_id, print_comments = False, print_detections = False):\n",
    "    posts_info ={}\n",
    "    wall = api.wall.get(owner_id = wall_owner_id, count = 2)\n",
    "    posts = wall['items']\n",
    "    for post in posts:\n",
    "        \n",
    "        #print(post['text'])\n",
    "        print(post['id'])\n",
    "        post_comments = api.wall.getComments(owner_id = wall_owner_id ,post_id = post['id'],sort = \"asc\")\n",
    "        post_comments_count = post_comments['count'] \n",
    "        \n",
    "        likes = api.likes.getList(type = \"post\", owner_id = wall_owner_id ,item_id = post['id'])\n",
    "        \n",
    "        respost = api.wall.getReposts(owner_id = wall_owner_id, post_id = post['id'], count = 1000)\n",
    "        print(post_comments_count, \"comments\", likes['count'], 'likes', len(respost['items']), \"respost\")\n",
    "        subscribers = api.groups.getMembers(group_id = \"lingualeo\")\n",
    "        print(\"subs\", subscribers['count'], post['views']['count'], \"views\")\n",
    "        posts_info[post['id']] = {'comments_count':post_comments_count, \"likes_count\":likes['count'], \n",
    "                                  \"reposts\":len(respost['items']), \"followers\":subscribers['count'],\n",
    "                                 \"views\":post['views']['count']}\n",
    "        \n",
    "        time.sleep(1)\n",
    "    return posts_info\n",
    "iterate_within_wall(\"-15787787\",print_comments = False, print_detections = True)  "
   ]
  },
  {
   "cell_type": "code",
   "execution_count": null,
   "metadata": {},
   "outputs": [],
   "source": []
  },
  {
   "cell_type": "code",
   "execution_count": 52,
   "metadata": {
    "scrolled": true
   },
   "outputs": [
    {
     "data": {
      "text/plain": [
       "'            <!DOCTYPE html>\\n      <html class=\"vk vk_js_no vk_1x vk_flex_no r d h  vk_appAuth_no n vk_old\">\\n      <head>\\n              <meta charset=\"utf-8\">\\n        <meta name=\"viewport\" content=\"width=device-width, initial-scale=1.0, minimum-scale=1.0, maximum-scale=1.0, user-scalable=no\" />\\n        <meta name=\"format-detection\" content=\"telephone=no\" />\\n        <meta http-equiv=\"X-UA-Compatible\" content=\"IE=edge\" />\\n        <meta name=\"MobileOptimized\" content=\"176\" />\\n        <meta name=\"HandheldFriendly\" content=\"True\" />\\n        <base id=\"base\">\\n        <meta name=\"robots\" content=\"noindex,nofollow\" />\\n        <link rel=\"shortcut icon\" href=\"/images/icons/favicons/fav_logo.ico?8\"></link>\\n            <meta name=\"theme-color\" content=\"#5181b8\" />\\n    <link rel=\"icon\" type=\"image/png\" sizes=\"32x32\" href=\"/images/icons/pwa/favicon_32.png?8\">\\n    <link rel=\"apple-touch-icon\" href=\"/images/icons/pwa/apple/default.png?8\">\\n    <link rel=\"mask-icon\" href=\"/images/icons/pwa/safari_pinned_tab.svg\" color=\"#5181b8\">\\n    <meta name=\"msapplication-config\" content=\"/images/icons/pwa/windows/browserconfig.xml\">\\n    <meta name=\"apple-mobile-web-app-title\" content=\"ВКонтакте\">\\n    <meta name=\"application-name\" content=\"ВКонтакте\">\\n    <meta name=\"mobile-web-app-capable\" content=\"yes\">\\n    <meta name=\"apple-mobile-web-app-status-bar-style\" content=\"black\">\\n        <title>Получение доступа к ВКонтакте</title>\\n        <meta http-equiv=\"origin-trial\" content=\"Av8ECqeAAIiC9bF3N7aq2M/TaxNzzpPcFXnw0rRb9KRUQlbyHKYmPj6KeVUFVDk+S7W9RfJH2GsEOS8G99uJvgcAAABaeyJvcmlnaW4iOiJodHRwczovL3ZrLmNvbTo0NDMiLCJmZWF0dXJlIjoiQmFkZ2luZyIsImV4cGlyeSI6MTU2MTY2MTkxNCwiaXNTdWJkb21haW4iOnRydWV9\">\\n        <script>\\n          (function() {\\n            window.isMVK = true;\\n            window.isNewNavigation = true;\\n            window.isCustomScroll = false;\\n            window.isNewMail = false;\\n            window.isNewLongpoll = false;\\n            window.audioSubscribe = false;\\n            window.isArticleWebView = false;\\n            window.audioAdsConfig = {\"_\":\"_\"};\\n\\n            var vkElem = document.querySelector(\\'.vk\\');\\n            var vkClass = vkElem.getAttribute(\\'class\\');\\n\\n            var supports = {\\n              js: true,\\n              flex: window.CSS && CSS.supports && (\\n                CSS.supports(\\'display\\', \\'flex\\') ||\\n                CSS.supports(\\'display\\', \\'-webkit-flex\\') ||\\n                CSS.supports(\\'display\\', \\'-ms-flexbox\\')\\n              )\\n            };\\n\\n            supports.js && (vkClass = vkClass.replace(\\'vk_js_no\\', \\'vk_js_yes\\'));\\n            supports.flex && (vkClass = vkClass.replace(\\'vk_flex_no\\', \\'vk_flex_yes\\'));\\n            vkElem.setAttribute(\\'class\\', vkClass);\\n\\n            \\n          })();\\n        </script>\\n\\n        \\n        <script type=\"text/javascript\">\\n<!--\\n    (function(k,a,d,e,f){function l(){var c=function(){var b=!1;try{b=new XMLHttpRequest}catch(a){try{b=new ActiveXObject(\"Msxml2.XMLHTTP\")}catch(d){try{b=new ActiveXObject(\"Microsoft.XMLHTTP\")}catch(c){b=!1}}}return b?e:f}(),g=function(){var b=k.createElement(\"div\");b.innerHTML=\\'<input type=\"file\" />\\';b=b.getElementsByTagName(\"input\")[0];return\"file\"!=b.type||b.disabled?f:e}(),h=\"ontouchstart\"in a?e:f,m;try{m=typeof navigator.geolocation!==d?e:typeof a.google!==d&&typeof google.gears!==d?e:typeof device!==d&&typeof device.getServiceObject!==d?e:typeof Mojo!==d&&\"Mojo.Service.Request\"!==typeof Mojo.Service.Request?e:f}catch(p){m=f}var l=function(b){try{var d=a.Audio?new Audio:k.createElement(\"audio\");if(d.canPlayType&&d.canPlayType(b)&&\"no\"!=d.canPlayType(b))return e}catch(c){}return f}(\"audio/mpeg\"),n=function(b){try{for(var a=k.createElement(\"div\"),c=0,g=[\"webkit\",\"Moz\",\"ms\",\"O\",\"\"],h=g.length;c<h;c++){var l=g[c],m=l?l+b:b.toLowerCase();if(typeof a.style[m]!==d)return e}return f}catch(n){return f}}(\"Transform\");return c+g+h+m+l+n+((a.XMLHttpRequest||a.XDomainRequest)&&(a.FormData||a.FileReader&&(a.XMLHttpRequest&&XMLHttpRequest.sendAsBinary||a.ArrayBuffer&&a.Uint8Array&&(a.MozBlobBuilder||a.WebKitBlobBuilder||a.BlobBuilder)))?e:f)}var c=a.screen,g=c.width||0,c=c.height||0,n=a.devicePixelRatio||1,p=(k.cookie.match(/(^|;\\\\s+)remixmdevice=([^;]+)/)||[])[2]||\"\",h=p.split(\"/\");p&&g==h[0]&&c==h[1]&&7==h[3].length||(g=[g,c,n,l()].join(\"/\"),k.cookie=\"remixmdevice=; expires=\"+(new Date(0)).toUTCString()+\"; path=/\",k.cookie=\"remixmdevice=\"+g+\"; expires=\"+(new Date((new Date).getTime()+7776E6)).toUTCString()+\"; path=/; domain=.vk.com\",(location.search.indexOf(\\'?mode=standalone\\')!==0&&k.cookie!==\"\")&&1&&location.reload())})(document,window,\"undefined\",\"!\",\"-\");!function(o,a){var e=o.hash||\"\",t=e.substr(2);if(\"#/\"==e.substr(0,2)){var i=window.locDomain,n=new Date;n.setTime(n.getTime()+864e5);var r=\"; expires=\"+n.toGMTString();document.cookie=[\"remixtmp_hash_nav\",\"=\",encodeURI(o.href),r,\"; path=/\",i?\"; domain=.\"+i:\"\"].join(\"\"),!a&&(t.match(/^\\\\/*(away|login)(\\\\.php)?([^a-z0-9\\\\.]|$)/)&&(t=\"\"),o.replace(o.protocol+\"//\"+o.host+\"/\"+t))}}(location,1);\\n//-->\\n</script>\\n        <link rel=\"stylesheet\" href=\"https://m.vk.com/css/mobile/oauth_base.css?Ik1adUo01cUw%2FHmXLoRr9zFUuA0eLtGPK7ELnHH6OvI%3D\">\\n<link rel=\"stylesheet\" href=\"https://m.vk.com/css/mobile/common.css?BO3lJR9jIQ6TvMfacliqHzLhU4gKK463eENRLQWMDAQ%3D\">\\n<script src=\"https://m.vk.com/js/cmodules/mobile/vendors.7dbcbd744284611dc25b.js?zCpIEhQYPD7c3MK9SVH%2BNq3tMYJL4EIcyf9%2FDHhSZ60%3D\"></script>\\n<script src=\"https://m.vk.com/js/cmodules/mobile/polyfills.defb7af10c7220e5d0d4.js?XqUFdQwyjWUMAHwTEACv530u8u9RiJoJGnqrbJd7rUg%3D\"></script>\\n<script src=\"https://m.vk.com/js/cmodules/mobile/b-7e1a0953abd02c1df994fb3bcfe4439f.664ce0e1c956ca63f83d.js?TdYcCNBWBT4XuBqjJ3sARLLf2fwr5wEy7y3XvsnUuPg%3D\"></script>\\n<script src=\"https://m.vk.com/js/cmodules/mobile/b-e50ddbbb0ad9909a79af63cce39fd2a1.1bf24074acb747209509.js?NxDh6fKmoGdxvfgY1tjWNG%2BWbOjT9abYhCTYpYDjD8I%3D\"></script>\\n<script src=\"https://m.vk.com/js/cmodules/mobile/common.07f592db72453c06bcb0.js?7Yz3b0XlvYnylL1qNj%2Bzi6jiuHTRFljzrW9Vhya1AEE%3D\"></script>\\n<script src=\"https://m.vk.com/js/cmodules/mobile/grip.992f697631d9a70eb7b5.js?yVpofdefMmrHFzIGeuV3f1x6G%2FMc1p2qXzsaQeAjgXs%3D\"></script>\\n\\n        \\n      </head>\\n\\n      <body  class=\"vk__page _hover vk_ios_no vk_stickers_hints_support_no opera_mini_no vk_safari_no vk__page_oauth vk_tabbar_static    vk_al_no \">\\n            <div class=\"layout\">\\n      \\n          <div class=\"layout__header mhead\" id=\"vk_head\">\\n      <div class=\"hb_wrap\">\\n        <div class=\"hb_btn\">&nbsp;</div>\\n      </div>\\n    </div>\\n      <div class=\"layout__body \" id=\"vk_wrap\">\\n        <div class=\"layout__leftMenu\" id=\"l\">\\n          \\n        </div>\\n        <div class=\"layout__basis\" id=\"m\">\\n              <div class=\"basis\">\\n      <div class=\"basis__header mhead basis__header_noBottomMenu\" id=\"mhead\"><div class=\"hb_wrap mhb_logo\">\\n  <div class=\"hb_btn mhi_logo\">&nbsp;</div>\\n  <h1 class=\"hb_btn mh_header\">&nbsp;</h1>\\n</div>\\n</div>\\n      <div class=\"basis__menu\"></div>\\n      \\n      <div class=\"basis__content mcont \" id=\"mcont\" data-canonical=\"\"><div class=\"pcont fit_box bl_cont\">\\n  <div class=\"PageBlock\">\\n  <div class=\"owner_panel oauth_mobile_header\">\\n    <img src=\"https://vk.com/images/dquestion_d.png\" class=\"op_fimg\" />\\n    <div class=\"op_fcont\">\\n      <div class=\"op_owner\">lingualeo_parser</div>\\n      <div class=\"op_info\">Для продолжения Вам необходимо войти <b>ВКонтакте</b>.</div>\\n    </div>\\n  </div>\\n  <div class=\"form_item fi_fat\">\\n    \\n    <form method=\"post\" action=\"https://login.vk.com/?act=login&soft=1&utf8=1\">\\n      <input type=\"hidden\" name=\"_origin\" value=\"https://oauth.vk.com\">\\n      <input type=\"hidden\" name=\"ip_h\" value=\"1c1387ed0108e2d33a\" />\\n      <input type=\"hidden\" name=\"lg_h\" value=\"48d8ff9fff6fce64f2\" />\\n      <input type=\"hidden\" name=\"to\" value=\"aHR0cHM6Ly9vYXV0aC52ay5jb20vYXV0aG9yaXplP2NsaWVudF9pZD03MDIzODgxJnJlZGlyZWN0X3VyaT1odHRwcyUzQSUyRiUyRnZrLmNvbSUyRmlkNTQ0NzM4NTA4JnJlc3BvbnNlX3R5cGU9dG9rZW4mc2NvcGU9MzM1ODcyJnY9NS45NSZzdGF0ZT0mZGlzcGxheT1wYWdl\">\\n      <dl class=\"fi_row\">\\n        <dt class=\"fi_label\">Телефон или email:</dt>\\n        <dd>\\n          <div class=\"iwrap\"><input type=\"text\" class=\"textfield\" name=\"email\" value=\"\" /></div>\\n        </dd>\\n      </dl>\\n      <dl class=\"fi_row\">\\n        <dt class=\"fi_label\">Пароль:</dt>\\n        <dd>\\n          <div class=\"iwrap\"><input type=\"password\" class=\"textfield\" name=\"pass\" /></div>\\n        </dd>\\n      </dl>\\n      \\n      <div class=\"fi_row\">\\n        <div class=\"fi_subrow\">\\n          <input class=\"button\" type=\"submit\" value=\"Войти\" /><div class=\"near_btn\"><a href=\"//api.vk.com/blank.html#error=access_denied&error_reason=user_denied&error_description=User denied your request\">Отмена</a></div>\\n        </div>\\n      </div>\\n      <div class=\"fi_row_new\">\\n  <div class=\"fi_header fi_header_light\">Ещё не зарегистрированы?</div>\\n</div>\\n<div class=\"fi_row\">\\n  <a class=\"button wide_button gray_button\" href=\"https://m.vk.com/join?api_hash=5c42382374eec4ed11\" rel=\"noopener\">Зарегистрироваться</a>\\n</div>\\n    </form>\\n  </div>\\n  </div>\\n</div></div>\\n          <div class=\"basis__footer mfoot\" id=\"mfoot\"><div class=\"pfoot\">\\n  <ul class=\"footer_menu\">\\n    \\n    <li class=\"fm_row\"><a class=\"fm_item\" href=\"https://m.vk.com/settings?act=change_regional&from=oauth&to=YXV0aG9yaXplP2NsaWVudF9pZD03MDIzODgxJnJlZGlyZWN0X3VyaT1odHRwcyUzQSUyRiUyRnZrLmNvbSUyRmlkNTQ0NzM4NTA4JnJlc3BvbnNlX3R5cGU9dG9rZW4mc2NvcGU9MzM1ODcyJnY9NS45NSZzdGF0ZT0mZGlzcGxheT1wYWdl&hash=756587c4881262a839&lang_id=3\">English</a></li><li class=\"fm_row\"><a class=\"fm_item\" href=\"https://m.vk.com/settings?act=change_regional&from=oauth&to=YXV0aG9yaXplP2NsaWVudF9pZD03MDIzODgxJnJlZGlyZWN0X3VyaT1odHRwcyUzQSUyRiUyRnZrLmNvbSUyRmlkNTQ0NzM4NTA4JnJlc3BvbnNlX3R5cGU9dG9rZW4mc2NvcGU9MzM1ODcyJnY9NS45NSZzdGF0ZT0mZGlzcGxheT1wYWdl&hash=756587c4881262a839&lang_id=1\">Українська</a></li>\\n    <li class=\"fm_row\"><a class=\"fm_item\" href=\"https://m.vk.com/settings?act=select_lang&from=oauth&to=YXV0aG9yaXplP2NsaWVudF9pZD03MDIzODgxJnJlZGlyZWN0X3VyaT1odHRwcyUzQSUyRiUyRnZrLmNvbSUyRmlkNTQ0NzM4NTA4JnJlc3BvbnNlX3R5cGU9dG9rZW4mc2NvcGU9MzM1ODcyJnY9NS45NSZzdGF0ZT0mZGlzcGxheT1wYWdl\">all languages »</a></li>\\n  </ul>\\n  \\n</div></div>\\n      \\n      \\n    </div>\\n        </div>\\n      </div>\\n    </div>\\n        <a class=\"FloatBtn FloatBtn_nowrap\" href=\"/join?from=float\" data-skiponclick=\"1\"><span class=\"FloatBtn__text\">Регистрация</span><i class=\"FloatBtn__close\" onclick=\"uRegisterFloatBtn._onCloseClick(event)\"></i></a>\\n        \\n        <script type=\"text/javascript\">\\n<!--\\nparent&&parent!=window&&(document.getElementsByTagName(\\'body\\')[0].innerHTML=\\'\\');try{sessionStorage.set(\\'is_mvk_tab\\', 1)}catch(e){};\\n//-->\\n</script>\\n        <div id=\"vk_utils\"></div>\\n        <div id=\"z\"></div>\\n        <div id=\"vk_bottom\"></div>\\n        <div id=\"theme_color_shim\"></div>\\n        \\n        \\n      </body>\\n    </html>'"
      ]
     },
     "execution_count": 52,
     "metadata": {},
     "output_type": "execute_result"
    }
   ],
   "source": [
    "data = {\n",
    "    'username': '+79262413748',\n",
    "    'password': 'Leo888$english$'\n",
    "}\n",
    "\n",
    "response = requests.post(\n",
    "    'https://oauth.vk.com/authorize?client_id=7023881&display=page&redirect_uri=https://vk.com/id544738508&scope=users,like,utils,wall,groups,offline&response_type=token&v=5.95',\n",
    "    data=data\n",
    ")\n",
    "\n",
    "response.text\n"
   ]
  },
  {
   "cell_type": "code",
   "execution_count": 55,
   "metadata": {},
   "outputs": [
    {
     "name": "stdout",
     "output_type": "stream",
     "text": [
      "False\n"
     ]
    },
    {
     "data": {
      "text/plain": [
       "'<script type=\"text/javascript\">\\nvar _ua = navigator.userAgent;\\nvar locDomain = \\'vk.com\\'.match(/[a-zA-Z]+\\\\.[a-zA-Z]+\\\\.?$/)[0];\\nif (/opera/i.test(_ua) || !/msie 6/i.test(_ua) || document.domain != locDomain) {\\n  document.domain = locDomain;\\n}\\ntry{parent.location.href=\\'/login?act=authcheck\\'}catch(e){}\\n</script>'"
      ]
     },
     "execution_count": 55,
     "metadata": {},
     "output_type": "execute_result"
    }
   ],
   "source": [
    "import lxml.html\n",
    "import requests\n",
    "  \n",
    "login = '+79262413748'\n",
    "password = 'Leo888$english$'\n",
    "url = 'https://vk.com/'\n",
    "  \n",
    "headers = {\n",
    "    'User-Agent': 'Mozilla/5.0 (Windows NT 10.0; Win64; x64) AppleWebKit/537.36 (KHTML, like Gecko) Chrome/61.0.3163.100 Safari/537.36',\n",
    "    'Accept': 'text/html,application/xhtml+xml,application/xml;q=0.9,*/*;q=0.8',\n",
    "    'Accept-Language':'ru-ru,ru;q=0.8,en-us;q=0.5,en;q=0.3',\n",
    "    'Accept-Encoding':'gzip, deflate',\n",
    "    'Connection':'keep-alive',\n",
    "    'DNT':'1'\n",
    "}\n",
    "session = requests.session()\n",
    "data = session.get(url, headers=headers)\n",
    "page = lxml.html.fromstring(data.content)\n",
    "  \n",
    "form = page.forms[0]\n",
    "form.fields['email'] = login\n",
    "form.fields['pass'] = password\n",
    "  \n",
    "response = session.post(form.action, data=form.form_values())\n",
    "print('onLoginDone' in response.text)\n",
    "\n",
    "response\n"
   ]
  },
  {
   "cell_type": "code",
   "execution_count": null,
   "metadata": {},
   "outputs": [],
   "source": [
    "m = Mystem()\n",
    "def iterate_within_wall(wall_owner_id, print_comments = False, print_detections = False):\n",
    "    items_for_deletion = []\n",
    "    items_for_attention = []\n",
    "    \n",
    "    wall = api.wall.get(owner_id = wall_owner_id, count = 50)\n",
    "    posts = wall['items']\n",
    "    for post in posts:\n",
    "        if print_comments: print(post['text'])\n",
    "        post_comments = api.wall.getComments(owner_id = wall_owner_id ,post_id = post['id'],sort = \"asc\")\n",
    "        post_comments_count = post_comments['count']\n",
    "        post_first_comment_id = post_comments['items'][0]['id']\n",
    "        #comments = api.wall.getComments(owner_id = wall_owner_id ,post_id = post['id'],sort = \"asc\",count = 100)\n",
    "        if print_comments:print(\"post_comments_count\",post_comments_count,'post_first_comment_id',post_first_comment_id)\n",
    "        if print_comments:print(\"============COMMENTS===============\")\n",
    "        for st_comment_id in range(post_first_comment_id,post_first_comment_id + post_comments_count, 100 ):\n",
    "            if print_comments:print(\"post_id\",post['id'], \"st_comment_id\",st_comment_id )\n",
    "            comments = api.wall.getComments(post_id = post['id'], start_comment_id = st_comment_id, owner_id = wall_owner_id ,sort = \"asc\",count = 100)\n",
    "            #print(comments)\n",
    "            for comment in comments['items']:\n",
    "                if \"deleted\" not in comment:\n",
    "                    #print(comment)\n",
    "                    if print_comments:\n",
    "                        print(comment['id'])\n",
    "                        print(comment['text'])\n",
    "                        print(\"\\n\")\n",
    "                    check_results, detected_features = detect_bad_words(comment['text'])\n",
    "                    print(api.users.get(user_ids = comment['from_id']))\n",
    "\n",
    "                    handle_comment_check_results(check_results, detected_features, items_for_deletion, items_for_attention,comment['id'], wall_owner_id,comment['text'],comment['from_id'], debug = print_detections)\n",
    "                    try:\n",
    "                        comment_thread = api.wall.getComments(post_id = post['id'], comment_id = comment['id'], owner_id = wall_owner_id)\n",
    "                        if len(comment_thread['items']) > 0:\n",
    "                            if print_comments:print(\"********thread_begins********\")\n",
    "                            for thread_mes in comment_thread['items']:\n",
    "                                if print_comments:\n",
    "                                    print(thread_mes['id'])\n",
    "                                    print(thread_mes['text'],'\\n')\n",
    "                                check_results, detected_features = detect_bad_words(thread_mes['text'])\n",
    "                                handle_comment_check_results(check_results, detected_features, items_for_deletion, items_for_attention,thread_mes['id'], wall_owner_id,thread_mes['text'],thread_mes['from_id'], debug = print_comments)\n",
    "                            if print_comments:\n",
    "                                print(\"********thread_ends********\\n\")\n",
    "                    except:\n",
    "                        if print_comments: print(\"parent comment was deleted\")\n",
    "                        pass\n",
    "                time.sleep(1)\n",
    "        if print_comments:\n",
    "            print(\"==============================\")\n",
    "        \n",
    "        \n",
    "        time.sleep(1)\n",
    "        \n",
    "        return items_for_deletion, items_for_attention\n",
    "deleted, attention = iterate_within_wall(\"-15787787\",print_comments = False, print_detections = True)"
   ]
  }
 ],
 "metadata": {
  "kernelspec": {
   "display_name": "Python 3",
   "language": "python",
   "name": "python3"
  },
  "language_info": {
   "codemirror_mode": {
    "name": "ipython",
    "version": 3
   },
   "file_extension": ".py",
   "mimetype": "text/x-python",
   "name": "python",
   "nbconvert_exporter": "python",
   "pygments_lexer": "ipython3",
   "version": "3.7.4"
  }
 },
 "nbformat": 4,
 "nbformat_minor": 2
}
