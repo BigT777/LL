{
 "cells": [
  {
   "cell_type": "code",
   "execution_count": 1,
   "metadata": {},
   "outputs": [],
   "source": [
    "import json\n",
    "import os"
   ]
  },
  {
   "cell_type": "code",
   "execution_count": 14,
   "metadata": {},
   "outputs": [
    {
     "name": "stdout",
     "output_type": "stream",
     "text": [
      "2019-09-24 12:21:07\n",
      "152758\n",
      "{'152758': {'comments_count': 12, 'likes_count': 35, 'reposts': 2, 'followers': 389396, 'views': 11185}, '152919': {'comments_count': 5, 'likes_count': 2, 'reposts': 0, 'followers': 389396, 'views': 2106}}\n",
      "152919\n",
      "{'152758': {'comments_count': 12, 'likes_count': 35, 'reposts': 2, 'followers': 389396, 'views': 11185}, '152919': {'comments_count': 5, 'likes_count': 2, 'reposts': 0, 'followers': 389396, 'views': 2106}}\n",
      "2019-09-24 08:04:03\n",
      "152758\n",
      "{'152758': {'comments_count': 11, 'likes_count': 35, 'followers': 389394, 'views': 11152, 'reposts': 2}, '152919': {'comments_count': 2, 'likes_count': 2, 'followers': 389394, 'views': 1075, 'reposts': 0}}\n",
      "152919\n",
      "{'152758': {'comments_count': 11, 'likes_count': 35, 'followers': 389394, 'views': 11152, 'reposts': 2}, '152919': {'comments_count': 2, 'likes_count': 2, 'followers': 389394, 'views': 1075, 'reposts': 0}}\n",
      "2019-09-23 17:48:05\n",
      "152758\n",
      "{'152758': {'comments_count': 11, 'likes_count': 34, 'reposts': 2, 'followers': 389389, 'views': 10873}, '152900': {'comments_count': 6, 'likes_count': 16, 'reposts': 0, 'followers': 389389, 'views': 3517}}\n",
      "152900\n",
      "{'152758': {'comments_count': 11, 'likes_count': 34, 'reposts': 2, 'followers': 389389, 'views': 10873}, '152900': {'comments_count': 6, 'likes_count': 16, 'reposts': 0, 'followers': 389389, 'views': 3517}}\n",
      "2019-09-24 12:20:57\n",
      "152758\n",
      "{'152758': {'comments_count': 12, 'likes_count': 35, 'reposts': 2, 'followers': 389396, 'views': 11185}, '152919': {'comments_count': 5, 'likes_count': 2, 'reposts': 0, 'followers': 389396, 'views': 2105}}\n",
      "152919\n",
      "{'152758': {'comments_count': 12, 'likes_count': 35, 'reposts': 2, 'followers': 389396, 'views': 11185}, '152919': {'comments_count': 5, 'likes_count': 2, 'reposts': 0, 'followers': 389396, 'views': 2105}}\n",
      "2019-09-23 14:54:21\n",
      "152900\n",
      "{'152900': {'reposts': 0, 'views': 3540, 'comments_count': 6, 'likes_count': 16, 'followers': 389389}, '152758': {'reposts': 2, 'views': 10875, 'comments_count': 11, 'likes_count': 34, 'followers': 389389}}\n",
      "152758\n",
      "{'152900': {'reposts': 0, 'views': 3540, 'comments_count': 6, 'likes_count': 16, 'followers': 389389}, '152758': {'reposts': 2, 'views': 10875, 'comments_count': 11, 'likes_count': 34, 'followers': 389389}}\n",
      "2019-09-23 17:52:23\n",
      "152758\n",
      "{'152758': {'comments_count': 11, 'likes_count': 34, 'reposts': 2, 'followers': 389389, 'views': 10875}, '152900': {'comments_count': 6, 'likes_count': 16, 'reposts': 0, 'followers': 389389, 'views': 3535}}\n",
      "152900\n",
      "{'152758': {'comments_count': 11, 'likes_count': 34, 'reposts': 2, 'followers': 389389, 'views': 10875}, '152900': {'comments_count': 6, 'likes_count': 16, 'reposts': 0, 'followers': 389389, 'views': 3535}}\n",
      "2019-09-23 17:51:14\n",
      "152758\n",
      "{'152758': {'comments_count': 11, 'likes_count': 34, 'reposts': 2, 'followers': 389389, 'views': 10875}, '152900': {'comments_count': 6, 'likes_count': 16, 'reposts': 0, 'followers': 389389, 'views': 3525}}\n",
      "152900\n",
      "{'152758': {'comments_count': 11, 'likes_count': 34, 'reposts': 2, 'followers': 389389, 'views': 10875}, '152900': {'comments_count': 6, 'likes_count': 16, 'reposts': 0, 'followers': 389389, 'views': 3525}}\n"
     ]
    }
   ],
   "source": [
    "def parse_files(directory):\n",
    "    daatetime_dict = {}\n",
    "    for file in os.listdir(directory):\n",
    "        print(file.split(\".\")[0])\n",
    "        with open(os.path.join(directory, file)) as f:\n",
    "            data = json.load(f)\n",
    "            for post_id in data.keys():\n",
    "                print(post_id)\n",
    "                if post_id in daatetime_dict:\n",
    "                    \n",
    "                print(data)\n",
    "        \n",
    "parse_files(\"/Users/nigula/LL/vk/report/results\")"
   ]
  }
 ],
 "metadata": {
  "kernelspec": {
   "display_name": "Python 3",
   "language": "python",
   "name": "python3"
  },
  "language_info": {
   "codemirror_mode": {
    "name": "ipython",
    "version": 3
   },
   "file_extension": ".py",
   "mimetype": "text/x-python",
   "name": "python",
   "nbconvert_exporter": "python",
   "pygments_lexer": "ipython3",
   "version": "3.7.4"
  }
 },
 "nbformat": 4,
 "nbformat_minor": 2
}
