{
 "cells": [
  {
   "cell_type": "code",
   "execution_count": 32,
   "metadata": {},
   "outputs": [],
   "source": [
    "import vk\n",
    "import time\n",
    "from Levenshtein import distance"
   ]
  },
  {
   "cell_type": "code",
   "execution_count": null,
   "metadata": {},
   "outputs": [],
   "source": [
    "https://vk.com/dev/implicit_flow_user\n",
    "    \n",
    "    переадресовываем на свою страницу домашнюю просто"
   ]
  },
  {
   "cell_type": "code",
   "execution_count": 4,
   "metadata": {},
   "outputs": [],
   "source": [
    "token_id_leo_wall = \"328b4e2e3ac7378e82954f199f66bad644bd39c21cb419d8f02a9082f0288c27e59ec0e59eec557c486b4\""
   ]
  },
  {
   "cell_type": "code",
   "execution_count": 83,
   "metadata": {},
   "outputs": [
    {
     "data": {
      "text/plain": [
       "1"
      ]
     },
     "execution_count": 83,
     "metadata": {},
     "output_type": "execute_result"
    }
   ],
   "source": [
    "session = vk.AuthSession(access_token=token_id_leo_wall)\n",
    "api = vk.API(session, v='5.95', lang='ru', timeout=10)\n",
    "\n",
    "api.wall.deleteComment(owner_id = '-15787787',comment_id = '150952')\n"
   ]
  },
  {
   "cell_type": "code",
   "execution_count": 119,
   "metadata": {},
   "outputs": [
    {
     "data": {
      "text/plain": [
       "1"
      ]
     },
     "execution_count": 119,
     "metadata": {},
     "output_type": "execute_result"
    }
   ],
   "source": [
    "api.wall.restoreComment(owner_id = '-15787787',comment_id = '148457')"
   ]
  },
  {
   "cell_type": "code",
   "execution_count": 112,
   "metadata": {},
   "outputs": [
    {
     "data": {
      "text/plain": [
       "[{'id': 24156876,\n",
       "  'first_name': 'Юлия',\n",
       "  'last_name': 'Dandelion',\n",
       "  'is_closed': True,\n",
       "  'can_access_closed': False}]"
      ]
     },
     "execution_count": 112,
     "metadata": {},
     "output_type": "execute_result"
    }
   ],
   "source": [
    "api.users.get(user_ids = '24156876')\n"
   ]
  },
  {
   "cell_type": "code",
   "execution_count": 99,
   "metadata": {},
   "outputs": [
    {
     "data": {
      "text/plain": [
       "{'first_name': 'Lingua',\n",
       " 'last_name': 'Leo',\n",
       " 'sex': 2,\n",
       " 'relation': 0,\n",
       " 'bdate': '2.3.1960',\n",
       " 'bdate_visibility': 1,\n",
       " 'home_town': 'Москва',\n",
       " 'country': {'id': 1, 'title': 'Россия'},\n",
       " 'city': {'id': 1, 'title': 'Москва'},\n",
       " 'status': '',\n",
       " 'phone': '+7 *** *** ** 48'}"
      ]
     },
     "execution_count": 99,
     "metadata": {},
     "output_type": "execute_result"
    }
   ],
   "source": [
    "api.account.getProfileInfo(owner_id = \"2513435\")"
   ]
  },
  {
   "cell_type": "markdown",
   "metadata": {},
   "source": [
    "# BAD WORDS DETECTION"
   ]
  },
  {
   "cell_type": "code",
   "execution_count": null,
   "metadata": {},
   "outputs": [],
   "source": [
    "from string import punctuation"
   ]
  },
  {
   "cell_type": "code",
   "execution_count": 66,
   "metadata": {},
   "outputs": [],
   "source": [
    "from pymystem3 import Mystem\n",
    "m = Mystem()\n",
    "text = \"Красивая мама красиво мыла раму\"\n",
    "lemmas = m.lemmatize(text)"
   ]
  },
  {
   "cell_type": "code",
   "execution_count": 50,
   "metadata": {},
   "outputs": [],
   "source": [
    "bad_words_list = []\n",
    "with open(\"bad_words.txt\", \"r\") as f:\n",
    "    for word in f.readlines():\n",
    "        bad_words_list.append(word[:-1])\n",
    "        if word[:-1].endswith(\"ть\"):\n",
    "            vozvr = word[:-1] + \"ся\"\n",
    "            #print(vozvr)\n",
    "            bad_words_list.append(vozvr) \n",
    "        #print(\"||\",word[:-1],\"||\")\n",
    "    "
   ]
  },
  {
   "cell_type": "code",
   "execution_count": 16,
   "metadata": {},
   "outputs": [
    {
     "data": {
      "text/plain": [
       "'авотхуй'"
      ]
     },
     "execution_count": 16,
     "metadata": {},
     "output_type": "execute_result"
    }
   ],
   "source": [
    "bad_words_list[0]"
   ]
  },
  {
   "cell_type": "code",
   "execution_count": 59,
   "metadata": {},
   "outputs": [
    {
     "data": {
      "text/plain": [
       "['блядский', '\\n']"
      ]
     },
     "execution_count": 59,
     "metadata": {},
     "output_type": "execute_result"
    }
   ],
   "source": [
    "m.lemmatize(\"блядские\")"
   ]
  },
  {
   "cell_type": "code",
   "execution_count": 28,
   "metadata": {},
   "outputs": [
    {
     "data": {
      "text/plain": [
       "'!\"#$%&\\'()*+,-./:;<=>?@[\\\\]^_`{|}~'"
      ]
     },
     "execution_count": 28,
     "metadata": {},
     "output_type": "execute_result"
    }
   ],
   "source": [
    "punctuation"
   ]
  },
  {
   "cell_type": "code",
   "execution_count": 117,
   "metadata": {},
   "outputs": [
    {
     "data": {
      "text/plain": [
       "3"
      ]
     },
     "execution_count": 117,
     "metadata": {},
     "output_type": "execute_result"
    }
   ],
   "source": [
    "distance(\"прет\", \"пердеть\")"
   ]
  },
  {
   "cell_type": "code",
   "execution_count": 56,
   "metadata": {},
   "outputs": [],
   "source": [
    "test_text = \"\"\"Вероника, вас откровенно жалко, не в ту компанию вы устроились. \n",
    "Там заправляют бездумные недальновидные люди. Вот просто по человечески все понято, с вас спроса никакого. \n",
    "Сделать пост в социалочке, попытаться сгладить косяки коллег - жаль, но этого не достаточно, чтобы снять весь тот \n",
    "негатив, который накопился из-за наплевательского и непрофессионального подхода. \n",
    "Обещания и ожидания, вот что мы пользователи видим и будем видеть и дальше. \n",
    "Сам имею опыт работы в нескольких it-продуктовых компаниях, но чтобы так нафакапить в релизе и не исправить косяк \n",
    "за пару дней, такого нет, не помню ни разу. Даже если происходит что-то из разряда вон выходящего, накатывается бэкап, а разрабы\n",
    "в режиме 24/7 пыхтят над исправлением косяка. Просто на ходу дырявый \"титаник\" НИКТО никогда не латает. \n",
    "Если любая из компаний в которых я работал/ю так, извините за мой \"французкий\",  бы, я бы первый уволился. \n",
    "Просто мне с профессиональной точки зрения с такими людьми не по пути. \n",
    "Терпения вам, и всего самого плохого вашим нелогичным коллегам...\"\"\""
   ]
  },
  {
   "cell_type": "code",
   "execution_count": 81,
   "metadata": {},
   "outputs": [
    {
     "name": "stdout",
     "output_type": "stream",
     "text": [
      "line is clear None\n"
     ]
    }
   ],
   "source": [
    "#%%time\n",
    "m = Mystem()\n",
    "\n",
    "def detect_bad_words(line):\n",
    "    needs_attention = False\n",
    "    needs_attention_list = []\n",
    "    clean_line = ''\n",
    "    for char in line:\n",
    "        if char not in punctuation:\n",
    "            clean_line += char.lower()\n",
    "        else:\n",
    "            clean_line += ' '\n",
    "    #print(clean_line)\n",
    "    clean_line = clean_line.strip()\n",
    "    clean_line_list = clean_line.split()\n",
    "    for clean_word in clean_line_list:\n",
    "        if clean_word in bad_words_list:\n",
    "            return \"direct_bad_word_equality\", (clean_word,clean_word)\n",
    "        clean_lemma = m.lemmatize(clean_word)[0]\n",
    "        \n",
    "        if clean_lemma in bad_words_list:\n",
    "            return \"lemma_bad_word_equality\", (clean_word,clean_lemma)\n",
    "        \n",
    "        not_handle_levenstein = ['чмо','гад']\n",
    "        for bad_word in bad_words_list:\n",
    "            if bad_word not in not_handle_levenstein:\n",
    "                #print(bad_word, clean_lemma)\n",
    "                dst = distance(bad_word, clean_lemma)\n",
    "                if dst == 1:\n",
    "                    needs_attention = True\n",
    "                    needs_attention_list.append((clean_word,bad_word))\n",
    "    if needs_attention:\n",
    "        #print (needs_attention_list)\n",
    "        return \"NEEDS_ATTETNION\", needs_attention_list\n",
    "    return \"line is clear\", None\n",
    "res, word_pair = detect_bad_words(test_text)       \n",
    "print(res,word_pair)"
   ]
  },
  {
   "cell_type": "markdown",
   "metadata": {},
   "source": [
    "# iterate"
   ]
  },
  {
   "cell_type": "code",
   "execution_count": 115,
   "metadata": {},
   "outputs": [],
   "source": [
    "def handle_comment_check_results(check_results, detected_items, delete_list, attention_list,detected_comment_id, wall_owner_id, comment_text,comment_author_id, debug = False):\n",
    "    bad_found_states = ['direct_bad_word_equality','lemma_bad_word_equality']\n",
    "    if debug == True and check_results in bad_found_states: print(\"BAD_FOUND\", detected_items)\n",
    "    if check_results in bad_found_states:\n",
    "        author_info = api.users.get(user_ids = comment_author_id)\n",
    "        api.wall.deleteComment(owner_id = wall_owner_id,comment_id = detected_comment_id)\n",
    "        delete_json = {'comment_id':detected_comment_id, 'wall_owner_id':wall_owner_id, 'detccted_items':detected_items,\"author\":author_info,'text':comment_text}\n",
    "        delete_list.append(delete_json)\n",
    "    if debug == True and check_results == \"NEEDS_ATTETNION\": print(\"NEEDS_ATTETNION\", detected_items)\n",
    "    elif check_results == \"NEEDS_ATTETNION\":\n",
    "        author_info = api.users.get(user_ids = comment_author_id)\n",
    "        attention_json = {'comment_id':detected_comment_id, 'wall_owner_id':wall_owner_id, 'attention_items':detected_items,\"author\":author_info,'text':comment_text}\n",
    "        attention_list.append(attention_json)"
   ]
  },
  {
   "cell_type": "code",
   "execution_count": 105,
   "metadata": {},
   "outputs": [],
   "source": [
    "import datetime"
   ]
  },
  {
   "cell_type": "code",
   "execution_count": 106,
   "metadata": {},
   "outputs": [
    {
     "data": {
      "text/plain": [
       "datetime.datetime(2019, 6, 20, 14, 19, 28, 449433)"
      ]
     },
     "execution_count": 106,
     "metadata": {},
     "output_type": "execute_result"
    }
   ],
   "source": [
    "datetime.datetime.now()"
   ]
  },
  {
   "cell_type": "code",
   "execution_count": 107,
   "metadata": {},
   "outputs": [
    {
     "name": "stdout",
     "output_type": "stream",
     "text": [
      "2019-06-20 14:19:38.642001\n"
     ]
    }
   ],
   "source": [
    "print(datetime.datetime.now())"
   ]
  },
  {
   "cell_type": "code",
   "execution_count": 114,
   "metadata": {},
   "outputs": [
    {
     "name": "stdout",
     "output_type": "stream",
     "text": [
      "[{'id': 24156876, 'first_name': 'Юлия', 'last_name': 'Dandelion', 'is_closed': True, 'can_access_closed': False}]\n",
      "[{'id': 2513435, 'first_name': 'Igor', 'last_name': 'Sushko', 'is_closed': True, 'can_access_closed': False}]\n",
      "[{'id': 24722291, 'first_name': 'Владимир', 'last_name': 'Архипов', 'is_closed': False, 'can_access_closed': True}]\n",
      "NEEDS_ATTETNION [('ура', 'дура')]\n",
      "[{'id': 7747135, 'first_name': 'Вадим', 'last_name': 'Мелик-Касумов', 'is_closed': True, 'can_access_closed': False}]\n",
      "[{'id': 5669548, 'first_name': 'Alina', 'last_name': 'Radeva', 'is_closed': False, 'can_access_closed': True}]\n",
      "NEEDS_ATTETNION [('верните', 'пернуть')]\n",
      "[{'id': 282484904, 'first_name': 'Polina', 'last_name': 'Sokolsky', 'is_closed': True, 'can_access_closed': False}]\n",
      "NEEDS_ATTETNION [('для', 'бля'), ('для', '6ля'), ('для', 'бля')]\n"
     ]
    },
    {
     "ename": "KeyboardInterrupt",
     "evalue": "",
     "output_type": "error",
     "traceback": [
      "\u001b[0;31m---------------------------------------------------------------------------\u001b[0m",
      "\u001b[0;31mKeyboardInterrupt\u001b[0m                         Traceback (most recent call last)",
      "\u001b[0;32m<ipython-input-114-5f61083629e5>\u001b[0m in \u001b[0;36m<module>\u001b[0;34m\u001b[0m\n\u001b[1;32m     52\u001b[0m \u001b[0;34m\u001b[0m\u001b[0m\n\u001b[1;32m     53\u001b[0m         \u001b[0;32mreturn\u001b[0m \u001b[0mitems_for_deletion\u001b[0m\u001b[0;34m,\u001b[0m \u001b[0mitems_for_attention\u001b[0m\u001b[0;34m\u001b[0m\u001b[0;34m\u001b[0m\u001b[0m\n\u001b[0;32m---> 54\u001b[0;31m \u001b[0mdeleted\u001b[0m\u001b[0;34m,\u001b[0m \u001b[0mattention\u001b[0m \u001b[0;34m=\u001b[0m \u001b[0miterate_within_wall\u001b[0m\u001b[0;34m(\u001b[0m\u001b[0;34m\"-15787787\"\u001b[0m\u001b[0;34m,\u001b[0m\u001b[0mprint_comments\u001b[0m \u001b[0;34m=\u001b[0m \u001b[0;32mFalse\u001b[0m\u001b[0;34m,\u001b[0m \u001b[0mprint_detections\u001b[0m \u001b[0;34m=\u001b[0m \u001b[0;32mTrue\u001b[0m\u001b[0;34m)\u001b[0m\u001b[0;34m\u001b[0m\u001b[0;34m\u001b[0m\u001b[0m\n\u001b[0m",
      "\u001b[0;32m<ipython-input-114-5f61083629e5>\u001b[0m in \u001b[0;36miterate_within_wall\u001b[0;34m(wall_owner_id, print_comments, print_detections)\u001b[0m\n\u001b[1;32m     44\u001b[0m                         \u001b[0;32mif\u001b[0m \u001b[0mprint_comments\u001b[0m\u001b[0;34m:\u001b[0m \u001b[0mprint\u001b[0m\u001b[0;34m(\u001b[0m\u001b[0;34m\"parent comment was deleted\"\u001b[0m\u001b[0;34m)\u001b[0m\u001b[0;34m\u001b[0m\u001b[0;34m\u001b[0m\u001b[0m\n\u001b[1;32m     45\u001b[0m                         \u001b[0;32mpass\u001b[0m\u001b[0;34m\u001b[0m\u001b[0;34m\u001b[0m\u001b[0m\n\u001b[0;32m---> 46\u001b[0;31m                 \u001b[0mtime\u001b[0m\u001b[0;34m.\u001b[0m\u001b[0msleep\u001b[0m\u001b[0;34m(\u001b[0m\u001b[0;36m1\u001b[0m\u001b[0;34m)\u001b[0m\u001b[0;34m\u001b[0m\u001b[0;34m\u001b[0m\u001b[0m\n\u001b[0m\u001b[1;32m     47\u001b[0m         \u001b[0;32mif\u001b[0m \u001b[0mprint_comments\u001b[0m\u001b[0;34m:\u001b[0m\u001b[0;34m\u001b[0m\u001b[0;34m\u001b[0m\u001b[0m\n\u001b[1;32m     48\u001b[0m             \u001b[0mprint\u001b[0m\u001b[0;34m(\u001b[0m\u001b[0;34m\"==============================\"\u001b[0m\u001b[0;34m)\u001b[0m\u001b[0;34m\u001b[0m\u001b[0;34m\u001b[0m\u001b[0m\n",
      "\u001b[0;31mKeyboardInterrupt\u001b[0m: "
     ]
    }
   ],
   "source": [
    "m = Mystem()\n",
    "def iterate_within_wall(wall_owner_id, print_comments = False, print_detections = False):\n",
    "    items_for_deletion = []\n",
    "    items_for_attention = []\n",
    "    \n",
    "    wall = api.wall.get(owner_id = wall_owner_id, count = 50)\n",
    "    posts = wall['items']\n",
    "    for post in posts:\n",
    "        if print_comments: print(post['text'])\n",
    "        post_comments = api.wall.getComments(owner_id = wall_owner_id ,post_id = post['id'],sort = \"asc\")\n",
    "        post_comments_count = post_comments['count']\n",
    "        post_first_comment_id = post_comments['items'][0]['id']\n",
    "        #comments = api.wall.getComments(owner_id = wall_owner_id ,post_id = post['id'],sort = \"asc\",count = 100)\n",
    "        if print_comments:print(\"post_comments_count\",post_comments_count,'post_first_comment_id',post_first_comment_id)\n",
    "        if print_comments:print(\"============COMMENTS===============\")\n",
    "        for st_comment_id in range(post_first_comment_id,post_first_comment_id + post_comments_count, 100 ):\n",
    "            if print_comments:print(\"post_id\",post['id'], \"st_comment_id\",st_comment_id )\n",
    "            comments = api.wall.getComments(post_id = post['id'], start_comment_id = st_comment_id, owner_id = wall_owner_id ,sort = \"asc\",count = 100)\n",
    "            #print(comments)\n",
    "            for comment in comments['items']:\n",
    "                if \"deleted\" not in comment:\n",
    "                    #print(comment)\n",
    "                    if print_comments:\n",
    "                        print(comment['id'])\n",
    "                        print(comment['text'])\n",
    "                        print(\"\\n\")\n",
    "                    check_results, detected_features = detect_bad_words(comment['text'])\n",
    "                    print(api.users.get(user_ids = comment['from_id']))\n",
    "\n",
    "                    handle_comment_check_results(check_results, detected_features, items_for_deletion, items_for_attention,comment['id'], wall_owner_id,comment['text'],comment['from_id'], debug = print_detections)\n",
    "                    try:\n",
    "                        comment_thread = api.wall.getComments(post_id = post['id'], comment_id = comment['id'], owner_id = wall_owner_id)\n",
    "                        if len(comment_thread['items']) > 0:\n",
    "                            if print_comments:print(\"********thread_begins********\")\n",
    "                            for thread_mes in comment_thread['items']:\n",
    "                                if print_comments:\n",
    "                                    print(thread_mes['id'])\n",
    "                                    print(thread_mes['text'],'\\n')\n",
    "                                check_results, detected_features = detect_bad_words(thread_mes['text'])\n",
    "                                handle_comment_check_results(check_results, detected_features, items_for_deletion, items_for_attention,thread_mes['id'], wall_owner_id,thread_mes['text'],thread_mes['from_id'], debug = print_comments)\n",
    "                            if print_comments:\n",
    "                                print(\"********thread_ends********\\n\")\n",
    "                    except:\n",
    "                        if print_comments: print(\"parent comment was deleted\")\n",
    "                        pass\n",
    "                time.sleep(1)\n",
    "        if print_comments:\n",
    "            print(\"==============================\")\n",
    "        \n",
    "        \n",
    "        time.sleep(1)\n",
    "        \n",
    "        return items_for_deletion, items_for_attention\n",
    "deleted, attention = iterate_within_wall(\"-15787787\",print_comments = False, print_detections = True)"
   ]
  },
  {
   "cell_type": "code",
   "execution_count": 116,
   "metadata": {},
   "outputs": [
    {
     "data": {
      "text/plain": [
       "[{'comment_id': 151160,\n",
       "  'wall_owner_id': '-15787787',\n",
       "  'detccted_items': ('гад', 'гад'),\n",
       "  'author': [{'id': 3269521,\n",
       "    'first_name': 'Николай',\n",
       "    'last_name': 'Бабаков',\n",
       "    'is_closed': False,\n",
       "    'can_access_closed': True}]}]"
      ]
     },
     "execution_count": 116,
     "metadata": {},
     "output_type": "execute_result"
    }
   ],
   "source": [
    "deleted"
   ]
  },
  {
   "cell_type": "code",
   "execution_count": 91,
   "metadata": {},
   "outputs": [
    {
     "data": {
      "text/plain": [
       "[{'comment_id': 151148,\n",
       "  'wall_owner_id': '-15787787',\n",
       "  'attention_items': [('для', 'бля'), ('для', '6ля'), ('для', 'бля')]},\n",
       " {'comment_id': 151072,\n",
       "  'wall_owner_id': '-15787787',\n",
       "  'attention_items': [('для', 'бля'), ('для', '6ля'), ('для', 'бля')]},\n",
       " {'comment_id': 151063,\n",
       "  'wall_owner_id': '-15787787',\n",
       "  'attention_items': [('для', 'бля'), ('для', '6ля'), ('для', 'бля')]},\n",
       " {'comment_id': 151042,\n",
       "  'wall_owner_id': '-15787787',\n",
       "  'attention_items': [('для', 'бля'), ('для', '6ля'), ('для', 'бля')]},\n",
       " {'comment_id': 151049,\n",
       "  'wall_owner_id': '-15787787',\n",
       "  'attention_items': [('врать', 'срать')]},\n",
       " {'comment_id': 151050,\n",
       "  'wall_owner_id': '-15787787',\n",
       "  'attention_items': [('вру', 'срать')]},\n",
       " {'comment_id': 151146,\n",
       "  'wall_owner_id': '-15787787',\n",
       "  'attention_items': [('души', 'дура')]},\n",
       " {'comment_id': 151124,\n",
       "  'wall_owner_id': '-15787787',\n",
       "  'attention_items': [('плюшки', 'шлюшка')]},\n",
       " {'comment_id': 151134,\n",
       "  'wall_owner_id': '-15787787',\n",
       "  'attention_items': [('врут', 'срать')]},\n",
       " {'comment_id': 151142,\n",
       "  'wall_owner_id': '-15787787',\n",
       "  'attention_items': [('врет', 'срать')]},\n",
       " {'comment_id': 151146,\n",
       "  'wall_owner_id': '-15787787',\n",
       "  'attention_items': [('души', 'дура')]},\n",
       " {'comment_id': 151124,\n",
       "  'wall_owner_id': '-15787787',\n",
       "  'attention_items': [('плюшки', 'шлюшка')]},\n",
       " {'comment_id': 151134,\n",
       "  'wall_owner_id': '-15787787',\n",
       "  'attention_items': [('врут', 'срать')]},\n",
       " {'comment_id': 151142,\n",
       "  'wall_owner_id': '-15787787',\n",
       "  'attention_items': [('врет', 'срать')]}]"
      ]
     },
     "execution_count": 91,
     "metadata": {},
     "output_type": "execute_result"
    }
   ],
   "source": [
    "attention"
   ]
  }
 ],
 "metadata": {
  "kernelspec": {
   "display_name": "Python 3",
   "language": "python",
   "name": "python3"
  },
  "language_info": {
   "codemirror_mode": {
    "name": "ipython",
    "version": 3
   },
   "file_extension": ".py",
   "mimetype": "text/x-python",
   "name": "python",
   "nbconvert_exporter": "python",
   "pygments_lexer": "ipython3",
   "version": "3.7.3"
  }
 },
 "nbformat": 4,
 "nbformat_minor": 2
}
