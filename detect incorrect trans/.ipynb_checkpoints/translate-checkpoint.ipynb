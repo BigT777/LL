{
 "cells": [
  {
   "cell_type": "code",
   "execution_count": 1,
   "metadata": {},
   "outputs": [],
   "source": [
    "import pandas as pd\n",
    "import requests\n",
    "from tqdm.auto import tqdm\n",
    "import os"
   ]
  },
  {
   "cell_type": "code",
   "execution_count": 2,
   "metadata": {},
   "outputs": [],
   "source": [
    "df1 = pd.read_csv(\"pr_s_1.csv\")\n",
    "df2 = pd.read_csv(\"pr_simp_q.csv\")\n",
    "df3 = pd.read_csv(\"pr_simp.csv\")\n"
   ]
  },
  {
   "cell_type": "code",
   "execution_count": 2,
   "metadata": {
    "scrolled": true
   },
   "outputs": [
    {
     "name": "stdout",
     "output_type": "stream",
     "text": [
      "past_continuous тneg.csv\n",
      "\n",
      "numerals.csv\n",
      "\n",
      "present_continuous neg.csv\n",
      "\n",
      "past simple poz.csv\n",
      "\n",
      "order_of_adjectives.csv\n",
      "\n",
      ".DS_Store\n",
      "skip .DS_Store\n",
      "\n",
      "past_continuous.csv\n",
      "\n",
      "past_continuous neg.csv\n",
      "skip past_continuous neg.csv\n",
      "\n",
      "Артикли a, an.csv\n",
      "\n",
      "past_perfect_continuous neg.csv\n",
      "skip past_perfect_continuous neg.csv\n",
      "\n",
      "to_be_going_to neg.csv\n",
      "\n",
      "future_continuous neg.csv\n",
      "\n",
      "future_simple neg.csv\n",
      "\n",
      "present_continuous.csv\n",
      "\n",
      "indefinite_pronouns.csv\n",
      "\n",
      "future_continuous.csv\n",
      "\n",
      "present_perfect_continuous q.csv\n",
      "\n",
      "Употребление.csv\n",
      "\n",
      "present_perfect_continuous.csv\n",
      "\n",
      "present_perfect neg.csv\n",
      "\n",
      "present_perfect_continuous neg.csv\n",
      "\n",
      "present_continuous q.csv\n",
      "\n",
      "future_simple poz.csv\n",
      "\n",
      "future_simple q.csv\n",
      "\n",
      "there_is_there_are.csv\n",
      "\n",
      "Указательные местоимения.csv\n",
      "\n",
      "past_perfect q.csv\n",
      "\n",
      "to_be_going_to q.csv\n",
      "\n",
      "past_perfect neg.csv\n",
      "\n",
      "past simple questions.csv\n",
      "\n",
      "to_be_going_to.csv\n",
      "\n",
      "future_continuous q.csv\n",
      "\n",
      "past_continuous q.csv\n",
      "\n",
      "present_perfect q.csv\n",
      "\n",
      "ordinal_numbers.csv\n",
      "\n",
      "personal_pronouns_obj_case.csv\n",
      "\n",
      "past simple neg.csv\n",
      "\n",
      "past_perfect.csv\n",
      "\n",
      "Артикль the.csv\n",
      "\n",
      "zero_article.csv\n",
      "\n",
      "present_perfect.csv\n",
      "\n"
     ]
    }
   ],
   "source": [
    "df_list = []\n",
    "folder = \"/Users/nigula/LL/detect incorrect trans/gramm\"\n",
    "for file in os.listdir(folder):\n",
    "    print(file)\n",
    "    df = pd.read_csv(os.path.join(folder, file))\n",
    "    \n",
    "    if (\"English text\" in list(df.columns)):\n",
    "        training_name = file.split('.')[0]\n",
    "        df_clean = pd.DataFrame()\n",
    "        df_clean['English text'] = df['English text']\n",
    "        df_clean['train_type'] = [training_name for _ in range(len(df))]\n",
    "#         print(list(df_clean.columns))\n",
    "        df_list.append(df_clean)\n",
    "    else:\n",
    "        print(\"skip\", file)\n",
    "    print()"
   ]
  },
  {
   "cell_type": "code",
   "execution_count": 34,
   "metadata": {},
   "outputs": [
    {
     "data": {
      "text/html": [
       "<div>\n",
       "<style scoped>\n",
       "    .dataframe tbody tr th:only-of-type {\n",
       "        vertical-align: middle;\n",
       "    }\n",
       "\n",
       "    .dataframe tbody tr th {\n",
       "        vertical-align: top;\n",
       "    }\n",
       "\n",
       "    .dataframe thead th {\n",
       "        text-align: right;\n",
       "    }\n",
       "</style>\n",
       "<table border=\"1\" class=\"dataframe\">\n",
       "  <thead>\n",
       "    <tr style=\"text-align: right;\">\n",
       "      <th></th>\n",
       "      <th>English text</th>\n",
       "      <th>train_type</th>\n",
       "    </tr>\n",
       "  </thead>\n",
       "  <tbody>\n",
       "    <tr>\n",
       "      <th>0</th>\n",
       "      <td>They weren't working today.</td>\n",
       "      <td>past_continuous тneg</td>\n",
       "    </tr>\n",
       "    <tr>\n",
       "      <th>1</th>\n",
       "      <td>I wasn't meeting anyone.</td>\n",
       "      <td>past_continuous тneg</td>\n",
       "    </tr>\n",
       "    <tr>\n",
       "      <th>2</th>\n",
       "      <td>He wasn't attacking anyone.</td>\n",
       "      <td>past_continuous тneg</td>\n",
       "    </tr>\n",
       "    <tr>\n",
       "      <th>3</th>\n",
       "      <td>He wasn't doing anything.</td>\n",
       "      <td>past_continuous тneg</td>\n",
       "    </tr>\n",
       "    <tr>\n",
       "      <th>4</th>\n",
       "      <td>I wasn't doing anything!</td>\n",
       "      <td>past_continuous тneg</td>\n",
       "    </tr>\n",
       "    <tr>\n",
       "      <th>5</th>\n",
       "      <td>She wasn't going home.</td>\n",
       "      <td>past_continuous тneg</td>\n",
       "    </tr>\n",
       "    <tr>\n",
       "      <th>6</th>\n",
       "      <td>We weren't having fun.</td>\n",
       "      <td>past_continuous тneg</td>\n",
       "    </tr>\n",
       "    <tr>\n",
       "      <th>7</th>\n",
       "      <td>You weren't saying anything.</td>\n",
       "      <td>past_continuous тneg</td>\n",
       "    </tr>\n",
       "    <tr>\n",
       "      <th>8</th>\n",
       "      <td>I wasn't going home.</td>\n",
       "      <td>past_continuous тneg</td>\n",
       "    </tr>\n",
       "    <tr>\n",
       "      <th>9</th>\n",
       "      <td>We weren't watching TV.</td>\n",
       "      <td>past_continuous тneg</td>\n",
       "    </tr>\n",
       "  </tbody>\n",
       "</table>\n",
       "</div>"
      ],
      "text/plain": [
       "                   English text            train_type\n",
       "0   They weren't working today.  past_continuous тneg\n",
       "1      I wasn't meeting anyone.  past_continuous тneg\n",
       "2   He wasn't attacking anyone.  past_continuous тneg\n",
       "3     He wasn't doing anything.  past_continuous тneg\n",
       "4      I wasn't doing anything!  past_continuous тneg\n",
       "5        She wasn't going home.  past_continuous тneg\n",
       "6        We weren't having fun.  past_continuous тneg\n",
       "7  You weren't saying anything.  past_continuous тneg\n",
       "8          I wasn't going home.  past_continuous тneg\n",
       "9       We weren't watching TV.  past_continuous тneg"
      ]
     },
     "execution_count": 34,
     "metadata": {},
     "output_type": "execute_result"
    }
   ],
   "source": [
    "df_list[0].head(10)"
   ]
  },
  {
   "cell_type": "code",
   "execution_count": 6,
   "metadata": {},
   "outputs": [
    {
     "name": "stdout",
     "output_type": "stream",
     "text": [
      "<class 'pandas.core.frame.DataFrame'>\n",
      "Int64Index: 6558 entries, 0 to 313\n",
      "Data columns (total 2 columns):\n",
      "English text    6558 non-null object\n",
      "train_type      6558 non-null object\n",
      "dtypes: object(2)\n",
      "memory usage: 153.7+ KB\n"
     ]
    }
   ],
   "source": [
    "df_overall.info()"
   ]
  },
  {
   "cell_type": "code",
   "execution_count": 5,
   "metadata": {},
   "outputs": [
    {
     "data": {
      "text/html": [
       "<div>\n",
       "<style scoped>\n",
       "    .dataframe tbody tr th:only-of-type {\n",
       "        vertical-align: middle;\n",
       "    }\n",
       "\n",
       "    .dataframe tbody tr th {\n",
       "        vertical-align: top;\n",
       "    }\n",
       "\n",
       "    .dataframe thead th {\n",
       "        text-align: right;\n",
       "    }\n",
       "</style>\n",
       "<table border=\"1\" class=\"dataframe\">\n",
       "  <thead>\n",
       "    <tr style=\"text-align: right;\">\n",
       "      <th></th>\n",
       "      <th>English text</th>\n",
       "      <th>train_type</th>\n",
       "    </tr>\n",
       "  </thead>\n",
       "  <tbody>\n",
       "    <tr>\n",
       "      <th>0</th>\n",
       "      <td>They weren't working today.</td>\n",
       "      <td>past_continuous тneg</td>\n",
       "    </tr>\n",
       "    <tr>\n",
       "      <th>1</th>\n",
       "      <td>I wasn't meeting anyone.</td>\n",
       "      <td>past_continuous тneg</td>\n",
       "    </tr>\n",
       "    <tr>\n",
       "      <th>2</th>\n",
       "      <td>He wasn't attacking anyone.</td>\n",
       "      <td>past_continuous тneg</td>\n",
       "    </tr>\n",
       "    <tr>\n",
       "      <th>3</th>\n",
       "      <td>He wasn't doing anything.</td>\n",
       "      <td>past_continuous тneg</td>\n",
       "    </tr>\n",
       "    <tr>\n",
       "      <th>4</th>\n",
       "      <td>I wasn't doing anything!</td>\n",
       "      <td>past_continuous тneg</td>\n",
       "    </tr>\n",
       "  </tbody>\n",
       "</table>\n",
       "</div>"
      ],
      "text/plain": [
       "                  English text            train_type\n",
       "0  They weren't working today.  past_continuous тneg\n",
       "1     I wasn't meeting anyone.  past_continuous тneg\n",
       "2  He wasn't attacking anyone.  past_continuous тneg\n",
       "3    He wasn't doing anything.  past_continuous тneg\n",
       "4     I wasn't doing anything!  past_continuous тneg"
      ]
     },
     "execution_count": 5,
     "metadata": {},
     "output_type": "execute_result"
    }
   ],
   "source": [
    "df_overall = pd.concat(df_list)\n",
    "df_overall.head()"
   ]
  },
  {
   "cell_type": "code",
   "execution_count": 7,
   "metadata": {},
   "outputs": [
    {
     "data": {
      "text/plain": [
       "'salut, connard.'"
      ]
     },
     "execution_count": 7,
     "metadata": {},
     "output_type": "execute_result"
    }
   ],
   "source": [
    "def y_translate(text, from_lang, to_lang):\n",
    "    url_y = \"http://192.168.122.13:31436/GetTranslate\"\n",
    "    h_y = {\"apiVersion\": \"1.0.0\", \"text\": text, \"langPair\": {\"source\": from_lang, \"target\": to_lang}}\n",
    "    r = requests.post(url = url_y, json=h_y)\n",
    "    data = r.json()\n",
    "    return data['translate']\n",
    "y_translate(\"привет уеба\", \"ru\", \"fr\")"
   ]
  },
  {
   "cell_type": "code",
   "execution_count": 8,
   "metadata": {},
   "outputs": [
    {
     "data": {
      "application/vnd.jupyter.widget-view+json": {
       "model_id": "ec259b5e60ad4c0ca0d64251a9069399",
       "version_major": 2,
       "version_minor": 0
      },
      "text/plain": [
       "HBox(children=(IntProgress(value=0, max=2038), HTML(value='')))"
      ]
     },
     "metadata": {},
     "output_type": "display_data"
    },
    {
     "name": "stdout",
     "output_type": "stream",
     "text": [
      "\n"
     ]
    }
   ],
   "source": [
    "tr_en_fr = []\n",
    "for en_phrase in tqdm(list(df_overall['English text'])[4520:]):\n",
    "    #print(en_phrase)\n",
    "    translated_to_fr = y_translate(en_phrase, \"en\", \"fr\")\n",
    "    tr_en_fr.append(translated_to_fr)\n",
    "    #break"
   ]
  },
  {
   "cell_type": "code",
   "execution_count": 11,
   "metadata": {},
   "outputs": [
    {
     "data": {
      "text/plain": [
       "2038"
      ]
     },
     "execution_count": 11,
     "metadata": {},
     "output_type": "execute_result"
    }
   ],
   "source": [
    "len(tr_en_fr)"
   ]
  },
  {
   "cell_type": "code",
   "execution_count": 12,
   "metadata": {},
   "outputs": [
    {
     "data": {
      "text/plain": [
       "['Tu lui as donné une chance?',\n",
       " \"Quand il l'a jouer aux échecs?\",\n",
       " 'Pourquoi êtes-vous venu à la maison?',\n",
       " 'Comment sommes-nous arrivés à la maison?',\n",
       " 'Quand ont-ils devenir amis?',\n",
       " 'Comment ont-ils choisir?',\n",
       " 'Je vais acheter un peu de pain.',\n",
       " 'Je vais lui refuser.',\n",
       " \"Je vais l'attraper.\",\n",
       " 'Vous allez à embaucher.']"
      ]
     },
     "execution_count": 12,
     "metadata": {},
     "output_type": "execute_result"
    }
   ],
   "source": [
    "tr_en_fr[:10]"
   ]
  },
  {
   "cell_type": "code",
   "execution_count": 16,
   "metadata": {},
   "outputs": [
    {
     "data": {
      "text/plain": [
       "4521"
      ]
     },
     "execution_count": 16,
     "metadata": {},
     "output_type": "execute_result"
    }
   ],
   "source": [
    "len(prev_trans_list)"
   ]
  },
  {
   "cell_type": "code",
   "execution_count": 14,
   "metadata": {},
   "outputs": [
    {
     "data": {
      "text/plain": [
       "['Elle vous appeler ce soir-là?',\n",
       " 'Que voulait-il dire au sujet de sa famille?',\n",
       " \"Saviez-vous que l'homme dans la voiture?\",\n",
       " 'Je suis désolé, vous avez dit quoi?',\n",
       " 'Avez-vous venez en voiture?',\n",
       " 'Tu es venu en train?',\n",
       " 'Tu lui as laissé un message?',\n",
       " 'Avez-vous lui acheter une bague?',\n",
       " 'Tu lui as envoyé une réponse?',\n",
       " 'Tu lui as donné une chance?']"
      ]
     },
     "execution_count": 14,
     "metadata": {},
     "output_type": "execute_result"
    }
   ],
   "source": [
    "prev_trans_list[-10:]"
   ]
  },
  {
   "cell_type": "code",
   "execution_count": 15,
   "metadata": {},
   "outputs": [],
   "source": [
    "full_en_fr_list = prev_trans_list[:-1]"
   ]
  },
  {
   "cell_type": "code",
   "execution_count": 18,
   "metadata": {},
   "outputs": [],
   "source": [
    "full_en_fr_list.extend(tr_en_fr)"
   ]
  },
  {
   "cell_type": "code",
   "execution_count": 20,
   "metadata": {},
   "outputs": [
    {
     "data": {
      "text/plain": [
       "(6558, 6558)"
      ]
     },
     "execution_count": 20,
     "metadata": {},
     "output_type": "execute_result"
    }
   ],
   "source": [
    "len(full_en_fr_list), len(df_overall)"
   ]
  },
  {
   "cell_type": "code",
   "execution_count": 22,
   "metadata": {},
   "outputs": [
    {
     "data": {
      "text/html": [
       "<div>\n",
       "<style scoped>\n",
       "    .dataframe tbody tr th:only-of-type {\n",
       "        vertical-align: middle;\n",
       "    }\n",
       "\n",
       "    .dataframe tbody tr th {\n",
       "        vertical-align: top;\n",
       "    }\n",
       "\n",
       "    .dataframe thead th {\n",
       "        text-align: right;\n",
       "    }\n",
       "</style>\n",
       "<table border=\"1\" class=\"dataframe\">\n",
       "  <thead>\n",
       "    <tr style=\"text-align: right;\">\n",
       "      <th></th>\n",
       "      <th>English text</th>\n",
       "      <th>train_type</th>\n",
       "      <th>en_fr_translate</th>\n",
       "    </tr>\n",
       "  </thead>\n",
       "  <tbody>\n",
       "    <tr>\n",
       "      <th>0</th>\n",
       "      <td>They weren't working today.</td>\n",
       "      <td>past_continuous тneg</td>\n",
       "      <td>Ils n'étaient pas au travail aujourd'hui.</td>\n",
       "    </tr>\n",
       "    <tr>\n",
       "      <th>1</th>\n",
       "      <td>I wasn't meeting anyone.</td>\n",
       "      <td>past_continuous тneg</td>\n",
       "      <td>Je n'ai pas de rencontrer une personne.</td>\n",
       "    </tr>\n",
       "    <tr>\n",
       "      <th>2</th>\n",
       "      <td>He wasn't attacking anyone.</td>\n",
       "      <td>past_continuous тneg</td>\n",
       "      <td>Il n'était pas d'attaquer n'importe qui.</td>\n",
       "    </tr>\n",
       "    <tr>\n",
       "      <th>3</th>\n",
       "      <td>He wasn't doing anything.</td>\n",
       "      <td>past_continuous тneg</td>\n",
       "      <td>Il n'a rien fait.</td>\n",
       "    </tr>\n",
       "    <tr>\n",
       "      <th>4</th>\n",
       "      <td>I wasn't doing anything!</td>\n",
       "      <td>past_continuous тneg</td>\n",
       "      <td>Je ne faisais pas n'importe quoi!</td>\n",
       "    </tr>\n",
       "  </tbody>\n",
       "</table>\n",
       "</div>"
      ],
      "text/plain": [
       "                  English text            train_type  \\\n",
       "0  They weren't working today.  past_continuous тneg   \n",
       "1     I wasn't meeting anyone.  past_continuous тneg   \n",
       "2  He wasn't attacking anyone.  past_continuous тneg   \n",
       "3    He wasn't doing anything.  past_continuous тneg   \n",
       "4     I wasn't doing anything!  past_continuous тneg   \n",
       "\n",
       "                             en_fr_translate  \n",
       "0  Ils n'étaient pas au travail aujourd'hui.  \n",
       "1    Je n'ai pas de rencontrer une personne.  \n",
       "2   Il n'était pas d'attaquer n'importe qui.  \n",
       "3                          Il n'a rien fait.  \n",
       "4          Je ne faisais pas n'importe quoi!  "
      ]
     },
     "execution_count": 22,
     "metadata": {},
     "output_type": "execute_result"
    }
   ],
   "source": [
    "df_overall['en_fr_translate'] = full_en_fr_list\n",
    "df_overall.head()"
   ]
  },
  {
   "cell_type": "code",
   "execution_count": 9,
   "metadata": {},
   "outputs": [],
   "source": [
    "import json "
   ]
  },
  {
   "cell_type": "code",
   "execution_count": null,
   "metadata": {},
   "outputs": [],
   "source": []
  },
  {
   "cell_type": "code",
   "execution_count": 10,
   "metadata": {},
   "outputs": [],
   "source": [
    "with open(\"en_translate_list_ind_4521.json\", \"r\") as f:\n",
    "    prev_trans_list = json.load(f)"
   ]
  },
  {
   "cell_type": "code",
   "execution_count": 43,
   "metadata": {},
   "outputs": [],
   "source": [
    "with open(\"en_translate_list_ind_4521\", \"w\") as f:\n",
    "    json.dump(tr_en_fr, f, indent = 1)"
   ]
  },
  {
   "cell_type": "code",
   "execution_count": 12,
   "metadata": {},
   "outputs": [
    {
     "data": {
      "text/html": [
       "<div>\n",
       "<style scoped>\n",
       "    .dataframe tbody tr th:only-of-type {\n",
       "        vertical-align: middle;\n",
       "    }\n",
       "\n",
       "    .dataframe tbody tr th {\n",
       "        vertical-align: top;\n",
       "    }\n",
       "\n",
       "    .dataframe thead th {\n",
       "        text-align: right;\n",
       "    }\n",
       "</style>\n",
       "<table border=\"1\" class=\"dataframe\">\n",
       "  <thead>\n",
       "    <tr style=\"text-align: right;\">\n",
       "      <th></th>\n",
       "      <th>ID</th>\n",
       "      <th>Page ID</th>\n",
       "      <th>Local text</th>\n",
       "      <th>English text</th>\n",
       "      <th>en_fr_yandex_tr</th>\n",
       "    </tr>\n",
       "  </thead>\n",
       "  <tbody>\n",
       "    <tr>\n",
       "      <th>0</th>\n",
       "      <td>1</td>\n",
       "      <td>4</td>\n",
       "      <td>Мне нравится вино.</td>\n",
       "      <td>I like wine.</td>\n",
       "      <td>J'aime le vin.</td>\n",
       "    </tr>\n",
       "    <tr>\n",
       "      <th>1</th>\n",
       "      <td>2</td>\n",
       "      <td>4</td>\n",
       "      <td>Я хочу всё.</td>\n",
       "      <td>I want everything</td>\n",
       "      <td>Je veux tout</td>\n",
       "    </tr>\n",
       "    <tr>\n",
       "      <th>2</th>\n",
       "      <td>3</td>\n",
       "      <td>4</td>\n",
       "      <td>Мне нравится зима.</td>\n",
       "      <td>I like winter.</td>\n",
       "      <td>J'aime l'hiver.</td>\n",
       "    </tr>\n",
       "    <tr>\n",
       "      <th>3</th>\n",
       "      <td>4</td>\n",
       "      <td>4</td>\n",
       "      <td>Я люблю читать.</td>\n",
       "      <td>I love reading.</td>\n",
       "      <td>J'aime la lecture.</td>\n",
       "    </tr>\n",
       "    <tr>\n",
       "      <th>4</th>\n",
       "      <td>5</td>\n",
       "      <td>4</td>\n",
       "      <td>Ты знаешь всё.</td>\n",
       "      <td>You know everything.</td>\n",
       "      <td>Vous savez tout.</td>\n",
       "    </tr>\n",
       "  </tbody>\n",
       "</table>\n",
       "</div>"
      ],
      "text/plain": [
       "   ID  Page ID          Local text          English text     en_fr_yandex_tr\n",
       "0   1        4  Мне нравится вино.          I like wine.      J'aime le vin.\n",
       "1   2        4         Я хочу всё.     I want everything        Je veux tout\n",
       "2   3        4  Мне нравится зима.        I like winter.     J'aime l'hiver.\n",
       "3   4        4     Я люблю читать.       I love reading.  J'aime la lecture.\n",
       "4   5        4      Ты знаешь всё.  You know everything.    Vous savez tout."
      ]
     },
     "execution_count": 12,
     "metadata": {},
     "output_type": "execute_result"
    }
   ],
   "source": [
    "df_overall['en_fr_yandex_tr'] = tr_en_fr\n",
    "df_overall.head()"
   ]
  },
  {
   "cell_type": "code",
   "execution_count": 15,
   "metadata": {},
   "outputs": [
    {
     "data": {
      "application/vnd.jupyter.widget-view+json": {
       "model_id": "992c71cde9db49be94fcd15f036c4cce",
       "version_major": 2,
       "version_minor": 0
      },
      "text/plain": [
       "HBox(children=(IntProgress(value=0, max=751), HTML(value='')))"
      ]
     },
     "metadata": {},
     "output_type": "display_data"
    },
    {
     "name": "stdout",
     "output_type": "stream",
     "text": [
      "\n"
     ]
    }
   ],
   "source": [
    "tr_fr_en = []\n",
    "for phrase in tqdm(list(df_overall['en_fr_yandex_tr'])):\n",
    "    #print(en_phrase)\n",
    "    translated = y_translate(phrase, \"fr\", \"en\")\n",
    "    tr_fr_en.append(translated)\n",
    "    #break"
   ]
  },
  {
   "cell_type": "code",
   "execution_count": 17,
   "metadata": {},
   "outputs": [
    {
     "data": {
      "text/html": [
       "<div>\n",
       "<style scoped>\n",
       "    .dataframe tbody tr th:only-of-type {\n",
       "        vertical-align: middle;\n",
       "    }\n",
       "\n",
       "    .dataframe tbody tr th {\n",
       "        vertical-align: top;\n",
       "    }\n",
       "\n",
       "    .dataframe thead th {\n",
       "        text-align: right;\n",
       "    }\n",
       "</style>\n",
       "<table border=\"1\" class=\"dataframe\">\n",
       "  <thead>\n",
       "    <tr style=\"text-align: right;\">\n",
       "      <th></th>\n",
       "      <th>ID</th>\n",
       "      <th>Page ID</th>\n",
       "      <th>Local text</th>\n",
       "      <th>English text</th>\n",
       "      <th>en_fr_yandex_tr</th>\n",
       "      <th>fr_en_yandex_tr</th>\n",
       "    </tr>\n",
       "  </thead>\n",
       "  <tbody>\n",
       "    <tr>\n",
       "      <th>0</th>\n",
       "      <td>1</td>\n",
       "      <td>4</td>\n",
       "      <td>Мне нравится вино.</td>\n",
       "      <td>I like wine.</td>\n",
       "      <td>J'aime le vin.</td>\n",
       "      <td>I like wine.</td>\n",
       "    </tr>\n",
       "    <tr>\n",
       "      <th>1</th>\n",
       "      <td>2</td>\n",
       "      <td>4</td>\n",
       "      <td>Я хочу всё.</td>\n",
       "      <td>I want everything</td>\n",
       "      <td>Je veux tout</td>\n",
       "      <td>I want it all</td>\n",
       "    </tr>\n",
       "    <tr>\n",
       "      <th>2</th>\n",
       "      <td>3</td>\n",
       "      <td>4</td>\n",
       "      <td>Мне нравится зима.</td>\n",
       "      <td>I like winter.</td>\n",
       "      <td>J'aime l'hiver.</td>\n",
       "      <td>I like winter.</td>\n",
       "    </tr>\n",
       "    <tr>\n",
       "      <th>3</th>\n",
       "      <td>4</td>\n",
       "      <td>4</td>\n",
       "      <td>Я люблю читать.</td>\n",
       "      <td>I love reading.</td>\n",
       "      <td>J'aime la lecture.</td>\n",
       "      <td>I like reading.</td>\n",
       "    </tr>\n",
       "    <tr>\n",
       "      <th>4</th>\n",
       "      <td>5</td>\n",
       "      <td>4</td>\n",
       "      <td>Ты знаешь всё.</td>\n",
       "      <td>You know everything.</td>\n",
       "      <td>Vous savez tout.</td>\n",
       "      <td>You know everything.</td>\n",
       "    </tr>\n",
       "  </tbody>\n",
       "</table>\n",
       "</div>"
      ],
      "text/plain": [
       "   ID  Page ID          Local text          English text     en_fr_yandex_tr  \\\n",
       "0   1        4  Мне нравится вино.          I like wine.      J'aime le vin.   \n",
       "1   2        4         Я хочу всё.     I want everything        Je veux tout   \n",
       "2   3        4  Мне нравится зима.        I like winter.     J'aime l'hiver.   \n",
       "3   4        4     Я люблю читать.       I love reading.  J'aime la lecture.   \n",
       "4   5        4      Ты знаешь всё.  You know everything.    Vous savez tout.   \n",
       "\n",
       "        fr_en_yandex_tr  \n",
       "0          I like wine.  \n",
       "1         I want it all  \n",
       "2        I like winter.  \n",
       "3       I like reading.  \n",
       "4  You know everything.  "
      ]
     },
     "execution_count": 17,
     "metadata": {},
     "output_type": "execute_result"
    }
   ],
   "source": [
    "df_overall['fr_en_yandex_tr'] = tr_fr_en\n",
    "df_overall.head()"
   ]
  },
  {
   "cell_type": "code",
   "execution_count": 20,
   "metadata": {},
   "outputs": [
    {
     "data": {
      "application/vnd.jupyter.widget-view+json": {
       "model_id": "340b9da8d3b54d739cbc31b02960dd30",
       "version_major": 2,
       "version_minor": 0
      },
      "text/plain": [
       "HBox(children=(IntProgress(value=0, max=751), HTML(value='')))"
      ]
     },
     "metadata": {},
     "output_type": "display_data"
    },
    {
     "name": "stdout",
     "output_type": "stream",
     "text": [
      "\n"
     ]
    }
   ],
   "source": [
    "tr_ru_fr = []\n",
    "for phrase in tqdm(list(df_overall['Local text'])):\n",
    "    #print(en_phrase)\n",
    "    translated = y_translate(phrase, \"ru\", \"fr\")\n",
    "    tr_ru_fr.append(translated)\n",
    "    #break"
   ]
  },
  {
   "cell_type": "code",
   "execution_count": 21,
   "metadata": {},
   "outputs": [
    {
     "data": {
      "text/plain": [
       "[\"J'aime le vin.\",\n",
       " 'Je veux tout.',\n",
       " \"J'aime l'hiver.\",\n",
       " \"J'aime lire.\",\n",
       " 'Tu connais tout.',\n",
       " \"J'adore cuisiner.\",\n",
       " 'Ils savent tout.',\n",
       " 'Nous avons besoin de temps.',\n",
       " 'Nous aimons les gâteaux.',\n",
       " \"J'aime le football.\"]"
      ]
     },
     "execution_count": 21,
     "metadata": {},
     "output_type": "execute_result"
    }
   ],
   "source": [
    "tr_ru_fr[:10]"
   ]
  },
  {
   "cell_type": "code",
   "execution_count": 22,
   "metadata": {},
   "outputs": [
    {
     "data": {
      "text/html": [
       "<div>\n",
       "<style scoped>\n",
       "    .dataframe tbody tr th:only-of-type {\n",
       "        vertical-align: middle;\n",
       "    }\n",
       "\n",
       "    .dataframe tbody tr th {\n",
       "        vertical-align: top;\n",
       "    }\n",
       "\n",
       "    .dataframe thead th {\n",
       "        text-align: right;\n",
       "    }\n",
       "</style>\n",
       "<table border=\"1\" class=\"dataframe\">\n",
       "  <thead>\n",
       "    <tr style=\"text-align: right;\">\n",
       "      <th></th>\n",
       "      <th>ID</th>\n",
       "      <th>Page ID</th>\n",
       "      <th>Local text</th>\n",
       "      <th>English text</th>\n",
       "      <th>en_fr_yandex_tr</th>\n",
       "      <th>fr_en_yandex_tr</th>\n",
       "      <th>ru_fr_yandex_tr</th>\n",
       "    </tr>\n",
       "  </thead>\n",
       "  <tbody>\n",
       "    <tr>\n",
       "      <th>0</th>\n",
       "      <td>1</td>\n",
       "      <td>4</td>\n",
       "      <td>Мне нравится вино.</td>\n",
       "      <td>I like wine.</td>\n",
       "      <td>J'aime le vin.</td>\n",
       "      <td>I like wine.</td>\n",
       "      <td>J'aime le vin.</td>\n",
       "    </tr>\n",
       "    <tr>\n",
       "      <th>1</th>\n",
       "      <td>2</td>\n",
       "      <td>4</td>\n",
       "      <td>Я хочу всё.</td>\n",
       "      <td>I want everything</td>\n",
       "      <td>Je veux tout</td>\n",
       "      <td>I want it all</td>\n",
       "      <td>Je veux tout.</td>\n",
       "    </tr>\n",
       "    <tr>\n",
       "      <th>2</th>\n",
       "      <td>3</td>\n",
       "      <td>4</td>\n",
       "      <td>Мне нравится зима.</td>\n",
       "      <td>I like winter.</td>\n",
       "      <td>J'aime l'hiver.</td>\n",
       "      <td>I like winter.</td>\n",
       "      <td>J'aime l'hiver.</td>\n",
       "    </tr>\n",
       "    <tr>\n",
       "      <th>3</th>\n",
       "      <td>4</td>\n",
       "      <td>4</td>\n",
       "      <td>Я люблю читать.</td>\n",
       "      <td>I love reading.</td>\n",
       "      <td>J'aime la lecture.</td>\n",
       "      <td>I like reading.</td>\n",
       "      <td>J'aime lire.</td>\n",
       "    </tr>\n",
       "    <tr>\n",
       "      <th>4</th>\n",
       "      <td>5</td>\n",
       "      <td>4</td>\n",
       "      <td>Ты знаешь всё.</td>\n",
       "      <td>You know everything.</td>\n",
       "      <td>Vous savez tout.</td>\n",
       "      <td>You know everything.</td>\n",
       "      <td>Tu connais tout.</td>\n",
       "    </tr>\n",
       "  </tbody>\n",
       "</table>\n",
       "</div>"
      ],
      "text/plain": [
       "   ID  Page ID          Local text          English text     en_fr_yandex_tr  \\\n",
       "0   1        4  Мне нравится вино.          I like wine.      J'aime le vin.   \n",
       "1   2        4         Я хочу всё.     I want everything        Je veux tout   \n",
       "2   3        4  Мне нравится зима.        I like winter.     J'aime l'hiver.   \n",
       "3   4        4     Я люблю читать.       I love reading.  J'aime la lecture.   \n",
       "4   5        4      Ты знаешь всё.  You know everything.    Vous savez tout.   \n",
       "\n",
       "        fr_en_yandex_tr   ru_fr_yandex_tr  \n",
       "0          I like wine.    J'aime le vin.  \n",
       "1         I want it all     Je veux tout.  \n",
       "2        I like winter.   J'aime l'hiver.  \n",
       "3       I like reading.      J'aime lire.  \n",
       "4  You know everything.  Tu connais tout.  "
      ]
     },
     "execution_count": 22,
     "metadata": {},
     "output_type": "execute_result"
    }
   ],
   "source": [
    "df_overall['ru_fr_yandex_tr'] = tr_ru_fr\n",
    "df_overall.head()"
   ]
  },
  {
   "cell_type": "code",
   "execution_count": 25,
   "metadata": {},
   "outputs": [
    {
     "data": {
      "application/vnd.jupyter.widget-view+json": {
       "model_id": "cf50975d3fb346088adf3300a4b6bad2",
       "version_major": 2,
       "version_minor": 0
      },
      "text/plain": [
       "HBox(children=(IntProgress(value=0, max=751), HTML(value='')))"
      ]
     },
     "metadata": {},
     "output_type": "display_data"
    },
    {
     "name": "stdout",
     "output_type": "stream",
     "text": [
      "\n"
     ]
    }
   ],
   "source": [
    "tr_fr_ru = []\n",
    "for phrase in tqdm(list(df_overall['ru_fr_yandex_tr'])):\n",
    "    #print(en_phrase)\n",
    "    translated = y_translate(phrase, \"fr\", \"ru\")\n",
    "    tr_fr_ru.append(translated)\n",
    "    #break"
   ]
  },
  {
   "cell_type": "code",
   "execution_count": 26,
   "metadata": {},
   "outputs": [
    {
     "data": {
      "text/plain": [
       "['Я люблю вино.',\n",
       " 'Я хочу все.',\n",
       " 'Я люблю зиму.',\n",
       " 'Я люблю читать.',\n",
       " 'Ты все знаешь.',\n",
       " 'Я люблю готовить.',\n",
       " 'Они все знают.',\n",
       " 'Нам нужно время.',\n",
       " 'Мы любим торты.',\n",
       " 'Я люблю футбол.']"
      ]
     },
     "execution_count": 26,
     "metadata": {},
     "output_type": "execute_result"
    }
   ],
   "source": [
    "tr_fr_ru[:10]"
   ]
  },
  {
   "cell_type": "code",
   "execution_count": 27,
   "metadata": {},
   "outputs": [
    {
     "data": {
      "text/html": [
       "<div>\n",
       "<style scoped>\n",
       "    .dataframe tbody tr th:only-of-type {\n",
       "        vertical-align: middle;\n",
       "    }\n",
       "\n",
       "    .dataframe tbody tr th {\n",
       "        vertical-align: top;\n",
       "    }\n",
       "\n",
       "    .dataframe thead th {\n",
       "        text-align: right;\n",
       "    }\n",
       "</style>\n",
       "<table border=\"1\" class=\"dataframe\">\n",
       "  <thead>\n",
       "    <tr style=\"text-align: right;\">\n",
       "      <th></th>\n",
       "      <th>ID</th>\n",
       "      <th>Page ID</th>\n",
       "      <th>Local text</th>\n",
       "      <th>English text</th>\n",
       "      <th>en_fr_yandex_tr</th>\n",
       "      <th>fr_en_yandex_tr</th>\n",
       "      <th>ru_fr_yandex_tr</th>\n",
       "      <th>fr_ru_yandex_tr</th>\n",
       "    </tr>\n",
       "  </thead>\n",
       "  <tbody>\n",
       "    <tr>\n",
       "      <th>0</th>\n",
       "      <td>1</td>\n",
       "      <td>4</td>\n",
       "      <td>Мне нравится вино.</td>\n",
       "      <td>I like wine.</td>\n",
       "      <td>J'aime le vin.</td>\n",
       "      <td>I like wine.</td>\n",
       "      <td>J'aime le vin.</td>\n",
       "      <td>Я люблю вино.</td>\n",
       "    </tr>\n",
       "    <tr>\n",
       "      <th>1</th>\n",
       "      <td>2</td>\n",
       "      <td>4</td>\n",
       "      <td>Я хочу всё.</td>\n",
       "      <td>I want everything</td>\n",
       "      <td>Je veux tout</td>\n",
       "      <td>I want it all</td>\n",
       "      <td>Je veux tout.</td>\n",
       "      <td>Я хочу все.</td>\n",
       "    </tr>\n",
       "    <tr>\n",
       "      <th>2</th>\n",
       "      <td>3</td>\n",
       "      <td>4</td>\n",
       "      <td>Мне нравится зима.</td>\n",
       "      <td>I like winter.</td>\n",
       "      <td>J'aime l'hiver.</td>\n",
       "      <td>I like winter.</td>\n",
       "      <td>J'aime l'hiver.</td>\n",
       "      <td>Я люблю зиму.</td>\n",
       "    </tr>\n",
       "    <tr>\n",
       "      <th>3</th>\n",
       "      <td>4</td>\n",
       "      <td>4</td>\n",
       "      <td>Я люблю читать.</td>\n",
       "      <td>I love reading.</td>\n",
       "      <td>J'aime la lecture.</td>\n",
       "      <td>I like reading.</td>\n",
       "      <td>J'aime lire.</td>\n",
       "      <td>Я люблю читать.</td>\n",
       "    </tr>\n",
       "    <tr>\n",
       "      <th>4</th>\n",
       "      <td>5</td>\n",
       "      <td>4</td>\n",
       "      <td>Ты знаешь всё.</td>\n",
       "      <td>You know everything.</td>\n",
       "      <td>Vous savez tout.</td>\n",
       "      <td>You know everything.</td>\n",
       "      <td>Tu connais tout.</td>\n",
       "      <td>Ты все знаешь.</td>\n",
       "    </tr>\n",
       "  </tbody>\n",
       "</table>\n",
       "</div>"
      ],
      "text/plain": [
       "   ID  Page ID          Local text          English text     en_fr_yandex_tr  \\\n",
       "0   1        4  Мне нравится вино.          I like wine.      J'aime le vin.   \n",
       "1   2        4         Я хочу всё.     I want everything        Je veux tout   \n",
       "2   3        4  Мне нравится зима.        I like winter.     J'aime l'hiver.   \n",
       "3   4        4     Я люблю читать.       I love reading.  J'aime la lecture.   \n",
       "4   5        4      Ты знаешь всё.  You know everything.    Vous savez tout.   \n",
       "\n",
       "        fr_en_yandex_tr   ru_fr_yandex_tr  fr_ru_yandex_tr  \n",
       "0          I like wine.    J'aime le vin.    Я люблю вино.  \n",
       "1         I want it all     Je veux tout.      Я хочу все.  \n",
       "2        I like winter.   J'aime l'hiver.    Я люблю зиму.  \n",
       "3       I like reading.      J'aime lire.  Я люблю читать.  \n",
       "4  You know everything.  Tu connais tout.   Ты все знаешь.  "
      ]
     },
     "execution_count": 27,
     "metadata": {},
     "output_type": "execute_result"
    }
   ],
   "source": [
    "df_overall['fr_ru_yandex_tr'] = tr_fr_ru\n",
    "df_overall.head()"
   ]
  },
  {
   "cell_type": "code",
   "execution_count": 28,
   "metadata": {},
   "outputs": [],
   "source": [
    "df_overall.to_csv(\"raw_translated.csv\")"
   ]
  },
  {
   "cell_type": "code",
   "execution_count": 30,
   "metadata": {},
   "outputs": [
    {
     "data": {
      "text/html": [
       "<div>\n",
       "<style scoped>\n",
       "    .dataframe tbody tr th:only-of-type {\n",
       "        vertical-align: middle;\n",
       "    }\n",
       "\n",
       "    .dataframe tbody tr th {\n",
       "        vertical-align: top;\n",
       "    }\n",
       "\n",
       "    .dataframe thead th {\n",
       "        text-align: right;\n",
       "    }\n",
       "</style>\n",
       "<table border=\"1\" class=\"dataframe\">\n",
       "  <thead>\n",
       "    <tr style=\"text-align: right;\">\n",
       "      <th></th>\n",
       "      <th>English text</th>\n",
       "      <th>en_fr_yandex_tr</th>\n",
       "      <th>fr_en_yandex_tr</th>\n",
       "    </tr>\n",
       "  </thead>\n",
       "  <tbody>\n",
       "    <tr>\n",
       "      <th>0</th>\n",
       "      <td>I like wine.</td>\n",
       "      <td>J'aime le vin.</td>\n",
       "      <td>I like wine.</td>\n",
       "    </tr>\n",
       "    <tr>\n",
       "      <th>1</th>\n",
       "      <td>I want everything</td>\n",
       "      <td>Je veux tout</td>\n",
       "      <td>I want it all</td>\n",
       "    </tr>\n",
       "    <tr>\n",
       "      <th>2</th>\n",
       "      <td>I like winter.</td>\n",
       "      <td>J'aime l'hiver.</td>\n",
       "      <td>I like winter.</td>\n",
       "    </tr>\n",
       "    <tr>\n",
       "      <th>3</th>\n",
       "      <td>I love reading.</td>\n",
       "      <td>J'aime la lecture.</td>\n",
       "      <td>I like reading.</td>\n",
       "    </tr>\n",
       "    <tr>\n",
       "      <th>4</th>\n",
       "      <td>You know everything.</td>\n",
       "      <td>Vous savez tout.</td>\n",
       "      <td>You know everything.</td>\n",
       "    </tr>\n",
       "  </tbody>\n",
       "</table>\n",
       "</div>"
      ],
      "text/plain": [
       "           English text     en_fr_yandex_tr       fr_en_yandex_tr\n",
       "0          I like wine.      J'aime le vin.          I like wine.\n",
       "1     I want everything        Je veux tout         I want it all\n",
       "2        I like winter.     J'aime l'hiver.        I like winter.\n",
       "3       I love reading.  J'aime la lecture.       I like reading.\n",
       "4  You know everything.    Vous savez tout.  You know everything."
      ]
     },
     "execution_count": 30,
     "metadata": {},
     "output_type": "execute_result"
    }
   ],
   "source": [
    "df_check_fr = df_overall[['English text','en_fr_yandex_tr','fr_en_yandex_tr']]\n",
    "df_check_fr.head()"
   ]
  },
  {
   "cell_type": "code",
   "execution_count": 34,
   "metadata": {},
   "outputs": [],
   "source": [
    "equality_list = []\n",
    "for en_phrase_orig, en_phrase_back_translated in zip(list(df_check_fr['English text']),list(df_check_fr['fr_en_yandex_tr'])):\n",
    "    #print(en_phrase_orig, en_phrase_back_translated)\n",
    "    equality = en_phrase_orig == en_phrase_back_translated\n",
    "    #print(equality)\n",
    "    equality_list.append(equality)"
   ]
  },
  {
   "cell_type": "code",
   "execution_count": 35,
   "metadata": {},
   "outputs": [
    {
     "data": {
      "text/plain": [
       "[True, False, True, False, True, False, True, True, False, True]"
      ]
     },
     "execution_count": 35,
     "metadata": {},
     "output_type": "execute_result"
    }
   ],
   "source": [
    "equality_list[:10]"
   ]
  },
  {
   "cell_type": "code",
   "execution_count": 36,
   "metadata": {},
   "outputs": [
    {
     "name": "stderr",
     "output_type": "stream",
     "text": [
      "/Users/nigula/Library/Python/3.7/lib/python/site-packages/ipykernel_launcher.py:1: SettingWithCopyWarning: \n",
      "A value is trying to be set on a copy of a slice from a DataFrame.\n",
      "Try using .loc[row_indexer,col_indexer] = value instead\n",
      "\n",
      "See the caveats in the documentation: http://pandas.pydata.org/pandas-docs/stable/indexing.html#indexing-view-versus-copy\n",
      "  \"\"\"Entry point for launching an IPython kernel.\n"
     ]
    },
    {
     "data": {
      "text/html": [
       "<div>\n",
       "<style scoped>\n",
       "    .dataframe tbody tr th:only-of-type {\n",
       "        vertical-align: middle;\n",
       "    }\n",
       "\n",
       "    .dataframe tbody tr th {\n",
       "        vertical-align: top;\n",
       "    }\n",
       "\n",
       "    .dataframe thead th {\n",
       "        text-align: right;\n",
       "    }\n",
       "</style>\n",
       "<table border=\"1\" class=\"dataframe\">\n",
       "  <thead>\n",
       "    <tr style=\"text-align: right;\">\n",
       "      <th></th>\n",
       "      <th>English text</th>\n",
       "      <th>en_fr_yandex_tr</th>\n",
       "      <th>fr_en_yandex_tr</th>\n",
       "      <th>correct_translation</th>\n",
       "    </tr>\n",
       "  </thead>\n",
       "  <tbody>\n",
       "    <tr>\n",
       "      <th>0</th>\n",
       "      <td>I like wine.</td>\n",
       "      <td>J'aime le vin.</td>\n",
       "      <td>I like wine.</td>\n",
       "      <td>True</td>\n",
       "    </tr>\n",
       "    <tr>\n",
       "      <th>1</th>\n",
       "      <td>I want everything</td>\n",
       "      <td>Je veux tout</td>\n",
       "      <td>I want it all</td>\n",
       "      <td>False</td>\n",
       "    </tr>\n",
       "    <tr>\n",
       "      <th>2</th>\n",
       "      <td>I like winter.</td>\n",
       "      <td>J'aime l'hiver.</td>\n",
       "      <td>I like winter.</td>\n",
       "      <td>True</td>\n",
       "    </tr>\n",
       "    <tr>\n",
       "      <th>3</th>\n",
       "      <td>I love reading.</td>\n",
       "      <td>J'aime la lecture.</td>\n",
       "      <td>I like reading.</td>\n",
       "      <td>False</td>\n",
       "    </tr>\n",
       "    <tr>\n",
       "      <th>4</th>\n",
       "      <td>You know everything.</td>\n",
       "      <td>Vous savez tout.</td>\n",
       "      <td>You know everything.</td>\n",
       "      <td>True</td>\n",
       "    </tr>\n",
       "  </tbody>\n",
       "</table>\n",
       "</div>"
      ],
      "text/plain": [
       "           English text     en_fr_yandex_tr       fr_en_yandex_tr  \\\n",
       "0          I like wine.      J'aime le vin.          I like wine.   \n",
       "1     I want everything        Je veux tout         I want it all   \n",
       "2        I like winter.     J'aime l'hiver.        I like winter.   \n",
       "3       I love reading.  J'aime la lecture.       I like reading.   \n",
       "4  You know everything.    Vous savez tout.  You know everything.   \n",
       "\n",
       "   correct_translation  \n",
       "0                 True  \n",
       "1                False  \n",
       "2                 True  \n",
       "3                False  \n",
       "4                 True  "
      ]
     },
     "execution_count": 36,
     "metadata": {},
     "output_type": "execute_result"
    }
   ],
   "source": [
    "df_check_fr ['correct_translation'] = equality_list\n",
    "df_check_fr.head()"
   ]
  },
  {
   "cell_type": "code",
   "execution_count": 42,
   "metadata": {},
   "outputs": [
    {
     "data": {
      "text/plain": [
       "397"
      ]
     },
     "execution_count": 42,
     "metadata": {},
     "output_type": "execute_result"
    }
   ],
   "source": [
    "len(df_check_fr[df_check_fr['correct_translation'] == True])"
   ]
  },
  {
   "cell_type": "code",
   "execution_count": 43,
   "metadata": {},
   "outputs": [
    {
     "data": {
      "text/plain": [
       "354"
      ]
     },
     "execution_count": 43,
     "metadata": {},
     "output_type": "execute_result"
    }
   ],
   "source": [
    "len(df_check_fr[df_check_fr['correct_translation'] == False])"
   ]
  },
  {
   "cell_type": "code",
   "execution_count": 37,
   "metadata": {},
   "outputs": [],
   "source": [
    "df_check_fr.to_csv(\"french_check_all.csv\")"
   ]
  },
  {
   "cell_type": "code",
   "execution_count": 40,
   "metadata": {},
   "outputs": [],
   "source": [
    "df_check_fr[df_check_fr['correct_translation'] == True].to_csv('french_check_all_correct_tr.csv')"
   ]
  },
  {
   "cell_type": "code",
   "execution_count": 41,
   "metadata": {},
   "outputs": [],
   "source": [
    "df_check_fr[df_check_fr['correct_translation'] == False].to_csv('french_check_all_incorrect_tr.csv')"
   ]
  },
  {
   "cell_type": "markdown",
   "metadata": {},
   "source": [
    "# ru_fr"
   ]
  },
  {
   "cell_type": "code",
   "execution_count": null,
   "metadata": {},
   "outputs": [],
   "source": [
    "df_check_ru_fr = df_overall[['Local text','en_fr_yandex_tr','ru_fr_yandex_tr']]\n"
   ]
  }
 ],
 "metadata": {
  "kernelspec": {
   "display_name": "Python 3",
   "language": "python",
   "name": "python3"
  },
  "language_info": {
   "codemirror_mode": {
    "name": "ipython",
    "version": 3
   },
   "file_extension": ".py",
   "mimetype": "text/x-python",
   "name": "python",
   "nbconvert_exporter": "python",
   "pygments_lexer": "ipython3",
   "version": "3.7.4"
  }
 },
 "nbformat": 4,
 "nbformat_minor": 2
}
