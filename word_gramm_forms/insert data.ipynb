{
 "cells": [
  {
   "cell_type": "markdown",
   "metadata": {},
   "source": [
    "psql -h 192.168.122.183 -U linguist -d pgstage -c \"\\copy cefr_words FROM '/Users/nigula/word-service/main/to_prod/CEFR_vocab.csv' with (format csv,header true, delimiter ',');\""
   ]
  },
  {
   "cell_type": "code",
   "execution_count": null,
   "metadata": {},
   "outputs": [],
   "source": [
    "CREATE TABLE linguist.mix_locales\n",
    "(\n",
    "   word_id integer NOT NULL,\n",
    "   ref_id integer NOT NULL,\n",
    "   setting_id integer NOT NULL,\n",
    "   mix_word_id integer NOT NULL,\n",
    "   mix_ref_id integer NOT NULL,\n",
    "   mix_setting_id integer NOT NULL,\n",
    "   mix_word character varying COLLATE pg_catalog.\"default\"\n",
    ")"
   ]
  },
  {
   "cell_type": "code",
   "execution_count": 8,
   "metadata": {},
   "outputs": [],
   "source": [
    "import os\n",
    "import json\n",
    "import pandas as pd"
   ]
  },
  {
   "cell_type": "code",
   "execution_count": 33,
   "metadata": {},
   "outputs": [],
   "source": [
    "def get_dropped_items_count(path):\n",
    "    drop = []\n",
    "    for file in os.listdir(path):\n",
    "        if \"json\" in file:\n",
    "            #print(file)\n",
    "            with open(os.path.join(path, file)) as f:\n",
    "                data = json.load(f)\n",
    "                drop.extend(data) \n",
    "    return drop\n",
    "drop_list = get_dropped_items_count(\"/Users/nigula/LL/word_gramm_forms/save_drop_results\")\n"
   ]
  },
  {
   "cell_type": "code",
   "execution_count": 34,
   "metadata": {},
   "outputs": [
    {
     "data": {
      "text/plain": [
       "66412"
      ]
     },
     "execution_count": 34,
     "metadata": {},
     "output_type": "execute_result"
    }
   ],
   "source": [
    "len(drop_list)"
   ]
  },
  {
   "cell_type": "code",
   "execution_count": 40,
   "metadata": {},
   "outputs": [
    {
     "data": {
      "text/plain": [
       "'feni'"
      ]
     },
     "execution_count": 40,
     "metadata": {},
     "output_type": "execute_result"
    }
   ],
   "source": [
    "drop_list[0]"
   ]
  },
  {
   "cell_type": "code",
   "execution_count": 41,
   "metadata": {},
   "outputs": [],
   "source": [
    "def get_table(path):\n",
    "    word_list = []\n",
    "    word_id_list = []\n",
    "    wordforms_list = []\n",
    "    count = 0\n",
    "    handled_id = []\n",
    "    handled_ids_list = []\n",
    "    for file in os.listdir(path):\n",
    "        if \"json\" in file:\n",
    "            #print(file)\n",
    "            with open(os.path.join(path, file)) as f:\n",
    "                data = json.load(f)\n",
    "                \n",
    "                #print(data)\n",
    "                for wd in data:\n",
    "                    if wd['word_id'] not in handled_id:\n",
    "                        handled_ids_list.append(wd['word'])\n",
    "                        word_list.append(wd['word'])\n",
    "                        word_id_list.append(wd['word_id'])\n",
    "                        wordforms_list.append(wd['wordform'])\n",
    "                    else:\n",
    "                        print(wd['word_id'], \"dublicate\")\n",
    "\n",
    "            #print(len(word_list),len(word_id_list),len(wordforms_list),)\n",
    "\n",
    "\n",
    "            count += 1\n",
    "            if count != 0 and count%500 == 0:\n",
    "                dframe = pd.DataFrame(list(zip(word_id_list, word_list,wordforms_list)), columns = ['word_id', 'word','wordform'])\n",
    "                dframe.to_csv(\"./csv_res/\" + str(count) + \".csv\")\n",
    "                word_list = []\n",
    "                word_id_list = []\n",
    "                wordforms_list = []\n",
    "    dframe = pd.DataFrame(list(zip(word_id_list,word_list,wordforms_list)), columns = ['word_id', 'word','wordform'])\n",
    "    dframe.to_csv(\"./csv_res/\" +  str(count) + \".csv\")\n",
    "    return handled_ids_list\n",
    "hand_id = get_table(\"/Users/nigula/LL/word_gramm_forms/save_results\")\n"
   ]
  },
  {
   "cell_type": "code",
   "execution_count": 42,
   "metadata": {},
   "outputs": [
    {
     "data": {
      "text/plain": [
       "85078"
      ]
     },
     "execution_count": 42,
     "metadata": {},
     "output_type": "execute_result"
    }
   ],
   "source": [
    "len(hand_id)"
   ]
  },
  {
   "cell_type": "code",
   "execution_count": 43,
   "metadata": {},
   "outputs": [
    {
     "data": {
      "text/plain": [
       "'cabooses'"
      ]
     },
     "execution_count": 43,
     "metadata": {},
     "output_type": "execute_result"
    }
   ],
   "source": [
    "hand_id[0]"
   ]
  },
  {
   "cell_type": "code",
   "execution_count": 44,
   "metadata": {},
   "outputs": [],
   "source": [
    "hand_id_set = set(hand_id)\n",
    "drop_id_set = set(drop_list)"
   ]
  },
  {
   "cell_type": "code",
   "execution_count": 45,
   "metadata": {},
   "outputs": [
    {
     "data": {
      "text/plain": [
       "set()"
      ]
     },
     "execution_count": 45,
     "metadata": {},
     "output_type": "execute_result"
    }
   ],
   "source": [
    "drop_id_set.intersection(hand_id_set)"
   ]
  }
 ],
 "metadata": {
  "kernelspec": {
   "display_name": "Python 3",
   "language": "python",
   "name": "python3"
  },
  "language_info": {
   "codemirror_mode": {
    "name": "ipython",
    "version": 3
   },
   "file_extension": ".py",
   "mimetype": "text/x-python",
   "name": "python",
   "nbconvert_exporter": "python",
   "pygments_lexer": "ipython3",
   "version": "3.7.4"
  }
 },
 "nbformat": 4,
 "nbformat_minor": 2
}
