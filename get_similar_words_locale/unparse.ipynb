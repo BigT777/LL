{
 "cells": [
  {
   "cell_type": "code",
   "execution_count": 1,
   "metadata": {},
   "outputs": [],
   "source": [
    "import json"
   ]
  },
  {
   "cell_type": "code",
   "execution_count": 17,
   "metadata": {},
   "outputs": [],
   "source": [
    "with open(\"/Users/nigula/Desktop/long_term_storage/mixed words for training/unigramms_unique.json\") as f:\n",
    "    data = json.load(f)\n",
    "    count = 0\n",
    "    collected_data = []\n",
    "    first_id = str(0)\n",
    "    last_id = 0\n",
    "    for word in data:\n",
    "        #print (word)\n",
    "        count += 1\n",
    "        collected_data.append(word)\n",
    "        if count == 2000:\n",
    "            last_id = str(word['word_id'])\n",
    "            with open (\"./eng_unigr_big/\"+ first_id + '-' + last_id + '.json', 'w') as f:\n",
    "                json.dump(collected_data, f, indent = 2)\n",
    "            first_id = str(word['word_id'])\n",
    "            count = 0\n",
    "            collected_data = []\n",
    "    last_id = str(word['word_id'])\n",
    "    with open (\"./eng_unigr_big/\"+ first_id + '-' + last_id + '.json', 'w') as f:\n",
    "        json.dump(collected_data, f, indent = 2)"
   ]
  },
  {
   "cell_type": "code",
   "execution_count": 18,
   "metadata": {},
   "outputs": [],
   "source": [
    "with open(\"/Users/nigula/Desktop/long_term_storage/mixed words for training/bigramm.json\") as f:\n",
    "    data = json.load(f)\n",
    "    count = 0\n",
    "    collected_data = []\n",
    "    first_id = str(0)\n",
    "    last_id = 0\n",
    "    for word in data:\n",
    "        #print (word)\n",
    "        count += 1\n",
    "        collected_data.append(word)\n",
    "        if count == 2000:\n",
    "            last_id = str(word['word_id'])\n",
    "            with open (\"./eng_bigr_big/\"+ first_id + '-' + last_id + '.json', 'w') as f:\n",
    "                json.dump(collected_data, f, indent = 2)\n",
    "            first_id = str(word['word_id'])\n",
    "            count = 0\n",
    "            collected_data = []\n",
    "    last_id = str(word['word_id'])\n",
    "    with open (\"./eng_bigr_big/\"+ first_id + '-' + last_id + '.json', 'w') as f:\n",
    "        json.dump(collected_data, f, indent = 2)"
   ]
  },
  {
   "cell_type": "code",
   "execution_count": 20,
   "metadata": {},
   "outputs": [],
   "source": [
    "with open(\"/Users/nigula/Desktop/long_term_storage/mixed words for training/trigramms.json\") as f:\n",
    "    data = json.load(f)\n",
    "    count = 0\n",
    "    collected_data = []\n",
    "    first_id = str(0)\n",
    "    last_id = 0\n",
    "    for word in data:\n",
    "        #print (word)\n",
    "        count += 1\n",
    "        collected_data.append(word)\n",
    "        if count == 2000:\n",
    "            last_id = str(word['word_id'])\n",
    "            with open (\"./eng_trigr_big/\"+ first_id + '-' + last_id + '.json', 'w') as f:\n",
    "                json.dump(collected_data, f, indent = 2)\n",
    "            first_id = str(word['word_id'])\n",
    "            count = 0\n",
    "            collected_data = []\n",
    "    last_id = str(word['word_id'])\n",
    "    with open (\"./eng_trigr_big/\"+ first_id + '-' + last_id + '.json', 'w') as f:\n",
    "        json.dump(collected_data, f, indent = 2)"
   ]
  },
  {
   "cell_type": "code",
   "execution_count": 14,
   "metadata": {},
   "outputs": [],
   "source": [
    "with open(\"/Users/nigula/Desktop/long_term_storage/mixed words for training/bigramm.json\") as f:\n",
    "    data = json.load(f)\n",
    "    for word in data:\n",
    "        #print (word)\n",
    "        with open (\"./eng_bigr/\"+str(word['word_id']) + '.json', 'w') as f:\n",
    "            json.dump(word, f, indent = 2)"
   ]
  },
  {
   "cell_type": "code",
   "execution_count": 15,
   "metadata": {},
   "outputs": [],
   "source": [
    "with open(\"/Users/nigula/Desktop/long_term_storage/mixed words for training/trigramms.json\") as f:\n",
    "    data = json.load(f)\n",
    "    for word in data:\n",
    "        #print (word)\n",
    "        with open (\"./eng_trigr/\"+str(word['word_id']) + '.json', 'w') as f:\n",
    "            json.dump(word, f, indent = 2)"
   ]
  }
 ],
 "metadata": {
  "kernelspec": {
   "display_name": "Python 3",
   "language": "python",
   "name": "python3"
  },
  "language_info": {
   "codemirror_mode": {
    "name": "ipython",
    "version": 3
   },
   "file_extension": ".py",
   "mimetype": "text/x-python",
   "name": "python",
   "nbconvert_exporter": "python",
   "pygments_lexer": "ipython3",
   "version": "3.7.3"
  }
 },
 "nbformat": 4,
 "nbformat_minor": 2
}
