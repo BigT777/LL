{
 "cells": [
  {
   "cell_type": "code",
   "execution_count": 1,
   "metadata": {},
   "outputs": [],
   "source": [
    "from TurkishStemmer import TurkishStemmer"
   ]
  },
  {
   "cell_type": "code",
   "execution_count": 79,
   "metadata": {},
   "outputs": [
    {
     "data": {
      "text/plain": [
       "'işaretlemek'"
      ]
     },
     "execution_count": 79,
     "metadata": {},
     "output_type": "execute_result"
    }
   ],
   "source": [
    "stemmer = TurkishStemmer()\n",
    "stemmer.stem(\"işaretlemekler\")"
   ]
  },
  {
   "cell_type": "code",
   "execution_count": 5,
   "metadata": {},
   "outputs": [
    {
     "name": "stdout",
     "output_type": "stream",
     "text": [
      "Collecting polyglot\n",
      "\u001b[?25l  Downloading https://files.pythonhosted.org/packages/e7/98/e24e2489114c5112b083714277204d92d372f5bbe00d5507acf40370edb9/polyglot-16.7.4.tar.gz (126kB)\n",
      "\u001b[K     |████████████████████████████████| 133kB 1.0MB/s eta 0:00:01\n",
      "\u001b[?25hBuilding wheels for collected packages: polyglot\n",
      "  Building wheel for polyglot (setup.py) ... \u001b[?25ldone\n",
      "\u001b[?25h  Stored in directory: /Users/nigula/Library/Caches/pip/wheels/5e/91/ef/f1369fdc1203b0a9347d4b24f149b83a305f39ab047986d9da\n",
      "Successfully built polyglot\n",
      "Installing collected packages: polyglot\n",
      "Successfully installed polyglot-16.7.4\n"
     ]
    }
   ],
   "source": [
    "!pip3 install polyglot"
   ]
  },
  {
   "cell_type": "code",
   "execution_count": null,
   "metadata": {},
   "outputs": [],
   "source": [
    "https://github.com/ferittuncer/ITU-Turkish-NLP-Pipeline-Caller"
   ]
  },
  {
   "cell_type": "code",
   "execution_count": null,
   "metadata": {},
   "outputs": [],
   "source": [
    "https://github.com/erayyildiz/LookupAnalyzerDisambiguator"
   ]
  },
  {
   "cell_type": "code",
   "execution_count": null,
   "metadata": {},
   "outputs": [],
   "source": [
    "curl --request PO \n",
    ">   --url http://localhost:8081/analyze \\\n",
    ">   --header 'cache-control: no-cache' \\\n",
    ">   --header 'content-type: application/json' \\\n",
    ">   --header 'postman-token: c18af364-c1cb-cc41-0903-063547ac7fce' \\\n",
    ">   --data '{\n",
    ">     \"tokens\" : [\n",
    ">         \"alın\",\n",
    ">         \"yazısı\"\n",
    ">     ]}'"
   ]
  },
  {
   "cell_type": "code",
   "execution_count": 7,
   "metadata": {},
   "outputs": [
    {
     "name": "stdout",
     "output_type": "stream",
     "text": [
      "Collecting httplib\n",
      "\u001b[31m  ERROR: Could not find a version that satisfies the requirement httplib (from versions: none)\u001b[0m\n",
      "\u001b[31mERROR: No matching distribution found for httplib\u001b[0m\n"
     ]
    }
   ],
   "source": [
    "!pip3 install httplib"
   ]
  },
  {
   "cell_type": "code",
   "execution_count": 35,
   "metadata": {},
   "outputs": [],
   "source": [
    "import requests\n",
    "import json"
   ]
  },
  {
   "cell_type": "code",
   "execution_count": 23,
   "metadata": {},
   "outputs": [
    {
     "data": {
      "text/plain": [
       "b'al\\xc4\\xb1n'"
      ]
     },
     "execution_count": 23,
     "metadata": {},
     "output_type": "execute_result"
    }
   ],
   "source": [
    "\"alın\".encode(\"utf-8\")"
   ]
  },
  {
   "cell_type": "code",
   "execution_count": 73,
   "metadata": {},
   "outputs": [],
   "source": [
    "headers_tr = {\n",
    "    'cache-control': 'no-cache',\n",
    "    'content-type': 'application/json',\n",
    "    'postman-token': 'c18af364-c1cb-cc41-0903-063547ac7fce', 'charset' : \"utf-8\"\n",
    "}\n",
    "data_tr = '{\"tokens\" : [\"al\\xc4\\xb1n\",\"yaz\\xc4\\xb1s\\xc4\\xb1\"]}'\n",
    "url_tr = 'http://localhost:8081/analyze'"
   ]
  },
  {
   "cell_type": "code",
   "execution_count": 76,
   "metadata": {},
   "outputs": [],
   "source": [
    "#data = {\"tokens\" : [\"al\\xc4\\xb1n\",\"yaz\\xc4\\xb1s\\xc4\\xb1\"]}\n",
    "data = {\"tokens\" : [\"alın\",\"işaretlemekler\"]}"
   ]
  },
  {
   "cell_type": "code",
   "execution_count": 77,
   "metadata": {},
   "outputs": [
    {
     "data": {
      "text/plain": [
       "'{\"tokens\": [\"al\\\\u0131n\", \"i\\\\u015faretlemekler\"]}'"
      ]
     },
     "execution_count": 77,
     "metadata": {},
     "output_type": "execute_result"
    }
   ],
   "source": [
    "data_dump = json.dumps(data)\n",
    "data_dump"
   ]
  },
  {
   "cell_type": "code",
   "execution_count": 78,
   "metadata": {},
   "outputs": [
    {
     "data": {
      "text/plain": [
       "'[\"al\\\\u0131n+Noun+A3sg+Pnon+Nom\", \"i\\\\u015faretlemekler+Unknown\"]'"
      ]
     },
     "execution_count": 78,
     "metadata": {},
     "output_type": "execute_result"
    }
   ],
   "source": [
    "r = requests.post(url = url_tr, data=data_dump, headers=headers_tr)\n",
    "r.text"
   ]
  },
  {
   "cell_type": "code",
   "execution_count": 71,
   "metadata": {},
   "outputs": [
    {
     "data": {
      "text/plain": [
       "b'i\\\\u015faretle'"
      ]
     },
     "execution_count": 71,
     "metadata": {},
     "output_type": "execute_result"
    }
   ],
   "source": [
    "\"i\\\\u015faretle\".encode(\"utf-8\")"
   ]
  },
  {
   "cell_type": "code",
   "execution_count": 39,
   "metadata": {},
   "outputs": [
    {
     "data": {
      "text/plain": [
       "''"
      ]
     },
     "execution_count": 39,
     "metadata": {},
     "output_type": "execute_result"
    }
   ],
   "source": []
  },
  {
   "cell_type": "code",
   "execution_count": null,
   "metadata": {},
   "outputs": [],
   "source": []
  },
  {
   "cell_type": "code",
   "execution_count": null,
   "metadata": {},
   "outputs": [],
   "source": [
    "import requests\n",
    "url = 'https://www.googleapis.com/qpxExpress/v1/trips/search?key=mykeyhere'\n",
    "payload = open(\"request.json\")\n",
    "headers = {'content-type': 'application/json', 'Accept-Charset': 'UTF-8'}\n",
    "r = requests.post(url, data=payload, headers=headers)"
   ]
  }
 ],
 "metadata": {
  "kernelspec": {
   "display_name": "Python 3",
   "language": "python",
   "name": "python3"
  },
  "language_info": {
   "codemirror_mode": {
    "name": "ipython",
    "version": 3
   },
   "file_extension": ".py",
   "mimetype": "text/x-python",
   "name": "python",
   "nbconvert_exporter": "python",
   "pygments_lexer": "ipython3",
   "version": "3.7.4"
  }
 },
 "nbformat": 4,
 "nbformat_minor": 2
}
