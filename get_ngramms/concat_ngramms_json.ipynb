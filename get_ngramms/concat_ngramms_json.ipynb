{
 "cells": [
  {
   "cell_type": "code",
   "execution_count": 2,
   "metadata": {},
   "outputs": [],
   "source": [
    "import json\n",
    "import os"
   ]
  },
  {
   "cell_type": "code",
   "execution_count": 8,
   "metadata": {},
   "outputs": [
    {
     "name": "stdout",
     "output_type": "stream",
     "text": [
      "2968\n"
     ]
    }
   ],
   "source": [
    "bigramms_json_all = []\n",
    "bigramm_json = os.listdir(\"/Users/nigula/LL/save/bi\")\n",
    "count = 0\n",
    "for file in bigramm_json:\n",
    "    if file.endswith(\"json\"):\n",
    "        with open(os.path.join(\"/Users/nigula/LL/save/bi\", file)) as f:\n",
    "            data = json.load(f)\n",
    "            bigramms_json_all.extend(data)\n",
    "            count += 1\n",
    "print(count)"
   ]
  },
  {
   "cell_type": "code",
   "execution_count": 10,
   "metadata": {},
   "outputs": [],
   "source": [
    "with open(\"filtered_bigramms_word_id.json\",\"w\") as f:\n",
    "    json.dump(bigramms_json_all, f, indent = 2)"
   ]
  },
  {
   "cell_type": "code",
   "execution_count": 7,
   "metadata": {},
   "outputs": [
    {
     "data": {
      "text/plain": [
       "{'word_id': 543593,\n",
       " 'ngramm': 'worldviews',\n",
       " 'raw_ngramm': 'world-views',\n",
       " 'reason': 'SELECTED_UNIGRAMM'}"
      ]
     },
     "execution_count": 7,
     "metadata": {},
     "output_type": "execute_result"
    }
   ],
   "source": [
    "bigramms_json_all[0]"
   ]
  },
  {
   "cell_type": "code",
   "execution_count": 6,
   "metadata": {},
   "outputs": [
    {
     "data": {
      "text/plain": [
       "145692"
      ]
     },
     "execution_count": 6,
     "metadata": {},
     "output_type": "execute_result"
    }
   ],
   "source": [
    "len(bigramms_json_all)"
   ]
  },
  {
   "cell_type": "code",
   "execution_count": null,
   "metadata": {},
   "outputs": [],
   "source": []
  },
  {
   "cell_type": "code",
   "execution_count": 11,
   "metadata": {},
   "outputs": [
    {
     "name": "stdout",
     "output_type": "stream",
     "text": [
      "1378\n"
     ]
    }
   ],
   "source": [
    "bigramms_json_all = []\n",
    "bigramm_json = os.listdir(\"/Users/nigula/LL/save/tri\")\n",
    "count = 0\n",
    "for file in bigramm_json:\n",
    "    if file.endswith(\"json\"):\n",
    "        with open(os.path.join(\"/Users/nigula/LL/save/tri\", file)) as f:\n",
    "            data = json.load(f)\n",
    "            bigramms_json_all.extend(data)\n",
    "            count += 1\n",
    "print(count)"
   ]
  },
  {
   "cell_type": "code",
   "execution_count": 13,
   "metadata": {},
   "outputs": [
    {
     "data": {
      "text/plain": [
       "61906"
      ]
     },
     "execution_count": 13,
     "metadata": {},
     "output_type": "execute_result"
    }
   ],
   "source": [
    "len(bigramms_json_all)"
   ]
  },
  {
   "cell_type": "code",
   "execution_count": 12,
   "metadata": {},
   "outputs": [],
   "source": [
    "with open(\"filtered_trigramms_word_id.json\",\"w\") as f:\n",
    "    json.dump(bigramms_json_all, f, indent = 2)"
   ]
  }
 ],
 "metadata": {
  "kernelspec": {
   "display_name": "Python 3",
   "language": "python",
   "name": "python3"
  },
  "language_info": {
   "codemirror_mode": {
    "name": "ipython",
    "version": 3
   },
   "file_extension": ".py",
   "mimetype": "text/x-python",
   "name": "python",
   "nbconvert_exporter": "python",
   "pygments_lexer": "ipython3",
   "version": "3.7.3"
  }
 },
 "nbformat": 4,
 "nbformat_minor": 2
}
