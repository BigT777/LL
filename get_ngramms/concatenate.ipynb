{
 "cells": [
  {
   "cell_type": "code",
   "execution_count": 55,
   "metadata": {},
   "outputs": [],
   "source": [
    "import pandas as pd\n",
    "import os\n",
    "import operator\n",
    "from nltk.corpus import stopwords\n",
    "stopWords = set(stopwords.words('english'))\n"
   ]
  },
  {
   "cell_type": "code",
   "execution_count": 8,
   "metadata": {},
   "outputs": [],
   "source": [
    "path = \"/Users/nigula/Desktop/colloc_5k_backup\""
   ]
  },
  {
   "cell_type": "code",
   "execution_count": 29,
   "metadata": {},
   "outputs": [
    {
     "data": {
      "text/plain": [
       "(255, 0, 0)"
      ]
     },
     "execution_count": 29,
     "metadata": {},
     "output_type": "execute_result"
    }
   ],
   "source": [
    "import ast\n",
    "ast.literal_eval(\"(255, 0, 0)\")"
   ]
  },
  {
   "cell_type": "code",
   "execution_count": 37,
   "metadata": {},
   "outputs": [
    {
     "name": "stdout",
     "output_type": "stream",
     "text": [
      "bigramChiTable\n",
      "filtered_bi\n",
      "bigramPMITable\n"
     ]
    }
   ],
   "source": [
    "def concat(prefix, directory):\n",
    "    ngramms_dict = {}\n",
    "    for folder in os.listdir(directory):\n",
    "        if prefix in folder:\n",
    "            print(folder)\n",
    "            files_path = os.listdir(os.path.join(directory, folder))\n",
    "            for file in files_path:\n",
    "                if prefix in file:\n",
    "                    #print(file)\n",
    "                    df = pd.read_csv(os.path.join(directory, folder,file))\n",
    "                    #print(df.head())\n",
    "                    for key in df.keys():\n",
    "                        if prefix in key:\n",
    "                            target_index = key\n",
    "                    for index in range(len(df)):\n",
    "                        #print(df.iloc[index][target_index], type(df.iloc[index][target_index]))\n",
    "                        tupled_elements = ast.literal_eval(df.iloc[index][target_index])\n",
    "                        #print(tupled_elements, type(tupled_elements))\n",
    "                        clean_ngramm_string = ''\n",
    "                        for word in tupled_elements:\n",
    "                            if (\"_\" in word):\n",
    "                                word = word.split(\"_\")[0]\n",
    "                            clean_ngramm_string += word + ' '\n",
    "                        clean_ngramm_string = clean_ngramm_string.strip()\n",
    "                        #print(\"clean_ngramm_string\",clean_ngramm_string)\n",
    "                        if (clean_ngramm_string in ngramms_dict):\n",
    "                            ngramms_dict[clean_ngramm_string] += 1\n",
    "                        else:\n",
    "                            ngramms_dict[clean_ngramm_string] = 1\n",
    "                        #break\n",
    "                #break \n",
    "    return ngramms_dict\n",
    "        \n",
    "bigramms_dict = concat(\"bi\", path)"
   ]
  },
  {
   "cell_type": "code",
   "execution_count": 58,
   "metadata": {},
   "outputs": [
    {
     "name": "stdout",
     "output_type": "stream",
     "text": [
      "trigramPMITable\n",
      "trigramChiTable\n",
      "filtered_tri\n"
     ]
    }
   ],
   "source": [
    "trigramms_dict = concat(\"tri\", path)"
   ]
  },
  {
   "cell_type": "code",
   "execution_count": 70,
   "metadata": {},
   "outputs": [
    {
     "name": "stdout",
     "output_type": "stream",
     "text": [
      "quadragramPMITable\n"
     ]
    }
   ],
   "source": [
    "qgramm_dict = concat(\"qu\", path)"
   ]
  },
  {
   "cell_type": "code",
   "execution_count": 71,
   "metadata": {},
   "outputs": [],
   "source": [
    "sorted_x = sorted(qgramm_dict.items(), key=operator.itemgetter(1), reverse = True)"
   ]
  },
  {
   "cell_type": "code",
   "execution_count": 73,
   "metadata": {},
   "outputs": [
    {
     "data": {
      "text/plain": [
       "[('two or three year', 12),\n",
       " ('none of my business', 12),\n",
       " ('oh yeah oh yeah', 12),\n",
       " ('year older than i', 12),\n",
       " ('the most important thing', 12),\n",
       " ('more than any other', 12),\n",
       " ('as long as possible', 12),\n",
       " ('on either side of', 12),\n",
       " ('feel so much better', 12),\n",
       " ('“i don t see', 12)]"
      ]
     },
     "execution_count": 73,
     "metadata": {},
     "output_type": "execute_result"
    }
   ],
   "source": [
    "sorted_x[1000:1010]"
   ]
  },
  {
   "cell_type": "code",
   "execution_count": 74,
   "metadata": {},
   "outputs": [],
   "source": [
    "qgramms = []\n",
    "for ngr in sorted_x:\n",
    "    skip = False\n",
    "    if len(ngr[0].split()) >= 4:\n",
    "        stop_word_count = 0\n",
    "        for word in ngr[0].split():\n",
    "            if word in stopWords:\n",
    "                stop_word_count += 1\n",
    "        if stop_word_count <= 2:\n",
    "            qgramms.append(ngr[0])"
   ]
  },
  {
   "cell_type": "code",
   "execution_count": 75,
   "metadata": {},
   "outputs": [
    {
     "data": {
      "text/plain": [
       "['on the left side',\n",
       " 'no one will ever',\n",
       " 'the next few minute',\n",
       " 'a hour or two',\n",
       " 'he raise his hand',\n",
       " 'a long long time',\n",
       " 'try to focus on',\n",
       " 'play a role in',\n",
       " 'a lot of fun',\n",
       " 'it become clear that']"
      ]
     },
     "execution_count": 75,
     "metadata": {},
     "output_type": "execute_result"
    }
   ],
   "source": [
    "qgramms[1000:1010]"
   ]
  },
  {
   "cell_type": "code",
   "execution_count": 76,
   "metadata": {},
   "outputs": [],
   "source": [
    "with open(\"colloc_qgr.txt\",\"w\") as f:\n",
    "    for bigr in qgramms:\n",
    "        f.write(bigr + '\\n')"
   ]
  },
  {
   "cell_type": "code",
   "execution_count": 59,
   "metadata": {},
   "outputs": [],
   "source": [
    "sorted_x = sorted(trigramms_dict.items(), key=operator.itemgetter(1), reverse = True)"
   ]
  },
  {
   "cell_type": "code",
   "execution_count": 60,
   "metadata": {},
   "outputs": [
    {
     "data": {
      "text/plain": [
       "('oh oh oh', 109)"
      ]
     },
     "execution_count": 60,
     "metadata": {},
     "output_type": "execute_result"
    }
   ],
   "source": [
    "sorted_x[0]"
   ]
  },
  {
   "cell_type": "code",
   "execution_count": 61,
   "metadata": {},
   "outputs": [],
   "source": [
    "trigramms = []\n",
    "for ngr in sorted_x:\n",
    "    skip = False\n",
    "    if len(ngr[0].split()) > 3:\n",
    "        stop_word_count = 0\n",
    "        for word in ngr[0].split():\n",
    "            \n",
    "            if word in stopWords:\n",
    "                stop_word_count += 1\n",
    "                skip = True\n",
    "        if stop_word_count <= 1:\n",
    "            trigramms.append(ngr[0])"
   ]
  },
  {
   "cell_type": "code",
   "execution_count": 62,
   "metadata": {},
   "outputs": [
    {
     "data": {
      "text/plain": [
       "['oh oh oh',\n",
       " 'yeah yeah yeah',\n",
       " 'blah blah blah',\n",
       " 'hey hey hey',\n",
       " 'ooh ooh ooh',\n",
       " 'twelve year old',\n",
       " 'uh uh uh',\n",
       " 'ah ah ah',\n",
       " 'good good good',\n",
       " 'bang bang bang']"
      ]
     },
     "execution_count": 62,
     "metadata": {},
     "output_type": "execute_result"
    }
   ],
   "source": [
    "trigramms[:10]"
   ]
  },
  {
   "cell_type": "code",
   "execution_count": 63,
   "metadata": {},
   "outputs": [],
   "source": [
    "with open(\"colloc_trigr.txt\",\"w\") as f:\n",
    "    for bigr in trigramms:\n",
    "        f.write(bigr + '\\n')"
   ]
  },
  {
   "cell_type": "code",
   "execution_count": 42,
   "metadata": {},
   "outputs": [],
   "source": [
    "sorted_x = sorted(bigramms_dict.items(), key=operator.itemgetter(1), reverse = True)"
   ]
  },
  {
   "cell_type": "code",
   "execution_count": 56,
   "metadata": {},
   "outputs": [],
   "source": [
    "bigramms = []\n",
    "for ngr in sorted_x:\n",
    "    skip = False\n",
    "    if len(ngr[0].split()) > 1:\n",
    "        for word in ngr[0].split():\n",
    "            if word in stopWords:\n",
    "                skip = True\n",
    "        if skip == False:\n",
    "            bigramms.append(ngr[0])"
   ]
  },
  {
   "cell_type": "code",
   "execution_count": 57,
   "metadata": {},
   "outputs": [],
   "source": [
    "with open(\"colloc_bigr.txt\",\"w\") as f:\n",
    "    for bigr in bigramms:\n",
    "        f.write(bigr + '\\n')"
   ]
  },
  {
   "cell_type": "code",
   "execution_count": 52,
   "metadata": {},
   "outputs": [
    {
     "data": {
      "text/plain": [
       "['middle class',\n",
       " 'good good',\n",
       " 'yeah yeah',\n",
       " 'right good',\n",
       " 'blah blah',\n",
       " 'stainless steel',\n",
       " 'e mail',\n",
       " 'oh oh',\n",
       " 'door open',\n",
       " 'black leather']"
      ]
     },
     "execution_count": 52,
     "metadata": {},
     "output_type": "execute_result"
    }
   ],
   "source": [
    "bigramms[:10]"
   ]
  }
 ],
 "metadata": {
  "kernelspec": {
   "display_name": "Python 3",
   "language": "python",
   "name": "python3"
  },
  "language_info": {
   "codemirror_mode": {
    "name": "ipython",
    "version": 3
   },
   "file_extension": ".py",
   "mimetype": "text/x-python",
   "name": "python",
   "nbconvert_exporter": "python",
   "pygments_lexer": "ipython3",
   "version": "3.7.3"
  }
 },
 "nbformat": 4,
 "nbformat_minor": 2
}
