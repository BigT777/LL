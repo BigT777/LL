{
 "cells": [
  {
   "cell_type": "code",
   "execution_count": 100,
   "metadata": {},
   "outputs": [],
   "source": [
    "import requests\n",
    "import json\n",
    "from bs4 import BeautifulSoup as bs\n",
    "import time\n",
    "import random\n",
    "import re\n",
    "import pandas as pd\n",
    "import os"
   ]
  },
  {
   "cell_type": "code",
   "execution_count": 47,
   "metadata": {},
   "outputs": [],
   "source": [
    "from gensim.models.wrappers import FastText\n",
    "model = FastText.load_fasttext_format('/Users/nigula/input/fr/fr.bin')\n"
   ]
  },
  {
   "cell_type": "code",
   "execution_count": 85,
   "metadata": {},
   "outputs": [],
   "source": [
    "import numpy as np\n",
    "from tqdm import tqdm"
   ]
  },
  {
   "cell_type": "code",
   "execution_count": 49,
   "metadata": {},
   "outputs": [
    {
     "data": {
      "text/plain": [
       "(300,)"
      ]
     },
     "execution_count": 49,
     "metadata": {},
     "output_type": "execute_result"
    }
   ],
   "source": [
    "model['maman'].shape"
   ]
  },
  {
   "cell_type": "code",
   "execution_count": 102,
   "metadata": {},
   "outputs": [
    {
     "name": "stdout",
     "output_type": "stream",
     "text": [
      "turn to alternative marks\n"
     ]
    },
    {
     "data": {
      "text/plain": [
       "['réchauffer', 'chaud']"
      ]
     },
     "execution_count": 102,
     "metadata": {},
     "output_type": "execute_result"
    }
   ],
   "source": [
    "def get_definitions(word, from_lang, to_lang, print_output = False):\n",
    "    senseword_list = []\n",
    "    url = \"https://context.reverso.net/перевод/\" + from_lang + \"-\" + to_lang + \"/\" + word \n",
    "    if print_output == True: print(url)\n",
    "    login = {'inUserName': 'n.babakov@lingualeo.com', 'inUserPass': '33vec33'}\n",
    "    header_main = {'User-Agent': 'Mozilla/5.0 (Macintosh; Intel Mac OS X 10_10_1) AppleWebKit/537.36 (KHTML, like Gecko) Chrome/39.0.2171.95 Safari/537.36'}\n",
    "    response = requests.get(url, headers=header_main, data = login)\n",
    "    response.encoding = 'utf-8' \n",
    "    soup = bs(response.text, 'html.parser')\n",
    "    #print(soup.prettify())\n",
    "    first_string_passed = False\n",
    "    for link in soup.find_all(\"a\", attrs={\"class\" : \"translation\"}):\n",
    "        if first_string_passed == True:\n",
    "            sence_word = link.text.strip()\n",
    "            senseword_list.append(sence_word)\n",
    "            #print(sence_word)\n",
    "        first_string_passed = True\n",
    "    if len (senseword_list) == 0:\n",
    "        print(\"turn to alternative marks\")\n",
    "        for link in soup.find_all(\"div\", attrs={\"lang\" : \"fr\"}):\n",
    "            senseword_list.append(link.text.strip())\n",
    "    time.sleep(2)\n",
    "    return senseword_list\n",
    "    \"\"\"\n",
    "    for transl_word in translations_variants:\n",
    "        time.sleep(random.uniform(0.4,2.9))\n",
    "        url_example = \"https://context.reverso.net/перевод/\" + to_lang + \"-\" + from_lang + \"/\" + transl_word\n",
    "        response_ex = requests.get(url_example, headers=header_main)\n",
    "        soup_sub = bs(response_ex.text, 'html.parser')\n",
    "        print(\"========================================\")\n",
    "        print(\"\\nEXAMPLES FOR SENCE \",transl_word,\"\\n\" )\n",
    "        for l in soup_sub.find_all('span', attrs = {'class':'text', 'lang':'en'}):\n",
    "            example = l.text.strip()\n",
    "            #print(example, word in example, type(l.text.strip()), word)\n",
    "            regex = \"\\W\" + word + \"\\w{0,2}\\W\"\n",
    "            find = re.findall(regex, example)\n",
    "            if len(find) > 0 :\n",
    "                print(example)\n",
    "    \"\"\"\n",
    " \n",
    "get_definitions(\"согревать\", \"русский\", \"французский\", print_output = False)\n",
    "\n"
   ]
  },
  {
   "cell_type": "code",
   "execution_count": 10,
   "metadata": {},
   "outputs": [
    {
     "data": {
      "text/html": [
       "<div>\n",
       "<style scoped>\n",
       "    .dataframe tbody tr th:only-of-type {\n",
       "        vertical-align: middle;\n",
       "    }\n",
       "\n",
       "    .dataframe tbody tr th {\n",
       "        vertical-align: top;\n",
       "    }\n",
       "\n",
       "    .dataframe thead th {\n",
       "        text-align: right;\n",
       "    }\n",
       "</style>\n",
       "<table border=\"1\" class=\"dataframe\">\n",
       "  <thead>\n",
       "    <tr style=\"text-align: right;\">\n",
       "      <th></th>\n",
       "      <th>Unnamed: 0</th>\n",
       "      <th>word</th>\n",
       "      <th>local_word</th>\n",
       "      <th>examples</th>\n",
       "      <th>local_examples</th>\n",
       "    </tr>\n",
       "  </thead>\n",
       "  <tbody>\n",
       "    <tr>\n",
       "      <th>0</th>\n",
       "      <td>0</td>\n",
       "      <td>for</td>\n",
       "      <td>для</td>\n",
       "      <td>['for the bank', 'for last month', 'for one ye...</td>\n",
       "      <td>['для банка', 'за последний месяц', 'на один г...</td>\n",
       "    </tr>\n",
       "    <tr>\n",
       "      <th>1</th>\n",
       "      <td>1</td>\n",
       "      <td>for</td>\n",
       "      <td>ради</td>\n",
       "      <td>['for god']</td>\n",
       "      <td>['ради бога']</td>\n",
       "    </tr>\n",
       "    <tr>\n",
       "      <th>2</th>\n",
       "      <td>2</td>\n",
       "      <td>for</td>\n",
       "      <td>в течение</td>\n",
       "      <td>[]</td>\n",
       "      <td>[]</td>\n",
       "    </tr>\n",
       "    <tr>\n",
       "      <th>3</th>\n",
       "      <td>3</td>\n",
       "      <td>for</td>\n",
       "      <td>в отношении</td>\n",
       "      <td>[]</td>\n",
       "      <td>[]</td>\n",
       "    </tr>\n",
       "    <tr>\n",
       "      <th>4</th>\n",
       "      <td>4</td>\n",
       "      <td>for</td>\n",
       "      <td>для целей</td>\n",
       "      <td>[]</td>\n",
       "      <td>[]</td>\n",
       "    </tr>\n",
       "  </tbody>\n",
       "</table>\n",
       "</div>"
      ],
      "text/plain": [
       "   Unnamed: 0 word   local_word  \\\n",
       "0           0  for          для   \n",
       "1           1  for         ради   \n",
       "2           2  for    в течение   \n",
       "3           3  for  в отношении   \n",
       "4           4  for    для целей   \n",
       "\n",
       "                                            examples  \\\n",
       "0  ['for the bank', 'for last month', 'for one ye...   \n",
       "1                                        ['for god']   \n",
       "2                                                 []   \n",
       "3                                                 []   \n",
       "4                                                 []   \n",
       "\n",
       "                                      local_examples  \n",
       "0  ['для банка', 'за последний месяц', 'на один г...  \n",
       "1                                      ['ради бога']  \n",
       "2                                                 []  \n",
       "3                                                 []  \n",
       "4                                                 []  "
      ]
     },
     "execution_count": 10,
     "metadata": {},
     "output_type": "execute_result"
    }
   ],
   "source": [
    "df_en_ru_yandex = pd.read_csv(\"/Users/nigula/LL/adjust_unigr_dict/lookup results/yandex_lookup_en_ru_lemmas_only.csv\")\n",
    "df_en_ru_yandex.head()"
   ]
  },
  {
   "cell_type": "code",
   "execution_count": null,
   "metadata": {},
   "outputs": [],
   "source": [
    "from french_lefff_lemmatizer.french_lefff_lemmatizer import FrenchLefffLemmatizer\n",
    "lemmatizer = FrenchLefffLemmatizer()"
   ]
  },
  {
   "cell_type": "code",
   "execution_count": 55,
   "metadata": {},
   "outputs": [],
   "source": [
    "from  sklearn.metrics.pairwise import cosine_similarity\n"
   ]
  },
  {
   "cell_type": "code",
   "execution_count": null,
   "metadata": {},
   "outputs": [],
   "source": [
    "fr_list = ['mère', 'maman', 'mère de famille', \n",
    "           'materner', 'Vierge', 'Mother', 'parents', 'femme', 'maternel', 'fils', 'Dame', 'Marie']"
   ]
  },
  {
   "cell_type": "code",
   "execution_count": 73,
   "metadata": {},
   "outputs": [],
   "source": [
    "def fr_lemmatize(word):\n",
    "    lemma = lemmatizer.lemmatize(word)\n",
    "    return lemma\n",
    "def preprocess_words(words_list, lemmatizer_func):\n",
    "    preprocessed_words = []\n",
    "    for word in words_list:\n",
    "        lemma = lemmatizer_func(word.lower())\n",
    "        #print(lemma)\n",
    "        preprocessed_words.append(lemma)\n",
    "    return preprocessed_words\n",
    "        "
   ]
  },
  {
   "cell_type": "code",
   "execution_count": 57,
   "metadata": {},
   "outputs": [
    {
     "data": {
      "text/plain": [
       "0.7859889672856126"
      ]
     },
     "execution_count": 57,
     "metadata": {},
     "output_type": "execute_result"
    }
   ],
   "source": [
    "l1 = \"maman\"\n",
    "l2 = 'mère de famille'\n",
    "\n",
    "def get_vectors_sum(lemm_line):\n",
    "    orig_vector = np.zeros(shape = 300)\n",
    "    for lemma in lemm_line:\n",
    "        try:\n",
    "            orig_vector += model[lemma]\n",
    "        except:\n",
    "            pass\n",
    "    return orig_vector\n",
    "\n",
    "def find_lines_similarity(line_1, line_2):\n",
    "    l1_vect = get_vectors_sum(line_1)\n",
    "    l2_vect = get_vectors_sum(line_2)\n",
    "    cos_sim = cosine_similarity(l1_vect.reshape(1, -1), l2_vect.reshape(1, -1))[0][0]\n",
    "    #print(cos_sim)\n",
    "    return cos_sim\n",
    "\n",
    "find_lines_similarity(l1, l2)    \n",
    "    "
   ]
  },
  {
   "cell_type": "code",
   "execution_count": 69,
   "metadata": {},
   "outputs": [
    {
     "data": {
      "text/plain": [
       "['mère', 'maman', 'mère de famille | merde']"
      ]
     },
     "execution_count": 69,
     "metadata": {},
     "output_type": "execute_result"
    }
   ],
   "source": [
    "def get_two_target_lang_lists_intersection(list_1, list_2):\n",
    "    overall_intersection = []\n",
    "    cos_sim_dict ={}\n",
    "    for word_1 in list_1:\n",
    "        for word_2 in list_2:\n",
    "            if word_1 == word_2:\n",
    "                #overall_intersection.append(word_1)\n",
    "                cos_sim_dict[word_1] = []\n",
    "    \n",
    "    handled_words = []\n",
    "    for word_1 in list_1:\n",
    "        for word_2 in list_2:\n",
    "            if word_1 != word_2 and word_1 not in handled_words and word_2 not in handled_words:\n",
    "                sim = find_lines_similarity(word_1, word_2)\n",
    "                if sim > 0.95:\n",
    "                    if word_1 in cos_sim_dict:\n",
    "                        handled_words.append(word_2)\n",
    "                        cos_sim_dict[word_1].append(word_2)\n",
    "                       # overall_intersection[word_1_index] += '| ' + word_2\n",
    "                    elif word_2 in cos_sim_dict:\n",
    "                        handled_words.append(word_1)\n",
    "                        cos_sim_dict[word_2].append(word_1)\n",
    "                    else:\n",
    "                        cos_sim_dict[word_1] = [word_2]\n",
    "                        #new_pair = word_1 + \" | \" + word_2\n",
    "                        #overall_intersection.append(new_pair)\n",
    "    #print(cos_sim_dict)\n",
    "    for first_word in cos_sim_dict.keys():\n",
    "        intersect_element = first_word\n",
    "        for similar_word in cos_sim_dict[first_word]:\n",
    "            intersect_element += \" | \" + similar_word\n",
    "        overall_intersection.append(intersect_element)\n",
    "    return overall_intersection\n",
    "\n",
    "fr_proc_1 = ['mère', 'maman', 'mère de famille', 'materner', \n",
    "             'vierge', 'mother', 'parent', 'femme', 'maternel', 'fil', 'dame', 'marie']\n",
    "fr_proc_2 = ['mère', 'maman', 'putain', 'merde', 'quoi', 'enfoiré', \n",
    "             'est-ce', 'dieu', 'bordel', 'connard', 'enculé']\n",
    "get_two_target_lang_lists_intersection(fr_proc_1, fr_proc_2)\n",
    "    \n",
    "                \n",
    "            "
   ]
  },
  {
   "cell_type": "code",
   "execution_count": 91,
   "metadata": {
    "scrolled": true
   },
   "outputs": [
    {
     "name": "stdout",
     "output_type": "stream",
     "text": [
      "https://context.reverso.net/перевод/английский-французский/warm\n",
      "['chaud', 'chaleureux', 'tiède', 'doux', 'bon', 'cordial', 'réchauffer', 'chauffer', 'échauffer', 'se réchauffer', 'tiédir', 'chaleur', 'accueil', 'chaleureusement', 'warm', 'accueillante', 'conviviale']\n",
      "https://context.reverso.net/перевод/русский-французский/согревать\n",
      "[]\n"
     ]
    },
    {
     "data": {
      "text/plain": [
       "['no_equality']"
      ]
     },
     "execution_count": 91,
     "metadata": {},
     "output_type": "execute_result"
    }
   ],
   "source": [
    "def get_cross_translate(word_lang_1, lang_1, word_lang_2, lang_2, target_lang, lemmatizer_func):\n",
    "    lang_1_to_target_words_list = get_definitions(word_lang_1, lang_1, target_lang, print_output=True)\n",
    "    lang_1_processed = preprocess_words(lang_1_to_target_words_list, lemmatizer_func)\n",
    "    print(lang_1_processed)\n",
    "    lang_2_to_target_words_list = get_definitions(word_lang_2, lang_2, target_lang, print_output=True)\n",
    "    lang_2_processed = preprocess_words(lang_2_to_target_words_list, lemmatizer_func)\n",
    "    print(lang_2_processed)\n",
    "    intersected_elements = get_two_target_lang_lists_intersection(lang_1_processed, lang_2_processed)\n",
    "    if len(intersected_elements) == 0:intersected_elements.append(\"no_equality\")\n",
    "    return intersected_elements\n",
    "\n",
    "get_cross_translate(\"warm\", \"английский\", \"согревать\",\"русский\", \"французский\", fr_lemmatize)\n",
    "    "
   ]
  },
  {
   "cell_type": "code",
   "execution_count": 104,
   "metadata": {},
   "outputs": [
    {
     "name": "stderr",
     "output_type": "stream",
     "text": [
      "\n",
      "\n",
      "  0%|          | 0/676 [00:00<?, ?it/s]\u001b[A\u001b[A"
     ]
    },
    {
     "name": "stdout",
     "output_type": "stream",
     "text": [
      "for для\n",
      "https://context.reverso.net/перевод/английский-французский/for\n",
      "['pour', 'pendant', 'car', 'malgré', 'au titre de', 'à destination de', 'de', 'à', 'aux', 'par', 'permettant', 'dans', 'destiné', 'depuis', 'au', 'que', 'en', 'sur', 'durant', 'moyennant', 'puisque']\n",
      "https://context.reverso.net/перевод/русский-французский/для\n"
     ]
    },
    {
     "name": "stderr",
     "output_type": "stream",
     "text": [
      "\n",
      "\n",
      "  0%|          | 1/676 [00:04<55:23,  4.92s/it]\u001b[A\u001b[A"
     ]
    },
    {
     "name": "stdout",
     "output_type": "stream",
     "text": [
      "['pour', 'qui', 'à', \"d'\", 'aux', 'afin', 'de', 'sur', 'dans', 'au', 'vue', 'en', 'par', \"c'\"]\n",
      "sense_intersect ['pour', 'de', 'à', 'aux', 'par', 'dans', 'au', 'en', 'sur', 'puisque | qui']\n",
      "for ради\n",
      "https://context.reverso.net/перевод/английский-французский/for\n",
      "['pour', 'pendant', 'car', 'malgré', 'au titre de', 'à destination de', 'de', 'à', 'aux', 'par', 'permettant', 'dans', 'destiné', 'depuis', 'au', 'que', 'en', 'sur', 'durant', 'moyennant', 'puisque']\n",
      "https://context.reverso.net/перевод/русский-французский/ради\n"
     ]
    },
    {
     "name": "stderr",
     "output_type": "stream",
     "text": [
      "\n",
      "\n",
      "  0%|          | 2/676 [00:09<55:17,  4.92s/it]\u001b[A\u001b[A"
     ]
    },
    {
     "name": "stdout",
     "output_type": "stream",
     "text": [
      "['pour', 'cause', 'au nom', 'pourquoi', 'amour', 'afin', 'intérêt', 'raison', 'propos', 'en vue', 'argent', 'but', 'faire', 'agit']\n",
      "sense_intersect ['pour | pourquoi', 'permettant | argent', 'durant | argent']\n",
      "for в течение\n",
      "https://context.reverso.net/перевод/английский-французский/for\n",
      "['pour', 'pendant', 'car', 'malgré', 'au titre de', 'à destination de', 'de', 'à', 'aux', 'par', 'permettant', 'dans', 'destiné', 'depuis', 'au', 'que', 'en', 'sur', 'durant', 'moyennant', 'puisque']\n",
      "https://context.reverso.net/перевод/русский-французский/в течение\n"
     ]
    },
    {
     "name": "stderr",
     "output_type": "stream",
     "text": [
      "\n",
      "\n",
      "  0%|          | 3/676 [00:15<56:21,  5.02s/it]\u001b[A\u001b[A"
     ]
    },
    {
     "name": "stdout",
     "output_type": "stream",
     "text": [
      "['pendant', 'dans le délai', 'au cours', 'durant', 'dans les', 'dans un délai', 'au fil', 'sur une période', 'pour une période', 'lors', 'par']\n",
      "sense_intersect ['pendant | à destination de | moyennant', 'par', 'durant', 'pour | pour une période', 'depuis | sur une période', 'puisque | sur une période']\n",
      "for в отношении\n",
      "https://context.reverso.net/перевод/английский-французский/for\n",
      "['pour', 'pendant', 'car', 'malgré', 'au titre de', 'à destination de', 'de', 'à', 'aux', 'par', 'permettant', 'dans', 'destiné', 'depuis', 'au', 'que', 'en', 'sur', 'durant', 'moyennant', 'puisque']\n",
      "https://context.reverso.net/перевод/русский-французский/в отношении\n"
     ]
    },
    {
     "name": "stderr",
     "output_type": "stream",
     "text": [
      "\n",
      "\n",
      "  1%|          | 4/676 [00:20<56:06,  5.01s/it]\u001b[A\u001b[A"
     ]
    },
    {
     "name": "stdout",
     "output_type": "stream",
     "text": [
      "[\"à l'égard\", 'en ce qui concerne', 'à propos', 'en vue', 'concernant', 'en matière', \"à l'encontre\", 'au sujet', \"s'agissant\", 'en faveur', 'quant à', 'au titre', 'dans le cas', 'quant au', 'dans le domaine']\n",
      "sense_intersect ['pendant | concernant', 'au titre de | en matière | au titre', \"à destination de | en matière | à l'encontre | dans le domaine\", 'durant | quant au', 'moyennant | concernant']\n",
      "for для целей\n",
      "https://context.reverso.net/перевод/английский-французский/for\n",
      "['pour', 'pendant', 'car', 'malgré', 'au titre de', 'à destination de', 'de', 'à', 'aux', 'par', 'permettant', 'dans', 'destiné', 'depuis', 'au', 'que', 'en', 'sur', 'durant', 'moyennant', 'puisque']\n",
      "https://context.reverso.net/перевод/русский-французский/для целей\n"
     ]
    },
    {
     "name": "stderr",
     "output_type": "stream",
     "text": [
      "\n",
      "\n",
      "  1%|          | 5/676 [00:25<56:26,  5.05s/it]\u001b[A\u001b[A"
     ]
    },
    {
     "name": "stdout",
     "output_type": "stream",
     "text": [
      "['pour', 'aux fins', 'à des fins', 'au service', 'en matière', 'vue', 'afin', \"à l'\", 'à la', 'dans le cadre', 'au sens', 'au titre']\n",
      "sense_intersect ['pour', 'au titre de | en matière | au titre', 'à destination de | en matière']\n",
      "for ибо\n",
      "https://context.reverso.net/перевод/английский-французский/for\n",
      "['pour', 'pendant', 'car', 'malgré', 'au titre de', 'à destination de', 'de', 'à', 'aux', 'par', 'permettant', 'dans', 'destiné', 'depuis', 'au', 'que', 'en', 'sur', 'durant', 'moyennant', 'puisque']\n",
      "https://context.reverso.net/перевод/русский-французский/ибо\n"
     ]
    },
    {
     "name": "stderr",
     "output_type": "stream",
     "text": [
      "\n",
      "\n",
      "  1%|          | 6/676 [00:30<55:53,  5.01s/it]\u001b[A\u001b[A"
     ]
    },
    {
     "name": "stdout",
     "output_type": "stream",
     "text": [
      "['car', \"parce qu'\", \"puisqu'\", 'parce que', 'puisque', 'mesure où']\n",
      "sense_intersect ['car', \"puisque | depuis | que | puisqu'\"]\n",
      "for чтобы\n",
      "https://context.reverso.net/перевод/английский-французский/for\n",
      "['pour', 'pendant', 'car', 'malgré', 'au titre de', 'à destination de', 'de', 'à', 'aux', 'par', 'permettant', 'dans', 'destiné', 'depuis', 'au', 'que', 'en', 'sur', 'durant', 'moyennant', 'puisque']\n",
      "https://context.reverso.net/перевод/русский-французский/чтобы\n"
     ]
    },
    {
     "name": "stderr",
     "output_type": "stream",
     "text": [
      "\n",
      "\n",
      "  1%|          | 7/676 [00:35<55:27,  4.97s/it]\u001b[A\u001b[A"
     ]
    },
    {
     "name": "stdout",
     "output_type": "stream",
     "text": [
      "['pour que', 'afin que', 'si', 'où', 'donc', 'juste', 'pour', 'pouvoir', 'manière', 'veux', 'avoir', 'vue', 'veut', 'but', 'venu']\n",
      "sense_intersect ['pour | pour que | pouvoir']\n",
      "cafe кофейня\n",
      "https://context.reverso.net/перевод/английский-французский/cafe\n",
      "['café', 'cafétéria', 'bar', 'cybercafé', 'café-bar', 'cyber-café']\n",
      "https://context.reverso.net/перевод/русский-французский/кофейня\n"
     ]
    },
    {
     "name": "stderr",
     "output_type": "stream",
     "text": [
      "\n",
      "\n",
      "  1%|          | 8/676 [00:39<54:54,  4.93s/it]\u001b[A\u001b[A"
     ]
    },
    {
     "name": "stdout",
     "output_type": "stream",
     "text": [
      "['café']\n",
      "sense_intersect ['café']\n",
      "cafe буфет\n",
      "https://context.reverso.net/перевод/английский-французский/cafe\n",
      "['café', 'cafétéria', 'bar', 'cybercafé', 'café-bar', 'cyber-café']\n",
      "https://context.reverso.net/перевод/русский-французский/буфет\n"
     ]
    },
    {
     "name": "stderr",
     "output_type": "stream",
     "text": [
      "\n",
      "\n",
      "  1%|▏         | 9/676 [00:44<54:42,  4.92s/it]\u001b[A\u001b[A"
     ]
    },
    {
     "name": "stdout",
     "output_type": "stream",
     "text": [
      "['buffet']\n",
      "sense_intersect ['no_equality']\n",
      "cafe кафе-ресторан\n",
      "https://context.reverso.net/перевод/английский-французский/cafe\n",
      "['café', 'cafétéria', 'bar', 'cybercafé', 'café-bar', 'cyber-café']\n",
      "https://context.reverso.net/перевод/русский-французский/кафе-ресторан\n"
     ]
    },
    {
     "name": "stderr",
     "output_type": "stream",
     "text": [
      "\n",
      "\n",
      "  1%|▏         | 10/676 [00:49<55:22,  4.99s/it]\u001b[A\u001b[A"
     ]
    },
    {
     "name": "stdout",
     "output_type": "stream",
     "text": [
      "['café', 'café', 'cafétéria', 'au restaurant', 'bar', 'restaurant', 'resto', 'restau', 'dîner']\n",
      "sense_intersect ['café', 'cafétéria', 'bar']\n",
      "follow следовать\n",
      "https://context.reverso.net/перевод/английский-французский/follow\n",
      "['suivre', 'respecter', 'poursuivre', 'prendre', 'appliquer', 'obéir', 'adopter', 'observer', 'se conformer', 'emprunter', 'imiter', 'accompagner', 'découler', 'succéder', 'faire suite', 'longer', \"s'ensuivre\", 'enchaîner', 'pratiquer', 'épouser', 'suivez-moi']\n",
      "https://context.reverso.net/перевод/русский-французский/следовать\n"
     ]
    },
    {
     "name": "stderr",
     "output_type": "stream",
     "text": [
      "\n",
      "\n",
      "  2%|▏         | 11/676 [00:54<54:58,  4.96s/it]\u001b[A\u001b[A"
     ]
    },
    {
     "name": "stdout",
     "output_type": "stream",
     "text": [
      "['suivre', 'respecter', 'poursuivre', 'appliquer', 'se conformer', 'obéir', 'adopter']\n",
      "sense_intersect [\"suivre | poursuivre | faire suite | s'ensuivre | suivez-moi\", 'respecter | se conformer | prendre | observer | emprunter', 'poursuivre', 'appliquer | pratiquer', 'obéir', 'adopter | accompagner', 'se conformer']\n",
      "follow следить\n",
      "https://context.reverso.net/перевод/английский-французский/follow\n",
      "['suivre', 'respecter', 'poursuivre', 'prendre', 'appliquer', 'obéir', 'adopter', 'observer', 'se conformer', 'emprunter', 'imiter', 'accompagner', 'découler', 'succéder', 'faire suite', 'longer', \"s'ensuivre\", 'enchaîner', 'pratiquer', 'épouser', 'suivez-moi']\n",
      "https://context.reverso.net/перевод/русский-французский/следить\n"
     ]
    },
    {
     "name": "stderr",
     "output_type": "stream",
     "text": [
      "\n",
      "\n",
      "  2%|▏         | 12/676 [01:00<57:06,  5.16s/it]\u001b[A\u001b[A"
     ]
    },
    {
     "name": "stdout",
     "output_type": "stream",
     "text": [
      "['suivre', 'surveiller', 'veiller', 'contrôler', 'superviser', 'regarder', 'vérifier', 'observer', 'faire attention', 'occuper', 'oeil']\n",
      "sense_intersect [\"suivre | surveiller | superviser | poursuivre | faire suite | s'ensuivre | suivez-moi\", 'observer | respecter | regarder', 'prendre | regarder', 'adopter | faire attention', 'se conformer | contrôler | observer | occuper', 'emprunter | contrôler', 'longer | contrôler', 'pratiquer | faire attention']\n",
      "follow соблюдать\n",
      "https://context.reverso.net/перевод/английский-французский/follow\n",
      "['suivre', 'respecter', 'poursuivre', 'prendre', 'appliquer', 'obéir', 'adopter', 'observer', 'se conformer', 'emprunter', 'imiter', 'accompagner', 'découler', 'succéder', 'faire suite', 'longer', \"s'ensuivre\", 'enchaîner', 'pratiquer', 'épouser', 'suivez-moi']\n",
      "https://context.reverso.net/перевод/русский-французский/соблюдать\n"
     ]
    },
    {
     "name": "stderr",
     "output_type": "stream",
     "text": [
      "\n",
      "\n",
      "  2%|▏         | 13/676 [01:05<56:15,  5.09s/it]\u001b[A\u001b[A"
     ]
    },
    {
     "name": "stdout",
     "output_type": "stream",
     "text": [
      "['respecter', 'appliquer', 'honorer', 'observer', 'suivre', 'se conformer à', 'satisfaire', 'maintenir', 'se conformer aux', 'se conformer au', 'respect']\n",
      "sense_intersect [\"suivre | poursuivre | faire suite | s'ensuivre | suivez-moi\", 'respecter | observer | se conformer à | respect | prendre | se conformer | emprunter', 'appliquer | pratiquer', 'observer', 'adopter | se conformer aux | se conformer au', 'imiter | maintenir', 'accompagner | se conformer aux', 'longer | honorer | se conformer aux']\n",
      "follow сопровождать\n",
      "https://context.reverso.net/перевод/английский-французский/follow\n",
      "['suivre', 'respecter', 'poursuivre', 'prendre', 'appliquer', 'obéir', 'adopter', 'observer', 'se conformer', 'emprunter', 'imiter', 'accompagner', 'découler', 'succéder', 'faire suite', 'longer', \"s'ensuivre\", 'enchaîner', 'pratiquer', 'épouser', 'suivez-moi']\n",
      "https://context.reverso.net/перевод/русский-французский/сопровождать\n"
     ]
    },
    {
     "name": "stderr",
     "output_type": "stream",
     "text": [
      "\n",
      "\n",
      "  2%|▏         | 14/676 [01:10<57:12,  5.18s/it]\u001b[A\u001b[A"
     ]
    },
    {
     "name": "stdout",
     "output_type": "stream",
     "text": [
      "['accompagner', 'escorter']\n",
      "sense_intersect ['accompagner | adopter | se conformer | enchaîner', 'respecter | escorter', 'observer | escorter']\n",
      "follow идти\n",
      "https://context.reverso.net/перевод/английский-французский/follow\n",
      "['suivre', 'respecter', 'poursuivre', 'prendre', 'appliquer', 'obéir', 'adopter', 'observer', 'se conformer', 'emprunter', 'imiter', 'accompagner', 'découler', 'succéder', 'faire suite', 'longer', \"s'ensuivre\", 'enchaîner', 'pratiquer', 'épouser', 'suivez-moi']\n",
      "https://context.reverso.net/перевод/русский-французский/идти\n"
     ]
    },
    {
     "name": "stderr",
     "output_type": "stream",
     "text": [
      "\n",
      "\n",
      "  2%|▏         | 15/676 [01:15<56:05,  5.09s/it]\u001b[A\u001b[A"
     ]
    },
    {
     "name": "stdout",
     "output_type": "stream",
     "text": [
      "['aller', 'partir', 'rentrer', 'marcher', 'suivre', 'venir', 'faire', 'sortir', 'continuer', 'prendre', 'passer', 'poursuivre', 'retourner', 'filer', 'entrer', 'y aille']\n",
      "sense_intersect [\"suivre | venir | poursuivre | faire suite | s'ensuivre | suivez-moi\", 'poursuivre', 'prendre', 'respecter | rentrer | prendre | retourner | entrer', 'observer | rentrer', 'se conformer | continuer', 'emprunter | rentrer | continuer', 'accompagner | marcher', 'pratiquer | partir']\n",
      "follow выполнять\n",
      "https://context.reverso.net/перевод/английский-французский/follow\n",
      "['suivre', 'respecter', 'poursuivre', 'prendre', 'appliquer', 'obéir', 'adopter', 'observer', 'se conformer', 'emprunter', 'imiter', 'accompagner', 'découler', 'succéder', 'faire suite', 'longer', \"s'ensuivre\", 'enchaîner', 'pratiquer', 'épouser', 'suivez-moi']\n",
      "https://context.reverso.net/перевод/русский-французский/выполнять\n"
     ]
    },
    {
     "name": "stderr",
     "output_type": "stream",
     "text": [
      "\n",
      "\n",
      "  2%|▏         | 16/676 [01:21<57:43,  5.25s/it]\u001b[A\u001b[A"
     ]
    },
    {
     "name": "stdout",
     "output_type": "stream",
     "text": [
      "[\"s'acquitter\", 'faire', 'assumer', 'respecter', 'remplir', 'appliquer', 'honorer', 'exercer', 'jouer', 'accomplir', 'exécuter', 'assurer', 'se conformer', 'tenir', 'mettre en œuvre', 'réaliser', 'satisfaire']\n",
      "sense_intersect ['respecter | exercer | exécuter | se conformer | mettre en œuvre | prendre | observer | emprunter', 'appliquer | remplir', 'se conformer', 'poursuivre | jouer', 'imiter | tenir', 'accompagner | accomplir', \"faire suite | s'acquitter | faire | tenir | satisfaire\", 'longer | honorer', \"pratiquer | s'acquitter | appliquer\"]\n",
      "follow вытекать\n",
      "https://context.reverso.net/перевод/английский-французский/follow\n",
      "['suivre', 'respecter', 'poursuivre', 'prendre', 'appliquer', 'obéir', 'adopter', 'observer', 'se conformer', 'emprunter', 'imiter', 'accompagner', 'découler', 'succéder', 'faire suite', 'longer', \"s'ensuivre\", 'enchaîner', 'pratiquer', 'épouser', 'suivez-moi']\n",
      "https://context.reverso.net/перевод/русский-французский/вытекать\n"
     ]
    },
    {
     "name": "stderr",
     "output_type": "stream",
     "text": [
      "\n",
      "\n",
      "  3%|▎         | 17/676 [01:26<56:32,  5.15s/it]\u001b[A\u001b[A"
     ]
    },
    {
     "name": "stdout",
     "output_type": "stream",
     "text": [
      "['découler']\n",
      "sense_intersect ['découler | succéder']\n",
      "follow далее следовать\n",
      "https://context.reverso.net/перевод/английский-французский/follow\n",
      "['suivre', 'respecter', 'poursuivre', 'prendre', 'appliquer', 'obéir', 'adopter', 'observer', 'se conformer', 'emprunter', 'imiter', 'accompagner', 'découler', 'succéder', 'faire suite', 'longer', \"s'ensuivre\", 'enchaîner', 'pratiquer', 'épouser', 'suivez-moi']\n",
      "https://context.reverso.net/перевод/русский-французский/далее следовать\n"
     ]
    },
    {
     "name": "stderr",
     "output_type": "stream",
     "text": [
      "\n",
      "\n",
      "  3%|▎         | 18/676 [01:31<55:54,  5.10s/it]\u001b[A\u001b[A"
     ]
    },
    {
     "name": "stdout",
     "output_type": "stream",
     "text": [
      "['en outre', 'également', 'ensuite', 'par ailleurs', 'aussi', 'suivre', 'respecter', 'poursuivre', 'appliquer', 'se conformer']\n",
      "sense_intersect ['suivre | poursuivre', 'respecter | se conformer | prendre | observer', 'poursuivre', 'appliquer | par ailleurs | pratiquer', 'se conformer', 'adopter | en outre', 'emprunter | en outre | respecter', 'faire suite | ensuite | suivre', 'longer | en outre', \"s'ensuivre | ensuite\"]\n",
      "follow повторять\n",
      "https://context.reverso.net/перевод/английский-французский/follow\n",
      "['suivre', 'respecter', 'poursuivre', 'prendre', 'appliquer', 'obéir', 'adopter', 'observer', 'se conformer', 'emprunter', 'imiter', 'accompagner', 'découler', 'succéder', 'faire suite', 'longer', \"s'ensuivre\", 'enchaîner', 'pratiquer', 'épouser', 'suivez-moi']\n",
      "https://context.reverso.net/перевод/русский-французский/повторять\n"
     ]
    },
    {
     "name": "stderr",
     "output_type": "stream",
     "text": [
      "\n",
      "\n",
      "  3%|▎         | 19/676 [01:36<55:04,  5.03s/it]\u001b[A\u001b[A"
     ]
    },
    {
     "name": "stdout",
     "output_type": "stream",
     "text": [
      "['répéter', 'foi']\n",
      "sense_intersect ['no_equality']\n",
      "follow последующий\n",
      "https://context.reverso.net/перевод/английский-французский/follow\n",
      "['suivre', 'respecter', 'poursuivre', 'prendre', 'appliquer', 'obéir', 'adopter', 'observer', 'se conformer', 'emprunter', 'imiter', 'accompagner', 'découler', 'succéder', 'faire suite', 'longer', \"s'ensuivre\", 'enchaîner', 'pratiquer', 'épouser', 'suivez-moi']\n",
      "https://context.reverso.net/перевод/русский-французский/последующий\n"
     ]
    },
    {
     "name": "stderr",
     "output_type": "stream",
     "text": [
      "\n",
      "\n",
      "  3%|▎         | 20/676 [01:41<54:56,  5.02s/it]\u001b[A\u001b[A"
     ]
    },
    {
     "name": "stdout",
     "output_type": "stream",
     "text": [
      "['suivant', 'ultérieur', 'suivi', 'ultérieurement']\n",
      "sense_intersect ['poursuivre | ultérieur | ultérieurement', 'pratiquer | ultérieur']\n",
      "warm теплый\n",
      "https://context.reverso.net/перевод/английский-французский/warm\n",
      "['chaud', 'chaleureux', 'tiède', 'doux', 'bon', 'cordial', 'réchauffer', 'chauffer', 'échauffer', 'se réchauffer', 'tiédir', 'chaleur', 'accueil', 'chaleureusement', 'warm', 'accueillante', 'conviviale']\n",
      "https://context.reverso.net/перевод/русский-французский/теплый\n"
     ]
    },
    {
     "name": "stderr",
     "output_type": "stream",
     "text": [
      "\n",
      "\n",
      "  3%|▎         | 21/676 [01:46<55:36,  5.09s/it]\u001b[A\u001b[A"
     ]
    },
    {
     "name": "stdout",
     "output_type": "stream",
     "text": [
      "['chaud', 'chaleureux']\n",
      "sense_intersect ['chaud', 'chaleureux | chauffer | se réchauffer | chaleur | accueil | chaleureusement | accueillante']\n",
      "warm сердечный\n",
      "https://context.reverso.net/перевод/английский-французский/warm\n",
      "['chaud', 'chaleureux', 'tiède', 'doux', 'bon', 'cordial', 'réchauffer', 'chauffer', 'échauffer', 'se réchauffer', 'tiédir', 'chaleur', 'accueil', 'chaleureusement', 'warm', 'accueillante', 'conviviale']\n",
      "https://context.reverso.net/перевод/русский-французский/сердечный\n"
     ]
    },
    {
     "name": "stderr",
     "output_type": "stream",
     "text": [
      "\n",
      "\n",
      "  3%|▎         | 22/676 [01:51<55:06,  5.06s/it]\u001b[A\u001b[A"
     ]
    },
    {
     "name": "stdout",
     "output_type": "stream",
     "text": [
      "['cardiaque']\n",
      "sense_intersect ['cordial | cardiaque', 'chaleur | cardiaque', 'accueil | cardiaque', 'accueillante | cardiaque']\n",
      "warm согревать\n",
      "https://context.reverso.net/перевод/английский-французский/warm\n",
      "['chaud', 'chaleureux', 'tiède', 'doux', 'bon', 'cordial', 'réchauffer', 'chauffer', 'échauffer', 'se réchauffer', 'tiédir', 'chaleur', 'accueil', 'chaleureusement', 'warm', 'accueillante', 'conviviale']\n",
      "https://context.reverso.net/перевод/русский-французский/согревать\n",
      "turn to alternative marks\n"
     ]
    },
    {
     "name": "stderr",
     "output_type": "stream",
     "text": [
      "\n",
      "\n",
      "  3%|▎         | 23/676 [01:56<54:06,  4.97s/it]\u001b[A\u001b[A"
     ]
    },
    {
     "name": "stdout",
     "output_type": "stream",
     "text": [
      "['réchauffer', 'chaud']\n",
      "sense_intersect ['chaud', 'réchauffer | chauffer | échauffer | se réchauffer | chaleur']\n",
      "warm погреться\n",
      "https://context.reverso.net/перевод/английский-французский/warm\n",
      "['chaud', 'chaleureux', 'tiède', 'doux', 'bon', 'cordial', 'réchauffer', 'chauffer', 'échauffer', 'se réchauffer', 'tiédir', 'chaleur', 'accueil', 'chaleureusement', 'warm', 'accueillante', 'conviviale']\n",
      "https://context.reverso.net/перевод/русский-французский/погреться\n",
      "turn to alternative marks\n"
     ]
    },
    {
     "name": "stderr",
     "output_type": "stream",
     "text": [
      "\n",
      "\n",
      "  4%|▎         | 24/676 [02:01<55:04,  5.07s/it]\u001b[A\u001b[A"
     ]
    },
    {
     "name": "stdout",
     "output_type": "stream",
     "text": [
      "['se réchauffer']\n",
      "sense_intersect ['se réchauffer | chaleureux | réchauffer | chauffer | échauffer | chaleur | chaleureusement']\n",
      "warm утеплить\n",
      "https://context.reverso.net/перевод/английский-французский/warm\n",
      "['chaud', 'chaleureux', 'tiède', 'doux', 'bon', 'cordial', 'réchauffer', 'chauffer', 'échauffer', 'se réchauffer', 'tiédir', 'chaleur', 'accueil', 'chaleureusement', 'warm', 'accueillante', 'conviviale']\n",
      "https://context.reverso.net/перевод/русский-французский/утеплить\n",
      "turn to alternative marks\n"
     ]
    },
    {
     "name": "stderr",
     "output_type": "stream",
     "text": [
      "\n",
      "\n",
      "  4%|▎         | 25/676 [02:06<54:20,  5.01s/it]\u001b[A\u001b[A"
     ]
    },
    {
     "name": "stdout",
     "output_type": "stream",
     "text": [
      "[]\n",
      "sense_intersect ['no_equality']\n",
      "warm тепло\n",
      "https://context.reverso.net/перевод/английский-французский/warm\n",
      "['chaud', 'chaleureux', 'tiède', 'doux', 'bon', 'cordial', 'réchauffer', 'chauffer', 'échauffer', 'se réchauffer', 'tiédir', 'chaleur', 'accueil', 'chaleureusement', 'warm', 'accueillante', 'conviviale']\n",
      "https://context.reverso.net/перевод/русский-французский/тепло\n"
     ]
    },
    {
     "name": "stderr",
     "output_type": "stream",
     "text": [
      "\n",
      "\n",
      "  4%|▍         | 26/676 [02:10<53:37,  4.95s/it]\u001b[A\u001b[A"
     ]
    },
    {
     "name": "stdout",
     "output_type": "stream",
     "text": [
      "['chaleur', 'chaud', 'chaleureusement', 'vivement', 'chaleureux']\n",
      "sense_intersect ['chaud', 'chaleureux | chaleur | chaleureusement | chauffer | se réchauffer | accueil | accueillante', 'chaleur', 'chaleureusement', 'conviviale | vivement']\n",
      "warm разминка\n",
      "https://context.reverso.net/перевод/английский-французский/warm\n",
      "['chaud', 'chaleureux', 'tiède', 'doux', 'bon', 'cordial', 'réchauffer', 'chauffer', 'échauffer', 'se réchauffer', 'tiédir', 'chaleur', 'accueil', 'chaleureusement', 'warm', 'accueillante', 'conviviale']\n",
      "https://context.reverso.net/перевод/русский-французский/разминка\n",
      "turn to alternative marks\n"
     ]
    },
    {
     "name": "stderr",
     "output_type": "stream",
     "text": [
      "\n",
      "\n",
      "  4%|▍         | 27/676 [02:15<53:31,  4.95s/it]\u001b[A\u001b[A"
     ]
    },
    {
     "name": "stdout",
     "output_type": "stream",
     "text": [
      "['échauffement', \"occupe l'\", 'un exercice', 'pré-saison', 'entrainement']\n",
      "sense_intersect ['chaleureux | un exercice', 'réchauffer | échauffement', 'chauffer | échauffement', 'échauffer | échauffement', 'se réchauffer | échauffement', \"accueil | occupe l' | un exercice\", 'chaleureusement | échauffement | entrainement']\n",
      "collide сталкиваться\n",
      "https://context.reverso.net/перевод/английский-французский/collide\n",
      "['entrer en collision', 'heurter', 'se heurtent', \"s'entrechoquent\", 'se rencontrent']\n",
      "https://context.reverso.net/перевод/русский-французский/сталкиваться\n"
     ]
    },
    {
     "name": "stderr",
     "output_type": "stream",
     "text": [
      "\n",
      "\n",
      "  4%|▍         | 28/676 [02:20<53:15,  4.93s/it]\u001b[A\u001b[A"
     ]
    },
    {
     "name": "stdout",
     "output_type": "stream",
     "text": [
      "['rencontrer', 'se heurter', 'confrontés', 'faire face', 'avoir']\n",
      "sense_intersect ['entrer en collision | rencontrer', 'heurter | rencontrer | se heurter', 'se heurtent | rencontrer', \"s'entrechoquent | rencontrer | confrontés\", 'se rencontrent | rencontrer']\n",
      "collide конфликтовать\n",
      "https://context.reverso.net/перевод/английский-французский/collide\n",
      "['entrer en collision', 'heurter', 'se heurtent', \"s'entrechoquent\", 'se rencontrent']\n",
      "https://context.reverso.net/перевод/русский-французский/конфликтовать\n",
      "turn to alternative marks\n"
     ]
    },
    {
     "name": "stderr",
     "output_type": "stream",
     "text": [
      "\n",
      "\n",
      "  4%|▍         | 29/676 [02:26<54:00,  5.01s/it]\u001b[A\u001b[A"
     ]
    },
    {
     "name": "stdout",
     "output_type": "stream",
     "text": [
      "[\"éveiller l'hostilité\"]\n",
      "sense_intersect ['no_equality']\n",
      "collide наехать\n",
      "https://context.reverso.net/перевод/английский-французский/collide\n",
      "['entrer en collision', 'heurter', 'se heurtent', \"s'entrechoquent\", 'se rencontrent']\n",
      "https://context.reverso.net/перевод/русский-французский/наехать\n",
      "turn to alternative marks\n"
     ]
    },
    {
     "name": "stderr",
     "output_type": "stream",
     "text": [
      "\n",
      "\n",
      "  4%|▍         | 30/676 [02:30<53:41,  4.99s/it]\u001b[A\u001b[A"
     ]
    },
    {
     "name": "stdout",
     "output_type": "stream",
     "text": [
      "['tomberont dessus']\n",
      "sense_intersect ['se heurtent | tomberont dessus', \"s'entrechoquent | tomberont dessus\", 'se rencontrent | tomberont dessus']\n",
      "collide соударяться\n",
      "https://context.reverso.net/перевод/английский-французский/collide\n",
      "['entrer en collision', 'heurter', 'se heurtent', \"s'entrechoquent\", 'se rencontrent']\n",
      "https://context.reverso.net/перевод/русский-французский/соударяться\n",
      "turn to alternative marks\n"
     ]
    },
    {
     "name": "stderr",
     "output_type": "stream",
     "text": [
      "\n",
      "\n",
      "  5%|▍         | 31/676 [02:35<53:39,  4.99s/it]\u001b[A\u001b[A"
     ]
    },
    {
     "name": "stdout",
     "output_type": "stream",
     "text": [
      "[]\n",
      "sense_intersect ['no_equality']\n",
      "collide в конфликт\n",
      "https://context.reverso.net/перевод/английский-французский/collide\n",
      "['entrer en collision', 'heurter', 'se heurtent', \"s'entrechoquent\", 'se rencontrent']\n",
      "https://context.reverso.net/перевод/русский-французский/в конфликт\n"
     ]
    },
    {
     "name": "stderr",
     "output_type": "stream",
     "text": [
      "\n",
      "\n",
      "  5%|▍         | 32/676 [02:41<53:54,  5.02s/it]\u001b[A\u001b[A"
     ]
    },
    {
     "name": "stdout",
     "output_type": "stream",
     "text": [
      "['en conflit', 'dans le conflit', 'au conflit']\n",
      "sense_intersect ['entrer en collision | en conflit | dans le conflit | au conflit', \"s'entrechoquent | en conflit\", 'se rencontrent | en conflit']\n",
      "break ломать\n",
      "https://context.reverso.net/перевод/английский-французский/break\n",
      "['briser', 'casser', 'rompre', 'sortir', 'enfreindre', 'percer', 'violer', 'arrêter', 'pause', 'rupture', 'break', 'vacance', 'interruption', 'chance', 'rompu', 'coupure', 'repos', 'cassure', 'fracture', 'échappée', 'se briser', 'se casser', 'se rompre', 'péter', 'relâche']\n",
      "https://context.reverso.net/перевод/русский-французский/ломать\n"
     ]
    },
    {
     "name": "stderr",
     "output_type": "stream",
     "text": [
      "\n",
      "\n",
      "  5%|▍         | 33/676 [02:45<53:33,  5.00s/it]\u001b[A\u001b[A"
     ]
    },
    {
     "name": "stdout",
     "output_type": "stream",
     "text": [
      "['casser', 'briser']\n",
      "sense_intersect ['briser | se briser', 'casser | cassure | se casser']\n",
      "break нарушать\n",
      "https://context.reverso.net/перевод/английский-французский/break\n",
      "['briser', 'casser', 'rompre', 'sortir', 'enfreindre', 'percer', 'violer', 'arrêter', 'pause', 'rupture', 'break', 'vacance', 'interruption', 'chance', 'rompu', 'coupure', 'repos', 'cassure', 'fracture', 'échappée', 'se briser', 'se casser', 'se rompre', 'péter', 'relâche']\n",
      "https://context.reverso.net/перевод/русский-французский/нарушать\n"
     ]
    },
    {
     "name": "stderr",
     "output_type": "stream",
     "text": [
      "\n",
      "\n",
      "  5%|▌         | 34/676 [02:50<53:11,  4.97s/it]\u001b[A\u001b[A"
     ]
    },
    {
     "name": "stdout",
     "output_type": "stream",
     "text": [
      "['violer', 'enfreindre', 'briser']\n",
      "sense_intersect ['briser | se briser', 'enfreindre', 'violer']\n",
      "break разбивать\n",
      "https://context.reverso.net/перевод/английский-французский/break\n",
      "['briser', 'casser', 'rompre', 'sortir', 'enfreindre', 'percer', 'violer', 'arrêter', 'pause', 'rupture', 'break', 'vacance', 'interruption', 'chance', 'rompu', 'coupure', 'repos', 'cassure', 'fracture', 'échappée', 'se briser', 'se casser', 'se rompre', 'péter', 'relâche']\n",
      "https://context.reverso.net/перевод/русский-французский/разбивать\n"
     ]
    },
    {
     "name": "stderr",
     "output_type": "stream",
     "text": [
      "\n",
      "\n",
      "  5%|▌         | 35/676 [02:55<52:54,  4.95s/it]\u001b[A\u001b[A"
     ]
    },
    {
     "name": "stdout",
     "output_type": "stream",
     "text": [
      "['briser', 'casser']\n",
      "sense_intersect ['briser | se briser', 'casser | cassure | se casser']\n",
      "break разорвать\n",
      "https://context.reverso.net/перевод/английский-французский/break\n",
      "['briser', 'casser', 'rompre', 'sortir', 'enfreindre', 'percer', 'violer', 'arrêter', 'pause', 'rupture', 'break', 'vacance', 'interruption', 'chance', 'rompu', 'coupure', 'repos', 'cassure', 'fracture', 'échappée', 'se briser', 'se casser', 'se rompre', 'péter', 'relâche']\n",
      "https://context.reverso.net/перевод/русский-французский/разорвать\n"
     ]
    },
    {
     "name": "stderr",
     "output_type": "stream",
     "text": [
      "\n",
      "\n",
      "  5%|▌         | 36/676 [03:00<52:43,  4.94s/it]\u001b[A\u001b[A"
     ]
    },
    {
     "name": "stdout",
     "output_type": "stream",
     "text": [
      "['briser', 'rompre', 'déchirer', 'sortir']\n",
      "sense_intersect ['briser | se briser', 'rompre | percer | rompu | repos | se rompre', 'sortir | interruption']\n",
      "break прорваться\n",
      "https://context.reverso.net/перевод/английский-французский/break\n",
      "['briser', 'casser', 'rompre', 'sortir', 'enfreindre', 'percer', 'violer', 'arrêter', 'pause', 'rupture', 'break', 'vacance', 'interruption', 'chance', 'rompu', 'coupure', 'repos', 'cassure', 'fracture', 'échappée', 'se briser', 'se casser', 'se rompre', 'péter', 'relâche']\n",
      "https://context.reverso.net/перевод/русский-французский/прорваться\n",
      "turn to alternative marks\n"
     ]
    },
    {
     "name": "stderr",
     "output_type": "stream",
     "text": [
      "\n",
      "\n",
      "  5%|▌         | 37/676 [03:06<55:41,  5.23s/it]\u001b[A\u001b[A"
     ]
    },
    {
     "name": "stdout",
     "output_type": "stream",
     "text": [
      "['percer', 'traverser', 'forcer', 'retraverser']\n",
      "sense_intersect ['percer | rompre | forcer | se rompre | relâche', 'briser | traverser | retraverser', 'arrêter | traverser', 'fracture | traverser', 'se briser | traverser']\n",
      "break разрушить\n",
      "https://context.reverso.net/перевод/английский-французский/break\n",
      "['briser', 'casser', 'rompre', 'sortir', 'enfreindre', 'percer', 'violer', 'arrêter', 'pause', 'rupture', 'break', 'vacance', 'interruption', 'chance', 'rompu', 'coupure', 'repos', 'cassure', 'fracture', 'échappée', 'se briser', 'se casser', 'se rompre', 'péter', 'relâche']\n",
      "https://context.reverso.net/перевод/русский-французский/разрушить\n"
     ]
    },
    {
     "name": "stderr",
     "output_type": "stream",
     "text": [
      "\n",
      "\n",
      "  6%|▌         | 38/676 [03:11<54:49,  5.16s/it]\u001b[A\u001b[A"
     ]
    },
    {
     "name": "stdout",
     "output_type": "stream",
     "text": [
      "['détruire', 'ruiner', 'briser', 'gâcher', 'anéantir', 'rompre', 'démolir']\n",
      "sense_intersect ['briser | ruiner | se briser', 'rompre | percer | rompu | repos | se rompre', 'rupture | détruire', 'relâche | gâcher']\n",
      "break вырваться\n",
      "https://context.reverso.net/перевод/английский-французский/break\n",
      "['briser', 'casser', 'rompre', 'sortir', 'enfreindre', 'percer', 'violer', 'arrêter', 'pause', 'rupture', 'break', 'vacance', 'interruption', 'chance', 'rompu', 'coupure', 'repos', 'cassure', 'fracture', 'échappée', 'se briser', 'se casser', 'se rompre', 'péter', 'relâche']\n",
      "https://context.reverso.net/перевод/русский-французский/вырваться\n"
     ]
    },
    {
     "name": "stderr",
     "output_type": "stream",
     "text": [
      "\n",
      "\n",
      "  6%|▌         | 39/676 [03:16<53:58,  5.08s/it]\u001b[A\u001b[A"
     ]
    },
    {
     "name": "stdout",
     "output_type": "stream",
     "text": [
      "['sortir', 'échapper', 'rompre']\n",
      "sense_intersect ['rompre | percer | rompu | repos | se rompre', 'sortir | interruption', 'échappée | échapper']\n",
      "break разбиться\n",
      "https://context.reverso.net/перевод/английский-французский/break\n",
      "['briser', 'casser', 'rompre', 'sortir', 'enfreindre', 'percer', 'violer', 'arrêter', 'pause', 'rupture', 'break', 'vacance', 'interruption', 'chance', 'rompu', 'coupure', 'repos', 'cassure', 'fracture', 'échappée', 'se briser', 'se casser', 'se rompre', 'péter', 'relâche']\n",
      "https://context.reverso.net/перевод/русский-французский/разбиться\n",
      "turn to alternative marks\n"
     ]
    },
    {
     "name": "stderr",
     "output_type": "stream",
     "text": [
      "\n",
      "\n",
      "  6%|▌         | 40/676 [03:21<53:25,  5.04s/it]\u001b[A\u001b[A"
     ]
    },
    {
     "name": "stdout",
     "output_type": "stream",
     "text": [
      "[\"s'écraser\", 'se crasher', \"t'écraser\", 'te tuer']\n",
      "sense_intersect [\"casser | s'écraser | se crasher\", 'rupture | te tuer', \"cassure | s'écraser\", 'fracture | te tuer']\n",
      "break разразиться\n",
      "https://context.reverso.net/перевод/английский-французский/break\n",
      "['briser', 'casser', 'rompre', 'sortir', 'enfreindre', 'percer', 'violer', 'arrêter', 'pause', 'rupture', 'break', 'vacance', 'interruption', 'chance', 'rompu', 'coupure', 'repos', 'cassure', 'fracture', 'échappée', 'se briser', 'se casser', 'se rompre', 'péter', 'relâche']\n",
      "https://context.reverso.net/перевод/русский-французский/разразиться\n",
      "turn to alternative marks\n"
     ]
    },
    {
     "name": "stderr",
     "output_type": "stream",
     "text": [
      "\n",
      "\n",
      "  6%|▌         | 41/676 [03:26<54:11,  5.12s/it]\u001b[A\u001b[A"
     ]
    },
    {
     "name": "stdout",
     "output_type": "stream",
     "text": [
      "[]\n",
      "sense_intersect ['no_equality']\n",
      "break пробить\n",
      "https://context.reverso.net/перевод/английский-французский/break\n",
      "['briser', 'casser', 'rompre', 'sortir', 'enfreindre', 'percer', 'violer', 'arrêter', 'pause', 'rupture', 'break', 'vacance', 'interruption', 'chance', 'rompu', 'coupure', 'repos', 'cassure', 'fracture', 'échappée', 'se briser', 'se casser', 'se rompre', 'péter', 'relâche']\n",
      "https://context.reverso.net/перевод/русский-французский/пробить\n",
      "turn to alternative marks\n"
     ]
    },
    {
     "name": "stderr",
     "output_type": "stream",
     "text": [
      "\n",
      "\n",
      "  6%|▌         | 42/676 [03:31<53:32,  5.07s/it]\u001b[A\u001b[A"
     ]
    },
    {
     "name": "stdout",
     "output_type": "stream",
     "text": [
      "['percer', 'pénétrer', 'perforer', 'transpercer', 'tracer', 'brèche', 'frapper', 'immatriculation', 'briser', 'coque']\n",
      "sense_intersect ['briser | se briser', 'percer | rompre | perforer | tracer | frapper | se rompre | relâche', 'enfreindre | perforer | transpercer', 'interruption | immatriculation', 'coupure | coque', 'péter | pénétrer']\n",
      "break преодолеть\n",
      "https://context.reverso.net/перевод/английский-французский/break\n",
      "['briser', 'casser', 'rompre', 'sortir', 'enfreindre', 'percer', 'violer', 'arrêter', 'pause', 'rupture', 'break', 'vacance', 'interruption', 'chance', 'rompu', 'coupure', 'repos', 'cassure', 'fracture', 'échappée', 'se briser', 'se casser', 'se rompre', 'péter', 'relâche']\n",
      "https://context.reverso.net/перевод/русский-французский/преодолеть\n"
     ]
    },
    {
     "name": "stderr",
     "output_type": "stream",
     "text": [
      "\n",
      "\n",
      "  6%|▋         | 43/676 [03:36<53:24,  5.06s/it]\u001b[A\u001b[A"
     ]
    },
    {
     "name": "stdout",
     "output_type": "stream",
     "text": [
      "['surmonter', 'sortir', 'combler', 'vaincre', 'dépasser', 'résoudre', 'relever', 'réduire', 'franchir', 'venir à bout', 'éliminer', 'transcender', 'remédier à', 'combattre', 'aplanir']\n",
      "sense_intersect ['sortir | surmonter | interruption', 'rompre | surmonter | combler', 'enfreindre | transcender', 'percer | relever', 'fracture | franchir | combattre']\n",
      "break отколоться\n",
      "https://context.reverso.net/перевод/английский-французский/break\n",
      "['briser', 'casser', 'rompre', 'sortir', 'enfreindre', 'percer', 'violer', 'arrêter', 'pause', 'rupture', 'break', 'vacance', 'interruption', 'chance', 'rompu', 'coupure', 'repos', 'cassure', 'fracture', 'échappée', 'se briser', 'se casser', 'se rompre', 'péter', 'relâche']\n",
      "https://context.reverso.net/перевод/русский-французский/отколоться\n",
      "turn to alternative marks\n"
     ]
    },
    {
     "name": "stderr",
     "output_type": "stream",
     "text": [
      "\n",
      "\n",
      "  7%|▋         | 44/676 [03:41<52:38,  5.00s/it]\u001b[A\u001b[A"
     ]
    },
    {
     "name": "stdout",
     "output_type": "stream",
     "text": [
      "[]\n",
      "sense_intersect ['no_equality']\n",
      "break вырывать\n",
      "https://context.reverso.net/перевод/английский-французский/break\n",
      "['briser', 'casser', 'rompre', 'sortir', 'enfreindre', 'percer', 'violer', 'arrêter', 'pause', 'rupture', 'break', 'vacance', 'interruption', 'chance', 'rompu', 'coupure', 'repos', 'cassure', 'fracture', 'échappée', 'se briser', 'se casser', 'se rompre', 'péter', 'relâche']\n",
      "https://context.reverso.net/перевод/русский-французский/вырывать\n",
      "turn to alternative marks\n"
     ]
    },
    {
     "name": "stderr",
     "output_type": "stream",
     "text": [
      "\n",
      "\n",
      "  7%|▋         | 45/676 [03:46<52:43,  5.01s/it]\u001b[A\u001b[A"
     ]
    },
    {
     "name": "stdout",
     "output_type": "stream",
     "text": [
      "['arracher']\n",
      "sense_intersect ['arrêter | arracher', 'fracture | arracher']\n",
      "break преломлять\n",
      "https://context.reverso.net/перевод/английский-французский/break\n",
      "['briser', 'casser', 'rompre', 'sortir', 'enfreindre', 'percer', 'violer', 'arrêter', 'pause', 'rupture', 'break', 'vacance', 'interruption', 'chance', 'rompu', 'coupure', 'repos', 'cassure', 'fracture', 'échappée', 'se briser', 'se casser', 'se rompre', 'péter', 'relâche']\n",
      "https://context.reverso.net/перевод/русский-французский/преломлять\n",
      "turn to alternative marks\n"
     ]
    },
    {
     "name": "stderr",
     "output_type": "stream",
     "text": [
      "\n",
      "\n",
      "  7%|▋         | 46/676 [03:51<51:52,  4.94s/it]\u001b[A\u001b[A"
     ]
    },
    {
     "name": "stdout",
     "output_type": "stream",
     "text": [
      "[]\n",
      "sense_intersect ['no_equality']\n",
      "break перерыв\n",
      "https://context.reverso.net/перевод/английский-французский/break\n",
      "['briser', 'casser', 'rompre', 'sortir', 'enfreindre', 'percer', 'violer', 'arrêter', 'pause', 'rupture', 'break', 'vacance', 'interruption', 'chance', 'rompu', 'coupure', 'repos', 'cassure', 'fracture', 'échappée', 'se briser', 'se casser', 'se rompre', 'péter', 'relâche']\n",
      "https://context.reverso.net/перевод/русский-французский/перерыв\n"
     ]
    },
    {
     "name": "stderr",
     "output_type": "stream",
     "text": [
      "\n",
      "\n",
      "  7%|▋         | 47/676 [03:56<51:28,  4.91s/it]\u001b[A\u001b[A"
     ]
    },
    {
     "name": "stdout",
     "output_type": "stream",
     "text": [
      "['pause', 'suspension', 'interruption', 'break', 'suspendue']\n",
      "sense_intersect ['pause | suspendue', 'break', 'interruption | sortir | rupture']\n",
      "break разрыв\n",
      "https://context.reverso.net/перевод/английский-французский/break\n",
      "['briser', 'casser', 'rompre', 'sortir', 'enfreindre', 'percer', 'violer', 'arrêter', 'pause', 'rupture', 'break', 'vacance', 'interruption', 'chance', 'rompu', 'coupure', 'repos', 'cassure', 'fracture', 'échappée', 'se briser', 'se casser', 'se rompre', 'péter', 'relâche']\n",
      "https://context.reverso.net/перевод/русский-французский/разрыв\n"
     ]
    },
    {
     "name": "stderr",
     "output_type": "stream",
     "text": [
      "\n",
      "\n",
      "  7%|▋         | 48/676 [04:01<51:17,  4.90s/it]\u001b[A\u001b[A"
     ]
    },
    {
     "name": "stdout",
     "output_type": "stream",
     "text": [
      "['écart', 'fossé', 'rupture', 'décalage', 'différence', 'fracture', 'disparité', 'déchirure', 'les disparités']\n",
      "sense_intersect ['rupture | fracture | interruption | coupure', 'fracture | arrêter', 'enfreindre | différence']\n",
      "break пролом\n",
      "https://context.reverso.net/перевод/английский-французский/break\n",
      "['briser', 'casser', 'rompre', 'sortir', 'enfreindre', 'percer', 'violer', 'arrêter', 'pause', 'rupture', 'break', 'vacance', 'interruption', 'chance', 'rompu', 'coupure', 'repos', 'cassure', 'fracture', 'échappée', 'se briser', 'se casser', 'se rompre', 'péter', 'relâche']\n",
      "https://context.reverso.net/перевод/русский-французский/пролом\n",
      "turn to alternative marks\n"
     ]
    },
    {
     "name": "stderr",
     "output_type": "stream",
     "text": [
      "\n",
      "\n",
      "  7%|▋         | 49/676 [04:06<51:17,  4.91s/it]\u001b[A\u001b[A"
     ]
    },
    {
     "name": "stdout",
     "output_type": "stream",
     "text": [
      "['brèche']\n",
      "sense_intersect ['relâche | brèche']\n",
      "break каникулы\n",
      "https://context.reverso.net/перевод/английский-французский/break\n",
      "['briser', 'casser', 'rompre', 'sortir', 'enfreindre', 'percer', 'violer', 'arrêter', 'pause', 'rupture', 'break', 'vacance', 'interruption', 'chance', 'rompu', 'coupure', 'repos', 'cassure', 'fracture', 'échappée', 'se briser', 'se casser', 'se rompre', 'péter', 'relâche']\n",
      "https://context.reverso.net/перевод/русский-французский/каникулы\n"
     ]
    },
    {
     "name": "stderr",
     "output_type": "stream",
     "text": [
      "\n",
      "\n",
      "  7%|▋         | 50/676 [04:11<52:51,  5.07s/it]\u001b[A\u001b[A"
     ]
    },
    {
     "name": "stdout",
     "output_type": "stream",
     "text": [
      "['vacance']\n",
      "sense_intersect ['vacance | chance']\n",
      "break передышка\n",
      "https://context.reverso.net/перевод/английский-французский/break\n",
      "['briser', 'casser', 'rompre', 'sortir', 'enfreindre', 'percer', 'violer', 'arrêter', 'pause', 'rupture', 'break', 'vacance', 'interruption', 'chance', 'rompu', 'coupure', 'repos', 'cassure', 'fracture', 'échappée', 'se briser', 'se casser', 'se rompre', 'péter', 'relâche']\n",
      "https://context.reverso.net/перевод/русский-французский/передышка\n",
      "turn to alternative marks\n"
     ]
    },
    {
     "name": "stderr",
     "output_type": "stream",
     "text": [
      "\n",
      "\n",
      "  8%|▊         | 51/676 [04:16<52:23,  5.03s/it]\u001b[A\u001b[A"
     ]
    },
    {
     "name": "stdout",
     "output_type": "stream",
     "text": [
      "['répit', \"d'une pause\", 'faire une pause', 'du retard']\n",
      "sense_intersect ['enfreindre | faire une pause', \"pause | d'une pause | faire une pause\", 'fracture | du retard', 'péter | répit']\n",
      "tiger тигр\n",
      "https://context.reverso.net/перевод/английский-французский/tiger\n",
      "['tigre', 'tigresse', 'tigrée', 'tiger', 'souchet']\n",
      "https://context.reverso.net/перевод/русский-французский/тигр\n"
     ]
    },
    {
     "name": "stderr",
     "output_type": "stream",
     "text": [
      "\n",
      "\n",
      "  8%|▊         | 52/676 [04:21<51:53,  4.99s/it]\u001b[A\u001b[A"
     ]
    },
    {
     "name": "stdout",
     "output_type": "stream",
     "text": [
      "['tigre', 'tiger']\n",
      "sense_intersect ['tigre | tiger | tigrée', 'tiger']\n",
      "tiger зверь\n",
      "https://context.reverso.net/перевод/английский-французский/tiger\n",
      "['tigre', 'tigresse', 'tigrée', 'tiger', 'souchet']\n",
      "https://context.reverso.net/перевод/русский-французский/зверь\n"
     ]
    },
    {
     "name": "stderr",
     "output_type": "stream",
     "text": [
      "\n",
      "\n",
      "  8%|▊         | 53/676 [04:26<52:40,  5.07s/it]\u001b[A\u001b[A"
     ]
    },
    {
     "name": "stdout",
     "output_type": "stream",
     "text": [
      "['bête', 'animal', 'monstre']\n",
      "sense_intersect ['no_equality']\n",
      "tiger тигриный\n",
      "https://context.reverso.net/перевод/английский-французский/tiger\n",
      "['tigre', 'tigresse', 'tigrée', 'tiger', 'souchet']\n",
      "https://context.reverso.net/перевод/русский-французский/тигриный\n",
      "turn to alternative marks\n"
     ]
    },
    {
     "name": "stderr",
     "output_type": "stream",
     "text": [
      "\n",
      "\n",
      "  8%|▊         | 54/676 [04:31<51:38,  4.98s/it]\u001b[A\u001b[A"
     ]
    },
    {
     "name": "stdout",
     "output_type": "stream",
     "text": [
      "[]\n",
      "sense_intersect ['no_equality']\n",
      "lion лев\n",
      "https://context.reverso.net/перевод/английский-французский/lion\n",
      "['lion', 'lion', 'lev', 'otarie', 'lionceau', 'couguar', 'dompteur']\n",
      "https://context.reverso.net/перевод/русский-французский/лев\n"
     ]
    },
    {
     "name": "stderr",
     "output_type": "stream",
     "text": [
      "\n",
      "\n",
      "  8%|▊         | 55/676 [04:36<50:58,  4.92s/it]\u001b[A\u001b[A"
     ]
    },
    {
     "name": "stdout",
     "output_type": "stream",
     "text": [
      "['lion', 'lev', 'léon']\n",
      "sense_intersect ['lion', 'lev']\n",
      "lion львиный\n",
      "https://context.reverso.net/перевод/английский-французский/lion\n",
      "['lion', 'lion', 'lev', 'otarie', 'lionceau', 'couguar', 'dompteur']\n",
      "https://context.reverso.net/перевод/русский-французский/львиный\n",
      "turn to alternative marks\n"
     ]
    },
    {
     "name": "stderr",
     "output_type": "stream",
     "text": [
      "\n",
      "\n",
      "  8%|▊         | 56/676 [04:40<50:24,  4.88s/it]\u001b[A\u001b[A"
     ]
    },
    {
     "name": "stdout",
     "output_type": "stream",
     "text": [
      "[]\n",
      "sense_intersect ['no_equality']\n",
      "background фон\n",
      "https://context.reverso.net/перевод/английский-французский/background\n",
      "['fond', 'contexte', 'arrière-plan', 'information', 'antécédent', 'origine', 'historique', 'référence', 'de fond', 'arrière plan', 'formation', 'expérience', 'milieu', 'passé', 'travail', 'background', 'histoire', 'second plan', 'arrière-fond', \"fond d'écran\"]\n",
      "https://context.reverso.net/перевод/русский-французский/фон\n"
     ]
    },
    {
     "name": "stderr",
     "output_type": "stream",
     "text": [
      "\n",
      "\n",
      "  8%|▊         | 57/676 [04:46<51:24,  4.98s/it]\u001b[A\u001b[A"
     ]
    },
    {
     "name": "stdout",
     "output_type": "stream",
     "text": [
      "['von', 'fond', 'arrière-plan']\n",
      "sense_intersect [\"fond | de fond | fond d'écran\", 'arrière-plan | arrière plan | arrière-fond']\n",
      "background предпосылка\n",
      "https://context.reverso.net/перевод/английский-французский/background\n",
      "['fond', 'contexte', 'arrière-plan', 'information', 'antécédent', 'origine', 'historique', 'référence', 'de fond', 'arrière plan', 'formation', 'expérience', 'milieu', 'passé', 'travail', 'background', 'histoire', 'second plan', 'arrière-fond', \"fond d'écran\"]\n",
      "https://context.reverso.net/перевод/русский-французский/предпосылка\n",
      "turn to alternative marks\n"
     ]
    },
    {
     "name": "stderr",
     "output_type": "stream",
     "text": [
      "\n",
      "\n",
      "  9%|▊         | 58/676 [04:51<51:17,  4.98s/it]\u001b[A\u001b[A"
     ]
    },
    {
     "name": "stdout",
     "output_type": "stream",
     "text": [
      "['condition préalable', 'condition', 'prémisse', 'hypothèse']\n",
      "sense_intersect ['arrière-plan | condition préalable', 'information | condition préalable | condition', 'arrière plan | condition préalable', 'formation | condition préalable', 'background | condition préalable', 'second plan | condition préalable', 'arrière-fond | condition préalable']\n",
      "background происхождение\n",
      "https://context.reverso.net/перевод/английский-французский/background\n",
      "['fond', 'contexte', 'arrière-plan', 'information', 'antécédent', 'origine', 'historique', 'référence', 'de fond', 'arrière plan', 'formation', 'expérience', 'milieu', 'passé', 'travail', 'background', 'histoire', 'second plan', 'arrière-fond', \"fond d'écran\"]\n",
      "https://context.reverso.net/перевод/русский-французский/происхождение\n"
     ]
    },
    {
     "name": "stderr",
     "output_type": "stream",
     "text": [
      "\n",
      "\n",
      "  9%|▊         | 59/676 [04:56<51:00,  4.96s/it]\u001b[A\u001b[A"
     ]
    },
    {
     "name": "stdout",
     "output_type": "stream",
     "text": [
      "['origine', 'provenance', 'ascendance']\n",
      "sense_intersect ['origine | information | histoire', 'expérience | provenance', 'second plan | provenance | ascendance', 'arrière-fond | provenance']\n",
      "background подготовка\n",
      "https://context.reverso.net/перевод/английский-французский/background\n",
      "['fond', 'contexte', 'arrière-plan', 'information', 'antécédent', 'origine', 'historique', 'référence', 'de fond', 'arrière plan', 'formation', 'expérience', 'milieu', 'passé', 'travail', 'background', 'histoire', 'second plan', 'arrière-fond', \"fond d'écran\"]\n",
      "https://context.reverso.net/перевод/русский-французский/подготовка\n"
     ]
    },
    {
     "name": "stderr",
     "output_type": "stream",
     "text": [
      "\n",
      "\n",
      "  9%|▉         | 60/676 [05:01<50:53,  4.96s/it]\u001b[A\u001b[A"
     ]
    },
    {
     "name": "stdout",
     "output_type": "stream",
     "text": [
      "['formation', 'préparation', 'préparatif', 'élaboration', 'établissement', 'entraînement', 'rédaction', 'production', 'prépare', 'formé', 'préparer', 'établir', 'former']\n",
      "sense_intersect ['formation | information | élaboration | rédaction | production | arrière-fond', 'contexte | entraînement', 'arrière-plan | préparation', 'antécédent | rédaction', 'historique | production', 'arrière plan | préparation']\n",
      "background история\n",
      "https://context.reverso.net/перевод/английский-французский/background\n",
      "['fond', 'contexte', 'arrière-plan', 'information', 'antécédent', 'origine', 'historique', 'référence', 'de fond', 'arrière plan', 'formation', 'expérience', 'milieu', 'passé', 'travail', 'background', 'histoire', 'second plan', 'arrière-fond', \"fond d'écran\"]\n",
      "https://context.reverso.net/перевод/русский-французский/история\n"
     ]
    },
    {
     "name": "stderr",
     "output_type": "stream",
     "text": [
      "\n",
      "\n",
      "  9%|▉         | 61/676 [05:05<50:45,  4.95s/it]\u001b[A\u001b[A"
     ]
    },
    {
     "name": "stdout",
     "output_type": "stream",
     "text": [
      "['histoire', 'historique', 'passé', 'affaire', 'conte', 'version', 'récit', 'truc', 'chose', 'ça', 'antécédent', 'article', 'drôle', 'story']\n",
      "sense_intersect ['antécédent', 'historique | histoire | version', 'passé', 'histoire | origine', 'contexte | conte']\n",
      "background сведения\n",
      "https://context.reverso.net/перевод/английский-французский/background\n",
      "['fond', 'contexte', 'arrière-plan', 'information', 'antécédent', 'origine', 'historique', 'référence', 'de fond', 'arrière plan', 'formation', 'expérience', 'milieu', 'passé', 'travail', 'background', 'histoire', 'second plan', 'arrière-fond', \"fond d'écran\"]\n",
      "https://context.reverso.net/перевод/русский-французский/сведения\n"
     ]
    },
    {
     "name": "stderr",
     "output_type": "stream",
     "text": [
      "\n",
      "\n",
      "  9%|▉         | 62/676 [05:11<50:59,  4.98s/it]\u001b[A\u001b[A"
     ]
    },
    {
     "name": "stdout",
     "output_type": "stream",
     "text": [
      "['attention', 'information', 'connaissance', 'communiqué', 'intention', 'renseignement', 'renseignement', 'donnée', 'signalé', 'chiffre', 'élément', 'auprès', 'réduire', 'détail']\n",
      "sense_intersect ['information | intention | origine | formation | arrière-fond', 'contexte | attention', 'expérience | renseignement | renseignement', 'second plan | connaissance']\n",
      "background фоновый режим\n",
      "https://context.reverso.net/перевод/английский-французский/background\n",
      "['fond', 'contexte', 'arrière-plan', 'information', 'antécédent', 'origine', 'historique', 'référence', 'de fond', 'arrière plan', 'formation', 'expérience', 'milieu', 'passé', 'travail', 'background', 'histoire', 'second plan', 'arrière-fond', \"fond d'écran\"]\n",
      "https://context.reverso.net/перевод/русский-французский/фоновый режим\n"
     ]
    },
    {
     "name": "stderr",
     "output_type": "stream",
     "text": [
      "\n",
      "\n",
      "  9%|▉         | 63/676 [05:16<52:24,  5.13s/it]\u001b[A\u001b[A"
     ]
    },
    {
     "name": "stdout",
     "output_type": "stream",
     "text": [
      "['de fond', 'en arrière-plan', 'régime', 'traitement', 'mode', 'système', 'situation']\n",
      "sense_intersect [\"de fond | fond | fond d'écran\", 'contexte | traitement', 'arrière-plan | en arrière-plan', 'information | situation', 'historique | situation', 'arrière plan | en arrière-plan', 'histoire | situation', 'arrière-fond | en arrière-plan']\n",
      "background опыт\n",
      "https://context.reverso.net/перевод/английский-французский/background\n",
      "['fond', 'contexte', 'arrière-plan', 'information', 'antécédent', 'origine', 'historique', 'référence', 'de fond', 'arrière plan', 'formation', 'expérience', 'milieu', 'passé', 'travail', 'background', 'histoire', 'second plan', 'arrière-fond', \"fond d'écran\"]\n",
      "https://context.reverso.net/перевод/русский-французский/опыт\n"
     ]
    },
    {
     "name": "stderr",
     "output_type": "stream",
     "text": [
      "\n",
      "\n",
      "  9%|▉         | 64/676 [05:21<51:40,  5.07s/it]\u001b[A\u001b[A"
     ]
    },
    {
     "name": "stdout",
     "output_type": "stream",
     "text": [
      "['expérience', 'compétence', 'expertise', 'savoir-faire', 'exemple', 'bilan', 'connaissances spécialisées', 'acquis', 'enseignement', 'leçon', 'pratique', 'résultat']\n",
      "sense_intersect ['expérience | référence | expertise', 'contexte | compétence', 'arrière-plan | savoir-faire', 'historique | pratique', 'arrière plan | savoir-faire', 'arrière-fond | savoir-faire']\n",
      "background справочная информация\n",
      "https://context.reverso.net/перевод/английский-французский/background\n",
      "['fond', 'contexte', 'arrière-plan', 'information', 'antécédent', 'origine', 'historique', 'référence', 'de fond', 'arrière plan', 'formation', 'expérience', 'milieu', 'passé', 'travail', 'background', 'histoire', 'second plan', 'arrière-fond', \"fond d'écran\"]\n",
      "https://context.reverso.net/перевод/русский-французский/справочная информация\n"
     ]
    },
    {
     "name": "stderr",
     "output_type": "stream",
     "text": [
      "\n",
      "\n",
      " 10%|▉         | 65/676 [05:26<51:30,  5.06s/it]\u001b[A\u001b[A"
     ]
    },
    {
     "name": "stdout",
     "output_type": "stream",
     "text": [
      "['rappel des faits', 'historique', 'informations générales']\n",
      "sense_intersect ['historique | histoire', 'information | informations générales', 'formation | informations générales', 'arrière-fond | informations générales']\n",
      "background история вопроса\n",
      "https://context.reverso.net/перевод/английский-французский/background\n",
      "['fond', 'contexte', 'arrière-plan', 'information', 'antécédent', 'origine', 'historique', 'référence', 'de fond', 'arrière plan', 'formation', 'expérience', 'milieu', 'passé', 'travail', 'background', 'histoire', 'second plan', 'arrière-fond', \"fond d'écran\"]\n",
      "https://context.reverso.net/перевод/русский-французский/история вопроса\n",
      "turn to alternative marks\n"
     ]
    },
    {
     "name": "stderr",
     "output_type": "stream",
     "text": [
      "\n",
      "\n",
      " 10%|▉         | 66/676 [05:31<51:08,  5.03s/it]\u001b[A\u001b[A"
     ]
    },
    {
     "name": "stdout",
     "output_type": "stream",
     "text": [
      "['historique', 'généralité', 'aperçu général']\n",
      "sense_intersect ['historique | histoire']\n",
      "background прошлое\n",
      "https://context.reverso.net/перевод/английский-французский/background\n",
      "['fond', 'contexte', 'arrière-plan', 'information', 'antécédent', 'origine', 'historique', 'référence', 'de fond', 'arrière plan', 'formation', 'expérience', 'milieu', 'passé', 'travail', 'background', 'histoire', 'second plan', 'arrière-fond', \"fond d'écran\"]\n",
      "https://context.reverso.net/перевод/русский-французский/прошлое\n"
     ]
    },
    {
     "name": "stderr",
     "output_type": "stream",
     "text": [
      "\n",
      "\n",
      " 10%|▉         | 67/676 [05:36<50:49,  5.01s/it]\u001b[A\u001b[A"
     ]
    },
    {
     "name": "stdout",
     "output_type": "stream",
     "text": [
      "['passé', 'histoire', 'le temps', 'antécédent', 'casier']\n",
      "sense_intersect ['antécédent', 'passé', 'histoire | origine | historique']\n",
      "background образование\n",
      "https://context.reverso.net/перевод/английский-французский/background\n",
      "['fond', 'contexte', 'arrière-plan', 'information', 'antécédent', 'origine', 'historique', 'référence', 'de fond', 'arrière plan', 'formation', 'expérience', 'milieu', 'passé', 'travail', 'background', 'histoire', 'second plan', 'arrière-fond', \"fond d'écran\"]\n",
      "https://context.reverso.net/перевод/русский-французский/образование\n"
     ]
    },
    {
     "name": "stderr",
     "output_type": "stream",
     "text": [
      "\n",
      "\n",
      " 10%|█         | 68/676 [05:41<50:20,  4.97s/it]\u001b[A\u001b[A"
     ]
    },
    {
     "name": "stdout",
     "output_type": "stream",
     "text": [
      "['éducation', 'enseignement', 'formation', 'instruction', 'entité', 'scolarité', 'école', 'diplôme', 'scolaire', 'étude', 'éducatif', 'éduqué', 'éduquer', 'scolarisation']\n",
      "sense_intersect ['formation | information | instruction | arrière-fond', 'historique | instruction | scolarisation']\n",
      "background корень\n",
      "https://context.reverso.net/перевод/английский-французский/background\n",
      "['fond', 'contexte', 'arrière-plan', 'information', 'antécédent', 'origine', 'historique', 'référence', 'de fond', 'arrière plan', 'formation', 'expérience', 'milieu', 'passé', 'travail', 'background', 'histoire', 'second plan', 'arrière-fond', \"fond d'écran\"]\n",
      "https://context.reverso.net/перевод/русский-французский/корень\n"
     ]
    },
    {
     "name": "stderr",
     "output_type": "stream",
     "text": [
      "\n",
      "\n",
      " 10%|█         | 69/676 [05:46<50:03,  4.95s/it]\u001b[A\u001b[A"
     ]
    },
    {
     "name": "stdout",
     "output_type": "stream",
     "text": [
      "['racine']\n",
      "sense_intersect ['arrière-plan | racine', 'arrière plan | racine', 'arrière-fond | racine']\n",
      "background исходная информация\n",
      "https://context.reverso.net/перевод/английский-французский/background\n",
      "['fond', 'contexte', 'arrière-plan', 'information', 'antécédent', 'origine', 'historique', 'référence', 'de fond', 'arrière plan', 'formation', 'expérience', 'milieu', 'passé', 'travail', 'background', 'histoire', 'second plan', 'arrière-fond', \"fond d'écran\"]\n",
      "https://context.reverso.net/перевод/русский-французский/исходная информация\n",
      "turn to alternative marks\n"
     ]
    },
    {
     "name": "stderr",
     "output_type": "stream",
     "text": [
      "\n",
      "\n",
      " 10%|█         | 70/676 [05:51<51:01,  5.05s/it]\u001b[A\u001b[A"
     ]
    },
    {
     "name": "stdout",
     "output_type": "stream",
     "text": [
      "['renseignements de base', 'informations générales', 'généralité']\n",
      "sense_intersect ['information | informations générales', 'formation | informations générales', 'arrière-fond | informations générales']\n",
      "background контекст\n",
      "https://context.reverso.net/перевод/английский-французский/background\n",
      "['fond', 'contexte', 'arrière-plan', 'information', 'antécédent', 'origine', 'historique', 'référence', 'de fond', 'arrière plan', 'formation', 'expérience', 'milieu', 'passé', 'travail', 'background', 'histoire', 'second plan', 'arrière-fond', \"fond d'écran\"]\n",
      "https://context.reverso.net/перевод/русский-французский/контекст\n"
     ]
    },
    {
     "name": "stderr",
     "output_type": "stream",
     "text": [
      "\n",
      "\n",
      " 11%|█         | 71/676 [05:56<50:47,  5.04s/it]\u001b[A\u001b[A"
     ]
    },
    {
     "name": "stdout",
     "output_type": "stream",
     "text": [
      "['contexte', 'cadre']\n",
      "sense_intersect ['contexte']\n",
      "background общие сведения\n",
      "https://context.reverso.net/перевод/английский-французский/background\n",
      "['fond', 'contexte', 'arrière-plan', 'information', 'antécédent', 'origine', 'historique', 'référence', 'de fond', 'arrière plan', 'formation', 'expérience', 'milieu', 'passé', 'travail', 'background', 'histoire', 'second plan', 'arrière-fond', \"fond d'écran\"]\n",
      "https://context.reverso.net/перевод/русский-французский/общие сведения\n",
      "turn to alternative marks\n"
     ]
    },
    {
     "name": "stderr",
     "output_type": "stream",
     "text": [
      "\n",
      "\n",
      " 11%|█         | 72/676 [06:01<50:47,  5.05s/it]\u001b[A\u001b[A"
     ]
    },
    {
     "name": "stdout",
     "output_type": "stream",
     "text": [
      "['renseignements généraux', 'aperçu général', 'informations générales', 'généralité', 'données générales', 'renseignements de caractère général', 'information de base', 'historique', 'caractéristiques générales', 'cadre général']\n",
      "sense_intersect ['historique | histoire', 'arrière-plan | renseignements de caractère général', 'information | informations générales | information de base', 'référence | cadre général', 'arrière plan | renseignements de caractère général', 'formation | informations générales', 'expérience | renseignements généraux | renseignements de caractère général', 'arrière-fond | informations générales']\n",
      "background исток\n",
      "https://context.reverso.net/перевод/английский-французский/background\n",
      "['fond', 'contexte', 'arrière-plan', 'information', 'antécédent', 'origine', 'historique', 'référence', 'de fond', 'arrière plan', 'formation', 'expérience', 'milieu', 'passé', 'travail', 'background', 'histoire', 'second plan', 'arrière-fond', \"fond d'écran\"]\n",
      "https://context.reverso.net/перевод/русский-французский/исток\n",
      "turn to alternative marks\n"
     ]
    },
    {
     "name": "stderr",
     "output_type": "stream",
     "text": [
      "\n",
      "\n",
      " 11%|█         | 73/676 [06:06<50:15,  5.00s/it]\u001b[A\u001b[A"
     ]
    },
    {
     "name": "stdout",
     "output_type": "stream",
     "text": [
      "['source', 'istok']\n",
      "sense_intersect ['historique | istok', 'histoire | istok']\n",
      "background фоновое изображение\n",
      "https://context.reverso.net/перевод/английский-французский/background\n",
      "['fond', 'contexte', 'arrière-plan', 'information', 'antécédent', 'origine', 'historique', 'référence', 'de fond', 'arrière plan', 'formation', 'expérience', 'milieu', 'passé', 'travail', 'background', 'histoire', 'second plan', 'arrière-fond', \"fond d'écran\"]\n",
      "https://context.reverso.net/перевод/русский-французский/фоновое изображение\n"
     ]
    },
    {
     "name": "stderr",
     "output_type": "stream",
     "text": [
      "\n",
      "\n",
      " 11%|█         | 74/676 [06:11<50:11,  5.00s/it]\u001b[A\u001b[A"
     ]
    },
    {
     "name": "stdout",
     "output_type": "stream",
     "text": [
      "[\"d'arrière-plan\", 'image', 'photo', 'représentation', 'portrait', 'visuel']\n",
      "sense_intersect [\"arrière-plan | d'arrière-plan | représentation\", \"arrière plan | d'arrière-plan\", \"arrière-fond | d'arrière-plan\"]\n",
      "background фоновая\n",
      "https://context.reverso.net/перевод/английский-французский/background\n",
      "['fond', 'contexte', 'arrière-plan', 'information', 'antécédent', 'origine', 'historique', 'référence', 'de fond', 'arrière plan', 'formation', 'expérience', 'milieu', 'passé', 'travail', 'background', 'histoire', 'second plan', 'arrière-fond', \"fond d'écran\"]\n",
      "https://context.reverso.net/перевод/русский-французский/фоновая\n",
      "turn to alternative marks\n"
     ]
    },
    {
     "name": "stderr",
     "output_type": "stream",
     "text": [
      "\n",
      "\n",
      " 11%|█         | 75/676 [06:17<52:31,  5.24s/it]\u001b[A\u001b[A"
     ]
    },
    {
     "name": "stdout",
     "output_type": "stream",
     "text": [
      "['ambiante', 'concentration']\n",
      "sense_intersect ['contexte | concentration', 'information | concentration', 'formation | concentration', 'second plan | concentration']\n",
      "background фоновый\n",
      "https://context.reverso.net/перевод/английский-французский/background\n",
      "['fond', 'contexte', 'arrière-plan', 'information', 'antécédent', 'origine', 'historique', 'référence', 'de fond', 'arrière plan', 'formation', 'expérience', 'milieu', 'passé', 'travail', 'background', 'histoire', 'second plan', 'arrière-fond', \"fond d'écran\"]\n",
      "https://context.reverso.net/перевод/русский-французский/фоновый\n",
      "turn to alternative marks\n"
     ]
    },
    {
     "name": "stderr",
     "output_type": "stream",
     "text": [
      "\n",
      "\n",
      " 11%|█         | 76/676 [06:22<51:15,  5.13s/it]\u001b[A\u001b[A"
     ]
    },
    {
     "name": "stdout",
     "output_type": "stream",
     "text": [
      "['de fond', 'en arrière-plan']\n",
      "sense_intersect [\"de fond | fond | fond d'écran\", 'arrière-plan | en arrière-plan', 'arrière plan | en arrière-plan', 'arrière-fond | en arrière-plan']\n",
      "background справочный\n",
      "https://context.reverso.net/перевод/английский-французский/background\n",
      "['fond', 'contexte', 'arrière-plan', 'information', 'antécédent', 'origine', 'historique', 'référence', 'de fond', 'arrière plan', 'formation', 'expérience', 'milieu', 'passé', 'travail', 'background', 'histoire', 'second plan', 'arrière-fond', \"fond d'écran\"]\n",
      "https://context.reverso.net/перевод/русский-французский/справочный\n"
     ]
    },
    {
     "name": "stderr",
     "output_type": "stream",
     "text": [
      "\n",
      "\n",
      " 11%|█▏        | 77/676 [06:27<51:10,  5.13s/it]\u001b[A\u001b[A"
     ]
    },
    {
     "name": "stdout",
     "output_type": "stream",
     "text": [
      "['référence']\n",
      "sense_intersect ['référence | expérience']\n",
      "background второстепенный\n",
      "https://context.reverso.net/перевод/английский-французский/background\n",
      "['fond', 'contexte', 'arrière-plan', 'information', 'antécédent', 'origine', 'historique', 'référence', 'de fond', 'arrière plan', 'formation', 'expérience', 'milieu', 'passé', 'travail', 'background', 'histoire', 'second plan', 'arrière-fond', \"fond d'écran\"]\n",
      "https://context.reverso.net/перевод/русский-французский/второстепенный\n",
      "turn to alternative marks\n"
     ]
    },
    {
     "name": "stderr",
     "output_type": "stream",
     "text": [
      "\n",
      "\n",
      " 12%|█▏        | 78/676 [06:32<50:27,  5.06s/it]\u001b[A\u001b[A"
     ]
    },
    {
     "name": "stdout",
     "output_type": "stream",
     "text": [
      "['accessoire', 'subsidiaire']\n",
      "sense_intersect ['no_equality']\n",
      "write писать\n",
      "https://context.reverso.net/перевод/английский-французский/write\n",
      "['écrire', 'rédiger', 'faire', 'inscrire', 'composer', 'adresser', 'graver', 'prescrire', 'enregistrer', 'communiquer', 'écriture', 'écrivez-nous', 'write', 'noter', 'note']\n",
      "https://context.reverso.net/перевод/русский-французский/писать\n"
     ]
    },
    {
     "name": "stderr",
     "output_type": "stream",
     "text": [
      "\n",
      "\n",
      " 12%|█▏        | 79/676 [06:36<49:45,  5.00s/it]\u001b[A\u001b[A"
     ]
    },
    {
     "name": "stdout",
     "output_type": "stream",
     "text": [
      "['écrire', 'pisser', 'faire pipi', 'envoyer', 'peindre', 'écriture']\n",
      "sense_intersect ['écrire | écriture | rédiger | prescrire', 'écriture', 'inscrire | peindre', 'enregistrer | peindre']\n",
      "write записывать\n",
      "https://context.reverso.net/перевод/английский-французский/write\n",
      "['écrire', 'rédiger', 'faire', 'inscrire', 'composer', 'adresser', 'graver', 'prescrire', 'enregistrer', 'communiquer', 'écriture', 'écrivez-nous', 'write', 'noter', 'note']\n",
      "https://context.reverso.net/перевод/русский-французский/записывать\n"
     ]
    },
    {
     "name": "stderr",
     "output_type": "stream",
     "text": [
      "\n",
      "\n",
      " 12%|█▏        | 80/676 [06:41<49:14,  4.96s/it]\u001b[A\u001b[A"
     ]
    },
    {
     "name": "stdout",
     "output_type": "stream",
     "text": [
      "['enregistrer', 'écrire', 'noter']\n",
      "sense_intersect ['écrire | rédiger | écriture', 'enregistrer | inscrire | graver | prescrire | noter', 'noter']\n",
      "write выписывать\n",
      "https://context.reverso.net/перевод/английский-французский/write\n",
      "['écrire', 'rédiger', 'faire', 'inscrire', 'composer', 'adresser', 'graver', 'prescrire', 'enregistrer', 'communiquer', 'écriture', 'écrivez-nous', 'write', 'noter', 'note']\n",
      "https://context.reverso.net/перевод/русский-французский/выписывать\n",
      "turn to alternative marks\n"
     ]
    },
    {
     "name": "stderr",
     "output_type": "stream",
     "text": [
      "\n",
      "\n",
      " 12%|█▏        | 81/676 [06:46<49:05,  4.95s/it]\u001b[A\u001b[A"
     ]
    },
    {
     "name": "stdout",
     "output_type": "stream",
     "text": [
      "['prescrire', 'chèque', 'contravention']\n",
      "sense_intersect ['prescrire | écrire | inscrire | enregistrer', 'noter | contravention', 'note | contravention']\n",
      "write вписать\n",
      "https://context.reverso.net/перевод/английский-французский/write\n",
      "['écrire', 'rédiger', 'faire', 'inscrire', 'composer', 'adresser', 'graver', 'prescrire', 'enregistrer', 'communiquer', 'écriture', 'écrivez-nous', 'write', 'noter', 'note']\n",
      "https://context.reverso.net/перевод/русский-французский/вписать\n",
      "turn to alternative marks\n"
     ]
    },
    {
     "name": "stderr",
     "output_type": "stream",
     "text": [
      "\n",
      "\n",
      " 12%|█▏        | 82/676 [06:51<48:58,  4.95s/it]\u001b[A\u001b[A"
     ]
    },
    {
     "name": "stdout",
     "output_type": "stream",
     "text": [
      "['écrire', 'replacer', 'glisser', 'faire rentrer', 'faire entrer']\n",
      "sense_intersect ['écrire | rédiger | prescrire | écriture', 'faire | faire rentrer | faire entrer', 'inscrire | faire rentrer', 'graver | faire rentrer', 'enregistrer | replacer | faire rentrer']\n",
      "write списать\n",
      "https://context.reverso.net/перевод/английский-французский/write\n",
      "['écrire', 'rédiger', 'faire', 'inscrire', 'composer', 'adresser', 'graver', 'prescrire', 'enregistrer', 'communiquer', 'écriture', 'écrivez-nous', 'write', 'noter', 'note']\n",
      "https://context.reverso.net/перевод/русский-французский/списать\n"
     ]
    },
    {
     "name": "stderr",
     "output_type": "stream",
     "text": [
      "\n",
      "\n",
      " 12%|█▏        | 83/676 [06:56<49:10,  4.98s/it]\u001b[A\u001b[A"
     ]
    },
    {
     "name": "stdout",
     "output_type": "stream",
     "text": [
      "['annuler']\n",
      "sense_intersect ['no_equality']\n",
      "write письменный\n",
      "https://context.reverso.net/перевод/английский-французский/write\n",
      "['écrire', 'rédiger', 'faire', 'inscrire', 'composer', 'adresser', 'graver', 'prescrire', 'enregistrer', 'communiquer', 'écriture', 'écrivez-nous', 'write', 'noter', 'note']\n",
      "https://context.reverso.net/перевод/русский-французский/письменный\n"
     ]
    },
    {
     "name": "stderr",
     "output_type": "stream",
     "text": [
      "\n",
      "\n",
      " 12%|█▏        | 84/676 [07:01<49:07,  4.98s/it]\u001b[A\u001b[A"
     ]
    },
    {
     "name": "stdout",
     "output_type": "stream",
     "text": [
      "['écrit', 'écrite', 'par écrit']\n",
      "sense_intersect ['écrire | écrit | écrite | par écrit', 'écriture | écrit']\n",
      "apologise извиниться\n",
      "https://context.reverso.net/перевод/английский-французский/apologise\n",
      "['excuser', \"s'excuser\", 'demander pardon', \"m'excuser\", \"m'en excuse\", 'excuse-toi', \"t'excuse\", 'suis désolé', 'vous excusez', \"m'excuse\", 'excusez-moi']\n",
      "https://context.reverso.net/перевод/русский-французский/извиниться\n"
     ]
    },
    {
     "name": "stderr",
     "output_type": "stream",
     "text": [
      "\n",
      "\n",
      " 13%|█▎        | 85/676 [07:06<48:48,  4.95s/it]\u001b[A\u001b[A"
     ]
    },
    {
     "name": "stdout",
     "output_type": "stream",
     "text": [
      "[\"s'excuser\", 'demander pardon', \"m'excuser\", \"t'excuser\", 'désolé', \"m'excuse\", 'vous excuser', 'des excuses', 'suis désolé']\n",
      "sense_intersect [\"s'excuser | excuser | m'excuser | t'excuser | m'excuse | vous excuser | des excuses | m'en excuse | t'excuse | vous excusez\", 'demander pardon', \"m'excuser\", 'suis désolé', \"m'excuse\"]\n",
      "fly летать\n",
      "https://context.reverso.net/перевод/английский-французский/fly\n",
      "['voler', 'piloter', 'survoler', \"s'envoler\", 'voyager', 'battre', 'faire voler', 'décoller', 'mouche', 'vol', 'avion', 'battant', 'emmener', 'aller', 'braguette', 'fly']\n",
      "https://context.reverso.net/перевод/русский-французский/летать\n"
     ]
    },
    {
     "name": "stderr",
     "output_type": "stream",
     "text": [
      "\n",
      "\n",
      " 13%|█▎        | 86/676 [07:11<48:18,  4.91s/it]\u001b[A\u001b[A"
     ]
    },
    {
     "name": "stdout",
     "output_type": "stream",
     "text": [
      "['voler', 'piloter', 'vol']\n",
      "sense_intersect [\"voler | vol | survoler | s'envoler | faire voler\", 'piloter', 'vol']\n",
      "fly вылететь\n",
      "https://context.reverso.net/перевод/английский-французский/fly\n",
      "['voler', 'piloter', 'survoler', \"s'envoler\", 'voyager', 'battre', 'faire voler', 'décoller', 'mouche', 'vol', 'avion', 'battant', 'emmener', 'aller', 'braguette', 'fly']\n",
      "https://context.reverso.net/перевод/русский-французский/вылететь\n",
      "turn to alternative marks\n"
     ]
    },
    {
     "name": "stderr",
     "output_type": "stream",
     "text": [
      "\n",
      "\n",
      " 13%|█▎        | 87/676 [07:16<48:25,  4.93s/it]\u001b[A\u001b[A"
     ]
    },
    {
     "name": "stdout",
     "output_type": "stream",
     "text": [
      "['décoller', \"s'envoler\", 'être exclu', \"prendre l'avion\", 'te faire virer', 'être dans les airs']\n",
      "sense_intersect [\"s'envoler | voler | survoler | prendre l'avion | faire voler\", 'décoller', \"piloter | prendre l'avion\", 'braguette | être exclu']\n",
      "fly влететь\n",
      "https://context.reverso.net/перевод/английский-французский/fly\n",
      "['voler', 'piloter', 'survoler', \"s'envoler\", 'voyager', 'battre', 'faire voler', 'décoller', 'mouche', 'vol', 'avion', 'battant', 'emmener', 'aller', 'braguette', 'fly']\n",
      "https://context.reverso.net/перевод/русский-французский/влететь\n",
      "turn to alternative marks\n"
     ]
    },
    {
     "name": "stderr",
     "output_type": "stream",
     "text": [
      "\n",
      "\n",
      " 13%|█▎        | 88/676 [07:21<49:42,  5.07s/it]\u001b[A\u001b[A"
     ]
    },
    {
     "name": "stdout",
     "output_type": "stream",
     "text": [
      "[]\n",
      "sense_intersect ['no_equality']\n",
      "fly подлететь\n",
      "https://context.reverso.net/перевод/английский-французский/fly\n",
      "['voler', 'piloter', 'survoler', \"s'envoler\", 'voyager', 'battre', 'faire voler', 'décoller', 'mouche', 'vol', 'avion', 'battant', 'emmener', 'aller', 'braguette', 'fly']\n",
      "https://context.reverso.net/перевод/русский-французский/подлететь\n",
      "turn to alternative marks\n"
     ]
    },
    {
     "name": "stderr",
     "output_type": "stream",
     "text": [
      "\n",
      "\n",
      " 13%|█▎        | 89/676 [07:26<49:25,  5.05s/it]\u001b[A\u001b[A"
     ]
    },
    {
     "name": "stdout",
     "output_type": "stream",
     "text": [
      "[]\n",
      "sense_intersect ['no_equality']\n",
      "fly отлететь\n",
      "https://context.reverso.net/перевод/английский-французский/fly\n",
      "['voler', 'piloter', 'survoler', \"s'envoler\", 'voyager', 'battre', 'faire voler', 'décoller', 'mouche', 'vol', 'avion', 'battant', 'emmener', 'aller', 'braguette', 'fly']\n",
      "https://context.reverso.net/перевод/русский-французский/отлететь\n",
      "turn to alternative marks\n"
     ]
    },
    {
     "name": "stderr",
     "output_type": "stream",
     "text": [
      "\n",
      "\n",
      " 13%|█▎        | 90/676 [07:31<49:21,  5.05s/it]\u001b[A\u001b[A"
     ]
    },
    {
     "name": "stdout",
     "output_type": "stream",
     "text": [
      "[]\n",
      "sense_intersect ['no_equality']\n",
      "fly слетаться\n",
      "https://context.reverso.net/перевод/английский-французский/fly\n",
      "['voler', 'piloter', 'survoler', \"s'envoler\", 'voyager', 'battre', 'faire voler', 'décoller', 'mouche', 'vol', 'avion', 'battant', 'emmener', 'aller', 'braguette', 'fly']\n",
      "https://context.reverso.net/перевод/русский-французский/слетаться\n",
      "turn to alternative marks\n"
     ]
    },
    {
     "name": "stderr",
     "output_type": "stream",
     "text": [
      "\n",
      "\n",
      " 13%|█▎        | 91/676 [07:36<49:15,  5.05s/it]\u001b[A\u001b[A"
     ]
    },
    {
     "name": "stdout",
     "output_type": "stream",
     "text": [
      "[]\n",
      "sense_intersect ['no_equality']\n",
      "fly муха\n",
      "https://context.reverso.net/перевод/английский-французский/fly\n",
      "['voler', 'piloter', 'survoler', \"s'envoler\", 'voyager', 'battre', 'faire voler', 'décoller', 'mouche', 'vol', 'avion', 'battant', 'emmener', 'aller', 'braguette', 'fly']\n",
      "https://context.reverso.net/перевод/русский-французский/муха\n"
     ]
    },
    {
     "name": "stderr",
     "output_type": "stream",
     "text": [
      "\n",
      "\n",
      " 14%|█▎        | 92/676 [07:41<48:31,  4.99s/it]\u001b[A\u001b[A"
     ]
    },
    {
     "name": "stdout",
     "output_type": "stream",
     "text": [
      "['mouche', 'est-ce qui']\n",
      "sense_intersect ['mouche']\n",
      "fly полет\n",
      "https://context.reverso.net/перевод/английский-французский/fly\n",
      "['voler', 'piloter', 'survoler', \"s'envoler\", 'voyager', 'battre', 'faire voler', 'décoller', 'mouche', 'vol', 'avion', 'battant', 'emmener', 'aller', 'braguette', 'fly']\n",
      "https://context.reverso.net/перевод/русский-французский/полет\n"
     ]
    },
    {
     "name": "stderr",
     "output_type": "stream",
     "text": [
      "\n",
      "\n",
      " 14%|█▍        | 93/676 [07:46<48:19,  4.97s/it]\u001b[A\u001b[A"
     ]
    },
    {
     "name": "stdout",
     "output_type": "stream",
     "text": [
      "['vol', 'voler']\n",
      "sense_intersect [\"voler | vol | survoler | s'envoler | faire voler\", 'vol']\n",
      "beaver бобр\n",
      "https://context.reverso.net/перевод/английский-французский/beaver\n",
      "['castor', 'beaver']\n",
      "https://context.reverso.net/перевод/русский-французский/бобр\n",
      "turn to alternative marks\n"
     ]
    },
    {
     "name": "stderr",
     "output_type": "stream",
     "text": [
      "\n",
      "\n",
      " 14%|█▍        | 94/676 [07:51<47:46,  4.93s/it]\u001b[A\u001b[A"
     ]
    },
    {
     "name": "stdout",
     "output_type": "stream",
     "text": [
      "['castor', 'avoir emménagé', 'beav']\n",
      "sense_intersect ['castor', 'beaver | beav']\n",
      "beaver Бобрик\n",
      "https://context.reverso.net/перевод/английский-французский/beaver\n",
      "['castor', 'beaver']\n",
      "https://context.reverso.net/перевод/русский-французский/Бобрик\n",
      "turn to alternative marks\n"
     ]
    },
    {
     "name": "stderr",
     "output_type": "stream",
     "text": [
      "\n",
      "\n",
      " 14%|█▍        | 95/676 [07:57<49:32,  5.12s/it]\u001b[A\u001b[A"
     ]
    },
    {
     "name": "stdout",
     "output_type": "stream",
     "text": [
      "['beaver']\n",
      "sense_intersect ['beaver']\n",
      "beaver Бивер\n",
      "https://context.reverso.net/перевод/английский-французский/beaver\n",
      "['castor', 'beaver']\n",
      "https://context.reverso.net/перевод/русский-французский/Бивер\n"
     ]
    },
    {
     "name": "stderr",
     "output_type": "stream",
     "text": [
      "\n",
      "\n",
      " 14%|█▍        | 96/676 [08:01<48:49,  5.05s/it]\u001b[A\u001b[A"
     ]
    },
    {
     "name": "stdout",
     "output_type": "stream",
     "text": [
      "['beaver']\n",
      "sense_intersect ['beaver']\n",
      "beaver работяга\n",
      "https://context.reverso.net/перевод/английский-французский/beaver\n",
      "['castor', 'beaver']\n",
      "https://context.reverso.net/перевод/русский-французский/работяга\n",
      "turn to alternative marks\n"
     ]
    },
    {
     "name": "stderr",
     "output_type": "stream",
     "text": [
      "\n",
      "\n",
      " 14%|█▍        | 97/676 [08:06<48:06,  4.98s/it]\u001b[A\u001b[A"
     ]
    },
    {
     "name": "stdout",
     "output_type": "stream",
     "text": [
      "['travailleur', 'ouvrier', 'bosseur']\n",
      "sense_intersect ['no_equality']\n",
      "beaver бородач\n",
      "https://context.reverso.net/перевод/английский-французский/beaver\n",
      "['castor', 'beaver']\n",
      "https://context.reverso.net/перевод/русский-французский/бородач\n",
      "turn to alternative marks\n"
     ]
    },
    {
     "name": "stderr",
     "output_type": "stream",
     "text": [
      "\n",
      "\n",
      " 14%|█▍        | 98/676 [08:11<47:36,  4.94s/it]\u001b[A\u001b[A"
     ]
    },
    {
     "name": "stdout",
     "output_type": "stream",
     "text": [
      "['barbu', 'beardface', 'barbatus ossifrage']\n",
      "sense_intersect ['beaver | beardface']\n",
      "beaver бобровый\n",
      "https://context.reverso.net/перевод/английский-французский/beaver\n",
      "['castor', 'beaver']\n",
      "https://context.reverso.net/перевод/русский-французский/бобровый\n",
      "turn to alternative marks\n"
     ]
    },
    {
     "name": "stderr",
     "output_type": "stream",
     "text": [
      "\n",
      "\n",
      " 15%|█▍        | 99/676 [08:16<47:16,  4.92s/it]\u001b[A\u001b[A"
     ]
    },
    {
     "name": "stdout",
     "output_type": "stream",
     "text": [
      "['castral rock']\n",
      "sense_intersect ['castor | castral rock']\n",
      "coincide совпадать\n",
      "https://context.reverso.net/перевод/английский-французский/coincide\n",
      "['coïncider', 'correspondre', 'concordent', 'coïncidence']\n",
      "https://context.reverso.net/перевод/русский-французский/совпадать\n"
     ]
    },
    {
     "name": "stderr",
     "output_type": "stream",
     "text": [
      "\n",
      "\n",
      " 15%|█▍        | 100/676 [08:21<47:25,  4.94s/it]\u001b[A\u001b[A"
     ]
    },
    {
     "name": "stdout",
     "output_type": "stream",
     "text": [
      "['coïncider']\n",
      "sense_intersect ['coïncider | correspondre | concordent | coïncidence']\n",
      "coincide совмещаться\n",
      "https://context.reverso.net/перевод/английский-французский/coincide\n",
      "['coïncider', 'correspondre', 'concordent', 'coïncidence']\n",
      "https://context.reverso.net/перевод/русский-французский/совмещаться\n",
      "turn to alternative marks\n"
     ]
    },
    {
     "name": "stderr",
     "output_type": "stream",
     "text": [
      "\n",
      "\n",
      " 15%|█▍        | 101/676 [08:26<48:54,  5.10s/it]\u001b[A\u001b[A"
     ]
    },
    {
     "name": "stdout",
     "output_type": "stream",
     "text": [
      "['compatible']\n",
      "sense_intersect ['coïncider | compatible']\n",
      "anything что угодно\n",
      "https://context.reverso.net/перевод/английский-французский/anything\n",
      "['quelque chose', 'tout', 'quoi que ce soit', \"n'importe quoi\", 'autre chose', 'truc', 'ça', 'quoique ce soit', 'mal', 'nouveau', 'grand-chose', 'personne', 'reste', 'contraire', 'compte']\n",
      "https://context.reverso.net/перевод/русский-французский/что угодно\n"
     ]
    },
    {
     "name": "stderr",
     "output_type": "stream",
     "text": [
      "\n",
      "\n",
      " 15%|█▌        | 102/676 [08:32<49:00,  5.12s/it]\u001b[A\u001b[A"
     ]
    },
    {
     "name": "stdout",
     "output_type": "stream",
     "text": [
      "[\"n'importe quoi\", 'peu importe', 'que tu veux', 'que vous voulez', 'quelque chose', \"qu'il faut\", 'quoi que ce soit', \"qu'on veut\", 'que je veux', 'que vous voudrez']\n",
      "sense_intersect ['quelque chose | que vous voulez | quoi que ce soit | que vous voudrez | autre chose', 'quoi que ce soit', \"n'importe quoi | peu importe | qu'on veut | quoique ce soit | contraire\"]\n",
      "anything ничего\n",
      "https://context.reverso.net/перевод/английский-французский/anything\n",
      "['quelque chose', 'tout', 'quoi que ce soit', \"n'importe quoi\", 'autre chose', 'truc', 'ça', 'quoique ce soit', 'mal', 'nouveau', 'grand-chose', 'personne', 'reste', 'contraire', 'compte']\n",
      "https://context.reverso.net/перевод/русский-французский/ничего\n"
     ]
    },
    {
     "name": "stderr",
     "output_type": "stream",
     "text": [
      "\n",
      "\n",
      " 15%|█▌        | 103/676 [08:37<48:12,  5.05s/it]\u001b[A\u001b[A"
     ]
    },
    {
     "name": "stdout",
     "output_type": "stream",
     "text": [
      "['jamais', 'sympa', 'rien', 'ça', 'aucun', 'tout', 'personne', 'non', 'quelque chose', 'mal', 'quoi', 'ni', 'nulle', 'dérange']\n",
      "sense_intersect ['quelque chose | quoi que ce soit | autre chose | quoique ce soit', 'tout', 'ça', 'mal', 'personne', \"n'importe quoi | quoi\", 'nouveau | aucun', 'contraire | rien']\n",
      "anything все\n",
      "https://context.reverso.net/перевод/английский-французский/anything\n",
      "['quelque chose', 'tout', 'quoi que ce soit', \"n'importe quoi\", 'autre chose', 'truc', 'ça', 'quoique ce soit', 'mal', 'nouveau', 'grand-chose', 'personne', 'reste', 'contraire', 'compte']\n",
      "https://context.reverso.net/перевод/русский-французский/все\n"
     ]
    },
    {
     "name": "stderr",
     "output_type": "stream",
     "text": [
      "\n",
      "\n",
      " 15%|█▌        | 104/676 [08:41<47:37,  5.00s/it]\u001b[A\u001b[A"
     ]
    },
    {
     "name": "stdout",
     "output_type": "stream",
     "text": [
      "['tout', 'les', 'ce', 'ça', 'plus', 'est', 'tout le monde', 'on', 'tu', 'je', 'en', 'il', 'se', 'chacun']\n",
      "sense_intersect ['tout | tu', 'ça', 'autre chose | tout le monde', 'reste | est', 'compte | tout le monde']\n",
      "exhaustively исчерпывающе\n",
      "https://context.reverso.net/перевод/английский-французский/exhaustively\n",
      "['exhaustivement', 'façon exhaustive', 'manière exhaustive']\n",
      "https://context.reverso.net/перевод/русский-французский/исчерпывающе\n",
      "turn to alternative marks\n"
     ]
    },
    {
     "name": "stderr",
     "output_type": "stream",
     "text": [
      "\n",
      "\n",
      " 16%|█▌        | 105/676 [08:47<48:59,  5.15s/it]\u001b[A\u001b[A"
     ]
    },
    {
     "name": "stdout",
     "output_type": "stream",
     "text": [
      "['exhaustivement']\n",
      "sense_intersect ['exhaustivement | façon exhaustive | manière exhaustive']\n",
      "exhaustively полностью\n",
      "https://context.reverso.net/перевод/английский-французский/exhaustively\n",
      "['exhaustivement', 'façon exhaustive', 'manière exhaustive']\n",
      "https://context.reverso.net/перевод/русский-французский/полностью\n"
     ]
    },
    {
     "name": "stderr",
     "output_type": "stream",
     "text": [
      "\n",
      "\n",
      " 16%|█▌        | 106/676 [08:52<48:16,  5.08s/it]\u001b[A\u001b[A"
     ]
    },
    {
     "name": "stdout",
     "output_type": "stream",
     "text": [
      "['pleinement', 'entièrement', 'complètement', 'totalement', 'tout', 'intégralement', 'sans réserve', 'parfaitement', 'plein', 'toute', 'vraiment', 'exclusivement', 'fermement', 'complet', 'total', 'toutes']\n",
      "sense_intersect ['exhaustivement | pleinement | entièrement | totalement | intégralement | parfaitement | vraiment | exclusivement']\n",
      "exhaustively тщательно\n",
      "https://context.reverso.net/перевод/английский-французский/exhaustively\n",
      "['exhaustivement', 'façon exhaustive', 'manière exhaustive']\n",
      "https://context.reverso.net/перевод/русский-французский/тщательно\n"
     ]
    },
    {
     "name": "stderr",
     "output_type": "stream",
     "text": [
      "\n",
      "\n",
      " 16%|█▌        | 107/676 [08:57<47:53,  5.05s/it]\u001b[A\u001b[A"
     ]
    },
    {
     "name": "stdout",
     "output_type": "stream",
     "text": [
      "['soigneusement', 'avec soin', 'attentivement', 'minutieusement', 'méticuleusement', 'scrupuleusement', 'étroitement', 'examiné', 'manière approfondie', 'objet']\n",
      "sense_intersect ['exhaustivement | soigneusement | attentivement | minutieusement | méticuleusement | scrupuleusement', 'façon exhaustive | soigneusement | avec soin | manière approfondie', 'manière exhaustive | soigneusement']\n",
      "apoplexy удар\n",
      "https://context.reverso.net/перевод/английский-французский/apoplexy\n",
      "['apoplexie']\n",
      "https://context.reverso.net/перевод/русский-французский/удар\n"
     ]
    },
    {
     "name": "stderr",
     "output_type": "stream",
     "text": [
      "\n",
      "\n",
      " 16%|█▌        | 108/676 [09:02<47:44,  5.04s/it]\u001b[A\u001b[A"
     ]
    },
    {
     "name": "stdout",
     "output_type": "stream",
     "text": [
      "['coup', 'frappe', 'attaque', 'choc', 'impact', 'tir', 'revers', 'poing', 'touché']\n",
      "sense_intersect ['no_equality']\n",
      "apoplexy инсульт\n",
      "https://context.reverso.net/перевод/английский-французский/apoplexy\n",
      "['apoplexie']\n",
      "https://context.reverso.net/перевод/русский-французский/инсульт\n"
     ]
    },
    {
     "name": "stderr",
     "output_type": "stream",
     "text": [
      "\n",
      "\n",
      " 16%|█▌        | 109/676 [09:07<47:06,  4.99s/it]\u001b[A\u001b[A"
     ]
    },
    {
     "name": "stdout",
     "output_type": "stream",
     "text": [
      "['attaque', 'avc']\n",
      "sense_intersect ['no_equality']\n",
      "apoplexy кровоизлияние\n",
      "https://context.reverso.net/перевод/английский-французский/apoplexy\n",
      "['apoplexie']\n",
      "https://context.reverso.net/перевод/русский-французский/кровоизлияние\n"
     ]
    },
    {
     "name": "stderr",
     "output_type": "stream",
     "text": [
      "\n",
      "\n",
      " 16%|█▋        | 110/676 [09:12<47:03,  4.99s/it]\u001b[A\u001b[A"
     ]
    },
    {
     "name": "stdout",
     "output_type": "stream",
     "text": [
      "['hémorragie']\n",
      "sense_intersect ['no_equality']\n",
      "apoplexy апоплексический\n",
      "https://context.reverso.net/перевод/английский-французский/apoplexy\n",
      "['apoplexie']\n",
      "https://context.reverso.net/перевод/русский-французский/апоплексический\n",
      "turn to alternative marks\n"
     ]
    },
    {
     "name": "stderr",
     "output_type": "stream",
     "text": [
      "\n",
      "\n",
      " 16%|█▋        | 111/676 [09:17<46:35,  4.95s/it]\u001b[A\u001b[A"
     ]
    },
    {
     "name": "stdout",
     "output_type": "stream",
     "text": [
      "[]\n",
      "sense_intersect ['no_equality']\n",
      "coconut кокос\n",
      "https://context.reverso.net/перевод/английский-французский/coconut\n",
      "['noix de coco', 'coconut', 'cocotier', 'cocoteraie']\n",
      "https://context.reverso.net/перевод/русский-французский/кокос\n"
     ]
    },
    {
     "name": "stderr",
     "output_type": "stream",
     "text": [
      "\n",
      "\n",
      " 17%|█▋        | 112/676 [09:21<46:06,  4.91s/it]\u001b[A\u001b[A"
     ]
    },
    {
     "name": "stdout",
     "output_type": "stream",
     "text": [
      "['noix de coco']\n",
      "sense_intersect ['noix de coco | coconut | cocotier | cocoteraie']\n",
      "coconut мякоть кокоса\n",
      "https://context.reverso.net/перевод/английский-французский/coconut\n",
      "['noix de coco', 'coconut', 'cocotier', 'cocoteraie']\n",
      "https://context.reverso.net/перевод/русский-французский/мякоть кокоса\n"
     ]
    },
    {
     "name": "stderr",
     "output_type": "stream",
     "text": [
      "\n",
      "\n",
      " 17%|█▋        | 113/676 [09:27<48:19,  5.15s/it]\u001b[A\u001b[A"
     ]
    },
    {
     "name": "stdout",
     "output_type": "stream",
     "text": [
      "['pulpe', 'chair', 'noix de coco']\n",
      "sense_intersect ['noix de coco | coconut | cocotier | cocoteraie']\n",
      "coconut кокосовый\n",
      "https://context.reverso.net/перевод/английский-французский/coconut\n",
      "['noix de coco', 'coconut', 'cocotier', 'cocoteraie']\n",
      "https://context.reverso.net/перевод/русский-французский/кокосовый\n",
      "turn to alternative marks\n"
     ]
    },
    {
     "name": "stderr",
     "output_type": "stream",
     "text": [
      "\n",
      "\n",
      " 17%|█▋        | 114/676 [09:32<47:12,  5.04s/it]\u001b[A\u001b[A"
     ]
    },
    {
     "name": "stdout",
     "output_type": "stream",
     "text": [
      "['de coco', 'sans-coco', 'cocoanut']\n",
      "sense_intersect ['noix de coco | de coco | cocoanut', 'cocoteraie | de coco']\n",
      "not не\n",
      "https://context.reverso.net/перевод/английский-французский/not\n",
      "['pas', 'ne', 'sans', 'non pas', 'jamais', 'not', 'n', 'rien', 'non', 'plus', 'ni', 'peu', 'pu', 'faux', 'tout']\n",
      "https://context.reverso.net/перевод/русский-французский/не\n"
     ]
    },
    {
     "name": "stderr",
     "output_type": "stream",
     "text": [
      "\n",
      "\n",
      " 17%|█▋        | 115/676 [09:37<46:51,  5.01s/it]\u001b[A\u001b[A"
     ]
    },
    {
     "name": "stdout",
     "output_type": "stream",
     "text": [
      "['ne', 'jamais', 'n', 'je', 'se', 'te', 'on', \"d'\", 'ni', 'pas', 'non', 'sans', 'tu', 'rien', 'est']\n",
      "sense_intersect ['pas', 'ne', 'sans', 'jamais', 'n', 'rien', 'non | on', 'ni', 'tout | tu']\n",
      "not нет\n",
      "https://context.reverso.net/перевод/английский-французский/not\n",
      "['pas', 'ne', 'sans', 'non pas', 'jamais', 'not', 'n', 'rien', 'non', 'plus', 'ni', 'peu', 'pu', 'faux', 'tout']\n",
      "https://context.reverso.net/перевод/русский-французский/нет\n"
     ]
    },
    {
     "name": "stderr",
     "output_type": "stream",
     "text": [
      "\n",
      "\n",
      " 17%|█▋        | 116/676 [09:42<48:01,  5.15s/it]\u001b[A\u001b[A"
     ]
    },
    {
     "name": "stdout",
     "output_type": "stream",
     "text": [
      "['non', 'pas', 'ne', 'plus', 'si', 'sans', 'là', 'oui', \"n'\", 'aucun', 'je', \"c'\", 'tu', 'il', 'ça']\n",
      "sense_intersect ['pas', 'ne', 'sans', 'non', 'plus', 'tout | tu']\n",
      "international международный\n",
      "https://context.reverso.net/перевод/английский-французский/international\n",
      "['international', 'mondial', 'étranger', 'monde', 'pays', 'internationalement', 'français', 'globale', 'internationalisation', 'oit', 'fmi', 'internacional']\n",
      "https://context.reverso.net/перевод/русский-французский/международный\n"
     ]
    },
    {
     "name": "stderr",
     "output_type": "stream",
     "text": [
      "\n",
      "\n",
      " 17%|█▋        | 117/676 [09:47<47:39,  5.11s/it]\u001b[A\u001b[A"
     ]
    },
    {
     "name": "stdout",
     "output_type": "stream",
     "text": [
      "['international', 'mondial', 'organisation', 'mondiale', 'traité']\n",
      "sense_intersect ['international | organisation | internationalement | internationalisation | internacional', 'mondial | mondiale']\n",
      "international Интернационал\n",
      "https://context.reverso.net/перевод/английский-французский/international\n",
      "['international', 'mondial', 'étranger', 'monde', 'pays', 'internationalement', 'français', 'globale', 'internationalisation', 'oit', 'fmi', 'internacional']\n",
      "https://context.reverso.net/перевод/русский-французский/Интернационал\n",
      "turn to alternative marks\n"
     ]
    },
    {
     "name": "stderr",
     "output_type": "stream",
     "text": [
      "\n",
      "\n",
      " 17%|█▋        | 118/676 [09:52<46:49,  5.04s/it]\u001b[A\u001b[A"
     ]
    },
    {
     "name": "stdout",
     "output_type": "stream",
     "text": [
      "['internationale', 'liberal international', 'sos', 'isis international']\n",
      "sense_intersect ['international | internationale | liberal international | isis international', 'internationalement | internationale', 'internationalisation | internationale', 'internacional | internationale']\n",
      "parent родитель\n",
      "https://context.reverso.net/перевод/английский-французский/parent\n",
      "['parent', 'mère', 'père', 'parent', 'origine', 'tutelle', 'géniteur', 'parental', 'principale', 'initiale', 'base', 'société-mère']\n",
      "https://context.reverso.net/перевод/русский-французский/родитель\n"
     ]
    },
    {
     "name": "stderr",
     "output_type": "stream",
     "text": [
      "\n",
      "\n",
      " 18%|█▊        | 119/676 [09:57<46:18,  4.99s/it]\u001b[A\u001b[A"
     ]
    },
    {
     "name": "stdout",
     "output_type": "stream",
     "text": [
      "['parent', 'père']\n",
      "sense_intersect ['parent | parental', 'père']\n",
      "parent предок\n",
      "https://context.reverso.net/перевод/английский-французский/parent\n",
      "['parent', 'mère', 'père', 'parent', 'origine', 'tutelle', 'géniteur', 'parental', 'principale', 'initiale', 'base', 'société-mère']\n",
      "https://context.reverso.net/перевод/русский-французский/предок\n"
     ]
    },
    {
     "name": "stderr",
     "output_type": "stream",
     "text": [
      "\n",
      "\n",
      " 18%|█▊        | 120/676 [10:02<45:53,  4.95s/it]\u001b[A\u001b[A"
     ]
    },
    {
     "name": "stdout",
     "output_type": "stream",
     "text": [
      "['ancêtre']\n",
      "sense_intersect ['parent | ancêtre | ancêtre']\n",
      "parent отец\n",
      "https://context.reverso.net/перевод/английский-французский/parent\n",
      "['parent', 'mère', 'père', 'parent', 'origine', 'tutelle', 'géniteur', 'parental', 'principale', 'initiale', 'base', 'société-mère']\n",
      "https://context.reverso.net/перевод/русский-французский/отец\n"
     ]
    },
    {
     "name": "stderr",
     "output_type": "stream",
     "text": [
      "\n",
      "\n",
      " 18%|█▊        | 121/676 [10:07<45:39,  4.94s/it]\u001b[A\u001b[A"
     ]
    },
    {
     "name": "stdout",
     "output_type": "stream",
     "text": [
      "['père', 'papa', 'parent', 'parrain', 'vieux']\n",
      "sense_intersect ['parent | parental', 'père', 'principale | parrain']\n",
      "parent родительский элемент\n",
      "https://context.reverso.net/перевод/английский-французский/parent\n",
      "['parent', 'mère', 'père', 'parent', 'origine', 'tutelle', 'géniteur', 'parental', 'principale', 'initiale', 'base', 'société-mère']\n",
      "https://context.reverso.net/перевод/русский-французский/родительский элемент\n"
     ]
    },
    {
     "name": "stderr",
     "output_type": "stream",
     "text": [
      "\n",
      "\n",
      " 18%|█▊        | 122/676 [10:12<45:35,  4.94s/it]\u001b[A\u001b[A"
     ]
    },
    {
     "name": "stdout",
     "output_type": "stream",
     "text": [
      "['parental', 'élément', 'entrée', 'composante', 'volet', 'aspect']\n",
      "sense_intersect ['parental | parent', 'géniteur | entrée']\n",
      "parent родительница\n",
      "https://context.reverso.net/перевод/английский-французский/parent\n",
      "['parent', 'mère', 'père', 'parent', 'origine', 'tutelle', 'géniteur', 'parental', 'principale', 'initiale', 'base', 'société-mère']\n",
      "https://context.reverso.net/перевод/русский-французский/родительница\n",
      "turn to alternative marks\n"
     ]
    },
    {
     "name": "stderr",
     "output_type": "stream",
     "text": [
      "\n",
      "\n",
      " 18%|█▊        | 123/676 [10:17<45:16,  4.91s/it]\u001b[A\u001b[A"
     ]
    },
    {
     "name": "stdout",
     "output_type": "stream",
     "text": [
      "[]\n",
      "sense_intersect ['no_equality']\n",
      "parent родительский\n",
      "https://context.reverso.net/перевод/английский-французский/parent\n",
      "['parent', 'mère', 'père', 'parent', 'origine', 'tutelle', 'géniteur', 'parental', 'principale', 'initiale', 'base', 'société-mère']\n",
      "https://context.reverso.net/перевод/русский-французский/родительский\n"
     ]
    },
    {
     "name": "stderr",
     "output_type": "stream",
     "text": [
      "\n",
      "\n",
      " 18%|█▊        | 124/676 [10:21<45:01,  4.89s/it]\u001b[A\u001b[A"
     ]
    },
    {
     "name": "stdout",
     "output_type": "stream",
     "text": [
      "['parental']\n",
      "sense_intersect ['parental | parent']\n",
      "parent исходный\n",
      "https://context.reverso.net/перевод/английский-французский/parent\n",
      "['parent', 'mère', 'père', 'parent', 'origine', 'tutelle', 'géniteur', 'parental', 'principale', 'initiale', 'base', 'société-mère']\n",
      "https://context.reverso.net/перевод/русский-французский/исходный\n"
     ]
    },
    {
     "name": "stderr",
     "output_type": "stream",
     "text": [
      "\n",
      "\n",
      " 18%|█▊        | 125/676 [10:26<44:50,  4.88s/it]\u001b[A\u001b[A"
     ]
    },
    {
     "name": "stdout",
     "output_type": "stream",
     "text": [
      "['source', 'référence']\n",
      "sense_intersect ['no_equality']\n",
      "parent вышестоящий\n",
      "https://context.reverso.net/перевод/английский-французский/parent\n",
      "['parent', 'mère', 'père', 'parent', 'origine', 'tutelle', 'géniteur', 'parental', 'principale', 'initiale', 'base', 'société-mère']\n",
      "https://context.reverso.net/перевод/русский-французский/вышестоящий\n",
      "turn to alternative marks\n"
     ]
    },
    {
     "name": "stderr",
     "output_type": "stream",
     "text": [
      "\n",
      "\n",
      " 19%|█▊        | 126/676 [10:32<46:29,  5.07s/it]\u001b[A\u001b[A"
     ]
    },
    {
     "name": "stdout",
     "output_type": "stream",
     "text": [
      "['supérieur', 'juridiction supérieure', 'hiérarchique', 'instance supérieure', 'notateur']\n",
      "sense_intersect ['parent | notateur | notateur', 'origine | juridiction supérieure', 'géniteur | supérieur | juridiction supérieure | instance supérieure']\n",
      "parent один из родителей\n",
      "https://context.reverso.net/перевод/английский-французский/parent\n",
      "['parent', 'mère', 'père', 'parent', 'origine', 'tutelle', 'géniteur', 'parental', 'principale', 'initiale', 'base', 'société-mère']\n",
      "https://context.reverso.net/перевод/русский-французский/один из родителей\n"
     ]
    },
    {
     "name": "stderr",
     "output_type": "stream",
     "text": [
      "\n",
      "\n",
      " 19%|█▉        | 127/676 [10:37<46:10,  5.05s/it]\u001b[A\u001b[A"
     ]
    },
    {
     "name": "stdout",
     "output_type": "stream",
     "text": [
      "[\"l'un des parents\", 'un parent']\n",
      "sense_intersect [\"parent | l'un des parents | un parent | l'un des parents\"]\n",
      "ocean океан\n",
      "https://context.reverso.net/перевод/английский-французский/ocean\n",
      "['océan', 'mer', 'marin', 'large', 'océanique', 'maritime', 'océanographique', 'océane', 'atlantique', 'eau', 'marine', 'paquebot', 'plage', 'pacifique', \"ocean's\"]\n",
      "https://context.reverso.net/перевод/русский-французский/океан\n"
     ]
    },
    {
     "name": "stderr",
     "output_type": "stream",
     "text": [
      "\n",
      "\n",
      " 19%|█▉        | 128/676 [10:42<45:27,  4.98s/it]\u001b[A\u001b[A"
     ]
    },
    {
     "name": "stdout",
     "output_type": "stream",
     "text": [
      "['océan', 'mer', 'atlantique']\n",
      "sense_intersect ['océan | océane', 'mer', 'atlantique | paquebot']\n",
      "ocean дно океана\n",
      "https://context.reverso.net/перевод/английский-французский/ocean\n",
      "['océan', 'mer', 'marin', 'large', 'océanique', 'maritime', 'océanographique', 'océane', 'atlantique', 'eau', 'marine', 'paquebot', 'plage', 'pacifique', \"ocean's\"]\n",
      "https://context.reverso.net/перевод/русский-французский/дно океана\n",
      "turn to alternative marks\n"
     ]
    },
    {
     "name": "stderr",
     "output_type": "stream",
     "text": [
      "\n",
      "\n",
      " 19%|█▉        | 129/676 [10:47<45:35,  5.00s/it]\u001b[A\u001b[A"
     ]
    },
    {
     "name": "stdout",
     "output_type": "stream",
     "text": [
      "[\"fond de l'océan\", 'fond de la mer']\n",
      "sense_intersect ['no_equality']\n",
      "ocean океанский\n",
      "https://context.reverso.net/перевод/английский-французский/ocean\n",
      "['océan', 'mer', 'marin', 'large', 'océanique', 'maritime', 'océanographique', 'océane', 'atlantique', 'eau', 'marine', 'paquebot', 'plage', 'pacifique', \"ocean's\"]\n",
      "https://context.reverso.net/перевод/русский-французский/океанский\n",
      "turn to alternative marks\n"
     ]
    },
    {
     "name": "stderr",
     "output_type": "stream",
     "text": [
      "\n",
      "\n",
      " 19%|█▉        | 130/676 [10:51<45:02,  4.95s/it]\u001b[A\u001b[A"
     ]
    },
    {
     "name": "stdout",
     "output_type": "stream",
     "text": [
      "['ocean', 'queen']\n",
      "sense_intersect ['océane | ocean', \"ocean's | ocean\"]\n",
      "coincidental случайный\n",
      "https://context.reverso.net/перевод/английский-французский/coincidental\n",
      "['fortuit', 'coïncidence', 'hasard']\n",
      "https://context.reverso.net/перевод/русский-французский/случайный\n",
      "turn to alternative marks\n"
     ]
    },
    {
     "name": "stderr",
     "output_type": "stream",
     "text": [
      "\n",
      "\n",
      " 19%|█▉        | 131/676 [10:56<44:34,  4.91s/it]\u001b[A\u001b[A"
     ]
    },
    {
     "name": "stdout",
     "output_type": "stream",
     "text": [
      "['aléatoire', 'accidentel', 'occasionnel', 'fortuit', 'hasard', 'accident', 'simple', 'accidentellement', 'importe quel', 'patrouille']\n",
      "sense_intersect ['fortuit', 'hasard', 'coïncidence | accidentel | occasionnel | accident | accidentellement']\n",
      "coincidental совпадающий\n",
      "https://context.reverso.net/перевод/английский-французский/coincidental\n",
      "['fortuit', 'coïncidence', 'hasard']\n",
      "https://context.reverso.net/перевод/русский-французский/совпадающий\n",
      "turn to alternative marks\n"
     ]
    },
    {
     "name": "stderr",
     "output_type": "stream",
     "text": [
      "\n",
      "\n",
      " 20%|█▉        | 132/676 [11:02<45:23,  5.01s/it]\u001b[A\u001b[A"
     ]
    },
    {
     "name": "stdout",
     "output_type": "stream",
     "text": [
      "[]\n",
      "sense_intersect ['no_equality']\n",
      "coincidental случайное совпадение\n",
      "https://context.reverso.net/перевод/английский-французский/coincidental\n",
      "['fortuit', 'coïncidence', 'hasard']\n",
      "https://context.reverso.net/перевод/русский-французский/случайное совпадение\n",
      "turn to alternative marks\n"
     ]
    },
    {
     "name": "stderr",
     "output_type": "stream",
     "text": [
      "\n",
      "\n",
      " 20%|█▉        | 133/676 [11:06<45:02,  4.98s/it]\u001b[A\u001b[A"
     ]
    },
    {
     "name": "stdout",
     "output_type": "stream",
     "text": [
      "['coïncidence', 'simple coïncidence', 'un hasard']\n",
      "sense_intersect ['coïncidence | simple coïncidence', 'hasard | un hasard']\n",
      "buzzer сирена\n",
      "https://context.reverso.net/перевод/английский-французский/buzzer\n",
      "['buzzer', 'sonnette', 'vibreur', 'sonnerie', 'ronfleur', 'avertisseur sonore']\n",
      "https://context.reverso.net/перевод/русский-французский/сирена\n"
     ]
    },
    {
     "name": "stderr",
     "output_type": "stream",
     "text": [
      "\n",
      "\n",
      " 20%|█▉        | 134/676 [11:11<44:53,  4.97s/it]\u001b[A\u001b[A"
     ]
    },
    {
     "name": "stdout",
     "output_type": "stream",
     "text": [
      "['serena', 'sirène']\n",
      "sense_intersect ['sonnerie | serena | sirène', 'avertisseur sonore | serena']\n",
      "buzzer звонок\n",
      "https://context.reverso.net/перевод/английский-французский/buzzer\n",
      "['buzzer', 'sonnette', 'vibreur', 'sonnerie', 'ronfleur', 'avertisseur sonore']\n",
      "https://context.reverso.net/перевод/русский-французский/звонок\n"
     ]
    },
    {
     "name": "stderr",
     "output_type": "stream",
     "text": [
      "\n",
      "\n",
      " 20%|█▉        | 135/676 [11:17<45:17,  5.02s/it]\u001b[A\u001b[A"
     ]
    },
    {
     "name": "stdout",
     "output_type": "stream",
     "text": [
      "['appel', 'téléphone', 'coup de fil', 'appelé', 'sonnette', 'sonnerie', 'cloche', 'coup de téléphone', 'appelle', 'sonne', 'appeler', 'répondre', 'sonner', 'téléphoner']\n",
      "sense_intersect ['sonnette', 'sonnerie | sonne | sonner | avertisseur sonore', 'ronfleur | coup de fil']\n",
      "buzzer пищалка\n",
      "https://context.reverso.net/перевод/английский-французский/buzzer\n",
      "['buzzer', 'sonnette', 'vibreur', 'sonnerie', 'ronfleur', 'avertisseur sonore']\n",
      "https://context.reverso.net/перевод/русский-французский/пищалка\n",
      "turn to alternative marks\n"
     ]
    },
    {
     "name": "stderr",
     "output_type": "stream",
     "text": [
      "\n",
      "\n",
      " 20%|██        | 136/676 [11:22<47:16,  5.25s/it]\u001b[A\u001b[A"
     ]
    },
    {
     "name": "stdout",
     "output_type": "stream",
     "text": [
      "[]\n",
      "sense_intersect ['no_equality']\n",
      "buzzer зуммерный\n",
      "https://context.reverso.net/перевод/английский-французский/buzzer\n",
      "['buzzer', 'sonnette', 'vibreur', 'sonnerie', 'ronfleur', 'avertisseur sonore']\n",
      "https://context.reverso.net/перевод/русский-французский/зуммерный\n",
      "turn to alternative marks\n"
     ]
    },
    {
     "name": "stderr",
     "output_type": "stream",
     "text": [
      "\n",
      "\n",
      " 20%|██        | 137/676 [11:27<46:14,  5.15s/it]\u001b[A\u001b[A"
     ]
    },
    {
     "name": "stdout",
     "output_type": "stream",
     "text": [
      "[]\n",
      "sense_intersect ['no_equality']\n",
      "dynamite динамит\n",
      "https://context.reverso.net/перевод/английский-французский/dynamite\n",
      "['dynamite', 'explosif', 'dynamiter']\n",
      "https://context.reverso.net/перевод/русский-французский/динамит\n"
     ]
    },
    {
     "name": "stderr",
     "output_type": "stream",
     "text": [
      "\n",
      "\n",
      " 20%|██        | 138/676 [11:32<46:28,  5.18s/it]\u001b[A\u001b[A"
     ]
    },
    {
     "name": "stdout",
     "output_type": "stream",
     "text": [
      "['dynamite']\n",
      "sense_intersect ['dynamite | dynamiter']\n",
      "dynamite динамитная шашка\n",
      "https://context.reverso.net/перевод/английский-французский/dynamite\n",
      "['dynamite', 'explosif', 'dynamiter']\n",
      "https://context.reverso.net/перевод/русский-французский/динамитная шашка\n",
      "turn to alternative marks\n"
     ]
    },
    {
     "name": "stderr",
     "output_type": "stream",
     "text": [
      "\n",
      "\n",
      " 21%|██        | 139/676 [11:38<46:22,  5.18s/it]\u001b[A\u001b[A"
     ]
    },
    {
     "name": "stdout",
     "output_type": "stream",
     "text": [
      "[]\n",
      "sense_intersect ['no_equality']\n",
      "dynamite динамитный\n",
      "https://context.reverso.net/перевод/английский-французский/dynamite\n",
      "['dynamite', 'explosif', 'dynamiter']\n",
      "https://context.reverso.net/перевод/русский-французский/динамитный\n"
     ]
    },
    {
     "name": "stderr",
     "output_type": "stream",
     "text": [
      "\n",
      "\n",
      " 21%|██        | 140/676 [11:43<46:18,  5.18s/it]\u001b[A\u001b[A"
     ]
    },
    {
     "name": "stdout",
     "output_type": "stream",
     "text": [
      "['dynamique']\n",
      "sense_intersect ['dynamite | dynamique', 'dynamiter | dynamique']\n",
      "dynamite взрывной\n",
      "https://context.reverso.net/перевод/английский-французский/dynamite\n",
      "['dynamite', 'explosif', 'dynamiter']\n",
      "https://context.reverso.net/перевод/русский-французский/взрывной\n"
     ]
    },
    {
     "name": "stderr",
     "output_type": "stream",
     "text": [
      "\n",
      "\n",
      " 21%|██        | 141/676 [11:48<45:28,  5.10s/it]\u001b[A\u001b[A"
     ]
    },
    {
     "name": "stdout",
     "output_type": "stream",
     "text": [
      "['explosif']\n",
      "sense_intersect ['explosif']\n",
      "buy купить\n",
      "https://context.reverso.net/перевод/английский-французский/buy\n",
      "['acheter', 'payer', 'offrir', 'racheter', 'gagner', 'acquérir', 'procurer', 'commander', 'achat', 'inviter', 'souscrire', 'se procurer', 'gober', \"s'acheter\", 'avaler', 'buy']\n",
      "https://context.reverso.net/перевод/русский-французский/купить\n",
      "['acheter', 'offrir', 'payer', 'prendre', 'avoir', 'racheter', 'chercher', 'trouver', 'vendre', 'faire']\n"
     ]
    },
    {
     "name": "stderr",
     "output_type": "stream",
     "text": [
      "\n",
      "\n",
      " 21%|██        | 142/676 [11:53<45:40,  5.13s/it]\u001b[A\u001b[A"
     ]
    },
    {
     "name": "stdout",
     "output_type": "stream",
     "text": [
      "sense_intersect [\"acheter | racheter | chercher | s'acheter\", 'payer', 'offrir', 'racheter', 'procurer | trouver', 'se procurer | prendre | trouver']\n",
      "buy продать\n",
      "https://context.reverso.net/перевод/английский-французский/buy\n",
      "['acheter', 'payer', 'offrir', 'racheter', 'gagner', 'acquérir', 'procurer', 'commander', 'achat', 'inviter', 'souscrire', 'se procurer', 'gober', \"s'acheter\", 'avaler', 'buy']\n",
      "https://context.reverso.net/перевод/русский-французский/продать\n"
     ]
    },
    {
     "name": "stderr",
     "output_type": "stream",
     "text": [
      "\n",
      "\n",
      " 21%|██        | 143/676 [11:58<45:21,  5.11s/it]\u001b[A\u001b[A"
     ]
    },
    {
     "name": "stdout",
     "output_type": "stream",
     "text": [
      "['vendre', 'revendre', 'acheter', 'vente']\n",
      "sense_intersect [\"acheter | racheter | s'acheter\"]\n",
      "buy накупить\n",
      "https://context.reverso.net/перевод/английский-французский/buy\n",
      "['acheter', 'payer', 'offrir', 'racheter', 'gagner', 'acquérir', 'procurer', 'commander', 'achat', 'inviter', 'souscrire', 'se procurer', 'gober', \"s'acheter\", 'avaler', 'buy']\n",
      "https://context.reverso.net/перевод/русский-французский/накупить\n",
      "turn to alternative marks\n"
     ]
    },
    {
     "name": "stderr",
     "output_type": "stream",
     "text": [
      "\n",
      "\n",
      " 21%|██▏       | 144/676 [12:03<44:36,  5.03s/it]\u001b[A\u001b[A"
     ]
    },
    {
     "name": "stdout",
     "output_type": "stream",
     "text": [
      "[]\n",
      "sense_intersect ['no_equality']\n",
      "buy подкупить\n",
      "https://context.reverso.net/перевод/английский-французский/buy\n",
      "['acheter', 'payer', 'offrir', 'racheter', 'gagner', 'acquérir', 'procurer', 'commander', 'achat', 'inviter', 'souscrire', 'se procurer', 'gober', \"s'acheter\", 'avaler', 'buy']\n",
      "https://context.reverso.net/перевод/русский-французский/подкупить\n"
     ]
    },
    {
     "name": "stderr",
     "output_type": "stream",
     "text": [
      "\n",
      "\n",
      " 21%|██▏       | 145/676 [12:08<44:11,  4.99s/it]\u001b[A\u001b[A"
     ]
    },
    {
     "name": "stdout",
     "output_type": "stream",
     "text": [
      "['acheter', 'soudoyer', 'corrompre']\n",
      "sense_intersect [\"acheter | racheter | s'acheter\", 'procurer | corrompre', 'souscrire | soudoyer', 'se procurer | corrompre', 'gober | corrompre']\n",
      "buy покупка\n",
      "https://context.reverso.net/перевод/английский-французский/buy\n",
      "['acheter', 'payer', 'offrir', 'racheter', 'gagner', 'acquérir', 'procurer', 'commander', 'achat', 'inviter', 'souscrire', 'se procurer', 'gober', \"s'acheter\", 'avaler', 'buy']\n",
      "https://context.reverso.net/перевод/русский-французский/покупка\n"
     ]
    },
    {
     "name": "stderr",
     "output_type": "stream",
     "text": [
      "\n",
      "\n",
      " 22%|██▏       | 146/676 [12:13<43:40,  4.94s/it]\u001b[A\u001b[A"
     ]
    },
    {
     "name": "stdout",
     "output_type": "stream",
     "text": [
      "['achat', 'acheter']\n",
      "sense_intersect [\"acheter | racheter | s'acheter\", 'achat']\n",
      "peremptory императивный\n",
      "https://context.reverso.net/перевод/английский-французский/peremptory\n",
      "['impérative', 'péremptoire', 'impératif', 'récusations péremptoires']\n",
      "https://context.reverso.net/перевод/русский-французский/императивный\n",
      "turn to alternative marks\n"
     ]
    },
    {
     "name": "stderr",
     "output_type": "stream",
     "text": [
      "\n",
      "\n",
      " 22%|██▏       | 147/676 [12:18<43:41,  4.96s/it]\u001b[A\u001b[A"
     ]
    },
    {
     "name": "stdout",
     "output_type": "stream",
     "text": [
      "['impératif', 'obligatoire', 'jus cogens', 'rende']\n",
      "sense_intersect ['impératif | impérative | péremptoire', 'récusations péremptoires | obligatoire']\n",
      "peremptory безапелляционный\n",
      "https://context.reverso.net/перевод/английский-французский/peremptory\n",
      "['impérative', 'péremptoire', 'impératif', 'récusations péremptoires']\n",
      "https://context.reverso.net/перевод/русский-французский/безапелляционный\n",
      "turn to alternative marks\n"
     ]
    },
    {
     "name": "stderr",
     "output_type": "stream",
     "text": [
      "\n",
      "\n",
      " 22%|██▏       | 148/676 [12:23<44:36,  5.07s/it]\u001b[A\u001b[A"
     ]
    },
    {
     "name": "stdout",
     "output_type": "stream",
     "text": [
      "[]\n",
      "sense_intersect ['no_equality']\n",
      "member член\n",
      "https://context.reverso.net/перевод/английский-французский/member\n",
      "['membre', 'élément', 'député', 'député', 'organe', 'partie', 'collègue', 'militaire', 'pièce', 'sein', 'associé', 'adhésion', 'adhérent', 'affilié', 'affilié', 'sociétaire', 'adhérent']\n",
      "https://context.reverso.net/перевод/русский-французский/член\n"
     ]
    },
    {
     "name": "stderr",
     "output_type": "stream",
     "text": [
      "\n",
      "\n",
      " 22%|██▏       | 149/676 [12:29<46:51,  5.33s/it]\u001b[A\u001b[A"
     ]
    },
    {
     "name": "stdout",
     "output_type": "stream",
     "text": [
      "['membre', 'bite', 'pénis', 'queue', 'couille', 'famille', 'conseiller', 'fait partie', 'fais partie', 'député', 'commissaire', 'sucer']\n",
      "sense_intersect ['membre', 'député', 'partie | fait partie | fais partie', 'collègue | couille | conseiller', 'militaire | fait partie']\n",
      "member представитель\n",
      "https://context.reverso.net/перевод/английский-французский/member\n",
      "['membre', 'élément', 'député', 'député', 'organe', 'partie', 'collègue', 'militaire', 'pièce', 'sein', 'associé', 'adhésion', 'adhérent', 'affilié', 'affilié', 'sociétaire', 'adhérent']\n",
      "https://context.reverso.net/перевод/русский-французский/представитель\n"
     ]
    },
    {
     "name": "stderr",
     "output_type": "stream",
     "text": [
      "\n",
      "\n",
      " 22%|██▏       | 150/676 [12:35<47:44,  5.45s/it]\u001b[A\u001b[A"
     ]
    },
    {
     "name": "stdout",
     "output_type": "stream",
     "text": [
      "['représentant', 'représentant', 'porte-parole', 'délégué', 'membre', 'observateur', 'représente', 'ambassadeur', 'délégation', 'autre', 'agent', 'haut-représentant']\n",
      "sense_intersect ['membre', 'partie | porte-parole | haut-représentant', 'adhérent | représentant | représentant']\n",
      "member элемент\n",
      "https://context.reverso.net/перевод/английский-французский/member\n",
      "['membre', 'élément', 'député', 'député', 'organe', 'partie', 'collègue', 'militaire', 'pièce', 'sein', 'associé', 'adhésion', 'adhérent', 'affilié', 'affilié', 'sociétaire', 'adhérent']\n",
      "https://context.reverso.net/перевод/русский-французский/элемент\n"
     ]
    },
    {
     "name": "stderr",
     "output_type": "stream",
     "text": [
      "\n",
      "\n",
      " 22%|██▏       | 151/676 [12:41<50:30,  5.77s/it]\u001b[A\u001b[A"
     ]
    },
    {
     "name": "stdout",
     "output_type": "stream",
     "text": [
      "['élément', 'entrée', 'composante', 'volet']\n",
      "sense_intersect ['élément', 'adhérent | entrée | entrée']\n",
      "member депутат\n",
      "https://context.reverso.net/перевод/английский-французский/member\n",
      "['membre', 'élément', 'député', 'député', 'organe', 'partie', 'collègue', 'militaire', 'pièce', 'sein', 'associé', 'adhésion', 'adhérent', 'affilié', 'affilié', 'sociétaire', 'adhérent']\n",
      "https://context.reverso.net/перевод/русский-французский/депутат\n"
     ]
    },
    {
     "name": "stderr",
     "output_type": "stream",
     "text": [
      "\n",
      "\n",
      " 22%|██▏       | 152/676 [12:47<50:34,  5.79s/it]\u001b[A\u001b[A"
     ]
    },
    {
     "name": "stdout",
     "output_type": "stream",
     "text": [
      "['député']\n",
      "sense_intersect ['député']\n",
      "member член организации\n",
      "https://context.reverso.net/перевод/английский-французский/member\n",
      "['membre', 'élément', 'député', 'député', 'organe', 'partie', 'collègue', 'militaire', 'pièce', 'sein', 'associé', 'adhésion', 'adhérent', 'affilié', 'affilié', 'sociétaire', 'adhérent']\n",
      "https://context.reverso.net/перевод/русский-французский/член организации\n"
     ]
    },
    {
     "name": "stderr",
     "output_type": "stream",
     "text": [
      "\n",
      "\n",
      " 23%|██▎       | 153/676 [12:52<49:08,  5.64s/it]\u001b[A\u001b[A"
     ]
    },
    {
     "name": "stdout",
     "output_type": "stream",
     "text": [
      "['membre', 'bite', 'pénis', 'queue', 'organisation', 'organisation', 'organisme', 'organiser', 'membre']\n",
      "sense_intersect ['membre', 'organe | organisation | organisation | organisme | organiser']\n",
      "member членский\n",
      "https://context.reverso.net/перевод/английский-французский/member\n",
      "['membre', 'élément', 'député', 'député', 'organe', 'partie', 'collègue', 'militaire', 'pièce', 'sein', 'associé', 'adhésion', 'adhérent', 'affilié', 'affilié', 'sociétaire', 'adhérent']\n",
      "https://context.reverso.net/перевод/русский-французский/членский\n"
     ]
    },
    {
     "name": "stderr",
     "output_type": "stream",
     "text": [
      "\n",
      "\n",
      " 23%|██▎       | 154/676 [12:57<47:46,  5.49s/it]\u001b[A\u001b[A"
     ]
    },
    {
     "name": "stdout",
     "output_type": "stream",
     "text": [
      "['le nombre', 'membre']\n",
      "sense_intersect ['membre | le nombre']\n",
      "childhood детство\n",
      "https://context.reverso.net/перевод/английский-французский/childhood\n",
      "['enfance', 'jeunesse', 'infantile', 'childhood', 'jeune enfant', 'jeune âge', 'grandi', 'juvénile']\n",
      "https://context.reverso.net/перевод/русский-французский/детство\n"
     ]
    },
    {
     "name": "stderr",
     "output_type": "stream",
     "text": [
      "\n",
      "\n",
      " 23%|██▎       | 155/676 [13:05<52:13,  6.01s/it]\u001b[A\u001b[A"
     ]
    },
    {
     "name": "stdout",
     "output_type": "stream",
     "text": [
      "['enfance']\n",
      "sense_intersect ['enfance | jeune enfant']\n",
      "childhood детский\n",
      "https://context.reverso.net/перевод/английский-французский/childhood\n",
      "['enfance', 'jeunesse', 'infantile', 'childhood', 'jeune enfant', 'jeune âge', 'grandi', 'juvénile']\n",
      "https://context.reverso.net/перевод/русский-французский/детский\n"
     ]
    },
    {
     "name": "stderr",
     "output_type": "stream",
     "text": [
      "\n",
      "\n",
      " 23%|██▎       | 156/676 [13:10<49:12,  5.68s/it]\u001b[A\u001b[A"
     ]
    },
    {
     "name": "stdout",
     "output_type": "stream",
     "text": [
      "['enfant', 'orphelinat']\n",
      "sense_intersect ['enfance | enfant', 'infantile | orphelinat', 'jeune enfant | enfant']\n",
      "go идти\n",
      "https://context.reverso.net/перевод/английский-французский/go\n",
      "['aller', 'partir', 'passer', 'faire', 'sortir', 'rentrer', 'retourner', 'continuer', 'monter', 'venir', 'entrer', 'voir', 'chercher', 'prendre', 'se rendre']\n",
      "https://context.reverso.net/перевод/русский-французский/идти\n"
     ]
    },
    {
     "name": "stderr",
     "output_type": "stream",
     "text": [
      "\n",
      "\n",
      " 23%|██▎       | 157/676 [13:14<47:03,  5.44s/it]\u001b[A\u001b[A"
     ]
    },
    {
     "name": "stdout",
     "output_type": "stream",
     "text": [
      "['aller', 'partir', 'rentrer', 'marcher', 'suivre', 'venir', 'faire', 'sortir', 'continuer', 'prendre', 'passer', 'poursuivre', 'retourner', 'filer', 'entrer', 'y aille']\n",
      "sense_intersect ['aller', 'partir', 'passer', 'faire | filer', 'sortir', 'rentrer | prendre | retourner | entrer | monter | se rendre', 'retourner', 'continuer', 'venir | suivre', 'entrer', 'prendre', 'chercher | marcher']\n",
      "go проходить\n",
      "https://context.reverso.net/перевод/английский-французский/go\n",
      "['aller', 'partir', 'passer', 'faire', 'sortir', 'rentrer', 'retourner', 'continuer', 'monter', 'venir', 'entrer', 'voir', 'chercher', 'prendre', 'se rendre']\n",
      "https://context.reverso.net/перевод/русский-французский/проходить\n"
     ]
    },
    {
     "name": "stderr",
     "output_type": "stream",
     "text": [
      "\n",
      "\n",
      " 23%|██▎       | 158/676 [13:19<46:04,  5.34s/it]\u001b[A\u001b[A"
     ]
    },
    {
     "name": "stdout",
     "output_type": "stream",
     "text": [
      "['passer', 'suivre', 'traverser', 'avoir lieu', 'se tenir', 'se faire', 'se dérouler', 'recevoir', 'se tiendra', 'se dérouleront', 'se déroulera']\n",
      "sense_intersect ['passer', 'faire | se faire', 'rentrer | traverser | se tenir', 'retourner | traverser | recevoir | se dérouleront', 'venir | suivre | avoir lieu', 'entrer | traverser | se tiendra', 'se rendre | se dérouler']\n",
      "go ехать\n",
      "https://context.reverso.net/перевод/английский-французский/go\n",
      "['aller', 'partir', 'passer', 'faire', 'sortir', 'rentrer', 'retourner', 'continuer', 'monter', 'venir', 'entrer', 'voir', 'chercher', 'prendre', 'se rendre']\n",
      "https://context.reverso.net/перевод/русский-французский/ехать\n"
     ]
    },
    {
     "name": "stderr",
     "output_type": "stream",
     "text": [
      "\n",
      "\n",
      " 24%|██▎       | 159/676 [13:25<46:15,  5.37s/it]\u001b[A\u001b[A"
     ]
    },
    {
     "name": "stdout",
     "output_type": "stream",
     "text": [
      "['aller', 'partir', 'venir', 'rentrer', 'conduire', 'voyager', 'rouler', 'retourner', 'continuer', 'monter', 'route']\n",
      "sense_intersect ['aller', 'partir', 'rentrer | retourner | monter | entrer | prendre | se rendre', 'retourner', 'continuer | conduire | route', 'monter', 'venir']\n",
      "go отправиться\n",
      "https://context.reverso.net/перевод/английский-французский/go\n",
      "['aller', 'partir', 'passer', 'faire', 'sortir', 'rentrer', 'retourner', 'continuer', 'monter', 'venir', 'entrer', 'voir', 'chercher', 'prendre', 'se rendre']\n",
      "https://context.reverso.net/перевод/русский-французский/отправиться\n"
     ]
    },
    {
     "name": "stderr",
     "output_type": "stream",
     "text": [
      "\n",
      "\n",
      " 24%|██▎       | 160/676 [13:30<45:07,  5.25s/it]\u001b[A\u001b[A"
     ]
    },
    {
     "name": "stdout",
     "output_type": "stream",
     "text": [
      "['aller', 'partir', 'rentrer', 'voyager', 'se rendre', 'retourner', 'venir', 'faire']\n",
      "sense_intersect ['aller', 'partir', 'faire', 'rentrer | se rendre | retourner | monter | entrer | prendre', 'retourner', 'venir', 'se rendre']\n",
      "go перейти\n",
      "https://context.reverso.net/перевод/английский-французский/go\n",
      "['aller', 'partir', 'passer', 'faire', 'sortir', 'rentrer', 'retourner', 'continuer', 'monter', 'venir', 'entrer', 'voir', 'chercher', 'prendre', 'se rendre']\n",
      "https://context.reverso.net/перевод/русский-французский/перейти\n"
     ]
    },
    {
     "name": "stderr",
     "output_type": "stream",
     "text": [
      "\n",
      "\n",
      " 24%|██▍       | 161/676 [13:35<44:23,  5.17s/it]\u001b[A\u001b[A"
     ]
    },
    {
     "name": "stdout",
     "output_type": "stream",
     "text": [
      "['passer', 'aller', 'traverser', 'franchir', 'aborder', 'adopter', 'changer', 'procéder']\n",
      "sense_intersect ['aller', 'passer', 'rentrer | traverser', 'retourner | traverser', 'monter | adopter', 'entrer | traverser', 'chercher | changer', 'prendre | adopter']\n",
      "go происходить\n",
      "https://context.reverso.net/перевод/английский-французский/go\n",
      "['aller', 'partir', 'passer', 'faire', 'sortir', 'rentrer', 'retourner', 'continuer', 'monter', 'venir', 'entrer', 'voir', 'chercher', 'prendre', 'se rendre']\n",
      "https://context.reverso.net/перевод/русский-французский/происходить\n"
     ]
    },
    {
     "name": "stderr",
     "output_type": "stream",
     "text": [
      "\n",
      "\n",
      " 24%|██▍       | 162/676 [13:40<45:16,  5.28s/it]\u001b[A\u001b[A"
     ]
    },
    {
     "name": "stdout",
     "output_type": "stream",
     "text": [
      "['se produire', 'arriver', 'se passer', 'se faire', 'avoir lieu']\n",
      "sense_intersect ['passer | se passer', 'faire | se faire', 'retourner | se produire', 'venir | arriver | avoir lieu', 'prendre | se produire', 'se rendre | se produire']\n",
      "plate пластина\n",
      "https://context.reverso.net/перевод/английский-французский/plate\n",
      "['plaque', 'plateau', 'assiette', 'tôle', 'plat', 'platine', 'plaquette', 'disque', 'plaquer', 'plate', 'panneau', 'planche', 'lame', 'immatriculation', 'dalle', 'cliché']\n",
      "https://context.reverso.net/перевод/русский-французский/пластина\n",
      "turn to alternative marks\n"
     ]
    },
    {
     "name": "stderr",
     "output_type": "stream",
     "text": [
      "\n",
      "\n",
      " 24%|██▍       | 163/676 [13:45<44:23,  5.19s/it]\u001b[A\u001b[A"
     ]
    },
    {
     "name": "stdout",
     "output_type": "stream",
     "text": [
      "['plaque', 'planche', 'chewing-gum', 'titane']\n",
      "sense_intersect ['plaque | plaquette | plaquer', 'planche', 'platine | titane']\n",
      "plate плита\n",
      "https://context.reverso.net/перевод/английский-французский/plate\n",
      "['plaque', 'plateau', 'assiette', 'tôle', 'plat', 'platine', 'plaquette', 'disque', 'plaquer', 'plate', 'panneau', 'planche', 'lame', 'immatriculation', 'dalle', 'cliché']\n",
      "https://context.reverso.net/перевод/русский-французский/плита\n"
     ]
    },
    {
     "name": "stderr",
     "output_type": "stream",
     "text": [
      "\n",
      "\n",
      " 24%|██▍       | 164/676 [13:51<44:44,  5.24s/it]\u001b[A\u001b[A"
     ]
    },
    {
     "name": "stdout",
     "output_type": "stream",
     "text": [
      "['cuisinière']\n",
      "sense_intersect ['no_equality']\n",
      "plate тарелка\n",
      "https://context.reverso.net/перевод/английский-французский/plate\n",
      "['plaque', 'plateau', 'assiette', 'tôle', 'plat', 'platine', 'plaquette', 'disque', 'plaquer', 'plate', 'panneau', 'planche', 'lame', 'immatriculation', 'dalle', 'cliché']\n",
      "https://context.reverso.net/перевод/русский-французский/тарелка\n"
     ]
    },
    {
     "name": "stderr",
     "output_type": "stream",
     "text": [
      "\n",
      "\n",
      " 24%|██▍       | 165/676 [13:56<44:01,  5.17s/it]\u001b[A\u001b[A"
     ]
    },
    {
     "name": "stdout",
     "output_type": "stream",
     "text": [
      "['assiette']\n",
      "sense_intersect ['assiette']\n",
      "plate лист\n",
      "https://context.reverso.net/перевод/английский-французский/plate\n",
      "['plaque', 'plateau', 'assiette', 'tôle', 'plat', 'platine', 'plaquette', 'disque', 'plaquer', 'plate', 'panneau', 'planche', 'lame', 'immatriculation', 'dalle', 'cliché']\n",
      "https://context.reverso.net/перевод/русский-французский/лист\n"
     ]
    },
    {
     "name": "stderr",
     "output_type": "stream",
     "text": [
      "\n",
      "\n",
      " 25%|██▍       | 166/676 [14:01<43:11,  5.08s/it]\u001b[A\u001b[A"
     ]
    },
    {
     "name": "stdout",
     "output_type": "stream",
     "text": [
      "['feuille', 'liste', 'papier']\n",
      "sense_intersect ['assiette | liste']\n",
      "plate номерной знак\n",
      "https://context.reverso.net/перевод/английский-французский/plate\n",
      "['plaque', 'plateau', 'assiette', 'tôle', 'plat', 'platine', 'plaquette', 'disque', 'plaquer', 'plate', 'panneau', 'planche', 'lame', 'immatriculation', 'dalle', 'cliché']\n",
      "https://context.reverso.net/перевод/русский-французский/номерной знак\n"
     ]
    },
    {
     "name": "stderr",
     "output_type": "stream",
     "text": [
      "\n",
      "\n",
      " 25%|██▍       | 167/676 [14:06<42:47,  5.04s/it]\u001b[A\u001b[A"
     ]
    },
    {
     "name": "stdout",
     "output_type": "stream",
     "text": [
      "[\"plaque d'immatriculation\"]\n",
      "sense_intersect [\"platine | plaque d'immatriculation\", \"plaquette | plaque d'immatriculation\", \"plaquer | plaque d'immatriculation\", \"immatriculation | plaque d'immatriculation\"]\n",
      "plate дощечка\n",
      "https://context.reverso.net/перевод/английский-французский/plate\n",
      "['plaque', 'plateau', 'assiette', 'tôle', 'plat', 'platine', 'plaquette', 'disque', 'plaquer', 'plate', 'panneau', 'planche', 'lame', 'immatriculation', 'dalle', 'cliché']\n",
      "https://context.reverso.net/перевод/русский-французский/дощечка\n",
      "turn to alternative marks\n"
     ]
    },
    {
     "name": "stderr",
     "output_type": "stream",
     "text": [
      "\n",
      "\n",
      " 25%|██▍       | 168/676 [14:10<42:10,  4.98s/it]\u001b[A\u001b[A"
     ]
    },
    {
     "name": "stdout",
     "output_type": "stream",
     "text": [
      "['tablette']\n",
      "sense_intersect ['plaquette | tablette']\n",
      "plate панель\n",
      "https://context.reverso.net/перевод/английский-французский/plate\n",
      "['plaque', 'plateau', 'assiette', 'tôle', 'plat', 'platine', 'plaquette', 'disque', 'plaquer', 'plate', 'panneau', 'planche', 'lame', 'immatriculation', 'dalle', 'cliché']\n",
      "https://context.reverso.net/перевод/русский-французский/панель\n"
     ]
    },
    {
     "name": "stderr",
     "output_type": "stream",
     "text": [
      "\n",
      "\n",
      " 25%|██▌       | 169/676 [14:15<42:13,  5.00s/it]\u001b[A\u001b[A"
     ]
    },
    {
     "name": "stdout",
     "output_type": "stream",
     "text": [
      "['panneau', 'barre']\n",
      "sense_intersect ['panneau']\n",
      "plate накладка\n",
      "https://context.reverso.net/перевод/английский-французский/plate\n",
      "['plaque', 'plateau', 'assiette', 'tôle', 'plat', 'platine', 'plaquette', 'disque', 'plaquer', 'plate', 'panneau', 'planche', 'lame', 'immatriculation', 'dalle', 'cliché']\n",
      "https://context.reverso.net/перевод/русский-французский/накладка\n",
      "turn to alternative marks\n"
     ]
    },
    {
     "name": "stderr",
     "output_type": "stream",
     "text": [
      "\n",
      "\n",
      " 25%|██▌       | 170/676 [14:21<42:30,  5.04s/it]\u001b[A\u001b[A"
     ]
    },
    {
     "name": "stdout",
     "output_type": "stream",
     "text": [
      "[]\n",
      "sense_intersect ['no_equality']\n",
      "plate платформа\n",
      "https://context.reverso.net/перевод/английский-французский/plate\n",
      "['plaque', 'plateau', 'assiette', 'tôle', 'plat', 'platine', 'plaquette', 'disque', 'plaquer', 'plate', 'panneau', 'planche', 'lame', 'immatriculation', 'dalle', 'cliché']\n",
      "https://context.reverso.net/перевод/русский-французский/платформа\n"
     ]
    },
    {
     "name": "stderr",
     "output_type": "stream",
     "text": [
      "\n",
      "\n",
      " 25%|██▌       | 171/676 [14:26<42:29,  5.05s/it]\u001b[A\u001b[A"
     ]
    },
    {
     "name": "stdout",
     "output_type": "stream",
     "text": [
      "['plate-forme', 'programme', 'plateforme', 'cadre']\n",
      "sense_intersect ['plaquette | plate-forme | plateforme', 'plate | plate-forme']\n",
      "plate стяжка\n",
      "https://context.reverso.net/перевод/английский-французский/plate\n",
      "['plaque', 'plateau', 'assiette', 'tôle', 'plat', 'platine', 'plaquette', 'disque', 'plaquer', 'plate', 'panneau', 'planche', 'lame', 'immatriculation', 'dalle', 'cliché']\n",
      "https://context.reverso.net/перевод/русский-французский/стяжка\n",
      "turn to alternative marks\n"
     ]
    },
    {
     "name": "stderr",
     "output_type": "stream",
     "text": [
      "\n",
      "\n",
      " 25%|██▌       | 172/676 [14:31<43:51,  5.22s/it]\u001b[A\u001b[A"
     ]
    },
    {
     "name": "stdout",
     "output_type": "stream",
     "text": [
      "[]\n",
      "sense_intersect ['no_equality']\n",
      "plate бляха\n",
      "https://context.reverso.net/перевод/английский-французский/plate\n",
      "['plaque', 'plateau', 'assiette', 'tôle', 'plat', 'platine', 'plaquette', 'disque', 'plaquer', 'plate', 'panneau', 'planche', 'lame', 'immatriculation', 'dalle', 'cliché']\n",
      "https://context.reverso.net/перевод/русский-французский/бляха\n",
      "turn to alternative marks\n"
     ]
    },
    {
     "name": "stderr",
     "output_type": "stream",
     "text": [
      "\n",
      "\n",
      " 26%|██▌       | 173/676 [14:36<43:07,  5.14s/it]\u001b[A\u001b[A"
     ]
    },
    {
     "name": "stdout",
     "output_type": "stream",
     "text": [
      "['plaque']\n",
      "sense_intersect ['plaque | plaquette | plaquer']\n",
      "plate толстый лист\n",
      "https://context.reverso.net/перевод/английский-французский/plate\n",
      "['plaque', 'plateau', 'assiette', 'tôle', 'plat', 'platine', 'plaquette', 'disque', 'plaquer', 'plate', 'panneau', 'planche', 'lame', 'immatriculation', 'dalle', 'cliché']\n",
      "https://context.reverso.net/перевод/русский-французский/толстый лист\n"
     ]
    },
    {
     "name": "stderr",
     "output_type": "stream",
     "text": [
      "\n",
      "\n",
      " 26%|██▌       | 174/676 [14:42<43:14,  5.17s/it]\u001b[A\u001b[A"
     ]
    },
    {
     "name": "stdout",
     "output_type": "stream",
     "text": [
      "['gros', 'épais', 'obèse', 'gras', 'corpulent', 'feuille', 'liste', 'papier', 'questionnaire', 'list']\n",
      "sense_intersect ['assiette | liste', 'platine | questionnaire', 'plaquette | corpulent', 'plaquer | corpulent', 'immatriculation | questionnaire']\n",
      "plate листовой\n",
      "https://context.reverso.net/перевод/английский-французский/plate\n",
      "['plaque', 'plateau', 'assiette', 'tôle', 'plat', 'platine', 'plaquette', 'disque', 'plaquer', 'plate', 'panneau', 'planche', 'lame', 'immatriculation', 'dalle', 'cliché']\n",
      "https://context.reverso.net/перевод/русский-французский/листовой\n",
      "turn to alternative marks\n"
     ]
    },
    {
     "name": "stderr",
     "output_type": "stream",
     "text": [
      "\n",
      "\n",
      " 26%|██▌       | 175/676 [14:47<44:08,  5.29s/it]\u001b[A\u001b[A"
     ]
    },
    {
     "name": "stdout",
     "output_type": "stream",
     "text": [
      "['foliaire', 'feuillage', 'au chou']\n",
      "sense_intersect ['no_equality']\n",
      "plate пластинчатый\n",
      "https://context.reverso.net/перевод/английский-французский/plate\n",
      "['plaque', 'plateau', 'assiette', 'tôle', 'plat', 'platine', 'plaquette', 'disque', 'plaquer', 'plate', 'panneau', 'planche', 'lame', 'immatriculation', 'dalle', 'cliché']\n",
      "https://context.reverso.net/перевод/русский-французский/пластинчатый\n",
      "turn to alternative marks\n"
     ]
    },
    {
     "name": "stderr",
     "output_type": "stream",
     "text": [
      "\n",
      "\n",
      " 26%|██▌       | 176/676 [14:52<43:28,  5.22s/it]\u001b[A\u001b[A"
     ]
    },
    {
     "name": "stdout",
     "output_type": "stream",
     "text": [
      "[]\n",
      "sense_intersect ['no_equality']\n",
      "fish рыба\n",
      "https://context.reverso.net/перевод/английский-французский/fish\n",
      "['poisson', 'pêche', 'piscicole', 'halieutique', 'poissonnier', 'morue', 'pêcher', 'aquatique', 'fish', 'pisciculture', 'pêcheur', 'thon', 'aquarium', 'mer']\n",
      "https://context.reverso.net/перевод/русский-французский/рыба\n"
     ]
    },
    {
     "name": "stderr",
     "output_type": "stream",
     "text": [
      "\n",
      "\n",
      " 26%|██▌       | 177/676 [14:57<42:28,  5.11s/it]\u001b[A\u001b[A"
     ]
    },
    {
     "name": "stdout",
     "output_type": "stream",
     "text": [
      "['poisson']\n",
      "sense_intersect ['poisson | poissonnier']\n",
      "fish Фиш\n",
      "https://context.reverso.net/перевод/английский-французский/fish\n",
      "['poisson', 'pêche', 'piscicole', 'halieutique', 'poissonnier', 'morue', 'pêcher', 'aquatique', 'fish', 'pisciculture', 'pêcheur', 'thon', 'aquarium', 'mer']\n",
      "https://context.reverso.net/перевод/русский-французский/Фиш\n"
     ]
    },
    {
     "name": "stderr",
     "output_type": "stream",
     "text": [
      "\n",
      "\n",
      " 26%|██▋       | 178/676 [15:02<41:48,  5.04s/it]\u001b[A\u001b[A"
     ]
    },
    {
     "name": "stdout",
     "output_type": "stream",
     "text": [
      "['fish']\n",
      "sense_intersect ['fish']\n",
      "fish рыбный\n",
      "https://context.reverso.net/перевод/английский-французский/fish\n",
      "['poisson', 'pêche', 'piscicole', 'halieutique', 'poissonnier', 'morue', 'pêcher', 'aquatique', 'fish', 'pisciculture', 'pêcheur', 'thon', 'aquarium', 'mer']\n",
      "https://context.reverso.net/перевод/русский-французский/рыбный\n",
      "turn to alternative marks\n"
     ]
    },
    {
     "name": "stderr",
     "output_type": "stream",
     "text": [
      "\n",
      "\n",
      " 26%|██▋       | 179/676 [15:07<41:31,  5.01s/it]\u001b[A\u001b[A"
     ]
    },
    {
     "name": "stdout",
     "output_type": "stream",
     "text": [
      "['de poisson', 'poisson', 'fish', 'poissonnerie', 'hauturière', 'fishy']\n",
      "sense_intersect ['poisson | de poisson | poissonnerie | poissonnier', 'fish | fishy', 'halieutique | hauturière', 'pisciculture | hauturière']\n",
      "fish ловить рыбу\n",
      "https://context.reverso.net/перевод/английский-французский/fish\n",
      "['poisson', 'pêche', 'piscicole', 'halieutique', 'poissonnier', 'morue', 'pêcher', 'aquatique', 'fish', 'pisciculture', 'pêcheur', 'thon', 'aquarium', 'mer']\n",
      "https://context.reverso.net/перевод/русский-французский/ловить рыбу\n"
     ]
    },
    {
     "name": "stderr",
     "output_type": "stream",
     "text": [
      "\n",
      "\n",
      " 27%|██▋       | 180/676 [15:12<41:16,  4.99s/it]\u001b[A\u001b[A"
     ]
    },
    {
     "name": "stdout",
     "output_type": "stream",
     "text": [
      "['pêcher']\n",
      "sense_intersect ['pêcher | pêche | pêcheur']\n",
      "fish удить\n",
      "https://context.reverso.net/перевод/английский-французский/fish\n",
      "['poisson', 'pêche', 'piscicole', 'halieutique', 'poissonnier', 'morue', 'pêcher', 'aquatique', 'fish', 'pisciculture', 'pêcheur', 'thon', 'aquarium', 'mer']\n",
      "https://context.reverso.net/перевод/русский-французский/удить\n",
      "turn to alternative marks\n"
     ]
    },
    {
     "name": "stderr",
     "output_type": "stream",
     "text": [
      "\n",
      "\n",
      " 27%|██▋       | 181/676 [15:17<40:53,  4.96s/it]\u001b[A\u001b[A"
     ]
    },
    {
     "name": "stdout",
     "output_type": "stream",
     "text": [
      "[]\n",
      "sense_intersect ['no_equality']\n",
      "fish выудить\n",
      "https://context.reverso.net/перевод/английский-французский/fish\n",
      "['poisson', 'pêche', 'piscicole', 'halieutique', 'poissonnier', 'morue', 'pêcher', 'aquatique', 'fish', 'pisciculture', 'pêcheur', 'thon', 'aquarium', 'mer']\n",
      "https://context.reverso.net/перевод/русский-французский/выудить\n",
      "turn to alternative marks\n"
     ]
    },
    {
     "name": "stderr",
     "output_type": "stream",
     "text": [
      "\n",
      "\n",
      " 27%|██▋       | 182/676 [15:22<40:43,  4.95s/it]\u001b[A\u001b[A"
     ]
    },
    {
     "name": "stdout",
     "output_type": "stream",
     "text": [
      "['me soutirer', 'padiche']\n",
      "sense_intersect ['pêche | padiche', 'halieutique | me soutirer', 'morue | me soutirer', 'pisciculture | me soutirer']\n",
      "stand стоять\n",
      "https://context.reverso.net/перевод/английский-французский/stand\n",
      "['stand', 'position', 'support', 'barre', 'peuplement', 'socle', 'pied', 'parole', 'rester', 'supporter', 'être', 'se tenir', 'se lever', 'reposer', 'résister', 'tenir debout', 'se tenir debout', 'mettre', 'tribune', 'se dresser', 'tolérer', 'être debout', 'béquille', 'blairer', 'station']\n",
      "https://context.reverso.net/перевод/русский-французский/стоять\n"
     ]
    },
    {
     "name": "stderr",
     "output_type": "stream",
     "text": [
      "\n",
      "\n",
      " 27%|██▋       | 183/676 [15:26<40:37,  4.94s/it]\u001b[A\u001b[A"
     ]
    },
    {
     "name": "stdout",
     "output_type": "stream",
     "text": [
      "['rester', 'se tenir', 'tenir debout', 'attendre', 'me tenir']\n",
      "sense_intersect ['rester | se tenir | être | reposer | se tenir debout | mettre', 'se tenir', 'tenir debout | attendre | me tenir | tribune | être debout', 'peuplement | me tenir']\n",
      "stand устоять\n",
      "https://context.reverso.net/перевод/английский-французский/stand\n",
      "['stand', 'position', 'support', 'barre', 'peuplement', 'socle', 'pied', 'parole', 'rester', 'supporter', 'être', 'se tenir', 'se lever', 'reposer', 'résister', 'tenir debout', 'se tenir debout', 'mettre', 'tribune', 'se dresser', 'tolérer', 'être debout', 'béquille', 'blairer', 'station']\n",
      "https://context.reverso.net/перевод/русский-французский/устоять\n"
     ]
    },
    {
     "name": "stderr",
     "output_type": "stream",
     "text": [
      "\n",
      "\n",
      " 27%|██▋       | 184/676 [15:32<41:46,  5.10s/it]\u001b[A\u001b[A"
     ]
    },
    {
     "name": "stdout",
     "output_type": "stream",
     "text": [
      "['résister']\n",
      "sense_intersect ['résister']\n",
      "stand выдерживать\n",
      "https://context.reverso.net/перевод/английский-французский/stand\n",
      "['stand', 'position', 'support', 'barre', 'peuplement', 'socle', 'pied', 'parole', 'rester', 'supporter', 'être', 'se tenir', 'se lever', 'reposer', 'résister', 'tenir debout', 'se tenir debout', 'mettre', 'tribune', 'se dresser', 'tolérer', 'être debout', 'béquille', 'blairer', 'station']\n",
      "https://context.reverso.net/перевод/русский-французский/выдерживать\n"
     ]
    },
    {
     "name": "stderr",
     "output_type": "stream",
     "text": [
      "\n",
      "\n",
      " 27%|██▋       | 185/676 [15:37<41:35,  5.08s/it]\u001b[A\u001b[A"
     ]
    },
    {
     "name": "stdout",
     "output_type": "stream",
     "text": [
      "['supporter']\n",
      "sense_intersect ['supporter | support | reposer']\n",
      "stand отстаивать\n",
      "https://context.reverso.net/перевод/английский-французский/stand\n",
      "['stand', 'position', 'support', 'barre', 'peuplement', 'socle', 'pied', 'parole', 'rester', 'supporter', 'être', 'se tenir', 'se lever', 'reposer', 'résister', 'tenir debout', 'se tenir debout', 'mettre', 'tribune', 'se dresser', 'tolérer', 'être debout', 'béquille', 'blairer', 'station']\n",
      "https://context.reverso.net/перевод/русский-французский/отстаивать\n"
     ]
    },
    {
     "name": "stderr",
     "output_type": "stream",
     "text": [
      "\n",
      "\n",
      " 28%|██▊       | 186/676 [15:42<41:25,  5.07s/it]\u001b[A\u001b[A"
     ]
    },
    {
     "name": "stdout",
     "output_type": "stream",
     "text": [
      "['défendre', 'faire valoir', 'protéger']\n",
      "sense_intersect ['supporter | protéger', 'tolérer | protéger', 'blairer | faire valoir']\n",
      "stand выступать\n",
      "https://context.reverso.net/перевод/английский-французский/stand\n",
      "['stand', 'position', 'support', 'barre', 'peuplement', 'socle', 'pied', 'parole', 'rester', 'supporter', 'être', 'se tenir', 'se lever', 'reposer', 'résister', 'tenir debout', 'se tenir debout', 'mettre', 'tribune', 'se dresser', 'tolérer', 'être debout', 'béquille', 'blairer', 'station']\n",
      "https://context.reverso.net/перевод/русский-французский/выступать\n"
     ]
    },
    {
     "name": "stderr",
     "output_type": "stream",
     "text": [
      "\n",
      "\n",
      " 28%|██▊       | 187/676 [15:47<42:09,  5.17s/it]\u001b[A\u001b[A"
     ]
    },
    {
     "name": "stdout",
     "output_type": "stream",
     "text": [
      "['parler', 'jouer', 'agir', 'servir', 'intervenir', 'constituer', \"s'exprimer\", 'présenter']\n",
      "sense_intersect ['parole | parler', 'rester | présenter', 'supporter | constituer | présenter', \"se tenir | intervenir | constituer | s'exprimer\", 'tenir debout | intervenir', 'tribune | intervenir', 'blairer | parler']\n",
      "stand остановиться\n",
      "https://context.reverso.net/перевод/английский-французский/stand\n",
      "['stand', 'position', 'support', 'barre', 'peuplement', 'socle', 'pied', 'parole', 'rester', 'supporter', 'être', 'se tenir', 'se lever', 'reposer', 'résister', 'tenir debout', 'se tenir debout', 'mettre', 'tribune', 'se dresser', 'tolérer', 'être debout', 'béquille', 'blairer', 'station']\n",
      "https://context.reverso.net/перевод/русский-французский/остановиться\n"
     ]
    },
    {
     "name": "stderr",
     "output_type": "stream",
     "text": [
      "\n",
      "\n",
      " 28%|██▊       | 188/676 [15:53<41:59,  5.16s/it]\u001b[A\u001b[A"
     ]
    },
    {
     "name": "stdout",
     "output_type": "stream",
     "text": [
      "[\"s'arrêter\", 'rester', 'aborder', 'évoquer', 'souligner', 'empêcher', 'dormir', 'loger', \"m'arrêter\", \"s'arrête\", 'parler']\n",
      "sense_intersect [\"rester | s'arrêter | s'arrête | être | se tenir | reposer | se tenir debout | mettre\", \"barre | aborder | m'arrêter\", 'parole | loger | parler', 'blairer | aborder']\n",
      "stand предстать\n",
      "https://context.reverso.net/перевод/английский-французский/stand\n",
      "['stand', 'position', 'support', 'barre', 'peuplement', 'socle', 'pied', 'parole', 'rester', 'supporter', 'être', 'se tenir', 'se lever', 'reposer', 'résister', 'tenir debout', 'se tenir debout', 'mettre', 'tribune', 'se dresser', 'tolérer', 'être debout', 'béquille', 'blairer', 'station']\n",
      "https://context.reverso.net/перевод/русский-французский/предстать\n"
     ]
    },
    {
     "name": "stderr",
     "output_type": "stream",
     "text": [
      "\n",
      "\n",
      " 28%|██▊       | 189/676 [15:58<41:23,  5.10s/it]\u001b[A\u001b[A"
     ]
    },
    {
     "name": "stdout",
     "output_type": "stream",
     "text": [
      "['comparaître']\n",
      "sense_intersect ['parole | comparaître']\n",
      "stand остаться\n",
      "https://context.reverso.net/перевод/английский-французский/stand\n",
      "['stand', 'position', 'support', 'barre', 'peuplement', 'socle', 'pied', 'parole', 'rester', 'supporter', 'être', 'se tenir', 'se lever', 'reposer', 'résister', 'tenir debout', 'se tenir debout', 'mettre', 'tribune', 'se dresser', 'tolérer', 'être debout', 'béquille', 'blairer', 'station']\n",
      "https://context.reverso.net/перевод/русский-французский/остаться\n"
     ]
    },
    {
     "name": "stderr",
     "output_type": "stream",
     "text": [
      "\n",
      "\n",
      " 28%|██▊       | 190/676 [16:03<42:08,  5.20s/it]\u001b[A\u001b[A"
     ]
    },
    {
     "name": "stdout",
     "output_type": "stream",
     "text": [
      "['rester', 'garder', 'passer', 'dormir', 'vivre', 'demeurer', 'installer', 'avoir', 'partir']\n",
      "sense_intersect ['rester | être | se tenir | reposer | se tenir debout | mettre', 'barre | garder']\n",
      "stand замереть\n",
      "https://context.reverso.net/перевод/английский-французский/stand\n",
      "['stand', 'position', 'support', 'barre', 'peuplement', 'socle', 'pied', 'parole', 'rester', 'supporter', 'être', 'se tenir', 'se lever', 'reposer', 'résister', 'tenir debout', 'se tenir debout', 'mettre', 'tribune', 'se dresser', 'tolérer', 'être debout', 'béquille', 'blairer', 'station']\n",
      "https://context.reverso.net/перевод/русский-французский/замереть\n",
      "turn to alternative marks\n"
     ]
    },
    {
     "name": "stderr",
     "output_type": "stream",
     "text": [
      "\n",
      "\n",
      " 28%|██▊       | 191/676 [16:08<41:06,  5.09s/it]\u001b[A\u001b[A"
     ]
    },
    {
     "name": "stdout",
     "output_type": "stream",
     "text": [
      "['pas bouger']\n",
      "sense_intersect ['parole | pas bouger', 'supporter | pas bouger', 'reposer | pas bouger', 'se tenir debout | pas bouger']\n",
      "stand стенд\n",
      "https://context.reverso.net/перевод/английский-французский/stand\n",
      "['stand', 'position', 'support', 'barre', 'peuplement', 'socle', 'pied', 'parole', 'rester', 'supporter', 'être', 'se tenir', 'se lever', 'reposer', 'résister', 'tenir debout', 'se tenir debout', 'mettre', 'tribune', 'se dresser', 'tolérer', 'être debout', 'béquille', 'blairer', 'station']\n",
      "https://context.reverso.net/перевод/русский-французский/стенд\n"
     ]
    },
    {
     "name": "stderr",
     "output_type": "stream",
     "text": [
      "\n",
      "\n",
      " 28%|██▊       | 192/676 [16:13<40:38,  5.04s/it]\u001b[A\u001b[A"
     ]
    },
    {
     "name": "stdout",
     "output_type": "stream",
     "text": [
      "['stand']\n",
      "sense_intersect ['stand']\n",
      "stand подставка\n",
      "https://context.reverso.net/перевод/английский-французский/stand\n",
      "['stand', 'position', 'support', 'barre', 'peuplement', 'socle', 'pied', 'parole', 'rester', 'supporter', 'être', 'se tenir', 'se lever', 'reposer', 'résister', 'tenir debout', 'se tenir debout', 'mettre', 'tribune', 'se dresser', 'tolérer', 'être debout', 'béquille', 'blairer', 'station']\n",
      "https://context.reverso.net/перевод/русский-французский/подставка\n",
      "turn to alternative marks\n"
     ]
    },
    {
     "name": "stderr",
     "output_type": "stream",
     "text": [
      "\n",
      "\n",
      " 29%|██▊       | 193/676 [16:18<40:03,  4.98s/it]\u001b[A\u001b[A"
     ]
    },
    {
     "name": "stdout",
     "output_type": "stream",
     "text": [
      "['support', 'plumier', 'un dessous']\n",
      "sense_intersect ['support | supporter', 'peuplement | plumier']\n",
      "stand позиция\n",
      "https://context.reverso.net/перевод/английский-французский/stand\n",
      "['stand', 'position', 'support', 'barre', 'peuplement', 'socle', 'pied', 'parole', 'rester', 'supporter', 'être', 'se tenir', 'se lever', 'reposer', 'résister', 'tenir debout', 'se tenir debout', 'mettre', 'tribune', 'se dresser', 'tolérer', 'être debout', 'béquille', 'blairer', 'station']\n",
      "https://context.reverso.net/перевод/русский-французский/позиция\n"
     ]
    },
    {
     "name": "stderr",
     "output_type": "stream",
     "text": [
      "\n",
      "\n",
      " 29%|██▊       | 194/676 [16:23<40:22,  5.03s/it]\u001b[A\u001b[A"
     ]
    },
    {
     "name": "stdout",
     "output_type": "stream",
     "text": [
      "['position', 'attitude', 'rubrique', 'poste']\n",
      "sense_intersect ['position', 'support | poste', 'supporter | poste', 'tenir debout | attitude', 'tribune | rubrique', 'être debout | attitude']\n",
      "stand трибуна\n",
      "https://context.reverso.net/перевод/английский-французский/stand\n",
      "['stand', 'position', 'support', 'barre', 'peuplement', 'socle', 'pied', 'parole', 'rester', 'supporter', 'être', 'se tenir', 'se lever', 'reposer', 'résister', 'tenir debout', 'se tenir debout', 'mettre', 'tribune', 'se dresser', 'tolérer', 'être debout', 'béquille', 'blairer', 'station']\n",
      "https://context.reverso.net/перевод/русский-французский/трибуна\n",
      "turn to alternative marks\n"
     ]
    },
    {
     "name": "stderr",
     "output_type": "stream",
     "text": [
      "\n",
      "\n",
      " 29%|██▉       | 195/676 [16:28<39:54,  4.98s/it]\u001b[A\u001b[A"
     ]
    },
    {
     "name": "stdout",
     "output_type": "stream",
     "text": [
      "['tribune', 'tribun']\n",
      "sense_intersect ['tribune | se tenir | tenir debout | se tenir debout | tribun | être debout']\n",
      "precedent прецедент\n",
      "https://context.reverso.net/перевод/английский-французский/precedent\n",
      "['précédent', 'jurisprudence', 'antécédent', 'exemple', 'précédente']\n",
      "https://context.reverso.net/перевод/русский-французский/прецедент\n"
     ]
    },
    {
     "name": "stderr",
     "output_type": "stream",
     "text": [
      "\n",
      "\n",
      " 29%|██▉       | 196/676 [16:33<40:01,  5.00s/it]\u001b[A\u001b[A"
     ]
    },
    {
     "name": "stdout",
     "output_type": "stream",
     "text": [
      "['précédent', 'jurisprudence']\n",
      "sense_intersect ['précédent | antécédent | précédente', 'jurisprudence']\n",
      "precedent предыдущий\n",
      "https://context.reverso.net/перевод/английский-французский/precedent\n",
      "['précédent', 'jurisprudence', 'antécédent', 'exemple', 'précédente']\n",
      "https://context.reverso.net/перевод/русский-французский/предыдущий\n"
     ]
    },
    {
     "name": "stderr",
     "output_type": "stream",
     "text": [
      "\n",
      "\n",
      " 29%|██▉       | 197/676 [16:37<39:29,  4.95s/it]\u001b[A\u001b[A"
     ]
    },
    {
     "name": "stdout",
     "output_type": "stream",
     "text": [
      "['précédent', 'dernier', 'antérieur', \"l'ancien\"]\n",
      "sense_intersect ['précédent | antécédent | précédente', 'jurisprudence | dernier']\n",
      "precedent прецедентный\n",
      "https://context.reverso.net/перевод/английский-французский/precedent\n",
      "['précédent', 'jurisprudence', 'antécédent', 'exemple', 'précédente']\n",
      "https://context.reverso.net/перевод/русский-французский/прецедентный\n",
      "turn to alternative marks\n"
     ]
    },
    {
     "name": "stderr",
     "output_type": "stream",
     "text": [
      "\n",
      "\n",
      " 29%|██▉       | 198/676 [16:44<43:06,  5.41s/it]\u001b[A\u001b[A"
     ]
    },
    {
     "name": "stdout",
     "output_type": "stream",
     "text": [
      "[]\n",
      "sense_intersect ['no_equality']\n",
      "precedent предшествующий\n",
      "https://context.reverso.net/перевод/английский-французский/precedent\n",
      "['précédent', 'jurisprudence', 'antécédent', 'exemple', 'précédente']\n",
      "https://context.reverso.net/перевод/русский-французский/предшествующий\n"
     ]
    },
    {
     "name": "stderr",
     "output_type": "stream",
     "text": [
      "\n",
      "\n",
      " 29%|██▉       | 199/676 [16:49<42:06,  5.30s/it]\u001b[A\u001b[A"
     ]
    },
    {
     "name": "stdout",
     "output_type": "stream",
     "text": [
      "['avant', 'précédent', 'précédant']\n",
      "sense_intersect ['précédent | précédant | antécédent | précédente']\n",
      "issue вопрос\n",
      "https://context.reverso.net/перевод/английский-французский/issue\n",
      "['question', 'problème', 'sujet', 'numéro', 'dossier', 'enjeu', 'point', 'émission', 'délivrer', 'émettre', 'publier', 'donner', 'fournir', 'promulguer', 'édicter', 'décerner', 'délivrance', 'thème', 'cause', 'problématique', 'matière', 'édition', 'publication', 'sortie', 'distribuer']\n",
      "https://context.reverso.net/перевод/русский-французский/вопрос\n"
     ]
    },
    {
     "name": "stderr",
     "output_type": "stream",
     "text": [
      "\n",
      "\n",
      " 30%|██▉       | 200/676 [16:55<43:09,  5.44s/it]\u001b[A\u001b[A"
     ]
    },
    {
     "name": "stdout",
     "output_type": "stream",
     "text": [
      "['question', 'problème', 'demande', 'point', 'sujet', 'savoir', 'réponse', 'affaire', 'posée', 'débat', 'thème', 'chose', 'aspect', 'doute', 'interrogation', 'agit']\n",
      "sense_intersect ['question | interrogation | problématique | publication | sortie', 'problème | publier | promulguer', 'sujet', 'point', 'thème']\n",
      "issue выпуск\n",
      "https://context.reverso.net/перевод/английский-французский/issue\n",
      "['question', 'problème', 'sujet', 'numéro', 'dossier', 'enjeu', 'point', 'émission', 'délivrer', 'émettre', 'publier', 'donner', 'fournir', 'promulguer', 'édicter', 'décerner', 'délivrance', 'thème', 'cause', 'problématique', 'matière', 'édition', 'publication', 'sortie', 'distribuer']\n",
      "https://context.reverso.net/перевод/русский-французский/выпуск\n"
     ]
    },
    {
     "name": "stderr",
     "output_type": "stream",
     "text": [
      "\n",
      "\n",
      " 30%|██▉       | 201/676 [17:00<41:58,  5.30s/it]\u001b[A\u001b[A"
     ]
    },
    {
     "name": "stdout",
     "output_type": "stream",
     "text": [
      "['publication', 'production', 'numéro', 'édition', 'émission']\n",
      "sense_intersect ['numéro', 'émission', 'édition', 'publication | question | point | publier | problématique | production', 'fournir | production']\n",
      "issue выдача\n",
      "https://context.reverso.net/перевод/английский-французский/issue\n",
      "['question', 'problème', 'sujet', 'numéro', 'dossier', 'enjeu', 'point', 'émission', 'délivrer', 'émettre', 'publier', 'donner', 'fournir', 'promulguer', 'édicter', 'décerner', 'délivrance', 'thème', 'cause', 'problématique', 'matière', 'édition', 'publication', 'sortie', 'distribuer']\n",
      "https://context.reverso.net/перевод/русский-французский/выдача\n"
     ]
    },
    {
     "name": "stderr",
     "output_type": "stream",
     "text": [
      "\n",
      "\n",
      " 30%|██▉       | 202/676 [17:05<41:04,  5.20s/it]\u001b[A\u001b[A"
     ]
    },
    {
     "name": "stdout",
     "output_type": "stream",
     "text": [
      "['extradition', 'délivrance', 'octroi']\n",
      "sense_intersect ['délivrance | délivrer | édicter | décerner', 'question | extradition', 'matière | extradition', 'publication | extradition', 'sortie | extradition | octroi', 'distribuer | extradition']\n",
      "issue номер\n",
      "https://context.reverso.net/перевод/английский-французский/issue\n",
      "['question', 'problème', 'sujet', 'numéro', 'dossier', 'enjeu', 'point', 'émission', 'délivrer', 'émettre', 'publier', 'donner', 'fournir', 'promulguer', 'édicter', 'décerner', 'délivrance', 'thème', 'cause', 'problématique', 'matière', 'édition', 'publication', 'sortie', 'distribuer']\n",
      "https://context.reverso.net/перевод/русский-французский/номер\n"
     ]
    },
    {
     "name": "stderr",
     "output_type": "stream",
     "text": [
      "\n",
      "\n",
      " 30%|███       | 203/676 [17:10<40:22,  5.12s/it]\u001b[A\u001b[A"
     ]
    },
    {
     "name": "stdout",
     "output_type": "stream",
     "text": [
      "['numéro', 'chambre', 'numéro', 'plaque', 'suite', 'téléphone', 'hôtel', 'nombre', 'immatriculation', 'no', 'portable', 'nº1', 'nº2']\n",
      "sense_intersect ['numéro', 'problème | nombre | portable', 'sujet | suite', 'donner | nombre', 'problématique | immatriculation', 'matière | immatriculation', 'publication | immatriculation', 'sortie | suite', 'distribuer | suite']\n",
      "issue вытекание\n",
      "https://context.reverso.net/перевод/английский-французский/issue\n",
      "['question', 'problème', 'sujet', 'numéro', 'dossier', 'enjeu', 'point', 'émission', 'délivrer', 'émettre', 'publier', 'donner', 'fournir', 'promulguer', 'édicter', 'décerner', 'délivrance', 'thème', 'cause', 'problématique', 'matière', 'édition', 'publication', 'sortie', 'distribuer']\n",
      "https://context.reverso.net/перевод/русский-французский/вытекание\n",
      "turn to alternative marks\n"
     ]
    },
    {
     "name": "stderr",
     "output_type": "stream",
     "text": [
      "\n",
      "\n",
      " 30%|███       | 204/676 [17:15<39:57,  5.08s/it]\u001b[A\u001b[A"
     ]
    },
    {
     "name": "stdout",
     "output_type": "stream",
     "text": [
      "['excision', 'couper']\n",
      "sense_intersect ['problème | couper', 'promulguer | couper']\n",
      "issue эмиссия\n",
      "https://context.reverso.net/перевод/английский-французский/issue\n",
      "['question', 'problème', 'sujet', 'numéro', 'dossier', 'enjeu', 'point', 'émission', 'délivrer', 'émettre', 'publier', 'donner', 'fournir', 'promulguer', 'édicter', 'décerner', 'délivrance', 'thème', 'cause', 'problématique', 'matière', 'édition', 'publication', 'sortie', 'distribuer']\n",
      "https://context.reverso.net/перевод/русский-французский/эмиссия\n",
      "turn to alternative marks\n"
     ]
    },
    {
     "name": "stderr",
     "output_type": "stream",
     "text": [
      "\n",
      "\n",
      " 30%|███       | 205/676 [17:19<39:26,  5.02s/it]\u001b[A\u001b[A"
     ]
    },
    {
     "name": "stdout",
     "output_type": "stream",
     "text": [
      "['émission']\n",
      "sense_intersect ['émission']\n",
      "issue выдавать\n",
      "https://context.reverso.net/перевод/английский-французский/issue\n",
      "['question', 'problème', 'sujet', 'numéro', 'dossier', 'enjeu', 'point', 'émission', 'délivrer', 'émettre', 'publier', 'donner', 'fournir', 'promulguer', 'édicter', 'décerner', 'délivrance', 'thème', 'cause', 'problématique', 'matière', 'édition', 'publication', 'sortie', 'distribuer']\n",
      "https://context.reverso.net/перевод/русский-французский/выдавать\n"
     ]
    },
    {
     "name": "stderr",
     "output_type": "stream",
     "text": [
      "\n",
      "\n",
      " 30%|███       | 206/676 [17:25<39:48,  5.08s/it]\u001b[A\u001b[A"
     ]
    },
    {
     "name": "stdout",
     "output_type": "stream",
     "text": [
      "['donner', 'à délivrer']\n",
      "sense_intersect ['donner', 'délivrer | à délivrer', 'édicter | à délivrer', 'délivrance | à délivrer']\n",
      "issue выпускать\n",
      "https://context.reverso.net/перевод/английский-французский/issue\n",
      "['question', 'problème', 'sujet', 'numéro', 'dossier', 'enjeu', 'point', 'émission', 'délivrer', 'émettre', 'publier', 'donner', 'fournir', 'promulguer', 'édicter', 'décerner', 'délivrance', 'thème', 'cause', 'problématique', 'matière', 'édition', 'publication', 'sortie', 'distribuer']\n",
      "https://context.reverso.net/перевод/русский-французский/выпускать\n"
     ]
    },
    {
     "name": "stderr",
     "output_type": "stream",
     "text": [
      "\n",
      "\n",
      " 31%|███       | 207/676 [17:30<39:18,  5.03s/it]\u001b[A\u001b[A"
     ]
    },
    {
     "name": "stdout",
     "output_type": "stream",
     "text": [
      "['publier', 'produire']\n",
      "sense_intersect ['publier | problème | produire | promulguer | problématique | publication | distribuer']\n",
      "issue издавать\n",
      "https://context.reverso.net/перевод/английский-французский/issue\n",
      "['question', 'problème', 'sujet', 'numéro', 'dossier', 'enjeu', 'point', 'émission', 'délivrer', 'émettre', 'publier', 'donner', 'fournir', 'promulguer', 'édicter', 'décerner', 'délivrance', 'thème', 'cause', 'problématique', 'matière', 'édition', 'publication', 'sortie', 'distribuer']\n",
      "https://context.reverso.net/перевод/русский-французский/издавать\n"
     ]
    },
    {
     "name": "stderr",
     "output_type": "stream",
     "text": [
      "\n",
      "\n",
      " 31%|███       | 208/676 [17:35<39:42,  5.09s/it]\u001b[A\u001b[A"
     ]
    },
    {
     "name": "stdout",
     "output_type": "stream",
     "text": [
      "['publier']\n",
      "sense_intersect ['publier | problème | promulguer | problématique | publication | distribuer']\n",
      "issue оформить\n",
      "https://context.reverso.net/перевод/английский-французский/issue\n",
      "['question', 'problème', 'sujet', 'numéro', 'dossier', 'enjeu', 'point', 'émission', 'délivrer', 'émettre', 'publier', 'donner', 'fournir', 'promulguer', 'édicter', 'décerner', 'délivrance', 'thème', 'cause', 'problématique', 'matière', 'édition', 'publication', 'sortie', 'distribuer']\n",
      "https://context.reverso.net/перевод/русский-французский/оформить\n",
      "turn to alternative marks\n"
     ]
    },
    {
     "name": "stderr",
     "output_type": "stream",
     "text": [
      "\n",
      "\n",
      " 31%|███       | 209/676 [17:40<39:07,  5.03s/it]\u001b[A\u001b[A"
     ]
    },
    {
     "name": "stdout",
     "output_type": "stream",
     "text": [
      "['remplir', 'régulariser', 'décorer', 'formaliser', 'officialiser', 'institutionnaliser', 'formuler', 'déposer', 'formalisées']\n",
      "sense_intersect ['question | institutionnaliser', 'problème | remplir | formaliser | formuler', 'point | institutionnaliser', 'délivrer | régulariser', 'publier | remplir', 'promulguer | remplir | régulariser', 'édicter | décorer', 'décerner | décorer', 'problématique | remplir', 'publication | institutionnaliser', 'sortie | institutionnaliser', 'distribuer | institutionnaliser']\n",
      "issue эмиссионный\n",
      "https://context.reverso.net/перевод/английский-французский/issue\n",
      "['question', 'problème', 'sujet', 'numéro', 'dossier', 'enjeu', 'point', 'émission', 'délivrer', 'émettre', 'publier', 'donner', 'fournir', 'promulguer', 'édicter', 'décerner', 'délivrance', 'thème', 'cause', 'problématique', 'matière', 'édition', 'publication', 'sortie', 'distribuer']\n",
      "https://context.reverso.net/перевод/русский-французский/эмиссионный\n",
      "turn to alternative marks\n"
     ]
    },
    {
     "name": "stderr",
     "output_type": "stream",
     "text": [
      "\n",
      "\n",
      " 31%|███       | 210/676 [17:45<38:43,  4.99s/it]\u001b[A\u001b[A"
     ]
    },
    {
     "name": "stdout",
     "output_type": "stream",
     "text": [
      "[\"d'émission\"]\n",
      "sense_intersect [\"émission | d'émission\"]\n",
      "thousand тыс.\n",
      "https://context.reverso.net/перевод/английский-французский/thousand\n",
      "['mille', 'millier', 'centaine de', 'millième', 'mil', 'de 1000', 'thousand', 'millénaire', 'dollar', 'rouble', 'milliard', 'long', 'million', 'mille-îles']\n",
      "https://context.reverso.net/перевод/русский-французский/тыс.\n",
      "turn to alternative marks\n"
     ]
    },
    {
     "name": "stderr",
     "output_type": "stream",
     "text": [
      "\n",
      "\n",
      " 31%|███       | 211/676 [17:50<39:30,  5.10s/it]\u001b[A\u001b[A"
     ]
    },
    {
     "name": "stdout",
     "output_type": "stream",
     "text": [
      "[]\n",
      "sense_intersect ['no_equality']\n",
      "thousand тысячелетие\n",
      "https://context.reverso.net/перевод/английский-французский/thousand\n",
      "['mille', 'millier', 'centaine de', 'millième', 'mil', 'de 1000', 'thousand', 'millénaire', 'dollar', 'rouble', 'milliard', 'long', 'million', 'mille-îles']\n",
      "https://context.reverso.net/перевод/русский-французский/тысячелетие\n"
     ]
    },
    {
     "name": "stderr",
     "output_type": "stream",
     "text": [
      "\n",
      "\n",
      " 31%|███▏      | 212/676 [17:56<41:11,  5.33s/it]\u001b[A\u001b[A"
     ]
    },
    {
     "name": "stdout",
     "output_type": "stream",
     "text": [
      "['millénaire']\n",
      "sense_intersect ['millénaire | millier | millième | milliard | million']\n",
      "thousand множество\n",
      "https://context.reverso.net/перевод/английский-французский/thousand\n",
      "['mille', 'millier', 'centaine de', 'millième', 'mil', 'de 1000', 'thousand', 'millénaire', 'dollar', 'rouble', 'milliard', 'long', 'million', 'mille-îles']\n",
      "https://context.reverso.net/перевод/русский-французский/множество\n"
     ]
    },
    {
     "name": "stderr",
     "output_type": "stream",
     "text": [
      "\n",
      "\n",
      " 32%|███▏      | 213/676 [18:01<40:17,  5.22s/it]\u001b[A\u001b[A"
     ]
    },
    {
     "name": "stdout",
     "output_type": "stream",
     "text": [
      "['multitude', 'tas de', 'nombreux', 'beaucoup de', 'plusieurs', 'multiple', 'plein de', 'un grand nombre', 'divers']\n",
      "sense_intersect ['mille | multiple', 'millier | multiple', 'centaine de | plein de', 'rouble | nombreux | beaucoup de']\n",
      "thousand тысяча долларов\n",
      "https://context.reverso.net/перевод/английский-французский/thousand\n",
      "['mille', 'millier', 'centaine de', 'millième', 'mil', 'de 1000', 'thousand', 'millénaire', 'dollar', 'rouble', 'milliard', 'long', 'million', 'mille-îles']\n",
      "https://context.reverso.net/перевод/русский-французский/тысяча долларов\n",
      "turn to alternative marks\n"
     ]
    },
    {
     "name": "stderr",
     "output_type": "stream",
     "text": [
      "\n",
      "\n",
      " 32%|███▏      | 214/676 [18:06<39:44,  5.16s/it]\u001b[A\u001b[A"
     ]
    },
    {
     "name": "stdout",
     "output_type": "stream",
     "text": [
      "['mille dollars', '1000 dollars', '1 000 dollars', 'millier de dollars']\n",
      "sense_intersect ['mille | mille dollars | millier de dollars', 'millier | mille dollars', 'dollar | mille dollars | 1000 dollars | 1 000 dollars', 'milliard | mille dollars', 'mille-îles | mille dollars']\n",
      "thousand тысяча\n",
      "https://context.reverso.net/перевод/английский-французский/thousand\n",
      "['mille', 'millier', 'centaine de', 'millième', 'mil', 'de 1000', 'thousand', 'millénaire', 'dollar', 'rouble', 'milliard', 'long', 'million', 'mille-îles']\n",
      "https://context.reverso.net/перевод/русский-французский/тысяча\n"
     ]
    },
    {
     "name": "stderr",
     "output_type": "stream",
     "text": [
      "\n",
      "\n",
      " 32%|███▏      | 215/676 [18:11<38:48,  5.05s/it]\u001b[A\u001b[A"
     ]
    },
    {
     "name": "stdout",
     "output_type": "stream",
     "text": [
      "['mille', 'millier', 'des milliers']\n",
      "sense_intersect ['mille | millier | des milliers | millième | mil | milliard | mille-îles', 'millier']\n",
      "thousand тысячный\n",
      "https://context.reverso.net/перевод/английский-французский/thousand\n",
      "['mille', 'millier', 'centaine de', 'millième', 'mil', 'de 1000', 'thousand', 'millénaire', 'dollar', 'rouble', 'milliard', 'long', 'million', 'mille-îles']\n",
      "https://context.reverso.net/перевод/русский-французский/тысячный\n",
      "turn to alternative marks\n"
     ]
    },
    {
     "name": "stderr",
     "output_type": "stream",
     "text": [
      "\n",
      "\n",
      " 32%|███▏      | 216/676 [18:15<38:11,  4.98s/it]\u001b[A\u001b[A"
     ]
    },
    {
     "name": "stdout",
     "output_type": "stream",
     "text": [
      "['millième', 'la centième']\n",
      "sense_intersect ['millième | mille | millier | mil | millénaire | milliard | million', 'centaine de | la centième']\n",
      "pen ручка\n",
      "https://context.reverso.net/перевод/английский-французский/pen\n",
      "['stylo', 'plume', 'crayon', 'stylet', 'enclos', 'feutre', 'prison', 'pénitencier', 'écrire', 'parc', 'pen']\n",
      "https://context.reverso.net/перевод/русский-французский/ручка\n"
     ]
    },
    {
     "name": "stderr",
     "output_type": "stream",
     "text": [
      "\n",
      "\n",
      " 32%|███▏      | 217/676 [18:20<37:46,  4.94s/it]\u001b[A\u001b[A"
     ]
    },
    {
     "name": "stdout",
     "output_type": "stream",
     "text": [
      "['stylo', 'poignée']\n",
      "sense_intersect ['stylo', 'pénitencier | poignée']\n",
      "pen рейсфедер\n",
      "https://context.reverso.net/перевод/английский-французский/pen\n",
      "['stylo', 'plume', 'crayon', 'stylet', 'enclos', 'feutre', 'prison', 'pénitencier', 'écrire', 'parc', 'pen']\n",
      "https://context.reverso.net/перевод/русский-французский/рейсфедер\n",
      "turn to alternative marks\n"
     ]
    },
    {
     "name": "stderr",
     "output_type": "stream",
     "text": [
      "\n",
      "\n",
      " 32%|███▏      | 218/676 [18:25<37:19,  4.89s/it]\u001b[A\u001b[A"
     ]
    },
    {
     "name": "stdout",
     "output_type": "stream",
     "text": [
      "[]\n",
      "sense_intersect ['no_equality']\n",
      "pen фломастер\n",
      "https://context.reverso.net/перевод/английский-французский/pen\n",
      "['stylo', 'plume', 'crayon', 'stylet', 'enclos', 'feutre', 'prison', 'pénitencier', 'écrire', 'parc', 'pen']\n",
      "https://context.reverso.net/перевод/русский-французский/фломастер\n",
      "turn to alternative marks\n"
     ]
    },
    {
     "name": "stderr",
     "output_type": "stream",
     "text": [
      "\n",
      "\n",
      " 32%|███▏      | 219/676 [18:30<37:03,  4.86s/it]\u001b[A\u001b[A"
     ]
    },
    {
     "name": "stdout",
     "output_type": "stream",
     "text": [
      "['feutre', 'le marqueur']\n",
      "sense_intersect ['feutre | le marqueur', 'plume | le marqueur']\n",
      "pen загон\n",
      "https://context.reverso.net/перевод/английский-французский/pen\n",
      "['stylo', 'plume', 'crayon', 'stylet', 'enclos', 'feutre', 'prison', 'pénitencier', 'écrire', 'parc', 'pen']\n",
      "https://context.reverso.net/перевод/русский-французский/загон\n"
     ]
    },
    {
     "name": "stderr",
     "output_type": "stream",
     "text": [
      "\n",
      "\n",
      " 33%|███▎      | 220/676 [18:35<36:58,  4.86s/it]\u001b[A\u001b[A"
     ]
    },
    {
     "name": "stdout",
     "output_type": "stream",
     "text": [
      "['enclos']\n",
      "sense_intersect ['enclos']\n",
      "pen Перу\n",
      "https://context.reverso.net/перевод/английский-французский/pen\n",
      "['stylo', 'plume', 'crayon', 'stylet', 'enclos', 'feutre', 'prison', 'pénitencier', 'écrire', 'parc', 'pen']\n",
      "https://context.reverso.net/перевод/русский-французский/Перу\n"
     ]
    },
    {
     "name": "stderr",
     "output_type": "stream",
     "text": [
      "\n",
      "\n",
      " 33%|███▎      | 221/676 [18:40<37:07,  4.90s/it]\u001b[A\u001b[A"
     ]
    },
    {
     "name": "stdout",
     "output_type": "stream",
     "text": [
      "['péruvien', 'péruvien', 'au pérou', 'pérou']\n",
      "sense_intersect ['pénitencier | péruvien | péruvien']\n",
      "pen пена\n",
      "https://context.reverso.net/перевод/английский-французский/pen\n",
      "['stylo', 'plume', 'crayon', 'stylet', 'enclos', 'feutre', 'prison', 'pénitencier', 'écrire', 'parc', 'pen']\n",
      "https://context.reverso.net/перевод/русский-французский/пена\n"
     ]
    },
    {
     "name": "stderr",
     "output_type": "stream",
     "text": [
      "\n",
      "\n",
      " 33%|███▎      | 222/676 [18:45<36:59,  4.89s/it]\u001b[A\u001b[A"
     ]
    },
    {
     "name": "stdout",
     "output_type": "stream",
     "text": [
      "['mousse', 'pan']\n",
      "sense_intersect ['no_equality']\n",
      "pen пенал\n",
      "https://context.reverso.net/перевод/английский-французский/pen\n",
      "['stylo', 'plume', 'crayon', 'stylet', 'enclos', 'feutre', 'prison', 'pénitencier', 'écrire', 'parc', 'pen']\n",
      "https://context.reverso.net/перевод/русский-французский/пенал\n",
      "turn to alternative marks\n"
     ]
    },
    {
     "name": "stderr",
     "output_type": "stream",
     "text": [
      "\n",
      "\n",
      " 33%|███▎      | 223/676 [18:50<37:50,  5.01s/it]\u001b[A\u001b[A"
     ]
    },
    {
     "name": "stdout",
     "output_type": "stream",
     "text": [
      "['trousse', 'plumier', 'la boîte à crayons']\n",
      "sense_intersect ['plume | plumier', 'crayon | la boîte à crayons', 'enclos | la boîte à crayons']\n",
      "pen световое перо\n",
      "https://context.reverso.net/перевод/английский-французский/pen\n",
      "['stylo', 'plume', 'crayon', 'stylet', 'enclos', 'feutre', 'prison', 'pénitencier', 'écrire', 'parc', 'pen']\n",
      "https://context.reverso.net/перевод/русский-французский/световое перо\n"
     ]
    },
    {
     "name": "stderr",
     "output_type": "stream",
     "text": [
      "\n",
      "\n",
      " 33%|███▎      | 224/676 [18:55<37:29,  4.98s/it]\u001b[A\u001b[A"
     ]
    },
    {
     "name": "stdout",
     "output_type": "stream",
     "text": [
      "['plume', 'pero', 'feather', 'perot']\n",
      "sense_intersect ['plume', 'feutre | feather']\n",
      "pen писать\n",
      "https://context.reverso.net/перевод/английский-французский/pen\n",
      "['stylo', 'plume', 'crayon', 'stylet', 'enclos', 'feutre', 'prison', 'pénitencier', 'écrire', 'parc', 'pen']\n",
      "https://context.reverso.net/перевод/русский-французский/писать\n"
     ]
    },
    {
     "name": "stderr",
     "output_type": "stream",
     "text": [
      "\n",
      "\n",
      " 33%|███▎      | 225/676 [19:01<39:14,  5.22s/it]\u001b[A\u001b[A"
     ]
    },
    {
     "name": "stdout",
     "output_type": "stream",
     "text": [
      "['écrire', 'pisser', 'faire pipi', 'envoyer', 'peindre', 'écriture']\n",
      "sense_intersect ['écrire', 'pénitencier | peindre | écriture']\n",
      "pen перьевой\n",
      "https://context.reverso.net/перевод/английский-французский/pen\n",
      "['stylo', 'plume', 'crayon', 'stylet', 'enclos', 'feutre', 'prison', 'pénitencier', 'écrire', 'parc', 'pen']\n",
      "https://context.reverso.net/перевод/русский-французский/перьевой\n",
      "turn to alternative marks\n"
     ]
    },
    {
     "name": "stderr",
     "output_type": "stream",
     "text": [
      "\n",
      "\n",
      " 33%|███▎      | 226/676 [19:05<38:17,  5.10s/it]\u001b[A\u001b[A"
     ]
    },
    {
     "name": "stdout",
     "output_type": "stream",
     "text": [
      "[]\n",
      "sense_intersect ['no_equality']\n",
      "pasta паста\n",
      "https://context.reverso.net/перевод/английский-французский/pasta\n",
      "['pâte', 'pâtes alimentaires', 'pâte']\n",
      "https://context.reverso.net/перевод/русский-французский/паста\n"
     ]
    },
    {
     "name": "stderr",
     "output_type": "stream",
     "text": [
      "\n",
      "\n",
      " 34%|███▎      | 227/676 [19:10<37:46,  5.05s/it]\u001b[A\u001b[A"
     ]
    },
    {
     "name": "stdout",
     "output_type": "stream",
     "text": [
      "['dentifrice']\n",
      "sense_intersect ['pâtes alimentaires | dentifrice']\n",
      "pasta блюда из макарон\n",
      "https://context.reverso.net/перевод/английский-французский/pasta\n",
      "['pâte', 'pâtes alimentaires', 'pâte']\n",
      "https://context.reverso.net/перевод/русский-французский/блюда из макарон\n"
     ]
    },
    {
     "name": "stderr",
     "output_type": "stream",
     "text": [
      "\n",
      "\n",
      " 34%|███▎      | 228/676 [19:16<39:14,  5.26s/it]\u001b[A\u001b[A"
     ]
    },
    {
     "name": "stdout",
     "output_type": "stream",
     "text": [
      "['plat', 'repas', 'menu', 'nourriture', 'cuisine', 'de pâtes']\n",
      "sense_intersect ['no_equality']\n",
      "hot горячий\n",
      "https://context.reverso.net/перевод/английский-французский/hot\n",
      "['chaud', 'sexy', 'brûlant', 'bon', 'beau', 'bouillant', 'chauffant', 'torride', 'canon', 'chaleur', 'à chaud', 'super', 'épicé', 'piquant']\n",
      "https://context.reverso.net/перевод/русский-французский/горячий\n"
     ]
    },
    {
     "name": "stderr",
     "output_type": "stream",
     "text": [
      "\n",
      "\n",
      " 34%|███▍      | 229/676 [19:21<38:13,  5.13s/it]\u001b[A\u001b[A"
     ]
    },
    {
     "name": "stdout",
     "output_type": "stream",
     "text": [
      "['chaud', 'sexy']\n",
      "sense_intersect ['chaud | à chaud', 'sexy']\n",
      "hot острый\n",
      "https://context.reverso.net/перевод/английский-французский/hot\n",
      "['chaud', 'sexy', 'brûlant', 'bon', 'beau', 'bouillant', 'chauffant', 'torride', 'canon', 'chaleur', 'à chaud', 'super', 'épicé', 'piquant']\n",
      "https://context.reverso.net/перевод/русский-французский/острый\n"
     ]
    },
    {
     "name": "stderr",
     "output_type": "stream",
     "text": [
      "\n",
      "\n",
      " 34%|███▍      | 230/676 [19:26<37:31,  5.05s/it]\u001b[A\u001b[A"
     ]
    },
    {
     "name": "stdout",
     "output_type": "stream",
     "text": [
      "['aigu', 'piquante', 'grave', 'épicé']\n",
      "sense_intersect ['épicé', 'piquant | piquante']\n",
      "hot популярный\n",
      "https://context.reverso.net/перевод/английский-французский/hot\n",
      "['chaud', 'sexy', 'brûlant', 'bon', 'beau', 'bouillant', 'chauffant', 'torride', 'canon', 'chaleur', 'à chaud', 'super', 'épicé', 'piquant']\n",
      "https://context.reverso.net/перевод/русский-французский/популярный\n"
     ]
    },
    {
     "name": "stderr",
     "output_type": "stream",
     "text": [
      "\n",
      "\n",
      " 34%|███▍      | 231/676 [19:31<37:16,  5.03s/it]\u001b[A\u001b[A"
     ]
    },
    {
     "name": "stdout",
     "output_type": "stream",
     "text": [
      "['populaire']\n",
      "sense_intersect ['no_equality']\n",
      "hot жгучий\n",
      "https://context.reverso.net/перевод/английский-французский/hot\n",
      "['chaud', 'sexy', 'brûlant', 'bon', 'beau', 'bouillant', 'chauffant', 'torride', 'canon', 'chaleur', 'à chaud', 'super', 'épicé', 'piquant']\n",
      "https://context.reverso.net/перевод/русский-французский/жгучий\n",
      "turn to alternative marks\n"
     ]
    },
    {
     "name": "stderr",
     "output_type": "stream",
     "text": [
      "\n",
      "\n",
      " 34%|███▍      | 232/676 [19:36<36:57,  5.00s/it]\u001b[A\u001b[A"
     ]
    },
    {
     "name": "stdout",
     "output_type": "stream",
     "text": [
      "['brûlant']\n",
      "sense_intersect ['brûlant | bouillant']\n",
      "hot горячительный\n",
      "https://context.reverso.net/перевод/английский-французский/hot\n",
      "['chaud', 'sexy', 'brûlant', 'bon', 'beau', 'bouillant', 'chauffant', 'torride', 'canon', 'chaleur', 'à chaud', 'super', 'épicé', 'piquant']\n",
      "https://context.reverso.net/перевод/русский-французский/горячительный\n",
      "turn to alternative marks\n"
     ]
    },
    {
     "name": "stderr",
     "output_type": "stream",
     "text": [
      "\n",
      "\n",
      " 34%|███▍      | 233/676 [19:40<36:35,  4.96s/it]\u001b[A\u001b[A"
     ]
    },
    {
     "name": "stdout",
     "output_type": "stream",
     "text": [
      "[]\n",
      "sense_intersect ['no_equality']\n",
      "hot жарко\n",
      "https://context.reverso.net/перевод/английский-французский/hot\n",
      "['chaud', 'sexy', 'brûlant', 'bon', 'beau', 'bouillant', 'chauffant', 'torride', 'canon', 'chaleur', 'à chaud', 'super', 'épicé', 'piquant']\n",
      "https://context.reverso.net/перевод/русский-французский/жарко\n"
     ]
    },
    {
     "name": "stderr",
     "output_type": "stream",
     "text": [
      "\n",
      "\n",
      " 35%|███▍      | 234/676 [19:46<36:39,  4.98s/it]\u001b[A\u001b[A"
     ]
    },
    {
     "name": "stdout",
     "output_type": "stream",
     "text": [
      "['il fait chaud', 'chaleur']\n",
      "sense_intersect ['chaleur']\n",
      "hot горячо\n",
      "https://context.reverso.net/перевод/английский-французский/hot\n",
      "['chaud', 'sexy', 'brûlant', 'bon', 'beau', 'bouillant', 'chauffant', 'torride', 'canon', 'chaleur', 'à chaud', 'super', 'épicé', 'piquant']\n",
      "https://context.reverso.net/перевод/русский-французский/горячо\n"
     ]
    },
    {
     "name": "stderr",
     "output_type": "stream",
     "text": [
      "\n",
      "\n",
      " 35%|███▍      | 235/676 [19:50<36:29,  4.96s/it]\u001b[A\u001b[A"
     ]
    },
    {
     "name": "stdout",
     "output_type": "stream",
     "text": [
      "['vivement', 'ardemment']\n",
      "sense_intersect ['no_equality']\n",
      "hot разгоряченный\n",
      "https://context.reverso.net/перевод/английский-французский/hot\n",
      "['chaud', 'sexy', 'brûlant', 'bon', 'beau', 'bouillant', 'chauffant', 'torride', 'canon', 'chaleur', 'à chaud', 'super', 'épicé', 'piquant']\n",
      "https://context.reverso.net/перевод/русский-французский/разгоряченный\n",
      "turn to alternative marks\n"
     ]
    },
    {
     "name": "stderr",
     "output_type": "stream",
     "text": [
      "\n",
      "\n",
      " 35%|███▍      | 236/676 [19:55<36:06,  4.92s/it]\u001b[A\u001b[A"
     ]
    },
    {
     "name": "stdout",
     "output_type": "stream",
     "text": [
      "[]\n",
      "sense_intersect ['no_equality']\n",
      "hot горящий\n",
      "https://context.reverso.net/перевод/английский-французский/hot\n",
      "['chaud', 'sexy', 'brûlant', 'bon', 'beau', 'bouillant', 'chauffant', 'torride', 'canon', 'chaleur', 'à chaud', 'super', 'épicé', 'piquant']\n",
      "https://context.reverso.net/перевод/русский-французский/горящий\n",
      "turn to alternative marks\n"
     ]
    },
    {
     "name": "stderr",
     "output_type": "stream",
     "text": [
      "\n",
      "\n",
      " 35%|███▌      | 237/676 [20:00<36:15,  4.95s/it]\u001b[A\u001b[A"
     ]
    },
    {
     "name": "stdout",
     "output_type": "stream",
     "text": [
      "['en feu', 'en flammes', 'météorite', 'un vol', 'flamme']\n",
      "sense_intersect ['no_equality']\n",
      "hot накалиться\n",
      "https://context.reverso.net/перевод/английский-французский/hot\n",
      "['chaud', 'sexy', 'brûlant', 'bon', 'beau', 'bouillant', 'chauffant', 'torride', 'canon', 'chaleur', 'à chaud', 'super', 'épicé', 'piquant']\n",
      "https://context.reverso.net/перевод/русский-французский/накалиться\n",
      "turn to alternative marks\n"
     ]
    },
    {
     "name": "stderr",
     "output_type": "stream",
     "text": [
      "\n",
      "\n",
      " 35%|███▌      | 238/676 [20:06<36:53,  5.05s/it]\u001b[A\u001b[A"
     ]
    },
    {
     "name": "stdout",
     "output_type": "stream",
     "text": [
      "[]\n",
      "sense_intersect ['no_equality']\n",
      "that что\n",
      "https://context.reverso.net/перевод/английский-французский/that\n",
      "['que', 'qui', 'c', 'l', 'celui', 'ce', 'cela', 'le', 'il', 'dont', 'à', 'je', 'celui-là', 'telle', 'sa', 'ta']\n",
      "https://context.reverso.net/перевод/русский-французский/что\n"
     ]
    },
    {
     "name": "stderr",
     "output_type": "stream",
     "text": [
      "\n",
      "\n",
      " 35%|███▌      | 239/676 [20:10<36:28,  5.01s/it]\u001b[A\u001b[A"
     ]
    },
    {
     "name": "stdout",
     "output_type": "stream",
     "text": [
      "['qu', 'que', 'le', 'qui', 'de', 'quoi', 'avoir', \"qu'est-ce que\", 'donc', 'si', 'et', 'quel', 'je', 'pour', \"d'\", \"qu'est-ce qui\", \"qu'est-ce\", \"qu'est ce que\"]\n",
      "sense_intersect [\"que | qu | qu'est-ce que | quel | qu'est-ce qui | qu'est ce que\", 'qui | quoi', 'le | telle', 'je']\n",
      "that будто\n",
      "https://context.reverso.net/перевод/английский-французский/that\n",
      "['que', 'qui', 'c', 'l', 'celui', 'ce', 'cela', 'le', 'il', 'dont', 'à', 'je', 'celui-là', 'telle', 'sa', 'ta']\n",
      "https://context.reverso.net/перевод/русский-французский/будто\n"
     ]
    },
    {
     "name": "stderr",
     "output_type": "stream",
     "text": [
      "\n",
      "\n",
      " 36%|███▌      | 240/676 [20:15<36:22,  5.01s/it]\u001b[A\u001b[A"
     ]
    },
    {
     "name": "stdout",
     "output_type": "stream",
     "text": [
      "['comme si', \"comme s'\", 'dirait que', 'on dirait', 'impression', \"dirait qu'\", 'air', 'semble', 'genre', 'croire', 'sens', 'semblant', 'semblait', 'selon lesquelles']\n",
      "sense_intersect ['no_equality']\n",
      "that дабы\n",
      "https://context.reverso.net/перевод/английский-французский/that\n",
      "['que', 'qui', 'c', 'l', 'celui', 'ce', 'cela', 'le', 'il', 'dont', 'à', 'je', 'celui-là', 'telle', 'sa', 'ta']\n",
      "https://context.reverso.net/перевод/русский-французский/дабы\n"
     ]
    },
    {
     "name": "stderr",
     "output_type": "stream",
     "text": [
      "\n",
      "\n",
      " 36%|███▌      | 241/676 [20:20<36:06,  4.98s/it]\u001b[A\u001b[A"
     ]
    },
    {
     "name": "stdout",
     "output_type": "stream",
     "text": [
      "['afin']\n",
      "sense_intersect ['no_equality']\n",
      "that который\n",
      "https://context.reverso.net/перевод/английский-французский/that\n",
      "['que', 'qui', 'c', 'l', 'celui', 'ce', 'cela', 'le', 'il', 'dont', 'à', 'je', 'celui-là', 'telle', 'sa', 'ta']\n",
      "https://context.reverso.net/перевод/русский-французский/который\n"
     ]
    },
    {
     "name": "stderr",
     "output_type": "stream",
     "text": [
      "\n",
      "\n",
      " 36%|███▌      | 242/676 [20:26<36:35,  5.06s/it]\u001b[A\u001b[A"
     ]
    },
    {
     "name": "stdout",
     "output_type": "stream",
     "text": [
      "['qui', 'chargé', 'celui', 'capable', 'publié', 'dont', 'lequel', 'où', 'auquel', 'afin', 'duquel', 'présenté']\n",
      "sense_intersect ['qui', 'celui | celui-là', 'dont', 'que | auquel | duquel', 'cela | capable']\n",
      "that это\n",
      "https://context.reverso.net/перевод/английский-французский/that\n",
      "['que', 'qui', 'c', 'l', 'celui', 'ce', 'cela', 'le', 'il', 'dont', 'à', 'je', 'celui-là', 'telle', 'sa', 'ta']\n",
      "https://context.reverso.net/перевод/русский-французский/это\n"
     ]
    },
    {
     "name": "stderr",
     "output_type": "stream",
     "text": [
      "\n",
      "\n",
      " 36%|███▌      | 243/676 [20:31<36:03,  5.00s/it]\u001b[A\u001b[A"
     ]
    },
    {
     "name": "stdout",
     "output_type": "stream",
     "text": [
      "[\"c'est\", 'cela', 'ce', 'le', 'c', 'il', 'un', 'je', 'tu', 'en', 'on', 'ceci', 'y', 'tout', 'celui-ci']\n",
      "sense_intersect ['c', 'ce | ceci', 'cela', 'le | telle', 'il', 'je', 'celui | celui-ci', 'celui-là | celui-ci']\n",
      "that тот самый\n",
      "https://context.reverso.net/перевод/английский-французский/that\n",
      "['que', 'qui', 'c', 'l', 'celui', 'ce', 'cela', 'le', 'il', 'dont', 'à', 'je', 'celui-là', 'telle', 'sa', 'ta']\n",
      "https://context.reverso.net/перевод/русский-французский/тот самый\n"
     ]
    },
    {
     "name": "stderr",
     "output_type": "stream",
     "text": [
      "\n",
      "\n",
      " 36%|███▌      | 244/676 [20:36<36:01,  5.00s/it]\u001b[A\u001b[A"
     ]
    },
    {
     "name": "stdout",
     "output_type": "stream",
     "text": [
      "['le même', 'celui']\n",
      "sense_intersect ['celui | celui-là']\n",
      "that так\n",
      "https://context.reverso.net/перевод/английский-французский/that\n",
      "['que', 'qui', 'c', 'l', 'celui', 'ce', 'cela', 'le', 'il', 'dont', 'à', 'je', 'celui-là', 'telle', 'sa', 'ta']\n",
      "https://context.reverso.net/перевод/русский-французский/так\n"
     ]
    },
    {
     "name": "stderr",
     "output_type": "stream",
     "text": [
      "\n",
      "\n",
      " 36%|███▌      | 245/676 [20:40<35:38,  4.96s/it]\u001b[A\u001b[A"
     ]
    },
    {
     "name": "stdout",
     "output_type": "stream",
     "text": [
      "['donc', 'alors', 'si', 'aussi', 'tellement', 'non', 'comme ça', 'ainsi', 'autant', 'tant', 'bien', 'vrai', 'tout', 'vraiment', 'trop']\n",
      "sense_intersect ['telle | tellement']\n",
      "that таковой\n",
      "https://context.reverso.net/перевод/английский-французский/that\n",
      "['que', 'qui', 'c', 'l', 'celui', 'ce', 'cela', 'le', 'il', 'dont', 'à', 'je', 'celui-là', 'telle', 'sa', 'ta']\n",
      "https://context.reverso.net/перевод/русский-французский/таковой\n"
     ]
    },
    {
     "name": "stderr",
     "output_type": "stream",
     "text": [
      "\n",
      "\n",
      " 36%|███▋      | 246/676 [20:45<35:27,  4.95s/it]\u001b[A\u001b[A"
     ]
    },
    {
     "name": "stdout",
     "output_type": "stream",
     "text": [
      "['tel']\n",
      "sense_intersect ['telle | tel']\n",
      "be быть\n",
      "https://context.reverso.net/перевод/английский-французский/be\n",
      "['être', 'avoir', 'faire', 'pouvoir', 'prendre', 'devenir', 'mettre', 'trouver', 'se', 's', 'on', 'convient', 'comme', 'possible', 'pas']\n",
      "https://context.reverso.net/перевод/русский-французский/быть\n"
     ]
    },
    {
     "name": "stderr",
     "output_type": "stream",
     "text": [
      "\n",
      "\n",
      " 37%|███▋      | 247/676 [20:51<36:17,  5.08s/it]\u001b[A\u001b[A"
     ]
    },
    {
     "name": "stdout",
     "output_type": "stream",
     "text": [
      "['être', 'avoir', 'faire', 'rester', 'aller', 'trouver', 'arriver', 'pas', 'se', 'y', 'est', 'peut-être', 'dû']\n",
      "sense_intersect ['être | rester | peut-être | mettre', 'avoir | arriver | pouvoir', 'faire', 'trouver', 'se', 'pas']\n",
      "be происходить\n",
      "https://context.reverso.net/перевод/английский-французский/be\n",
      "['être', 'avoir', 'faire', 'pouvoir', 'prendre', 'devenir', 'mettre', 'trouver', 'se', 's', 'on', 'convient', 'comme', 'possible', 'pas']\n",
      "https://context.reverso.net/перевод/русский-французский/происходить\n"
     ]
    },
    {
     "name": "stderr",
     "output_type": "stream",
     "text": [
      "\n",
      "\n",
      " 37%|███▋      | 248/676 [20:56<35:41,  5.00s/it]\u001b[A\u001b[A"
     ]
    },
    {
     "name": "stdout",
     "output_type": "stream",
     "text": [
      "['se produire', 'arriver', 'se passer', 'se faire', 'avoir lieu']\n",
      "sense_intersect ['avoir | arriver | avoir lieu', 'faire | se faire', 'prendre | se produire', 'devenir | se produire', 'trouver | se produire']\n",
      "be находиться\n",
      "https://context.reverso.net/перевод/английский-французский/be\n",
      "['être', 'avoir', 'faire', 'pouvoir', 'prendre', 'devenir', 'mettre', 'trouver', 'se', 's', 'on', 'convient', 'comme', 'possible', 'pas']\n",
      "https://context.reverso.net/перевод/русский-французский/находиться\n"
     ]
    },
    {
     "name": "stderr",
     "output_type": "stream",
     "text": [
      "\n",
      "\n",
      " 37%|███▋      | 249/676 [21:00<35:23,  4.97s/it]\u001b[A\u001b[A"
     ]
    },
    {
     "name": "stdout",
     "output_type": "stream",
     "text": [
      "['rester', 'se trouver', 'séjourner', 'saisi', 'avoir']\n",
      "sense_intersect ['avoir | pouvoir', 'être | rester', 'mettre | rester', 'trouver | se trouver']\n",
      "be составлять\n",
      "https://context.reverso.net/перевод/английский-французский/be\n",
      "['être', 'avoir', 'faire', 'pouvoir', 'prendre', 'devenir', 'mettre', 'trouver', 'se', 's', 'on', 'convient', 'comme', 'possible', 'pas']\n",
      "https://context.reverso.net/перевод/русский-французский/составлять\n"
     ]
    },
    {
     "name": "stderr",
     "output_type": "stream",
     "text": [
      "\n",
      "\n",
      " 37%|███▋      | 250/676 [21:06<36:47,  5.18s/it]\u001b[A\u001b[A"
     ]
    },
    {
     "name": "stdout",
     "output_type": "stream",
     "text": [
      "['établir', 'constituer', 'représenter', 'faire', 'atteindre', 'durer']\n",
      "sense_intersect ['faire', 'être | atteindre', 'prendre | représenter | durer', 'mettre | atteindre', 'trouver | constituer', 'convient | constituer']\n",
      "be заключаться\n",
      "https://context.reverso.net/перевод/английский-французский/be\n",
      "['être', 'avoir', 'faire', 'pouvoir', 'prendre', 'devenir', 'mettre', 'trouver', 'se', 's', 'on', 'convient', 'comme', 'possible', 'pas']\n",
      "https://context.reverso.net/перевод/русский-французский/заключаться\n"
     ]
    },
    {
     "name": "stderr",
     "output_type": "stream",
     "text": [
      "\n",
      "\n",
      " 37%|███▋      | 251/676 [21:11<36:39,  5.17s/it]\u001b[A\u001b[A"
     ]
    },
    {
     "name": "stdout",
     "output_type": "stream",
     "text": [
      "['consister', 'viser', 'avoir']\n",
      "sense_intersect ['avoir | pouvoir', 'possible | consister']\n",
      "be идти\n",
      "https://context.reverso.net/перевод/английский-французский/be\n",
      "['être', 'avoir', 'faire', 'pouvoir', 'prendre', 'devenir', 'mettre', 'trouver', 'se', 's', 'on', 'convient', 'comme', 'possible', 'pas']\n",
      "https://context.reverso.net/перевод/русский-французский/идти\n"
     ]
    },
    {
     "name": "stderr",
     "output_type": "stream",
     "text": [
      "\n",
      "\n",
      " 37%|███▋      | 252/676 [21:16<35:54,  5.08s/it]\u001b[A\u001b[A"
     ]
    },
    {
     "name": "stdout",
     "output_type": "stream",
     "text": [
      "['aller', 'partir', 'rentrer', 'marcher', 'suivre', 'venir', 'faire', 'sortir', 'continuer', 'prendre', 'passer', 'poursuivre', 'retourner', 'filer', 'entrer', 'y aille']\n",
      "sense_intersect ['faire | filer', 'prendre | rentrer', 'être | rentrer | retourner | entrer', 'pouvoir | poursuivre', 'devenir | venir | prendre', 'trouver | sortir | continuer | poursuivre', 'convient | venir']\n",
      "be относиться\n",
      "https://context.reverso.net/перевод/английский-французский/be\n",
      "['être', 'avoir', 'faire', 'pouvoir', 'prendre', 'devenir', 'mettre', 'trouver', 'se', 's', 'on', 'convient', 'comme', 'possible', 'pas']\n",
      "https://context.reverso.net/перевод/русский-французский/относиться\n"
     ]
    },
    {
     "name": "stderr",
     "output_type": "stream",
     "text": [
      "\n",
      "\n",
      " 37%|███▋      | 253/676 [21:21<35:36,  5.05s/it]\u001b[A\u001b[A"
     ]
    },
    {
     "name": "stdout",
     "output_type": "stream",
     "text": [
      "['traiter', 'considérer', \"s'appliquer\", 'sérieux', 'prendre', 'tolérer']\n",
      "sense_intersect ['prendre | devenir', 'être | traiter', 'mettre | traiter']\n",
      "be равно\n",
      "https://context.reverso.net/перевод/английский-французский/be\n",
      "['être', 'avoir', 'faire', 'pouvoir', 'prendre', 'devenir', 'mettre', 'trouver', 'se', 's', 'on', 'convient', 'comme', 'possible', 'pas']\n",
      "https://context.reverso.net/перевод/русский-французский/равно\n"
     ]
    },
    {
     "name": "stderr",
     "output_type": "stream",
     "text": [
      "\n",
      "\n",
      " 38%|███▊      | 254/676 [21:27<36:27,  5.18s/it]\u001b[A\u001b[A"
     ]
    },
    {
     "name": "stdout",
     "output_type": "stream",
     "text": [
      "['quand même', 'déjà', 'égal', 'comme', 'reste', 'rien', 'cas', 'aussi', 'en moque', 'autant', 'faut', 'importance', 'finira']\n",
      "sense_intersect ['comme', 'être | reste', 'faire | finira', 'devenir | rien', 'mettre | reste', 'convient | importance']\n",
      "but но\n",
      "https://context.reverso.net/перевод/английский-французский/but\n",
      "['mai', 'toutefois', 'néanmoins', 'seulement', 'mais bien', 'plutôt', 'sans que', 'que', 'cependant', 'sans', 'sauf', 'pourtant', 'alors', 'or', 'puis', 'puisque', 'hormis']\n",
      "https://context.reverso.net/перевод/русский-французский/но\n"
     ]
    },
    {
     "name": "stderr",
     "output_type": "stream",
     "text": [
      "\n",
      "\n",
      " 38%|███▊      | 255/676 [21:32<35:51,  5.11s/it]\u001b[A\u001b[A"
     ]
    },
    {
     "name": "stdout",
     "output_type": "stream",
     "text": [
      "['mai', 'ça', 'si', 'pourtant', 'sans', 'alors', 'cependant', 'puis', 'bien', 'sauf', 'toutefois', 'tout', 'pourquoi', 'quand', 'maintenant']\n",
      "sense_intersect ['mai', 'toutefois', 'cependant', 'sans', 'sauf', 'pourtant', 'alors', 'puis | puisque', 'mais bien | bien']\n",
      "but а\n",
      "https://context.reverso.net/перевод/английский-французский/but\n",
      "['mai', 'toutefois', 'néanmoins', 'seulement', 'mais bien', 'plutôt', 'sans que', 'que', 'cependant', 'sans', 'sauf', 'pourtant', 'alors', 'or', 'puis', 'puisque', 'hormis']\n",
      "https://context.reverso.net/перевод/русский-французский/а\n",
      "turn to alternative marks\n"
     ]
    },
    {
     "name": "stderr",
     "output_type": "stream",
     "text": [
      "\n",
      "\n",
      " 38%|███▊      | 256/676 [21:36<34:48,  4.97s/it]\u001b[A\u001b[A"
     ]
    },
    {
     "name": "stdout",
     "output_type": "stream",
     "text": [
      "[]\n",
      "sense_intersect ['no_equality']\n",
      "but однако\n",
      "https://context.reverso.net/перевод/английский-французский/but\n",
      "['mai', 'toutefois', 'néanmoins', 'seulement', 'mais bien', 'plutôt', 'sans que', 'que', 'cependant', 'sans', 'sauf', 'pourtant', 'alors', 'or', 'puis', 'puisque', 'hormis']\n",
      "https://context.reverso.net/перевод/русский-французский/однако\n"
     ]
    },
    {
     "name": "stderr",
     "output_type": "stream",
     "text": [
      "\n",
      "\n",
      " 38%|███▊      | 257/676 [21:41<34:33,  4.95s/it]\u001b[A\u001b[A"
     ]
    },
    {
     "name": "stdout",
     "output_type": "stream",
     "text": [
      "['toutefois', 'cependant', 'néanmoins', 'en revanche', 'par contre', 'outre', 'mai', 'pourtant', 'or', 'même si', 'reste', 'tandis', 'alors que', 'cela dit', 'cela étant']\n",
      "sense_intersect ['mai', 'toutefois | outre', 'néanmoins', 'cependant | en revanche | par contre', 'pourtant', 'or', 'seulement | reste', 'alors | alors que']\n",
      "but только\n",
      "https://context.reverso.net/перевод/английский-французский/but\n",
      "['mai', 'toutefois', 'néanmoins', 'seulement', 'mais bien', 'plutôt', 'sans que', 'que', 'cependant', 'sans', 'sauf', 'pourtant', 'alors', 'or', 'puis', 'puisque', 'hormis']\n",
      "https://context.reverso.net/перевод/русский-французский/только\n"
     ]
    },
    {
     "name": "stderr",
     "output_type": "stream",
     "text": [
      "\n",
      "\n",
      " 38%|███▊      | 258/676 [21:46<34:21,  4.93s/it]\u001b[A\u001b[A"
     ]
    },
    {
     "name": "stdout",
     "output_type": "stream",
     "text": [
      "['seulement', 'juste', 'seul', 'uniquement', 'mai', 'quand', 'si', 'simplement', 'seule', 'viens', 'vient', 'seuls', 'tout', 'sauf', 'seules']\n",
      "sense_intersect ['mai', 'seulement | uniquement | simplement | seule', 'sauf']\n",
      "but кроме\n",
      "https://context.reverso.net/перевод/английский-французский/but\n",
      "['mai', 'toutefois', 'néanmoins', 'seulement', 'mais bien', 'plutôt', 'sans que', 'que', 'cependant', 'sans', 'sauf', 'pourtant', 'alors', 'or', 'puis', 'puisque', 'hormis']\n",
      "https://context.reverso.net/перевод/русский-французский/кроме\n"
     ]
    },
    {
     "name": "stderr",
     "output_type": "stream",
     "text": [
      "\n",
      "\n",
      " 38%|███▊      | 259/676 [21:51<34:13,  4.92s/it]\u001b[A\u001b[A"
     ]
    },
    {
     "name": "stdout",
     "output_type": "stream",
     "text": [
      "['autre que', 'excepté', 'ainsi', 'sinon', 'seul', 'seulement', 'sauf', 'à part', 'hormis', 'cela', 'au-delà', 'parallèlement', 'mai']\n",
      "sense_intersect ['mai', 'seulement', 'sauf', 'hormis', 'néanmoins | sinon', 'que | autre que']\n",
      "and и\n",
      "https://context.reverso.net/перевод/английский-французский/and\n",
      "turn to alternative marks\n",
      "[]\n",
      "https://context.reverso.net/перевод/русский-французский/и\n",
      "turn to alternative marks\n"
     ]
    },
    {
     "name": "stderr",
     "output_type": "stream",
     "text": [
      "\n",
      "\n",
      " 38%|███▊      | 260/676 [21:55<33:21,  4.81s/it]\u001b[A\u001b[A"
     ]
    },
    {
     "name": "stdout",
     "output_type": "stream",
     "text": [
      "[]\n",
      "sense_intersect ['no_equality']\n",
      "and а также\n",
      "https://context.reverso.net/перевод/английский-французский/and\n",
      "turn to alternative marks\n",
      "[]\n",
      "https://context.reverso.net/перевод/русский-французский/а также\n"
     ]
    },
    {
     "name": "stderr",
     "output_type": "stream",
     "text": [
      "\n",
      "\n",
      " 39%|███▊      | 261/676 [22:00<33:46,  4.88s/it]\u001b[A\u001b[A"
     ]
    },
    {
     "name": "stdout",
     "output_type": "stream",
     "text": [
      "['ainsi que', \"ainsi qu'\", 'mais aussi', 'mais également', \"même qu'\", 'tout comme', 'tout en', 'même que', 'ni', 'outre', 'notamment', 'compris', 'puis', 'dont', 'ailleurs']\n",
      "sense_intersect ['no_equality']\n",
      "and причем\n",
      "https://context.reverso.net/перевод/английский-французский/and\n",
      "turn to alternative marks\n",
      "[]\n",
      "https://context.reverso.net/перевод/русский-французский/причем\n"
     ]
    },
    {
     "name": "stderr",
     "output_type": "stream",
     "text": [
      "\n",
      "\n",
      " 39%|███▉      | 262/676 [22:05<33:25,  4.84s/it]\u001b[A\u001b[A"
     ]
    },
    {
     "name": "stdout",
     "output_type": "stream",
     "text": [
      "['dont', 'sans', 'souvent', 'tandis', 'notamment', 'mai', 'même', 'plupart', 'parfois', 'tant', 'où']\n",
      "sense_intersect ['no_equality']\n",
      "and так и\n",
      "https://context.reverso.net/перевод/английский-французский/and\n",
      "turn to alternative marks\n",
      "[]\n",
      "https://context.reverso.net/перевод/русский-французский/так и\n"
     ]
    },
    {
     "name": "stderr",
     "output_type": "stream",
     "text": [
      "\n",
      "\n",
      " 39%|███▉      | 263/676 [22:11<34:35,  5.03s/it]\u001b[A\u001b[A"
     ]
    },
    {
     "name": "stdout",
     "output_type": "stream",
     "text": [
      "['comme', 'aussi bien', 'mais aussi', 'tant', 'alors', 'même', 'ni', 'mais également', 'ça', \"c'est\", 'toujours', 'oui', 'si', 'donc', 'cas']\n",
      "sense_intersect ['no_equality']\n",
      "and с\n",
      "https://context.reverso.net/перевод/английский-французский/and\n",
      "turn to alternative marks\n",
      "[]\n",
      "https://context.reverso.net/перевод/русский-французский/с\n",
      "turn to alternative marks\n"
     ]
    },
    {
     "name": "stderr",
     "output_type": "stream",
     "text": [
      "\n",
      "\n",
      " 39%|███▉      | 264/676 [22:15<33:29,  4.88s/it]\u001b[A\u001b[A"
     ]
    },
    {
     "name": "stdout",
     "output_type": "stream",
     "text": [
      "[]\n",
      "sense_intersect ['no_equality']\n",
      "expertise экспертиза\n",
      "https://context.reverso.net/перевод/английский-французский/expertise\n",
      "['expertise', 'savoir-faire', 'compétence', 'expérience', 'connaissances spécialisées', 'spécialisation', 'savoir faire', 'maîtrise', 'spécialité', 'expert', 'spécialiste', 'spécialisé', 'services spécialisés', \"champs d'intérêt\", 'expert']\n",
      "https://context.reverso.net/перевод/русский-французский/экспертиза\n"
     ]
    },
    {
     "name": "stderr",
     "output_type": "stream",
     "text": [
      "\n",
      "\n",
      " 39%|███▉      | 265/676 [22:20<33:45,  4.93s/it]\u001b[A\u001b[A"
     ]
    },
    {
     "name": "stdout",
     "output_type": "stream",
     "text": [
      "['évaluation']\n",
      "sense_intersect ['spécialisation | évaluation']\n",
      "expertise компетентность\n",
      "https://context.reverso.net/перевод/английский-французский/expertise\n",
      "['expertise', 'savoir-faire', 'compétence', 'expérience', 'connaissances spécialisées', 'spécialisation', 'savoir faire', 'maîtrise', 'spécialité', 'expert', 'spécialiste', 'spécialisé', 'services spécialisés', \"champs d'intérêt\", 'expert']\n",
      "https://context.reverso.net/перевод/русский-французский/компетентность\n"
     ]
    },
    {
     "name": "stderr",
     "output_type": "stream",
     "text": [
      "\n",
      "\n",
      " 39%|███▉      | 266/676 [22:25<33:34,  4.91s/it]\u001b[A\u001b[A"
     ]
    },
    {
     "name": "stdout",
     "output_type": "stream",
     "text": [
      "['compétence']\n",
      "sense_intersect ['compétence']\n",
      "expertise мастерство\n",
      "https://context.reverso.net/перевод/английский-французский/expertise\n",
      "['expertise', 'savoir-faire', 'compétence', 'expérience', 'connaissances spécialisées', 'spécialisation', 'savoir faire', 'maîtrise', 'spécialité', 'expert', 'spécialiste', 'spécialisé', 'services spécialisés', \"champs d'intérêt\", 'expert']\n",
      "https://context.reverso.net/перевод/русский-французский/мастерство\n"
     ]
    },
    {
     "name": "stderr",
     "output_type": "stream",
     "text": [
      "\n",
      "\n",
      " 39%|███▉      | 267/676 [22:31<34:54,  5.12s/it]\u001b[A\u001b[A"
     ]
    },
    {
     "name": "stdout",
     "output_type": "stream",
     "text": [
      "['talent']\n",
      "sense_intersect ['no_equality']\n",
      "expertise квалификация\n",
      "https://context.reverso.net/перевод/английский-французский/expertise\n",
      "['expertise', 'savoir-faire', 'compétence', 'expérience', 'connaissances spécialisées', 'spécialisation', 'savoir faire', 'maîtrise', 'spécialité', 'expert', 'spécialiste', 'spécialisé', 'services spécialisés', \"champs d'intérêt\", 'expert']\n",
      "https://context.reverso.net/перевод/русский-французский/квалификация\n"
     ]
    },
    {
     "name": "stderr",
     "output_type": "stream",
     "text": [
      "\n",
      "\n",
      " 40%|███▉      | 268/676 [22:36<34:36,  5.09s/it]\u001b[A\u001b[A"
     ]
    },
    {
     "name": "stdout",
     "output_type": "stream",
     "text": [
      "['qualification']\n",
      "sense_intersect ['savoir-faire | qualification', 'spécialisation | qualification', 'savoir faire | qualification']\n",
      "expertise опыт\n",
      "https://context.reverso.net/перевод/английский-французский/expertise\n",
      "['expertise', 'savoir-faire', 'compétence', 'expérience', 'connaissances spécialisées', 'spécialisation', 'savoir faire', 'maîtrise', 'spécialité', 'expert', 'spécialiste', 'spécialisé', 'services spécialisés', \"champs d'intérêt\", 'expert']\n",
      "https://context.reverso.net/перевод/русский-французский/опыт\n"
     ]
    },
    {
     "name": "stderr",
     "output_type": "stream",
     "text": [
      "\n",
      "\n",
      " 40%|███▉      | 269/676 [22:41<34:09,  5.04s/it]\u001b[A\u001b[A"
     ]
    },
    {
     "name": "stdout",
     "output_type": "stream",
     "text": [
      "['expérience', 'compétence', 'expertise', 'savoir-faire', 'exemple', 'bilan', 'connaissances spécialisées', 'acquis', 'enseignement', 'leçon', 'pratique', 'résultat']\n",
      "sense_intersect ['expertise | expérience | exemple | expert', 'savoir-faire | savoir faire', 'compétence', 'expérience', 'connaissances spécialisées | spécialisation | spécialiste | services spécialisés']\n",
      "expertise экспертные знания\n",
      "https://context.reverso.net/перевод/английский-французский/expertise\n",
      "['expertise', 'savoir-faire', 'compétence', 'expérience', 'connaissances spécialisées', 'spécialisation', 'savoir faire', 'maîtrise', 'spécialité', 'expert', 'spécialiste', 'spécialisé', 'services spécialisés', \"champs d'intérêt\", 'expert']\n",
      "https://context.reverso.net/перевод/русский-французский/экспертные знания\n"
     ]
    },
    {
     "name": "stderr",
     "output_type": "stream",
     "text": [
      "\n",
      "\n",
      " 40%|███▉      | 270/676 [22:46<34:02,  5.03s/it]\u001b[A\u001b[A"
     ]
    },
    {
     "name": "stdout",
     "output_type": "stream",
     "text": [
      "['compétence']\n",
      "sense_intersect ['compétence']\n",
      "expertise эксперт\n",
      "https://context.reverso.net/перевод/английский-французский/expertise\n",
      "['expertise', 'savoir-faire', 'compétence', 'expérience', 'connaissances spécialisées', 'spécialisation', 'savoir faire', 'maîtrise', 'spécialité', 'expert', 'spécialiste', 'spécialisé', 'services spécialisés', \"champs d'intérêt\", 'expert']\n",
      "https://context.reverso.net/перевод/русский-французский/эксперт\n"
     ]
    },
    {
     "name": "stderr",
     "output_type": "stream",
     "text": [
      "\n",
      "\n",
      " 40%|████      | 271/676 [22:51<33:50,  5.01s/it]\u001b[A\u001b[A"
     ]
    },
    {
     "name": "stdout",
     "output_type": "stream",
     "text": [
      "['expert', 'experte', 'spécialiste']\n",
      "sense_intersect ['expert | expertise | expérience | experte', 'spécialiste | connaissances spécialisées | spécialisation | spécialité | spécialisé | services spécialisés']\n",
      "expertise профессионализм\n",
      "https://context.reverso.net/перевод/английский-французский/expertise\n",
      "['expertise', 'savoir-faire', 'compétence', 'expérience', 'connaissances spécialisées', 'spécialisation', 'savoir faire', 'maîtrise', 'spécialité', 'expert', 'spécialiste', 'spécialisé', 'services spécialisés', \"champs d'intérêt\", 'expert']\n",
      "https://context.reverso.net/перевод/русский-французский/профессионализм\n"
     ]
    },
    {
     "name": "stderr",
     "output_type": "stream",
     "text": [
      "\n",
      "\n",
      " 40%|████      | 272/676 [22:56<33:36,  4.99s/it]\u001b[A\u001b[A"
     ]
    },
    {
     "name": "stdout",
     "output_type": "stream",
     "text": [
      "['professionnalisme']\n",
      "sense_intersect ['connaissances spécialisées | professionnalisme', 'spécialisation | professionnalisme']\n",
      "expertise экспертный потенциал\n",
      "https://context.reverso.net/перевод/английский-французский/expertise\n",
      "['expertise', 'savoir-faire', 'compétence', 'expérience', 'connaissances spécialisées', 'spécialisation', 'savoir faire', 'maîtrise', 'spécialité', 'expert', 'spécialiste', 'spécialisé', 'services spécialisés', \"champs d'intérêt\", 'expert']\n",
      "https://context.reverso.net/перевод/русский-французский/экспертный потенциал\n",
      "turn to alternative marks\n"
     ]
    },
    {
     "name": "stderr",
     "output_type": "stream",
     "text": [
      "\n",
      "\n",
      " 40%|████      | 273/676 [23:01<33:33,  5.00s/it]\u001b[A\u001b[A"
     ]
    },
    {
     "name": "stdout",
     "output_type": "stream",
     "text": [
      "['savoir-faire', 'connaissances spécialisées', 'expertise', 'compétences techniques']\n",
      "sense_intersect ['expertise | expérience | expert', 'savoir-faire | savoir faire', 'connaissances spécialisées | spécialisation | spécialiste | services spécialisés', 'compétence | compétences techniques', \"champs d'intérêt | compétences techniques\"]\n",
      "expertise знание дела\n",
      "https://context.reverso.net/перевод/английский-французский/expertise\n",
      "['expertise', 'savoir-faire', 'compétence', 'expérience', 'connaissances spécialisées', 'spécialisation', 'savoir faire', 'maîtrise', 'spécialité', 'expert', 'spécialiste', 'spécialisé', 'services spécialisés', \"champs d'intérêt\", 'expert']\n",
      "https://context.reverso.net/перевод/русский-французский/знание дела\n"
     ]
    },
    {
     "name": "stderr",
     "output_type": "stream",
     "text": [
      "\n",
      "\n",
      " 41%|████      | 274/676 [23:06<34:20,  5.13s/it]\u001b[A\u001b[A"
     ]
    },
    {
     "name": "stdout",
     "output_type": "stream",
     "text": [
      "['connaissance', 'savoir', 'connaissance', 'aptitude', 'maîtrise', 'affaire', 'cas', 'ça va', 'dossier', 'cause']\n",
      "sense_intersect ['maîtrise', 'savoir-faire | savoir', 'connaissances spécialisées | connaissance | connaissance', 'savoir faire | savoir']\n",
      "expertise деловой опыт\n",
      "https://context.reverso.net/перевод/английский-французский/expertise\n",
      "['expertise', 'savoir-faire', 'compétence', 'expérience', 'connaissances spécialisées', 'spécialisation', 'savoir faire', 'maîtrise', 'spécialité', 'expert', 'spécialiste', 'spécialisé', 'services spécialisés', \"champs d'intérêt\", 'expert']\n",
      "https://context.reverso.net/перевод/русский-французский/деловой опыт\n"
     ]
    },
    {
     "name": "stderr",
     "output_type": "stream",
     "text": [
      "\n",
      "\n",
      " 41%|████      | 275/676 [23:11<34:47,  5.21s/it]\u001b[A\u001b[A"
     ]
    },
    {
     "name": "stdout",
     "output_type": "stream",
     "text": [
      "['commercial', \"d'affaires\", 'économique', 'affaire', 'expérience', 'compétence', 'enseignement', 'expertise', 'savoir-faire']\n",
      "sense_intersect ['expertise | expérience | expert', 'savoir-faire | savoir faire', 'compétence | économique', 'expérience']\n",
      "expertise экспертный\n",
      "https://context.reverso.net/перевод/английский-французский/expertise\n",
      "['expertise', 'savoir-faire', 'compétence', 'expérience', 'connaissances spécialisées', 'spécialisation', 'savoir faire', 'maîtrise', 'spécialité', 'expert', 'spécialiste', 'spécialisé', 'services spécialisés', \"champs d'intérêt\", 'expert']\n",
      "https://context.reverso.net/перевод/русский-французский/экспертный\n"
     ]
    },
    {
     "name": "stderr",
     "output_type": "stream",
     "text": [
      "\n",
      "\n",
      " 41%|████      | 276/676 [23:17<35:26,  5.32s/it]\u001b[A\u001b[A"
     ]
    },
    {
     "name": "stdout",
     "output_type": "stream",
     "text": [
      "[\"d'experts\", 'compétence']\n",
      "sense_intersect ['compétence', \"expertise | d'experts\", \"expert | d'experts | d'experts\"]\n",
      "tell рассказывать\n",
      "https://context.reverso.net/перевод/английский-французский/tell\n",
      "['dire', 'parler', 'raconter', 'savoir', 'prévenir', 'expliquer', 'annoncer', 'indiquer', 'faire', 'informer', 'donner', 'avouer', 'répéter', 'apprendre', 'distinguer', 'conter', 'relater', 'compter', 'dis-moi']\n",
      "https://context.reverso.net/перевод/русский-французский/рассказывать\n"
     ]
    },
    {
     "name": "stderr",
     "output_type": "stream",
     "text": [
      "\n",
      "\n",
      " 41%|████      | 277/676 [23:22<34:26,  5.18s/it]\u001b[A\u001b[A"
     ]
    },
    {
     "name": "stdout",
     "output_type": "stream",
     "text": [
      "['dire', 'raconter', 'en parler', 'histoire']\n",
      "sense_intersect ['dire | indiquer', 'raconter | en parler | informer | conter | relater | compter', 'parler | en parler', 'distinguer | histoire']\n",
      "tell говорить\n",
      "https://context.reverso.net/перевод/английский-французский/tell\n",
      "['dire', 'parler', 'raconter', 'savoir', 'prévenir', 'expliquer', 'annoncer', 'indiquer', 'faire', 'informer', 'donner', 'avouer', 'répéter', 'apprendre', 'distinguer', 'conter', 'relater', 'compter', 'dis-moi']\n",
      "https://context.reverso.net/перевод/русский-французский/говорить\n"
     ]
    },
    {
     "name": "stderr",
     "output_type": "stream",
     "text": [
      "\n",
      "\n",
      " 41%|████      | 278/676 [23:27<33:47,  5.09s/it]\u001b[A\u001b[A"
     ]
    },
    {
     "name": "stdout",
     "output_type": "stream",
     "text": [
      "['parler', 'dire', 'faire', 'discuter', 'raconter', 'répéter', 'exprimer', 'taire', 'préciser', 'annoncer', 'affirmer', 'rien', 'discours']\n",
      "sense_intersect ['dire | indiquer', 'parler | apprendre | relater', 'raconter | informer | conter | compter', 'annoncer | donner', 'faire | taire | affirmer', 'répéter', 'prévenir | préciser | rien', 'expliquer | exprimer', 'distinguer | discuter']\n",
      "tell сообщать\n",
      "https://context.reverso.net/перевод/английский-французский/tell\n",
      "['dire', 'parler', 'raconter', 'savoir', 'prévenir', 'expliquer', 'annoncer', 'indiquer', 'faire', 'informer', 'donner', 'avouer', 'répéter', 'apprendre', 'distinguer', 'conter', 'relater', 'compter', 'dis-moi']\n",
      "https://context.reverso.net/перевод/русский-французский/сообщать\n"
     ]
    },
    {
     "name": "stderr",
     "output_type": "stream",
     "text": [
      "\n",
      "\n",
      " 41%|████▏     | 279/676 [23:32<33:13,  5.02s/it]\u001b[A\u001b[A"
     ]
    },
    {
     "name": "stdout",
     "output_type": "stream",
     "text": [
      "['informer', 'dire', 'communiquer', 'annoncer', 'indiquer', 'rapporter', 'faire rapport', 'signaler', 'rendre compte', 'dénoncer', 'déclarer']\n",
      "sense_intersect ['dire | indiquer', 'annoncer | dénoncer | donner', 'indiquer', 'informer | raconter | communiquer | rendre compte | distinguer', 'parler | rapporter | faire rapport', 'apprendre | rapporter', 'compter | rapporter']\n",
      "tell указывать\n",
      "https://context.reverso.net/перевод/английский-французский/tell\n",
      "['dire', 'parler', 'raconter', 'savoir', 'prévenir', 'expliquer', 'annoncer', 'indiquer', 'faire', 'informer', 'donner', 'avouer', 'répéter', 'apprendre', 'distinguer', 'conter', 'relater', 'compter', 'dis-moi']\n",
      "https://context.reverso.net/перевод/русский-французский/указывать\n"
     ]
    },
    {
     "name": "stderr",
     "output_type": "stream",
     "text": [
      "\n",
      "\n",
      " 41%|████▏     | 280/676 [23:37<32:57,  4.99s/it]\u001b[A\u001b[A"
     ]
    },
    {
     "name": "stdout",
     "output_type": "stream",
     "text": [
      "['indiquer', 'dire', 'préciser', 'spécifier', 'mentionner']\n",
      "sense_intersect ['dire | indiquer', 'indiquer', 'raconter | mentionner', 'prévenir | préciser | spécifier', 'annoncer | mentionner', 'informer | mentionner', 'donner | mentionner', 'conter | mentionner']\n",
      "tell уверять\n",
      "https://context.reverso.net/перевод/английский-французский/tell\n",
      "['dire', 'parler', 'raconter', 'savoir', 'prévenir', 'expliquer', 'annoncer', 'indiquer', 'faire', 'informer', 'donner', 'avouer', 'répéter', 'apprendre', 'distinguer', 'conter', 'relater', 'compter', 'dis-moi']\n",
      "https://context.reverso.net/перевод/русский-французский/уверять\n",
      "turn to alternative marks\n"
     ]
    },
    {
     "name": "stderr",
     "output_type": "stream",
     "text": [
      "\n",
      "\n",
      " 42%|████▏     | 281/676 [23:41<32:40,  4.96s/it]\u001b[A\u001b[A"
     ]
    },
    {
     "name": "stdout",
     "output_type": "stream",
     "text": [
      "[]\n",
      "sense_intersect ['no_equality']\n",
      "tell велеть\n",
      "https://context.reverso.net/перевод/английский-французский/tell\n",
      "['dire', 'parler', 'raconter', 'savoir', 'prévenir', 'expliquer', 'annoncer', 'indiquer', 'faire', 'informer', 'donner', 'avouer', 'répéter', 'apprendre', 'distinguer', 'conter', 'relater', 'compter', 'dis-moi']\n",
      "https://context.reverso.net/перевод/русский-французский/велеть\n",
      "turn to alternative marks\n"
     ]
    },
    {
     "name": "stderr",
     "output_type": "stream",
     "text": [
      "\n",
      "\n",
      " 42%|████▏     | 282/676 [23:46<32:26,  4.94s/it]\u001b[A\u001b[A"
     ]
    },
    {
     "name": "stdout",
     "output_type": "stream",
     "text": [
      "['ordonner']\n",
      "sense_intersect ['raconter | ordonner', 'annoncer | ordonner', 'informer | ordonner', 'donner | ordonner', 'conter | ordonner']\n",
      "tell подсказать\n",
      "https://context.reverso.net/перевод/английский-французский/tell\n",
      "['dire', 'parler', 'raconter', 'savoir', 'prévenir', 'expliquer', 'annoncer', 'indiquer', 'faire', 'informer', 'donner', 'avouer', 'répéter', 'apprendre', 'distinguer', 'conter', 'relater', 'compter', 'dis-moi']\n",
      "https://context.reverso.net/перевод/русский-французский/подсказать\n",
      "turn to alternative marks\n"
     ]
    },
    {
     "name": "stderr",
     "output_type": "stream",
     "text": [
      "\n",
      "\n",
      " 42%|████▏     | 283/676 [23:51<32:18,  4.93s/it]\u001b[A\u001b[A"
     ]
    },
    {
     "name": "stdout",
     "output_type": "stream",
     "text": [
      "[\"m'indiquer\", 'indiquer la direction']\n",
      "sense_intersect ['dire | indiquer la direction', \"expliquer | m'indiquer | indiquer la direction\", \"indiquer | m'indiquer\", \"informer | m'indiquer\", \"distinguer | m'indiquer\"]\n",
      "tell поведать\n",
      "https://context.reverso.net/перевод/английский-французский/tell\n",
      "['dire', 'parler', 'raconter', 'savoir', 'prévenir', 'expliquer', 'annoncer', 'indiquer', 'faire', 'informer', 'donner', 'avouer', 'répéter', 'apprendre', 'distinguer', 'conter', 'relater', 'compter', 'dis-moi']\n",
      "https://context.reverso.net/перевод/русский-французский/поведать\n"
     ]
    },
    {
     "name": "stderr",
     "output_type": "stream",
     "text": [
      "\n",
      "\n",
      " 42%|████▏     | 284/676 [23:56<32:38,  5.00s/it]\u001b[A\u001b[A"
     ]
    },
    {
     "name": "stdout",
     "output_type": "stream",
     "text": [
      "['raconter', 'dire']\n",
      "sense_intersect ['dire | indiquer', 'raconter | informer | conter | relater | compter']\n",
      "tell объяснить\n",
      "https://context.reverso.net/перевод/английский-французский/tell\n",
      "['dire', 'parler', 'raconter', 'savoir', 'prévenir', 'expliquer', 'annoncer', 'indiquer', 'faire', 'informer', 'donner', 'avouer', 'répéter', 'apprendre', 'distinguer', 'conter', 'relater', 'compter', 'dis-moi']\n",
      "https://context.reverso.net/перевод/русский-французский/объяснить\n"
     ]
    },
    {
     "name": "stderr",
     "output_type": "stream",
     "text": [
      "\n",
      "\n",
      " 42%|████▏     | 285/676 [24:01<32:14,  4.95s/it]\u001b[A\u001b[A"
     ]
    },
    {
     "name": "stdout",
     "output_type": "stream",
     "text": [
      "['expliquer', 'dire', 'justifier', 'explication', 'parler', 'pourquoi']\n",
      "sense_intersect ['dire', 'parler | apprendre | relater', 'expliquer | explication | indiquer', 'distinguer | justifier']\n",
      "tell передать\n",
      "https://context.reverso.net/перевод/английский-французский/tell\n",
      "['dire', 'parler', 'raconter', 'savoir', 'prévenir', 'expliquer', 'annoncer', 'indiquer', 'faire', 'informer', 'donner', 'avouer', 'répéter', 'apprendre', 'distinguer', 'conter', 'relater', 'compter', 'dis-moi']\n",
      "https://context.reverso.net/перевод/русский-французский/передать\n"
     ]
    },
    {
     "name": "stderr",
     "output_type": "stream",
     "text": [
      "\n",
      "\n",
      " 42%|████▏     | 286/676 [24:07<32:55,  5.06s/it]\u001b[A\u001b[A"
     ]
    },
    {
     "name": "stdout",
     "output_type": "stream",
     "text": [
      "['transmettre', 'donner', 'dire', 'transférer', 'remettre', 'renvoyer', 'passer', 'envoyer', 'soumettre', 'communiquer', 'livrer', 'confier', 'exprimer', 'présenter', 'adresser']\n",
      "sense_intersect ['dire | indiquer', 'donner | annoncer', 'raconter | transmettre | transférer | renvoyer | confier', 'prévenir | présenter', 'expliquer | exprimer', 'informer | communiquer | exprimer', 'avouer | envoyer', 'relater | transmettre | remettre', 'compter | soumettre']\n",
      "tell попросить\n",
      "https://context.reverso.net/перевод/английский-французский/tell\n",
      "['dire', 'parler', 'raconter', 'savoir', 'prévenir', 'expliquer', 'annoncer', 'indiquer', 'faire', 'informer', 'donner', 'avouer', 'répéter', 'apprendre', 'distinguer', 'conter', 'relater', 'compter', 'dis-moi']\n",
      "https://context.reverso.net/перевод/русский-французский/попросить\n"
     ]
    },
    {
     "name": "stderr",
     "output_type": "stream",
     "text": [
      "\n",
      "\n",
      " 42%|████▏     | 287/676 [24:11<32:37,  5.03s/it]\u001b[A\u001b[A"
     ]
    },
    {
     "name": "stdout",
     "output_type": "stream",
     "text": [
      "['demander', 'prier', 'dire à', 'avoir', 'excuser', 'faire', 'service', 'faveur']\n",
      "sense_intersect ['faire | faveur', 'dire | dire à', 'parler | prier', 'savoir | avoir', 'prévenir | prier', 'expliquer | prier']\n",
      "tell поделиться\n",
      "https://context.reverso.net/перевод/английский-французский/tell\n",
      "['dire', 'parler', 'raconter', 'savoir', 'prévenir', 'expliquer', 'annoncer', 'indiquer', 'faire', 'informer', 'donner', 'avouer', 'répéter', 'apprendre', 'distinguer', 'conter', 'relater', 'compter', 'dis-moi']\n",
      "https://context.reverso.net/перевод/русский-французский/поделиться\n"
     ]
    },
    {
     "name": "stderr",
     "output_type": "stream",
     "text": [
      "\n",
      "\n",
      " 43%|████▎     | 288/676 [24:17<33:43,  5.21s/it]\u001b[A\u001b[A"
     ]
    },
    {
     "name": "stdout",
     "output_type": "stream",
     "text": [
      "['partager', 'faire part', 'échanger', 'communiquer', 'présenter', 'faire connaître', 'faire profiter']\n",
      "sense_intersect ['parler | partager | faire part', 'raconter | partager | faire connaître | faire profiter', 'prévenir | présenter', 'indiquer | communiquer', 'informer | communiquer', 'relater | partager']\n",
      "tell отличить\n",
      "https://context.reverso.net/перевод/английский-французский/tell\n",
      "['dire', 'parler', 'raconter', 'savoir', 'prévenir', 'expliquer', 'annoncer', 'indiquer', 'faire', 'informer', 'donner', 'avouer', 'répéter', 'apprendre', 'distinguer', 'conter', 'relater', 'compter', 'dis-moi']\n",
      "https://context.reverso.net/перевод/русский-французский/отличить\n"
     ]
    },
    {
     "name": "stderr",
     "output_type": "stream",
     "text": [
      "\n",
      "\n",
      " 43%|████▎     | 289/676 [24:22<33:19,  5.17s/it]\u001b[A\u001b[A"
     ]
    },
    {
     "name": "stdout",
     "output_type": "stream",
     "text": [
      "['distinguer', 'différencier']\n",
      "sense_intersect ['distinguer | indiquer | informer', 'dire | différencier', 'faire | différencier']\n",
      "tell сказаться\n",
      "https://context.reverso.net/перевод/английский-французский/tell\n",
      "['dire', 'parler', 'raconter', 'savoir', 'prévenir', 'expliquer', 'annoncer', 'indiquer', 'faire', 'informer', 'donner', 'avouer', 'répéter', 'apprendre', 'distinguer', 'conter', 'relater', 'compter', 'dis-moi']\n",
      "https://context.reverso.net/перевод/русский-французский/сказаться\n"
     ]
    },
    {
     "name": "stderr",
     "output_type": "stream",
     "text": [
      "\n",
      "\n",
      " 43%|████▎     | 290/676 [24:27<33:25,  5.20s/it]\u001b[A\u001b[A"
     ]
    },
    {
     "name": "stdout",
     "output_type": "stream",
     "text": [
      "['affecter', 'avoir une incidence', 'nuire', 'compromettre']\n",
      "sense_intersect ['raconter | compromettre', 'expliquer | nuire', 'indiquer | avoir une incidence | nuire', 'informer | avoir une incidence | compromettre', 'distinguer | avoir une incidence']\n",
      "feel чувствовать\n",
      "https://context.reverso.net/перевод/английский-французский/feel\n",
      "['sentir', 'ressentir', 'penser', 'se sentir', 'estimer', 'éprouver', 'sembler', 'toucher', 'sens', 'sentiment', 'envie', 'sensation', 'fait', 'atmosphère', 'estimé', 'senti', 'se sentent', 'avoir', \"avoir l'impression\", 'tâter', 'percevoir', 'avoir pitié', 'palper']\n",
      "https://context.reverso.net/перевод/русский-французский/чувствовать\n"
     ]
    },
    {
     "name": "stderr",
     "output_type": "stream",
     "text": [
      "\n",
      "\n",
      " 43%|████▎     | 291/676 [24:32<32:58,  5.14s/it]\u001b[A\u001b[A"
     ]
    },
    {
     "name": "stdout",
     "output_type": "stream",
     "text": [
      "['sentir', 'ressentir', 'se sentir', 'penser', 'croire', 'aise', 'impression', 'fait', 'avoir', 'culpabiliser']\n",
      "sense_intersect ['sentir | ressentir | se sentir | impression | estimer | sentiment | sensation | senti | se sentent', 'ressentir', 'penser', 'se sentir', 'fait', \"avoir | avoir l'impression | avoir pitié\", 'percevoir | croire | culpabiliser']\n",
      "feel полагать\n",
      "https://context.reverso.net/перевод/английский-французский/feel\n",
      "['sentir', 'ressentir', 'penser', 'se sentir', 'estimer', 'éprouver', 'sembler', 'toucher', 'sens', 'sentiment', 'envie', 'sensation', 'fait', 'atmosphère', 'estimé', 'senti', 'se sentent', 'avoir', \"avoir l'impression\", 'tâter', 'percevoir', 'avoir pitié', 'palper']\n",
      "https://context.reverso.net/перевод/русский-французский/полагать\n"
     ]
    },
    {
     "name": "stderr",
     "output_type": "stream",
     "text": [
      "\n",
      "\n",
      " 43%|████▎     | 292/676 [24:37<32:26,  5.07s/it]\u001b[A\u001b[A"
     ]
    },
    {
     "name": "stdout",
     "output_type": "stream",
     "text": [
      "['croire', 'supposer', 'considérer', 'penser']\n",
      "sense_intersect ['penser | ressentir | se sentir', 'éprouver | considérer', \"avoir l'impression | considérer\", 'percevoir | croire | considérer']\n",
      "feel ощупывать\n",
      "https://context.reverso.net/перевод/английский-французский/feel\n",
      "['sentir', 'ressentir', 'penser', 'se sentir', 'estimer', 'éprouver', 'sembler', 'toucher', 'sens', 'sentiment', 'envie', 'sensation', 'fait', 'atmosphère', 'estimé', 'senti', 'se sentent', 'avoir', \"avoir l'impression\", 'tâter', 'percevoir', 'avoir pitié', 'palper']\n",
      "https://context.reverso.net/перевод/русский-французский/ощупывать\n",
      "turn to alternative marks\n"
     ]
    },
    {
     "name": "stderr",
     "output_type": "stream",
     "text": [
      "\n",
      "\n",
      " 43%|████▎     | 293/676 [24:42<31:54,  5.00s/it]\u001b[A\u001b[A"
     ]
    },
    {
     "name": "stdout",
     "output_type": "stream",
     "text": [
      "[]\n",
      "sense_intersect ['no_equality']\n",
      "feel испытывать\n",
      "https://context.reverso.net/перевод/английский-французский/feel\n",
      "['sentir', 'ressentir', 'penser', 'se sentir', 'estimer', 'éprouver', 'sembler', 'toucher', 'sens', 'sentiment', 'envie', 'sensation', 'fait', 'atmosphère', 'estimé', 'senti', 'se sentent', 'avoir', \"avoir l'impression\", 'tâter', 'percevoir', 'avoir pitié', 'palper']\n",
      "https://context.reverso.net/перевод/русский-французский/испытывать\n"
     ]
    },
    {
     "name": "stderr",
     "output_type": "stream",
     "text": [
      "\n",
      "\n",
      " 43%|████▎     | 294/676 [24:47<31:41,  4.98s/it]\u001b[A\u001b[A"
     ]
    },
    {
     "name": "stdout",
     "output_type": "stream",
     "text": [
      "['ressentir', 'souffrir', 'tester', 'éprouver', 'subir', 'avoir']\n",
      "sense_intersect ['ressentir | sentir | tester | penser | se sentir | estimer | sentiment | senti | se sentent', 'éprouver | percevoir', \"avoir | avoir l'impression | avoir pitié\"]\n",
      "feel стесняться\n",
      "https://context.reverso.net/перевод/английский-французский/feel\n",
      "['sentir', 'ressentir', 'penser', 'se sentir', 'estimer', 'éprouver', 'sembler', 'toucher', 'sens', 'sentiment', 'envie', 'sensation', 'fait', 'atmosphère', 'estimé', 'senti', 'se sentent', 'avoir', \"avoir l'impression\", 'tâter', 'percevoir', 'avoir pitié', 'palper']\n",
      "https://context.reverso.net/перевод/русский-французский/стесняться\n",
      "turn to alternative marks\n"
     ]
    },
    {
     "name": "stderr",
     "output_type": "stream",
     "text": [
      "\n",
      "\n",
      " 44%|████▎     | 295/676 [24:52<31:53,  5.02s/it]\u001b[A\u001b[A"
     ]
    },
    {
     "name": "stdout",
     "output_type": "stream",
     "text": [
      "['avoir honte', 'être embarrassé', 'hésiter', 'être timide', 'être gênée', 'timide avec']\n",
      "sense_intersect ['sentir | être timide', 'ressentir | être embarrassé', 'estimer | être embarrassé | être timide', 'toucher | avoir honte', 'atmosphère | avoir honte', 'estimé | hésiter', \"avoir l'impression | avoir honte\", 'percevoir | avoir honte']\n",
      "feel ощущение\n",
      "https://context.reverso.net/перевод/английский-французский/feel\n",
      "['sentir', 'ressentir', 'penser', 'se sentir', 'estimer', 'éprouver', 'sembler', 'toucher', 'sens', 'sentiment', 'envie', 'sensation', 'fait', 'atmosphère', 'estimé', 'senti', 'se sentent', 'avoir', \"avoir l'impression\", 'tâter', 'percevoir', 'avoir pitié', 'palper']\n",
      "https://context.reverso.net/перевод/русский-французский/ощущение\n"
     ]
    },
    {
     "name": "stderr",
     "output_type": "stream",
     "text": [
      "\n",
      "\n",
      " 44%|████▍     | 296/676 [24:57<31:31,  4.98s/it]\u001b[A\u001b[A"
     ]
    },
    {
     "name": "stdout",
     "output_type": "stream",
     "text": [
      "['sentiment', 'sensation', 'sens', 'comme', \"j'ai l'impression\", 'on dirait']\n",
      "sense_intersect ['sens', 'sentiment | sentir | ressentir | se sentir | estimer | sensation | senti | se sentent', 'sensation', \"avoir l'impression | j'ai l'impression | on dirait\"]\n",
      "news новость\n",
      "https://context.reverso.net/перевод/английский-французский/news\n",
      "['nouvelle', 'nouvelle', 'news', 'actualité', 'information', 'presse', 'info', 'journal', 'nouveau', 'média', 'annonce', 'nouveauté', 'télé', 'journal télévisé', 'téléjournal', 'actualité']\n",
      "https://context.reverso.net/перевод/русский-французский/новость\n"
     ]
    },
    {
     "name": "stderr",
     "output_type": "stream",
     "text": [
      "\n",
      "\n",
      " 44%|████▍     | 297/676 [25:02<31:27,  4.98s/it]\u001b[A\u001b[A"
     ]
    },
    {
     "name": "stdout",
     "output_type": "stream",
     "text": [
      "['nouvelle', 'nouveau', 'scoop', 'info']\n",
      "sense_intersect ['nouvelle', 'info | information', 'nouveau | nouveauté']\n",
      "news весточка\n",
      "https://context.reverso.net/перевод/английский-французский/news\n",
      "['nouvelle', 'nouvelle', 'news', 'actualité', 'information', 'presse', 'info', 'journal', 'nouveau', 'média', 'annonce', 'nouveauté', 'télé', 'journal télévisé', 'téléjournal', 'actualité']\n",
      "https://context.reverso.net/перевод/русский-французский/весточка\n",
      "turn to alternative marks\n"
     ]
    },
    {
     "name": "stderr",
     "output_type": "stream",
     "text": [
      "\n",
      "\n",
      " 44%|████▍     | 298/676 [25:07<31:11,  4.95s/it]\u001b[A\u001b[A"
     ]
    },
    {
     "name": "stdout",
     "output_type": "stream",
     "text": [
      "['tu as des nouvelles', 'populi']\n",
      "sense_intersect ['nouvelle | tu as des nouvelles | tu as des nouvelles']\n",
      "news Ньюс\n",
      "https://context.reverso.net/перевод/английский-французский/news\n",
      "['nouvelle', 'nouvelle', 'news', 'actualité', 'information', 'presse', 'info', 'journal', 'nouveau', 'média', 'annonce', 'nouveauté', 'télé', 'journal télévisé', 'téléjournal', 'actualité']\n",
      "https://context.reverso.net/перевод/русский-французский/Ньюс\n"
     ]
    },
    {
     "name": "stderr",
     "output_type": "stream",
     "text": [
      "\n",
      "\n",
      " 44%|████▍     | 299/676 [25:12<30:51,  4.91s/it]\u001b[A\u001b[A"
     ]
    },
    {
     "name": "stdout",
     "output_type": "stream",
     "text": [
      "['news']\n",
      "sense_intersect ['news']\n",
      "news новинка\n",
      "https://context.reverso.net/перевод/английский-французский/news\n",
      "['nouvelle', 'nouvelle', 'news', 'actualité', 'information', 'presse', 'info', 'journal', 'nouveau', 'média', 'annonce', 'nouveauté', 'télé', 'journal télévisé', 'téléjournal', 'actualité']\n",
      "https://context.reverso.net/перевод/русский-французский/новинка\n",
      "turn to alternative marks\n"
     ]
    },
    {
     "name": "stderr",
     "output_type": "stream",
     "text": [
      "\n",
      "\n",
      " 44%|████▍     | 300/676 [25:17<30:46,  4.91s/it]\u001b[A\u001b[A"
     ]
    },
    {
     "name": "stdout",
     "output_type": "stream",
     "text": [
      "['nouveauté']\n",
      "sense_intersect ['nouveauté | nouveau']\n",
      "news выпуск новостей\n",
      "https://context.reverso.net/перевод/английский-французский/news\n",
      "['nouvelle', 'nouvelle', 'news', 'actualité', 'information', 'presse', 'info', 'journal', 'nouveau', 'média', 'annonce', 'nouveauté', 'télé', 'journal télévisé', 'téléjournal', 'actualité']\n",
      "https://context.reverso.net/перевод/русский-французский/выпуск новостей\n"
     ]
    },
    {
     "name": "stderr",
     "output_type": "stream",
     "text": [
      "\n",
      "\n",
      " 45%|████▍     | 301/676 [25:26<38:11,  6.11s/it]\u001b[A\u001b[A"
     ]
    },
    {
     "name": "stdout",
     "output_type": "stream",
     "text": [
      "['publication', 'production', 'numéro', 'édition', 'émission', 'information', 'nouvelle', 'news', 'journal', 'actualité']\n",
      "sense_intersect ['nouvelle', 'news', 'actualité', 'information | publication | production | info', 'journal']\n",
      "news известия\n",
      "https://context.reverso.net/перевод/английский-французский/news\n",
      "['nouvelle', 'nouvelle', 'news', 'actualité', 'information', 'presse', 'info', 'journal', 'nouveau', 'média', 'annonce', 'nouveauté', 'télé', 'journal télévisé', 'téléjournal', 'actualité']\n",
      "https://context.reverso.net/перевод/русский-французский/известия\n",
      "turn to alternative marks\n"
     ]
    },
    {
     "name": "stderr",
     "output_type": "stream",
     "text": [
      "\n",
      "\n",
      " 45%|████▍     | 302/676 [25:31<36:34,  5.87s/it]\u001b[A\u001b[A"
     ]
    },
    {
     "name": "stdout",
     "output_type": "stream",
     "text": [
      "['nouvelle']\n",
      "sense_intersect ['nouvelle']\n",
      "news новостной\n",
      "https://context.reverso.net/перевод/английский-французский/news\n",
      "['nouvelle', 'nouvelle', 'news', 'actualité', 'information', 'presse', 'info', 'journal', 'nouveau', 'média', 'annonce', 'nouveauté', 'télé', 'journal télévisé', 'téléjournal', 'actualité']\n",
      "https://context.reverso.net/перевод/русский-французский/новостной\n",
      "turn to alternative marks\n"
     ]
    },
    {
     "name": "stderr",
     "output_type": "stream",
     "text": [
      "\n",
      "\n",
      " 45%|████▍     | 303/676 [25:36<34:48,  5.60s/it]\u001b[A\u001b[A"
     ]
    },
    {
     "name": "stdout",
     "output_type": "stream",
     "text": [
      "['des infos', 'un journal']\n",
      "sense_intersect ['journal | un journal', 'nouveau | un journal']\n",
      "start начать\n",
      "https://context.reverso.net/перевод/английский-французский/start\n",
      "['commencer', 'démarrer', 'débuter', 'recommencer', 'entamer', 'partir', 'faire', 'mettre', 'début', 'départ', 'démarrage', 'abord', 'lancement', 'avance', 'commencement', 'origine', 'lancer', 'engager', 'entreprendre', 'reprendre', 'déclencher', 'déclenchement', 'point de départ', 'se mettre', 'se lancer']\n",
      "https://context.reverso.net/перевод/русский-французский/начать\n"
     ]
    },
    {
     "name": "stderr",
     "output_type": "stream",
     "text": [
      "\n",
      "\n",
      " 45%|████▍     | 304/676 [25:41<34:41,  5.60s/it]\u001b[A\u001b[A"
     ]
    },
    {
     "name": "stdout",
     "output_type": "stream",
     "text": [
      "['commencer à', 'lancer', 'entamer', 'engager', 'démarrer', 'ouvrir', 'prendre', 'mettre', 'débuter', 'reprendre', 'repartir', 'entreprendre', 'déclencher', 'amorcer', 'départ']\n",
      "sense_intersect ['démarrer | démarrage', 'débuter | début', 'entamer', 'mettre | se mettre', 'départ | point de départ', 'lancer', 'engager', 'entreprendre', 'reprendre', 'déclencher', 'commencer | commencer à | déclencher | amorcer', 'recommencer | commencer à | lancer | entamer | prendre | reprendre | entreprendre', 'partir | repartir', 'lancement | commencer à', 'commencement | commencer à', 'déclenchement | commencer à']\n",
      "start запустить\n",
      "https://context.reverso.net/перевод/английский-французский/start\n",
      "['commencer', 'démarrer', 'débuter', 'recommencer', 'entamer', 'partir', 'faire', 'mettre', 'début', 'départ', 'démarrage', 'abord', 'lancement', 'avance', 'commencement', 'origine', 'lancer', 'engager', 'entreprendre', 'reprendre', 'déclencher', 'déclenchement', 'point de départ', 'se mettre', 'se lancer']\n",
      "https://context.reverso.net/перевод/русский-французский/запустить\n"
     ]
    },
    {
     "name": "stderr",
     "output_type": "stream",
     "text": [
      "\n",
      "\n",
      " 45%|████▌     | 305/676 [25:47<33:34,  5.43s/it]\u001b[A\u001b[A"
     ]
    },
    {
     "name": "stdout",
     "output_type": "stream",
     "text": [
      "['lancer', 'démarrer', 'déclencher', 'envoyer', 'mettre', 'faire']\n",
      "sense_intersect ['démarrer | démarrage', 'faire', 'mettre | entamer | se mettre', 'lancer | recommencer | lancement | déclencher | déclenchement | se lancer', 'déclencher | commencer']\n",
      "start вздрагивать\n",
      "https://context.reverso.net/перевод/английский-французский/start\n",
      "['commencer', 'démarrer', 'débuter', 'recommencer', 'entamer', 'partir', 'faire', 'mettre', 'début', 'départ', 'démarrage', 'abord', 'lancement', 'avance', 'commencement', 'origine', 'lancer', 'engager', 'entreprendre', 'reprendre', 'déclencher', 'déclenchement', 'point de départ', 'se mettre', 'se lancer']\n",
      "https://context.reverso.net/перевод/русский-французский/вздрагивать\n",
      "turn to alternative marks\n"
     ]
    },
    {
     "name": "stderr",
     "output_type": "stream",
     "text": [
      "\n",
      "\n",
      " 45%|████▌     | 306/676 [25:52<33:15,  5.39s/it]\u001b[A\u001b[A"
     ]
    },
    {
     "name": "stdout",
     "output_type": "stream",
     "text": [
      "[]\n",
      "sense_intersect ['no_equality']\n",
      "start завести\n",
      "https://context.reverso.net/перевод/английский-французский/start\n",
      "['commencer', 'démarrer', 'débuter', 'recommencer', 'entamer', 'partir', 'faire', 'mettre', 'début', 'départ', 'démarrage', 'abord', 'lancement', 'avance', 'commencement', 'origine', 'lancer', 'engager', 'entreprendre', 'reprendre', 'déclencher', 'déclenchement', 'point de départ', 'se mettre', 'se lancer']\n",
      "https://context.reverso.net/перевод/русский-французский/завести\n"
     ]
    },
    {
     "name": "stderr",
     "output_type": "stream",
     "text": [
      "\n",
      "\n",
      " 45%|████▌     | 307/676 [25:57<32:19,  5.26s/it]\u001b[A\u001b[A"
     ]
    },
    {
     "name": "stdout",
     "output_type": "stream",
     "text": [
      "['fonder', 'démarrer', 'avoir', 'faire', 'prendre']\n",
      "sense_intersect ['démarrer | démarrage', 'faire', 'recommencer | fonder | prendre', 'entreprendre | fonder', 'reprendre | fonder']\n",
      "start заняться\n",
      "https://context.reverso.net/перевод/английский-французский/start\n",
      "['commencer', 'démarrer', 'débuter', 'recommencer', 'entamer', 'partir', 'faire', 'mettre', 'début', 'départ', 'démarrage', 'abord', 'lancement', 'avance', 'commencement', 'origine', 'lancer', 'engager', 'entreprendre', 'reprendre', 'déclencher', 'déclenchement', 'point de départ', 'se mettre', 'se lancer']\n",
      "https://context.reverso.net/перевод/русский-французский/заняться\n"
     ]
    },
    {
     "name": "stderr",
     "output_type": "stream",
     "text": [
      "\n",
      "\n",
      " 46%|████▌     | 308/676 [26:02<31:49,  5.19s/it]\u001b[A\u001b[A"
     ]
    },
    {
     "name": "stdout",
     "output_type": "stream",
     "text": [
      "['faire', 'traiter', 'aborder', 'examiner', \"s'occuper\", 'travailler', 'régler', 'étudier', \"s'attaquer à\", 'se pencher sur', 'gérer', 'entreprendre', 'commencer']\n",
      "sense_intersect [\"commencer | s'occuper\", 'faire', 'entreprendre', 'débuter | étudier', 'recommencer | se pencher sur | entreprendre | commencer', 'entamer | examiner', 'partir | traiter', 'mettre | traiter', 'abord | aborder', 'reprendre | aborder | se pencher sur']\n",
      "start затеять\n",
      "https://context.reverso.net/перевод/английский-французский/start\n",
      "['commencer', 'démarrer', 'débuter', 'recommencer', 'entamer', 'partir', 'faire', 'mettre', 'début', 'départ', 'démarrage', 'abord', 'lancement', 'avance', 'commencement', 'origine', 'lancer', 'engager', 'entreprendre', 'reprendre', 'déclencher', 'déclenchement', 'point de départ', 'se mettre', 'se lancer']\n",
      "https://context.reverso.net/перевод/русский-французский/затеять\n",
      "turn to alternative marks\n"
     ]
    },
    {
     "name": "stderr",
     "output_type": "stream",
     "text": [
      "\n",
      "\n",
      " 46%|████▌     | 309/676 [26:07<31:29,  5.15s/it]\u001b[A\u001b[A"
     ]
    },
    {
     "name": "stdout",
     "output_type": "stream",
     "text": [
      "[]\n",
      "sense_intersect ['no_equality']\n",
      "start начало\n",
      "https://context.reverso.net/перевод/английский-французский/start\n",
      "['commencer', 'démarrer', 'débuter', 'recommencer', 'entamer', 'partir', 'faire', 'mettre', 'début', 'départ', 'démarrage', 'abord', 'lancement', 'avance', 'commencement', 'origine', 'lancer', 'engager', 'entreprendre', 'reprendre', 'déclencher', 'déclenchement', 'point de départ', 'se mettre', 'se lancer']\n",
      "https://context.reverso.net/перевод/русский-французский/начало\n"
     ]
    },
    {
     "name": "stderr",
     "output_type": "stream",
     "text": [
      "\n",
      "\n",
      " 46%|████▌     | 310/676 [26:12<31:18,  5.13s/it]\u001b[A\u001b[A"
     ]
    },
    {
     "name": "stdout",
     "output_type": "stream",
     "text": [
      "['début', 'lancement', 'départ', 'commencement', 'ouverture', 'démarrage', 'engagé', 'a commencé', 'a entrepris', 'ça commence']\n",
      "sense_intersect ['début | débuter', 'départ | point de départ', 'démarrage | démarrer', 'lancement | commencer | recommencer | entamer | commencement | ça commence | lancer | entreprendre | déclenchement | se lancer', 'commencement', 'partir | a entrepris', 'reprendre | a entrepris']\n",
      "start старт\n",
      "https://context.reverso.net/перевод/английский-французский/start\n",
      "['commencer', 'démarrer', 'débuter', 'recommencer', 'entamer', 'partir', 'faire', 'mettre', 'début', 'départ', 'démarrage', 'abord', 'lancement', 'avance', 'commencement', 'origine', 'lancer', 'engager', 'entreprendre', 'reprendre', 'déclencher', 'déclenchement', 'point de départ', 'se mettre', 'se lancer']\n",
      "https://context.reverso.net/перевод/русский-французский/старт\n"
     ]
    },
    {
     "name": "stderr",
     "output_type": "stream",
     "text": [
      "\n",
      "\n",
      " 46%|████▌     | 311/676 [26:17<30:50,  5.07s/it]\u001b[A\u001b[A"
     ]
    },
    {
     "name": "stdout",
     "output_type": "stream",
     "text": [
      "['départ', 'début', 'vos marques', 'start']\n",
      "sense_intersect ['début | débuter', 'départ | point de départ']\n",
      "start начальный\n",
      "https://context.reverso.net/перевод/английский-французский/start\n",
      "['commencer', 'démarrer', 'débuter', 'recommencer', 'entamer', 'partir', 'faire', 'mettre', 'début', 'départ', 'démarrage', 'abord', 'lancement', 'avance', 'commencement', 'origine', 'lancer', 'engager', 'entreprendre', 'reprendre', 'déclencher', 'déclenchement', 'point de départ', 'se mettre', 'se lancer']\n",
      "https://context.reverso.net/перевод/русский-французский/начальный\n"
     ]
    },
    {
     "name": "stderr",
     "output_type": "stream",
     "text": [
      "\n",
      "\n",
      " 46%|████▌     | 312/676 [26:22<30:24,  5.01s/it]\u001b[A\u001b[A"
     ]
    },
    {
     "name": "stdout",
     "output_type": "stream",
     "text": [
      "['initial']\n",
      "sense_intersect ['no_equality']\n",
      "intelligent умный\n",
      "https://context.reverso.net/перевод/английский-французский/intelligent\n",
      "['intelligent', 'intelligence', 'intelligemment', 'judicieux']\n",
      "https://context.reverso.net/перевод/русский-французский/умный\n"
     ]
    },
    {
     "name": "stderr",
     "output_type": "stream",
     "text": [
      "\n",
      "\n",
      " 46%|████▋     | 313/676 [26:28<31:48,  5.26s/it]\u001b[A\u001b[A"
     ]
    },
    {
     "name": "stdout",
     "output_type": "stream",
     "text": [
      "['intelligent', 'malin', 'brillant', 'futé']\n",
      "sense_intersect ['intelligent | brillant | intelligence | intelligemment']\n",
      "intelligent разумный\n",
      "https://context.reverso.net/перевод/английский-французский/intelligent\n",
      "['intelligent', 'intelligence', 'intelligemment', 'judicieux']\n",
      "https://context.reverso.net/перевод/русский-французский/разумный\n"
     ]
    },
    {
     "name": "stderr",
     "output_type": "stream",
     "text": [
      "\n",
      "\n",
      " 46%|████▋     | 314/676 [26:33<31:09,  5.17s/it]\u001b[A\u001b[A"
     ]
    },
    {
     "name": "stdout",
     "output_type": "stream",
     "text": [
      "['raisonnable']\n",
      "sense_intersect ['no_equality']\n",
      "intelligent осмысленный\n",
      "https://context.reverso.net/перевод/английский-французский/intelligent\n",
      "['intelligent', 'intelligence', 'intelligemment', 'judicieux']\n",
      "https://context.reverso.net/перевод/русский-французский/осмысленный\n",
      "turn to alternative marks\n"
     ]
    },
    {
     "name": "stderr",
     "output_type": "stream",
     "text": [
      "\n",
      "\n",
      " 47%|████▋     | 315/676 [26:38<30:48,  5.12s/it]\u001b[A\u001b[A"
     ]
    },
    {
     "name": "stdout",
     "output_type": "stream",
     "text": [
      "[]\n",
      "sense_intersect ['no_equality']\n",
      "intelligent продуманный\n",
      "https://context.reverso.net/перевод/английский-французский/intelligent\n",
      "['intelligent', 'intelligence', 'intelligemment', 'judicieux']\n",
      "https://context.reverso.net/перевод/русский-французский/продуманный\n",
      "turn to alternative marks\n"
     ]
    },
    {
     "name": "stderr",
     "output_type": "stream",
     "text": [
      "\n",
      "\n",
      " 47%|████▋     | 316/676 [26:43<30:25,  5.07s/it]\u001b[A\u001b[A"
     ]
    },
    {
     "name": "stdout",
     "output_type": "stream",
     "text": [
      "['réfléchie', 'élaboré', 'calculés']\n",
      "sense_intersect ['no_equality']\n",
      "intelligent неглупый\n",
      "https://context.reverso.net/перевод/английский-французский/intelligent\n",
      "['intelligent', 'intelligence', 'intelligemment', 'judicieux']\n",
      "https://context.reverso.net/перевод/русский-французский/неглупый\n",
      "turn to alternative marks\n"
     ]
    },
    {
     "name": "stderr",
     "output_type": "stream",
     "text": [
      "\n",
      "\n",
      " 47%|████▋     | 317/676 [26:47<29:48,  4.98s/it]\u001b[A\u001b[A"
     ]
    },
    {
     "name": "stdout",
     "output_type": "stream",
     "text": [
      "['intelligent', 'futé']\n",
      "sense_intersect ['intelligent | intelligence | intelligemment']\n",
      "intelligent микропроцессорный\n",
      "https://context.reverso.net/перевод/английский-французский/intelligent\n",
      "['intelligent', 'intelligence', 'intelligemment', 'judicieux']\n",
      "https://context.reverso.net/перевод/русский-французский/микропроцессорный\n",
      "turn to alternative marks\n"
     ]
    },
    {
     "name": "stderr",
     "output_type": "stream",
     "text": [
      "\n",
      "\n",
      " 47%|████▋     | 318/676 [26:52<29:52,  5.01s/it]\u001b[A\u001b[A"
     ]
    },
    {
     "name": "stdout",
     "output_type": "stream",
     "text": [
      "[]\n",
      "sense_intersect ['no_equality']\n",
      "intelligent понятливый\n",
      "https://context.reverso.net/перевод/английский-французский/intelligent\n",
      "['intelligent', 'intelligence', 'intelligemment', 'judicieux']\n",
      "https://context.reverso.net/перевод/русский-французский/понятливый\n",
      "turn to alternative marks\n"
     ]
    },
    {
     "name": "stderr",
     "output_type": "stream",
     "text": [
      "\n",
      "\n",
      " 47%|████▋     | 319/676 [26:57<29:20,  4.93s/it]\u001b[A\u001b[A"
     ]
    },
    {
     "name": "stdout",
     "output_type": "stream",
     "text": [
      "[]\n",
      "sense_intersect ['no_equality']\n",
      "intelligent мыслящий\n",
      "https://context.reverso.net/перевод/английский-французский/intelligent\n",
      "['intelligent', 'intelligence', 'intelligemment', 'judicieux']\n",
      "https://context.reverso.net/перевод/русский-французский/мыслящий\n",
      "turn to alternative marks\n"
     ]
    },
    {
     "name": "stderr",
     "output_type": "stream",
     "text": [
      "\n",
      "\n",
      " 47%|████▋     | 320/676 [27:02<29:08,  4.91s/it]\u001b[A\u001b[A"
     ]
    },
    {
     "name": "stdout",
     "output_type": "stream",
     "text": [
      "[]\n",
      "sense_intersect ['no_equality']\n",
      "intelligent программируемый\n",
      "https://context.reverso.net/перевод/английский-французский/intelligent\n",
      "['intelligent', 'intelligence', 'intelligemment', 'judicieux']\n",
      "https://context.reverso.net/перевод/русский-французский/программируемый\n",
      "turn to alternative marks\n"
     ]
    },
    {
     "name": "stderr",
     "output_type": "stream",
     "text": [
      "\n",
      "\n",
      " 47%|████▋     | 321/676 [27:07<29:49,  5.04s/it]\u001b[A\u001b[A"
     ]
    },
    {
     "name": "stdout",
     "output_type": "stream",
     "text": [
      "['programmable']\n",
      "sense_intersect ['no_equality']\n",
      "intelligent настраиваемый\n",
      "https://context.reverso.net/перевод/английский-французский/intelligent\n",
      "['intelligent', 'intelligence', 'intelligemment', 'judicieux']\n",
      "https://context.reverso.net/перевод/русский-французский/настраиваемый\n",
      "turn to alternative marks\n"
     ]
    },
    {
     "name": "stderr",
     "output_type": "stream",
     "text": [
      "\n",
      "\n",
      " 48%|████▊     | 322/676 [27:12<29:10,  4.94s/it]\u001b[A\u001b[A"
     ]
    },
    {
     "name": "stdout",
     "output_type": "stream",
     "text": [
      "['personnalisé', 'personnalisable']\n",
      "sense_intersect ['intelligence | personnalisable']\n",
      "intelligent понимающий\n",
      "https://context.reverso.net/перевод/английский-французский/intelligent\n",
      "['intelligent', 'intelligence', 'intelligemment', 'judicieux']\n",
      "https://context.reverso.net/перевод/русский-французский/понимающий\n",
      "turn to alternative marks\n"
     ]
    },
    {
     "name": "stderr",
     "output_type": "stream",
     "text": [
      "\n",
      "\n",
      " 48%|████▊     | 323/676 [27:17<28:58,  4.92s/it]\u001b[A\u001b[A"
     ]
    },
    {
     "name": "stdout",
     "output_type": "stream",
     "text": [
      "['compréhensif', 'compréhensible', 'qui comprend']\n",
      "sense_intersect ['intelligence | compréhensible']\n",
      "refugee беженец\n",
      "https://context.reverso.net/перевод/английский-французский/refugee\n",
      "['réfugié', 'réfugié', 'refugee', 'asile', 'refuge', 'immigration', 'hcr', 'spr']\n",
      "https://context.reverso.net/перевод/русский-французский/беженец\n"
     ]
    },
    {
     "name": "stderr",
     "output_type": "stream",
     "text": [
      "\n",
      "\n",
      " 48%|████▊     | 324/676 [27:22<29:28,  5.02s/it]\u001b[A\u001b[A"
     ]
    },
    {
     "name": "stdout",
     "output_type": "stream",
     "text": [
      "['réfugié']\n",
      "sense_intersect ['réfugié']\n",
      "refugee беженка\n",
      "https://context.reverso.net/перевод/английский-французский/refugee\n",
      "['réfugié', 'réfugié', 'refugee', 'asile', 'refuge', 'immigration', 'hcr', 'spr']\n",
      "https://context.reverso.net/перевод/русский-французский/беженка\n",
      "turn to alternative marks\n"
     ]
    },
    {
     "name": "stderr",
     "output_type": "stream",
     "text": [
      "\n",
      "\n",
      " 48%|████▊     | 325/676 [27:28<30:07,  5.15s/it]\u001b[A\u001b[A"
     ]
    },
    {
     "name": "stdout",
     "output_type": "stream",
     "text": [
      "['réfugié']\n",
      "sense_intersect ['réfugié']\n",
      "refugee беглец\n",
      "https://context.reverso.net/перевод/английский-французский/refugee\n",
      "['réfugié', 'réfugié', 'refugee', 'asile', 'refuge', 'immigration', 'hcr', 'spr']\n",
      "https://context.reverso.net/перевод/русский-французский/беглец\n"
     ]
    },
    {
     "name": "stderr",
     "output_type": "stream",
     "text": [
      "\n",
      "\n",
      " 48%|████▊     | 326/676 [27:33<29:42,  5.09s/it]\u001b[A\u001b[A"
     ]
    },
    {
     "name": "stdout",
     "output_type": "stream",
     "text": [
      "['fugitif']\n",
      "sense_intersect ['no_equality']\n",
      "refugee беженский\n",
      "https://context.reverso.net/перевод/английский-французский/refugee\n",
      "['réfugié', 'réfugié', 'refugee', 'asile', 'refuge', 'immigration', 'hcr', 'spr']\n",
      "https://context.reverso.net/перевод/русский-французский/беженский\n",
      "turn to alternative marks\n"
     ]
    },
    {
     "name": "stderr",
     "output_type": "stream",
     "text": [
      "\n",
      "\n",
      " 48%|████▊     | 327/676 [27:37<29:17,  5.04s/it]\u001b[A\u001b[A"
     ]
    },
    {
     "name": "stdout",
     "output_type": "stream",
     "text": [
      "['relatif aux réfugiés']\n",
      "sense_intersect ['no_equality']\n",
      "create создавать\n",
      "https://context.reverso.net/перевод/английский-французский/create\n",
      "['créer', 'établir', 'instaurer', 'donner', 'produire', 'constituer', 'réaliser', 'former', 'générer', 'élaborer', 'susciter', 'engendrer', 'mettre en place', 'offrir', 'sensibiliser', 'causer', 'aménager', 'faire naître', 'entraînent']\n",
      "https://context.reverso.net/перевод/русский-французский/создавать\n"
     ]
    },
    {
     "name": "stderr",
     "output_type": "stream",
     "text": [
      "\n",
      "\n",
      " 49%|████▊     | 328/676 [27:43<29:21,  5.06s/it]\u001b[A\u001b[A"
     ]
    },
    {
     "name": "stdout",
     "output_type": "stream",
     "text": [
      "['créer', 'constituer', 'établir', 'former', 'poser', 'construire', 'fonder', 'offrir', 'produire', 'instaurer', 'fabriquer', 'développer', 'concevoir', 'causer', 'mettre en place des']\n",
      "sense_intersect ['créer | élaborer', 'établir', 'instaurer | constituer | construire | produire | susciter | faire naître', 'produire', 'constituer', 'former | fonder | offrir', 'offrir', 'causer', 'donner | fonder', 'engendrer | mettre en place des', 'mettre en place | mettre en place des']\n",
      "create порождать\n",
      "https://context.reverso.net/перевод/английский-французский/create\n",
      "['créer', 'établir', 'instaurer', 'donner', 'produire', 'constituer', 'réaliser', 'former', 'générer', 'élaborer', 'susciter', 'engendrer', 'mettre en place', 'offrir', 'sensibiliser', 'causer', 'aménager', 'faire naître', 'entraînent']\n",
      "https://context.reverso.net/перевод/русский-французский/порождать\n"
     ]
    },
    {
     "name": "stderr",
     "output_type": "stream",
     "text": [
      "\n",
      "\n",
      " 49%|████▊     | 329/676 [27:48<29:04,  5.03s/it]\u001b[A\u001b[A"
     ]
    },
    {
     "name": "stdout",
     "output_type": "stream",
     "text": [
      "['produire']\n",
      "sense_intersect ['produire | instaurer']\n",
      "create вызывать\n",
      "https://context.reverso.net/перевод/английский-французский/create\n",
      "['créer', 'établir', 'instaurer', 'donner', 'produire', 'constituer', 'réaliser', 'former', 'générer', 'élaborer', 'susciter', 'engendrer', 'mettre en place', 'offrir', 'sensibiliser', 'causer', 'aménager', 'faire naître', 'entraînent']\n",
      "https://context.reverso.net/перевод/русский-французский/вызывать\n"
     ]
    },
    {
     "name": "stderr",
     "output_type": "stream",
     "text": [
      "\n",
      "\n",
      " 49%|████▉     | 330/676 [27:52<28:41,  4.98s/it]\u001b[A\u001b[A"
     ]
    },
    {
     "name": "stdout",
     "output_type": "stream",
     "text": [
      "['appeler', 'susciter', 'causer', 'provoquer', 'poser', 'entraîner']\n",
      "sense_intersect ['susciter | instaurer | constituer | causer', 'causer', 'donner | entraîner', 'produire | provoquer', 'engendrer | entraîner', 'mettre en place | appeler | entraîner']\n",
      "create производить\n",
      "https://context.reverso.net/перевод/английский-французский/create\n",
      "['créer', 'établir', 'instaurer', 'donner', 'produire', 'constituer', 'réaliser', 'former', 'générer', 'élaborer', 'susciter', 'engendrer', 'mettre en place', 'offrir', 'sensibiliser', 'causer', 'aménager', 'faire naître', 'entraînent']\n",
      "https://context.reverso.net/перевод/русский-французский/производить\n"
     ]
    },
    {
     "name": "stderr",
     "output_type": "stream",
     "text": [
      "\n",
      "\n",
      " 49%|████▉     | 331/676 [27:57<28:35,  4.97s/it]\u001b[A\u001b[A"
     ]
    },
    {
     "name": "stdout",
     "output_type": "stream",
     "text": [
      "['produire', 'fabriquer', 'effectuer', 'faire', 'procéder à']\n",
      "sense_intersect ['produire | instaurer | fabriquer | procéder à', 'créer | procéder à', 'mettre en place | effectuer', 'faire naître | faire']\n",
      "create разработать\n",
      "https://context.reverso.net/перевод/английский-французский/create\n",
      "['créer', 'établir', 'instaurer', 'donner', 'produire', 'constituer', 'réaliser', 'former', 'générer', 'élaborer', 'susciter', 'engendrer', 'mettre en place', 'offrir', 'sensibiliser', 'causer', 'aménager', 'faire naître', 'entraînent']\n",
      "https://context.reverso.net/перевод/русский-французский/разработать\n"
     ]
    },
    {
     "name": "stderr",
     "output_type": "stream",
     "text": [
      "\n",
      "\n",
      " 49%|████▉     | 332/676 [28:02<28:18,  4.94s/it]\u001b[A\u001b[A"
     ]
    },
    {
     "name": "stdout",
     "output_type": "stream",
     "text": [
      "['élaborer', 'mettre au point', 'établir', 'mettre en place', 'concevoir', 'définir', 'développer', 'formuler', 'adopter', 'créer', 'trouver', 'rédiger', 'proposer', 'fixer', 'mettre sur pied']\n",
      "sense_intersect ['créer | élaborer | rédiger', 'établir', 'élaborer', 'mettre en place | engendrer | mettre au point | faire naître | entraînent', 'instaurer | mettre au point | trouver | mettre sur pied', 'produire | formuler | adopter | proposer', 'constituer | mettre au point', 'former | formuler', 'offrir | formuler']\n",
      "create образовать\n",
      "https://context.reverso.net/перевод/английский-французский/create\n",
      "['créer', 'établir', 'instaurer', 'donner', 'produire', 'constituer', 'réaliser', 'former', 'générer', 'élaborer', 'susciter', 'engendrer', 'mettre en place', 'offrir', 'sensibiliser', 'causer', 'aménager', 'faire naître', 'entraînent']\n",
      "https://context.reverso.net/перевод/русский-французский/образовать\n",
      "turn to alternative marks\n"
     ]
    },
    {
     "name": "stderr",
     "output_type": "stream",
     "text": [
      "\n",
      "\n",
      " 49%|████▉     | 333/676 [28:07<28:24,  4.97s/it]\u001b[A\u001b[A"
     ]
    },
    {
     "name": "stdout",
     "output_type": "stream",
     "text": [
      "['constituer', 'former', 'créer un']\n",
      "sense_intersect ['constituer | instaurer | susciter', 'former | offrir', 'créer | créer un', 'élaborer | créer un']\n",
      "nobody никто\n",
      "https://context.reverso.net/перевод/английский-французский/nobody\n",
      "['personne ne', 'personne', 'on ne', 'nul ne', \"on n'\", 'rien', \"nul n'\", 'nobody', 'nul', 'ni', 'moins que rien', 'tout le monde', \"il n'\"]\n",
      "https://context.reverso.net/перевод/русский-французский/никто\n"
     ]
    },
    {
     "name": "stderr",
     "output_type": "stream",
     "text": [
      "\n",
      "\n",
      " 49%|████▉     | 334/676 [28:12<28:16,  4.96s/it]\u001b[A\u001b[A"
     ]
    },
    {
     "name": "stdout",
     "output_type": "stream",
     "text": [
      "['personne', 'aucun', 'nul', 'rien', 'ni', 'jamais', 'ça', 'monde', 'tout', 'gens', 'sans', 'quiconque', 'seul', 'non']\n",
      "sense_intersect ['personne | personne ne | on ne | moins que rien', 'rien', \"nul | nul ne | nul n'\", 'ni', \"on n' | non\", 'tout le monde | monde']\n",
      "nobody некого\n",
      "https://context.reverso.net/перевод/английский-французский/nobody\n",
      "['personne ne', 'personne', 'on ne', 'nul ne', \"on n'\", 'rien', \"nul n'\", 'nobody', 'nul', 'ni', 'moins que rien', 'tout le monde', \"il n'\"]\n",
      "https://context.reverso.net/перевод/русский-французский/некого\n",
      "turn to alternative marks\n"
     ]
    },
    {
     "name": "stderr",
     "output_type": "stream",
     "text": [
      "\n",
      "\n",
      " 50%|████▉     | 335/676 [28:17<28:16,  4.98s/it]\u001b[A\u001b[A"
     ]
    },
    {
     "name": "stdout",
     "output_type": "stream",
     "text": [
      "[\"n'ai personne à\", \"y a personne d'autre\", \"n'ai plus personne à\", \"n'ai personne d'autre à qui\", \"n'as personne d'autre à\"]\n",
      "sense_intersect [\"personne ne | n'ai personne à | y a personne d'autre | n'ai plus personne à | n'ai personne d'autre à qui | n'as personne d'autre à\", \"personne | n'ai personne à\", \"on ne | n'ai personne à\", \"rien | n'ai personne à\", \"moins que rien | n'ai personne à\"]\n",
      "nobody ничей\n",
      "https://context.reverso.net/перевод/английский-французский/nobody\n",
      "['personne ne', 'personne', 'on ne', 'nul ne', \"on n'\", 'rien', \"nul n'\", 'nobody', 'nul', 'ni', 'moins que rien', 'tout le monde', \"il n'\"]\n",
      "https://context.reverso.net/перевод/русский-французский/ничей\n",
      "turn to alternative marks\n"
     ]
    },
    {
     "name": "stderr",
     "output_type": "stream",
     "text": [
      "\n",
      "\n",
      " 50%|████▉     | 336/676 [28:22<28:30,  5.03s/it]\u001b[A\u001b[A"
     ]
    },
    {
     "name": "stdout",
     "output_type": "stream",
     "text": [
      "['aucun']\n",
      "sense_intersect ['no_equality']\n",
      "nobody ничтожество\n",
      "https://context.reverso.net/перевод/английский-французский/nobody\n",
      "['personne ne', 'personne', 'on ne', 'nul ne', \"on n'\", 'rien', \"nul n'\", 'nobody', 'nul', 'ni', 'moins que rien', 'tout le monde', \"il n'\"]\n",
      "https://context.reverso.net/перевод/русский-французский/ничтожество\n",
      "turn to alternative marks\n"
     ]
    },
    {
     "name": "stderr",
     "output_type": "stream",
     "text": [
      "\n",
      "\n",
      " 50%|████▉     | 337/676 [28:27<28:24,  5.03s/it]\u001b[A\u001b[A"
     ]
    },
    {
     "name": "stdout",
     "output_type": "stream",
     "text": [
      "['abruti', 'nul', 'nullité', 'pauvre type', 'néant', 'bon à rien', \"n'es rien\", 'minable', 'ne suis rien', 'es pathétique', 'salaud', 'imbécile', 'misérable', 'baderne', 'idiot']\n",
      "sense_intersect [\"nul | nul ne | nul n'\", \"personne ne | bon à rien | n'es rien\", 'personne | bon à rien', 'rien | bon à rien | ne suis rien', 'moins que rien | bon à rien']\n",
      "word слово\n",
      "https://context.reverso.net/перевод/английский-французский/word\n",
      "['mot', 'parole', 'terme', 'nouvelle', 'dit', 'parole', 'rien', 'texte', 'parler', 'dire', 'exprimer', 'expression', 'parlé', 'promesse', 'ordre', 'propos', 'vocable', 'word', 'verbe']\n",
      "https://context.reverso.net/перевод/русский-французский/слово\n"
     ]
    },
    {
     "name": "stderr",
     "output_type": "stream",
     "text": [
      "\n",
      "\n",
      " 50%|█████     | 338/676 [28:33<29:16,  5.20s/it]\u001b[A\u001b[A"
     ]
    },
    {
     "name": "stdout",
     "output_type": "stream",
     "text": [
      "['mot', 'parole', 'terme', 'promesse', 'promis', 'expression', 'verbe', 'adjectif', 'dire', 'dit', 'promets', 'remplacer', 'parlé']\n",
      "sense_intersect ['mot', 'parole | remplacer | parler', 'terme | promets', 'dit', 'dire', 'expression | exprimer | promesse', 'parlé', 'promesse', 'verbe']\n",
      "word известие\n",
      "https://context.reverso.net/перевод/английский-французский/word\n",
      "['mot', 'parole', 'terme', 'nouvelle', 'dit', 'parole', 'rien', 'texte', 'parler', 'dire', 'exprimer', 'expression', 'parlé', 'promesse', 'ordre', 'propos', 'vocable', 'word', 'verbe']\n",
      "https://context.reverso.net/перевод/русский-французский/известие\n"
     ]
    },
    {
     "name": "stderr",
     "output_type": "stream",
     "text": [
      "\n",
      "\n",
      " 50%|█████     | 339/676 [28:38<29:09,  5.19s/it]\u001b[A\u001b[A"
     ]
    },
    {
     "name": "stdout",
     "output_type": "stream",
     "text": [
      "['nouvelle']\n",
      "sense_intersect ['nouvelle']\n",
      "word слова\n",
      "https://context.reverso.net/перевод/английский-французский/word\n",
      "['mot', 'parole', 'terme', 'nouvelle', 'dit', 'parole', 'rien', 'texte', 'parler', 'dire', 'exprimer', 'expression', 'parlé', 'promesse', 'ordre', 'propos', 'vocable', 'word', 'verbe']\n",
      "https://context.reverso.net/перевод/русский-французский/слова\n"
     ]
    },
    {
     "name": "stderr",
     "output_type": "stream",
     "text": [
      "\n",
      "\n",
      " 50%|█████     | 340/676 [28:43<28:42,  5.13s/it]\u001b[A\u001b[A"
     ]
    },
    {
     "name": "stdout",
     "output_type": "stream",
     "text": [
      "['mot', 'parole', 'expression', 'terme', 'dit', 'phrase', 'propos', 'dis', 'discours', 'déclaration', 'mention', 'formule', 'langage', 'parle']\n",
      "sense_intersect ['mot', 'parole | parle | parler', 'terme', 'dit', 'expression | exprimer | promesse', 'propos']\n",
      "word говорить\n",
      "https://context.reverso.net/перевод/английский-французский/word\n",
      "['mot', 'parole', 'terme', 'nouvelle', 'dit', 'parole', 'rien', 'texte', 'parler', 'dire', 'exprimer', 'expression', 'parlé', 'promesse', 'ordre', 'propos', 'vocable', 'word', 'verbe']\n",
      "https://context.reverso.net/перевод/русский-французский/говорить\n"
     ]
    },
    {
     "name": "stderr",
     "output_type": "stream",
     "text": [
      "\n",
      "\n",
      " 50%|█████     | 341/676 [28:48<28:29,  5.10s/it]\u001b[A\u001b[A"
     ]
    },
    {
     "name": "stdout",
     "output_type": "stream",
     "text": [
      "['parler', 'dire', 'faire', 'discuter', 'raconter', 'répéter', 'exprimer', 'taire', 'préciser', 'annoncer', 'affirmer', 'rien', 'discours']\n",
      "sense_intersect ['rien | exprimer', 'parler | parole', 'dire', 'exprimer', 'ordre | raconter']\n",
      "word сформулировать\n",
      "https://context.reverso.net/перевод/английский-французский/word\n",
      "['mot', 'parole', 'terme', 'nouvelle', 'dit', 'parole', 'rien', 'texte', 'parler', 'dire', 'exprimer', 'expression', 'parlé', 'promesse', 'ordre', 'propos', 'vocable', 'word', 'verbe']\n",
      "https://context.reverso.net/перевод/русский-французский/сформулировать\n"
     ]
    },
    {
     "name": "stderr",
     "output_type": "stream",
     "text": [
      "\n",
      "\n",
      " 51%|█████     | 342/676 [28:54<28:55,  5.20s/it]\u001b[A\u001b[A"
     ]
    },
    {
     "name": "stdout",
     "output_type": "stream",
     "text": [
      "['formuler', 'élaborer', 'définir', 'faire']\n",
      "sense_intersect ['parole | élaborer | élaborer', 'ordre | formuler']\n",
      "word текстовый\n",
      "https://context.reverso.net/перевод/английский-французский/word\n",
      "['mot', 'parole', 'terme', 'nouvelle', 'dit', 'parole', 'rien', 'texte', 'parler', 'dire', 'exprimer', 'expression', 'parlé', 'promesse', 'ordre', 'propos', 'vocable', 'word', 'verbe']\n",
      "https://context.reverso.net/перевод/русский-французский/текстовый\n"
     ]
    },
    {
     "name": "stderr",
     "output_type": "stream",
     "text": [
      "\n",
      "\n",
      " 51%|█████     | 343/676 [28:58<28:18,  5.10s/it]\u001b[A\u001b[A"
     ]
    },
    {
     "name": "stdout",
     "output_type": "stream",
     "text": [
      "['texte']\n",
      "sense_intersect ['texte']\n",
      "word словесный\n",
      "https://context.reverso.net/перевод/английский-французский/word\n",
      "['mot', 'parole', 'terme', 'nouvelle', 'dit', 'parole', 'rien', 'texte', 'parler', 'dire', 'exprimer', 'expression', 'parlé', 'promesse', 'ordre', 'propos', 'vocable', 'word', 'verbe']\n",
      "https://context.reverso.net/перевод/русский-французский/словесный\n",
      "turn to alternative marks\n"
     ]
    },
    {
     "name": "stderr",
     "output_type": "stream",
     "text": [
      "\n",
      "\n",
      " 51%|█████     | 344/676 [29:03<27:52,  5.04s/it]\u001b[A\u001b[A"
     ]
    },
    {
     "name": "stdout",
     "output_type": "stream",
     "text": [
      "[]\n",
      "sense_intersect ['no_equality']\n",
      "genetically генетически\n",
      "https://context.reverso.net/перевод/английский-французский/genetically\n",
      "['génétiquement', 'génétique', 'ogm']\n",
      "https://context.reverso.net/перевод/русский-французский/генетически\n"
     ]
    },
    {
     "name": "stderr",
     "output_type": "stream",
     "text": [
      "\n",
      "\n",
      " 51%|█████     | 345/676 [29:08<27:50,  5.05s/it]\u001b[A\u001b[A"
     ]
    },
    {
     "name": "stdout",
     "output_type": "stream",
     "text": [
      "['génétiquement', 'génétique', 'ogm']\n",
      "sense_intersect ['génétiquement | génétique', 'génétique', 'ogm']\n",
      "genetically генетический\n",
      "https://context.reverso.net/перевод/английский-французский/genetically\n",
      "['génétiquement', 'génétique', 'ogm']\n",
      "https://context.reverso.net/перевод/русский-французский/генетический\n"
     ]
    },
    {
     "name": "stderr",
     "output_type": "stream",
     "text": [
      "\n",
      "\n",
      " 51%|█████     | 346/676 [29:14<28:26,  5.17s/it]\u001b[A\u001b[A"
     ]
    },
    {
     "name": "stdout",
     "output_type": "stream",
     "text": [
      "['génétique']\n",
      "sense_intersect ['génétique | génétiquement']\n",
      "mug кружка\n",
      "https://context.reverso.net/перевод/английский-французский/mug\n",
      "['tasse', 'mug', 'chope', 'gueule', 'gobelet', 'grande tasse', 'agresser', 'tronche', 'photo', 'tête', 'con']\n",
      "https://context.reverso.net/перевод/русский-французский/кружка\n"
     ]
    },
    {
     "name": "stderr",
     "output_type": "stream",
     "text": [
      "\n",
      "\n",
      " 51%|█████▏    | 347/676 [29:19<27:50,  5.08s/it]\u001b[A\u001b[A"
     ]
    },
    {
     "name": "stdout",
     "output_type": "stream",
     "text": [
      "['club', 'tasse']\n",
      "sense_intersect ['tasse']\n",
      "mug рожица\n",
      "https://context.reverso.net/перевод/английский-французский/mug\n",
      "['tasse', 'mug', 'chope', 'gueule', 'gobelet', 'grande tasse', 'agresser', 'tronche', 'photo', 'tête', 'con']\n",
      "https://context.reverso.net/перевод/русский-французский/рожица\n",
      "turn to alternative marks\n"
     ]
    },
    {
     "name": "stderr",
     "output_type": "stream",
     "text": [
      "\n",
      "\n",
      " 51%|█████▏    | 348/676 [29:24<27:26,  5.02s/it]\u001b[A\u001b[A"
     ]
    },
    {
     "name": "stdout",
     "output_type": "stream",
     "text": [
      "[]\n",
      "sense_intersect ['no_equality']\n",
      "mug бокал\n",
      "https://context.reverso.net/перевод/английский-французский/mug\n",
      "['tasse', 'mug', 'chope', 'gueule', 'gobelet', 'grande tasse', 'agresser', 'tronche', 'photo', 'tête', 'con']\n",
      "https://context.reverso.net/перевод/русский-французский/бокал\n"
     ]
    },
    {
     "name": "stderr",
     "output_type": "stream",
     "text": [
      "\n",
      "\n",
      " 52%|█████▏    | 349/676 [29:28<27:03,  4.97s/it]\u001b[A\u001b[A"
     ]
    },
    {
     "name": "stdout",
     "output_type": "stream",
     "text": [
      "['verre']\n",
      "sense_intersect ['no_equality']\n",
      "mug рыло\n",
      "https://context.reverso.net/перевод/английский-французский/mug\n",
      "['tasse', 'mug', 'chope', 'gueule', 'gobelet', 'grande tasse', 'agresser', 'tronche', 'photo', 'tête', 'con']\n",
      "https://context.reverso.net/перевод/русский-французский/рыло\n",
      "turn to alternative marks\n"
     ]
    },
    {
     "name": "stderr",
     "output_type": "stream",
     "text": [
      "\n",
      "\n",
      " 52%|█████▏    | 350/676 [29:34<27:34,  5.08s/it]\u001b[A\u001b[A"
     ]
    },
    {
     "name": "stdout",
     "output_type": "stream",
     "text": [
      "['mugs', 'nez', 'museau']\n",
      "sense_intersect ['mug | mugs']\n",
      "mug балбес\n",
      "https://context.reverso.net/перевод/английский-французский/mug\n",
      "['tasse', 'mug', 'chope', 'gueule', 'gobelet', 'grande tasse', 'agresser', 'tronche', 'photo', 'tête', 'con']\n",
      "https://context.reverso.net/перевод/русский-французский/балбес\n",
      "turn to alternative marks\n"
     ]
    },
    {
     "name": "stderr",
     "output_type": "stream",
     "text": [
      "\n",
      "\n",
      " 52%|█████▏    | 351/676 [29:39<27:12,  5.02s/it]\u001b[A\u001b[A"
     ]
    },
    {
     "name": "stdout",
     "output_type": "stream",
     "text": [
      "['idiot', 'couillon', 'barjo', 'crétin', 'taré']\n",
      "sense_intersect ['no_equality']\n",
      "mug мурло\n",
      "https://context.reverso.net/перевод/английский-французский/mug\n",
      "['tasse', 'mug', 'chope', 'gueule', 'gobelet', 'grande tasse', 'agresser', 'tronche', 'photo', 'tête', 'con']\n",
      "https://context.reverso.net/перевод/русский-французский/мурло\n",
      "turn to alternative marks\n"
     ]
    },
    {
     "name": "stderr",
     "output_type": "stream",
     "text": [
      "\n",
      "\n",
      " 52%|█████▏    | 352/676 [29:43<26:40,  4.94s/it]\u001b[A\u001b[A"
     ]
    },
    {
     "name": "stdout",
     "output_type": "stream",
     "text": [
      "[]\n",
      "sense_intersect ['no_equality']\n",
      "mug ебальник\n",
      "https://context.reverso.net/перевод/английский-французский/mug\n",
      "['tasse', 'mug', 'chope', 'gueule', 'gobelet', 'grande tasse', 'agresser', 'tronche', 'photo', 'tête', 'con']\n",
      "https://context.reverso.net/перевод/русский-французский/ебальник\n",
      "turn to alternative marks\n"
     ]
    },
    {
     "name": "stderr",
     "output_type": "stream",
     "text": [
      "\n",
      "\n",
      " 52%|█████▏    | 353/676 [29:48<26:13,  4.87s/it]\u001b[A\u001b[A"
     ]
    },
    {
     "name": "stdout",
     "output_type": "stream",
     "text": [
      "['tronche']\n",
      "sense_intersect ['tronche | chope']\n",
      "mug грабить\n",
      "https://context.reverso.net/перевод/английский-французский/mug\n",
      "['tasse', 'mug', 'chope', 'gueule', 'gobelet', 'grande tasse', 'agresser', 'tronche', 'photo', 'tête', 'con']\n",
      "https://context.reverso.net/перевод/русский-французский/грабить\n"
     ]
    },
    {
     "name": "stderr",
     "output_type": "stream",
     "text": [
      "\n",
      "\n",
      " 52%|█████▏    | 354/676 [29:53<26:10,  4.88s/it]\u001b[A\u001b[A"
     ]
    },
    {
     "name": "stdout",
     "output_type": "stream",
     "text": [
      "['voler', 'braquer', 'piller']\n",
      "sense_intersect ['no_equality']\n",
      "countryside сельская местность\n",
      "https://context.reverso.net/перевод/английский-французский/countryside\n",
      "['campagne', 'paysage', 'nature', 'milieu rural', 'pays', 'espace rural', 'région', 'environs', 'verdure', 'arrière-pays', 'monde rural', 'espace naturel', 'banlieue', 'zones rurales', 'champêtre']\n",
      "https://context.reverso.net/перевод/русский-французский/сельская местность\n",
      "turn to alternative marks\n"
     ]
    },
    {
     "name": "stderr",
     "output_type": "stream",
     "text": [
      "\n",
      "\n",
      " 53%|█████▎    | 355/676 [29:58<26:08,  4.89s/it]\u001b[A\u001b[A"
     ]
    },
    {
     "name": "stdout",
     "output_type": "stream",
     "text": [
      "['campagne']\n",
      "sense_intersect ['campagne']\n",
      "countryside природа\n",
      "https://context.reverso.net/перевод/английский-французский/countryside\n",
      "['campagne', 'paysage', 'nature', 'milieu rural', 'pays', 'espace rural', 'région', 'environs', 'verdure', 'arrière-pays', 'monde rural', 'espace naturel', 'banlieue', 'zones rurales', 'champêtre']\n",
      "https://context.reverso.net/перевод/русский-французский/природа\n"
     ]
    },
    {
     "name": "stderr",
     "output_type": "stream",
     "text": [
      "\n",
      "\n",
      " 53%|█████▎    | 356/676 [30:03<26:00,  4.88s/it]\u001b[A\u001b[A"
     ]
    },
    {
     "name": "stdout",
     "output_type": "stream",
     "text": [
      "['nature']\n",
      "sense_intersect ['nature | monde rural | espace naturel']\n",
      "countryside пригород\n",
      "https://context.reverso.net/перевод/английский-французский/countryside\n",
      "['campagne', 'paysage', 'nature', 'milieu rural', 'pays', 'espace rural', 'région', 'environs', 'verdure', 'arrière-pays', 'monde rural', 'espace naturel', 'banlieue', 'zones rurales', 'champêtre']\n",
      "https://context.reverso.net/перевод/русский-французский/пригород\n"
     ]
    },
    {
     "name": "stderr",
     "output_type": "stream",
     "text": [
      "\n",
      "\n",
      " 53%|█████▎    | 357/676 [30:08<25:46,  4.85s/it]\u001b[A\u001b[A"
     ]
    },
    {
     "name": "stdout",
     "output_type": "stream",
     "text": [
      "['banlieue']\n",
      "sense_intersect ['banlieue | espace naturel']\n",
      "countryside сельские районы\n",
      "https://context.reverso.net/перевод/английский-французский/countryside\n",
      "['campagne', 'paysage', 'nature', 'milieu rural', 'pays', 'espace rural', 'région', 'environs', 'verdure', 'arrière-pays', 'monde rural', 'espace naturel', 'banlieue', 'zones rurales', 'champêtre']\n",
      "https://context.reverso.net/перевод/русский-французский/сельские районы\n"
     ]
    },
    {
     "name": "stderr",
     "output_type": "stream",
     "text": [
      "\n",
      "\n",
      " 53%|█████▎    | 358/676 [30:13<26:11,  4.94s/it]\u001b[A\u001b[A"
     ]
    },
    {
     "name": "stdout",
     "output_type": "stream",
     "text": [
      "['les zones rurales']\n",
      "sense_intersect ['espace rural | les zones rurales', 'monde rural | les zones rurales', 'espace naturel | les zones rurales', 'zones rurales | les zones rurales']\n",
      "countryside загородная местность\n",
      "https://context.reverso.net/перевод/английский-французский/countryside\n",
      "['campagne', 'paysage', 'nature', 'milieu rural', 'pays', 'espace rural', 'région', 'environs', 'verdure', 'arrière-pays', 'monde rural', 'espace naturel', 'banlieue', 'zones rurales', 'champêtre']\n",
      "https://context.reverso.net/перевод/русский-французский/загородная местность\n"
     ]
    },
    {
     "name": "stderr",
     "output_type": "stream",
     "text": [
      "\n",
      "\n",
      " 53%|█████▎    | 359/676 [30:18<26:00,  4.92s/it]\u001b[A\u001b[A"
     ]
    },
    {
     "name": "stdout",
     "output_type": "stream",
     "text": [
      "['zone', 'terrain', 'région', 'endroit', 'pays']\n",
      "sense_intersect ['pays', 'région', 'nature | terrain', 'environs | endroit', 'arrière-pays | terrain', 'monde rural | endroit']\n",
      "countryside сельский ландшафт\n",
      "https://context.reverso.net/перевод/английский-французский/countryside\n",
      "['campagne', 'paysage', 'nature', 'milieu rural', 'pays', 'espace rural', 'région', 'environs', 'verdure', 'arrière-pays', 'monde rural', 'espace naturel', 'banlieue', 'zones rurales', 'champêtre']\n",
      "https://context.reverso.net/перевод/русский-французский/сельский ландшафт\n"
     ]
    },
    {
     "name": "stderr",
     "output_type": "stream",
     "text": [
      "\n",
      "\n",
      " 53%|█████▎    | 360/676 [30:23<26:03,  4.95s/it]\u001b[A\u001b[A"
     ]
    },
    {
     "name": "stdout",
     "output_type": "stream",
     "text": [
      "['rural', 'village', 'de village', 'rustique', 'villageois', 'paysage', 'aménagement paysager']\n",
      "sense_intersect ['paysage', 'campagne | aménagement paysager', 'milieu rural | rural', 'espace naturel | aménagement paysager']\n",
      "countryside сельский\n",
      "https://context.reverso.net/перевод/английский-французский/countryside\n",
      "['campagne', 'paysage', 'nature', 'milieu rural', 'pays', 'espace rural', 'région', 'environs', 'verdure', 'arrière-pays', 'monde rural', 'espace naturel', 'banlieue', 'zones rurales', 'champêtre']\n",
      "https://context.reverso.net/перевод/русский-французский/сельский\n"
     ]
    },
    {
     "name": "stderr",
     "output_type": "stream",
     "text": [
      "\n",
      "\n",
      " 53%|█████▎    | 361/676 [30:28<25:51,  4.92s/it]\u001b[A\u001b[A"
     ]
    },
    {
     "name": "stdout",
     "output_type": "stream",
     "text": [
      "['rural']\n",
      "sense_intersect ['milieu rural | rural']\n",
      "spoon ложка\n",
      "https://context.reverso.net/перевод/английский-французский/spoon\n",
      "['cuillère', 'cuiller', 'cuillérée', 'déposer', 'verser', 'répartir', 'napper', 'mettre', 'cuillière', 'spoon']\n",
      "https://context.reverso.net/перевод/русский-французский/ложка\n"
     ]
    },
    {
     "name": "stderr",
     "output_type": "stream",
     "text": [
      "\n",
      "\n",
      " 54%|█████▎    | 362/676 [30:32<25:34,  4.89s/it]\u001b[A\u001b[A"
     ]
    },
    {
     "name": "stdout",
     "output_type": "stream",
     "text": [
      "['cuillère']\n",
      "sense_intersect ['cuillère | cuiller | cuillière']\n",
      "spoon блесна\n",
      "https://context.reverso.net/перевод/английский-французский/spoon\n",
      "['cuillère', 'cuiller', 'cuillérée', 'déposer', 'verser', 'répartir', 'napper', 'mettre', 'cuillière', 'spoon']\n",
      "https://context.reverso.net/перевод/русский-французский/блесна\n",
      "turn to alternative marks\n"
     ]
    },
    {
     "name": "stderr",
     "output_type": "stream",
     "text": [
      "\n",
      "\n",
      " 54%|█████▎    | 363/676 [30:38<26:49,  5.14s/it]\u001b[A\u001b[A"
     ]
    },
    {
     "name": "stdout",
     "output_type": "stream",
     "text": [
      "[]\n",
      "sense_intersect ['no_equality']\n",
      "spoon обниматься\n",
      "https://context.reverso.net/перевод/английский-французский/spoon\n",
      "['cuillère', 'cuiller', 'cuillérée', 'déposer', 'verser', 'répartir', 'napper', 'mettre', 'cuillière', 'spoon']\n",
      "https://context.reverso.net/перевод/русский-французский/обниматься\n"
     ]
    },
    {
     "name": "stderr",
     "output_type": "stream",
     "text": [
      "\n",
      "\n",
      " 54%|█████▍    | 364/676 [30:44<27:22,  5.26s/it]\u001b[A\u001b[A"
     ]
    },
    {
     "name": "stdout",
     "output_type": "stream",
     "text": [
      "['câlin']\n",
      "sense_intersect ['no_equality']\n",
      "spoon черпать ложкой\n",
      "https://context.reverso.net/перевод/английский-французский/spoon\n",
      "['cuillère', 'cuiller', 'cuillérée', 'déposer', 'verser', 'répartir', 'napper', 'mettre', 'cuillière', 'spoon']\n",
      "https://context.reverso.net/перевод/русский-французский/черпать ложкой\n"
     ]
    },
    {
     "name": "stderr",
     "output_type": "stream",
     "text": [
      "\n",
      "\n",
      " 54%|█████▍    | 365/676 [30:49<26:56,  5.20s/it]\u001b[A\u001b[A"
     ]
    },
    {
     "name": "stdout",
     "output_type": "stream",
     "text": [
      "['puiser', 'canaliser']\n",
      "sense_intersect ['no_equality']\n",
      "journey путешествие\n",
      "https://context.reverso.net/перевод/английский-французский/journey\n",
      "['voyage', 'chemin', 'trajet', 'périple', 'route', 'cheminement', 'aventure', 'itinéraire', 'parcourir', 'voyager', 'marche', 'journée', 'déplacement', 'retour', 'transport', 'course']\n",
      "https://context.reverso.net/перевод/русский-французский/путешествие\n"
     ]
    },
    {
     "name": "stderr",
     "output_type": "stream",
     "text": [
      "\n",
      "\n",
      " 54%|█████▍    | 366/676 [30:53<26:16,  5.09s/it]\u001b[A\u001b[A"
     ]
    },
    {
     "name": "stdout",
     "output_type": "stream",
     "text": [
      "['voyage', 'aventure', 'voyager']\n",
      "sense_intersect ['voyage | voyager', 'aventure', 'voyager']\n",
      "journey путь\n",
      "https://context.reverso.net/перевод/английский-французский/journey\n",
      "['voyage', 'chemin', 'trajet', 'périple', 'route', 'cheminement', 'aventure', 'itinéraire', 'parcourir', 'voyager', 'marche', 'journée', 'déplacement', 'retour', 'transport', 'course']\n",
      "https://context.reverso.net/перевод/русский-французский/путь\n"
     ]
    },
    {
     "name": "stderr",
     "output_type": "stream",
     "text": [
      "\n",
      "\n",
      " 54%|█████▍    | 367/676 [30:58<25:54,  5.03s/it]\u001b[A\u001b[A"
     ]
    },
    {
     "name": "stdout",
     "output_type": "stream",
     "text": [
      "['voie', 'chemin', 'moyen', 'route', 'façon', 'voyage', 'solution', 'manière', 'ver', 'passage', 'parcours', 'trajet', 'progrès', 'issue', 'choix']\n",
      "sense_intersect ['voyage | voyager', 'chemin | cheminement', 'trajet', 'route | retour | course', 'parcourir | parcours']\n",
      "journey рейс\n",
      "https://context.reverso.net/перевод/английский-французский/journey\n",
      "['voyage', 'chemin', 'trajet', 'périple', 'route', 'cheminement', 'aventure', 'itinéraire', 'parcourir', 'voyager', 'marche', 'journée', 'déplacement', 'retour', 'transport', 'course']\n",
      "https://context.reverso.net/перевод/русский-французский/рейс\n"
     ]
    },
    {
     "name": "stderr",
     "output_type": "stream",
     "text": [
      "\n",
      "\n",
      " 54%|█████▍    | 368/676 [31:03<25:39,  5.00s/it]\u001b[A\u001b[A"
     ]
    },
    {
     "name": "stdout",
     "output_type": "stream",
     "text": [
      "['vol', 'avion', 'voyage', 'reyes']\n",
      "sense_intersect ['voyage | voyager']\n",
      "journey проезд\n",
      "https://context.reverso.net/перевод/английский-французский/journey\n",
      "['voyage', 'chemin', 'trajet', 'périple', 'route', 'cheminement', 'aventure', 'itinéraire', 'parcourir', 'voyager', 'marche', 'journée', 'déplacement', 'retour', 'transport', 'course']\n",
      "https://context.reverso.net/перевод/русский-французский/проезд\n"
     ]
    },
    {
     "name": "stderr",
     "output_type": "stream",
     "text": [
      "\n",
      "\n",
      " 55%|█████▍    | 369/676 [31:08<25:29,  4.98s/it]\u001b[A\u001b[A"
     ]
    },
    {
     "name": "stdout",
     "output_type": "stream",
     "text": [
      "['voyage', 'passage', 'transport']\n",
      "sense_intersect ['voyage | voyager', 'transport']\n",
      "journey переезд\n",
      "https://context.reverso.net/перевод/английский-французский/journey\n",
      "['voyage', 'chemin', 'trajet', 'périple', 'route', 'cheminement', 'aventure', 'itinéraire', 'parcourir', 'voyager', 'marche', 'journée', 'déplacement', 'retour', 'transport', 'course']\n",
      "https://context.reverso.net/перевод/русский-французский/переезд\n"
     ]
    },
    {
     "name": "stderr",
     "output_type": "stream",
     "text": [
      "\n",
      "\n",
      " 55%|█████▍    | 370/676 [31:13<25:17,  4.96s/it]\u001b[A\u001b[A"
     ]
    },
    {
     "name": "stdout",
     "output_type": "stream",
     "text": [
      "['déménagement', 'réinstallation', 'déménager']\n",
      "sense_intersect ['déplacement | déménagement']\n",
      "journey странствование\n",
      "https://context.reverso.net/перевод/английский-французский/journey\n",
      "['voyage', 'chemin', 'trajet', 'périple', 'route', 'cheminement', 'aventure', 'itinéraire', 'parcourir', 'voyager', 'marche', 'journée', 'déplacement', 'retour', 'transport', 'course']\n",
      "https://context.reverso.net/перевод/русский-французский/странствование\n",
      "turn to alternative marks\n"
     ]
    },
    {
     "name": "stderr",
     "output_type": "stream",
     "text": [
      "\n",
      "\n",
      " 55%|█████▍    | 371/676 [31:18<24:59,  4.92s/it]\u001b[A\u001b[A"
     ]
    },
    {
     "name": "stdout",
     "output_type": "stream",
     "text": [
      "[]\n",
      "sense_intersect ['no_equality']\n",
      "journey путешествовать\n",
      "https://context.reverso.net/перевод/английский-французский/journey\n",
      "['voyage', 'chemin', 'trajet', 'périple', 'route', 'cheminement', 'aventure', 'itinéraire', 'parcourir', 'voyager', 'marche', 'journée', 'déplacement', 'retour', 'transport', 'course']\n",
      "https://context.reverso.net/перевод/русский-французский/путешествовать\n"
     ]
    },
    {
     "name": "stderr",
     "output_type": "stream",
     "text": [
      "\n",
      "\n",
      " 55%|█████▌    | 372/676 [31:23<24:45,  4.89s/it]\u001b[A\u001b[A"
     ]
    },
    {
     "name": "stdout",
     "output_type": "stream",
     "text": [
      "['voyager']\n",
      "sense_intersect ['voyager | voyage']\n",
      "you вы\n",
      "https://context.reverso.net/перевод/английский-французский/you\n",
      "['vous', 'tu', 't', 'te', 'toi', 'on', 'il', 'votre', 'je', 'ça', 'avez-vous', 'as-tu', 'ton', \"c'\", 'nous', 'toi tu', 'avez', 'une']\n",
      "https://context.reverso.net/перевод/русский-французский/вы\n"
     ]
    },
    {
     "name": "stderr",
     "output_type": "stream",
     "text": [
      "\n",
      "\n",
      " 55%|█████▌    | 373/676 [31:28<24:41,  4.89s/it]\u001b[A\u001b[A"
     ]
    },
    {
     "name": "stdout",
     "output_type": "stream",
     "text": [
      "['tu', 'avez-vous', 'on', 'votre', 'je', \"c'\", 'êtes-vous', 'il', 'ça', 'toi', \"t'\", 'êtes', 'avez', 'es-tu']\n",
      "sense_intersect ['tu', 'toi | toi tu', 'on', 'il', 'votre', 'je', 'ça', 'avez-vous | êtes-vous', \"c'\", 'avez', 'as-tu | es-tu']\n",
      "you ты\n",
      "https://context.reverso.net/перевод/английский-французский/you\n",
      "['vous', 'tu', 't', 'te', 'toi', 'on', 'il', 'votre', 'je', 'ça', 'avez-vous', 'as-tu', 'ton', \"c'\", 'nous', 'toi tu', 'avez', 'une']\n",
      "https://context.reverso.net/перевод/русский-французский/ты\n"
     ]
    },
    {
     "name": "stderr",
     "output_type": "stream",
     "text": [
      "\n",
      "\n",
      " 55%|█████▌    | 374/676 [31:33<24:35,  4.89s/it]\u001b[A\u001b[A"
     ]
    },
    {
     "name": "stdout",
     "output_type": "stream",
     "text": [
      "['tu', 'toi', 'je', \"c'\", 'on', \"t'es\", 'as-tu', 'te', 'ça', 'il', 'ton', 'es-tu', 'pas', 'votre', 'êtes-vous']\n",
      "sense_intersect ['tu', 'te', 'toi | toi tu', 'on', 'il', 'votre', 'je', 'ça', 'as-tu | es-tu', 'ton', \"c'\", 'avez-vous | êtes-vous']\n",
      "table таблица\n",
      "https://context.reverso.net/перевод/английский-французский/table\n",
      "['tableau', 'table', 'plateau', 'baby-foot', 'tablette', 'classement', 'déposer', 'présenter', 'phréatique', 'tablée', 'bureau', 'tableau1', 'ping-pong', 'billard']\n",
      "https://context.reverso.net/перевод/русский-французский/таблица\n"
     ]
    },
    {
     "name": "stderr",
     "output_type": "stream",
     "text": [
      "\n",
      "\n",
      " 55%|█████▌    | 375/676 [31:38<24:51,  4.96s/it]\u001b[A\u001b[A"
     ]
    },
    {
     "name": "stdout",
     "output_type": "stream",
     "text": [
      "['tableau', 'table']\n",
      "sense_intersect ['tableau | table | plateau | tableau1', 'table']\n",
      "table стол\n",
      "https://context.reverso.net/перевод/английский-французский/table\n",
      "['tableau', 'table', 'plateau', 'baby-foot', 'tablette', 'classement', 'déposer', 'présenter', 'phréatique', 'tablée', 'bureau', 'tableau1', 'ping-pong', 'billard']\n",
      "https://context.reverso.net/перевод/русский-французский/стол\n"
     ]
    },
    {
     "name": "stderr",
     "output_type": "stream",
     "text": [
      "\n",
      "\n",
      " 56%|█████▌    | 376/676 [31:43<25:35,  5.12s/it]\u001b[A\u001b[A"
     ]
    },
    {
     "name": "stdout",
     "output_type": "stream",
     "text": [
      "['table', 'bureau', 'buffet', 'manger']\n",
      "sense_intersect ['table | tableau | tablette | tableau1', 'bureau']\n",
      "table скрижаль\n",
      "https://context.reverso.net/перевод/английский-французский/table\n",
      "['tableau', 'table', 'plateau', 'baby-foot', 'tablette', 'classement', 'déposer', 'présenter', 'phréatique', 'tablée', 'bureau', 'tableau1', 'ping-pong', 'billard']\n",
      "https://context.reverso.net/перевод/русский-французский/скрижаль\n"
     ]
    },
    {
     "name": "stderr",
     "output_type": "stream",
     "text": [
      "\n",
      "\n",
      " 56%|█████▌    | 377/676 [31:48<25:08,  5.05s/it]\u001b[A\u001b[A"
     ]
    },
    {
     "name": "stdout",
     "output_type": "stream",
     "text": [
      "['tablette']\n",
      "sense_intersect ['tablette | table']\n",
      "table расписание\n",
      "https://context.reverso.net/перевод/английский-французский/table\n",
      "['tableau', 'table', 'plateau', 'baby-foot', 'tablette', 'classement', 'déposer', 'présenter', 'phréatique', 'tablée', 'bureau', 'tableau1', 'ping-pong', 'billard']\n",
      "https://context.reverso.net/перевод/русский-французский/расписание\n"
     ]
    },
    {
     "name": "stderr",
     "output_type": "stream",
     "text": [
      "\n",
      "\n",
      " 56%|█████▌    | 378/676 [31:53<24:46,  4.99s/it]\u001b[A\u001b[A"
     ]
    },
    {
     "name": "stdout",
     "output_type": "stream",
     "text": [
      "['calendrier', 'emploi du temps', 'planning', 'agenda', 'programme', 'horaire', 'effectif']\n",
      "sense_intersect ['ping-pong | planning']\n",
      "table табель\n",
      "https://context.reverso.net/перевод/английский-французский/table\n",
      "['tableau', 'table', 'plateau', 'baby-foot', 'tablette', 'classement', 'déposer', 'présenter', 'phréatique', 'tablée', 'bureau', 'tableau1', 'ping-pong', 'billard']\n",
      "https://context.reverso.net/перевод/русский-французский/табель\n",
      "turn to alternative marks\n"
     ]
    },
    {
     "name": "stderr",
     "output_type": "stream",
     "text": [
      "\n",
      "\n",
      " 56%|█████▌    | 379/676 [31:58<24:32,  4.96s/it]\u001b[A\u001b[A"
     ]
    },
    {
     "name": "stdout",
     "output_type": "stream",
     "text": [
      "['bulletin', 'relevé']\n",
      "sense_intersect ['no_equality']\n",
      "table столовая\n",
      "https://context.reverso.net/перевод/английский-французский/table\n",
      "['tableau', 'table', 'plateau', 'baby-foot', 'tablette', 'classement', 'déposer', 'présenter', 'phréatique', 'tablée', 'bureau', 'tableau1', 'ping-pong', 'billard']\n",
      "https://context.reverso.net/перевод/русский-французский/столовая\n"
     ]
    },
    {
     "name": "stderr",
     "output_type": "stream",
     "text": [
      "\n",
      "\n",
      " 56%|█████▌    | 380/676 [32:03<24:21,  4.94s/it]\u001b[A\u001b[A"
     ]
    },
    {
     "name": "stdout",
     "output_type": "stream",
     "text": [
      "['salle à manger']\n",
      "sense_intersect ['classement | salle à manger']\n",
      "table табличка\n",
      "https://context.reverso.net/перевод/английский-французский/table\n",
      "['tableau', 'table', 'plateau', 'baby-foot', 'tablette', 'classement', 'déposer', 'présenter', 'phréatique', 'tablée', 'bureau', 'tableau1', 'ping-pong', 'billard']\n",
      "https://context.reverso.net/перевод/русский-французский/табличка\n"
     ]
    },
    {
     "name": "stderr",
     "output_type": "stream",
     "text": [
      "\n",
      "\n",
      " 56%|█████▋    | 381/676 [32:08<24:41,  5.02s/it]\u001b[A\u001b[A"
     ]
    },
    {
     "name": "stdout",
     "output_type": "stream",
     "text": [
      "['panneau', 'pancarte']\n",
      "sense_intersect ['plateau | pancarte']\n",
      "table настольный\n",
      "https://context.reverso.net/перевод/английский-французский/table\n",
      "['tableau', 'table', 'plateau', 'baby-foot', 'tablette', 'classement', 'déposer', 'présenter', 'phréatique', 'tablée', 'bureau', 'tableau1', 'ping-pong', 'billard']\n",
      "https://context.reverso.net/перевод/русский-французский/настольный\n",
      "turn to alternative marks\n"
     ]
    },
    {
     "name": "stderr",
     "output_type": "stream",
     "text": [
      "\n",
      "\n",
      " 57%|█████▋    | 382/676 [32:15<27:08,  5.54s/it]\u001b[A\u001b[A"
     ]
    },
    {
     "name": "stdout",
     "output_type": "stream",
     "text": [
      "['ordinateur', 'foot']\n",
      "sense_intersect ['no_equality']\n",
      "table табличный\n",
      "https://context.reverso.net/перевод/английский-французский/table\n",
      "['tableau', 'table', 'plateau', 'baby-foot', 'tablette', 'classement', 'déposer', 'présenter', 'phréatique', 'tablée', 'bureau', 'tableau1', 'ping-pong', 'billard']\n",
      "https://context.reverso.net/перевод/русский-французский/табличный\n",
      "turn to alternative marks\n"
     ]
    },
    {
     "name": "stderr",
     "output_type": "stream",
     "text": [
      "\n",
      "\n",
      " 57%|█████▋    | 383/676 [32:20<26:05,  5.34s/it]\u001b[A\u001b[A"
     ]
    },
    {
     "name": "stdout",
     "output_type": "stream",
     "text": [
      "['tabulaire']\n",
      "sense_intersect ['tableau | tabulaire', 'table | tabulaire', 'plateau | tabulaire', 'bureau | tabulaire', 'tableau1 | tabulaire']\n",
      "table застольный\n",
      "https://context.reverso.net/перевод/английский-французский/table\n",
      "['tableau', 'table', 'plateau', 'baby-foot', 'tablette', 'classement', 'déposer', 'présenter', 'phréatique', 'tablée', 'bureau', 'tableau1', 'ping-pong', 'billard']\n",
      "https://context.reverso.net/перевод/русский-французский/застольный\n",
      "turn to alternative marks\n"
     ]
    },
    {
     "name": "stderr",
     "output_type": "stream",
     "text": [
      "\n",
      "\n",
      " 57%|█████▋    | 384/676 [32:25<25:44,  5.29s/it]\u001b[A\u001b[A"
     ]
    },
    {
     "name": "stdout",
     "output_type": "stream",
     "text": [
      "['ordinateur', 'foot']\n",
      "sense_intersect ['no_equality']\n",
      "table на стол\n",
      "https://context.reverso.net/перевод/английский-французский/table\n",
      "['tableau', 'table', 'plateau', 'baby-foot', 'tablette', 'classement', 'déposer', 'présenter', 'phréatique', 'tablée', 'bureau', 'tableau1', 'ping-pong', 'billard']\n",
      "https://context.reverso.net/перевод/русский-французский/на стол\n"
     ]
    },
    {
     "name": "stderr",
     "output_type": "stream",
     "text": [
      "\n",
      "\n",
      " 57%|█████▋    | 385/676 [32:30<25:18,  5.22s/it]\u001b[A\u001b[A"
     ]
    },
    {
     "name": "stdout",
     "output_type": "stream",
     "text": [
      "['sur la table', 'sur le bureau', 'sur mon bureau', 'sur table']\n",
      "sense_intersect ['tableau | sur la table | sur table', 'table | sur la table', 'plateau | sur la table', 'bureau | sur le bureau | sur mon bureau', 'tableau1 | sur la table']\n",
      "thing вещь\n",
      "https://context.reverso.net/перевод/английский-французский/thing\n",
      "['chose', 'tout', 'rien', 'histoire', 'fait', 'bien', 'affaire', 'problème', 'pareil', 'point', 'choix', 'machin', 'objet', 'créature', 'ça', 'important', 'article', 'thing']\n",
      "https://context.reverso.net/перевод/русский-французский/вещь\n"
     ]
    },
    {
     "name": "stderr",
     "output_type": "stream",
     "text": [
      "\n",
      "\n",
      " 57%|█████▋    | 386/676 [32:35<24:43,  5.12s/it]\u001b[A\u001b[A"
     ]
    },
    {
     "name": "stdout",
     "output_type": "stream",
     "text": [
      "['chose', 'truc', 'objet', 'important', 'ça', 'importante', 'bien', 'précieux', 'bizarre']\n",
      "sense_intersect ['chose', 'bien | rien', 'objet', 'ça', 'important | point | importante']\n",
      "thing дело\n",
      "https://context.reverso.net/перевод/английский-французский/thing\n",
      "['chose', 'tout', 'rien', 'histoire', 'fait', 'bien', 'affaire', 'problème', 'pareil', 'point', 'choix', 'machin', 'objet', 'créature', 'ça', 'important', 'article', 'thing']\n",
      "https://context.reverso.net/перевод/русский-французский/дело\n"
     ]
    },
    {
     "name": "stderr",
     "output_type": "stream",
     "text": [
      "\n",
      "\n",
      " 57%|█████▋    | 387/676 [32:40<24:23,  5.07s/it]\u001b[A\u001b[A"
     ]
    },
    {
     "name": "stdout",
     "output_type": "stream",
     "text": [
      "['affaire', 'dossier', 'problème', 'truc', 'cas', 'fait', 'chose', 'enquête', 'cause', 'question', 'travail', 'procès', 'action', 'oeuvre', 'matière', \"c'est\", 'ça']\n",
      "sense_intersect ['chose', 'fait', 'affaire', 'problème', 'ça', 'point | action', 'important | action', 'article | matière']\n",
      "thing предмет\n",
      "https://context.reverso.net/перевод/английский-французский/thing\n",
      "['chose', 'tout', 'rien', 'histoire', 'fait', 'bien', 'affaire', 'problème', 'pareil', 'point', 'choix', 'machin', 'objet', 'créature', 'ça', 'important', 'article', 'thing']\n",
      "https://context.reverso.net/перевод/русский-французский/предмет\n"
     ]
    },
    {
     "name": "stderr",
     "output_type": "stream",
     "text": [
      "\n",
      "\n",
      " 57%|█████▋    | 388/676 [32:45<25:04,  5.23s/it]\u001b[A\u001b[A"
     ]
    },
    {
     "name": "stdout",
     "output_type": "stream",
     "text": [
      "['objet', 'sujet', 'matière', 'cour', 'déterminer', 'vérifier', 'question', 'évaluer']\n",
      "sense_intersect ['objet', 'rien | déterminer', 'créature | déterminer', 'article | matière']\n",
      "thing событие\n",
      "https://context.reverso.net/перевод/английский-французский/thing\n",
      "['chose', 'tout', 'rien', 'histoire', 'fait', 'bien', 'affaire', 'problème', 'pareil', 'point', 'choix', 'machin', 'objet', 'créature', 'ça', 'important', 'article', 'thing']\n",
      "https://context.reverso.net/перевод/русский-французский/событие\n"
     ]
    },
    {
     "name": "stderr",
     "output_type": "stream",
     "text": [
      "\n",
      "\n",
      " 58%|█████▊    | 389/676 [32:50<24:28,  5.12s/it]\u001b[A\u001b[A"
     ]
    },
    {
     "name": "stdout",
     "output_type": "stream",
     "text": [
      "['événement', 'évolution', 'occasion', 'évènement', 'chose', 'important']\n",
      "sense_intersect ['chose', 'important | point']\n",
      "thing существо\n",
      "https://context.reverso.net/перевод/английский-французский/thing\n",
      "['chose', 'tout', 'rien', 'histoire', 'fait', 'bien', 'affaire', 'problème', 'pareil', 'point', 'choix', 'machin', 'objet', 'créature', 'ça', 'important', 'article', 'thing']\n",
      "https://context.reverso.net/перевод/русский-французский/существо\n"
     ]
    },
    {
     "name": "stderr",
     "output_type": "stream",
     "text": [
      "\n",
      "\n",
      " 58%|█████▊    | 390/676 [32:55<24:00,  5.04s/it]\u001b[A\u001b[A"
     ]
    },
    {
     "name": "stdout",
     "output_type": "stream",
     "text": [
      "['créature', 'être', 'entité', 'fond', 'cette chose', 'wesen']\n",
      "sense_intersect ['créature', 'chose | cette chose']\n",
      "thing штучка\n",
      "https://context.reverso.net/перевод/английский-французский/thing\n",
      "['chose', 'tout', 'rien', 'histoire', 'fait', 'bien', 'affaire', 'problème', 'pareil', 'point', 'choix', 'machin', 'objet', 'créature', 'ça', 'important', 'article', 'thing']\n",
      "https://context.reverso.net/перевод/русский-французский/штучка\n"
     ]
    },
    {
     "name": "stderr",
     "output_type": "stream",
     "text": [
      "\n",
      "\n",
      " 58%|█████▊    | 391/676 [33:00<23:42,  4.99s/it]\u001b[A\u001b[A"
     ]
    },
    {
     "name": "stdout",
     "output_type": "stream",
     "text": [
      "['chose', 'sexy', 'canon']\n",
      "sense_intersect ['chose']\n",
      "thing поступок\n",
      "https://context.reverso.net/перевод/английский-французский/thing\n",
      "['chose', 'tout', 'rien', 'histoire', 'fait', 'bien', 'affaire', 'problème', 'pareil', 'point', 'choix', 'machin', 'objet', 'créature', 'ça', 'important', 'article', 'thing']\n",
      "https://context.reverso.net/перевод/русский-французский/поступок\n"
     ]
    },
    {
     "name": "stderr",
     "output_type": "stream",
     "text": [
      "\n",
      "\n",
      " 58%|█████▊    | 392/676 [33:05<23:30,  4.97s/it]\u001b[A\u001b[A"
     ]
    },
    {
     "name": "stdout",
     "output_type": "stream",
     "text": [
      "['acte', 'geste', 'chose', 'courageux', 'action']\n",
      "sense_intersect ['chose', 'point | action', 'important | action']\n",
      "thing задача\n",
      "https://context.reverso.net/перевод/английский-французский/thing\n",
      "['chose', 'tout', 'rien', 'histoire', 'fait', 'bien', 'affaire', 'problème', 'pareil', 'point', 'choix', 'machin', 'objet', 'créature', 'ça', 'important', 'article', 'thing']\n",
      "https://context.reverso.net/перевод/русский-французский/задача\n"
     ]
    },
    {
     "name": "stderr",
     "output_type": "stream",
     "text": [
      "\n",
      "\n",
      " 58%|█████▊    | 393/676 [33:10<23:21,  4.95s/it]\u001b[A\u001b[A"
     ]
    },
    {
     "name": "stdout",
     "output_type": "stream",
     "text": [
      "['tâche', 'objectif', 'défi', 'mission', 'difficulté', 'but', 'problème', 'rôle', 'travail', 'enjeu', 'responsabilité', 'boulot', 'devoir', 'question', 'difficile']\n",
      "sense_intersect ['problème', 'histoire | responsabilité', 'objet | objectif', 'article | objectif']\n",
      "thing что-то\n",
      "https://context.reverso.net/перевод/английский-французский/thing\n",
      "['chose', 'tout', 'rien', 'histoire', 'fait', 'bien', 'affaire', 'problème', 'pareil', 'point', 'choix', 'machin', 'objet', 'créature', 'ça', 'important', 'article', 'thing']\n",
      "https://context.reverso.net/перевод/русский-французский/что-то\n"
     ]
    },
    {
     "name": "stderr",
     "output_type": "stream",
     "text": [
      "\n",
      "\n",
      " 58%|█████▊    | 394/676 [33:15<23:12,  4.94s/it]\u001b[A\u001b[A"
     ]
    },
    {
     "name": "stdout",
     "output_type": "stream",
     "text": [
      "['quelque chose', 'truc', 'ça', 'une', 'quoi', 'rien', 'peu', 'il y', 'soit', 'autre chose', 'je', 'faire', 'sorte', \"c'\", 'plus']\n",
      "sense_intersect ['rien | bien', 'ça', 'chose | autre chose', 'histoire | soit', 'affaire | faire', 'objet | autre chose']\n",
      "shampoo шампунь\n",
      "https://context.reverso.net/перевод/английский-французский/shampoo\n",
      "['shampooing', 'shampoing', 'laver', 'shampoo']\n",
      "https://context.reverso.net/перевод/русский-французский/шампунь\n"
     ]
    },
    {
     "name": "stderr",
     "output_type": "stream",
     "text": [
      "\n",
      "\n",
      " 58%|█████▊    | 395/676 [33:19<23:06,  4.93s/it]\u001b[A\u001b[A"
     ]
    },
    {
     "name": "stdout",
     "output_type": "stream",
     "text": [
      "['shampoing', 'shampooing']\n",
      "sense_intersect ['shampooing | shampoing | shampoo', 'shampoing']\n",
      "shampoo мытье головы\n",
      "https://context.reverso.net/перевод/английский-французский/shampoo\n",
      "['shampooing', 'shampoing', 'laver', 'shampoo']\n",
      "https://context.reverso.net/перевод/русский-французский/мытье головы\n"
     ]
    },
    {
     "name": "stderr",
     "output_type": "stream",
     "text": [
      "\n",
      "\n",
      " 59%|█████▊    | 396/676 [33:25<23:20,  5.00s/it]\u001b[A\u001b[A"
     ]
    },
    {
     "name": "stdout",
     "output_type": "stream",
     "text": [
      "['laver', 'lavage', 'tête', 'crânien', 'esprit', 'crâne', 'cheveux']\n",
      "sense_intersect ['laver | lavage']\n",
      "shampoo мыть\n",
      "https://context.reverso.net/перевод/английский-французский/shampoo\n",
      "['shampooing', 'shampoing', 'laver', 'shampoo']\n",
      "https://context.reverso.net/перевод/русский-французский/мыть\n"
     ]
    },
    {
     "name": "stderr",
     "output_type": "stream",
     "text": [
      "\n",
      "\n",
      " 59%|█████▊    | 397/676 [33:30<23:09,  4.98s/it]\u001b[A\u001b[A"
     ]
    },
    {
     "name": "stdout",
     "output_type": "stream",
     "text": [
      "['laver', 'nettoyer']\n",
      "sense_intersect ['laver']\n",
      "come приходить\n",
      "https://context.reverso.net/перевод/английский-французский/come\n",
      "['venir', 'arriver', 'aller', 'provenir', 'faire', 'passer', 'rentrer', 'jouir', 'devenir', 'se présenter', \"s'approcher\", 'pourquoi', 'entrent', 'ça', 'entrée', 'approche']\n",
      "https://context.reverso.net/перевод/русский-французский/приходить\n"
     ]
    },
    {
     "name": "stderr",
     "output_type": "stream",
     "text": [
      "\n",
      "\n",
      " 59%|█████▉    | 398/676 [33:34<23:00,  4.97s/it]\u001b[A\u001b[A"
     ]
    },
    {
     "name": "stdout",
     "output_type": "stream",
     "text": [
      "['venir', 'revenir', 'rentrer', 'arriver', 'passer', 'aller']\n",
      "sense_intersect ['venir | revenir | arriver | provenir | devenir', 'arriver', 'aller', 'passer', 'rentrer | entrent']\n",
      "come приезжать\n",
      "https://context.reverso.net/перевод/английский-французский/come\n",
      "['venir', 'arriver', 'aller', 'provenir', 'faire', 'passer', 'rentrer', 'jouir', 'devenir', 'se présenter', \"s'approcher\", 'pourquoi', 'entrent', 'ça', 'entrée', 'approche']\n",
      "https://context.reverso.net/перевод/русский-французский/приезжать\n"
     ]
    },
    {
     "name": "stderr",
     "output_type": "stream",
     "text": [
      "\n",
      "\n",
      " 59%|█████▉    | 399/676 [33:39<22:50,  4.95s/it]\u001b[A\u001b[A"
     ]
    },
    {
     "name": "stdout",
     "output_type": "stream",
     "text": [
      "['venir']\n",
      "sense_intersect ['venir | arriver | provenir | devenir']\n",
      "come вступать\n",
      "https://context.reverso.net/перевод/английский-французский/come\n",
      "['venir', 'arriver', 'aller', 'provenir', 'faire', 'passer', 'rentrer', 'jouir', 'devenir', 'se présenter', \"s'approcher\", 'pourquoi', 'entrent', 'ça', 'entrée', 'approche']\n",
      "https://context.reverso.net/перевод/русский-французский/вступать\n"
     ]
    },
    {
     "name": "stderr",
     "output_type": "stream",
     "text": [
      "\n",
      "\n",
      " 59%|█████▉    | 400/676 [33:44<22:44,  4.94s/it]\u001b[A\u001b[A"
     ]
    },
    {
     "name": "stdout",
     "output_type": "stream",
     "text": [
      "['adhérer']\n",
      "sense_intersect ['no_equality']\n",
      "come появиться\n",
      "https://context.reverso.net/перевод/английский-французский/come\n",
      "['venir', 'arriver', 'aller', 'provenir', 'faire', 'passer', 'rentrer', 'jouir', 'devenir', 'se présenter', \"s'approcher\", 'pourquoi', 'entrent', 'ça', 'entrée', 'approche']\n",
      "https://context.reverso.net/перевод/русский-французский/появиться\n"
     ]
    },
    {
     "name": "stderr",
     "output_type": "stream",
     "text": [
      "\n",
      "\n",
      " 59%|█████▉    | 401/676 [33:50<24:07,  5.26s/it]\u001b[A\u001b[A"
     ]
    },
    {
     "name": "stdout",
     "output_type": "stream",
     "text": [
      "['venir', 'apparaître', 'arriver', 'se montrer', 'avoir']\n",
      "sense_intersect ['venir | arriver | provenir | devenir', 'arriver', 'rentrer | se montrer', 'se présenter | se montrer', 'entrent | se montrer']\n",
      "come поставляться\n",
      "https://context.reverso.net/перевод/английский-французский/come\n",
      "['venir', 'arriver', 'aller', 'provenir', 'faire', 'passer', 'rentrer', 'jouir', 'devenir', 'se présenter', \"s'approcher\", 'pourquoi', 'entrent', 'ça', 'entrée', 'approche']\n",
      "https://context.reverso.net/перевод/русский-французский/поставляться\n",
      "turn to alternative marks\n"
     ]
    },
    {
     "name": "stderr",
     "output_type": "stream",
     "text": [
      "\n",
      "\n",
      " 59%|█████▉    | 402/676 [33:55<23:30,  5.15s/it]\u001b[A\u001b[A"
     ]
    },
    {
     "name": "stdout",
     "output_type": "stream",
     "text": [
      "['être fourni', 'être fournies']\n",
      "sense_intersect ['provenir | être fourni | être fournies', 'rentrer | être fourni']\n",
      "come поступать\n",
      "https://context.reverso.net/перевод/английский-французский/come\n",
      "['venir', 'arriver', 'aller', 'provenir', 'faire', 'passer', 'rentrer', 'jouir', 'devenir', 'se présenter', \"s'approcher\", 'pourquoi', 'entrent', 'ça', 'entrée', 'approche']\n",
      "https://context.reverso.net/перевод/русский-французский/поступать\n"
     ]
    },
    {
     "name": "stderr",
     "output_type": "stream",
     "text": [
      "\n",
      "\n",
      " 60%|█████▉    | 403/676 [34:00<22:58,  5.05s/it]\u001b[A\u001b[A"
     ]
    },
    {
     "name": "stdout",
     "output_type": "stream",
     "text": [
      "['agir', 'provenir', 'recevoir', 'arriver', 'faire ça', 'aller', 'traiter']\n",
      "sense_intersect ['arriver | provenir | recevoir', 'aller', 'provenir | venir', 'faire | faire ça']\n",
      "come исходить\n",
      "https://context.reverso.net/перевод/английский-французский/come\n",
      "['venir', 'arriver', 'aller', 'provenir', 'faire', 'passer', 'rentrer', 'jouir', 'devenir', 'se présenter', \"s'approcher\", 'pourquoi', 'entrent', 'ça', 'entrée', 'approche']\n",
      "https://context.reverso.net/перевод/русский-французский/исходить\n"
     ]
    },
    {
     "name": "stderr",
     "output_type": "stream",
     "text": [
      "\n",
      "\n",
      " 60%|█████▉    | 404/676 [34:05<22:40,  5.00s/it]\u001b[A\u001b[A"
     ]
    },
    {
     "name": "stdout",
     "output_type": "stream",
     "text": [
      "['venir', 'partir']\n",
      "sense_intersect ['venir | arriver | provenir | devenir']\n",
      "come попасть\n",
      "https://context.reverso.net/перевод/английский-французский/come\n",
      "['venir', 'arriver', 'aller', 'provenir', 'faire', 'passer', 'rentrer', 'jouir', 'devenir', 'se présenter', \"s'approcher\", 'pourquoi', 'entrent', 'ça', 'entrée', 'approche']\n",
      "https://context.reverso.net/перевод/русский-французский/попасть\n"
     ]
    },
    {
     "name": "stderr",
     "output_type": "stream",
     "text": [
      "\n",
      "\n",
      " 60%|█████▉    | 405/676 [34:10<22:23,  4.96s/it]\u001b[A\u001b[A"
     ]
    },
    {
     "name": "stdout",
     "output_type": "stream",
     "text": [
      "['aller', 'entrer', 'rentrer', 'arriver', 'venir', 'tomber', 'atteindre', 'passer', 'accéder', 'monter', 'se rendre', 'retourner', 'rejoindre', 'toucher', 'pénétrer']\n",
      "sense_intersect ['venir | arriver | provenir | devenir', 'arriver', 'aller', 'passer', 'rentrer | entrer | atteindre | monter | se rendre | retourner | rejoindre | entrent', 'entrée | pénétrer']\n",
      "come давай\n",
      "https://context.reverso.net/перевод/английский-французский/come\n",
      "['venir', 'arriver', 'aller', 'provenir', 'faire', 'passer', 'rentrer', 'jouir', 'devenir', 'se présenter', \"s'approcher\", 'pourquoi', 'entrent', 'ça', 'entrée', 'approche']\n",
      "https://context.reverso.net/перевод/русский-французский/давай\n"
     ]
    },
    {
     "name": "stderr",
     "output_type": "stream",
     "text": [
      "\n",
      "\n",
      " 60%|██████    | 406/676 [34:15<22:13,  4.94s/it]\u001b[A\u001b[A"
     ]
    },
    {
     "name": "stdout",
     "output_type": "stream",
     "text": [
      "['vas-y', 'allons-y', 'alors', 'pourquoi', 'allez-y', 'vite', 'bon', 'aller', 'allez', 'allons', 'viens', 'voyons', 'laisse-moi', 'laisse', 'accord']\n",
      "sense_intersect ['aller | allez', 'pourquoi | jouir', 'venir | viens']\n",
      "grandchild внук\n",
      "https://context.reverso.net/перевод/английский-французский/grandchild\n",
      "['petit-fils', 'petit-enfant', 'petite-fille', 'petit-enfant', 'petit enfant', 'petit fils']\n",
      "https://context.reverso.net/перевод/русский-французский/внук\n"
     ]
    },
    {
     "name": "stderr",
     "output_type": "stream",
     "text": [
      "\n",
      "\n",
      " 60%|██████    | 407/676 [34:20<22:07,  4.93s/it]\u001b[A\u001b[A"
     ]
    },
    {
     "name": "stdout",
     "output_type": "stream",
     "text": [
      "['petit-fils', 'petit fils']\n",
      "sense_intersect ['petit-fils | petit fils | petit-enfant | petite-fille | petit enfant', 'petit fils']\n",
      "point точка\n",
      "https://context.reverso.net/перевод/английский-французский/point\n",
      "['point', 'moment', 'stade', 'question', 'pointe', 'fait', 'but', 'sujet', 'pointer', 'indiquer', 'montrer', 'diriger', 'accuser', 'intérêt', 'lieu', 'endroit', 'raison', 'argument', 'sens', 'virgule']\n",
      "https://context.reverso.net/перевод/русский-французский/точка\n"
     ]
    },
    {
     "name": "stderr",
     "output_type": "stream",
     "text": [
      "\n",
      "\n",
      " 60%|██████    | 408/676 [34:26<23:37,  5.29s/it]\u001b[A\u001b[A"
     ]
    },
    {
     "name": "stdout",
     "output_type": "stream",
     "text": [
      "['point', \"c'est tout\", 'départ']\n",
      "sense_intersect ['point | pointe | pointer']\n",
      "point очко\n",
      "https://context.reverso.net/перевод/английский-французский/point\n",
      "['point', 'moment', 'stade', 'question', 'pointe', 'fait', 'but', 'sujet', 'pointer', 'indiquer', 'montrer', 'diriger', 'accuser', 'intérêt', 'lieu', 'endroit', 'raison', 'argument', 'sens', 'virgule']\n",
      "https://context.reverso.net/перевод/русский-французский/очко\n"
     ]
    },
    {
     "name": "stderr",
     "output_type": "stream",
     "text": [
      "\n",
      "\n",
      " 61%|██████    | 409/676 [34:31<23:20,  5.25s/it]\u001b[A\u001b[A"
     ]
    },
    {
     "name": "stdout",
     "output_type": "stream",
     "text": [
      "['point']\n",
      "sense_intersect ['point | pointe | pointer']\n",
      "point место\n",
      "https://context.reverso.net/перевод/английский-французский/point\n",
      "['point', 'moment', 'stade', 'question', 'pointe', 'fait', 'but', 'sujet', 'pointer', 'indiquer', 'montrer', 'diriger', 'accuser', 'intérêt', 'lieu', 'endroit', 'raison', 'argument', 'sens', 'virgule']\n",
      "https://context.reverso.net/перевод/русский-французский/место\n"
     ]
    },
    {
     "name": "stderr",
     "output_type": "stream",
     "text": [
      "\n",
      "\n",
      " 61%|██████    | 410/676 [34:36<22:50,  5.15s/it]\u001b[A\u001b[A"
     ]
    },
    {
     "name": "stdout",
     "output_type": "stream",
     "text": [
      "['endroit', 'place', 'lieu', 'siège', 'poste', 'rang', 'cas', 'emplacement', 'site', 'présidence', 'position', 'centre', 'espace', 'rôle', 'maison', 'emploi', 'salle', 'colis']\n",
      "sense_intersect ['lieu | virgule', 'endroit | question | pointe | pointer | indiquer | montrer | centre', 'point | position', 'raison | maison']\n",
      "point вопрос\n",
      "https://context.reverso.net/перевод/английский-французский/point\n",
      "['point', 'moment', 'stade', 'question', 'pointe', 'fait', 'but', 'sujet', 'pointer', 'indiquer', 'montrer', 'diriger', 'accuser', 'intérêt', 'lieu', 'endroit', 'raison', 'argument', 'sens', 'virgule']\n",
      "https://context.reverso.net/перевод/русский-французский/вопрос\n"
     ]
    },
    {
     "name": "stderr",
     "output_type": "stream",
     "text": [
      "\n",
      "\n",
      " 61%|██████    | 411/676 [34:41<22:33,  5.11s/it]\u001b[A\u001b[A"
     ]
    },
    {
     "name": "stdout",
     "output_type": "stream",
     "text": [
      "['question', 'problème', 'demande', 'point', 'sujet', 'savoir', 'réponse', 'affaire', 'posée', 'débat', 'thème', 'chose', 'aspect', 'doute', 'interrogation', 'agit']\n",
      "sense_intersect ['point | interrogation', 'question | pointe | pointer | indiquer | endroit', 'sujet', 'montrer | problème', 'raison | savoir']\n",
      "point пойнт\n",
      "https://context.reverso.net/перевод/английский-французский/point\n",
      "['point', 'moment', 'stade', 'question', 'pointe', 'fait', 'but', 'sujet', 'pointer', 'indiquer', 'montrer', 'diriger', 'accuser', 'intérêt', 'lieu', 'endroit', 'raison', 'argument', 'sens', 'virgule']\n",
      "https://context.reverso.net/перевод/русский-французский/пойнт\n"
     ]
    },
    {
     "name": "stderr",
     "output_type": "stream",
     "text": [
      "\n",
      "\n",
      " 61%|██████    | 412/676 [34:46<22:12,  5.05s/it]\u001b[A\u001b[A"
     ]
    },
    {
     "name": "stdout",
     "output_type": "stream",
     "text": [
      "['point']\n",
      "sense_intersect ['point | pointe | pointer']\n",
      "point смысл\n",
      "https://context.reverso.net/перевод/английский-французский/point\n",
      "['point', 'moment', 'stade', 'question', 'pointe', 'fait', 'but', 'sujet', 'pointer', 'indiquer', 'montrer', 'diriger', 'accuser', 'intérêt', 'lieu', 'endroit', 'raison', 'argument', 'sens', 'virgule']\n",
      "https://context.reverso.net/перевод/русский-французский/смысл\n"
     ]
    },
    {
     "name": "stderr",
     "output_type": "stream",
     "text": [
      "\n",
      "\n",
      " 61%|██████    | 413/676 [34:51<22:40,  5.17s/it]\u001b[A\u001b[A"
     ]
    },
    {
     "name": "stdout",
     "output_type": "stream",
     "text": [
      "['sens', 'but', 'raison', 'intérêt', 'logique', 'signification', 'idée', 'pourquoi', 'message', 'point', 'truc', 'utile', 'quoi bon', 'ça sert']\n",
      "sense_intersect ['point', 'but', 'intérêt', 'raison', 'sens', 'question | logique | pourquoi | quoi bon', 'pointe | signification | point', 'pointer | signification', 'indiquer | logique | signification', 'lieu | utile', 'virgule | logique']\n",
      "point этап\n",
      "https://context.reverso.net/перевод/английский-французский/point\n",
      "['point', 'moment', 'stade', 'question', 'pointe', 'fait', 'but', 'sujet', 'pointer', 'indiquer', 'montrer', 'diriger', 'accuser', 'intérêt', 'lieu', 'endroit', 'raison', 'argument', 'sens', 'virgule']\n",
      "https://context.reverso.net/перевод/русский-французский/этап\n"
     ]
    },
    {
     "name": "stderr",
     "output_type": "stream",
     "text": [
      "\n",
      "\n",
      " 61%|██████    | 414/676 [34:56<22:41,  5.20s/it]\u001b[A\u001b[A"
     ]
    },
    {
     "name": "stdout",
     "output_type": "stream",
     "text": [
      "['phase', 'étape', 'stade', 'période', 'cycle', 'débat', 'partie', 'moment', 'tournant']\n",
      "sense_intersect ['moment | montrer', 'stade', 'pointer | partie']\n",
      "point точка зрения\n",
      "https://context.reverso.net/перевод/английский-французский/point\n",
      "['point', 'moment', 'stade', 'question', 'pointe', 'fait', 'but', 'sujet', 'pointer', 'indiquer', 'montrer', 'diriger', 'accuser', 'intérêt', 'lieu', 'endroit', 'raison', 'argument', 'sens', 'virgule']\n",
      "https://context.reverso.net/перевод/русский-французский/точка зрения\n"
     ]
    },
    {
     "name": "stderr",
     "output_type": "stream",
     "text": [
      "\n",
      "\n",
      " 61%|██████▏   | 415/676 [35:01<22:23,  5.15s/it]\u001b[A\u001b[A"
     ]
    },
    {
     "name": "stdout",
     "output_type": "stream",
     "text": [
      "['point de vue', 'avis', 'opinion', 'estimé']\n",
      "sense_intersect ['point | opinion', 'question | point de vue', 'pointe | point de vue | opinion', 'pointer | point de vue', 'indiquer | point de vue', 'endroit | point de vue']\n",
      "point указывать\n",
      "https://context.reverso.net/перевод/английский-французский/point\n",
      "['point', 'moment', 'stade', 'question', 'pointe', 'fait', 'but', 'sujet', 'pointer', 'indiquer', 'montrer', 'diriger', 'accuser', 'intérêt', 'lieu', 'endroit', 'raison', 'argument', 'sens', 'virgule']\n",
      "https://context.reverso.net/перевод/русский-французский/указывать\n"
     ]
    },
    {
     "name": "stderr",
     "output_type": "stream",
     "text": [
      "\n",
      "\n",
      " 62%|██████▏   | 416/676 [35:06<22:00,  5.08s/it]\u001b[A\u001b[A"
     ]
    },
    {
     "name": "stdout",
     "output_type": "stream",
     "text": [
      "['indiquer', 'dire', 'préciser', 'spécifier', 'mentionner']\n",
      "sense_intersect ['indiquer | question | dire | diriger | endroit', 'moment | mentionner', 'pointe | mentionner', 'pointer | mentionner', 'montrer | mentionner']\n",
      "point дело\n",
      "https://context.reverso.net/перевод/английский-французский/point\n",
      "['point', 'moment', 'stade', 'question', 'pointe', 'fait', 'but', 'sujet', 'pointer', 'indiquer', 'montrer', 'diriger', 'accuser', 'intérêt', 'lieu', 'endroit', 'raison', 'argument', 'sens', 'virgule']\n",
      "https://context.reverso.net/перевод/русский-французский/дело\n"
     ]
    },
    {
     "name": "stderr",
     "output_type": "stream",
     "text": [
      "\n",
      "\n",
      " 62%|██████▏   | 417/676 [35:12<22:16,  5.16s/it]\u001b[A\u001b[A"
     ]
    },
    {
     "name": "stdout",
     "output_type": "stream",
     "text": [
      "['affaire', 'dossier', 'problème', 'truc', 'cas', 'fait', 'chose', 'enquête', 'cause', 'question', 'travail', 'procès', 'action', 'oeuvre', 'matière', \"c'est\", 'ça']\n",
      "sense_intersect ['question | enquête | pointe | pointer | indiquer | endroit', 'fait', 'point | action', 'montrer | problème', 'accuser | cause']\n",
      "point отмечать\n",
      "https://context.reverso.net/перевод/английский-французский/point\n",
      "['point', 'moment', 'stade', 'question', 'pointe', 'fait', 'but', 'sujet', 'pointer', 'indiquer', 'montrer', 'diriger', 'accuser', 'intérêt', 'lieu', 'endroit', 'raison', 'argument', 'sens', 'virgule']\n",
      "https://context.reverso.net/перевод/русский-французский/отмечать\n"
     ]
    },
    {
     "name": "stderr",
     "output_type": "stream",
     "text": [
      "\n",
      "\n",
      " 62%|██████▏   | 418/676 [35:17<21:59,  5.12s/it]\u001b[A\u001b[A"
     ]
    },
    {
     "name": "stdout",
     "output_type": "stream",
     "text": [
      "['célébrer', 'fêter', 'constater', 'noter']\n",
      "sense_intersect ['question | noter', 'pointe | noter', 'pointer | noter', 'montrer | constater | noter', 'endroit | constater']\n",
      "point показать\n",
      "https://context.reverso.net/перевод/английский-французский/point\n",
      "['point', 'moment', 'stade', 'question', 'pointe', 'fait', 'but', 'sujet', 'pointer', 'indiquer', 'montrer', 'diriger', 'accuser', 'intérêt', 'lieu', 'endroit', 'raison', 'argument', 'sens', 'virgule']\n",
      "https://context.reverso.net/перевод/русский-французский/показать\n"
     ]
    },
    {
     "name": "stderr",
     "output_type": "stream",
     "text": [
      "\n",
      "\n",
      " 62%|██████▏   | 419/676 [35:22<22:17,  5.21s/it]\u001b[A\u001b[A"
     ]
    },
    {
     "name": "stdout",
     "output_type": "stream",
     "text": [
      "['montrer', 'voir', 'montrer à', 'prouver', 'afficher', 'démontrer', 'donner', 'faire visiter', 'indiquer', 'présenter', 'révéler', 'emmener', 'illustrer', 'monter']\n",
      "sense_intersect ['indiquer | question | faire visiter | diriger', 'montrer | moment | pointer | montrer à | démontrer | monter | endroit | argument', 'virgule | prouver | illustrer']\n",
      "point подчеркивать\n",
      "https://context.reverso.net/перевод/английский-французский/point\n",
      "['point', 'moment', 'stade', 'question', 'pointe', 'fait', 'but', 'sujet', 'pointer', 'indiquer', 'montrer', 'diriger', 'accuser', 'intérêt', 'lieu', 'endroit', 'raison', 'argument', 'sens', 'virgule']\n",
      "https://context.reverso.net/перевод/русский-французский/подчеркивать\n"
     ]
    },
    {
     "name": "stderr",
     "output_type": "stream",
     "text": [
      "\n",
      "\n",
      " 62%|██████▏   | 420/676 [35:27<21:53,  5.13s/it]\u001b[A\u001b[A"
     ]
    },
    {
     "name": "stdout",
     "output_type": "stream",
     "text": [
      "['souligner', 'insister sur']\n",
      "sense_intersect ['question | souligner', 'indiquer | souligner', 'endroit | souligner', 'virgule | souligner']\n",
      "point навести\n",
      "https://context.reverso.net/перевод/английский-французский/point\n",
      "['point', 'moment', 'stade', 'question', 'pointe', 'fait', 'but', 'sujet', 'pointer', 'indiquer', 'montrer', 'diriger', 'accuser', 'intérêt', 'lieu', 'endroit', 'raison', 'argument', 'sens', 'virgule']\n",
      "https://context.reverso.net/перевод/русский-французский/навести\n",
      "turn to alternative marks\n"
     ]
    },
    {
     "name": "stderr",
     "output_type": "stream",
     "text": [
      "\n",
      "\n",
      " 62%|██████▏   | 421/676 [35:32<21:34,  5.07s/it]\u001b[A\u001b[A"
     ]
    },
    {
     "name": "stdout",
     "output_type": "stream",
     "text": [
      "['nettoyer', 'verrouillez', 'va voir', 'pointer', 'rendre visite']\n",
      "sense_intersect ['pointer | point | question | pointe | nettoyer | rendre visite | montrer | endroit', 'lieu | verrouillez', 'virgule | verrouillez']\n",
      "point точечный\n",
      "https://context.reverso.net/перевод/английский-французский/point\n",
      "['point', 'moment', 'stade', 'question', 'pointe', 'fait', 'but', 'sujet', 'pointer', 'indiquer', 'montrer', 'diriger', 'accuser', 'intérêt', 'lieu', 'endroit', 'raison', 'argument', 'sens', 'virgule']\n",
      "https://context.reverso.net/перевод/русский-французский/точечный\n",
      "turn to alternative marks\n"
     ]
    },
    {
     "name": "stderr",
     "output_type": "stream",
     "text": [
      "\n",
      "\n",
      " 62%|██████▏   | 422/676 [35:37<21:12,  5.01s/it]\u001b[A\u001b[A"
     ]
    },
    {
     "name": "stdout",
     "output_type": "stream",
     "text": [
      "['une frappe chirurgicale']\n",
      "sense_intersect ['pointer | une frappe chirurgicale', 'indiquer | une frappe chirurgicale', 'endroit | une frappe chirurgicale', 'argument | une frappe chirurgicale', 'virgule | une frappe chirurgicale']\n",
      "lie лежать\n",
      "https://context.reverso.net/перевод/английский-французский/lie\n",
      "['mentir', 'résider', 'rester', 'être', 'se trouver', \"s'allonger\", 'se situer', 'trouver', 'mensonge', 'menteur', 'se trouvent', 'se situent', 'coucher', 'reposent', 'faux', 'lie']\n",
      "https://context.reverso.net/перевод/русский-французский/лежать\n"
     ]
    },
    {
     "name": "stderr",
     "output_type": "stream",
     "text": [
      "\n",
      "\n",
      " 63%|██████▎   | 423/676 [35:42<20:57,  4.97s/it]\u001b[A\u001b[A"
     ]
    },
    {
     "name": "stdout",
     "output_type": "stream",
     "text": [
      "['être', 'rester', 'reposer sur']\n",
      "sense_intersect ['rester | être | reposer sur | se trouver | se situer | se trouvent | reposent', 'être']\n",
      "lie находиться\n",
      "https://context.reverso.net/перевод/английский-французский/lie\n",
      "['mentir', 'résider', 'rester', 'être', 'se trouver', \"s'allonger\", 'se situer', 'trouver', 'mensonge', 'menteur', 'se trouvent', 'se situent', 'coucher', 'reposent', 'faux', 'lie']\n",
      "https://context.reverso.net/перевод/русский-французский/находиться\n"
     ]
    },
    {
     "name": "stderr",
     "output_type": "stream",
     "text": [
      "\n",
      "\n",
      " 63%|██████▎   | 424/676 [35:47<21:09,  5.04s/it]\u001b[A\u001b[A"
     ]
    },
    {
     "name": "stdout",
     "output_type": "stream",
     "text": [
      "['rester', 'se trouver', 'séjourner', 'saisi', 'avoir']\n",
      "sense_intersect ['rester | se trouver | être | se situer | se trouvent | reposent', 'se trouver']\n",
      "lie лгать\n",
      "https://context.reverso.net/перевод/английский-французский/lie\n",
      "['mentir', 'résider', 'rester', 'être', 'se trouver', \"s'allonger\", 'se situer', 'trouver', 'mensonge', 'menteur', 'se trouvent', 'se situent', 'coucher', 'reposent', 'faux', 'lie']\n",
      "https://context.reverso.net/перевод/русский-французский/лгать\n"
     ]
    },
    {
     "name": "stderr",
     "output_type": "stream",
     "text": [
      "\n",
      "\n",
      " 63%|██████▎   | 425/676 [35:52<20:46,  4.97s/it]\u001b[A\u001b[A"
     ]
    },
    {
     "name": "stdout",
     "output_type": "stream",
     "text": [
      "['mentir', 'mensonge']\n",
      "sense_intersect ['mentir | menteur | se trouvent', 'mensonge | reposent']\n",
      "lie крыться\n",
      "https://context.reverso.net/перевод/английский-французский/lie\n",
      "['mentir', 'résider', 'rester', 'être', 'se trouver', \"s'allonger\", 'se situer', 'trouver', 'mensonge', 'menteur', 'se trouvent', 'se situent', 'coucher', 'reposent', 'faux', 'lie']\n",
      "https://context.reverso.net/перевод/русский-французский/крыться\n",
      "turn to alternative marks\n"
     ]
    },
    {
     "name": "stderr",
     "output_type": "stream",
     "text": [
      "\n",
      "\n",
      " 63%|██████▎   | 426/676 [35:57<21:29,  5.16s/it]\u001b[A\u001b[A"
     ]
    },
    {
     "name": "stdout",
     "output_type": "stream",
     "text": [
      "[]\n",
      "sense_intersect ['no_equality']\n",
      "lie пролегать\n",
      "https://context.reverso.net/перевод/английский-французский/lie\n",
      "['mentir', 'résider', 'rester', 'être', 'se trouver', \"s'allonger\", 'se situer', 'trouver', 'mensonge', 'menteur', 'se trouvent', 'se situent', 'coucher', 'reposent', 'faux', 'lie']\n",
      "https://context.reverso.net/перевод/русский-французский/пролегать\n",
      "turn to alternative marks\n"
     ]
    },
    {
     "name": "stderr",
     "output_type": "stream",
     "text": [
      "\n",
      "\n",
      " 63%|██████▎   | 427/676 [36:02<21:05,  5.08s/it]\u001b[A\u001b[A"
     ]
    },
    {
     "name": "stdout",
     "output_type": "stream",
     "text": [
      "['passer']\n",
      "sense_intersect ['no_equality']\n",
      "lie залегать\n",
      "https://context.reverso.net/перевод/английский-французский/lie\n",
      "['mentir', 'résider', 'rester', 'être', 'se trouver', \"s'allonger\", 'se situer', 'trouver', 'mensonge', 'menteur', 'se trouvent', 'se situent', 'coucher', 'reposent', 'faux', 'lie']\n",
      "https://context.reverso.net/перевод/русский-французский/залегать\n",
      "turn to alternative marks\n"
     ]
    },
    {
     "name": "stderr",
     "output_type": "stream",
     "text": [
      "\n",
      "\n",
      " 63%|██████▎   | 428/676 [36:07<20:57,  5.07s/it]\u001b[A\u001b[A"
     ]
    },
    {
     "name": "stdout",
     "output_type": "stream",
     "text": [
      "['avançons', 'précipitons', 'conclusions hâtives']\n",
      "sense_intersect ['se trouvent | conclusions hâtives']\n",
      "lie ложь\n",
      "https://context.reverso.net/перевод/английский-французский/lie\n",
      "['mentir', 'résider', 'rester', 'être', 'se trouver', \"s'allonger\", 'se situer', 'trouver', 'mensonge', 'menteur', 'se trouvent', 'se situent', 'coucher', 'reposent', 'faux', 'lie']\n",
      "https://context.reverso.net/перевод/русский-французский/ложь\n"
     ]
    },
    {
     "name": "stderr",
     "output_type": "stream",
     "text": [
      "\n",
      "\n",
      " 63%|██████▎   | 429/676 [36:12<20:35,  5.00s/it]\u001b[A\u001b[A"
     ]
    },
    {
     "name": "stdout",
     "output_type": "stream",
     "text": [
      "['mensonge', 'faux', 'ment', 'pas vrai', 'mentir']\n",
      "sense_intersect ['mentir | ment | menteur | se trouvent', 'mensonge | reposent', 'faux']\n",
      "lie лиев\n",
      "https://context.reverso.net/перевод/английский-французский/lie\n",
      "['mentir', 'résider', 'rester', 'être', 'se trouver', \"s'allonger\", 'se situer', 'trouver', 'mensonge', 'menteur', 'se trouvent', 'se situent', 'coucher', 'reposent', 'faux', 'lie']\n",
      "https://context.reverso.net/перевод/русский-французский/лиев\n",
      "turn to alternative marks\n"
     ]
    },
    {
     "name": "stderr",
     "output_type": "stream",
     "text": [
      "\n",
      "\n",
      " 64%|██████▎   | 430/676 [36:17<20:21,  4.97s/it]\u001b[A\u001b[A"
     ]
    },
    {
     "name": "stdout",
     "output_type": "stream",
     "text": [
      "[]\n",
      "sense_intersect ['no_equality']\n",
      "curriculum учебный план\n",
      "https://context.reverso.net/перевод/английский-французский/curriculum\n",
      "['programme', 'curriculum', \"programme d'études\", 'cursus', 'enseignement', 'cour', \"programme d'étude\", 'scolaire', 'programmes scolaires', 'pédagogique', 'cv', 'contenu', 'éducation', 'programme-cadre']\n",
      "https://context.reverso.net/перевод/русский-французский/учебный план\n"
     ]
    },
    {
     "name": "stderr",
     "output_type": "stream",
     "text": [
      "\n",
      "\n",
      " 64%|██████▍   | 431/676 [36:23<21:24,  5.24s/it]\u001b[A\u001b[A"
     ]
    },
    {
     "name": "stdout",
     "output_type": "stream",
     "text": [
      "['programme']\n",
      "sense_intersect [\"programme | programme d'études | programme d'étude | programmes scolaires | programme-cadre\"]\n",
      "curriculum курс обучения\n",
      "https://context.reverso.net/перевод/английский-французский/curriculum\n",
      "['programme', 'curriculum', \"programme d'études\", 'cursus', 'enseignement', 'cour', \"programme d'étude\", 'scolaire', 'programmes scolaires', 'pédagogique', 'cv', 'contenu', 'éducation', 'programme-cadre']\n",
      "https://context.reverso.net/перевод/русский-французский/курс обучения\n",
      "turn to alternative marks\n"
     ]
    },
    {
     "name": "stderr",
     "output_type": "stream",
     "text": [
      "\n",
      "\n",
      " 64%|██████▍   | 432/676 [36:28<21:05,  5.19s/it]\u001b[A\u001b[A"
     ]
    },
    {
     "name": "stdout",
     "output_type": "stream",
     "text": [
      "['cours de formation', 'stage', \"programme d'enseignement\", 'cursus', 'formé', 'stagiaire', 'redoublement', 'achèvent', 'un enseignement']\n",
      "sense_intersect ['cursus', \"programme | cours de formation | programme d'enseignement\", \"programme d'études | cours de formation | redoublement\", 'enseignement | un enseignement', 'cour | cours de formation', \"programme d'étude | cours de formation\", 'scolaire | cours de formation', 'programmes scolaires | cours de formation', 'contenu | cours de formation | un enseignement', 'éducation | cours de formation', 'programme-cadre | cours de formation']\n",
      "curriculum программа\n",
      "https://context.reverso.net/перевод/английский-французский/curriculum\n",
      "['programme', 'curriculum', \"programme d'études\", 'cursus', 'enseignement', 'cour', \"programme d'étude\", 'scolaire', 'programmes scolaires', 'pédagogique', 'cv', 'contenu', 'éducation', 'programme-cadre']\n",
      "https://context.reverso.net/перевод/русский-французский/программа\n"
     ]
    },
    {
     "name": "stderr",
     "output_type": "stream",
     "text": [
      "\n",
      "\n",
      " 64%|██████▍   | 433/676 [36:33<20:39,  5.10s/it]\u001b[A\u001b[A"
     ]
    },
    {
     "name": "stdout",
     "output_type": "stream",
     "text": [
      "['programme', 'logiciel', 'émission', 'agenda', 'cadre', 'plan', 'formation', 'système', 'projet', 'initiative', 'intégré', 'politique', 'agit', 'celui-ci']\n",
      "sense_intersect [\"programme | programme d'études | programme d'étude | programmes scolaires | programme-cadre\", 'scolaire | logiciel']\n",
      "curriculum куррикулум\n",
      "https://context.reverso.net/перевод/английский-французский/curriculum\n",
      "['programme', 'curriculum', \"programme d'études\", 'cursus', 'enseignement', 'cour', \"programme d'étude\", 'scolaire', 'programmes scolaires', 'pédagogique', 'cv', 'contenu', 'éducation', 'programme-cadre']\n",
      "https://context.reverso.net/перевод/русский-французский/куррикулум\n",
      "turn to alternative marks\n"
     ]
    },
    {
     "name": "stderr",
     "output_type": "stream",
     "text": [
      "\n",
      "\n",
      " 64%|██████▍   | 434/676 [36:38<20:15,  5.02s/it]\u001b[A\u001b[A"
     ]
    },
    {
     "name": "stdout",
     "output_type": "stream",
     "text": [
      "[]\n",
      "sense_intersect ['no_equality']\n",
      "curriculum расписание\n",
      "https://context.reverso.net/перевод/английский-французский/curriculum\n",
      "['programme', 'curriculum', \"programme d'études\", 'cursus', 'enseignement', 'cour', \"programme d'étude\", 'scolaire', 'programmes scolaires', 'pédagogique', 'cv', 'contenu', 'éducation', 'programme-cadre']\n",
      "https://context.reverso.net/перевод/русский-французский/расписание\n"
     ]
    },
    {
     "name": "stderr",
     "output_type": "stream",
     "text": [
      "\n",
      "\n",
      " 64%|██████▍   | 435/676 [36:43<19:58,  4.97s/it]\u001b[A\u001b[A"
     ]
    },
    {
     "name": "stdout",
     "output_type": "stream",
     "text": [
      "['calendrier', 'emploi du temps', 'planning', 'agenda', 'programme', 'horaire', 'effectif']\n",
      "sense_intersect ['programme', \"programme d'études | emploi du temps | programme\", \"programme d'étude | emploi du temps\", 'scolaire | calendrier | horaire', 'programmes scolaires | emploi du temps', 'programme-cadre | calendrier | emploi du temps']\n",
      "curriculum содержание образования\n",
      "https://context.reverso.net/перевод/английский-французский/curriculum\n",
      "['programme', 'curriculum', \"programme d'études\", 'cursus', 'enseignement', 'cour', \"programme d'étude\", 'scolaire', 'programmes scolaires', 'pédagogique', 'cv', 'contenu', 'éducation', 'programme-cadre']\n",
      "https://context.reverso.net/перевод/русский-французский/содержание образования\n",
      "turn to alternative marks\n"
     ]
    },
    {
     "name": "stderr",
     "output_type": "stream",
     "text": [
      "\n",
      "\n",
      " 64%|██████▍   | 436/676 [36:47<19:47,  4.95s/it]\u001b[A\u001b[A"
     ]
    },
    {
     "name": "stdout",
     "output_type": "stream",
     "text": [
      "[\"le contenu de l'éducation\"]\n",
      "sense_intersect [\"programme d'études | le contenu de l'éducation\", \"programme d'étude | le contenu de l'éducation\", \"contenu | le contenu de l'éducation\", \"éducation | le contenu de l'éducation\"]\n",
      "tip кончик\n",
      "https://context.reverso.net/перевод/английский-французский/tip\n",
      "['pointe', 'extrémité', 'embout', 'bout', 'conseil', 'astuce', 'pourboire', 'tip', 'pencher', 'donner un pourboire', 'incliner', 'tuyau', 'tête', 'sommet', 'truc', 'buse', 'info', 'panne', 'décharge', 'piste']\n",
      "https://context.reverso.net/перевод/русский-французский/кончик\n"
     ]
    },
    {
     "name": "stderr",
     "output_type": "stream",
     "text": [
      "\n",
      "\n",
      " 65%|██████▍   | 437/676 [36:52<19:42,  4.95s/it]\u001b[A\u001b[A"
     ]
    },
    {
     "name": "stdout",
     "output_type": "stream",
     "text": [
      "['bout']\n",
      "sense_intersect ['bout | embout']\n",
      "tip чаевые\n",
      "https://context.reverso.net/перевод/английский-французский/tip\n",
      "['pointe', 'extrémité', 'embout', 'bout', 'conseil', 'astuce', 'pourboire', 'tip', 'pencher', 'donner un pourboire', 'incliner', 'tuyau', 'tête', 'sommet', 'truc', 'buse', 'info', 'panne', 'décharge', 'piste']\n",
      "https://context.reverso.net/перевод/русский-французский/чаевые\n"
     ]
    },
    {
     "name": "stderr",
     "output_type": "stream",
     "text": [
      "\n",
      "\n",
      " 65%|██████▍   | 438/676 [36:58<20:07,  5.07s/it]\u001b[A\u001b[A"
     ]
    },
    {
     "name": "stdout",
     "output_type": "stream",
     "text": [
      "['pourboire']\n",
      "sense_intersect ['pourboire | donner un pourboire']\n",
      "tip тонкий конец\n",
      "https://context.reverso.net/перевод/английский-французский/tip\n",
      "['pointe', 'extrémité', 'embout', 'bout', 'conseil', 'astuce', 'pourboire', 'tip', 'pencher', 'donner un pourboire', 'incliner', 'tuyau', 'tête', 'sommet', 'truc', 'buse', 'info', 'panne', 'décharge', 'piste']\n",
      "https://context.reverso.net/перевод/русский-французский/тонкий конец\n"
     ]
    },
    {
     "name": "stderr",
     "output_type": "stream",
     "text": [
      "\n",
      "\n",
      " 65%|██████▍   | 439/676 [37:03<20:23,  5.16s/it]\u001b[A\u001b[A"
     ]
    },
    {
     "name": "stdout",
     "output_type": "stream",
     "text": [
      "['fin', 'subtil', 'délicat', 'mince', 'fin', 'fini', 'terme', 'terminé', 'bout']\n",
      "sense_intersect ['bout | embout', 'extrémité | terminé', 'conseil | mince', 'incliner | mince', 'info | fin | fin']\n",
      "tip верхушка\n",
      "https://context.reverso.net/перевод/английский-французский/tip\n",
      "['pointe', 'extrémité', 'embout', 'bout', 'conseil', 'astuce', 'pourboire', 'tip', 'pencher', 'donner un pourboire', 'incliner', 'tuyau', 'tête', 'sommet', 'truc', 'buse', 'info', 'panne', 'décharge', 'piste']\n",
      "https://context.reverso.net/перевод/русский-французский/верхушка\n",
      "turn to alternative marks\n"
     ]
    },
    {
     "name": "stderr",
     "output_type": "stream",
     "text": [
      "\n",
      "\n",
      " 65%|██████▌   | 440/676 [37:08<20:03,  5.10s/it]\u001b[A\u001b[A"
     ]
    },
    {
     "name": "stdout",
     "output_type": "stream",
     "text": [
      "['haut', 'dessus', 'pointe', 'iceberg']\n",
      "sense_intersect ['pointe | donner un pourboire']\n",
      "tip подсказка\n",
      "https://context.reverso.net/перевод/английский-французский/tip\n",
      "['pointe', 'extrémité', 'embout', 'bout', 'conseil', 'astuce', 'pourboire', 'tip', 'pencher', 'donner un pourboire', 'incliner', 'tuyau', 'tête', 'sommet', 'truc', 'buse', 'info', 'panne', 'décharge', 'piste']\n",
      "https://context.reverso.net/перевод/русский-французский/подсказка\n"
     ]
    },
    {
     "name": "stderr",
     "output_type": "stream",
     "text": [
      "\n",
      "\n",
      " 65%|██████▌   | 441/676 [37:13<19:58,  5.10s/it]\u001b[A\u001b[A"
     ]
    },
    {
     "name": "stdout",
     "output_type": "stream",
     "text": [
      "['indice']\n",
      "sense_intersect ['incliner | indice']\n",
      "tip Совет\n",
      "https://context.reverso.net/перевод/английский-французский/tip\n",
      "['pointe', 'extrémité', 'embout', 'bout', 'conseil', 'astuce', 'pourboire', 'tip', 'pencher', 'donner un pourboire', 'incliner', 'tuyau', 'tête', 'sommet', 'truc', 'buse', 'info', 'panne', 'décharge', 'piste']\n",
      "https://context.reverso.net/перевод/русский-французский/Совет\n"
     ]
    },
    {
     "name": "stderr",
     "output_type": "stream",
     "text": [
      "\n",
      "\n",
      " 65%|██████▌   | 442/676 [37:18<19:48,  5.08s/it]\u001b[A\u001b[A"
     ]
    },
    {
     "name": "stdout",
     "output_type": "stream",
     "text": [
      "['conseil', 'avis', 'organe', 'conseiller', 'celui-ci', 'commission', 'council', 'conseille', 'ce dernier', 'mairie', 'comité', 'observatoire', 'office']\n",
      "sense_intersect ['conseil | conseiller | commission | council | conseille | incliner', 'pourboire | observatoire', 'pencher | ce dernier', 'donner un pourboire | organe | observatoire']\n",
      "tip оконечность\n",
      "https://context.reverso.net/перевод/английский-французский/tip\n",
      "['pointe', 'extrémité', 'embout', 'bout', 'conseil', 'astuce', 'pourboire', 'tip', 'pencher', 'donner un pourboire', 'incliner', 'tuyau', 'tête', 'sommet', 'truc', 'buse', 'info', 'panne', 'décharge', 'piste']\n",
      "https://context.reverso.net/перевод/русский-французский/оконечность\n",
      "turn to alternative marks\n"
     ]
    },
    {
     "name": "stderr",
     "output_type": "stream",
     "text": [
      "\n",
      "\n",
      " 66%|██████▌   | 443/676 [37:23<19:52,  5.12s/it]\u001b[A\u001b[A"
     ]
    },
    {
     "name": "stdout",
     "output_type": "stream",
     "text": [
      "[]\n",
      "sense_intersect ['no_equality']\n",
      "tip отзыв\n",
      "https://context.reverso.net/перевод/английский-французский/tip\n",
      "['pointe', 'extrémité', 'embout', 'bout', 'conseil', 'astuce', 'pourboire', 'tip', 'pencher', 'donner un pourboire', 'incliner', 'tuyau', 'tête', 'sommet', 'truc', 'buse', 'info', 'panne', 'décharge', 'piste']\n",
      "https://context.reverso.net/перевод/русский-французский/отзыв\n"
     ]
    },
    {
     "name": "stderr",
     "output_type": "stream",
     "text": [
      "\n",
      "\n",
      " 66%|██████▌   | 444/676 [37:28<19:24,  5.02s/it]\u001b[A\u001b[A"
     ]
    },
    {
     "name": "stdout",
     "output_type": "stream",
     "text": [
      "['retrait', 'critique']\n",
      "sense_intersect ['pourboire | critique']\n",
      "tip полезный Совет\n",
      "https://context.reverso.net/перевод/английский-французский/tip\n",
      "['pointe', 'extrémité', 'embout', 'bout', 'conseil', 'astuce', 'pourboire', 'tip', 'pencher', 'donner un pourboire', 'incliner', 'tuyau', 'tête', 'sommet', 'truc', 'buse', 'info', 'panne', 'décharge', 'piste']\n",
      "https://context.reverso.net/перевод/русский-французский/полезный Совет\n",
      "turn to alternative marks\n"
     ]
    },
    {
     "name": "stderr",
     "output_type": "stream",
     "text": [
      "\n",
      "\n",
      " 66%|██████▌   | 445/676 [37:33<19:12,  4.99s/it]\u001b[A\u001b[A"
     ]
    },
    {
     "name": "stdout",
     "output_type": "stream",
     "text": [
      "['bon conseil', 'bons conseils', 'conseil pratique']\n",
      "sense_intersect ['pointe | conseil pratique', 'conseil | bon conseil | bons conseils | conseil pratique', 'donner un pourboire | bon conseil', 'incliner | bon conseil']\n",
      "tip зонд\n",
      "https://context.reverso.net/перевод/английский-французский/tip\n",
      "['pointe', 'extrémité', 'embout', 'bout', 'conseil', 'astuce', 'pourboire', 'tip', 'pencher', 'donner un pourboire', 'incliner', 'tuyau', 'tête', 'sommet', 'truc', 'buse', 'info', 'panne', 'décharge', 'piste']\n",
      "https://context.reverso.net/перевод/русский-французский/зонд\n"
     ]
    },
    {
     "name": "stderr",
     "output_type": "stream",
     "text": [
      "\n",
      "\n",
      " 66%|██████▌   | 446/676 [37:38<19:05,  4.98s/it]\u001b[A\u001b[A"
     ]
    },
    {
     "name": "stdout",
     "output_type": "stream",
     "text": [
      "['sonde']\n",
      "sense_intersect ['no_equality']\n",
      "tip подачка\n",
      "https://context.reverso.net/перевод/английский-французский/tip\n",
      "['pointe', 'extrémité', 'embout', 'bout', 'conseil', 'astuce', 'pourboire', 'tip', 'pencher', 'donner un pourboire', 'incliner', 'tuyau', 'tête', 'sommet', 'truc', 'buse', 'info', 'panne', 'décharge', 'piste']\n",
      "https://context.reverso.net/перевод/русский-французский/подачка\n",
      "turn to alternative marks\n"
     ]
    },
    {
     "name": "stderr",
     "output_type": "stream",
     "text": [
      "\n",
      "\n",
      " 66%|██████▌   | 447/676 [37:43<18:58,  4.97s/it]\u001b[A\u001b[A"
     ]
    },
    {
     "name": "stdout",
     "output_type": "stream",
     "text": [
      "[]\n",
      "sense_intersect ['no_equality']\n",
      "tip вершинка\n",
      "https://context.reverso.net/перевод/английский-французский/tip\n",
      "['pointe', 'extrémité', 'embout', 'bout', 'conseil', 'astuce', 'pourboire', 'tip', 'pencher', 'donner un pourboire', 'incliner', 'tuyau', 'tête', 'sommet', 'truc', 'buse', 'info', 'panne', 'décharge', 'piste']\n",
      "https://context.reverso.net/перевод/русский-французский/вершинка\n"
     ]
    },
    {
     "name": "stderr",
     "output_type": "stream",
     "text": [
      "\n",
      "\n",
      " 66%|██████▋   | 448/676 [37:48<18:52,  4.97s/it]\u001b[A\u001b[A"
     ]
    },
    {
     "name": "stdout",
     "output_type": "stream",
     "text": [
      "['sommet']\n",
      "sense_intersect ['sommet']\n",
      "tip наклонять\n",
      "https://context.reverso.net/перевод/английский-французский/tip\n",
      "['pointe', 'extrémité', 'embout', 'bout', 'conseil', 'astuce', 'pourboire', 'tip', 'pencher', 'donner un pourboire', 'incliner', 'tuyau', 'tête', 'sommet', 'truc', 'buse', 'info', 'panne', 'décharge', 'piste']\n",
      "https://context.reverso.net/перевод/русский-французский/наклонять\n",
      "turn to alternative marks\n"
     ]
    },
    {
     "name": "stderr",
     "output_type": "stream",
     "text": [
      "\n",
      "\n",
      " 66%|██████▋   | 449/676 [37:53<18:40,  4.93s/it]\u001b[A\u001b[A"
     ]
    },
    {
     "name": "stdout",
     "output_type": "stream",
     "text": [
      "['incliner', 'pencher']\n",
      "sense_intersect ['pencher', 'incliner | conseil']\n",
      "tip опрокинуться\n",
      "https://context.reverso.net/перевод/английский-французский/tip\n",
      "['pointe', 'extrémité', 'embout', 'bout', 'conseil', 'astuce', 'pourboire', 'tip', 'pencher', 'donner un pourboire', 'incliner', 'tuyau', 'tête', 'sommet', 'truc', 'buse', 'info', 'panne', 'décharge', 'piste']\n",
      "https://context.reverso.net/перевод/русский-французский/опрокинуться\n",
      "turn to alternative marks\n"
     ]
    },
    {
     "name": "stderr",
     "output_type": "stream",
     "text": [
      "\n",
      "\n",
      " 67%|██████▋   | 450/676 [37:58<18:53,  5.02s/it]\u001b[A\u001b[A"
     ]
    },
    {
     "name": "stdout",
     "output_type": "stream",
     "text": [
      "['glisser']\n",
      "sense_intersect ['no_equality']\n",
      "tip давать чаевые\n",
      "https://context.reverso.net/перевод/английский-французский/tip\n",
      "['pointe', 'extrémité', 'embout', 'bout', 'conseil', 'astuce', 'pourboire', 'tip', 'pencher', 'donner un pourboire', 'incliner', 'tuyau', 'tête', 'sommet', 'truc', 'buse', 'info', 'panne', 'décharge', 'piste']\n",
      "https://context.reverso.net/перевод/русский-французский/давать чаевые\n",
      "turn to alternative marks\n"
     ]
    },
    {
     "name": "stderr",
     "output_type": "stream",
     "text": [
      "\n",
      "\n",
      " 67%|██████▋   | 451/676 [38:04<19:23,  5.17s/it]\u001b[A\u001b[A"
     ]
    },
    {
     "name": "stdout",
     "output_type": "stream",
     "text": [
      "['donner un pourboire']\n",
      "sense_intersect ['donner un pourboire | pointe | pourboire']\n",
      "tip на чай\n",
      "https://context.reverso.net/перевод/английский-французский/tip\n",
      "['pointe', 'extrémité', 'embout', 'bout', 'conseil', 'astuce', 'pourboire', 'tip', 'pencher', 'donner un pourboire', 'incliner', 'tuyau', 'tête', 'sommet', 'truc', 'buse', 'info', 'panne', 'décharge', 'piste']\n",
      "https://context.reverso.net/перевод/русский-французский/на чай\n"
     ]
    },
    {
     "name": "stderr",
     "output_type": "stream",
     "text": [
      "\n",
      "\n",
      " 67%|██████▋   | 452/676 [38:09<19:06,  5.12s/it]\u001b[A\u001b[A"
     ]
    },
    {
     "name": "stdout",
     "output_type": "stream",
     "text": [
      "['pourboire', 'pour le thé']\n",
      "sense_intersect ['pourboire | donner un pourboire']\n",
      "entire целый\n",
      "https://context.reverso.net/перевод/английский-французский/entire\n",
      "['tout', 'entier', 'complet', 'total', 'long', 'intégral', 'ensemble du', 'totalité du', 'intégralité du', 'entièreté', 'globalité', 'entièrement', 'vie', 'global']\n",
      "https://context.reverso.net/перевод/русский-французский/целый\n"
     ]
    },
    {
     "name": "stderr",
     "output_type": "stream",
     "text": [
      "\n",
      "\n",
      " 67%|██████▋   | 453/676 [38:13<18:43,  5.04s/it]\u001b[A\u001b[A"
     ]
    },
    {
     "name": "stdout",
     "output_type": "stream",
     "text": [
      "['entier', 'toute une', 'tout un', 'ensemble', 'existe']\n",
      "sense_intersect ['entier | entièreté | entièrement', 'tout | tout un', 'ensemble du | ensemble']\n",
      "entire целостный\n",
      "https://context.reverso.net/перевод/английский-французский/entire\n",
      "['tout', 'entier', 'complet', 'total', 'long', 'intégral', 'ensemble du', 'totalité du', 'intégralité du', 'entièreté', 'globalité', 'entièrement', 'vie', 'global']\n",
      "https://context.reverso.net/перевод/русский-французский/целостный\n"
     ]
    },
    {
     "name": "stderr",
     "output_type": "stream",
     "text": [
      "\n",
      "\n",
      " 67%|██████▋   | 454/676 [38:18<18:32,  5.01s/it]\u001b[A\u001b[A"
     ]
    },
    {
     "name": "stdout",
     "output_type": "stream",
     "text": [
      "['globale', 'holistique', 'intégrée']\n",
      "sense_intersect ['intégral | intégrée', 'intégralité du | intégrée', 'entièreté | intégrée', 'global | globale']\n",
      "entire весь\n",
      "https://context.reverso.net/перевод/английский-французский/entire\n",
      "['tout', 'entier', 'complet', 'total', 'long', 'intégral', 'ensemble du', 'totalité du', 'intégralité du', 'entièreté', 'globalité', 'entièrement', 'vie', 'global']\n",
      "https://context.reverso.net/перевод/русский-французский/весь\n"
     ]
    },
    {
     "name": "stderr",
     "output_type": "stream",
     "text": [
      "\n",
      "\n",
      " 67%|██████▋   | 455/676 [38:23<18:25,  5.00s/it]\u001b[A\u001b[A"
     ]
    },
    {
     "name": "stdout",
     "output_type": "stream",
     "text": [
      "['tout', 'entière', 'plein', 'complet', 'passé', 'toute la', \"l'ensemble\", 'dans son ensemble', 'depuis', 'reste', 'couvert', 'cette', 'est', 'partout']\n",
      "sense_intersect ['tout | toute la | partout', 'complet', 'entier | entière', \"ensemble du | l'ensemble | dans son ensemble\", 'entièreté | entière', 'entièrement | entière']\n",
      "entire целиком\n",
      "https://context.reverso.net/перевод/английский-французский/entire\n",
      "['tout', 'entier', 'complet', 'total', 'long', 'intégral', 'ensemble du', 'totalité du', 'intégralité du', 'entièreté', 'globalité', 'entièrement', 'vie', 'global']\n",
      "https://context.reverso.net/перевод/русский-французский/целиком\n"
     ]
    },
    {
     "name": "stderr",
     "output_type": "stream",
     "text": [
      "\n",
      "\n",
      " 67%|██████▋   | 456/676 [38:28<18:09,  4.95s/it]\u001b[A\u001b[A"
     ]
    },
    {
     "name": "stdout",
     "output_type": "stream",
     "text": [
      "['entièrement', 'pleinement', 'en entier', 'totalement', 'exclusivement', 'tout']\n",
      "sense_intersect ['tout', 'entièrement | entier | entièreté | pleinement | en entier | totalement | exclusivement', 'complet | totalement', 'total | totalement', 'ensemble du | exclusivement']\n",
      "hear слышать\n",
      "https://context.reverso.net/перевод/английский-французский/hear\n",
      "['entendre', 'écouter', 'savoir', 'dire', 'apprendre', 'connaître', 'voir', 'entendre parler', 'avoir', 'entendre dire', 'recueillir', 'nouvelle', 'parle', 'compris', 'courant']\n",
      "https://context.reverso.net/перевод/русский-французский/слышать\n"
     ]
    },
    {
     "name": "stderr",
     "output_type": "stream",
     "text": [
      "\n",
      "\n",
      " 68%|██████▊   | 457/676 [38:33<17:54,  4.91s/it]\u001b[A\u001b[A"
     ]
    },
    {
     "name": "stdout",
     "output_type": "stream",
     "text": [
      "['entendre', 'savoir', 'entendre parler', 'écouter', 'apprendre', 'entendre dire', 'venant', 'ça', 'désolé', 'plaisir']\n",
      "sense_intersect ['entendre | entendre parler | apprendre | entendre dire | connaître', 'écouter', 'savoir | voir | avoir', 'apprendre', 'entendre parler', 'entendre dire']\n",
      "hear узнать\n",
      "https://context.reverso.net/перевод/английский-французский/hear\n",
      "['entendre', 'écouter', 'savoir', 'dire', 'apprendre', 'connaître', 'voir', 'entendre parler', 'avoir', 'entendre dire', 'recueillir', 'nouvelle', 'parle', 'compris', 'courant']\n",
      "https://context.reverso.net/перевод/русский-французский/узнать\n"
     ]
    },
    {
     "name": "stderr",
     "output_type": "stream",
     "text": [
      "\n",
      "\n",
      " 68%|██████▊   | 458/676 [38:38<18:11,  5.01s/it]\u001b[A\u001b[A"
     ]
    },
    {
     "name": "stdout",
     "output_type": "stream",
     "text": [
      "['savoir', 'connaître', 'voir', 'apprendre', 'découvrir', 'trouver', 'demander', 'avoir', 'reconnaître', 'entendre', 'comprendre', 'vérifier', 'identifier', 'obtenir', 'renseigner']\n",
      "sense_intersect ['entendre | connaître | apprendre | demander | reconnaître | comprendre | renseigner | entendre parler | entendre dire', 'savoir | voir | avoir', 'apprendre', 'connaître', 'voir', 'avoir', 'écouter | découvrir | trouver', 'dire | identifier', 'recueillir | identifier', 'courant | obtenir']\n",
      "hear звучать\n",
      "https://context.reverso.net/перевод/английский-французский/hear\n",
      "['entendre', 'écouter', 'savoir', 'dire', 'apprendre', 'connaître', 'voir', 'entendre parler', 'avoir', 'entendre dire', 'recueillir', 'nouvelle', 'parle', 'compris', 'courant']\n",
      "https://context.reverso.net/перевод/русский-французский/звучать\n"
     ]
    },
    {
     "name": "stderr",
     "output_type": "stream",
     "text": [
      "\n",
      "\n",
      " 68%|██████▊   | 459/676 [38:43<17:57,  4.96s/it]\u001b[A\u001b[A"
     ]
    },
    {
     "name": "stdout",
     "output_type": "stream",
     "text": [
      "['paraître', 'sembler']\n",
      "sense_intersect ['parle | paraître']\n",
      "hear слыхать\n",
      "https://context.reverso.net/перевод/английский-французский/hear\n",
      "['entendre', 'écouter', 'savoir', 'dire', 'apprendre', 'connaître', 'voir', 'entendre parler', 'avoir', 'entendre dire', 'recueillir', 'nouvelle', 'parle', 'compris', 'courant']\n",
      "https://context.reverso.net/перевод/русский-французский/слыхать\n",
      "turn to alternative marks\n"
     ]
    },
    {
     "name": "stderr",
     "output_type": "stream",
     "text": [
      "\n",
      "\n",
      " 68%|██████▊   | 460/676 [38:48<18:01,  5.01s/it]\u001b[A\u001b[A"
     ]
    },
    {
     "name": "stdout",
     "output_type": "stream",
     "text": [
      "[]\n",
      "sense_intersect ['no_equality']\n",
      "hear расслышать\n",
      "https://context.reverso.net/перевод/английский-французский/hear\n",
      "['entendre', 'écouter', 'savoir', 'dire', 'apprendre', 'connaître', 'voir', 'entendre parler', 'avoir', 'entendre dire', 'recueillir', 'nouvelle', 'parle', 'compris', 'courant']\n",
      "https://context.reverso.net/перевод/русский-французский/расслышать\n",
      "turn to alternative marks\n"
     ]
    },
    {
     "name": "stderr",
     "output_type": "stream",
     "text": [
      "\n",
      "\n",
      " 68%|██████▊   | 461/676 [38:53<17:51,  4.99s/it]\u001b[A\u001b[A"
     ]
    },
    {
     "name": "stdout",
     "output_type": "stream",
     "text": [
      "['entendre']\n",
      "sense_intersect ['entendre | apprendre | connaître | entendre parler | entendre dire']\n",
      "hear заслышать\n",
      "https://context.reverso.net/перевод/английский-французский/hear\n",
      "['entendre', 'écouter', 'savoir', 'dire', 'apprendre', 'connaître', 'voir', 'entendre parler', 'avoir', 'entendre dire', 'recueillir', 'nouvelle', 'parle', 'compris', 'courant']\n",
      "https://context.reverso.net/перевод/русский-французский/заслышать\n"
     ]
    },
    {
     "name": "stderr",
     "output_type": "stream",
     "text": [
      "\n",
      "\n",
      " 68%|██████▊   | 462/676 [38:58<17:54,  5.02s/it]\u001b[A\u001b[A"
     ]
    },
    {
     "name": "stdout",
     "output_type": "stream",
     "text": [
      "['entendre', 'écouter']\n",
      "sense_intersect ['entendre | apprendre | connaître | entendre parler | entendre dire', 'écouter']\n",
      "hear слышный\n",
      "https://context.reverso.net/перевод/английский-французский/hear\n",
      "['entendre', 'écouter', 'savoir', 'dire', 'apprendre', 'connaître', 'voir', 'entendre parler', 'avoir', 'entendre dire', 'recueillir', 'nouvelle', 'parle', 'compris', 'courant']\n",
      "https://context.reverso.net/перевод/русский-французский/слышный\n",
      "turn to alternative marks\n"
     ]
    },
    {
     "name": "stderr",
     "output_type": "stream",
     "text": [
      "\n",
      "\n",
      " 68%|██████▊   | 463/676 [39:03<17:35,  4.95s/it]\u001b[A\u001b[A"
     ]
    },
    {
     "name": "stdout",
     "output_type": "stream",
     "text": [
      "[]\n",
      "sense_intersect ['no_equality']\n",
      "right право\n",
      "https://context.reverso.net/перевод/английский-французский/right\n",
      "['droit', 'droite', 'bien', 'raison', 'tout', 'suite', 'bon', 'juste', 'vrai', 'exact', 'correct', \"d'accord\", 'hein', 'dès', \"c'est ça\", \"n'est-ce pas\", 'non', 'corriger', 'ok', \"d'accord\", 'va', 'appropriée']\n",
      "https://context.reverso.net/перевод/русский-французский/право\n"
     ]
    },
    {
     "name": "stderr",
     "output_type": "stream",
     "text": [
      "\n",
      "\n",
      " 69%|██████▊   | 464/676 [39:09<18:13,  5.16s/it]\u001b[A\u001b[A"
     ]
    },
    {
     "name": "stdout",
     "output_type": "stream",
     "text": [
      "['droit', 'loi', 'pouvoir', 'liberté', 'possibilité', 'faculté', 'compétence', 'qualité', 'droite', 'admis', 'admissibilité', 'autorisé', 'celui', 'libre', 'law']\n",
      "sense_intersect ['droit | droite', 'droite']\n",
      "right правая сторона\n",
      "https://context.reverso.net/перевод/английский-французский/right\n",
      "['droit', 'droite', 'bien', 'raison', 'tout', 'suite', 'bon', 'juste', 'vrai', 'exact', 'correct', \"d'accord\", 'hein', 'dès', \"c'est ça\", \"n'est-ce pas\", 'non', 'corriger', 'ok', \"d'accord\", 'va', 'appropriée']\n",
      "https://context.reverso.net/перевод/русский-французский/правая сторона\n",
      "turn to alternative marks\n"
     ]
    },
    {
     "name": "stderr",
     "output_type": "stream",
     "text": [
      "\n",
      "\n",
      " 69%|██████▉   | 465/676 [39:14<17:58,  5.11s/it]\u001b[A\u001b[A"
     ]
    },
    {
     "name": "stdout",
     "output_type": "stream",
     "text": [
      "['côté droit', 'droite']\n",
      "sense_intersect ['droite', 'droit | côté droit | droite']\n",
      "right правда\n",
      "https://context.reverso.net/перевод/английский-французский/right\n",
      "['droit', 'droite', 'bien', 'raison', 'tout', 'suite', 'bon', 'juste', 'vrai', 'exact', 'correct', \"d'accord\", 'hein', 'dès', \"c'est ça\", \"n'est-ce pas\", 'non', 'corriger', 'ok', \"d'accord\", 'va', 'appropriée']\n",
      "https://context.reverso.net/перевод/русский-французский/правда\n"
     ]
    },
    {
     "name": "stderr",
     "output_type": "stream",
     "text": [
      "\n",
      "\n",
      " 69%|██████▉   | 466/676 [39:19<17:42,  5.06s/it]\u001b[A\u001b[A"
     ]
    },
    {
     "name": "stdout",
     "output_type": "stream",
     "text": [
      "['vraiment', 'hein', 'sérieusement', 'honnêtement', 'sincèrement', 'vrai', 'vérité', 'non', 'si', 'bien', 'oui', 'accord', 'sérieux', 'ça', 'réellement']\n",
      "sense_intersect ['bien', 'vrai', 'hein', 'non', 'suite | sérieusement', \"d'accord | accord | accord\"]\n",
      "right правота\n",
      "https://context.reverso.net/перевод/английский-французский/right\n",
      "['droit', 'droite', 'bien', 'raison', 'tout', 'suite', 'bon', 'juste', 'vrai', 'exact', 'correct', \"d'accord\", 'hein', 'dès', \"c'est ça\", \"n'est-ce pas\", 'non', 'corriger', 'ok', \"d'accord\", 'va', 'appropriée']\n",
      "https://context.reverso.net/перевод/русский-французский/правота\n",
      "turn to alternative marks\n"
     ]
    },
    {
     "name": "stderr",
     "output_type": "stream",
     "text": [
      "\n",
      "\n",
      " 69%|██████▉   | 467/676 [39:24<17:35,  5.05s/it]\u001b[A\u001b[A"
     ]
    },
    {
     "name": "stdout",
     "output_type": "stream",
     "text": [
      "[]\n",
      "sense_intersect ['no_equality']\n",
      "right правый\n",
      "https://context.reverso.net/перевод/английский-французский/right\n",
      "['droit', 'droite', 'bien', 'raison', 'tout', 'suite', 'bon', 'juste', 'vrai', 'exact', 'correct', \"d'accord\", 'hein', 'dès', \"c'est ça\", \"n'est-ce pas\", 'non', 'corriger', 'ok', \"d'accord\", 'va', 'appropriée']\n",
      "https://context.reverso.net/перевод/русский-французский/правый\n"
     ]
    },
    {
     "name": "stderr",
     "output_type": "stream",
     "text": [
      "\n",
      "\n",
      " 69%|██████▉   | 468/676 [39:29<17:21,  5.01s/it]\u001b[A\u001b[A"
     ]
    },
    {
     "name": "stdout",
     "output_type": "stream",
     "text": [
      "['droit', 'tribord']\n",
      "sense_intersect ['droit | tribord | droite']\n",
      "right нужный\n",
      "https://context.reverso.net/перевод/английский-французский/right\n",
      "['droit', 'droite', 'bien', 'raison', 'tout', 'suite', 'bon', 'juste', 'vrai', 'exact', 'correct', \"d'accord\", 'hein', 'dès', \"c'est ça\", \"n'est-ce pas\", 'non', 'corriger', 'ok', \"d'accord\", 'va', 'appropriée']\n",
      "https://context.reverso.net/перевод/русский-французский/нужный\n"
     ]
    },
    {
     "name": "stderr",
     "output_type": "stream",
     "text": [
      "\n",
      "\n",
      " 69%|██████▉   | 469/676 [39:33<17:05,  4.95s/it]\u001b[A\u001b[A"
     ]
    },
    {
     "name": "stdout",
     "output_type": "stream",
     "text": [
      "['la bonne', 'bon']\n",
      "sense_intersect ['bon | la bonne']\n",
      "right подходящий\n",
      "https://context.reverso.net/перевод/английский-французский/right\n",
      "['droit', 'droite', 'bien', 'raison', 'tout', 'suite', 'bon', 'juste', 'vrai', 'exact', 'correct', \"d'accord\", 'hein', 'dès', \"c'est ça\", \"n'est-ce pas\", 'non', 'corriger', 'ok', \"d'accord\", 'va', 'appropriée']\n",
      "https://context.reverso.net/перевод/русский-французский/подходящий\n"
     ]
    },
    {
     "name": "stderr",
     "output_type": "stream",
     "text": [
      "\n",
      "\n",
      " 70%|██████▉   | 470/676 [39:38<16:51,  4.91s/it]\u001b[A\u001b[A"
     ]
    },
    {
     "name": "stdout",
     "output_type": "stream",
     "text": [
      "['bon', 'approprié']\n",
      "sense_intersect ['bon', 'appropriée | approprié']\n",
      "right вправо\n",
      "https://context.reverso.net/перевод/английский-французский/right\n",
      "['droit', 'droite', 'bien', 'raison', 'tout', 'suite', 'bon', 'juste', 'vrai', 'exact', 'correct', \"d'accord\", 'hein', 'dès', \"c'est ça\", \"n'est-ce pas\", 'non', 'corriger', 'ok', \"d'accord\", 'va', 'appropriée']\n",
      "https://context.reverso.net/перевод/русский-французский/вправо\n"
     ]
    },
    {
     "name": "stderr",
     "output_type": "stream",
     "text": [
      "\n",
      "\n",
      " 70%|██████▉   | 471/676 [39:43<16:42,  4.89s/it]\u001b[A\u001b[A"
     ]
    },
    {
     "name": "stdout",
     "output_type": "stream",
     "text": [
      "['à droite', 'vers la droite']\n",
      "sense_intersect ['droit | à droite | vers la droite', 'droite | à droite']\n",
      "right правильно\n",
      "https://context.reverso.net/перевод/английский-французский/right\n",
      "['droit', 'droite', 'bien', 'raison', 'tout', 'suite', 'bon', 'juste', 'vrai', 'exact', 'correct', \"d'accord\", 'hein', 'dès', \"c'est ça\", \"n'est-ce pas\", 'non', 'corriger', 'ok', \"d'accord\", 'va', 'appropriée']\n",
      "https://context.reverso.net/перевод/русский-французский/правильно\n"
     ]
    },
    {
     "name": "stderr",
     "output_type": "stream",
     "text": [
      "\n",
      "\n",
      " 70%|██████▉   | 472/676 [39:48<16:39,  4.90s/it]\u001b[A\u001b[A"
     ]
    },
    {
     "name": "stdout",
     "output_type": "stream",
     "text": [
      "['bien', 'non', 'correctement', \"c'est ça\", 'pas vrai', \"n'est-ce pas\", 'hein', 'mal', 'exact', 'correct', 'oui', 'à juste titre', \"c'est vrai\", 'bon choix', 'raison']\n",
      "sense_intersect ['bien', 'raison', 'exact', 'correct | correctement | corriger', 'hein', \"c'est ça\", \"n'est-ce pas\", 'non', 'droite | correctement', 'suite | à juste titre', 'juste | à juste titre', 'vrai | pas vrai']\n",
      "right сразу\n",
      "https://context.reverso.net/перевод/английский-французский/right\n",
      "['droit', 'droite', 'bien', 'raison', 'tout', 'suite', 'bon', 'juste', 'vrai', 'exact', 'correct', \"d'accord\", 'hein', 'dès', \"c'est ça\", \"n'est-ce pas\", 'non', 'corriger', 'ok', \"d'accord\", 'va', 'appropriée']\n",
      "https://context.reverso.net/перевод/русский-французский/сразу\n"
     ]
    },
    {
     "name": "stderr",
     "output_type": "stream",
     "text": [
      "\n",
      "\n",
      " 70%|██████▉   | 473/676 [39:53<16:34,  4.90s/it]\u001b[A\u001b[A"
     ]
    },
    {
     "name": "stdout",
     "output_type": "stream",
     "text": [
      "['immédiatement', 'juste', 'après', 'directement', 'tout de suite', 'aussitôt', 'droit', 'vite', 'rapidement', 'maintenant', 'avant', 'plus tôt', 'foi', 'deux', 'dû']\n",
      "sense_intersect ['droit', 'juste | suite', 'droite | directement | tout de suite | droit | rapidement']\n",
      "right хорошо\n",
      "https://context.reverso.net/перевод/английский-французский/right\n",
      "['droit', 'droite', 'bien', 'raison', 'tout', 'suite', 'bon', 'juste', 'vrai', 'exact', 'correct', \"d'accord\", 'hein', 'dès', \"c'est ça\", \"n'est-ce pas\", 'non', 'corriger', 'ok', \"d'accord\", 'va', 'appropriée']\n",
      "https://context.reverso.net/перевод/русский-французский/хорошо\n"
     ]
    },
    {
     "name": "stderr",
     "output_type": "stream",
     "text": [
      "\n",
      "\n",
      " 70%|███████   | 474/676 [39:58<16:31,  4.91s/it]\u001b[A\u001b[A"
     ]
    },
    {
     "name": "stdout",
     "output_type": "stream",
     "text": [
      "['bien', \"d'accord\", 'bon', 'okay', 'oui', 'heureusement', 'alors', 'tant mieux', 'mal', 'allez', 'beau', \"c'est bien\", \"c'est bon\", 'aller', 'ok']\n",
      "sense_intersect ['bien', 'bon', \"d'accord\", 'ok', 'juste | heureusement', \"n'est-ce pas | c'est bien | c'est bon\"]\n",
      "right прямо\n",
      "https://context.reverso.net/перевод/английский-французский/right\n",
      "['droit', 'droite', 'bien', 'raison', 'tout', 'suite', 'bon', 'juste', 'vrai', 'exact', 'correct', \"d'accord\", 'hein', 'dès', \"c'est ça\", \"n'est-ce pas\", 'non', 'corriger', 'ok', \"d'accord\", 'va', 'appropriée']\n",
      "https://context.reverso.net/перевод/русский-французский/прямо\n"
     ]
    },
    {
     "name": "stderr",
     "output_type": "stream",
     "text": [
      "\n",
      "\n",
      " 70%|███████   | 475/676 [40:03<17:02,  5.09s/it]\u001b[A\u001b[A"
     ]
    },
    {
     "name": "stdout",
     "output_type": "stream",
     "text": [
      "['juste', 'directement', 'droit', 'expressément', 'devant', 'tout droit', 'explicitement', 'clairement', 'en plein', 'exactement', 'derrière', 'là-bas', 'au-dessus', 'près', 'pile']\n",
      "sense_intersect ['droit | tout droit', 'juste | suite', 'droite | directement | droit | explicitement | clairement | derrière', 'exact | exactement']\n",
      "secret секрет\n",
      "https://context.reverso.net/перевод/английский-французский/secret\n",
      "['secret', 'caché', 'clandestin', 'confidentiel', 'cachette', 'mystère', 'cachent', 'secrètement', 'cacher', 'annexe']\n",
      "https://context.reverso.net/перевод/русский-французский/секрет\n"
     ]
    },
    {
     "name": "stderr",
     "output_type": "stream",
     "text": [
      "\n",
      "\n",
      " 70%|███████   | 476/676 [40:09<17:25,  5.23s/it]\u001b[A\u001b[A"
     ]
    },
    {
     "name": "stdout",
     "output_type": "stream",
     "text": [
      "['secret', 'truc']\n",
      "sense_intersect ['secret | secrètement']\n",
      "secret тайный\n",
      "https://context.reverso.net/перевод/английский-французский/secret\n",
      "['secret', 'caché', 'clandestin', 'confidentiel', 'cachette', 'mystère', 'cachent', 'secrètement', 'cacher', 'annexe']\n",
      "https://context.reverso.net/перевод/русский-французский/тайный\n"
     ]
    },
    {
     "name": "stderr",
     "output_type": "stream",
     "text": [
      "\n",
      "\n",
      " 71%|███████   | 477/676 [40:14<17:06,  5.16s/it]\u001b[A\u001b[A"
     ]
    },
    {
     "name": "stdout",
     "output_type": "stream",
     "text": [
      "['secret']\n",
      "sense_intersect ['secret | secrètement']\n",
      "secret потайной\n",
      "https://context.reverso.net/перевод/английский-французский/secret\n",
      "['secret', 'caché', 'clandestin', 'confidentiel', 'cachette', 'mystère', 'cachent', 'secrètement', 'cacher', 'annexe']\n",
      "https://context.reverso.net/перевод/русский-французский/потайной\n",
      "turn to alternative marks\n"
     ]
    },
    {
     "name": "stderr",
     "output_type": "stream",
     "text": [
      "\n",
      "\n",
      " 71%|███████   | 478/676 [40:19<16:56,  5.13s/it]\u001b[A\u001b[A"
     ]
    },
    {
     "name": "stdout",
     "output_type": "stream",
     "text": [
      "['passage secret', 'entrée secrète', 'une planque secrète', 'un compartiment']\n",
      "sense_intersect ['secret | passage secret | entrée secrète', 'clandestin | une planque secrète | un compartiment', 'confidentiel | une planque secrète', 'secrètement | passage secret | une planque secrète']\n",
      "secret скрытный\n",
      "https://context.reverso.net/перевод/английский-французский/secret\n",
      "['secret', 'caché', 'clandestin', 'confidentiel', 'cachette', 'mystère', 'cachent', 'secrètement', 'cacher', 'annexe']\n",
      "https://context.reverso.net/перевод/русский-французский/скрытный\n",
      "turn to alternative marks\n"
     ]
    },
    {
     "name": "stderr",
     "output_type": "stream",
     "text": [
      "\n",
      "\n",
      " 71%|███████   | 479/676 [40:24<16:33,  5.04s/it]\u001b[A\u001b[A"
     ]
    },
    {
     "name": "stdout",
     "output_type": "stream",
     "text": [
      "['secret', 'discret']\n",
      "sense_intersect ['secret | discret | secrètement']\n",
      "secret негласный\n",
      "https://context.reverso.net/перевод/английский-французский/secret\n",
      "['secret', 'caché', 'clandestin', 'confidentiel', 'cachette', 'mystère', 'cachent', 'secrètement', 'cacher', 'annexe']\n",
      "https://context.reverso.net/перевод/русский-французский/негласный\n",
      "turn to alternative marks\n"
     ]
    },
    {
     "name": "stderr",
     "output_type": "stream",
     "text": [
      "\n",
      "\n",
      " 71%|███████   | 480/676 [40:29<16:15,  4.98s/it]\u001b[A\u001b[A"
     ]
    },
    {
     "name": "stdout",
     "output_type": "stream",
     "text": [
      "['silencieux', 'implicite']\n",
      "sense_intersect ['confidentiel | silencieux']\n",
      "secret закулисный\n",
      "https://context.reverso.net/перевод/английский-французский/secret\n",
      "['secret', 'caché', 'clandestin', 'confidentiel', 'cachette', 'mystère', 'cachent', 'secrètement', 'cacher', 'annexe']\n",
      "https://context.reverso.net/перевод/русский-французский/закулисный\n",
      "turn to alternative marks\n"
     ]
    },
    {
     "name": "stderr",
     "output_type": "stream",
     "text": [
      "\n",
      "\n",
      " 71%|███████   | 481/676 [40:33<16:02,  4.94s/it]\u001b[A\u001b[A"
     ]
    },
    {
     "name": "stdout",
     "output_type": "stream",
     "text": [
      "['coulisse']\n",
      "sense_intersect ['no_equality']\n",
      "secret конспиративный\n",
      "https://context.reverso.net/перевод/английский-французский/secret\n",
      "['secret', 'caché', 'clandestin', 'confidentiel', 'cachette', 'mystère', 'cachent', 'secrètement', 'cacher', 'annexe']\n",
      "https://context.reverso.net/перевод/русский-французский/конспиративный\n",
      "turn to alternative marks\n"
     ]
    },
    {
     "name": "stderr",
     "output_type": "stream",
     "text": [
      "\n",
      "\n",
      " 71%|███████▏  | 482/676 [40:39<16:25,  5.08s/it]\u001b[A\u001b[A"
     ]
    },
    {
     "name": "stdout",
     "output_type": "stream",
     "text": [
      "['secret']\n",
      "sense_intersect ['secret | secrètement']\n",
      "secret засекреченный\n",
      "https://context.reverso.net/перевод/английский-французский/secret\n",
      "['secret', 'caché', 'clandestin', 'confidentiel', 'cachette', 'mystère', 'cachent', 'secrètement', 'cacher', 'annexe']\n",
      "https://context.reverso.net/перевод/русский-французский/засекреченный\n",
      "turn to alternative marks\n"
     ]
    },
    {
     "name": "stderr",
     "output_type": "stream",
     "text": [
      "\n",
      "\n",
      " 71%|███████▏  | 483/676 [40:44<16:03,  4.99s/it]\u001b[A\u001b[A"
     ]
    },
    {
     "name": "stdout",
     "output_type": "stream",
     "text": [
      "['secret', 'top-secret']\n",
      "sense_intersect ['secret | top-secret | secrètement']\n",
      "secret скрытый\n",
      "https://context.reverso.net/перевод/английский-французский/secret\n",
      "['secret', 'caché', 'clandestin', 'confidentiel', 'cachette', 'mystère', 'cachent', 'secrètement', 'cacher', 'annexe']\n",
      "https://context.reverso.net/перевод/русский-французский/скрытый\n"
     ]
    },
    {
     "name": "stderr",
     "output_type": "stream",
     "text": [
      "\n",
      "\n",
      " 72%|███████▏  | 484/676 [40:48<15:48,  4.94s/it]\u001b[A\u001b[A"
     ]
    },
    {
     "name": "stdout",
     "output_type": "stream",
     "text": [
      "['caché']\n",
      "sense_intersect ['caché']\n",
      "secret закрытый\n",
      "https://context.reverso.net/перевод/английский-французский/secret\n",
      "['secret', 'caché', 'clandestin', 'confidentiel', 'cachette', 'mystère', 'cachent', 'secrètement', 'cacher', 'annexe']\n",
      "https://context.reverso.net/перевод/русский-французский/закрытый\n"
     ]
    },
    {
     "name": "stderr",
     "output_type": "stream",
     "text": [
      "\n",
      "\n",
      " 72%|███████▏  | 485/676 [40:53<15:43,  4.94s/it]\u001b[A\u001b[A"
     ]
    },
    {
     "name": "stdout",
     "output_type": "stream",
     "text": [
      "['fermé']\n",
      "sense_intersect ['no_equality']\n",
      "secret затаенный\n",
      "https://context.reverso.net/перевод/английский-французский/secret\n",
      "['secret', 'caché', 'clandestin', 'confidentiel', 'cachette', 'mystère', 'cachent', 'secrètement', 'cacher', 'annexe']\n",
      "https://context.reverso.net/перевод/русский-французский/затаенный\n",
      "turn to alternative marks\n"
     ]
    },
    {
     "name": "stderr",
     "output_type": "stream",
     "text": [
      "\n",
      "\n",
      " 72%|███████▏  | 486/676 [40:58<15:26,  4.88s/it]\u001b[A\u001b[A"
     ]
    },
    {
     "name": "stdout",
     "output_type": "stream",
     "text": [
      "[]\n",
      "sense_intersect ['no_equality']\n",
      "secret тайно\n",
      "https://context.reverso.net/перевод/английский-французский/secret\n",
      "['secret', 'caché', 'clandestin', 'confidentiel', 'cachette', 'mystère', 'cachent', 'secrètement', 'cacher', 'annexe']\n",
      "https://context.reverso.net/перевод/русский-французский/тайно\n"
     ]
    },
    {
     "name": "stderr",
     "output_type": "stream",
     "text": [
      "\n",
      "\n",
      " 72%|███████▏  | 487/676 [41:03<15:22,  4.88s/it]\u001b[A\u001b[A"
     ]
    },
    {
     "name": "stdout",
     "output_type": "stream",
     "text": [
      "['secrètement', 'en secret', 'clandestinement']\n",
      "sense_intersect ['secrètement | secret | mystère | en secret | clandestinement', 'clandestin | clandestinement', 'confidentiel | clandestinement']\n",
      "secret в секрете\n",
      "https://context.reverso.net/перевод/английский-французский/secret\n",
      "['secret', 'caché', 'clandestin', 'confidentiel', 'cachette', 'mystère', 'cachent', 'secrètement', 'cacher', 'annexe']\n",
      "https://context.reverso.net/перевод/русский-французский/в секрете\n"
     ]
    },
    {
     "name": "stderr",
     "output_type": "stream",
     "text": [
      "\n",
      "\n",
      " 72%|███████▏  | 488/676 [41:08<15:22,  4.91s/it]\u001b[A\u001b[A"
     ]
    },
    {
     "name": "stdout",
     "output_type": "stream",
     "text": [
      "['secrète', 'secret']\n",
      "sense_intersect ['secret | secrète | secrètement']\n",
      "this этот\n",
      "https://context.reverso.net/перевод/английский-французский/this\n",
      "['c', 'présent', 'l', 'ici', 'ainsi', 'voici', 'ce', 'cela', 'le', 'il', 'ceci', 'on', 'celui-ci', 'une', 'telle', 'sa', \"j'\", 'celle-là', 'ses', 'nos', 'ta']\n",
      "https://context.reverso.net/перевод/русский-французский/этот\n"
     ]
    },
    {
     "name": "stderr",
     "output_type": "stream",
     "text": [
      "\n",
      "\n",
      " 72%|███████▏  | 489/676 [41:13<15:50,  5.08s/it]\u001b[A\u001b[A"
     ]
    },
    {
     "name": "stdout",
     "output_type": "stream",
     "text": [
      "['ce', 'son', 'celui-ci', 'notre', 'le', 'il', 'cela', 'celui-là', 'celle-ci', 'ceci']\n",
      "sense_intersect ['ce | ceci', 'cela | celle-ci', 'le | telle | celle-là', 'il', 'ceci', 'celui-ci | celui-là', 'nos | son']\n",
      "this это\n",
      "https://context.reverso.net/перевод/английский-французский/this\n",
      "['c', 'présent', 'l', 'ici', 'ainsi', 'voici', 'ce', 'cela', 'le', 'il', 'ceci', 'on', 'celui-ci', 'une', 'telle', 'sa', \"j'\", 'celle-là', 'ses', 'nos', 'ta']\n",
      "https://context.reverso.net/перевод/русский-французский/это\n"
     ]
    },
    {
     "name": "stderr",
     "output_type": "stream",
     "text": [
      "\n",
      "\n",
      " 72%|███████▏  | 490/676 [41:18<15:32,  5.01s/it]\u001b[A\u001b[A"
     ]
    },
    {
     "name": "stdout",
     "output_type": "stream",
     "text": [
      "[\"c'est\", 'cela', 'ce', 'le', 'c', 'il', 'un', 'je', 'tu', 'en', 'on', 'ceci', 'y', 'tout', 'celui-ci']\n",
      "sense_intersect ['c', 'ce | ceci', 'cela', 'le | telle | celle-là', 'il', 'ceci', 'on', 'celui-ci']\n",
      "this настоящий\n",
      "https://context.reverso.net/перевод/английский-французский/this\n",
      "['c', 'présent', 'l', 'ici', 'ainsi', 'voici', 'ce', 'cela', 'le', 'il', 'ceci', 'on', 'celui-ci', 'une', 'telle', 'sa', \"j'\", 'celle-là', 'ses', 'nos', 'ta']\n",
      "https://context.reverso.net/перевод/русский-французский/настоящий\n"
     ]
    },
    {
     "name": "stderr",
     "output_type": "stream",
     "text": [
      "\n",
      "\n",
      " 73%|███████▎  | 491/676 [41:23<15:20,  4.98s/it]\u001b[A\u001b[A"
     ]
    },
    {
     "name": "stdout",
     "output_type": "stream",
     "text": [
      "['présent', 'vrai', 'véritable', 'réel', 'actuel', 'authentique', 'la présente', 'vraiment', 'faux']\n",
      "sense_intersect ['présent | la présente']\n",
      "this то\n",
      "https://context.reverso.net/перевод/английский-французский/this\n",
      "['c', 'présent', 'l', 'ici', 'ainsi', 'voici', 'ce', 'cela', 'le', 'il', 'ceci', 'on', 'celui-ci', 'une', 'telle', 'sa', \"j'\", 'celle-là', 'ses', 'nos', 'ta']\n",
      "https://context.reverso.net/перевод/русский-французский/то\n"
     ]
    },
    {
     "name": "stderr",
     "output_type": "stream",
     "text": [
      "\n",
      "\n",
      " 73%|███████▎  | 492/676 [41:28<15:30,  5.05s/it]\u001b[A\u001b[A"
     ]
    },
    {
     "name": "stdout",
     "output_type": "stream",
     "text": [
      "['ce', 'le', 'il', 'alors', 'même', 'est', \"c'\", 'je', 'on', 'ça', 'fait', 'donc', 'tu', 'quelque chose', 'façon']\n",
      "sense_intersect ['ce | ceci', 'le | telle | celle-là', 'il', 'on']\n",
      "this так\n",
      "https://context.reverso.net/перевод/английский-французский/this\n",
      "['c', 'présent', 'l', 'ici', 'ainsi', 'voici', 'ce', 'cela', 'le', 'il', 'ceci', 'on', 'celui-ci', 'une', 'telle', 'sa', \"j'\", 'celle-là', 'ses', 'nos', 'ta']\n",
      "https://context.reverso.net/перевод/русский-французский/так\n"
     ]
    },
    {
     "name": "stderr",
     "output_type": "stream",
     "text": [
      "\n",
      "\n",
      " 73%|███████▎  | 493/676 [41:33<15:17,  5.02s/it]\u001b[A\u001b[A"
     ]
    },
    {
     "name": "stdout",
     "output_type": "stream",
     "text": [
      "['donc', 'alors', 'si', 'aussi', 'tellement', 'non', 'comme ça', 'ainsi', 'autant', 'tant', 'bien', 'vrai', 'tout', 'vraiment', 'trop']\n",
      "sense_intersect ['ainsi', 'on | non', 'telle | tellement']\n",
      "guru гуру\n",
      "https://context.reverso.net/перевод/английский-французский/guru\n",
      "['gourou']\n",
      "https://context.reverso.net/перевод/русский-французский/гуру\n"
     ]
    },
    {
     "name": "stderr",
     "output_type": "stream",
     "text": [
      "\n",
      "\n",
      " 73%|███████▎  | 494/676 [41:38<15:13,  5.02s/it]\u001b[A\u001b[A"
     ]
    },
    {
     "name": "stdout",
     "output_type": "stream",
     "text": [
      "['gourou']\n",
      "sense_intersect ['gourou']\n",
      "star звезда\n",
      "https://context.reverso.net/перевод/английский-французский/star\n",
      "['star', 'étoile', 'vedette', 'astre', 'étoilée', 'phare', 'célébrité', 'protagoniste', 'stellaire', 'jouer', 'célèbre', 'astérisque', \"star's\", 'cerveau']\n",
      "https://context.reverso.net/перевод/русский-французский/звезда\n"
     ]
    },
    {
     "name": "stderr",
     "output_type": "stream",
     "text": [
      "\n",
      "\n",
      " 73%|███████▎  | 495/676 [41:44<15:27,  5.13s/it]\u001b[A\u001b[A"
     ]
    },
    {
     "name": "stdout",
     "output_type": "stream",
     "text": [
      "['étoile', 'star', 'vedette']\n",
      "sense_intersect [\"star | astre | star's\", 'étoile | étoilée', 'vedette']\n",
      "star светило\n",
      "https://context.reverso.net/перевод/английский-французский/star\n",
      "['star', 'étoile', 'vedette', 'astre', 'étoilée', 'phare', 'célébrité', 'protagoniste', 'stellaire', 'jouer', 'célèbre', 'astérisque', \"star's\", 'cerveau']\n",
      "https://context.reverso.net/перевод/русский-французский/светило\n",
      "turn to alternative marks\n"
     ]
    },
    {
     "name": "stderr",
     "output_type": "stream",
     "text": [
      "\n",
      "\n",
      " 73%|███████▎  | 496/676 [41:49<15:10,  5.06s/it]\u001b[A\u001b[A"
     ]
    },
    {
     "name": "stdout",
     "output_type": "stream",
     "text": [
      "['idole', 'astre', 'brillait', 'soleil', 'brille', 'lumineux']\n",
      "sense_intersect ['astre | star', 'stellaire | brille']\n",
      "star кинозвезда\n",
      "https://context.reverso.net/перевод/английский-французский/star\n",
      "['star', 'étoile', 'vedette', 'astre', 'étoilée', 'phare', 'célébrité', 'protagoniste', 'stellaire', 'jouer', 'célèbre', 'astérisque', \"star's\", 'cerveau']\n",
      "https://context.reverso.net/перевод/русский-французский/кинозвезда\n",
      "turn to alternative marks\n"
     ]
    },
    {
     "name": "stderr",
     "output_type": "stream",
     "text": [
      "\n",
      "\n",
      " 74%|███████▎  | 497/676 [41:54<14:57,  5.01s/it]\u001b[A\u001b[A"
     ]
    },
    {
     "name": "stdout",
     "output_type": "stream",
     "text": [
      "['star de cinéma', 'vedette de cinéma', 'acteur', 'vedette du cinéma']\n",
      "sense_intersect ['vedette | vedette de cinéma | vedette du cinéma', 'cerveau | acteur']\n",
      "star стар\n",
      "https://context.reverso.net/перевод/английский-французский/star\n",
      "['star', 'étoile', 'vedette', 'astre', 'étoilée', 'phare', 'célébrité', 'protagoniste', 'stellaire', 'jouer', 'célèbre', 'astérisque', \"star's\", 'cerveau']\n",
      "https://context.reverso.net/перевод/русский-французский/стар\n"
     ]
    },
    {
     "name": "stderr",
     "output_type": "stream",
     "text": [
      "\n",
      "\n",
      " 74%|███████▎  | 498/676 [41:58<14:45,  4.98s/it]\u001b[A\u001b[A"
     ]
    },
    {
     "name": "stdout",
     "output_type": "stream",
     "text": [
      "['âgé', 'vieux', 'star']\n",
      "sense_intersect [\"star | astre | star's\"]\n",
      "star главные роли\n",
      "https://context.reverso.net/перевод/английский-французский/star\n",
      "['star', 'étoile', 'vedette', 'astre', 'étoilée', 'phare', 'célébrité', 'protagoniste', 'stellaire', 'jouer', 'célèbre', 'astérisque', \"star's\", 'cerveau']\n",
      "https://context.reverso.net/перевод/русский-французский/главные роли\n",
      "turn to alternative marks\n"
     ]
    },
    {
     "name": "stderr",
     "output_type": "stream",
     "text": [
      "\n",
      "\n",
      " 74%|███████▍  | 499/676 [42:03<14:35,  4.95s/it]\u001b[A\u001b[A"
     ]
    },
    {
     "name": "stdout",
     "output_type": "stream",
     "text": [
      "['le meneur', 'les rôles principaux']\n",
      "sense_intersect ['stellaire | les rôles principaux']\n",
      "star дива\n",
      "https://context.reverso.net/перевод/английский-французский/star\n",
      "['star', 'étoile', 'vedette', 'astre', 'étoilée', 'phare', 'célébrité', 'protagoniste', 'stellaire', 'jouer', 'célèbre', 'astérisque', \"star's\", 'cerveau']\n",
      "https://context.reverso.net/перевод/русский-французский/дива\n"
     ]
    },
    {
     "name": "stderr",
     "output_type": "stream",
     "text": [
      "\n",
      "\n",
      " 74%|███████▍  | 500/676 [42:08<14:26,  4.92s/it]\u001b[A\u001b[A"
     ]
    },
    {
     "name": "stdout",
     "output_type": "stream",
     "text": [
      "['diva']\n",
      "sense_intersect ['no_equality']\n",
      "star звездный\n",
      "https://context.reverso.net/перевод/английский-французский/star\n",
      "['star', 'étoile', 'vedette', 'astre', 'étoilée', 'phare', 'célébrité', 'protagoniste', 'stellaire', 'jouer', 'célèbre', 'astérisque', \"star's\", 'cerveau']\n",
      "https://context.reverso.net/перевод/русский-французский/звездный\n",
      "turn to alternative marks\n"
     ]
    },
    {
     "name": "stderr",
     "output_type": "stream",
     "text": [
      "\n",
      "\n",
      " 74%|███████▍  | 501/676 [42:14<14:45,  5.06s/it]\u001b[A\u001b[A"
     ]
    },
    {
     "name": "stdout",
     "output_type": "stream",
     "text": [
      "['stellaire', 'astral', 'glaive des étoiles', 'joueur', 'lanceur', 'trooper']\n",
      "sense_intersect ['stellaire | glaive des étoiles', 'star | astral', 'protagoniste | trooper', 'jouer | joueur', 'cerveau | lanceur']\n",
      "star сниматься\n",
      "https://context.reverso.net/перевод/английский-французский/star\n",
      "['star', 'étoile', 'vedette', 'astre', 'étoilée', 'phare', 'célébrité', 'protagoniste', 'stellaire', 'jouer', 'célèbre', 'astérisque', \"star's\", 'cerveau']\n",
      "https://context.reverso.net/перевод/русский-французский/сниматься\n"
     ]
    },
    {
     "name": "stderr",
     "output_type": "stream",
     "text": [
      "\n",
      "\n",
      " 74%|███████▍  | 502/676 [42:19<15:08,  5.22s/it]\u001b[A\u001b[A"
     ]
    },
    {
     "name": "stdout",
     "output_type": "stream",
     "text": [
      "['jouer', 'faire']\n",
      "sense_intersect ['jouer']\n",
      "star играть главные роли\n",
      "https://context.reverso.net/перевод/английский-французский/star\n",
      "['star', 'étoile', 'vedette', 'astre', 'étoilée', 'phare', 'célébrité', 'protagoniste', 'stellaire', 'jouer', 'célèbre', 'astérisque', \"star's\", 'cerveau']\n",
      "https://context.reverso.net/перевод/русский-французский/играть главные роли\n"
     ]
    },
    {
     "name": "stderr",
     "output_type": "stream",
     "text": [
      "\n",
      "\n",
      " 74%|███████▍  | 503/676 [42:25<15:07,  5.25s/it]\u001b[A\u001b[A"
     ]
    },
    {
     "name": "stdout",
     "output_type": "stream",
     "text": [
      "['jouer', 'faire', 'jouera un', 'contribuer', 'rôle', 'le meneur']\n",
      "sense_intersect ['jouer | jouera un', 'protagoniste | contribuer']\n",
      "benefit выгода\n",
      "https://context.reverso.net/перевод/английский-французский/benefit\n",
      "['avantage', 'bénéfice', 'prestation', 'profit', 'intérêt', 'allocation', 'faveur', 'bien', 'bénéficier', 'profiter', 'tirer profit', 'tirer parti', 'avantager', 'tirer bénéfice', 'indemnité', 'intention', 'bénéfique', 'utile', 'gain', 'apport', 'avantageux', 'jouissent']\n",
      "https://context.reverso.net/перевод/русский-французский/выгода\n",
      "turn to alternative marks\n"
     ]
    },
    {
     "name": "stderr",
     "output_type": "stream",
     "text": [
      "\n",
      "\n",
      " 75%|███████▍  | 504/676 [42:29<14:47,  5.16s/it]\u001b[A\u001b[A"
     ]
    },
    {
     "name": "stdout",
     "output_type": "stream",
     "text": [
      "['avantage', 'profit', 'bénéfice', 'intérêt', 'gain', 'profiterait', 'rapporte', \"que j'y gagne\", 'latents', 'y gagnez', 'y gagnes quoi', 'y gagne quoi']\n",
      "sense_intersect ['avantage | avantager | avantageux', 'bénéfice | bénéficier | tirer bénéfice | bénéfique', 'profit | prestation | profiterait | rapporte | profiter | tirer profit | tirer parti | apport', 'intérêt', 'gain']\n",
      "benefit преимущество\n",
      "https://context.reverso.net/перевод/английский-французский/benefit\n",
      "['avantage', 'bénéfice', 'prestation', 'profit', 'intérêt', 'allocation', 'faveur', 'bien', 'bénéficier', 'profiter', 'tirer profit', 'tirer parti', 'avantager', 'tirer bénéfice', 'indemnité', 'intention', 'bénéfique', 'utile', 'gain', 'apport', 'avantageux', 'jouissent']\n",
      "https://context.reverso.net/перевод/русский-французский/преимущество\n"
     ]
    },
    {
     "name": "stderr",
     "output_type": "stream",
     "text": [
      "\n",
      "\n",
      " 75%|███████▍  | 505/676 [42:34<14:31,  5.10s/it]\u001b[A\u001b[A"
     ]
    },
    {
     "name": "stdout",
     "output_type": "stream",
     "text": [
      "['avantage', 'atout', 'avance']\n",
      "sense_intersect ['avantage | avance | avantager | avantageux']\n",
      "benefit привилегия\n",
      "https://context.reverso.net/перевод/английский-французский/benefit\n",
      "['avantage', 'bénéfice', 'prestation', 'profit', 'intérêt', 'allocation', 'faveur', 'bien', 'bénéficier', 'profiter', 'tirer profit', 'tirer parti', 'avantager', 'tirer bénéfice', 'indemnité', 'intention', 'bénéfique', 'utile', 'gain', 'apport', 'avantageux', 'jouissent']\n",
      "https://context.reverso.net/перевод/русский-французский/привилегия\n"
     ]
    },
    {
     "name": "stderr",
     "output_type": "stream",
     "text": [
      "\n",
      "\n",
      " 75%|███████▍  | 506/676 [42:40<14:34,  5.14s/it]\u001b[A\u001b[A"
     ]
    },
    {
     "name": "stdout",
     "output_type": "stream",
     "text": [
      "['privilège']\n",
      "sense_intersect ['no_equality']\n",
      "benefit пособие\n",
      "https://context.reverso.net/перевод/английский-французский/benefit\n",
      "['avantage', 'bénéfice', 'prestation', 'profit', 'intérêt', 'allocation', 'faveur', 'bien', 'bénéficier', 'profiter', 'tirer profit', 'tirer parti', 'avantager', 'tirer bénéfice', 'indemnité', 'intention', 'bénéfique', 'utile', 'gain', 'apport', 'avantageux', 'jouissent']\n",
      "https://context.reverso.net/перевод/русский-французский/пособие\n"
     ]
    },
    {
     "name": "stderr",
     "output_type": "stream",
     "text": [
      "\n",
      "\n",
      " 75%|███████▌  | 507/676 [42:45<14:22,  5.11s/it]\u001b[A\u001b[A"
     ]
    },
    {
     "name": "stdout",
     "output_type": "stream",
     "text": [
      "['allocation', 'manuel', 'indemnité', 'prestation', 'guide', 'prime', 'aide', 'versée', 'pension']\n",
      "sense_intersect ['prestation | profit | profiter | tirer profit | tirer parti | apport | jouissent', 'allocation', 'indemnité | intention']\n",
      "benefit благо\n",
      "https://context.reverso.net/перевод/английский-французский/benefit\n",
      "['avantage', 'bénéfice', 'prestation', 'profit', 'intérêt', 'allocation', 'faveur', 'bien', 'bénéficier', 'profiter', 'tirer profit', 'tirer parti', 'avantager', 'tirer bénéfice', 'indemnité', 'intention', 'bénéfique', 'utile', 'gain', 'apport', 'avantageux', 'jouissent']\n",
      "https://context.reverso.net/перевод/русский-французский/благо\n"
     ]
    },
    {
     "name": "stderr",
     "output_type": "stream",
     "text": [
      "\n",
      "\n",
      " 75%|███████▌  | 508/676 [42:50<14:12,  5.07s/it]\u001b[A\u001b[A"
     ]
    },
    {
     "name": "stdout",
     "output_type": "stream",
     "text": [
      "['bien', 'intérêt', 'bien-être', 'humanité']\n",
      "sense_intersect ['intérêt', 'bien | bien-être', 'prestation | bien-être']\n",
      "benefit прибыль\n",
      "https://context.reverso.net/перевод/английский-французский/benefit\n",
      "['avantage', 'bénéfice', 'prestation', 'profit', 'intérêt', 'allocation', 'faveur', 'bien', 'bénéficier', 'profiter', 'tirer profit', 'tirer parti', 'avantager', 'tirer bénéfice', 'indemnité', 'intention', 'bénéfique', 'utile', 'gain', 'apport', 'avantageux', 'jouissent']\n",
      "https://context.reverso.net/перевод/русский-французский/прибыль\n"
     ]
    },
    {
     "name": "stderr",
     "output_type": "stream",
     "text": [
      "\n",
      "\n",
      " 75%|███████▌  | 509/676 [42:55<14:00,  5.03s/it]\u001b[A\u001b[A"
     ]
    },
    {
     "name": "stdout",
     "output_type": "stream",
     "text": [
      "['bénéfice', 'profit', 'argent', 'rendement', 'revenu']\n",
      "sense_intersect ['bénéfice | bénéficier | tirer bénéfice | bénéfique', 'profit | prestation | profiter | tirer profit | tirer parti | apport', 'faveur | revenu', 'avantager | argent']\n",
      "benefit эффект\n",
      "https://context.reverso.net/перевод/английский-французский/benefit\n",
      "['avantage', 'bénéfice', 'prestation', 'profit', 'intérêt', 'allocation', 'faveur', 'bien', 'bénéficier', 'profiter', 'tirer profit', 'tirer parti', 'avantager', 'tirer bénéfice', 'indemnité', 'intention', 'bénéfique', 'utile', 'gain', 'apport', 'avantageux', 'jouissent']\n",
      "https://context.reverso.net/перевод/русский-французский/эффект\n"
     ]
    },
    {
     "name": "stderr",
     "output_type": "stream",
     "text": [
      "\n",
      "\n",
      " 75%|███████▌  | 510/676 [43:00<13:51,  5.01s/it]\u001b[A\u001b[A"
     ]
    },
    {
     "name": "stdout",
     "output_type": "stream",
     "text": [
      "['effet', 'impact', 'serre', 'synergie']\n",
      "sense_intersect ['no_equality']\n",
      "benefit выигрыш\n",
      "https://context.reverso.net/перевод/английский-французский/benefit\n",
      "['avantage', 'bénéfice', 'prestation', 'profit', 'intérêt', 'allocation', 'faveur', 'bien', 'bénéficier', 'profiter', 'tirer profit', 'tirer parti', 'avantager', 'tirer bénéfice', 'indemnité', 'intention', 'bénéfique', 'utile', 'gain', 'apport', 'avantageux', 'jouissent']\n",
      "https://context.reverso.net/перевод/русский-французский/выигрыш\n"
     ]
    },
    {
     "name": "stderr",
     "output_type": "stream",
     "text": [
      "\n",
      "\n",
      " 76%|███████▌  | 511/676 [43:05<13:44,  5.00s/it]\u001b[A\u001b[A"
     ]
    },
    {
     "name": "stdout",
     "output_type": "stream",
     "text": [
      "['gagner']\n",
      "sense_intersect ['no_equality']\n",
      "benefit плод\n",
      "https://context.reverso.net/перевод/английский-французский/benefit\n",
      "['avantage', 'bénéfice', 'prestation', 'profit', 'intérêt', 'allocation', 'faveur', 'bien', 'bénéficier', 'profiter', 'tirer profit', 'tirer parti', 'avantager', 'tirer bénéfice', 'indemnité', 'intention', 'bénéfique', 'utile', 'gain', 'apport', 'avantageux', 'jouissent']\n",
      "https://context.reverso.net/перевод/русский-французский/плод\n"
     ]
    },
    {
     "name": "stderr",
     "output_type": "stream",
     "text": [
      "\n",
      "\n",
      " 76%|███████▌  | 512/676 [43:09<13:34,  4.97s/it]\u001b[A\u001b[A"
     ]
    },
    {
     "name": "stdout",
     "output_type": "stream",
     "text": [
      "['fœtus', 'fruit']\n",
      "sense_intersect ['profit | fruit', 'profiter | fruit', 'tirer profit | fruit', 'tirer parti | fruit']\n",
      "benefit приносить пользу\n",
      "https://context.reverso.net/перевод/английский-французский/benefit\n",
      "['avantage', 'bénéfice', 'prestation', 'profit', 'intérêt', 'allocation', 'faveur', 'bien', 'bénéficier', 'profiter', 'tirer profit', 'tirer parti', 'avantager', 'tirer bénéfice', 'indemnité', 'intention', 'bénéfique', 'utile', 'gain', 'apport', 'avantageux', 'jouissent']\n",
      "https://context.reverso.net/перевод/русский-французский/приносить пользу\n",
      "turn to alternative marks\n"
     ]
    },
    {
     "name": "stderr",
     "output_type": "stream",
     "text": [
      "\n",
      "\n",
      " 76%|███████▌  | 513/676 [43:15<13:33,  4.99s/it]\u001b[A\u001b[A"
     ]
    },
    {
     "name": "stdout",
     "output_type": "stream",
     "text": [
      "['bénéficier', 'être bénéfique pour', 'être utile', 'bénéfiques', 'être profitable', 'bénéfice']\n",
      "sense_intersect ['bénéfice | bénéficier | bénéfiques', 'bénéficier', 'prestation | être utile | être profitable', 'profiter | être bénéfique pour | être utile', 'tirer bénéfice | être bénéfique pour | bénéfice', 'bénéfique | être bénéfique pour']\n",
      "benefit принести пользу\n",
      "https://context.reverso.net/перевод/английский-французский/benefit\n",
      "['avantage', 'bénéfice', 'prestation', 'profit', 'intérêt', 'allocation', 'faveur', 'bien', 'bénéficier', 'profiter', 'tirer profit', 'tirer parti', 'avantager', 'tirer bénéfice', 'indemnité', 'intention', 'bénéfique', 'utile', 'gain', 'apport', 'avantageux', 'jouissent']\n",
      "https://context.reverso.net/перевод/русский-французский/принести пользу\n"
     ]
    },
    {
     "name": "stderr",
     "output_type": "stream",
     "text": [
      "\n",
      "\n",
      " 76%|███████▌  | 514/676 [43:21<14:32,  5.39s/it]\u001b[A\u001b[A"
     ]
    },
    {
     "name": "stdout",
     "output_type": "stream",
     "text": [
      "['bénéficier']\n",
      "sense_intersect ['bénéficier | bénéfice | tirer bénéfice | bénéfique']\n",
      "benefit выигрывать\n",
      "https://context.reverso.net/перевод/английский-французский/benefit\n",
      "['avantage', 'bénéfice', 'prestation', 'profit', 'intérêt', 'allocation', 'faveur', 'bien', 'bénéficier', 'profiter', 'tirer profit', 'tirer parti', 'avantager', 'tirer bénéfice', 'indemnité', 'intention', 'bénéfique', 'utile', 'gain', 'apport', 'avantageux', 'jouissent']\n",
      "https://context.reverso.net/перевод/русский-французский/выигрывать\n"
     ]
    },
    {
     "name": "stderr",
     "output_type": "stream",
     "text": [
      "\n",
      "\n",
      " 76%|███████▌  | 515/676 [43:26<14:04,  5.24s/it]\u001b[A\u001b[A"
     ]
    },
    {
     "name": "stdout",
     "output_type": "stream",
     "text": [
      "['gagner']\n",
      "sense_intersect ['no_equality']\n",
      "benefit выгодный\n",
      "https://context.reverso.net/перевод/английский-французский/benefit\n",
      "['avantage', 'bénéfice', 'prestation', 'profit', 'intérêt', 'allocation', 'faveur', 'bien', 'bénéficier', 'profiter', 'tirer profit', 'tirer parti', 'avantager', 'tirer bénéfice', 'indemnité', 'intention', 'bénéfique', 'utile', 'gain', 'apport', 'avantageux', 'jouissent']\n",
      "https://context.reverso.net/перевод/русский-французский/выгодный\n",
      "turn to alternative marks\n"
     ]
    },
    {
     "name": "stderr",
     "output_type": "stream",
     "text": [
      "\n",
      "\n",
      " 76%|███████▋  | 516/676 [43:31<13:43,  5.15s/it]\u001b[A\u001b[A"
     ]
    },
    {
     "name": "stdout",
     "output_type": "stream",
     "text": [
      "['profitable', 'avantageux', 'lucratif']\n",
      "sense_intersect ['avantageux | avantage | avantager', 'prestation | profitable', 'profit | profitable | lucratif', 'profiter | profitable', 'tirer profit | profitable', 'tirer parti | profitable']\n",
      "strength сила\n",
      "https://context.reverso.net/перевод/английский-французский/strength\n",
      "['force', 'résistance', 'intensité', 'puissance', 'effectif', 'solidité', 'vigueur', 'robustesse', 'fort', 'pouvoir', 'résistant', 'forte', 'élasticité', 'atout', 'rigidité', 'ressource']\n",
      "https://context.reverso.net/перевод/русский-французский/сила\n"
     ]
    },
    {
     "name": "stderr",
     "output_type": "stream",
     "text": [
      "\n",
      "\n",
      " 76%|███████▋  | 517/676 [43:36<13:24,  5.06s/it]\u001b[A\u001b[A"
     ]
    },
    {
     "name": "stdout",
     "output_type": "stream",
     "text": [
      "['force', 'pouvoir', 'puissance', 'intensité', 'puissant', \"main-d'œuvre\", 'moteur', 'gravité']\n",
      "sense_intersect ['force | forte', 'intensité | résistant', 'puissance | résistance | puissant', 'pouvoir', 'rigidité | gravité']\n",
      "strength прочность\n",
      "https://context.reverso.net/перевод/английский-французский/strength\n",
      "['force', 'résistance', 'intensité', 'puissance', 'effectif', 'solidité', 'vigueur', 'robustesse', 'fort', 'pouvoir', 'résistant', 'forte', 'élasticité', 'atout', 'rigidité', 'ressource']\n",
      "https://context.reverso.net/перевод/русский-французский/прочность\n"
     ]
    },
    {
     "name": "stderr",
     "output_type": "stream",
     "text": [
      "\n",
      "\n",
      " 77%|███████▋  | 518/676 [43:40<13:13,  5.02s/it]\u001b[A\u001b[A"
     ]
    },
    {
     "name": "stdout",
     "output_type": "stream",
     "text": [
      "['résistance', 'épreuve']\n",
      "sense_intersect ['résistance | puissance | résistant']\n",
      "strength напряженность\n",
      "https://context.reverso.net/перевод/английский-французский/strength\n",
      "['force', 'résistance', 'intensité', 'puissance', 'effectif', 'solidité', 'vigueur', 'robustesse', 'fort', 'pouvoir', 'résistant', 'forte', 'élasticité', 'atout', 'rigidité', 'ressource']\n",
      "https://context.reverso.net/перевод/русский-французский/напряженность\n"
     ]
    },
    {
     "name": "stderr",
     "output_type": "stream",
     "text": [
      "\n",
      "\n",
      " 77%|███████▋  | 519/676 [43:45<13:05,  5.01s/it]\u001b[A\u001b[A"
     ]
    },
    {
     "name": "stdout",
     "output_type": "stream",
     "text": [
      "['tension']\n",
      "sense_intersect ['intensité | tension']\n",
      "strength крепость\n",
      "https://context.reverso.net/перевод/английский-французский/strength\n",
      "['force', 'résistance', 'intensité', 'puissance', 'effectif', 'solidité', 'vigueur', 'robustesse', 'fort', 'pouvoir', 'résistant', 'forte', 'élasticité', 'atout', 'rigidité', 'ressource']\n",
      "https://context.reverso.net/перевод/русский-французский/крепость\n"
     ]
    },
    {
     "name": "stderr",
     "output_type": "stream",
     "text": [
      "\n",
      "\n",
      " 77%|███████▋  | 520/676 [43:50<12:54,  4.96s/it]\u001b[A\u001b[A"
     ]
    },
    {
     "name": "stdout",
     "output_type": "stream",
     "text": [
      "['forteresse', 'fort']\n",
      "sense_intersect ['fort', 'robustesse | forteresse', 'forte | forteresse | fort', 'ressource | forteresse']\n",
      "strength численность\n",
      "https://context.reverso.net/перевод/английский-французский/strength\n",
      "['force', 'résistance', 'intensité', 'puissance', 'effectif', 'solidité', 'vigueur', 'robustesse', 'fort', 'pouvoir', 'résistant', 'forte', 'élasticité', 'atout', 'rigidité', 'ressource']\n",
      "https://context.reverso.net/перевод/русский-французский/численность\n"
     ]
    },
    {
     "name": "stderr",
     "output_type": "stream",
     "text": [
      "\n",
      "\n",
      " 77%|███████▋  | 521/676 [43:55<12:59,  5.03s/it]\u001b[A\u001b[A"
     ]
    },
    {
     "name": "stdout",
     "output_type": "stream",
     "text": [
      "['nombre', 'population', 'effectif', 'effectif', 'taille', 'taux', 'chiffre', 'personnel']\n",
      "sense_intersect ['effectif | chiffre', 'force | chiffre', 'pouvoir | population']\n",
      "strength достоинство\n",
      "https://context.reverso.net/перевод/английский-французский/strength\n",
      "['force', 'résistance', 'intensité', 'puissance', 'effectif', 'solidité', 'vigueur', 'robustesse', 'fort', 'pouvoir', 'résistant', 'forte', 'élasticité', 'atout', 'rigidité', 'ressource']\n",
      "https://context.reverso.net/перевод/русский-французский/достоинство\n"
     ]
    },
    {
     "name": "stderr",
     "output_type": "stream",
     "text": [
      "\n",
      "\n",
      " 77%|███████▋  | 522/676 [44:00<12:45,  4.97s/it]\u001b[A\u001b[A"
     ]
    },
    {
     "name": "stdout",
     "output_type": "stream",
     "text": [
      "['dignité', 'vertu', 'dégradant', 'dégradante']\n",
      "sense_intersect ['intensité | dignité', 'vigueur | vertu', 'rigidité | dignité']\n",
      "strength мощность\n",
      "https://context.reverso.net/перевод/английский-французский/strength\n",
      "['force', 'résistance', 'intensité', 'puissance', 'effectif', 'solidité', 'vigueur', 'robustesse', 'fort', 'pouvoir', 'résistant', 'forte', 'élasticité', 'atout', 'rigidité', 'ressource']\n",
      "https://context.reverso.net/перевод/русский-французский/мощность\n"
     ]
    },
    {
     "name": "stderr",
     "output_type": "stream",
     "text": [
      "\n",
      "\n",
      " 77%|███████▋  | 523/676 [44:05<12:37,  4.95s/it]\u001b[A\u001b[A"
     ]
    },
    {
     "name": "stdout",
     "output_type": "stream",
     "text": [
      "['puissance', 'capacité']\n",
      "sense_intersect ['puissance | résistance']\n",
      "strength сильная сторона\n",
      "https://context.reverso.net/перевод/английский-французский/strength\n",
      "['force', 'résistance', 'intensité', 'puissance', 'effectif', 'solidité', 'vigueur', 'robustesse', 'fort', 'pouvoir', 'résistant', 'forte', 'élasticité', 'atout', 'rigidité', 'ressource']\n",
      "https://context.reverso.net/перевод/русский-французский/сильная сторона\n"
     ]
    },
    {
     "name": "stderr",
     "output_type": "stream",
     "text": [
      "\n",
      "\n",
      " 78%|███████▊  | 524/676 [44:10<12:35,  4.97s/it]\u001b[A\u001b[A"
     ]
    },
    {
     "name": "stdout",
     "output_type": "stream",
     "text": [
      "['fort']\n",
      "sense_intersect ['fort | forte']\n",
      "strength усилие\n",
      "https://context.reverso.net/перевод/английский-французский/strength\n",
      "['force', 'résistance', 'intensité', 'puissance', 'effectif', 'solidité', 'vigueur', 'robustesse', 'fort', 'pouvoir', 'résistant', 'forte', 'élasticité', 'atout', 'rigidité', 'ressource']\n",
      "https://context.reverso.net/перевод/русский-французский/усилие\n"
     ]
    },
    {
     "name": "stderr",
     "output_type": "stream",
     "text": [
      "\n",
      "\n",
      " 78%|███████▊  | 525/676 [44:15<12:36,  5.01s/it]\u001b[A\u001b[A"
     ]
    },
    {
     "name": "stdout",
     "output_type": "stream",
     "text": [
      "['effort']\n",
      "sense_intersect ['force | effort', 'effectif | effort', 'fort | effort', 'forte | effort']\n",
      "strength силовой\n",
      "https://context.reverso.net/перевод/английский-французский/strength\n",
      "['force', 'résistance', 'intensité', 'puissance', 'effectif', 'solidité', 'vigueur', 'robustesse', 'fort', 'pouvoir', 'résistant', 'forte', 'élasticité', 'atout', 'rigidité', 'ressource']\n",
      "https://context.reverso.net/перевод/русский-французский/силовой\n",
      "turn to alternative marks\n"
     ]
    },
    {
     "name": "stderr",
     "output_type": "stream",
     "text": [
      "\n",
      "\n",
      " 78%|███████▊  | 526/676 [44:20<12:38,  5.06s/it]\u001b[A\u001b[A"
     ]
    },
    {
     "name": "stdout",
     "output_type": "stream",
     "text": [
      "['musclée', 'de force', 'propulsion', 'la superstructure', 'générateur', 'une gymnaste']\n",
      "sense_intersect ['force | de force', 'robustesse | la superstructure', 'pouvoir | propulsion', 'forte | de force', 'ressource | la superstructure']\n",
      "strength прочный\n",
      "https://context.reverso.net/перевод/английский-французский/strength\n",
      "['force', 'résistance', 'intensité', 'puissance', 'effectif', 'solidité', 'vigueur', 'robustesse', 'fort', 'pouvoir', 'résistant', 'forte', 'élasticité', 'atout', 'rigidité', 'ressource']\n",
      "https://context.reverso.net/перевод/русский-французский/прочный\n"
     ]
    },
    {
     "name": "stderr",
     "output_type": "stream",
     "text": [
      "\n",
      "\n",
      " 78%|███████▊  | 527/676 [44:26<13:03,  5.26s/it]\u001b[A\u001b[A"
     ]
    },
    {
     "name": "stdout",
     "output_type": "stream",
     "text": [
      "['durable', 'solide']\n",
      "sense_intersect ['no_equality']\n",
      "ketchup кетчуп\n",
      "https://context.reverso.net/перевод/английский-французский/ketchup\n",
      "['ketchup']\n",
      "https://context.reverso.net/перевод/русский-французский/кетчуп\n"
     ]
    },
    {
     "name": "stderr",
     "output_type": "stream",
     "text": [
      "\n",
      "\n",
      " 78%|███████▊  | 528/676 [44:31<12:51,  5.22s/it]\u001b[A\u001b[A"
     ]
    },
    {
     "name": "stdout",
     "output_type": "stream",
     "text": [
      "['ketchup']\n",
      "sense_intersect ['ketchup']\n",
      "beginner начинающий\n",
      "https://context.reverso.net/перевод/английский-французский/beginner\n",
      "['débutant', 'débutante', 'novice', 'initiation', 'beginner']\n",
      "https://context.reverso.net/перевод/русский-французский/начинающий\n",
      "turn to alternative marks\n"
     ]
    },
    {
     "name": "stderr",
     "output_type": "stream",
     "text": [
      "\n",
      "\n",
      " 78%|███████▊  | 529/676 [44:36<12:35,  5.14s/it]\u001b[A\u001b[A"
     ]
    },
    {
     "name": "stdout",
     "output_type": "stream",
     "text": [
      "['débutant', 'en herbe']\n",
      "sense_intersect ['débutant | débutante', 'beginner | en herbe']\n",
      "beginner новичок\n",
      "https://context.reverso.net/перевод/английский-французский/beginner\n",
      "['débutant', 'débutante', 'novice', 'initiation', 'beginner']\n",
      "https://context.reverso.net/перевод/русский-французский/новичок\n"
     ]
    },
    {
     "name": "stderr",
     "output_type": "stream",
     "text": [
      "\n",
      "\n",
      " 78%|███████▊  | 530/676 [44:41<12:20,  5.08s/it]\u001b[A\u001b[A"
     ]
    },
    {
     "name": "stdout",
     "output_type": "stream",
     "text": [
      "['nouveau', 'bleu', 'bizut', 'novice', 'débutant']\n",
      "sense_intersect ['débutant | débutante', 'novice']\n",
      "beginner начальный уровень\n",
      "https://context.reverso.net/перевод/английский-французский/beginner\n",
      "['débutant', 'débutante', 'novice', 'initiation', 'beginner']\n",
      "https://context.reverso.net/перевод/русский-французский/начальный уровень\n",
      "turn to alternative marks\n"
     ]
    },
    {
     "name": "stderr",
     "output_type": "stream",
     "text": [
      "\n",
      "\n",
      " 79%|███████▊  | 531/676 [44:46<12:11,  5.04s/it]\u001b[A\u001b[A"
     ]
    },
    {
     "name": "stdout",
     "output_type": "stream",
     "text": [
      "['le niveau initial']\n",
      "sense_intersect ['initiation | le niveau initial']\n",
      "beginner начинающий фотограф\n",
      "https://context.reverso.net/перевод/английский-французский/beginner\n",
      "['débutant', 'débutante', 'novice', 'initiation', 'beginner']\n",
      "https://context.reverso.net/перевод/русский-французский/начинающий фотограф\n"
     ]
    },
    {
     "name": "stderr",
     "output_type": "stream",
     "text": [
      "\n",
      "\n",
      " 79%|███████▊  | 532/676 [44:51<11:59,  5.00s/it]\u001b[A\u001b[A"
     ]
    },
    {
     "name": "stdout",
     "output_type": "stream",
     "text": [
      "['débutant', 'photographe']\n",
      "sense_intersect ['débutant | débutante']\n",
      "beginner начальный\n",
      "https://context.reverso.net/перевод/английский-французский/beginner\n",
      "['débutant', 'débutante', 'novice', 'initiation', 'beginner']\n",
      "https://context.reverso.net/перевод/русский-французский/начальный\n"
     ]
    },
    {
     "name": "stderr",
     "output_type": "stream",
     "text": [
      "\n",
      "\n",
      " 79%|███████▉  | 533/676 [44:57<12:21,  5.18s/it]\u001b[A\u001b[A"
     ]
    },
    {
     "name": "stdout",
     "output_type": "stream",
     "text": [
      "['initial']\n",
      "sense_intersect ['initiation | initial']\n",
      "child ребенок\n",
      "https://context.reverso.net/перевод/английский-французский/child\n",
      "['enfant', 'enfance', 'fil', 'fille', 'bébé', 'mineur', 'garde', 'petit', 'petit', 'gosse', 'gamin', 'petit enfant', 'fruit', 'infantile', 'enfantine', 'juvénile', 'child']\n",
      "https://context.reverso.net/перевод/русский-французский/ребенок\n"
     ]
    },
    {
     "name": "stderr",
     "output_type": "stream",
     "text": [
      "\n",
      "\n",
      " 79%|███████▉  | 534/676 [45:02<12:03,  5.09s/it]\u001b[A\u001b[A"
     ]
    },
    {
     "name": "stdout",
     "output_type": "stream",
     "text": [
      "['enfant', 'bébé', 'gamin', 'gosse', 'fil', 'gamin', 'fille', 'garçon', 'petit']\n",
      "sense_intersect ['enfant | enfance | petit enfant | enfantine', 'fil | fille', 'fille', 'bébé', 'petit', 'gosse', 'gamin']\n",
      "child дитя\n",
      "https://context.reverso.net/перевод/английский-французский/child\n",
      "['enfant', 'enfance', 'fil', 'fille', 'bébé', 'mineur', 'garde', 'petit', 'petit', 'gosse', 'gamin', 'petit enfant', 'fruit', 'infantile', 'enfantine', 'juvénile', 'child']\n",
      "https://context.reverso.net/перевод/русский-французский/дитя\n"
     ]
    },
    {
     "name": "stderr",
     "output_type": "stream",
     "text": [
      "\n",
      "\n",
      " 79%|███████▉  | 535/676 [45:07<11:51,  5.05s/it]\u001b[A\u001b[A"
     ]
    },
    {
     "name": "stdout",
     "output_type": "stream",
     "text": [
      "['enfant', 'bébé', 'progéniture', 'petit']\n",
      "sense_intersect ['enfant | enfance | petit enfant | enfantine', 'bébé', 'petit', 'mineur | progéniture']\n",
      "child детище\n",
      "https://context.reverso.net/перевод/английский-французский/child\n",
      "['enfant', 'enfance', 'fil', 'fille', 'bébé', 'mineur', 'garde', 'petit', 'petit', 'gosse', 'gamin', 'petit enfant', 'fruit', 'infantile', 'enfantine', 'juvénile', 'child']\n",
      "https://context.reverso.net/перевод/русский-французский/детище\n",
      "turn to alternative marks\n"
     ]
    },
    {
     "name": "stderr",
     "output_type": "stream",
     "text": [
      "\n",
      "\n",
      " 79%|███████▉  | 536/676 [45:12<11:47,  5.05s/it]\u001b[A\u001b[A"
     ]
    },
    {
     "name": "stdout",
     "output_type": "stream",
     "text": [
      "['bébé', 'création']\n",
      "sense_intersect ['bébé']\n",
      "child сын\n",
      "https://context.reverso.net/перевод/английский-французский/child\n",
      "['enfant', 'enfance', 'fil', 'fille', 'bébé', 'mineur', 'garde', 'petit', 'petit', 'gosse', 'gamin', 'petit enfant', 'fruit', 'infantile', 'enfantine', 'juvénile', 'child']\n",
      "https://context.reverso.net/перевод/русский-французский/сын\n"
     ]
    },
    {
     "name": "stderr",
     "output_type": "stream",
     "text": [
      "\n",
      "\n",
      " 79%|███████▉  | 537/676 [45:17<11:38,  5.03s/it]\u001b[A\u001b[A"
     ]
    },
    {
     "name": "stdout",
     "output_type": "stream",
     "text": [
      "['fil', 'fiston', 'garçon', 'enfant', 'gosse', 'gamin', 'enfoiré', 'salopard', 'con', 'petit', 'bébé', 'salaud', 'connard', 'enculé', 'bâtard']\n",
      "sense_intersect ['enfant | enfance | petit enfant | enfantine', 'fil | fille', 'bébé', 'petit', 'gosse', 'gamin', 'infantile | fiston']\n",
      "child потомок\n",
      "https://context.reverso.net/перевод/английский-французский/child\n",
      "['enfant', 'enfance', 'fil', 'fille', 'bébé', 'mineur', 'garde', 'petit', 'petit', 'gosse', 'gamin', 'petit enfant', 'fruit', 'infantile', 'enfantine', 'juvénile', 'child']\n",
      "https://context.reverso.net/перевод/русский-французский/потомок\n"
     ]
    },
    {
     "name": "stderr",
     "output_type": "stream",
     "text": [
      "\n",
      "\n",
      " 80%|███████▉  | 538/676 [45:21<11:28,  4.99s/it]\u001b[A\u001b[A"
     ]
    },
    {
     "name": "stdout",
     "output_type": "stream",
     "text": [
      "['descendant', 'descendant']\n",
      "sense_intersect ['enfance | descendant | descendant']\n",
      "child чадо\n",
      "https://context.reverso.net/перевод/английский-французский/child\n",
      "['enfant', 'enfance', 'fil', 'fille', 'bébé', 'mineur', 'garde', 'petit', 'petit', 'gosse', 'gamin', 'petit enfant', 'fruit', 'infantile', 'enfantine', 'juvénile', 'child']\n",
      "https://context.reverso.net/перевод/русский-французский/чадо\n",
      "turn to alternative marks\n"
     ]
    },
    {
     "name": "stderr",
     "output_type": "stream",
     "text": [
      "\n",
      "\n",
      " 80%|███████▉  | 539/676 [45:27<11:39,  5.10s/it]\u001b[A\u001b[A"
     ]
    },
    {
     "name": "stdout",
     "output_type": "stream",
     "text": [
      "[]\n",
      "sense_intersect ['no_equality']\n",
      "child детский\n",
      "https://context.reverso.net/перевод/английский-французский/child\n",
      "['enfant', 'enfance', 'fil', 'fille', 'bébé', 'mineur', 'garde', 'petit', 'petit', 'gosse', 'gamin', 'petit enfant', 'fruit', 'infantile', 'enfantine', 'juvénile', 'child']\n",
      "https://context.reverso.net/перевод/русский-французский/детский\n"
     ]
    },
    {
     "name": "stderr",
     "output_type": "stream",
     "text": [
      "\n",
      "\n",
      " 80%|███████▉  | 540/676 [45:32<11:23,  5.02s/it]\u001b[A\u001b[A"
     ]
    },
    {
     "name": "stdout",
     "output_type": "stream",
     "text": [
      "['enfant', 'orphelinat']\n",
      "sense_intersect ['enfant | enfance | petit enfant | enfantine', 'infantile | orphelinat']\n",
      "child дочерний\n",
      "https://context.reverso.net/перевод/английский-французский/child\n",
      "['enfant', 'enfance', 'fil', 'fille', 'bébé', 'mineur', 'garde', 'petit', 'petit', 'gosse', 'gamin', 'petit enfant', 'fruit', 'infantile', 'enfantine', 'juvénile', 'child']\n",
      "https://context.reverso.net/перевод/русский-французский/дочерний\n",
      "turn to alternative marks\n"
     ]
    },
    {
     "name": "stderr",
     "output_type": "stream",
     "text": [
      "\n",
      "\n",
      " 80%|████████  | 541/676 [45:37<11:13,  4.99s/it]\u001b[A\u001b[A"
     ]
    },
    {
     "name": "stdout",
     "output_type": "stream",
     "text": [
      "[]\n",
      "sense_intersect ['no_equality']\n",
      "child несовершеннолетний\n",
      "https://context.reverso.net/перевод/английский-французский/child\n",
      "['enfant', 'enfance', 'fil', 'fille', 'bébé', 'mineur', 'garde', 'petit', 'petit', 'gosse', 'gamin', 'petit enfant', 'fruit', 'infantile', 'enfantine', 'juvénile', 'child']\n",
      "https://context.reverso.net/перевод/русский-французский/несовершеннолетний\n"
     ]
    },
    {
     "name": "stderr",
     "output_type": "stream",
     "text": [
      "\n",
      "\n",
      " 80%|████████  | 542/676 [45:41<11:05,  4.97s/it]\u001b[A\u001b[A"
     ]
    },
    {
     "name": "stdout",
     "output_type": "stream",
     "text": [
      "['mineur']\n",
      "sense_intersect ['mineur']\n",
      "school школа\n",
      "https://context.reverso.net/перевод/английский-французский/school\n",
      "['école', 'lycée', 'enseignement', 'scolarité', 'collège', 'établissement', 'fac', 'faculté', 'scolaire', 'scolarisés', 'bahut', 'scolariser', 'étude', 'cour', 'université', 'établissement scolaire', 'milieu scolaire', 'banc', 'académie', 'school']\n",
      "https://context.reverso.net/перевод/русский-французский/школа\n"
     ]
    },
    {
     "name": "stderr",
     "output_type": "stream",
     "text": [
      "\n",
      "\n",
      " 80%|████████  | 543/676 [45:46<10:56,  4.93s/it]\u001b[A\u001b[A"
     ]
    },
    {
     "name": "stdout",
     "output_type": "stream",
     "text": [
      "['école', 'lycée', 'faculté', 'cour', 'school', 'collège']\n",
      "sense_intersect ['école | lycée', 'lycée', 'collège', 'faculté', 'cour', 'school']\n",
      "school колледж\n",
      "https://context.reverso.net/перевод/английский-французский/school\n",
      "['école', 'lycée', 'enseignement', 'scolarité', 'collège', 'établissement', 'fac', 'faculté', 'scolaire', 'scolarisés', 'bahut', 'scolariser', 'étude', 'cour', 'université', 'établissement scolaire', 'milieu scolaire', 'banc', 'académie', 'school']\n",
      "https://context.reverso.net/перевод/русский-французский/колледж\n"
     ]
    },
    {
     "name": "stderr",
     "output_type": "stream",
     "text": [
      "\n",
      "\n",
      " 80%|████████  | 544/676 [45:51<10:47,  4.91s/it]\u001b[A\u001b[A"
     ]
    },
    {
     "name": "stdout",
     "output_type": "stream",
     "text": [
      "['université', 'fac', 'école', 'collège', 'lycée', 'étude', 'diplôme']\n",
      "sense_intersect ['école | lycée', 'lycée', 'collège', 'fac', 'étude', 'université']\n",
      "school класс\n",
      "https://context.reverso.net/перевод/английский-французский/school\n",
      "['école', 'lycée', 'enseignement', 'scolarité', 'collège', 'établissement', 'fac', 'faculté', 'scolaire', 'scolarisés', 'bahut', 'scolariser', 'étude', 'cour', 'université', 'établissement scolaire', 'milieu scolaire', 'banc', 'académie', 'school']\n",
      "https://context.reverso.net/перевод/русский-французский/класс\n"
     ]
    },
    {
     "name": "stderr",
     "output_type": "stream",
     "text": [
      "\n",
      "\n",
      " 81%|████████  | 545/676 [45:56<10:40,  4.89s/it]\u001b[A\u001b[A"
     ]
    },
    {
     "name": "stdout",
     "output_type": "stream",
     "text": [
      "['classe', 'cour', 'année', 'super', 'catégorie', 'cool']\n",
      "sense_intersect ['cour', 'scolarité | catégorie', 'établissement scolaire | catégorie', 'school | cool']\n",
      "school учебное заведение\n",
      "https://context.reverso.net/перевод/английский-французский/school\n",
      "['école', 'lycée', 'enseignement', 'scolarité', 'collège', 'établissement', 'fac', 'faculté', 'scolaire', 'scolarisés', 'bahut', 'scolariser', 'étude', 'cour', 'université', 'établissement scolaire', 'milieu scolaire', 'banc', 'académie', 'school']\n",
      "https://context.reverso.net/перевод/русский-французский/учебное заведение\n",
      "turn to alternative marks\n"
     ]
    },
    {
     "name": "stderr",
     "output_type": "stream",
     "text": [
      "\n",
      "\n",
      " 81%|████████  | 546/676 [46:01<10:37,  4.90s/it]\u001b[A\u001b[A"
     ]
    },
    {
     "name": "stdout",
     "output_type": "stream",
     "text": [
      "[\"établissement d'enseignement\", 'établissement scolaire', 'académie', \"établissement d'éducation\", 'école', \"établissements d'enseignement\", 'université']\n",
      "sense_intersect ['école | lycée', 'université', 'établissement scolaire | scolarité', 'académie', \"enseignement | établissement d'enseignement | établissements d'enseignement\", \"établissement | établissement d'enseignement | établissement scolaire | établissement d'éducation\"]\n",
      "school факультет\n",
      "https://context.reverso.net/перевод/английский-французский/school\n",
      "['école', 'lycée', 'enseignement', 'scolarité', 'collège', 'établissement', 'fac', 'faculté', 'scolaire', 'scolarisés', 'bahut', 'scolariser', 'étude', 'cour', 'université', 'établissement scolaire', 'milieu scolaire', 'banc', 'académie', 'school']\n",
      "https://context.reverso.net/перевод/русский-французский/факультет\n"
     ]
    },
    {
     "name": "stderr",
     "output_type": "stream",
     "text": [
      "\n",
      "\n",
      " 81%|████████  | 547/676 [46:06<10:36,  4.93s/it]\u001b[A\u001b[A"
     ]
    },
    {
     "name": "stdout",
     "output_type": "stream",
     "text": [
      "['faculté', 'département de']\n",
      "sense_intersect ['faculté', 'établissement | département de', 'établissement scolaire | département de']\n",
      "school учеба\n",
      "https://context.reverso.net/перевод/английский-французский/school\n",
      "['école', 'lycée', 'enseignement', 'scolarité', 'collège', 'établissement', 'fac', 'faculté', 'scolaire', 'scolarisés', 'bahut', 'scolariser', 'étude', 'cour', 'université', 'établissement scolaire', 'milieu scolaire', 'banc', 'académie', 'school']\n",
      "https://context.reverso.net/перевод/русский-французский/учеба\n"
     ]
    },
    {
     "name": "stderr",
     "output_type": "stream",
     "text": [
      "\n",
      "\n",
      " 81%|████████  | 548/676 [46:11<10:28,  4.91s/it]\u001b[A\u001b[A"
     ]
    },
    {
     "name": "stdout",
     "output_type": "stream",
     "text": [
      "['formation', 'étude']\n",
      "sense_intersect ['étude']\n",
      "school занятия в школе\n",
      "https://context.reverso.net/перевод/английский-французский/school\n",
      "['école', 'lycée', 'enseignement', 'scolarité', 'collège', 'établissement', 'fac', 'faculté', 'scolaire', 'scolarisés', 'bahut', 'scolariser', 'étude', 'cour', 'université', 'établissement scolaire', 'milieu scolaire', 'banc', 'académie', 'school']\n",
      "https://context.reverso.net/перевод/русский-французский/занятия в школе\n"
     ]
    },
    {
     "name": "stderr",
     "output_type": "stream",
     "text": [
      "\n",
      "\n",
      " 81%|████████  | 549/676 [46:16<10:30,  4.97s/it]\u001b[A\u001b[A"
     ]
    },
    {
     "name": "stdout",
     "output_type": "stream",
     "text": [
      "['cour', 'formation', 'classe', 'école', 'séance', \"à l'école\", 'au lycée', \"de l'école\", 'dans une école', 'en cours']\n",
      "sense_intersect [\"école | à l'école | de l'école | lycée\", 'cour | en cours', 'scolariser | en cours']\n",
      "school школьный\n",
      "https://context.reverso.net/перевод/английский-французский/school\n",
      "['école', 'lycée', 'enseignement', 'scolarité', 'collège', 'établissement', 'fac', 'faculté', 'scolaire', 'scolarisés', 'bahut', 'scolariser', 'étude', 'cour', 'université', 'établissement scolaire', 'milieu scolaire', 'banc', 'académie', 'school']\n",
      "https://context.reverso.net/перевод/русский-французский/школьный\n"
     ]
    },
    {
     "name": "stderr",
     "output_type": "stream",
     "text": [
      "\n",
      "\n",
      " 81%|████████▏ | 550/676 [46:21<10:41,  5.09s/it]\u001b[A\u001b[A"
     ]
    },
    {
     "name": "stdout",
     "output_type": "stream",
     "text": [
      "['scolaire', \"de l'école\"]\n",
      "sense_intersect ['scolaire | scolarité | scolariser | établissement scolaire | milieu scolaire', \"école | de l'école\", \"collège | de l'école\"]\n",
      "band банда\n",
      "https://context.reverso.net/перевод/английский-французский/band\n",
      "['bande', 'groupe', 'orchestre', 'ruban', 'fanfare', 'bandeau', 'bracelet', 'tranche', 'fourchette', 'troupe', 'collier', 'sangle', 'bordure', 'bandelette', 'bague', 'band']\n",
      "https://context.reverso.net/перевод/русский-французский/банда\n"
     ]
    },
    {
     "name": "stderr",
     "output_type": "stream",
     "text": [
      "\n",
      "\n",
      " 82%|████████▏ | 551/676 [46:26<10:31,  5.05s/it]\u001b[A\u001b[A"
     ]
    },
    {
     "name": "stdout",
     "output_type": "stream",
     "text": [
      "['gang', 'bande', 'équipe', 'groupe', 'banda']\n",
      "sense_intersect ['bande | banda | bandeau | band', 'groupe | troupe']\n",
      "band лента\n",
      "https://context.reverso.net/перевод/английский-французский/band\n",
      "['bande', 'groupe', 'orchestre', 'ruban', 'fanfare', 'bandeau', 'bracelet', 'tranche', 'fourchette', 'troupe', 'collier', 'sangle', 'bordure', 'bandelette', 'bague', 'band']\n",
      "https://context.reverso.net/перевод/русский-французский/лента\n"
     ]
    },
    {
     "name": "stderr",
     "output_type": "stream",
     "text": [
      "\n",
      "\n",
      " 82%|████████▏ | 552/676 [46:32<10:49,  5.24s/it]\u001b[A\u001b[A"
     ]
    },
    {
     "name": "stdout",
     "output_type": "stream",
     "text": [
      "['ruban']\n",
      "sense_intersect ['ruban']\n",
      "band оркестр\n",
      "https://context.reverso.net/перевод/английский-французский/band\n",
      "['bande', 'groupe', 'orchestre', 'ruban', 'fanfare', 'bandeau', 'bracelet', 'tranche', 'fourchette', 'troupe', 'collier', 'sangle', 'bordure', 'bandelette', 'bague', 'band']\n",
      "https://context.reverso.net/перевод/русский-французский/оркестр\n"
     ]
    },
    {
     "name": "stderr",
     "output_type": "stream",
     "text": [
      "\n",
      "\n",
      " 82%|████████▏ | 553/676 [46:37<10:32,  5.14s/it]\u001b[A\u001b[A"
     ]
    },
    {
     "name": "stdout",
     "output_type": "stream",
     "text": [
      "['orchestre', 'fanfare', 'groupe', 'orchestra']\n",
      "sense_intersect ['groupe | troupe', 'orchestre | orchestra | bracelet | tranche | fourchette', 'fanfare']\n",
      "band отряд\n",
      "https://context.reverso.net/перевод/английский-французский/band\n",
      "['bande', 'groupe', 'orchestre', 'ruban', 'fanfare', 'bandeau', 'bracelet', 'tranche', 'fourchette', 'troupe', 'collier', 'sangle', 'bordure', 'bandelette', 'bague', 'band']\n",
      "https://context.reverso.net/перевод/русский-французский/отряд\n"
     ]
    },
    {
     "name": "stderr",
     "output_type": "stream",
     "text": [
      "\n",
      "\n",
      " 82%|████████▏ | 554/676 [46:42<10:16,  5.05s/it]\u001b[A\u001b[A"
     ]
    },
    {
     "name": "stdout",
     "output_type": "stream",
     "text": [
      "['équipe', 'unité', 'troupe', 'escouade', 'détachement', 'brigade', 'groupe']\n",
      "sense_intersect ['groupe | troupe', 'troupe', 'tranche | détachement', 'fourchette | détachement', 'bandelette | détachement', 'bague | brigade']\n",
      "band узы\n",
      "https://context.reverso.net/перевод/английский-французский/band\n",
      "['bande', 'groupe', 'orchestre', 'ruban', 'fanfare', 'bandeau', 'bracelet', 'tranche', 'fourchette', 'troupe', 'collier', 'sangle', 'bordure', 'bandelette', 'bague', 'band']\n",
      "https://context.reverso.net/перевод/русский-французский/узы\n"
     ]
    },
    {
     "name": "stderr",
     "output_type": "stream",
     "text": [
      "\n",
      "\n",
      " 82%|████████▏ | 555/676 [46:47<10:05,  5.01s/it]\u001b[A\u001b[A"
     ]
    },
    {
     "name": "stdout",
     "output_type": "stream",
     "text": [
      "['lien', 'lien']\n",
      "sense_intersect ['no_equality']\n",
      "band повязка\n",
      "https://context.reverso.net/перевод/английский-французский/band\n",
      "['bande', 'groupe', 'orchestre', 'ruban', 'fanfare', 'bandeau', 'bracelet', 'tranche', 'fourchette', 'troupe', 'collier', 'sangle', 'bordure', 'bandelette', 'bague', 'band']\n",
      "https://context.reverso.net/перевод/русский-французский/повязка\n"
     ]
    },
    {
     "name": "stderr",
     "output_type": "stream",
     "text": [
      "\n",
      "\n",
      " 82%|████████▏ | 556/676 [46:51<09:56,  4.97s/it]\u001b[A\u001b[A"
     ]
    },
    {
     "name": "stdout",
     "output_type": "stream",
     "text": [
      "['bandeau']\n",
      "sense_intersect ['bandeau | bande | band']\n",
      "band диапазон\n",
      "https://context.reverso.net/перевод/английский-французский/band\n",
      "['bande', 'groupe', 'orchestre', 'ruban', 'fanfare', 'bandeau', 'bracelet', 'tranche', 'fourchette', 'troupe', 'collier', 'sangle', 'bordure', 'bandelette', 'bague', 'band']\n",
      "https://context.reverso.net/перевод/русский-французский/диапазон\n"
     ]
    },
    {
     "name": "stderr",
     "output_type": "stream",
     "text": [
      "\n",
      "\n",
      " 82%|████████▏ | 557/676 [46:56<09:47,  4.94s/it]\u001b[A\u001b[A"
     ]
    },
    {
     "name": "stdout",
     "output_type": "stream",
     "text": [
      "['plage', 'éventail', 'gamme', 'fourchette', 'portée', 'ensemble']\n",
      "sense_intersect ['fourchette | orchestre | bracelet | tranche | troupe']\n",
      "band зона\n",
      "https://context.reverso.net/перевод/английский-французский/band\n",
      "['bande', 'groupe', 'orchestre', 'ruban', 'fanfare', 'bandeau', 'bracelet', 'tranche', 'fourchette', 'troupe', 'collier', 'sangle', 'bordure', 'bandelette', 'bague', 'band']\n",
      "https://context.reverso.net/перевод/русский-французский/зона\n"
     ]
    },
    {
     "name": "stderr",
     "output_type": "stream",
     "text": [
      "\n",
      "\n",
      " 83%|████████▎ | 558/676 [47:01<09:45,  4.96s/it]\u001b[A\u001b[A"
     ]
    },
    {
     "name": "stdout",
     "output_type": "stream",
     "text": [
      "['zone']\n",
      "sense_intersect ['no_equality']\n",
      "band музыкальная группа\n",
      "https://context.reverso.net/перевод/английский-французский/band\n",
      "['bande', 'groupe', 'orchestre', 'ruban', 'fanfare', 'bandeau', 'bracelet', 'tranche', 'fourchette', 'troupe', 'collier', 'sangle', 'bordure', 'bandelette', 'bague', 'band']\n",
      "https://context.reverso.net/перевод/русский-французский/музыкальная группа\n",
      "turn to alternative marks\n"
     ]
    },
    {
     "name": "stderr",
     "output_type": "stream",
     "text": [
      "\n",
      "\n",
      " 83%|████████▎ | 559/676 [47:06<09:37,  4.94s/it]\u001b[A\u001b[A"
     ]
    },
    {
     "name": "stdout",
     "output_type": "stream",
     "text": [
      "['groupe', 'orchestre']\n",
      "sense_intersect ['groupe | troupe', 'orchestre | bracelet | tranche | fourchette']\n",
      "band ленточный\n",
      "https://context.reverso.net/перевод/английский-французский/band\n",
      "['bande', 'groupe', 'orchestre', 'ruban', 'fanfare', 'bandeau', 'bracelet', 'tranche', 'fourchette', 'troupe', 'collier', 'sangle', 'bordure', 'bandelette', 'bague', 'band']\n",
      "https://context.reverso.net/перевод/русский-французский/ленточный\n",
      "turn to alternative marks\n"
     ]
    },
    {
     "name": "stderr",
     "output_type": "stream",
     "text": [
      "\n",
      "\n",
      " 83%|████████▎ | 560/676 [47:11<09:40,  5.00s/it]\u001b[A\u001b[A"
     ]
    },
    {
     "name": "stdout",
     "output_type": "stream",
     "text": [
      "['ver solitaire', 'tapis roulant']\n",
      "sense_intersect ['troupe | tapis roulant', 'collier | ver solitaire']\n",
      "band диапазонный\n",
      "https://context.reverso.net/перевод/английский-французский/band\n",
      "['bande', 'groupe', 'orchestre', 'ruban', 'fanfare', 'bandeau', 'bracelet', 'tranche', 'fourchette', 'troupe', 'collier', 'sangle', 'bordure', 'bandelette', 'bague', 'band']\n",
      "https://context.reverso.net/перевод/русский-французский/диапазонный\n",
      "turn to alternative marks\n"
     ]
    },
    {
     "name": "stderr",
     "output_type": "stream",
     "text": [
      "\n",
      "\n",
      " 83%|████████▎ | 561/676 [47:17<09:46,  5.10s/it]\u001b[A\u001b[A"
     ]
    },
    {
     "name": "stdout",
     "output_type": "stream",
     "text": [
      "[]\n",
      "sense_intersect ['no_equality']\n",
      "band ленточнопильный\n",
      "https://context.reverso.net/перевод/английский-французский/band\n",
      "['bande', 'groupe', 'orchestre', 'ruban', 'fanfare', 'bandeau', 'bracelet', 'tranche', 'fourchette', 'troupe', 'collier', 'sangle', 'bordure', 'bandelette', 'bague', 'band']\n",
      "https://context.reverso.net/перевод/русский-французский/ленточнопильный\n",
      "turn to alternative marks\n"
     ]
    },
    {
     "name": "stderr",
     "output_type": "stream",
     "text": [
      "\n",
      "\n",
      " 83%|████████▎ | 562/676 [47:22<09:32,  5.02s/it]\u001b[A\u001b[A"
     ]
    },
    {
     "name": "stdout",
     "output_type": "stream",
     "text": [
      "[]\n",
      "sense_intersect ['no_equality']\n",
      "band Band\n",
      "https://context.reverso.net/перевод/английский-французский/band\n",
      "['bande', 'groupe', 'orchestre', 'ruban', 'fanfare', 'bandeau', 'bracelet', 'tranche', 'fourchette', 'troupe', 'collier', 'sangle', 'bordure', 'bandelette', 'bague', 'band']\n",
      "https://context.reverso.net/перевод/русский-французский/Band\n",
      "turn to alternative marks\n"
     ]
    },
    {
     "name": "stderr",
     "output_type": "stream",
     "text": [
      "\n",
      "\n",
      " 83%|████████▎ | 563/676 [47:26<09:18,  4.94s/it]\u001b[A\u001b[A"
     ]
    },
    {
     "name": "stdout",
     "output_type": "stream",
     "text": [
      "[]\n",
      "sense_intersect ['no_equality']\n",
      "letter письмо\n",
      "https://context.reverso.net/перевод/английский-французский/letter\n",
      "['lettre', 'courrier', 'écrit', 'bulletin', 'épître', 'correspondance', 'missive', 'caractère', 'note', 'letter', 'présente', 'écrire', 'déclaration', 'message']\n",
      "https://context.reverso.net/перевод/русский-французский/письмо\n"
     ]
    },
    {
     "name": "stderr",
     "output_type": "stream",
     "text": [
      "\n",
      "\n",
      " 83%|████████▎ | 564/676 [47:31<09:12,  4.93s/it]\u001b[A\u001b[A"
     ]
    },
    {
     "name": "stdout",
     "output_type": "stream",
     "text": [
      "['lettre', 'e-mail', 'mail', 'écrit', 'message', 'e-mail', 'courrier', 'courriel', 'mot']\n",
      "sense_intersect ['lettre | letter', 'courrier | courriel', 'écrit | écrire', 'message']\n",
      "letter буква\n",
      "https://context.reverso.net/перевод/английский-французский/letter\n",
      "['lettre', 'courrier', 'écrit', 'bulletin', 'épître', 'correspondance', 'missive', 'caractère', 'note', 'letter', 'présente', 'écrire', 'déclaration', 'message']\n",
      "https://context.reverso.net/перевод/русский-французский/буква\n"
     ]
    },
    {
     "name": "stderr",
     "output_type": "stream",
     "text": [
      "\n",
      "\n",
      " 84%|████████▎ | 565/676 [47:37<09:23,  5.07s/it]\u001b[A\u001b[A"
     ]
    },
    {
     "name": "stdout",
     "output_type": "stream",
     "text": [
      "['lettre']\n",
      "sense_intersect ['lettre | letter']\n",
      "letter грамота\n",
      "https://context.reverso.net/перевод/английский-французский/letter\n",
      "['lettre', 'courrier', 'écrit', 'bulletin', 'épître', 'correspondance', 'missive', 'caractère', 'note', 'letter', 'présente', 'écrire', 'déclaration', 'message']\n",
      "https://context.reverso.net/перевод/русский-французский/грамота\n",
      "turn to alternative marks\n"
     ]
    },
    {
     "name": "stderr",
     "output_type": "stream",
     "text": [
      "\n",
      "\n",
      " 84%|████████▎ | 566/676 [47:42<09:13,  5.03s/it]\u001b[A\u001b[A"
     ]
    },
    {
     "name": "stdout",
     "output_type": "stream",
     "text": [
      "['charte', 'chinois pour moi', 'décerné', 'grec']\n",
      "sense_intersect ['caractère | charte']\n",
      "letter письмена\n",
      "https://context.reverso.net/перевод/английский-французский/letter\n",
      "['lettre', 'courrier', 'écrit', 'bulletin', 'épître', 'correspondance', 'missive', 'caractère', 'note', 'letter', 'présente', 'écrire', 'déclaration', 'message']\n",
      "https://context.reverso.net/перевод/русский-французский/письмена\n",
      "turn to alternative marks\n"
     ]
    },
    {
     "name": "stderr",
     "output_type": "stream",
     "text": [
      "\n",
      "\n",
      " 84%|████████▍ | 567/676 [47:46<09:03,  4.99s/it]\u001b[A\u001b[A"
     ]
    },
    {
     "name": "stdout",
     "output_type": "stream",
     "text": [
      "['les écritures', 'inscription']\n",
      "sense_intersect ['présente | les écritures']\n",
      "letter буквенный\n",
      "https://context.reverso.net/перевод/английский-французский/letter\n",
      "['lettre', 'courrier', 'écrit', 'bulletin', 'épître', 'correspondance', 'missive', 'caractère', 'note', 'letter', 'présente', 'écrire', 'déclaration', 'message']\n",
      "https://context.reverso.net/перевод/русский-французский/буквенный\n",
      "turn to alternative marks\n"
     ]
    },
    {
     "name": "stderr",
     "output_type": "stream",
     "text": [
      "\n",
      "\n",
      " 84%|████████▍ | 568/676 [47:51<08:52,  4.93s/it]\u001b[A\u001b[A"
     ]
    },
    {
     "name": "stdout",
     "output_type": "stream",
     "text": [
      "[]\n",
      "sense_intersect ['no_equality']\n",
      "letter письменный\n",
      "https://context.reverso.net/перевод/английский-французский/letter\n",
      "['lettre', 'courrier', 'écrit', 'bulletin', 'épître', 'correspondance', 'missive', 'caractère', 'note', 'letter', 'présente', 'écrire', 'déclaration', 'message']\n",
      "https://context.reverso.net/перевод/русский-французский/письменный\n"
     ]
    },
    {
     "name": "stderr",
     "output_type": "stream",
     "text": [
      "\n",
      "\n",
      " 84%|████████▍ | 569/676 [47:56<08:47,  4.93s/it]\u001b[A\u001b[A"
     ]
    },
    {
     "name": "stdout",
     "output_type": "stream",
     "text": [
      "['écrit', 'écrite', 'par écrit']\n",
      "sense_intersect ['écrit | écrite | par écrit | écrire']\n",
      "letter Letters\n",
      "https://context.reverso.net/перевод/английский-французский/letter\n",
      "['lettre', 'courrier', 'écrit', 'bulletin', 'épître', 'correspondance', 'missive', 'caractère', 'note', 'letter', 'présente', 'écrire', 'déclaration', 'message']\n",
      "https://context.reverso.net/перевод/русский-французский/Letters\n",
      "turn to alternative marks\n"
     ]
    },
    {
     "name": "stderr",
     "output_type": "stream",
     "text": [
      "\n",
      "\n",
      " 84%|████████▍ | 570/676 [48:01<08:49,  5.00s/it]\u001b[A\u001b[A"
     ]
    },
    {
     "name": "stdout",
     "output_type": "stream",
     "text": [
      "[]\n",
      "sense_intersect ['no_equality']\n",
      "letter писать письмо\n",
      "https://context.reverso.net/перевод/английский-французский/letter\n",
      "['lettre', 'courrier', 'écrit', 'bulletin', 'épître', 'correspondance', 'missive', 'caractère', 'note', 'letter', 'présente', 'écrire', 'déclaration', 'message']\n",
      "https://context.reverso.net/перевод/русский-французский/писать письмо\n",
      "turn to alternative marks\n"
     ]
    },
    {
     "name": "stderr",
     "output_type": "stream",
     "text": [
      "\n",
      "\n",
      " 84%|████████▍ | 571/676 [48:06<08:41,  4.96s/it]\u001b[A\u001b[A"
     ]
    },
    {
     "name": "stdout",
     "output_type": "stream",
     "text": [
      "['écrire une lettre']\n",
      "sense_intersect ['lettre | écrire une lettre', 'courrier | écrire une lettre', 'bulletin | écrire une lettre', 'letter | écrire une lettre', 'présente | écrire une lettre', 'écrire | écrire une lettre']\n",
      "dinner обед\n",
      "https://context.reverso.net/перевод/английский-французский/dinner\n",
      "['dîner', 'souper', 'repas', 'table', 'restaurant', 'déjeuner', 'soirée', 'assiette', 'repas du soir', 'dinner', 'à manger', 'mangé', 'dînant', 'on mange', 'dîne']\n",
      "https://context.reverso.net/перевод/русский-французский/обед\n"
     ]
    },
    {
     "name": "stderr",
     "output_type": "stream",
     "text": [
      "\n",
      "\n",
      " 85%|████████▍ | 572/676 [48:11<08:32,  4.93s/it]\u001b[A\u001b[A"
     ]
    },
    {
     "name": "stdout",
     "output_type": "stream",
     "text": [
      "['déjeuner', 'dîner', 'repas', 'manger', 'midi', 'après-midi', 'souper', 'déjeune']\n",
      "sense_intersect ['dîner | dinner | dîne', 'souper', 'repas | repas du soir', 'déjeuner | déjeune', 'à manger | manger', 'on mange | manger']\n",
      "dinner торжественный обед\n",
      "https://context.reverso.net/перевод/английский-французский/dinner\n",
      "['dîner', 'souper', 'repas', 'table', 'restaurant', 'déjeuner', 'soirée', 'assiette', 'repas du soir', 'dinner', 'à manger', 'mangé', 'dînant', 'on mange', 'dîne']\n",
      "https://context.reverso.net/перевод/русский-французский/торжественный обед\n"
     ]
    },
    {
     "name": "stderr",
     "output_type": "stream",
     "text": [
      "\n",
      "\n",
      " 85%|████████▍ | 573/676 [48:16<08:28,  4.94s/it]\u001b[A\u001b[A"
     ]
    },
    {
     "name": "stdout",
     "output_type": "stream",
     "text": [
      "['solennel', 'solennellement', 'déjeuner', 'dîner', 'repas', 'manger', 'midi']\n",
      "sense_intersect ['dîner | dinner | dîne', 'repas | repas du soir', 'déjeuner', 'à manger | manger', 'on mange | manger']\n",
      "dinner обеденный\n",
      "https://context.reverso.net/перевод/английский-французский/dinner\n",
      "['dîner', 'souper', 'repas', 'table', 'restaurant', 'déjeuner', 'soirée', 'assiette', 'repas du soir', 'dinner', 'à manger', 'mangé', 'dînant', 'on mange', 'dîne']\n",
      "https://context.reverso.net/перевод/русский-французский/обеденный\n",
      "turn to alternative marks\n"
     ]
    },
    {
     "name": "stderr",
     "output_type": "stream",
     "text": [
      "\n",
      "\n",
      " 85%|████████▍ | 574/676 [48:21<08:20,  4.91s/it]\u001b[A\u001b[A"
     ]
    },
    {
     "name": "stdout",
     "output_type": "stream",
     "text": [
      "['du déjeuner', 'heure', 'pause de midi']\n",
      "sense_intersect ['déjeuner | du déjeuner', 'repas du soir | pause de midi']\n",
      "dinner званый\n",
      "https://context.reverso.net/перевод/английский-французский/dinner\n",
      "['dîner', 'souper', 'repas', 'table', 'restaurant', 'déjeuner', 'soirée', 'assiette', 'repas du soir', 'dinner', 'à manger', 'mangé', 'dînant', 'on mange', 'dîne']\n",
      "https://context.reverso.net/перевод/русский-французский/званый\n"
     ]
    },
    {
     "name": "stderr",
     "output_type": "stream",
     "text": [
      "\n",
      "\n",
      " 85%|████████▌ | 575/676 [48:26<08:13,  4.89s/it]\u001b[A\u001b[A"
     ]
    },
    {
     "name": "stdout",
     "output_type": "stream",
     "text": [
      "['dîner']\n",
      "sense_intersect ['dîner | dinner | dîne']\n",
      "America Америка\n",
      "https://context.reverso.net/перевод/английский-французский/America\n",
      "['amérique', 'états-unis', 'américaine', 'américain', 'america', \"america's\", 'pays', 'aux usa', 'états unis']\n",
      "https://context.reverso.net/перевод/русский-французский/Америка\n"
     ]
    },
    {
     "name": "stderr",
     "output_type": "stream",
     "text": [
      "\n",
      "\n",
      " 85%|████████▌ | 576/676 [48:31<08:16,  4.96s/it]\u001b[A\u001b[A"
     ]
    },
    {
     "name": "stdout",
     "output_type": "stream",
     "text": [
      "['amérique', 'états-unis', 'usa', 'america', 'américain']\n",
      "sense_intersect ['amérique | américaine', 'états-unis | états unis', 'américain', \"america | america's\", 'aux usa | usa']\n",
      "dependable надежный\n",
      "https://context.reverso.net/перевод/английский-французский/dependable\n",
      "['fiable', 'sûr', 'fiabilité', 'cultivables']\n",
      "https://context.reverso.net/перевод/русский-французский/надежный\n"
     ]
    },
    {
     "name": "stderr",
     "output_type": "stream",
     "text": [
      "\n",
      "\n",
      " 85%|████████▌ | 577/676 [48:36<08:07,  4.92s/it]\u001b[A\u001b[A"
     ]
    },
    {
     "name": "stdout",
     "output_type": "stream",
     "text": [
      "['fiable', 'sûr', 'crédible']\n",
      "sense_intersect ['fiable', 'sûr']\n",
      "dependable зависимый\n",
      "https://context.reverso.net/перевод/английский-французский/dependable\n",
      "['fiable', 'sûr', 'fiabilité', 'cultivables']\n",
      "https://context.reverso.net/перевод/русский-французский/зависимый\n",
      "turn to alternative marks\n"
     ]
    },
    {
     "name": "stderr",
     "output_type": "stream",
     "text": [
      "\n",
      "\n",
      " 86%|████████▌ | 578/676 [48:41<08:17,  5.07s/it]\u001b[A\u001b[A"
     ]
    },
    {
     "name": "stdout",
     "output_type": "stream",
     "text": [
      "['dépendant', 'accro']\n",
      "sense_intersect ['no_equality']\n",
      "dependable заслуживающий доверия\n",
      "https://context.reverso.net/перевод/английский-французский/dependable\n",
      "['fiable', 'sûr', 'fiabilité', 'cultivables']\n",
      "https://context.reverso.net/перевод/русский-французский/заслуживающий доверия\n"
     ]
    },
    {
     "name": "stderr",
     "output_type": "stream",
     "text": [
      "\n",
      "\n",
      " 86%|████████▌ | 579/676 [48:46<08:06,  5.02s/it]\u001b[A\u001b[A"
     ]
    },
    {
     "name": "stdout",
     "output_type": "stream",
     "text": [
      "['crédible']\n",
      "sense_intersect ['no_equality']\n",
      "dependable зависящий\n",
      "https://context.reverso.net/перевод/английский-французский/dependable\n",
      "['fiable', 'sûr', 'fiabilité', 'cultivables']\n",
      "https://context.reverso.net/перевод/русский-французский/зависящий\n",
      "turn to alternative marks\n"
     ]
    },
    {
     "name": "stderr",
     "output_type": "stream",
     "text": [
      "\n",
      "\n",
      " 86%|████████▌ | 580/676 [48:51<07:56,  4.97s/it]\u001b[A\u001b[A"
     ]
    },
    {
     "name": "stdout",
     "output_type": "stream",
     "text": [
      "[]\n",
      "sense_intersect ['no_equality']\n",
      "Belgium Бельгия\n",
      "https://context.reverso.net/перевод/английский-французский/Belgium\n",
      "['belgique', 'belge', 'belgium', 'bruxelles', 'allemagne', 'italie']\n",
      "https://context.reverso.net/перевод/русский-французский/Бельгия\n"
     ]
    },
    {
     "name": "stderr",
     "output_type": "stream",
     "text": [
      "\n",
      "\n",
      " 86%|████████▌ | 581/676 [48:56<07:51,  4.96s/it]\u001b[A\u001b[A"
     ]
    },
    {
     "name": "stdout",
     "output_type": "stream",
     "text": [
      "['belgique']\n",
      "sense_intersect ['belgique | belge | belgium | bruxelles']\n",
      "secular светский\n",
      "https://context.reverso.net/перевод/английский-французский/secular\n",
      "['laïc', 'séculier', 'séculaire', 'profane', 'civil', 'secular']\n",
      "https://context.reverso.net/перевод/русский-французский/светский\n",
      "turn to alternative marks\n"
     ]
    },
    {
     "name": "stderr",
     "output_type": "stream",
     "text": [
      "\n",
      "\n",
      " 86%|████████▌ | 582/676 [49:02<08:19,  5.32s/it]\u001b[A\u001b[A"
     ]
    },
    {
     "name": "stdout",
     "output_type": "stream",
     "text": [
      "['laïque', 'laïc', 'séculier', 'politesse']\n",
      "sense_intersect ['laïc', 'séculier | séculaire']\n",
      "secular вековой\n",
      "https://context.reverso.net/перевод/английский-французский/secular\n",
      "['laïc', 'séculier', 'séculaire', 'profane', 'civil', 'secular']\n",
      "https://context.reverso.net/перевод/русский-французский/вековой\n",
      "turn to alternative marks\n"
     ]
    },
    {
     "name": "stderr",
     "output_type": "stream",
     "text": [
      "\n",
      "\n",
      " 86%|████████▌ | 583/676 [49:07<08:02,  5.19s/it]\u001b[A\u001b[A"
     ]
    },
    {
     "name": "stdout",
     "output_type": "stream",
     "text": [
      "['séculaire', 'centenaire']\n",
      "sense_intersect ['séculaire | séculier | secular', 'profane | centenaire']\n",
      "secular долговременный\n",
      "https://context.reverso.net/перевод/английский-французский/secular\n",
      "['laïc', 'séculier', 'séculaire', 'profane', 'civil', 'secular']\n",
      "https://context.reverso.net/перевод/русский-французский/долговременный\n",
      "turn to alternative marks\n"
     ]
    },
    {
     "name": "stderr",
     "output_type": "stream",
     "text": [
      "\n",
      "\n",
      " 86%|████████▋ | 584/676 [49:12<07:50,  5.11s/it]\u001b[A\u001b[A"
     ]
    },
    {
     "name": "stdout",
     "output_type": "stream",
     "text": [
      "['durable', 'à long terme', 'longue durée', 'longue haleine']\n",
      "sense_intersect ['séculier | longue durée', 'secular | durable']\n",
      "secular секуляристский\n",
      "https://context.reverso.net/перевод/английский-французский/secular\n",
      "['laïc', 'séculier', 'séculaire', 'profane', 'civil', 'secular']\n",
      "https://context.reverso.net/перевод/русский-французский/секуляристский\n",
      "turn to alternative marks\n"
     ]
    },
    {
     "name": "stderr",
     "output_type": "stream",
     "text": [
      "\n",
      "\n",
      " 87%|████████▋ | 585/676 [49:17<07:39,  5.05s/it]\u001b[A\u001b[A"
     ]
    },
    {
     "name": "stdout",
     "output_type": "stream",
     "text": [
      "[]\n",
      "sense_intersect ['no_equality']\n",
      "secular мирянин\n",
      "https://context.reverso.net/перевод/английский-французский/secular\n",
      "['laïc', 'séculier', 'séculaire', 'profane', 'civil', 'secular']\n",
      "https://context.reverso.net/перевод/русский-французский/мирянин\n",
      "turn to alternative marks\n"
     ]
    },
    {
     "name": "stderr",
     "output_type": "stream",
     "text": [
      "\n",
      "\n",
      " 87%|████████▋ | 586/676 [49:21<07:25,  4.95s/it]\u001b[A\u001b[A"
     ]
    },
    {
     "name": "stdout",
     "output_type": "stream",
     "text": [
      "[]\n",
      "sense_intersect ['no_equality']\n",
      "secular светскость\n",
      "https://context.reverso.net/перевод/английский-французский/secular\n",
      "['laïc', 'séculier', 'séculaire', 'profane', 'civil', 'secular']\n",
      "https://context.reverso.net/перевод/русский-французский/светскость\n",
      "turn to alternative marks\n"
     ]
    },
    {
     "name": "stderr",
     "output_type": "stream",
     "text": [
      "\n",
      "\n",
      " 87%|████████▋ | 587/676 [49:26<07:19,  4.94s/it]\u001b[A\u001b[A"
     ]
    },
    {
     "name": "stdout",
     "output_type": "stream",
     "text": [
      "['laïcité']\n",
      "sense_intersect ['no_equality']\n",
      "the этот\n",
      "https://context.reverso.net/перевод/английский-французский/the\n",
      "turn to alternative marks\n",
      "[]\n",
      "https://context.reverso.net/перевод/русский-французский/этот\n"
     ]
    },
    {
     "name": "stderr",
     "output_type": "stream",
     "text": [
      "\n",
      "\n",
      " 87%|████████▋ | 588/676 [49:31<07:07,  4.86s/it]\u001b[A\u001b[A"
     ]
    },
    {
     "name": "stdout",
     "output_type": "stream",
     "text": [
      "['ce', 'son', 'celui-ci', 'notre', 'le', 'il', 'cela', 'celui-là', 'celle-ci', 'ceci']\n",
      "sense_intersect ['no_equality']\n",
      "the тот\n",
      "https://context.reverso.net/перевод/английский-французский/the\n",
      "turn to alternative marks\n",
      "[]\n",
      "https://context.reverso.net/перевод/русский-французский/тот\n"
     ]
    },
    {
     "name": "stderr",
     "output_type": "stream",
     "text": [
      "\n",
      "\n",
      " 87%|████████▋ | 589/676 [49:36<07:01,  4.85s/it]\u001b[A\u001b[A"
     ]
    },
    {
     "name": "stdout",
     "output_type": "stream",
     "text": [
      "['celui', 'homme', 'le', 'ce', 'lui', 'une', 'autre', 'moi', \"quelqu'un\", 'celui-là', 'il']\n",
      "sense_intersect ['no_equality']\n",
      "the такой\n",
      "https://context.reverso.net/перевод/английский-французский/the\n",
      "turn to alternative marks\n",
      "[]\n",
      "https://context.reverso.net/перевод/русский-французский/такой\n"
     ]
    },
    {
     "name": "stderr",
     "output_type": "stream",
     "text": [
      "\n",
      "\n",
      " 87%|████████▋ | 590/676 [49:41<07:17,  5.09s/it]\u001b[A\u001b[A"
     ]
    },
    {
     "name": "stdout",
     "output_type": "stream",
     "text": [
      "['tel', 'même', 'tellement', 'type', 'très', 'trop', 'pareille', 'dit', 'si', 'aussi', 'comme ça', 'cela', 'genre', 'tant']\n",
      "sense_intersect ['no_equality']\n",
      "the тем\n",
      "https://context.reverso.net/перевод/английский-французский/the\n",
      "turn to alternative marks\n",
      "[]\n",
      "https://context.reverso.net/перевод/русский-французский/тем\n"
     ]
    },
    {
     "name": "stderr",
     "output_type": "stream",
     "text": [
      "\n",
      "\n",
      " 87%|████████▋ | 591/676 [49:47<07:13,  5.10s/it]\u001b[A\u001b[A"
     ]
    },
    {
     "name": "stdout",
     "output_type": "stream",
     "text": [
      "['plus', 'pour', 'ce', 'fait', 'celui', 'façon', 'aux', 'manière', 'thème', \"quelqu'\", 'parce', 'sujet', 'préoccupation', 'étant', 'afin']\n",
      "sense_intersect ['no_equality']\n",
      "everything все\n",
      "https://context.reverso.net/перевод/английский-французский/everything\n",
      "['reste', 'tout', 'ça', 'ce que', 'rien', 'chose', 'chaque chose', 'toute chose', 'importe quoi', 'everything', 'partout', 'toujours', 'bien', 'fait']\n",
      "https://context.reverso.net/перевод/русский-французский/все\n"
     ]
    },
    {
     "name": "stderr",
     "output_type": "stream",
     "text": [
      "\n",
      "\n",
      " 88%|████████▊ | 592/676 [49:51<07:04,  5.05s/it]\u001b[A\u001b[A"
     ]
    },
    {
     "name": "stdout",
     "output_type": "stream",
     "text": [
      "['tout', 'les', 'ce', 'ça', 'plus', 'est', 'tout le monde', 'on', 'tu', 'je', 'en', 'il', 'se', 'chacun']\n",
      "sense_intersect ['tout | tu | partout', 'ça', 'reste | est', 'toute chose | tout le monde']\n",
      "everything что угодно\n",
      "https://context.reverso.net/перевод/английский-французский/everything\n",
      "['reste', 'tout', 'ça', 'ce que', 'rien', 'chose', 'chaque chose', 'toute chose', 'importe quoi', 'everything', 'partout', 'toujours', 'bien', 'fait']\n",
      "https://context.reverso.net/перевод/русский-французский/что угодно\n"
     ]
    },
    {
     "name": "stderr",
     "output_type": "stream",
     "text": [
      "\n",
      "\n",
      " 88%|████████▊ | 593/676 [49:57<06:59,  5.05s/it]\u001b[A\u001b[A"
     ]
    },
    {
     "name": "stdout",
     "output_type": "stream",
     "text": [
      "[\"n'importe quoi\", 'peu importe', 'que tu veux', 'que vous voulez', 'quelque chose', \"qu'il faut\", 'quoi que ce soit', \"qu'on veut\", 'que je veux', 'que vous voudrez']\n",
      "sense_intersect ['ce que | quelque chose | que je veux', 'chaque chose | quelque chose', \"importe quoi | n'importe quoi | peu importe | quoi que ce soit\"]\n",
      "dance танец\n",
      "https://context.reverso.net/перевод/английский-французский/dance\n",
      "['danse', 'dance', 'bal', 'soirée', 'chorégraphie', 'ballet', 'danseur', 'danseur', 'danser', 'chorégraphique', 'soirée dansante', 'valse', 'dancer', 'dansantes']\n",
      "https://context.reverso.net/перевод/русский-французский/танец\n"
     ]
    },
    {
     "name": "stderr",
     "output_type": "stream",
     "text": [
      "\n",
      "\n",
      " 88%|████████▊ | 594/676 [50:02<07:09,  5.24s/it]\u001b[A\u001b[A"
     ]
    },
    {
     "name": "stdout",
     "output_type": "stream",
     "text": [
      "['danse', 'dance', 'bal', 'danser']\n",
      "sense_intersect ['danse | danser | danseur | dansantes', 'dance | dancer', 'bal', 'danser']\n",
      "dance бал\n",
      "https://context.reverso.net/перевод/английский-французский/dance\n",
      "['danse', 'dance', 'bal', 'soirée', 'chorégraphie', 'ballet', 'danseur', 'danseur', 'danser', 'chorégraphique', 'soirée dansante', 'valse', 'dancer', 'dansantes']\n",
      "https://context.reverso.net/перевод/русский-французский/бал\n"
     ]
    },
    {
     "name": "stderr",
     "output_type": "stream",
     "text": [
      "\n",
      "\n",
      " 88%|████████▊ | 595/676 [50:07<06:55,  5.13s/it]\u001b[A\u001b[A"
     ]
    },
    {
     "name": "stdout",
     "output_type": "stream",
     "text": [
      "['bal']\n",
      "sense_intersect ['bal']\n",
      "dance танцевальная музыка\n",
      "https://context.reverso.net/перевод/английский-французский/dance\n",
      "['danse', 'dance', 'bal', 'soirée', 'chorégraphie', 'ballet', 'danseur', 'danseur', 'danser', 'chorégraphique', 'soirée dansante', 'valse', 'dancer', 'dansantes']\n",
      "https://context.reverso.net/перевод/русский-французский/танцевальная музыка\n"
     ]
    },
    {
     "name": "stderr",
     "output_type": "stream",
     "text": [
      "\n",
      "\n",
      " 88%|████████▊ | 596/676 [50:12<06:46,  5.09s/it]\u001b[A\u001b[A"
     ]
    },
    {
     "name": "stdout",
     "output_type": "stream",
     "text": [
      "['de danse', 'dansante', 'musique', 'mélodie']\n",
      "sense_intersect ['danse | de danse | dansante', 'dance | de danse', 'danser | de danse']\n",
      "dance танцевальный вечер\n",
      "https://context.reverso.net/перевод/английский-французский/dance\n",
      "['danse', 'dance', 'bal', 'soirée', 'chorégraphie', 'ballet', 'danseur', 'danseur', 'danser', 'chorégraphique', 'soirée dansante', 'valse', 'dancer', 'dansantes']\n",
      "https://context.reverso.net/перевод/русский-французский/танцевальный вечер\n"
     ]
    },
    {
     "name": "stderr",
     "output_type": "stream",
     "text": [
      "\n",
      "\n",
      " 88%|████████▊ | 597/676 [50:17<06:38,  5.04s/it]\u001b[A\u001b[A"
     ]
    },
    {
     "name": "stdout",
     "output_type": "stream",
     "text": [
      "['de danse', 'dansante', 'de la danse', 'dansant', 'de claquettes', 'soirée', 'soir', 'nuit', 'après-midi', 'nuit-là']\n",
      "sense_intersect ['soirée', 'danse | de danse | dansante | de la danse', 'dance | de danse', 'danser | de danse', 'dansantes | dansant']\n",
      "dance танцевальное искусство\n",
      "https://context.reverso.net/перевод/английский-французский/dance\n",
      "['danse', 'dance', 'bal', 'soirée', 'chorégraphie', 'ballet', 'danseur', 'danseur', 'danser', 'chorégraphique', 'soirée dansante', 'valse', 'dancer', 'dansantes']\n",
      "https://context.reverso.net/перевод/русский-французский/танцевальное искусство\n",
      "turn to alternative marks\n"
     ]
    },
    {
     "name": "stderr",
     "output_type": "stream",
     "text": [
      "\n",
      "\n",
      " 88%|████████▊ | 598/676 [50:22<06:30,  5.01s/it]\u001b[A\u001b[A"
     ]
    },
    {
     "name": "stdout",
     "output_type": "stream",
     "text": [
      "['danse']\n",
      "sense_intersect ['danse | danseur | danser | dansantes']\n",
      "dance танцулька\n",
      "https://context.reverso.net/перевод/английский-французский/dance\n",
      "['danse', 'dance', 'bal', 'soirée', 'chorégraphie', 'ballet', 'danseur', 'danseur', 'danser', 'chorégraphique', 'soirée dansante', 'valse', 'dancer', 'dansantes']\n",
      "https://context.reverso.net/перевод/русский-французский/танцулька\n",
      "turn to alternative marks\n"
     ]
    },
    {
     "name": "stderr",
     "output_type": "stream",
     "text": [
      "\n",
      "\n",
      " 89%|████████▊ | 599/676 [50:27<06:22,  4.97s/it]\u001b[A\u001b[A"
     ]
    },
    {
     "name": "stdout",
     "output_type": "stream",
     "text": [
      "[]\n",
      "sense_intersect ['no_equality']\n",
      "dance хореография\n",
      "https://context.reverso.net/перевод/английский-французский/dance\n",
      "['danse', 'dance', 'bal', 'soirée', 'chorégraphie', 'ballet', 'danseur', 'danseur', 'danser', 'chorégraphique', 'soirée dansante', 'valse', 'dancer', 'dansantes']\n",
      "https://context.reverso.net/перевод/русский-французский/хореография\n",
      "turn to alternative marks\n"
     ]
    },
    {
     "name": "stderr",
     "output_type": "stream",
     "text": [
      "\n",
      "\n",
      " 89%|████████▉ | 600/676 [50:32<06:22,  5.03s/it]\u001b[A\u001b[A"
     ]
    },
    {
     "name": "stdout",
     "output_type": "stream",
     "text": [
      "['chorégraphie']\n",
      "sense_intersect ['chorégraphie | chorégraphique']\n",
      "dance танцевать\n",
      "https://context.reverso.net/перевод/английский-французский/dance\n",
      "['danse', 'dance', 'bal', 'soirée', 'chorégraphie', 'ballet', 'danseur', 'danseur', 'danser', 'chorégraphique', 'soirée dansante', 'valse', 'dancer', 'dansantes']\n",
      "https://context.reverso.net/перевод/русский-французский/танцевать\n"
     ]
    },
    {
     "name": "stderr",
     "output_type": "stream",
     "text": [
      "\n",
      "\n",
      " 89%|████████▉ | 601/676 [50:37<06:12,  4.97s/it]\u001b[A\u001b[A"
     ]
    },
    {
     "name": "stdout",
     "output_type": "stream",
     "text": [
      "['danser', 'faire']\n",
      "sense_intersect ['danser | danse | danseur | soirée dansante | dancer | dansantes']\n",
      "dance приплясывать\n",
      "https://context.reverso.net/перевод/английский-французский/dance\n",
      "['danse', 'dance', 'bal', 'soirée', 'chorégraphie', 'ballet', 'danseur', 'danseur', 'danser', 'chorégraphique', 'soirée dansante', 'valse', 'dancer', 'dansantes']\n",
      "https://context.reverso.net/перевод/русский-французский/приплясывать\n",
      "turn to alternative marks\n"
     ]
    },
    {
     "name": "stderr",
     "output_type": "stream",
     "text": [
      "\n",
      "\n",
      " 89%|████████▉ | 602/676 [50:42<06:04,  4.92s/it]\u001b[A\u001b[A"
     ]
    },
    {
     "name": "stdout",
     "output_type": "stream",
     "text": [
      "[]\n",
      "sense_intersect ['no_equality']\n",
      "dance хореографический\n",
      "https://context.reverso.net/перевод/английский-французский/dance\n",
      "['danse', 'dance', 'bal', 'soirée', 'chorégraphie', 'ballet', 'danseur', 'danseur', 'danser', 'chorégraphique', 'soirée dansante', 'valse', 'dancer', 'dansantes']\n",
      "https://context.reverso.net/перевод/русский-французский/хореографический\n",
      "turn to alternative marks\n"
     ]
    },
    {
     "name": "stderr",
     "output_type": "stream",
     "text": [
      "\n",
      "\n",
      " 89%|████████▉ | 603/676 [50:48<06:25,  5.28s/it]\u001b[A\u001b[A"
     ]
    },
    {
     "name": "stdout",
     "output_type": "stream",
     "text": [
      "[]\n",
      "sense_intersect ['no_equality']\n",
      "dance плясовой\n",
      "https://context.reverso.net/перевод/английский-французский/dance\n",
      "['danse', 'dance', 'bal', 'soirée', 'chorégraphie', 'ballet', 'danseur', 'danseur', 'danser', 'chorégraphique', 'soirée dansante', 'valse', 'dancer', 'dansantes']\n",
      "https://context.reverso.net/перевод/русский-французский/плясовой\n",
      "turn to alternative marks\n"
     ]
    },
    {
     "name": "stderr",
     "output_type": "stream",
     "text": [
      "\n",
      "\n",
      " 89%|████████▉ | 604/676 [50:52<06:08,  5.12s/it]\u001b[A\u001b[A"
     ]
    },
    {
     "name": "stdout",
     "output_type": "stream",
     "text": [
      "[]\n",
      "sense_intersect ['no_equality']\n",
      "mother мать\n",
      "https://context.reverso.net/перевод/английский-французский/mother\n",
      "['mère', 'maman', 'mère de famille', 'materner', 'vierge', 'mother', 'parent', 'femme', 'maternel', 'fil', 'dame', 'marie']\n",
      "https://context.reverso.net/перевод/русский-французский/мать\n"
     ]
    },
    {
     "name": "stderr",
     "output_type": "stream",
     "text": [
      "\n",
      "\n",
      " 89%|████████▉ | 605/676 [50:57<05:57,  5.03s/it]\u001b[A\u001b[A"
     ]
    },
    {
     "name": "stdout",
     "output_type": "stream",
     "text": [
      "['mère', 'maman', 'putain', 'merde', 'quoi', 'enfoiré', 'est-ce', 'dieu', 'bordel', 'connard', 'enculé']\n",
      "sense_intersect ['mère', 'maman', 'mère de famille | merde']\n",
      "mother мамаша\n",
      "https://context.reverso.net/перевод/английский-французский/mother\n",
      "['mère', 'maman', 'mère de famille', 'materner', 'vierge', 'mother', 'parent', 'femme', 'maternel', 'fil', 'dame', 'marie']\n",
      "https://context.reverso.net/перевод/русский-французский/мамаша\n"
     ]
    },
    {
     "name": "stderr",
     "output_type": "stream",
     "text": [
      "\n",
      "\n",
      " 90%|████████▉ | 606/676 [51:02<05:48,  4.98s/it]\u001b[A\u001b[A"
     ]
    },
    {
     "name": "stdout",
     "output_type": "stream",
     "text": [
      "['mère', 'maman']\n",
      "sense_intersect ['mère', 'maman']\n",
      "mother материнский\n",
      "https://context.reverso.net/перевод/английский-французский/mother\n",
      "['mère', 'maman', 'mère de famille', 'materner', 'vierge', 'mother', 'parent', 'femme', 'maternel', 'fil', 'dame', 'marie']\n",
      "https://context.reverso.net/перевод/русский-французский/материнский\n"
     ]
    },
    {
     "name": "stderr",
     "output_type": "stream",
     "text": [
      "\n",
      "\n",
      " 90%|████████▉ | 607/676 [51:08<05:52,  5.11s/it]\u001b[A\u001b[A"
     ]
    },
    {
     "name": "stdout",
     "output_type": "stream",
     "text": [
      "['maternel']\n",
      "sense_intersect ['maternel | mère de famille | materner | parent']\n",
      "mother родной\n",
      "https://context.reverso.net/перевод/английский-французский/mother\n",
      "['mère', 'maman', 'mère de famille', 'materner', 'vierge', 'mother', 'parent', 'femme', 'maternel', 'fil', 'dame', 'marie']\n",
      "https://context.reverso.net/перевод/русский-французский/родной\n"
     ]
    },
    {
     "name": "stderr",
     "output_type": "stream",
     "text": [
      "\n",
      "\n",
      " 90%|████████▉ | 608/676 [51:12<05:41,  5.03s/it]\u001b[A\u001b[A"
     ]
    },
    {
     "name": "stdout",
     "output_type": "stream",
     "text": [
      "['biologique', 'origine', 'propre', 'planète']\n",
      "sense_intersect ['parent | planète', 'maternel | planète']\n",
      "mother мамин\n",
      "https://context.reverso.net/перевод/английский-французский/mother\n",
      "['mère', 'maman', 'mère de famille', 'materner', 'vierge', 'mother', 'parent', 'femme', 'maternel', 'fil', 'dame', 'marie']\n",
      "https://context.reverso.net/перевод/русский-французский/мамин\n"
     ]
    },
    {
     "name": "stderr",
     "output_type": "stream",
     "text": [
      "\n",
      "\n",
      " 90%|█████████ | 609/676 [51:17<05:35,  5.01s/it]\u001b[A\u001b[A"
     ]
    },
    {
     "name": "stdout",
     "output_type": "stream",
     "text": [
      "['de maman', 'de ma mère']\n",
      "sense_intersect ['mère | de ma mère', 'maman | de maman', 'mère de famille | de ma mère', 'dame | de maman | de ma mère']\n",
      "have иметь\n",
      "https://context.reverso.net/перевод/английский-французский/have\n",
      "['avoir', 'être', 'devoir', 'disposer', 'faire', 'présenter', 'posséder', 'prendre', 'passer', 'boire', 'recevoir', 'porter', 'ressentir', 'tolérer', 'être tenu', 'se', 'avez-vous', 'pu', 'faut', 'reste', 'est']\n",
      "https://context.reverso.net/перевод/русский-французский/иметь\n"
     ]
    },
    {
     "name": "stderr",
     "output_type": "stream",
     "text": [
      "\n",
      "\n",
      " 90%|█████████ | 610/676 [51:22<05:28,  4.97s/it]\u001b[A\u001b[A"
     ]
    },
    {
     "name": "stdout",
     "output_type": "stream",
     "text": [
      "['avoir', 'être', 'disposer', 'garder', 'prendre', 'bénéficier', 'posséder', 'présenter', 'pouvoir', 'un']\n",
      "sense_intersect ['avoir | pouvoir | devoir', 'être | porter | être tenu | reste', 'disposer | posséder | ressentir', 'présenter | prendre | tolérer', 'posséder', 'prendre']\n",
      "have обладать\n",
      "https://context.reverso.net/перевод/английский-французский/have\n",
      "['avoir', 'être', 'devoir', 'disposer', 'faire', 'présenter', 'posséder', 'prendre', 'passer', 'boire', 'recevoir', 'porter', 'ressentir', 'tolérer', 'être tenu', 'se', 'avez-vous', 'pu', 'faut', 'reste', 'est']\n",
      "https://context.reverso.net/перевод/русский-французский/обладать\n"
     ]
    },
    {
     "name": "stderr",
     "output_type": "stream",
     "text": [
      "\n",
      "\n",
      " 90%|█████████ | 611/676 [51:27<05:23,  4.98s/it]\u001b[A\u001b[A"
     ]
    },
    {
     "name": "stdout",
     "output_type": "stream",
     "text": [
      "['avoir', 'posséder', 'disposer', 'présenter', 'pouvoir']\n",
      "sense_intersect ['avoir | pouvoir | devoir', 'disposer | posséder | ressentir', 'présenter | prendre | porter | tolérer', 'posséder']\n",
      "have получать\n",
      "https://context.reverso.net/перевод/английский-французский/have\n",
      "['avoir', 'être', 'devoir', 'disposer', 'faire', 'présenter', 'posséder', 'prendre', 'passer', 'boire', 'recevoir', 'porter', 'ressentir', 'tolérer', 'être tenu', 'se', 'avez-vous', 'pu', 'faut', 'reste', 'est']\n",
      "https://context.reverso.net/перевод/русский-французский/получать\n"
     ]
    },
    {
     "name": "stderr",
     "output_type": "stream",
     "text": [
      "\n",
      "\n",
      " 91%|█████████ | 612/676 [51:33<05:24,  5.08s/it]\u001b[A\u001b[A"
     ]
    },
    {
     "name": "stdout",
     "output_type": "stream",
     "text": [
      "['recevoir', 'obtenir', 'bénéficier', 'avoir', 'tirer', 'percevoir', 'accéder', 'fournir', 'acquérir', 'recueillir', 'produire', 'toucher', 'suivre', 'gagner', 'disposer']\n",
      "sense_intersect ['avoir', 'disposer | posséder | ressentir', 'recevoir | devoir | boire | percevoir | recueillir', 'être | tirer', 'prendre | percevoir | produire', 'porter | obtenir | tirer | toucher', 'être tenu | obtenir']\n",
      "have испытывать\n",
      "https://context.reverso.net/перевод/английский-французский/have\n",
      "['avoir', 'être', 'devoir', 'disposer', 'faire', 'présenter', 'posséder', 'prendre', 'passer', 'boire', 'recevoir', 'porter', 'ressentir', 'tolérer', 'être tenu', 'se', 'avez-vous', 'pu', 'faut', 'reste', 'est']\n",
      "https://context.reverso.net/перевод/русский-французский/испытывать\n"
     ]
    },
    {
     "name": "stderr",
     "output_type": "stream",
     "text": [
      "\n",
      "\n",
      " 91%|█████████ | 613/676 [51:38<05:16,  5.03s/it]\u001b[A\u001b[A"
     ]
    },
    {
     "name": "stdout",
     "output_type": "stream",
     "text": [
      "['ressentir', 'souffrir', 'tester', 'éprouver', 'subir', 'avoir']\n",
      "sense_intersect ['avoir | devoir', 'ressentir | disposer | présenter | tester | reste', 'être | tester', 'tolérer | éprouver']\n",
      "have провести\n",
      "https://context.reverso.net/перевод/английский-французский/have\n",
      "['avoir', 'être', 'devoir', 'disposer', 'faire', 'présenter', 'posséder', 'prendre', 'passer', 'boire', 'recevoir', 'porter', 'ressentir', 'tolérer', 'être tenu', 'se', 'avez-vous', 'pu', 'faut', 'reste', 'est']\n",
      "https://context.reverso.net/перевод/русский-французский/провести\n"
     ]
    },
    {
     "name": "stderr",
     "output_type": "stream",
     "text": [
      "\n",
      "\n",
      " 91%|█████████ | 614/676 [51:42<05:11,  5.02s/it]\u001b[A\u001b[A"
     ]
    },
    {
     "name": "stdout",
     "output_type": "stream",
     "text": [
      "['passer', 'tenir', 'faire', 'mener', 'entreprendre', 'effectuer', 'réaliser', 'avoir lieu', 'engager', 'établir', 'rester', 'convoquer', 'mettre', 'procéder à', \"d'organiser\"]\n",
      "sense_intersect ['faire', 'passer', 'avoir | avoir lieu', 'être | rester | mettre', \"devoir | avoir lieu | d'organiser\", 'présenter | entreprendre | rester', 'prendre | mener | entreprendre', 'recevoir | avoir lieu | convoquer', 'ressentir | tenir', 'tolérer | procéder à', 'être tenu | tenir']\n",
      "have приходиться\n",
      "https://context.reverso.net/перевод/английский-французский/have\n",
      "['avoir', 'être', 'devoir', 'disposer', 'faire', 'présenter', 'posséder', 'prendre', 'passer', 'boire', 'recevoir', 'porter', 'ressentir', 'tolérer', 'être tenu', 'se', 'avez-vous', 'pu', 'faut', 'reste', 'est']\n",
      "https://context.reverso.net/перевод/русский-французский/приходиться\n"
     ]
    },
    {
     "name": "stderr",
     "output_type": "stream",
     "text": [
      "\n",
      "\n",
      " 91%|█████████ | 615/676 [51:48<05:16,  5.19s/it]\u001b[A\u001b[A"
     ]
    },
    {
     "name": "stdout",
     "output_type": "stream",
     "text": [
      "['représenter']\n",
      "sense_intersect ['présenter | représenter', 'prendre | représenter', 'porter | représenter', 'ressentir | représenter', 'tolérer | représenter', 'reste | représenter']\n",
      "have оказывать\n",
      "https://context.reverso.net/перевод/английский-французский/have\n",
      "['avoir', 'être', 'devoir', 'disposer', 'faire', 'présenter', 'posséder', 'prendre', 'passer', 'boire', 'recevoir', 'porter', 'ressentir', 'tolérer', 'être tenu', 'se', 'avez-vous', 'pu', 'faut', 'reste', 'est']\n",
      "https://context.reverso.net/перевод/русский-французский/оказывать\n"
     ]
    },
    {
     "name": "stderr",
     "output_type": "stream",
     "text": [
      "\n",
      "\n",
      " 91%|█████████ | 616/676 [51:53<05:08,  5.14s/it]\u001b[A\u001b[A"
     ]
    },
    {
     "name": "stdout",
     "output_type": "stream",
     "text": [
      "['fournir', 'apporter', 'appuyer', 'avoir', 'offrir', 'exercer', 'prêter', 'assurer', 'accorder', 'continuer', 'recevoir', 'donner', 'bénéficier', 'proposer', 'secondé']\n",
      "sense_intersect ['avoir | devoir', 'recevoir | boire | exercer', 'être | prêter', 'disposer | proposer', 'présenter | prêter', 'posséder | secondé', 'prendre | exercer | donner', 'passer | assurer', 'porter | apporter | prêter | proposer', 'être tenu | continuer']\n",
      "have носить\n",
      "https://context.reverso.net/перевод/английский-французский/have\n",
      "['avoir', 'être', 'devoir', 'disposer', 'faire', 'présenter', 'posséder', 'prendre', 'passer', 'boire', 'recevoir', 'porter', 'ressentir', 'tolérer', 'être tenu', 'se', 'avez-vous', 'pu', 'faut', 'reste', 'est']\n",
      "https://context.reverso.net/перевод/русский-французский/носить\n"
     ]
    },
    {
     "name": "stderr",
     "output_type": "stream",
     "text": [
      "\n",
      "\n",
      " 91%|█████████▏| 617/676 [51:58<04:57,  5.05s/it]\u001b[A\u001b[A"
     ]
    },
    {
     "name": "stdout",
     "output_type": "stream",
     "text": [
      "['porter', 'garder', 'transporter', 'avoir', 'mettre', 'caractère', 'port']\n",
      "sense_intersect ['avoir | devoir', 'porter | être | présenter | transporter | port | tolérer', 'être tenu | mettre', 'reste | mettre']\n",
      "have проявлять\n",
      "https://context.reverso.net/перевод/английский-французский/have\n",
      "['avoir', 'être', 'devoir', 'disposer', 'faire', 'présenter', 'posséder', 'prendre', 'passer', 'boire', 'recevoir', 'porter', 'ressentir', 'tolérer', 'être tenu', 'se', 'avez-vous', 'pu', 'faut', 'reste', 'est']\n",
      "https://context.reverso.net/перевод/русский-французский/проявлять\n"
     ]
    },
    {
     "name": "stderr",
     "output_type": "stream",
     "text": [
      "\n",
      "\n",
      " 91%|█████████▏| 618/676 [52:03<04:56,  5.11s/it]\u001b[A\u001b[A"
     ]
    },
    {
     "name": "stdout",
     "output_type": "stream",
     "text": [
      "['faire preuve', 'montrer', 'faire montre', 'manifester', \"d'exercer\", 'prudence', 'diligence', 'vigilance', 'prendre', 'respect']\n",
      "sense_intersect [\"prendre | présenter | faire preuve | d'exercer | prudence\", 'être | respect', 'devoir | faire preuve', 'faire | faire preuve | faire montre | manifester', 'porter | montrer | respect', 'être tenu | montrer']\n",
      "have потерпеть\n",
      "https://context.reverso.net/перевод/английский-французский/have\n",
      "['avoir', 'être', 'devoir', 'disposer', 'faire', 'présenter', 'posséder', 'prendre', 'passer', 'boire', 'recevoir', 'porter', 'ressentir', 'tolérer', 'être tenu', 'se', 'avez-vous', 'pu', 'faut', 'reste', 'est']\n",
      "https://context.reverso.net/перевод/русский-французский/потерпеть\n"
     ]
    },
    {
     "name": "stderr",
     "output_type": "stream",
     "text": [
      "\n",
      "\n",
      " 92%|█████████▏| 619/676 [52:08<04:48,  5.06s/it]\u001b[A\u001b[A"
     ]
    },
    {
     "name": "stdout",
     "output_type": "stream",
     "text": [
      "['échouer']\n",
      "sense_intersect ['no_equality']\n",
      "have питать\n",
      "https://context.reverso.net/перевод/английский-французский/have\n",
      "['avoir', 'être', 'devoir', 'disposer', 'faire', 'présenter', 'posséder', 'prendre', 'passer', 'boire', 'recevoir', 'porter', 'ressentir', 'tolérer', 'être tenu', 'se', 'avez-vous', 'pu', 'faut', 'reste', 'est']\n",
      "https://context.reverso.net/перевод/русский-французский/питать\n",
      "turn to alternative marks\n"
     ]
    },
    {
     "name": "stderr",
     "output_type": "stream",
     "text": [
      "\n",
      "\n",
      " 92%|█████████▏| 620/676 [52:13<04:41,  5.03s/it]\u001b[A\u001b[A"
     ]
    },
    {
     "name": "stdout",
     "output_type": "stream",
     "text": [
      "['alimenter', 'nourrir']\n",
      "sense_intersect ['ressentir | alimenter']\n",
      "have уже\n",
      "https://context.reverso.net/перевод/английский-французский/have\n",
      "['avoir', 'être', 'devoir', 'disposer', 'faire', 'présenter', 'posséder', 'prendre', 'passer', 'boire', 'recevoir', 'porter', 'ressentir', 'tolérer', 'être tenu', 'se', 'avez-vous', 'pu', 'faut', 'reste', 'est']\n",
      "https://context.reverso.net/перевод/русский-французский/уже\n"
     ]
    },
    {
     "name": "stderr",
     "output_type": "stream",
     "text": [
      "\n",
      "\n",
      " 92%|█████████▏| 621/676 [52:18<04:35,  5.01s/it]\u001b[A\u001b[A"
     ]
    },
    {
     "name": "stdout",
     "output_type": "stream",
     "text": [
      "['déjà', 'depuis', 'maintenant', 'trop', 'assez', 'presque', 'bientôt', 'désormais', 'arrête', 'fait', 'ça', 'commence', 'va', 'dès', 'pendant']\n",
      "sense_intersect ['être | arrête', 'disposer | depuis', 'porter | trop | arrête']\n",
      "have вспомогательный глагол\n",
      "https://context.reverso.net/перевод/английский-французский/have\n",
      "['avoir', 'être', 'devoir', 'disposer', 'faire', 'présenter', 'posséder', 'prendre', 'passer', 'boire', 'recevoir', 'porter', 'ressentir', 'tolérer', 'être tenu', 'se', 'avez-vous', 'pu', 'faut', 'reste', 'est']\n",
      "https://context.reverso.net/перевод/русский-французский/вспомогательный глагол\n"
     ]
    },
    {
     "name": "stderr",
     "output_type": "stream",
     "text": [
      "\n",
      "\n",
      " 92%|█████████▏| 622/676 [52:23<04:29,  4.98s/it]\u001b[A\u001b[A"
     ]
    },
    {
     "name": "stdout",
     "output_type": "stream",
     "text": [
      "['subsidiaire', \"d'appui\", 'auxiliaire', 'paramédical', 'verbe']\n",
      "sense_intersect ['recevoir | verbe']\n",
      "order порядок\n",
      "https://context.reverso.net/перевод/английский-французский/order\n",
      "['ordre', 'commande', 'décret', 'arrêté', 'décision', 'sorte', 'mesure', 'mandat', 'commander', 'ordonner', 'permettre', 'enjoindre', 'organiser', 'ordonnance', 'pouvoir', 'injonction', 'consigne', 'donne', 'règlement']\n",
      "https://context.reverso.net/перевод/русский-французский/порядок\n"
     ]
    },
    {
     "name": "stderr",
     "output_type": "stream",
     "text": [
      "\n",
      "\n",
      " 92%|█████████▏| 623/676 [52:28<04:29,  5.09s/it]\u001b[A\u001b[A"
     ]
    },
    {
     "name": "stdout",
     "output_type": "stream",
     "text": [
      "['ordre', 'modalité', 'procédure', 'mode', 'manière', 'comment', 'régime', 'système', 'façon', 'régissant', 'disposition', 'arrangement']\n",
      "sense_intersect ['ordre | procédure | ordonner', 'commande | mode | comment', 'décision | disposition', 'commander | mode | arrangement', 'enjoindre | manière', 'organiser | manière']\n",
      "order приказ\n",
      "https://context.reverso.net/перевод/английский-французский/order\n",
      "['ordre', 'commande', 'décret', 'arrêté', 'décision', 'sorte', 'mesure', 'mandat', 'commander', 'ordonner', 'permettre', 'enjoindre', 'organiser', 'ordonnance', 'pouvoir', 'injonction', 'consigne', 'donne', 'règlement']\n",
      "https://context.reverso.net/перевод/русский-французский/приказ\n"
     ]
    },
    {
     "name": "stderr",
     "output_type": "stream",
     "text": [
      "\n",
      "\n",
      " 92%|█████████▏| 624/676 [52:33<04:20,  5.01s/it]\u001b[A\u001b[A"
     ]
    },
    {
     "name": "stdout",
     "output_type": "stream",
     "text": [
      "['ordre', 'ordonnance', 'arrêté', 'décision', 'ordonné']\n",
      "sense_intersect ['ordre | ordonner', 'arrêté', 'décision', 'ordonnance | commander | enjoindre | ordonné | consigne | donne']\n",
      "order заказ\n",
      "https://context.reverso.net/перевод/английский-французский/order\n",
      "['ordre', 'commande', 'décret', 'arrêté', 'décision', 'sorte', 'mesure', 'mandat', 'commander', 'ordonner', 'permettre', 'enjoindre', 'organiser', 'ordonnance', 'pouvoir', 'injonction', 'consigne', 'donne', 'règlement']\n",
      "https://context.reverso.net/перевод/русский-французский/заказ\n"
     ]
    },
    {
     "name": "stderr",
     "output_type": "stream",
     "text": [
      "\n",
      "\n",
      " 92%|█████████▏| 625/676 [52:38<04:12,  4.95s/it]\u001b[A\u001b[A"
     ]
    },
    {
     "name": "stdout",
     "output_type": "stream",
     "text": [
      "['commande', 'réservation', 'contrat', 'commander']\n",
      "sense_intersect ['commande | commander', 'commander', 'organiser | réservation']\n",
      "order орден\n",
      "https://context.reverso.net/перевод/английский-французский/order\n",
      "['ordre', 'commande', 'décret', 'arrêté', 'décision', 'sorte', 'mesure', 'mandat', 'commander', 'ordonner', 'permettre', 'enjoindre', 'organiser', 'ordonnance', 'pouvoir', 'injonction', 'consigne', 'donne', 'règlement']\n",
      "https://context.reverso.net/перевод/русский-французский/орден\n"
     ]
    },
    {
     "name": "stderr",
     "output_type": "stream",
     "text": [
      "\n",
      "\n",
      " 93%|█████████▎| 626/676 [52:43<04:05,  4.91s/it]\u001b[A\u001b[A"
     ]
    },
    {
     "name": "stdout",
     "output_type": "stream",
     "text": [
      "['ordre', 'malte']\n",
      "sense_intersect ['ordre | ordonner']\n",
      "order последовательность\n",
      "https://context.reverso.net/перевод/английский-французский/order\n",
      "['ordre', 'commande', 'décret', 'arrêté', 'décision', 'sorte', 'mesure', 'mandat', 'commander', 'ordonner', 'permettre', 'enjoindre', 'organiser', 'ordonnance', 'pouvoir', 'injonction', 'consigne', 'donne', 'règlement']\n",
      "https://context.reverso.net/перевод/русский-французский/последовательность\n"
     ]
    },
    {
     "name": "stderr",
     "output_type": "stream",
     "text": [
      "\n",
      "\n",
      " 93%|█████████▎| 627/676 [52:48<04:05,  5.00s/it]\u001b[A\u001b[A"
     ]
    },
    {
     "name": "stdout",
     "output_type": "stream",
     "text": [
      "['séquence', 'cohérence', 'ordre', 'continuité']\n",
      "sense_intersect ['ordre | ordonner', 'injonction | continuité']\n",
      "order строй\n",
      "https://context.reverso.net/перевод/английский-французский/order\n",
      "['ordre', 'commande', 'décret', 'arrêté', 'décision', 'sorte', 'mesure', 'mandat', 'commander', 'ordonner', 'permettre', 'enjoindre', 'organiser', 'ordonnance', 'pouvoir', 'injonction', 'consigne', 'donne', 'règlement']\n",
      "https://context.reverso.net/перевод/русский-французский/строй\n"
     ]
    },
    {
     "name": "stderr",
     "output_type": "stream",
     "text": [
      "\n",
      "\n",
      " 93%|█████████▎| 628/676 [52:54<04:12,  5.26s/it]\u001b[A\u001b[A"
     ]
    },
    {
     "name": "stdout",
     "output_type": "stream",
     "text": [
      "['opérationnel', 'fais']\n",
      "sense_intersect ['ordonner | opérationnel', 'enjoindre | opérationnel', 'organiser | opérationnel', 'injonction | opérationnel', 'consigne | opérationnel']\n",
      "order приказание\n",
      "https://context.reverso.net/перевод/английский-французский/order\n",
      "['ordre', 'commande', 'décret', 'arrêté', 'décision', 'sorte', 'mesure', 'mandat', 'commander', 'ordonner', 'permettre', 'enjoindre', 'organiser', 'ordonnance', 'pouvoir', 'injonction', 'consigne', 'donne', 'règlement']\n",
      "https://context.reverso.net/перевод/русский-французский/приказание\n",
      "turn to alternative marks\n"
     ]
    },
    {
     "name": "stderr",
     "output_type": "stream",
     "text": [
      "\n",
      "\n",
      " 93%|█████████▎| 629/676 [52:59<04:02,  5.16s/it]\u001b[A\u001b[A"
     ]
    },
    {
     "name": "stdout",
     "output_type": "stream",
     "text": [
      "['ordre', 'sommation']\n",
      "sense_intersect ['ordre | ordonner']\n",
      "order заказывать\n",
      "https://context.reverso.net/перевод/английский-французский/order\n",
      "['ordre', 'commande', 'décret', 'arrêté', 'décision', 'sorte', 'mesure', 'mandat', 'commander', 'ordonner', 'permettre', 'enjoindre', 'organiser', 'ordonnance', 'pouvoir', 'injonction', 'consigne', 'donne', 'règlement']\n",
      "https://context.reverso.net/перевод/русский-французский/заказывать\n"
     ]
    },
    {
     "name": "stderr",
     "output_type": "stream",
     "text": [
      "\n",
      "\n",
      " 93%|█████████▎| 630/676 [53:04<03:53,  5.07s/it]\u001b[A\u001b[A"
     ]
    },
    {
     "name": "stdout",
     "output_type": "stream",
     "text": [
      "['commander']\n",
      "sense_intersect ['commander | commande | ordonnance']\n",
      "order приказывать\n",
      "https://context.reverso.net/перевод/английский-французский/order\n",
      "['ordre', 'commande', 'décret', 'arrêté', 'décision', 'sorte', 'mesure', 'mandat', 'commander', 'ordonner', 'permettre', 'enjoindre', 'organiser', 'ordonnance', 'pouvoir', 'injonction', 'consigne', 'donne', 'règlement']\n",
      "https://context.reverso.net/перевод/русский-французский/приказывать\n",
      "turn to alternative marks\n"
     ]
    },
    {
     "name": "stderr",
     "output_type": "stream",
     "text": [
      "\n",
      "\n",
      " 93%|█████████▎| 631/676 [53:09<03:52,  5.16s/it]\u001b[A\u001b[A"
     ]
    },
    {
     "name": "stdout",
     "output_type": "stream",
     "text": [
      "['ordonner', 'commander', 'me donner des ordres', 'dire quoi faire', \"d'ordre à me donner\", 'vos ordres', \"d'ordres à recevoir\"]\n",
      "sense_intersect [\"commander | commande | me donner des ordres | d'ordre à me donner\", 'ordonner | ordre | enjoindre | ordonnance | consigne | donne', 'sorte | vos ordres', \"organiser | dire quoi faire | d'ordres à recevoir\"]\n",
      "order упорядочить\n",
      "https://context.reverso.net/перевод/английский-французский/order\n",
      "['ordre', 'commande', 'décret', 'arrêté', 'décision', 'sorte', 'mesure', 'mandat', 'commander', 'ordonner', 'permettre', 'enjoindre', 'organiser', 'ordonnance', 'pouvoir', 'injonction', 'consigne', 'donne', 'règlement']\n",
      "https://context.reverso.net/перевод/русский-французский/упорядочить\n"
     ]
    },
    {
     "name": "stderr",
     "output_type": "stream",
     "text": [
      "\n",
      "\n",
      " 93%|█████████▎| 632/676 [53:14<03:44,  5.10s/it]\u001b[A\u001b[A"
     ]
    },
    {
     "name": "stdout",
     "output_type": "stream",
     "text": [
      "['rationaliser', 'simplifier']\n",
      "sense_intersect ['organiser | rationaliser']\n",
      "freeze замерзать\n",
      "https://context.reverso.net/перевод/английский-французский/freeze\n",
      "['geler', 'congeler', 'figer', 'bloquer', 'glacer', 'arrêter', 'suspendre', 'surgeler', 'gel', 'congélation', 'froid', 'blocage', 'gelée', 'freeze']\n",
      "https://context.reverso.net/перевод/русский-французский/замерзать\n",
      "turn to alternative marks\n"
     ]
    },
    {
     "name": "stderr",
     "output_type": "stream",
     "text": [
      "\n",
      "\n",
      " 94%|█████████▎| 633/676 [53:19<03:39,  5.10s/it]\u001b[A\u001b[A"
     ]
    },
    {
     "name": "stdout",
     "output_type": "stream",
     "text": [
      "['geler']\n",
      "sense_intersect ['geler | congeler | glacer | surgeler | gel']\n",
      "freeze замораживать\n",
      "https://context.reverso.net/перевод/английский-французский/freeze\n",
      "['geler', 'congeler', 'figer', 'bloquer', 'glacer', 'arrêter', 'suspendre', 'surgeler', 'gel', 'congélation', 'froid', 'blocage', 'gelée', 'freeze']\n",
      "https://context.reverso.net/перевод/русский-французский/замораживать\n"
     ]
    },
    {
     "name": "stderr",
     "output_type": "stream",
     "text": [
      "\n",
      "\n",
      " 94%|█████████▍| 634/676 [53:24<03:37,  5.17s/it]\u001b[A\u001b[A"
     ]
    },
    {
     "name": "stdout",
     "output_type": "stream",
     "text": [
      "['geler']\n",
      "sense_intersect ['geler | congeler | glacer | surgeler | gel']\n",
      "freeze застывать\n",
      "https://context.reverso.net/перевод/английский-французский/freeze\n",
      "['geler', 'congeler', 'figer', 'bloquer', 'glacer', 'arrêter', 'suspendre', 'surgeler', 'gel', 'congélation', 'froid', 'blocage', 'gelée', 'freeze']\n",
      "https://context.reverso.net/перевод/русский-французский/застывать\n",
      "turn to alternative marks\n"
     ]
    },
    {
     "name": "stderr",
     "output_type": "stream",
     "text": [
      "\n",
      "\n",
      " 94%|█████████▍| 635/676 [53:29<03:27,  5.06s/it]\u001b[A\u001b[A"
     ]
    },
    {
     "name": "stdout",
     "output_type": "stream",
     "text": [
      "[]\n",
      "sense_intersect ['no_equality']\n",
      "freeze примерзать\n",
      "https://context.reverso.net/перевод/английский-французский/freeze\n",
      "['geler', 'congeler', 'figer', 'bloquer', 'glacer', 'arrêter', 'suspendre', 'surgeler', 'gel', 'congélation', 'froid', 'blocage', 'gelée', 'freeze']\n",
      "https://context.reverso.net/перевод/русский-французский/примерзать\n"
     ]
    },
    {
     "name": "stderr",
     "output_type": "stream",
     "text": [
      "\n",
      "\n",
      " 94%|█████████▍| 636/676 [53:34<03:21,  5.05s/it]\u001b[A\u001b[A"
     ]
    },
    {
     "name": "stdout",
     "output_type": "stream",
     "text": [
      "['garder']\n",
      "sense_intersect ['glacer | garder']\n",
      "freeze зависать\n",
      "https://context.reverso.net/перевод/английский-французский/freeze\n",
      "['geler', 'congeler', 'figer', 'bloquer', 'glacer', 'arrêter', 'suspendre', 'surgeler', 'gel', 'congélation', 'froid', 'blocage', 'gelée', 'freeze']\n",
      "https://context.reverso.net/перевод/русский-французский/зависать\n"
     ]
    },
    {
     "name": "stderr",
     "output_type": "stream",
     "text": [
      "\n",
      "\n",
      " 94%|█████████▍| 637/676 [53:39<03:14,  5.00s/it]\u001b[A\u001b[A"
     ]
    },
    {
     "name": "stdout",
     "output_type": "stream",
     "text": [
      "['traîner']\n",
      "sense_intersect ['arrêter | traîner']\n",
      "freeze отморозить\n",
      "https://context.reverso.net/перевод/английский-французский/freeze\n",
      "['geler', 'congeler', 'figer', 'bloquer', 'glacer', 'arrêter', 'suspendre', 'surgeler', 'gel', 'congélation', 'froid', 'blocage', 'gelée', 'freeze']\n",
      "https://context.reverso.net/перевод/русский-французский/отморозить\n",
      "turn to alternative marks\n"
     ]
    },
    {
     "name": "stderr",
     "output_type": "stream",
     "text": [
      "\n",
      "\n",
      " 94%|█████████▍| 638/676 [53:45<03:20,  5.28s/it]\u001b[A\u001b[A"
     ]
    },
    {
     "name": "stdout",
     "output_type": "stream",
     "text": [
      "['vous geler']\n",
      "sense_intersect ['geler | vous geler', 'congeler | vous geler', 'bloquer | vous geler', 'surgeler | vous geler']\n",
      "freeze заледенеть\n",
      "https://context.reverso.net/перевод/английский-французский/freeze\n",
      "['geler', 'congeler', 'figer', 'bloquer', 'glacer', 'arrêter', 'suspendre', 'surgeler', 'gel', 'congélation', 'froid', 'blocage', 'gelée', 'freeze']\n",
      "https://context.reverso.net/перевод/русский-французский/заледенеть\n",
      "turn to alternative marks\n"
     ]
    },
    {
     "name": "stderr",
     "output_type": "stream",
     "text": [
      "\n",
      "\n",
      " 95%|█████████▍| 639/676 [53:50<03:15,  5.29s/it]\u001b[A\u001b[A"
     ]
    },
    {
     "name": "stdout",
     "output_type": "stream",
     "text": [
      "[]\n",
      "sense_intersect ['no_equality']\n",
      "freeze вмерзнуть\n",
      "https://context.reverso.net/перевод/английский-французский/freeze\n",
      "['geler', 'congeler', 'figer', 'bloquer', 'glacer', 'arrêter', 'suspendre', 'surgeler', 'gel', 'congélation', 'froid', 'blocage', 'gelée', 'freeze']\n",
      "https://context.reverso.net/перевод/русский-французский/вмерзнуть\n",
      "turn to alternative marks\n"
     ]
    },
    {
     "name": "stderr",
     "output_type": "stream",
     "text": [
      "\n",
      "\n",
      " 95%|█████████▍| 640/676 [53:56<03:14,  5.41s/it]\u001b[A\u001b[A"
     ]
    },
    {
     "name": "stdout",
     "output_type": "stream",
     "text": [
      "['avoir froid', 'geler', 'cailler', 'les couvertures', 'travailer']\n",
      "sense_intersect ['geler | congeler | glacer | surgeler | gel', 'bloquer | les couvertures', 'arrêter | travailer', 'suspendre | les couvertures', 'froid | avoir froid']\n",
      "freeze замораживание\n",
      "https://context.reverso.net/перевод/английский-французский/freeze\n",
      "['geler', 'congeler', 'figer', 'bloquer', 'glacer', 'arrêter', 'suspendre', 'surgeler', 'gel', 'congélation', 'froid', 'blocage', 'gelée', 'freeze']\n",
      "https://context.reverso.net/перевод/русский-французский/замораживание\n"
     ]
    },
    {
     "name": "stderr",
     "output_type": "stream",
     "text": [
      "\n",
      "\n",
      " 95%|█████████▍| 641/676 [54:01<03:05,  5.31s/it]\u001b[A\u001b[A"
     ]
    },
    {
     "name": "stdout",
     "output_type": "stream",
     "text": [
      "['gel', 'geler']\n",
      "sense_intersect ['geler | gel | congeler | glacer | surgeler', 'gel']\n",
      "freeze зависание\n",
      "https://context.reverso.net/перевод/английский-французский/freeze\n",
      "['geler', 'congeler', 'figer', 'bloquer', 'glacer', 'arrêter', 'suspendre', 'surgeler', 'gel', 'congélation', 'froid', 'blocage', 'gelée', 'freeze']\n",
      "https://context.reverso.net/перевод/русский-французский/зависание\n",
      "turn to alternative marks\n"
     ]
    },
    {
     "name": "stderr",
     "output_type": "stream",
     "text": [
      "\n",
      "\n",
      " 95%|█████████▍| 642/676 [54:06<02:54,  5.14s/it]\u001b[A\u001b[A"
     ]
    },
    {
     "name": "stdout",
     "output_type": "stream",
     "text": [
      "[]\n",
      "sense_intersect ['no_equality']\n",
      "freeze мороз\n",
      "https://context.reverso.net/перевод/английский-французский/freeze\n",
      "['geler', 'congeler', 'figer', 'bloquer', 'glacer', 'arrêter', 'suspendre', 'surgeler', 'gel', 'congélation', 'froid', 'blocage', 'gelée', 'freeze']\n",
      "https://context.reverso.net/перевод/русский-французский/мороз\n",
      "turn to alternative marks\n"
     ]
    },
    {
     "name": "stderr",
     "output_type": "stream",
     "text": [
      "\n",
      "\n",
      " 95%|█████████▌| 643/676 [54:11<02:47,  5.09s/it]\u001b[A\u001b[A"
     ]
    },
    {
     "name": "stdout",
     "output_type": "stream",
     "text": [
      "['froid', 'gèle ici', 'il gèle', 'gelés', 'gelée', 'geler', 'perce-oreille']\n",
      "sense_intersect ['geler | perce-oreille | congeler | glacer | surgeler', 'froid', 'gelée | gelés', 'gel | il gèle | geler']\n",
      "necessary необходимый\n",
      "https://context.reverso.net/перевод/английский-французский/necessary\n",
      "['nécessaire', 'échéant', 'indispensable', 'requis', 'essentiel', 'utile', 'voulue', 'faut', 'besoin', 'nécessité', 'lieu', 'imposent', 'fallait', 'faudra']\n",
      "https://context.reverso.net/перевод/русский-французский/необходимый\n"
     ]
    },
    {
     "name": "stderr",
     "output_type": "stream",
     "text": [
      "\n",
      "\n",
      " 95%|█████████▌| 644/676 [54:16<02:41,  5.04s/it]\u001b[A\u001b[A"
     ]
    },
    {
     "name": "stdout",
     "output_type": "stream",
     "text": [
      "['nécessaire', 'requis', 'indispensable', 'besoin']\n",
      "sense_intersect ['nécessaire | indispensable | essentiel', 'indispensable', 'requis', 'besoin | imposent']\n",
      "necessary неизбежный\n",
      "https://context.reverso.net/перевод/английский-французский/necessary\n",
      "['nécessaire', 'échéant', 'indispensable', 'requis', 'essentiel', 'utile', 'voulue', 'faut', 'besoin', 'nécessité', 'lieu', 'imposent', 'fallait', 'faudra']\n",
      "https://context.reverso.net/перевод/русский-французский/неизбежный\n"
     ]
    },
    {
     "name": "stderr",
     "output_type": "stream",
     "text": [
      "\n",
      "\n",
      " 95%|█████████▌| 645/676 [54:21<02:36,  5.04s/it]\u001b[A\u001b[A"
     ]
    },
    {
     "name": "stdout",
     "output_type": "stream",
     "text": [
      "['inévitable']\n",
      "sense_intersect ['no_equality']\n",
      "necessary надобный\n",
      "https://context.reverso.net/перевод/английский-французский/necessary\n",
      "['nécessaire', 'échéant', 'indispensable', 'requis', 'essentiel', 'utile', 'voulue', 'faut', 'besoin', 'nécessité', 'lieu', 'imposent', 'fallait', 'faudra']\n",
      "https://context.reverso.net/перевод/русский-французский/надобный\n",
      "turn to alternative marks\n"
     ]
    },
    {
     "name": "stderr",
     "output_type": "stream",
     "text": [
      "\n",
      "\n",
      " 96%|█████████▌| 646/676 [54:26<02:31,  5.06s/it]\u001b[A\u001b[A"
     ]
    },
    {
     "name": "stdout",
     "output_type": "stream",
     "text": [
      "['à domicile']\n",
      "sense_intersect ['no_equality']\n",
      "necessary требуемый\n",
      "https://context.reverso.net/перевод/английский-французский/necessary\n",
      "['nécessaire', 'échéant', 'indispensable', 'requis', 'essentiel', 'utile', 'voulue', 'faut', 'besoin', 'nécessité', 'lieu', 'imposent', 'fallait', 'faudra']\n",
      "https://context.reverso.net/перевод/русский-французский/требуемый\n"
     ]
    },
    {
     "name": "stderr",
     "output_type": "stream",
     "text": [
      "\n",
      "\n",
      " 96%|█████████▌| 647/676 [54:31<02:29,  5.15s/it]\u001b[A\u001b[A"
     ]
    },
    {
     "name": "stdout",
     "output_type": "stream",
     "text": [
      "['requis', 'nécessaire']\n",
      "sense_intersect ['nécessaire | indispensable | essentiel', 'requis']\n",
      "necessary надо\n",
      "https://context.reverso.net/перевод/английский-французский/necessary\n",
      "['nécessaire', 'échéant', 'indispensable', 'requis', 'essentiel', 'utile', 'voulue', 'faut', 'besoin', 'nécessité', 'lieu', 'imposent', 'fallait', 'faudra']\n",
      "https://context.reverso.net/перевод/русский-французский/надо\n"
     ]
    },
    {
     "name": "stderr",
     "output_type": "stream",
     "text": [
      "\n",
      "\n",
      " 96%|█████████▌| 648/676 [54:36<02:24,  5.17s/it]\u001b[A\u001b[A"
     ]
    },
    {
     "name": "stdout",
     "output_type": "stream",
     "text": [
      "['il faut', 'on doit', 'pas', 'y', 'il va falloir', 'faire', 'devoir', 'falloir', 'dois', 'besoin', 'à', 'devon', 'veux', 'vais', 'je', 'ça', 'devriez']\n",
      "sense_intersect ['besoin | indispensable | imposent', 'utile | il faut', 'faut | il faut', 'fallait | il faut | il va falloir']\n",
      "necessary надобность\n",
      "https://context.reverso.net/перевод/английский-французский/necessary\n",
      "['nécessaire', 'échéant', 'indispensable', 'requis', 'essentiel', 'utile', 'voulue', 'faut', 'besoin', 'nécessité', 'lieu', 'imposent', 'fallait', 'faudra']\n",
      "https://context.reverso.net/перевод/русский-французский/надобность\n",
      "turn to alternative marks\n"
     ]
    },
    {
     "name": "stderr",
     "output_type": "stream",
     "text": [
      "\n",
      "\n",
      " 96%|█████████▌| 649/676 [54:42<02:18,  5.13s/it]\u001b[A\u001b[A"
     ]
    },
    {
     "name": "stdout",
     "output_type": "stream",
     "text": [
      "['besoin']\n",
      "sense_intersect ['besoin | indispensable | imposent']\n",
      "with с\n",
      "https://context.reverso.net/перевод/английский-французский/with\n",
      "['avec', 'qui', 'contre', 'malgré', 'auprès de', 'à', 'de', 'par', 'en', 'aux', 'et', 'dans', 'au', 'pour', 'sur', 'ayant', 'dont', 'auprès']\n",
      "https://context.reverso.net/перевод/русский-французский/с\n",
      "turn to alternative marks\n"
     ]
    },
    {
     "name": "stderr",
     "output_type": "stream",
     "text": [
      "\n",
      "\n",
      " 96%|█████████▌| 650/676 [54:46<02:10,  5.00s/it]\u001b[A\u001b[A"
     ]
    },
    {
     "name": "stdout",
     "output_type": "stream",
     "text": [
      "[]\n",
      "sense_intersect ['no_equality']\n",
      "with причем\n",
      "https://context.reverso.net/перевод/английский-французский/with\n",
      "['avec', 'qui', 'contre', 'malgré', 'auprès de', 'à', 'de', 'par', 'en', 'aux', 'et', 'dans', 'au', 'pour', 'sur', 'ayant', 'dont', 'auprès']\n",
      "https://context.reverso.net/перевод/русский-французский/причем\n"
     ]
    },
    {
     "name": "stderr",
     "output_type": "stream",
     "text": [
      "\n",
      "\n",
      " 96%|█████████▋| 651/676 [54:51<02:04,  4.98s/it]\u001b[A\u001b[A"
     ]
    },
    {
     "name": "stdout",
     "output_type": "stream",
     "text": [
      "['dont', 'sans', 'souvent', 'tandis', 'notamment', 'mai', 'même', 'plupart', 'parfois', 'tant', 'où']\n",
      "sense_intersect ['dont']\n",
      "with вместе с\n",
      "https://context.reverso.net/перевод/английский-французский/with\n",
      "['avec', 'qui', 'contre', 'malgré', 'auprès de', 'à', 'de', 'par', 'en', 'aux', 'et', 'dans', 'au', 'pour', 'sur', 'ayant', 'dont', 'auprès']\n",
      "https://context.reverso.net/перевод/русский-французский/вместе с\n"
     ]
    },
    {
     "name": "stderr",
     "output_type": "stream",
     "text": [
      "\n",
      "\n",
      " 96%|█████████▋| 652/676 [54:56<02:01,  5.05s/it]\u001b[A\u001b[A"
     ]
    },
    {
     "name": "stdout",
     "output_type": "stream",
     "text": [
      "['avec', 'en même temps que', 'accompagné', 'tout comme', 'ainsi que', 'parallèlement', 'ensemble', 'même que', 'autre part', 'accompagner', 'assorti']\n",
      "sense_intersect ['avec']\n",
      "treat рассматривать\n",
      "https://context.reverso.net/перевод/английский-французский/treat\n",
      "['traiter', 'soigner', 'considérer', 'offrir', 'inviter', 'régaler', 'guérir', 'payer', 'traitement', 'traite', 'plaisir', 'régal', 'gâterie', 'friandise', 'festin', 'récompense']\n",
      "https://context.reverso.net/перевод/русский-французский/рассматривать\n"
     ]
    },
    {
     "name": "stderr",
     "output_type": "stream",
     "text": [
      "\n",
      "\n",
      " 97%|█████████▋| 653/676 [55:02<02:01,  5.27s/it]\u001b[A\u001b[A"
     ]
    },
    {
     "name": "stdout",
     "output_type": "stream",
     "text": [
      "['examiner', 'considérer', 'envisager', 'traiter', 'aborder', 'voir', 'connaître', 'étudier', 'régler', 'inscrire', 'regarder', 'replacer', 'constituer', 'réexaminer', 'analyser']\n",
      "sense_intersect ['traiter | constituer | traitement | traite', 'considérer | soigner | inscrire | réexaminer | récompense', 'régaler | régler', 'régal | régler', 'friandise | examiner | envisager']\n",
      "treat обращаться\n",
      "https://context.reverso.net/перевод/английский-французский/treat\n",
      "['traiter', 'soigner', 'considérer', 'offrir', 'inviter', 'régaler', 'guérir', 'payer', 'traitement', 'traite', 'plaisir', 'régal', 'gâterie', 'friandise', 'festin', 'récompense']\n",
      "https://context.reverso.net/перевод/русский-французский/обращаться\n"
     ]
    },
    {
     "name": "stderr",
     "output_type": "stream",
     "text": [
      "\n",
      "\n",
      " 97%|█████████▋| 654/676 [55:07<01:53,  5.17s/it]\u001b[A\u001b[A"
     ]
    },
    {
     "name": "stdout",
     "output_type": "stream",
     "text": [
      "['demander', 'traiter', \"s'adresser\", 'saisir', 'solliciter', 'faire appel', 'contacter', 'recourir', 'appeler', 'présenter', 'se tourner', 'consulter', 'obtenir', 'servir', 'avoir recours']\n",
      "sense_intersect ['traiter | traitement | traite', 'soigner | se tourner | obtenir | avoir recours', 'considérer | recourir | présenter | se tourner | consulter', 'payer | faire appel | appeler']\n",
      "treat лечить\n",
      "https://context.reverso.net/перевод/английский-французский/treat\n",
      "['traiter', 'soigner', 'considérer', 'offrir', 'inviter', 'régaler', 'guérir', 'payer', 'traitement', 'traite', 'plaisir', 'régal', 'gâterie', 'friandise', 'festin', 'récompense']\n",
      "https://context.reverso.net/перевод/русский-французский/лечить\n"
     ]
    },
    {
     "name": "stderr",
     "output_type": "stream",
     "text": [
      "\n",
      "\n",
      " 97%|█████████▋| 655/676 [55:12<01:46,  5.06s/it]\u001b[A\u001b[A"
     ]
    },
    {
     "name": "stdout",
     "output_type": "stream",
     "text": [
      "['soigner', 'traiter', 'guérir', 'traitement']\n",
      "sense_intersect ['traiter | traitement | traite', 'soigner | considérer', 'guérir', 'traitement']\n",
      "treat обрабатывать\n",
      "https://context.reverso.net/перевод/английский-французский/treat\n",
      "['traiter', 'soigner', 'considérer', 'offrir', 'inviter', 'régaler', 'guérir', 'payer', 'traitement', 'traite', 'plaisir', 'régal', 'gâterie', 'friandise', 'festin', 'récompense']\n",
      "https://context.reverso.net/перевод/русский-французский/обрабатывать\n"
     ]
    },
    {
     "name": "stderr",
     "output_type": "stream",
     "text": [
      "\n",
      "\n",
      " 97%|█████████▋| 656/676 [55:17<01:40,  5.02s/it]\u001b[A\u001b[A"
     ]
    },
    {
     "name": "stdout",
     "output_type": "stream",
     "text": [
      "['traiter']\n",
      "sense_intersect ['traiter | traitement | traite']\n",
      "treat обходиться\n",
      "https://context.reverso.net/перевод/английский-французский/treat\n",
      "['traiter', 'soigner', 'considérer', 'offrir', 'inviter', 'régaler', 'guérir', 'payer', 'traitement', 'traite', 'plaisir', 'régal', 'gâterie', 'friandise', 'festin', 'récompense']\n",
      "https://context.reverso.net/перевод/русский-французский/обходиться\n",
      "turn to alternative marks\n"
     ]
    },
    {
     "name": "stderr",
     "output_type": "stream",
     "text": [
      "\n",
      "\n",
      " 97%|█████████▋| 657/676 [55:22<01:35,  5.00s/it]\u001b[A\u001b[A"
     ]
    },
    {
     "name": "stdout",
     "output_type": "stream",
     "text": [
      "['traiter', 'se passer', 'coûter', 'se contenter']\n",
      "sense_intersect ['traiter | traitement | traite', 'festin | se contenter', 'récompense | se contenter']\n",
      "treat угощать\n",
      "https://context.reverso.net/перевод/английский-французский/treat\n",
      "['traiter', 'soigner', 'considérer', 'offrir', 'inviter', 'régaler', 'guérir', 'payer', 'traitement', 'traite', 'plaisir', 'régal', 'gâterie', 'friandise', 'festin', 'récompense']\n",
      "https://context.reverso.net/перевод/русский-французский/угощать\n",
      "turn to alternative marks\n"
     ]
    },
    {
     "name": "stderr",
     "output_type": "stream",
     "text": [
      "\n",
      "\n",
      " 97%|█████████▋| 658/676 [55:27<01:29,  4.99s/it]\u001b[A\u001b[A"
     ]
    },
    {
     "name": "stdout",
     "output_type": "stream",
     "text": [
      "['offrirai', 'prodiguer']\n",
      "sense_intersect ['soigner | prodiguer', 'considérer | prodiguer', 'offrir | offrirai', 'gâterie | prodiguer', 'friandise | offrirai']\n",
      "treat побаловать\n",
      "https://context.reverso.net/перевод/английский-французский/treat\n",
      "['traiter', 'soigner', 'considérer', 'offrir', 'inviter', 'régaler', 'guérir', 'payer', 'traitement', 'traite', 'plaisir', 'régal', 'gâterie', 'friandise', 'festin', 'récompense']\n",
      "https://context.reverso.net/перевод/русский-французский/побаловать\n",
      "turn to alternative marks\n"
     ]
    },
    {
     "name": "stderr",
     "output_type": "stream",
     "text": [
      "\n",
      "\n",
      " 97%|█████████▋| 659/676 [55:32<01:24,  4.98s/it]\u001b[A\u001b[A"
     ]
    },
    {
     "name": "stdout",
     "output_type": "stream",
     "text": [
      "['gâter', 'faire plaisir']\n",
      "sense_intersect ['plaisir | faire plaisir', 'gâterie | gâter', 'friandise | faire plaisir']\n",
      "treat третировать\n",
      "https://context.reverso.net/перевод/английский-французский/treat\n",
      "['traiter', 'soigner', 'considérer', 'offrir', 'inviter', 'régaler', 'guérir', 'payer', 'traitement', 'traite', 'plaisir', 'régal', 'gâterie', 'friandise', 'festin', 'récompense']\n",
      "https://context.reverso.net/перевод/русский-французский/третировать\n",
      "turn to alternative marks\n"
     ]
    },
    {
     "name": "stderr",
     "output_type": "stream",
     "text": [
      "\n",
      "\n",
      " 98%|█████████▊| 660/676 [55:37<01:21,  5.11s/it]\u001b[A\u001b[A"
     ]
    },
    {
     "name": "stdout",
     "output_type": "stream",
     "text": [
      "[]\n",
      "sense_intersect ['no_equality']\n",
      "treat угощение\n",
      "https://context.reverso.net/перевод/английский-французский/treat\n",
      "['traiter', 'soigner', 'considérer', 'offrir', 'inviter', 'régaler', 'guérir', 'payer', 'traitement', 'traite', 'plaisir', 'régal', 'gâterie', 'friandise', 'festin', 'récompense']\n",
      "https://context.reverso.net/перевод/русский-французский/угощение\n",
      "turn to alternative marks\n"
     ]
    },
    {
     "name": "stderr",
     "output_type": "stream",
     "text": [
      "\n",
      "\n",
      " 98%|█████████▊| 661/676 [55:42<01:15,  5.06s/it]\u001b[A\u001b[A"
     ]
    },
    {
     "name": "stdout",
     "output_type": "stream",
     "text": [
      "['bonbon', 'récompense', 'repas', 'gâterie', 'buffet', 'friandise', 'surprise', 'festin', 'régaler', 'résistance']\n",
      "sense_intersect ['régaler | régal', 'gâterie', 'friandise | festin', 'festin', 'récompense | considérer', 'payer | repas']\n",
      "treat удовольствие\n",
      "https://context.reverso.net/перевод/английский-французский/treat\n",
      "['traiter', 'soigner', 'considérer', 'offrir', 'inviter', 'régaler', 'guérir', 'payer', 'traitement', 'traite', 'plaisir', 'régal', 'gâterie', 'friandise', 'festin', 'récompense']\n",
      "https://context.reverso.net/перевод/русский-французский/удовольствие\n"
     ]
    },
    {
     "name": "stderr",
     "output_type": "stream",
     "text": [
      "\n",
      "\n",
      " 98%|█████████▊| 662/676 [55:47<01:12,  5.15s/it]\u001b[A\u001b[A"
     ]
    },
    {
     "name": "stdout",
     "output_type": "stream",
     "text": [
      "['plaisir', 'joie', 'satisfaction', 'profiter', 'apprécier']\n",
      "sense_intersect ['plaisir', 'traiter | profiter', 'offrir | profiter', 'gâterie | profiter', 'festin | satisfaction']\n",
      "treat обработка\n",
      "https://context.reverso.net/перевод/английский-французский/treat\n",
      "['traiter', 'soigner', 'considérer', 'offrir', 'inviter', 'régaler', 'guérir', 'payer', 'traitement', 'traite', 'plaisir', 'régal', 'gâterie', 'friandise', 'festin', 'récompense']\n",
      "https://context.reverso.net/перевод/русский-французский/обработка\n"
     ]
    },
    {
     "name": "stderr",
     "output_type": "stream",
     "text": [
      "\n",
      "\n",
      " 98%|█████████▊| 663/676 [55:52<01:05,  5.06s/it]\u001b[A\u001b[A"
     ]
    },
    {
     "name": "stdout",
     "output_type": "stream",
     "text": [
      "['traitement']\n",
      "sense_intersect ['traitement | traiter | traite']\n",
      "approbation одобрение\n",
      "https://context.reverso.net/перевод/английский-французский/approbation\n",
      "['approbation']\n",
      "https://context.reverso.net/перевод/русский-французский/одобрение\n"
     ]
    },
    {
     "name": "stderr",
     "output_type": "stream",
     "text": [
      "\n",
      "\n",
      " 98%|█████████▊| 664/676 [55:57<01:00,  5.05s/it]\u001b[A\u001b[A"
     ]
    },
    {
     "name": "stdout",
     "output_type": "stream",
     "text": [
      "['approbation', 'accord', 'adoption', 'approuvé par', 'félicite', 'approuver']\n",
      "sense_intersect ['approbation | adoption | approuver']\n",
      "select выбирать\n",
      "https://context.reverso.net/перевод/английский-французский/select\n",
      "['sélectionner', 'choisir', 'cliquer sur', 'désigner', 'retenir', 'opter', 'sélecter', 'sélection', 'choix', 'sélectionné', 'sélect', 'choisi', 'restreint', 'choisie', 'certain', 'cocher']\n",
      "https://context.reverso.net/перевод/русский-французский/выбирать\n"
     ]
    },
    {
     "name": "stderr",
     "output_type": "stream",
     "text": [
      "\n",
      "\n",
      " 98%|█████████▊| 665/676 [56:03<00:58,  5.33s/it]\u001b[A\u001b[A"
     ]
    },
    {
     "name": "stdout",
     "output_type": "stream",
     "text": [
      "['choisir', 'sélectionner', 'décider', 'choix']\n",
      "sense_intersect ['sélectionner | désigner | retenir | sélecter | sélection | sélectionné | restreint | certain', 'choisir | choix | choisi | choisie', 'choix']\n",
      "select избирать\n",
      "https://context.reverso.net/перевод/английский-французский/select\n",
      "['sélectionner', 'choisir', 'cliquer sur', 'désigner', 'retenir', 'opter', 'sélecter', 'sélection', 'choix', 'sélectionné', 'sélect', 'choisi', 'restreint', 'choisie', 'certain', 'cocher']\n",
      "https://context.reverso.net/перевод/русский-французский/избирать\n"
     ]
    },
    {
     "name": "stderr",
     "output_type": "stream",
     "text": [
      "\n",
      "\n",
      " 99%|█████████▊| 666/676 [56:09<00:53,  5.31s/it]\u001b[A\u001b[A"
     ]
    },
    {
     "name": "stdout",
     "output_type": "stream",
     "text": [
      "['élire', 'voter', 'choisir']\n",
      "sense_intersect ['choisir | choix | choisi | choisie', 'retenir | voter', 'opter | voter', 'restreint | voter']\n",
      "select выделить\n",
      "https://context.reverso.net/перевод/английский-французский/select\n",
      "['sélectionner', 'choisir', 'cliquer sur', 'désigner', 'retenir', 'opter', 'sélecter', 'sélection', 'choix', 'sélectionné', 'sélect', 'choisi', 'restreint', 'choisie', 'certain', 'cocher']\n",
      "https://context.reverso.net/перевод/русский-французский/выделить\n"
     ]
    },
    {
     "name": "stderr",
     "output_type": "stream",
     "text": [
      "\n",
      "\n",
      " 99%|█████████▊| 667/676 [56:13<00:46,  5.18s/it]\u001b[A\u001b[A"
     ]
    },
    {
     "name": "stdout",
     "output_type": "stream",
     "text": [
      "['allouer', 'fournir', 'souligner', 'consacrer', 'affecter', 'distinguer', 'isoler', 'verser', 'dégager', 'sélectionner', 'accorder', 'prévoir']\n",
      "sense_intersect ['sélectionner | souligner | désigner | retenir | sélecter | sélection | sélectionné | restreint', 'cliquer sur | fournir | distinguer', 'certain | consacrer | sélectionner', 'cocher | consacrer | accorder']\n",
      "select указать\n",
      "https://context.reverso.net/перевод/английский-французский/select\n",
      "['sélectionner', 'choisir', 'cliquer sur', 'désigner', 'retenir', 'opter', 'sélecter', 'sélection', 'choix', 'sélectionné', 'sélect', 'choisi', 'restreint', 'choisie', 'certain', 'cocher']\n",
      "https://context.reverso.net/перевод/русский-французский/указать\n"
     ]
    },
    {
     "name": "stderr",
     "output_type": "stream",
     "text": [
      "\n",
      "\n",
      " 99%|█████████▉| 668/676 [56:18<00:40,  5.08s/it]\u001b[A\u001b[A"
     ]
    },
    {
     "name": "stdout",
     "output_type": "stream",
     "text": [
      "['indiquer', 'préciser', 'souligner', 'spécifier', 'signaler', 'mentionner', 'montrer', 'désigner', 'définir', 'noter', 'identifier', 'relever']\n",
      "sense_intersect ['désigner', 'sélectionner | préciser | souligner | signaler | mentionner | désigner | noter', 'cliquer sur | indiquer', 'retenir | montrer | identifier', 'opter | montrer', 'restreint | montrer']\n",
      "select отборный\n",
      "https://context.reverso.net/перевод/английский-французский/select\n",
      "['sélectionner', 'choisir', 'cliquer sur', 'désigner', 'retenir', 'opter', 'sélecter', 'sélection', 'choix', 'sélectionné', 'sélect', 'choisi', 'restreint', 'choisie', 'certain', 'cocher']\n",
      "https://context.reverso.net/перевод/русский-французский/отборный\n",
      "turn to alternative marks\n"
     ]
    },
    {
     "name": "stderr",
     "output_type": "stream",
     "text": [
      "\n",
      "\n",
      " 99%|█████████▉| 669/676 [56:23<00:35,  5.00s/it]\u001b[A\u001b[A"
     ]
    },
    {
     "name": "stdout",
     "output_type": "stream",
     "text": [
      "[]\n",
      "sense_intersect ['no_equality']\n",
      "select отбор\n",
      "https://context.reverso.net/перевод/английский-французский/select\n",
      "['sélectionner', 'choisir', 'cliquer sur', 'désigner', 'retenir', 'opter', 'sélecter', 'sélection', 'choix', 'sélectionné', 'sélect', 'choisi', 'restreint', 'choisie', 'certain', 'cocher']\n",
      "https://context.reverso.net/перевод/русский-французский/отбор\n"
     ]
    },
    {
     "name": "stderr",
     "output_type": "stream",
     "text": [
      "\n",
      "\n",
      " 99%|█████████▉| 670/676 [56:28<00:29,  4.98s/it]\u001b[A\u001b[A"
     ]
    },
    {
     "name": "stdout",
     "output_type": "stream",
     "text": [
      "['sélection', 'choix']\n",
      "sense_intersect ['sélection | sélectionner | sélecter | sélectionné | sélect', 'choix | choisir | choisi | choisie']\n",
      "read читать\n",
      "https://context.reverso.net/перевод/английский-французский/read\n",
      "['lire', 'consulter', 'voir', 'relire', 'interpréter', 'déchiffrer', 'indiquer', 'bouquiner', 'pris connaissance', 'libellé', 'lecture', 'recevez', 'reçois', 'lisible', 'relever', 'read', 'en savoir', 'retrouvez']\n",
      "https://context.reverso.net/перевод/русский-французский/читать\n"
     ]
    },
    {
     "name": "stderr",
     "output_type": "stream",
     "text": [
      "\n",
      "\n",
      " 99%|█████████▉| 671/676 [56:33<00:24,  4.94s/it]\u001b[A\u001b[A"
     ]
    },
    {
     "name": "stdout",
     "output_type": "stream",
     "text": [
      "['lire', 'lecture', 'faire']\n",
      "sense_intersect ['lire | relire | lisible | relever', 'lecture | consulter | retrouvez']\n",
      "read считывать\n",
      "https://context.reverso.net/перевод/английский-французский/read\n",
      "['lire', 'consulter', 'voir', 'relire', 'interpréter', 'déchiffrer', 'indiquer', 'bouquiner', 'pris connaissance', 'libellé', 'lecture', 'recevez', 'reçois', 'lisible', 'relever', 'read', 'en savoir', 'retrouvez']\n",
      "https://context.reverso.net/перевод/русский-французский/считывать\n",
      "turn to alternative marks\n"
     ]
    },
    {
     "name": "stderr",
     "output_type": "stream",
     "text": [
      "\n",
      "\n",
      " 99%|█████████▉| 672/676 [56:38<00:19,  4.93s/it]\u001b[A\u001b[A"
     ]
    },
    {
     "name": "stdout",
     "output_type": "stream",
     "text": [
      "['lire']\n",
      "sense_intersect ['lire | relire | lisible | relever']\n",
      "read гласить\n",
      "https://context.reverso.net/перевод/английский-французский/read\n",
      "['lire', 'consulter', 'voir', 'relire', 'interpréter', 'déchiffrer', 'indiquer', 'bouquiner', 'pris connaissance', 'libellé', 'lecture', 'recevez', 'reçois', 'lisible', 'relever', 'read', 'en savoir', 'retrouvez']\n",
      "https://context.reverso.net/перевод/русский-французский/гласить\n"
     ]
    },
    {
     "name": "stderr",
     "output_type": "stream",
     "text": [
      "\n",
      "\n",
      "100%|█████████▉| 673/676 [56:43<00:14,  4.93s/it]\u001b[A\u001b[A"
     ]
    },
    {
     "name": "stdout",
     "output_type": "stream",
     "text": [
      "['se lire comme suit']\n",
      "sense_intersect ['consulter | se lire comme suit', 'lecture | se lire comme suit', 'reçois | se lire comme suit']\n",
      "read зачитать\n",
      "https://context.reverso.net/перевод/английский-французский/read\n",
      "['lire', 'consulter', 'voir', 'relire', 'interpréter', 'déchiffrer', 'indiquer', 'bouquiner', 'pris connaissance', 'libellé', 'lecture', 'recevez', 'reçois', 'lisible', 'relever', 'read', 'en savoir', 'retrouvez']\n",
      "https://context.reverso.net/перевод/русский-французский/зачитать\n"
     ]
    },
    {
     "name": "stderr",
     "output_type": "stream",
     "text": [
      "\n",
      "\n",
      "100%|█████████▉| 674/676 [56:48<00:09,  4.92s/it]\u001b[A\u001b[A"
     ]
    },
    {
     "name": "stdout",
     "output_type": "stream",
     "text": [
      "['lire', 'donner lecture']\n",
      "sense_intersect ['lire | relire | lisible | relever', 'consulter | donner lecture', 'bouquiner | donner lecture', 'lecture | donner lecture', 'retrouvez | donner lecture']\n",
      "read начитаться\n",
      "https://context.reverso.net/перевод/английский-французский/read\n",
      "['lire', 'consulter', 'voir', 'relire', 'interpréter', 'déchiffrer', 'indiquer', 'bouquiner', 'pris connaissance', 'libellé', 'lecture', 'recevez', 'reçois', 'lisible', 'relever', 'read', 'en savoir', 'retrouvez']\n",
      "https://context.reverso.net/перевод/русский-французский/начитаться\n",
      "turn to alternative marks\n"
     ]
    },
    {
     "name": "stderr",
     "output_type": "stream",
     "text": [
      "\n",
      "\n",
      "100%|█████████▉| 675/676 [56:52<00:04,  4.87s/it]\u001b[A\u001b[A"
     ]
    },
    {
     "name": "stdout",
     "output_type": "stream",
     "text": [
      "[]\n",
      "sense_intersect ['no_equality']\n",
      "read чтение\n",
      "https://context.reverso.net/перевод/английский-французский/read\n",
      "['lire', 'consulter', 'voir', 'relire', 'interpréter', 'déchiffrer', 'indiquer', 'bouquiner', 'pris connaissance', 'libellé', 'lecture', 'recevez', 'reçois', 'lisible', 'relever', 'read', 'en savoir', 'retrouvez']\n",
      "https://context.reverso.net/перевод/русский-французский/чтение\n"
     ]
    },
    {
     "name": "stderr",
     "output_type": "stream",
     "text": [
      "\n",
      "\n",
      "100%|██████████| 676/676 [56:57<00:00,  4.85s/it]\u001b[A\u001b[A"
     ]
    },
    {
     "name": "stdout",
     "output_type": "stream",
     "text": [
      "['lecture', 'lire']\n",
      "sense_intersect ['lire | relire | lisible', 'lecture | consulter | relever | retrouvez']\n"
     ]
    },
    {
     "data": {
      "text/html": [
       "<div>\n",
       "<style scoped>\n",
       "    .dataframe tbody tr th:only-of-type {\n",
       "        vertical-align: middle;\n",
       "    }\n",
       "\n",
       "    .dataframe tbody tr th {\n",
       "        vertical-align: top;\n",
       "    }\n",
       "\n",
       "    .dataframe thead th {\n",
       "        text-align: right;\n",
       "    }\n",
       "</style>\n",
       "<table border=\"1\" class=\"dataframe\">\n",
       "  <thead>\n",
       "    <tr style=\"text-align: right;\">\n",
       "      <th></th>\n",
       "      <th>eng_word</th>\n",
       "      <th>rus</th>\n",
       "      <th>fr</th>\n",
       "    </tr>\n",
       "  </thead>\n",
       "  <tbody>\n",
       "    <tr>\n",
       "      <th>0</th>\n",
       "      <td>for</td>\n",
       "      <td>для</td>\n",
       "      <td>pour</td>\n",
       "    </tr>\n",
       "    <tr>\n",
       "      <th>1</th>\n",
       "      <td>for</td>\n",
       "      <td>для</td>\n",
       "      <td>de</td>\n",
       "    </tr>\n",
       "    <tr>\n",
       "      <th>2</th>\n",
       "      <td>for</td>\n",
       "      <td>для</td>\n",
       "      <td>à</td>\n",
       "    </tr>\n",
       "    <tr>\n",
       "      <th>3</th>\n",
       "      <td>for</td>\n",
       "      <td>для</td>\n",
       "      <td>aux</td>\n",
       "    </tr>\n",
       "    <tr>\n",
       "      <th>4</th>\n",
       "      <td>for</td>\n",
       "      <td>для</td>\n",
       "      <td>par</td>\n",
       "    </tr>\n",
       "  </tbody>\n",
       "</table>\n",
       "</div>"
      ],
      "text/plain": [
       "  eng_word  rus    fr\n",
       "0      for  для  pour\n",
       "1      for  для    de\n",
       "2      for  для     à\n",
       "3      for  для   aux\n",
       "4      for  для   par"
      ]
     },
     "execution_count": 104,
     "metadata": {},
     "output_type": "execute_result"
    }
   ],
   "source": [
    "def get_multilang_from_df(df):\n",
    "    eng_word_list = []\n",
    "    lang_1_word_list = []\n",
    "    lang_2_word_list = []\n",
    "    for df_ind in tqdm(range(len(df))):\n",
    "        df_element = list(df.iloc[df_ind])\n",
    "        eng_word = df_element[1]\n",
    "        loc_1_word = df_element[2]\n",
    "        print(eng_word, loc_1_word)\n",
    "        sense_intersect = get_cross_translate(eng_word, \"английский\", loc_1_word,\"русский\", \"французский\", fr_lemmatize)\n",
    "        print(\"sense_intersect\", sense_intersect)\n",
    "        for sense_intersect_element in sense_intersect:\n",
    "            eng_word_list.append(eng_word)\n",
    "            lang_1_word_list.append(loc_1_word)\n",
    "            lang_2_word_list.append(sense_intersect_element)\n",
    "            \n",
    "        #break\n",
    "        if df_ind % 10 == 0:\n",
    "            save_path = os.path.join(\"/Users/nigula/LL/adjust_unigr_dict/reverse_connected_dicts/cross_barbos\",\n",
    "                         str(df_ind) + \".csv\")\n",
    "            data = pd.DataFrame(list(zip(eng_word_list, lang_1_word_list,lang_2_word_list)),\n",
    "                        columns =['eng_word', 'rus','fr'])\n",
    "            data.to_csv(save_path)\n",
    "    data = pd.DataFrame(list(zip(eng_word_list, lang_1_word_list,lang_2_word_list)),\n",
    "                        columns =['eng_word', 'rus','fr'])\n",
    "    \n",
    "    return data\n",
    "\n",
    "df_din = get_multilang_from_df(df_en_ru_yandex)\n",
    "df_din.head()\n"
   ]
  },
  {
   "cell_type": "code",
   "execution_count": 105,
   "metadata": {},
   "outputs": [],
   "source": [
    "df_din.to_csv(\"cross_approach.csv\")"
   ]
  }
 ],
 "metadata": {
  "kernelspec": {
   "display_name": "Python 3",
   "language": "python",
   "name": "python3"
  },
  "language_info": {
   "codemirror_mode": {
    "name": "ipython",
    "version": 3
   },
   "file_extension": ".py",
   "mimetype": "text/x-python",
   "name": "python",
   "nbconvert_exporter": "python",
   "pygments_lexer": "ipython3",
   "version": "3.7.4"
  }
 },
 "nbformat": 4,
 "nbformat_minor": 2
}
