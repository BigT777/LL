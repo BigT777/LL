{
 "cells": [
  {
   "cell_type": "code",
   "execution_count": 2,
   "metadata": {},
   "outputs": [],
   "source": [
    "import requests\n",
    "import json\n",
    "from bs4 import BeautifulSoup as bs\n",
    "import time\n",
    "import random\n",
    "import re\n",
    "import pandas as pd\n",
    "import os"
   ]
  },
  {
   "cell_type": "code",
   "execution_count": 3,
   "metadata": {},
   "outputs": [],
   "source": [
    "from gensim.models.wrappers import FastText\n",
    "model = FastText.load_fasttext_format('/Users/nigula/input/fr/fr.bin')\n"
   ]
  },
  {
   "cell_type": "code",
   "execution_count": 4,
   "metadata": {},
   "outputs": [],
   "source": [
    "import numpy as np\n",
    "from tqdm import tqdm"
   ]
  },
  {
   "cell_type": "code",
   "execution_count": 49,
   "metadata": {},
   "outputs": [
    {
     "data": {
      "text/plain": [
       "(300,)"
      ]
     },
     "execution_count": 49,
     "metadata": {},
     "output_type": "execute_result"
    }
   ],
   "source": [
    "model['maman'].shape"
   ]
  },
  {
   "cell_type": "code",
   "execution_count": 5,
   "metadata": {},
   "outputs": [
    {
     "name": "stdout",
     "output_type": "stream",
     "text": [
      "turn to alternative marks\n"
     ]
    },
    {
     "data": {
      "text/plain": [
       "['réchauffer', 'chaud']"
      ]
     },
     "execution_count": 5,
     "metadata": {},
     "output_type": "execute_result"
    }
   ],
   "source": [
    "def get_definitions(word, from_lang, to_lang, print_output = False):\n",
    "    senseword_list = []\n",
    "    url = \"https://context.reverso.net/перевод/\" + from_lang + \"-\" + to_lang + \"/\" + word \n",
    "    if print_output == True: print(url)\n",
    "    login = {'inUserName': 'n.babakov@lingualeo.com', 'inUserPass': '33vec33'}\n",
    "    header_main = {'User-Agent': 'Mozilla/5.0 (Macintosh; Intel Mac OS X 10_10_1) AppleWebKit/537.36 (KHTML, like Gecko) Chrome/39.0.2171.95 Safari/537.36'}\n",
    "    response = requests.get(url, headers=header_main, data = login)\n",
    "    response.encoding = 'utf-8' \n",
    "    soup = bs(response.text, 'html.parser')\n",
    "    #print(soup.prettify())\n",
    "    first_string_passed = False\n",
    "    for link in soup.find_all(\"a\", attrs={\"class\" : \"translation\"}):\n",
    "        if first_string_passed == True:\n",
    "            sence_word = link.text.strip()\n",
    "            senseword_list.append(sence_word)\n",
    "            #print(sence_word)\n",
    "        first_string_passed = True\n",
    "    if len (senseword_list) == 0:\n",
    "        print(\"turn to alternative marks\")\n",
    "        for link in soup.find_all(\"div\", attrs={\"lang\" : \"fr\"}):\n",
    "            senseword_list.append(link.text.strip())\n",
    "    time.sleep(2)\n",
    "    return senseword_list\n",
    "    \"\"\"\n",
    "    for transl_word in translations_variants:\n",
    "        time.sleep(random.uniform(0.4,2.9))\n",
    "        url_example = \"https://context.reverso.net/перевод/\" + to_lang + \"-\" + from_lang + \"/\" + transl_word\n",
    "        response_ex = requests.get(url_example, headers=header_main)\n",
    "        soup_sub = bs(response_ex.text, 'html.parser')\n",
    "        print(\"========================================\")\n",
    "        print(\"\\nEXAMPLES FOR SENCE \",transl_word,\"\\n\" )\n",
    "        for l in soup_sub.find_all('span', attrs = {'class':'text', 'lang':'en'}):\n",
    "            example = l.text.strip()\n",
    "            #print(example, word in example, type(l.text.strip()), word)\n",
    "            regex = \"\\W\" + word + \"\\w{0,2}\\W\"\n",
    "            find = re.findall(regex, example)\n",
    "            if len(find) > 0 :\n",
    "                print(example)\n",
    "    \"\"\"\n",
    " \n",
    "get_definitions(\"согревать\", \"русский\", \"французский\", print_output = False)\n",
    "\n"
   ]
  },
  {
   "cell_type": "code",
   "execution_count": 6,
   "metadata": {},
   "outputs": [
    {
     "data": {
      "text/html": [
       "<div>\n",
       "<style scoped>\n",
       "    .dataframe tbody tr th:only-of-type {\n",
       "        vertical-align: middle;\n",
       "    }\n",
       "\n",
       "    .dataframe tbody tr th {\n",
       "        vertical-align: top;\n",
       "    }\n",
       "\n",
       "    .dataframe thead th {\n",
       "        text-align: right;\n",
       "    }\n",
       "</style>\n",
       "<table border=\"1\" class=\"dataframe\">\n",
       "  <thead>\n",
       "    <tr style=\"text-align: right;\">\n",
       "      <th></th>\n",
       "      <th>Unnamed: 0</th>\n",
       "      <th>word</th>\n",
       "      <th>local_word</th>\n",
       "      <th>examples</th>\n",
       "      <th>local_examples</th>\n",
       "    </tr>\n",
       "  </thead>\n",
       "  <tbody>\n",
       "    <tr>\n",
       "      <th>0</th>\n",
       "      <td>0</td>\n",
       "      <td>for</td>\n",
       "      <td>для</td>\n",
       "      <td>['for the bank', 'for last month', 'for one ye...</td>\n",
       "      <td>['для банка', 'за последний месяц', 'на один г...</td>\n",
       "    </tr>\n",
       "    <tr>\n",
       "      <th>1</th>\n",
       "      <td>1</td>\n",
       "      <td>for</td>\n",
       "      <td>ради</td>\n",
       "      <td>['for god']</td>\n",
       "      <td>['ради бога']</td>\n",
       "    </tr>\n",
       "    <tr>\n",
       "      <th>2</th>\n",
       "      <td>2</td>\n",
       "      <td>for</td>\n",
       "      <td>в течение</td>\n",
       "      <td>[]</td>\n",
       "      <td>[]</td>\n",
       "    </tr>\n",
       "    <tr>\n",
       "      <th>3</th>\n",
       "      <td>3</td>\n",
       "      <td>for</td>\n",
       "      <td>в отношении</td>\n",
       "      <td>[]</td>\n",
       "      <td>[]</td>\n",
       "    </tr>\n",
       "    <tr>\n",
       "      <th>4</th>\n",
       "      <td>4</td>\n",
       "      <td>for</td>\n",
       "      <td>для целей</td>\n",
       "      <td>[]</td>\n",
       "      <td>[]</td>\n",
       "    </tr>\n",
       "  </tbody>\n",
       "</table>\n",
       "</div>"
      ],
      "text/plain": [
       "   Unnamed: 0 word   local_word  \\\n",
       "0           0  for          для   \n",
       "1           1  for         ради   \n",
       "2           2  for    в течение   \n",
       "3           3  for  в отношении   \n",
       "4           4  for    для целей   \n",
       "\n",
       "                                            examples  \\\n",
       "0  ['for the bank', 'for last month', 'for one ye...   \n",
       "1                                        ['for god']   \n",
       "2                                                 []   \n",
       "3                                                 []   \n",
       "4                                                 []   \n",
       "\n",
       "                                      local_examples  \n",
       "0  ['для банка', 'за последний месяц', 'на один г...  \n",
       "1                                      ['ради бога']  \n",
       "2                                                 []  \n",
       "3                                                 []  \n",
       "4                                                 []  "
      ]
     },
     "execution_count": 6,
     "metadata": {},
     "output_type": "execute_result"
    }
   ],
   "source": [
    "df_en_ru_yandex = pd.read_csv(\"/Users/nigula/LL/adjust_unigr_dict/lookup results/yandex_lookup_en_ru_lemmas_only.csv\")\n",
    "df_en_ru_yandex.head()"
   ]
  },
  {
   "cell_type": "code",
   "execution_count": 7,
   "metadata": {},
   "outputs": [],
   "source": [
    "from french_lefff_lemmatizer.french_lefff_lemmatizer import FrenchLefffLemmatizer\n",
    "lemmatizer = FrenchLefffLemmatizer()"
   ]
  },
  {
   "cell_type": "code",
   "execution_count": 8,
   "metadata": {},
   "outputs": [],
   "source": [
    "from  sklearn.metrics.pairwise import cosine_similarity\n"
   ]
  },
  {
   "cell_type": "code",
   "execution_count": null,
   "metadata": {},
   "outputs": [],
   "source": [
    "fr_list = ['mère', 'maman', 'mère de famille', \n",
    "           'materner', 'Vierge', 'Mother', 'parents', 'femme', 'maternel', 'fils', 'Dame', 'Marie']"
   ]
  },
  {
   "cell_type": "code",
   "execution_count": 9,
   "metadata": {},
   "outputs": [],
   "source": [
    "def fr_lemmatize(word):\n",
    "    lemma = lemmatizer.lemmatize(word)\n",
    "    return lemma\n",
    "def preprocess_words(words_list, lemmatizer_func):\n",
    "    preprocessed_words = []\n",
    "    for word in words_list:\n",
    "        lemma = lemmatizer_func(word.lower())\n",
    "        #print(lemma)\n",
    "        preprocessed_words.append(lemma)\n",
    "    return preprocessed_words\n",
    "        "
   ]
  },
  {
   "cell_type": "code",
   "execution_count": 10,
   "metadata": {},
   "outputs": [
    {
     "data": {
      "text/plain": [
       "0.3063980830674433"
      ]
     },
     "execution_count": 10,
     "metadata": {},
     "output_type": "execute_result"
    }
   ],
   "source": [
    "l1 = \"maman\"\n",
    "l2 = 'mère de famille'\n",
    "\n",
    "def get_vectors_sum(lemm_line):\n",
    "    orig_vector = np.zeros(shape = 300)\n",
    "    for lemma in lemm_line.split():\n",
    "        try:\n",
    "            orig_vector += model[lemma]\n",
    "        except:\n",
    "            pass\n",
    "    return orig_vector\n",
    "\n",
    "def find_lines_similarity(line_1, line_2):\n",
    "    l1_vect = get_vectors_sum(line_1)\n",
    "    l2_vect = get_vectors_sum(line_2)\n",
    "    cos_sim = cosine_similarity(l1_vect.reshape(1, -1), l2_vect.reshape(1, -1))[0][0]\n",
    "    #print(cos_sim)\n",
    "    return cos_sim\n",
    "\n",
    "find_lines_similarity(l1, l2)      "
   ]
  },
  {
   "cell_type": "code",
   "execution_count": 11,
   "metadata": {},
   "outputs": [
    {
     "data": {
      "text/plain": [
       "['mère', 'maman']"
      ]
     },
     "execution_count": 11,
     "metadata": {},
     "output_type": "execute_result"
    }
   ],
   "source": [
    "def get_two_target_lang_lists_intersection(list_1, list_2):\n",
    "    overall_intersection = []\n",
    "    cos_sim_dict ={}\n",
    "    for word_1 in list_1:\n",
    "        for word_2 in list_2:\n",
    "            if word_1 == word_2:\n",
    "                #overall_intersection.append(word_1)\n",
    "                cos_sim_dict[word_1] = []\n",
    "    \n",
    "    handled_words = []\n",
    "    for word_1 in list_1:\n",
    "        for word_2 in list_2:\n",
    "            if word_1 != word_2 and word_1 not in handled_words and word_2 not in handled_words:\n",
    "                sim = find_lines_similarity(word_1, word_2)\n",
    "                if sim > 0.95:\n",
    "                    if word_1 in cos_sim_dict:\n",
    "                        handled_words.append(word_2)\n",
    "                        cos_sim_dict[word_1].append(word_2)\n",
    "                       # overall_intersection[word_1_index] += '| ' + word_2\n",
    "                    elif word_2 in cos_sim_dict:\n",
    "                        handled_words.append(word_1)\n",
    "                        cos_sim_dict[word_2].append(word_1)\n",
    "                    else:\n",
    "                        cos_sim_dict[word_1] = [word_2]\n",
    "                        #new_pair = word_1 + \" | \" + word_2\n",
    "                        #overall_intersection.append(new_pair)\n",
    "    #print(cos_sim_dict)\n",
    "    for first_word in cos_sim_dict.keys():\n",
    "        intersect_element = first_word\n",
    "        for similar_word in cos_sim_dict[first_word]:\n",
    "            intersect_element += \" | \" + similar_word\n",
    "        overall_intersection.append(intersect_element)\n",
    "    return overall_intersection\n",
    "\n",
    "fr_proc_1 = ['mère', 'maman', 'mère de famille', 'materner', \n",
    "             'vierge', 'mother', 'parent', 'femme', 'maternel', 'fil', 'dame', 'marie']\n",
    "fr_proc_2 = ['mère', 'maman', 'putain', 'merde', 'quoi', 'enfoiré', \n",
    "             'est-ce', 'dieu', 'bordel', 'connard', 'enculé']\n",
    "get_two_target_lang_lists_intersection(fr_proc_1, fr_proc_2)\n",
    "    \n",
    "                \n",
    "            "
   ]
  },
  {
   "cell_type": "code",
   "execution_count": 12,
   "metadata": {
    "scrolled": true
   },
   "outputs": [
    {
     "name": "stdout",
     "output_type": "stream",
     "text": [
      "https://context.reverso.net/перевод/английский-французский/warm\n",
      "['chaud', 'chaleureux', 'tiède', 'doux', 'bon', 'cordial', 'réchauffer', 'chauffer', 'échauffer', 'se réchauffer', 'tiédir', 'chaleur', 'accueil', 'chaleureusement', 'warm', 'accueillante', 'conviviale']\n",
      "https://context.reverso.net/перевод/русский-французский/согревать\n",
      "turn to alternative marks\n",
      "['réchauffer', 'chaud']\n"
     ]
    },
    {
     "data": {
      "text/plain": [
       "['chaud', 'réchauffer | chauffer | échauffer']"
      ]
     },
     "execution_count": 12,
     "metadata": {},
     "output_type": "execute_result"
    }
   ],
   "source": [
    "def get_cross_translate(word_lang_1, lang_1, word_lang_2, lang_2, target_lang, lemmatizer_func):\n",
    "    lang_1_to_target_words_list = get_definitions(word_lang_1, lang_1, target_lang, print_output=True)\n",
    "    lang_1_processed = preprocess_words(lang_1_to_target_words_list, lemmatizer_func)\n",
    "    print(lang_1_processed)\n",
    "    lang_2_to_target_words_list = get_definitions(word_lang_2, lang_2, target_lang, print_output=True)\n",
    "    lang_2_processed = preprocess_words(lang_2_to_target_words_list, lemmatizer_func)\n",
    "    print(lang_2_processed)\n",
    "    intersected_elements = get_two_target_lang_lists_intersection(lang_1_processed, lang_2_processed)\n",
    "    if len(intersected_elements) == 0:intersected_elements.append(\"no_equality\")\n",
    "    return intersected_elements\n",
    "\n",
    "get_cross_translate(\"warm\", \"английский\", \"согревать\",\"русский\", \"французский\", fr_lemmatize)\n",
    "    "
   ]
  },
  {
   "cell_type": "code",
   "execution_count": 13,
   "metadata": {},
   "outputs": [
    {
     "name": "stderr",
     "output_type": "stream",
     "text": [
      "\r",
      "  0%|          | 0/676 [00:00<?, ?it/s]"
     ]
    },
    {
     "name": "stdout",
     "output_type": "stream",
     "text": [
      "for для\n",
      "https://context.reverso.net/перевод/английский-французский/for\n",
      "['pour', 'pendant', 'car', 'malgré', 'au titre de', 'à destination de', 'de', 'à', 'aux', 'par', 'permettant', 'dans', 'destiné', 'depuis', 'au', 'que', 'en', 'sur', 'durant', 'moyennant', 'puisque']\n",
      "https://context.reverso.net/перевод/русский-французский/для\n"
     ]
    },
    {
     "name": "stderr",
     "output_type": "stream",
     "text": [
      "\r",
      "  0%|          | 1/676 [00:04<55:46,  4.96s/it]"
     ]
    },
    {
     "name": "stdout",
     "output_type": "stream",
     "text": [
      "['pour', 'qui', 'à', \"d'\", 'aux', 'afin', 'de', 'sur', 'dans', 'au', 'vue', 'en', 'par', \"c'\"]\n",
      "sense_intersect ['pour', 'de', 'à', 'aux', 'par', 'dans', 'au', 'en', 'sur']\n",
      "for ради\n",
      "https://context.reverso.net/перевод/английский-французский/for\n",
      "['pour', 'pendant', 'car', 'malgré', 'au titre de', 'à destination de', 'de', 'à', 'aux', 'par', 'permettant', 'dans', 'destiné', 'depuis', 'au', 'que', 'en', 'sur', 'durant', 'moyennant', 'puisque']\n",
      "https://context.reverso.net/перевод/русский-французский/ради\n"
     ]
    },
    {
     "name": "stderr",
     "output_type": "stream",
     "text": [
      "\r",
      "  0%|          | 2/676 [00:11<59:31,  5.30s/it]"
     ]
    },
    {
     "name": "stdout",
     "output_type": "stream",
     "text": [
      "['pour', 'cause', 'au nom', 'pourquoi', 'amour', 'afin', 'intérêt', 'raison', 'propos', 'en vue', 'argent', 'but', 'faire', 'agit']\n",
      "sense_intersect ['pour']\n",
      "for в течение\n",
      "https://context.reverso.net/перевод/английский-французский/for\n",
      "['pour', 'pendant', 'car', 'malgré', 'au titre de', 'à destination de', 'de', 'à', 'aux', 'par', 'permettant', 'dans', 'destiné', 'depuis', 'au', 'que', 'en', 'sur', 'durant', 'moyennant', 'puisque']\n",
      "https://context.reverso.net/перевод/русский-французский/в течение\n"
     ]
    },
    {
     "name": "stderr",
     "output_type": "stream",
     "text": [
      "\r",
      "  0%|          | 3/676 [00:16<59:55,  5.34s/it]"
     ]
    },
    {
     "name": "stdout",
     "output_type": "stream",
     "text": [
      "['pendant', 'dans le délai', 'au cours', 'durant', 'dans les', 'dans un délai', 'au fil', 'sur une période', 'pour une période', 'lors', 'par']\n",
      "sense_intersect ['pendant', 'par', 'durant']\n",
      "for в отношении\n",
      "https://context.reverso.net/перевод/английский-французский/for\n",
      "['pour', 'pendant', 'car', 'malgré', 'au titre de', 'à destination de', 'de', 'à', 'aux', 'par', 'permettant', 'dans', 'destiné', 'depuis', 'au', 'que', 'en', 'sur', 'durant', 'moyennant', 'puisque']\n",
      "https://context.reverso.net/перевод/русский-французский/в отношении\n",
      "[\"à l'égard\", 'en ce qui concerne', 'à propos', 'en vue', 'concernant', 'en matière', \"à l'encontre\", 'au sujet', \"s'agissant\", 'en faveur', 'quant à', 'au titre', 'dans le cas', 'quant au', 'dans le domaine']\n"
     ]
    },
    {
     "name": "stderr",
     "output_type": "stream",
     "text": [
      "\r",
      "  1%|          | 4/676 [00:22<1:02:35,  5.59s/it]"
     ]
    },
    {
     "name": "stdout",
     "output_type": "stream",
     "text": [
      "sense_intersect ['au titre de | au titre']\n",
      "for для целей\n",
      "https://context.reverso.net/перевод/английский-французский/for\n",
      "['pour', 'pendant', 'car', 'malgré', 'au titre de', 'à destination de', 'de', 'à', 'aux', 'par', 'permettant', 'dans', 'destiné', 'depuis', 'au', 'que', 'en', 'sur', 'durant', 'moyennant', 'puisque']\n",
      "https://context.reverso.net/перевод/русский-французский/для целей\n"
     ]
    },
    {
     "name": "stderr",
     "output_type": "stream",
     "text": [
      "\r",
      "  1%|          | 5/676 [00:28<1:03:36,  5.69s/it]"
     ]
    },
    {
     "name": "stdout",
     "output_type": "stream",
     "text": [
      "['pour', 'aux fins', 'à des fins', 'au service', 'en matière', 'vue', 'afin', \"à l'\", 'à la', 'dans le cadre', 'au sens', 'au titre']\n",
      "sense_intersect ['pour', 'au titre de | au titre']\n",
      "for ибо\n",
      "https://context.reverso.net/перевод/английский-французский/for\n",
      "['pour', 'pendant', 'car', 'malgré', 'au titre de', 'à destination de', 'de', 'à', 'aux', 'par', 'permettant', 'dans', 'destiné', 'depuis', 'au', 'que', 'en', 'sur', 'durant', 'moyennant', 'puisque']\n",
      "https://context.reverso.net/перевод/русский-французский/ибо\n"
     ]
    },
    {
     "name": "stderr",
     "output_type": "stream",
     "text": [
      "\r",
      "  1%|          | 6/676 [00:33<1:01:22,  5.50s/it]"
     ]
    },
    {
     "name": "stdout",
     "output_type": "stream",
     "text": [
      "['car', \"parce qu'\", \"puisqu'\", 'parce que', 'puisque', 'mesure où']\n",
      "sense_intersect ['car', 'puisque']\n",
      "for чтобы\n",
      "https://context.reverso.net/перевод/английский-французский/for\n",
      "['pour', 'pendant', 'car', 'malgré', 'au titre de', 'à destination de', 'de', 'à', 'aux', 'par', 'permettant', 'dans', 'destiné', 'depuis', 'au', 'que', 'en', 'sur', 'durant', 'moyennant', 'puisque']\n",
      "https://context.reverso.net/перевод/русский-французский/чтобы\n"
     ]
    },
    {
     "name": "stderr",
     "output_type": "stream",
     "text": [
      "\r",
      "  1%|          | 7/676 [00:38<1:00:43,  5.45s/it]"
     ]
    },
    {
     "name": "stdout",
     "output_type": "stream",
     "text": [
      "['pour que', 'afin que', 'si', 'où', 'donc', 'juste', 'pour', 'pouvoir', 'manière', 'veux', 'avoir', 'vue', 'veut', 'but', 'venu']\n",
      "sense_intersect ['pour']\n",
      "cafe кофейня\n",
      "https://context.reverso.net/перевод/английский-французский/cafe\n",
      "['café', 'cafétéria', 'bar', 'cybercafé', 'café-bar', 'cyber-café']\n",
      "https://context.reverso.net/перевод/русский-французский/кофейня\n"
     ]
    },
    {
     "name": "stderr",
     "output_type": "stream",
     "text": [
      "\r",
      "  1%|          | 8/676 [00:43<59:12,  5.32s/it]  "
     ]
    },
    {
     "name": "stdout",
     "output_type": "stream",
     "text": [
      "['café']\n",
      "sense_intersect ['café']\n",
      "cafe буфет\n",
      "https://context.reverso.net/перевод/английский-французский/cafe\n",
      "['café', 'cafétéria', 'bar', 'cybercafé', 'café-bar', 'cyber-café']\n",
      "https://context.reverso.net/перевод/русский-французский/буфет\n"
     ]
    },
    {
     "name": "stderr",
     "output_type": "stream",
     "text": [
      "\r",
      "  1%|▏         | 9/676 [00:48<57:47,  5.20s/it]"
     ]
    },
    {
     "name": "stdout",
     "output_type": "stream",
     "text": [
      "['buffet']\n",
      "sense_intersect ['no_equality']\n",
      "cafe кафе-ресторан\n",
      "https://context.reverso.net/перевод/английский-французский/cafe\n",
      "['café', 'cafétéria', 'bar', 'cybercafé', 'café-bar', 'cyber-café']\n",
      "https://context.reverso.net/перевод/русский-французский/кафе-ресторан\n"
     ]
    },
    {
     "name": "stderr",
     "output_type": "stream",
     "text": [
      "\r",
      "  1%|▏         | 10/676 [00:54<58:38,  5.28s/it]"
     ]
    },
    {
     "name": "stdout",
     "output_type": "stream",
     "text": [
      "['café', 'café', 'cafétéria', 'au restaurant', 'bar', 'restaurant', 'resto', 'restau', 'dîner']\n",
      "sense_intersect ['café', 'cafétéria', 'bar']\n",
      "follow следовать\n",
      "https://context.reverso.net/перевод/английский-французский/follow\n",
      "['suivre', 'respecter', 'poursuivre', 'prendre', 'appliquer', 'obéir', 'adopter', 'observer', 'se conformer', 'emprunter', 'imiter', 'accompagner', 'découler', 'succéder', 'faire suite', 'longer', \"s'ensuivre\", 'enchaîner', 'pratiquer', 'épouser', 'suivez-moi']\n",
      "https://context.reverso.net/перевод/русский-французский/следовать\n"
     ]
    },
    {
     "name": "stderr",
     "output_type": "stream",
     "text": [
      "\r",
      "  2%|▏         | 11/676 [00:59<57:40,  5.20s/it]"
     ]
    },
    {
     "name": "stdout",
     "output_type": "stream",
     "text": [
      "['suivre', 'respecter', 'poursuivre', 'appliquer', 'se conformer', 'obéir', 'adopter']\n",
      "sense_intersect ['suivre', 'respecter', 'poursuivre', 'appliquer', 'obéir', 'adopter', 'se conformer']\n",
      "follow следить\n",
      "https://context.reverso.net/перевод/английский-французский/follow\n",
      "['suivre', 'respecter', 'poursuivre', 'prendre', 'appliquer', 'obéir', 'adopter', 'observer', 'se conformer', 'emprunter', 'imiter', 'accompagner', 'découler', 'succéder', 'faire suite', 'longer', \"s'ensuivre\", 'enchaîner', 'pratiquer', 'épouser', 'suivez-moi']\n",
      "https://context.reverso.net/перевод/русский-французский/следить\n"
     ]
    },
    {
     "name": "stderr",
     "output_type": "stream",
     "text": [
      "\r",
      "  2%|▏         | 12/676 [01:04<56:50,  5.14s/it]"
     ]
    },
    {
     "name": "stdout",
     "output_type": "stream",
     "text": [
      "['suivre', 'surveiller', 'veiller', 'contrôler', 'superviser', 'regarder', 'vérifier', 'observer', 'faire attention', 'occuper', 'oeil']\n",
      "sense_intersect ['suivre', 'observer']\n",
      "follow соблюдать\n",
      "https://context.reverso.net/перевод/английский-французский/follow\n",
      "['suivre', 'respecter', 'poursuivre', 'prendre', 'appliquer', 'obéir', 'adopter', 'observer', 'se conformer', 'emprunter', 'imiter', 'accompagner', 'découler', 'succéder', 'faire suite', 'longer', \"s'ensuivre\", 'enchaîner', 'pratiquer', 'épouser', 'suivez-moi']\n",
      "https://context.reverso.net/перевод/русский-французский/соблюдать\n"
     ]
    },
    {
     "name": "stderr",
     "output_type": "stream",
     "text": [
      "\r",
      "  2%|▏         | 13/676 [01:09<55:59,  5.07s/it]"
     ]
    },
    {
     "name": "stdout",
     "output_type": "stream",
     "text": [
      "['respecter', 'appliquer', 'honorer', 'observer', 'suivre', 'se conformer à', 'satisfaire', 'maintenir', 'se conformer aux', 'se conformer au', 'respect']\n",
      "sense_intersect ['suivre', 'respecter', 'appliquer', 'observer', 'se conformer | se conformer à']\n",
      "follow сопровождать\n",
      "https://context.reverso.net/перевод/английский-французский/follow\n",
      "['suivre', 'respecter', 'poursuivre', 'prendre', 'appliquer', 'obéir', 'adopter', 'observer', 'se conformer', 'emprunter', 'imiter', 'accompagner', 'découler', 'succéder', 'faire suite', 'longer', \"s'ensuivre\", 'enchaîner', 'pratiquer', 'épouser', 'suivez-moi']\n",
      "https://context.reverso.net/перевод/русский-французский/сопровождать\n"
     ]
    },
    {
     "name": "stderr",
     "output_type": "stream",
     "text": [
      "\r",
      "  2%|▏         | 14/676 [01:14<56:49,  5.15s/it]"
     ]
    },
    {
     "name": "stdout",
     "output_type": "stream",
     "text": [
      "['accompagner', 'escorter']\n",
      "sense_intersect ['accompagner']\n",
      "follow идти\n",
      "https://context.reverso.net/перевод/английский-французский/follow\n",
      "['suivre', 'respecter', 'poursuivre', 'prendre', 'appliquer', 'obéir', 'adopter', 'observer', 'se conformer', 'emprunter', 'imiter', 'accompagner', 'découler', 'succéder', 'faire suite', 'longer', \"s'ensuivre\", 'enchaîner', 'pratiquer', 'épouser', 'suivez-moi']\n",
      "https://context.reverso.net/перевод/русский-французский/идти\n"
     ]
    },
    {
     "name": "stderr",
     "output_type": "stream",
     "text": [
      "\r",
      "  2%|▏         | 15/676 [01:19<56:39,  5.14s/it]"
     ]
    },
    {
     "name": "stdout",
     "output_type": "stream",
     "text": [
      "['aller', 'partir', 'rentrer', 'marcher', 'suivre', 'venir', 'faire', 'sortir', 'continuer', 'prendre', 'passer', 'poursuivre', 'retourner', 'filer', 'entrer', 'y aille']\n",
      "sense_intersect ['suivre', 'poursuivre', 'prendre']\n",
      "follow выполнять\n",
      "https://context.reverso.net/перевод/английский-французский/follow\n",
      "['suivre', 'respecter', 'poursuivre', 'prendre', 'appliquer', 'obéir', 'adopter', 'observer', 'se conformer', 'emprunter', 'imiter', 'accompagner', 'découler', 'succéder', 'faire suite', 'longer', \"s'ensuivre\", 'enchaîner', 'pratiquer', 'épouser', 'suivez-moi']\n",
      "https://context.reverso.net/перевод/русский-французский/выполнять\n"
     ]
    },
    {
     "name": "stderr",
     "output_type": "stream",
     "text": [
      "\r",
      "  2%|▏         | 16/676 [01:25<56:57,  5.18s/it]"
     ]
    },
    {
     "name": "stdout",
     "output_type": "stream",
     "text": [
      "[\"s'acquitter\", 'faire', 'assumer', 'respecter', 'remplir', 'appliquer', 'honorer', 'exercer', 'jouer', 'accomplir', 'exécuter', 'assurer', 'se conformer', 'tenir', 'mettre en œuvre', 'réaliser', 'satisfaire']\n",
      "sense_intersect ['respecter', 'appliquer', 'se conformer']\n",
      "follow вытекать\n",
      "https://context.reverso.net/перевод/английский-французский/follow\n",
      "['suivre', 'respecter', 'poursuivre', 'prendre', 'appliquer', 'obéir', 'adopter', 'observer', 'se conformer', 'emprunter', 'imiter', 'accompagner', 'découler', 'succéder', 'faire suite', 'longer', \"s'ensuivre\", 'enchaîner', 'pratiquer', 'épouser', 'suivez-moi']\n",
      "https://context.reverso.net/перевод/русский-французский/вытекать\n"
     ]
    },
    {
     "name": "stderr",
     "output_type": "stream",
     "text": [
      "\r",
      "  3%|▎         | 17/676 [01:29<56:00,  5.10s/it]"
     ]
    },
    {
     "name": "stdout",
     "output_type": "stream",
     "text": [
      "['découler']\n",
      "sense_intersect ['découler']\n",
      "follow далее следовать\n",
      "https://context.reverso.net/перевод/английский-французский/follow\n",
      "['suivre', 'respecter', 'poursuivre', 'prendre', 'appliquer', 'obéir', 'adopter', 'observer', 'se conformer', 'emprunter', 'imiter', 'accompagner', 'découler', 'succéder', 'faire suite', 'longer', \"s'ensuivre\", 'enchaîner', 'pratiquer', 'épouser', 'suivez-moi']\n",
      "https://context.reverso.net/перевод/русский-французский/далее следовать\n"
     ]
    },
    {
     "name": "stderr",
     "output_type": "stream",
     "text": [
      "\r",
      "  3%|▎         | 18/676 [01:35<56:14,  5.13s/it]"
     ]
    },
    {
     "name": "stdout",
     "output_type": "stream",
     "text": [
      "['en outre', 'également', 'ensuite', 'par ailleurs', 'aussi', 'suivre', 'respecter', 'poursuivre', 'appliquer', 'se conformer']\n",
      "sense_intersect ['suivre', 'respecter', 'poursuivre', 'appliquer', 'se conformer']\n",
      "follow повторять\n",
      "https://context.reverso.net/перевод/английский-французский/follow\n",
      "['suivre', 'respecter', 'poursuivre', 'prendre', 'appliquer', 'obéir', 'adopter', 'observer', 'se conformer', 'emprunter', 'imiter', 'accompagner', 'découler', 'succéder', 'faire suite', 'longer', \"s'ensuivre\", 'enchaîner', 'pratiquer', 'épouser', 'suivez-moi']\n",
      "https://context.reverso.net/перевод/русский-французский/повторять\n"
     ]
    },
    {
     "name": "stderr",
     "output_type": "stream",
     "text": [
      "\r",
      "  3%|▎         | 19/676 [01:39<55:10,  5.04s/it]"
     ]
    },
    {
     "name": "stdout",
     "output_type": "stream",
     "text": [
      "['répéter', 'foi']\n",
      "sense_intersect ['no_equality']\n",
      "follow последующий\n",
      "https://context.reverso.net/перевод/английский-французский/follow\n",
      "['suivre', 'respecter', 'poursuivre', 'prendre', 'appliquer', 'obéir', 'adopter', 'observer', 'se conformer', 'emprunter', 'imiter', 'accompagner', 'découler', 'succéder', 'faire suite', 'longer', \"s'ensuivre\", 'enchaîner', 'pratiquer', 'épouser', 'suivez-moi']\n",
      "https://context.reverso.net/перевод/русский-французский/последующий\n"
     ]
    },
    {
     "name": "stderr",
     "output_type": "stream",
     "text": [
      "\r",
      "  3%|▎         | 20/676 [01:44<54:50,  5.02s/it]"
     ]
    },
    {
     "name": "stdout",
     "output_type": "stream",
     "text": [
      "['suivant', 'ultérieur', 'suivi', 'ultérieurement']\n",
      "sense_intersect ['no_equality']\n",
      "warm теплый\n",
      "https://context.reverso.net/перевод/английский-французский/warm\n",
      "['chaud', 'chaleureux', 'tiède', 'doux', 'bon', 'cordial', 'réchauffer', 'chauffer', 'échauffer', 'se réchauffer', 'tiédir', 'chaleur', 'accueil', 'chaleureusement', 'warm', 'accueillante', 'conviviale']\n",
      "https://context.reverso.net/перевод/русский-французский/теплый\n"
     ]
    },
    {
     "name": "stderr",
     "output_type": "stream",
     "text": [
      "\r",
      "  3%|▎         | 21/676 [01:50<56:51,  5.21s/it]"
     ]
    },
    {
     "name": "stdout",
     "output_type": "stream",
     "text": [
      "['chaud', 'chaleureux']\n",
      "sense_intersect ['chaud', 'chaleureux']\n",
      "warm сердечный\n",
      "https://context.reverso.net/перевод/английский-французский/warm\n",
      "['chaud', 'chaleureux', 'tiède', 'doux', 'bon', 'cordial', 'réchauffer', 'chauffer', 'échauffer', 'se réchauffer', 'tiédir', 'chaleur', 'accueil', 'chaleureusement', 'warm', 'accueillante', 'conviviale']\n",
      "https://context.reverso.net/перевод/русский-французский/сердечный\n"
     ]
    },
    {
     "name": "stderr",
     "output_type": "stream",
     "text": [
      "\r",
      "  3%|▎         | 22/676 [01:56<57:58,  5.32s/it]"
     ]
    },
    {
     "name": "stdout",
     "output_type": "stream",
     "text": [
      "['cardiaque']\n",
      "sense_intersect ['no_equality']\n",
      "warm согревать\n",
      "https://context.reverso.net/перевод/английский-французский/warm\n",
      "['chaud', 'chaleureux', 'tiède', 'doux', 'bon', 'cordial', 'réchauffer', 'chauffer', 'échauffer', 'se réchauffer', 'tiédir', 'chaleur', 'accueil', 'chaleureusement', 'warm', 'accueillante', 'conviviale']\n",
      "https://context.reverso.net/перевод/русский-французский/согревать\n",
      "turn to alternative marks\n"
     ]
    },
    {
     "name": "stderr",
     "output_type": "stream",
     "text": [
      "\r",
      "  3%|▎         | 23/676 [02:01<56:28,  5.19s/it]"
     ]
    },
    {
     "name": "stdout",
     "output_type": "stream",
     "text": [
      "['réchauffer', 'chaud']\n",
      "sense_intersect ['chaud', 'réchauffer | chauffer | échauffer']\n",
      "warm погреться\n",
      "https://context.reverso.net/перевод/английский-французский/warm\n",
      "['chaud', 'chaleureux', 'tiède', 'doux', 'bon', 'cordial', 'réchauffer', 'chauffer', 'échauffer', 'se réchauffer', 'tiédir', 'chaleur', 'accueil', 'chaleureusement', 'warm', 'accueillante', 'conviviale']\n",
      "https://context.reverso.net/перевод/русский-французский/погреться\n",
      "turn to alternative marks\n"
     ]
    },
    {
     "name": "stderr",
     "output_type": "stream",
     "text": [
      "\r",
      "  4%|▎         | 24/676 [02:06<55:44,  5.13s/it]"
     ]
    },
    {
     "name": "stdout",
     "output_type": "stream",
     "text": [
      "['se réchauffer']\n",
      "sense_intersect ['se réchauffer']\n",
      "warm утеплить\n",
      "https://context.reverso.net/перевод/английский-французский/warm\n",
      "['chaud', 'chaleureux', 'tiède', 'doux', 'bon', 'cordial', 'réchauffer', 'chauffer', 'échauffer', 'se réchauffer', 'tiédir', 'chaleur', 'accueil', 'chaleureusement', 'warm', 'accueillante', 'conviviale']\n",
      "https://context.reverso.net/перевод/русский-французский/утеплить\n",
      "turn to alternative marks\n"
     ]
    },
    {
     "name": "stderr",
     "output_type": "stream",
     "text": [
      "\r",
      "  4%|▎         | 25/676 [02:10<54:42,  5.04s/it]"
     ]
    },
    {
     "name": "stdout",
     "output_type": "stream",
     "text": [
      "[]\n",
      "sense_intersect ['no_equality']\n",
      "warm тепло\n",
      "https://context.reverso.net/перевод/английский-французский/warm\n",
      "['chaud', 'chaleureux', 'tiède', 'doux', 'bon', 'cordial', 'réchauffer', 'chauffer', 'échauffer', 'se réchauffer', 'tiédir', 'chaleur', 'accueil', 'chaleureusement', 'warm', 'accueillante', 'conviviale']\n",
      "https://context.reverso.net/перевод/русский-французский/тепло\n"
     ]
    },
    {
     "name": "stderr",
     "output_type": "stream",
     "text": [
      "\r",
      "  4%|▍         | 26/676 [02:15<54:06,  4.99s/it]"
     ]
    },
    {
     "name": "stdout",
     "output_type": "stream",
     "text": [
      "['chaleur', 'chaud', 'chaleureusement', 'vivement', 'chaleureux']\n",
      "sense_intersect ['chaud', 'chaleureux', 'chaleur', 'chaleureusement']\n",
      "warm разминка\n",
      "https://context.reverso.net/перевод/английский-французский/warm\n",
      "['chaud', 'chaleureux', 'tiède', 'doux', 'bon', 'cordial', 'réchauffer', 'chauffer', 'échauffer', 'se réchauffer', 'tiédir', 'chaleur', 'accueil', 'chaleureusement', 'warm', 'accueillante', 'conviviale']\n",
      "https://context.reverso.net/перевод/русский-французский/разминка\n",
      "turn to alternative marks\n"
     ]
    },
    {
     "name": "stderr",
     "output_type": "stream",
     "text": [
      "\r",
      "  4%|▍         | 27/676 [02:20<53:50,  4.98s/it]"
     ]
    },
    {
     "name": "stdout",
     "output_type": "stream",
     "text": [
      "['échauffement', \"occupe l'\", 'un exercice', 'pré-saison', 'entrainement']\n",
      "sense_intersect ['no_equality']\n",
      "collide сталкиваться\n",
      "https://context.reverso.net/перевод/английский-французский/collide\n",
      "['entrer en collision', 'heurter', 'se heurtent', \"s'entrechoquent\", 'se rencontrent']\n",
      "https://context.reverso.net/перевод/русский-французский/сталкиваться\n"
     ]
    },
    {
     "name": "stderr",
     "output_type": "stream",
     "text": [
      "\r",
      "  4%|▍         | 28/676 [02:25<54:11,  5.02s/it]"
     ]
    },
    {
     "name": "stdout",
     "output_type": "stream",
     "text": [
      "['rencontrer', 'se heurter', 'confrontés', 'faire face', 'avoir']\n",
      "sense_intersect ['no_equality']\n",
      "collide конфликтовать\n",
      "https://context.reverso.net/перевод/английский-французский/collide\n",
      "['entrer en collision', 'heurter', 'se heurtent', \"s'entrechoquent\", 'se rencontrent']\n",
      "https://context.reverso.net/перевод/русский-французский/конфликтовать\n",
      "turn to alternative marks\n"
     ]
    },
    {
     "name": "stderr",
     "output_type": "stream",
     "text": [
      "\r",
      "  4%|▍         | 29/676 [02:31<54:49,  5.08s/it]"
     ]
    },
    {
     "name": "stdout",
     "output_type": "stream",
     "text": [
      "[\"éveiller l'hostilité\"]\n",
      "sense_intersect ['no_equality']\n",
      "collide наехать\n",
      "https://context.reverso.net/перевод/английский-французский/collide\n",
      "['entrer en collision', 'heurter', 'se heurtent', \"s'entrechoquent\", 'se rencontrent']\n",
      "https://context.reverso.net/перевод/русский-французский/наехать\n",
      "turn to alternative marks\n"
     ]
    },
    {
     "name": "stderr",
     "output_type": "stream",
     "text": [
      "\r",
      "  4%|▍         | 30/676 [02:35<54:05,  5.02s/it]"
     ]
    },
    {
     "name": "stdout",
     "output_type": "stream",
     "text": [
      "['tomberont dessus']\n",
      "sense_intersect ['no_equality']\n",
      "collide соударяться\n",
      "https://context.reverso.net/перевод/английский-французский/collide\n",
      "['entrer en collision', 'heurter', 'se heurtent', \"s'entrechoquent\", 'se rencontrent']\n",
      "https://context.reverso.net/перевод/русский-французский/соударяться\n",
      "turn to alternative marks\n"
     ]
    },
    {
     "name": "stderr",
     "output_type": "stream",
     "text": [
      "\r",
      "  5%|▍         | 31/676 [02:41<54:19,  5.05s/it]"
     ]
    },
    {
     "name": "stdout",
     "output_type": "stream",
     "text": [
      "[]\n",
      "sense_intersect ['no_equality']\n",
      "collide в конфликт\n",
      "https://context.reverso.net/перевод/английский-французский/collide\n",
      "['entrer en collision', 'heurter', 'se heurtent', \"s'entrechoquent\", 'se rencontrent']\n",
      "https://context.reverso.net/перевод/русский-французский/в конфликт\n"
     ]
    },
    {
     "name": "stderr",
     "output_type": "stream",
     "text": [
      "\r",
      "  5%|▍         | 32/676 [02:46<54:53,  5.11s/it]"
     ]
    },
    {
     "name": "stdout",
     "output_type": "stream",
     "text": [
      "['en conflit', 'dans le conflit', 'au conflit']\n",
      "sense_intersect ['no_equality']\n",
      "break ломать\n",
      "https://context.reverso.net/перевод/английский-французский/break\n",
      "['briser', 'casser', 'rompre', 'sortir', 'enfreindre', 'percer', 'violer', 'arrêter', 'pause', 'rupture', 'break', 'vacance', 'interruption', 'chance', 'rompu', 'coupure', 'repos', 'cassure', 'fracture', 'échappée', 'se briser', 'se casser', 'se rompre', 'péter', 'relâche']\n",
      "https://context.reverso.net/перевод/русский-французский/ломать\n"
     ]
    },
    {
     "name": "stderr",
     "output_type": "stream",
     "text": [
      "\r",
      "  5%|▍         | 33/676 [02:51<54:17,  5.07s/it]"
     ]
    },
    {
     "name": "stdout",
     "output_type": "stream",
     "text": [
      "['casser', 'briser']\n",
      "sense_intersect ['briser', 'casser']\n",
      "break нарушать\n",
      "https://context.reverso.net/перевод/английский-французский/break\n",
      "['briser', 'casser', 'rompre', 'sortir', 'enfreindre', 'percer', 'violer', 'arrêter', 'pause', 'rupture', 'break', 'vacance', 'interruption', 'chance', 'rompu', 'coupure', 'repos', 'cassure', 'fracture', 'échappée', 'se briser', 'se casser', 'se rompre', 'péter', 'relâche']\n",
      "https://context.reverso.net/перевод/русский-французский/нарушать\n"
     ]
    },
    {
     "name": "stderr",
     "output_type": "stream",
     "text": [
      "\r",
      "  5%|▌         | 34/676 [02:56<53:29,  5.00s/it]"
     ]
    },
    {
     "name": "stdout",
     "output_type": "stream",
     "text": [
      "['violer', 'enfreindre', 'briser']\n",
      "sense_intersect ['briser', 'enfreindre', 'violer']\n",
      "break разбивать\n",
      "https://context.reverso.net/перевод/английский-французский/break\n",
      "['briser', 'casser', 'rompre', 'sortir', 'enfreindre', 'percer', 'violer', 'arrêter', 'pause', 'rupture', 'break', 'vacance', 'interruption', 'chance', 'rompu', 'coupure', 'repos', 'cassure', 'fracture', 'échappée', 'se briser', 'se casser', 'se rompre', 'péter', 'relâche']\n",
      "https://context.reverso.net/перевод/русский-французский/разбивать\n"
     ]
    },
    {
     "name": "stderr",
     "output_type": "stream",
     "text": [
      "\r",
      "  5%|▌         | 35/676 [03:00<52:59,  4.96s/it]"
     ]
    },
    {
     "name": "stdout",
     "output_type": "stream",
     "text": [
      "['briser', 'casser']\n",
      "sense_intersect ['briser', 'casser']\n",
      "break разорвать\n",
      "https://context.reverso.net/перевод/английский-французский/break\n",
      "['briser', 'casser', 'rompre', 'sortir', 'enfreindre', 'percer', 'violer', 'arrêter', 'pause', 'rupture', 'break', 'vacance', 'interruption', 'chance', 'rompu', 'coupure', 'repos', 'cassure', 'fracture', 'échappée', 'se briser', 'se casser', 'se rompre', 'péter', 'relâche']\n",
      "https://context.reverso.net/перевод/русский-французский/разорвать\n"
     ]
    },
    {
     "name": "stderr",
     "output_type": "stream",
     "text": [
      "\r",
      "  5%|▌         | 36/676 [03:05<53:08,  4.98s/it]"
     ]
    },
    {
     "name": "stdout",
     "output_type": "stream",
     "text": [
      "['briser', 'rompre', 'déchirer', 'sortir']\n",
      "sense_intersect ['briser', 'rompre', 'sortir']\n",
      "break прорваться\n",
      "https://context.reverso.net/перевод/английский-французский/break\n",
      "['briser', 'casser', 'rompre', 'sortir', 'enfreindre', 'percer', 'violer', 'arrêter', 'pause', 'rupture', 'break', 'vacance', 'interruption', 'chance', 'rompu', 'coupure', 'repos', 'cassure', 'fracture', 'échappée', 'se briser', 'se casser', 'se rompre', 'péter', 'relâche']\n",
      "https://context.reverso.net/перевод/русский-французский/прорваться\n",
      "turn to alternative marks\n"
     ]
    },
    {
     "name": "stderr",
     "output_type": "stream",
     "text": [
      "\r",
      "  5%|▌         | 37/676 [03:10<53:01,  4.98s/it]"
     ]
    },
    {
     "name": "stdout",
     "output_type": "stream",
     "text": [
      "['percer', 'traverser', 'forcer', 'retraverser']\n",
      "sense_intersect ['percer']\n",
      "break разрушить\n",
      "https://context.reverso.net/перевод/английский-французский/break\n",
      "['briser', 'casser', 'rompre', 'sortir', 'enfreindre', 'percer', 'violer', 'arrêter', 'pause', 'rupture', 'break', 'vacance', 'interruption', 'chance', 'rompu', 'coupure', 'repos', 'cassure', 'fracture', 'échappée', 'se briser', 'se casser', 'se rompre', 'péter', 'relâche']\n",
      "https://context.reverso.net/перевод/русский-французский/разрушить\n"
     ]
    },
    {
     "name": "stderr",
     "output_type": "stream",
     "text": [
      "\r",
      "  6%|▌         | 38/676 [03:15<52:58,  4.98s/it]"
     ]
    },
    {
     "name": "stdout",
     "output_type": "stream",
     "text": [
      "['détruire', 'ruiner', 'briser', 'gâcher', 'anéantir', 'rompre', 'démolir']\n",
      "sense_intersect ['briser', 'rompre']\n",
      "break вырваться\n",
      "https://context.reverso.net/перевод/английский-французский/break\n",
      "['briser', 'casser', 'rompre', 'sortir', 'enfreindre', 'percer', 'violer', 'arrêter', 'pause', 'rupture', 'break', 'vacance', 'interruption', 'chance', 'rompu', 'coupure', 'repos', 'cassure', 'fracture', 'échappée', 'se briser', 'se casser', 'se rompre', 'péter', 'relâche']\n",
      "https://context.reverso.net/перевод/русский-французский/вырваться\n"
     ]
    },
    {
     "name": "stderr",
     "output_type": "stream",
     "text": [
      "\r",
      "  6%|▌         | 39/676 [03:21<53:14,  5.02s/it]"
     ]
    },
    {
     "name": "stdout",
     "output_type": "stream",
     "text": [
      "['sortir', 'échapper', 'rompre']\n",
      "sense_intersect ['rompre', 'sortir']\n",
      "break разбиться\n",
      "https://context.reverso.net/перевод/английский-французский/break\n",
      "['briser', 'casser', 'rompre', 'sortir', 'enfreindre', 'percer', 'violer', 'arrêter', 'pause', 'rupture', 'break', 'vacance', 'interruption', 'chance', 'rompu', 'coupure', 'repos', 'cassure', 'fracture', 'échappée', 'se briser', 'se casser', 'se rompre', 'péter', 'relâche']\n",
      "https://context.reverso.net/перевод/русский-французский/разбиться\n",
      "turn to alternative marks\n"
     ]
    },
    {
     "name": "stderr",
     "output_type": "stream",
     "text": [
      "\r",
      "  6%|▌         | 40/676 [03:26<53:08,  5.01s/it]"
     ]
    },
    {
     "name": "stdout",
     "output_type": "stream",
     "text": [
      "[\"s'écraser\", 'se crasher', \"t'écraser\", 'te tuer']\n",
      "sense_intersect ['no_equality']\n",
      "break разразиться\n",
      "https://context.reverso.net/перевод/английский-французский/break\n",
      "['briser', 'casser', 'rompre', 'sortir', 'enfreindre', 'percer', 'violer', 'arrêter', 'pause', 'rupture', 'break', 'vacance', 'interruption', 'chance', 'rompu', 'coupure', 'repos', 'cassure', 'fracture', 'échappée', 'se briser', 'se casser', 'se rompre', 'péter', 'relâche']\n",
      "https://context.reverso.net/перевод/русский-французский/разразиться\n",
      "turn to alternative marks\n"
     ]
    },
    {
     "name": "stderr",
     "output_type": "stream",
     "text": [
      "\r",
      "  6%|▌         | 41/676 [03:31<54:47,  5.18s/it]"
     ]
    },
    {
     "name": "stdout",
     "output_type": "stream",
     "text": [
      "[]\n",
      "sense_intersect ['no_equality']\n",
      "break пробить\n",
      "https://context.reverso.net/перевод/английский-французский/break\n",
      "['briser', 'casser', 'rompre', 'sortir', 'enfreindre', 'percer', 'violer', 'arrêter', 'pause', 'rupture', 'break', 'vacance', 'interruption', 'chance', 'rompu', 'coupure', 'repos', 'cassure', 'fracture', 'échappée', 'se briser', 'se casser', 'se rompre', 'péter', 'relâche']\n",
      "https://context.reverso.net/перевод/русский-французский/пробить\n",
      "turn to alternative marks\n"
     ]
    },
    {
     "name": "stderr",
     "output_type": "stream",
     "text": [
      "\r",
      "  6%|▌         | 42/676 [03:36<54:15,  5.13s/it]"
     ]
    },
    {
     "name": "stdout",
     "output_type": "stream",
     "text": [
      "['percer', 'pénétrer', 'perforer', 'transpercer', 'tracer', 'brèche', 'frapper', 'immatriculation', 'briser', 'coque']\n",
      "sense_intersect ['briser', 'percer']\n",
      "break преодолеть\n",
      "https://context.reverso.net/перевод/английский-французский/break\n",
      "['briser', 'casser', 'rompre', 'sortir', 'enfreindre', 'percer', 'violer', 'arrêter', 'pause', 'rupture', 'break', 'vacance', 'interruption', 'chance', 'rompu', 'coupure', 'repos', 'cassure', 'fracture', 'échappée', 'se briser', 'se casser', 'se rompre', 'péter', 'relâche']\n",
      "https://context.reverso.net/перевод/русский-французский/преодолеть\n"
     ]
    },
    {
     "name": "stderr",
     "output_type": "stream",
     "text": [
      "\r",
      "  6%|▋         | 43/676 [03:41<54:20,  5.15s/it]"
     ]
    },
    {
     "name": "stdout",
     "output_type": "stream",
     "text": [
      "['surmonter', 'sortir', 'combler', 'vaincre', 'dépasser', 'résoudre', 'relever', 'réduire', 'franchir', 'venir à bout', 'éliminer', 'transcender', 'remédier à', 'combattre', 'aplanir']\n",
      "sense_intersect ['sortir']\n",
      "break отколоться\n",
      "https://context.reverso.net/перевод/английский-французский/break\n",
      "['briser', 'casser', 'rompre', 'sortir', 'enfreindre', 'percer', 'violer', 'arrêter', 'pause', 'rupture', 'break', 'vacance', 'interruption', 'chance', 'rompu', 'coupure', 'repos', 'cassure', 'fracture', 'échappée', 'se briser', 'se casser', 'se rompre', 'péter', 'relâche']\n",
      "https://context.reverso.net/перевод/русский-французский/отколоться\n",
      "turn to alternative marks\n"
     ]
    },
    {
     "name": "stderr",
     "output_type": "stream",
     "text": [
      "\r",
      "  7%|▋         | 44/676 [03:46<53:19,  5.06s/it]"
     ]
    },
    {
     "name": "stdout",
     "output_type": "stream",
     "text": [
      "[]\n",
      "sense_intersect ['no_equality']\n",
      "break вырывать\n",
      "https://context.reverso.net/перевод/английский-французский/break\n",
      "['briser', 'casser', 'rompre', 'sortir', 'enfreindre', 'percer', 'violer', 'arrêter', 'pause', 'rupture', 'break', 'vacance', 'interruption', 'chance', 'rompu', 'coupure', 'repos', 'cassure', 'fracture', 'échappée', 'se briser', 'se casser', 'se rompre', 'péter', 'relâche']\n",
      "https://context.reverso.net/перевод/русский-французский/вырывать\n",
      "turn to alternative marks\n"
     ]
    },
    {
     "name": "stderr",
     "output_type": "stream",
     "text": [
      "\r",
      "  7%|▋         | 45/676 [03:51<52:55,  5.03s/it]"
     ]
    },
    {
     "name": "stdout",
     "output_type": "stream",
     "text": [
      "['arracher']\n",
      "sense_intersect ['no_equality']\n",
      "break преломлять\n",
      "https://context.reverso.net/перевод/английский-французский/break\n",
      "['briser', 'casser', 'rompre', 'sortir', 'enfreindre', 'percer', 'violer', 'arrêter', 'pause', 'rupture', 'break', 'vacance', 'interruption', 'chance', 'rompu', 'coupure', 'repos', 'cassure', 'fracture', 'échappée', 'se briser', 'se casser', 'se rompre', 'péter', 'relâche']\n",
      "https://context.reverso.net/перевод/русский-французский/преломлять\n",
      "turn to alternative marks\n"
     ]
    },
    {
     "name": "stderr",
     "output_type": "stream",
     "text": [
      "\r",
      "  7%|▋         | 46/676 [03:56<52:09,  4.97s/it]"
     ]
    },
    {
     "name": "stdout",
     "output_type": "stream",
     "text": [
      "[]\n",
      "sense_intersect ['no_equality']\n",
      "break перерыв\n",
      "https://context.reverso.net/перевод/английский-французский/break\n",
      "['briser', 'casser', 'rompre', 'sortir', 'enfreindre', 'percer', 'violer', 'arrêter', 'pause', 'rupture', 'break', 'vacance', 'interruption', 'chance', 'rompu', 'coupure', 'repos', 'cassure', 'fracture', 'échappée', 'se briser', 'se casser', 'se rompre', 'péter', 'relâche']\n",
      "https://context.reverso.net/перевод/русский-французский/перерыв\n"
     ]
    },
    {
     "name": "stderr",
     "output_type": "stream",
     "text": [
      "\r",
      "  7%|▋         | 47/676 [04:01<52:08,  4.97s/it]"
     ]
    },
    {
     "name": "stdout",
     "output_type": "stream",
     "text": [
      "['pause', 'suspension', 'interruption', 'break', 'suspendue']\n",
      "sense_intersect ['pause', 'break', 'interruption']\n",
      "break разрыв\n",
      "https://context.reverso.net/перевод/английский-французский/break\n",
      "['briser', 'casser', 'rompre', 'sortir', 'enfreindre', 'percer', 'violer', 'arrêter', 'pause', 'rupture', 'break', 'vacance', 'interruption', 'chance', 'rompu', 'coupure', 'repos', 'cassure', 'fracture', 'échappée', 'se briser', 'se casser', 'se rompre', 'péter', 'relâche']\n",
      "https://context.reverso.net/перевод/русский-французский/разрыв\n"
     ]
    },
    {
     "name": "stderr",
     "output_type": "stream",
     "text": [
      "\r",
      "  7%|▋         | 48/676 [04:07<53:55,  5.15s/it]"
     ]
    },
    {
     "name": "stdout",
     "output_type": "stream",
     "text": [
      "['écart', 'fossé', 'rupture', 'décalage', 'différence', 'fracture', 'disparité', 'déchirure', 'les disparités']\n",
      "sense_intersect ['rupture', 'fracture']\n",
      "break пролом\n",
      "https://context.reverso.net/перевод/английский-французский/break\n",
      "['briser', 'casser', 'rompre', 'sortir', 'enfreindre', 'percer', 'violer', 'arrêter', 'pause', 'rupture', 'break', 'vacance', 'interruption', 'chance', 'rompu', 'coupure', 'repos', 'cassure', 'fracture', 'échappée', 'se briser', 'se casser', 'se rompre', 'péter', 'relâche']\n",
      "https://context.reverso.net/перевод/русский-французский/пролом\n",
      "turn to alternative marks\n"
     ]
    },
    {
     "name": "stderr",
     "output_type": "stream",
     "text": [
      "\r",
      "  7%|▋         | 49/676 [04:12<53:18,  5.10s/it]"
     ]
    },
    {
     "name": "stdout",
     "output_type": "stream",
     "text": [
      "['brèche']\n",
      "sense_intersect ['no_equality']\n",
      "break каникулы\n",
      "https://context.reverso.net/перевод/английский-французский/break\n",
      "['briser', 'casser', 'rompre', 'sortir', 'enfreindre', 'percer', 'violer', 'arrêter', 'pause', 'rupture', 'break', 'vacance', 'interruption', 'chance', 'rompu', 'coupure', 'repos', 'cassure', 'fracture', 'échappée', 'se briser', 'se casser', 'se rompre', 'péter', 'relâche']\n",
      "https://context.reverso.net/перевод/русский-французский/каникулы\n"
     ]
    },
    {
     "name": "stderr",
     "output_type": "stream",
     "text": [
      "\r",
      "  7%|▋         | 50/676 [04:16<52:39,  5.05s/it]"
     ]
    },
    {
     "name": "stdout",
     "output_type": "stream",
     "text": [
      "['vacance']\n",
      "sense_intersect ['vacance']\n",
      "break передышка\n",
      "https://context.reverso.net/перевод/английский-французский/break\n",
      "['briser', 'casser', 'rompre', 'sortir', 'enfreindre', 'percer', 'violer', 'arrêter', 'pause', 'rupture', 'break', 'vacance', 'interruption', 'chance', 'rompu', 'coupure', 'repos', 'cassure', 'fracture', 'échappée', 'se briser', 'se casser', 'se rompre', 'péter', 'relâche']\n",
      "https://context.reverso.net/перевод/русский-французский/передышка\n",
      "turn to alternative marks\n"
     ]
    },
    {
     "name": "stderr",
     "output_type": "stream",
     "text": [
      "\r",
      "  8%|▊         | 51/676 [04:22<52:49,  5.07s/it]"
     ]
    },
    {
     "name": "stdout",
     "output_type": "stream",
     "text": [
      "['répit', \"d'une pause\", 'faire une pause', 'du retard']\n",
      "sense_intersect ['no_equality']\n",
      "tiger тигр\n",
      "https://context.reverso.net/перевод/английский-французский/tiger\n",
      "['tigre', 'tigresse', 'tigrée', 'tiger', 'souchet']\n",
      "https://context.reverso.net/перевод/русский-французский/тигр\n"
     ]
    },
    {
     "name": "stderr",
     "output_type": "stream",
     "text": [
      "\r",
      "  8%|▊         | 52/676 [04:26<52:03,  5.01s/it]"
     ]
    },
    {
     "name": "stdout",
     "output_type": "stream",
     "text": [
      "['tigre', 'tiger']\n",
      "sense_intersect ['tigre', 'tiger']\n",
      "tiger зверь\n",
      "https://context.reverso.net/перевод/английский-французский/tiger\n",
      "['tigre', 'tigresse', 'tigrée', 'tiger', 'souchet']\n",
      "https://context.reverso.net/перевод/русский-французский/зверь\n"
     ]
    },
    {
     "name": "stderr",
     "output_type": "stream",
     "text": [
      "\r",
      "  8%|▊         | 53/676 [04:31<51:21,  4.95s/it]"
     ]
    },
    {
     "name": "stdout",
     "output_type": "stream",
     "text": [
      "['bête', 'animal', 'monstre']\n",
      "sense_intersect ['no_equality']\n",
      "tiger тигриный\n",
      "https://context.reverso.net/перевод/английский-французский/tiger\n",
      "['tigre', 'tigresse', 'tigrée', 'tiger', 'souchet']\n",
      "https://context.reverso.net/перевод/русский-французский/тигриный\n",
      "turn to alternative marks\n"
     ]
    },
    {
     "name": "stderr",
     "output_type": "stream",
     "text": [
      "\r",
      "  8%|▊         | 54/676 [04:36<50:48,  4.90s/it]"
     ]
    },
    {
     "name": "stdout",
     "output_type": "stream",
     "text": [
      "[]\n",
      "sense_intersect ['no_equality']\n",
      "lion лев\n",
      "https://context.reverso.net/перевод/английский-французский/lion\n",
      "['lion', 'lion', 'lev', 'otarie', 'lionceau', 'couguar', 'dompteur']\n",
      "https://context.reverso.net/перевод/русский-французский/лев\n"
     ]
    },
    {
     "name": "stderr",
     "output_type": "stream",
     "text": [
      "\r",
      "  8%|▊         | 55/676 [04:41<50:52,  4.92s/it]"
     ]
    },
    {
     "name": "stdout",
     "output_type": "stream",
     "text": [
      "['lion', 'lev', 'léon']\n",
      "sense_intersect ['lion', 'lev']\n",
      "lion львиный\n",
      "https://context.reverso.net/перевод/английский-французский/lion\n",
      "['lion', 'lion', 'lev', 'otarie', 'lionceau', 'couguar', 'dompteur']\n",
      "https://context.reverso.net/перевод/русский-французский/львиный\n",
      "turn to alternative marks\n"
     ]
    },
    {
     "name": "stderr",
     "output_type": "stream",
     "text": [
      "\r",
      "  8%|▊         | 56/676 [04:46<50:16,  4.87s/it]"
     ]
    },
    {
     "name": "stdout",
     "output_type": "stream",
     "text": [
      "[]\n",
      "sense_intersect ['no_equality']\n",
      "background фон\n",
      "https://context.reverso.net/перевод/английский-французский/background\n",
      "['fond', 'contexte', 'arrière-plan', 'information', 'antécédent', 'origine', 'historique', 'référence', 'de fond', 'arrière plan', 'formation', 'expérience', 'milieu', 'passé', 'travail', 'background', 'histoire', 'second plan', 'arrière-fond', \"fond d'écran\"]\n",
      "https://context.reverso.net/перевод/русский-французский/фон\n"
     ]
    },
    {
     "name": "stderr",
     "output_type": "stream",
     "text": [
      "\r",
      "  8%|▊         | 57/676 [04:51<50:29,  4.89s/it]"
     ]
    },
    {
     "name": "stdout",
     "output_type": "stream",
     "text": [
      "['von', 'fond', 'arrière-plan']\n",
      "sense_intersect ['fond', 'arrière-plan']\n",
      "background предпосылка\n",
      "https://context.reverso.net/перевод/английский-французский/background\n",
      "['fond', 'contexte', 'arrière-plan', 'information', 'antécédent', 'origine', 'historique', 'référence', 'de fond', 'arrière plan', 'formation', 'expérience', 'milieu', 'passé', 'travail', 'background', 'histoire', 'second plan', 'arrière-fond', \"fond d'écran\"]\n",
      "https://context.reverso.net/перевод/русский-французский/предпосылка\n",
      "turn to alternative marks\n"
     ]
    },
    {
     "name": "stderr",
     "output_type": "stream",
     "text": [
      "\r",
      "  9%|▊         | 58/676 [04:56<50:39,  4.92s/it]"
     ]
    },
    {
     "name": "stdout",
     "output_type": "stream",
     "text": [
      "['condition préalable', 'condition', 'prémisse', 'hypothèse']\n",
      "sense_intersect ['no_equality']\n",
      "background происхождение\n",
      "https://context.reverso.net/перевод/английский-французский/background\n",
      "['fond', 'contexte', 'arrière-plan', 'information', 'antécédent', 'origine', 'historique', 'référence', 'de fond', 'arrière plan', 'formation', 'expérience', 'milieu', 'passé', 'travail', 'background', 'histoire', 'second plan', 'arrière-fond', \"fond d'écran\"]\n",
      "https://context.reverso.net/перевод/русский-французский/происхождение\n"
     ]
    },
    {
     "name": "stderr",
     "output_type": "stream",
     "text": [
      "\r",
      "  9%|▊         | 59/676 [05:01<50:47,  4.94s/it]"
     ]
    },
    {
     "name": "stdout",
     "output_type": "stream",
     "text": [
      "['origine', 'provenance', 'ascendance']\n",
      "sense_intersect ['origine']\n",
      "background подготовка\n",
      "https://context.reverso.net/перевод/английский-французский/background\n",
      "['fond', 'contexte', 'arrière-plan', 'information', 'antécédent', 'origine', 'historique', 'référence', 'de fond', 'arrière plan', 'formation', 'expérience', 'milieu', 'passé', 'travail', 'background', 'histoire', 'second plan', 'arrière-fond', \"fond d'écran\"]\n",
      "https://context.reverso.net/перевод/русский-французский/подготовка\n"
     ]
    },
    {
     "name": "stderr",
     "output_type": "stream",
     "text": [
      "\r",
      "  9%|▉         | 60/676 [05:06<50:46,  4.95s/it]"
     ]
    },
    {
     "name": "stdout",
     "output_type": "stream",
     "text": [
      "['formation', 'préparation', 'préparatif', 'élaboration', 'établissement', 'entraînement', 'rédaction', 'production', 'prépare', 'formé', 'préparer', 'établir', 'former']\n",
      "sense_intersect ['formation']\n",
      "background история\n",
      "https://context.reverso.net/перевод/английский-французский/background\n",
      "['fond', 'contexte', 'arrière-plan', 'information', 'antécédent', 'origine', 'historique', 'référence', 'de fond', 'arrière plan', 'formation', 'expérience', 'milieu', 'passé', 'travail', 'background', 'histoire', 'second plan', 'arrière-fond', \"fond d'écran\"]\n",
      "https://context.reverso.net/перевод/русский-французский/история\n"
     ]
    },
    {
     "name": "stderr",
     "output_type": "stream",
     "text": [
      "\r",
      "  9%|▉         | 61/676 [05:11<52:48,  5.15s/it]"
     ]
    },
    {
     "name": "stdout",
     "output_type": "stream",
     "text": [
      "['histoire', 'historique', 'passé', 'affaire', 'conte', 'version', 'récit', 'truc', 'chose', 'ça', 'antécédent', 'article', 'drôle', 'story']\n",
      "sense_intersect ['antécédent', 'historique', 'passé', 'histoire']\n",
      "background сведения\n",
      "https://context.reverso.net/перевод/английский-французский/background\n",
      "['fond', 'contexte', 'arrière-plan', 'information', 'antécédent', 'origine', 'historique', 'référence', 'de fond', 'arrière plan', 'formation', 'expérience', 'milieu', 'passé', 'travail', 'background', 'histoire', 'second plan', 'arrière-fond', \"fond d'écran\"]\n",
      "https://context.reverso.net/перевод/русский-французский/сведения\n"
     ]
    },
    {
     "name": "stderr",
     "output_type": "stream",
     "text": [
      "\r",
      "  9%|▉         | 62/676 [05:17<53:48,  5.26s/it]"
     ]
    },
    {
     "name": "stdout",
     "output_type": "stream",
     "text": [
      "['attention', 'information', 'connaissance', 'communiqué', 'intention', 'renseignement', 'renseignement', 'donnée', 'signalé', 'chiffre', 'élément', 'auprès', 'réduire', 'détail']\n",
      "sense_intersect ['information']\n",
      "background фоновый режим\n",
      "https://context.reverso.net/перевод/английский-французский/background\n",
      "['fond', 'contexte', 'arrière-plan', 'information', 'antécédent', 'origine', 'historique', 'référence', 'de fond', 'arrière plan', 'formation', 'expérience', 'milieu', 'passé', 'travail', 'background', 'histoire', 'second plan', 'arrière-fond', \"fond d'écran\"]\n",
      "https://context.reverso.net/перевод/русский-французский/фоновый режим\n"
     ]
    },
    {
     "name": "stderr",
     "output_type": "stream",
     "text": [
      "\r",
      "  9%|▉         | 63/676 [05:24<58:44,  5.75s/it]"
     ]
    },
    {
     "name": "stdout",
     "output_type": "stream",
     "text": [
      "['de fond', 'en arrière-plan', 'régime', 'traitement', 'mode', 'système', 'situation']\n",
      "sense_intersect ['de fond']\n",
      "background опыт\n",
      "https://context.reverso.net/перевод/английский-французский/background\n",
      "['fond', 'contexte', 'arrière-plan', 'information', 'antécédent', 'origine', 'historique', 'référence', 'de fond', 'arrière plan', 'formation', 'expérience', 'milieu', 'passé', 'travail', 'background', 'histoire', 'second plan', 'arrière-fond', \"fond d'écran\"]\n",
      "https://context.reverso.net/перевод/русский-французский/опыт\n"
     ]
    },
    {
     "name": "stderr",
     "output_type": "stream",
     "text": [
      "\r",
      "  9%|▉         | 64/676 [05:29<56:58,  5.59s/it]"
     ]
    },
    {
     "name": "stdout",
     "output_type": "stream",
     "text": [
      "['expérience', 'compétence', 'expertise', 'savoir-faire', 'exemple', 'bilan', 'connaissances spécialisées', 'acquis', 'enseignement', 'leçon', 'pratique', 'résultat']\n",
      "sense_intersect ['expérience']\n",
      "background справочная информация\n",
      "https://context.reverso.net/перевод/английский-французский/background\n",
      "['fond', 'contexte', 'arrière-plan', 'information', 'antécédent', 'origine', 'historique', 'référence', 'de fond', 'arrière plan', 'formation', 'expérience', 'milieu', 'passé', 'travail', 'background', 'histoire', 'second plan', 'arrière-fond', \"fond d'écran\"]\n",
      "https://context.reverso.net/перевод/русский-французский/справочная информация\n"
     ]
    },
    {
     "name": "stderr",
     "output_type": "stream",
     "text": [
      "\r",
      " 10%|▉         | 65/676 [05:34<55:05,  5.41s/it]"
     ]
    },
    {
     "name": "stdout",
     "output_type": "stream",
     "text": [
      "['rappel des faits', 'historique', 'informations générales']\n",
      "sense_intersect ['historique']\n",
      "background история вопроса\n",
      "https://context.reverso.net/перевод/английский-французский/background\n",
      "['fond', 'contexte', 'arrière-plan', 'information', 'antécédent', 'origine', 'historique', 'référence', 'de fond', 'arrière plan', 'formation', 'expérience', 'milieu', 'passé', 'travail', 'background', 'histoire', 'second plan', 'arrière-fond', \"fond d'écran\"]\n",
      "https://context.reverso.net/перевод/русский-французский/история вопроса\n",
      "turn to alternative marks\n"
     ]
    },
    {
     "name": "stderr",
     "output_type": "stream",
     "text": [
      "\r",
      " 10%|▉         | 66/676 [05:39<54:45,  5.39s/it]"
     ]
    },
    {
     "name": "stdout",
     "output_type": "stream",
     "text": [
      "['historique', 'généralité', 'aperçu général']\n",
      "sense_intersect ['historique']\n",
      "background прошлое\n",
      "https://context.reverso.net/перевод/английский-французский/background\n",
      "['fond', 'contexte', 'arrière-plan', 'information', 'antécédent', 'origine', 'historique', 'référence', 'de fond', 'arrière plan', 'formation', 'expérience', 'milieu', 'passé', 'travail', 'background', 'histoire', 'second plan', 'arrière-fond', \"fond d'écran\"]\n",
      "https://context.reverso.net/перевод/русский-французский/прошлое\n"
     ]
    },
    {
     "name": "stderr",
     "output_type": "stream",
     "text": [
      "\r",
      " 10%|▉         | 67/676 [05:44<53:17,  5.25s/it]"
     ]
    },
    {
     "name": "stdout",
     "output_type": "stream",
     "text": [
      "['passé', 'histoire', 'le temps', 'antécédent', 'casier']\n",
      "sense_intersect ['antécédent', 'passé', 'histoire']\n",
      "background образование\n",
      "https://context.reverso.net/перевод/английский-французский/background\n",
      "['fond', 'contexte', 'arrière-plan', 'information', 'antécédent', 'origine', 'historique', 'référence', 'de fond', 'arrière plan', 'formation', 'expérience', 'milieu', 'passé', 'travail', 'background', 'histoire', 'second plan', 'arrière-fond', \"fond d'écran\"]\n",
      "https://context.reverso.net/перевод/русский-французский/образование\n"
     ]
    },
    {
     "name": "stderr",
     "output_type": "stream",
     "text": [
      "\r",
      " 10%|█         | 68/676 [05:49<52:23,  5.17s/it]"
     ]
    },
    {
     "name": "stdout",
     "output_type": "stream",
     "text": [
      "['éducation', 'enseignement', 'formation', 'instruction', 'entité', 'scolarité', 'école', 'diplôme', 'scolaire', 'étude', 'éducatif', 'éduqué', 'éduquer', 'scolarisation']\n",
      "sense_intersect ['formation']\n",
      "background корень\n",
      "https://context.reverso.net/перевод/английский-французский/background\n",
      "['fond', 'contexte', 'arrière-plan', 'information', 'antécédent', 'origine', 'historique', 'référence', 'de fond', 'arrière plan', 'formation', 'expérience', 'milieu', 'passé', 'travail', 'background', 'histoire', 'second plan', 'arrière-fond', \"fond d'écran\"]\n",
      "https://context.reverso.net/перевод/русский-французский/корень\n"
     ]
    },
    {
     "name": "stderr",
     "output_type": "stream",
     "text": [
      "\r",
      " 10%|█         | 69/676 [05:54<51:54,  5.13s/it]"
     ]
    },
    {
     "name": "stdout",
     "output_type": "stream",
     "text": [
      "['racine']\n",
      "sense_intersect ['no_equality']\n",
      "background исходная информация\n",
      "https://context.reverso.net/перевод/английский-французский/background\n",
      "['fond', 'contexte', 'arrière-plan', 'information', 'antécédent', 'origine', 'historique', 'référence', 'de fond', 'arrière plan', 'formation', 'expérience', 'milieu', 'passé', 'travail', 'background', 'histoire', 'second plan', 'arrière-fond', \"fond d'écran\"]\n",
      "https://context.reverso.net/перевод/русский-французский/исходная информация\n",
      "turn to alternative marks\n"
     ]
    },
    {
     "name": "stderr",
     "output_type": "stream",
     "text": [
      "\r",
      " 10%|█         | 70/676 [05:59<51:14,  5.07s/it]"
     ]
    },
    {
     "name": "stdout",
     "output_type": "stream",
     "text": [
      "['renseignements de base', 'informations générales', 'généralité']\n",
      "sense_intersect ['no_equality']\n",
      "background контекст\n",
      "https://context.reverso.net/перевод/английский-французский/background\n",
      "['fond', 'contexte', 'arrière-plan', 'information', 'antécédent', 'origine', 'historique', 'référence', 'de fond', 'arrière plan', 'formation', 'expérience', 'milieu', 'passé', 'travail', 'background', 'histoire', 'second plan', 'arrière-fond', \"fond d'écran\"]\n",
      "https://context.reverso.net/перевод/русский-французский/контекст\n"
     ]
    },
    {
     "name": "stderr",
     "output_type": "stream",
     "text": [
      "\r",
      " 11%|█         | 71/676 [06:04<50:22,  5.00s/it]"
     ]
    },
    {
     "name": "stdout",
     "output_type": "stream",
     "text": [
      "['contexte', 'cadre']\n",
      "sense_intersect ['contexte']\n",
      "background общие сведения\n",
      "https://context.reverso.net/перевод/английский-французский/background\n",
      "['fond', 'contexte', 'arrière-plan', 'information', 'antécédent', 'origine', 'historique', 'référence', 'de fond', 'arrière plan', 'formation', 'expérience', 'milieu', 'passé', 'travail', 'background', 'histoire', 'second plan', 'arrière-fond', \"fond d'écran\"]\n",
      "https://context.reverso.net/перевод/русский-французский/общие сведения\n",
      "turn to alternative marks\n"
     ]
    },
    {
     "name": "stderr",
     "output_type": "stream",
     "text": [
      "\r",
      " 11%|█         | 72/676 [06:09<50:31,  5.02s/it]"
     ]
    },
    {
     "name": "stdout",
     "output_type": "stream",
     "text": [
      "['renseignements généraux', 'aperçu général', 'informations générales', 'généralité', 'données générales', 'renseignements de caractère général', 'information de base', 'historique', 'caractéristiques générales', 'cadre général']\n",
      "sense_intersect ['historique']\n",
      "background исток\n",
      "https://context.reverso.net/перевод/английский-французский/background\n",
      "['fond', 'contexte', 'arrière-plan', 'information', 'antécédent', 'origine', 'historique', 'référence', 'de fond', 'arrière plan', 'formation', 'expérience', 'milieu', 'passé', 'travail', 'background', 'histoire', 'second plan', 'arrière-fond', \"fond d'écran\"]\n",
      "https://context.reverso.net/перевод/русский-французский/исток\n",
      "turn to alternative marks\n"
     ]
    },
    {
     "name": "stderr",
     "output_type": "stream",
     "text": [
      "\r",
      " 11%|█         | 73/676 [06:14<50:06,  4.99s/it]"
     ]
    },
    {
     "name": "stdout",
     "output_type": "stream",
     "text": [
      "['source', 'istok']\n",
      "sense_intersect ['no_equality']\n",
      "background фоновое изображение\n",
      "https://context.reverso.net/перевод/английский-французский/background\n",
      "['fond', 'contexte', 'arrière-plan', 'information', 'antécédent', 'origine', 'historique', 'référence', 'de fond', 'arrière plan', 'formation', 'expérience', 'milieu', 'passé', 'travail', 'background', 'histoire', 'second plan', 'arrière-fond', \"fond d'écran\"]\n",
      "https://context.reverso.net/перевод/русский-французский/фоновое изображение\n"
     ]
    },
    {
     "name": "stderr",
     "output_type": "stream",
     "text": [
      "\r",
      " 11%|█         | 74/676 [06:19<50:25,  5.03s/it]"
     ]
    },
    {
     "name": "stdout",
     "output_type": "stream",
     "text": [
      "[\"d'arrière-plan\", 'image', 'photo', 'représentation', 'portrait', 'visuel']\n",
      "sense_intersect ['no_equality']\n",
      "background фоновая\n",
      "https://context.reverso.net/перевод/английский-французский/background\n",
      "['fond', 'contexte', 'arrière-plan', 'information', 'antécédent', 'origine', 'historique', 'référence', 'de fond', 'arrière plan', 'formation', 'expérience', 'milieu', 'passé', 'travail', 'background', 'histoire', 'second plan', 'arrière-fond', \"fond d'écran\"]\n",
      "https://context.reverso.net/перевод/русский-французский/фоновая\n",
      "turn to alternative marks\n"
     ]
    },
    {
     "name": "stderr",
     "output_type": "stream",
     "text": [
      "\r",
      " 11%|█         | 75/676 [06:24<50:25,  5.03s/it]"
     ]
    },
    {
     "name": "stdout",
     "output_type": "stream",
     "text": [
      "['ambiante', 'concentration']\n",
      "sense_intersect ['no_equality']\n",
      "background фоновый\n",
      "https://context.reverso.net/перевод/английский-французский/background\n",
      "['fond', 'contexte', 'arrière-plan', 'information', 'antécédent', 'origine', 'historique', 'référence', 'de fond', 'arrière plan', 'formation', 'expérience', 'milieu', 'passé', 'travail', 'background', 'histoire', 'second plan', 'arrière-fond', \"fond d'écran\"]\n",
      "https://context.reverso.net/перевод/русский-французский/фоновый\n",
      "turn to alternative marks\n"
     ]
    },
    {
     "name": "stderr",
     "output_type": "stream",
     "text": [
      "\r",
      " 11%|█         | 76/676 [06:29<50:19,  5.03s/it]"
     ]
    },
    {
     "name": "stdout",
     "output_type": "stream",
     "text": [
      "['de fond', 'en arrière-plan']\n",
      "sense_intersect ['de fond']\n",
      "background справочный\n",
      "https://context.reverso.net/перевод/английский-французский/background\n",
      "['fond', 'contexte', 'arrière-plan', 'information', 'antécédent', 'origine', 'historique', 'référence', 'de fond', 'arrière plan', 'formation', 'expérience', 'milieu', 'passé', 'travail', 'background', 'histoire', 'second plan', 'arrière-fond', \"fond d'écran\"]\n",
      "https://context.reverso.net/перевод/русский-французский/справочный\n"
     ]
    },
    {
     "name": "stderr",
     "output_type": "stream",
     "text": [
      "\r",
      " 11%|█▏        | 77/676 [06:34<50:18,  5.04s/it]"
     ]
    },
    {
     "name": "stdout",
     "output_type": "stream",
     "text": [
      "['référence']\n",
      "sense_intersect ['référence']\n",
      "background второстепенный\n",
      "https://context.reverso.net/перевод/английский-французский/background\n",
      "['fond', 'contexte', 'arrière-plan', 'information', 'antécédent', 'origine', 'historique', 'référence', 'de fond', 'arrière plan', 'formation', 'expérience', 'milieu', 'passé', 'travail', 'background', 'histoire', 'second plan', 'arrière-fond', \"fond d'écran\"]\n",
      "https://context.reverso.net/перевод/русский-французский/второстепенный\n",
      "turn to alternative marks\n"
     ]
    },
    {
     "name": "stderr",
     "output_type": "stream",
     "text": [
      "\r",
      " 12%|█▏        | 78/676 [06:39<49:37,  4.98s/it]"
     ]
    },
    {
     "name": "stdout",
     "output_type": "stream",
     "text": [
      "['accessoire', 'subsidiaire']\n",
      "sense_intersect ['no_equality']\n",
      "write писать\n",
      "https://context.reverso.net/перевод/английский-французский/write\n",
      "['écrire', 'rédiger', 'faire', 'inscrire', 'composer', 'adresser', 'graver', 'prescrire', 'enregistrer', 'communiquer', 'écriture', 'écrivez-nous', 'write', 'noter', 'note']\n",
      "https://context.reverso.net/перевод/русский-французский/писать\n"
     ]
    },
    {
     "name": "stderr",
     "output_type": "stream",
     "text": [
      "\r",
      " 12%|█▏        | 79/676 [06:44<49:12,  4.95s/it]"
     ]
    },
    {
     "name": "stdout",
     "output_type": "stream",
     "text": [
      "['écrire', 'pisser', 'faire pipi', 'envoyer', 'peindre', 'écriture']\n",
      "sense_intersect ['écrire', 'écriture']\n",
      "write записывать\n",
      "https://context.reverso.net/перевод/английский-французский/write\n",
      "['écrire', 'rédiger', 'faire', 'inscrire', 'composer', 'adresser', 'graver', 'prescrire', 'enregistrer', 'communiquer', 'écriture', 'écrivez-nous', 'write', 'noter', 'note']\n",
      "https://context.reverso.net/перевод/русский-французский/записывать\n"
     ]
    },
    {
     "name": "stderr",
     "output_type": "stream",
     "text": [
      "\r",
      " 12%|█▏        | 80/676 [06:49<49:08,  4.95s/it]"
     ]
    },
    {
     "name": "stdout",
     "output_type": "stream",
     "text": [
      "['enregistrer', 'écrire', 'noter']\n",
      "sense_intersect ['écrire', 'enregistrer', 'noter']\n",
      "write выписывать\n",
      "https://context.reverso.net/перевод/английский-французский/write\n",
      "['écrire', 'rédiger', 'faire', 'inscrire', 'composer', 'adresser', 'graver', 'prescrire', 'enregistrer', 'communiquer', 'écriture', 'écrivez-nous', 'write', 'noter', 'note']\n",
      "https://context.reverso.net/перевод/русский-французский/выписывать\n",
      "turn to alternative marks\n"
     ]
    },
    {
     "name": "stderr",
     "output_type": "stream",
     "text": [
      "\r",
      " 12%|█▏        | 81/676 [06:54<49:16,  4.97s/it]"
     ]
    },
    {
     "name": "stdout",
     "output_type": "stream",
     "text": [
      "['prescrire', 'chèque', 'contravention']\n",
      "sense_intersect ['prescrire']\n",
      "write вписать\n",
      "https://context.reverso.net/перевод/английский-французский/write\n",
      "['écrire', 'rédiger', 'faire', 'inscrire', 'composer', 'adresser', 'graver', 'prescrire', 'enregistrer', 'communiquer', 'écriture', 'écrivez-nous', 'write', 'noter', 'note']\n",
      "https://context.reverso.net/перевод/русский-французский/вписать\n",
      "turn to alternative marks\n"
     ]
    },
    {
     "name": "stderr",
     "output_type": "stream",
     "text": [
      "\r",
      " 12%|█▏        | 82/676 [06:59<49:16,  4.98s/it]"
     ]
    },
    {
     "name": "stdout",
     "output_type": "stream",
     "text": [
      "['écrire', 'replacer', 'glisser', 'faire rentrer', 'faire entrer']\n",
      "sense_intersect ['écrire']\n",
      "write списать\n",
      "https://context.reverso.net/перевод/английский-французский/write\n",
      "['écrire', 'rédiger', 'faire', 'inscrire', 'composer', 'adresser', 'graver', 'prescrire', 'enregistrer', 'communiquer', 'écriture', 'écrivez-nous', 'write', 'noter', 'note']\n",
      "https://context.reverso.net/перевод/русский-французский/списать\n"
     ]
    },
    {
     "name": "stderr",
     "output_type": "stream",
     "text": [
      "\r",
      " 12%|█▏        | 83/676 [07:04<49:44,  5.03s/it]"
     ]
    },
    {
     "name": "stdout",
     "output_type": "stream",
     "text": [
      "['annuler']\n",
      "sense_intersect ['no_equality']\n",
      "write письменный\n",
      "https://context.reverso.net/перевод/английский-французский/write\n",
      "['écrire', 'rédiger', 'faire', 'inscrire', 'composer', 'adresser', 'graver', 'prescrire', 'enregistrer', 'communiquer', 'écriture', 'écrivez-nous', 'write', 'noter', 'note']\n",
      "https://context.reverso.net/перевод/русский-французский/письменный\n"
     ]
    },
    {
     "name": "stderr",
     "output_type": "stream",
     "text": [
      "\r",
      " 12%|█▏        | 84/676 [07:09<50:01,  5.07s/it]"
     ]
    },
    {
     "name": "stdout",
     "output_type": "stream",
     "text": [
      "['écrit', 'écrite', 'par écrit']\n",
      "sense_intersect ['no_equality']\n",
      "apologise извиниться\n",
      "https://context.reverso.net/перевод/английский-французский/apologise\n",
      "['excuser', \"s'excuser\", 'demander pardon', \"m'excuser\", \"m'en excuse\", 'excuse-toi', \"t'excuse\", 'suis désolé', 'vous excusez', \"m'excuse\", 'excusez-moi']\n",
      "https://context.reverso.net/перевод/русский-французский/извиниться\n"
     ]
    },
    {
     "name": "stderr",
     "output_type": "stream",
     "text": [
      "\r",
      " 13%|█▎        | 85/676 [07:14<50:33,  5.13s/it]"
     ]
    },
    {
     "name": "stdout",
     "output_type": "stream",
     "text": [
      "[\"s'excuser\", 'demander pardon', \"m'excuser\", \"t'excuser\", 'désolé', \"m'excuse\", 'vous excuser', 'des excuses', 'suis désolé']\n",
      "sense_intersect [\"s'excuser\", 'demander pardon', \"m'excuser | t'excuser\", 'suis désolé', \"m'excuse | t'excuse\"]\n",
      "fly летать\n",
      "https://context.reverso.net/перевод/английский-французский/fly\n",
      "['voler', 'piloter', 'survoler', \"s'envoler\", 'voyager', 'battre', 'faire voler', 'décoller', 'mouche', 'vol', 'avion', 'battant', 'emmener', 'aller', 'braguette', 'fly']\n",
      "https://context.reverso.net/перевод/русский-французский/летать\n"
     ]
    },
    {
     "name": "stderr",
     "output_type": "stream",
     "text": [
      "\r",
      " 13%|█▎        | 86/676 [07:19<49:53,  5.07s/it]"
     ]
    },
    {
     "name": "stdout",
     "output_type": "stream",
     "text": [
      "['voler', 'piloter', 'vol']\n",
      "sense_intersect ['voler', 'piloter', 'vol']\n",
      "fly вылететь\n",
      "https://context.reverso.net/перевод/английский-французский/fly\n",
      "['voler', 'piloter', 'survoler', \"s'envoler\", 'voyager', 'battre', 'faire voler', 'décoller', 'mouche', 'vol', 'avion', 'battant', 'emmener', 'aller', 'braguette', 'fly']\n",
      "https://context.reverso.net/перевод/русский-французский/вылететь\n",
      "turn to alternative marks\n"
     ]
    },
    {
     "name": "stderr",
     "output_type": "stream",
     "text": [
      "\r",
      " 13%|█▎        | 87/676 [07:25<50:31,  5.15s/it]"
     ]
    },
    {
     "name": "stdout",
     "output_type": "stream",
     "text": [
      "['décoller', \"s'envoler\", 'être exclu', \"prendre l'avion\", 'te faire virer', 'être dans les airs']\n",
      "sense_intersect [\"s'envoler\", 'décoller']\n",
      "fly влететь\n",
      "https://context.reverso.net/перевод/английский-французский/fly\n",
      "['voler', 'piloter', 'survoler', \"s'envoler\", 'voyager', 'battre', 'faire voler', 'décoller', 'mouche', 'vol', 'avion', 'battant', 'emmener', 'aller', 'braguette', 'fly']\n",
      "https://context.reverso.net/перевод/русский-французский/влететь\n",
      "turn to alternative marks\n"
     ]
    },
    {
     "name": "stderr",
     "output_type": "stream",
     "text": [
      "\r",
      " 13%|█▎        | 88/676 [07:30<50:07,  5.11s/it]"
     ]
    },
    {
     "name": "stdout",
     "output_type": "stream",
     "text": [
      "[]\n",
      "sense_intersect ['no_equality']\n",
      "fly подлететь\n",
      "https://context.reverso.net/перевод/английский-французский/fly\n",
      "['voler', 'piloter', 'survoler', \"s'envoler\", 'voyager', 'battre', 'faire voler', 'décoller', 'mouche', 'vol', 'avion', 'battant', 'emmener', 'aller', 'braguette', 'fly']\n",
      "https://context.reverso.net/перевод/русский-французский/подлететь\n",
      "turn to alternative marks\n"
     ]
    },
    {
     "name": "stderr",
     "output_type": "stream",
     "text": [
      "\r",
      " 13%|█▎        | 89/676 [07:35<50:48,  5.19s/it]"
     ]
    },
    {
     "name": "stdout",
     "output_type": "stream",
     "text": [
      "[]\n",
      "sense_intersect ['no_equality']\n",
      "fly отлететь\n",
      "https://context.reverso.net/перевод/английский-французский/fly\n",
      "['voler', 'piloter', 'survoler', \"s'envoler\", 'voyager', 'battre', 'faire voler', 'décoller', 'mouche', 'vol', 'avion', 'battant', 'emmener', 'aller', 'braguette', 'fly']\n",
      "https://context.reverso.net/перевод/русский-французский/отлететь\n",
      "turn to alternative marks\n"
     ]
    },
    {
     "name": "stderr",
     "output_type": "stream",
     "text": [
      "\r",
      " 13%|█▎        | 90/676 [07:40<49:33,  5.07s/it]"
     ]
    },
    {
     "name": "stdout",
     "output_type": "stream",
     "text": [
      "[]\n",
      "sense_intersect ['no_equality']\n",
      "fly слетаться\n",
      "https://context.reverso.net/перевод/английский-французский/fly\n",
      "['voler', 'piloter', 'survoler', \"s'envoler\", 'voyager', 'battre', 'faire voler', 'décoller', 'mouche', 'vol', 'avion', 'battant', 'emmener', 'aller', 'braguette', 'fly']\n",
      "https://context.reverso.net/перевод/русский-французский/слетаться\n",
      "turn to alternative marks\n"
     ]
    },
    {
     "name": "stderr",
     "output_type": "stream",
     "text": [
      "\r",
      " 13%|█▎        | 91/676 [07:45<48:59,  5.02s/it]"
     ]
    },
    {
     "name": "stdout",
     "output_type": "stream",
     "text": [
      "[]\n",
      "sense_intersect ['no_equality']\n",
      "fly муха\n",
      "https://context.reverso.net/перевод/английский-французский/fly\n",
      "['voler', 'piloter', 'survoler', \"s'envoler\", 'voyager', 'battre', 'faire voler', 'décoller', 'mouche', 'vol', 'avion', 'battant', 'emmener', 'aller', 'braguette', 'fly']\n",
      "https://context.reverso.net/перевод/русский-французский/муха\n"
     ]
    },
    {
     "name": "stderr",
     "output_type": "stream",
     "text": [
      "\r",
      " 14%|█▎        | 92/676 [07:50<48:19,  4.96s/it]"
     ]
    },
    {
     "name": "stdout",
     "output_type": "stream",
     "text": [
      "['mouche', 'est-ce qui']\n",
      "sense_intersect ['mouche']\n",
      "fly полет\n",
      "https://context.reverso.net/перевод/английский-французский/fly\n",
      "['voler', 'piloter', 'survoler', \"s'envoler\", 'voyager', 'battre', 'faire voler', 'décoller', 'mouche', 'vol', 'avion', 'battant', 'emmener', 'aller', 'braguette', 'fly']\n",
      "https://context.reverso.net/перевод/русский-французский/полет\n"
     ]
    },
    {
     "name": "stderr",
     "output_type": "stream",
     "text": [
      "\r",
      " 14%|█▍        | 93/676 [07:54<48:03,  4.95s/it]"
     ]
    },
    {
     "name": "stdout",
     "output_type": "stream",
     "text": [
      "['vol', 'voler']\n",
      "sense_intersect ['voler', 'vol']\n",
      "beaver бобр\n",
      "https://context.reverso.net/перевод/английский-французский/beaver\n",
      "['castor', 'beaver']\n",
      "https://context.reverso.net/перевод/русский-французский/бобр\n",
      "turn to alternative marks\n"
     ]
    },
    {
     "name": "stderr",
     "output_type": "stream",
     "text": [
      "\r",
      " 14%|█▍        | 94/676 [07:59<47:38,  4.91s/it]"
     ]
    },
    {
     "name": "stdout",
     "output_type": "stream",
     "text": [
      "['castor', 'avoir emménagé', 'beav']\n",
      "sense_intersect ['castor']\n",
      "beaver Бобрик\n",
      "https://context.reverso.net/перевод/английский-французский/beaver\n",
      "['castor', 'beaver']\n",
      "https://context.reverso.net/перевод/русский-французский/Бобрик\n",
      "turn to alternative marks\n"
     ]
    },
    {
     "name": "stderr",
     "output_type": "stream",
     "text": [
      "\r",
      " 14%|█▍        | 95/676 [08:04<47:12,  4.88s/it]"
     ]
    },
    {
     "name": "stdout",
     "output_type": "stream",
     "text": [
      "['beaver']\n",
      "sense_intersect ['beaver']\n",
      "beaver Бивер\n",
      "https://context.reverso.net/перевод/английский-французский/beaver\n",
      "['castor', 'beaver']\n",
      "https://context.reverso.net/перевод/русский-французский/Бивер\n"
     ]
    },
    {
     "name": "stderr",
     "output_type": "stream",
     "text": [
      "\r",
      " 14%|█▍        | 96/676 [08:09<47:10,  4.88s/it]"
     ]
    },
    {
     "name": "stdout",
     "output_type": "stream",
     "text": [
      "['beaver']\n",
      "sense_intersect ['beaver']\n",
      "beaver работяга\n",
      "https://context.reverso.net/перевод/английский-французский/beaver\n",
      "['castor', 'beaver']\n",
      "https://context.reverso.net/перевод/русский-французский/работяга\n",
      "turn to alternative marks\n"
     ]
    },
    {
     "name": "stderr",
     "output_type": "stream",
     "text": [
      "\r",
      " 14%|█▍        | 97/676 [08:14<47:14,  4.90s/it]"
     ]
    },
    {
     "name": "stdout",
     "output_type": "stream",
     "text": [
      "['travailleur', 'ouvrier', 'bosseur']\n",
      "sense_intersect ['no_equality']\n",
      "beaver бородач\n",
      "https://context.reverso.net/перевод/английский-французский/beaver\n",
      "['castor', 'beaver']\n",
      "https://context.reverso.net/перевод/русский-французский/бородач\n",
      "turn to alternative marks\n"
     ]
    },
    {
     "name": "stderr",
     "output_type": "stream",
     "text": [
      "\r",
      " 14%|█▍        | 98/676 [08:19<46:51,  4.86s/it]"
     ]
    },
    {
     "name": "stdout",
     "output_type": "stream",
     "text": [
      "['barbu', 'beardface', 'barbatus ossifrage']\n",
      "sense_intersect ['no_equality']\n",
      "beaver бобровый\n",
      "https://context.reverso.net/перевод/английский-французский/beaver\n",
      "['castor', 'beaver']\n",
      "https://context.reverso.net/перевод/русский-французский/бобровый\n",
      "turn to alternative marks\n"
     ]
    },
    {
     "name": "stderr",
     "output_type": "stream",
     "text": [
      "\r",
      " 15%|█▍        | 99/676 [08:24<46:56,  4.88s/it]"
     ]
    },
    {
     "name": "stdout",
     "output_type": "stream",
     "text": [
      "['castral rock']\n",
      "sense_intersect ['no_equality']\n",
      "coincide совпадать\n",
      "https://context.reverso.net/перевод/английский-французский/coincide\n",
      "['coïncider', 'correspondre', 'concordent', 'coïncidence']\n",
      "https://context.reverso.net/перевод/русский-французский/совпадать\n"
     ]
    },
    {
     "name": "stderr",
     "output_type": "stream",
     "text": [
      "\r",
      " 15%|█▍        | 100/676 [08:29<47:29,  4.95s/it]"
     ]
    },
    {
     "name": "stdout",
     "output_type": "stream",
     "text": [
      "['coïncider']\n",
      "sense_intersect ['coïncider']\n",
      "coincide совмещаться\n",
      "https://context.reverso.net/перевод/английский-французский/coincide\n",
      "['coïncider', 'correspondre', 'concordent', 'coïncidence']\n",
      "https://context.reverso.net/перевод/русский-французский/совмещаться\n",
      "turn to alternative marks\n"
     ]
    },
    {
     "name": "stderr",
     "output_type": "stream",
     "text": [
      "\r",
      " 15%|█▍        | 101/676 [08:34<47:16,  4.93s/it]"
     ]
    },
    {
     "name": "stdout",
     "output_type": "stream",
     "text": [
      "['compatible']\n",
      "sense_intersect ['no_equality']\n",
      "anything что угодно\n",
      "https://context.reverso.net/перевод/английский-французский/anything\n",
      "['quelque chose', 'tout', 'quoi que ce soit', \"n'importe quoi\", 'autre chose', 'truc', 'ça', 'quoique ce soit', 'mal', 'nouveau', 'grand-chose', 'personne', 'reste', 'contraire', 'compte']\n",
      "https://context.reverso.net/перевод/русский-французский/что угодно\n"
     ]
    },
    {
     "name": "stderr",
     "output_type": "stream",
     "text": [
      "\r",
      " 15%|█▌        | 102/676 [08:39<48:21,  5.05s/it]"
     ]
    },
    {
     "name": "stdout",
     "output_type": "stream",
     "text": [
      "[\"n'importe quoi\", 'peu importe', 'que tu veux', 'que vous voulez', 'quelque chose', \"qu'il faut\", 'quoi que ce soit', \"qu'on veut\", 'que je veux', 'que vous voudrez']\n",
      "sense_intersect ['quelque chose', 'quoi que ce soit', \"n'importe quoi\"]\n",
      "anything ничего\n",
      "https://context.reverso.net/перевод/английский-французский/anything\n",
      "['quelque chose', 'tout', 'quoi que ce soit', \"n'importe quoi\", 'autre chose', 'truc', 'ça', 'quoique ce soit', 'mal', 'nouveau', 'grand-chose', 'personne', 'reste', 'contraire', 'compte']\n",
      "https://context.reverso.net/перевод/русский-французский/ничего\n"
     ]
    },
    {
     "name": "stderr",
     "output_type": "stream",
     "text": [
      "\r",
      " 15%|█▌        | 103/676 [08:44<47:41,  4.99s/it]"
     ]
    },
    {
     "name": "stdout",
     "output_type": "stream",
     "text": [
      "['jamais', 'sympa', 'rien', 'ça', 'aucun', 'tout', 'personne', 'non', 'quelque chose', 'mal', 'quoi', 'ni', 'nulle', 'dérange']\n",
      "sense_intersect ['quelque chose', 'tout', 'ça', 'mal', 'personne']\n",
      "anything все\n",
      "https://context.reverso.net/перевод/английский-французский/anything\n",
      "['quelque chose', 'tout', 'quoi que ce soit', \"n'importe quoi\", 'autre chose', 'truc', 'ça', 'quoique ce soit', 'mal', 'nouveau', 'grand-chose', 'personne', 'reste', 'contraire', 'compte']\n",
      "https://context.reverso.net/перевод/русский-французский/все\n"
     ]
    },
    {
     "name": "stderr",
     "output_type": "stream",
     "text": [
      "\r",
      " 15%|█▌        | 104/676 [08:49<47:38,  5.00s/it]"
     ]
    },
    {
     "name": "stdout",
     "output_type": "stream",
     "text": [
      "['tout', 'les', 'ce', 'ça', 'plus', 'est', 'tout le monde', 'on', 'tu', 'je', 'en', 'il', 'se', 'chacun']\n",
      "sense_intersect ['tout', 'ça']\n",
      "exhaustively исчерпывающе\n",
      "https://context.reverso.net/перевод/английский-французский/exhaustively\n",
      "['exhaustivement', 'façon exhaustive', 'manière exhaustive']\n",
      "https://context.reverso.net/перевод/русский-французский/исчерпывающе\n",
      "turn to alternative marks\n"
     ]
    },
    {
     "name": "stderr",
     "output_type": "stream",
     "text": [
      "\r",
      " 16%|█▌        | 105/676 [08:55<50:04,  5.26s/it]"
     ]
    },
    {
     "name": "stdout",
     "output_type": "stream",
     "text": [
      "['exhaustivement']\n",
      "sense_intersect ['exhaustivement']\n",
      "exhaustively полностью\n",
      "https://context.reverso.net/перевод/английский-французский/exhaustively\n",
      "['exhaustivement', 'façon exhaustive', 'manière exhaustive']\n",
      "https://context.reverso.net/перевод/русский-французский/полностью\n"
     ]
    },
    {
     "name": "stderr",
     "output_type": "stream",
     "text": [
      "\r",
      " 16%|█▌        | 106/676 [09:00<48:59,  5.16s/it]"
     ]
    },
    {
     "name": "stdout",
     "output_type": "stream",
     "text": [
      "['pleinement', 'entièrement', 'complètement', 'totalement', 'tout', 'intégralement', 'sans réserve', 'parfaitement', 'plein', 'toute', 'vraiment', 'exclusivement', 'fermement', 'complet', 'total', 'toutes']\n",
      "sense_intersect ['no_equality']\n",
      "exhaustively тщательно\n",
      "https://context.reverso.net/перевод/английский-французский/exhaustively\n",
      "['exhaustivement', 'façon exhaustive', 'manière exhaustive']\n",
      "https://context.reverso.net/перевод/русский-французский/тщательно\n"
     ]
    },
    {
     "name": "stderr",
     "output_type": "stream",
     "text": [
      "\r",
      " 16%|█▌        | 107/676 [09:05<48:26,  5.11s/it]"
     ]
    },
    {
     "name": "stdout",
     "output_type": "stream",
     "text": [
      "['soigneusement', 'avec soin', 'attentivement', 'minutieusement', 'méticuleusement', 'scrupuleusement', 'étroitement', 'examiné', 'manière approfondie', 'objet']\n",
      "sense_intersect ['no_equality']\n",
      "apoplexy удар\n",
      "https://context.reverso.net/перевод/английский-французский/apoplexy\n",
      "['apoplexie']\n",
      "https://context.reverso.net/перевод/русский-французский/удар\n"
     ]
    },
    {
     "name": "stderr",
     "output_type": "stream",
     "text": [
      "\r",
      " 16%|█▌        | 108/676 [09:10<48:33,  5.13s/it]"
     ]
    },
    {
     "name": "stdout",
     "output_type": "stream",
     "text": [
      "['coup', 'frappe', 'attaque', 'choc', 'impact', 'tir', 'revers', 'poing', 'touché']\n",
      "sense_intersect ['no_equality']\n",
      "apoplexy инсульт\n",
      "https://context.reverso.net/перевод/английский-французский/apoplexy\n",
      "['apoplexie']\n",
      "https://context.reverso.net/перевод/русский-французский/инсульт\n"
     ]
    },
    {
     "name": "stderr",
     "output_type": "stream",
     "text": [
      "\r",
      " 16%|█▌        | 109/676 [09:15<47:40,  5.04s/it]"
     ]
    },
    {
     "name": "stdout",
     "output_type": "stream",
     "text": [
      "['attaque', 'avc']\n",
      "sense_intersect ['no_equality']\n",
      "apoplexy кровоизлияние\n",
      "https://context.reverso.net/перевод/английский-французский/apoplexy\n",
      "['apoplexie']\n",
      "https://context.reverso.net/перевод/русский-французский/кровоизлияние\n"
     ]
    },
    {
     "name": "stderr",
     "output_type": "stream",
     "text": [
      "\r",
      " 16%|█▋        | 110/676 [09:20<47:53,  5.08s/it]"
     ]
    },
    {
     "name": "stdout",
     "output_type": "stream",
     "text": [
      "['hémorragie']\n",
      "sense_intersect ['no_equality']\n",
      "apoplexy апоплексический\n",
      "https://context.reverso.net/перевод/английский-французский/apoplexy\n",
      "['apoplexie']\n",
      "https://context.reverso.net/перевод/русский-французский/апоплексический\n",
      "turn to alternative marks\n"
     ]
    },
    {
     "name": "stderr",
     "output_type": "stream",
     "text": [
      "\r",
      " 16%|█▋        | 111/676 [09:25<46:52,  4.98s/it]"
     ]
    },
    {
     "name": "stdout",
     "output_type": "stream",
     "text": [
      "[]\n",
      "sense_intersect ['no_equality']\n",
      "coconut кокос\n",
      "https://context.reverso.net/перевод/английский-французский/coconut\n",
      "['noix de coco', 'coconut', 'cocotier', 'cocoteraie']\n",
      "https://context.reverso.net/перевод/русский-французский/кокос\n"
     ]
    },
    {
     "name": "stderr",
     "output_type": "stream",
     "text": [
      "\r",
      " 17%|█▋        | 112/676 [09:29<46:14,  4.92s/it]"
     ]
    },
    {
     "name": "stdout",
     "output_type": "stream",
     "text": [
      "['noix de coco']\n",
      "sense_intersect ['noix de coco']\n",
      "coconut мякоть кокоса\n",
      "https://context.reverso.net/перевод/английский-французский/coconut\n",
      "['noix de coco', 'coconut', 'cocotier', 'cocoteraie']\n",
      "https://context.reverso.net/перевод/русский-французский/мякоть кокоса\n"
     ]
    },
    {
     "name": "stderr",
     "output_type": "stream",
     "text": [
      "\r",
      " 17%|█▋        | 113/676 [09:34<46:30,  4.96s/it]"
     ]
    },
    {
     "name": "stdout",
     "output_type": "stream",
     "text": [
      "['pulpe', 'chair', 'noix de coco']\n",
      "sense_intersect ['noix de coco']\n",
      "coconut кокосовый\n",
      "https://context.reverso.net/перевод/английский-французский/coconut\n",
      "['noix de coco', 'coconut', 'cocotier', 'cocoteraie']\n",
      "https://context.reverso.net/перевод/русский-французский/кокосовый\n",
      "turn to alternative marks\n"
     ]
    },
    {
     "name": "stderr",
     "output_type": "stream",
     "text": [
      "\r",
      " 17%|█▋        | 114/676 [09:39<46:49,  5.00s/it]"
     ]
    },
    {
     "name": "stdout",
     "output_type": "stream",
     "text": [
      "['de coco', 'sans-coco', 'cocoanut']\n",
      "sense_intersect ['no_equality']\n",
      "not не\n",
      "https://context.reverso.net/перевод/английский-французский/not\n",
      "['pas', 'ne', 'sans', 'non pas', 'jamais', 'not', 'n', 'rien', 'non', 'plus', 'ni', 'peu', 'pu', 'faux', 'tout']\n",
      "https://context.reverso.net/перевод/русский-французский/не\n"
     ]
    },
    {
     "name": "stderr",
     "output_type": "stream",
     "text": [
      "\r",
      " 17%|█▋        | 115/676 [09:45<49:03,  5.25s/it]"
     ]
    },
    {
     "name": "stdout",
     "output_type": "stream",
     "text": [
      "['ne', 'jamais', 'n', 'je', 'se', 'te', 'on', \"d'\", 'ni', 'pas', 'non', 'sans', 'tu', 'rien', 'est']\n",
      "sense_intersect ['pas', 'ne', 'sans', 'jamais', 'n', 'rien', 'non', 'ni']\n",
      "not нет\n",
      "https://context.reverso.net/перевод/английский-французский/not\n",
      "['pas', 'ne', 'sans', 'non pas', 'jamais', 'not', 'n', 'rien', 'non', 'plus', 'ni', 'peu', 'pu', 'faux', 'tout']\n",
      "https://context.reverso.net/перевод/русский-французский/нет\n"
     ]
    },
    {
     "name": "stderr",
     "output_type": "stream",
     "text": [
      "\r",
      " 17%|█▋        | 116/676 [09:50<48:13,  5.17s/it]"
     ]
    },
    {
     "name": "stdout",
     "output_type": "stream",
     "text": [
      "['non', 'pas', 'ne', 'plus', 'si', 'sans', 'là', 'oui', \"n'\", 'aucun', 'je', \"c'\", 'tu', 'il', 'ça']\n",
      "sense_intersect ['pas', 'ne', 'sans', 'non', 'plus']\n",
      "international международный\n",
      "https://context.reverso.net/перевод/английский-французский/international\n",
      "['international', 'mondial', 'étranger', 'monde', 'pays', 'internationalement', 'français', 'globale', 'internationalisation', 'oit', 'fmi', 'internacional']\n",
      "https://context.reverso.net/перевод/русский-французский/международный\n"
     ]
    },
    {
     "name": "stderr",
     "output_type": "stream",
     "text": [
      "\r",
      " 17%|█▋        | 117/676 [09:56<49:35,  5.32s/it]"
     ]
    },
    {
     "name": "stdout",
     "output_type": "stream",
     "text": [
      "['international', 'mondial', 'organisation', 'mondiale', 'traité']\n",
      "sense_intersect ['international', 'mondial']\n",
      "international Интернационал\n",
      "https://context.reverso.net/перевод/английский-французский/international\n",
      "['international', 'mondial', 'étranger', 'monde', 'pays', 'internationalement', 'français', 'globale', 'internationalisation', 'oit', 'fmi', 'internacional']\n",
      "https://context.reverso.net/перевод/русский-французский/Интернационал\n",
      "turn to alternative marks\n"
     ]
    },
    {
     "name": "stderr",
     "output_type": "stream",
     "text": [
      "\r",
      " 17%|█▋        | 118/676 [10:01<48:25,  5.21s/it]"
     ]
    },
    {
     "name": "stdout",
     "output_type": "stream",
     "text": [
      "['internationale', 'liberal international', 'sos', 'isis international']\n",
      "sense_intersect ['no_equality']\n",
      "parent родитель\n",
      "https://context.reverso.net/перевод/английский-французский/parent\n",
      "['parent', 'mère', 'père', 'parent', 'origine', 'tutelle', 'géniteur', 'parental', 'principale', 'initiale', 'base', 'société-mère']\n",
      "https://context.reverso.net/перевод/русский-французский/родитель\n"
     ]
    },
    {
     "name": "stderr",
     "output_type": "stream",
     "text": [
      "\r",
      " 18%|█▊        | 119/676 [10:06<47:57,  5.17s/it]"
     ]
    },
    {
     "name": "stdout",
     "output_type": "stream",
     "text": [
      "['parent', 'père']\n",
      "sense_intersect ['parent', 'père']\n",
      "parent предок\n",
      "https://context.reverso.net/перевод/английский-французский/parent\n",
      "['parent', 'mère', 'père', 'parent', 'origine', 'tutelle', 'géniteur', 'parental', 'principale', 'initiale', 'base', 'société-mère']\n",
      "https://context.reverso.net/перевод/русский-французский/предок\n"
     ]
    },
    {
     "name": "stderr",
     "output_type": "stream",
     "text": [
      "\r",
      " 18%|█▊        | 120/676 [10:11<47:38,  5.14s/it]"
     ]
    },
    {
     "name": "stdout",
     "output_type": "stream",
     "text": [
      "['ancêtre']\n",
      "sense_intersect ['no_equality']\n",
      "parent отец\n",
      "https://context.reverso.net/перевод/английский-французский/parent\n",
      "['parent', 'mère', 'père', 'parent', 'origine', 'tutelle', 'géniteur', 'parental', 'principale', 'initiale', 'base', 'société-mère']\n",
      "https://context.reverso.net/перевод/русский-французский/отец\n"
     ]
    },
    {
     "name": "stderr",
     "output_type": "stream",
     "text": [
      "\r",
      " 18%|█▊        | 121/676 [10:16<47:59,  5.19s/it]"
     ]
    },
    {
     "name": "stdout",
     "output_type": "stream",
     "text": [
      "['père', 'papa', 'parent', 'parrain', 'vieux']\n",
      "sense_intersect ['parent', 'père']\n",
      "parent родительский элемент\n",
      "https://context.reverso.net/перевод/английский-французский/parent\n",
      "['parent', 'mère', 'père', 'parent', 'origine', 'tutelle', 'géniteur', 'parental', 'principale', 'initiale', 'base', 'société-mère']\n",
      "https://context.reverso.net/перевод/русский-французский/родительский элемент\n"
     ]
    },
    {
     "name": "stderr",
     "output_type": "stream",
     "text": [
      "\r",
      " 18%|█▊        | 122/676 [10:21<47:18,  5.12s/it]"
     ]
    },
    {
     "name": "stdout",
     "output_type": "stream",
     "text": [
      "['parental', 'élément', 'entrée', 'composante', 'volet', 'aspect']\n",
      "sense_intersect ['parental']\n",
      "parent родительница\n",
      "https://context.reverso.net/перевод/английский-французский/parent\n",
      "['parent', 'mère', 'père', 'parent', 'origine', 'tutelle', 'géniteur', 'parental', 'principale', 'initiale', 'base', 'société-mère']\n",
      "https://context.reverso.net/перевод/русский-французский/родительница\n",
      "turn to alternative marks\n"
     ]
    },
    {
     "name": "stderr",
     "output_type": "stream",
     "text": [
      "\r",
      " 18%|█▊        | 123/676 [10:27<47:35,  5.16s/it]"
     ]
    },
    {
     "name": "stdout",
     "output_type": "stream",
     "text": [
      "[]\n",
      "sense_intersect ['no_equality']\n",
      "parent родительский\n",
      "https://context.reverso.net/перевод/английский-французский/parent\n",
      "['parent', 'mère', 'père', 'parent', 'origine', 'tutelle', 'géniteur', 'parental', 'principale', 'initiale', 'base', 'société-mère']\n",
      "https://context.reverso.net/перевод/русский-французский/родительский\n"
     ]
    },
    {
     "name": "stderr",
     "output_type": "stream",
     "text": [
      "\r",
      " 18%|█▊        | 124/676 [10:32<46:49,  5.09s/it]"
     ]
    },
    {
     "name": "stdout",
     "output_type": "stream",
     "text": [
      "['parental']\n",
      "sense_intersect ['parental']\n",
      "parent исходный\n",
      "https://context.reverso.net/перевод/английский-французский/parent\n",
      "['parent', 'mère', 'père', 'parent', 'origine', 'tutelle', 'géniteur', 'parental', 'principale', 'initiale', 'base', 'société-mère']\n",
      "https://context.reverso.net/перевод/русский-французский/исходный\n"
     ]
    },
    {
     "name": "stderr",
     "output_type": "stream",
     "text": [
      "\r",
      " 18%|█▊        | 125/676 [10:36<45:59,  5.01s/it]"
     ]
    },
    {
     "name": "stdout",
     "output_type": "stream",
     "text": [
      "['source', 'référence']\n",
      "sense_intersect ['no_equality']\n",
      "parent вышестоящий\n",
      "https://context.reverso.net/перевод/английский-французский/parent\n",
      "['parent', 'mère', 'père', 'parent', 'origine', 'tutelle', 'géniteur', 'parental', 'principale', 'initiale', 'base', 'société-mère']\n",
      "https://context.reverso.net/перевод/русский-французский/вышестоящий\n",
      "turn to alternative marks\n"
     ]
    },
    {
     "name": "stderr",
     "output_type": "stream",
     "text": [
      "\r",
      " 19%|█▊        | 126/676 [10:41<46:17,  5.05s/it]"
     ]
    },
    {
     "name": "stdout",
     "output_type": "stream",
     "text": [
      "['supérieur', 'juridiction supérieure', 'hiérarchique', 'instance supérieure', 'notateur']\n",
      "sense_intersect ['no_equality']\n",
      "parent один из родителей\n",
      "https://context.reverso.net/перевод/английский-французский/parent\n",
      "['parent', 'mère', 'père', 'parent', 'origine', 'tutelle', 'géniteur', 'parental', 'principale', 'initiale', 'base', 'société-mère']\n",
      "https://context.reverso.net/перевод/русский-французский/один из родителей\n"
     ]
    },
    {
     "name": "stderr",
     "output_type": "stream",
     "text": [
      "\r",
      " 19%|█▉        | 127/676 [10:47<46:22,  5.07s/it]"
     ]
    },
    {
     "name": "stdout",
     "output_type": "stream",
     "text": [
      "[\"l'un des parents\", 'un parent']\n",
      "sense_intersect ['no_equality']\n",
      "ocean океан\n",
      "https://context.reverso.net/перевод/английский-французский/ocean\n",
      "['océan', 'mer', 'marin', 'large', 'océanique', 'maritime', 'océanographique', 'océane', 'atlantique', 'eau', 'marine', 'paquebot', 'plage', 'pacifique', \"ocean's\"]\n",
      "https://context.reverso.net/перевод/русский-французский/океан\n"
     ]
    },
    {
     "name": "stderr",
     "output_type": "stream",
     "text": [
      "\r",
      " 19%|█▉        | 128/676 [10:52<46:05,  5.05s/it]"
     ]
    },
    {
     "name": "stdout",
     "output_type": "stream",
     "text": [
      "['océan', 'mer', 'atlantique']\n",
      "sense_intersect ['océan', 'mer', 'atlantique']\n",
      "ocean дно океана\n",
      "https://context.reverso.net/перевод/английский-французский/ocean\n",
      "['océan', 'mer', 'marin', 'large', 'océanique', 'maritime', 'océanographique', 'océane', 'atlantique', 'eau', 'marine', 'paquebot', 'plage', 'pacifique', \"ocean's\"]\n",
      "https://context.reverso.net/перевод/русский-французский/дно океана\n",
      "turn to alternative marks\n"
     ]
    },
    {
     "name": "stderr",
     "output_type": "stream",
     "text": [
      "\r",
      " 19%|█▉        | 129/676 [10:56<45:37,  5.00s/it]"
     ]
    },
    {
     "name": "stdout",
     "output_type": "stream",
     "text": [
      "[\"fond de l'océan\", 'fond de la mer']\n",
      "sense_intersect ['no_equality']\n",
      "ocean океанский\n",
      "https://context.reverso.net/перевод/английский-французский/ocean\n",
      "['océan', 'mer', 'marin', 'large', 'océanique', 'maritime', 'océanographique', 'océane', 'atlantique', 'eau', 'marine', 'paquebot', 'plage', 'pacifique', \"ocean's\"]\n",
      "https://context.reverso.net/перевод/русский-французский/океанский\n",
      "turn to alternative marks\n"
     ]
    },
    {
     "name": "stderr",
     "output_type": "stream",
     "text": [
      "\r",
      " 19%|█▉        | 130/676 [11:02<46:27,  5.11s/it]"
     ]
    },
    {
     "name": "stdout",
     "output_type": "stream",
     "text": [
      "['ocean', 'queen']\n",
      "sense_intersect ['no_equality']\n",
      "coincidental случайный\n",
      "https://context.reverso.net/перевод/английский-французский/coincidental\n",
      "['fortuit', 'coïncidence', 'hasard']\n",
      "https://context.reverso.net/перевод/русский-французский/случайный\n",
      "turn to alternative marks\n"
     ]
    },
    {
     "name": "stderr",
     "output_type": "stream",
     "text": [
      "\r",
      " 19%|█▉        | 131/676 [11:07<46:16,  5.09s/it]"
     ]
    },
    {
     "name": "stdout",
     "output_type": "stream",
     "text": [
      "['aléatoire', 'accidentel', 'occasionnel', 'fortuit', 'hasard', 'accident', 'simple', 'accidentellement', 'importe quel', 'patrouille']\n",
      "sense_intersect ['fortuit', 'hasard']\n",
      "coincidental совпадающий\n",
      "https://context.reverso.net/перевод/английский-французский/coincidental\n",
      "['fortuit', 'coïncidence', 'hasard']\n",
      "https://context.reverso.net/перевод/русский-французский/совпадающий\n",
      "turn to alternative marks\n"
     ]
    },
    {
     "name": "stderr",
     "output_type": "stream",
     "text": [
      "\r",
      " 20%|█▉        | 132/676 [11:12<46:39,  5.15s/it]"
     ]
    },
    {
     "name": "stdout",
     "output_type": "stream",
     "text": [
      "[]\n",
      "sense_intersect ['no_equality']\n",
      "coincidental случайное совпадение\n",
      "https://context.reverso.net/перевод/английский-французский/coincidental\n",
      "['fortuit', 'coïncidence', 'hasard']\n",
      "https://context.reverso.net/перевод/русский-французский/случайное совпадение\n",
      "turn to alternative marks\n"
     ]
    },
    {
     "name": "stderr",
     "output_type": "stream",
     "text": [
      "\r",
      " 20%|█▉        | 133/676 [11:17<46:09,  5.10s/it]"
     ]
    },
    {
     "name": "stdout",
     "output_type": "stream",
     "text": [
      "['coïncidence', 'simple coïncidence', 'un hasard']\n",
      "sense_intersect ['coïncidence']\n",
      "buzzer сирена\n",
      "https://context.reverso.net/перевод/английский-французский/buzzer\n",
      "['buzzer', 'sonnette', 'vibreur', 'sonnerie', 'ronfleur', 'avertisseur sonore']\n",
      "https://context.reverso.net/перевод/русский-французский/сирена\n"
     ]
    },
    {
     "name": "stderr",
     "output_type": "stream",
     "text": [
      "\r",
      " 20%|█▉        | 134/676 [11:22<45:18,  5.02s/it]"
     ]
    },
    {
     "name": "stdout",
     "output_type": "stream",
     "text": [
      "['serena', 'sirène']\n",
      "sense_intersect ['no_equality']\n",
      "buzzer звонок\n",
      "https://context.reverso.net/перевод/английский-французский/buzzer\n",
      "['buzzer', 'sonnette', 'vibreur', 'sonnerie', 'ronfleur', 'avertisseur sonore']\n",
      "https://context.reverso.net/перевод/русский-французский/звонок\n"
     ]
    },
    {
     "name": "stderr",
     "output_type": "stream",
     "text": [
      "\r",
      " 20%|█▉        | 135/676 [11:27<45:16,  5.02s/it]"
     ]
    },
    {
     "name": "stdout",
     "output_type": "stream",
     "text": [
      "['appel', 'téléphone', 'coup de fil', 'appelé', 'sonnette', 'sonnerie', 'cloche', 'coup de téléphone', 'appelle', 'sonne', 'appeler', 'répondre', 'sonner', 'téléphoner']\n",
      "sense_intersect ['sonnette', 'sonnerie']\n",
      "buzzer пищалка\n",
      "https://context.reverso.net/перевод/английский-французский/buzzer\n",
      "['buzzer', 'sonnette', 'vibreur', 'sonnerie', 'ronfleur', 'avertisseur sonore']\n",
      "https://context.reverso.net/перевод/русский-французский/пищалка\n",
      "turn to alternative marks\n"
     ]
    },
    {
     "name": "stderr",
     "output_type": "stream",
     "text": [
      "\r",
      " 20%|██        | 136/676 [11:32<45:09,  5.02s/it]"
     ]
    },
    {
     "name": "stdout",
     "output_type": "stream",
     "text": [
      "[]\n",
      "sense_intersect ['no_equality']\n",
      "buzzer зуммерный\n",
      "https://context.reverso.net/перевод/английский-французский/buzzer\n",
      "['buzzer', 'sonnette', 'vibreur', 'sonnerie', 'ronfleur', 'avertisseur sonore']\n",
      "https://context.reverso.net/перевод/русский-французский/зуммерный\n",
      "turn to alternative marks\n"
     ]
    },
    {
     "name": "stderr",
     "output_type": "stream",
     "text": [
      "\r",
      " 20%|██        | 137/676 [11:37<44:46,  4.98s/it]"
     ]
    },
    {
     "name": "stdout",
     "output_type": "stream",
     "text": [
      "[]\n",
      "sense_intersect ['no_equality']\n",
      "dynamite динамит\n",
      "https://context.reverso.net/перевод/английский-французский/dynamite\n",
      "['dynamite', 'explosif', 'dynamiter']\n",
      "https://context.reverso.net/перевод/русский-французский/динамит\n"
     ]
    },
    {
     "name": "stderr",
     "output_type": "stream",
     "text": [
      "\r",
      " 20%|██        | 138/676 [11:42<44:55,  5.01s/it]"
     ]
    },
    {
     "name": "stdout",
     "output_type": "stream",
     "text": [
      "['dynamite']\n",
      "sense_intersect ['dynamite']\n",
      "dynamite динамитная шашка\n",
      "https://context.reverso.net/перевод/английский-французский/dynamite\n",
      "['dynamite', 'explosif', 'dynamiter']\n",
      "https://context.reverso.net/перевод/русский-французский/динамитная шашка\n",
      "turn to alternative marks\n"
     ]
    },
    {
     "name": "stderr",
     "output_type": "stream",
     "text": [
      "\r",
      " 21%|██        | 139/676 [11:47<44:57,  5.02s/it]"
     ]
    },
    {
     "name": "stdout",
     "output_type": "stream",
     "text": [
      "[]\n",
      "sense_intersect ['no_equality']\n",
      "dynamite динамитный\n",
      "https://context.reverso.net/перевод/английский-французский/dynamite\n",
      "['dynamite', 'explosif', 'dynamiter']\n",
      "https://context.reverso.net/перевод/русский-французский/динамитный\n"
     ]
    },
    {
     "name": "stderr",
     "output_type": "stream",
     "text": [
      "\r",
      " 21%|██        | 140/676 [11:52<45:36,  5.11s/it]"
     ]
    },
    {
     "name": "stdout",
     "output_type": "stream",
     "text": [
      "['dynamique']\n",
      "sense_intersect ['no_equality']\n",
      "dynamite взрывной\n",
      "https://context.reverso.net/перевод/английский-французский/dynamite\n",
      "['dynamite', 'explosif', 'dynamiter']\n",
      "https://context.reverso.net/перевод/русский-французский/взрывной\n"
     ]
    },
    {
     "name": "stderr",
     "output_type": "stream",
     "text": [
      "\r",
      " 21%|██        | 141/676 [11:57<45:30,  5.10s/it]"
     ]
    },
    {
     "name": "stdout",
     "output_type": "stream",
     "text": [
      "['explosif']\n",
      "sense_intersect ['explosif']\n",
      "buy купить\n",
      "https://context.reverso.net/перевод/английский-французский/buy\n",
      "['acheter', 'payer', 'offrir', 'racheter', 'gagner', 'acquérir', 'procurer', 'commander', 'achat', 'inviter', 'souscrire', 'se procurer', 'gober', \"s'acheter\", 'avaler', 'buy']\n",
      "https://context.reverso.net/перевод/русский-французский/купить\n"
     ]
    },
    {
     "name": "stderr",
     "output_type": "stream",
     "text": [
      "\r",
      " 21%|██        | 142/676 [12:03<45:37,  5.13s/it]"
     ]
    },
    {
     "name": "stdout",
     "output_type": "stream",
     "text": [
      "['acheter', 'offrir', 'payer', 'prendre', 'avoir', 'racheter', 'chercher', 'trouver', 'vendre', 'faire']\n",
      "sense_intersect ['acheter', 'payer', 'offrir', 'racheter']\n",
      "buy продать\n",
      "https://context.reverso.net/перевод/английский-французский/buy\n",
      "['acheter', 'payer', 'offrir', 'racheter', 'gagner', 'acquérir', 'procurer', 'commander', 'achat', 'inviter', 'souscrire', 'se procurer', 'gober', \"s'acheter\", 'avaler', 'buy']\n",
      "https://context.reverso.net/перевод/русский-французский/продать\n"
     ]
    },
    {
     "name": "stderr",
     "output_type": "stream",
     "text": [
      "\r",
      " 21%|██        | 143/676 [12:08<44:54,  5.05s/it]"
     ]
    },
    {
     "name": "stdout",
     "output_type": "stream",
     "text": [
      "['vendre', 'revendre', 'acheter', 'vente']\n",
      "sense_intersect ['acheter']\n",
      "buy накупить\n",
      "https://context.reverso.net/перевод/английский-французский/buy\n",
      "['acheter', 'payer', 'offrir', 'racheter', 'gagner', 'acquérir', 'procurer', 'commander', 'achat', 'inviter', 'souscrire', 'se procurer', 'gober', \"s'acheter\", 'avaler', 'buy']\n",
      "https://context.reverso.net/перевод/русский-французский/накупить\n",
      "turn to alternative marks\n"
     ]
    },
    {
     "name": "stderr",
     "output_type": "stream",
     "text": [
      "\r",
      " 21%|██▏       | 144/676 [12:12<44:27,  5.01s/it]"
     ]
    },
    {
     "name": "stdout",
     "output_type": "stream",
     "text": [
      "[]\n",
      "sense_intersect ['no_equality']\n",
      "buy подкупить\n",
      "https://context.reverso.net/перевод/английский-французский/buy\n",
      "['acheter', 'payer', 'offrir', 'racheter', 'gagner', 'acquérir', 'procurer', 'commander', 'achat', 'inviter', 'souscrire', 'se procurer', 'gober', \"s'acheter\", 'avaler', 'buy']\n",
      "https://context.reverso.net/перевод/русский-французский/подкупить\n"
     ]
    },
    {
     "name": "stderr",
     "output_type": "stream",
     "text": [
      "\r",
      " 21%|██▏       | 145/676 [12:18<46:46,  5.29s/it]"
     ]
    },
    {
     "name": "stdout",
     "output_type": "stream",
     "text": [
      "['acheter', 'soudoyer', 'corrompre']\n",
      "sense_intersect ['acheter']\n",
      "buy покупка\n",
      "https://context.reverso.net/перевод/английский-французский/buy\n",
      "['acheter', 'payer', 'offrir', 'racheter', 'gagner', 'acquérir', 'procurer', 'commander', 'achat', 'inviter', 'souscrire', 'se procurer', 'gober', \"s'acheter\", 'avaler', 'buy']\n",
      "https://context.reverso.net/перевод/русский-французский/покупка\n"
     ]
    },
    {
     "name": "stderr",
     "output_type": "stream",
     "text": [
      "\r",
      " 22%|██▏       | 146/676 [12:23<45:28,  5.15s/it]"
     ]
    },
    {
     "name": "stdout",
     "output_type": "stream",
     "text": [
      "['achat', 'acheter']\n",
      "sense_intersect ['acheter', 'achat']\n",
      "peremptory императивный\n",
      "https://context.reverso.net/перевод/английский-французский/peremptory\n",
      "['impérative', 'péremptoire', 'impératif', 'récusations péremptoires']\n",
      "https://context.reverso.net/перевод/русский-французский/императивный\n",
      "turn to alternative marks\n"
     ]
    },
    {
     "name": "stderr",
     "output_type": "stream",
     "text": [
      "\r",
      " 22%|██▏       | 147/676 [12:28<45:05,  5.11s/it]"
     ]
    },
    {
     "name": "stdout",
     "output_type": "stream",
     "text": [
      "['impératif', 'obligatoire', 'jus cogens', 'rende']\n",
      "sense_intersect ['impératif']\n",
      "peremptory безапелляционный\n",
      "https://context.reverso.net/перевод/английский-французский/peremptory\n",
      "['impérative', 'péremptoire', 'impératif', 'récusations péremptoires']\n",
      "https://context.reverso.net/перевод/русский-французский/безапелляционный\n",
      "turn to alternative marks\n"
     ]
    },
    {
     "name": "stderr",
     "output_type": "stream",
     "text": [
      "\r",
      " 22%|██▏       | 148/676 [12:33<45:13,  5.14s/it]"
     ]
    },
    {
     "name": "stdout",
     "output_type": "stream",
     "text": [
      "[]\n",
      "sense_intersect ['no_equality']\n",
      "member член\n",
      "https://context.reverso.net/перевод/английский-французский/member\n",
      "['membre', 'élément', 'député', 'député', 'organe', 'partie', 'collègue', 'militaire', 'pièce', 'sein', 'associé', 'adhésion', 'adhérent', 'affilié', 'affilié', 'sociétaire', 'adhérent']\n",
      "https://context.reverso.net/перевод/русский-французский/член\n"
     ]
    },
    {
     "name": "stderr",
     "output_type": "stream",
     "text": [
      "\r",
      " 22%|██▏       | 149/676 [12:39<45:26,  5.17s/it]"
     ]
    },
    {
     "name": "stdout",
     "output_type": "stream",
     "text": [
      "['membre', 'bite', 'pénis', 'queue', 'couille', 'famille', 'conseiller', 'fait partie', 'fais partie', 'député', 'commissaire', 'sucer']\n",
      "sense_intersect ['membre', 'député']\n",
      "member представитель\n",
      "https://context.reverso.net/перевод/английский-французский/member\n",
      "['membre', 'élément', 'député', 'député', 'organe', 'partie', 'collègue', 'militaire', 'pièce', 'sein', 'associé', 'adhésion', 'adhérent', 'affilié', 'affilié', 'sociétaire', 'adhérent']\n",
      "https://context.reverso.net/перевод/русский-французский/представитель\n"
     ]
    },
    {
     "name": "stderr",
     "output_type": "stream",
     "text": [
      "\r",
      " 22%|██▏       | 150/676 [12:44<44:48,  5.11s/it]"
     ]
    },
    {
     "name": "stdout",
     "output_type": "stream",
     "text": [
      "['représentant', 'représentant', 'porte-parole', 'délégué', 'membre', 'observateur', 'représente', 'ambassadeur', 'délégation', 'autre', 'agent', 'haut-représentant']\n",
      "sense_intersect ['membre']\n",
      "member элемент\n",
      "https://context.reverso.net/перевод/английский-французский/member\n",
      "['membre', 'élément', 'député', 'député', 'organe', 'partie', 'collègue', 'militaire', 'pièce', 'sein', 'associé', 'adhésion', 'adhérent', 'affilié', 'affilié', 'sociétaire', 'adhérent']\n",
      "https://context.reverso.net/перевод/русский-французский/элемент\n"
     ]
    },
    {
     "name": "stderr",
     "output_type": "stream",
     "text": [
      "\r",
      " 22%|██▏       | 151/676 [12:49<44:09,  5.05s/it]"
     ]
    },
    {
     "name": "stdout",
     "output_type": "stream",
     "text": [
      "['élément', 'entrée', 'composante', 'volet']\n",
      "sense_intersect ['élément']\n",
      "member депутат\n",
      "https://context.reverso.net/перевод/английский-французский/member\n",
      "['membre', 'élément', 'député', 'député', 'organe', 'partie', 'collègue', 'militaire', 'pièce', 'sein', 'associé', 'adhésion', 'adhérent', 'affilié', 'affilié', 'sociétaire', 'adhérent']\n",
      "https://context.reverso.net/перевод/русский-французский/депутат\n"
     ]
    },
    {
     "name": "stderr",
     "output_type": "stream",
     "text": [
      "\r",
      " 22%|██▏       | 152/676 [12:54<44:19,  5.08s/it]"
     ]
    },
    {
     "name": "stdout",
     "output_type": "stream",
     "text": [
      "['député']\n",
      "sense_intersect ['député']\n",
      "member член организации\n",
      "https://context.reverso.net/перевод/английский-французский/member\n",
      "['membre', 'élément', 'député', 'député', 'organe', 'partie', 'collègue', 'militaire', 'pièce', 'sein', 'associé', 'adhésion', 'adhérent', 'affilié', 'affilié', 'sociétaire', 'adhérent']\n",
      "https://context.reverso.net/перевод/русский-французский/член организации\n"
     ]
    },
    {
     "name": "stderr",
     "output_type": "stream",
     "text": [
      "\r",
      " 23%|██▎       | 153/676 [12:59<44:56,  5.16s/it]"
     ]
    },
    {
     "name": "stdout",
     "output_type": "stream",
     "text": [
      "['membre', 'bite', 'pénis', 'queue', 'organisation', 'organisation', 'organisme', 'organiser', 'membre']\n",
      "sense_intersect ['membre']\n",
      "member членский\n",
      "https://context.reverso.net/перевод/английский-французский/member\n",
      "['membre', 'élément', 'député', 'député', 'organe', 'partie', 'collègue', 'militaire', 'pièce', 'sein', 'associé', 'adhésion', 'adhérent', 'affilié', 'affilié', 'sociétaire', 'adhérent']\n",
      "https://context.reverso.net/перевод/русский-французский/членский\n"
     ]
    },
    {
     "name": "stderr",
     "output_type": "stream",
     "text": [
      "\r",
      " 23%|██▎       | 154/676 [13:05<45:51,  5.27s/it]"
     ]
    },
    {
     "name": "stdout",
     "output_type": "stream",
     "text": [
      "['le nombre', 'membre']\n",
      "sense_intersect ['membre']\n",
      "childhood детство\n",
      "https://context.reverso.net/перевод/английский-французский/childhood\n",
      "['enfance', 'jeunesse', 'infantile', 'childhood', 'jeune enfant', 'jeune âge', 'grandi', 'juvénile']\n",
      "https://context.reverso.net/перевод/русский-французский/детство\n"
     ]
    },
    {
     "name": "stderr",
     "output_type": "stream",
     "text": [
      "\r",
      " 23%|██▎       | 155/676 [13:10<45:00,  5.18s/it]"
     ]
    },
    {
     "name": "stdout",
     "output_type": "stream",
     "text": [
      "['enfance']\n",
      "sense_intersect ['enfance']\n",
      "childhood детский\n",
      "https://context.reverso.net/перевод/английский-французский/childhood\n",
      "['enfance', 'jeunesse', 'infantile', 'childhood', 'jeune enfant', 'jeune âge', 'grandi', 'juvénile']\n",
      "https://context.reverso.net/перевод/русский-французский/детский\n"
     ]
    },
    {
     "name": "stderr",
     "output_type": "stream",
     "text": [
      "\r",
      " 23%|██▎       | 156/676 [13:15<44:25,  5.13s/it]"
     ]
    },
    {
     "name": "stdout",
     "output_type": "stream",
     "text": [
      "['enfant', 'orphelinat']\n",
      "sense_intersect ['no_equality']\n",
      "go идти\n",
      "https://context.reverso.net/перевод/английский-французский/go\n",
      "['aller', 'partir', 'passer', 'faire', 'sortir', 'rentrer', 'retourner', 'continuer', 'monter', 'venir', 'entrer', 'voir', 'chercher', 'prendre', 'se rendre']\n",
      "https://context.reverso.net/перевод/русский-французский/идти\n"
     ]
    },
    {
     "name": "stderr",
     "output_type": "stream",
     "text": [
      "\r",
      " 23%|██▎       | 157/676 [13:19<43:54,  5.08s/it]"
     ]
    },
    {
     "name": "stdout",
     "output_type": "stream",
     "text": [
      "['aller', 'partir', 'rentrer', 'marcher', 'suivre', 'venir', 'faire', 'sortir', 'continuer', 'prendre', 'passer', 'poursuivre', 'retourner', 'filer', 'entrer', 'y aille']\n",
      "sense_intersect ['aller', 'partir', 'passer', 'faire', 'sortir', 'rentrer', 'retourner', 'continuer', 'venir', 'entrer', 'prendre']\n",
      "go проходить\n",
      "https://context.reverso.net/перевод/английский-французский/go\n",
      "['aller', 'partir', 'passer', 'faire', 'sortir', 'rentrer', 'retourner', 'continuer', 'monter', 'venir', 'entrer', 'voir', 'chercher', 'prendre', 'se rendre']\n",
      "https://context.reverso.net/перевод/русский-французский/проходить\n"
     ]
    },
    {
     "name": "stderr",
     "output_type": "stream",
     "text": [
      "\r",
      " 23%|██▎       | 158/676 [13:24<43:12,  5.00s/it]"
     ]
    },
    {
     "name": "stdout",
     "output_type": "stream",
     "text": [
      "['passer', 'suivre', 'traverser', 'avoir lieu', 'se tenir', 'se faire', 'se dérouler', 'recevoir', 'se tiendra', 'se dérouleront', 'se déroulera']\n",
      "sense_intersect ['passer']\n",
      "go ехать\n",
      "https://context.reverso.net/перевод/английский-французский/go\n",
      "['aller', 'partir', 'passer', 'faire', 'sortir', 'rentrer', 'retourner', 'continuer', 'monter', 'venir', 'entrer', 'voir', 'chercher', 'prendre', 'se rendre']\n",
      "https://context.reverso.net/перевод/русский-французский/ехать\n"
     ]
    },
    {
     "name": "stderr",
     "output_type": "stream",
     "text": [
      "\r",
      " 24%|██▎       | 159/676 [13:29<42:55,  4.98s/it]"
     ]
    },
    {
     "name": "stdout",
     "output_type": "stream",
     "text": [
      "['aller', 'partir', 'venir', 'rentrer', 'conduire', 'voyager', 'rouler', 'retourner', 'continuer', 'monter', 'route']\n",
      "sense_intersect ['aller', 'partir', 'rentrer', 'retourner', 'continuer', 'monter', 'venir']\n",
      "go отправиться\n",
      "https://context.reverso.net/перевод/английский-французский/go\n",
      "['aller', 'partir', 'passer', 'faire', 'sortir', 'rentrer', 'retourner', 'continuer', 'monter', 'venir', 'entrer', 'voir', 'chercher', 'prendre', 'se rendre']\n",
      "https://context.reverso.net/перевод/русский-французский/отправиться\n"
     ]
    },
    {
     "name": "stderr",
     "output_type": "stream",
     "text": [
      "\r",
      " 24%|██▎       | 160/676 [13:35<45:01,  5.24s/it]"
     ]
    },
    {
     "name": "stdout",
     "output_type": "stream",
     "text": [
      "['aller', 'partir', 'rentrer', 'voyager', 'se rendre', 'retourner', 'venir', 'faire']\n",
      "sense_intersect ['aller', 'partir', 'faire', 'rentrer', 'retourner', 'venir', 'se rendre']\n",
      "go перейти\n",
      "https://context.reverso.net/перевод/английский-французский/go\n",
      "['aller', 'partir', 'passer', 'faire', 'sortir', 'rentrer', 'retourner', 'continuer', 'monter', 'venir', 'entrer', 'voir', 'chercher', 'prendre', 'se rendre']\n",
      "https://context.reverso.net/перевод/русский-французский/перейти\n"
     ]
    },
    {
     "name": "stderr",
     "output_type": "stream",
     "text": [
      "\r",
      " 24%|██▍       | 161/676 [13:40<44:46,  5.22s/it]"
     ]
    },
    {
     "name": "stdout",
     "output_type": "stream",
     "text": [
      "['passer', 'aller', 'traverser', 'franchir', 'aborder', 'adopter', 'changer', 'procéder']\n",
      "sense_intersect ['aller', 'passer']\n",
      "go происходить\n",
      "https://context.reverso.net/перевод/английский-французский/go\n",
      "['aller', 'partir', 'passer', 'faire', 'sortir', 'rentrer', 'retourner', 'continuer', 'monter', 'venir', 'entrer', 'voir', 'chercher', 'prendre', 'se rendre']\n",
      "https://context.reverso.net/перевод/русский-французский/происходить\n"
     ]
    },
    {
     "name": "stderr",
     "output_type": "stream",
     "text": [
      "\r",
      " 24%|██▍       | 162/676 [13:45<44:29,  5.19s/it]"
     ]
    },
    {
     "name": "stdout",
     "output_type": "stream",
     "text": [
      "['se produire', 'arriver', 'se passer', 'se faire', 'avoir lieu']\n",
      "sense_intersect ['no_equality']\n",
      "plate пластина\n",
      "https://context.reverso.net/перевод/английский-французский/plate\n",
      "['plaque', 'plateau', 'assiette', 'tôle', 'plat', 'platine', 'plaquette', 'disque', 'plaquer', 'plate', 'panneau', 'planche', 'lame', 'immatriculation', 'dalle', 'cliché']\n",
      "https://context.reverso.net/перевод/русский-французский/пластина\n",
      "turn to alternative marks\n"
     ]
    },
    {
     "name": "stderr",
     "output_type": "stream",
     "text": [
      "\r",
      " 24%|██▍       | 163/676 [13:50<43:42,  5.11s/it]"
     ]
    },
    {
     "name": "stdout",
     "output_type": "stream",
     "text": [
      "['plaque', 'planche', 'chewing-gum', 'titane']\n",
      "sense_intersect ['plaque', 'planche']\n",
      "plate плита\n",
      "https://context.reverso.net/перевод/английский-французский/plate\n",
      "['plaque', 'plateau', 'assiette', 'tôle', 'plat', 'platine', 'plaquette', 'disque', 'plaquer', 'plate', 'panneau', 'planche', 'lame', 'immatriculation', 'dalle', 'cliché']\n",
      "https://context.reverso.net/перевод/русский-французский/плита\n"
     ]
    },
    {
     "name": "stderr",
     "output_type": "stream",
     "text": [
      "\r",
      " 24%|██▍       | 164/676 [13:55<43:01,  5.04s/it]"
     ]
    },
    {
     "name": "stdout",
     "output_type": "stream",
     "text": [
      "['cuisinière']\n",
      "sense_intersect ['no_equality']\n",
      "plate тарелка\n",
      "https://context.reverso.net/перевод/английский-французский/plate\n",
      "['plaque', 'plateau', 'assiette', 'tôle', 'plat', 'platine', 'plaquette', 'disque', 'plaquer', 'plate', 'panneau', 'planche', 'lame', 'immatriculation', 'dalle', 'cliché']\n",
      "https://context.reverso.net/перевод/русский-французский/тарелка\n"
     ]
    },
    {
     "name": "stderr",
     "output_type": "stream",
     "text": [
      "\r",
      " 24%|██▍       | 165/676 [14:00<42:45,  5.02s/it]"
     ]
    },
    {
     "name": "stdout",
     "output_type": "stream",
     "text": [
      "['assiette']\n",
      "sense_intersect ['assiette']\n",
      "plate лист\n",
      "https://context.reverso.net/перевод/английский-французский/plate\n",
      "['plaque', 'plateau', 'assiette', 'tôle', 'plat', 'platine', 'plaquette', 'disque', 'plaquer', 'plate', 'panneau', 'planche', 'lame', 'immatriculation', 'dalle', 'cliché']\n",
      "https://context.reverso.net/перевод/русский-французский/лист\n"
     ]
    },
    {
     "name": "stderr",
     "output_type": "stream",
     "text": [
      "\r",
      " 25%|██▍       | 166/676 [14:05<42:43,  5.03s/it]"
     ]
    },
    {
     "name": "stdout",
     "output_type": "stream",
     "text": [
      "['feuille', 'liste', 'papier']\n",
      "sense_intersect ['no_equality']\n",
      "plate номерной знак\n",
      "https://context.reverso.net/перевод/английский-французский/plate\n",
      "['plaque', 'plateau', 'assiette', 'tôle', 'plat', 'platine', 'plaquette', 'disque', 'plaquer', 'plate', 'panneau', 'planche', 'lame', 'immatriculation', 'dalle', 'cliché']\n",
      "https://context.reverso.net/перевод/русский-французский/номерной знак\n"
     ]
    },
    {
     "name": "stderr",
     "output_type": "stream",
     "text": [
      "\r",
      " 25%|██▍       | 167/676 [14:10<42:45,  5.04s/it]"
     ]
    },
    {
     "name": "stdout",
     "output_type": "stream",
     "text": [
      "[\"plaque d'immatriculation\"]\n",
      "sense_intersect ['no_equality']\n",
      "plate дощечка\n",
      "https://context.reverso.net/перевод/английский-французский/plate\n",
      "['plaque', 'plateau', 'assiette', 'tôle', 'plat', 'platine', 'plaquette', 'disque', 'plaquer', 'plate', 'panneau', 'planche', 'lame', 'immatriculation', 'dalle', 'cliché']\n",
      "https://context.reverso.net/перевод/русский-французский/дощечка\n",
      "turn to alternative marks\n"
     ]
    },
    {
     "name": "stderr",
     "output_type": "stream",
     "text": [
      "\r",
      " 25%|██▍       | 168/676 [14:15<42:10,  4.98s/it]"
     ]
    },
    {
     "name": "stdout",
     "output_type": "stream",
     "text": [
      "['tablette']\n",
      "sense_intersect ['no_equality']\n",
      "plate панель\n",
      "https://context.reverso.net/перевод/английский-французский/plate\n",
      "['plaque', 'plateau', 'assiette', 'tôle', 'plat', 'platine', 'plaquette', 'disque', 'plaquer', 'plate', 'panneau', 'planche', 'lame', 'immatriculation', 'dalle', 'cliché']\n",
      "https://context.reverso.net/перевод/русский-французский/панель\n"
     ]
    },
    {
     "name": "stderr",
     "output_type": "stream",
     "text": [
      "\r",
      " 25%|██▌       | 169/676 [14:20<42:03,  4.98s/it]"
     ]
    },
    {
     "name": "stdout",
     "output_type": "stream",
     "text": [
      "['panneau', 'barre']\n",
      "sense_intersect ['panneau']\n",
      "plate накладка\n",
      "https://context.reverso.net/перевод/английский-французский/plate\n",
      "['plaque', 'plateau', 'assiette', 'tôle', 'plat', 'platine', 'plaquette', 'disque', 'plaquer', 'plate', 'panneau', 'planche', 'lame', 'immatriculation', 'dalle', 'cliché']\n",
      "https://context.reverso.net/перевод/русский-французский/накладка\n",
      "turn to alternative marks\n"
     ]
    },
    {
     "name": "stderr",
     "output_type": "stream",
     "text": [
      "\r",
      " 25%|██▌       | 170/676 [14:25<42:26,  5.03s/it]"
     ]
    },
    {
     "name": "stdout",
     "output_type": "stream",
     "text": [
      "[]\n",
      "sense_intersect ['no_equality']\n",
      "plate платформа\n",
      "https://context.reverso.net/перевод/английский-французский/plate\n",
      "['plaque', 'plateau', 'assiette', 'tôle', 'plat', 'platine', 'plaquette', 'disque', 'plaquer', 'plate', 'panneau', 'planche', 'lame', 'immatriculation', 'dalle', 'cliché']\n",
      "https://context.reverso.net/перевод/русский-французский/платформа\n"
     ]
    },
    {
     "name": "stderr",
     "output_type": "stream",
     "text": [
      "\r",
      " 25%|██▌       | 171/676 [14:30<42:01,  4.99s/it]"
     ]
    },
    {
     "name": "stdout",
     "output_type": "stream",
     "text": [
      "['plate-forme', 'programme', 'plateforme', 'cadre']\n",
      "sense_intersect ['no_equality']\n",
      "plate стяжка\n",
      "https://context.reverso.net/перевод/английский-французский/plate\n",
      "['plaque', 'plateau', 'assiette', 'tôle', 'plat', 'platine', 'plaquette', 'disque', 'plaquer', 'plate', 'panneau', 'planche', 'lame', 'immatriculation', 'dalle', 'cliché']\n",
      "https://context.reverso.net/перевод/русский-французский/стяжка\n",
      "turn to alternative marks\n"
     ]
    },
    {
     "name": "stderr",
     "output_type": "stream",
     "text": [
      "\r",
      " 25%|██▌       | 172/676 [14:35<41:51,  4.98s/it]"
     ]
    },
    {
     "name": "stdout",
     "output_type": "stream",
     "text": [
      "[]\n",
      "sense_intersect ['no_equality']\n",
      "plate бляха\n",
      "https://context.reverso.net/перевод/английский-французский/plate\n",
      "['plaque', 'plateau', 'assiette', 'tôle', 'plat', 'platine', 'plaquette', 'disque', 'plaquer', 'plate', 'panneau', 'planche', 'lame', 'immatriculation', 'dalle', 'cliché']\n",
      "https://context.reverso.net/перевод/русский-французский/бляха\n",
      "turn to alternative marks\n"
     ]
    },
    {
     "name": "stderr",
     "output_type": "stream",
     "text": [
      "\r",
      " 26%|██▌       | 173/676 [14:40<41:54,  5.00s/it]"
     ]
    },
    {
     "name": "stdout",
     "output_type": "stream",
     "text": [
      "['plaque']\n",
      "sense_intersect ['plaque']\n",
      "plate толстый лист\n",
      "https://context.reverso.net/перевод/английский-французский/plate\n",
      "['plaque', 'plateau', 'assiette', 'tôle', 'plat', 'platine', 'plaquette', 'disque', 'plaquer', 'plate', 'panneau', 'planche', 'lame', 'immatriculation', 'dalle', 'cliché']\n",
      "https://context.reverso.net/перевод/русский-французский/толстый лист\n"
     ]
    },
    {
     "name": "stderr",
     "output_type": "stream",
     "text": [
      "\r",
      " 26%|██▌       | 174/676 [14:45<42:09,  5.04s/it]"
     ]
    },
    {
     "name": "stdout",
     "output_type": "stream",
     "text": [
      "['gros', 'épais', 'obèse', 'gras', 'corpulent', 'feuille', 'liste', 'papier', 'questionnaire', 'list']\n",
      "sense_intersect ['no_equality']\n",
      "plate листовой\n",
      "https://context.reverso.net/перевод/английский-французский/plate\n",
      "['plaque', 'plateau', 'assiette', 'tôle', 'plat', 'platine', 'plaquette', 'disque', 'plaquer', 'plate', 'panneau', 'planche', 'lame', 'immatriculation', 'dalle', 'cliché']\n",
      "https://context.reverso.net/перевод/русский-французский/листовой\n",
      "turn to alternative marks\n"
     ]
    },
    {
     "name": "stderr",
     "output_type": "stream",
     "text": [
      "\r",
      " 26%|██▌       | 175/676 [14:50<41:33,  4.98s/it]"
     ]
    },
    {
     "name": "stdout",
     "output_type": "stream",
     "text": [
      "['foliaire', 'feuillage', 'au chou']\n",
      "sense_intersect ['no_equality']\n",
      "plate пластинчатый\n",
      "https://context.reverso.net/перевод/английский-французский/plate\n",
      "['plaque', 'plateau', 'assiette', 'tôle', 'plat', 'platine', 'plaquette', 'disque', 'plaquer', 'plate', 'panneau', 'planche', 'lame', 'immatriculation', 'dalle', 'cliché']\n",
      "https://context.reverso.net/перевод/русский-французский/пластинчатый\n",
      "turn to alternative marks\n"
     ]
    },
    {
     "name": "stderr",
     "output_type": "stream",
     "text": [
      "\r",
      " 26%|██▌       | 176/676 [14:55<41:19,  4.96s/it]"
     ]
    },
    {
     "name": "stdout",
     "output_type": "stream",
     "text": [
      "[]\n",
      "sense_intersect ['no_equality']\n",
      "fish рыба\n",
      "https://context.reverso.net/перевод/английский-французский/fish\n",
      "['poisson', 'pêche', 'piscicole', 'halieutique', 'poissonnier', 'morue', 'pêcher', 'aquatique', 'fish', 'pisciculture', 'pêcheur', 'thon', 'aquarium', 'mer']\n",
      "https://context.reverso.net/перевод/русский-французский/рыба\n"
     ]
    },
    {
     "name": "stderr",
     "output_type": "stream",
     "text": [
      "\r",
      " 26%|██▌       | 177/676 [15:00<41:01,  4.93s/it]"
     ]
    },
    {
     "name": "stdout",
     "output_type": "stream",
     "text": [
      "['poisson']\n",
      "sense_intersect ['poisson']\n",
      "fish Фиш\n",
      "https://context.reverso.net/перевод/английский-французский/fish\n",
      "['poisson', 'pêche', 'piscicole', 'halieutique', 'poissonnier', 'morue', 'pêcher', 'aquatique', 'fish', 'pisciculture', 'pêcheur', 'thon', 'aquarium', 'mer']\n",
      "https://context.reverso.net/перевод/русский-французский/Фиш\n"
     ]
    },
    {
     "name": "stderr",
     "output_type": "stream",
     "text": [
      "\r",
      " 26%|██▋       | 178/676 [15:05<40:51,  4.92s/it]"
     ]
    },
    {
     "name": "stdout",
     "output_type": "stream",
     "text": [
      "['fish']\n",
      "sense_intersect ['fish']\n",
      "fish рыбный\n",
      "https://context.reverso.net/перевод/английский-французский/fish\n",
      "['poisson', 'pêche', 'piscicole', 'halieutique', 'poissonnier', 'morue', 'pêcher', 'aquatique', 'fish', 'pisciculture', 'pêcheur', 'thon', 'aquarium', 'mer']\n",
      "https://context.reverso.net/перевод/русский-французский/рыбный\n",
      "turn to alternative marks\n"
     ]
    },
    {
     "name": "stderr",
     "output_type": "stream",
     "text": [
      "\r",
      " 26%|██▋       | 179/676 [15:10<41:00,  4.95s/it]"
     ]
    },
    {
     "name": "stdout",
     "output_type": "stream",
     "text": [
      "['de poisson', 'poisson', 'fish', 'poissonnerie', 'hauturière', 'fishy']\n",
      "sense_intersect ['poisson', 'fish']\n",
      "fish ловить рыбу\n",
      "https://context.reverso.net/перевод/английский-французский/fish\n",
      "['poisson', 'pêche', 'piscicole', 'halieutique', 'poissonnier', 'morue', 'pêcher', 'aquatique', 'fish', 'pisciculture', 'pêcheur', 'thon', 'aquarium', 'mer']\n",
      "https://context.reverso.net/перевод/русский-французский/ловить рыбу\n"
     ]
    },
    {
     "name": "stderr",
     "output_type": "stream",
     "text": [
      "\r",
      " 27%|██▋       | 180/676 [15:15<40:52,  4.94s/it]"
     ]
    },
    {
     "name": "stdout",
     "output_type": "stream",
     "text": [
      "['pêcher']\n",
      "sense_intersect ['pêcher']\n",
      "fish удить\n",
      "https://context.reverso.net/перевод/английский-французский/fish\n",
      "['poisson', 'pêche', 'piscicole', 'halieutique', 'poissonnier', 'morue', 'pêcher', 'aquatique', 'fish', 'pisciculture', 'pêcheur', 'thon', 'aquarium', 'mer']\n",
      "https://context.reverso.net/перевод/русский-французский/удить\n",
      "turn to alternative marks\n"
     ]
    },
    {
     "name": "stderr",
     "output_type": "stream",
     "text": [
      "\r",
      " 27%|██▋       | 181/676 [15:20<40:31,  4.91s/it]"
     ]
    },
    {
     "name": "stdout",
     "output_type": "stream",
     "text": [
      "[]\n",
      "sense_intersect ['no_equality']\n",
      "fish выудить\n",
      "https://context.reverso.net/перевод/английский-французский/fish\n",
      "['poisson', 'pêche', 'piscicole', 'halieutique', 'poissonnier', 'morue', 'pêcher', 'aquatique', 'fish', 'pisciculture', 'pêcheur', 'thon', 'aquarium', 'mer']\n",
      "https://context.reverso.net/перевод/русский-французский/выудить\n",
      "turn to alternative marks\n"
     ]
    },
    {
     "name": "stderr",
     "output_type": "stream",
     "text": [
      "\r",
      " 27%|██▋       | 182/676 [15:25<40:33,  4.93s/it]"
     ]
    },
    {
     "name": "stdout",
     "output_type": "stream",
     "text": [
      "['me soutirer', 'padiche']\n",
      "sense_intersect ['no_equality']\n",
      "stand стоять\n",
      "https://context.reverso.net/перевод/английский-французский/stand\n",
      "['stand', 'position', 'support', 'barre', 'peuplement', 'socle', 'pied', 'parole', 'rester', 'supporter', 'être', 'se tenir', 'se lever', 'reposer', 'résister', 'tenir debout', 'se tenir debout', 'mettre', 'tribune', 'se dresser', 'tolérer', 'être debout', 'béquille', 'blairer', 'station']\n",
      "https://context.reverso.net/перевод/русский-французский/стоять\n"
     ]
    },
    {
     "name": "stderr",
     "output_type": "stream",
     "text": [
      "\r",
      " 27%|██▋       | 183/676 [15:30<42:08,  5.13s/it]"
     ]
    },
    {
     "name": "stdout",
     "output_type": "stream",
     "text": [
      "['rester', 'se tenir', 'tenir debout', 'attendre', 'me tenir']\n",
      "sense_intersect ['rester', 'se tenir', 'tenir debout']\n",
      "stand устоять\n",
      "https://context.reverso.net/перевод/английский-французский/stand\n",
      "['stand', 'position', 'support', 'barre', 'peuplement', 'socle', 'pied', 'parole', 'rester', 'supporter', 'être', 'se tenir', 'se lever', 'reposer', 'résister', 'tenir debout', 'se tenir debout', 'mettre', 'tribune', 'se dresser', 'tolérer', 'être debout', 'béquille', 'blairer', 'station']\n",
      "https://context.reverso.net/перевод/русский-французский/устоять\n"
     ]
    },
    {
     "name": "stderr",
     "output_type": "stream",
     "text": [
      "\r",
      " 27%|██▋       | 184/676 [15:35<41:58,  5.12s/it]"
     ]
    },
    {
     "name": "stdout",
     "output_type": "stream",
     "text": [
      "['résister']\n",
      "sense_intersect ['résister']\n",
      "stand выдерживать\n",
      "https://context.reverso.net/перевод/английский-французский/stand\n",
      "['stand', 'position', 'support', 'barre', 'peuplement', 'socle', 'pied', 'parole', 'rester', 'supporter', 'être', 'se tenir', 'se lever', 'reposer', 'résister', 'tenir debout', 'se tenir debout', 'mettre', 'tribune', 'se dresser', 'tolérer', 'être debout', 'béquille', 'blairer', 'station']\n",
      "https://context.reverso.net/перевод/русский-французский/выдерживать\n"
     ]
    },
    {
     "name": "stderr",
     "output_type": "stream",
     "text": [
      "\r",
      " 27%|██▋       | 185/676 [15:40<41:33,  5.08s/it]"
     ]
    },
    {
     "name": "stdout",
     "output_type": "stream",
     "text": [
      "['supporter']\n",
      "sense_intersect ['supporter']\n",
      "stand отстаивать\n",
      "https://context.reverso.net/перевод/английский-французский/stand\n",
      "['stand', 'position', 'support', 'barre', 'peuplement', 'socle', 'pied', 'parole', 'rester', 'supporter', 'être', 'se tenir', 'se lever', 'reposer', 'résister', 'tenir debout', 'se tenir debout', 'mettre', 'tribune', 'se dresser', 'tolérer', 'être debout', 'béquille', 'blairer', 'station']\n",
      "https://context.reverso.net/перевод/русский-французский/отстаивать\n"
     ]
    },
    {
     "name": "stderr",
     "output_type": "stream",
     "text": [
      "\r",
      " 28%|██▊       | 186/676 [15:45<40:57,  5.01s/it]"
     ]
    },
    {
     "name": "stdout",
     "output_type": "stream",
     "text": [
      "['défendre', 'faire valoir', 'protéger']\n",
      "sense_intersect ['no_equality']\n",
      "stand выступать\n",
      "https://context.reverso.net/перевод/английский-французский/stand\n",
      "['stand', 'position', 'support', 'barre', 'peuplement', 'socle', 'pied', 'parole', 'rester', 'supporter', 'être', 'se tenir', 'se lever', 'reposer', 'résister', 'tenir debout', 'se tenir debout', 'mettre', 'tribune', 'se dresser', 'tolérer', 'être debout', 'béquille', 'blairer', 'station']\n",
      "https://context.reverso.net/перевод/русский-французский/выступать\n"
     ]
    },
    {
     "name": "stderr",
     "output_type": "stream",
     "text": [
      "\r",
      " 28%|██▊       | 187/676 [15:50<40:36,  4.98s/it]"
     ]
    },
    {
     "name": "stdout",
     "output_type": "stream",
     "text": [
      "['parler', 'jouer', 'agir', 'servir', 'intervenir', 'constituer', \"s'exprimer\", 'présenter']\n",
      "sense_intersect ['no_equality']\n",
      "stand остановиться\n",
      "https://context.reverso.net/перевод/английский-французский/stand\n",
      "['stand', 'position', 'support', 'barre', 'peuplement', 'socle', 'pied', 'parole', 'rester', 'supporter', 'être', 'se tenir', 'se lever', 'reposer', 'résister', 'tenir debout', 'se tenir debout', 'mettre', 'tribune', 'se dresser', 'tolérer', 'être debout', 'béquille', 'blairer', 'station']\n",
      "https://context.reverso.net/перевод/русский-французский/остановиться\n"
     ]
    },
    {
     "name": "stderr",
     "output_type": "stream",
     "text": [
      "\r",
      " 28%|██▊       | 188/676 [15:55<40:34,  4.99s/it]"
     ]
    },
    {
     "name": "stdout",
     "output_type": "stream",
     "text": [
      "[\"s'arrêter\", 'rester', 'aborder', 'évoquer', 'souligner', 'empêcher', 'dormir', 'loger', \"m'arrêter\", \"s'arrête\", 'parler']\n",
      "sense_intersect ['rester']\n",
      "stand предстать\n",
      "https://context.reverso.net/перевод/английский-французский/stand\n",
      "['stand', 'position', 'support', 'barre', 'peuplement', 'socle', 'pied', 'parole', 'rester', 'supporter', 'être', 'se tenir', 'se lever', 'reposer', 'résister', 'tenir debout', 'se tenir debout', 'mettre', 'tribune', 'se dresser', 'tolérer', 'être debout', 'béquille', 'blairer', 'station']\n",
      "https://context.reverso.net/перевод/русский-французский/предстать\n"
     ]
    },
    {
     "name": "stderr",
     "output_type": "stream",
     "text": [
      "\r",
      " 28%|██▊       | 189/676 [16:00<41:15,  5.08s/it]"
     ]
    },
    {
     "name": "stdout",
     "output_type": "stream",
     "text": [
      "['comparaître']\n",
      "sense_intersect ['no_equality']\n",
      "stand остаться\n",
      "https://context.reverso.net/перевод/английский-французский/stand\n",
      "['stand', 'position', 'support', 'barre', 'peuplement', 'socle', 'pied', 'parole', 'rester', 'supporter', 'être', 'se tenir', 'se lever', 'reposer', 'résister', 'tenir debout', 'se tenir debout', 'mettre', 'tribune', 'se dresser', 'tolérer', 'être debout', 'béquille', 'blairer', 'station']\n",
      "https://context.reverso.net/перевод/русский-французский/остаться\n"
     ]
    },
    {
     "name": "stderr",
     "output_type": "stream",
     "text": [
      "\r",
      " 28%|██▊       | 190/676 [16:05<41:14,  5.09s/it]"
     ]
    },
    {
     "name": "stdout",
     "output_type": "stream",
     "text": [
      "['rester', 'garder', 'passer', 'dormir', 'vivre', 'demeurer', 'installer', 'avoir', 'partir']\n",
      "sense_intersect ['rester']\n",
      "stand замереть\n",
      "https://context.reverso.net/перевод/английский-французский/stand\n",
      "['stand', 'position', 'support', 'barre', 'peuplement', 'socle', 'pied', 'parole', 'rester', 'supporter', 'être', 'se tenir', 'se lever', 'reposer', 'résister', 'tenir debout', 'se tenir debout', 'mettre', 'tribune', 'se dresser', 'tolérer', 'être debout', 'béquille', 'blairer', 'station']\n",
      "https://context.reverso.net/перевод/русский-французский/замереть\n",
      "turn to alternative marks\n"
     ]
    },
    {
     "name": "stderr",
     "output_type": "stream",
     "text": [
      "\r",
      " 28%|██▊       | 191/676 [16:10<40:58,  5.07s/it]"
     ]
    },
    {
     "name": "stdout",
     "output_type": "stream",
     "text": [
      "['pas bouger']\n",
      "sense_intersect ['no_equality']\n",
      "stand стенд\n",
      "https://context.reverso.net/перевод/английский-французский/stand\n",
      "['stand', 'position', 'support', 'barre', 'peuplement', 'socle', 'pied', 'parole', 'rester', 'supporter', 'être', 'se tenir', 'se lever', 'reposer', 'résister', 'tenir debout', 'se tenir debout', 'mettre', 'tribune', 'se dresser', 'tolérer', 'être debout', 'béquille', 'blairer', 'station']\n",
      "https://context.reverso.net/перевод/русский-французский/стенд\n"
     ]
    },
    {
     "name": "stderr",
     "output_type": "stream",
     "text": [
      "\r",
      " 28%|██▊       | 192/676 [16:15<40:20,  5.00s/it]"
     ]
    },
    {
     "name": "stdout",
     "output_type": "stream",
     "text": [
      "['stand']\n",
      "sense_intersect ['stand']\n",
      "stand подставка\n",
      "https://context.reverso.net/перевод/английский-французский/stand\n",
      "['stand', 'position', 'support', 'barre', 'peuplement', 'socle', 'pied', 'parole', 'rester', 'supporter', 'être', 'se tenir', 'se lever', 'reposer', 'résister', 'tenir debout', 'se tenir debout', 'mettre', 'tribune', 'se dresser', 'tolérer', 'être debout', 'béquille', 'blairer', 'station']\n",
      "https://context.reverso.net/перевод/русский-французский/подставка\n",
      "turn to alternative marks\n"
     ]
    },
    {
     "name": "stderr",
     "output_type": "stream",
     "text": [
      "\r",
      " 29%|██▊       | 193/676 [16:20<40:40,  5.05s/it]"
     ]
    },
    {
     "name": "stdout",
     "output_type": "stream",
     "text": [
      "['support', 'plumier', 'un dessous']\n",
      "sense_intersect ['support']\n",
      "stand позиция\n",
      "https://context.reverso.net/перевод/английский-французский/stand\n",
      "['stand', 'position', 'support', 'barre', 'peuplement', 'socle', 'pied', 'parole', 'rester', 'supporter', 'être', 'se tenir', 'se lever', 'reposer', 'résister', 'tenir debout', 'se tenir debout', 'mettre', 'tribune', 'se dresser', 'tolérer', 'être debout', 'béquille', 'blairer', 'station']\n",
      "https://context.reverso.net/перевод/русский-французский/позиция\n"
     ]
    },
    {
     "name": "stderr",
     "output_type": "stream",
     "text": [
      "\r",
      " 29%|██▊       | 194/676 [16:25<40:24,  5.03s/it]"
     ]
    },
    {
     "name": "stdout",
     "output_type": "stream",
     "text": [
      "['position', 'attitude', 'rubrique', 'poste']\n",
      "sense_intersect ['position']\n",
      "stand трибуна\n",
      "https://context.reverso.net/перевод/английский-французский/stand\n",
      "['stand', 'position', 'support', 'barre', 'peuplement', 'socle', 'pied', 'parole', 'rester', 'supporter', 'être', 'se tenir', 'se lever', 'reposer', 'résister', 'tenir debout', 'se tenir debout', 'mettre', 'tribune', 'se dresser', 'tolérer', 'être debout', 'béquille', 'blairer', 'station']\n",
      "https://context.reverso.net/перевод/русский-французский/трибуна\n",
      "turn to alternative marks\n"
     ]
    },
    {
     "name": "stderr",
     "output_type": "stream",
     "text": [
      "\r",
      " 29%|██▉       | 195/676 [16:30<39:51,  4.97s/it]"
     ]
    },
    {
     "name": "stdout",
     "output_type": "stream",
     "text": [
      "['tribune', 'tribun']\n",
      "sense_intersect ['tribune']\n",
      "precedent прецедент\n",
      "https://context.reverso.net/перевод/английский-французский/precedent\n",
      "['précédent', 'jurisprudence', 'antécédent', 'exemple', 'précédente']\n",
      "https://context.reverso.net/перевод/русский-французский/прецедент\n"
     ]
    },
    {
     "name": "stderr",
     "output_type": "stream",
     "text": [
      "\r",
      " 29%|██▉       | 196/676 [16:35<40:21,  5.04s/it]"
     ]
    },
    {
     "name": "stdout",
     "output_type": "stream",
     "text": [
      "['précédent', 'jurisprudence']\n",
      "sense_intersect ['précédent', 'jurisprudence']\n",
      "precedent предыдущий\n",
      "https://context.reverso.net/перевод/английский-французский/precedent\n",
      "['précédent', 'jurisprudence', 'antécédent', 'exemple', 'précédente']\n",
      "https://context.reverso.net/перевод/русский-французский/предыдущий\n"
     ]
    },
    {
     "name": "stderr",
     "output_type": "stream",
     "text": [
      "\r",
      " 29%|██▉       | 197/676 [16:40<39:56,  5.00s/it]"
     ]
    },
    {
     "name": "stdout",
     "output_type": "stream",
     "text": [
      "['précédent', 'dernier', 'antérieur', \"l'ancien\"]\n",
      "sense_intersect ['précédent']\n",
      "precedent прецедентный\n",
      "https://context.reverso.net/перевод/английский-французский/precedent\n",
      "['précédent', 'jurisprudence', 'antécédent', 'exemple', 'précédente']\n",
      "https://context.reverso.net/перевод/русский-французский/прецедентный\n",
      "turn to alternative marks\n"
     ]
    },
    {
     "name": "stderr",
     "output_type": "stream",
     "text": [
      "\r",
      " 29%|██▉       | 198/676 [16:46<40:43,  5.11s/it]"
     ]
    },
    {
     "name": "stdout",
     "output_type": "stream",
     "text": [
      "[]\n",
      "sense_intersect ['no_equality']\n",
      "precedent предшествующий\n",
      "https://context.reverso.net/перевод/английский-французский/precedent\n",
      "['précédent', 'jurisprudence', 'antécédent', 'exemple', 'précédente']\n",
      "https://context.reverso.net/перевод/русский-французский/предшествующий\n"
     ]
    },
    {
     "name": "stderr",
     "output_type": "stream",
     "text": [
      "\r",
      " 29%|██▉       | 199/676 [16:51<40:14,  5.06s/it]"
     ]
    },
    {
     "name": "stdout",
     "output_type": "stream",
     "text": [
      "['avant', 'précédent', 'précédant']\n",
      "sense_intersect ['précédent']\n",
      "issue вопрос\n",
      "https://context.reverso.net/перевод/английский-французский/issue\n",
      "['question', 'problème', 'sujet', 'numéro', 'dossier', 'enjeu', 'point', 'émission', 'délivrer', 'émettre', 'publier', 'donner', 'fournir', 'promulguer', 'édicter', 'décerner', 'délivrance', 'thème', 'cause', 'problématique', 'matière', 'édition', 'publication', 'sortie', 'distribuer']\n",
      "https://context.reverso.net/перевод/русский-французский/вопрос\n"
     ]
    },
    {
     "name": "stderr",
     "output_type": "stream",
     "text": [
      "\r",
      " 30%|██▉       | 200/676 [16:56<39:45,  5.01s/it]"
     ]
    },
    {
     "name": "stdout",
     "output_type": "stream",
     "text": [
      "['question', 'problème', 'demande', 'point', 'sujet', 'savoir', 'réponse', 'affaire', 'posée', 'débat', 'thème', 'chose', 'aspect', 'doute', 'interrogation', 'agit']\n",
      "sense_intersect ['question', 'problème', 'sujet', 'point', 'thème']\n",
      "issue выпуск\n",
      "https://context.reverso.net/перевод/английский-французский/issue\n",
      "['question', 'problème', 'sujet', 'numéro', 'dossier', 'enjeu', 'point', 'émission', 'délivrer', 'émettre', 'publier', 'donner', 'fournir', 'promulguer', 'édicter', 'décerner', 'délivrance', 'thème', 'cause', 'problématique', 'matière', 'édition', 'publication', 'sortie', 'distribuer']\n",
      "https://context.reverso.net/перевод/русский-французский/выпуск\n"
     ]
    },
    {
     "name": "stderr",
     "output_type": "stream",
     "text": [
      "\r",
      " 30%|██▉       | 201/676 [17:01<39:33,  5.00s/it]"
     ]
    },
    {
     "name": "stdout",
     "output_type": "stream",
     "text": [
      "['publication', 'production', 'numéro', 'édition', 'émission']\n",
      "sense_intersect ['numéro', 'émission', 'édition', 'publication']\n",
      "issue выдача\n",
      "https://context.reverso.net/перевод/английский-французский/issue\n",
      "['question', 'problème', 'sujet', 'numéro', 'dossier', 'enjeu', 'point', 'émission', 'délivrer', 'émettre', 'publier', 'donner', 'fournir', 'promulguer', 'édicter', 'décerner', 'délivrance', 'thème', 'cause', 'problématique', 'matière', 'édition', 'publication', 'sortie', 'distribuer']\n",
      "https://context.reverso.net/перевод/русский-французский/выдача\n"
     ]
    },
    {
     "name": "stderr",
     "output_type": "stream",
     "text": [
      "\r",
      " 30%|██▉       | 202/676 [17:05<39:06,  4.95s/it]"
     ]
    },
    {
     "name": "stdout",
     "output_type": "stream",
     "text": [
      "['extradition', 'délivrance', 'octroi']\n",
      "sense_intersect ['délivrance']\n",
      "issue номер\n",
      "https://context.reverso.net/перевод/английский-французский/issue\n",
      "['question', 'problème', 'sujet', 'numéro', 'dossier', 'enjeu', 'point', 'émission', 'délivrer', 'émettre', 'publier', 'donner', 'fournir', 'promulguer', 'édicter', 'décerner', 'délivrance', 'thème', 'cause', 'problématique', 'matière', 'édition', 'publication', 'sortie', 'distribuer']\n",
      "https://context.reverso.net/перевод/русский-французский/номер\n"
     ]
    },
    {
     "name": "stderr",
     "output_type": "stream",
     "text": [
      "\r",
      " 30%|███       | 203/676 [17:10<38:59,  4.95s/it]"
     ]
    },
    {
     "name": "stdout",
     "output_type": "stream",
     "text": [
      "['numéro', 'chambre', 'numéro', 'plaque', 'suite', 'téléphone', 'hôtel', 'nombre', 'immatriculation', 'no', 'portable', 'nº1', 'nº2']\n",
      "sense_intersect ['numéro']\n",
      "issue вытекание\n",
      "https://context.reverso.net/перевод/английский-французский/issue\n",
      "['question', 'problème', 'sujet', 'numéro', 'dossier', 'enjeu', 'point', 'émission', 'délivrer', 'émettre', 'publier', 'donner', 'fournir', 'promulguer', 'édicter', 'décerner', 'délivrance', 'thème', 'cause', 'problématique', 'matière', 'édition', 'publication', 'sortie', 'distribuer']\n",
      "https://context.reverso.net/перевод/русский-французский/вытекание\n",
      "turn to alternative marks\n"
     ]
    },
    {
     "name": "stderr",
     "output_type": "stream",
     "text": [
      "\r",
      " 30%|███       | 204/676 [17:15<39:14,  4.99s/it]"
     ]
    },
    {
     "name": "stdout",
     "output_type": "stream",
     "text": [
      "['excision', 'couper']\n",
      "sense_intersect ['no_equality']\n",
      "issue эмиссия\n",
      "https://context.reverso.net/перевод/английский-французский/issue\n",
      "['question', 'problème', 'sujet', 'numéro', 'dossier', 'enjeu', 'point', 'émission', 'délivrer', 'émettre', 'publier', 'donner', 'fournir', 'promulguer', 'édicter', 'décerner', 'délivrance', 'thème', 'cause', 'problématique', 'matière', 'édition', 'publication', 'sortie', 'distribuer']\n",
      "https://context.reverso.net/перевод/русский-французский/эмиссия\n",
      "turn to alternative marks\n"
     ]
    },
    {
     "name": "stderr",
     "output_type": "stream",
     "text": [
      "\r",
      " 30%|███       | 205/676 [17:20<38:52,  4.95s/it]"
     ]
    },
    {
     "name": "stdout",
     "output_type": "stream",
     "text": [
      "['émission']\n",
      "sense_intersect ['émission']\n",
      "issue выдавать\n",
      "https://context.reverso.net/перевод/английский-французский/issue\n",
      "['question', 'problème', 'sujet', 'numéro', 'dossier', 'enjeu', 'point', 'émission', 'délivrer', 'émettre', 'publier', 'donner', 'fournir', 'promulguer', 'édicter', 'décerner', 'délivrance', 'thème', 'cause', 'problématique', 'matière', 'édition', 'publication', 'sortie', 'distribuer']\n",
      "https://context.reverso.net/перевод/русский-французский/выдавать\n"
     ]
    },
    {
     "name": "stderr",
     "output_type": "stream",
     "text": [
      "\r",
      " 30%|███       | 206/676 [17:25<39:03,  4.99s/it]"
     ]
    },
    {
     "name": "stdout",
     "output_type": "stream",
     "text": [
      "['donner', 'à délivrer']\n",
      "sense_intersect ['donner']\n",
      "issue выпускать\n",
      "https://context.reverso.net/перевод/английский-французский/issue\n",
      "['question', 'problème', 'sujet', 'numéro', 'dossier', 'enjeu', 'point', 'émission', 'délivrer', 'émettre', 'publier', 'donner', 'fournir', 'promulguer', 'édicter', 'décerner', 'délivrance', 'thème', 'cause', 'problématique', 'matière', 'édition', 'publication', 'sortie', 'distribuer']\n",
      "https://context.reverso.net/перевод/русский-французский/выпускать\n"
     ]
    },
    {
     "name": "stderr",
     "output_type": "stream",
     "text": [
      "\r",
      " 31%|███       | 207/676 [17:30<39:13,  5.02s/it]"
     ]
    },
    {
     "name": "stdout",
     "output_type": "stream",
     "text": [
      "['publier', 'produire']\n",
      "sense_intersect ['publier']\n",
      "issue издавать\n",
      "https://context.reverso.net/перевод/английский-французский/issue\n",
      "['question', 'problème', 'sujet', 'numéro', 'dossier', 'enjeu', 'point', 'émission', 'délivrer', 'émettre', 'publier', 'donner', 'fournir', 'promulguer', 'édicter', 'décerner', 'délivrance', 'thème', 'cause', 'problématique', 'matière', 'édition', 'publication', 'sortie', 'distribuer']\n",
      "https://context.reverso.net/перевод/русский-французский/издавать\n"
     ]
    },
    {
     "name": "stderr",
     "output_type": "stream",
     "text": [
      "\r",
      " 31%|███       | 208/676 [17:35<39:00,  5.00s/it]"
     ]
    },
    {
     "name": "stdout",
     "output_type": "stream",
     "text": [
      "['publier']\n",
      "sense_intersect ['publier']\n",
      "issue оформить\n",
      "https://context.reverso.net/перевод/английский-французский/issue\n",
      "['question', 'problème', 'sujet', 'numéro', 'dossier', 'enjeu', 'point', 'émission', 'délivrer', 'émettre', 'publier', 'donner', 'fournir', 'promulguer', 'édicter', 'décerner', 'délivrance', 'thème', 'cause', 'problématique', 'matière', 'édition', 'publication', 'sortie', 'distribuer']\n",
      "https://context.reverso.net/перевод/русский-французский/оформить\n",
      "turn to alternative marks\n"
     ]
    },
    {
     "name": "stderr",
     "output_type": "stream",
     "text": [
      "\r",
      " 31%|███       | 209/676 [17:40<38:44,  4.98s/it]"
     ]
    },
    {
     "name": "stdout",
     "output_type": "stream",
     "text": [
      "['remplir', 'régulariser', 'décorer', 'formaliser', 'officialiser', 'institutionnaliser', 'formuler', 'déposer', 'formalisées']\n",
      "sense_intersect ['no_equality']\n",
      "issue эмиссионный\n",
      "https://context.reverso.net/перевод/английский-французский/issue\n",
      "['question', 'problème', 'sujet', 'numéro', 'dossier', 'enjeu', 'point', 'émission', 'délivrer', 'émettre', 'publier', 'donner', 'fournir', 'promulguer', 'édicter', 'décerner', 'délivrance', 'thème', 'cause', 'problématique', 'matière', 'édition', 'publication', 'sortie', 'distribuer']\n",
      "https://context.reverso.net/перевод/русский-французский/эмиссионный\n",
      "turn to alternative marks\n"
     ]
    },
    {
     "name": "stderr",
     "output_type": "stream",
     "text": [
      "\r",
      " 31%|███       | 210/676 [17:45<38:16,  4.93s/it]"
     ]
    },
    {
     "name": "stdout",
     "output_type": "stream",
     "text": [
      "[\"d'émission\"]\n",
      "sense_intersect ['no_equality']\n",
      "thousand тыс.\n",
      "https://context.reverso.net/перевод/английский-французский/thousand\n",
      "['mille', 'millier', 'centaine de', 'millième', 'mil', 'de 1000', 'thousand', 'millénaire', 'dollar', 'rouble', 'milliard', 'long', 'million', 'mille-îles']\n",
      "https://context.reverso.net/перевод/русский-французский/тыс.\n",
      "turn to alternative marks\n"
     ]
    },
    {
     "name": "stderr",
     "output_type": "stream",
     "text": [
      "\r",
      " 31%|███       | 211/676 [17:51<39:13,  5.06s/it]"
     ]
    },
    {
     "name": "stdout",
     "output_type": "stream",
     "text": [
      "[]\n",
      "sense_intersect ['no_equality']\n",
      "thousand тысячелетие\n",
      "https://context.reverso.net/перевод/английский-французский/thousand\n",
      "['mille', 'millier', 'centaine de', 'millième', 'mil', 'de 1000', 'thousand', 'millénaire', 'dollar', 'rouble', 'milliard', 'long', 'million', 'mille-îles']\n",
      "https://context.reverso.net/перевод/русский-французский/тысячелетие\n"
     ]
    },
    {
     "name": "stderr",
     "output_type": "stream",
     "text": [
      "\r",
      " 31%|███▏      | 212/676 [17:56<39:32,  5.11s/it]"
     ]
    },
    {
     "name": "stdout",
     "output_type": "stream",
     "text": [
      "['millénaire']\n",
      "sense_intersect ['millénaire']\n",
      "thousand множество\n",
      "https://context.reverso.net/перевод/английский-французский/thousand\n",
      "['mille', 'millier', 'centaine de', 'millième', 'mil', 'de 1000', 'thousand', 'millénaire', 'dollar', 'rouble', 'milliard', 'long', 'million', 'mille-îles']\n",
      "https://context.reverso.net/перевод/русский-французский/множество\n"
     ]
    },
    {
     "name": "stderr",
     "output_type": "stream",
     "text": [
      "\r",
      " 32%|███▏      | 213/676 [18:01<40:39,  5.27s/it]"
     ]
    },
    {
     "name": "stdout",
     "output_type": "stream",
     "text": [
      "['multitude', 'tas de', 'nombreux', 'beaucoup de', 'plusieurs', 'multiple', 'plein de', 'un grand nombre', 'divers']\n",
      "sense_intersect ['no_equality']\n",
      "thousand тысяча долларов\n",
      "https://context.reverso.net/перевод/английский-французский/thousand\n",
      "['mille', 'millier', 'centaine de', 'millième', 'mil', 'de 1000', 'thousand', 'millénaire', 'dollar', 'rouble', 'milliard', 'long', 'million', 'mille-îles']\n",
      "https://context.reverso.net/перевод/русский-французский/тысяча долларов\n",
      "turn to alternative marks\n"
     ]
    },
    {
     "name": "stderr",
     "output_type": "stream",
     "text": [
      "\r",
      " 32%|███▏      | 214/676 [18:06<39:38,  5.15s/it]"
     ]
    },
    {
     "name": "stdout",
     "output_type": "stream",
     "text": [
      "['mille dollars', '1000 dollars', '1 000 dollars', 'millier de dollars']\n",
      "sense_intersect ['no_equality']\n",
      "thousand тысяча\n",
      "https://context.reverso.net/перевод/английский-французский/thousand\n",
      "['mille', 'millier', 'centaine de', 'millième', 'mil', 'de 1000', 'thousand', 'millénaire', 'dollar', 'rouble', 'milliard', 'long', 'million', 'mille-îles']\n",
      "https://context.reverso.net/перевод/русский-французский/тысяча\n"
     ]
    },
    {
     "name": "stderr",
     "output_type": "stream",
     "text": [
      "\r",
      " 32%|███▏      | 215/676 [18:11<38:50,  5.05s/it]"
     ]
    },
    {
     "name": "stdout",
     "output_type": "stream",
     "text": [
      "['mille', 'millier', 'des milliers']\n",
      "sense_intersect ['mille', 'millier']\n",
      "thousand тысячный\n",
      "https://context.reverso.net/перевод/английский-французский/thousand\n",
      "['mille', 'millier', 'centaine de', 'millième', 'mil', 'de 1000', 'thousand', 'millénaire', 'dollar', 'rouble', 'milliard', 'long', 'million', 'mille-îles']\n",
      "https://context.reverso.net/перевод/русский-французский/тысячный\n",
      "turn to alternative marks\n"
     ]
    },
    {
     "name": "stderr",
     "output_type": "stream",
     "text": [
      "\r",
      " 32%|███▏      | 216/676 [18:16<38:52,  5.07s/it]"
     ]
    },
    {
     "name": "stdout",
     "output_type": "stream",
     "text": [
      "['millième', 'la centième']\n",
      "sense_intersect ['millième']\n",
      "pen ручка\n",
      "https://context.reverso.net/перевод/английский-французский/pen\n",
      "['stylo', 'plume', 'crayon', 'stylet', 'enclos', 'feutre', 'prison', 'pénitencier', 'écrire', 'parc', 'pen']\n",
      "https://context.reverso.net/перевод/русский-французский/ручка\n"
     ]
    },
    {
     "name": "stderr",
     "output_type": "stream",
     "text": [
      "\r",
      " 32%|███▏      | 217/676 [18:21<38:19,  5.01s/it]"
     ]
    },
    {
     "name": "stdout",
     "output_type": "stream",
     "text": [
      "['stylo', 'poignée']\n",
      "sense_intersect ['stylo']\n",
      "pen рейсфедер\n",
      "https://context.reverso.net/перевод/английский-французский/pen\n",
      "['stylo', 'plume', 'crayon', 'stylet', 'enclos', 'feutre', 'prison', 'pénitencier', 'écrire', 'parc', 'pen']\n",
      "https://context.reverso.net/перевод/русский-французский/рейсфедер\n",
      "turn to alternative marks\n"
     ]
    },
    {
     "name": "stderr",
     "output_type": "stream",
     "text": [
      "\r",
      " 32%|███▏      | 218/676 [18:26<38:16,  5.01s/it]"
     ]
    },
    {
     "name": "stdout",
     "output_type": "stream",
     "text": [
      "[]\n",
      "sense_intersect ['no_equality']\n",
      "pen фломастер\n",
      "https://context.reverso.net/перевод/английский-французский/pen\n",
      "['stylo', 'plume', 'crayon', 'stylet', 'enclos', 'feutre', 'prison', 'pénitencier', 'écrire', 'parc', 'pen']\n",
      "https://context.reverso.net/перевод/русский-французский/фломастер\n",
      "turn to alternative marks\n"
     ]
    },
    {
     "name": "stderr",
     "output_type": "stream",
     "text": [
      "\r",
      " 32%|███▏      | 219/676 [18:31<38:05,  5.00s/it]"
     ]
    },
    {
     "name": "stdout",
     "output_type": "stream",
     "text": [
      "['feutre', 'le marqueur']\n",
      "sense_intersect ['feutre']\n",
      "pen загон\n",
      "https://context.reverso.net/перевод/английский-французский/pen\n",
      "['stylo', 'plume', 'crayon', 'stylet', 'enclos', 'feutre', 'prison', 'pénitencier', 'écrire', 'parc', 'pen']\n",
      "https://context.reverso.net/перевод/русский-французский/загон\n"
     ]
    },
    {
     "name": "stderr",
     "output_type": "stream",
     "text": [
      "\r",
      " 33%|███▎      | 220/676 [18:36<37:46,  4.97s/it]"
     ]
    },
    {
     "name": "stdout",
     "output_type": "stream",
     "text": [
      "['enclos']\n",
      "sense_intersect ['enclos']\n",
      "pen Перу\n",
      "https://context.reverso.net/перевод/английский-французский/pen\n",
      "['stylo', 'plume', 'crayon', 'stylet', 'enclos', 'feutre', 'prison', 'pénitencier', 'écrire', 'parc', 'pen']\n",
      "https://context.reverso.net/перевод/русский-французский/Перу\n"
     ]
    },
    {
     "name": "stderr",
     "output_type": "stream",
     "text": [
      "\r",
      " 33%|███▎      | 221/676 [18:41<37:35,  4.96s/it]"
     ]
    },
    {
     "name": "stdout",
     "output_type": "stream",
     "text": [
      "['péruvien', 'péruvien', 'au pérou', 'pérou']\n",
      "sense_intersect ['no_equality']\n",
      "pen пена\n",
      "https://context.reverso.net/перевод/английский-французский/pen\n",
      "['stylo', 'plume', 'crayon', 'stylet', 'enclos', 'feutre', 'prison', 'pénitencier', 'écrire', 'parc', 'pen']\n",
      "https://context.reverso.net/перевод/русский-французский/пена\n"
     ]
    },
    {
     "name": "stderr",
     "output_type": "stream",
     "text": [
      "\r",
      " 33%|███▎      | 222/676 [18:46<38:33,  5.10s/it]"
     ]
    },
    {
     "name": "stdout",
     "output_type": "stream",
     "text": [
      "['mousse', 'pan']\n",
      "sense_intersect ['no_equality']\n",
      "pen пенал\n",
      "https://context.reverso.net/перевод/английский-французский/pen\n",
      "['stylo', 'plume', 'crayon', 'stylet', 'enclos', 'feutre', 'prison', 'pénitencier', 'écrire', 'parc', 'pen']\n",
      "https://context.reverso.net/перевод/русский-французский/пенал\n",
      "turn to alternative marks\n"
     ]
    },
    {
     "name": "stderr",
     "output_type": "stream",
     "text": [
      "\r",
      " 33%|███▎      | 223/676 [18:51<37:44,  5.00s/it]"
     ]
    },
    {
     "name": "stdout",
     "output_type": "stream",
     "text": [
      "['trousse', 'plumier', 'la boîte à crayons']\n",
      "sense_intersect ['no_equality']\n",
      "pen световое перо\n",
      "https://context.reverso.net/перевод/английский-французский/pen\n",
      "['stylo', 'plume', 'crayon', 'stylet', 'enclos', 'feutre', 'prison', 'pénitencier', 'écrire', 'parc', 'pen']\n",
      "https://context.reverso.net/перевод/русский-французский/световое перо\n"
     ]
    },
    {
     "name": "stderr",
     "output_type": "stream",
     "text": [
      "\r",
      " 33%|███▎      | 224/676 [18:56<37:27,  4.97s/it]"
     ]
    },
    {
     "name": "stdout",
     "output_type": "stream",
     "text": [
      "['plume', 'pero', 'feather', 'perot']\n",
      "sense_intersect ['plume']\n",
      "pen писать\n",
      "https://context.reverso.net/перевод/английский-французский/pen\n",
      "['stylo', 'plume', 'crayon', 'stylet', 'enclos', 'feutre', 'prison', 'pénitencier', 'écrire', 'parc', 'pen']\n",
      "https://context.reverso.net/перевод/русский-французский/писать\n"
     ]
    },
    {
     "name": "stderr",
     "output_type": "stream",
     "text": [
      "\r",
      " 33%|███▎      | 225/676 [19:01<37:07,  4.94s/it]"
     ]
    },
    {
     "name": "stdout",
     "output_type": "stream",
     "text": [
      "['écrire', 'pisser', 'faire pipi', 'envoyer', 'peindre', 'écriture']\n",
      "sense_intersect ['écrire']\n",
      "pen перьевой\n",
      "https://context.reverso.net/перевод/английский-французский/pen\n",
      "['stylo', 'plume', 'crayon', 'stylet', 'enclos', 'feutre', 'prison', 'pénitencier', 'écrire', 'parc', 'pen']\n",
      "https://context.reverso.net/перевод/русский-французский/перьевой\n",
      "turn to alternative marks\n"
     ]
    },
    {
     "name": "stderr",
     "output_type": "stream",
     "text": [
      "\r",
      " 33%|███▎      | 226/676 [19:06<36:57,  4.93s/it]"
     ]
    },
    {
     "name": "stdout",
     "output_type": "stream",
     "text": [
      "[]\n",
      "sense_intersect ['no_equality']\n",
      "pasta паста\n",
      "https://context.reverso.net/перевод/английский-французский/pasta\n",
      "['pâte', 'pâtes alimentaires', 'pâte']\n",
      "https://context.reverso.net/перевод/русский-французский/паста\n"
     ]
    },
    {
     "name": "stderr",
     "output_type": "stream",
     "text": [
      "\r",
      " 34%|███▎      | 227/676 [19:11<36:35,  4.89s/it]"
     ]
    },
    {
     "name": "stdout",
     "output_type": "stream",
     "text": [
      "['dentifrice']\n",
      "sense_intersect ['no_equality']\n",
      "pasta блюда из макарон\n",
      "https://context.reverso.net/перевод/английский-французский/pasta\n",
      "['pâte', 'pâtes alimentaires', 'pâte']\n",
      "https://context.reverso.net/перевод/русский-французский/блюда из макарон\n"
     ]
    },
    {
     "name": "stderr",
     "output_type": "stream",
     "text": [
      "\r",
      " 34%|███▎      | 228/676 [19:16<36:55,  4.95s/it]"
     ]
    },
    {
     "name": "stdout",
     "output_type": "stream",
     "text": [
      "['plat', 'repas', 'menu', 'nourriture', 'cuisine', 'de pâtes']\n",
      "sense_intersect ['no_equality']\n",
      "hot горячий\n",
      "https://context.reverso.net/перевод/английский-французский/hot\n",
      "['chaud', 'sexy', 'brûlant', 'bon', 'beau', 'bouillant', 'chauffant', 'torride', 'canon', 'chaleur', 'à chaud', 'super', 'épicé', 'piquant']\n",
      "https://context.reverso.net/перевод/русский-французский/горячий\n"
     ]
    },
    {
     "name": "stderr",
     "output_type": "stream",
     "text": [
      "\r",
      " 34%|███▍      | 229/676 [19:20<36:38,  4.92s/it]"
     ]
    },
    {
     "name": "stdout",
     "output_type": "stream",
     "text": [
      "['chaud', 'sexy']\n",
      "sense_intersect ['chaud | à chaud', 'sexy']\n",
      "hot острый\n",
      "https://context.reverso.net/перевод/английский-французский/hot\n",
      "['chaud', 'sexy', 'brûlant', 'bon', 'beau', 'bouillant', 'chauffant', 'torride', 'canon', 'chaleur', 'à chaud', 'super', 'épicé', 'piquant']\n",
      "https://context.reverso.net/перевод/русский-французский/острый\n"
     ]
    },
    {
     "name": "stderr",
     "output_type": "stream",
     "text": [
      "\r",
      " 34%|███▍      | 230/676 [19:25<36:41,  4.94s/it]"
     ]
    },
    {
     "name": "stdout",
     "output_type": "stream",
     "text": [
      "['aigu', 'piquante', 'grave', 'épicé']\n",
      "sense_intersect ['épicé']\n",
      "hot популярный\n",
      "https://context.reverso.net/перевод/английский-французский/hot\n",
      "['chaud', 'sexy', 'brûlant', 'bon', 'beau', 'bouillant', 'chauffant', 'torride', 'canon', 'chaleur', 'à chaud', 'super', 'épicé', 'piquant']\n",
      "https://context.reverso.net/перевод/русский-французский/популярный\n"
     ]
    },
    {
     "name": "stderr",
     "output_type": "stream",
     "text": [
      "\r",
      " 34%|███▍      | 231/676 [19:30<36:37,  4.94s/it]"
     ]
    },
    {
     "name": "stdout",
     "output_type": "stream",
     "text": [
      "['populaire']\n",
      "sense_intersect ['no_equality']\n",
      "hot жгучий\n",
      "https://context.reverso.net/перевод/английский-французский/hot\n",
      "['chaud', 'sexy', 'brûlant', 'bon', 'beau', 'bouillant', 'chauffant', 'torride', 'canon', 'chaleur', 'à chaud', 'super', 'épicé', 'piquant']\n",
      "https://context.reverso.net/перевод/русский-французский/жгучий\n",
      "turn to alternative marks\n"
     ]
    },
    {
     "name": "stderr",
     "output_type": "stream",
     "text": [
      "\r",
      " 34%|███▍      | 232/676 [19:36<37:10,  5.02s/it]"
     ]
    },
    {
     "name": "stdout",
     "output_type": "stream",
     "text": [
      "['brûlant']\n",
      "sense_intersect ['brûlant']\n",
      "hot горячительный\n",
      "https://context.reverso.net/перевод/английский-французский/hot\n",
      "['chaud', 'sexy', 'brûlant', 'bon', 'beau', 'bouillant', 'chauffant', 'torride', 'canon', 'chaleur', 'à chaud', 'super', 'épicé', 'piquant']\n",
      "https://context.reverso.net/перевод/русский-французский/горячительный\n",
      "turn to alternative marks\n"
     ]
    },
    {
     "name": "stderr",
     "output_type": "stream",
     "text": [
      "\r",
      " 34%|███▍      | 233/676 [19:40<36:46,  4.98s/it]"
     ]
    },
    {
     "name": "stdout",
     "output_type": "stream",
     "text": [
      "[]\n",
      "sense_intersect ['no_equality']\n",
      "hot жарко\n",
      "https://context.reverso.net/перевод/английский-французский/hot\n",
      "['chaud', 'sexy', 'brûlant', 'bon', 'beau', 'bouillant', 'chauffant', 'torride', 'canon', 'chaleur', 'à chaud', 'super', 'épicé', 'piquant']\n",
      "https://context.reverso.net/перевод/русский-французский/жарко\n"
     ]
    },
    {
     "name": "stderr",
     "output_type": "stream",
     "text": [
      "\r",
      " 35%|███▍      | 234/676 [19:45<36:17,  4.93s/it]"
     ]
    },
    {
     "name": "stdout",
     "output_type": "stream",
     "text": [
      "['il fait chaud', 'chaleur']\n",
      "sense_intersect ['chaleur']\n",
      "hot горячо\n",
      "https://context.reverso.net/перевод/английский-французский/hot\n",
      "['chaud', 'sexy', 'brûlant', 'bon', 'beau', 'bouillant', 'chauffant', 'torride', 'canon', 'chaleur', 'à chaud', 'super', 'épicé', 'piquant']\n",
      "https://context.reverso.net/перевод/русский-французский/горячо\n"
     ]
    },
    {
     "name": "stderr",
     "output_type": "stream",
     "text": [
      "\r",
      " 35%|███▍      | 235/676 [19:50<36:38,  4.99s/it]"
     ]
    },
    {
     "name": "stdout",
     "output_type": "stream",
     "text": [
      "['vivement', 'ardemment']\n",
      "sense_intersect ['no_equality']\n",
      "hot разгоряченный\n",
      "https://context.reverso.net/перевод/английский-французский/hot\n",
      "['chaud', 'sexy', 'brûlant', 'bon', 'beau', 'bouillant', 'chauffant', 'torride', 'canon', 'chaleur', 'à chaud', 'super', 'épicé', 'piquant']\n",
      "https://context.reverso.net/перевод/русский-французский/разгоряченный\n",
      "turn to alternative marks\n"
     ]
    },
    {
     "name": "stderr",
     "output_type": "stream",
     "text": [
      "\r",
      " 35%|███▍      | 236/676 [19:56<37:02,  5.05s/it]"
     ]
    },
    {
     "name": "stdout",
     "output_type": "stream",
     "text": [
      "[]\n",
      "sense_intersect ['no_equality']\n",
      "hot горящий\n",
      "https://context.reverso.net/перевод/английский-французский/hot\n",
      "['chaud', 'sexy', 'brûlant', 'bon', 'beau', 'bouillant', 'chauffant', 'torride', 'canon', 'chaleur', 'à chaud', 'super', 'épicé', 'piquant']\n",
      "https://context.reverso.net/перевод/русский-французский/горящий\n",
      "turn to alternative marks\n"
     ]
    },
    {
     "name": "stderr",
     "output_type": "stream",
     "text": [
      "\r",
      " 35%|███▌      | 237/676 [20:01<36:48,  5.03s/it]"
     ]
    },
    {
     "name": "stdout",
     "output_type": "stream",
     "text": [
      "['en feu', 'en flammes', 'météorite', 'un vol', 'flamme']\n",
      "sense_intersect ['no_equality']\n",
      "hot накалиться\n",
      "https://context.reverso.net/перевод/английский-французский/hot\n",
      "['chaud', 'sexy', 'brûlant', 'bon', 'beau', 'bouillant', 'chauffant', 'torride', 'canon', 'chaleur', 'à chaud', 'super', 'épicé', 'piquant']\n",
      "https://context.reverso.net/перевод/русский-французский/накалиться\n",
      "turn to alternative marks\n"
     ]
    },
    {
     "name": "stderr",
     "output_type": "stream",
     "text": [
      "\r",
      " 35%|███▌      | 238/676 [20:06<36:44,  5.03s/it]"
     ]
    },
    {
     "name": "stdout",
     "output_type": "stream",
     "text": [
      "[]\n",
      "sense_intersect ['no_equality']\n",
      "that что\n",
      "https://context.reverso.net/перевод/английский-французский/that\n",
      "['que', 'qui', 'c', 'l', 'celui', 'ce', 'cela', 'le', 'il', 'dont', 'à', 'je', 'celui-là', 'telle', 'sa', 'ta']\n",
      "https://context.reverso.net/перевод/русский-французский/что\n"
     ]
    },
    {
     "name": "stderr",
     "output_type": "stream",
     "text": [
      "\r",
      " 35%|███▌      | 239/676 [20:11<36:23,  5.00s/it]"
     ]
    },
    {
     "name": "stdout",
     "output_type": "stream",
     "text": [
      "['qu', 'que', 'le', 'qui', 'de', 'quoi', 'avoir', \"qu'est-ce que\", 'donc', 'si', 'et', 'quel', 'je', 'pour', \"d'\", \"qu'est-ce qui\", \"qu'est-ce\", \"qu'est ce que\"]\n",
      "sense_intersect ['que', 'qui', 'le', 'je']\n",
      "that будто\n",
      "https://context.reverso.net/перевод/английский-французский/that\n",
      "['que', 'qui', 'c', 'l', 'celui', 'ce', 'cela', 'le', 'il', 'dont', 'à', 'je', 'celui-là', 'telle', 'sa', 'ta']\n",
      "https://context.reverso.net/перевод/русский-французский/будто\n"
     ]
    },
    {
     "name": "stderr",
     "output_type": "stream",
     "text": [
      "\r",
      " 36%|███▌      | 240/676 [20:16<36:17,  4.99s/it]"
     ]
    },
    {
     "name": "stdout",
     "output_type": "stream",
     "text": [
      "['comme si', \"comme s'\", 'dirait que', 'on dirait', 'impression', \"dirait qu'\", 'air', 'semble', 'genre', 'croire', 'sens', 'semblant', 'semblait', 'selon lesquelles']\n",
      "sense_intersect ['no_equality']\n",
      "that дабы\n",
      "https://context.reverso.net/перевод/английский-французский/that\n",
      "['que', 'qui', 'c', 'l', 'celui', 'ce', 'cela', 'le', 'il', 'dont', 'à', 'je', 'celui-là', 'telle', 'sa', 'ta']\n",
      "https://context.reverso.net/перевод/русский-французский/дабы\n"
     ]
    },
    {
     "name": "stderr",
     "output_type": "stream",
     "text": [
      "\r",
      " 36%|███▌      | 241/676 [20:20<35:53,  4.95s/it]"
     ]
    },
    {
     "name": "stdout",
     "output_type": "stream",
     "text": [
      "['afin']\n",
      "sense_intersect ['no_equality']\n",
      "that который\n",
      "https://context.reverso.net/перевод/английский-французский/that\n",
      "['que', 'qui', 'c', 'l', 'celui', 'ce', 'cela', 'le', 'il', 'dont', 'à', 'je', 'celui-là', 'telle', 'sa', 'ta']\n",
      "https://context.reverso.net/перевод/русский-французский/который\n"
     ]
    },
    {
     "name": "stderr",
     "output_type": "stream",
     "text": [
      "\r",
      " 36%|███▌      | 242/676 [20:25<35:38,  4.93s/it]"
     ]
    },
    {
     "name": "stdout",
     "output_type": "stream",
     "text": [
      "['qui', 'chargé', 'celui', 'capable', 'publié', 'dont', 'lequel', 'où', 'auquel', 'afin', 'duquel', 'présenté']\n",
      "sense_intersect ['qui', 'celui', 'dont']\n",
      "that это\n",
      "https://context.reverso.net/перевод/английский-французский/that\n",
      "['que', 'qui', 'c', 'l', 'celui', 'ce', 'cela', 'le', 'il', 'dont', 'à', 'je', 'celui-là', 'telle', 'sa', 'ta']\n",
      "https://context.reverso.net/перевод/русский-французский/это\n"
     ]
    },
    {
     "name": "stderr",
     "output_type": "stream",
     "text": [
      "\r",
      " 36%|███▌      | 243/676 [20:30<35:33,  4.93s/it]"
     ]
    },
    {
     "name": "stdout",
     "output_type": "stream",
     "text": [
      "[\"c'est\", 'cela', 'ce', 'le', 'c', 'il', 'un', 'je', 'tu', 'en', 'on', 'ceci', 'y', 'tout', 'celui-ci']\n",
      "sense_intersect ['c', 'ce', 'cela', 'le', 'il', 'je']\n",
      "that тот самый\n",
      "https://context.reverso.net/перевод/английский-французский/that\n",
      "['que', 'qui', 'c', 'l', 'celui', 'ce', 'cela', 'le', 'il', 'dont', 'à', 'je', 'celui-là', 'telle', 'sa', 'ta']\n",
      "https://context.reverso.net/перевод/русский-французский/тот самый\n"
     ]
    },
    {
     "name": "stderr",
     "output_type": "stream",
     "text": [
      "\r",
      " 36%|███▌      | 244/676 [20:36<37:04,  5.15s/it]"
     ]
    },
    {
     "name": "stdout",
     "output_type": "stream",
     "text": [
      "['le même', 'celui']\n",
      "sense_intersect ['celui']\n",
      "that так\n",
      "https://context.reverso.net/перевод/английский-французский/that\n",
      "['que', 'qui', 'c', 'l', 'celui', 'ce', 'cela', 'le', 'il', 'dont', 'à', 'je', 'celui-là', 'telle', 'sa', 'ta']\n",
      "https://context.reverso.net/перевод/русский-французский/так\n"
     ]
    },
    {
     "name": "stderr",
     "output_type": "stream",
     "text": [
      "\r",
      " 36%|███▌      | 245/676 [20:41<37:15,  5.19s/it]"
     ]
    },
    {
     "name": "stdout",
     "output_type": "stream",
     "text": [
      "['donc', 'alors', 'si', 'aussi', 'tellement', 'non', 'comme ça', 'ainsi', 'autant', 'tant', 'bien', 'vrai', 'tout', 'vraiment', 'trop']\n",
      "sense_intersect ['no_equality']\n",
      "that таковой\n",
      "https://context.reverso.net/перевод/английский-французский/that\n",
      "['que', 'qui', 'c', 'l', 'celui', 'ce', 'cela', 'le', 'il', 'dont', 'à', 'je', 'celui-là', 'telle', 'sa', 'ta']\n",
      "https://context.reverso.net/перевод/русский-французский/таковой\n"
     ]
    },
    {
     "name": "stderr",
     "output_type": "stream",
     "text": [
      "\r",
      " 36%|███▋      | 246/676 [20:46<36:35,  5.10s/it]"
     ]
    },
    {
     "name": "stdout",
     "output_type": "stream",
     "text": [
      "['tel']\n",
      "sense_intersect ['no_equality']\n",
      "be быть\n",
      "https://context.reverso.net/перевод/английский-французский/be\n",
      "['être', 'avoir', 'faire', 'pouvoir', 'prendre', 'devenir', 'mettre', 'trouver', 'se', 's', 'on', 'convient', 'comme', 'possible', 'pas']\n",
      "https://context.reverso.net/перевод/русский-французский/быть\n"
     ]
    },
    {
     "name": "stderr",
     "output_type": "stream",
     "text": [
      "\r",
      " 37%|███▋      | 247/676 [20:51<36:37,  5.12s/it]"
     ]
    },
    {
     "name": "stdout",
     "output_type": "stream",
     "text": [
      "['être', 'avoir', 'faire', 'rester', 'aller', 'trouver', 'arriver', 'pas', 'se', 'y', 'est', 'peut-être', 'dû']\n",
      "sense_intersect ['être', 'avoir', 'faire', 'trouver', 'se', 'pas']\n",
      "be происходить\n",
      "https://context.reverso.net/перевод/английский-французский/be\n",
      "['être', 'avoir', 'faire', 'pouvoir', 'prendre', 'devenir', 'mettre', 'trouver', 'se', 's', 'on', 'convient', 'comme', 'possible', 'pas']\n",
      "https://context.reverso.net/перевод/русский-французский/происходить\n"
     ]
    },
    {
     "name": "stderr",
     "output_type": "stream",
     "text": [
      "\r",
      " 37%|███▋      | 248/676 [20:56<36:04,  5.06s/it]"
     ]
    },
    {
     "name": "stdout",
     "output_type": "stream",
     "text": [
      "['se produire', 'arriver', 'se passer', 'se faire', 'avoir lieu']\n",
      "sense_intersect ['no_equality']\n",
      "be находиться\n",
      "https://context.reverso.net/перевод/английский-французский/be\n",
      "['être', 'avoir', 'faire', 'pouvoir', 'prendre', 'devenir', 'mettre', 'trouver', 'se', 's', 'on', 'convient', 'comme', 'possible', 'pas']\n",
      "https://context.reverso.net/перевод/русский-французский/находиться\n"
     ]
    },
    {
     "name": "stderr",
     "output_type": "stream",
     "text": [
      "\r",
      " 37%|███▋      | 249/676 [21:01<35:36,  5.00s/it]"
     ]
    },
    {
     "name": "stdout",
     "output_type": "stream",
     "text": [
      "['rester', 'se trouver', 'séjourner', 'saisi', 'avoir']\n",
      "sense_intersect ['avoir']\n",
      "be составлять\n",
      "https://context.reverso.net/перевод/английский-французский/be\n",
      "['être', 'avoir', 'faire', 'pouvoir', 'prendre', 'devenir', 'mettre', 'trouver', 'se', 's', 'on', 'convient', 'comme', 'possible', 'pas']\n",
      "https://context.reverso.net/перевод/русский-французский/составлять\n"
     ]
    },
    {
     "name": "stderr",
     "output_type": "stream",
     "text": [
      "\r",
      " 37%|███▋      | 250/676 [21:06<35:21,  4.98s/it]"
     ]
    },
    {
     "name": "stdout",
     "output_type": "stream",
     "text": [
      "['établir', 'constituer', 'représenter', 'faire', 'atteindre', 'durer']\n",
      "sense_intersect ['faire']\n",
      "be заключаться\n",
      "https://context.reverso.net/перевод/английский-французский/be\n",
      "['être', 'avoir', 'faire', 'pouvoir', 'prendre', 'devenir', 'mettre', 'trouver', 'se', 's', 'on', 'convient', 'comme', 'possible', 'pas']\n",
      "https://context.reverso.net/перевод/русский-французский/заключаться\n"
     ]
    },
    {
     "name": "stderr",
     "output_type": "stream",
     "text": [
      "\r",
      " 37%|███▋      | 251/676 [21:11<35:15,  4.98s/it]"
     ]
    },
    {
     "name": "stdout",
     "output_type": "stream",
     "text": [
      "['consister', 'viser', 'avoir']\n",
      "sense_intersect ['avoir']\n",
      "be идти\n",
      "https://context.reverso.net/перевод/английский-французский/be\n",
      "['être', 'avoir', 'faire', 'pouvoir', 'prendre', 'devenir', 'mettre', 'trouver', 'se', 's', 'on', 'convient', 'comme', 'possible', 'pas']\n",
      "https://context.reverso.net/перевод/русский-французский/идти\n"
     ]
    },
    {
     "name": "stderr",
     "output_type": "stream",
     "text": [
      "\r",
      " 37%|███▋      | 252/676 [21:16<35:14,  4.99s/it]"
     ]
    },
    {
     "name": "stdout",
     "output_type": "stream",
     "text": [
      "['aller', 'partir', 'rentrer', 'marcher', 'suivre', 'venir', 'faire', 'sortir', 'continuer', 'prendre', 'passer', 'poursuivre', 'retourner', 'filer', 'entrer', 'y aille']\n",
      "sense_intersect ['faire', 'prendre']\n",
      "be относиться\n",
      "https://context.reverso.net/перевод/английский-французский/be\n",
      "['être', 'avoir', 'faire', 'pouvoir', 'prendre', 'devenir', 'mettre', 'trouver', 'se', 's', 'on', 'convient', 'comme', 'possible', 'pas']\n",
      "https://context.reverso.net/перевод/русский-французский/относиться\n"
     ]
    },
    {
     "name": "stderr",
     "output_type": "stream",
     "text": [
      "\r",
      " 37%|███▋      | 253/676 [21:21<34:57,  4.96s/it]"
     ]
    },
    {
     "name": "stdout",
     "output_type": "stream",
     "text": [
      "['traiter', 'considérer', \"s'appliquer\", 'sérieux', 'prendre', 'tolérer']\n",
      "sense_intersect ['prendre']\n",
      "be равно\n",
      "https://context.reverso.net/перевод/английский-французский/be\n",
      "['être', 'avoir', 'faire', 'pouvoir', 'prendre', 'devenir', 'mettre', 'trouver', 'se', 's', 'on', 'convient', 'comme', 'possible', 'pas']\n",
      "https://context.reverso.net/перевод/русский-французский/равно\n"
     ]
    },
    {
     "name": "stderr",
     "output_type": "stream",
     "text": [
      "\r",
      " 38%|███▊      | 254/676 [21:26<35:12,  5.01s/it]"
     ]
    },
    {
     "name": "stdout",
     "output_type": "stream",
     "text": [
      "['quand même', 'déjà', 'égal', 'comme', 'reste', 'rien', 'cas', 'aussi', 'en moque', 'autant', 'faut', 'importance', 'finira']\n",
      "sense_intersect ['comme']\n",
      "but но\n",
      "https://context.reverso.net/перевод/английский-французский/but\n",
      "['mai', 'toutefois', 'néanmoins', 'seulement', 'mais bien', 'plutôt', 'sans que', 'que', 'cependant', 'sans', 'sauf', 'pourtant', 'alors', 'or', 'puis', 'puisque', 'hormis']\n",
      "https://context.reverso.net/перевод/русский-французский/но\n"
     ]
    },
    {
     "name": "stderr",
     "output_type": "stream",
     "text": [
      "\r",
      " 38%|███▊      | 255/676 [21:31<35:07,  5.00s/it]"
     ]
    },
    {
     "name": "stdout",
     "output_type": "stream",
     "text": [
      "['mai', 'ça', 'si', 'pourtant', 'sans', 'alors', 'cependant', 'puis', 'bien', 'sauf', 'toutefois', 'tout', 'pourquoi', 'quand', 'maintenant']\n",
      "sense_intersect ['mai', 'toutefois', 'cependant', 'sans', 'sauf', 'pourtant', 'alors', 'puis']\n",
      "but а\n",
      "https://context.reverso.net/перевод/английский-французский/but\n",
      "['mai', 'toutefois', 'néanmoins', 'seulement', 'mais bien', 'plutôt', 'sans que', 'que', 'cependant', 'sans', 'sauf', 'pourtant', 'alors', 'or', 'puis', 'puisque', 'hormis']\n",
      "https://context.reverso.net/перевод/русский-французский/а\n",
      "turn to alternative marks\n"
     ]
    },
    {
     "name": "stderr",
     "output_type": "stream",
     "text": [
      "\r",
      " 38%|███▊      | 256/676 [21:36<34:27,  4.92s/it]"
     ]
    },
    {
     "name": "stdout",
     "output_type": "stream",
     "text": [
      "[]\n",
      "sense_intersect ['no_equality']\n",
      "but однако\n",
      "https://context.reverso.net/перевод/английский-французский/but\n",
      "['mai', 'toutefois', 'néanmoins', 'seulement', 'mais bien', 'plutôt', 'sans que', 'que', 'cependant', 'sans', 'sauf', 'pourtant', 'alors', 'or', 'puis', 'puisque', 'hormis']\n",
      "https://context.reverso.net/перевод/русский-французский/однако\n"
     ]
    },
    {
     "name": "stderr",
     "output_type": "stream",
     "text": [
      "\r",
      " 38%|███▊      | 257/676 [21:41<34:19,  4.92s/it]"
     ]
    },
    {
     "name": "stdout",
     "output_type": "stream",
     "text": [
      "['toutefois', 'cependant', 'néanmoins', 'en revanche', 'par contre', 'outre', 'mai', 'pourtant', 'or', 'même si', 'reste', 'tandis', 'alors que', 'cela dit', 'cela étant']\n",
      "sense_intersect ['mai', 'toutefois', 'néanmoins', 'cependant', 'pourtant', 'or']\n",
      "but только\n",
      "https://context.reverso.net/перевод/английский-французский/but\n",
      "['mai', 'toutefois', 'néanmoins', 'seulement', 'mais bien', 'plutôt', 'sans que', 'que', 'cependant', 'sans', 'sauf', 'pourtant', 'alors', 'or', 'puis', 'puisque', 'hormis']\n",
      "https://context.reverso.net/перевод/русский-французский/только\n"
     ]
    },
    {
     "name": "stderr",
     "output_type": "stream",
     "text": [
      "\r",
      " 38%|███▊      | 258/676 [21:45<34:13,  4.91s/it]"
     ]
    },
    {
     "name": "stdout",
     "output_type": "stream",
     "text": [
      "['seulement', 'juste', 'seul', 'uniquement', 'mai', 'quand', 'si', 'simplement', 'seule', 'viens', 'vient', 'seuls', 'tout', 'sauf', 'seules']\n",
      "sense_intersect ['mai', 'seulement', 'sauf']\n",
      "but кроме\n",
      "https://context.reverso.net/перевод/английский-французский/but\n",
      "['mai', 'toutefois', 'néanmoins', 'seulement', 'mais bien', 'plutôt', 'sans que', 'que', 'cependant', 'sans', 'sauf', 'pourtant', 'alors', 'or', 'puis', 'puisque', 'hormis']\n",
      "https://context.reverso.net/перевод/русский-французский/кроме\n"
     ]
    },
    {
     "name": "stderr",
     "output_type": "stream",
     "text": [
      "\r",
      " 38%|███▊      | 259/676 [21:50<33:59,  4.89s/it]"
     ]
    },
    {
     "name": "stdout",
     "output_type": "stream",
     "text": [
      "['autre que', 'excepté', 'ainsi', 'sinon', 'seul', 'seulement', 'sauf', 'à part', 'hormis', 'cela', 'au-delà', 'parallèlement', 'mai']\n",
      "sense_intersect ['mai', 'seulement', 'sauf', 'hormis']\n",
      "and и\n",
      "https://context.reverso.net/перевод/английский-французский/and\n",
      "turn to alternative marks\n",
      "[]\n",
      "https://context.reverso.net/перевод/русский-французский/и\n",
      "turn to alternative marks\n"
     ]
    },
    {
     "name": "stderr",
     "output_type": "stream",
     "text": [
      "\r",
      " 38%|███▊      | 260/676 [21:55<33:09,  4.78s/it]"
     ]
    },
    {
     "name": "stdout",
     "output_type": "stream",
     "text": [
      "[]\n",
      "sense_intersect ['no_equality']\n",
      "and а также\n",
      "https://context.reverso.net/перевод/английский-французский/and\n",
      "turn to alternative marks\n",
      "[]\n",
      "https://context.reverso.net/перевод/русский-французский/а также\n"
     ]
    },
    {
     "name": "stderr",
     "output_type": "stream",
     "text": [
      "\r",
      " 39%|███▊      | 261/676 [22:00<33:05,  4.78s/it]"
     ]
    },
    {
     "name": "stdout",
     "output_type": "stream",
     "text": [
      "['ainsi que', \"ainsi qu'\", 'mais aussi', 'mais également', \"même qu'\", 'tout comme', 'tout en', 'même que', 'ni', 'outre', 'notamment', 'compris', 'puis', 'dont', 'ailleurs']\n",
      "sense_intersect ['no_equality']\n",
      "and причем\n",
      "https://context.reverso.net/перевод/английский-французский/and\n",
      "turn to alternative marks\n",
      "[]\n",
      "https://context.reverso.net/перевод/русский-французский/причем\n"
     ]
    },
    {
     "name": "stderr",
     "output_type": "stream",
     "text": [
      "\r",
      " 39%|███▉      | 262/676 [22:04<32:54,  4.77s/it]"
     ]
    },
    {
     "name": "stdout",
     "output_type": "stream",
     "text": [
      "['dont', 'sans', 'souvent', 'tandis', 'notamment', 'mai', 'même', 'plupart', 'parfois', 'tant', 'où']\n",
      "sense_intersect ['no_equality']\n",
      "and так и\n",
      "https://context.reverso.net/перевод/английский-французский/and\n",
      "turn to alternative marks\n",
      "[]\n",
      "https://context.reverso.net/перевод/русский-французский/так и\n"
     ]
    },
    {
     "name": "stderr",
     "output_type": "stream",
     "text": [
      "\r",
      " 39%|███▉      | 263/676 [22:10<33:42,  4.90s/it]"
     ]
    },
    {
     "name": "stdout",
     "output_type": "stream",
     "text": [
      "['comme', 'aussi bien', 'mais aussi', 'tant', 'alors', 'même', 'ni', 'mais également', 'ça', \"c'est\", 'toujours', 'oui', 'si', 'donc', 'cas']\n",
      "sense_intersect ['no_equality']\n",
      "and с\n",
      "https://context.reverso.net/перевод/английский-французский/and\n",
      "turn to alternative marks\n",
      "[]\n",
      "https://context.reverso.net/перевод/русский-французский/с\n",
      "turn to alternative marks\n"
     ]
    },
    {
     "name": "stderr",
     "output_type": "stream",
     "text": [
      "\r",
      " 39%|███▉      | 264/676 [22:14<32:52,  4.79s/it]"
     ]
    },
    {
     "name": "stdout",
     "output_type": "stream",
     "text": [
      "[]\n",
      "sense_intersect ['no_equality']\n",
      "expertise экспертиза\n",
      "https://context.reverso.net/перевод/английский-французский/expertise\n",
      "['expertise', 'savoir-faire', 'compétence', 'expérience', 'connaissances spécialisées', 'spécialisation', 'savoir faire', 'maîtrise', 'spécialité', 'expert', 'spécialiste', 'spécialisé', 'services spécialisés', \"champs d'intérêt\", 'expert']\n",
      "https://context.reverso.net/перевод/русский-французский/экспертиза\n"
     ]
    },
    {
     "name": "stderr",
     "output_type": "stream",
     "text": [
      "\r",
      " 39%|███▉      | 265/676 [22:19<33:01,  4.82s/it]"
     ]
    },
    {
     "name": "stdout",
     "output_type": "stream",
     "text": [
      "['évaluation']\n",
      "sense_intersect ['no_equality']\n",
      "expertise компетентность\n",
      "https://context.reverso.net/перевод/английский-французский/expertise\n",
      "['expertise', 'savoir-faire', 'compétence', 'expérience', 'connaissances spécialisées', 'spécialisation', 'savoir faire', 'maîtrise', 'spécialité', 'expert', 'spécialiste', 'spécialisé', 'services spécialisés', \"champs d'intérêt\", 'expert']\n",
      "https://context.reverso.net/перевод/русский-французский/компетентность\n"
     ]
    },
    {
     "name": "stderr",
     "output_type": "stream",
     "text": [
      "\r",
      " 39%|███▉      | 266/676 [22:24<33:43,  4.93s/it]"
     ]
    },
    {
     "name": "stdout",
     "output_type": "stream",
     "text": [
      "['compétence']\n",
      "sense_intersect ['compétence']\n",
      "expertise мастерство\n",
      "https://context.reverso.net/перевод/английский-французский/expertise\n",
      "['expertise', 'savoir-faire', 'compétence', 'expérience', 'connaissances spécialisées', 'spécialisation', 'savoir faire', 'maîtrise', 'spécialité', 'expert', 'spécialiste', 'spécialisé', 'services spécialisés', \"champs d'intérêt\", 'expert']\n",
      "https://context.reverso.net/перевод/русский-французский/мастерство\n"
     ]
    },
    {
     "name": "stderr",
     "output_type": "stream",
     "text": [
      "\r",
      " 39%|███▉      | 267/676 [22:29<33:33,  4.92s/it]"
     ]
    },
    {
     "name": "stdout",
     "output_type": "stream",
     "text": [
      "['talent']\n",
      "sense_intersect ['no_equality']\n",
      "expertise квалификация\n",
      "https://context.reverso.net/перевод/английский-французский/expertise\n",
      "['expertise', 'savoir-faire', 'compétence', 'expérience', 'connaissances spécialisées', 'spécialisation', 'savoir faire', 'maîtrise', 'spécialité', 'expert', 'spécialiste', 'spécialisé', 'services spécialisés', \"champs d'intérêt\", 'expert']\n",
      "https://context.reverso.net/перевод/русский-французский/квалификация\n"
     ]
    },
    {
     "name": "stderr",
     "output_type": "stream",
     "text": [
      "\r",
      " 40%|███▉      | 268/676 [22:34<33:33,  4.94s/it]"
     ]
    },
    {
     "name": "stdout",
     "output_type": "stream",
     "text": [
      "['qualification']\n",
      "sense_intersect ['no_equality']\n",
      "expertise опыт\n",
      "https://context.reverso.net/перевод/английский-французский/expertise\n",
      "['expertise', 'savoir-faire', 'compétence', 'expérience', 'connaissances spécialisées', 'spécialisation', 'savoir faire', 'maîtrise', 'spécialité', 'expert', 'spécialiste', 'spécialisé', 'services spécialisés', \"champs d'intérêt\", 'expert']\n",
      "https://context.reverso.net/перевод/русский-французский/опыт\n"
     ]
    },
    {
     "name": "stderr",
     "output_type": "stream",
     "text": [
      "\r",
      " 40%|███▉      | 269/676 [22:39<33:54,  5.00s/it]"
     ]
    },
    {
     "name": "stdout",
     "output_type": "stream",
     "text": [
      "['expérience', 'compétence', 'expertise', 'savoir-faire', 'exemple', 'bilan', 'connaissances spécialisées', 'acquis', 'enseignement', 'leçon', 'pratique', 'résultat']\n",
      "sense_intersect ['expertise', 'savoir-faire', 'compétence', 'expérience', 'connaissances spécialisées']\n",
      "expertise экспертные знания\n",
      "https://context.reverso.net/перевод/английский-французский/expertise\n",
      "['expertise', 'savoir-faire', 'compétence', 'expérience', 'connaissances spécialisées', 'spécialisation', 'savoir faire', 'maîtrise', 'spécialité', 'expert', 'spécialiste', 'spécialisé', 'services spécialisés', \"champs d'intérêt\", 'expert']\n",
      "https://context.reverso.net/перевод/русский-французский/экспертные знания\n"
     ]
    },
    {
     "name": "stderr",
     "output_type": "stream",
     "text": [
      "\r",
      " 40%|███▉      | 270/676 [22:44<33:54,  5.01s/it]"
     ]
    },
    {
     "name": "stdout",
     "output_type": "stream",
     "text": [
      "['compétence']\n",
      "sense_intersect ['compétence']\n",
      "expertise эксперт\n",
      "https://context.reverso.net/перевод/английский-французский/expertise\n",
      "['expertise', 'savoir-faire', 'compétence', 'expérience', 'connaissances spécialisées', 'spécialisation', 'savoir faire', 'maîtrise', 'spécialité', 'expert', 'spécialiste', 'spécialisé', 'services spécialisés', \"champs d'intérêt\", 'expert']\n",
      "https://context.reverso.net/перевод/русский-французский/эксперт\n"
     ]
    },
    {
     "name": "stderr",
     "output_type": "stream",
     "text": [
      "\r",
      " 40%|████      | 271/676 [22:49<33:35,  4.98s/it]"
     ]
    },
    {
     "name": "stdout",
     "output_type": "stream",
     "text": [
      "['expert', 'experte', 'spécialiste']\n",
      "sense_intersect ['expert', 'spécialiste']\n",
      "expertise профессионализм\n",
      "https://context.reverso.net/перевод/английский-французский/expertise\n",
      "['expertise', 'savoir-faire', 'compétence', 'expérience', 'connaissances spécialisées', 'spécialisation', 'savoir faire', 'maîtrise', 'spécialité', 'expert', 'spécialiste', 'spécialisé', 'services spécialisés', \"champs d'intérêt\", 'expert']\n",
      "https://context.reverso.net/перевод/русский-французский/профессионализм\n"
     ]
    },
    {
     "name": "stderr",
     "output_type": "stream",
     "text": [
      "\r",
      " 40%|████      | 272/676 [22:54<33:31,  4.98s/it]"
     ]
    },
    {
     "name": "stdout",
     "output_type": "stream",
     "text": [
      "['professionnalisme']\n",
      "sense_intersect ['no_equality']\n",
      "expertise экспертный потенциал\n",
      "https://context.reverso.net/перевод/английский-французский/expertise\n",
      "['expertise', 'savoir-faire', 'compétence', 'expérience', 'connaissances spécialisées', 'spécialisation', 'savoir faire', 'maîtrise', 'spécialité', 'expert', 'spécialiste', 'spécialisé', 'services spécialisés', \"champs d'intérêt\", 'expert']\n",
      "https://context.reverso.net/перевод/русский-французский/экспертный потенциал\n",
      "turn to alternative marks\n"
     ]
    },
    {
     "name": "stderr",
     "output_type": "stream",
     "text": [
      "\r",
      " 40%|████      | 273/676 [22:59<33:27,  4.98s/it]"
     ]
    },
    {
     "name": "stdout",
     "output_type": "stream",
     "text": [
      "['savoir-faire', 'connaissances spécialisées', 'expertise', 'compétences techniques']\n",
      "sense_intersect ['expertise', 'savoir-faire', 'connaissances spécialisées']\n",
      "expertise знание дела\n",
      "https://context.reverso.net/перевод/английский-французский/expertise\n",
      "['expertise', 'savoir-faire', 'compétence', 'expérience', 'connaissances spécialisées', 'spécialisation', 'savoir faire', 'maîtrise', 'spécialité', 'expert', 'spécialiste', 'spécialisé', 'services spécialisés', \"champs d'intérêt\", 'expert']\n",
      "https://context.reverso.net/перевод/русский-французский/знание дела\n"
     ]
    },
    {
     "name": "stderr",
     "output_type": "stream",
     "text": [
      "\r",
      " 41%|████      | 274/676 [23:04<33:37,  5.02s/it]"
     ]
    },
    {
     "name": "stdout",
     "output_type": "stream",
     "text": [
      "['connaissance', 'savoir', 'connaissance', 'aptitude', 'maîtrise', 'affaire', 'cas', 'ça va', 'dossier', 'cause']\n",
      "sense_intersect ['maîtrise']\n",
      "expertise деловой опыт\n",
      "https://context.reverso.net/перевод/английский-французский/expertise\n",
      "['expertise', 'savoir-faire', 'compétence', 'expérience', 'connaissances spécialisées', 'spécialisation', 'savoir faire', 'maîtrise', 'spécialité', 'expert', 'spécialiste', 'spécialisé', 'services spécialisés', \"champs d'intérêt\", 'expert']\n",
      "https://context.reverso.net/перевод/русский-французский/деловой опыт\n"
     ]
    },
    {
     "name": "stderr",
     "output_type": "stream",
     "text": [
      "\r",
      " 41%|████      | 275/676 [23:09<33:54,  5.07s/it]"
     ]
    },
    {
     "name": "stdout",
     "output_type": "stream",
     "text": [
      "['commercial', \"d'affaires\", 'économique', 'affaire', 'expérience', 'compétence', 'enseignement', 'expertise', 'savoir-faire']\n",
      "sense_intersect ['expertise', 'savoir-faire', 'compétence', 'expérience']\n",
      "expertise экспертный\n",
      "https://context.reverso.net/перевод/английский-французский/expertise\n",
      "['expertise', 'savoir-faire', 'compétence', 'expérience', 'connaissances spécialisées', 'spécialisation', 'savoir faire', 'maîtrise', 'spécialité', 'expert', 'spécialiste', 'spécialisé', 'services spécialisés', \"champs d'intérêt\", 'expert']\n",
      "https://context.reverso.net/перевод/русский-французский/экспертный\n"
     ]
    },
    {
     "name": "stderr",
     "output_type": "stream",
     "text": [
      "\r",
      " 41%|████      | 276/676 [23:14<33:34,  5.04s/it]"
     ]
    },
    {
     "name": "stdout",
     "output_type": "stream",
     "text": [
      "[\"d'experts\", 'compétence']\n",
      "sense_intersect ['compétence']\n",
      "tell рассказывать\n",
      "https://context.reverso.net/перевод/английский-французский/tell\n",
      "['dire', 'parler', 'raconter', 'savoir', 'prévenir', 'expliquer', 'annoncer', 'indiquer', 'faire', 'informer', 'donner', 'avouer', 'répéter', 'apprendre', 'distinguer', 'conter', 'relater', 'compter', 'dis-moi']\n",
      "https://context.reverso.net/перевод/русский-французский/рассказывать\n"
     ]
    },
    {
     "name": "stderr",
     "output_type": "stream",
     "text": [
      "\r",
      " 41%|████      | 277/676 [23:19<33:05,  4.98s/it]"
     ]
    },
    {
     "name": "stdout",
     "output_type": "stream",
     "text": [
      "['dire', 'raconter', 'en parler', 'histoire']\n",
      "sense_intersect ['dire', 'raconter']\n",
      "tell говорить\n",
      "https://context.reverso.net/перевод/английский-французский/tell\n",
      "['dire', 'parler', 'raconter', 'savoir', 'prévenir', 'expliquer', 'annoncer', 'indiquer', 'faire', 'informer', 'donner', 'avouer', 'répéter', 'apprendre', 'distinguer', 'conter', 'relater', 'compter', 'dis-moi']\n",
      "https://context.reverso.net/перевод/русский-французский/говорить\n"
     ]
    },
    {
     "name": "stderr",
     "output_type": "stream",
     "text": [
      "\r",
      " 41%|████      | 278/676 [23:24<32:53,  4.96s/it]"
     ]
    },
    {
     "name": "stdout",
     "output_type": "stream",
     "text": [
      "['parler', 'dire', 'faire', 'discuter', 'raconter', 'répéter', 'exprimer', 'taire', 'préciser', 'annoncer', 'affirmer', 'rien', 'discours']\n",
      "sense_intersect ['dire', 'parler', 'raconter', 'annoncer', 'faire', 'répéter']\n",
      "tell сообщать\n",
      "https://context.reverso.net/перевод/английский-французский/tell\n",
      "['dire', 'parler', 'raconter', 'savoir', 'prévenir', 'expliquer', 'annoncer', 'indiquer', 'faire', 'informer', 'donner', 'avouer', 'répéter', 'apprendre', 'distinguer', 'conter', 'relater', 'compter', 'dis-moi']\n",
      "https://context.reverso.net/перевод/русский-французский/сообщать\n"
     ]
    },
    {
     "name": "stderr",
     "output_type": "stream",
     "text": [
      "\r",
      " 41%|████▏     | 279/676 [23:29<32:54,  4.97s/it]"
     ]
    },
    {
     "name": "stdout",
     "output_type": "stream",
     "text": [
      "['informer', 'dire', 'communiquer', 'annoncer', 'indiquer', 'rapporter', 'faire rapport', 'signaler', 'rendre compte', 'dénoncer', 'déclarer']\n",
      "sense_intersect ['dire', 'annoncer', 'indiquer', 'informer']\n",
      "tell указывать\n",
      "https://context.reverso.net/перевод/английский-французский/tell\n",
      "['dire', 'parler', 'raconter', 'savoir', 'prévenir', 'expliquer', 'annoncer', 'indiquer', 'faire', 'informer', 'donner', 'avouer', 'répéter', 'apprendre', 'distinguer', 'conter', 'relater', 'compter', 'dis-moi']\n",
      "https://context.reverso.net/перевод/русский-французский/указывать\n"
     ]
    },
    {
     "name": "stderr",
     "output_type": "stream",
     "text": [
      "\r",
      " 41%|████▏     | 280/676 [23:34<32:55,  4.99s/it]"
     ]
    },
    {
     "name": "stdout",
     "output_type": "stream",
     "text": [
      "['indiquer', 'dire', 'préciser', 'spécifier', 'mentionner']\n",
      "sense_intersect ['dire', 'indiquer']\n",
      "tell уверять\n",
      "https://context.reverso.net/перевод/английский-французский/tell\n",
      "['dire', 'parler', 'raconter', 'savoir', 'prévenir', 'expliquer', 'annoncer', 'indiquer', 'faire', 'informer', 'donner', 'avouer', 'répéter', 'apprendre', 'distinguer', 'conter', 'relater', 'compter', 'dis-moi']\n",
      "https://context.reverso.net/перевод/русский-французский/уверять\n",
      "turn to alternative marks\n"
     ]
    },
    {
     "name": "stderr",
     "output_type": "stream",
     "text": [
      "\r",
      " 42%|████▏     | 281/676 [23:39<32:47,  4.98s/it]"
     ]
    },
    {
     "name": "stdout",
     "output_type": "stream",
     "text": [
      "[]\n",
      "sense_intersect ['no_equality']\n",
      "tell велеть\n",
      "https://context.reverso.net/перевод/английский-французский/tell\n",
      "['dire', 'parler', 'raconter', 'savoir', 'prévenir', 'expliquer', 'annoncer', 'indiquer', 'faire', 'informer', 'donner', 'avouer', 'répéter', 'apprendre', 'distinguer', 'conter', 'relater', 'compter', 'dis-moi']\n",
      "https://context.reverso.net/перевод/русский-французский/велеть\n",
      "turn to alternative marks\n"
     ]
    },
    {
     "name": "stderr",
     "output_type": "stream",
     "text": [
      "\r",
      " 42%|████▏     | 282/676 [23:44<32:57,  5.02s/it]"
     ]
    },
    {
     "name": "stdout",
     "output_type": "stream",
     "text": [
      "['ordonner']\n",
      "sense_intersect ['no_equality']\n",
      "tell подсказать\n",
      "https://context.reverso.net/перевод/английский-французский/tell\n",
      "['dire', 'parler', 'raconter', 'savoir', 'prévenir', 'expliquer', 'annoncer', 'indiquer', 'faire', 'informer', 'donner', 'avouer', 'répéter', 'apprendre', 'distinguer', 'conter', 'relater', 'compter', 'dis-moi']\n",
      "https://context.reverso.net/перевод/русский-французский/подсказать\n",
      "turn to alternative marks\n"
     ]
    },
    {
     "name": "stderr",
     "output_type": "stream",
     "text": [
      "\r",
      " 42%|████▏     | 283/676 [23:50<33:39,  5.14s/it]"
     ]
    },
    {
     "name": "stdout",
     "output_type": "stream",
     "text": [
      "[\"m'indiquer\", 'indiquer la direction']\n",
      "sense_intersect ['no_equality']\n",
      "tell поведать\n",
      "https://context.reverso.net/перевод/английский-французский/tell\n",
      "['dire', 'parler', 'raconter', 'savoir', 'prévenir', 'expliquer', 'annoncer', 'indiquer', 'faire', 'informer', 'donner', 'avouer', 'répéter', 'apprendre', 'distinguer', 'conter', 'relater', 'compter', 'dis-moi']\n",
      "https://context.reverso.net/перевод/русский-французский/поведать\n"
     ]
    },
    {
     "name": "stderr",
     "output_type": "stream",
     "text": [
      "\r",
      " 42%|████▏     | 284/676 [23:55<33:12,  5.08s/it]"
     ]
    },
    {
     "name": "stdout",
     "output_type": "stream",
     "text": [
      "['raconter', 'dire']\n",
      "sense_intersect ['dire', 'raconter']\n",
      "tell объяснить\n",
      "https://context.reverso.net/перевод/английский-французский/tell\n",
      "['dire', 'parler', 'raconter', 'savoir', 'prévenir', 'expliquer', 'annoncer', 'indiquer', 'faire', 'informer', 'donner', 'avouer', 'répéter', 'apprendre', 'distinguer', 'conter', 'relater', 'compter', 'dis-moi']\n",
      "https://context.reverso.net/перевод/русский-французский/объяснить\n"
     ]
    },
    {
     "name": "stderr",
     "output_type": "stream",
     "text": [
      "\r",
      " 42%|████▏     | 285/676 [24:00<32:52,  5.04s/it]"
     ]
    },
    {
     "name": "stdout",
     "output_type": "stream",
     "text": [
      "['expliquer', 'dire', 'justifier', 'explication', 'parler', 'pourquoi']\n",
      "sense_intersect ['dire', 'parler', 'expliquer']\n",
      "tell передать\n",
      "https://context.reverso.net/перевод/английский-французский/tell\n",
      "['dire', 'parler', 'raconter', 'savoir', 'prévenir', 'expliquer', 'annoncer', 'indiquer', 'faire', 'informer', 'donner', 'avouer', 'répéter', 'apprendre', 'distinguer', 'conter', 'relater', 'compter', 'dis-moi']\n",
      "https://context.reverso.net/перевод/русский-французский/передать\n"
     ]
    },
    {
     "name": "stderr",
     "output_type": "stream",
     "text": [
      "\r",
      " 42%|████▏     | 286/676 [24:04<32:39,  5.02s/it]"
     ]
    },
    {
     "name": "stdout",
     "output_type": "stream",
     "text": [
      "['transmettre', 'donner', 'dire', 'transférer', 'remettre', 'renvoyer', 'passer', 'envoyer', 'soumettre', 'communiquer', 'livrer', 'confier', 'exprimer', 'présenter', 'adresser']\n",
      "sense_intersect ['dire', 'donner']\n",
      "tell попросить\n",
      "https://context.reverso.net/перевод/английский-французский/tell\n",
      "['dire', 'parler', 'raconter', 'savoir', 'prévenir', 'expliquer', 'annoncer', 'indiquer', 'faire', 'informer', 'donner', 'avouer', 'répéter', 'apprendre', 'distinguer', 'conter', 'relater', 'compter', 'dis-moi']\n",
      "https://context.reverso.net/перевод/русский-французский/попросить\n"
     ]
    },
    {
     "name": "stderr",
     "output_type": "stream",
     "text": [
      "\r",
      " 42%|████▏     | 287/676 [24:09<32:20,  4.99s/it]"
     ]
    },
    {
     "name": "stdout",
     "output_type": "stream",
     "text": [
      "['demander', 'prier', 'dire à', 'avoir', 'excuser', 'faire', 'service', 'faveur']\n",
      "sense_intersect ['faire']\n",
      "tell поделиться\n",
      "https://context.reverso.net/перевод/английский-французский/tell\n",
      "['dire', 'parler', 'raconter', 'savoir', 'prévenir', 'expliquer', 'annoncer', 'indiquer', 'faire', 'informer', 'donner', 'avouer', 'répéter', 'apprendre', 'distinguer', 'conter', 'relater', 'compter', 'dis-moi']\n",
      "https://context.reverso.net/перевод/русский-французский/поделиться\n"
     ]
    },
    {
     "name": "stderr",
     "output_type": "stream",
     "text": [
      "\r",
      " 43%|████▎     | 288/676 [24:14<32:20,  5.00s/it]"
     ]
    },
    {
     "name": "stdout",
     "output_type": "stream",
     "text": [
      "['partager', 'faire part', 'échanger', 'communiquer', 'présenter', 'faire connaître', 'faire profiter']\n",
      "sense_intersect ['no_equality']\n",
      "tell отличить\n",
      "https://context.reverso.net/перевод/английский-французский/tell\n",
      "['dire', 'parler', 'raconter', 'savoir', 'prévenir', 'expliquer', 'annoncer', 'indiquer', 'faire', 'informer', 'donner', 'avouer', 'répéter', 'apprendre', 'distinguer', 'conter', 'relater', 'compter', 'dis-moi']\n",
      "https://context.reverso.net/перевод/русский-французский/отличить\n"
     ]
    },
    {
     "name": "stderr",
     "output_type": "stream",
     "text": [
      "\r",
      " 43%|████▎     | 289/676 [24:22<37:02,  5.74s/it]"
     ]
    },
    {
     "name": "stdout",
     "output_type": "stream",
     "text": [
      "['distinguer', 'différencier']\n",
      "sense_intersect ['distinguer']\n",
      "tell сказаться\n",
      "https://context.reverso.net/перевод/английский-французский/tell\n",
      "['dire', 'parler', 'raconter', 'savoir', 'prévenir', 'expliquer', 'annoncer', 'indiquer', 'faire', 'informer', 'donner', 'avouer', 'répéter', 'apprendre', 'distinguer', 'conter', 'relater', 'compter', 'dis-moi']\n",
      "https://context.reverso.net/перевод/русский-французский/сказаться\n"
     ]
    },
    {
     "name": "stderr",
     "output_type": "stream",
     "text": [
      "\r",
      " 43%|████▎     | 290/676 [24:27<36:23,  5.66s/it]"
     ]
    },
    {
     "name": "stdout",
     "output_type": "stream",
     "text": [
      "['affecter', 'avoir une incidence', 'nuire', 'compromettre']\n",
      "sense_intersect ['no_equality']\n",
      "feel чувствовать\n",
      "https://context.reverso.net/перевод/английский-французский/feel\n",
      "['sentir', 'ressentir', 'penser', 'se sentir', 'estimer', 'éprouver', 'sembler', 'toucher', 'sens', 'sentiment', 'envie', 'sensation', 'fait', 'atmosphère', 'estimé', 'senti', 'se sentent', 'avoir', \"avoir l'impression\", 'tâter', 'percevoir', 'avoir pitié', 'palper']\n",
      "https://context.reverso.net/перевод/русский-французский/чувствовать\n"
     ]
    },
    {
     "name": "stderr",
     "output_type": "stream",
     "text": [
      "\r",
      " 43%|████▎     | 291/676 [24:32<35:03,  5.46s/it]"
     ]
    },
    {
     "name": "stdout",
     "output_type": "stream",
     "text": [
      "['sentir', 'ressentir', 'se sentir', 'penser', 'croire', 'aise', 'impression', 'fait', 'avoir', 'culpabiliser']\n",
      "sense_intersect ['sentir', 'ressentir', 'penser', 'se sentir', 'fait', 'avoir']\n",
      "feel полагать\n",
      "https://context.reverso.net/перевод/английский-французский/feel\n",
      "['sentir', 'ressentir', 'penser', 'se sentir', 'estimer', 'éprouver', 'sembler', 'toucher', 'sens', 'sentiment', 'envie', 'sensation', 'fait', 'atmosphère', 'estimé', 'senti', 'se sentent', 'avoir', \"avoir l'impression\", 'tâter', 'percevoir', 'avoir pitié', 'palper']\n",
      "https://context.reverso.net/перевод/русский-французский/полагать\n"
     ]
    },
    {
     "name": "stderr",
     "output_type": "stream",
     "text": [
      "\r",
      " 43%|████▎     | 292/676 [24:38<34:21,  5.37s/it]"
     ]
    },
    {
     "name": "stdout",
     "output_type": "stream",
     "text": [
      "['croire', 'supposer', 'considérer', 'penser']\n",
      "sense_intersect ['penser']\n",
      "feel ощупывать\n",
      "https://context.reverso.net/перевод/английский-французский/feel\n",
      "['sentir', 'ressentir', 'penser', 'se sentir', 'estimer', 'éprouver', 'sembler', 'toucher', 'sens', 'sentiment', 'envie', 'sensation', 'fait', 'atmosphère', 'estimé', 'senti', 'se sentent', 'avoir', \"avoir l'impression\", 'tâter', 'percevoir', 'avoir pitié', 'palper']\n",
      "https://context.reverso.net/перевод/русский-французский/ощупывать\n",
      "turn to alternative marks\n"
     ]
    },
    {
     "name": "stderr",
     "output_type": "stream",
     "text": [
      "\r",
      " 43%|████▎     | 293/676 [24:42<33:21,  5.22s/it]"
     ]
    },
    {
     "name": "stdout",
     "output_type": "stream",
     "text": [
      "[]\n",
      "sense_intersect ['no_equality']\n",
      "feel испытывать\n",
      "https://context.reverso.net/перевод/английский-французский/feel\n",
      "['sentir', 'ressentir', 'penser', 'se sentir', 'estimer', 'éprouver', 'sembler', 'toucher', 'sens', 'sentiment', 'envie', 'sensation', 'fait', 'atmosphère', 'estimé', 'senti', 'se sentent', 'avoir', \"avoir l'impression\", 'tâter', 'percevoir', 'avoir pitié', 'palper']\n",
      "https://context.reverso.net/перевод/русский-французский/испытывать\n"
     ]
    },
    {
     "name": "stderr",
     "output_type": "stream",
     "text": [
      "\r",
      " 43%|████▎     | 294/676 [24:48<33:22,  5.24s/it]"
     ]
    },
    {
     "name": "stdout",
     "output_type": "stream",
     "text": [
      "['ressentir', 'souffrir', 'tester', 'éprouver', 'subir', 'avoir']\n",
      "sense_intersect ['ressentir', 'éprouver', 'avoir']\n",
      "feel стесняться\n",
      "https://context.reverso.net/перевод/английский-французский/feel\n",
      "['sentir', 'ressentir', 'penser', 'se sentir', 'estimer', 'éprouver', 'sembler', 'toucher', 'sens', 'sentiment', 'envie', 'sensation', 'fait', 'atmosphère', 'estimé', 'senti', 'se sentent', 'avoir', \"avoir l'impression\", 'tâter', 'percevoir', 'avoir pitié', 'palper']\n",
      "https://context.reverso.net/перевод/русский-французский/стесняться\n",
      "turn to alternative marks\n"
     ]
    },
    {
     "name": "stderr",
     "output_type": "stream",
     "text": [
      "\r",
      " 44%|████▎     | 295/676 [24:57<41:24,  6.52s/it]"
     ]
    },
    {
     "name": "stdout",
     "output_type": "stream",
     "text": [
      "['avoir honte', 'être embarrassé', 'hésiter', 'être timide', 'être gênée', 'timide avec']\n",
      "sense_intersect ['no_equality']\n",
      "feel ощущение\n",
      "https://context.reverso.net/перевод/английский-французский/feel\n",
      "['sentir', 'ressentir', 'penser', 'se sentir', 'estimer', 'éprouver', 'sembler', 'toucher', 'sens', 'sentiment', 'envie', 'sensation', 'fait', 'atmosphère', 'estimé', 'senti', 'se sentent', 'avoir', \"avoir l'impression\", 'tâter', 'percevoir', 'avoir pitié', 'palper']\n",
      "https://context.reverso.net/перевод/русский-французский/ощущение\n"
     ]
    },
    {
     "name": "stderr",
     "output_type": "stream",
     "text": [
      "\r",
      " 44%|████▍     | 296/676 [25:02<38:35,  6.09s/it]"
     ]
    },
    {
     "name": "stdout",
     "output_type": "stream",
     "text": [
      "['sentiment', 'sensation', 'sens', 'comme', \"j'ai l'impression\", 'on dirait']\n",
      "sense_intersect ['sens', 'sentiment', 'sensation']\n",
      "news новость\n",
      "https://context.reverso.net/перевод/английский-французский/news\n",
      "['nouvelle', 'nouvelle', 'news', 'actualité', 'information', 'presse', 'info', 'journal', 'nouveau', 'média', 'annonce', 'nouveauté', 'télé', 'journal télévisé', 'téléjournal', 'actualité']\n",
      "https://context.reverso.net/перевод/русский-французский/новость\n"
     ]
    },
    {
     "name": "stderr",
     "output_type": "stream",
     "text": [
      "\r",
      " 44%|████▍     | 297/676 [25:09<39:05,  6.19s/it]"
     ]
    },
    {
     "name": "stdout",
     "output_type": "stream",
     "text": [
      "['nouvelle', 'nouveau', 'scoop', 'info']\n",
      "sense_intersect ['nouvelle', 'info', 'nouveau']\n",
      "news весточка\n",
      "https://context.reverso.net/перевод/английский-французский/news\n",
      "['nouvelle', 'nouvelle', 'news', 'actualité', 'information', 'presse', 'info', 'journal', 'nouveau', 'média', 'annonce', 'nouveauté', 'télé', 'journal télévisé', 'téléjournal', 'actualité']\n",
      "https://context.reverso.net/перевод/русский-французский/весточка\n",
      "turn to alternative marks\n"
     ]
    },
    {
     "name": "stderr",
     "output_type": "stream",
     "text": [
      "\r",
      " 44%|████▍     | 298/676 [25:14<36:59,  5.87s/it]"
     ]
    },
    {
     "name": "stdout",
     "output_type": "stream",
     "text": [
      "['tu as des nouvelles', 'populi']\n",
      "sense_intersect ['no_equality']\n",
      "news Ньюс\n",
      "https://context.reverso.net/перевод/английский-французский/news\n",
      "['nouvelle', 'nouvelle', 'news', 'actualité', 'information', 'presse', 'info', 'journal', 'nouveau', 'média', 'annonce', 'nouveauté', 'télé', 'journal télévisé', 'téléjournal', 'actualité']\n",
      "https://context.reverso.net/перевод/русский-французский/Ньюс\n"
     ]
    },
    {
     "name": "stderr",
     "output_type": "stream",
     "text": [
      "\r",
      " 44%|████▍     | 299/676 [25:19<35:28,  5.65s/it]"
     ]
    },
    {
     "name": "stdout",
     "output_type": "stream",
     "text": [
      "['news']\n",
      "sense_intersect ['news']\n",
      "news новинка\n",
      "https://context.reverso.net/перевод/английский-французский/news\n",
      "['nouvelle', 'nouvelle', 'news', 'actualité', 'information', 'presse', 'info', 'journal', 'nouveau', 'média', 'annonce', 'nouveauté', 'télé', 'journal télévisé', 'téléjournal', 'actualité']\n",
      "https://context.reverso.net/перевод/русский-французский/новинка\n",
      "turn to alternative marks\n"
     ]
    },
    {
     "name": "stderr",
     "output_type": "stream",
     "text": [
      "\r",
      " 44%|████▍     | 300/676 [25:24<34:37,  5.53s/it]"
     ]
    },
    {
     "name": "stdout",
     "output_type": "stream",
     "text": [
      "['nouveauté']\n",
      "sense_intersect ['nouveauté']\n",
      "news выпуск новостей\n",
      "https://context.reverso.net/перевод/английский-французский/news\n",
      "['nouvelle', 'nouvelle', 'news', 'actualité', 'information', 'presse', 'info', 'journal', 'nouveau', 'média', 'annonce', 'nouveauté', 'télé', 'journal télévisé', 'téléjournal', 'actualité']\n",
      "https://context.reverso.net/перевод/русский-французский/выпуск новостей\n"
     ]
    },
    {
     "name": "stderr",
     "output_type": "stream",
     "text": [
      "\r",
      " 45%|████▍     | 301/676 [25:30<34:31,  5.52s/it]"
     ]
    },
    {
     "name": "stdout",
     "output_type": "stream",
     "text": [
      "['publication', 'production', 'numéro', 'édition', 'émission', 'information', 'nouvelle', 'news', 'journal', 'actualité']\n",
      "sense_intersect ['nouvelle', 'news', 'actualité', 'information', 'journal | journal télévisé']\n",
      "news известия\n",
      "https://context.reverso.net/перевод/английский-французский/news\n",
      "['nouvelle', 'nouvelle', 'news', 'actualité', 'information', 'presse', 'info', 'journal', 'nouveau', 'média', 'annonce', 'nouveauté', 'télé', 'journal télévisé', 'téléjournal', 'actualité']\n",
      "https://context.reverso.net/перевод/русский-французский/известия\n",
      "turn to alternative marks\n"
     ]
    },
    {
     "name": "stderr",
     "output_type": "stream",
     "text": [
      "\r",
      " 45%|████▍     | 302/676 [25:36<36:39,  5.88s/it]"
     ]
    },
    {
     "name": "stdout",
     "output_type": "stream",
     "text": [
      "['nouvelle']\n",
      "sense_intersect ['nouvelle']\n",
      "news новостной\n",
      "https://context.reverso.net/перевод/английский-французский/news\n",
      "['nouvelle', 'nouvelle', 'news', 'actualité', 'information', 'presse', 'info', 'journal', 'nouveau', 'média', 'annonce', 'nouveauté', 'télé', 'journal télévisé', 'téléjournal', 'actualité']\n",
      "https://context.reverso.net/перевод/русский-французский/новостной\n",
      "turn to alternative marks\n"
     ]
    },
    {
     "name": "stderr",
     "output_type": "stream",
     "text": [
      "\r",
      " 45%|████▍     | 303/676 [25:41<34:54,  5.61s/it]"
     ]
    },
    {
     "name": "stdout",
     "output_type": "stream",
     "text": [
      "['des infos', 'un journal']\n",
      "sense_intersect ['no_equality']\n",
      "start начать\n",
      "https://context.reverso.net/перевод/английский-французский/start\n",
      "['commencer', 'démarrer', 'débuter', 'recommencer', 'entamer', 'partir', 'faire', 'mettre', 'début', 'départ', 'démarrage', 'abord', 'lancement', 'avance', 'commencement', 'origine', 'lancer', 'engager', 'entreprendre', 'reprendre', 'déclencher', 'déclenchement', 'point de départ', 'se mettre', 'se lancer']\n",
      "https://context.reverso.net/перевод/русский-французский/начать\n"
     ]
    },
    {
     "name": "stderr",
     "output_type": "stream",
     "text": [
      "\r",
      " 45%|████▍     | 304/676 [25:47<34:10,  5.51s/it]"
     ]
    },
    {
     "name": "stdout",
     "output_type": "stream",
     "text": [
      "['commencer à', 'lancer', 'entamer', 'engager', 'démarrer', 'ouvrir', 'prendre', 'mettre', 'débuter', 'reprendre', 'repartir', 'entreprendre', 'déclencher', 'amorcer', 'départ']\n",
      "sense_intersect ['démarrer', 'débuter', 'entamer', 'mettre', 'départ', 'lancer', 'engager', 'entreprendre', 'reprendre', 'déclencher']\n",
      "start запустить\n",
      "https://context.reverso.net/перевод/английский-французский/start\n",
      "['commencer', 'démarrer', 'débuter', 'recommencer', 'entamer', 'partir', 'faire', 'mettre', 'début', 'départ', 'démarrage', 'abord', 'lancement', 'avance', 'commencement', 'origine', 'lancer', 'engager', 'entreprendre', 'reprendre', 'déclencher', 'déclenchement', 'point de départ', 'se mettre', 'se lancer']\n",
      "https://context.reverso.net/перевод/русский-французский/запустить\n"
     ]
    },
    {
     "name": "stderr",
     "output_type": "stream",
     "text": [
      "\r",
      " 45%|████▌     | 305/676 [25:52<33:38,  5.44s/it]"
     ]
    },
    {
     "name": "stdout",
     "output_type": "stream",
     "text": [
      "['lancer', 'démarrer', 'déclencher', 'envoyer', 'mettre', 'faire']\n",
      "sense_intersect ['démarrer', 'faire', 'mettre', 'lancer', 'déclencher']\n",
      "start вздрагивать\n",
      "https://context.reverso.net/перевод/английский-французский/start\n",
      "['commencer', 'démarrer', 'débuter', 'recommencer', 'entamer', 'partir', 'faire', 'mettre', 'début', 'départ', 'démarrage', 'abord', 'lancement', 'avance', 'commencement', 'origine', 'lancer', 'engager', 'entreprendre', 'reprendre', 'déclencher', 'déclenchement', 'point de départ', 'se mettre', 'se lancer']\n",
      "https://context.reverso.net/перевод/русский-французский/вздрагивать\n",
      "turn to alternative marks\n"
     ]
    },
    {
     "name": "stderr",
     "output_type": "stream",
     "text": [
      "\r",
      " 45%|████▌     | 306/676 [25:57<33:09,  5.38s/it]"
     ]
    },
    {
     "name": "stdout",
     "output_type": "stream",
     "text": [
      "[]\n",
      "sense_intersect ['no_equality']\n",
      "start завести\n",
      "https://context.reverso.net/перевод/английский-французский/start\n",
      "['commencer', 'démarrer', 'débuter', 'recommencer', 'entamer', 'partir', 'faire', 'mettre', 'début', 'départ', 'démarrage', 'abord', 'lancement', 'avance', 'commencement', 'origine', 'lancer', 'engager', 'entreprendre', 'reprendre', 'déclencher', 'déclenchement', 'point de départ', 'se mettre', 'se lancer']\n",
      "https://context.reverso.net/перевод/русский-французский/завести\n"
     ]
    },
    {
     "name": "stderr",
     "output_type": "stream",
     "text": [
      "\r",
      " 45%|████▌     | 307/676 [26:02<32:19,  5.26s/it]"
     ]
    },
    {
     "name": "stdout",
     "output_type": "stream",
     "text": [
      "['fonder', 'démarrer', 'avoir', 'faire', 'prendre']\n",
      "sense_intersect ['démarrer', 'faire']\n",
      "start заняться\n",
      "https://context.reverso.net/перевод/английский-французский/start\n",
      "['commencer', 'démarrer', 'débuter', 'recommencer', 'entamer', 'partir', 'faire', 'mettre', 'début', 'départ', 'démarrage', 'abord', 'lancement', 'avance', 'commencement', 'origine', 'lancer', 'engager', 'entreprendre', 'reprendre', 'déclencher', 'déclenchement', 'point de départ', 'se mettre', 'se lancer']\n",
      "https://context.reverso.net/перевод/русский-французский/заняться\n"
     ]
    },
    {
     "name": "stderr",
     "output_type": "stream",
     "text": [
      "\r",
      " 46%|████▌     | 308/676 [26:07<31:44,  5.18s/it]"
     ]
    },
    {
     "name": "stdout",
     "output_type": "stream",
     "text": [
      "['faire', 'traiter', 'aborder', 'examiner', \"s'occuper\", 'travailler', 'régler', 'étudier', \"s'attaquer à\", 'se pencher sur', 'gérer', 'entreprendre', 'commencer']\n",
      "sense_intersect ['commencer', 'faire', 'entreprendre']\n",
      "start затеять\n",
      "https://context.reverso.net/перевод/английский-французский/start\n",
      "['commencer', 'démarrer', 'débuter', 'recommencer', 'entamer', 'partir', 'faire', 'mettre', 'début', 'départ', 'démarrage', 'abord', 'lancement', 'avance', 'commencement', 'origine', 'lancer', 'engager', 'entreprendre', 'reprendre', 'déclencher', 'déclenchement', 'point de départ', 'se mettre', 'se lancer']\n",
      "https://context.reverso.net/перевод/русский-французский/затеять\n",
      "turn to alternative marks\n"
     ]
    },
    {
     "name": "stderr",
     "output_type": "stream",
     "text": [
      "\r",
      " 46%|████▌     | 309/676 [26:12<31:33,  5.16s/it]"
     ]
    },
    {
     "name": "stdout",
     "output_type": "stream",
     "text": [
      "[]\n",
      "sense_intersect ['no_equality']\n",
      "start начало\n",
      "https://context.reverso.net/перевод/английский-французский/start\n",
      "['commencer', 'démarrer', 'débuter', 'recommencer', 'entamer', 'partir', 'faire', 'mettre', 'début', 'départ', 'démarrage', 'abord', 'lancement', 'avance', 'commencement', 'origine', 'lancer', 'engager', 'entreprendre', 'reprendre', 'déclencher', 'déclenchement', 'point de départ', 'se mettre', 'se lancer']\n",
      "https://context.reverso.net/перевод/русский-французский/начало\n"
     ]
    },
    {
     "name": "stderr",
     "output_type": "stream",
     "text": [
      "\r",
      " 46%|████▌     | 310/676 [26:17<31:13,  5.12s/it]"
     ]
    },
    {
     "name": "stdout",
     "output_type": "stream",
     "text": [
      "['début', 'lancement', 'départ', 'commencement', 'ouverture', 'démarrage', 'engagé', 'a commencé', 'a entrepris', 'ça commence']\n",
      "sense_intersect ['début', 'départ', 'démarrage', 'lancement', 'commencement']\n",
      "start старт\n",
      "https://context.reverso.net/перевод/английский-французский/start\n",
      "['commencer', 'démarrer', 'débuter', 'recommencer', 'entamer', 'partir', 'faire', 'mettre', 'début', 'départ', 'démarrage', 'abord', 'lancement', 'avance', 'commencement', 'origine', 'lancer', 'engager', 'entreprendre', 'reprendre', 'déclencher', 'déclenchement', 'point de départ', 'se mettre', 'se lancer']\n",
      "https://context.reverso.net/перевод/русский-французский/старт\n"
     ]
    },
    {
     "name": "stderr",
     "output_type": "stream",
     "text": [
      "\r",
      " 46%|████▌     | 311/676 [26:22<30:57,  5.09s/it]"
     ]
    },
    {
     "name": "stdout",
     "output_type": "stream",
     "text": [
      "['départ', 'début', 'vos marques', 'start']\n",
      "sense_intersect ['début', 'départ']\n",
      "start начальный\n",
      "https://context.reverso.net/перевод/английский-французский/start\n",
      "['commencer', 'démarrer', 'débuter', 'recommencer', 'entamer', 'partir', 'faire', 'mettre', 'début', 'départ', 'démarrage', 'abord', 'lancement', 'avance', 'commencement', 'origine', 'lancer', 'engager', 'entreprendre', 'reprendre', 'déclencher', 'déclenchement', 'point de départ', 'se mettre', 'se lancer']\n",
      "https://context.reverso.net/перевод/русский-французский/начальный\n"
     ]
    },
    {
     "name": "stderr",
     "output_type": "stream",
     "text": [
      "\r",
      " 46%|████▌     | 312/676 [26:28<31:24,  5.18s/it]"
     ]
    },
    {
     "name": "stdout",
     "output_type": "stream",
     "text": [
      "['initial']\n",
      "sense_intersect ['no_equality']\n",
      "intelligent умный\n",
      "https://context.reverso.net/перевод/английский-французский/intelligent\n",
      "['intelligent', 'intelligence', 'intelligemment', 'judicieux']\n",
      "https://context.reverso.net/перевод/русский-французский/умный\n"
     ]
    },
    {
     "name": "stderr",
     "output_type": "stream",
     "text": [
      "\r",
      " 46%|████▋     | 313/676 [26:33<31:52,  5.27s/it]"
     ]
    },
    {
     "name": "stdout",
     "output_type": "stream",
     "text": [
      "['intelligent', 'malin', 'brillant', 'futé']\n",
      "sense_intersect ['intelligent']\n",
      "intelligent разумный\n",
      "https://context.reverso.net/перевод/английский-французский/intelligent\n",
      "['intelligent', 'intelligence', 'intelligemment', 'judicieux']\n",
      "https://context.reverso.net/перевод/русский-французский/разумный\n"
     ]
    },
    {
     "name": "stderr",
     "output_type": "stream",
     "text": [
      "\r",
      " 46%|████▋     | 314/676 [26:39<32:34,  5.40s/it]"
     ]
    },
    {
     "name": "stdout",
     "output_type": "stream",
     "text": [
      "['raisonnable']\n",
      "sense_intersect ['no_equality']\n",
      "intelligent осмысленный\n",
      "https://context.reverso.net/перевод/английский-французский/intelligent\n",
      "['intelligent', 'intelligence', 'intelligemment', 'judicieux']\n",
      "https://context.reverso.net/перевод/русский-французский/осмысленный\n",
      "turn to alternative marks\n"
     ]
    },
    {
     "name": "stderr",
     "output_type": "stream",
     "text": [
      "\r",
      " 47%|████▋     | 315/676 [26:44<32:02,  5.32s/it]"
     ]
    },
    {
     "name": "stdout",
     "output_type": "stream",
     "text": [
      "[]\n",
      "sense_intersect ['no_equality']\n",
      "intelligent продуманный\n",
      "https://context.reverso.net/перевод/английский-французский/intelligent\n",
      "['intelligent', 'intelligence', 'intelligemment', 'judicieux']\n",
      "https://context.reverso.net/перевод/русский-французский/продуманный\n",
      "turn to alternative marks\n"
     ]
    },
    {
     "name": "stderr",
     "output_type": "stream",
     "text": [
      "\r",
      " 47%|████▋     | 316/676 [26:50<32:42,  5.45s/it]"
     ]
    },
    {
     "name": "stdout",
     "output_type": "stream",
     "text": [
      "['réfléchie', 'élaboré', 'calculés']\n",
      "sense_intersect ['no_equality']\n",
      "intelligent неглупый\n",
      "https://context.reverso.net/перевод/английский-французский/intelligent\n",
      "['intelligent', 'intelligence', 'intelligemment', 'judicieux']\n",
      "https://context.reverso.net/перевод/русский-французский/неглупый\n",
      "turn to alternative marks\n"
     ]
    },
    {
     "name": "stderr",
     "output_type": "stream",
     "text": [
      "\r",
      " 47%|████▋     | 317/676 [26:55<31:45,  5.31s/it]"
     ]
    },
    {
     "name": "stdout",
     "output_type": "stream",
     "text": [
      "['intelligent', 'futé']\n",
      "sense_intersect ['intelligent']\n",
      "intelligent микропроцессорный\n",
      "https://context.reverso.net/перевод/английский-французский/intelligent\n",
      "['intelligent', 'intelligence', 'intelligemment', 'judicieux']\n",
      "https://context.reverso.net/перевод/русский-французский/микропроцессорный\n",
      "turn to alternative marks\n"
     ]
    },
    {
     "name": "stderr",
     "output_type": "stream",
     "text": [
      "\r",
      " 47%|████▋     | 318/676 [27:01<33:33,  5.62s/it]"
     ]
    },
    {
     "name": "stdout",
     "output_type": "stream",
     "text": [
      "[]\n",
      "sense_intersect ['no_equality']\n",
      "intelligent понятливый\n",
      "https://context.reverso.net/перевод/английский-французский/intelligent\n",
      "['intelligent', 'intelligence', 'intelligemment', 'judicieux']\n",
      "https://context.reverso.net/перевод/русский-французский/понятливый\n",
      "turn to alternative marks\n"
     ]
    },
    {
     "name": "stderr",
     "output_type": "stream",
     "text": [
      "\r",
      " 47%|████▋     | 319/676 [27:06<32:45,  5.51s/it]"
     ]
    },
    {
     "name": "stdout",
     "output_type": "stream",
     "text": [
      "[]\n",
      "sense_intersect ['no_equality']\n",
      "intelligent мыслящий\n",
      "https://context.reverso.net/перевод/английский-французский/intelligent\n",
      "['intelligent', 'intelligence', 'intelligemment', 'judicieux']\n",
      "https://context.reverso.net/перевод/русский-французский/мыслящий\n",
      "turn to alternative marks\n"
     ]
    },
    {
     "name": "stderr",
     "output_type": "stream",
     "text": [
      "\r",
      " 47%|████▋     | 320/676 [27:12<32:21,  5.45s/it]"
     ]
    },
    {
     "name": "stdout",
     "output_type": "stream",
     "text": [
      "[]\n",
      "sense_intersect ['no_equality']\n",
      "intelligent программируемый\n",
      "https://context.reverso.net/перевод/английский-французский/intelligent\n",
      "['intelligent', 'intelligence', 'intelligemment', 'judicieux']\n",
      "https://context.reverso.net/перевод/русский-французский/программируемый\n",
      "turn to alternative marks\n"
     ]
    },
    {
     "name": "stderr",
     "output_type": "stream",
     "text": [
      "\r",
      " 47%|████▋     | 321/676 [27:17<32:09,  5.43s/it]"
     ]
    },
    {
     "name": "stdout",
     "output_type": "stream",
     "text": [
      "['programmable']\n",
      "sense_intersect ['no_equality']\n",
      "intelligent настраиваемый\n",
      "https://context.reverso.net/перевод/английский-французский/intelligent\n",
      "['intelligent', 'intelligence', 'intelligemment', 'judicieux']\n",
      "https://context.reverso.net/перевод/русский-французский/настраиваемый\n",
      "turn to alternative marks\n"
     ]
    },
    {
     "name": "stderr",
     "output_type": "stream",
     "text": [
      "\r",
      " 48%|████▊     | 322/676 [27:22<30:58,  5.25s/it]"
     ]
    },
    {
     "name": "stdout",
     "output_type": "stream",
     "text": [
      "['personnalisé', 'personnalisable']\n",
      "sense_intersect ['no_equality']\n",
      "intelligent понимающий\n",
      "https://context.reverso.net/перевод/английский-французский/intelligent\n",
      "['intelligent', 'intelligence', 'intelligemment', 'judicieux']\n",
      "https://context.reverso.net/перевод/русский-французский/понимающий\n",
      "turn to alternative marks\n"
     ]
    },
    {
     "name": "stderr",
     "output_type": "stream",
     "text": [
      "\r",
      " 48%|████▊     | 323/676 [27:27<30:23,  5.17s/it]"
     ]
    },
    {
     "name": "stdout",
     "output_type": "stream",
     "text": [
      "['compréhensif', 'compréhensible', 'qui comprend']\n",
      "sense_intersect ['no_equality']\n",
      "refugee беженец\n",
      "https://context.reverso.net/перевод/английский-французский/refugee\n",
      "['réfugié', 'réfugié', 'refugee', 'asile', 'refuge', 'immigration', 'hcr', 'spr']\n",
      "https://context.reverso.net/перевод/русский-французский/беженец\n"
     ]
    },
    {
     "name": "stderr",
     "output_type": "stream",
     "text": [
      "\r",
      " 48%|████▊     | 324/676 [27:32<30:18,  5.17s/it]"
     ]
    },
    {
     "name": "stdout",
     "output_type": "stream",
     "text": [
      "['réfugié']\n",
      "sense_intersect ['réfugié']\n",
      "refugee беженка\n",
      "https://context.reverso.net/перевод/английский-французский/refugee\n",
      "['réfugié', 'réfugié', 'refugee', 'asile', 'refuge', 'immigration', 'hcr', 'spr']\n",
      "https://context.reverso.net/перевод/русский-французский/беженка\n",
      "turn to alternative marks\n"
     ]
    },
    {
     "name": "stderr",
     "output_type": "stream",
     "text": [
      "\r",
      " 48%|████▊     | 325/676 [27:37<29:58,  5.12s/it]"
     ]
    },
    {
     "name": "stdout",
     "output_type": "stream",
     "text": [
      "['réfugié']\n",
      "sense_intersect ['réfugié']\n",
      "refugee беглец\n",
      "https://context.reverso.net/перевод/английский-французский/refugee\n",
      "['réfugié', 'réfugié', 'refugee', 'asile', 'refuge', 'immigration', 'hcr', 'spr']\n",
      "https://context.reverso.net/перевод/русский-французский/беглец\n"
     ]
    },
    {
     "name": "stderr",
     "output_type": "stream",
     "text": [
      "\r",
      " 48%|████▊     | 326/676 [27:42<29:43,  5.10s/it]"
     ]
    },
    {
     "name": "stdout",
     "output_type": "stream",
     "text": [
      "['fugitif']\n",
      "sense_intersect ['no_equality']\n",
      "refugee беженский\n",
      "https://context.reverso.net/перевод/английский-французский/refugee\n",
      "['réfugié', 'réfugié', 'refugee', 'asile', 'refuge', 'immigration', 'hcr', 'spr']\n",
      "https://context.reverso.net/перевод/русский-французский/беженский\n",
      "turn to alternative marks\n"
     ]
    },
    {
     "name": "stderr",
     "output_type": "stream",
     "text": [
      "\r",
      " 48%|████▊     | 327/676 [27:47<30:09,  5.18s/it]"
     ]
    },
    {
     "name": "stdout",
     "output_type": "stream",
     "text": [
      "['relatif aux réfugiés']\n",
      "sense_intersect ['no_equality']\n",
      "create создавать\n",
      "https://context.reverso.net/перевод/английский-французский/create\n",
      "['créer', 'établir', 'instaurer', 'donner', 'produire', 'constituer', 'réaliser', 'former', 'générer', 'élaborer', 'susciter', 'engendrer', 'mettre en place', 'offrir', 'sensibiliser', 'causer', 'aménager', 'faire naître', 'entraînent']\n",
      "https://context.reverso.net/перевод/русский-французский/создавать\n"
     ]
    },
    {
     "name": "stderr",
     "output_type": "stream",
     "text": [
      "\r",
      " 49%|████▊     | 328/676 [27:53<30:03,  5.18s/it]"
     ]
    },
    {
     "name": "stdout",
     "output_type": "stream",
     "text": [
      "['créer', 'constituer', 'établir', 'former', 'poser', 'construire', 'fonder', 'offrir', 'produire', 'instaurer', 'fabriquer', 'développer', 'concevoir', 'causer', 'mettre en place des']\n",
      "sense_intersect ['créer', 'établir', 'instaurer', 'produire', 'constituer', 'former', 'offrir', 'causer']\n",
      "create порождать\n",
      "https://context.reverso.net/перевод/английский-французский/create\n",
      "['créer', 'établir', 'instaurer', 'donner', 'produire', 'constituer', 'réaliser', 'former', 'générer', 'élaborer', 'susciter', 'engendrer', 'mettre en place', 'offrir', 'sensibiliser', 'causer', 'aménager', 'faire naître', 'entraînent']\n",
      "https://context.reverso.net/перевод/русский-французский/порождать\n"
     ]
    },
    {
     "name": "stderr",
     "output_type": "stream",
     "text": [
      "\r",
      " 49%|████▊     | 329/676 [27:58<29:37,  5.12s/it]"
     ]
    },
    {
     "name": "stdout",
     "output_type": "stream",
     "text": [
      "['produire']\n",
      "sense_intersect ['produire']\n",
      "create вызывать\n",
      "https://context.reverso.net/перевод/английский-французский/create\n",
      "['créer', 'établir', 'instaurer', 'donner', 'produire', 'constituer', 'réaliser', 'former', 'générer', 'élaborer', 'susciter', 'engendrer', 'mettre en place', 'offrir', 'sensibiliser', 'causer', 'aménager', 'faire naître', 'entraînent']\n",
      "https://context.reverso.net/перевод/русский-французский/вызывать\n"
     ]
    },
    {
     "name": "stderr",
     "output_type": "stream",
     "text": [
      "\r",
      " 49%|████▉     | 330/676 [28:05<32:36,  5.65s/it]"
     ]
    },
    {
     "name": "stdout",
     "output_type": "stream",
     "text": [
      "['appeler', 'susciter', 'causer', 'provoquer', 'poser', 'entraîner']\n",
      "sense_intersect ['susciter', 'causer']\n",
      "create производить\n",
      "https://context.reverso.net/перевод/английский-французский/create\n",
      "['créer', 'établir', 'instaurer', 'donner', 'produire', 'constituer', 'réaliser', 'former', 'générer', 'élaborer', 'susciter', 'engendrer', 'mettre en place', 'offrir', 'sensibiliser', 'causer', 'aménager', 'faire naître', 'entraînent']\n",
      "https://context.reverso.net/перевод/русский-французский/производить\n"
     ]
    },
    {
     "name": "stderr",
     "output_type": "stream",
     "text": [
      "\r",
      " 49%|████▉     | 331/676 [28:10<32:44,  5.69s/it]"
     ]
    },
    {
     "name": "stdout",
     "output_type": "stream",
     "text": [
      "['produire', 'fabriquer', 'effectuer', 'faire', 'procéder à']\n",
      "sense_intersect ['produire']\n",
      "create разработать\n",
      "https://context.reverso.net/перевод/английский-французский/create\n",
      "['créer', 'établir', 'instaurer', 'donner', 'produire', 'constituer', 'réaliser', 'former', 'générer', 'élaborer', 'susciter', 'engendrer', 'mettre en place', 'offrir', 'sensibiliser', 'causer', 'aménager', 'faire naître', 'entraînent']\n",
      "https://context.reverso.net/перевод/русский-французский/разработать\n"
     ]
    },
    {
     "name": "stderr",
     "output_type": "stream",
     "text": [
      "\r",
      " 49%|████▉     | 332/676 [28:16<32:18,  5.63s/it]"
     ]
    },
    {
     "name": "stdout",
     "output_type": "stream",
     "text": [
      "['élaborer', 'mettre au point', 'établir', 'mettre en place', 'concevoir', 'définir', 'développer', 'formuler', 'adopter', 'créer', 'trouver', 'rédiger', 'proposer', 'fixer', 'mettre sur pied']\n",
      "sense_intersect ['créer', 'établir', 'élaborer', 'mettre en place']\n",
      "create образовать\n",
      "https://context.reverso.net/перевод/английский-французский/create\n",
      "['créer', 'établir', 'instaurer', 'donner', 'produire', 'constituer', 'réaliser', 'former', 'générer', 'élaborer', 'susciter', 'engendrer', 'mettre en place', 'offrir', 'sensibiliser', 'causer', 'aménager', 'faire naître', 'entraînent']\n",
      "https://context.reverso.net/перевод/русский-французский/образовать\n",
      "turn to alternative marks\n"
     ]
    },
    {
     "name": "stderr",
     "output_type": "stream",
     "text": [
      "\r",
      " 49%|████▉     | 333/676 [28:21<31:06,  5.44s/it]"
     ]
    },
    {
     "name": "stdout",
     "output_type": "stream",
     "text": [
      "['constituer', 'former', 'créer un']\n",
      "sense_intersect ['constituer', 'former']\n",
      "nobody никто\n",
      "https://context.reverso.net/перевод/английский-французский/nobody\n",
      "['personne ne', 'personne', 'on ne', 'nul ne', \"on n'\", 'rien', \"nul n'\", 'nobody', 'nul', 'ni', 'moins que rien', 'tout le monde', \"il n'\"]\n",
      "https://context.reverso.net/перевод/русский-французский/никто\n"
     ]
    },
    {
     "name": "stderr",
     "output_type": "stream",
     "text": [
      "\r",
      " 49%|████▉     | 334/676 [28:26<30:49,  5.41s/it]"
     ]
    },
    {
     "name": "stdout",
     "output_type": "stream",
     "text": [
      "['personne', 'aucun', 'nul', 'rien', 'ni', 'jamais', 'ça', 'monde', 'tout', 'gens', 'sans', 'quiconque', 'seul', 'non']\n",
      "sense_intersect ['personne', 'rien', 'nul', 'ni']\n",
      "nobody некого\n",
      "https://context.reverso.net/перевод/английский-французский/nobody\n",
      "['personne ne', 'personne', 'on ne', 'nul ne', \"on n'\", 'rien', \"nul n'\", 'nobody', 'nul', 'ni', 'moins que rien', 'tout le monde', \"il n'\"]\n",
      "https://context.reverso.net/перевод/русский-французский/некого\n",
      "turn to alternative marks\n"
     ]
    },
    {
     "name": "stderr",
     "output_type": "stream",
     "text": [
      "\r",
      " 50%|████▉     | 335/676 [28:31<30:12,  5.32s/it]"
     ]
    },
    {
     "name": "stdout",
     "output_type": "stream",
     "text": [
      "[\"n'ai personne à\", \"y a personne d'autre\", \"n'ai plus personne à\", \"n'ai personne d'autre à qui\", \"n'as personne d'autre à\"]\n",
      "sense_intersect ['no_equality']\n",
      "nobody ничей\n",
      "https://context.reverso.net/перевод/английский-французский/nobody\n",
      "['personne ne', 'personne', 'on ne', 'nul ne', \"on n'\", 'rien', \"nul n'\", 'nobody', 'nul', 'ni', 'moins que rien', 'tout le monde', \"il n'\"]\n",
      "https://context.reverso.net/перевод/русский-французский/ничей\n",
      "turn to alternative marks\n"
     ]
    },
    {
     "name": "stderr",
     "output_type": "stream",
     "text": [
      "\r",
      " 50%|████▉     | 336/676 [28:36<29:34,  5.22s/it]"
     ]
    },
    {
     "name": "stdout",
     "output_type": "stream",
     "text": [
      "['aucun']\n",
      "sense_intersect ['no_equality']\n",
      "nobody ничтожество\n",
      "https://context.reverso.net/перевод/английский-французский/nobody\n",
      "['personne ne', 'personne', 'on ne', 'nul ne', \"on n'\", 'rien', \"nul n'\", 'nobody', 'nul', 'ni', 'moins que rien', 'tout le monde', \"il n'\"]\n",
      "https://context.reverso.net/перевод/русский-французский/ничтожество\n",
      "turn to alternative marks\n"
     ]
    },
    {
     "name": "stderr",
     "output_type": "stream",
     "text": [
      "\r",
      " 50%|████▉     | 337/676 [28:41<29:02,  5.14s/it]"
     ]
    },
    {
     "name": "stdout",
     "output_type": "stream",
     "text": [
      "['abruti', 'nul', 'nullité', 'pauvre type', 'néant', 'bon à rien', \"n'es rien\", 'minable', 'ne suis rien', 'es pathétique', 'salaud', 'imbécile', 'misérable', 'baderne', 'idiot']\n",
      "sense_intersect ['nul']\n",
      "word слово\n",
      "https://context.reverso.net/перевод/английский-французский/word\n",
      "['mot', 'parole', 'terme', 'nouvelle', 'dit', 'parole', 'rien', 'texte', 'parler', 'dire', 'exprimer', 'expression', 'parlé', 'promesse', 'ordre', 'propos', 'vocable', 'word', 'verbe']\n",
      "https://context.reverso.net/перевод/русский-французский/слово\n"
     ]
    },
    {
     "name": "stderr",
     "output_type": "stream",
     "text": [
      "\r",
      " 50%|█████     | 338/676 [28:46<29:07,  5.17s/it]"
     ]
    },
    {
     "name": "stdout",
     "output_type": "stream",
     "text": [
      "['mot', 'parole', 'terme', 'promesse', 'promis', 'expression', 'verbe', 'adjectif', 'dire', 'dit', 'promets', 'remplacer', 'parlé']\n",
      "sense_intersect ['mot', 'parole', 'terme', 'dit', 'dire', 'expression', 'parlé', 'promesse', 'verbe']\n",
      "word известие\n",
      "https://context.reverso.net/перевод/английский-французский/word\n",
      "['mot', 'parole', 'terme', 'nouvelle', 'dit', 'parole', 'rien', 'texte', 'parler', 'dire', 'exprimer', 'expression', 'parlé', 'promesse', 'ordre', 'propos', 'vocable', 'word', 'verbe']\n",
      "https://context.reverso.net/перевод/русский-французский/известие\n"
     ]
    },
    {
     "name": "stderr",
     "output_type": "stream",
     "text": [
      "\r",
      " 50%|█████     | 339/676 [28:52<28:57,  5.16s/it]"
     ]
    },
    {
     "name": "stdout",
     "output_type": "stream",
     "text": [
      "['nouvelle']\n",
      "sense_intersect ['nouvelle']\n",
      "word слова\n",
      "https://context.reverso.net/перевод/английский-французский/word\n",
      "['mot', 'parole', 'terme', 'nouvelle', 'dit', 'parole', 'rien', 'texte', 'parler', 'dire', 'exprimer', 'expression', 'parlé', 'promesse', 'ordre', 'propos', 'vocable', 'word', 'verbe']\n",
      "https://context.reverso.net/перевод/русский-французский/слова\n"
     ]
    },
    {
     "name": "stderr",
     "output_type": "stream",
     "text": [
      "\r",
      " 50%|█████     | 340/676 [28:57<30:00,  5.36s/it]"
     ]
    },
    {
     "name": "stdout",
     "output_type": "stream",
     "text": [
      "['mot', 'parole', 'expression', 'terme', 'dit', 'phrase', 'propos', 'dis', 'discours', 'déclaration', 'mention', 'formule', 'langage', 'parle']\n",
      "sense_intersect ['mot', 'parole', 'terme', 'dit', 'expression', 'propos']\n",
      "word говорить\n",
      "https://context.reverso.net/перевод/английский-французский/word\n",
      "['mot', 'parole', 'terme', 'nouvelle', 'dit', 'parole', 'rien', 'texte', 'parler', 'dire', 'exprimer', 'expression', 'parlé', 'promesse', 'ordre', 'propos', 'vocable', 'word', 'verbe']\n",
      "https://context.reverso.net/перевод/русский-французский/говорить\n"
     ]
    },
    {
     "name": "stderr",
     "output_type": "stream",
     "text": [
      "\r",
      " 50%|█████     | 341/676 [29:02<29:26,  5.27s/it]"
     ]
    },
    {
     "name": "stdout",
     "output_type": "stream",
     "text": [
      "['parler', 'dire', 'faire', 'discuter', 'raconter', 'répéter', 'exprimer', 'taire', 'préciser', 'annoncer', 'affirmer', 'rien', 'discours']\n",
      "sense_intersect ['rien', 'parler', 'dire', 'exprimer']\n",
      "word сформулировать\n",
      "https://context.reverso.net/перевод/английский-французский/word\n",
      "['mot', 'parole', 'terme', 'nouvelle', 'dit', 'parole', 'rien', 'texte', 'parler', 'dire', 'exprimer', 'expression', 'parlé', 'promesse', 'ordre', 'propos', 'vocable', 'word', 'verbe']\n",
      "https://context.reverso.net/перевод/русский-французский/сформулировать\n"
     ]
    },
    {
     "name": "stderr",
     "output_type": "stream",
     "text": [
      "\r",
      " 51%|█████     | 342/676 [29:08<29:24,  5.28s/it]"
     ]
    },
    {
     "name": "stdout",
     "output_type": "stream",
     "text": [
      "['formuler', 'élaborer', 'définir', 'faire']\n",
      "sense_intersect ['no_equality']\n",
      "word текстовый\n",
      "https://context.reverso.net/перевод/английский-французский/word\n",
      "['mot', 'parole', 'terme', 'nouvelle', 'dit', 'parole', 'rien', 'texte', 'parler', 'dire', 'exprimer', 'expression', 'parlé', 'promesse', 'ordre', 'propos', 'vocable', 'word', 'verbe']\n",
      "https://context.reverso.net/перевод/русский-французский/текстовый\n"
     ]
    },
    {
     "name": "stderr",
     "output_type": "stream",
     "text": [
      "\r",
      " 51%|█████     | 343/676 [29:13<28:40,  5.17s/it]"
     ]
    },
    {
     "name": "stdout",
     "output_type": "stream",
     "text": [
      "['texte']\n",
      "sense_intersect ['texte']\n",
      "word словесный\n",
      "https://context.reverso.net/перевод/английский-французский/word\n",
      "['mot', 'parole', 'terme', 'nouvelle', 'dit', 'parole', 'rien', 'texte', 'parler', 'dire', 'exprimer', 'expression', 'parlé', 'promesse', 'ordre', 'propos', 'vocable', 'word', 'verbe']\n",
      "https://context.reverso.net/перевод/русский-французский/словесный\n",
      "turn to alternative marks\n"
     ]
    },
    {
     "name": "stderr",
     "output_type": "stream",
     "text": [
      "\r",
      " 51%|█████     | 344/676 [29:18<28:11,  5.10s/it]"
     ]
    },
    {
     "name": "stdout",
     "output_type": "stream",
     "text": [
      "[]\n",
      "sense_intersect ['no_equality']\n",
      "genetically генетически\n",
      "https://context.reverso.net/перевод/английский-французский/genetically\n",
      "['génétiquement', 'génétique', 'ogm']\n",
      "https://context.reverso.net/перевод/русский-французский/генетически\n"
     ]
    },
    {
     "name": "stderr",
     "output_type": "stream",
     "text": [
      "\r",
      " 51%|█████     | 345/676 [29:23<27:53,  5.05s/it]"
     ]
    },
    {
     "name": "stdout",
     "output_type": "stream",
     "text": [
      "['génétiquement', 'génétique', 'ogm']\n",
      "sense_intersect ['génétiquement', 'génétique', 'ogm']\n",
      "genetically генетический\n",
      "https://context.reverso.net/перевод/английский-французский/genetically\n",
      "['génétiquement', 'génétique', 'ogm']\n",
      "https://context.reverso.net/перевод/русский-французский/генетический\n"
     ]
    },
    {
     "name": "stderr",
     "output_type": "stream",
     "text": [
      "\r",
      " 51%|█████     | 346/676 [29:28<28:09,  5.12s/it]"
     ]
    },
    {
     "name": "stdout",
     "output_type": "stream",
     "text": [
      "['génétique']\n",
      "sense_intersect ['génétique']\n",
      "mug кружка\n",
      "https://context.reverso.net/перевод/английский-французский/mug\n",
      "['tasse', 'mug', 'chope', 'gueule', 'gobelet', 'grande tasse', 'agresser', 'tronche', 'photo', 'tête', 'con']\n",
      "https://context.reverso.net/перевод/русский-французский/кружка\n"
     ]
    },
    {
     "name": "stderr",
     "output_type": "stream",
     "text": [
      "\r",
      " 51%|█████▏    | 347/676 [29:33<27:51,  5.08s/it]"
     ]
    },
    {
     "name": "stdout",
     "output_type": "stream",
     "text": [
      "['club', 'tasse']\n",
      "sense_intersect ['tasse']\n",
      "mug рожица\n",
      "https://context.reverso.net/перевод/английский-французский/mug\n",
      "['tasse', 'mug', 'chope', 'gueule', 'gobelet', 'grande tasse', 'agresser', 'tronche', 'photo', 'tête', 'con']\n",
      "https://context.reverso.net/перевод/русский-французский/рожица\n",
      "turn to alternative marks\n"
     ]
    },
    {
     "name": "stderr",
     "output_type": "stream",
     "text": [
      "\r",
      " 51%|█████▏    | 348/676 [29:38<27:32,  5.04s/it]"
     ]
    },
    {
     "name": "stdout",
     "output_type": "stream",
     "text": [
      "[]\n",
      "sense_intersect ['no_equality']\n",
      "mug бокал\n",
      "https://context.reverso.net/перевод/английский-французский/mug\n",
      "['tasse', 'mug', 'chope', 'gueule', 'gobelet', 'grande tasse', 'agresser', 'tronche', 'photo', 'tête', 'con']\n",
      "https://context.reverso.net/перевод/русский-французский/бокал\n"
     ]
    },
    {
     "name": "stderr",
     "output_type": "stream",
     "text": [
      "\r",
      " 52%|█████▏    | 349/676 [29:43<27:08,  4.98s/it]"
     ]
    },
    {
     "name": "stdout",
     "output_type": "stream",
     "text": [
      "['verre']\n",
      "sense_intersect ['no_equality']\n",
      "mug рыло\n",
      "https://context.reverso.net/перевод/английский-французский/mug\n",
      "['tasse', 'mug', 'chope', 'gueule', 'gobelet', 'grande tasse', 'agresser', 'tronche', 'photo', 'tête', 'con']\n",
      "https://context.reverso.net/перевод/русский-французский/рыло\n",
      "turn to alternative marks\n"
     ]
    },
    {
     "name": "stderr",
     "output_type": "stream",
     "text": [
      "\r",
      " 52%|█████▏    | 350/676 [29:47<26:46,  4.93s/it]"
     ]
    },
    {
     "name": "stdout",
     "output_type": "stream",
     "text": [
      "['mugs', 'nez', 'museau']\n",
      "sense_intersect ['no_equality']\n",
      "mug балбес\n",
      "https://context.reverso.net/перевод/английский-французский/mug\n",
      "['tasse', 'mug', 'chope', 'gueule', 'gobelet', 'grande tasse', 'agresser', 'tronche', 'photo', 'tête', 'con']\n",
      "https://context.reverso.net/перевод/русский-французский/балбес\n",
      "turn to alternative marks\n"
     ]
    },
    {
     "name": "stderr",
     "output_type": "stream",
     "text": [
      "\r",
      " 52%|█████▏    | 351/676 [29:52<26:36,  4.91s/it]"
     ]
    },
    {
     "name": "stdout",
     "output_type": "stream",
     "text": [
      "['idiot', 'couillon', 'barjo', 'crétin', 'taré']\n",
      "sense_intersect ['no_equality']\n",
      "mug мурло\n",
      "https://context.reverso.net/перевод/английский-французский/mug\n",
      "['tasse', 'mug', 'chope', 'gueule', 'gobelet', 'grande tasse', 'agresser', 'tronche', 'photo', 'tête', 'con']\n",
      "https://context.reverso.net/перевод/русский-французский/мурло\n",
      "turn to alternative marks\n"
     ]
    },
    {
     "name": "stderr",
     "output_type": "stream",
     "text": [
      "\r",
      " 52%|█████▏    | 352/676 [29:57<26:22,  4.89s/it]"
     ]
    },
    {
     "name": "stdout",
     "output_type": "stream",
     "text": [
      "[]\n",
      "sense_intersect ['no_equality']\n",
      "mug ебальник\n",
      "https://context.reverso.net/перевод/английский-французский/mug\n",
      "['tasse', 'mug', 'chope', 'gueule', 'gobelet', 'grande tasse', 'agresser', 'tronche', 'photo', 'tête', 'con']\n",
      "https://context.reverso.net/перевод/русский-французский/ебальник\n",
      "turn to alternative marks\n"
     ]
    },
    {
     "name": "stderr",
     "output_type": "stream",
     "text": [
      "\r",
      " 52%|█████▏    | 353/676 [30:02<26:18,  4.89s/it]"
     ]
    },
    {
     "name": "stdout",
     "output_type": "stream",
     "text": [
      "['tronche']\n",
      "sense_intersect ['tronche']\n",
      "mug грабить\n",
      "https://context.reverso.net/перевод/английский-французский/mug\n",
      "['tasse', 'mug', 'chope', 'gueule', 'gobelet', 'grande tasse', 'agresser', 'tronche', 'photo', 'tête', 'con']\n",
      "https://context.reverso.net/перевод/русский-французский/грабить\n"
     ]
    },
    {
     "name": "stderr",
     "output_type": "stream",
     "text": [
      "\r",
      " 52%|█████▏    | 354/676 [30:07<26:25,  4.92s/it]"
     ]
    },
    {
     "name": "stdout",
     "output_type": "stream",
     "text": [
      "['voler', 'braquer', 'piller']\n",
      "sense_intersect ['no_equality']\n",
      "countryside сельская местность\n",
      "https://context.reverso.net/перевод/английский-французский/countryside\n",
      "['campagne', 'paysage', 'nature', 'milieu rural', 'pays', 'espace rural', 'région', 'environs', 'verdure', 'arrière-pays', 'monde rural', 'espace naturel', 'banlieue', 'zones rurales', 'champêtre']\n",
      "https://context.reverso.net/перевод/русский-французский/сельская местность\n",
      "turn to alternative marks\n"
     ]
    },
    {
     "name": "stderr",
     "output_type": "stream",
     "text": [
      "\r",
      " 53%|█████▎    | 355/676 [30:12<26:23,  4.93s/it]"
     ]
    },
    {
     "name": "stdout",
     "output_type": "stream",
     "text": [
      "['campagne']\n",
      "sense_intersect ['campagne']\n",
      "countryside природа\n",
      "https://context.reverso.net/перевод/английский-французский/countryside\n",
      "['campagne', 'paysage', 'nature', 'milieu rural', 'pays', 'espace rural', 'région', 'environs', 'verdure', 'arrière-pays', 'monde rural', 'espace naturel', 'banlieue', 'zones rurales', 'champêtre']\n",
      "https://context.reverso.net/перевод/русский-французский/природа\n"
     ]
    },
    {
     "name": "stderr",
     "output_type": "stream",
     "text": [
      "\r",
      " 53%|█████▎    | 356/676 [30:17<26:33,  4.98s/it]"
     ]
    },
    {
     "name": "stdout",
     "output_type": "stream",
     "text": [
      "['nature']\n",
      "sense_intersect ['nature']\n",
      "countryside пригород\n",
      "https://context.reverso.net/перевод/английский-французский/countryside\n",
      "['campagne', 'paysage', 'nature', 'milieu rural', 'pays', 'espace rural', 'région', 'environs', 'verdure', 'arrière-pays', 'monde rural', 'espace naturel', 'banlieue', 'zones rurales', 'champêtre']\n",
      "https://context.reverso.net/перевод/русский-французский/пригород\n"
     ]
    },
    {
     "name": "stderr",
     "output_type": "stream",
     "text": [
      "\r",
      " 53%|█████▎    | 357/676 [30:22<26:22,  4.96s/it]"
     ]
    },
    {
     "name": "stdout",
     "output_type": "stream",
     "text": [
      "['banlieue']\n",
      "sense_intersect ['banlieue']\n",
      "countryside сельские районы\n",
      "https://context.reverso.net/перевод/английский-французский/countryside\n",
      "['campagne', 'paysage', 'nature', 'milieu rural', 'pays', 'espace rural', 'région', 'environs', 'verdure', 'arrière-pays', 'monde rural', 'espace naturel', 'banlieue', 'zones rurales', 'champêtre']\n",
      "https://context.reverso.net/перевод/русский-французский/сельские районы\n"
     ]
    },
    {
     "name": "stderr",
     "output_type": "stream",
     "text": [
      "\r",
      " 53%|█████▎    | 358/676 [30:27<26:14,  4.95s/it]"
     ]
    },
    {
     "name": "stdout",
     "output_type": "stream",
     "text": [
      "['les zones rurales']\n",
      "sense_intersect ['zones rurales | les zones rurales']\n",
      "countryside загородная местность\n",
      "https://context.reverso.net/перевод/английский-французский/countryside\n",
      "['campagne', 'paysage', 'nature', 'milieu rural', 'pays', 'espace rural', 'région', 'environs', 'verdure', 'arrière-pays', 'monde rural', 'espace naturel', 'banlieue', 'zones rurales', 'champêtre']\n",
      "https://context.reverso.net/перевод/русский-французский/загородная местность\n"
     ]
    },
    {
     "name": "stderr",
     "output_type": "stream",
     "text": [
      "\r",
      " 53%|█████▎    | 359/676 [30:32<25:59,  4.92s/it]"
     ]
    },
    {
     "name": "stdout",
     "output_type": "stream",
     "text": [
      "['zone', 'terrain', 'région', 'endroit', 'pays']\n",
      "sense_intersect ['pays', 'région']\n",
      "countryside сельский ландшафт\n",
      "https://context.reverso.net/перевод/английский-французский/countryside\n",
      "['campagne', 'paysage', 'nature', 'milieu rural', 'pays', 'espace rural', 'région', 'environs', 'verdure', 'arrière-pays', 'monde rural', 'espace naturel', 'banlieue', 'zones rurales', 'champêtre']\n",
      "https://context.reverso.net/перевод/русский-французский/сельский ландшафт\n"
     ]
    },
    {
     "name": "stderr",
     "output_type": "stream",
     "text": [
      "\r",
      " 53%|█████▎    | 360/676 [30:37<25:57,  4.93s/it]"
     ]
    },
    {
     "name": "stdout",
     "output_type": "stream",
     "text": [
      "['rural', 'village', 'de village', 'rustique', 'villageois', 'paysage', 'aménagement paysager']\n",
      "sense_intersect ['paysage']\n",
      "countryside сельский\n",
      "https://context.reverso.net/перевод/английский-французский/countryside\n",
      "['campagne', 'paysage', 'nature', 'milieu rural', 'pays', 'espace rural', 'région', 'environs', 'verdure', 'arrière-pays', 'monde rural', 'espace naturel', 'banlieue', 'zones rurales', 'champêtre']\n",
      "https://context.reverso.net/перевод/русский-французский/сельский\n"
     ]
    },
    {
     "name": "stderr",
     "output_type": "stream",
     "text": [
      "\r",
      " 53%|█████▎    | 361/676 [30:42<26:48,  5.10s/it]"
     ]
    },
    {
     "name": "stdout",
     "output_type": "stream",
     "text": [
      "['rural']\n",
      "sense_intersect ['no_equality']\n",
      "spoon ложка\n",
      "https://context.reverso.net/перевод/английский-французский/spoon\n",
      "['cuillère', 'cuiller', 'cuillérée', 'déposer', 'verser', 'répartir', 'napper', 'mettre', 'cuillière', 'spoon']\n",
      "https://context.reverso.net/перевод/русский-французский/ложка\n"
     ]
    },
    {
     "name": "stderr",
     "output_type": "stream",
     "text": [
      "\r",
      " 54%|█████▎    | 362/676 [30:47<26:19,  5.03s/it]"
     ]
    },
    {
     "name": "stdout",
     "output_type": "stream",
     "text": [
      "['cuillère']\n",
      "sense_intersect ['cuillère | cuillérée']\n",
      "spoon блесна\n",
      "https://context.reverso.net/перевод/английский-французский/spoon\n",
      "['cuillère', 'cuiller', 'cuillérée', 'déposer', 'verser', 'répartir', 'napper', 'mettre', 'cuillière', 'spoon']\n",
      "https://context.reverso.net/перевод/русский-французский/блесна\n",
      "turn to alternative marks\n"
     ]
    },
    {
     "name": "stderr",
     "output_type": "stream",
     "text": [
      "\r",
      " 54%|█████▎    | 363/676 [30:52<26:05,  5.00s/it]"
     ]
    },
    {
     "name": "stdout",
     "output_type": "stream",
     "text": [
      "[]\n",
      "sense_intersect ['no_equality']\n",
      "spoon обниматься\n",
      "https://context.reverso.net/перевод/английский-французский/spoon\n",
      "['cuillère', 'cuiller', 'cuillérée', 'déposer', 'verser', 'répartir', 'napper', 'mettre', 'cuillière', 'spoon']\n",
      "https://context.reverso.net/перевод/русский-французский/обниматься\n"
     ]
    },
    {
     "name": "stderr",
     "output_type": "stream",
     "text": [
      "\r",
      " 54%|█████▍    | 364/676 [30:57<26:24,  5.08s/it]"
     ]
    },
    {
     "name": "stdout",
     "output_type": "stream",
     "text": [
      "['câlin']\n",
      "sense_intersect ['no_equality']\n",
      "spoon черпать ложкой\n",
      "https://context.reverso.net/перевод/английский-французский/spoon\n",
      "['cuillère', 'cuiller', 'cuillérée', 'déposer', 'verser', 'répartir', 'napper', 'mettre', 'cuillière', 'spoon']\n",
      "https://context.reverso.net/перевод/русский-французский/черпать ложкой\n"
     ]
    },
    {
     "name": "stderr",
     "output_type": "stream",
     "text": [
      "\r",
      " 54%|█████▍    | 365/676 [31:03<26:36,  5.13s/it]"
     ]
    },
    {
     "name": "stdout",
     "output_type": "stream",
     "text": [
      "['puiser', 'canaliser']\n",
      "sense_intersect ['no_equality']\n",
      "journey путешествие\n",
      "https://context.reverso.net/перевод/английский-французский/journey\n",
      "['voyage', 'chemin', 'trajet', 'périple', 'route', 'cheminement', 'aventure', 'itinéraire', 'parcourir', 'voyager', 'marche', 'journée', 'déplacement', 'retour', 'transport', 'course']\n",
      "https://context.reverso.net/перевод/русский-французский/путешествие\n"
     ]
    },
    {
     "name": "stderr",
     "output_type": "stream",
     "text": [
      "\r",
      " 54%|█████▍    | 366/676 [31:07<26:16,  5.08s/it]"
     ]
    },
    {
     "name": "stdout",
     "output_type": "stream",
     "text": [
      "['voyage', 'aventure', 'voyager']\n",
      "sense_intersect ['voyage', 'aventure', 'voyager']\n",
      "journey путь\n",
      "https://context.reverso.net/перевод/английский-французский/journey\n",
      "['voyage', 'chemin', 'trajet', 'périple', 'route', 'cheminement', 'aventure', 'itinéraire', 'parcourir', 'voyager', 'marche', 'journée', 'déplacement', 'retour', 'transport', 'course']\n",
      "https://context.reverso.net/перевод/русский-французский/путь\n"
     ]
    },
    {
     "name": "stderr",
     "output_type": "stream",
     "text": [
      "\r",
      " 54%|█████▍    | 367/676 [31:12<25:50,  5.02s/it]"
     ]
    },
    {
     "name": "stdout",
     "output_type": "stream",
     "text": [
      "['voie', 'chemin', 'moyen', 'route', 'façon', 'voyage', 'solution', 'manière', 'ver', 'passage', 'parcours', 'trajet', 'progrès', 'issue', 'choix']\n",
      "sense_intersect ['voyage', 'chemin', 'trajet', 'route']\n",
      "journey рейс\n",
      "https://context.reverso.net/перевод/английский-французский/journey\n",
      "['voyage', 'chemin', 'trajet', 'périple', 'route', 'cheminement', 'aventure', 'itinéraire', 'parcourir', 'voyager', 'marche', 'journée', 'déplacement', 'retour', 'transport', 'course']\n",
      "https://context.reverso.net/перевод/русский-французский/рейс\n"
     ]
    },
    {
     "name": "stderr",
     "output_type": "stream",
     "text": [
      "\r",
      " 54%|█████▍    | 368/676 [31:17<25:54,  5.05s/it]"
     ]
    },
    {
     "name": "stdout",
     "output_type": "stream",
     "text": [
      "['vol', 'avion', 'voyage', 'reyes']\n",
      "sense_intersect ['voyage']\n",
      "journey проезд\n",
      "https://context.reverso.net/перевод/английский-французский/journey\n",
      "['voyage', 'chemin', 'trajet', 'périple', 'route', 'cheminement', 'aventure', 'itinéraire', 'parcourir', 'voyager', 'marche', 'journée', 'déplacement', 'retour', 'transport', 'course']\n",
      "https://context.reverso.net/перевод/русский-французский/проезд\n"
     ]
    },
    {
     "name": "stderr",
     "output_type": "stream",
     "text": [
      "\r",
      " 55%|█████▍    | 369/676 [31:22<25:46,  5.04s/it]"
     ]
    },
    {
     "name": "stdout",
     "output_type": "stream",
     "text": [
      "['voyage', 'passage', 'transport']\n",
      "sense_intersect ['voyage', 'transport']\n",
      "journey переезд\n",
      "https://context.reverso.net/перевод/английский-французский/journey\n",
      "['voyage', 'chemin', 'trajet', 'périple', 'route', 'cheminement', 'aventure', 'itinéraire', 'parcourir', 'voyager', 'marche', 'journée', 'déplacement', 'retour', 'transport', 'course']\n",
      "https://context.reverso.net/перевод/русский-французский/переезд\n"
     ]
    },
    {
     "name": "stderr",
     "output_type": "stream",
     "text": [
      "\r",
      " 55%|█████▍    | 370/676 [31:28<25:43,  5.05s/it]"
     ]
    },
    {
     "name": "stdout",
     "output_type": "stream",
     "text": [
      "['déménagement', 'réinstallation', 'déménager']\n",
      "sense_intersect ['no_equality']\n",
      "journey странствование\n",
      "https://context.reverso.net/перевод/английский-французский/journey\n",
      "['voyage', 'chemin', 'trajet', 'périple', 'route', 'cheminement', 'aventure', 'itinéraire', 'parcourir', 'voyager', 'marche', 'journée', 'déplacement', 'retour', 'transport', 'course']\n",
      "https://context.reverso.net/перевод/русский-французский/странствование\n",
      "turn to alternative marks\n"
     ]
    },
    {
     "name": "stderr",
     "output_type": "stream",
     "text": [
      "\r",
      " 55%|█████▍    | 371/676 [31:33<26:11,  5.15s/it]"
     ]
    },
    {
     "name": "stdout",
     "output_type": "stream",
     "text": [
      "[]\n",
      "sense_intersect ['no_equality']\n",
      "journey путешествовать\n",
      "https://context.reverso.net/перевод/английский-французский/journey\n",
      "['voyage', 'chemin', 'trajet', 'périple', 'route', 'cheminement', 'aventure', 'itinéraire', 'parcourir', 'voyager', 'marche', 'journée', 'déplacement', 'retour', 'transport', 'course']\n",
      "https://context.reverso.net/перевод/русский-французский/путешествовать\n"
     ]
    },
    {
     "name": "stderr",
     "output_type": "stream",
     "text": [
      "\r",
      " 55%|█████▌    | 372/676 [31:38<25:43,  5.08s/it]"
     ]
    },
    {
     "name": "stdout",
     "output_type": "stream",
     "text": [
      "['voyager']\n",
      "sense_intersect ['voyager']\n",
      "you вы\n",
      "https://context.reverso.net/перевод/английский-французский/you\n",
      "['vous', 'tu', 't', 'te', 'toi', 'on', 'il', 'votre', 'je', 'ça', 'avez-vous', 'as-tu', 'ton', \"c'\", 'nous', 'toi tu', 'avez', 'une']\n",
      "https://context.reverso.net/перевод/русский-французский/вы\n"
     ]
    },
    {
     "name": "stderr",
     "output_type": "stream",
     "text": [
      "\r",
      " 55%|█████▌    | 373/676 [31:43<25:19,  5.02s/it]"
     ]
    },
    {
     "name": "stdout",
     "output_type": "stream",
     "text": [
      "['tu', 'avez-vous', 'on', 'votre', 'je', \"c'\", 'êtes-vous', 'il', 'ça', 'toi', \"t'\", 'êtes', 'avez', 'es-tu']\n",
      "sense_intersect ['tu', 'toi', 'on', 'il', 'votre', 'je', 'ça', 'avez-vous', \"c'\", 'avez']\n",
      "you ты\n",
      "https://context.reverso.net/перевод/английский-французский/you\n",
      "['vous', 'tu', 't', 'te', 'toi', 'on', 'il', 'votre', 'je', 'ça', 'avez-vous', 'as-tu', 'ton', \"c'\", 'nous', 'toi tu', 'avez', 'une']\n",
      "https://context.reverso.net/перевод/русский-французский/ты\n"
     ]
    },
    {
     "name": "stderr",
     "output_type": "stream",
     "text": [
      "\r",
      " 55%|█████▌    | 374/676 [31:48<25:55,  5.15s/it]"
     ]
    },
    {
     "name": "stdout",
     "output_type": "stream",
     "text": [
      "['tu', 'toi', 'je', \"c'\", 'on', \"t'es\", 'as-tu', 'te', 'ça', 'il', 'ton', 'es-tu', 'pas', 'votre', 'êtes-vous']\n",
      "sense_intersect ['tu', 'te', 'toi', 'on', 'il', 'votre', 'je', 'ça', 'as-tu', 'ton', \"c'\"]\n",
      "table таблица\n",
      "https://context.reverso.net/перевод/английский-французский/table\n",
      "['tableau', 'table', 'plateau', 'baby-foot', 'tablette', 'classement', 'déposer', 'présenter', 'phréatique', 'tablée', 'bureau', 'tableau1', 'ping-pong', 'billard']\n",
      "https://context.reverso.net/перевод/русский-французский/таблица\n"
     ]
    },
    {
     "name": "stderr",
     "output_type": "stream",
     "text": [
      "\r",
      " 55%|█████▌    | 375/676 [31:53<25:37,  5.11s/it]"
     ]
    },
    {
     "name": "stdout",
     "output_type": "stream",
     "text": [
      "['tableau', 'table']\n",
      "sense_intersect ['tableau', 'table']\n",
      "table стол\n",
      "https://context.reverso.net/перевод/английский-французский/table\n",
      "['tableau', 'table', 'plateau', 'baby-foot', 'tablette', 'classement', 'déposer', 'présenter', 'phréatique', 'tablée', 'bureau', 'tableau1', 'ping-pong', 'billard']\n",
      "https://context.reverso.net/перевод/русский-французский/стол\n"
     ]
    },
    {
     "name": "stderr",
     "output_type": "stream",
     "text": [
      "\r",
      " 56%|█████▌    | 376/676 [31:58<25:24,  5.08s/it]"
     ]
    },
    {
     "name": "stdout",
     "output_type": "stream",
     "text": [
      "['table', 'bureau', 'buffet', 'manger']\n",
      "sense_intersect ['table', 'bureau']\n",
      "table скрижаль\n",
      "https://context.reverso.net/перевод/английский-французский/table\n",
      "['tableau', 'table', 'plateau', 'baby-foot', 'tablette', 'classement', 'déposer', 'présenter', 'phréatique', 'tablée', 'bureau', 'tableau1', 'ping-pong', 'billard']\n",
      "https://context.reverso.net/перевод/русский-французский/скрижаль\n"
     ]
    },
    {
     "name": "stderr",
     "output_type": "stream",
     "text": [
      "\r",
      " 56%|█████▌    | 377/676 [32:03<25:01,  5.02s/it]"
     ]
    },
    {
     "name": "stdout",
     "output_type": "stream",
     "text": [
      "['tablette']\n",
      "sense_intersect ['tablette']\n",
      "table расписание\n",
      "https://context.reverso.net/перевод/английский-французский/table\n",
      "['tableau', 'table', 'plateau', 'baby-foot', 'tablette', 'classement', 'déposer', 'présenter', 'phréatique', 'tablée', 'bureau', 'tableau1', 'ping-pong', 'billard']\n",
      "https://context.reverso.net/перевод/русский-французский/расписание\n"
     ]
    },
    {
     "name": "stderr",
     "output_type": "stream",
     "text": [
      "\r",
      " 56%|█████▌    | 378/676 [32:08<24:47,  4.99s/it]"
     ]
    },
    {
     "name": "stdout",
     "output_type": "stream",
     "text": [
      "['calendrier', 'emploi du temps', 'planning', 'agenda', 'programme', 'horaire', 'effectif']\n",
      "sense_intersect ['no_equality']\n",
      "table табель\n",
      "https://context.reverso.net/перевод/английский-французский/table\n",
      "['tableau', 'table', 'plateau', 'baby-foot', 'tablette', 'classement', 'déposer', 'présenter', 'phréatique', 'tablée', 'bureau', 'tableau1', 'ping-pong', 'billard']\n",
      "https://context.reverso.net/перевод/русский-французский/табель\n",
      "turn to alternative marks\n"
     ]
    },
    {
     "name": "stderr",
     "output_type": "stream",
     "text": [
      "\r",
      " 56%|█████▌    | 379/676 [32:13<25:17,  5.11s/it]"
     ]
    },
    {
     "name": "stdout",
     "output_type": "stream",
     "text": [
      "['bulletin', 'relevé']\n",
      "sense_intersect ['no_equality']\n",
      "table столовая\n",
      "https://context.reverso.net/перевод/английский-французский/table\n",
      "['tableau', 'table', 'plateau', 'baby-foot', 'tablette', 'classement', 'déposer', 'présenter', 'phréatique', 'tablée', 'bureau', 'tableau1', 'ping-pong', 'billard']\n",
      "https://context.reverso.net/перевод/русский-французский/столовая\n"
     ]
    },
    {
     "name": "stderr",
     "output_type": "stream",
     "text": [
      "\r",
      " 56%|█████▌    | 380/676 [32:18<25:02,  5.08s/it]"
     ]
    },
    {
     "name": "stdout",
     "output_type": "stream",
     "text": [
      "['salle à manger']\n",
      "sense_intersect ['no_equality']\n",
      "table табличка\n",
      "https://context.reverso.net/перевод/английский-французский/table\n",
      "['tableau', 'table', 'plateau', 'baby-foot', 'tablette', 'classement', 'déposer', 'présenter', 'phréatique', 'tablée', 'bureau', 'tableau1', 'ping-pong', 'billard']\n",
      "https://context.reverso.net/перевод/русский-французский/табличка\n"
     ]
    },
    {
     "name": "stderr",
     "output_type": "stream",
     "text": [
      "\r",
      " 56%|█████▋    | 381/676 [32:24<25:34,  5.20s/it]"
     ]
    },
    {
     "name": "stdout",
     "output_type": "stream",
     "text": [
      "['panneau', 'pancarte']\n",
      "sense_intersect ['no_equality']\n",
      "table настольный\n",
      "https://context.reverso.net/перевод/английский-французский/table\n",
      "['tableau', 'table', 'plateau', 'baby-foot', 'tablette', 'classement', 'déposer', 'présenter', 'phréatique', 'tablée', 'bureau', 'tableau1', 'ping-pong', 'billard']\n",
      "https://context.reverso.net/перевод/русский-французский/настольный\n",
      "turn to alternative marks\n"
     ]
    },
    {
     "name": "stderr",
     "output_type": "stream",
     "text": [
      "\r",
      " 57%|█████▋    | 382/676 [32:30<26:23,  5.39s/it]"
     ]
    },
    {
     "name": "stdout",
     "output_type": "stream",
     "text": [
      "['ordinateur', 'foot']\n",
      "sense_intersect ['no_equality']\n",
      "table табличный\n",
      "https://context.reverso.net/перевод/английский-французский/table\n",
      "['tableau', 'table', 'plateau', 'baby-foot', 'tablette', 'classement', 'déposer', 'présenter', 'phréatique', 'tablée', 'bureau', 'tableau1', 'ping-pong', 'billard']\n",
      "https://context.reverso.net/перевод/русский-французский/табличный\n",
      "turn to alternative marks\n"
     ]
    },
    {
     "name": "stderr",
     "output_type": "stream",
     "text": [
      "\r",
      " 57%|█████▋    | 383/676 [32:35<26:16,  5.38s/it]"
     ]
    },
    {
     "name": "stdout",
     "output_type": "stream",
     "text": [
      "['tabulaire']\n",
      "sense_intersect ['no_equality']\n",
      "table застольный\n",
      "https://context.reverso.net/перевод/английский-французский/table\n",
      "['tableau', 'table', 'plateau', 'baby-foot', 'tablette', 'classement', 'déposer', 'présenter', 'phréatique', 'tablée', 'bureau', 'tableau1', 'ping-pong', 'billard']\n",
      "https://context.reverso.net/перевод/русский-французский/застольный\n",
      "turn to alternative marks\n"
     ]
    },
    {
     "name": "stderr",
     "output_type": "stream",
     "text": [
      "\r",
      " 57%|█████▋    | 384/676 [32:41<26:59,  5.55s/it]"
     ]
    },
    {
     "name": "stdout",
     "output_type": "stream",
     "text": [
      "['ordinateur', 'foot']\n",
      "sense_intersect ['no_equality']\n",
      "table на стол\n",
      "https://context.reverso.net/перевод/английский-французский/table\n",
      "['tableau', 'table', 'plateau', 'baby-foot', 'tablette', 'classement', 'déposer', 'présenter', 'phréatique', 'tablée', 'bureau', 'tableau1', 'ping-pong', 'billard']\n",
      "https://context.reverso.net/перевод/русский-французский/на стол\n"
     ]
    },
    {
     "name": "stderr",
     "output_type": "stream",
     "text": [
      "\r",
      " 57%|█████▋    | 385/676 [32:47<27:02,  5.58s/it]"
     ]
    },
    {
     "name": "stdout",
     "output_type": "stream",
     "text": [
      "['sur la table', 'sur le bureau', 'sur mon bureau', 'sur table']\n",
      "sense_intersect ['no_equality']\n",
      "thing вещь\n",
      "https://context.reverso.net/перевод/английский-французский/thing\n",
      "['chose', 'tout', 'rien', 'histoire', 'fait', 'bien', 'affaire', 'problème', 'pareil', 'point', 'choix', 'machin', 'objet', 'créature', 'ça', 'important', 'article', 'thing']\n",
      "https://context.reverso.net/перевод/русский-французский/вещь\n"
     ]
    },
    {
     "name": "stderr",
     "output_type": "stream",
     "text": [
      "\r",
      " 57%|█████▋    | 386/676 [32:52<26:27,  5.48s/it]"
     ]
    },
    {
     "name": "stdout",
     "output_type": "stream",
     "text": [
      "['chose', 'truc', 'objet', 'important', 'ça', 'importante', 'bien', 'précieux', 'bizarre']\n",
      "sense_intersect ['chose', 'bien', 'objet', 'ça', 'important']\n",
      "thing дело\n",
      "https://context.reverso.net/перевод/английский-французский/thing\n",
      "['chose', 'tout', 'rien', 'histoire', 'fait', 'bien', 'affaire', 'problème', 'pareil', 'point', 'choix', 'machin', 'objet', 'créature', 'ça', 'important', 'article', 'thing']\n",
      "https://context.reverso.net/перевод/русский-французский/дело\n"
     ]
    },
    {
     "name": "stderr",
     "output_type": "stream",
     "text": [
      "\r",
      " 57%|█████▋    | 387/676 [32:57<25:45,  5.35s/it]"
     ]
    },
    {
     "name": "stdout",
     "output_type": "stream",
     "text": [
      "['affaire', 'dossier', 'problème', 'truc', 'cas', 'fait', 'chose', 'enquête', 'cause', 'question', 'travail', 'procès', 'action', 'oeuvre', 'matière', \"c'est\", 'ça']\n",
      "sense_intersect ['chose', 'fait', 'affaire', 'problème', 'ça']\n",
      "thing предмет\n",
      "https://context.reverso.net/перевод/английский-французский/thing\n",
      "['chose', 'tout', 'rien', 'histoire', 'fait', 'bien', 'affaire', 'problème', 'pareil', 'point', 'choix', 'machin', 'objet', 'créature', 'ça', 'important', 'article', 'thing']\n",
      "https://context.reverso.net/перевод/русский-французский/предмет\n"
     ]
    },
    {
     "name": "stderr",
     "output_type": "stream",
     "text": [
      "\r",
      " 57%|█████▋    | 388/676 [33:02<25:26,  5.30s/it]"
     ]
    },
    {
     "name": "stdout",
     "output_type": "stream",
     "text": [
      "['objet', 'sujet', 'matière', 'cour', 'déterminer', 'vérifier', 'question', 'évaluer']\n",
      "sense_intersect ['objet']\n",
      "thing событие\n",
      "https://context.reverso.net/перевод/английский-французский/thing\n",
      "['chose', 'tout', 'rien', 'histoire', 'fait', 'bien', 'affaire', 'problème', 'pareil', 'point', 'choix', 'machin', 'objet', 'créature', 'ça', 'important', 'article', 'thing']\n",
      "https://context.reverso.net/перевод/русский-французский/событие\n"
     ]
    },
    {
     "name": "stderr",
     "output_type": "stream",
     "text": [
      "\r",
      " 58%|█████▊    | 389/676 [33:07<25:07,  5.25s/it]"
     ]
    },
    {
     "name": "stdout",
     "output_type": "stream",
     "text": [
      "['événement', 'évolution', 'occasion', 'évènement', 'chose', 'important']\n",
      "sense_intersect ['chose', 'important']\n",
      "thing существо\n",
      "https://context.reverso.net/перевод/английский-французский/thing\n",
      "['chose', 'tout', 'rien', 'histoire', 'fait', 'bien', 'affaire', 'problème', 'pareil', 'point', 'choix', 'machin', 'objet', 'créature', 'ça', 'important', 'article', 'thing']\n",
      "https://context.reverso.net/перевод/русский-французский/существо\n"
     ]
    },
    {
     "name": "stderr",
     "output_type": "stream",
     "text": [
      "\r",
      " 58%|█████▊    | 390/676 [33:12<24:34,  5.16s/it]"
     ]
    },
    {
     "name": "stdout",
     "output_type": "stream",
     "text": [
      "['créature', 'être', 'entité', 'fond', 'cette chose', 'wesen']\n",
      "sense_intersect ['créature']\n",
      "thing штучка\n",
      "https://context.reverso.net/перевод/английский-французский/thing\n",
      "['chose', 'tout', 'rien', 'histoire', 'fait', 'bien', 'affaire', 'problème', 'pareil', 'point', 'choix', 'machin', 'objet', 'créature', 'ça', 'important', 'article', 'thing']\n",
      "https://context.reverso.net/перевод/русский-французский/штучка\n"
     ]
    },
    {
     "name": "stderr",
     "output_type": "stream",
     "text": [
      "\r",
      " 58%|█████▊    | 391/676 [33:17<24:23,  5.14s/it]"
     ]
    },
    {
     "name": "stdout",
     "output_type": "stream",
     "text": [
      "['chose', 'sexy', 'canon']\n",
      "sense_intersect ['chose']\n",
      "thing поступок\n",
      "https://context.reverso.net/перевод/английский-французский/thing\n",
      "['chose', 'tout', 'rien', 'histoire', 'fait', 'bien', 'affaire', 'problème', 'pareil', 'point', 'choix', 'machin', 'objet', 'créature', 'ça', 'important', 'article', 'thing']\n",
      "https://context.reverso.net/перевод/русский-французский/поступок\n"
     ]
    },
    {
     "name": "stderr",
     "output_type": "stream",
     "text": [
      "\r",
      " 58%|█████▊    | 392/676 [33:23<24:44,  5.23s/it]"
     ]
    },
    {
     "name": "stdout",
     "output_type": "stream",
     "text": [
      "['acte', 'geste', 'chose', 'courageux', 'action']\n",
      "sense_intersect ['chose']\n",
      "thing задача\n",
      "https://context.reverso.net/перевод/английский-французский/thing\n",
      "['chose', 'tout', 'rien', 'histoire', 'fait', 'bien', 'affaire', 'problème', 'pareil', 'point', 'choix', 'machin', 'objet', 'créature', 'ça', 'important', 'article', 'thing']\n",
      "https://context.reverso.net/перевод/русский-французский/задача\n"
     ]
    },
    {
     "name": "stderr",
     "output_type": "stream",
     "text": [
      "\r",
      " 58%|█████▊    | 393/676 [33:29<25:29,  5.41s/it]"
     ]
    },
    {
     "name": "stdout",
     "output_type": "stream",
     "text": [
      "['tâche', 'objectif', 'défi', 'mission', 'difficulté', 'but', 'problème', 'rôle', 'travail', 'enjeu', 'responsabilité', 'boulot', 'devoir', 'question', 'difficile']\n",
      "sense_intersect ['problème']\n",
      "thing что-то\n",
      "https://context.reverso.net/перевод/английский-французский/thing\n",
      "['chose', 'tout', 'rien', 'histoire', 'fait', 'bien', 'affaire', 'problème', 'pareil', 'point', 'choix', 'machin', 'objet', 'créature', 'ça', 'important', 'article', 'thing']\n",
      "https://context.reverso.net/перевод/русский-французский/что-то\n"
     ]
    },
    {
     "name": "stderr",
     "output_type": "stream",
     "text": [
      "\r",
      " 58%|█████▊    | 394/676 [33:34<25:13,  5.37s/it]"
     ]
    },
    {
     "name": "stdout",
     "output_type": "stream",
     "text": [
      "['quelque chose', 'truc', 'ça', 'une', 'quoi', 'rien', 'peu', 'il y', 'soit', 'autre chose', 'je', 'faire', 'sorte', \"c'\", 'plus']\n",
      "sense_intersect ['rien', 'ça']\n",
      "shampoo шампунь\n",
      "https://context.reverso.net/перевод/английский-французский/shampoo\n",
      "['shampooing', 'shampoing', 'laver', 'shampoo']\n",
      "https://context.reverso.net/перевод/русский-французский/шампунь\n"
     ]
    },
    {
     "name": "stderr",
     "output_type": "stream",
     "text": [
      "\r",
      " 58%|█████▊    | 395/676 [33:39<24:22,  5.21s/it]"
     ]
    },
    {
     "name": "stdout",
     "output_type": "stream",
     "text": [
      "['shampoing', 'shampooing']\n",
      "sense_intersect ['shampooing', 'shampoing']\n",
      "shampoo мытье головы\n",
      "https://context.reverso.net/перевод/английский-французский/shampoo\n",
      "['shampooing', 'shampoing', 'laver', 'shampoo']\n",
      "https://context.reverso.net/перевод/русский-французский/мытье головы\n"
     ]
    },
    {
     "name": "stderr",
     "output_type": "stream",
     "text": [
      "\r",
      " 59%|█████▊    | 396/676 [33:44<24:13,  5.19s/it]"
     ]
    },
    {
     "name": "stdout",
     "output_type": "stream",
     "text": [
      "['laver', 'lavage', 'tête', 'crânien', 'esprit', 'crâne', 'cheveux']\n",
      "sense_intersect ['laver']\n",
      "shampoo мыть\n",
      "https://context.reverso.net/перевод/английский-французский/shampoo\n",
      "['shampooing', 'shampoing', 'laver', 'shampoo']\n",
      "https://context.reverso.net/перевод/русский-французский/мыть\n"
     ]
    },
    {
     "name": "stderr",
     "output_type": "stream",
     "text": [
      "\r",
      " 59%|█████▊    | 397/676 [33:49<23:49,  5.12s/it]"
     ]
    },
    {
     "name": "stdout",
     "output_type": "stream",
     "text": [
      "['laver', 'nettoyer']\n",
      "sense_intersect ['laver']\n",
      "come приходить\n",
      "https://context.reverso.net/перевод/английский-французский/come\n",
      "['venir', 'arriver', 'aller', 'provenir', 'faire', 'passer', 'rentrer', 'jouir', 'devenir', 'se présenter', \"s'approcher\", 'pourquoi', 'entrent', 'ça', 'entrée', 'approche']\n",
      "https://context.reverso.net/перевод/русский-французский/приходить\n"
     ]
    },
    {
     "name": "stderr",
     "output_type": "stream",
     "text": [
      "\r",
      " 59%|█████▉    | 398/676 [33:54<23:43,  5.12s/it]"
     ]
    },
    {
     "name": "stdout",
     "output_type": "stream",
     "text": [
      "['venir', 'revenir', 'rentrer', 'arriver', 'passer', 'aller']\n",
      "sense_intersect ['venir', 'arriver', 'aller', 'passer', 'rentrer']\n",
      "come приезжать\n",
      "https://context.reverso.net/перевод/английский-французский/come\n",
      "['venir', 'arriver', 'aller', 'provenir', 'faire', 'passer', 'rentrer', 'jouir', 'devenir', 'se présenter', \"s'approcher\", 'pourquoi', 'entrent', 'ça', 'entrée', 'approche']\n",
      "https://context.reverso.net/перевод/русский-французский/приезжать\n"
     ]
    },
    {
     "name": "stderr",
     "output_type": "stream",
     "text": [
      "\r",
      " 59%|█████▉    | 399/676 [33:59<23:27,  5.08s/it]"
     ]
    },
    {
     "name": "stdout",
     "output_type": "stream",
     "text": [
      "['venir']\n",
      "sense_intersect ['venir']\n",
      "come вступать\n",
      "https://context.reverso.net/перевод/английский-французский/come\n",
      "['venir', 'arriver', 'aller', 'provenir', 'faire', 'passer', 'rentrer', 'jouir', 'devenir', 'se présenter', \"s'approcher\", 'pourquoi', 'entrent', 'ça', 'entrée', 'approche']\n",
      "https://context.reverso.net/перевод/русский-французский/вступать\n"
     ]
    },
    {
     "name": "stderr",
     "output_type": "stream",
     "text": [
      "\r",
      " 59%|█████▉    | 400/676 [34:04<23:27,  5.10s/it]"
     ]
    },
    {
     "name": "stdout",
     "output_type": "stream",
     "text": [
      "['adhérer']\n",
      "sense_intersect ['no_equality']\n",
      "come появиться\n",
      "https://context.reverso.net/перевод/английский-французский/come\n",
      "['venir', 'arriver', 'aller', 'provenir', 'faire', 'passer', 'rentrer', 'jouir', 'devenir', 'se présenter', \"s'approcher\", 'pourquoi', 'entrent', 'ça', 'entrée', 'approche']\n",
      "https://context.reverso.net/перевод/русский-французский/появиться\n"
     ]
    },
    {
     "name": "stderr",
     "output_type": "stream",
     "text": [
      "\r",
      " 59%|█████▉    | 401/676 [34:09<23:03,  5.03s/it]"
     ]
    },
    {
     "name": "stdout",
     "output_type": "stream",
     "text": [
      "['venir', 'apparaître', 'arriver', 'se montrer', 'avoir']\n",
      "sense_intersect ['venir', 'arriver']\n",
      "come поставляться\n",
      "https://context.reverso.net/перевод/английский-французский/come\n",
      "['venir', 'arriver', 'aller', 'provenir', 'faire', 'passer', 'rentrer', 'jouir', 'devenir', 'se présenter', \"s'approcher\", 'pourquoi', 'entrent', 'ça', 'entrée', 'approche']\n",
      "https://context.reverso.net/перевод/русский-французский/поставляться\n",
      "turn to alternative marks\n"
     ]
    },
    {
     "name": "stderr",
     "output_type": "stream",
     "text": [
      "\r",
      " 59%|█████▉    | 402/676 [34:14<23:13,  5.09s/it]"
     ]
    },
    {
     "name": "stdout",
     "output_type": "stream",
     "text": [
      "['être fourni', 'être fournies']\n",
      "sense_intersect ['no_equality']\n",
      "come поступать\n",
      "https://context.reverso.net/перевод/английский-французский/come\n",
      "['venir', 'arriver', 'aller', 'provenir', 'faire', 'passer', 'rentrer', 'jouir', 'devenir', 'se présenter', \"s'approcher\", 'pourquoi', 'entrent', 'ça', 'entrée', 'approche']\n",
      "https://context.reverso.net/перевод/русский-французский/поступать\n"
     ]
    },
    {
     "name": "stderr",
     "output_type": "stream",
     "text": [
      "\r",
      " 60%|█████▉    | 403/676 [34:19<23:03,  5.07s/it]"
     ]
    },
    {
     "name": "stdout",
     "output_type": "stream",
     "text": [
      "['agir', 'provenir', 'recevoir', 'arriver', 'faire ça', 'aller', 'traiter']\n",
      "sense_intersect ['arriver', 'aller', 'provenir']\n",
      "come исходить\n",
      "https://context.reverso.net/перевод/английский-французский/come\n",
      "['venir', 'arriver', 'aller', 'provenir', 'faire', 'passer', 'rentrer', 'jouir', 'devenir', 'se présenter', \"s'approcher\", 'pourquoi', 'entrent', 'ça', 'entrée', 'approche']\n",
      "https://context.reverso.net/перевод/русский-французский/исходить\n"
     ]
    },
    {
     "name": "stderr",
     "output_type": "stream",
     "text": [
      "\r",
      " 60%|█████▉    | 404/676 [34:24<23:07,  5.10s/it]"
     ]
    },
    {
     "name": "stdout",
     "output_type": "stream",
     "text": [
      "['venir', 'partir']\n",
      "sense_intersect ['venir']\n",
      "come попасть\n",
      "https://context.reverso.net/перевод/английский-французский/come\n",
      "['venir', 'arriver', 'aller', 'provenir', 'faire', 'passer', 'rentrer', 'jouir', 'devenir', 'se présenter', \"s'approcher\", 'pourquoi', 'entrent', 'ça', 'entrée', 'approche']\n",
      "https://context.reverso.net/перевод/русский-французский/попасть\n"
     ]
    },
    {
     "name": "stderr",
     "output_type": "stream",
     "text": [
      "\r",
      " 60%|█████▉    | 405/676 [34:30<23:24,  5.18s/it]"
     ]
    },
    {
     "name": "stdout",
     "output_type": "stream",
     "text": [
      "['aller', 'entrer', 'rentrer', 'arriver', 'venir', 'tomber', 'atteindre', 'passer', 'accéder', 'monter', 'se rendre', 'retourner', 'rejoindre', 'toucher', 'pénétrer']\n",
      "sense_intersect ['venir', 'arriver', 'aller', 'passer', 'rentrer']\n",
      "come давай\n",
      "https://context.reverso.net/перевод/английский-французский/come\n",
      "['venir', 'arriver', 'aller', 'provenir', 'faire', 'passer', 'rentrer', 'jouir', 'devenir', 'se présenter', \"s'approcher\", 'pourquoi', 'entrent', 'ça', 'entrée', 'approche']\n",
      "https://context.reverso.net/перевод/русский-французский/давай\n"
     ]
    },
    {
     "name": "stderr",
     "output_type": "stream",
     "text": [
      "\r",
      " 60%|██████    | 406/676 [34:35<23:08,  5.14s/it]"
     ]
    },
    {
     "name": "stdout",
     "output_type": "stream",
     "text": [
      "['vas-y', 'allons-y', 'alors', 'pourquoi', 'allez-y', 'vite', 'bon', 'aller', 'allez', 'allons', 'viens', 'voyons', 'laisse-moi', 'laisse', 'accord']\n",
      "sense_intersect ['aller', 'pourquoi']\n",
      "grandchild внук\n",
      "https://context.reverso.net/перевод/английский-французский/grandchild\n",
      "['petit-fils', 'petit-enfant', 'petite-fille', 'petit-enfant', 'petit enfant', 'petit fils']\n",
      "https://context.reverso.net/перевод/русский-французский/внук\n"
     ]
    },
    {
     "name": "stderr",
     "output_type": "stream",
     "text": [
      "\r",
      " 60%|██████    | 407/676 [34:40<23:26,  5.23s/it]"
     ]
    },
    {
     "name": "stdout",
     "output_type": "stream",
     "text": [
      "['petit-fils', 'petit fils']\n",
      "sense_intersect ['petit-fils', 'petit fils']\n",
      "point точка\n",
      "https://context.reverso.net/перевод/английский-французский/point\n",
      "['point', 'moment', 'stade', 'question', 'pointe', 'fait', 'but', 'sujet', 'pointer', 'indiquer', 'montrer', 'diriger', 'accuser', 'intérêt', 'lieu', 'endroit', 'raison', 'argument', 'sens', 'virgule']\n",
      "https://context.reverso.net/перевод/русский-французский/точка\n"
     ]
    },
    {
     "name": "stderr",
     "output_type": "stream",
     "text": [
      "\r",
      " 60%|██████    | 408/676 [34:46<23:31,  5.27s/it]"
     ]
    },
    {
     "name": "stdout",
     "output_type": "stream",
     "text": [
      "['point', \"c'est tout\", 'départ']\n",
      "sense_intersect ['point']\n",
      "point очко\n",
      "https://context.reverso.net/перевод/английский-французский/point\n",
      "['point', 'moment', 'stade', 'question', 'pointe', 'fait', 'but', 'sujet', 'pointer', 'indiquer', 'montrer', 'diriger', 'accuser', 'intérêt', 'lieu', 'endroit', 'raison', 'argument', 'sens', 'virgule']\n",
      "https://context.reverso.net/перевод/русский-французский/очко\n"
     ]
    },
    {
     "name": "stderr",
     "output_type": "stream",
     "text": [
      "\r",
      " 61%|██████    | 409/676 [34:51<23:14,  5.22s/it]"
     ]
    },
    {
     "name": "stdout",
     "output_type": "stream",
     "text": [
      "['point']\n",
      "sense_intersect ['point']\n",
      "point место\n",
      "https://context.reverso.net/перевод/английский-французский/point\n",
      "['point', 'moment', 'stade', 'question', 'pointe', 'fait', 'but', 'sujet', 'pointer', 'indiquer', 'montrer', 'diriger', 'accuser', 'intérêt', 'lieu', 'endroit', 'raison', 'argument', 'sens', 'virgule']\n",
      "https://context.reverso.net/перевод/русский-французский/место\n"
     ]
    },
    {
     "name": "stderr",
     "output_type": "stream",
     "text": [
      "\r",
      " 61%|██████    | 410/676 [34:56<23:18,  5.26s/it]"
     ]
    },
    {
     "name": "stdout",
     "output_type": "stream",
     "text": [
      "['endroit', 'place', 'lieu', 'siège', 'poste', 'rang', 'cas', 'emplacement', 'site', 'présidence', 'position', 'centre', 'espace', 'rôle', 'maison', 'emploi', 'salle', 'colis']\n",
      "sense_intersect ['lieu', 'endroit']\n",
      "point вопрос\n",
      "https://context.reverso.net/перевод/английский-французский/point\n",
      "['point', 'moment', 'stade', 'question', 'pointe', 'fait', 'but', 'sujet', 'pointer', 'indiquer', 'montrer', 'diriger', 'accuser', 'intérêt', 'lieu', 'endroit', 'raison', 'argument', 'sens', 'virgule']\n",
      "https://context.reverso.net/перевод/русский-французский/вопрос\n"
     ]
    },
    {
     "name": "stderr",
     "output_type": "stream",
     "text": [
      "\r",
      " 61%|██████    | 411/676 [35:01<23:02,  5.22s/it]"
     ]
    },
    {
     "name": "stdout",
     "output_type": "stream",
     "text": [
      "['question', 'problème', 'demande', 'point', 'sujet', 'savoir', 'réponse', 'affaire', 'posée', 'débat', 'thème', 'chose', 'aspect', 'doute', 'interrogation', 'agit']\n",
      "sense_intersect ['point', 'question', 'sujet']\n",
      "point пойнт\n",
      "https://context.reverso.net/перевод/английский-французский/point\n",
      "['point', 'moment', 'stade', 'question', 'pointe', 'fait', 'but', 'sujet', 'pointer', 'indiquer', 'montrer', 'diriger', 'accuser', 'intérêt', 'lieu', 'endroit', 'raison', 'argument', 'sens', 'virgule']\n",
      "https://context.reverso.net/перевод/русский-французский/пойнт\n"
     ]
    },
    {
     "name": "stderr",
     "output_type": "stream",
     "text": [
      "\r",
      " 61%|██████    | 412/676 [35:07<23:16,  5.29s/it]"
     ]
    },
    {
     "name": "stdout",
     "output_type": "stream",
     "text": [
      "['point']\n",
      "sense_intersect ['point']\n",
      "point смысл\n",
      "https://context.reverso.net/перевод/английский-французский/point\n",
      "['point', 'moment', 'stade', 'question', 'pointe', 'fait', 'but', 'sujet', 'pointer', 'indiquer', 'montrer', 'diriger', 'accuser', 'intérêt', 'lieu', 'endroit', 'raison', 'argument', 'sens', 'virgule']\n",
      "https://context.reverso.net/перевод/русский-французский/смысл\n"
     ]
    },
    {
     "name": "stderr",
     "output_type": "stream",
     "text": [
      "\r",
      " 61%|██████    | 413/676 [35:12<23:45,  5.42s/it]"
     ]
    },
    {
     "name": "stdout",
     "output_type": "stream",
     "text": [
      "['sens', 'but', 'raison', 'intérêt', 'logique', 'signification', 'idée', 'pourquoi', 'message', 'point', 'truc', 'utile', 'quoi bon', 'ça sert']\n",
      "sense_intersect ['point', 'but', 'intérêt', 'raison', 'sens']\n",
      "point этап\n",
      "https://context.reverso.net/перевод/английский-французский/point\n",
      "['point', 'moment', 'stade', 'question', 'pointe', 'fait', 'but', 'sujet', 'pointer', 'indiquer', 'montrer', 'diriger', 'accuser', 'intérêt', 'lieu', 'endroit', 'raison', 'argument', 'sens', 'virgule']\n",
      "https://context.reverso.net/перевод/русский-французский/этап\n"
     ]
    },
    {
     "name": "stderr",
     "output_type": "stream",
     "text": [
      "\r",
      " 61%|██████    | 414/676 [35:17<23:18,  5.34s/it]"
     ]
    },
    {
     "name": "stdout",
     "output_type": "stream",
     "text": [
      "['phase', 'étape', 'stade', 'période', 'cycle', 'débat', 'partie', 'moment', 'tournant']\n",
      "sense_intersect ['moment', 'stade']\n",
      "point точка зрения\n",
      "https://context.reverso.net/перевод/английский-французский/point\n",
      "['point', 'moment', 'stade', 'question', 'pointe', 'fait', 'but', 'sujet', 'pointer', 'indiquer', 'montrer', 'diriger', 'accuser', 'intérêt', 'lieu', 'endroit', 'raison', 'argument', 'sens', 'virgule']\n",
      "https://context.reverso.net/перевод/русский-французский/точка зрения\n"
     ]
    },
    {
     "name": "stderr",
     "output_type": "stream",
     "text": [
      "\r",
      " 61%|██████▏   | 415/676 [35:23<24:01,  5.52s/it]"
     ]
    },
    {
     "name": "stdout",
     "output_type": "stream",
     "text": [
      "['point de vue', 'avis', 'opinion', 'estimé']\n",
      "sense_intersect ['no_equality']\n",
      "point указывать\n",
      "https://context.reverso.net/перевод/английский-французский/point\n",
      "['point', 'moment', 'stade', 'question', 'pointe', 'fait', 'but', 'sujet', 'pointer', 'indiquer', 'montrer', 'diriger', 'accuser', 'intérêt', 'lieu', 'endroit', 'raison', 'argument', 'sens', 'virgule']\n",
      "https://context.reverso.net/перевод/русский-французский/указывать\n"
     ]
    },
    {
     "name": "stderr",
     "output_type": "stream",
     "text": [
      "\r",
      " 62%|██████▏   | 416/676 [35:29<23:26,  5.41s/it]"
     ]
    },
    {
     "name": "stdout",
     "output_type": "stream",
     "text": [
      "['indiquer', 'dire', 'préciser', 'spécifier', 'mentionner']\n",
      "sense_intersect ['indiquer']\n",
      "point дело\n",
      "https://context.reverso.net/перевод/английский-французский/point\n",
      "['point', 'moment', 'stade', 'question', 'pointe', 'fait', 'but', 'sujet', 'pointer', 'indiquer', 'montrer', 'diriger', 'accuser', 'intérêt', 'lieu', 'endroit', 'raison', 'argument', 'sens', 'virgule']\n",
      "https://context.reverso.net/перевод/русский-французский/дело\n"
     ]
    },
    {
     "name": "stderr",
     "output_type": "stream",
     "text": [
      "\r",
      " 62%|██████▏   | 417/676 [35:34<22:53,  5.30s/it]"
     ]
    },
    {
     "name": "stdout",
     "output_type": "stream",
     "text": [
      "['affaire', 'dossier', 'problème', 'truc', 'cas', 'fait', 'chose', 'enquête', 'cause', 'question', 'travail', 'procès', 'action', 'oeuvre', 'matière', \"c'est\", 'ça']\n",
      "sense_intersect ['question', 'fait']\n",
      "point отмечать\n",
      "https://context.reverso.net/перевод/английский-французский/point\n",
      "['point', 'moment', 'stade', 'question', 'pointe', 'fait', 'but', 'sujet', 'pointer', 'indiquer', 'montrer', 'diriger', 'accuser', 'intérêt', 'lieu', 'endroit', 'raison', 'argument', 'sens', 'virgule']\n",
      "https://context.reverso.net/перевод/русский-французский/отмечать\n"
     ]
    },
    {
     "name": "stderr",
     "output_type": "stream",
     "text": [
      "\r",
      " 62%|██████▏   | 418/676 [35:39<22:21,  5.20s/it]"
     ]
    },
    {
     "name": "stdout",
     "output_type": "stream",
     "text": [
      "['célébrer', 'fêter', 'constater', 'noter']\n",
      "sense_intersect ['no_equality']\n",
      "point показать\n",
      "https://context.reverso.net/перевод/английский-французский/point\n",
      "['point', 'moment', 'stade', 'question', 'pointe', 'fait', 'but', 'sujet', 'pointer', 'indiquer', 'montrer', 'diriger', 'accuser', 'intérêt', 'lieu', 'endroit', 'raison', 'argument', 'sens', 'virgule']\n",
      "https://context.reverso.net/перевод/русский-французский/показать\n"
     ]
    },
    {
     "name": "stderr",
     "output_type": "stream",
     "text": [
      "\r",
      " 62%|██████▏   | 419/676 [35:44<22:45,  5.31s/it]"
     ]
    },
    {
     "name": "stdout",
     "output_type": "stream",
     "text": [
      "['montrer', 'voir', 'montrer à', 'prouver', 'afficher', 'démontrer', 'donner', 'faire visiter', 'indiquer', 'présenter', 'révéler', 'emmener', 'illustrer', 'monter']\n",
      "sense_intersect ['indiquer', 'montrer']\n",
      "point подчеркивать\n",
      "https://context.reverso.net/перевод/английский-французский/point\n",
      "['point', 'moment', 'stade', 'question', 'pointe', 'fait', 'but', 'sujet', 'pointer', 'indiquer', 'montrer', 'diriger', 'accuser', 'intérêt', 'lieu', 'endroit', 'raison', 'argument', 'sens', 'virgule']\n",
      "https://context.reverso.net/перевод/русский-французский/подчеркивать\n"
     ]
    },
    {
     "name": "stderr",
     "output_type": "stream",
     "text": [
      "\r",
      " 62%|██████▏   | 420/676 [35:49<22:14,  5.21s/it]"
     ]
    },
    {
     "name": "stdout",
     "output_type": "stream",
     "text": [
      "['souligner', 'insister sur']\n",
      "sense_intersect ['no_equality']\n",
      "point навести\n",
      "https://context.reverso.net/перевод/английский-французский/point\n",
      "['point', 'moment', 'stade', 'question', 'pointe', 'fait', 'but', 'sujet', 'pointer', 'indiquer', 'montrer', 'diriger', 'accuser', 'intérêt', 'lieu', 'endroit', 'raison', 'argument', 'sens', 'virgule']\n",
      "https://context.reverso.net/перевод/русский-французский/навести\n",
      "turn to alternative marks\n"
     ]
    },
    {
     "name": "stderr",
     "output_type": "stream",
     "text": [
      "\r",
      " 62%|██████▏   | 421/676 [35:54<21:47,  5.13s/it]"
     ]
    },
    {
     "name": "stdout",
     "output_type": "stream",
     "text": [
      "['nettoyer', 'verrouillez', 'va voir', 'pointer', 'rendre visite']\n",
      "sense_intersect ['pointer']\n",
      "point точечный\n",
      "https://context.reverso.net/перевод/английский-французский/point\n",
      "['point', 'moment', 'stade', 'question', 'pointe', 'fait', 'but', 'sujet', 'pointer', 'indiquer', 'montrer', 'diriger', 'accuser', 'intérêt', 'lieu', 'endroit', 'raison', 'argument', 'sens', 'virgule']\n",
      "https://context.reverso.net/перевод/русский-французский/точечный\n",
      "turn to alternative marks\n"
     ]
    },
    {
     "name": "stderr",
     "output_type": "stream",
     "text": [
      "\r",
      " 62%|██████▏   | 422/676 [35:59<21:20,  5.04s/it]"
     ]
    },
    {
     "name": "stdout",
     "output_type": "stream",
     "text": [
      "['une frappe chirurgicale']\n",
      "sense_intersect ['no_equality']\n",
      "lie лежать\n",
      "https://context.reverso.net/перевод/английский-французский/lie\n",
      "['mentir', 'résider', 'rester', 'être', 'se trouver', \"s'allonger\", 'se situer', 'trouver', 'mensonge', 'menteur', 'se trouvent', 'se situent', 'coucher', 'reposent', 'faux', 'lie']\n",
      "https://context.reverso.net/перевод/русский-французский/лежать\n"
     ]
    },
    {
     "name": "stderr",
     "output_type": "stream",
     "text": [
      "\r",
      " 63%|██████▎   | 423/676 [36:04<21:17,  5.05s/it]"
     ]
    },
    {
     "name": "stdout",
     "output_type": "stream",
     "text": [
      "['être', 'rester', 'reposer sur']\n",
      "sense_intersect ['rester', 'être']\n",
      "lie находиться\n",
      "https://context.reverso.net/перевод/английский-французский/lie\n",
      "['mentir', 'résider', 'rester', 'être', 'se trouver', \"s'allonger\", 'se situer', 'trouver', 'mensonge', 'menteur', 'se trouvent', 'se situent', 'coucher', 'reposent', 'faux', 'lie']\n",
      "https://context.reverso.net/перевод/русский-французский/находиться\n"
     ]
    },
    {
     "name": "stderr",
     "output_type": "stream",
     "text": [
      "\r",
      " 63%|██████▎   | 424/676 [36:09<21:28,  5.11s/it]"
     ]
    },
    {
     "name": "stdout",
     "output_type": "stream",
     "text": [
      "['rester', 'se trouver', 'séjourner', 'saisi', 'avoir']\n",
      "sense_intersect ['rester', 'se trouver']\n",
      "lie лгать\n",
      "https://context.reverso.net/перевод/английский-французский/lie\n",
      "['mentir', 'résider', 'rester', 'être', 'se trouver', \"s'allonger\", 'se situer', 'trouver', 'mensonge', 'menteur', 'se trouvent', 'se situent', 'coucher', 'reposent', 'faux', 'lie']\n",
      "https://context.reverso.net/перевод/русский-французский/лгать\n"
     ]
    },
    {
     "name": "stderr",
     "output_type": "stream",
     "text": [
      "\r",
      " 63%|██████▎   | 425/676 [36:14<21:18,  5.09s/it]"
     ]
    },
    {
     "name": "stdout",
     "output_type": "stream",
     "text": [
      "['mentir', 'mensonge']\n",
      "sense_intersect ['mentir', 'mensonge']\n",
      "lie крыться\n",
      "https://context.reverso.net/перевод/английский-французский/lie\n",
      "['mentir', 'résider', 'rester', 'être', 'se trouver', \"s'allonger\", 'se situer', 'trouver', 'mensonge', 'menteur', 'se trouvent', 'se situent', 'coucher', 'reposent', 'faux', 'lie']\n",
      "https://context.reverso.net/перевод/русский-французский/крыться\n",
      "turn to alternative marks\n"
     ]
    },
    {
     "name": "stderr",
     "output_type": "stream",
     "text": [
      "\r",
      " 63%|██████▎   | 426/676 [36:19<20:57,  5.03s/it]"
     ]
    },
    {
     "name": "stdout",
     "output_type": "stream",
     "text": [
      "[]\n",
      "sense_intersect ['no_equality']\n",
      "lie пролегать\n",
      "https://context.reverso.net/перевод/английский-французский/lie\n",
      "['mentir', 'résider', 'rester', 'être', 'se trouver', \"s'allonger\", 'se situer', 'trouver', 'mensonge', 'menteur', 'se trouvent', 'se situent', 'coucher', 'reposent', 'faux', 'lie']\n",
      "https://context.reverso.net/перевод/русский-французский/пролегать\n",
      "turn to alternative marks\n"
     ]
    },
    {
     "name": "stderr",
     "output_type": "stream",
     "text": [
      "\r",
      " 63%|██████▎   | 427/676 [36:24<20:57,  5.05s/it]"
     ]
    },
    {
     "name": "stdout",
     "output_type": "stream",
     "text": [
      "['passer']\n",
      "sense_intersect ['no_equality']\n",
      "lie залегать\n",
      "https://context.reverso.net/перевод/английский-французский/lie\n",
      "['mentir', 'résider', 'rester', 'être', 'se trouver', \"s'allonger\", 'se situer', 'trouver', 'mensonge', 'menteur', 'se trouvent', 'se situent', 'coucher', 'reposent', 'faux', 'lie']\n",
      "https://context.reverso.net/перевод/русский-французский/залегать\n",
      "turn to alternative marks\n"
     ]
    },
    {
     "name": "stderr",
     "output_type": "stream",
     "text": [
      "\r",
      " 63%|██████▎   | 428/676 [36:30<21:11,  5.13s/it]"
     ]
    },
    {
     "name": "stdout",
     "output_type": "stream",
     "text": [
      "['avançons', 'précipitons', 'conclusions hâtives']\n",
      "sense_intersect ['no_equality']\n",
      "lie ложь\n",
      "https://context.reverso.net/перевод/английский-французский/lie\n",
      "['mentir', 'résider', 'rester', 'être', 'se trouver', \"s'allonger\", 'se situer', 'trouver', 'mensonge', 'menteur', 'se trouvent', 'se situent', 'coucher', 'reposent', 'faux', 'lie']\n",
      "https://context.reverso.net/перевод/русский-французский/ложь\n"
     ]
    },
    {
     "name": "stderr",
     "output_type": "stream",
     "text": [
      "\r",
      " 63%|██████▎   | 429/676 [36:34<20:46,  5.05s/it]"
     ]
    },
    {
     "name": "stdout",
     "output_type": "stream",
     "text": [
      "['mensonge', 'faux', 'ment', 'pas vrai', 'mentir']\n",
      "sense_intersect ['mentir', 'mensonge', 'faux']\n",
      "lie лиев\n",
      "https://context.reverso.net/перевод/английский-французский/lie\n",
      "['mentir', 'résider', 'rester', 'être', 'se trouver', \"s'allonger\", 'se situer', 'trouver', 'mensonge', 'menteur', 'se trouvent', 'se situent', 'coucher', 'reposent', 'faux', 'lie']\n",
      "https://context.reverso.net/перевод/русский-французский/лиев\n",
      "turn to alternative marks\n"
     ]
    },
    {
     "name": "stderr",
     "output_type": "stream",
     "text": [
      "\r",
      " 64%|██████▎   | 430/676 [36:39<20:22,  4.97s/it]"
     ]
    },
    {
     "name": "stdout",
     "output_type": "stream",
     "text": [
      "[]\n",
      "sense_intersect ['no_equality']\n",
      "curriculum учебный план\n",
      "https://context.reverso.net/перевод/английский-французский/curriculum\n",
      "['programme', 'curriculum', \"programme d'études\", 'cursus', 'enseignement', 'cour', \"programme d'étude\", 'scolaire', 'programmes scolaires', 'pédagogique', 'cv', 'contenu', 'éducation', 'programme-cadre']\n",
      "https://context.reverso.net/перевод/русский-французский/учебный план\n"
     ]
    },
    {
     "name": "stderr",
     "output_type": "stream",
     "text": [
      "\r",
      " 64%|██████▍   | 431/676 [36:44<20:26,  5.01s/it]"
     ]
    },
    {
     "name": "stdout",
     "output_type": "stream",
     "text": [
      "['programme']\n",
      "sense_intersect ['programme']\n",
      "curriculum курс обучения\n",
      "https://context.reverso.net/перевод/английский-французский/curriculum\n",
      "['programme', 'curriculum', \"programme d'études\", 'cursus', 'enseignement', 'cour', \"programme d'étude\", 'scolaire', 'programmes scolaires', 'pédagogique', 'cv', 'contenu', 'éducation', 'programme-cadre']\n",
      "https://context.reverso.net/перевод/русский-французский/курс обучения\n",
      "turn to alternative marks\n"
     ]
    },
    {
     "name": "stderr",
     "output_type": "stream",
     "text": [
      "\r",
      " 64%|██████▍   | 432/676 [36:49<20:22,  5.01s/it]"
     ]
    },
    {
     "name": "stdout",
     "output_type": "stream",
     "text": [
      "['cours de formation', 'stage', \"programme d'enseignement\", 'cursus', 'formé', 'stagiaire', 'redoublement', 'achèvent', 'un enseignement']\n",
      "sense_intersect ['cursus']\n",
      "curriculum программа\n",
      "https://context.reverso.net/перевод/английский-французский/curriculum\n",
      "['programme', 'curriculum', \"programme d'études\", 'cursus', 'enseignement', 'cour', \"programme d'étude\", 'scolaire', 'programmes scolaires', 'pédagogique', 'cv', 'contenu', 'éducation', 'programme-cadre']\n",
      "https://context.reverso.net/перевод/русский-французский/программа\n"
     ]
    },
    {
     "name": "stderr",
     "output_type": "stream",
     "text": [
      "\r",
      " 64%|██████▍   | 433/676 [36:55<20:38,  5.09s/it]"
     ]
    },
    {
     "name": "stdout",
     "output_type": "stream",
     "text": [
      "['programme', 'logiciel', 'émission', 'agenda', 'cadre', 'plan', 'formation', 'système', 'projet', 'initiative', 'intégré', 'politique', 'agit', 'celui-ci']\n",
      "sense_intersect ['programme']\n",
      "curriculum куррикулум\n",
      "https://context.reverso.net/перевод/английский-французский/curriculum\n",
      "['programme', 'curriculum', \"programme d'études\", 'cursus', 'enseignement', 'cour', \"programme d'étude\", 'scolaire', 'programmes scolaires', 'pédagogique', 'cv', 'contenu', 'éducation', 'programme-cadre']\n",
      "https://context.reverso.net/перевод/русский-французский/куррикулум\n",
      "turn to alternative marks\n"
     ]
    },
    {
     "name": "stderr",
     "output_type": "stream",
     "text": [
      "\r",
      " 64%|██████▍   | 434/676 [36:59<20:13,  5.01s/it]"
     ]
    },
    {
     "name": "stdout",
     "output_type": "stream",
     "text": [
      "[]\n",
      "sense_intersect ['no_equality']\n",
      "curriculum расписание\n",
      "https://context.reverso.net/перевод/английский-французский/curriculum\n",
      "['programme', 'curriculum', \"programme d'études\", 'cursus', 'enseignement', 'cour', \"programme d'étude\", 'scolaire', 'programmes scolaires', 'pédagogique', 'cv', 'contenu', 'éducation', 'programme-cadre']\n",
      "https://context.reverso.net/перевод/русский-французский/расписание\n"
     ]
    },
    {
     "name": "stderr",
     "output_type": "stream",
     "text": [
      "\r",
      " 64%|██████▍   | 435/676 [37:04<19:59,  4.98s/it]"
     ]
    },
    {
     "name": "stdout",
     "output_type": "stream",
     "text": [
      "['calendrier', 'emploi du temps', 'planning', 'agenda', 'programme', 'horaire', 'effectif']\n",
      "sense_intersect ['programme']\n",
      "curriculum содержание образования\n",
      "https://context.reverso.net/перевод/английский-французский/curriculum\n",
      "['programme', 'curriculum', \"programme d'études\", 'cursus', 'enseignement', 'cour', \"programme d'étude\", 'scolaire', 'programmes scolaires', 'pédagogique', 'cv', 'contenu', 'éducation', 'programme-cadre']\n",
      "https://context.reverso.net/перевод/русский-французский/содержание образования\n",
      "turn to alternative marks\n"
     ]
    },
    {
     "name": "stderr",
     "output_type": "stream",
     "text": [
      "\r",
      " 64%|██████▍   | 436/676 [37:09<19:49,  4.95s/it]"
     ]
    },
    {
     "name": "stdout",
     "output_type": "stream",
     "text": [
      "[\"le contenu de l'éducation\"]\n",
      "sense_intersect ['no_equality']\n",
      "tip кончик\n",
      "https://context.reverso.net/перевод/английский-французский/tip\n",
      "['pointe', 'extrémité', 'embout', 'bout', 'conseil', 'astuce', 'pourboire', 'tip', 'pencher', 'donner un pourboire', 'incliner', 'tuyau', 'tête', 'sommet', 'truc', 'buse', 'info', 'panne', 'décharge', 'piste']\n",
      "https://context.reverso.net/перевод/русский-французский/кончик\n"
     ]
    },
    {
     "name": "stderr",
     "output_type": "stream",
     "text": [
      "\r",
      " 65%|██████▍   | 437/676 [37:14<19:41,  4.94s/it]"
     ]
    },
    {
     "name": "stdout",
     "output_type": "stream",
     "text": [
      "['bout']\n",
      "sense_intersect ['bout']\n",
      "tip чаевые\n",
      "https://context.reverso.net/перевод/английский-французский/tip\n",
      "['pointe', 'extrémité', 'embout', 'bout', 'conseil', 'astuce', 'pourboire', 'tip', 'pencher', 'donner un pourboire', 'incliner', 'tuyau', 'tête', 'sommet', 'truc', 'buse', 'info', 'panne', 'décharge', 'piste']\n",
      "https://context.reverso.net/перевод/русский-французский/чаевые\n"
     ]
    },
    {
     "name": "stderr",
     "output_type": "stream",
     "text": [
      "\r",
      " 65%|██████▍   | 438/676 [37:19<19:47,  4.99s/it]"
     ]
    },
    {
     "name": "stdout",
     "output_type": "stream",
     "text": [
      "['pourboire']\n",
      "sense_intersect ['pourboire']\n",
      "tip тонкий конец\n",
      "https://context.reverso.net/перевод/английский-французский/tip\n",
      "['pointe', 'extrémité', 'embout', 'bout', 'conseil', 'astuce', 'pourboire', 'tip', 'pencher', 'donner un pourboire', 'incliner', 'tuyau', 'tête', 'sommet', 'truc', 'buse', 'info', 'panne', 'décharge', 'piste']\n",
      "https://context.reverso.net/перевод/русский-французский/тонкий конец\n"
     ]
    },
    {
     "name": "stderr",
     "output_type": "stream",
     "text": [
      "\r",
      " 65%|██████▍   | 439/676 [37:24<19:49,  5.02s/it]"
     ]
    },
    {
     "name": "stdout",
     "output_type": "stream",
     "text": [
      "['fin', 'subtil', 'délicat', 'mince', 'fin', 'fini', 'terme', 'terminé', 'bout']\n",
      "sense_intersect ['bout']\n",
      "tip верхушка\n",
      "https://context.reverso.net/перевод/английский-французский/tip\n",
      "['pointe', 'extrémité', 'embout', 'bout', 'conseil', 'astuce', 'pourboire', 'tip', 'pencher', 'donner un pourboire', 'incliner', 'tuyau', 'tête', 'sommet', 'truc', 'buse', 'info', 'panne', 'décharge', 'piste']\n",
      "https://context.reverso.net/перевод/русский-французский/верхушка\n",
      "turn to alternative marks\n"
     ]
    },
    {
     "name": "stderr",
     "output_type": "stream",
     "text": [
      "\r",
      " 65%|██████▌   | 440/676 [37:29<19:39,  5.00s/it]"
     ]
    },
    {
     "name": "stdout",
     "output_type": "stream",
     "text": [
      "['haut', 'dessus', 'pointe', 'iceberg']\n",
      "sense_intersect ['pointe']\n",
      "tip подсказка\n",
      "https://context.reverso.net/перевод/английский-французский/tip\n",
      "['pointe', 'extrémité', 'embout', 'bout', 'conseil', 'astuce', 'pourboire', 'tip', 'pencher', 'donner un pourboire', 'incliner', 'tuyau', 'tête', 'sommet', 'truc', 'buse', 'info', 'panne', 'décharge', 'piste']\n",
      "https://context.reverso.net/перевод/русский-французский/подсказка\n"
     ]
    },
    {
     "name": "stderr",
     "output_type": "stream",
     "text": [
      "\r",
      " 65%|██████▌   | 441/676 [37:35<19:53,  5.08s/it]"
     ]
    },
    {
     "name": "stdout",
     "output_type": "stream",
     "text": [
      "['indice']\n",
      "sense_intersect ['no_equality']\n",
      "tip Совет\n",
      "https://context.reverso.net/перевод/английский-французский/tip\n",
      "['pointe', 'extrémité', 'embout', 'bout', 'conseil', 'astuce', 'pourboire', 'tip', 'pencher', 'donner un pourboire', 'incliner', 'tuyau', 'tête', 'sommet', 'truc', 'buse', 'info', 'panne', 'décharge', 'piste']\n",
      "https://context.reverso.net/перевод/русский-французский/Совет\n"
     ]
    },
    {
     "name": "stderr",
     "output_type": "stream",
     "text": [
      "\r",
      " 65%|██████▌   | 442/676 [37:40<20:26,  5.24s/it]"
     ]
    },
    {
     "name": "stdout",
     "output_type": "stream",
     "text": [
      "['conseil', 'avis', 'organe', 'conseiller', 'celui-ci', 'commission', 'council', 'conseille', 'ce dernier', 'mairie', 'comité', 'observatoire', 'office']\n",
      "sense_intersect ['conseil']\n",
      "tip оконечность\n",
      "https://context.reverso.net/перевод/английский-французский/tip\n",
      "['pointe', 'extrémité', 'embout', 'bout', 'conseil', 'astuce', 'pourboire', 'tip', 'pencher', 'donner un pourboire', 'incliner', 'tuyau', 'tête', 'sommet', 'truc', 'buse', 'info', 'panne', 'décharge', 'piste']\n",
      "https://context.reverso.net/перевод/русский-французский/оконечность\n",
      "turn to alternative marks\n"
     ]
    },
    {
     "name": "stderr",
     "output_type": "stream",
     "text": [
      "\r",
      " 66%|██████▌   | 443/676 [37:45<20:20,  5.24s/it]"
     ]
    },
    {
     "name": "stdout",
     "output_type": "stream",
     "text": [
      "[]\n",
      "sense_intersect ['no_equality']\n",
      "tip отзыв\n",
      "https://context.reverso.net/перевод/английский-французский/tip\n",
      "['pointe', 'extrémité', 'embout', 'bout', 'conseil', 'astuce', 'pourboire', 'tip', 'pencher', 'donner un pourboire', 'incliner', 'tuyau', 'tête', 'sommet', 'truc', 'buse', 'info', 'panne', 'décharge', 'piste']\n",
      "https://context.reverso.net/перевод/русский-французский/отзыв\n"
     ]
    },
    {
     "name": "stderr",
     "output_type": "stream",
     "text": [
      "\r",
      " 66%|██████▌   | 444/676 [37:50<19:45,  5.11s/it]"
     ]
    },
    {
     "name": "stdout",
     "output_type": "stream",
     "text": [
      "['retrait', 'critique']\n",
      "sense_intersect ['no_equality']\n",
      "tip полезный Совет\n",
      "https://context.reverso.net/перевод/английский-французский/tip\n",
      "['pointe', 'extrémité', 'embout', 'bout', 'conseil', 'astuce', 'pourboire', 'tip', 'pencher', 'donner un pourboire', 'incliner', 'tuyau', 'tête', 'sommet', 'truc', 'buse', 'info', 'panne', 'décharge', 'piste']\n",
      "https://context.reverso.net/перевод/русский-французский/полезный Совет\n",
      "turn to alternative marks\n"
     ]
    },
    {
     "name": "stderr",
     "output_type": "stream",
     "text": [
      "\r",
      " 66%|██████▌   | 445/676 [37:55<19:51,  5.16s/it]"
     ]
    },
    {
     "name": "stdout",
     "output_type": "stream",
     "text": [
      "['bon conseil', 'bons conseils', 'conseil pratique']\n",
      "sense_intersect ['no_equality']\n",
      "tip зонд\n",
      "https://context.reverso.net/перевод/английский-французский/tip\n",
      "['pointe', 'extrémité', 'embout', 'bout', 'conseil', 'astuce', 'pourboire', 'tip', 'pencher', 'donner un pourboire', 'incliner', 'tuyau', 'tête', 'sommet', 'truc', 'buse', 'info', 'panne', 'décharge', 'piste']\n",
      "https://context.reverso.net/перевод/русский-французский/зонд\n"
     ]
    },
    {
     "name": "stderr",
     "output_type": "stream",
     "text": [
      "\r",
      " 66%|██████▌   | 446/676 [38:01<19:46,  5.16s/it]"
     ]
    },
    {
     "name": "stdout",
     "output_type": "stream",
     "text": [
      "['sonde']\n",
      "sense_intersect ['no_equality']\n",
      "tip подачка\n",
      "https://context.reverso.net/перевод/английский-французский/tip\n",
      "['pointe', 'extrémité', 'embout', 'bout', 'conseil', 'astuce', 'pourboire', 'tip', 'pencher', 'donner un pourboire', 'incliner', 'tuyau', 'tête', 'sommet', 'truc', 'buse', 'info', 'panne', 'décharge', 'piste']\n",
      "https://context.reverso.net/перевод/русский-французский/подачка\n",
      "turn to alternative marks\n"
     ]
    },
    {
     "name": "stderr",
     "output_type": "stream",
     "text": [
      "\r",
      " 66%|██████▌   | 447/676 [38:06<20:01,  5.25s/it]"
     ]
    },
    {
     "name": "stdout",
     "output_type": "stream",
     "text": [
      "[]\n",
      "sense_intersect ['no_equality']\n",
      "tip вершинка\n",
      "https://context.reverso.net/перевод/английский-французский/tip\n",
      "['pointe', 'extrémité', 'embout', 'bout', 'conseil', 'astuce', 'pourboire', 'tip', 'pencher', 'donner un pourboire', 'incliner', 'tuyau', 'tête', 'sommet', 'truc', 'buse', 'info', 'panne', 'décharge', 'piste']\n",
      "https://context.reverso.net/перевод/русский-французский/вершинка\n"
     ]
    },
    {
     "name": "stderr",
     "output_type": "stream",
     "text": [
      "\r",
      " 66%|██████▋   | 448/676 [38:11<19:56,  5.25s/it]"
     ]
    },
    {
     "name": "stdout",
     "output_type": "stream",
     "text": [
      "['sommet']\n",
      "sense_intersect ['sommet']\n",
      "tip наклонять\n",
      "https://context.reverso.net/перевод/английский-французский/tip\n",
      "['pointe', 'extrémité', 'embout', 'bout', 'conseil', 'astuce', 'pourboire', 'tip', 'pencher', 'donner un pourboire', 'incliner', 'tuyau', 'tête', 'sommet', 'truc', 'buse', 'info', 'panne', 'décharge', 'piste']\n",
      "https://context.reverso.net/перевод/русский-французский/наклонять\n",
      "turn to alternative marks\n"
     ]
    },
    {
     "name": "stderr",
     "output_type": "stream",
     "text": [
      "\r",
      " 66%|██████▋   | 449/676 [38:17<19:58,  5.28s/it]"
     ]
    },
    {
     "name": "stdout",
     "output_type": "stream",
     "text": [
      "['incliner', 'pencher']\n",
      "sense_intersect ['pencher', 'incliner']\n",
      "tip опрокинуться\n",
      "https://context.reverso.net/перевод/английский-французский/tip\n",
      "['pointe', 'extrémité', 'embout', 'bout', 'conseil', 'astuce', 'pourboire', 'tip', 'pencher', 'donner un pourboire', 'incliner', 'tuyau', 'tête', 'sommet', 'truc', 'buse', 'info', 'panne', 'décharge', 'piste']\n",
      "https://context.reverso.net/перевод/русский-французский/опрокинуться\n",
      "turn to alternative marks\n"
     ]
    },
    {
     "name": "stderr",
     "output_type": "stream",
     "text": [
      "\r",
      " 67%|██████▋   | 450/676 [38:22<19:35,  5.20s/it]"
     ]
    },
    {
     "name": "stdout",
     "output_type": "stream",
     "text": [
      "['glisser']\n",
      "sense_intersect ['no_equality']\n",
      "tip давать чаевые\n",
      "https://context.reverso.net/перевод/английский-французский/tip\n",
      "['pointe', 'extrémité', 'embout', 'bout', 'conseil', 'astuce', 'pourboire', 'tip', 'pencher', 'donner un pourboire', 'incliner', 'tuyau', 'tête', 'sommet', 'truc', 'buse', 'info', 'panne', 'décharge', 'piste']\n",
      "https://context.reverso.net/перевод/русский-французский/давать чаевые\n",
      "turn to alternative marks\n"
     ]
    },
    {
     "name": "stderr",
     "output_type": "stream",
     "text": [
      "\r",
      " 67%|██████▋   | 451/676 [38:27<19:47,  5.28s/it]"
     ]
    },
    {
     "name": "stdout",
     "output_type": "stream",
     "text": [
      "['donner un pourboire']\n",
      "sense_intersect ['donner un pourboire']\n",
      "tip на чай\n",
      "https://context.reverso.net/перевод/английский-французский/tip\n",
      "['pointe', 'extrémité', 'embout', 'bout', 'conseil', 'astuce', 'pourboire', 'tip', 'pencher', 'donner un pourboire', 'incliner', 'tuyau', 'tête', 'sommet', 'truc', 'buse', 'info', 'panne', 'décharge', 'piste']\n",
      "https://context.reverso.net/перевод/русский-французский/на чай\n"
     ]
    },
    {
     "name": "stderr",
     "output_type": "stream",
     "text": [
      "\r",
      " 67%|██████▋   | 452/676 [38:33<19:55,  5.34s/it]"
     ]
    },
    {
     "name": "stdout",
     "output_type": "stream",
     "text": [
      "['pourboire', 'pour le thé']\n",
      "sense_intersect ['pourboire']\n",
      "entire целый\n",
      "https://context.reverso.net/перевод/английский-французский/entire\n",
      "['tout', 'entier', 'complet', 'total', 'long', 'intégral', 'ensemble du', 'totalité du', 'intégralité du', 'entièreté', 'globalité', 'entièrement', 'vie', 'global']\n",
      "https://context.reverso.net/перевод/русский-французский/целый\n"
     ]
    },
    {
     "name": "stderr",
     "output_type": "stream",
     "text": [
      "\r",
      " 67%|██████▋   | 453/676 [38:38<19:56,  5.37s/it]"
     ]
    },
    {
     "name": "stdout",
     "output_type": "stream",
     "text": [
      "['entier', 'toute une', 'tout un', 'ensemble', 'existe']\n",
      "sense_intersect ['entier']\n",
      "entire целостный\n",
      "https://context.reverso.net/перевод/английский-французский/entire\n",
      "['tout', 'entier', 'complet', 'total', 'long', 'intégral', 'ensemble du', 'totalité du', 'intégralité du', 'entièreté', 'globalité', 'entièrement', 'vie', 'global']\n",
      "https://context.reverso.net/перевод/русский-французский/целостный\n"
     ]
    },
    {
     "name": "stderr",
     "output_type": "stream",
     "text": [
      "\r",
      " 67%|██████▋   | 454/676 [38:44<20:33,  5.56s/it]"
     ]
    },
    {
     "name": "stdout",
     "output_type": "stream",
     "text": [
      "['globale', 'holistique', 'intégrée']\n",
      "sense_intersect ['no_equality']\n",
      "entire весь\n",
      "https://context.reverso.net/перевод/английский-французский/entire\n",
      "['tout', 'entier', 'complet', 'total', 'long', 'intégral', 'ensemble du', 'totalité du', 'intégralité du', 'entièreté', 'globalité', 'entièrement', 'vie', 'global']\n",
      "https://context.reverso.net/перевод/русский-французский/весь\n"
     ]
    },
    {
     "name": "stderr",
     "output_type": "stream",
     "text": [
      "\r",
      " 67%|██████▋   | 455/676 [38:49<20:04,  5.45s/it]"
     ]
    },
    {
     "name": "stdout",
     "output_type": "stream",
     "text": [
      "['tout', 'entière', 'plein', 'complet', 'passé', 'toute la', \"l'ensemble\", 'dans son ensemble', 'depuis', 'reste', 'couvert', 'cette', 'est', 'partout']\n",
      "sense_intersect ['tout', 'complet']\n",
      "entire целиком\n",
      "https://context.reverso.net/перевод/английский-французский/entire\n",
      "['tout', 'entier', 'complet', 'total', 'long', 'intégral', 'ensemble du', 'totalité du', 'intégralité du', 'entièreté', 'globalité', 'entièrement', 'vie', 'global']\n",
      "https://context.reverso.net/перевод/русский-французский/целиком\n"
     ]
    },
    {
     "name": "stderr",
     "output_type": "stream",
     "text": [
      "\r",
      " 67%|██████▋   | 456/676 [38:54<19:29,  5.32s/it]"
     ]
    },
    {
     "name": "stdout",
     "output_type": "stream",
     "text": [
      "['entièrement', 'pleinement', 'en entier', 'totalement', 'exclusivement', 'tout']\n",
      "sense_intersect ['tout', 'entièrement']\n",
      "hear слышать\n",
      "https://context.reverso.net/перевод/английский-французский/hear\n",
      "['entendre', 'écouter', 'savoir', 'dire', 'apprendre', 'connaître', 'voir', 'entendre parler', 'avoir', 'entendre dire', 'recueillir', 'nouvelle', 'parle', 'compris', 'courant']\n",
      "https://context.reverso.net/перевод/русский-французский/слышать\n"
     ]
    },
    {
     "name": "stderr",
     "output_type": "stream",
     "text": [
      "\r",
      " 68%|██████▊   | 457/676 [38:59<19:04,  5.23s/it]"
     ]
    },
    {
     "name": "stdout",
     "output_type": "stream",
     "text": [
      "['entendre', 'savoir', 'entendre parler', 'écouter', 'apprendre', 'entendre dire', 'venant', 'ça', 'désolé', 'plaisir']\n",
      "sense_intersect ['entendre', 'écouter', 'savoir', 'apprendre', 'entendre parler', 'entendre dire']\n",
      "hear узнать\n",
      "https://context.reverso.net/перевод/английский-французский/hear\n",
      "['entendre', 'écouter', 'savoir', 'dire', 'apprendre', 'connaître', 'voir', 'entendre parler', 'avoir', 'entendre dire', 'recueillir', 'nouvelle', 'parle', 'compris', 'courant']\n",
      "https://context.reverso.net/перевод/русский-французский/узнать\n"
     ]
    },
    {
     "name": "stderr",
     "output_type": "stream",
     "text": [
      "\r",
      " 68%|██████▊   | 458/676 [39:04<18:36,  5.12s/it]"
     ]
    },
    {
     "name": "stdout",
     "output_type": "stream",
     "text": [
      "['savoir', 'connaître', 'voir', 'apprendre', 'découvrir', 'trouver', 'demander', 'avoir', 'reconnaître', 'entendre', 'comprendre', 'vérifier', 'identifier', 'obtenir', 'renseigner']\n",
      "sense_intersect ['entendre', 'savoir', 'apprendre', 'connaître', 'voir', 'avoir']\n",
      "hear звучать\n",
      "https://context.reverso.net/перевод/английский-французский/hear\n",
      "['entendre', 'écouter', 'savoir', 'dire', 'apprendre', 'connaître', 'voir', 'entendre parler', 'avoir', 'entendre dire', 'recueillir', 'nouvelle', 'parle', 'compris', 'courant']\n",
      "https://context.reverso.net/перевод/русский-французский/звучать\n"
     ]
    },
    {
     "name": "stderr",
     "output_type": "stream",
     "text": [
      "\r",
      " 68%|██████▊   | 459/676 [39:09<18:16,  5.05s/it]"
     ]
    },
    {
     "name": "stdout",
     "output_type": "stream",
     "text": [
      "['paraître', 'sembler']\n",
      "sense_intersect ['no_equality']\n",
      "hear слыхать\n",
      "https://context.reverso.net/перевод/английский-французский/hear\n",
      "['entendre', 'écouter', 'savoir', 'dire', 'apprendre', 'connaître', 'voir', 'entendre parler', 'avoir', 'entendre dire', 'recueillir', 'nouvelle', 'parle', 'compris', 'courant']\n",
      "https://context.reverso.net/перевод/русский-французский/слыхать\n",
      "turn to alternative marks\n"
     ]
    },
    {
     "name": "stderr",
     "output_type": "stream",
     "text": [
      "\r",
      " 68%|██████▊   | 460/676 [39:14<18:12,  5.06s/it]"
     ]
    },
    {
     "name": "stdout",
     "output_type": "stream",
     "text": [
      "[]\n",
      "sense_intersect ['no_equality']\n",
      "hear расслышать\n",
      "https://context.reverso.net/перевод/английский-французский/hear\n",
      "['entendre', 'écouter', 'savoir', 'dire', 'apprendre', 'connaître', 'voir', 'entendre parler', 'avoir', 'entendre dire', 'recueillir', 'nouvelle', 'parle', 'compris', 'courant']\n",
      "https://context.reverso.net/перевод/русский-французский/расслышать\n",
      "turn to alternative marks\n"
     ]
    },
    {
     "name": "stderr",
     "output_type": "stream",
     "text": [
      "\r",
      " 68%|██████▊   | 461/676 [39:19<18:03,  5.04s/it]"
     ]
    },
    {
     "name": "stdout",
     "output_type": "stream",
     "text": [
      "['entendre']\n",
      "sense_intersect ['entendre']\n",
      "hear заслышать\n",
      "https://context.reverso.net/перевод/английский-французский/hear\n",
      "['entendre', 'écouter', 'savoir', 'dire', 'apprendre', 'connaître', 'voir', 'entendre parler', 'avoir', 'entendre dire', 'recueillir', 'nouvelle', 'parle', 'compris', 'courant']\n",
      "https://context.reverso.net/перевод/русский-французский/заслышать\n"
     ]
    },
    {
     "name": "stderr",
     "output_type": "stream",
     "text": [
      "\r",
      " 68%|██████▊   | 462/676 [39:24<18:10,  5.10s/it]"
     ]
    },
    {
     "name": "stdout",
     "output_type": "stream",
     "text": [
      "['entendre', 'écouter']\n",
      "sense_intersect ['entendre', 'écouter']\n",
      "hear слышный\n",
      "https://context.reverso.net/перевод/английский-французский/hear\n",
      "['entendre', 'écouter', 'savoir', 'dire', 'apprendre', 'connaître', 'voir', 'entendre parler', 'avoir', 'entendre dire', 'recueillir', 'nouvelle', 'parle', 'compris', 'courant']\n",
      "https://context.reverso.net/перевод/русский-французский/слышный\n",
      "turn to alternative marks\n"
     ]
    },
    {
     "name": "stderr",
     "output_type": "stream",
     "text": [
      "\r",
      " 68%|██████▊   | 463/676 [39:29<17:49,  5.02s/it]"
     ]
    },
    {
     "name": "stdout",
     "output_type": "stream",
     "text": [
      "[]\n",
      "sense_intersect ['no_equality']\n",
      "right право\n",
      "https://context.reverso.net/перевод/английский-французский/right\n",
      "['droit', 'droite', 'bien', 'raison', 'tout', 'suite', 'bon', 'juste', 'vrai', 'exact', 'correct', \"d'accord\", 'hein', 'dès', \"c'est ça\", \"n'est-ce pas\", 'non', 'corriger', 'ok', \"d'accord\", 'va', 'appropriée']\n",
      "https://context.reverso.net/перевод/русский-французский/право\n"
     ]
    },
    {
     "name": "stderr",
     "output_type": "stream",
     "text": [
      "\r",
      " 69%|██████▊   | 464/676 [39:34<17:51,  5.05s/it]"
     ]
    },
    {
     "name": "stdout",
     "output_type": "stream",
     "text": [
      "['droit', 'loi', 'pouvoir', 'liberté', 'possibilité', 'faculté', 'compétence', 'qualité', 'droite', 'admis', 'admissibilité', 'autorisé', 'celui', 'libre', 'law']\n",
      "sense_intersect ['droit', 'droite']\n",
      "right правая сторона\n",
      "https://context.reverso.net/перевод/английский-французский/right\n",
      "['droit', 'droite', 'bien', 'raison', 'tout', 'suite', 'bon', 'juste', 'vrai', 'exact', 'correct', \"d'accord\", 'hein', 'dès', \"c'est ça\", \"n'est-ce pas\", 'non', 'corriger', 'ok', \"d'accord\", 'va', 'appropriée']\n",
      "https://context.reverso.net/перевод/русский-французский/правая сторона\n",
      "turn to alternative marks\n"
     ]
    },
    {
     "name": "stderr",
     "output_type": "stream",
     "text": [
      "\r",
      " 69%|██████▉   | 465/676 [39:40<18:02,  5.13s/it]"
     ]
    },
    {
     "name": "stdout",
     "output_type": "stream",
     "text": [
      "['côté droit', 'droite']\n",
      "sense_intersect ['droite', 'droit | côté droit']\n",
      "right правда\n",
      "https://context.reverso.net/перевод/английский-французский/right\n",
      "['droit', 'droite', 'bien', 'raison', 'tout', 'suite', 'bon', 'juste', 'vrai', 'exact', 'correct', \"d'accord\", 'hein', 'dès', \"c'est ça\", \"n'est-ce pas\", 'non', 'corriger', 'ok', \"d'accord\", 'va', 'appropriée']\n",
      "https://context.reverso.net/перевод/русский-французский/правда\n",
      "['vraiment', 'hein', 'sérieusement', 'honnêtement', 'sincèrement', 'vrai', 'vérité', 'non', 'si', 'bien', 'oui', 'accord', 'sérieux', 'ça', 'réellement']\n"
     ]
    },
    {
     "name": "stderr",
     "output_type": "stream",
     "text": [
      "\r",
      " 69%|██████▉   | 466/676 [39:45<18:14,  5.21s/it]"
     ]
    },
    {
     "name": "stdout",
     "output_type": "stream",
     "text": [
      "sense_intersect ['bien', 'vrai', 'hein', 'non']\n",
      "right правота\n",
      "https://context.reverso.net/перевод/английский-французский/right\n",
      "['droit', 'droite', 'bien', 'raison', 'tout', 'suite', 'bon', 'juste', 'vrai', 'exact', 'correct', \"d'accord\", 'hein', 'dès', \"c'est ça\", \"n'est-ce pas\", 'non', 'corriger', 'ok', \"d'accord\", 'va', 'appropriée']\n",
      "https://context.reverso.net/перевод/русский-французский/правота\n",
      "turn to alternative marks\n"
     ]
    },
    {
     "name": "stderr",
     "output_type": "stream",
     "text": [
      "\r",
      " 69%|██████▉   | 467/676 [39:50<18:12,  5.23s/it]"
     ]
    },
    {
     "name": "stdout",
     "output_type": "stream",
     "text": [
      "[]\n",
      "sense_intersect ['no_equality']\n",
      "right правый\n",
      "https://context.reverso.net/перевод/английский-французский/right\n",
      "['droit', 'droite', 'bien', 'raison', 'tout', 'suite', 'bon', 'juste', 'vrai', 'exact', 'correct', \"d'accord\", 'hein', 'dès', \"c'est ça\", \"n'est-ce pas\", 'non', 'corriger', 'ok', \"d'accord\", 'va', 'appropriée']\n",
      "https://context.reverso.net/перевод/русский-французский/правый\n"
     ]
    },
    {
     "name": "stderr",
     "output_type": "stream",
     "text": [
      "\r",
      " 69%|██████▉   | 468/676 [39:55<17:48,  5.14s/it]"
     ]
    },
    {
     "name": "stdout",
     "output_type": "stream",
     "text": [
      "['droit', 'tribord']\n",
      "sense_intersect ['droit']\n",
      "right нужный\n",
      "https://context.reverso.net/перевод/английский-французский/right\n",
      "['droit', 'droite', 'bien', 'raison', 'tout', 'suite', 'bon', 'juste', 'vrai', 'exact', 'correct', \"d'accord\", 'hein', 'dès', \"c'est ça\", \"n'est-ce pas\", 'non', 'corriger', 'ok', \"d'accord\", 'va', 'appropriée']\n",
      "https://context.reverso.net/перевод/русский-французский/нужный\n"
     ]
    },
    {
     "name": "stderr",
     "output_type": "stream",
     "text": [
      "\r",
      " 69%|██████▉   | 469/676 [40:00<17:29,  5.07s/it]"
     ]
    },
    {
     "name": "stdout",
     "output_type": "stream",
     "text": [
      "['la bonne', 'bon']\n",
      "sense_intersect ['bon']\n",
      "right подходящий\n",
      "https://context.reverso.net/перевод/английский-французский/right\n",
      "['droit', 'droite', 'bien', 'raison', 'tout', 'suite', 'bon', 'juste', 'vrai', 'exact', 'correct', \"d'accord\", 'hein', 'dès', \"c'est ça\", \"n'est-ce pas\", 'non', 'corriger', 'ok', \"d'accord\", 'va', 'appropriée']\n",
      "https://context.reverso.net/перевод/русский-французский/подходящий\n"
     ]
    },
    {
     "name": "stderr",
     "output_type": "stream",
     "text": [
      "\r",
      " 70%|██████▉   | 470/676 [40:05<17:17,  5.04s/it]"
     ]
    },
    {
     "name": "stdout",
     "output_type": "stream",
     "text": [
      "['bon', 'approprié']\n",
      "sense_intersect ['bon', 'appropriée | approprié']\n",
      "right вправо\n",
      "https://context.reverso.net/перевод/английский-французский/right\n",
      "['droit', 'droite', 'bien', 'raison', 'tout', 'suite', 'bon', 'juste', 'vrai', 'exact', 'correct', \"d'accord\", 'hein', 'dès', \"c'est ça\", \"n'est-ce pas\", 'non', 'corriger', 'ok', \"d'accord\", 'va', 'appropriée']\n",
      "https://context.reverso.net/перевод/русский-французский/вправо\n"
     ]
    },
    {
     "name": "stderr",
     "output_type": "stream",
     "text": [
      "\r",
      " 70%|██████▉   | 471/676 [40:10<17:13,  5.04s/it]"
     ]
    },
    {
     "name": "stdout",
     "output_type": "stream",
     "text": [
      "['à droite', 'vers la droite']\n",
      "sense_intersect ['droite | à droite']\n",
      "right правильно\n",
      "https://context.reverso.net/перевод/английский-французский/right\n",
      "['droit', 'droite', 'bien', 'raison', 'tout', 'suite', 'bon', 'juste', 'vrai', 'exact', 'correct', \"d'accord\", 'hein', 'dès', \"c'est ça\", \"n'est-ce pas\", 'non', 'corriger', 'ok', \"d'accord\", 'va', 'appropriée']\n",
      "https://context.reverso.net/перевод/русский-французский/правильно\n"
     ]
    },
    {
     "name": "stderr",
     "output_type": "stream",
     "text": [
      "\r",
      " 70%|██████▉   | 472/676 [40:15<17:07,  5.04s/it]"
     ]
    },
    {
     "name": "stdout",
     "output_type": "stream",
     "text": [
      "['bien', 'non', 'correctement', \"c'est ça\", 'pas vrai', \"n'est-ce pas\", 'hein', 'mal', 'exact', 'correct', 'oui', 'à juste titre', \"c'est vrai\", 'bon choix', 'raison']\n",
      "sense_intersect ['bien', 'raison', 'exact', 'correct', 'hein', \"c'est ça\", \"n'est-ce pas\", 'non']\n",
      "right сразу\n",
      "https://context.reverso.net/перевод/английский-французский/right\n",
      "['droit', 'droite', 'bien', 'raison', 'tout', 'suite', 'bon', 'juste', 'vrai', 'exact', 'correct', \"d'accord\", 'hein', 'dès', \"c'est ça\", \"n'est-ce pas\", 'non', 'corriger', 'ok', \"d'accord\", 'va', 'appropriée']\n",
      "https://context.reverso.net/перевод/русский-французский/сразу\n"
     ]
    },
    {
     "name": "stderr",
     "output_type": "stream",
     "text": [
      "\r",
      " 70%|██████▉   | 473/676 [40:20<16:59,  5.02s/it]"
     ]
    },
    {
     "name": "stdout",
     "output_type": "stream",
     "text": [
      "['immédiatement', 'juste', 'après', 'directement', 'tout de suite', 'aussitôt', 'droit', 'vite', 'rapidement', 'maintenant', 'avant', 'plus tôt', 'foi', 'deux', 'dû']\n",
      "sense_intersect ['droit', 'juste']\n",
      "right хорошо\n",
      "https://context.reverso.net/перевод/английский-французский/right\n",
      "['droit', 'droite', 'bien', 'raison', 'tout', 'suite', 'bon', 'juste', 'vrai', 'exact', 'correct', \"d'accord\", 'hein', 'dès', \"c'est ça\", \"n'est-ce pas\", 'non', 'corriger', 'ok', \"d'accord\", 'va', 'appropriée']\n",
      "https://context.reverso.net/перевод/русский-французский/хорошо\n"
     ]
    },
    {
     "name": "stderr",
     "output_type": "stream",
     "text": [
      "\r",
      " 70%|███████   | 474/676 [40:25<16:55,  5.02s/it]"
     ]
    },
    {
     "name": "stdout",
     "output_type": "stream",
     "text": [
      "['bien', \"d'accord\", 'bon', 'okay', 'oui', 'heureusement', 'alors', 'tant mieux', 'mal', 'allez', 'beau', \"c'est bien\", \"c'est bon\", 'aller', 'ok']\n",
      "sense_intersect ['bien', 'bon', \"d'accord\", 'ok']\n",
      "right прямо\n",
      "https://context.reverso.net/перевод/английский-французский/right\n",
      "['droit', 'droite', 'bien', 'raison', 'tout', 'suite', 'bon', 'juste', 'vrai', 'exact', 'correct', \"d'accord\", 'hein', 'dès', \"c'est ça\", \"n'est-ce pas\", 'non', 'corriger', 'ok', \"d'accord\", 'va', 'appropriée']\n",
      "https://context.reverso.net/перевод/русский-французский/прямо\n"
     ]
    },
    {
     "name": "stderr",
     "output_type": "stream",
     "text": [
      "\r",
      " 70%|███████   | 475/676 [40:30<16:46,  5.01s/it]"
     ]
    },
    {
     "name": "stdout",
     "output_type": "stream",
     "text": [
      "['juste', 'directement', 'droit', 'expressément', 'devant', 'tout droit', 'explicitement', 'clairement', 'en plein', 'exactement', 'derrière', 'là-bas', 'au-dessus', 'près', 'pile']\n",
      "sense_intersect ['droit', 'juste']\n",
      "secret секрет\n",
      "https://context.reverso.net/перевод/английский-французский/secret\n",
      "['secret', 'caché', 'clandestin', 'confidentiel', 'cachette', 'mystère', 'cachent', 'secrètement', 'cacher', 'annexe']\n",
      "https://context.reverso.net/перевод/русский-французский/секрет\n"
     ]
    },
    {
     "name": "stderr",
     "output_type": "stream",
     "text": [
      "\r",
      " 70%|███████   | 476/676 [40:36<17:11,  5.16s/it]"
     ]
    },
    {
     "name": "stdout",
     "output_type": "stream",
     "text": [
      "['secret', 'truc']\n",
      "sense_intersect ['secret']\n",
      "secret тайный\n",
      "https://context.reverso.net/перевод/английский-французский/secret\n",
      "['secret', 'caché', 'clandestin', 'confidentiel', 'cachette', 'mystère', 'cachent', 'secrètement', 'cacher', 'annexe']\n",
      "https://context.reverso.net/перевод/русский-французский/тайный\n"
     ]
    },
    {
     "name": "stderr",
     "output_type": "stream",
     "text": [
      "\r",
      " 71%|███████   | 477/676 [40:41<17:23,  5.24s/it]"
     ]
    },
    {
     "name": "stdout",
     "output_type": "stream",
     "text": [
      "['secret']\n",
      "sense_intersect ['secret']\n",
      "secret потайной\n",
      "https://context.reverso.net/перевод/английский-французский/secret\n",
      "['secret', 'caché', 'clandestin', 'confidentiel', 'cachette', 'mystère', 'cachent', 'secrètement', 'cacher', 'annexe']\n",
      "https://context.reverso.net/перевод/русский-французский/потайной\n",
      "turn to alternative marks\n"
     ]
    },
    {
     "name": "stderr",
     "output_type": "stream",
     "text": [
      "\r",
      " 71%|███████   | 478/676 [40:47<18:11,  5.51s/it]"
     ]
    },
    {
     "name": "stdout",
     "output_type": "stream",
     "text": [
      "['passage secret', 'entrée secrète', 'une planque secrète', 'un compartiment']\n",
      "sense_intersect ['no_equality']\n",
      "secret скрытный\n",
      "https://context.reverso.net/перевод/английский-французский/secret\n",
      "['secret', 'caché', 'clandestin', 'confidentiel', 'cachette', 'mystère', 'cachent', 'secrètement', 'cacher', 'annexe']\n",
      "https://context.reverso.net/перевод/русский-французский/скрытный\n",
      "turn to alternative marks\n"
     ]
    },
    {
     "name": "stderr",
     "output_type": "stream",
     "text": [
      "\r",
      " 71%|███████   | 479/676 [40:52<17:27,  5.32s/it]"
     ]
    },
    {
     "name": "stdout",
     "output_type": "stream",
     "text": [
      "['secret', 'discret']\n",
      "sense_intersect ['secret']\n",
      "secret негласный\n",
      "https://context.reverso.net/перевод/английский-французский/secret\n",
      "['secret', 'caché', 'clandestin', 'confidentiel', 'cachette', 'mystère', 'cachent', 'secrètement', 'cacher', 'annexe']\n",
      "https://context.reverso.net/перевод/русский-французский/негласный\n",
      "turn to alternative marks\n"
     ]
    },
    {
     "name": "stderr",
     "output_type": "stream",
     "text": [
      "\r",
      " 71%|███████   | 480/676 [40:58<17:35,  5.39s/it]"
     ]
    },
    {
     "name": "stdout",
     "output_type": "stream",
     "text": [
      "['silencieux', 'implicite']\n",
      "sense_intersect ['no_equality']\n",
      "secret закулисный\n",
      "https://context.reverso.net/перевод/английский-французский/secret\n",
      "['secret', 'caché', 'clandestin', 'confidentiel', 'cachette', 'mystère', 'cachent', 'secrètement', 'cacher', 'annexe']\n",
      "https://context.reverso.net/перевод/русский-французский/закулисный\n",
      "turn to alternative marks\n"
     ]
    },
    {
     "name": "stderr",
     "output_type": "stream",
     "text": [
      "\r",
      " 71%|███████   | 481/676 [41:03<17:12,  5.29s/it]"
     ]
    },
    {
     "name": "stdout",
     "output_type": "stream",
     "text": [
      "['coulisse']\n",
      "sense_intersect ['no_equality']\n",
      "secret конспиративный\n",
      "https://context.reverso.net/перевод/английский-французский/secret\n",
      "['secret', 'caché', 'clandestin', 'confidentiel', 'cachette', 'mystère', 'cachent', 'secrètement', 'cacher', 'annexe']\n",
      "https://context.reverso.net/перевод/русский-французский/конспиративный\n",
      "turn to alternative marks\n"
     ]
    },
    {
     "name": "stderr",
     "output_type": "stream",
     "text": [
      "\r",
      " 71%|███████▏  | 482/676 [41:08<17:12,  5.32s/it]"
     ]
    },
    {
     "name": "stdout",
     "output_type": "stream",
     "text": [
      "['secret']\n",
      "sense_intersect ['secret']\n",
      "secret засекреченный\n",
      "https://context.reverso.net/перевод/английский-французский/secret\n",
      "['secret', 'caché', 'clandestin', 'confidentiel', 'cachette', 'mystère', 'cachent', 'secrètement', 'cacher', 'annexe']\n",
      "https://context.reverso.net/перевод/русский-французский/засекреченный\n",
      "turn to alternative marks\n"
     ]
    },
    {
     "name": "stderr",
     "output_type": "stream",
     "text": [
      "\r",
      " 71%|███████▏  | 483/676 [41:13<16:43,  5.20s/it]"
     ]
    },
    {
     "name": "stdout",
     "output_type": "stream",
     "text": [
      "['secret', 'top-secret']\n",
      "sense_intersect ['secret']\n",
      "secret скрытый\n",
      "https://context.reverso.net/перевод/английский-французский/secret\n",
      "['secret', 'caché', 'clandestin', 'confidentiel', 'cachette', 'mystère', 'cachent', 'secrètement', 'cacher', 'annexe']\n",
      "https://context.reverso.net/перевод/русский-французский/скрытый\n"
     ]
    },
    {
     "name": "stderr",
     "output_type": "stream",
     "text": [
      "\r",
      " 72%|███████▏  | 484/676 [41:18<16:26,  5.14s/it]"
     ]
    },
    {
     "name": "stdout",
     "output_type": "stream",
     "text": [
      "['caché']\n",
      "sense_intersect ['caché']\n",
      "secret закрытый\n",
      "https://context.reverso.net/перевод/английский-французский/secret\n",
      "['secret', 'caché', 'clandestin', 'confidentiel', 'cachette', 'mystère', 'cachent', 'secrètement', 'cacher', 'annexe']\n",
      "https://context.reverso.net/перевод/русский-французский/закрытый\n"
     ]
    },
    {
     "name": "stderr",
     "output_type": "stream",
     "text": [
      "\r",
      " 72%|███████▏  | 485/676 [41:23<16:13,  5.10s/it]"
     ]
    },
    {
     "name": "stdout",
     "output_type": "stream",
     "text": [
      "['fermé']\n",
      "sense_intersect ['no_equality']\n",
      "secret затаенный\n",
      "https://context.reverso.net/перевод/английский-французский/secret\n",
      "['secret', 'caché', 'clandestin', 'confidentiel', 'cachette', 'mystère', 'cachent', 'secrètement', 'cacher', 'annexe']\n",
      "https://context.reverso.net/перевод/русский-французский/затаенный\n",
      "turn to alternative marks\n"
     ]
    },
    {
     "name": "stderr",
     "output_type": "stream",
     "text": [
      "\r",
      " 72%|███████▏  | 486/676 [41:28<15:59,  5.05s/it]"
     ]
    },
    {
     "name": "stdout",
     "output_type": "stream",
     "text": [
      "[]\n",
      "sense_intersect ['no_equality']\n",
      "secret тайно\n",
      "https://context.reverso.net/перевод/английский-французский/secret\n",
      "['secret', 'caché', 'clandestin', 'confidentiel', 'cachette', 'mystère', 'cachent', 'secrètement', 'cacher', 'annexe']\n",
      "https://context.reverso.net/перевод/русский-французский/тайно\n"
     ]
    },
    {
     "name": "stderr",
     "output_type": "stream",
     "text": [
      "\r",
      " 72%|███████▏  | 487/676 [41:33<15:54,  5.05s/it]"
     ]
    },
    {
     "name": "stdout",
     "output_type": "stream",
     "text": [
      "['secrètement', 'en secret', 'clandestinement']\n",
      "sense_intersect ['secrètement']\n",
      "secret в секрете\n",
      "https://context.reverso.net/перевод/английский-французский/secret\n",
      "['secret', 'caché', 'clandestin', 'confidentiel', 'cachette', 'mystère', 'cachent', 'secrètement', 'cacher', 'annexe']\n",
      "https://context.reverso.net/перевод/русский-французский/в секрете\n"
     ]
    },
    {
     "name": "stderr",
     "output_type": "stream",
     "text": [
      "\r",
      " 72%|███████▏  | 488/676 [41:38<15:49,  5.05s/it]"
     ]
    },
    {
     "name": "stdout",
     "output_type": "stream",
     "text": [
      "['secrète', 'secret']\n",
      "sense_intersect ['secret']\n",
      "this этот\n",
      "https://context.reverso.net/перевод/английский-французский/this\n",
      "['c', 'présent', 'l', 'ici', 'ainsi', 'voici', 'ce', 'cela', 'le', 'il', 'ceci', 'on', 'celui-ci', 'une', 'telle', 'sa', \"j'\", 'celle-là', 'ses', 'nos', 'ta']\n",
      "https://context.reverso.net/перевод/русский-французский/этот\n"
     ]
    },
    {
     "name": "stderr",
     "output_type": "stream",
     "text": [
      "\r",
      " 72%|███████▏  | 489/676 [41:44<16:21,  5.25s/it]"
     ]
    },
    {
     "name": "stdout",
     "output_type": "stream",
     "text": [
      "['ce', 'son', 'celui-ci', 'notre', 'le', 'il', 'cela', 'celui-là', 'celle-ci', 'ceci']\n",
      "sense_intersect ['ce', 'cela', 'le', 'il', 'ceci', 'celui-ci']\n",
      "this это\n",
      "https://context.reverso.net/перевод/английский-французский/this\n",
      "['c', 'présent', 'l', 'ici', 'ainsi', 'voici', 'ce', 'cela', 'le', 'il', 'ceci', 'on', 'celui-ci', 'une', 'telle', 'sa', \"j'\", 'celle-là', 'ses', 'nos', 'ta']\n",
      "https://context.reverso.net/перевод/русский-французский/это\n"
     ]
    },
    {
     "name": "stderr",
     "output_type": "stream",
     "text": [
      "\r",
      " 72%|███████▏  | 490/676 [41:49<16:03,  5.18s/it]"
     ]
    },
    {
     "name": "stdout",
     "output_type": "stream",
     "text": [
      "[\"c'est\", 'cela', 'ce', 'le', 'c', 'il', 'un', 'je', 'tu', 'en', 'on', 'ceci', 'y', 'tout', 'celui-ci']\n",
      "sense_intersect ['c', 'ce', 'cela', 'le', 'il', 'ceci', 'on', 'celui-ci']\n",
      "this настоящий\n",
      "https://context.reverso.net/перевод/английский-французский/this\n",
      "['c', 'présent', 'l', 'ici', 'ainsi', 'voici', 'ce', 'cela', 'le', 'il', 'ceci', 'on', 'celui-ci', 'une', 'telle', 'sa', \"j'\", 'celle-là', 'ses', 'nos', 'ta']\n",
      "https://context.reverso.net/перевод/русский-французский/настоящий\n"
     ]
    },
    {
     "name": "stderr",
     "output_type": "stream",
     "text": [
      "\r",
      " 73%|███████▎  | 491/676 [41:54<15:59,  5.18s/it]"
     ]
    },
    {
     "name": "stdout",
     "output_type": "stream",
     "text": [
      "['présent', 'vrai', 'véritable', 'réel', 'actuel', 'authentique', 'la présente', 'vraiment', 'faux']\n",
      "sense_intersect ['présent']\n",
      "this то\n",
      "https://context.reverso.net/перевод/английский-французский/this\n",
      "['c', 'présent', 'l', 'ici', 'ainsi', 'voici', 'ce', 'cela', 'le', 'il', 'ceci', 'on', 'celui-ci', 'une', 'telle', 'sa', \"j'\", 'celle-là', 'ses', 'nos', 'ta']\n",
      "https://context.reverso.net/перевод/русский-французский/то\n",
      "['ce', 'le', 'il', 'alors', 'même', 'est', \"c'\", 'je', 'on', 'ça', 'fait', 'donc', 'tu', 'quelque chose', 'façon']\n"
     ]
    },
    {
     "name": "stderr",
     "output_type": "stream",
     "text": [
      "\r",
      " 73%|███████▎  | 492/676 [42:00<16:11,  5.28s/it]"
     ]
    },
    {
     "name": "stdout",
     "output_type": "stream",
     "text": [
      "sense_intersect ['ce', 'le', 'il', 'on']\n",
      "this так\n",
      "https://context.reverso.net/перевод/английский-французский/this\n",
      "['c', 'présent', 'l', 'ici', 'ainsi', 'voici', 'ce', 'cela', 'le', 'il', 'ceci', 'on', 'celui-ci', 'une', 'telle', 'sa', \"j'\", 'celle-là', 'ses', 'nos', 'ta']\n",
      "https://context.reverso.net/перевод/русский-французский/так\n"
     ]
    },
    {
     "name": "stderr",
     "output_type": "stream",
     "text": [
      "\r",
      " 73%|███████▎  | 493/676 [42:05<15:59,  5.24s/it]"
     ]
    },
    {
     "name": "stdout",
     "output_type": "stream",
     "text": [
      "['donc', 'alors', 'si', 'aussi', 'tellement', 'non', 'comme ça', 'ainsi', 'autant', 'tant', 'bien', 'vrai', 'tout', 'vraiment', 'trop']\n",
      "sense_intersect ['ainsi']\n",
      "guru гуру\n",
      "https://context.reverso.net/перевод/английский-французский/guru\n",
      "['gourou']\n",
      "https://context.reverso.net/перевод/русский-французский/гуру\n"
     ]
    },
    {
     "name": "stderr",
     "output_type": "stream",
     "text": [
      "\r",
      " 73%|███████▎  | 494/676 [42:10<15:40,  5.17s/it]"
     ]
    },
    {
     "name": "stdout",
     "output_type": "stream",
     "text": [
      "['gourou']\n",
      "sense_intersect ['gourou']\n",
      "star звезда\n",
      "https://context.reverso.net/перевод/английский-французский/star\n",
      "['star', 'étoile', 'vedette', 'astre', 'étoilée', 'phare', 'célébrité', 'protagoniste', 'stellaire', 'jouer', 'célèbre', 'astérisque', \"star's\", 'cerveau']\n",
      "https://context.reverso.net/перевод/русский-французский/звезда\n"
     ]
    },
    {
     "name": "stderr",
     "output_type": "stream",
     "text": [
      "\r",
      " 73%|███████▎  | 495/676 [42:15<15:20,  5.08s/it]"
     ]
    },
    {
     "name": "stdout",
     "output_type": "stream",
     "text": [
      "['étoile', 'star', 'vedette']\n",
      "sense_intersect ['star', 'étoile', 'vedette']\n",
      "star светило\n",
      "https://context.reverso.net/перевод/английский-французский/star\n",
      "['star', 'étoile', 'vedette', 'astre', 'étoilée', 'phare', 'célébrité', 'protagoniste', 'stellaire', 'jouer', 'célèbre', 'astérisque', \"star's\", 'cerveau']\n",
      "https://context.reverso.net/перевод/русский-французский/светило\n",
      "turn to alternative marks\n"
     ]
    },
    {
     "name": "stderr",
     "output_type": "stream",
     "text": [
      "\r",
      " 73%|███████▎  | 496/676 [42:20<15:16,  5.09s/it]"
     ]
    },
    {
     "name": "stdout",
     "output_type": "stream",
     "text": [
      "['idole', 'astre', 'brillait', 'soleil', 'brille', 'lumineux']\n",
      "sense_intersect ['astre']\n",
      "star кинозвезда\n",
      "https://context.reverso.net/перевод/английский-французский/star\n",
      "['star', 'étoile', 'vedette', 'astre', 'étoilée', 'phare', 'célébrité', 'protagoniste', 'stellaire', 'jouer', 'célèbre', 'astérisque', \"star's\", 'cerveau']\n",
      "https://context.reverso.net/перевод/русский-французский/кинозвезда\n",
      "turn to alternative marks\n"
     ]
    },
    {
     "name": "stderr",
     "output_type": "stream",
     "text": [
      "\r",
      " 74%|███████▎  | 497/676 [42:25<15:05,  5.06s/it]"
     ]
    },
    {
     "name": "stdout",
     "output_type": "stream",
     "text": [
      "['star de cinéma', 'vedette de cinéma', 'acteur', 'vedette du cinéma']\n",
      "sense_intersect ['no_equality']\n",
      "star стар\n",
      "https://context.reverso.net/перевод/английский-французский/star\n",
      "['star', 'étoile', 'vedette', 'astre', 'étoilée', 'phare', 'célébrité', 'protagoniste', 'stellaire', 'jouer', 'célèbre', 'astérisque', \"star's\", 'cerveau']\n",
      "https://context.reverso.net/перевод/русский-французский/стар\n"
     ]
    },
    {
     "name": "stderr",
     "output_type": "stream",
     "text": [
      "\r",
      " 74%|███████▎  | 498/676 [42:30<15:00,  5.06s/it]"
     ]
    },
    {
     "name": "stdout",
     "output_type": "stream",
     "text": [
      "['âgé', 'vieux', 'star']\n",
      "sense_intersect ['star']\n",
      "star главные роли\n",
      "https://context.reverso.net/перевод/английский-французский/star\n",
      "['star', 'étoile', 'vedette', 'astre', 'étoilée', 'phare', 'célébrité', 'protagoniste', 'stellaire', 'jouer', 'célèbre', 'astérisque', \"star's\", 'cerveau']\n",
      "https://context.reverso.net/перевод/русский-французский/главные роли\n",
      "turn to alternative marks\n"
     ]
    },
    {
     "name": "stderr",
     "output_type": "stream",
     "text": [
      "\r",
      " 74%|███████▍  | 499/676 [42:35<14:44,  5.00s/it]"
     ]
    },
    {
     "name": "stdout",
     "output_type": "stream",
     "text": [
      "['le meneur', 'les rôles principaux']\n",
      "sense_intersect ['no_equality']\n",
      "star дива\n",
      "https://context.reverso.net/перевод/английский-французский/star\n",
      "['star', 'étoile', 'vedette', 'astre', 'étoilée', 'phare', 'célébrité', 'protagoniste', 'stellaire', 'jouer', 'célèbre', 'astérisque', \"star's\", 'cerveau']\n",
      "https://context.reverso.net/перевод/русский-французский/дива\n"
     ]
    },
    {
     "name": "stderr",
     "output_type": "stream",
     "text": [
      "\r",
      " 74%|███████▍  | 500/676 [42:40<14:50,  5.06s/it]"
     ]
    },
    {
     "name": "stdout",
     "output_type": "stream",
     "text": [
      "['diva']\n",
      "sense_intersect ['no_equality']\n",
      "star звездный\n",
      "https://context.reverso.net/перевод/английский-французский/star\n",
      "['star', 'étoile', 'vedette', 'astre', 'étoilée', 'phare', 'célébrité', 'protagoniste', 'stellaire', 'jouer', 'célèbre', 'astérisque', \"star's\", 'cerveau']\n",
      "https://context.reverso.net/перевод/русский-французский/звездный\n",
      "turn to alternative marks\n",
      "['stellaire', 'astral', 'glaive des étoiles', 'joueur', 'lanceur', 'trooper']\n",
      "sense_intersect ['stellaire']\n"
     ]
    },
    {
     "name": "stderr",
     "output_type": "stream",
     "text": [
      "\r",
      " 74%|███████▍  | 501/676 [42:45<14:57,  5.13s/it]"
     ]
    },
    {
     "name": "stdout",
     "output_type": "stream",
     "text": [
      "star сниматься\n",
      "https://context.reverso.net/перевод/английский-французский/star\n",
      "['star', 'étoile', 'vedette', 'astre', 'étoilée', 'phare', 'célébrité', 'protagoniste', 'stellaire', 'jouer', 'célèbre', 'astérisque', \"star's\", 'cerveau']\n",
      "https://context.reverso.net/перевод/русский-французский/сниматься\n"
     ]
    },
    {
     "name": "stderr",
     "output_type": "stream",
     "text": [
      "\r",
      " 74%|███████▍  | 502/676 [42:50<14:46,  5.09s/it]"
     ]
    },
    {
     "name": "stdout",
     "output_type": "stream",
     "text": [
      "['jouer', 'faire']\n",
      "sense_intersect ['jouer']\n",
      "star играть главные роли\n",
      "https://context.reverso.net/перевод/английский-французский/star\n",
      "['star', 'étoile', 'vedette', 'astre', 'étoilée', 'phare', 'célébrité', 'protagoniste', 'stellaire', 'jouer', 'célèbre', 'astérisque', \"star's\", 'cerveau']\n",
      "https://context.reverso.net/перевод/русский-французский/играть главные роли\n"
     ]
    },
    {
     "name": "stderr",
     "output_type": "stream",
     "text": [
      "\r",
      " 74%|███████▍  | 503/676 [42:56<15:03,  5.22s/it]"
     ]
    },
    {
     "name": "stdout",
     "output_type": "stream",
     "text": [
      "['jouer', 'faire', 'jouera un', 'contribuer', 'rôle', 'le meneur']\n",
      "sense_intersect ['jouer']\n",
      "benefit выгода\n",
      "https://context.reverso.net/перевод/английский-французский/benefit\n",
      "['avantage', 'bénéfice', 'prestation', 'profit', 'intérêt', 'allocation', 'faveur', 'bien', 'bénéficier', 'profiter', 'tirer profit', 'tirer parti', 'avantager', 'tirer bénéfice', 'indemnité', 'intention', 'bénéfique', 'utile', 'gain', 'apport', 'avantageux', 'jouissent']\n",
      "https://context.reverso.net/перевод/русский-французский/выгода\n",
      "turn to alternative marks\n"
     ]
    },
    {
     "name": "stderr",
     "output_type": "stream",
     "text": [
      "\r",
      " 75%|███████▍  | 504/676 [43:01<14:48,  5.16s/it]"
     ]
    },
    {
     "name": "stdout",
     "output_type": "stream",
     "text": [
      "['avantage', 'profit', 'bénéfice', 'intérêt', 'gain', 'profiterait', 'rapporte', \"que j'y gagne\", 'latents', 'y gagnez', 'y gagnes quoi', 'y gagne quoi']\n",
      "sense_intersect ['avantage', 'bénéfice', 'profit', 'intérêt', 'gain']\n",
      "benefit преимущество\n",
      "https://context.reverso.net/перевод/английский-французский/benefit\n",
      "['avantage', 'bénéfice', 'prestation', 'profit', 'intérêt', 'allocation', 'faveur', 'bien', 'bénéficier', 'profiter', 'tirer profit', 'tirer parti', 'avantager', 'tirer bénéfice', 'indemnité', 'intention', 'bénéfique', 'utile', 'gain', 'apport', 'avantageux', 'jouissent']\n",
      "https://context.reverso.net/перевод/русский-французский/преимущество\n"
     ]
    },
    {
     "name": "stderr",
     "output_type": "stream",
     "text": [
      "\r",
      " 75%|███████▍  | 505/676 [43:06<14:35,  5.12s/it]"
     ]
    },
    {
     "name": "stdout",
     "output_type": "stream",
     "text": [
      "['avantage', 'atout', 'avance']\n",
      "sense_intersect ['avantage']\n",
      "benefit привилегия\n",
      "https://context.reverso.net/перевод/английский-французский/benefit\n",
      "['avantage', 'bénéfice', 'prestation', 'profit', 'intérêt', 'allocation', 'faveur', 'bien', 'bénéficier', 'profiter', 'tirer profit', 'tirer parti', 'avantager', 'tirer bénéfice', 'indemnité', 'intention', 'bénéfique', 'utile', 'gain', 'apport', 'avantageux', 'jouissent']\n",
      "https://context.reverso.net/перевод/русский-французский/привилегия\n"
     ]
    },
    {
     "name": "stderr",
     "output_type": "stream",
     "text": [
      "\r",
      " 75%|███████▍  | 506/676 [43:11<14:35,  5.15s/it]"
     ]
    },
    {
     "name": "stdout",
     "output_type": "stream",
     "text": [
      "['privilège']\n",
      "sense_intersect ['no_equality']\n",
      "benefit пособие\n",
      "https://context.reverso.net/перевод/английский-французский/benefit\n",
      "['avantage', 'bénéfice', 'prestation', 'profit', 'intérêt', 'allocation', 'faveur', 'bien', 'bénéficier', 'profiter', 'tirer profit', 'tirer parti', 'avantager', 'tirer bénéfice', 'indemnité', 'intention', 'bénéfique', 'utile', 'gain', 'apport', 'avantageux', 'jouissent']\n",
      "https://context.reverso.net/перевод/русский-французский/пособие\n"
     ]
    },
    {
     "name": "stderr",
     "output_type": "stream",
     "text": [
      "\r",
      " 75%|███████▌  | 507/676 [43:16<14:28,  5.14s/it]"
     ]
    },
    {
     "name": "stdout",
     "output_type": "stream",
     "text": [
      "['allocation', 'manuel', 'indemnité', 'prestation', 'guide', 'prime', 'aide', 'versée', 'pension']\n",
      "sense_intersect ['prestation', 'allocation', 'indemnité']\n",
      "benefit благо\n",
      "https://context.reverso.net/перевод/английский-французский/benefit\n",
      "['avantage', 'bénéfice', 'prestation', 'profit', 'intérêt', 'allocation', 'faveur', 'bien', 'bénéficier', 'profiter', 'tirer profit', 'tirer parti', 'avantager', 'tirer bénéfice', 'indemnité', 'intention', 'bénéfique', 'utile', 'gain', 'apport', 'avantageux', 'jouissent']\n",
      "https://context.reverso.net/перевод/русский-французский/благо\n"
     ]
    },
    {
     "name": "stderr",
     "output_type": "stream",
     "text": [
      "\r",
      " 75%|███████▌  | 508/676 [43:21<14:21,  5.13s/it]"
     ]
    },
    {
     "name": "stdout",
     "output_type": "stream",
     "text": [
      "['bien', 'intérêt', 'bien-être', 'humanité']\n",
      "sense_intersect ['intérêt', 'bien']\n",
      "benefit прибыль\n",
      "https://context.reverso.net/перевод/английский-французский/benefit\n",
      "['avantage', 'bénéfice', 'prestation', 'profit', 'intérêt', 'allocation', 'faveur', 'bien', 'bénéficier', 'profiter', 'tirer profit', 'tirer parti', 'avantager', 'tirer bénéfice', 'indemnité', 'intention', 'bénéfique', 'utile', 'gain', 'apport', 'avantageux', 'jouissent']\n",
      "https://context.reverso.net/перевод/русский-французский/прибыль\n"
     ]
    },
    {
     "name": "stderr",
     "output_type": "stream",
     "text": [
      "\r",
      " 75%|███████▌  | 509/676 [43:26<14:16,  5.13s/it]"
     ]
    },
    {
     "name": "stdout",
     "output_type": "stream",
     "text": [
      "['bénéfice', 'profit', 'argent', 'rendement', 'revenu']\n",
      "sense_intersect ['bénéfice', 'profit']\n",
      "benefit эффект\n",
      "https://context.reverso.net/перевод/английский-французский/benefit\n",
      "['avantage', 'bénéfice', 'prestation', 'profit', 'intérêt', 'allocation', 'faveur', 'bien', 'bénéficier', 'profiter', 'tirer profit', 'tirer parti', 'avantager', 'tirer bénéfice', 'indemnité', 'intention', 'bénéfique', 'utile', 'gain', 'apport', 'avantageux', 'jouissent']\n",
      "https://context.reverso.net/перевод/русский-французский/эффект\n"
     ]
    },
    {
     "name": "stderr",
     "output_type": "stream",
     "text": [
      "\r",
      " 75%|███████▌  | 510/676 [43:31<14:02,  5.08s/it]"
     ]
    },
    {
     "name": "stdout",
     "output_type": "stream",
     "text": [
      "['effet', 'impact', 'serre', 'synergie']\n",
      "sense_intersect ['no_equality']\n",
      "benefit выигрыш\n",
      "https://context.reverso.net/перевод/английский-французский/benefit\n",
      "['avantage', 'bénéfice', 'prestation', 'profit', 'intérêt', 'allocation', 'faveur', 'bien', 'bénéficier', 'profiter', 'tirer profit', 'tirer parti', 'avantager', 'tirer bénéfice', 'indemnité', 'intention', 'bénéfique', 'utile', 'gain', 'apport', 'avantageux', 'jouissent']\n",
      "https://context.reverso.net/перевод/русский-французский/выигрыш\n"
     ]
    },
    {
     "name": "stderr",
     "output_type": "stream",
     "text": [
      "\r",
      " 76%|███████▌  | 511/676 [43:36<13:50,  5.04s/it]"
     ]
    },
    {
     "name": "stdout",
     "output_type": "stream",
     "text": [
      "['gagner']\n",
      "sense_intersect ['no_equality']\n",
      "benefit плод\n",
      "https://context.reverso.net/перевод/английский-французский/benefit\n",
      "['avantage', 'bénéfice', 'prestation', 'profit', 'intérêt', 'allocation', 'faveur', 'bien', 'bénéficier', 'profiter', 'tirer profit', 'tirer parti', 'avantager', 'tirer bénéfice', 'indemnité', 'intention', 'bénéfique', 'utile', 'gain', 'apport', 'avantageux', 'jouissent']\n",
      "https://context.reverso.net/перевод/русский-французский/плод\n"
     ]
    },
    {
     "name": "stderr",
     "output_type": "stream",
     "text": [
      "\r",
      " 76%|███████▌  | 512/676 [43:41<13:54,  5.09s/it]"
     ]
    },
    {
     "name": "stdout",
     "output_type": "stream",
     "text": [
      "['fœtus', 'fruit']\n",
      "sense_intersect ['no_equality']\n",
      "benefit приносить пользу\n",
      "https://context.reverso.net/перевод/английский-французский/benefit\n",
      "['avantage', 'bénéfice', 'prestation', 'profit', 'intérêt', 'allocation', 'faveur', 'bien', 'bénéficier', 'profiter', 'tirer profit', 'tirer parti', 'avantager', 'tirer bénéfice', 'indemnité', 'intention', 'bénéfique', 'utile', 'gain', 'apport', 'avantageux', 'jouissent']\n",
      "https://context.reverso.net/перевод/русский-французский/приносить пользу\n",
      "turn to alternative marks\n"
     ]
    },
    {
     "name": "stderr",
     "output_type": "stream",
     "text": [
      "\r",
      " 76%|███████▌  | 513/676 [43:47<13:57,  5.14s/it]"
     ]
    },
    {
     "name": "stdout",
     "output_type": "stream",
     "text": [
      "['bénéficier', 'être bénéfique pour', 'être utile', 'bénéfiques', 'être profitable', 'bénéfice']\n",
      "sense_intersect ['bénéfice', 'bénéficier']\n",
      "benefit принести пользу\n",
      "https://context.reverso.net/перевод/английский-французский/benefit\n",
      "['avantage', 'bénéfice', 'prestation', 'profit', 'intérêt', 'allocation', 'faveur', 'bien', 'bénéficier', 'profiter', 'tirer profit', 'tirer parti', 'avantager', 'tirer bénéfice', 'indemnité', 'intention', 'bénéfique', 'utile', 'gain', 'apport', 'avantageux', 'jouissent']\n",
      "https://context.reverso.net/перевод/русский-французский/принести пользу\n"
     ]
    },
    {
     "name": "stderr",
     "output_type": "stream",
     "text": [
      "\r",
      " 76%|███████▌  | 514/676 [43:52<13:49,  5.12s/it]"
     ]
    },
    {
     "name": "stdout",
     "output_type": "stream",
     "text": [
      "['bénéficier']\n",
      "sense_intersect ['bénéficier']\n",
      "benefit выигрывать\n",
      "https://context.reverso.net/перевод/английский-французский/benefit\n",
      "['avantage', 'bénéfice', 'prestation', 'profit', 'intérêt', 'allocation', 'faveur', 'bien', 'bénéficier', 'profiter', 'tirer profit', 'tirer parti', 'avantager', 'tirer bénéfice', 'indemnité', 'intention', 'bénéfique', 'utile', 'gain', 'apport', 'avantageux', 'jouissent']\n",
      "https://context.reverso.net/перевод/русский-французский/выигрывать\n"
     ]
    },
    {
     "name": "stderr",
     "output_type": "stream",
     "text": [
      "\r",
      " 76%|███████▌  | 515/676 [43:57<13:34,  5.06s/it]"
     ]
    },
    {
     "name": "stdout",
     "output_type": "stream",
     "text": [
      "['gagner']\n",
      "sense_intersect ['no_equality']\n",
      "benefit выгодный\n",
      "https://context.reverso.net/перевод/английский-французский/benefit\n",
      "['avantage', 'bénéfice', 'prestation', 'profit', 'intérêt', 'allocation', 'faveur', 'bien', 'bénéficier', 'profiter', 'tirer profit', 'tirer parti', 'avantager', 'tirer bénéfice', 'indemnité', 'intention', 'bénéfique', 'utile', 'gain', 'apport', 'avantageux', 'jouissent']\n",
      "https://context.reverso.net/перевод/русский-французский/выгодный\n",
      "turn to alternative marks\n"
     ]
    },
    {
     "name": "stderr",
     "output_type": "stream",
     "text": [
      "\r",
      " 76%|███████▋  | 516/676 [44:02<13:34,  5.09s/it]"
     ]
    },
    {
     "name": "stdout",
     "output_type": "stream",
     "text": [
      "['profitable', 'avantageux', 'lucratif']\n",
      "sense_intersect ['avantageux']\n",
      "strength сила\n",
      "https://context.reverso.net/перевод/английский-французский/strength\n",
      "['force', 'résistance', 'intensité', 'puissance', 'effectif', 'solidité', 'vigueur', 'robustesse', 'fort', 'pouvoir', 'résistant', 'forte', 'élasticité', 'atout', 'rigidité', 'ressource']\n",
      "https://context.reverso.net/перевод/русский-французский/сила\n"
     ]
    },
    {
     "name": "stderr",
     "output_type": "stream",
     "text": [
      "\r",
      " 76%|███████▋  | 517/676 [44:07<13:21,  5.04s/it]"
     ]
    },
    {
     "name": "stdout",
     "output_type": "stream",
     "text": [
      "['force', 'pouvoir', 'puissance', 'intensité', 'puissant', \"main-d'œuvre\", 'moteur', 'gravité']\n",
      "sense_intersect ['force', 'intensité', 'puissance', 'pouvoir']\n",
      "strength прочность\n",
      "https://context.reverso.net/перевод/английский-французский/strength\n",
      "['force', 'résistance', 'intensité', 'puissance', 'effectif', 'solidité', 'vigueur', 'robustesse', 'fort', 'pouvoir', 'résistant', 'forte', 'élasticité', 'atout', 'rigidité', 'ressource']\n",
      "https://context.reverso.net/перевод/русский-французский/прочность\n"
     ]
    },
    {
     "name": "stderr",
     "output_type": "stream",
     "text": [
      "\r",
      " 77%|███████▋  | 518/676 [44:12<13:15,  5.03s/it]"
     ]
    },
    {
     "name": "stdout",
     "output_type": "stream",
     "text": [
      "['résistance', 'épreuve']\n",
      "sense_intersect ['résistance']\n",
      "strength напряженность\n",
      "https://context.reverso.net/перевод/английский-французский/strength\n",
      "['force', 'résistance', 'intensité', 'puissance', 'effectif', 'solidité', 'vigueur', 'robustesse', 'fort', 'pouvoir', 'résistant', 'forte', 'élasticité', 'atout', 'rigidité', 'ressource']\n",
      "https://context.reverso.net/перевод/русский-французский/напряженность\n"
     ]
    },
    {
     "name": "stderr",
     "output_type": "stream",
     "text": [
      "\r",
      " 77%|███████▋  | 519/676 [44:17<13:04,  5.00s/it]"
     ]
    },
    {
     "name": "stdout",
     "output_type": "stream",
     "text": [
      "['tension']\n",
      "sense_intersect ['no_equality']\n",
      "strength крепость\n",
      "https://context.reverso.net/перевод/английский-французский/strength\n",
      "['force', 'résistance', 'intensité', 'puissance', 'effectif', 'solidité', 'vigueur', 'robustesse', 'fort', 'pouvoir', 'résistant', 'forte', 'élasticité', 'atout', 'rigidité', 'ressource']\n",
      "https://context.reverso.net/перевод/русский-французский/крепость\n"
     ]
    },
    {
     "name": "stderr",
     "output_type": "stream",
     "text": [
      "\r",
      " 77%|███████▋  | 520/676 [44:22<12:59,  4.99s/it]"
     ]
    },
    {
     "name": "stdout",
     "output_type": "stream",
     "text": [
      "['forteresse', 'fort']\n",
      "sense_intersect ['fort']\n",
      "strength численность\n",
      "https://context.reverso.net/перевод/английский-французский/strength\n",
      "['force', 'résistance', 'intensité', 'puissance', 'effectif', 'solidité', 'vigueur', 'robustesse', 'fort', 'pouvoir', 'résistant', 'forte', 'élasticité', 'atout', 'rigidité', 'ressource']\n",
      "https://context.reverso.net/перевод/русский-французский/численность\n"
     ]
    },
    {
     "name": "stderr",
     "output_type": "stream",
     "text": [
      "\r",
      " 77%|███████▋  | 521/676 [44:27<12:56,  5.01s/it]"
     ]
    },
    {
     "name": "stdout",
     "output_type": "stream",
     "text": [
      "['nombre', 'population', 'effectif', 'effectif', 'taille', 'taux', 'chiffre', 'personnel']\n",
      "sense_intersect ['effectif']\n",
      "strength достоинство\n",
      "https://context.reverso.net/перевод/английский-французский/strength\n",
      "['force', 'résistance', 'intensité', 'puissance', 'effectif', 'solidité', 'vigueur', 'robustesse', 'fort', 'pouvoir', 'résistant', 'forte', 'élasticité', 'atout', 'rigidité', 'ressource']\n",
      "https://context.reverso.net/перевод/русский-французский/достоинство\n"
     ]
    },
    {
     "name": "stderr",
     "output_type": "stream",
     "text": [
      "\r",
      " 77%|███████▋  | 522/676 [44:32<12:50,  5.00s/it]"
     ]
    },
    {
     "name": "stdout",
     "output_type": "stream",
     "text": [
      "['dignité', 'vertu', 'dégradant', 'dégradante']\n",
      "sense_intersect ['no_equality']\n",
      "strength мощность\n",
      "https://context.reverso.net/перевод/английский-французский/strength\n",
      "['force', 'résistance', 'intensité', 'puissance', 'effectif', 'solidité', 'vigueur', 'robustesse', 'fort', 'pouvoir', 'résistant', 'forte', 'élasticité', 'atout', 'rigidité', 'ressource']\n",
      "https://context.reverso.net/перевод/русский-французский/мощность\n"
     ]
    },
    {
     "name": "stderr",
     "output_type": "stream",
     "text": [
      "\r",
      " 77%|███████▋  | 523/676 [44:37<12:55,  5.07s/it]"
     ]
    },
    {
     "name": "stdout",
     "output_type": "stream",
     "text": [
      "['puissance', 'capacité']\n",
      "sense_intersect ['puissance']\n",
      "strength сильная сторона\n",
      "https://context.reverso.net/перевод/английский-французский/strength\n",
      "['force', 'résistance', 'intensité', 'puissance', 'effectif', 'solidité', 'vigueur', 'robustesse', 'fort', 'pouvoir', 'résistant', 'forte', 'élasticité', 'atout', 'rigidité', 'ressource']\n",
      "https://context.reverso.net/перевод/русский-французский/сильная сторона\n"
     ]
    },
    {
     "name": "stderr",
     "output_type": "stream",
     "text": [
      "\r",
      " 78%|███████▊  | 524/676 [44:43<13:21,  5.27s/it]"
     ]
    },
    {
     "name": "stdout",
     "output_type": "stream",
     "text": [
      "['fort']\n",
      "sense_intersect ['fort']\n",
      "strength усилие\n",
      "https://context.reverso.net/перевод/английский-французский/strength\n",
      "['force', 'résistance', 'intensité', 'puissance', 'effectif', 'solidité', 'vigueur', 'robustesse', 'fort', 'pouvoir', 'résistant', 'forte', 'élasticité', 'atout', 'rigidité', 'ressource']\n",
      "https://context.reverso.net/перевод/русский-французский/усилие\n"
     ]
    },
    {
     "name": "stderr",
     "output_type": "stream",
     "text": [
      "\r",
      " 78%|███████▊  | 525/676 [44:48<13:14,  5.26s/it]"
     ]
    },
    {
     "name": "stdout",
     "output_type": "stream",
     "text": [
      "['effort']\n",
      "sense_intersect ['no_equality']\n",
      "strength силовой\n",
      "https://context.reverso.net/перевод/английский-французский/strength\n",
      "['force', 'résistance', 'intensité', 'puissance', 'effectif', 'solidité', 'vigueur', 'robustesse', 'fort', 'pouvoir', 'résistant', 'forte', 'élasticité', 'atout', 'rigidité', 'ressource']\n",
      "https://context.reverso.net/перевод/русский-французский/силовой\n",
      "turn to alternative marks\n"
     ]
    },
    {
     "name": "stderr",
     "output_type": "stream",
     "text": [
      "\r",
      " 78%|███████▊  | 526/676 [44:53<12:54,  5.17s/it]"
     ]
    },
    {
     "name": "stdout",
     "output_type": "stream",
     "text": [
      "['musclée', 'de force', 'propulsion', 'la superstructure', 'générateur', 'une gymnaste']\n",
      "sense_intersect ['no_equality']\n",
      "strength прочный\n",
      "https://context.reverso.net/перевод/английский-французский/strength\n",
      "['force', 'résistance', 'intensité', 'puissance', 'effectif', 'solidité', 'vigueur', 'robustesse', 'fort', 'pouvoir', 'résistant', 'forte', 'élasticité', 'atout', 'rigidité', 'ressource']\n",
      "https://context.reverso.net/перевод/русский-французский/прочный\n"
     ]
    },
    {
     "name": "stderr",
     "output_type": "stream",
     "text": [
      "\r",
      " 78%|███████▊  | 527/676 [44:58<12:44,  5.13s/it]"
     ]
    },
    {
     "name": "stdout",
     "output_type": "stream",
     "text": [
      "['durable', 'solide']\n",
      "sense_intersect ['no_equality']\n",
      "ketchup кетчуп\n",
      "https://context.reverso.net/перевод/английский-французский/ketchup\n",
      "['ketchup']\n",
      "https://context.reverso.net/перевод/русский-французский/кетчуп\n"
     ]
    },
    {
     "name": "stderr",
     "output_type": "stream",
     "text": [
      "\r",
      " 78%|███████▊  | 528/676 [45:03<12:53,  5.23s/it]"
     ]
    },
    {
     "name": "stdout",
     "output_type": "stream",
     "text": [
      "['ketchup']\n",
      "sense_intersect ['ketchup']\n",
      "beginner начинающий\n",
      "https://context.reverso.net/перевод/английский-французский/beginner\n",
      "['débutant', 'débutante', 'novice', 'initiation', 'beginner']\n",
      "https://context.reverso.net/перевод/русский-французский/начинающий\n",
      "turn to alternative marks\n"
     ]
    },
    {
     "name": "stderr",
     "output_type": "stream",
     "text": [
      "\r",
      " 78%|███████▊  | 529/676 [45:09<12:54,  5.27s/it]"
     ]
    },
    {
     "name": "stdout",
     "output_type": "stream",
     "text": [
      "['débutant', 'en herbe']\n",
      "sense_intersect ['débutant']\n",
      "beginner новичок\n",
      "https://context.reverso.net/перевод/английский-французский/beginner\n",
      "['débutant', 'débutante', 'novice', 'initiation', 'beginner']\n",
      "https://context.reverso.net/перевод/русский-французский/новичок\n"
     ]
    },
    {
     "name": "stderr",
     "output_type": "stream",
     "text": [
      "\r",
      " 78%|███████▊  | 530/676 [45:15<13:49,  5.68s/it]"
     ]
    },
    {
     "name": "stdout",
     "output_type": "stream",
     "text": [
      "['nouveau', 'bleu', 'bizut', 'novice', 'débutant']\n",
      "sense_intersect ['débutant', 'novice']\n",
      "beginner начальный уровень\n",
      "https://context.reverso.net/перевод/английский-французский/beginner\n",
      "['débutant', 'débutante', 'novice', 'initiation', 'beginner']\n",
      "https://context.reverso.net/перевод/русский-французский/начальный уровень\n",
      "turn to alternative marks\n"
     ]
    },
    {
     "name": "stderr",
     "output_type": "stream",
     "text": [
      "\r",
      " 79%|███████▊  | 531/676 [45:20<13:16,  5.50s/it]"
     ]
    },
    {
     "name": "stdout",
     "output_type": "stream",
     "text": [
      "['le niveau initial']\n",
      "sense_intersect ['no_equality']\n",
      "beginner начинающий фотограф\n",
      "https://context.reverso.net/перевод/английский-французский/beginner\n",
      "['débutant', 'débutante', 'novice', 'initiation', 'beginner']\n",
      "https://context.reverso.net/перевод/русский-французский/начинающий фотограф\n"
     ]
    },
    {
     "name": "stderr",
     "output_type": "stream",
     "text": [
      "\r",
      " 79%|███████▊  | 532/676 [45:25<12:44,  5.31s/it]"
     ]
    },
    {
     "name": "stdout",
     "output_type": "stream",
     "text": [
      "['débutant', 'photographe']\n",
      "sense_intersect ['débutant']\n",
      "beginner начальный\n",
      "https://context.reverso.net/перевод/английский-французский/beginner\n",
      "['débutant', 'débutante', 'novice', 'initiation', 'beginner']\n",
      "https://context.reverso.net/перевод/русский-французский/начальный\n"
     ]
    },
    {
     "name": "stderr",
     "output_type": "stream",
     "text": [
      "\r",
      " 79%|███████▉  | 533/676 [45:31<12:41,  5.33s/it]"
     ]
    },
    {
     "name": "stdout",
     "output_type": "stream",
     "text": [
      "['initial']\n",
      "sense_intersect ['no_equality']\n",
      "child ребенок\n",
      "https://context.reverso.net/перевод/английский-французский/child\n",
      "['enfant', 'enfance', 'fil', 'fille', 'bébé', 'mineur', 'garde', 'petit', 'petit', 'gosse', 'gamin', 'petit enfant', 'fruit', 'infantile', 'enfantine', 'juvénile', 'child']\n",
      "https://context.reverso.net/перевод/русский-французский/ребенок\n"
     ]
    },
    {
     "name": "stderr",
     "output_type": "stream",
     "text": [
      "\r",
      " 79%|███████▉  | 534/676 [45:36<12:25,  5.25s/it]"
     ]
    },
    {
     "name": "stdout",
     "output_type": "stream",
     "text": [
      "['enfant', 'bébé', 'gamin', 'gosse', 'fil', 'gamin', 'fille', 'garçon', 'petit']\n",
      "sense_intersect ['enfant', 'fil', 'fille', 'bébé', 'petit', 'gosse', 'gamin']\n",
      "child дитя\n",
      "https://context.reverso.net/перевод/английский-французский/child\n",
      "['enfant', 'enfance', 'fil', 'fille', 'bébé', 'mineur', 'garde', 'petit', 'petit', 'gosse', 'gamin', 'petit enfant', 'fruit', 'infantile', 'enfantine', 'juvénile', 'child']\n",
      "https://context.reverso.net/перевод/русский-французский/дитя\n"
     ]
    },
    {
     "name": "stderr",
     "output_type": "stream",
     "text": [
      "\r",
      " 79%|███████▉  | 535/676 [45:41<12:29,  5.31s/it]"
     ]
    },
    {
     "name": "stdout",
     "output_type": "stream",
     "text": [
      "['enfant', 'bébé', 'progéniture', 'petit']\n",
      "sense_intersect ['enfant', 'bébé', 'petit']\n",
      "child детище\n",
      "https://context.reverso.net/перевод/английский-французский/child\n",
      "['enfant', 'enfance', 'fil', 'fille', 'bébé', 'mineur', 'garde', 'petit', 'petit', 'gosse', 'gamin', 'petit enfant', 'fruit', 'infantile', 'enfantine', 'juvénile', 'child']\n",
      "https://context.reverso.net/перевод/русский-французский/детище\n",
      "turn to alternative marks\n"
     ]
    },
    {
     "name": "stderr",
     "output_type": "stream",
     "text": [
      "\r",
      " 79%|███████▉  | 536/676 [45:46<12:17,  5.27s/it]"
     ]
    },
    {
     "name": "stdout",
     "output_type": "stream",
     "text": [
      "['bébé', 'création']\n",
      "sense_intersect ['bébé']\n",
      "child сын\n",
      "https://context.reverso.net/перевод/английский-французский/child\n",
      "['enfant', 'enfance', 'fil', 'fille', 'bébé', 'mineur', 'garde', 'petit', 'petit', 'gosse', 'gamin', 'petit enfant', 'fruit', 'infantile', 'enfantine', 'juvénile', 'child']\n",
      "https://context.reverso.net/перевод/русский-французский/сын\n"
     ]
    },
    {
     "name": "stderr",
     "output_type": "stream",
     "text": [
      "\r",
      " 79%|███████▉  | 537/676 [45:52<12:37,  5.45s/it]"
     ]
    },
    {
     "name": "stdout",
     "output_type": "stream",
     "text": [
      "['fil', 'fiston', 'garçon', 'enfant', 'gosse', 'gamin', 'enfoiré', 'salopard', 'con', 'petit', 'bébé', 'salaud', 'connard', 'enculé', 'bâtard']\n",
      "sense_intersect ['enfant', 'fil', 'bébé', 'petit', 'gosse', 'gamin']\n",
      "child потомок\n",
      "https://context.reverso.net/перевод/английский-французский/child\n",
      "['enfant', 'enfance', 'fil', 'fille', 'bébé', 'mineur', 'garde', 'petit', 'petit', 'gosse', 'gamin', 'petit enfant', 'fruit', 'infantile', 'enfantine', 'juvénile', 'child']\n",
      "https://context.reverso.net/перевод/русский-французский/потомок\n"
     ]
    },
    {
     "name": "stderr",
     "output_type": "stream",
     "text": [
      "\r",
      " 80%|███████▉  | 538/676 [45:57<12:14,  5.32s/it]"
     ]
    },
    {
     "name": "stdout",
     "output_type": "stream",
     "text": [
      "['descendant', 'descendant']\n",
      "sense_intersect ['no_equality']\n",
      "child чадо\n",
      "https://context.reverso.net/перевод/английский-французский/child\n",
      "['enfant', 'enfance', 'fil', 'fille', 'bébé', 'mineur', 'garde', 'petit', 'petit', 'gosse', 'gamin', 'petit enfant', 'fruit', 'infantile', 'enfantine', 'juvénile', 'child']\n",
      "https://context.reverso.net/перевод/русский-французский/чадо\n",
      "turn to alternative marks\n"
     ]
    },
    {
     "name": "stderr",
     "output_type": "stream",
     "text": [
      "\r",
      " 80%|███████▉  | 539/676 [46:03<12:12,  5.35s/it]"
     ]
    },
    {
     "name": "stdout",
     "output_type": "stream",
     "text": [
      "[]\n",
      "sense_intersect ['no_equality']\n",
      "child детский\n",
      "https://context.reverso.net/перевод/английский-французский/child\n",
      "['enfant', 'enfance', 'fil', 'fille', 'bébé', 'mineur', 'garde', 'petit', 'petit', 'gosse', 'gamin', 'petit enfant', 'fruit', 'infantile', 'enfantine', 'juvénile', 'child']\n",
      "https://context.reverso.net/перевод/русский-французский/детский\n"
     ]
    },
    {
     "name": "stderr",
     "output_type": "stream",
     "text": [
      "\r",
      " 80%|███████▉  | 540/676 [46:08<11:56,  5.27s/it]"
     ]
    },
    {
     "name": "stdout",
     "output_type": "stream",
     "text": [
      "['enfant', 'orphelinat']\n",
      "sense_intersect ['enfant']\n",
      "child дочерний\n",
      "https://context.reverso.net/перевод/английский-французский/child\n",
      "['enfant', 'enfance', 'fil', 'fille', 'bébé', 'mineur', 'garde', 'petit', 'petit', 'gosse', 'gamin', 'petit enfant', 'fruit', 'infantile', 'enfantine', 'juvénile', 'child']\n",
      "https://context.reverso.net/перевод/русский-французский/дочерний\n",
      "turn to alternative marks\n"
     ]
    },
    {
     "name": "stderr",
     "output_type": "stream",
     "text": [
      "\r",
      " 80%|████████  | 541/676 [46:13<11:42,  5.21s/it]"
     ]
    },
    {
     "name": "stdout",
     "output_type": "stream",
     "text": [
      "[]\n",
      "sense_intersect ['no_equality']\n",
      "child несовершеннолетний\n",
      "https://context.reverso.net/перевод/английский-французский/child\n",
      "['enfant', 'enfance', 'fil', 'fille', 'bébé', 'mineur', 'garde', 'petit', 'petit', 'gosse', 'gamin', 'petit enfant', 'fruit', 'infantile', 'enfantine', 'juvénile', 'child']\n",
      "https://context.reverso.net/перевод/русский-французский/несовершеннолетний\n"
     ]
    },
    {
     "name": "stderr",
     "output_type": "stream",
     "text": [
      "\r",
      " 80%|████████  | 542/676 [46:19<12:06,  5.42s/it]"
     ]
    },
    {
     "name": "stdout",
     "output_type": "stream",
     "text": [
      "['mineur']\n",
      "sense_intersect ['mineur']\n",
      "school школа\n",
      "https://context.reverso.net/перевод/английский-французский/school\n",
      "['école', 'lycée', 'enseignement', 'scolarité', 'collège', 'établissement', 'fac', 'faculté', 'scolaire', 'scolarisés', 'bahut', 'scolariser', 'étude', 'cour', 'université', 'établissement scolaire', 'milieu scolaire', 'banc', 'académie', 'school']\n",
      "https://context.reverso.net/перевод/русский-французский/школа\n"
     ]
    },
    {
     "name": "stderr",
     "output_type": "stream",
     "text": [
      "\r",
      " 80%|████████  | 543/676 [46:24<11:46,  5.31s/it]"
     ]
    },
    {
     "name": "stdout",
     "output_type": "stream",
     "text": [
      "['école', 'lycée', 'faculté', 'cour', 'school', 'collège']\n",
      "sense_intersect ['école', 'lycée', 'collège', 'faculté', 'cour', 'school']\n",
      "school колледж\n",
      "https://context.reverso.net/перевод/английский-французский/school\n",
      "['école', 'lycée', 'enseignement', 'scolarité', 'collège', 'établissement', 'fac', 'faculté', 'scolaire', 'scolarisés', 'bahut', 'scolariser', 'étude', 'cour', 'université', 'établissement scolaire', 'milieu scolaire', 'banc', 'académie', 'school']\n",
      "https://context.reverso.net/перевод/русский-французский/колледж\n"
     ]
    },
    {
     "name": "stderr",
     "output_type": "stream",
     "text": [
      "\r",
      " 80%|████████  | 544/676 [46:29<11:56,  5.43s/it]"
     ]
    },
    {
     "name": "stdout",
     "output_type": "stream",
     "text": [
      "['université', 'fac', 'école', 'collège', 'lycée', 'étude', 'diplôme']\n",
      "sense_intersect ['école', 'lycée', 'collège', 'fac', 'étude', 'université']\n",
      "school класс\n",
      "https://context.reverso.net/перевод/английский-французский/school\n",
      "['école', 'lycée', 'enseignement', 'scolarité', 'collège', 'établissement', 'fac', 'faculté', 'scolaire', 'scolarisés', 'bahut', 'scolariser', 'étude', 'cour', 'université', 'établissement scolaire', 'milieu scolaire', 'banc', 'académie', 'school']\n",
      "https://context.reverso.net/перевод/русский-французский/класс\n"
     ]
    },
    {
     "name": "stderr",
     "output_type": "stream",
     "text": [
      "\r",
      " 81%|████████  | 545/676 [46:35<11:41,  5.36s/it]"
     ]
    },
    {
     "name": "stdout",
     "output_type": "stream",
     "text": [
      "['classe', 'cour', 'année', 'super', 'catégorie', 'cool']\n",
      "sense_intersect ['cour']\n",
      "school учебное заведение\n",
      "https://context.reverso.net/перевод/английский-французский/school\n",
      "['école', 'lycée', 'enseignement', 'scolarité', 'collège', 'établissement', 'fac', 'faculté', 'scolaire', 'scolarisés', 'bahut', 'scolariser', 'étude', 'cour', 'université', 'établissement scolaire', 'milieu scolaire', 'banc', 'académie', 'school']\n",
      "https://context.reverso.net/перевод/русский-французский/учебное заведение\n",
      "turn to alternative marks\n"
     ]
    },
    {
     "name": "stderr",
     "output_type": "stream",
     "text": [
      "\r",
      " 81%|████████  | 546/676 [46:40<11:23,  5.26s/it]"
     ]
    },
    {
     "name": "stdout",
     "output_type": "stream",
     "text": [
      "[\"établissement d'enseignement\", 'établissement scolaire', 'académie', \"établissement d'éducation\", 'école', \"établissements d'enseignement\", 'université']\n",
      "sense_intersect ['école', 'université', 'établissement scolaire', 'académie']\n",
      "school факультет\n",
      "https://context.reverso.net/перевод/английский-французский/school\n",
      "['école', 'lycée', 'enseignement', 'scolarité', 'collège', 'établissement', 'fac', 'faculté', 'scolaire', 'scolarisés', 'bahut', 'scolariser', 'étude', 'cour', 'université', 'établissement scolaire', 'milieu scolaire', 'banc', 'académie', 'school']\n",
      "https://context.reverso.net/перевод/русский-французский/факультет\n"
     ]
    },
    {
     "name": "stderr",
     "output_type": "stream",
     "text": [
      "\r",
      " 81%|████████  | 547/676 [46:45<11:29,  5.35s/it]"
     ]
    },
    {
     "name": "stdout",
     "output_type": "stream",
     "text": [
      "['faculté', 'département de']\n",
      "sense_intersect ['faculté']\n",
      "school учеба\n",
      "https://context.reverso.net/перевод/английский-французский/school\n",
      "['école', 'lycée', 'enseignement', 'scolarité', 'collège', 'établissement', 'fac', 'faculté', 'scolaire', 'scolarisés', 'bahut', 'scolariser', 'étude', 'cour', 'université', 'établissement scolaire', 'milieu scolaire', 'banc', 'académie', 'school']\n",
      "https://context.reverso.net/перевод/русский-французский/учеба\n"
     ]
    },
    {
     "name": "stderr",
     "output_type": "stream",
     "text": [
      "\r",
      " 81%|████████  | 548/676 [46:50<11:07,  5.21s/it]"
     ]
    },
    {
     "name": "stdout",
     "output_type": "stream",
     "text": [
      "['formation', 'étude']\n",
      "sense_intersect ['étude']\n",
      "school занятия в школе\n",
      "https://context.reverso.net/перевод/английский-французский/school\n",
      "['école', 'lycée', 'enseignement', 'scolarité', 'collège', 'établissement', 'fac', 'faculté', 'scolaire', 'scolarisés', 'bahut', 'scolariser', 'étude', 'cour', 'université', 'établissement scolaire', 'milieu scolaire', 'banc', 'académie', 'school']\n",
      "https://context.reverso.net/перевод/русский-французский/занятия в школе\n"
     ]
    },
    {
     "name": "stderr",
     "output_type": "stream",
     "text": [
      "\r",
      " 81%|████████  | 549/676 [46:55<10:58,  5.18s/it]"
     ]
    },
    {
     "name": "stdout",
     "output_type": "stream",
     "text": [
      "['cour', 'formation', 'classe', 'école', 'séance', \"à l'école\", 'au lycée', \"de l'école\", 'dans une école', 'en cours']\n",
      "sense_intersect ['école', 'cour']\n",
      "school школьный\n",
      "https://context.reverso.net/перевод/английский-французский/school\n",
      "['école', 'lycée', 'enseignement', 'scolarité', 'collège', 'établissement', 'fac', 'faculté', 'scolaire', 'scolarisés', 'bahut', 'scolariser', 'étude', 'cour', 'université', 'établissement scolaire', 'milieu scolaire', 'banc', 'académie', 'school']\n",
      "https://context.reverso.net/перевод/русский-французский/школьный\n"
     ]
    },
    {
     "name": "stderr",
     "output_type": "stream",
     "text": [
      "\r",
      " 81%|████████▏ | 550/676 [47:00<10:52,  5.18s/it]"
     ]
    },
    {
     "name": "stdout",
     "output_type": "stream",
     "text": [
      "['scolaire', \"de l'école\"]\n",
      "sense_intersect ['scolaire']\n",
      "band банда\n",
      "https://context.reverso.net/перевод/английский-французский/band\n",
      "['bande', 'groupe', 'orchestre', 'ruban', 'fanfare', 'bandeau', 'bracelet', 'tranche', 'fourchette', 'troupe', 'collier', 'sangle', 'bordure', 'bandelette', 'bague', 'band']\n",
      "https://context.reverso.net/перевод/русский-французский/банда\n"
     ]
    },
    {
     "name": "stderr",
     "output_type": "stream",
     "text": [
      "\r",
      " 82%|████████▏ | 551/676 [47:05<10:43,  5.15s/it]"
     ]
    },
    {
     "name": "stdout",
     "output_type": "stream",
     "text": [
      "['gang', 'bande', 'équipe', 'groupe', 'banda']\n",
      "sense_intersect ['bande', 'groupe']\n",
      "band лента\n",
      "https://context.reverso.net/перевод/английский-французский/band\n",
      "['bande', 'groupe', 'orchestre', 'ruban', 'fanfare', 'bandeau', 'bracelet', 'tranche', 'fourchette', 'troupe', 'collier', 'sangle', 'bordure', 'bandelette', 'bague', 'band']\n",
      "https://context.reverso.net/перевод/русский-французский/лента\n"
     ]
    },
    {
     "name": "stderr",
     "output_type": "stream",
     "text": [
      "\r",
      " 82%|████████▏ | 552/676 [47:11<10:41,  5.17s/it]"
     ]
    },
    {
     "name": "stdout",
     "output_type": "stream",
     "text": [
      "['ruban']\n",
      "sense_intersect ['ruban']\n",
      "band оркестр\n",
      "https://context.reverso.net/перевод/английский-французский/band\n",
      "['bande', 'groupe', 'orchestre', 'ruban', 'fanfare', 'bandeau', 'bracelet', 'tranche', 'fourchette', 'troupe', 'collier', 'sangle', 'bordure', 'bandelette', 'bague', 'band']\n",
      "https://context.reverso.net/перевод/русский-французский/оркестр\n"
     ]
    },
    {
     "name": "stderr",
     "output_type": "stream",
     "text": [
      "\r",
      " 82%|████████▏ | 553/676 [47:16<10:49,  5.28s/it]"
     ]
    },
    {
     "name": "stdout",
     "output_type": "stream",
     "text": [
      "['orchestre', 'fanfare', 'groupe', 'orchestra']\n",
      "sense_intersect ['groupe', 'orchestre', 'fanfare']\n",
      "band отряд\n",
      "https://context.reverso.net/перевод/английский-французский/band\n",
      "['bande', 'groupe', 'orchestre', 'ruban', 'fanfare', 'bandeau', 'bracelet', 'tranche', 'fourchette', 'troupe', 'collier', 'sangle', 'bordure', 'bandelette', 'bague', 'band']\n",
      "https://context.reverso.net/перевод/русский-французский/отряд\n"
     ]
    },
    {
     "name": "stderr",
     "output_type": "stream",
     "text": [
      "\r",
      " 82%|████████▏ | 554/676 [47:22<10:48,  5.32s/it]"
     ]
    },
    {
     "name": "stdout",
     "output_type": "stream",
     "text": [
      "['équipe', 'unité', 'troupe', 'escouade', 'détachement', 'brigade', 'groupe']\n",
      "sense_intersect ['groupe', 'troupe']\n",
      "band узы\n",
      "https://context.reverso.net/перевод/английский-французский/band\n",
      "['bande', 'groupe', 'orchestre', 'ruban', 'fanfare', 'bandeau', 'bracelet', 'tranche', 'fourchette', 'troupe', 'collier', 'sangle', 'bordure', 'bandelette', 'bague', 'band']\n",
      "https://context.reverso.net/перевод/русский-французский/узы\n"
     ]
    },
    {
     "name": "stderr",
     "output_type": "stream",
     "text": [
      "\r",
      " 82%|████████▏ | 555/676 [47:27<10:32,  5.23s/it]"
     ]
    },
    {
     "name": "stdout",
     "output_type": "stream",
     "text": [
      "['lien', 'lien']\n",
      "sense_intersect ['no_equality']\n",
      "band повязка\n",
      "https://context.reverso.net/перевод/английский-французский/band\n",
      "['bande', 'groupe', 'orchestre', 'ruban', 'fanfare', 'bandeau', 'bracelet', 'tranche', 'fourchette', 'troupe', 'collier', 'sangle', 'bordure', 'bandelette', 'bague', 'band']\n",
      "https://context.reverso.net/перевод/русский-французский/повязка\n"
     ]
    },
    {
     "name": "stderr",
     "output_type": "stream",
     "text": [
      "\r",
      " 82%|████████▏ | 556/676 [47:32<10:20,  5.17s/it]"
     ]
    },
    {
     "name": "stdout",
     "output_type": "stream",
     "text": [
      "['bandeau']\n",
      "sense_intersect ['bandeau']\n",
      "band диапазон\n",
      "https://context.reverso.net/перевод/английский-французский/band\n",
      "['bande', 'groupe', 'orchestre', 'ruban', 'fanfare', 'bandeau', 'bracelet', 'tranche', 'fourchette', 'troupe', 'collier', 'sangle', 'bordure', 'bandelette', 'bague', 'band']\n",
      "https://context.reverso.net/перевод/русский-французский/диапазон\n"
     ]
    },
    {
     "name": "stderr",
     "output_type": "stream",
     "text": [
      "\r",
      " 82%|████████▏ | 557/676 [47:37<10:22,  5.23s/it]"
     ]
    },
    {
     "name": "stdout",
     "output_type": "stream",
     "text": [
      "['plage', 'éventail', 'gamme', 'fourchette', 'portée', 'ensemble']\n",
      "sense_intersect ['fourchette']\n",
      "band зона\n",
      "https://context.reverso.net/перевод/английский-французский/band\n",
      "['bande', 'groupe', 'orchestre', 'ruban', 'fanfare', 'bandeau', 'bracelet', 'tranche', 'fourchette', 'troupe', 'collier', 'sangle', 'bordure', 'bandelette', 'bague', 'band']\n",
      "https://context.reverso.net/перевод/русский-французский/зона\n"
     ]
    },
    {
     "name": "stderr",
     "output_type": "stream",
     "text": [
      "\r",
      " 83%|████████▎ | 558/676 [47:42<10:13,  5.20s/it]"
     ]
    },
    {
     "name": "stdout",
     "output_type": "stream",
     "text": [
      "['zone']\n",
      "sense_intersect ['no_equality']\n",
      "band музыкальная группа\n",
      "https://context.reverso.net/перевод/английский-французский/band\n",
      "['bande', 'groupe', 'orchestre', 'ruban', 'fanfare', 'bandeau', 'bracelet', 'tranche', 'fourchette', 'troupe', 'collier', 'sangle', 'bordure', 'bandelette', 'bague', 'band']\n",
      "https://context.reverso.net/перевод/русский-французский/музыкальная группа\n",
      "turn to alternative marks\n"
     ]
    },
    {
     "name": "stderr",
     "output_type": "stream",
     "text": [
      "\r",
      " 83%|████████▎ | 559/676 [47:47<10:02,  5.15s/it]"
     ]
    },
    {
     "name": "stdout",
     "output_type": "stream",
     "text": [
      "['groupe', 'orchestre']\n",
      "sense_intersect ['groupe', 'orchestre']\n",
      "band ленточный\n",
      "https://context.reverso.net/перевод/английский-французский/band\n",
      "['bande', 'groupe', 'orchestre', 'ruban', 'fanfare', 'bandeau', 'bracelet', 'tranche', 'fourchette', 'troupe', 'collier', 'sangle', 'bordure', 'bandelette', 'bague', 'band']\n",
      "https://context.reverso.net/перевод/русский-французский/ленточный\n",
      "turn to alternative marks\n"
     ]
    },
    {
     "name": "stderr",
     "output_type": "stream",
     "text": [
      "\r",
      " 83%|████████▎ | 560/676 [47:52<09:55,  5.13s/it]"
     ]
    },
    {
     "name": "stdout",
     "output_type": "stream",
     "text": [
      "['ver solitaire', 'tapis roulant']\n",
      "sense_intersect ['no_equality']\n",
      "band диапазонный\n",
      "https://context.reverso.net/перевод/английский-французский/band\n",
      "['bande', 'groupe', 'orchestre', 'ruban', 'fanfare', 'bandeau', 'bracelet', 'tranche', 'fourchette', 'troupe', 'collier', 'sangle', 'bordure', 'bandelette', 'bague', 'band']\n",
      "https://context.reverso.net/перевод/русский-французский/диапазонный\n",
      "turn to alternative marks\n"
     ]
    },
    {
     "name": "stderr",
     "output_type": "stream",
     "text": [
      "\r",
      " 83%|████████▎ | 561/676 [47:57<09:47,  5.11s/it]"
     ]
    },
    {
     "name": "stdout",
     "output_type": "stream",
     "text": [
      "[]\n",
      "sense_intersect ['no_equality']\n",
      "band ленточнопильный\n",
      "https://context.reverso.net/перевод/английский-французский/band\n",
      "['bande', 'groupe', 'orchestre', 'ruban', 'fanfare', 'bandeau', 'bracelet', 'tranche', 'fourchette', 'troupe', 'collier', 'sangle', 'bordure', 'bandelette', 'bague', 'band']\n",
      "https://context.reverso.net/перевод/русский-французский/ленточнопильный\n",
      "turn to alternative marks\n"
     ]
    },
    {
     "name": "stderr",
     "output_type": "stream",
     "text": [
      "\r",
      " 83%|████████▎ | 562/676 [48:03<10:02,  5.28s/it]"
     ]
    },
    {
     "name": "stdout",
     "output_type": "stream",
     "text": [
      "[]\n",
      "sense_intersect ['no_equality']\n",
      "band Band\n",
      "https://context.reverso.net/перевод/английский-французский/band\n",
      "['bande', 'groupe', 'orchestre', 'ruban', 'fanfare', 'bandeau', 'bracelet', 'tranche', 'fourchette', 'troupe', 'collier', 'sangle', 'bordure', 'bandelette', 'bague', 'band']\n",
      "https://context.reverso.net/перевод/русский-французский/Band\n",
      "turn to alternative marks\n"
     ]
    },
    {
     "name": "stderr",
     "output_type": "stream",
     "text": [
      "\r",
      " 83%|████████▎ | 563/676 [48:08<09:48,  5.20s/it]"
     ]
    },
    {
     "name": "stdout",
     "output_type": "stream",
     "text": [
      "[]\n",
      "sense_intersect ['no_equality']\n",
      "letter письмо\n",
      "https://context.reverso.net/перевод/английский-французский/letter\n",
      "['lettre', 'courrier', 'écrit', 'bulletin', 'épître', 'correspondance', 'missive', 'caractère', 'note', 'letter', 'présente', 'écrire', 'déclaration', 'message']\n",
      "https://context.reverso.net/перевод/русский-французский/письмо\n"
     ]
    },
    {
     "name": "stderr",
     "output_type": "stream",
     "text": [
      "\r",
      " 83%|████████▎ | 564/676 [48:13<09:50,  5.27s/it]"
     ]
    },
    {
     "name": "stdout",
     "output_type": "stream",
     "text": [
      "['lettre', 'e-mail', 'mail', 'écrit', 'message', 'e-mail', 'courrier', 'courriel', 'mot']\n",
      "sense_intersect ['lettre', 'courrier', 'écrit', 'message']\n",
      "letter буква\n",
      "https://context.reverso.net/перевод/английский-французский/letter\n",
      "['lettre', 'courrier', 'écrit', 'bulletin', 'épître', 'correspondance', 'missive', 'caractère', 'note', 'letter', 'présente', 'écrire', 'déclaration', 'message']\n",
      "https://context.reverso.net/перевод/русский-французский/буква\n"
     ]
    },
    {
     "name": "stderr",
     "output_type": "stream",
     "text": [
      "\r",
      " 84%|████████▎ | 565/676 [48:19<09:49,  5.31s/it]"
     ]
    },
    {
     "name": "stdout",
     "output_type": "stream",
     "text": [
      "['lettre']\n",
      "sense_intersect ['lettre']\n",
      "letter грамота\n",
      "https://context.reverso.net/перевод/английский-французский/letter\n",
      "['lettre', 'courrier', 'écrit', 'bulletin', 'épître', 'correspondance', 'missive', 'caractère', 'note', 'letter', 'présente', 'écrire', 'déclaration', 'message']\n",
      "https://context.reverso.net/перевод/русский-французский/грамота\n",
      "turn to alternative marks\n"
     ]
    },
    {
     "name": "stderr",
     "output_type": "stream",
     "text": [
      "\r",
      " 84%|████████▎ | 566/676 [48:24<09:35,  5.23s/it]"
     ]
    },
    {
     "name": "stdout",
     "output_type": "stream",
     "text": [
      "['charte', 'chinois pour moi', 'décerné', 'grec']\n",
      "sense_intersect ['no_equality']\n",
      "letter письмена\n",
      "https://context.reverso.net/перевод/английский-французский/letter\n",
      "['lettre', 'courrier', 'écrit', 'bulletin', 'épître', 'correspondance', 'missive', 'caractère', 'note', 'letter', 'présente', 'écrire', 'déclaration', 'message']\n",
      "https://context.reverso.net/перевод/русский-французский/письмена\n",
      "turn to alternative marks\n"
     ]
    },
    {
     "name": "stderr",
     "output_type": "stream",
     "text": [
      "\r",
      " 84%|████████▍ | 567/676 [48:29<09:23,  5.17s/it]"
     ]
    },
    {
     "name": "stdout",
     "output_type": "stream",
     "text": [
      "['les écritures', 'inscription']\n",
      "sense_intersect ['no_equality']\n",
      "letter буквенный\n",
      "https://context.reverso.net/перевод/английский-французский/letter\n",
      "['lettre', 'courrier', 'écrit', 'bulletin', 'épître', 'correspondance', 'missive', 'caractère', 'note', 'letter', 'présente', 'écrire', 'déclaration', 'message']\n",
      "https://context.reverso.net/перевод/русский-французский/буквенный\n",
      "turn to alternative marks\n"
     ]
    },
    {
     "name": "stderr",
     "output_type": "stream",
     "text": [
      "\r",
      " 84%|████████▍ | 568/676 [48:34<09:16,  5.15s/it]"
     ]
    },
    {
     "name": "stdout",
     "output_type": "stream",
     "text": [
      "[]\n",
      "sense_intersect ['no_equality']\n",
      "letter письменный\n",
      "https://context.reverso.net/перевод/английский-французский/letter\n",
      "['lettre', 'courrier', 'écrit', 'bulletin', 'épître', 'correspondance', 'missive', 'caractère', 'note', 'letter', 'présente', 'écrire', 'déclaration', 'message']\n",
      "https://context.reverso.net/перевод/русский-французский/письменный\n"
     ]
    },
    {
     "name": "stderr",
     "output_type": "stream",
     "text": [
      "\r",
      " 84%|████████▍ | 569/676 [48:39<09:18,  5.22s/it]"
     ]
    },
    {
     "name": "stdout",
     "output_type": "stream",
     "text": [
      "['écrit', 'écrite', 'par écrit']\n",
      "sense_intersect ['écrit']\n",
      "letter Letters\n",
      "https://context.reverso.net/перевод/английский-французский/letter\n",
      "['lettre', 'courrier', 'écrit', 'bulletin', 'épître', 'correspondance', 'missive', 'caractère', 'note', 'letter', 'présente', 'écrire', 'déclaration', 'message']\n",
      "https://context.reverso.net/перевод/русский-французский/Letters\n",
      "turn to alternative marks\n"
     ]
    },
    {
     "name": "stderr",
     "output_type": "stream",
     "text": [
      "\r",
      " 84%|████████▍ | 570/676 [48:44<09:03,  5.13s/it]"
     ]
    },
    {
     "name": "stdout",
     "output_type": "stream",
     "text": [
      "[]\n",
      "sense_intersect ['no_equality']\n",
      "letter писать письмо\n",
      "https://context.reverso.net/перевод/английский-французский/letter\n",
      "['lettre', 'courrier', 'écrit', 'bulletin', 'épître', 'correspondance', 'missive', 'caractère', 'note', 'letter', 'présente', 'écrire', 'déclaration', 'message']\n",
      "https://context.reverso.net/перевод/русский-французский/писать письмо\n",
      "turn to alternative marks\n"
     ]
    },
    {
     "name": "stderr",
     "output_type": "stream",
     "text": [
      "\r",
      " 84%|████████▍ | 571/676 [48:49<08:56,  5.11s/it]"
     ]
    },
    {
     "name": "stdout",
     "output_type": "stream",
     "text": [
      "['écrire une lettre']\n",
      "sense_intersect ['no_equality']\n",
      "dinner обед\n",
      "https://context.reverso.net/перевод/английский-французский/dinner\n",
      "['dîner', 'souper', 'repas', 'table', 'restaurant', 'déjeuner', 'soirée', 'assiette', 'repas du soir', 'dinner', 'à manger', 'mangé', 'dînant', 'on mange', 'dîne']\n",
      "https://context.reverso.net/перевод/русский-французский/обед\n"
     ]
    },
    {
     "name": "stderr",
     "output_type": "stream",
     "text": [
      "\r",
      " 85%|████████▍ | 572/676 [48:55<08:54,  5.14s/it]"
     ]
    },
    {
     "name": "stdout",
     "output_type": "stream",
     "text": [
      "['déjeuner', 'dîner', 'repas', 'manger', 'midi', 'après-midi', 'souper', 'déjeune']\n",
      "sense_intersect ['dîner', 'souper', 'repas', 'déjeuner', 'à manger | manger']\n",
      "dinner торжественный обед\n",
      "https://context.reverso.net/перевод/английский-французский/dinner\n",
      "['dîner', 'souper', 'repas', 'table', 'restaurant', 'déjeuner', 'soirée', 'assiette', 'repas du soir', 'dinner', 'à manger', 'mangé', 'dînant', 'on mange', 'dîne']\n",
      "https://context.reverso.net/перевод/русский-французский/торжественный обед\n"
     ]
    },
    {
     "name": "stderr",
     "output_type": "stream",
     "text": [
      "\r",
      " 85%|████████▍ | 573/676 [49:00<09:09,  5.33s/it]"
     ]
    },
    {
     "name": "stdout",
     "output_type": "stream",
     "text": [
      "['solennel', 'solennellement', 'déjeuner', 'dîner', 'repas', 'manger', 'midi']\n",
      "sense_intersect ['dîner', 'repas', 'déjeuner', 'à manger | manger']\n",
      "dinner обеденный\n",
      "https://context.reverso.net/перевод/английский-французский/dinner\n",
      "['dîner', 'souper', 'repas', 'table', 'restaurant', 'déjeuner', 'soirée', 'assiette', 'repas du soir', 'dinner', 'à manger', 'mangé', 'dînant', 'on mange', 'dîne']\n",
      "https://context.reverso.net/перевод/русский-французский/обеденный\n",
      "turn to alternative marks\n"
     ]
    },
    {
     "name": "stderr",
     "output_type": "stream",
     "text": [
      "\r",
      " 85%|████████▍ | 574/676 [49:06<09:10,  5.39s/it]"
     ]
    },
    {
     "name": "stdout",
     "output_type": "stream",
     "text": [
      "['du déjeuner', 'heure', 'pause de midi']\n",
      "sense_intersect ['no_equality']\n",
      "dinner званый\n",
      "https://context.reverso.net/перевод/английский-французский/dinner\n",
      "['dîner', 'souper', 'repas', 'table', 'restaurant', 'déjeuner', 'soirée', 'assiette', 'repas du soir', 'dinner', 'à manger', 'mangé', 'dînant', 'on mange', 'dîne']\n",
      "https://context.reverso.net/перевод/русский-французский/званый\n"
     ]
    },
    {
     "name": "stderr",
     "output_type": "stream",
     "text": [
      "\r",
      " 85%|████████▌ | 575/676 [49:11<08:51,  5.26s/it]"
     ]
    },
    {
     "name": "stdout",
     "output_type": "stream",
     "text": [
      "['dîner']\n",
      "sense_intersect ['dîner']\n",
      "America Америка\n",
      "https://context.reverso.net/перевод/английский-французский/America\n",
      "['amérique', 'états-unis', 'américaine', 'américain', 'america', \"america's\", 'pays', 'aux usa', 'états unis']\n",
      "https://context.reverso.net/перевод/русский-французский/Америка\n"
     ]
    },
    {
     "name": "stderr",
     "output_type": "stream",
     "text": [
      "\r",
      " 85%|████████▌ | 576/676 [49:16<08:46,  5.27s/it]"
     ]
    },
    {
     "name": "stdout",
     "output_type": "stream",
     "text": [
      "['amérique', 'états-unis', 'usa', 'america', 'américain']\n",
      "sense_intersect ['amérique', 'états-unis', 'américain', 'america']\n",
      "dependable надежный\n",
      "https://context.reverso.net/перевод/английский-французский/dependable\n",
      "['fiable', 'sûr', 'fiabilité', 'cultivables']\n",
      "https://context.reverso.net/перевод/русский-французский/надежный\n"
     ]
    },
    {
     "name": "stderr",
     "output_type": "stream",
     "text": [
      "\r",
      " 85%|████████▌ | 577/676 [49:21<08:40,  5.25s/it]"
     ]
    },
    {
     "name": "stdout",
     "output_type": "stream",
     "text": [
      "['fiable', 'sûr', 'crédible']\n",
      "sense_intersect ['fiable', 'sûr']\n",
      "dependable зависимый\n",
      "https://context.reverso.net/перевод/английский-французский/dependable\n",
      "['fiable', 'sûr', 'fiabilité', 'cultivables']\n",
      "https://context.reverso.net/перевод/русский-французский/зависимый\n",
      "turn to alternative marks\n"
     ]
    },
    {
     "name": "stderr",
     "output_type": "stream",
     "text": [
      "\r",
      " 86%|████████▌ | 578/676 [49:27<08:30,  5.21s/it]"
     ]
    },
    {
     "name": "stdout",
     "output_type": "stream",
     "text": [
      "['dépendant', 'accro']\n",
      "sense_intersect ['no_equality']\n",
      "dependable заслуживающий доверия\n",
      "https://context.reverso.net/перевод/английский-французский/dependable\n",
      "['fiable', 'sûr', 'fiabilité', 'cultivables']\n",
      "https://context.reverso.net/перевод/русский-французский/заслуживающий доверия\n"
     ]
    },
    {
     "name": "stderr",
     "output_type": "stream",
     "text": [
      "\r",
      " 86%|████████▌ | 579/676 [49:32<08:30,  5.26s/it]"
     ]
    },
    {
     "name": "stdout",
     "output_type": "stream",
     "text": [
      "['crédible']\n",
      "sense_intersect ['no_equality']\n",
      "dependable зависящий\n",
      "https://context.reverso.net/перевод/английский-французский/dependable\n",
      "['fiable', 'sûr', 'fiabilité', 'cultivables']\n",
      "https://context.reverso.net/перевод/русский-французский/зависящий\n",
      "turn to alternative marks\n"
     ]
    },
    {
     "name": "stderr",
     "output_type": "stream",
     "text": [
      "\r",
      " 86%|████████▌ | 580/676 [49:37<08:19,  5.20s/it]"
     ]
    },
    {
     "name": "stdout",
     "output_type": "stream",
     "text": [
      "[]\n",
      "sense_intersect ['no_equality']\n",
      "Belgium Бельгия\n",
      "https://context.reverso.net/перевод/английский-французский/Belgium\n",
      "['belgique', 'belge', 'belgium', 'bruxelles', 'allemagne', 'italie']\n",
      "https://context.reverso.net/перевод/русский-французский/Бельгия\n"
     ]
    },
    {
     "name": "stderr",
     "output_type": "stream",
     "text": [
      "\r",
      " 86%|████████▌ | 581/676 [49:42<08:20,  5.27s/it]"
     ]
    },
    {
     "name": "stdout",
     "output_type": "stream",
     "text": [
      "['belgique']\n",
      "sense_intersect ['belgique']\n",
      "secular светский\n",
      "https://context.reverso.net/перевод/английский-французский/secular\n",
      "['laïc', 'séculier', 'séculaire', 'profane', 'civil', 'secular']\n",
      "https://context.reverso.net/перевод/русский-французский/светский\n",
      "turn to alternative marks\n"
     ]
    },
    {
     "name": "stderr",
     "output_type": "stream",
     "text": [
      "\r",
      " 86%|████████▌ | 582/676 [49:47<08:08,  5.20s/it]"
     ]
    },
    {
     "name": "stdout",
     "output_type": "stream",
     "text": [
      "['laïque', 'laïc', 'séculier', 'politesse']\n",
      "sense_intersect ['laïc', 'séculier']\n",
      "secular вековой\n",
      "https://context.reverso.net/перевод/английский-французский/secular\n",
      "['laïc', 'séculier', 'séculaire', 'profane', 'civil', 'secular']\n",
      "https://context.reverso.net/перевод/русский-французский/вековой\n",
      "turn to alternative marks\n"
     ]
    },
    {
     "name": "stderr",
     "output_type": "stream",
     "text": [
      "\r",
      " 86%|████████▌ | 583/676 [49:53<08:00,  5.17s/it]"
     ]
    },
    {
     "name": "stdout",
     "output_type": "stream",
     "text": [
      "['séculaire', 'centenaire']\n",
      "sense_intersect ['séculaire']\n",
      "secular долговременный\n",
      "https://context.reverso.net/перевод/английский-французский/secular\n",
      "['laïc', 'séculier', 'séculaire', 'profane', 'civil', 'secular']\n",
      "https://context.reverso.net/перевод/русский-французский/долговременный\n",
      "turn to alternative marks\n"
     ]
    },
    {
     "name": "stderr",
     "output_type": "stream",
     "text": [
      "\r",
      " 86%|████████▋ | 584/676 [49:57<07:49,  5.10s/it]"
     ]
    },
    {
     "name": "stdout",
     "output_type": "stream",
     "text": [
      "['durable', 'à long terme', 'longue durée', 'longue haleine']\n",
      "sense_intersect ['no_equality']\n",
      "secular секуляристский\n",
      "https://context.reverso.net/перевод/английский-французский/secular\n",
      "['laïc', 'séculier', 'séculaire', 'profane', 'civil', 'secular']\n",
      "https://context.reverso.net/перевод/русский-французский/секуляристский\n",
      "turn to alternative marks\n"
     ]
    },
    {
     "name": "stderr",
     "output_type": "stream",
     "text": [
      "\r",
      " 87%|████████▋ | 585/676 [50:02<07:38,  5.04s/it]"
     ]
    },
    {
     "name": "stdout",
     "output_type": "stream",
     "text": [
      "[]\n",
      "sense_intersect ['no_equality']\n",
      "secular мирянин\n",
      "https://context.reverso.net/перевод/английский-французский/secular\n",
      "['laïc', 'séculier', 'séculaire', 'profane', 'civil', 'secular']\n",
      "https://context.reverso.net/перевод/русский-французский/мирянин\n",
      "turn to alternative marks\n"
     ]
    },
    {
     "name": "stderr",
     "output_type": "stream",
     "text": [
      "\r",
      " 87%|████████▋ | 586/676 [50:07<07:34,  5.05s/it]"
     ]
    },
    {
     "name": "stdout",
     "output_type": "stream",
     "text": [
      "[]\n",
      "sense_intersect ['no_equality']\n",
      "secular светскость\n",
      "https://context.reverso.net/перевод/английский-французский/secular\n",
      "['laïc', 'séculier', 'séculaire', 'profane', 'civil', 'secular']\n",
      "https://context.reverso.net/перевод/русский-французский/светскость\n",
      "turn to alternative marks\n"
     ]
    },
    {
     "name": "stderr",
     "output_type": "stream",
     "text": [
      "\r",
      " 87%|████████▋ | 587/676 [50:12<07:26,  5.02s/it]"
     ]
    },
    {
     "name": "stdout",
     "output_type": "stream",
     "text": [
      "['laïcité']\n",
      "sense_intersect ['no_equality']\n",
      "the этот\n",
      "https://context.reverso.net/перевод/английский-французский/the\n",
      "turn to alternative marks\n",
      "[]\n",
      "https://context.reverso.net/перевод/русский-французский/этот\n"
     ]
    },
    {
     "name": "stderr",
     "output_type": "stream",
     "text": [
      "\r",
      " 87%|████████▋ | 588/676 [50:18<07:27,  5.09s/it]"
     ]
    },
    {
     "name": "stdout",
     "output_type": "stream",
     "text": [
      "['ce', 'son', 'celui-ci', 'notre', 'le', 'il', 'cela', 'celui-là', 'celle-ci', 'ceci']\n",
      "sense_intersect ['no_equality']\n",
      "the тот\n",
      "https://context.reverso.net/перевод/английский-французский/the\n",
      "turn to alternative marks\n",
      "[]\n",
      "https://context.reverso.net/перевод/русский-французский/тот\n"
     ]
    },
    {
     "name": "stderr",
     "output_type": "stream",
     "text": [
      "\r",
      " 87%|████████▋ | 589/676 [50:22<07:13,  4.99s/it]"
     ]
    },
    {
     "name": "stdout",
     "output_type": "stream",
     "text": [
      "['celui', 'homme', 'le', 'ce', 'lui', 'une', 'autre', 'moi', \"quelqu'un\", 'celui-là', 'il']\n",
      "sense_intersect ['no_equality']\n",
      "the такой\n",
      "https://context.reverso.net/перевод/английский-французский/the\n",
      "turn to alternative marks\n",
      "[]\n",
      "https://context.reverso.net/перевод/русский-французский/такой\n"
     ]
    },
    {
     "name": "stderr",
     "output_type": "stream",
     "text": [
      "\r",
      " 87%|████████▋ | 590/676 [50:27<07:11,  5.01s/it]"
     ]
    },
    {
     "name": "stdout",
     "output_type": "stream",
     "text": [
      "['tel', 'même', 'tellement', 'type', 'très', 'trop', 'pareille', 'dit', 'si', 'aussi', 'comme ça', 'cela', 'genre', 'tant']\n",
      "sense_intersect ['no_equality']\n",
      "the тем\n",
      "https://context.reverso.net/перевод/английский-французский/the\n",
      "turn to alternative marks\n",
      "[]\n",
      "https://context.reverso.net/перевод/русский-французский/тем\n"
     ]
    },
    {
     "name": "stderr",
     "output_type": "stream",
     "text": [
      "\r",
      " 87%|████████▋ | 591/676 [50:32<07:05,  5.00s/it]"
     ]
    },
    {
     "name": "stdout",
     "output_type": "stream",
     "text": [
      "['plus', 'pour', 'ce', 'fait', 'celui', 'façon', 'aux', 'manière', 'thème', \"quelqu'\", 'parce', 'sujet', 'préoccupation', 'étant', 'afin']\n",
      "sense_intersect ['no_equality']\n",
      "everything все\n",
      "https://context.reverso.net/перевод/английский-французский/everything\n",
      "['reste', 'tout', 'ça', 'ce que', 'rien', 'chose', 'chaque chose', 'toute chose', 'importe quoi', 'everything', 'partout', 'toujours', 'bien', 'fait']\n",
      "https://context.reverso.net/перевод/русский-французский/все\n"
     ]
    },
    {
     "name": "stderr",
     "output_type": "stream",
     "text": [
      "\r",
      " 88%|████████▊ | 592/676 [50:37<07:01,  5.02s/it]"
     ]
    },
    {
     "name": "stdout",
     "output_type": "stream",
     "text": [
      "['tout', 'les', 'ce', 'ça', 'plus', 'est', 'tout le monde', 'on', 'tu', 'je', 'en', 'il', 'se', 'chacun']\n",
      "sense_intersect ['tout', 'ça']\n",
      "everything что угодно\n",
      "https://context.reverso.net/перевод/английский-французский/everything\n",
      "['reste', 'tout', 'ça', 'ce que', 'rien', 'chose', 'chaque chose', 'toute chose', 'importe quoi', 'everything', 'partout', 'toujours', 'bien', 'fait']\n",
      "https://context.reverso.net/перевод/русский-французский/что угодно\n"
     ]
    },
    {
     "name": "stderr",
     "output_type": "stream",
     "text": [
      "\r",
      " 88%|████████▊ | 593/676 [50:43<07:00,  5.07s/it]"
     ]
    },
    {
     "name": "stdout",
     "output_type": "stream",
     "text": [
      "[\"n'importe quoi\", 'peu importe', 'que tu veux', 'que vous voulez', 'quelque chose', \"qu'il faut\", 'quoi que ce soit', \"qu'on veut\", 'que je veux', 'que vous voudrez']\n",
      "sense_intersect ['no_equality']\n",
      "dance танец\n",
      "https://context.reverso.net/перевод/английский-французский/dance\n",
      "['danse', 'dance', 'bal', 'soirée', 'chorégraphie', 'ballet', 'danseur', 'danseur', 'danser', 'chorégraphique', 'soirée dansante', 'valse', 'dancer', 'dansantes']\n",
      "https://context.reverso.net/перевод/русский-французский/танец\n"
     ]
    },
    {
     "name": "stderr",
     "output_type": "stream",
     "text": [
      "\r",
      " 88%|████████▊ | 594/676 [50:48<06:59,  5.11s/it]"
     ]
    },
    {
     "name": "stdout",
     "output_type": "stream",
     "text": [
      "['danse', 'dance', 'bal', 'danser']\n",
      "sense_intersect ['danse', 'dance', 'bal', 'danser']\n",
      "dance бал\n",
      "https://context.reverso.net/перевод/английский-французский/dance\n",
      "['danse', 'dance', 'bal', 'soirée', 'chorégraphie', 'ballet', 'danseur', 'danseur', 'danser', 'chorégraphique', 'soirée dansante', 'valse', 'dancer', 'dansantes']\n",
      "https://context.reverso.net/перевод/русский-французский/бал\n"
     ]
    },
    {
     "name": "stderr",
     "output_type": "stream",
     "text": [
      "\r",
      " 88%|████████▊ | 595/676 [50:55<07:43,  5.73s/it]"
     ]
    },
    {
     "name": "stdout",
     "output_type": "stream",
     "text": [
      "['bal']\n",
      "sense_intersect ['bal']\n",
      "dance танцевальная музыка\n",
      "https://context.reverso.net/перевод/английский-французский/dance\n",
      "['danse', 'dance', 'bal', 'soirée', 'chorégraphie', 'ballet', 'danseur', 'danseur', 'danser', 'chorégraphique', 'soirée dansante', 'valse', 'dancer', 'dansantes']\n",
      "https://context.reverso.net/перевод/русский-французский/танцевальная музыка\n"
     ]
    },
    {
     "name": "stderr",
     "output_type": "stream",
     "text": [
      "\r",
      " 88%|████████▊ | 596/676 [51:01<07:41,  5.77s/it]"
     ]
    },
    {
     "name": "stdout",
     "output_type": "stream",
     "text": [
      "['de danse', 'dansante', 'musique', 'mélodie']\n",
      "sense_intersect ['no_equality']\n",
      "dance танцевальный вечер\n",
      "https://context.reverso.net/перевод/английский-французский/dance\n",
      "['danse', 'dance', 'bal', 'soirée', 'chorégraphie', 'ballet', 'danseur', 'danseur', 'danser', 'chorégraphique', 'soirée dansante', 'valse', 'dancer', 'dansantes']\n",
      "https://context.reverso.net/перевод/русский-французский/танцевальный вечер\n"
     ]
    },
    {
     "name": "stderr",
     "output_type": "stream",
     "text": [
      "\r",
      " 88%|████████▊ | 597/676 [51:07<07:41,  5.85s/it]"
     ]
    },
    {
     "name": "stdout",
     "output_type": "stream",
     "text": [
      "['de danse', 'dansante', 'de la danse', 'dansant', 'de claquettes', 'soirée', 'soir', 'nuit', 'après-midi', 'nuit-là']\n",
      "sense_intersect ['soirée']\n",
      "dance танцевальное искусство\n",
      "https://context.reverso.net/перевод/английский-французский/dance\n",
      "['danse', 'dance', 'bal', 'soirée', 'chorégraphie', 'ballet', 'danseur', 'danseur', 'danser', 'chorégraphique', 'soirée dansante', 'valse', 'dancer', 'dansantes']\n",
      "https://context.reverso.net/перевод/русский-французский/танцевальное искусство\n",
      "turn to alternative marks\n"
     ]
    },
    {
     "name": "stderr",
     "output_type": "stream",
     "text": [
      "\r",
      " 88%|████████▊ | 598/676 [51:12<07:25,  5.71s/it]"
     ]
    },
    {
     "name": "stdout",
     "output_type": "stream",
     "text": [
      "['danse']\n",
      "sense_intersect ['danse']\n",
      "dance танцулька\n",
      "https://context.reverso.net/перевод/английский-французский/dance\n",
      "['danse', 'dance', 'bal', 'soirée', 'chorégraphie', 'ballet', 'danseur', 'danseur', 'danser', 'chorégraphique', 'soirée dansante', 'valse', 'dancer', 'dansantes']\n",
      "https://context.reverso.net/перевод/русский-французский/танцулька\n",
      "turn to alternative marks\n"
     ]
    },
    {
     "name": "stderr",
     "output_type": "stream",
     "text": [
      "\r",
      " 89%|████████▊ | 599/676 [51:18<07:17,  5.68s/it]"
     ]
    },
    {
     "name": "stdout",
     "output_type": "stream",
     "text": [
      "[]\n",
      "sense_intersect ['no_equality']\n",
      "dance хореография\n",
      "https://context.reverso.net/перевод/английский-французский/dance\n",
      "['danse', 'dance', 'bal', 'soirée', 'chorégraphie', 'ballet', 'danseur', 'danseur', 'danser', 'chorégraphique', 'soirée dansante', 'valse', 'dancer', 'dansantes']\n",
      "https://context.reverso.net/перевод/русский-французский/хореография\n",
      "turn to alternative marks\n"
     ]
    },
    {
     "name": "stderr",
     "output_type": "stream",
     "text": [
      "\r",
      " 89%|████████▉ | 600/676 [51:24<07:09,  5.65s/it]"
     ]
    },
    {
     "name": "stdout",
     "output_type": "stream",
     "text": [
      "['chorégraphie']\n",
      "sense_intersect ['chorégraphie']\n",
      "dance танцевать\n",
      "https://context.reverso.net/перевод/английский-французский/dance\n",
      "['danse', 'dance', 'bal', 'soirée', 'chorégraphie', 'ballet', 'danseur', 'danseur', 'danser', 'chorégraphique', 'soirée dansante', 'valse', 'dancer', 'dansantes']\n",
      "https://context.reverso.net/перевод/русский-французский/танцевать\n"
     ]
    },
    {
     "name": "stderr",
     "output_type": "stream",
     "text": [
      "\r",
      " 89%|████████▉ | 601/676 [51:29<07:02,  5.63s/it]"
     ]
    },
    {
     "name": "stdout",
     "output_type": "stream",
     "text": [
      "['danser', 'faire']\n",
      "sense_intersect ['danser']\n",
      "dance приплясывать\n",
      "https://context.reverso.net/перевод/английский-французский/dance\n",
      "['danse', 'dance', 'bal', 'soirée', 'chorégraphie', 'ballet', 'danseur', 'danseur', 'danser', 'chorégraphique', 'soirée dansante', 'valse', 'dancer', 'dansantes']\n",
      "https://context.reverso.net/перевод/русский-французский/приплясывать\n",
      "turn to alternative marks\n"
     ]
    },
    {
     "name": "stderr",
     "output_type": "stream",
     "text": [
      "\r",
      " 89%|████████▉ | 602/676 [51:34<06:42,  5.44s/it]"
     ]
    },
    {
     "name": "stdout",
     "output_type": "stream",
     "text": [
      "[]\n",
      "sense_intersect ['no_equality']\n",
      "dance хореографический\n",
      "https://context.reverso.net/перевод/английский-французский/dance\n",
      "['danse', 'dance', 'bal', 'soirée', 'chorégraphie', 'ballet', 'danseur', 'danseur', 'danser', 'chorégraphique', 'soirée dansante', 'valse', 'dancer', 'dansantes']\n",
      "https://context.reverso.net/перевод/русский-французский/хореографический\n",
      "turn to alternative marks\n"
     ]
    },
    {
     "name": "stderr",
     "output_type": "stream",
     "text": [
      "\r",
      " 89%|████████▉ | 603/676 [51:40<06:37,  5.45s/it]"
     ]
    },
    {
     "name": "stdout",
     "output_type": "stream",
     "text": [
      "[]\n",
      "sense_intersect ['no_equality']\n",
      "dance плясовой\n",
      "https://context.reverso.net/перевод/английский-французский/dance\n",
      "['danse', 'dance', 'bal', 'soirée', 'chorégraphie', 'ballet', 'danseur', 'danseur', 'danser', 'chorégraphique', 'soirée dansante', 'valse', 'dancer', 'dansantes']\n",
      "https://context.reverso.net/перевод/русский-французский/плясовой\n",
      "turn to alternative marks\n"
     ]
    },
    {
     "name": "stderr",
     "output_type": "stream",
     "text": [
      "\r",
      " 89%|████████▉ | 604/676 [51:44<06:20,  5.29s/it]"
     ]
    },
    {
     "name": "stdout",
     "output_type": "stream",
     "text": [
      "[]\n",
      "sense_intersect ['no_equality']\n",
      "mother мать\n",
      "https://context.reverso.net/перевод/английский-французский/mother\n",
      "['mère', 'maman', 'mère de famille', 'materner', 'vierge', 'mother', 'parent', 'femme', 'maternel', 'fil', 'dame', 'marie']\n",
      "https://context.reverso.net/перевод/русский-французский/мать\n"
     ]
    },
    {
     "name": "stderr",
     "output_type": "stream",
     "text": [
      "\r",
      " 89%|████████▉ | 605/676 [51:50<06:19,  5.34s/it]"
     ]
    },
    {
     "name": "stdout",
     "output_type": "stream",
     "text": [
      "['mère', 'maman', 'putain', 'merde', 'quoi', 'enfoiré', 'est-ce', 'dieu', 'bordel', 'connard', 'enculé']\n",
      "sense_intersect ['mère', 'maman']\n",
      "mother мамаша\n",
      "https://context.reverso.net/перевод/английский-французский/mother\n",
      "['mère', 'maman', 'mère de famille', 'materner', 'vierge', 'mother', 'parent', 'femme', 'maternel', 'fil', 'dame', 'marie']\n",
      "https://context.reverso.net/перевод/русский-французский/мамаша\n"
     ]
    },
    {
     "name": "stderr",
     "output_type": "stream",
     "text": [
      "\r",
      " 90%|████████▉ | 606/676 [51:55<06:08,  5.26s/it]"
     ]
    },
    {
     "name": "stdout",
     "output_type": "stream",
     "text": [
      "['mère', 'maman']\n",
      "sense_intersect ['mère', 'maman']\n",
      "mother материнский\n",
      "https://context.reverso.net/перевод/английский-французский/mother\n",
      "['mère', 'maman', 'mère de famille', 'materner', 'vierge', 'mother', 'parent', 'femme', 'maternel', 'fil', 'dame', 'marie']\n",
      "https://context.reverso.net/перевод/русский-французский/материнский\n"
     ]
    },
    {
     "name": "stderr",
     "output_type": "stream",
     "text": [
      "\r",
      " 90%|████████▉ | 607/676 [52:01<06:09,  5.35s/it]"
     ]
    },
    {
     "name": "stdout",
     "output_type": "stream",
     "text": [
      "['maternel']\n",
      "sense_intersect ['maternel']\n",
      "mother родной\n",
      "https://context.reverso.net/перевод/английский-французский/mother\n",
      "['mère', 'maman', 'mère de famille', 'materner', 'vierge', 'mother', 'parent', 'femme', 'maternel', 'fil', 'dame', 'marie']\n",
      "https://context.reverso.net/перевод/русский-французский/родной\n"
     ]
    },
    {
     "name": "stderr",
     "output_type": "stream",
     "text": [
      "\r",
      " 90%|████████▉ | 608/676 [52:06<06:06,  5.38s/it]"
     ]
    },
    {
     "name": "stdout",
     "output_type": "stream",
     "text": [
      "['biologique', 'origine', 'propre', 'planète']\n",
      "sense_intersect ['no_equality']\n",
      "mother мамин\n",
      "https://context.reverso.net/перевод/английский-французский/mother\n",
      "['mère', 'maman', 'mère de famille', 'materner', 'vierge', 'mother', 'parent', 'femme', 'maternel', 'fil', 'dame', 'marie']\n",
      "https://context.reverso.net/перевод/русский-французский/мамин\n"
     ]
    },
    {
     "name": "stderr",
     "output_type": "stream",
     "text": [
      "\r",
      " 90%|█████████ | 609/676 [52:11<05:50,  5.23s/it]"
     ]
    },
    {
     "name": "stdout",
     "output_type": "stream",
     "text": [
      "['de maman', 'de ma mère']\n",
      "sense_intersect ['no_equality']\n",
      "have иметь\n",
      "https://context.reverso.net/перевод/английский-французский/have\n",
      "['avoir', 'être', 'devoir', 'disposer', 'faire', 'présenter', 'posséder', 'prendre', 'passer', 'boire', 'recevoir', 'porter', 'ressentir', 'tolérer', 'être tenu', 'se', 'avez-vous', 'pu', 'faut', 'reste', 'est']\n",
      "https://context.reverso.net/перевод/русский-французский/иметь\n"
     ]
    },
    {
     "name": "stderr",
     "output_type": "stream",
     "text": [
      "\r",
      " 90%|█████████ | 610/676 [52:16<05:42,  5.19s/it]"
     ]
    },
    {
     "name": "stdout",
     "output_type": "stream",
     "text": [
      "['avoir', 'être', 'disposer', 'garder', 'prendre', 'bénéficier', 'posséder', 'présenter', 'pouvoir', 'un']\n",
      "sense_intersect ['avoir', 'être', 'disposer', 'présenter', 'posséder', 'prendre']\n",
      "have обладать\n",
      "https://context.reverso.net/перевод/английский-французский/have\n",
      "['avoir', 'être', 'devoir', 'disposer', 'faire', 'présenter', 'posséder', 'prendre', 'passer', 'boire', 'recevoir', 'porter', 'ressentir', 'tolérer', 'être tenu', 'se', 'avez-vous', 'pu', 'faut', 'reste', 'est']\n",
      "https://context.reverso.net/перевод/русский-французский/обладать\n"
     ]
    },
    {
     "name": "stderr",
     "output_type": "stream",
     "text": [
      "\r",
      " 90%|█████████ | 611/676 [52:21<05:36,  5.18s/it]"
     ]
    },
    {
     "name": "stdout",
     "output_type": "stream",
     "text": [
      "['avoir', 'posséder', 'disposer', 'présenter', 'pouvoir']\n",
      "sense_intersect ['avoir', 'disposer', 'présenter', 'posséder']\n",
      "have получать\n",
      "https://context.reverso.net/перевод/английский-французский/have\n",
      "['avoir', 'être', 'devoir', 'disposer', 'faire', 'présenter', 'posséder', 'prendre', 'passer', 'boire', 'recevoir', 'porter', 'ressentir', 'tolérer', 'être tenu', 'se', 'avez-vous', 'pu', 'faut', 'reste', 'est']\n",
      "https://context.reverso.net/перевод/русский-французский/получать\n"
     ]
    },
    {
     "name": "stderr",
     "output_type": "stream",
     "text": [
      "\r",
      " 91%|█████████ | 612/676 [52:27<05:36,  5.25s/it]"
     ]
    },
    {
     "name": "stdout",
     "output_type": "stream",
     "text": [
      "['recevoir', 'obtenir', 'bénéficier', 'avoir', 'tirer', 'percevoir', 'accéder', 'fournir', 'acquérir', 'recueillir', 'produire', 'toucher', 'suivre', 'gagner', 'disposer']\n",
      "sense_intersect ['avoir', 'disposer', 'recevoir']\n",
      "have испытывать\n",
      "https://context.reverso.net/перевод/английский-французский/have\n",
      "['avoir', 'être', 'devoir', 'disposer', 'faire', 'présenter', 'posséder', 'prendre', 'passer', 'boire', 'recevoir', 'porter', 'ressentir', 'tolérer', 'être tenu', 'se', 'avez-vous', 'pu', 'faut', 'reste', 'est']\n",
      "https://context.reverso.net/перевод/русский-французский/испытывать\n"
     ]
    },
    {
     "name": "stderr",
     "output_type": "stream",
     "text": [
      "\r",
      " 91%|█████████ | 613/676 [52:31<05:23,  5.14s/it]"
     ]
    },
    {
     "name": "stdout",
     "output_type": "stream",
     "text": [
      "['ressentir', 'souffrir', 'tester', 'éprouver', 'subir', 'avoir']\n",
      "sense_intersect ['avoir', 'ressentir']\n",
      "have провести\n",
      "https://context.reverso.net/перевод/английский-французский/have\n",
      "['avoir', 'être', 'devoir', 'disposer', 'faire', 'présenter', 'posséder', 'prendre', 'passer', 'boire', 'recevoir', 'porter', 'ressentir', 'tolérer', 'être tenu', 'se', 'avez-vous', 'pu', 'faut', 'reste', 'est']\n",
      "https://context.reverso.net/перевод/русский-французский/провести\n"
     ]
    },
    {
     "name": "stderr",
     "output_type": "stream",
     "text": [
      "\r",
      " 91%|█████████ | 614/676 [52:37<05:18,  5.14s/it]"
     ]
    },
    {
     "name": "stdout",
     "output_type": "stream",
     "text": [
      "['passer', 'tenir', 'faire', 'mener', 'entreprendre', 'effectuer', 'réaliser', 'avoir lieu', 'engager', 'établir', 'rester', 'convoquer', 'mettre', 'procéder à', \"d'organiser\"]\n",
      "sense_intersect ['faire', 'passer']\n",
      "have приходиться\n",
      "https://context.reverso.net/перевод/английский-французский/have\n",
      "['avoir', 'être', 'devoir', 'disposer', 'faire', 'présenter', 'posséder', 'prendre', 'passer', 'boire', 'recevoir', 'porter', 'ressentir', 'tolérer', 'être tenu', 'se', 'avez-vous', 'pu', 'faut', 'reste', 'est']\n",
      "https://context.reverso.net/перевод/русский-французский/приходиться\n"
     ]
    },
    {
     "name": "stderr",
     "output_type": "stream",
     "text": [
      "\r",
      " 91%|█████████ | 615/676 [52:42<05:18,  5.22s/it]"
     ]
    },
    {
     "name": "stdout",
     "output_type": "stream",
     "text": [
      "['représenter']\n",
      "sense_intersect ['no_equality']\n",
      "have оказывать\n",
      "https://context.reverso.net/перевод/английский-французский/have\n",
      "['avoir', 'être', 'devoir', 'disposer', 'faire', 'présenter', 'posséder', 'prendre', 'passer', 'boire', 'recevoir', 'porter', 'ressentir', 'tolérer', 'être tenu', 'se', 'avez-vous', 'pu', 'faut', 'reste', 'est']\n",
      "https://context.reverso.net/перевод/русский-французский/оказывать\n",
      "['fournir', 'apporter', 'appuyer', 'avoir', 'offrir', 'exercer', 'prêter', 'assurer', 'accorder', 'continuer', 'recevoir', 'donner', 'bénéficier', 'proposer', 'secondé']\n"
     ]
    },
    {
     "name": "stderr",
     "output_type": "stream",
     "text": [
      "\r",
      " 91%|█████████ | 616/676 [52:47<05:17,  5.29s/it]"
     ]
    },
    {
     "name": "stdout",
     "output_type": "stream",
     "text": [
      "sense_intersect ['avoir', 'recevoir']\n",
      "have носить\n",
      "https://context.reverso.net/перевод/английский-французский/have\n",
      "['avoir', 'être', 'devoir', 'disposer', 'faire', 'présenter', 'posséder', 'prendre', 'passer', 'boire', 'recevoir', 'porter', 'ressentir', 'tolérer', 'être tenu', 'se', 'avez-vous', 'pu', 'faut', 'reste', 'est']\n",
      "https://context.reverso.net/перевод/русский-французский/носить\n"
     ]
    },
    {
     "name": "stderr",
     "output_type": "stream",
     "text": [
      "\r",
      " 91%|█████████▏| 617/676 [52:53<05:08,  5.22s/it]"
     ]
    },
    {
     "name": "stdout",
     "output_type": "stream",
     "text": [
      "['porter', 'garder', 'transporter', 'avoir', 'mettre', 'caractère', 'port']\n",
      "sense_intersect ['avoir', 'porter']\n",
      "have проявлять\n",
      "https://context.reverso.net/перевод/английский-французский/have\n",
      "['avoir', 'être', 'devoir', 'disposer', 'faire', 'présenter', 'posséder', 'prendre', 'passer', 'boire', 'recevoir', 'porter', 'ressentir', 'tolérer', 'être tenu', 'se', 'avez-vous', 'pu', 'faut', 'reste', 'est']\n",
      "https://context.reverso.net/перевод/русский-французский/проявлять\n"
     ]
    },
    {
     "name": "stderr",
     "output_type": "stream",
     "text": [
      "\r",
      " 91%|█████████▏| 618/676 [52:58<05:04,  5.25s/it]"
     ]
    },
    {
     "name": "stdout",
     "output_type": "stream",
     "text": [
      "['faire preuve', 'montrer', 'faire montre', 'manifester', \"d'exercer\", 'prudence', 'diligence', 'vigilance', 'prendre', 'respect']\n",
      "sense_intersect ['prendre']\n",
      "have потерпеть\n",
      "https://context.reverso.net/перевод/английский-французский/have\n",
      "['avoir', 'être', 'devoir', 'disposer', 'faire', 'présenter', 'posséder', 'prendre', 'passer', 'boire', 'recevoir', 'porter', 'ressentir', 'tolérer', 'être tenu', 'se', 'avez-vous', 'pu', 'faut', 'reste', 'est']\n",
      "https://context.reverso.net/перевод/русский-французский/потерпеть\n"
     ]
    },
    {
     "name": "stderr",
     "output_type": "stream",
     "text": [
      "\r",
      " 92%|█████████▏| 619/676 [53:03<04:58,  5.23s/it]"
     ]
    },
    {
     "name": "stdout",
     "output_type": "stream",
     "text": [
      "['échouer']\n",
      "sense_intersect ['no_equality']\n",
      "have питать\n",
      "https://context.reverso.net/перевод/английский-французский/have\n",
      "['avoir', 'être', 'devoir', 'disposer', 'faire', 'présenter', 'posséder', 'prendre', 'passer', 'boire', 'recevoir', 'porter', 'ressentir', 'tolérer', 'être tenu', 'se', 'avez-vous', 'pu', 'faut', 'reste', 'est']\n",
      "https://context.reverso.net/перевод/русский-французский/питать\n",
      "turn to alternative marks\n"
     ]
    },
    {
     "name": "stderr",
     "output_type": "stream",
     "text": [
      "\r",
      " 92%|█████████▏| 620/676 [53:08<04:49,  5.17s/it]"
     ]
    },
    {
     "name": "stdout",
     "output_type": "stream",
     "text": [
      "['alimenter', 'nourrir']\n",
      "sense_intersect ['no_equality']\n",
      "have уже\n",
      "https://context.reverso.net/перевод/английский-французский/have\n",
      "['avoir', 'être', 'devoir', 'disposer', 'faire', 'présenter', 'posséder', 'prendre', 'passer', 'boire', 'recevoir', 'porter', 'ressentir', 'tolérer', 'être tenu', 'se', 'avez-vous', 'pu', 'faut', 'reste', 'est']\n",
      "https://context.reverso.net/перевод/русский-французский/уже\n",
      "['déjà', 'depuis', 'maintenant', 'trop', 'assez', 'presque', 'bientôt', 'désormais', 'arrête', 'fait', 'ça', 'commence', 'va', 'dès', 'pendant']\n"
     ]
    },
    {
     "name": "stderr",
     "output_type": "stream",
     "text": [
      "\r",
      " 92%|█████████▏| 621/676 [53:13<04:47,  5.23s/it]"
     ]
    },
    {
     "name": "stdout",
     "output_type": "stream",
     "text": [
      "sense_intersect ['no_equality']\n",
      "have вспомогательный глагол\n",
      "https://context.reverso.net/перевод/английский-французский/have\n",
      "['avoir', 'être', 'devoir', 'disposer', 'faire', 'présenter', 'posséder', 'prendre', 'passer', 'boire', 'recevoir', 'porter', 'ressentir', 'tolérer', 'être tenu', 'se', 'avez-vous', 'pu', 'faut', 'reste', 'est']\n",
      "https://context.reverso.net/перевод/русский-французский/вспомогательный глагол\n"
     ]
    },
    {
     "name": "stderr",
     "output_type": "stream",
     "text": [
      "\r",
      " 92%|█████████▏| 622/676 [53:19<04:39,  5.18s/it]"
     ]
    },
    {
     "name": "stdout",
     "output_type": "stream",
     "text": [
      "['subsidiaire', \"d'appui\", 'auxiliaire', 'paramédical', 'verbe']\n",
      "sense_intersect ['no_equality']\n",
      "order порядок\n",
      "https://context.reverso.net/перевод/английский-французский/order\n",
      "['ordre', 'commande', 'décret', 'arrêté', 'décision', 'sorte', 'mesure', 'mandat', 'commander', 'ordonner', 'permettre', 'enjoindre', 'organiser', 'ordonnance', 'pouvoir', 'injonction', 'consigne', 'donne', 'règlement']\n",
      "https://context.reverso.net/перевод/русский-французский/порядок\n"
     ]
    },
    {
     "name": "stderr",
     "output_type": "stream",
     "text": [
      "\r",
      " 92%|█████████▏| 623/676 [53:24<04:34,  5.18s/it]"
     ]
    },
    {
     "name": "stdout",
     "output_type": "stream",
     "text": [
      "['ordre', 'modalité', 'procédure', 'mode', 'manière', 'comment', 'régime', 'système', 'façon', 'régissant', 'disposition', 'arrangement']\n",
      "sense_intersect ['ordre']\n",
      "order приказ\n",
      "https://context.reverso.net/перевод/английский-французский/order\n",
      "['ordre', 'commande', 'décret', 'arrêté', 'décision', 'sorte', 'mesure', 'mandat', 'commander', 'ordonner', 'permettre', 'enjoindre', 'organiser', 'ordonnance', 'pouvoir', 'injonction', 'consigne', 'donne', 'règlement']\n",
      "https://context.reverso.net/перевод/русский-французский/приказ\n"
     ]
    },
    {
     "name": "stderr",
     "output_type": "stream",
     "text": [
      "\r",
      " 92%|█████████▏| 624/676 [53:29<04:32,  5.24s/it]"
     ]
    },
    {
     "name": "stdout",
     "output_type": "stream",
     "text": [
      "['ordre', 'ordonnance', 'arrêté', 'décision', 'ordonné']\n",
      "sense_intersect ['ordre', 'arrêté', 'décision', 'ordonnance']\n",
      "order заказ\n",
      "https://context.reverso.net/перевод/английский-французский/order\n",
      "['ordre', 'commande', 'décret', 'arrêté', 'décision', 'sorte', 'mesure', 'mandat', 'commander', 'ordonner', 'permettre', 'enjoindre', 'organiser', 'ordonnance', 'pouvoir', 'injonction', 'consigne', 'donne', 'règlement']\n",
      "https://context.reverso.net/перевод/русский-французский/заказ\n"
     ]
    },
    {
     "name": "stderr",
     "output_type": "stream",
     "text": [
      "\r",
      " 92%|█████████▏| 625/676 [53:34<04:22,  5.15s/it]"
     ]
    },
    {
     "name": "stdout",
     "output_type": "stream",
     "text": [
      "['commande', 'réservation', 'contrat', 'commander']\n",
      "sense_intersect ['commande', 'commander']\n",
      "order орден\n",
      "https://context.reverso.net/перевод/английский-французский/order\n",
      "['ordre', 'commande', 'décret', 'arrêté', 'décision', 'sorte', 'mesure', 'mandat', 'commander', 'ordonner', 'permettre', 'enjoindre', 'organiser', 'ordonnance', 'pouvoir', 'injonction', 'consigne', 'donne', 'règlement']\n",
      "https://context.reverso.net/перевод/русский-французский/орден\n"
     ]
    },
    {
     "name": "stderr",
     "output_type": "stream",
     "text": [
      "\r",
      " 93%|█████████▎| 626/676 [53:39<04:13,  5.08s/it]"
     ]
    },
    {
     "name": "stdout",
     "output_type": "stream",
     "text": [
      "['ordre', 'malte']\n",
      "sense_intersect ['ordre']\n",
      "order последовательность\n",
      "https://context.reverso.net/перевод/английский-французский/order\n",
      "['ordre', 'commande', 'décret', 'arrêté', 'décision', 'sorte', 'mesure', 'mandat', 'commander', 'ordonner', 'permettre', 'enjoindre', 'organiser', 'ordonnance', 'pouvoir', 'injonction', 'consigne', 'donne', 'règlement']\n",
      "https://context.reverso.net/перевод/русский-французский/последовательность\n"
     ]
    },
    {
     "name": "stderr",
     "output_type": "stream",
     "text": [
      "\r",
      " 93%|█████████▎| 627/676 [53:45<04:22,  5.36s/it]"
     ]
    },
    {
     "name": "stdout",
     "output_type": "stream",
     "text": [
      "['séquence', 'cohérence', 'ordre', 'continuité']\n",
      "sense_intersect ['ordre']\n",
      "order строй\n",
      "https://context.reverso.net/перевод/английский-французский/order\n",
      "['ordre', 'commande', 'décret', 'arrêté', 'décision', 'sorte', 'mesure', 'mandat', 'commander', 'ordonner', 'permettre', 'enjoindre', 'organiser', 'ordonnance', 'pouvoir', 'injonction', 'consigne', 'donne', 'règlement']\n",
      "https://context.reverso.net/перевод/русский-французский/строй\n"
     ]
    },
    {
     "name": "stderr",
     "output_type": "stream",
     "text": [
      "\r",
      " 93%|█████████▎| 628/676 [53:50<04:13,  5.27s/it]"
     ]
    },
    {
     "name": "stdout",
     "output_type": "stream",
     "text": [
      "['opérationnel', 'fais']\n",
      "sense_intersect ['no_equality']\n",
      "order приказание\n",
      "https://context.reverso.net/перевод/английский-французский/order\n",
      "['ordre', 'commande', 'décret', 'arrêté', 'décision', 'sorte', 'mesure', 'mandat', 'commander', 'ordonner', 'permettre', 'enjoindre', 'organiser', 'ordonnance', 'pouvoir', 'injonction', 'consigne', 'donne', 'règlement']\n",
      "https://context.reverso.net/перевод/русский-французский/приказание\n",
      "turn to alternative marks\n"
     ]
    },
    {
     "name": "stderr",
     "output_type": "stream",
     "text": [
      "\r",
      " 93%|█████████▎| 629/676 [53:55<04:03,  5.18s/it]"
     ]
    },
    {
     "name": "stdout",
     "output_type": "stream",
     "text": [
      "['ordre', 'sommation']\n",
      "sense_intersect ['ordre']\n",
      "order заказывать\n",
      "https://context.reverso.net/перевод/английский-французский/order\n",
      "['ordre', 'commande', 'décret', 'arrêté', 'décision', 'sorte', 'mesure', 'mandat', 'commander', 'ordonner', 'permettre', 'enjoindre', 'organiser', 'ordonnance', 'pouvoir', 'injonction', 'consigne', 'donne', 'règlement']\n",
      "https://context.reverso.net/перевод/русский-французский/заказывать\n"
     ]
    },
    {
     "name": "stderr",
     "output_type": "stream",
     "text": [
      "\r",
      " 93%|█████████▎| 630/676 [54:00<03:56,  5.13s/it]"
     ]
    },
    {
     "name": "stdout",
     "output_type": "stream",
     "text": [
      "['commander']\n",
      "sense_intersect ['commander']\n",
      "order приказывать\n",
      "https://context.reverso.net/перевод/английский-французский/order\n",
      "['ordre', 'commande', 'décret', 'arrêté', 'décision', 'sorte', 'mesure', 'mandat', 'commander', 'ordonner', 'permettre', 'enjoindre', 'organiser', 'ordonnance', 'pouvoir', 'injonction', 'consigne', 'donne', 'règlement']\n",
      "https://context.reverso.net/перевод/русский-французский/приказывать\n",
      "turn to alternative marks\n"
     ]
    },
    {
     "name": "stderr",
     "output_type": "stream",
     "text": [
      "\r",
      " 93%|█████████▎| 631/676 [54:05<03:50,  5.12s/it]"
     ]
    },
    {
     "name": "stdout",
     "output_type": "stream",
     "text": [
      "['ordonner', 'commander', 'me donner des ordres', 'dire quoi faire', \"d'ordre à me donner\", 'vos ordres', \"d'ordres à recevoir\"]\n",
      "sense_intersect ['commander', 'ordonner']\n",
      "order упорядочить\n",
      "https://context.reverso.net/перевод/английский-французский/order\n",
      "['ordre', 'commande', 'décret', 'arrêté', 'décision', 'sorte', 'mesure', 'mandat', 'commander', 'ordonner', 'permettre', 'enjoindre', 'organiser', 'ordonnance', 'pouvoir', 'injonction', 'consigne', 'donne', 'règlement']\n",
      "https://context.reverso.net/перевод/русский-французский/упорядочить\n"
     ]
    },
    {
     "name": "stderr",
     "output_type": "stream",
     "text": [
      "\r",
      " 93%|█████████▎| 632/676 [54:10<03:44,  5.11s/it]"
     ]
    },
    {
     "name": "stdout",
     "output_type": "stream",
     "text": [
      "['rationaliser', 'simplifier']\n",
      "sense_intersect ['no_equality']\n",
      "freeze замерзать\n",
      "https://context.reverso.net/перевод/английский-французский/freeze\n",
      "['geler', 'congeler', 'figer', 'bloquer', 'glacer', 'arrêter', 'suspendre', 'surgeler', 'gel', 'congélation', 'froid', 'blocage', 'gelée', 'freeze']\n",
      "https://context.reverso.net/перевод/русский-французский/замерзать\n",
      "turn to alternative marks\n"
     ]
    },
    {
     "name": "stderr",
     "output_type": "stream",
     "text": [
      "\r",
      " 94%|█████████▎| 633/676 [54:15<03:41,  5.15s/it]"
     ]
    },
    {
     "name": "stdout",
     "output_type": "stream",
     "text": [
      "['geler']\n",
      "sense_intersect ['geler']\n",
      "freeze замораживать\n",
      "https://context.reverso.net/перевод/английский-французский/freeze\n",
      "['geler', 'congeler', 'figer', 'bloquer', 'glacer', 'arrêter', 'suspendre', 'surgeler', 'gel', 'congélation', 'froid', 'blocage', 'gelée', 'freeze']\n",
      "https://context.reverso.net/перевод/русский-французский/замораживать\n"
     ]
    },
    {
     "name": "stderr",
     "output_type": "stream",
     "text": [
      "\r",
      " 94%|█████████▍| 634/676 [54:21<03:37,  5.18s/it]"
     ]
    },
    {
     "name": "stdout",
     "output_type": "stream",
     "text": [
      "['geler']\n",
      "sense_intersect ['geler']\n",
      "freeze застывать\n",
      "https://context.reverso.net/перевод/английский-французский/freeze\n",
      "['geler', 'congeler', 'figer', 'bloquer', 'glacer', 'arrêter', 'suspendre', 'surgeler', 'gel', 'congélation', 'froid', 'blocage', 'gelée', 'freeze']\n",
      "https://context.reverso.net/перевод/русский-французский/застывать\n",
      "turn to alternative marks\n"
     ]
    },
    {
     "name": "stderr",
     "output_type": "stream",
     "text": [
      "\r",
      " 94%|█████████▍| 635/676 [54:26<03:34,  5.22s/it]"
     ]
    },
    {
     "name": "stdout",
     "output_type": "stream",
     "text": [
      "[]\n",
      "sense_intersect ['no_equality']\n",
      "freeze примерзать\n",
      "https://context.reverso.net/перевод/английский-французский/freeze\n",
      "['geler', 'congeler', 'figer', 'bloquer', 'glacer', 'arrêter', 'suspendre', 'surgeler', 'gel', 'congélation', 'froid', 'blocage', 'gelée', 'freeze']\n",
      "https://context.reverso.net/перевод/русский-французский/примерзать\n"
     ]
    },
    {
     "name": "stderr",
     "output_type": "stream",
     "text": [
      "\r",
      " 94%|█████████▍| 636/676 [54:31<03:28,  5.22s/it]"
     ]
    },
    {
     "name": "stdout",
     "output_type": "stream",
     "text": [
      "['garder']\n",
      "sense_intersect ['no_equality']\n",
      "freeze зависать\n",
      "https://context.reverso.net/перевод/английский-французский/freeze\n",
      "['geler', 'congeler', 'figer', 'bloquer', 'glacer', 'arrêter', 'suspendre', 'surgeler', 'gel', 'congélation', 'froid', 'blocage', 'gelée', 'freeze']\n",
      "https://context.reverso.net/перевод/русский-французский/зависать\n"
     ]
    },
    {
     "name": "stderr",
     "output_type": "stream",
     "text": [
      "\r",
      " 94%|█████████▍| 637/676 [54:36<03:19,  5.12s/it]"
     ]
    },
    {
     "name": "stdout",
     "output_type": "stream",
     "text": [
      "['traîner']\n",
      "sense_intersect ['no_equality']\n",
      "freeze отморозить\n",
      "https://context.reverso.net/перевод/английский-французский/freeze\n",
      "['geler', 'congeler', 'figer', 'bloquer', 'glacer', 'arrêter', 'suspendre', 'surgeler', 'gel', 'congélation', 'froid', 'blocage', 'gelée', 'freeze']\n",
      "https://context.reverso.net/перевод/русский-французский/отморозить\n",
      "turn to alternative marks\n"
     ]
    },
    {
     "name": "stderr",
     "output_type": "stream",
     "text": [
      "\r",
      " 94%|█████████▍| 638/676 [54:41<03:12,  5.06s/it]"
     ]
    },
    {
     "name": "stdout",
     "output_type": "stream",
     "text": [
      "['vous geler']\n",
      "sense_intersect ['no_equality']\n",
      "freeze заледенеть\n",
      "https://context.reverso.net/перевод/английский-французский/freeze\n",
      "['geler', 'congeler', 'figer', 'bloquer', 'glacer', 'arrêter', 'suspendre', 'surgeler', 'gel', 'congélation', 'froid', 'blocage', 'gelée', 'freeze']\n",
      "https://context.reverso.net/перевод/русский-французский/заледенеть\n",
      "turn to alternative marks\n"
     ]
    },
    {
     "name": "stderr",
     "output_type": "stream",
     "text": [
      "\r",
      " 95%|█████████▍| 639/676 [54:46<03:05,  5.02s/it]"
     ]
    },
    {
     "name": "stdout",
     "output_type": "stream",
     "text": [
      "[]\n",
      "sense_intersect ['no_equality']\n",
      "freeze вмерзнуть\n",
      "https://context.reverso.net/перевод/английский-французский/freeze\n",
      "['geler', 'congeler', 'figer', 'bloquer', 'glacer', 'arrêter', 'suspendre', 'surgeler', 'gel', 'congélation', 'froid', 'blocage', 'gelée', 'freeze']\n",
      "https://context.reverso.net/перевод/русский-французский/вмерзнуть\n",
      "turn to alternative marks\n"
     ]
    },
    {
     "name": "stderr",
     "output_type": "stream",
     "text": [
      "\r",
      " 95%|█████████▍| 640/676 [54:51<03:00,  5.00s/it]"
     ]
    },
    {
     "name": "stdout",
     "output_type": "stream",
     "text": [
      "['avoir froid', 'geler', 'cailler', 'les couvertures', 'travailer']\n",
      "sense_intersect ['geler']\n",
      "freeze замораживание\n",
      "https://context.reverso.net/перевод/английский-французский/freeze\n",
      "['geler', 'congeler', 'figer', 'bloquer', 'glacer', 'arrêter', 'suspendre', 'surgeler', 'gel', 'congélation', 'froid', 'blocage', 'gelée', 'freeze']\n",
      "https://context.reverso.net/перевод/русский-французский/замораживание\n"
     ]
    },
    {
     "name": "stderr",
     "output_type": "stream",
     "text": [
      "\r",
      " 95%|█████████▍| 641/676 [54:56<02:56,  5.03s/it]"
     ]
    },
    {
     "name": "stdout",
     "output_type": "stream",
     "text": [
      "['gel', 'geler']\n",
      "sense_intersect ['geler', 'gel']\n",
      "freeze зависание\n",
      "https://context.reverso.net/перевод/английский-французский/freeze\n",
      "['geler', 'congeler', 'figer', 'bloquer', 'glacer', 'arrêter', 'suspendre', 'surgeler', 'gel', 'congélation', 'froid', 'blocage', 'gelée', 'freeze']\n",
      "https://context.reverso.net/перевод/русский-французский/зависание\n",
      "turn to alternative marks\n"
     ]
    },
    {
     "name": "stderr",
     "output_type": "stream",
     "text": [
      "\r",
      " 95%|█████████▍| 642/676 [55:01<02:49,  4.99s/it]"
     ]
    },
    {
     "name": "stdout",
     "output_type": "stream",
     "text": [
      "[]\n",
      "sense_intersect ['no_equality']\n",
      "freeze мороз\n",
      "https://context.reverso.net/перевод/английский-французский/freeze\n",
      "['geler', 'congeler', 'figer', 'bloquer', 'glacer', 'arrêter', 'suspendre', 'surgeler', 'gel', 'congélation', 'froid', 'blocage', 'gelée', 'freeze']\n",
      "https://context.reverso.net/перевод/русский-французский/мороз\n",
      "turn to alternative marks\n"
     ]
    },
    {
     "name": "stderr",
     "output_type": "stream",
     "text": [
      "\r",
      " 95%|█████████▌| 643/676 [55:06<02:43,  4.95s/it]"
     ]
    },
    {
     "name": "stdout",
     "output_type": "stream",
     "text": [
      "['froid', 'gèle ici', 'il gèle', 'gelés', 'gelée', 'geler', 'perce-oreille']\n",
      "sense_intersect ['geler', 'froid', 'gelée']\n",
      "necessary необходимый\n",
      "https://context.reverso.net/перевод/английский-французский/necessary\n",
      "['nécessaire', 'échéant', 'indispensable', 'requis', 'essentiel', 'utile', 'voulue', 'faut', 'besoin', 'nécessité', 'lieu', 'imposent', 'fallait', 'faudra']\n",
      "https://context.reverso.net/перевод/русский-французский/необходимый\n"
     ]
    },
    {
     "name": "stderr",
     "output_type": "stream",
     "text": [
      "\r",
      " 95%|█████████▌| 644/676 [55:11<02:39,  4.97s/it]"
     ]
    },
    {
     "name": "stdout",
     "output_type": "stream",
     "text": [
      "['nécessaire', 'requis', 'indispensable', 'besoin']\n",
      "sense_intersect ['nécessaire', 'indispensable', 'requis', 'besoin']\n",
      "necessary неизбежный\n",
      "https://context.reverso.net/перевод/английский-французский/necessary\n",
      "['nécessaire', 'échéant', 'indispensable', 'requis', 'essentiel', 'utile', 'voulue', 'faut', 'besoin', 'nécessité', 'lieu', 'imposent', 'fallait', 'faudra']\n",
      "https://context.reverso.net/перевод/русский-французский/неизбежный\n"
     ]
    },
    {
     "name": "stderr",
     "output_type": "stream",
     "text": [
      "\r",
      " 95%|█████████▌| 645/676 [55:16<02:34,  5.00s/it]"
     ]
    },
    {
     "name": "stdout",
     "output_type": "stream",
     "text": [
      "['inévitable']\n",
      "sense_intersect ['no_equality']\n",
      "necessary надобный\n",
      "https://context.reverso.net/перевод/английский-французский/necessary\n",
      "['nécessaire', 'échéant', 'indispensable', 'requis', 'essentiel', 'utile', 'voulue', 'faut', 'besoin', 'nécessité', 'lieu', 'imposent', 'fallait', 'faudra']\n",
      "https://context.reverso.net/перевод/русский-французский/надобный\n",
      "turn to alternative marks\n"
     ]
    },
    {
     "name": "stderr",
     "output_type": "stream",
     "text": [
      "\r",
      " 96%|█████████▌| 646/676 [55:21<02:31,  5.04s/it]"
     ]
    },
    {
     "name": "stdout",
     "output_type": "stream",
     "text": [
      "['à domicile']\n",
      "sense_intersect ['no_equality']\n",
      "necessary требуемый\n",
      "https://context.reverso.net/перевод/английский-французский/necessary\n",
      "['nécessaire', 'échéant', 'indispensable', 'requis', 'essentiel', 'utile', 'voulue', 'faut', 'besoin', 'nécessité', 'lieu', 'imposent', 'fallait', 'faudra']\n",
      "https://context.reverso.net/перевод/русский-французский/требуемый\n"
     ]
    },
    {
     "name": "stderr",
     "output_type": "stream",
     "text": [
      "\r",
      " 96%|█████████▌| 647/676 [55:26<02:25,  5.00s/it]"
     ]
    },
    {
     "name": "stdout",
     "output_type": "stream",
     "text": [
      "['requis', 'nécessaire']\n",
      "sense_intersect ['nécessaire', 'requis']\n",
      "necessary надо\n",
      "https://context.reverso.net/перевод/английский-французский/necessary\n",
      "['nécessaire', 'échéant', 'indispensable', 'requis', 'essentiel', 'utile', 'voulue', 'faut', 'besoin', 'nécessité', 'lieu', 'imposent', 'fallait', 'faudra']\n",
      "https://context.reverso.net/перевод/русский-французский/надо\n"
     ]
    },
    {
     "name": "stderr",
     "output_type": "stream",
     "text": [
      "\r",
      " 96%|█████████▌| 648/676 [55:31<02:22,  5.08s/it]"
     ]
    },
    {
     "name": "stdout",
     "output_type": "stream",
     "text": [
      "['il faut', 'on doit', 'pas', 'y', 'il va falloir', 'faire', 'devoir', 'falloir', 'dois', 'besoin', 'à', 'devon', 'veux', 'vais', 'je', 'ça', 'devriez']\n",
      "sense_intersect ['besoin']\n",
      "necessary надобность\n",
      "https://context.reverso.net/перевод/английский-французский/necessary\n",
      "['nécessaire', 'échéant', 'indispensable', 'requis', 'essentiel', 'utile', 'voulue', 'faut', 'besoin', 'nécessité', 'lieu', 'imposent', 'fallait', 'faudra']\n",
      "https://context.reverso.net/перевод/русский-французский/надобность\n",
      "turn to alternative marks\n"
     ]
    },
    {
     "name": "stderr",
     "output_type": "stream",
     "text": [
      "\r",
      " 96%|█████████▌| 649/676 [55:36<02:16,  5.06s/it]"
     ]
    },
    {
     "name": "stdout",
     "output_type": "stream",
     "text": [
      "['besoin']\n",
      "sense_intersect ['besoin']\n",
      "with с\n",
      "https://context.reverso.net/перевод/английский-французский/with\n",
      "['avec', 'qui', 'contre', 'malgré', 'auprès de', 'à', 'de', 'par', 'en', 'aux', 'et', 'dans', 'au', 'pour', 'sur', 'ayant', 'dont', 'auprès']\n",
      "https://context.reverso.net/перевод/русский-французский/с\n",
      "turn to alternative marks\n"
     ]
    },
    {
     "name": "stderr",
     "output_type": "stream",
     "text": [
      "\r",
      " 96%|█████████▌| 650/676 [55:41<02:08,  4.96s/it]"
     ]
    },
    {
     "name": "stdout",
     "output_type": "stream",
     "text": [
      "[]\n",
      "sense_intersect ['no_equality']\n",
      "with причем\n",
      "https://context.reverso.net/перевод/английский-французский/with\n",
      "['avec', 'qui', 'contre', 'malgré', 'auprès de', 'à', 'de', 'par', 'en', 'aux', 'et', 'dans', 'au', 'pour', 'sur', 'ayant', 'dont', 'auprès']\n",
      "https://context.reverso.net/перевод/русский-французский/причем\n"
     ]
    },
    {
     "name": "stderr",
     "output_type": "stream",
     "text": [
      "\r",
      " 96%|█████████▋| 651/676 [55:46<02:04,  4.98s/it]"
     ]
    },
    {
     "name": "stdout",
     "output_type": "stream",
     "text": [
      "['dont', 'sans', 'souvent', 'tandis', 'notamment', 'mai', 'même', 'plupart', 'parfois', 'tant', 'où']\n",
      "sense_intersect ['dont']\n",
      "with вместе с\n",
      "https://context.reverso.net/перевод/английский-французский/with\n",
      "['avec', 'qui', 'contre', 'malgré', 'auprès de', 'à', 'de', 'par', 'en', 'aux', 'et', 'dans', 'au', 'pour', 'sur', 'ayant', 'dont', 'auprès']\n",
      "https://context.reverso.net/перевод/русский-французский/вместе с\n"
     ]
    },
    {
     "name": "stderr",
     "output_type": "stream",
     "text": [
      "\r",
      " 96%|█████████▋| 652/676 [55:51<02:02,  5.11s/it]"
     ]
    },
    {
     "name": "stdout",
     "output_type": "stream",
     "text": [
      "['avec', 'en même temps que', 'accompagné', 'tout comme', 'ainsi que', 'parallèlement', 'ensemble', 'même que', 'autre part', 'accompagner', 'assorti']\n",
      "sense_intersect ['avec']\n",
      "treat рассматривать\n",
      "https://context.reverso.net/перевод/английский-французский/treat\n",
      "['traiter', 'soigner', 'considérer', 'offrir', 'inviter', 'régaler', 'guérir', 'payer', 'traitement', 'traite', 'plaisir', 'régal', 'gâterie', 'friandise', 'festin', 'récompense']\n",
      "https://context.reverso.net/перевод/русский-французский/рассматривать\n"
     ]
    },
    {
     "name": "stderr",
     "output_type": "stream",
     "text": [
      "\r",
      " 97%|█████████▋| 653/676 [55:57<02:02,  5.34s/it]"
     ]
    },
    {
     "name": "stdout",
     "output_type": "stream",
     "text": [
      "['examiner', 'considérer', 'envisager', 'traiter', 'aborder', 'voir', 'connaître', 'étudier', 'régler', 'inscrire', 'regarder', 'replacer', 'constituer', 'réexaminer', 'analyser']\n",
      "sense_intersect ['traiter', 'considérer']\n",
      "treat обращаться\n",
      "https://context.reverso.net/перевод/английский-французский/treat\n",
      "['traiter', 'soigner', 'considérer', 'offrir', 'inviter', 'régaler', 'guérir', 'payer', 'traitement', 'traite', 'plaisir', 'régal', 'gâterie', 'friandise', 'festin', 'récompense']\n",
      "https://context.reverso.net/перевод/русский-французский/обращаться\n"
     ]
    },
    {
     "name": "stderr",
     "output_type": "stream",
     "text": [
      "\r",
      " 97%|█████████▋| 654/676 [56:03<02:00,  5.48s/it]"
     ]
    },
    {
     "name": "stdout",
     "output_type": "stream",
     "text": [
      "['demander', 'traiter', \"s'adresser\", 'saisir', 'solliciter', 'faire appel', 'contacter', 'recourir', 'appeler', 'présenter', 'se tourner', 'consulter', 'obtenir', 'servir', 'avoir recours']\n",
      "sense_intersect ['traiter']\n",
      "treat лечить\n",
      "https://context.reverso.net/перевод/английский-французский/treat\n",
      "['traiter', 'soigner', 'considérer', 'offrir', 'inviter', 'régaler', 'guérir', 'payer', 'traitement', 'traite', 'plaisir', 'régal', 'gâterie', 'friandise', 'festin', 'récompense']\n",
      "https://context.reverso.net/перевод/русский-французский/лечить\n"
     ]
    },
    {
     "name": "stderr",
     "output_type": "stream",
     "text": [
      "\r",
      " 97%|█████████▋| 655/676 [56:08<01:51,  5.33s/it]"
     ]
    },
    {
     "name": "stdout",
     "output_type": "stream",
     "text": [
      "['soigner', 'traiter', 'guérir', 'traitement']\n",
      "sense_intersect ['traiter', 'soigner', 'guérir', 'traitement']\n",
      "treat обрабатывать\n",
      "https://context.reverso.net/перевод/английский-французский/treat\n",
      "['traiter', 'soigner', 'considérer', 'offrir', 'inviter', 'régaler', 'guérir', 'payer', 'traitement', 'traite', 'plaisir', 'régal', 'gâterie', 'friandise', 'festin', 'récompense']\n",
      "https://context.reverso.net/перевод/русский-французский/обрабатывать\n"
     ]
    },
    {
     "name": "stderr",
     "output_type": "stream",
     "text": [
      "\r",
      " 97%|█████████▋| 656/676 [56:13<01:45,  5.28s/it]"
     ]
    },
    {
     "name": "stdout",
     "output_type": "stream",
     "text": [
      "['traiter']\n",
      "sense_intersect ['traiter']\n",
      "treat обходиться\n",
      "https://context.reverso.net/перевод/английский-французский/treat\n",
      "['traiter', 'soigner', 'considérer', 'offrir', 'inviter', 'régaler', 'guérir', 'payer', 'traitement', 'traite', 'plaisir', 'régal', 'gâterie', 'friandise', 'festin', 'récompense']\n",
      "https://context.reverso.net/перевод/русский-французский/обходиться\n",
      "turn to alternative marks\n"
     ]
    },
    {
     "name": "stderr",
     "output_type": "stream",
     "text": [
      "\r",
      " 97%|█████████▋| 657/676 [56:18<01:38,  5.17s/it]"
     ]
    },
    {
     "name": "stdout",
     "output_type": "stream",
     "text": [
      "['traiter', 'se passer', 'coûter', 'se contenter']\n",
      "sense_intersect ['traiter']\n",
      "treat угощать\n",
      "https://context.reverso.net/перевод/английский-французский/treat\n",
      "['traiter', 'soigner', 'considérer', 'offrir', 'inviter', 'régaler', 'guérir', 'payer', 'traitement', 'traite', 'plaisir', 'régal', 'gâterie', 'friandise', 'festin', 'récompense']\n",
      "https://context.reverso.net/перевод/русский-французский/угощать\n",
      "turn to alternative marks\n"
     ]
    },
    {
     "name": "stderr",
     "output_type": "stream",
     "text": [
      "\r",
      " 97%|█████████▋| 658/676 [56:23<01:31,  5.07s/it]"
     ]
    },
    {
     "name": "stdout",
     "output_type": "stream",
     "text": [
      "['offrirai', 'prodiguer']\n",
      "sense_intersect ['no_equality']\n",
      "treat побаловать\n",
      "https://context.reverso.net/перевод/английский-французский/treat\n",
      "['traiter', 'soigner', 'considérer', 'offrir', 'inviter', 'régaler', 'guérir', 'payer', 'traitement', 'traite', 'plaisir', 'régal', 'gâterie', 'friandise', 'festin', 'récompense']\n",
      "https://context.reverso.net/перевод/русский-французский/побаловать\n",
      "turn to alternative marks\n"
     ]
    },
    {
     "name": "stderr",
     "output_type": "stream",
     "text": [
      "\r",
      " 97%|█████████▋| 659/676 [56:28<01:27,  5.14s/it]"
     ]
    },
    {
     "name": "stdout",
     "output_type": "stream",
     "text": [
      "['gâter', 'faire plaisir']\n",
      "sense_intersect ['no_equality']\n",
      "treat третировать\n",
      "https://context.reverso.net/перевод/английский-французский/treat\n",
      "['traiter', 'soigner', 'considérer', 'offrir', 'inviter', 'régaler', 'guérir', 'payer', 'traitement', 'traite', 'plaisir', 'régal', 'gâterie', 'friandise', 'festin', 'récompense']\n",
      "https://context.reverso.net/перевод/русский-французский/третировать\n",
      "turn to alternative marks\n"
     ]
    },
    {
     "name": "stderr",
     "output_type": "stream",
     "text": [
      "\r",
      " 98%|█████████▊| 660/676 [56:34<01:24,  5.27s/it]"
     ]
    },
    {
     "name": "stdout",
     "output_type": "stream",
     "text": [
      "[]\n",
      "sense_intersect ['no_equality']\n",
      "treat угощение\n",
      "https://context.reverso.net/перевод/английский-французский/treat\n",
      "['traiter', 'soigner', 'considérer', 'offrir', 'inviter', 'régaler', 'guérir', 'payer', 'traitement', 'traite', 'plaisir', 'régal', 'gâterie', 'friandise', 'festin', 'récompense']\n",
      "https://context.reverso.net/перевод/русский-французский/угощение\n",
      "turn to alternative marks\n"
     ]
    },
    {
     "name": "stderr",
     "output_type": "stream",
     "text": [
      "\r",
      " 98%|█████████▊| 661/676 [56:39<01:17,  5.19s/it]"
     ]
    },
    {
     "name": "stdout",
     "output_type": "stream",
     "text": [
      "['bonbon', 'récompense', 'repas', 'gâterie', 'buffet', 'friandise', 'surprise', 'festin', 'régaler', 'résistance']\n",
      "sense_intersect ['régaler', 'gâterie', 'friandise', 'festin', 'récompense']\n",
      "treat удовольствие\n",
      "https://context.reverso.net/перевод/английский-французский/treat\n",
      "['traiter', 'soigner', 'considérer', 'offrir', 'inviter', 'régaler', 'guérir', 'payer', 'traitement', 'traite', 'plaisir', 'régal', 'gâterie', 'friandise', 'festin', 'récompense']\n",
      "https://context.reverso.net/перевод/русский-французский/удовольствие\n"
     ]
    },
    {
     "name": "stderr",
     "output_type": "stream",
     "text": [
      "\r",
      " 98%|█████████▊| 662/676 [56:44<01:12,  5.21s/it]"
     ]
    },
    {
     "name": "stdout",
     "output_type": "stream",
     "text": [
      "['plaisir', 'joie', 'satisfaction', 'profiter', 'apprécier']\n",
      "sense_intersect ['plaisir']\n",
      "treat обработка\n",
      "https://context.reverso.net/перевод/английский-французский/treat\n",
      "['traiter', 'soigner', 'considérer', 'offrir', 'inviter', 'régaler', 'guérir', 'payer', 'traitement', 'traite', 'plaisir', 'régal', 'gâterie', 'friandise', 'festin', 'récompense']\n",
      "https://context.reverso.net/перевод/русский-французский/обработка\n"
     ]
    },
    {
     "name": "stderr",
     "output_type": "stream",
     "text": [
      "\r",
      " 98%|█████████▊| 663/676 [56:49<01:06,  5.14s/it]"
     ]
    },
    {
     "name": "stdout",
     "output_type": "stream",
     "text": [
      "['traitement']\n",
      "sense_intersect ['traitement']\n",
      "approbation одобрение\n",
      "https://context.reverso.net/перевод/английский-французский/approbation\n",
      "['approbation']\n",
      "https://context.reverso.net/перевод/русский-французский/одобрение\n"
     ]
    },
    {
     "name": "stderr",
     "output_type": "stream",
     "text": [
      "\r",
      " 98%|█████████▊| 664/676 [56:54<01:02,  5.19s/it]"
     ]
    },
    {
     "name": "stdout",
     "output_type": "stream",
     "text": [
      "['approbation', 'accord', 'adoption', 'approuvé par', 'félicite', 'approuver']\n",
      "sense_intersect ['approbation']\n",
      "select выбирать\n",
      "https://context.reverso.net/перевод/английский-французский/select\n",
      "['sélectionner', 'choisir', 'cliquer sur', 'désigner', 'retenir', 'opter', 'sélecter', 'sélection', 'choix', 'sélectionné', 'sélect', 'choisi', 'restreint', 'choisie', 'certain', 'cocher']\n",
      "https://context.reverso.net/перевод/русский-французский/выбирать\n"
     ]
    },
    {
     "name": "stderr",
     "output_type": "stream",
     "text": [
      "\r",
      " 98%|█████████▊| 665/676 [56:59<00:55,  5.09s/it]"
     ]
    },
    {
     "name": "stdout",
     "output_type": "stream",
     "text": [
      "['choisir', 'sélectionner', 'décider', 'choix']\n",
      "sense_intersect ['sélectionner', 'choisir', 'choix']\n",
      "select избирать\n",
      "https://context.reverso.net/перевод/английский-французский/select\n",
      "['sélectionner', 'choisir', 'cliquer sur', 'désigner', 'retenir', 'opter', 'sélecter', 'sélection', 'choix', 'sélectionné', 'sélect', 'choisi', 'restreint', 'choisie', 'certain', 'cocher']\n",
      "https://context.reverso.net/перевод/русский-французский/избирать\n"
     ]
    },
    {
     "name": "stderr",
     "output_type": "stream",
     "text": [
      "\r",
      " 99%|█████████▊| 666/676 [57:04<00:50,  5.05s/it]"
     ]
    },
    {
     "name": "stdout",
     "output_type": "stream",
     "text": [
      "['élire', 'voter', 'choisir']\n",
      "sense_intersect ['choisir']\n",
      "select выделить\n",
      "https://context.reverso.net/перевод/английский-французский/select\n",
      "['sélectionner', 'choisir', 'cliquer sur', 'désigner', 'retenir', 'opter', 'sélecter', 'sélection', 'choix', 'sélectionné', 'sélect', 'choisi', 'restreint', 'choisie', 'certain', 'cocher']\n",
      "https://context.reverso.net/перевод/русский-французский/выделить\n"
     ]
    },
    {
     "name": "stderr",
     "output_type": "stream",
     "text": [
      "\r",
      " 99%|█████████▊| 667/676 [57:09<00:45,  5.04s/it]"
     ]
    },
    {
     "name": "stdout",
     "output_type": "stream",
     "text": [
      "['allouer', 'fournir', 'souligner', 'consacrer', 'affecter', 'distinguer', 'isoler', 'verser', 'dégager', 'sélectionner', 'accorder', 'prévoir']\n",
      "sense_intersect ['sélectionner']\n",
      "select указать\n",
      "https://context.reverso.net/перевод/английский-французский/select\n",
      "['sélectionner', 'choisir', 'cliquer sur', 'désigner', 'retenir', 'opter', 'sélecter', 'sélection', 'choix', 'sélectionné', 'sélect', 'choisi', 'restreint', 'choisie', 'certain', 'cocher']\n",
      "https://context.reverso.net/перевод/русский-французский/указать\n"
     ]
    },
    {
     "name": "stderr",
     "output_type": "stream",
     "text": [
      "\r",
      " 99%|█████████▉| 668/676 [57:14<00:40,  5.06s/it]"
     ]
    },
    {
     "name": "stdout",
     "output_type": "stream",
     "text": [
      "['indiquer', 'préciser', 'souligner', 'spécifier', 'signaler', 'mentionner', 'montrer', 'désigner', 'définir', 'noter', 'identifier', 'relever']\n",
      "sense_intersect ['désigner']\n",
      "select отборный\n",
      "https://context.reverso.net/перевод/английский-французский/select\n",
      "['sélectionner', 'choisir', 'cliquer sur', 'désigner', 'retenir', 'opter', 'sélecter', 'sélection', 'choix', 'sélectionné', 'sélect', 'choisi', 'restreint', 'choisie', 'certain', 'cocher']\n",
      "https://context.reverso.net/перевод/русский-французский/отборный\n",
      "turn to alternative marks\n"
     ]
    },
    {
     "name": "stderr",
     "output_type": "stream",
     "text": [
      "\r",
      " 99%|█████████▉| 669/676 [57:19<00:35,  5.00s/it]"
     ]
    },
    {
     "name": "stdout",
     "output_type": "stream",
     "text": [
      "[]\n",
      "sense_intersect ['no_equality']\n",
      "select отбор\n",
      "https://context.reverso.net/перевод/английский-французский/select\n",
      "['sélectionner', 'choisir', 'cliquer sur', 'désigner', 'retenir', 'opter', 'sélecter', 'sélection', 'choix', 'sélectionné', 'sélect', 'choisi', 'restreint', 'choisie', 'certain', 'cocher']\n",
      "https://context.reverso.net/перевод/русский-французский/отбор\n"
     ]
    },
    {
     "name": "stderr",
     "output_type": "stream",
     "text": [
      "\r",
      " 99%|█████████▉| 670/676 [57:24<00:30,  5.01s/it]"
     ]
    },
    {
     "name": "stdout",
     "output_type": "stream",
     "text": [
      "['sélection', 'choix']\n",
      "sense_intersect ['sélection', 'choix']\n",
      "read читать\n",
      "https://context.reverso.net/перевод/английский-французский/read\n",
      "['lire', 'consulter', 'voir', 'relire', 'interpréter', 'déchiffrer', 'indiquer', 'bouquiner', 'pris connaissance', 'libellé', 'lecture', 'recevez', 'reçois', 'lisible', 'relever', 'read', 'en savoir', 'retrouvez']\n",
      "https://context.reverso.net/перевод/русский-французский/читать\n"
     ]
    },
    {
     "name": "stderr",
     "output_type": "stream",
     "text": [
      "\r",
      " 99%|█████████▉| 671/676 [57:29<00:24,  4.97s/it]"
     ]
    },
    {
     "name": "stdout",
     "output_type": "stream",
     "text": [
      "['lire', 'lecture', 'faire']\n",
      "sense_intersect ['lire', 'lecture']\n",
      "read считывать\n",
      "https://context.reverso.net/перевод/английский-французский/read\n",
      "['lire', 'consulter', 'voir', 'relire', 'interpréter', 'déchiffrer', 'indiquer', 'bouquiner', 'pris connaissance', 'libellé', 'lecture', 'recevez', 'reçois', 'lisible', 'relever', 'read', 'en savoir', 'retrouvez']\n",
      "https://context.reverso.net/перевод/русский-французский/считывать\n",
      "turn to alternative marks\n"
     ]
    },
    {
     "name": "stderr",
     "output_type": "stream",
     "text": [
      "\r",
      " 99%|█████████▉| 672/676 [57:34<00:20,  5.02s/it]"
     ]
    },
    {
     "name": "stdout",
     "output_type": "stream",
     "text": [
      "['lire']\n",
      "sense_intersect ['lire']\n",
      "read гласить\n",
      "https://context.reverso.net/перевод/английский-французский/read\n",
      "['lire', 'consulter', 'voir', 'relire', 'interpréter', 'déchiffrer', 'indiquer', 'bouquiner', 'pris connaissance', 'libellé', 'lecture', 'recevez', 'reçois', 'lisible', 'relever', 'read', 'en savoir', 'retrouvez']\n",
      "https://context.reverso.net/перевод/русский-французский/гласить\n"
     ]
    },
    {
     "name": "stderr",
     "output_type": "stream",
     "text": [
      "\r",
      "100%|█████████▉| 673/676 [57:39<00:15,  5.09s/it]"
     ]
    },
    {
     "name": "stdout",
     "output_type": "stream",
     "text": [
      "['se lire comme suit']\n",
      "sense_intersect ['no_equality']\n",
      "read зачитать\n",
      "https://context.reverso.net/перевод/английский-французский/read\n",
      "['lire', 'consulter', 'voir', 'relire', 'interpréter', 'déchiffrer', 'indiquer', 'bouquiner', 'pris connaissance', 'libellé', 'lecture', 'recevez', 'reçois', 'lisible', 'relever', 'read', 'en savoir', 'retrouvez']\n",
      "https://context.reverso.net/перевод/русский-французский/зачитать\n"
     ]
    },
    {
     "name": "stderr",
     "output_type": "stream",
     "text": [
      "\r",
      "100%|█████████▉| 674/676 [57:44<00:10,  5.03s/it]"
     ]
    },
    {
     "name": "stdout",
     "output_type": "stream",
     "text": [
      "['lire', 'donner lecture']\n",
      "sense_intersect ['lire']\n",
      "read начитаться\n",
      "https://context.reverso.net/перевод/английский-французский/read\n",
      "['lire', 'consulter', 'voir', 'relire', 'interpréter', 'déchiffrer', 'indiquer', 'bouquiner', 'pris connaissance', 'libellé', 'lecture', 'recevez', 'reçois', 'lisible', 'relever', 'read', 'en savoir', 'retrouvez']\n",
      "https://context.reverso.net/перевод/русский-французский/начитаться\n",
      "turn to alternative marks\n"
     ]
    },
    {
     "name": "stderr",
     "output_type": "stream",
     "text": [
      "\r",
      "100%|█████████▉| 675/676 [57:49<00:04,  4.95s/it]"
     ]
    },
    {
     "name": "stdout",
     "output_type": "stream",
     "text": [
      "[]\n",
      "sense_intersect ['no_equality']\n",
      "read чтение\n",
      "https://context.reverso.net/перевод/английский-французский/read\n",
      "['lire', 'consulter', 'voir', 'relire', 'interpréter', 'déchiffrer', 'indiquer', 'bouquiner', 'pris connaissance', 'libellé', 'lecture', 'recevez', 'reçois', 'lisible', 'relever', 'read', 'en savoir', 'retrouvez']\n",
      "https://context.reverso.net/перевод/русский-французский/чтение\n"
     ]
    },
    {
     "name": "stderr",
     "output_type": "stream",
     "text": [
      "\r",
      "100%|██████████| 676/676 [57:54<00:00,  4.97s/it]"
     ]
    },
    {
     "name": "stdout",
     "output_type": "stream",
     "text": [
      "['lecture', 'lire']\n",
      "sense_intersect ['lire', 'lecture']\n"
     ]
    },
    {
     "name": "stderr",
     "output_type": "stream",
     "text": [
      "\n"
     ]
    },
    {
     "data": {
      "text/html": [
       "<div>\n",
       "<style scoped>\n",
       "    .dataframe tbody tr th:only-of-type {\n",
       "        vertical-align: middle;\n",
       "    }\n",
       "\n",
       "    .dataframe tbody tr th {\n",
       "        vertical-align: top;\n",
       "    }\n",
       "\n",
       "    .dataframe thead th {\n",
       "        text-align: right;\n",
       "    }\n",
       "</style>\n",
       "<table border=\"1\" class=\"dataframe\">\n",
       "  <thead>\n",
       "    <tr style=\"text-align: right;\">\n",
       "      <th></th>\n",
       "      <th>eng_word</th>\n",
       "      <th>rus</th>\n",
       "      <th>fr</th>\n",
       "    </tr>\n",
       "  </thead>\n",
       "  <tbody>\n",
       "    <tr>\n",
       "      <th>0</th>\n",
       "      <td>for</td>\n",
       "      <td>для</td>\n",
       "      <td>pour</td>\n",
       "    </tr>\n",
       "    <tr>\n",
       "      <th>1</th>\n",
       "      <td>for</td>\n",
       "      <td>для</td>\n",
       "      <td>de</td>\n",
       "    </tr>\n",
       "    <tr>\n",
       "      <th>2</th>\n",
       "      <td>for</td>\n",
       "      <td>для</td>\n",
       "      <td>à</td>\n",
       "    </tr>\n",
       "    <tr>\n",
       "      <th>3</th>\n",
       "      <td>for</td>\n",
       "      <td>для</td>\n",
       "      <td>aux</td>\n",
       "    </tr>\n",
       "    <tr>\n",
       "      <th>4</th>\n",
       "      <td>for</td>\n",
       "      <td>для</td>\n",
       "      <td>par</td>\n",
       "    </tr>\n",
       "  </tbody>\n",
       "</table>\n",
       "</div>"
      ],
      "text/plain": [
       "  eng_word  rus    fr\n",
       "0      for  для  pour\n",
       "1      for  для    de\n",
       "2      for  для     à\n",
       "3      for  для   aux\n",
       "4      for  для   par"
      ]
     },
     "execution_count": 13,
     "metadata": {},
     "output_type": "execute_result"
    }
   ],
   "source": [
    "def get_multilang_from_df(df):\n",
    "    eng_word_list = []\n",
    "    lang_1_word_list = []\n",
    "    lang_2_word_list = []\n",
    "    for df_ind in tqdm(range(len(df))):\n",
    "        df_element = list(df.iloc[df_ind])\n",
    "        eng_word = df_element[1]\n",
    "        loc_1_word = df_element[2]\n",
    "        print(eng_word, loc_1_word)\n",
    "        sense_intersect = get_cross_translate(eng_word, \"английский\", loc_1_word,\"русский\", \"французский\", fr_lemmatize)\n",
    "        print(\"sense_intersect\", sense_intersect)\n",
    "        for sense_intersect_element in sense_intersect:\n",
    "            eng_word_list.append(eng_word)\n",
    "            lang_1_word_list.append(loc_1_word)\n",
    "            lang_2_word_list.append(sense_intersect_element)\n",
    "            \n",
    "        #break\n",
    "        if df_ind % 10 == 0:\n",
    "            save_path = os.path.join(\"/Users/nigula/LL/adjust_unigr_dict/reverse_connected_dicts/cross_barbos\",\n",
    "                         str(df_ind) + \".csv\")\n",
    "            data = pd.DataFrame(list(zip(eng_word_list, lang_1_word_list,lang_2_word_list)),\n",
    "                        columns =['eng_word', 'rus','fr'])\n",
    "            data.to_csv(save_path)\n",
    "    data = pd.DataFrame(list(zip(eng_word_list, lang_1_word_list,lang_2_word_list)),\n",
    "                        columns =['eng_word', 'rus','fr'])\n",
    "    \n",
    "    return data\n",
    "\n",
    "df_din = get_multilang_from_df(df_en_ru_yandex)\n",
    "df_din.head()\n"
   ]
  },
  {
   "cell_type": "code",
   "execution_count": 14,
   "metadata": {},
   "outputs": [],
   "source": [
    "df_din.to_csv(\"cross_approach.csv\")"
   ]
  }
 ],
 "metadata": {
  "kernelspec": {
   "display_name": "Python 3",
   "language": "python",
   "name": "python3"
  },
  "language_info": {
   "codemirror_mode": {
    "name": "ipython",
    "version": 3
   },
   "file_extension": ".py",
   "mimetype": "text/x-python",
   "name": "python",
   "nbconvert_exporter": "python",
   "pygments_lexer": "ipython3",
   "version": "3.7.4"
  }
 },
 "nbformat": 4,
 "nbformat_minor": 2
}
