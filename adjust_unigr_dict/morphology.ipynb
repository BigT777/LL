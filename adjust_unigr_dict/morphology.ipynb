{
 "cells": [
  {
   "cell_type": "code",
   "execution_count": null,
   "metadata": {},
   "outputs": [],
   "source": [
    "inflection\n",
    "conjugate words"
   ]
  },
  {
   "cell_type": "code",
   "execution_count": 15,
   "metadata": {},
   "outputs": [
    {
     "name": "stdout",
     "output_type": "stream",
     "text": [
      "Collecting inflection\n",
      "  Downloading https://files.pythonhosted.org/packages/d5/35/a6eb45b4e2356fe688b21570864d4aa0d0a880ce387defe9c589112077f8/inflection-0.3.1.tar.gz\n",
      "Building wheels for collected packages: inflection\n",
      "  Building wheel for inflection (setup.py) ... \u001b[?25ldone\n",
      "\u001b[?25h  Stored in directory: /Users/nigula/Library/Caches/pip/wheels/9f/5a/d3/6fc3bf6516d2a3eb7e18f9f28b472110b59325f3f258fe9211\n",
      "Successfully built inflection\n",
      "Installing collected packages: inflection\n",
      "Successfully installed inflection-0.3.1\n"
     ]
    }
   ],
   "source": [
    "!pip3 install inflection"
   ]
  },
  {
   "cell_type": "markdown",
   "metadata": {},
   "source": [
    "# NOUNS"
   ]
  },
  {
   "cell_type": "code",
   "execution_count": 4,
   "metadata": {},
   "outputs": [],
   "source": [
    "import inflection"
   ]
  },
  {
   "cell_type": "code",
   "execution_count": 5,
   "metadata": {},
   "outputs": [
    {
     "data": {
      "text/plain": [
       "'post'"
      ]
     },
     "execution_count": 5,
     "metadata": {},
     "output_type": "execute_result"
    }
   ],
   "source": [
    "inflection.singularize(\"posts\")"
   ]
  },
  {
   "cell_type": "code",
   "execution_count": 13,
   "metadata": {},
   "outputs": [
    {
     "data": {
      "text/plain": [
       "'mouces'"
      ]
     },
     "execution_count": 13,
     "metadata": {},
     "output_type": "execute_result"
    }
   ],
   "source": [
    "inflection.pluralize(\"mouce\")"
   ]
  },
  {
   "cell_type": "markdown",
   "metadata": {},
   "source": [
    "!pip3 install pattern"
   ]
  },
  {
   "cell_type": "markdown",
   "metadata": {},
   "source": [
    "# VERBS"
   ]
  },
  {
   "cell_type": "code",
   "execution_count": 1,
   "metadata": {},
   "outputs": [],
   "source": [
    "import mlconjug"
   ]
  },
  {
   "cell_type": "code",
   "execution_count": 16,
   "metadata": {},
   "outputs": [
    {
     "name": "stdout",
     "output_type": "stream",
     "text": [
      "[('imperative', 'imperative present', '2s', 'eateat'), ('imperative', 'imperative present', '1p', 'eateat'), ('imperative', 'imperative present', '2p', 'eateat'), ('indicative', 'indicative past tense', '1s', 'eatate'), ('indicative', 'indicative past tense', '2s', 'eatate'), ('indicative', 'indicative past tense', '3s', 'eatate'), ('indicative', 'indicative past tense', '1p', 'eatate'), ('indicative', 'indicative past tense', '2p', 'eatate'), ('indicative', 'indicative past tense', '3p', 'eatate'), ('indicative', 'indicative present', '1s', 'eateat'), ('indicative', 'indicative present', '2s', 'eateat'), ('indicative', 'indicative present', '3s', 'eateats'), ('indicative', 'indicative present', '1p', 'eateat'), ('indicative', 'indicative present', '2p', 'eateat'), ('indicative', 'indicative present', '3p', 'eateat'), ('indicative', 'indicative present continuous', '1s 1s', 'eateating'), ('indicative', 'indicative present continuous', '2s 2s', 'eateating'), ('indicative', 'indicative present continuous', '3s 3s', 'eateating'), ('indicative', 'indicative present continuous', '1p 1p', 'eateating'), ('indicative', 'indicative present continuous', '2p 2p', 'eateating'), ('indicative', 'indicative present continuous', '3p 3p', 'eateating'), ('indicative', 'indicative present perfect', '1s', 'eateaten'), ('indicative', 'indicative present perfect', '2s', 'eateaten'), ('indicative', 'indicative present perfect', '3s', 'eateaten'), ('indicative', 'indicative present perfect', '1p', 'eateaten'), ('indicative', 'indicative present perfect', '2p', 'eateaten'), ('indicative', 'indicative present perfect', '3p', 'eateaten'), ('infinitive', 'infinitive present', 'eat', 'eateat')]\n"
     ]
    }
   ],
   "source": [
    "default_conjugator = mlconjug.Conjugator(language='en')\n",
    "test_verb = default_conjugator.conjugate(\"eat\")\n",
    "all_conjugated_forms = test_verb.iterate()\n",
    "print(all_conjugated_forms)"
   ]
  },
  {
   "cell_type": "code",
   "execution_count": 5,
   "metadata": {},
   "outputs": [
    {
     "ename": "ModuleNotFoundError",
     "evalue": "No module named 'pattern'",
     "output_type": "error",
     "traceback": [
      "\u001b[0;31m---------------------------------------------------------------------------\u001b[0m",
      "\u001b[0;31mModuleNotFoundError\u001b[0m                       Traceback (most recent call last)",
      "\u001b[0;32m<ipython-input-5-484d4d0bcddc>\u001b[0m in \u001b[0;36m<module>\u001b[0;34m\u001b[0m\n\u001b[0;32m----> 1\u001b[0;31m \u001b[0;32mfrom\u001b[0m \u001b[0mpattern\u001b[0m\u001b[0;34m.\u001b[0m\u001b[0men\u001b[0m \u001b[0;32mimport\u001b[0m \u001b[0mcomparative\u001b[0m\u001b[0;34m,\u001b[0m \u001b[0msuperlative\u001b[0m\u001b[0;34m\u001b[0m\u001b[0;34m\u001b[0m\u001b[0m\n\u001b[0m",
      "\u001b[0;31mModuleNotFoundError\u001b[0m: No module named 'pattern'"
     ]
    }
   ],
   "source": [
    "from pattern.en import comparative, superlative"
   ]
  }
 ],
 "metadata": {
  "kernelspec": {
   "display_name": "Python 3",
   "language": "python",
   "name": "python3"
  },
  "language_info": {
   "codemirror_mode": {
    "name": "ipython",
    "version": 3
   },
   "file_extension": ".py",
   "mimetype": "text/x-python",
   "name": "python",
   "nbconvert_exporter": "python",
   "pygments_lexer": "ipython3",
   "version": "3.7.4"
  }
 },
 "nbformat": 4,
 "nbformat_minor": 2
}
