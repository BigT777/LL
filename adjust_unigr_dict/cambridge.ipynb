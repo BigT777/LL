{
 "cells": [
  {
   "cell_type": "code",
   "execution_count": 3,
   "metadata": {},
   "outputs": [
    {
     "name": "stdout",
     "output_type": "stream",
     "text": [
      "Collecting API\n",
      "  Downloading https://files.pythonhosted.org/packages/6a/e0/6b3451133002547c198c89af9a71577b186086a010afe709613c99d1b3dd/api-0.0.7.tar.gz\n",
      "Requirement already satisfied: requests in /Users/lilyakhoang/anaconda3/lib/python3.7/site-packages (from API) (2.19.1)\n",
      "Requirement already satisfied: nose in /Users/lilyakhoang/anaconda3/lib/python3.7/site-packages (from API) (1.3.7)\n",
      "Requirement already satisfied: chardet<3.1.0,>=3.0.2 in /Users/lilyakhoang/anaconda3/lib/python3.7/site-packages (from requests->API) (3.0.4)\n",
      "Requirement already satisfied: idna<2.8,>=2.5 in /Users/lilyakhoang/anaconda3/lib/python3.7/site-packages (from requests->API) (2.7)\n",
      "Requirement already satisfied: urllib3<1.24,>=1.21.1 in /Users/lilyakhoang/anaconda3/lib/python3.7/site-packages (from requests->API) (1.23)\n",
      "Requirement already satisfied: certifi>=2017.4.17 in /Users/lilyakhoang/anaconda3/lib/python3.7/site-packages (from requests->API) (2018.8.24)\n",
      "Building wheels for collected packages: API\n",
      "  Building wheel for API (setup.py) ... \u001b[?25ldone\n",
      "\u001b[?25h  Stored in directory: /Users/lilyakhoang/Library/Caches/pip/wheels/8e/b3/13/6fb6612d6dd2d4bc2dfa783e9be7554e7c2f276912d3cb850e\n",
      "Successfully built API\n",
      "Installing collected packages: API\n",
      "Successfully installed API-0.0.7\n",
      "\u001b[33mWARNING: You are using pip version 19.1.1, however version 19.2.2 is available.\n",
      "You should consider upgrading via the 'pip install --upgrade pip' command.\u001b[0m\n"
     ]
    }
   ],
   "source": [
    "!pip3 install API"
   ]
  },
  {
   "cell_type": "code",
   "execution_count": 4,
   "metadata": {},
   "outputs": [
    {
     "ename": "ModuleNotFoundError",
     "evalue": "No module named 'API'",
     "output_type": "error",
     "traceback": [
      "\u001b[0;31m---------------------------------------------------------------------------\u001b[0m",
      "\u001b[0;31mModuleNotFoundError\u001b[0m                       Traceback (most recent call last)",
      "\u001b[0;32m<ipython-input-4-c5ac3ae70179>\u001b[0m in \u001b[0;36m<module>\u001b[0;34m()\u001b[0m\n\u001b[0;32m----> 1\u001b[0;31m \u001b[0;32mimport\u001b[0m \u001b[0mAPI\u001b[0m\u001b[0;34m\u001b[0m\u001b[0m\n\u001b[0m",
      "\u001b[0;31mModuleNotFoundError\u001b[0m: No module named 'API'"
     ]
    }
   ],
   "source": [
    "import API"
   ]
  }
 ],
 "metadata": {
  "kernelspec": {
   "display_name": "Python 3",
   "language": "python",
   "name": "python3"
  },
  "language_info": {
   "codemirror_mode": {
    "name": "ipython",
    "version": 3
   },
   "file_extension": ".py",
   "mimetype": "text/x-python",
   "name": "python",
   "nbconvert_exporter": "python",
   "pygments_lexer": "ipython3",
   "version": "3.7.0"
  }
 },
 "nbformat": 4,
 "nbformat_minor": 2
}
