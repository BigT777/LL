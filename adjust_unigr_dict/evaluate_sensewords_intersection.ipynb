{
 "cells": [
  {
   "cell_type": "code",
   "execution_count": 1,
   "metadata": {},
   "outputs": [],
   "source": [
    "import json\n",
    "import pandas as pd\n",
    "import numpy as np"
   ]
  },
  {
   "cell_type": "code",
   "execution_count": 3,
   "metadata": {},
   "outputs": [],
   "source": [
    "with open(\"oxford_sensewords.json\", \"r\") as f:\n",
    "    oxford_sensewords = json.load(f)"
   ]
  },
  {
   "cell_type": "code",
   "execution_count": 4,
   "metadata": {},
   "outputs": [],
   "source": [
    "with open(\"oxford_sensewords_meta.json\", \"r\") as f:\n",
    "    oxford_sensewords_meta = json.load(f)"
   ]
  },
  {
   "cell_type": "code",
   "execution_count": 5,
   "metadata": {},
   "outputs": [
    {
     "data": {
      "text/plain": [
       "(200, 200)"
      ]
     },
     "execution_count": 5,
     "metadata": {},
     "output_type": "execute_result"
    }
   ],
   "source": [
    "len(list(oxford_sensewords.keys())), len(list(oxford_sensewords_meta.keys()))"
   ]
  },
  {
   "cell_type": "code",
   "execution_count": 6,
   "metadata": {},
   "outputs": [
    {
     "data": {
      "text/plain": [
       "1010"
      ]
     },
     "execution_count": 6,
     "metadata": {},
     "output_type": "execute_result"
    }
   ],
   "source": [
    "overall_words = 0 \n",
    "for key in oxford_sensewords.keys():\n",
    "    overall_words += len(oxford_sensewords[key])\n",
    "overall_words"
   ]
  },
  {
   "cell_type": "code",
   "execution_count": 7,
   "metadata": {},
   "outputs": [
    {
     "data": {
      "text/plain": [
       "1010"
      ]
     },
     "execution_count": 7,
     "metadata": {},
     "output_type": "execute_result"
    }
   ],
   "source": [
    "overall_words = 0 \n",
    "for key in oxford_sensewords_meta.keys():\n",
    "    overall_words += len(oxford_sensewords_meta[key])\n",
    "overall_words"
   ]
  },
  {
   "cell_type": "code",
   "execution_count": 8,
   "metadata": {},
   "outputs": [
    {
     "data": {
      "text/plain": [
       "['mot', 'bruit [masculine] qui court', 'parole', 'formuler', 'nouvelles']"
      ]
     },
     "execution_count": 8,
     "metadata": {},
     "output_type": "execute_result"
    }
   ],
   "source": [
    "oxford_sensewords['word']"
   ]
  },
  {
   "cell_type": "code",
   "execution_count": 9,
   "metadata": {},
   "outputs": [
    {
     "data": {
      "text/plain": [
       "['mot', 'bruit [masculine] qui court', 'parole', 'formuler', 'nouvelles']"
      ]
     },
     "execution_count": 9,
     "metadata": {},
     "output_type": "execute_result"
    }
   ],
   "source": [
    "oxford_sensewords_meta['word']"
   ]
  },
  {
   "cell_type": "code",
   "execution_count": 10,
   "metadata": {},
   "outputs": [
    {
     "data": {
      "text/html": [
       "<div>\n",
       "<style scoped>\n",
       "    .dataframe tbody tr th:only-of-type {\n",
       "        vertical-align: middle;\n",
       "    }\n",
       "\n",
       "    .dataframe tbody tr th {\n",
       "        vertical-align: top;\n",
       "    }\n",
       "\n",
       "    .dataframe thead th {\n",
       "        text-align: right;\n",
       "    }\n",
       "</style>\n",
       "<table border=\"1\" class=\"dataframe\">\n",
       "  <thead>\n",
       "    <tr style=\"text-align: right;\">\n",
       "      <th></th>\n",
       "      <th>Unnamed: 0</th>\n",
       "      <th>word</th>\n",
       "      <th>local_word</th>\n",
       "      <th>examples</th>\n",
       "      <th>local_examples</th>\n",
       "    </tr>\n",
       "  </thead>\n",
       "  <tbody>\n",
       "    <tr>\n",
       "      <th>0</th>\n",
       "      <td>0</td>\n",
       "      <td>for</td>\n",
       "      <td>pour</td>\n",
       "      <td>['for the bank', 'for last month', 'for one ye...</td>\n",
       "      <td>['pour la banque', 'pour le mois dernier', 'pe...</td>\n",
       "    </tr>\n",
       "    <tr>\n",
       "      <th>1</th>\n",
       "      <td>1</td>\n",
       "      <td>for</td>\n",
       "      <td>pour</td>\n",
       "      <td>['for god']</td>\n",
       "      <td>['pour dieu']</td>\n",
       "    </tr>\n",
       "    <tr>\n",
       "      <th>2</th>\n",
       "      <td>2</td>\n",
       "      <td>for</td>\n",
       "      <td>au cours de</td>\n",
       "      <td>[]</td>\n",
       "      <td>[]</td>\n",
       "    </tr>\n",
       "    <tr>\n",
       "      <th>3</th>\n",
       "      <td>3</td>\n",
       "      <td>for</td>\n",
       "      <td>à l'égard de</td>\n",
       "      <td>[]</td>\n",
       "      <td>[]</td>\n",
       "    </tr>\n",
       "    <tr>\n",
       "      <th>4</th>\n",
       "      <td>4</td>\n",
       "      <td>for</td>\n",
       "      <td>à des fins</td>\n",
       "      <td>[]</td>\n",
       "      <td>[]</td>\n",
       "    </tr>\n",
       "  </tbody>\n",
       "</table>\n",
       "</div>"
      ],
      "text/plain": [
       "   Unnamed: 0 word    local_word  \\\n",
       "0           0  for          pour   \n",
       "1           1  for          pour   \n",
       "2           2  for   au cours de   \n",
       "3           3  for  à l'égard de   \n",
       "4           4  for    à des fins   \n",
       "\n",
       "                                            examples  \\\n",
       "0  ['for the bank', 'for last month', 'for one ye...   \n",
       "1                                        ['for god']   \n",
       "2                                                 []   \n",
       "3                                                 []   \n",
       "4                                                 []   \n",
       "\n",
       "                                      local_examples  \n",
       "0  ['pour la banque', 'pour le mois dernier', 'pe...  \n",
       "1                                      ['pour dieu']  \n",
       "2                                                 []  \n",
       "3                                                 []  \n",
       "4                                                 []  "
      ]
     },
     "execution_count": 10,
     "metadata": {},
     "output_type": "execute_result"
    }
   ],
   "source": [
    "df = pd.read_csv(\"naive_transaltion_en_ru_fr_LEMMAS_WHOLE_LIST.csv\")\n",
    "df.head()"
   ]
  },
  {
   "cell_type": "code",
   "execution_count": 24,
   "metadata": {},
   "outputs": [],
   "source": [
    "yandex_naive_sensewords = {}\n",
    "for ind in range(len(df)):\n",
    "    df_el = list(df.iloc[ind])\n",
    "    #print(list(df.iloc[ind]))\n",
    "    #print(df_el[1],df_el[2])\n",
    "    if df_el[1] in yandex_naive_sensewords:\n",
    "        yandex_naive_sensewords[df_el[1].lower()].append(df_el[2].lower())\n",
    "    else:\n",
    "        yandex_naive_sensewords[df_el[1].lower()] = []\n",
    "        yandex_naive_sensewords[df_el[1].lower()].append(df_el[2].lower())\n",
    "    "
   ]
  },
  {
   "cell_type": "code",
   "execution_count": 30,
   "metadata": {},
   "outputs": [
    {
     "data": {
      "text/plain": [
       "['amérique']"
      ]
     },
     "execution_count": 30,
     "metadata": {},
     "output_type": "execute_result"
    }
   ],
   "source": [
    "yandex_naive_sensewords['america']"
   ]
  },
  {
   "cell_type": "code",
   "execution_count": 28,
   "metadata": {},
   "outputs": [
    {
     "data": {
      "text/plain": [
       "[]"
      ]
     },
     "execution_count": 28,
     "metadata": {},
     "output_type": "execute_result"
    }
   ],
   "source": [
    "oxford_sensewords['America']"
   ]
  },
  {
   "cell_type": "code",
   "execution_count": 14,
   "metadata": {},
   "outputs": [
    {
     "name": "stdout",
     "output_type": "stream",
     "text": [
      "{'nouvelles', 'formuler', 'mot'} {'nouvelle', 'formuler', 'mot'}\n"
     ]
    },
    {
     "data": {
      "text/plain": [
       "0.6"
      ]
     },
     "execution_count": 14,
     "metadata": {},
     "output_type": "execute_result"
    }
   ],
   "source": [
    "def get_intersection(oxford_senses, compared_senses):\n",
    "    detected_words_oxford = []\n",
    "    detcted_words_compared = []\n",
    "    for ox_word in oxford_senses:\n",
    "        for comp_word in compared_senses:\n",
    "            if ox_word == comp_word or ox_word in comp_word or comp_word in ox_word:\n",
    "                detected_words_oxford.append(ox_word)\n",
    "                detcted_words_compared.append(comp_word)\n",
    "    oxford_set = set(oxford_senses)\n",
    "    compared_set = set(compared_senses)\n",
    "    intersect_oxford = oxford_set.intersection(set(detected_words_oxford))\n",
    "    if (len(set(oxford_senses))) == 0:\n",
    "        oxford_senses = ['dummy_word']\n",
    "    oxford_recall = len(intersect_oxford) / (len(set(oxford_senses)))\n",
    "    intersect_compared = compared_set.intersection(set(detcted_words_compared))\n",
    "    new_words_from_compare = (len(compared_set) - len(intersect_compared)) / (len(set(oxford_senses)))\n",
    "    print(intersect_oxford, intersect_compared)\n",
    "    return (oxford_recall + new_words_from_compare)/2\n",
    "\n",
    "get_intersection(oxford_sensewords['word'] ,yandex_naive_sensewords['word'])\n"
   ]
  },
  {
   "cell_type": "code",
   "execution_count": 32,
   "metadata": {},
   "outputs": [
    {
     "name": "stdout",
     "output_type": "stream",
     "text": [
      "{'nouvelles', 'formuler', 'mot'} {'nouvelle', 'formuler', 'mot'}\n",
      "{'le (before a consonant) / l’ (before a vowel)', 'les'} {'le'}\n",
      "{'et', '(et)', '(et même)'} {'et', 'donc et', 'et aussi', 'et en outre'}\n",
      "{'que', 'tellement', 'ce (before a consonant) / c’ (before a vowel)', 'que (before a consonant) / qu’ (before a vowel)', 'cette … (là)', 'cela / ça', 'ce (before a consonant) / cet (before a vowel)', 'qui', 'ce (before a consonant) / cet (before a vowel) … (là)', 'celui/celle-là', 'cette', 'comme…'} {'comme', 'que', 'afin que', 'ce', 'tel', 'qui'}\n",
      "{'car', 'pour'} {'car', 'pour'}\n",
      "{'de', '(avec)', 'avec'} {'en compagnie de', 'avec'}\n",
      "{'mais', 'sauf'} {'mais', 'sauf'}\n",
      "{'tu/toi/te', 'tu/vous', 'vous'} {'tu', 'vous'}\n",
      "{'cette … ci', 'ce (before a consonant) / cet (before a vowel)', 'ce (before a consonant…', 'ce (before a consonant) / cet (before a vowel) … (ci)', 'cette', 'ce (before a consonant) / cet (before a vowel) / cette'} {'ce'}\n",
      "{'ne … pas', 'n’est-ce pas', 'ne…pas', 'pas'} {'pas'}\n",
      "{'avoir', 'recevoir'} {'avoir', 'recevoir'}\n",
      "{'lettre'} {'écrire une lettre', 'lettre'}\n",
      "{'planche', 'plaque', 'assiette', 'plaque [feminine] d’immatriculation', 'plaque [feminine] minéralogique'} {'assiette', 'planchette', \"plaque d'immatriculation\", 'plaque'}\n",
      "{'faire plaisir', 'traiter', 'plaisir', 'traiter de'} {'traiter', 'plaisir', 'traiter de haut'}\n",
      "{'dîner'} {'dîner', 'dîner de gala'}\n",
      "{'nécessaire', 'inévitable'} {'nécessaire', 'inévitable'}\n",
      "{'aller aux toilettes', 'aller', 'aller…', 's’en aller', 'passer', 'se passer'} {'passer', 'aller', 'passer par'}\n",
      "{'secret/-ète', 'secret'} {'dans le secret', 'secret'}\n",
      "{'table', 'tableau'} {'de table', 'tableau', 'table', 'sur la table'}\n",
      "{'créer'} {'créer'}\n",
      "{'réchauffer', 'chaud/chaude', 'chaud', '(assez) chaud', 'qui donne chaud', '(se) réchauffer'} {'il fait chaud', 'réchauffer', 'chaud', 'se réchauffer'}\n",
      "set() set()\n",
      "set() set()\n",
      "{'entier', 'entier/-ière'} {'entier'}\n",
      "{'à/de mille (…)', 'mille'} {'mille dollars', 'mille'}\n",
      "set() set()\n",
      "{'tout', 'quelque chose; rien'} {\"c'est tout\", 'rien'}\n",
      "{'origines', 'fond', 'contexte', 'arrière-plan'} {'contexte', 'le mode arrière-plan', 'origine', \"l'image de fond\", 'toile de fond'}\n",
      "{'enfant'} {'enfant'}\n",
      "{'enfance'} {'enfance'}\n",
      "{'fiable'} {'fiable'}\n",
      "{'tout'} {\"c'est tout\"}\n",
      "{'petit-fils', 'petit-fils / petite-fille'} {'petit-fils'}\n",
      "{'ketchup'} {'ketchup'}\n",
      "{'pointe', 'sens', 'pointer', 'montrer/indiquer du doigt', 'indiquer', 'point'} {'sens', 'indiquer', 'montrer', 'point', 'point de vue'}\n",
      "{'puissance', 'force', 'résistance', 'effectif(s)'} {'puissance', 'effectif', 'force', 'résistance'}\n",
      "{'étoile', 'star', '(de) star'} {'étoile', 'star'}\n",
      "{'truc', 'objet', 'chose', 'créature'} {'truc', 'objet', 'chose', 'créature'}\n",
      "{'coïncider (avec)', 'coïncider'} {'coïncider'}\n",
      "set() set()\n",
      "{'de danse', 'bal', 'danse', 'danser'} {'la danse', 'de danse', 'bal', 'danser', 'danse'}\n",
      "{'campagne'} {'campagne'}\n",
      "{'briser', 'rompre…', '(inter)rompre', 'casser', 'interrompre', 'vacances', 'pause', 'faire une pause', 'éclater', '(se) casser'} {'briser', 'casser', 'vacance', 'pause', 'rompre', 'se briser', 'éclater'}\n",
      "{'mère'} {'mère', 'mémère'}\n",
      "{'commencer (à)', 'démarrer', 'commencer', '(faire) démarrer', 'débuter', 'début'} {'démarrer', 'commencer', 'début'}\n",
      "{'donner un pourboire à', 'pointe', 'incliner', 'donner un pourboire', 'conseil', 'pourboire'} {'pointe', 'conseils utiles', 'incliner', 'donner un pourboire', 'conseil', 'pourboire'}\n",
      "set() set()\n",
      "{'se faire que', 'en venir à', 'venir'} {'faire', 'venir'}\n",
      "{'programme (des études)', 'programme [masculine] scolaire'} {'programme'}\n",
      "{'expertise', 'compétence', 'compétences'} {'expertise', \"d'expertise\", 'expert', 'compétence'}\n",
      "{'(faire) geler', 'congeler', 'geler (des crédits', 'être gelé/-ée', 'geler', 'gel', 'gelée', 'se figer', 'blocage'} {'geler', 'gel', 'se geler', 'se figer', 'blocage'}\n",
      "{'question'} {'question'}\n",
      "set() set()\n",
      "{'parent', 'père (ou) mère'} {'parent', \"l'un des parents\", 'mère', 'parental', 'élément parent', 'père'}\n",
      "{'membre', 'député'} {'de membre', 'membre', \"membre de l'organisation\", 'député'}\n",
      "{'orchestre', 'bande', 'groupe'} {'groupe musical', 'band', 'orchestre'}\n",
      "{'ordre', 'ordonner', 'commander', 'commande'} {'ordre', 'ordonner', 'commander', 'commande'}\n",
      "{'chaud/chaude', 'chaud', 'brûlant/-ante'} {'il fait chaud', 'brûlant', 'chaud', \"c'est chaud\"}\n",
      "{'mouche (artificielle)', 'voler', 'mouche'} {'vol', \"s'envoler\", 'voler', 'mouche'}\n",
      "{'se trouver', 'mentir', 'mensonge'} {'se trouver', 'mentir', 'mensonge'}\n",
      "{'choisir', 'sélect', 'choisi', 'sélectionner'} {'sélection', 'choisi', 'choisir'}\n",
      "{'école', 'cours', 'faculté'} {\"cours à l'école\", 'école', 'faculté'}\n",
      "{'café'} {'café', 'café-restaurant'}\n",
      "{'acheter'} {'acheter'}\n",
      "{'demander (de)', 'distinguer', 'se faire sentir', 'dire', 'indiquer', 'raconter'} {'se dire', 'distinguer', 'faire', 'dire', 'indiquer', 'demander', 'raconter'}\n",
      "{'international/-ale', 'international'} {\"l'internationale\", 'international'}\n",
      "{'être', 'résister à', 'position', 'être debout', 'stand', 'en être', 'être candidat (à)', 'rester'} {'être', 'position', 'stand', 'résister', 'rester'}\n",
      "{'poisson', 'pêcher'} {'poisson', 'pêche', 'de poisson', 'pêcher'}\n",
      "{'avantage', 'allocation'} {'apporter des avantages', 'avantage', 'allocation', 'avantageux'}\n",
      "{'intelligent/-ente', 'intelligent'} {'intelligent'}\n",
      "{'suivre'} {'suivre', 'suivant à suivre'}\n",
      "{'voyage', 'voyager'} {'voyage', 'voyager'}\n",
      "{'nouvelles', '(de) nouvelles'} {'nouvelle', \"l'émission de nouvelles\"}\n",
      "{'écrire'} {'écrire'}\n",
      "{'approbation'} {'approbation'}\n",
      "{'faire la lecture', 'dire', 'lire', 'faire la lecture à', 'lecture', 'se lire'} {'dire', 'lecture', 'lire', 'donner lecture de'}\n",
      "{'apprendre', 'entendre (dire)', 'entendre (parler de)', 'entendre'} {'apprendre', 'entendre'}\n",
      "{'éprouver', 'ressentir', '(se) sentir', 'sentir', 'palper', 'se sentir', 'croire', 'produire une sensation'} {'sentir', 'palper', 'éprouver', 'croire', 'sensation'}\n",
      "{'être', 'aller'} {'être', 'aller'}\n",
      "{'droit', 'correctement', 'à droite', 'droit/droite', 'droite', 'bon'} {'droit', 'correctement', 'bon droit', 'à droite', 'droite'}\n",
      "{'gourou'} {'gourou'}\n",
      "{'débutant/-ante'} {'débutant'}\n",
      "{'heurter', 'se heurter'} {'se heurter'}\n",
      "{'génétiquement'} {'génétique', 'génétiquement'}\n",
      "{'précédent'} {'précédent'}\n",
      "{'réfugié/-ée', '(de) réfugié/-ée'} {'réfugié'}\n",
      "{'laïque'} {'laïque'}\n",
      "{'pâtes', 'pâtes (always plural)'} {'pâte', 'plats de pâtes'}\n",
      "{'castor'} {'castor', 'de castor'}\n",
      "set() set()\n",
      "{'lion', 'lionne'} {'lion', 'de lion'}\n",
      "{'enclos'} {'enclos'}\n",
      "{'noix [feminine] de coco', 'noix de coco'} {'coco', 'de coco', 'pulpe de noix de coco'}\n",
      "{'dynamite'} {'de dynamite', 'vérificateur de dynamite', 'dynamite'}\n",
      "{'nourrir à la cuillère', 'cuiller/cuillère', 'cuillère'} {'cuillère', \"écoper d'une cuillère\"}\n",
      "{'océan'} {'océan', 'océanique', \"le fond de l'océan\"}\n",
      "{'grande tasse [feminine]', 'tasse'} {'tasse'}\n",
      "{'shampooing', 'faire un shampooing à', 'faire un shampoing'} {'shampooing', 'shampoing'}\n",
      "set() set()\n",
      "set() set()\n",
      "set() set()\n",
      "set() set()\n",
      "{'typhus'} {'typhus'}\n",
      "{'ravioli'} {'ravioli'}\n",
      "{'rencontre', 'rendez-vous'} {'rencontre', 'rendez-vous'}\n",
      "{'en fait'} {'en fait,'}\n",
      "set() set()\n",
      "{'ajouter', 'ajouter (à)'} {\"s'ajouter\", 'ajouter'}\n",
      "{'adjectif'} {'adjectif'}\n",
      "{'dessin'} {'dessin', 'dessinateur', 'à dessin', 'dessiné'}\n",
      "{'rêverie', 'rêve', 'rêver', 'de rêve', 'rêver (de/que)'} {'rêve', 'rêver'}\n",
      "{'habillé/-ée', 'vêtu/-ue', 'habillé'} {'vêtu', 'habillé'}\n",
      "{'conduite'} {'conduite'}\n",
      "{'tambouriner', 'battre du tambour', 'tympan', 'tonneau', 'tambour'} {'tambouriner', 'tympan', 'tambourin', 'tonneau', 'tambour'}\n",
      "{'essuyer', 'sec/sèche', 'sec', 'sécher'} {'essuyer', 'sécher', 'un peu sec', 'sec', 'à sec', 'sécheresse'}\n",
      "{'se baisser vivement', 'cane', 'plonger (dans l’eau)', 'se baisser (brusquement)', 'canard'} {'plonger', 'caneton', 'se baisser', 'de canard', 'canard'}\n",
      "{'avancé', 'de pointe', 'avancé/-ée'} {'avancé', 'de pointe'}\n",
      "{'durant', 'au cours de'} {'durant', 'au cours de'}\n",
      "{'rapporter', 'mériter', 'gagner (sa vie)', 'gagner'} {'apporter', 'mériter', 'pas mal de gagner', 'gagner'}\n",
      "{'au singulier', 'singulier'} {'singulier'}\n",
      "{'facilement'} {'facile'}\n",
      "{'est'} {\"à l'est\"}\n",
      "{'huitième', 'huit'} {'huitième', 'huitième partie', 'un huitième'}\n",
      "{'aventure'} {\"soif d'aventure\", 'aventure', \"d'aventure\"}\n",
      "{'quatre-vingts', 'quatre-vingts ans', 'de quatre-vingts (…)'} {'quatre-vingts', 'quatre-vingts ans'}\n",
      "{'adverbe'} {'adverbe'}\n",
      "{'électrique'} {'électrique', 'mesure électrique', 'installation électrique'}\n",
      "{'annonce', 'publicité'} {'annonce', 'publicité'}\n",
      "{'siècle'} {'siècle'}\n",
      "{'taille', 'dimension(s)', 'grosseur'} {'taille', 'grosseur', 'dimens'}\n",
      "{'électricité'} {'électricité'}\n",
      "{'éléphant'} {'éléphant', 'éléphants', \"d'éléphant\"}\n",
      "{'autre', 'd’autre', '(d’)autre'} {'autre'}\n",
      "{'(se) vider', 'vide', 'verser', 'vide (de)', 'bouteille vide'} {'à vide', 'vide', 'vider', 'verser', 'se vider', 'vides'}\n",
      "{'moteur', 'locomotive'} {'moteur', 'locomotive'}\n",
      "{'ingénieur', 'ingénieur civil', 'ingénieur/-eure', 'ingénieure civile'} {'travailler comme ingénieur', \"d'ingénieur\", 'ingénieur du son', 'ingénieur', 'génie'}\n",
      "{'assez', 'assez de'} {'assez', 'assez nombreux'}\n",
      "{'entrer en service', 'entrer', 'entrer dans', 'entrer (dans)'} {'entrer'}\n",
      "{'entrée'} {\"d'entrée\", 'entrée', 'contrôle des entrées', \"porte d'entrée\"}\n",
      "{'conseils', 'avis', 'conseil(s)'} {'aviso', 'avis consultatif', 'conseil'}\n",
      "{'avion'} {'avion'}\n",
      "{'enveloppe'} {'enveloppe'}\n",
      "{'particulièrement'} {'particulièrement'}\n",
      "{'euro'} {'euro', 'européen'}\n",
      "{'même', 'pair/paire', 'pair'} {'même', 'pair'}\n",
      "{'effrayé', 'qui a peur', 'peur', 'effrayé/-ée'} {'effrayé', 'peur'}\n",
      "{'après'} {'après'}\n",
      "set() set()\n",
      "{'à l’encontre de', 'contre', 'par rapport à'} {'par rapport', 'contre'}\n",
      "{'partout'} {'partout', 'partout dans le monde'}\n",
      "{'âgé de', 'âgé/-ée de', 'âgé'} {'âgé'}\n",
      "set() set()\n",
      "{'tout juste', 'exactement'} {'juste', 'exactement'}\n",
      "{'examen'} {'examen', \"d'examen\"}\n",
      "{'inspection', 'examen', 'interrogatoire'} {'examen', \"l'organisation des examens\", 'inspection', \"session d'examens\", \"d'examen\", 'interrogatoire'}\n",
      "{'excellent', 'excellent/-ente'} {'excellent'}\n",
      "{'sauf (que)', 'sauf', 'excepté'} {'sauf que', 'sauf', 'excepté', 'sauf dans ces cas'}\n",
      "{'exercer', 'faire de l’exercice', 'exercice'} {'exercer', \"faire de l'exercice\", 'exercice', \"effectuer l'exercice\"}\n",
      "{'sortir', 'sortie'} {'de sortie', 'sortir', 'sortie'}\n",
      "{'expliquer'} {'expliquer', \"s'expliquer\"}\n",
      "{'supplémentaire', 'extra', 'supplément'} {'supplémentaire', 'extra', 'supplément'}\n",
      "{'fait', 'faits'} {'fait'}\n",
      "{'échouer (à)', 'ne pas réussir', 'tomber en panne', 'manquer (à)', 'manquer', 'échouer'} {'tomber en panne', 'manquer', 'ne pas réussir', 'échouer'}\n",
      "{'équitablement', 'considérable', 'salon', 'équitable', 'blond', 'blond/blonde'} {'équitablement', 'considérable', 'salon', 'équitable', 'blond'}\n",
      "{'tomber', 'baisse', 'chute', 'automne', 'baisser'} {'tomber', \"d'automne\", 'chute', 'automne', 'baisser'}\n",
      "{'consentir'} {'consentir'}\n",
      "{'air(s)', 'air', 'aérer', 'avion', 'diffuser'} {'aérer', 'avion', 'diffuser', 'air'}\n",
      "{'aéroport'} {'aéroportuaire', 'aéroport'}\n",
      "{'éventail', '(s’)éventer', 'ventilateur', 'éventer', 'fan'} {'ventilateur', 'fan', 'éventer', 'en éventail', 'fanatique'}\n",
      "{'fantastique'} {'fantastique', 'juste fantastique', 'fantastiquement'}\n",
      "{'lointain/-aine', 'loin', 'lointain', 'plus loin', 'beaucoup'} {'loin', 'loin de', 'beaucoup', 'lointain'}\n",
      "{'fermier', 'éleveur/-euse', 'fermier/-ière', 'ière', 'agriculteur/-trice'} {'fermier', 'les fermiers', 'éleveur', 'agriculteur', 'fermière'}\n",
      "{'façon', '(de) mode', 'mode'} {'façon', 'façonner', 'tendance de la mode', 'mode', 'à la mode'}\n",
      "{'assez'} {'assez', 'assez bon'}\n",
      "{'réveil', 'alarmer', 'réveil(-matin)', 'alarme'} {'alarme', 'alarmer', 'réveil'}\n",
      "{'album'} {\"d'album\", 'album'}\n",
      "{'alcool'} {'alcool', \"consommation d'alcool\", 'alcoolisme', 'boisson alcoolisé'}\n",
      "{'presque'} {'presque'}\n",
      "{'seul', 'seul/seule', '(le) seul'} {'seulement', 'seul'}\n",
      "{'domaine', 'champ', 'terrain', 'gisement'} {'des champs', 'sur le terrain', 'champ', 'domaine', 'gisement'}\n",
      "{'cinquième'} {'cinquième partie', 'cinquième'}\n",
      "{'cinquante ans', 'de cinquante (…)', 'cinquante'} {'cinquante', 'cinquante personnes'}\n",
      "{'lime', 'classeur', 'fichier', 'limer', '(se) limer', 'dossier'} {'lime', 'alimentation', 'classeur', 'gestionnaire de fichiers', 'dossier'}\n",
      "{'(se) remplir', 'remplir'} {'remplir'}\n",
      "{'final/-ale', 'dernier/-ière', 'final', 'finale', 'dernier'} {'final', 'dernier'}\n",
      "set() set()\n",
      "{'doigt'} {'doigt de pointage', 'de doigt', 'doigt'}\n",
      "{'faire feu', 'incendie', 'tirer', 'licencier', 'feu [masculine]', 'tirer (sur)', 'feu', '(essuyer le) feu'} {'de feu', 'tir', 'tirer', 'licencier', \"contre l'incendie\", 'incendier', 'feu'}\n",
      "{'pêche'} {'pêche', 'de pêche', 'pêcheur'}\n",
      "{'(faire) entrer', 'convenir à', 'installer', 'caser', '(bon) ajustement', 'correspondre à'} {'installer', 'entrer', 'caser', 'convenir', 'correspondre à', 'ajustement'}\n",
      "{'volée', 'vol'} {'vol', 'voler', 'survol'}\n",
      "{'le long de', 'avec', 'quelque part', 'en avant (avec)'} {'en avant', 'le long de', 'par', 'avec moi'}\n",
      "{'chambre'} {'chambre à coucher'}\n",
      "{'bière'} {'bière', 'variété de bière', 'de bière'}\n",
      "{'avant', 'devant', 'avant (de/que)', 'avant que', 'auparavant', 'avant de'} {'avant', 'devant', 'en avant de', 'auparavant', \"avant l'offensive\"}\n",
      "{'commencer', 'commencer (à)'} {'commencer'}\n",
      "{'derrière soi', 'en arrière', 'derrière'} {'derrière', 'derrière le dos', 'par derrière', 'en arrière'}\n",
      "{'en bas', 'plus bas', 'sous', 'en dessous de', 'au-dessous de', 'au-dessous', 'ci-dessous', 'plus/en bas'} {'sous', 'en bas', 'plus bas'}\n",
      "{'meilleur/-eure', 'le mieux', 'le/la meilleur/-eure', 'le plus'} {'le mieux', 'meilleur', 'le plus haut'}\n",
      "set() set()\n"
     ]
    }
   ],
   "source": [
    "def sense_words_dicts_comparison(oxford, comparison_dict):\n",
    "    word = []\n",
    "    oxford_sensewords = []\n",
    "    compared_sensewords = []\n",
    "    comparison_value = []\n",
    "    for ox_key in oxford.keys(): \n",
    "        word.append(ox_key)\n",
    "        oxford_sensewords.append(oxford[ox_key])\n",
    "        compared_sensewords.append(comparison_dict[ox_key.lower()])\n",
    "        #print (ox_key, oxford[ox_key],comparison_dict[ox_key])\n",
    "        #print()\n",
    "        comp_res = get_intersection(oxford[ox_key],comparison_dict[ox_key.lower()])\n",
    "        comparison_value.append(comp_res)\n",
    "    data = pd.DataFrame(list(zip(word,oxford_sensewords,compared_sensewords, comparison_value)),columns =['word', 'oxford_sensewords', 'compared_sensewords','comparison_value'])\n",
    "    return data\n",
    "comp_df = sense_words_dicts_comparison(oxford_sensewords_meta ,yandex_naive_sensewords)        \n",
    "        "
   ]
  },
  {
   "cell_type": "code",
   "execution_count": 33,
   "metadata": {},
   "outputs": [
    {
     "data": {
      "text/html": [
       "<div>\n",
       "<style scoped>\n",
       "    .dataframe tbody tr th:only-of-type {\n",
       "        vertical-align: middle;\n",
       "    }\n",
       "\n",
       "    .dataframe tbody tr th {\n",
       "        vertical-align: top;\n",
       "    }\n",
       "\n",
       "    .dataframe thead th {\n",
       "        text-align: right;\n",
       "    }\n",
       "</style>\n",
       "<table border=\"1\" class=\"dataframe\">\n",
       "  <thead>\n",
       "    <tr style=\"text-align: right;\">\n",
       "      <th></th>\n",
       "      <th>word</th>\n",
       "      <th>oxford_sensewords</th>\n",
       "      <th>compared_sensewords</th>\n",
       "      <th>comparison_value</th>\n",
       "    </tr>\n",
       "  </thead>\n",
       "  <tbody>\n",
       "    <tr>\n",
       "      <th>0</th>\n",
       "      <td>word</td>\n",
       "      <td>[mot, bruit [masculine] qui court, parole, for...</td>\n",
       "      <td>[mot, nouvelle, mot, dire, formuler, textuel, ...</td>\n",
       "      <td>0.600000</td>\n",
       "    </tr>\n",
       "    <tr>\n",
       "      <th>1</th>\n",
       "      <td>the</td>\n",
       "      <td>[les, la (before a consonant) / l’…, le (befor...</td>\n",
       "      <td>[ce, le, le, tant]</td>\n",
       "      <td>0.500000</td>\n",
       "    </tr>\n",
       "    <tr>\n",
       "      <th>2</th>\n",
       "      <td>and</td>\n",
       "      <td>[(et), (indique une intention ou un but), plus...</td>\n",
       "      <td>[et, et aussi, et en outre, donc et, avec]</td>\n",
       "      <td>0.333333</td>\n",
       "    </tr>\n",
       "    <tr>\n",
       "      <th>3</th>\n",
       "      <td>that</td>\n",
       "      <td>[que (before a consonant) / qu’ (before a vowe...</td>\n",
       "      <td>[que, comme, afin que, qui, ce, propre, donc, ...</td>\n",
       "      <td>0.538462</td>\n",
       "    </tr>\n",
       "    <tr>\n",
       "      <th>4</th>\n",
       "      <td>for</td>\n",
       "      <td>[en, en faveur de, malgré, pour, en raison de,...</td>\n",
       "      <td>[pour, pour, au cours de, à l'égard de, à des ...</td>\n",
       "      <td>0.312500</td>\n",
       "    </tr>\n",
       "    <tr>\n",
       "      <th>5</th>\n",
       "      <td>with</td>\n",
       "      <td>[(avec), contre, pour, en + verbe au participe...</td>\n",
       "      <td>[avec, et en outre, en compagnie de]</td>\n",
       "      <td>0.222222</td>\n",
       "    </tr>\n",
       "    <tr>\n",
       "      <th>6</th>\n",
       "      <td>but</td>\n",
       "      <td>[mais, excepté, sauf]</td>\n",
       "      <td>[mais, et, cependant, seulement, sauf]</td>\n",
       "      <td>0.833333</td>\n",
       "    </tr>\n",
       "    <tr>\n",
       "      <th>7</th>\n",
       "      <td>you</td>\n",
       "      <td>[tu/toi/te, espèce de, on, tu/vous, vous]</td>\n",
       "      <td>[vous, tu]</td>\n",
       "      <td>0.300000</td>\n",
       "    </tr>\n",
       "    <tr>\n",
       "      <th>8</th>\n",
       "      <td>this</td>\n",
       "      <td>[cette, ce (before a consonant) / cet (before ...</td>\n",
       "      <td>[ce, ce, actuel, ce, donc]</td>\n",
       "      <td>0.500000</td>\n",
       "    </tr>\n",
       "    <tr>\n",
       "      <th>9</th>\n",
       "      <td>not</td>\n",
       "      <td>[ne…pas, pas, non, ne … pas, n’est-ce pas]</td>\n",
       "      <td>[pas, pas]</td>\n",
       "      <td>0.400000</td>\n",
       "    </tr>\n",
       "    <tr>\n",
       "      <th>10</th>\n",
       "      <td>have</td>\n",
       "      <td>[manger, recevoir, faire, avoir, être, prendre...</td>\n",
       "      <td>[avoir, posséder, recevoir, éprouver, tenir, t...</td>\n",
       "      <td>0.545455</td>\n",
       "    </tr>\n",
       "    <tr>\n",
       "      <th>11</th>\n",
       "      <td>letter</td>\n",
       "      <td>[lettre]</td>\n",
       "      <td>[lettre, lettre, diplôme, caractères, littéral...</td>\n",
       "      <td>3.000000</td>\n",
       "    </tr>\n",
       "    <tr>\n",
       "      <th>12</th>\n",
       "      <td>plate</td>\n",
       "      <td>[assiette, plaque [feminine] d’immatriculation...</td>\n",
       "      <td>[plaque, cuisinière, assiette, feuille, plaque...</td>\n",
       "      <td>1.071429</td>\n",
       "    </tr>\n",
       "    <tr>\n",
       "      <th>13</th>\n",
       "      <td>treat</td>\n",
       "      <td>[gâterie, plaisir, soigner, faire plaisir, abo...</td>\n",
       "      <td>[considérer, se tourner, traiter, traiter, tra...</td>\n",
       "      <td>0.500000</td>\n",
       "    </tr>\n",
       "    <tr>\n",
       "      <th>14</th>\n",
       "      <td>dinner</td>\n",
       "      <td>[de soirée, banquet, dîner]</td>\n",
       "      <td>[dîner, dîner de gala, de repas, prié]</td>\n",
       "      <td>0.500000</td>\n",
       "    </tr>\n",
       "    <tr>\n",
       "      <th>15</th>\n",
       "      <td>necessary</td>\n",
       "      <td>[inévitable, nécessaire]</td>\n",
       "      <td>[nécessaire, inévitable, nécessaire, requis, i...</td>\n",
       "      <td>1.250000</td>\n",
       "    </tr>\n",
       "    <tr>\n",
       "      <th>16</th>\n",
       "      <td>go</td>\n",
       "      <td>[cesser, partir, s’en aller, mener, tenir, dev...</td>\n",
       "      <td>[aller, passer par, aller, aller, passer, surv...</td>\n",
       "      <td>0.159091</td>\n",
       "    </tr>\n",
       "    <tr>\n",
       "      <th>17</th>\n",
       "      <td>secret</td>\n",
       "      <td>[secret, secret/-ète]</td>\n",
       "      <td>[secret, secret, secret, secret, tacite, sourn...</td>\n",
       "      <td>2.250000</td>\n",
       "    </tr>\n",
       "    <tr>\n",
       "      <th>18</th>\n",
       "      <td>table</td>\n",
       "      <td>[tablée, table, tableau]</td>\n",
       "      <td>[tableau, bureau, table, horaire, livret scola...</td>\n",
       "      <td>1.333333</td>\n",
       "    </tr>\n",
       "    <tr>\n",
       "      <th>19</th>\n",
       "      <td>create</td>\n",
       "      <td>[créer, nommer, produire, être promu]</td>\n",
       "      <td>[créer, engendrer, provoquer, fabriquer, dével...</td>\n",
       "      <td>0.750000</td>\n",
       "    </tr>\n",
       "  </tbody>\n",
       "</table>\n",
       "</div>"
      ],
      "text/plain": [
       "         word                                  oxford_sensewords  \\\n",
       "0        word  [mot, bruit [masculine] qui court, parole, for...   \n",
       "1         the  [les, la (before a consonant) / l’…, le (befor...   \n",
       "2         and  [(et), (indique une intention ou un but), plus...   \n",
       "3        that  [que (before a consonant) / qu’ (before a vowe...   \n",
       "4         for  [en, en faveur de, malgré, pour, en raison de,...   \n",
       "5        with  [(avec), contre, pour, en + verbe au participe...   \n",
       "6         but                              [mais, excepté, sauf]   \n",
       "7         you          [tu/toi/te, espèce de, on, tu/vous, vous]   \n",
       "8        this  [cette, ce (before a consonant) / cet (before ...   \n",
       "9         not         [ne…pas, pas, non, ne … pas, n’est-ce pas]   \n",
       "10       have  [manger, recevoir, faire, avoir, être, prendre...   \n",
       "11     letter                                           [lettre]   \n",
       "12      plate  [assiette, plaque [feminine] d’immatriculation...   \n",
       "13      treat  [gâterie, plaisir, soigner, faire plaisir, abo...   \n",
       "14     dinner                        [de soirée, banquet, dîner]   \n",
       "15  necessary                           [inévitable, nécessaire]   \n",
       "16         go  [cesser, partir, s’en aller, mener, tenir, dev...   \n",
       "17     secret                              [secret, secret/-ète]   \n",
       "18      table                           [tablée, table, tableau]   \n",
       "19     create              [créer, nommer, produire, être promu]   \n",
       "\n",
       "                                  compared_sensewords  comparison_value  \n",
       "0   [mot, nouvelle, mot, dire, formuler, textuel, ...          0.600000  \n",
       "1                                  [ce, le, le, tant]          0.500000  \n",
       "2          [et, et aussi, et en outre, donc et, avec]          0.333333  \n",
       "3   [que, comme, afin que, qui, ce, propre, donc, ...          0.538462  \n",
       "4   [pour, pour, au cours de, à l'égard de, à des ...          0.312500  \n",
       "5                [avec, et en outre, en compagnie de]          0.222222  \n",
       "6              [mais, et, cependant, seulement, sauf]          0.833333  \n",
       "7                                          [vous, tu]          0.300000  \n",
       "8                          [ce, ce, actuel, ce, donc]          0.500000  \n",
       "9                                          [pas, pas]          0.400000  \n",
       "10  [avoir, posséder, recevoir, éprouver, tenir, t...          0.545455  \n",
       "11  [lettre, lettre, diplôme, caractères, littéral...          3.000000  \n",
       "12  [plaque, cuisinière, assiette, feuille, plaque...          1.071429  \n",
       "13  [considérer, se tourner, traiter, traiter, tra...          0.500000  \n",
       "14             [dîner, dîner de gala, de repas, prié]          0.500000  \n",
       "15  [nécessaire, inévitable, nécessaire, requis, i...          1.250000  \n",
       "16  [aller, passer par, aller, aller, passer, surv...          0.159091  \n",
       "17  [secret, secret, secret, secret, tacite, sourn...          2.250000  \n",
       "18  [tableau, bureau, table, horaire, livret scola...          1.333333  \n",
       "19  [créer, engendrer, provoquer, fabriquer, dével...          0.750000  "
      ]
     },
     "execution_count": 33,
     "metadata": {},
     "output_type": "execute_result"
    }
   ],
   "source": [
    "comp_df.head(20)"
   ]
  },
  {
   "cell_type": "code",
   "execution_count": 34,
   "metadata": {},
   "outputs": [],
   "source": [
    "comp_df.to_csv(\"yandexNaive_vs_cambridge_comparison_WHOLE_LIST.csv\")"
   ]
  },
  {
   "cell_type": "code",
   "execution_count": 35,
   "metadata": {},
   "outputs": [
    {
     "data": {
      "text/plain": [
       "(0.9171662376235585, 0.6666666666666666)"
      ]
     },
     "execution_count": 35,
     "metadata": {},
     "output_type": "execute_result"
    }
   ],
   "source": [
    "np.mean(list(comp_df['comparison_value'])), np.median(list(comp_df['comparison_value']))"
   ]
  }
 ],
 "metadata": {
  "kernelspec": {
   "display_name": "Python 3",
   "language": "python",
   "name": "python3"
  },
  "language_info": {
   "codemirror_mode": {
    "name": "ipython",
    "version": 3
   },
   "file_extension": ".py",
   "mimetype": "text/x-python",
   "name": "python",
   "nbconvert_exporter": "python",
   "pygments_lexer": "ipython3",
   "version": "3.7.4"
  }
 },
 "nbformat": 4,
 "nbformat_minor": 2
}
