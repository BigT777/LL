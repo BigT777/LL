{
 "cells": [
  {
   "cell_type": "code",
   "execution_count": 47,
   "metadata": {},
   "outputs": [],
   "source": [
    "import json\n",
    "import os\n",
    "import pandas as pd\n",
    "import requests\n",
    "from tqdm import tqdm\n",
    "import psycopg2\n",
    "import math"
   ]
  },
  {
   "cell_type": "code",
   "execution_count": 63,
   "metadata": {},
   "outputs": [],
   "source": [
    "conn = psycopg2.connect(dbname='pgstage', user='linguist', password='eDQGK0GCStlYlHNV', host='192.168.122.183')\n",
    "cursor = conn.cursor()\n"
   ]
  },
  {
   "cell_type": "code",
   "execution_count": 20,
   "metadata": {},
   "outputs": [],
   "source": [
    "word = []\n",
    "#definition = []\n",
    "local_word = []\n",
    "examples = []\n",
    "examples_local = []\n",
    "parent = \"./y_lookup/en_ru/\"\n",
    "for file in os.listdir(parent):\n",
    "    with open(os.path.join(parent,file), \"r\") as f: \n",
    "        data = json.load(f)\n",
    "        for definition in data['def']:\n",
    "            word_current =  definition['text']\n",
    "            for translation in definition['tr']: \n",
    "                word.append(word_current)\n",
    "                local_word.append(translation['text'])\n",
    "                ex_en = []\n",
    "                ex_rus = []\n",
    "                if 'ex' in translation:\n",
    "                    for exmpl in translation['ex']:\n",
    "                        #print(exmpl)\n",
    "                        ex_en.append(exmpl['text'])\n",
    "                        ex_rus.append(exmpl['tr'][0]['text'])\n",
    "                examples.append(ex_en)\n",
    "                examples_local.append(ex_rus)\n",
    "                #print(translation)\n",
    "                #print()\n",
    "    "
   ]
  },
  {
   "cell_type": "code",
   "execution_count": 2,
   "metadata": {},
   "outputs": [],
   "source": [
    "def parse_from_yandex_lookup(directory, print_output = False):\n",
    "    word = []\n",
    "    local_word = []\n",
    "    examples = []\n",
    "    examples_local = []\n",
    "    \n",
    "    for file in os.listdir(directory):\n",
    "        if print_output == True: print(file)\n",
    "        with open(os.path.join(directory,file), \"r\") as f: \n",
    "            data = json.load(f)\n",
    "            for definition in data['def']:\n",
    "                word_current =  definition['text']\n",
    "                for translation in definition['tr']: \n",
    "                    word.append(word_current)\n",
    "                    local_word.append(translation['text'])\n",
    "                    ex_en = []\n",
    "                    ex_rus = []\n",
    "                    if 'ex' in translation:\n",
    "                        for exmpl in translation['ex']:\n",
    "                            #print(exmpl)\n",
    "                            ex_en.append(exmpl['text'])\n",
    "                            ex_rus.append(exmpl['tr'][0]['text'])\n",
    "                    examples.append(ex_en)\n",
    "                    examples_local.append(ex_rus)\n",
    "    data = pd.DataFrame(list(zip(word,local_word,examples, examples_local)),columns =['word', 'local_word', 'examples','local_examples'])\n",
    "    return  data\n"
   ]
  },
  {
   "cell_type": "code",
   "execution_count": 69,
   "metadata": {},
   "outputs": [
    {
     "data": {
      "text/plain": [
       "['booker', 'booked', 'booking', 'books']"
      ]
     },
     "execution_count": 69,
     "metadata": {},
     "output_type": "execute_result"
    }
   ],
   "source": [
    "def get_word_forms(word):\n",
    "    req = \"\"\"SELECT DISTINCT\n",
    "    content_words.word_id,content_words.word_lemma, content_words.word_value\n",
    "    FROM content_words\n",
    "    WHERE content_words.word_value !~ ('\\W') AND\n",
    "    (array_length(regexp_split_to_array(content_words.word_value, '[ ''-]'), 1) = 1) \n",
    "    and word_lemma != 0 and word_hash = calc_hash(' \"\"\" + word + \"\"\"')\"\"\"\n",
    "    cursor.execute(req)\n",
    "    req_res = cursor.fetchone()\n",
    "    if not req_res:\n",
    "        print(word, \" is not in db\")\n",
    "        return []\n",
    "    else:\n",
    "        #print(a[0])\n",
    "        word_id = req_res[0]\n",
    "    word_forms_request = \"\"\"SELECT DISTINCT \n",
    "    content_words.word_value\n",
    "    FROM content_words\n",
    "    where word_lemma = \"\"\" + str(word_id) + \"\"\"  and word_lemma != word_id \"\"\"\n",
    "    cursor.execute(word_forms_request)\n",
    "    word_forms = []\n",
    "    for word in cursor:\n",
    "        #print(word[0])\n",
    "        word_forms.append(word[0])\n",
    "    return word_forms\n",
    "get_word_forms(\"book\")\n"
   ]
  },
  {
   "cell_type": "code",
   "execution_count": 3,
   "metadata": {},
   "outputs": [],
   "source": [
    "def parse_json(path, word, local_word,examples,examples_local):\n",
    "    try:\n",
    "        with open(path, \"r\") as f: \n",
    "            data = json.load(f)\n",
    "            for definition in data['def']:\n",
    "                word_current =  definition['text']\n",
    "                for translation in definition['tr']: \n",
    "                    word.append(word_current)\n",
    "                    local_word.append(translation['text'])\n",
    "                    ex_en = []\n",
    "                    ex_rus = []\n",
    "                    if 'ex' in translation:\n",
    "                        for exmpl in translation['ex']:\n",
    "                            #print(exmpl)\n",
    "                            ex_en.append(exmpl['text'])\n",
    "                            ex_rus.append(exmpl['tr'][0]['text'])\n",
    "                    examples.append(ex_en)\n",
    "                    examples_local.append(ex_rus)\n",
    "    except:\n",
    "        pass"
   ]
  },
  {
   "cell_type": "code",
   "execution_count": 72,
   "metadata": {},
   "outputs": [
    {
     "name": "stdout",
     "output_type": "stream",
     "text": [
      "word\n",
      ">>> wording\n",
      ">>> worded\n",
      ">>> words\n",
      "the\n",
      ">>> thebed\n",
      ">>> thest\n",
      ">>> the bed\n",
      ">>> thebest\n",
      ">>> thes\n",
      "and\n",
      ">>> anding\n",
      ">>> ands\n",
      ">>> ood\n",
      ">>> andren\n",
      ">>> anded\n",
      ">>> ander\n",
      "that\n",
      ">>> that led\n",
      ">>> thats\n",
      ">>> those\n",
      "for\n",
      ">>> forring\n",
      ">>> fored\n",
      ">>> fors\n",
      "with\n",
      ">>> withim\n",
      ">>> withing\n",
      ">>> withs\n",
      "but\n",
      ">>> buts\n",
      "you\n",
      ">>> youed\n",
      ">>> yous\n",
      ">>> youta\n",
      ">>> youx\n",
      ">>> youing\n",
      ">>> youger\n",
      "this\n",
      ">>> thises\n",
      ">>> this led\n",
      ">>> these\n",
      "not\n",
      ">>> not bed\n",
      ">>> notest\n",
      ">>> notting\n",
      ">>> nots\n",
      "have\n",
      ">>> have led\n",
      ">>> haveta\n",
      ">>> haveing\n",
      ">>> had\n",
      ">>> haved\n",
      ">>> haves\n",
      ">>> having\n",
      ">>> havest\n",
      "letter\n",
      ">>> lettered\n",
      ">>> letterd\n",
      ">>> lettering\n",
      ">>> letters\n",
      ">>> lettera\n",
      "plate\n",
      ">>> plating\n",
      ">>> plated\n",
      ">>> plates\n",
      "treat\n",
      ">>> treats\n",
      ">>> treated\n",
      ">>> treaten\n",
      ">>> treating\n",
      ">>> treatest\n",
      "dinner\n",
      ">>> dinners\n",
      "necessary\n",
      ">>> necessarie\n",
      "go\n",
      ">>> gota\n",
      ">>> gos\n",
      ">>> gone\n",
      ">>> went\n",
      ">>> goed\n",
      ">>> goes\n",
      ">>> goren\n",
      ">>> going\n",
      "secret\n",
      ">>> secrets\n",
      ">>> secret\n",
      ">>> secreter\n",
      "table\n",
      ">>> tables\n",
      ">>> tabled\n",
      ">>> tabling\n",
      ">>> tabler\n",
      "create\n",
      ">>> creating\n",
      ">>> creates\n",
      ">>> createing\n",
      ">>> created\n",
      "warm\n",
      ">>> warmest\n",
      ">>> warmed\n",
      ">>> warms\n",
      ">>> warmer\n",
      ">>> warming\n",
      "America\n",
      ">>> americae\n",
      ">>> americas\n",
      ">>> america\n",
      "nobody\n",
      ">>> nobodies\n",
      ">>> nobodys\n",
      "entire\n",
      ">>> entire\n",
      ">>> entired\n",
      "thousand\n",
      ">>> thousands\n",
      "Belgium\n",
      ">>> belgiums\n",
      "anything\n",
      ">>> anythings\n",
      "background\n",
      ">>> background\n",
      "child\n",
      ">>> children\n",
      ">>> childer\n",
      ">>> childs\n",
      ">>> chilt\n",
      "childhood\n",
      ">>> childhoods\n",
      ">>> childhood\n",
      "dependable\n",
      ">>> dependable\n",
      "everything\n",
      ">>> everythung\n",
      ">>> everything\n",
      "grandchild\n",
      ">>> grandchild\n",
      "ketchup\n",
      ">>> ketchups\n",
      ">>> ketchuped\n",
      "point\n",
      ">>> pointing\n",
      ">>> pointest\n",
      ">>> points\n",
      ">>> pointed\n",
      ">>> point\n",
      ">>> pointtest\n",
      "strength\n",
      ">>> strengths\n",
      "star\n",
      ">>> star\n",
      ">>> starred\n",
      ">>> starring\n",
      ">>> starrer\n",
      ">>> stars\n",
      ">>> starer\n",
      "thing\n",
      ">>> thung\n",
      ">>> things\n",
      "coincide\n",
      ">>> coincided\n",
      ">>> coinciding\n",
      ">>> coincides\n",
      "coincidental\n",
      "dance\n",
      ">>> danceing\n",
      ">>> dancing\n",
      ">>> dances\n",
      ">>> danced\n",
      "countryside\n",
      ">>> countrysid\n",
      "break\n",
      ">>> breaks\n",
      ">>> broke\n",
      ">>> breakest\n",
      ">>> breaking\n",
      ">>> broken\n",
      ">>> breaked\n",
      "mother\n",
      ">>> mothers\n",
      ">>> mothering\n",
      ">>> motherin\n",
      ">>> mothered\n",
      "start\n",
      ">>> starttest\n",
      ">>> startd\n",
      ">>> started\n",
      ">>> starts\n",
      ">>> startted\n",
      ">>> starting\n",
      "tip\n",
      ">>> tipping\n",
      ">>> tipped\n",
      ">>> tips\n",
      ">>> tiped\n",
      "apologise\n",
      ">>> apologised\n",
      ">>> apologisin\n",
      ">>> apologises\n",
      "come\n",
      ">>> came\n",
      ">>> comeing\n",
      ">>> comest\n",
      ">>> coming\n",
      ">>> comes\n",
      "curriculum\n",
      ">>> curricula\n",
      ">>> curriculum\n",
      "expertise\n",
      ">>> expertised\n",
      ">>> expertise\n",
      ">>> expertisin\n",
      ">>> expertises\n",
      "freeze\n",
      ">>> freezing\n",
      ">>> froze\n",
      ">>> frozen\n",
      ">>> freezes\n",
      ">>> freezed\n",
      "issue\n",
      ">>> issue\n",
      ">>> issueing\n",
      ">>> issued\n",
      ">>> issuing\n",
      ">>> issues\n",
      "peremptory\n",
      ">>> peremptori\n",
      "parent\n",
      ">>> parented\n",
      ">>> parenting\n",
      ">>> parent\n",
      ">>> parents\n",
      "member\n",
      ">>> members\n",
      "band\n",
      ">>> banding\n",
      ">>> bands\n",
      ">>> bood\n",
      ">>> banded\n",
      "order\n",
      ">>> orders\n",
      ">>> orderi\n",
      ">>> ordering\n",
      ">>> ordered\n",
      ">>> orderest\n",
      "hot\n",
      ">>> hots\n",
      ">>> hoting\n",
      ">>> hotted\n",
      ">>> hotest\n",
      ">>> hotter\n",
      ">>> hotting\n",
      ">>> hoted\n",
      ">>> hottest\n",
      "fly\n",
      ">>> flid\n",
      ">>> flyest\n",
      ">>> flew\n",
      ">>> flying\n",
      ">>> flyed\n",
      ">>> fliest\n",
      ">>> flies\n",
      ">>> flied\n",
      ">>> flys\n",
      "lie\n",
      ">>> lies\n",
      ">>> lying\n",
      ">>> lieing\n",
      ">>> lied\n",
      ">>> lain\n",
      ">>> liebing\n",
      "select\n",
      ">>> selects\n",
      ">>> selected\n",
      ">>> selectin\n",
      ">>> selectest\n",
      ">>> selectted\n",
      ">>> selecting\n",
      "school\n",
      ">>> schools\n",
      ">>> schooling\n",
      ">>> schooled\n",
      "cafe\n",
      ">>> cafes\n",
      "buy\n",
      ">>> buys\n",
      ">>> buying\n",
      ">>> buyest\n",
      ">>> buies\n",
      ">>> buyed\n",
      "tell\n",
      ">>> tellest\n",
      ">>> tollen\n",
      ">>> telling\n",
      ">>> tells\n",
      ">>> told\n",
      "international\n",
      ">>> internatio\n",
      "stand\n",
      ">>> standed\n",
      ">>> stands\n",
      ">>> standest\n",
      ">>> stander\n",
      ">>> stood\n",
      ">>> standing\n",
      "fish\n",
      ">>> fishd\n",
      ">>> fishing\n",
      ">>> fishes\n",
      ">>> fishs\n",
      ">>> fished\n",
      ">>> fishbed\n",
      "benefit\n",
      ">>> benefits\n",
      ">>> benefittin\n",
      ">>> benefitted\n",
      ">>> benefited\n",
      ">>> benefiting\n",
      "intelligent\n",
      ">>> intelligen\n",
      "follow\n",
      ">>> follows\n",
      ">>> followed\n",
      ">>> following\n",
      "journey\n",
      ">>> journeying\n",
      ">>> journeys\n",
      ">>> journeyd\n",
      ">>> journeyin\n",
      ">>> journeyed\n",
      "news\n",
      ">>> newses\n",
      "write\n",
      ">>> writes\n",
      ">>> wrote\n",
      ">>> writing\n",
      ">>> written\n",
      ">>> writeing\n",
      "approbation\n",
      ">>> approbatio\n",
      "read\n",
      ">>> readest\n",
      ">>> reads\n",
      ">>> reader\n",
      ">>> reading\n",
      ">>> readed\n",
      "hear\n",
      ">>> hearred\n",
      ">>> hearing\n",
      ">>> hearther\n",
      ">>> heared\n",
      ">>> horne\n",
      ">>> heard\n",
      ">>> hears\n",
      "feel\n",
      ">>> feeling\n",
      ">>> feelest\n",
      ">>> felt\n",
      ">>> feelling\n",
      ">>> feels\n",
      ">>> feeled\n",
      "be\n",
      ">>> beger\n",
      ">>> bes\n",
      ">>> is\n",
      ">>> am\n",
      ">>> will\n",
      ">>> being\n",
      ">>> were\n",
      ">>> been\n",
      ">>> beren\n",
      ">>> was\n",
      "right\n",
      ">>> rights\n",
      ">>> rightest\n",
      ">>> righter\n",
      ">>> righted\n",
      ">>> righting\n",
      "guru\n",
      ">>> guru\n",
      ">>> gurus\n",
      "beginner\n",
      ">>> beginners\n",
      "collide\n",
      ">>> collode\n",
      ">>> collided\n",
      ">>> collides\n",
      ">>> colliding\n",
      "genetically\n",
      "precedent\n",
      ">>> precedents\n",
      "refugee\n",
      ">>> refugees\n",
      ">>> refugeeing\n",
      "secular\n",
      ">>> seculars\n",
      "pasta\n",
      ">>> pastas\n",
      "beaver\n",
      ">>> beavered\n",
      ">>> beavers\n",
      ">>> beavering\n",
      "tiger\n",
      ">>> tigers\n",
      ">>> tigering\n",
      ">>> tigered\n",
      "lion\n",
      ">>> lions\n",
      "pen\n",
      ">>> penning\n",
      ">>> pened\n",
      ">>> pens\n",
      ">>> penned\n",
      "coconut\n",
      ">>> coconuts\n",
      "dynamite\n",
      ">>> dynamites\n",
      ">>> dynamited\n",
      ">>> dynamiting\n",
      "spoon\n",
      ">>> spoons\n",
      ">>> spoonin\n",
      ">>> spooned\n",
      ">>> spooning\n",
      "ocean\n",
      ">>> ocean\n",
      ">>> oceaner\n",
      ">>> oceans\n",
      "mug\n",
      ">>> mugging\n",
      ">>> mugged\n",
      ">>> mugs\n",
      "shampoo\n",
      ">>> shampoos\n",
      ">>> shampooing\n",
      ">>> shampooed\n",
      "buzzer\n",
      ">>> buzzers\n",
      "exhaustively\n",
      "exhaustively  is not in db\n",
      "apoplexy\n",
      "submissively\n",
      "typhus\n",
      "ravioli\n",
      "meeting\n",
      ">>> meetings\n",
      "actually\n",
      "earring\n",
      ">>> earrings\n",
      ">>> earringed\n",
      "add\n",
      ">>> added\n",
      ">>> adds\n",
      ">>> adding\n",
      "adjective\n",
      ">>> adjectives\n",
      ">>> adjective\n",
      "drawing\n",
      ">>> drawings\n",
      "dream\n",
      ">>> dreamled\n",
      ">>> dreamt\n",
      ">>> dreamest\n",
      ">>> dreaming\n",
      ">>> dreams\n",
      ">>> dreamed\n",
      "dressed\n",
      "driving\n",
      ">>> drivings\n",
      "drum\n",
      ">>> drumming\n",
      ">>> drummed\n",
      ">>> drums\n",
      "dry\n",
      ">>> dryest\n",
      ">>> dries\n",
      ">>> driest\n",
      ">>> drys\n",
      ">>> drying\n",
      ">>> dryed\n",
      "duck\n",
      ">>> ducking\n",
      ">>> ducked\n",
      ">>> ducks\n",
      "advanced\n",
      "during\n",
      "earn\n",
      ">>> earnt\n",
      ">>> earned\n",
      ">>> earn\n",
      ">>> earning\n",
      ">>> earns\n",
      ">>> earnd\n",
      "singular\n",
      ">>> singulars\n",
      "easily\n",
      ">>> easilier\n",
      "east\n",
      ">>> eastest\n",
      ">>> easting\n",
      ">>> easten\n",
      ">>> easts\n",
      ">>> eastren\n",
      ">>> east\n",
      "eighth\n",
      ">>> eighths\n",
      ">>> eighthed\n",
      "adventure\n",
      ">>> adventurin\n",
      ">>> adventures\n",
      ">>> adventure\n",
      ">>> adventured\n",
      "eighty\n",
      ">>> eighties\n",
      "adverb\n",
      ">>> adverbs\n",
      "electric\n",
      "advertisement\n",
      ">>> advertisem\n",
      "century\n",
      ">>> centuries\n",
      ">>> centuried\n",
      "size\n",
      ">>> sizing\n",
      ">>> sizes\n",
      ">>> sized\n",
      "electricity\n",
      ">>> electricit\n",
      "elephant\n",
      ">>> elephants\n",
      "else\n",
      ">>> elses\n",
      ">>> elsing\n",
      "empty\n",
      ">>> emptying\n",
      ">>> emptyed\n",
      ">>> emptied\n",
      ">>> emptiest\n",
      ">>> emptier\n",
      ">>> emptys\n",
      ">>> empties\n",
      "engine\n",
      ">>> engine bed\n",
      ">>> engine\n",
      ">>> engining\n",
      ">>> engines\n",
      ">>> engined\n",
      "engineer\n",
      ">>> engineered\n",
      ">>> engineerin\n",
      ">>> engineers\n",
      "enough\n",
      ">>> enoughs\n",
      "enter\n",
      ">>> entering\n",
      ">>> enters\n",
      ">>> entered\n",
      ">>> enterest\n",
      "entrance\n",
      ">>> entranced\n",
      ">>> entrance\n",
      ">>> entrances\n",
      ">>> entrancing\n",
      "advice\n",
      ">>> adviced\n",
      ">>> advices\n",
      ">>> advice\n",
      ">>> advicing\n",
      "aeroplane\n",
      ">>> aeroplaned\n",
      ">>> aeroplanes\n",
      "envelope\n",
      ">>> envelopes\n",
      ">>> envelope\n",
      "especially\n",
      "euro\n",
      ">>> euros\n",
      "even\n",
      ">>> evenning\n",
      ">>> evens\n",
      ">>> evened\n",
      "afraid\n",
      ">>> afraided\n",
      ">>> afraids\n",
      "afterwards\n",
      ">>> afterwards\n",
      "everyone\n",
      ">>> everyones\n",
      "against\n",
      ">>> againsts\n",
      "everything\n",
      ">>> everythung\n",
      ">>> everything\n",
      "everywhere\n",
      ">>> everywhere\n",
      "aged\n",
      "ago\n",
      ">>> ago\n",
      ">>> agota\n",
      "exactly\n",
      "exam\n",
      ">>> examing\n",
      ">>> exams\n",
      ">>> examed\n",
      ">>> exammed\n",
      "examination\n",
      ">>> examinatio\n",
      "excellent\n",
      ">>> excellente\n",
      "except\n",
      ">>> excepted\n",
      ">>> excepts\n",
      ">>> excepting\n",
      "exercise\n",
      ">>> exercising\n",
      ">>> exercised\n",
      ">>> exercises\n",
      "exit\n",
      ">>> exitting\n",
      ">>> exiting\n",
      ">>> exited\n",
      ">>> exits\n",
      "explain\n",
      ">>> explains\n",
      ">>> explainest\n",
      ">>> explainer\n",
      ">>> explaining\n",
      ">>> explained\n",
      "extra\n",
      ">>> extra bed\n",
      ">>> extras\n",
      "fact\n",
      ">>> facting\n",
      ">>> facted\n",
      ">>> facts\n",
      "fail\n",
      ">>> failling\n",
      ">>> failest\n",
      ">>> fails\n",
      ">>> failing\n",
      ">>> failed\n",
      "fair\n",
      ">>> fairest\n",
      ">>> fairer\n",
      ">>> fair\n",
      ">>> faired\n",
      ">>> fairing\n",
      ">>> fairs\n",
      ">>> fairi\n",
      "fall\n",
      ">>> fallest\n",
      ">>> fell\n",
      ">>> fallling\n",
      ">>> falls\n",
      ">>> falling\n",
      ">>> fallen\n",
      "agree\n",
      ">>> agreeing\n",
      ">>> agreed\n",
      ">>> agrees\n",
      "air\n",
      ">>> airi\n",
      ">>> aird\n",
      ">>> aired\n",
      ">>> airin\n",
      ">>> airs\n",
      ">>> airing\n",
      "airport\n",
      ">>> airports\n",
      "fan\n",
      ">>> fanning\n",
      ">>> fans\n",
      ">>> faner\n",
      ">>> fannest\n",
      ">>> faned\n",
      ">>> fanned\n",
      "fantastic\n",
      ">>> fantastics\n",
      "far\n",
      ">>> farer\n",
      ">>> farther\n",
      ">>> farring\n",
      ">>> farthest\n",
      ">>> furthest\n",
      ">>> further\n",
      ">>> fars\n",
      "farmer\n",
      ">>> farmers\n",
      "fashion\n",
      ">>> fashioned\n",
      ">>> fashions\n",
      ">>> fashioning\n",
      "quite\n",
      "alarm\n",
      ">>> alarming\n",
      ">>> alarmed\n",
      ">>> alarmling\n",
      ">>> alarms\n",
      "album\n",
      ">>> albums\n",
      "alcohol\n",
      ">>> alcohols\n",
      "almost\n",
      "alone\n",
      ">>> aloner\n",
      "field\n",
      ">>> fielding\n",
      ">>> fields\n",
      ">>> fielded\n",
      ">>> fielder\n",
      ">>> field\n",
      "fifth\n",
      ">>> fifths\n",
      "fifty\n",
      ">>> fiftys\n",
      "file\n",
      ">>> fild\n",
      ">>> files\n",
      ">>> file\n",
      ">>> filing\n",
      ">>> filed\n",
      "fill\n",
      ">>> fillling\n",
      ">>> filling\n",
      ">>> filled\n",
      ">>> fills\n",
      ">>> fillled\n",
      ">>> fillest\n",
      "final\n",
      ">>> finals\n",
      "finally\n",
      "finger\n",
      ">>> fingers\n",
      ">>> fingered\n",
      ">>> fingering\n",
      "fire\n",
      ">>> fireing\n",
      ">>> firest\n",
      ">>> fired\n",
      ">>> fires\n",
      ">>> firebed\n",
      ">>> firing\n",
      "fishing\n",
      ">>> fishings\n",
      "fit\n",
      ">>> fitter\n",
      ">>> fiting\n",
      ">>> fited\n",
      ">>> fits\n",
      ">>> fitting\n",
      ">>> fitted\n",
      ">>> fittest\n",
      "flight\n",
      ">>> flights\n",
      ">>> flighting\n",
      ">>> flighter\n",
      ">>> flighted\n",
      ">>> flightin\n",
      "along\n",
      ">>> alonger\n",
      ">>> alongs\n",
      ">>> alonged\n",
      "bedroom\n",
      ">>> bedroomed\n",
      ">>> bedrooms\n",
      "beer\n",
      ">>> beers\n",
      ">>> beeri\n",
      ">>> beered\n",
      "before\n"
     ]
    },
    {
     "name": "stdout",
     "output_type": "stream",
     "text": [
      ">>> befores\n",
      "begin\n",
      ">>> begins\n",
      ">>> began\n",
      ">>> beginning\n",
      ">>> beginer\n",
      ">>> begining\n",
      ">>> beginnest\n",
      ">>> begun\n",
      ">>> begin\n",
      "behind\n",
      ">>> behinds\n",
      "below\n",
      ">>> below\n",
      ">>> belowed\n",
      ">>> belows\n",
      "best\n",
      ">>> bester\n",
      ">>> bests\n",
      ">>> best best\n",
      ">>> besting\n",
      ">>> bestest\n",
      ">>> bested\n",
      "synchrophasotron\n",
      "synchrophasotron  is not in db\n"
     ]
    }
   ],
   "source": [
    "def parse_from_yandex_lookup_vs_wordforms(directory):\n",
    "    word = []\n",
    "    local_word = []\n",
    "    examples = []\n",
    "    examples_local = []\n",
    "    words = pd.read_csv(\"test_words.csv\", header = None)\n",
    "    for word_i in words[0].items():\n",
    "        print (word_i[1])\n",
    "        file = word_i[1] + \".json\"\n",
    "        parse_json(os.path.join(directory,file),word, local_word,examples,examples_local)\n",
    "        wordforms = get_word_forms(word_i[1].lower())\n",
    "        for wf in wordforms:\n",
    "            print(\">>>\", wf)\n",
    "            file = wf + \".json\"\n",
    "            parse_json(os.path.join(directory,file),word, local_word,examples,examples_local)\n",
    "        \n",
    "    data = pd.DataFrame(list(zip(word,local_word,examples, examples_local)),columns =['word', 'local_word', 'examples','local_examples'])\n",
    "    return  data\n",
    "enru_wv = parse_from_yandex_lookup_vs_wordforms(\"./y_lookup/en_ru/\")"
   ]
  },
  {
   "cell_type": "code",
   "execution_count": 75,
   "metadata": {},
   "outputs": [],
   "source": [
    "enru_wv.to_csv(\"yandex_lookup_en_ru_with_wordforms.csv\")"
   ]
  },
  {
   "cell_type": "code",
   "execution_count": 74,
   "metadata": {},
   "outputs": [
    {
     "data": {
      "text/html": [
       "<div>\n",
       "<style scoped>\n",
       "    .dataframe tbody tr th:only-of-type {\n",
       "        vertical-align: middle;\n",
       "    }\n",
       "\n",
       "    .dataframe tbody tr th {\n",
       "        vertical-align: top;\n",
       "    }\n",
       "\n",
       "    .dataframe thead th {\n",
       "        text-align: right;\n",
       "    }\n",
       "</style>\n",
       "<table border=\"1\" class=\"dataframe\">\n",
       "  <thead>\n",
       "    <tr style=\"text-align: right;\">\n",
       "      <th></th>\n",
       "      <th>word</th>\n",
       "      <th>local_word</th>\n",
       "      <th>examples</th>\n",
       "      <th>local_examples</th>\n",
       "    </tr>\n",
       "  </thead>\n",
       "  <tbody>\n",
       "    <tr>\n",
       "      <th>0</th>\n",
       "      <td>word</td>\n",
       "      <td>слово</td>\n",
       "      <td>[last word, old english word, new word in art,...</td>\n",
       "      <td>[последнее слово, старое английское слово, нов...</td>\n",
       "    </tr>\n",
       "    <tr>\n",
       "      <th>1</th>\n",
       "      <td>word</td>\n",
       "      <td>известие</td>\n",
       "      <td>[]</td>\n",
       "      <td>[]</td>\n",
       "    </tr>\n",
       "    <tr>\n",
       "      <th>2</th>\n",
       "      <td>word</td>\n",
       "      <td>слова</td>\n",
       "      <td>[]</td>\n",
       "      <td>[]</td>\n",
       "    </tr>\n",
       "    <tr>\n",
       "      <th>3</th>\n",
       "      <td>word</td>\n",
       "      <td>говорить</td>\n",
       "      <td>[]</td>\n",
       "      <td>[]</td>\n",
       "    </tr>\n",
       "    <tr>\n",
       "      <th>4</th>\n",
       "      <td>word</td>\n",
       "      <td>сформулировать</td>\n",
       "      <td>[]</td>\n",
       "      <td>[]</td>\n",
       "    </tr>\n",
       "    <tr>\n",
       "      <th>5</th>\n",
       "      <td>word</td>\n",
       "      <td>текстовый</td>\n",
       "      <td>[word processing document]</td>\n",
       "      <td>[текстовый документ]</td>\n",
       "    </tr>\n",
       "    <tr>\n",
       "      <th>6</th>\n",
       "      <td>word</td>\n",
       "      <td>словесный</td>\n",
       "      <td>[word game]</td>\n",
       "      <td>[словесная игра]</td>\n",
       "    </tr>\n",
       "    <tr>\n",
       "      <th>7</th>\n",
       "      <td>wording</td>\n",
       "      <td>формулировка</td>\n",
       "      <td>[exact wording]</td>\n",
       "      <td>[точная формулировка]</td>\n",
       "    </tr>\n",
       "    <tr>\n",
       "      <th>8</th>\n",
       "      <td>wording</td>\n",
       "      <td>редакция</td>\n",
       "      <td>[new wording]</td>\n",
       "      <td>[новая редакция]</td>\n",
       "    </tr>\n",
       "    <tr>\n",
       "      <th>9</th>\n",
       "      <td>wording</td>\n",
       "      <td>текст</td>\n",
       "      <td>[wording of the declaration]</td>\n",
       "      <td>[текст декларации]</td>\n",
       "    </tr>\n",
       "    <tr>\n",
       "      <th>10</th>\n",
       "      <td>worded</td>\n",
       "      <td>сформулированный</td>\n",
       "      <td>[]</td>\n",
       "      <td>[]</td>\n",
       "    </tr>\n",
       "    <tr>\n",
       "      <th>11</th>\n",
       "      <td>words</td>\n",
       "      <td>речь</td>\n",
       "      <td>[sweet words, obscene words]</td>\n",
       "      <td>[сладкие речи, нецензурные фразы]</td>\n",
       "    </tr>\n",
       "    <tr>\n",
       "      <th>12</th>\n",
       "      <td>words</td>\n",
       "      <td>текст</td>\n",
       "      <td>[]</td>\n",
       "      <td>[]</td>\n",
       "    </tr>\n",
       "    <tr>\n",
       "      <th>13</th>\n",
       "      <td>words</td>\n",
       "      <td>пословный</td>\n",
       "      <td>[]</td>\n",
       "      <td>[]</td>\n",
       "    </tr>\n",
       "    <tr>\n",
       "      <th>14</th>\n",
       "      <td>the</td>\n",
       "      <td>этот</td>\n",
       "      <td>[I didn't like the book]</td>\n",
       "      <td>[эта книга мне не понравилась]</td>\n",
       "    </tr>\n",
       "    <tr>\n",
       "      <th>15</th>\n",
       "      <td>the</td>\n",
       "      <td>тот</td>\n",
       "      <td>[the woman I told you about, this is the guy]</td>\n",
       "      <td>[та женщина, о которой я тебе рассказывал, это...</td>\n",
       "    </tr>\n",
       "    <tr>\n",
       "      <th>16</th>\n",
       "      <td>the</td>\n",
       "      <td>такой</td>\n",
       "      <td>[not the man to shrink form responsibility]</td>\n",
       "      <td>[не такой человек, чтобы бежать от ответственн...</td>\n",
       "    </tr>\n",
       "    <tr>\n",
       "      <th>17</th>\n",
       "      <td>the</td>\n",
       "      <td>тем</td>\n",
       "      <td>[the more the better, so much the worse]</td>\n",
       "      <td>[чем больше, тем лучше, тем хуже]</td>\n",
       "    </tr>\n",
       "    <tr>\n",
       "      <th>18</th>\n",
       "      <td>thes</td>\n",
       "      <td>Фес</td>\n",
       "      <td>[]</td>\n",
       "      <td>[]</td>\n",
       "    </tr>\n",
       "    <tr>\n",
       "      <th>19</th>\n",
       "      <td>and</td>\n",
       "      <td>и</td>\n",
       "      <td>[]</td>\n",
       "      <td>[]</td>\n",
       "    </tr>\n",
       "    <tr>\n",
       "      <th>20</th>\n",
       "      <td>and</td>\n",
       "      <td>а также</td>\n",
       "      <td>[]</td>\n",
       "      <td>[]</td>\n",
       "    </tr>\n",
       "    <tr>\n",
       "      <th>21</th>\n",
       "      <td>and</td>\n",
       "      <td>причем</td>\n",
       "      <td>[]</td>\n",
       "      <td>[]</td>\n",
       "    </tr>\n",
       "    <tr>\n",
       "      <th>22</th>\n",
       "      <td>and</td>\n",
       "      <td>так и</td>\n",
       "      <td>[]</td>\n",
       "      <td>[]</td>\n",
       "    </tr>\n",
       "    <tr>\n",
       "      <th>23</th>\n",
       "      <td>and</td>\n",
       "      <td>с</td>\n",
       "      <td>[]</td>\n",
       "      <td>[]</td>\n",
       "    </tr>\n",
       "    <tr>\n",
       "      <th>24</th>\n",
       "      <td>ands</td>\n",
       "      <td>НСРА</td>\n",
       "      <td>[]</td>\n",
       "      <td>[]</td>\n",
       "    </tr>\n",
       "    <tr>\n",
       "      <th>25</th>\n",
       "      <td>ood</td>\n",
       "      <td>ООПР</td>\n",
       "      <td>[]</td>\n",
       "      <td>[]</td>\n",
       "    </tr>\n",
       "    <tr>\n",
       "      <th>26</th>\n",
       "      <td>Ander</td>\n",
       "      <td>Андер</td>\n",
       "      <td>[]</td>\n",
       "      <td>[]</td>\n",
       "    </tr>\n",
       "    <tr>\n",
       "      <th>27</th>\n",
       "      <td>that</td>\n",
       "      <td>что</td>\n",
       "      <td>[]</td>\n",
       "      <td>[]</td>\n",
       "    </tr>\n",
       "    <tr>\n",
       "      <th>28</th>\n",
       "      <td>that</td>\n",
       "      <td>будто</td>\n",
       "      <td>[]</td>\n",
       "      <td>[]</td>\n",
       "    </tr>\n",
       "    <tr>\n",
       "      <th>29</th>\n",
       "      <td>that</td>\n",
       "      <td>дабы</td>\n",
       "      <td>[]</td>\n",
       "      <td>[]</td>\n",
       "    </tr>\n",
       "  </tbody>\n",
       "</table>\n",
       "</div>"
      ],
      "text/plain": [
       "       word        local_word  \\\n",
       "0      word             слово   \n",
       "1      word          известие   \n",
       "2      word             слова   \n",
       "3      word          говорить   \n",
       "4      word    сформулировать   \n",
       "5      word         текстовый   \n",
       "6      word         словесный   \n",
       "7   wording      формулировка   \n",
       "8   wording          редакция   \n",
       "9   wording             текст   \n",
       "10   worded  сформулированный   \n",
       "11    words              речь   \n",
       "12    words             текст   \n",
       "13    words         пословный   \n",
       "14      the              этот   \n",
       "15      the               тот   \n",
       "16      the             такой   \n",
       "17      the               тем   \n",
       "18     thes               Фес   \n",
       "19      and                 и   \n",
       "20      and           а также   \n",
       "21      and            причем   \n",
       "22      and             так и   \n",
       "23      and                 с   \n",
       "24     ands              НСРА   \n",
       "25      ood              ООПР   \n",
       "26    Ander             Андер   \n",
       "27     that               что   \n",
       "28     that             будто   \n",
       "29     that              дабы   \n",
       "\n",
       "                                             examples  \\\n",
       "0   [last word, old english word, new word in art,...   \n",
       "1                                                  []   \n",
       "2                                                  []   \n",
       "3                                                  []   \n",
       "4                                                  []   \n",
       "5                          [word processing document]   \n",
       "6                                         [word game]   \n",
       "7                                     [exact wording]   \n",
       "8                                       [new wording]   \n",
       "9                        [wording of the declaration]   \n",
       "10                                                 []   \n",
       "11                       [sweet words, obscene words]   \n",
       "12                                                 []   \n",
       "13                                                 []   \n",
       "14                           [I didn't like the book]   \n",
       "15      [the woman I told you about, this is the guy]   \n",
       "16        [not the man to shrink form responsibility]   \n",
       "17           [the more the better, so much the worse]   \n",
       "18                                                 []   \n",
       "19                                                 []   \n",
       "20                                                 []   \n",
       "21                                                 []   \n",
       "22                                                 []   \n",
       "23                                                 []   \n",
       "24                                                 []   \n",
       "25                                                 []   \n",
       "26                                                 []   \n",
       "27                                                 []   \n",
       "28                                                 []   \n",
       "29                                                 []   \n",
       "\n",
       "                                       local_examples  \n",
       "0   [последнее слово, старое английское слово, нов...  \n",
       "1                                                  []  \n",
       "2                                                  []  \n",
       "3                                                  []  \n",
       "4                                                  []  \n",
       "5                                [текстовый документ]  \n",
       "6                                    [словесная игра]  \n",
       "7                               [точная формулировка]  \n",
       "8                                    [новая редакция]  \n",
       "9                                  [текст декларации]  \n",
       "10                                                 []  \n",
       "11                  [сладкие речи, нецензурные фразы]  \n",
       "12                                                 []  \n",
       "13                                                 []  \n",
       "14                     [эта книга мне не понравилась]  \n",
       "15  [та женщина, о которой я тебе рассказывал, это...  \n",
       "16  [не такой человек, чтобы бежать от ответственн...  \n",
       "17                  [чем больше, тем лучше, тем хуже]  \n",
       "18                                                 []  \n",
       "19                                                 []  \n",
       "20                                                 []  \n",
       "21                                                 []  \n",
       "22                                                 []  \n",
       "23                                                 []  \n",
       "24                                                 []  \n",
       "25                                                 []  \n",
       "26                                                 []  \n",
       "27                                                 []  \n",
       "28                                                 []  \n",
       "29                                                 []  "
      ]
     },
     "execution_count": 74,
     "metadata": {},
     "output_type": "execute_result"
    }
   ],
   "source": [
    "enru_wv.head(30)"
   ]
  },
  {
   "cell_type": "code",
   "execution_count": 76,
   "metadata": {},
   "outputs": [
    {
     "name": "stdout",
     "output_type": "stream",
     "text": [
      "word\n",
      ">>> wording\n",
      ">>> worded\n",
      ">>> words\n",
      "the\n",
      ">>> thebed\n",
      ">>> thest\n",
      ">>> the bed\n",
      ">>> thebest\n",
      ">>> thes\n",
      "and\n",
      ">>> anding\n",
      ">>> ands\n",
      ">>> ood\n",
      ">>> andren\n",
      ">>> anded\n",
      ">>> ander\n",
      "that\n",
      ">>> that led\n",
      ">>> thats\n",
      ">>> those\n",
      "for\n",
      ">>> forring\n",
      ">>> fored\n",
      ">>> fors\n",
      "with\n",
      ">>> withim\n",
      ">>> withing\n",
      ">>> withs\n",
      "but\n",
      ">>> buts\n",
      "you\n",
      ">>> youed\n",
      ">>> yous\n",
      ">>> youta\n",
      ">>> youx\n",
      ">>> youing\n",
      ">>> youger\n",
      "this\n",
      ">>> thises\n",
      ">>> this led\n",
      ">>> these\n",
      "not\n",
      ">>> not bed\n",
      ">>> notest\n",
      ">>> notting\n",
      ">>> nots\n",
      "have\n",
      ">>> have led\n",
      ">>> haveta\n",
      ">>> haveing\n",
      ">>> had\n",
      ">>> haved\n",
      ">>> haves\n",
      ">>> having\n",
      ">>> havest\n",
      "letter\n",
      ">>> lettered\n",
      ">>> letterd\n",
      ">>> lettering\n",
      ">>> letters\n",
      ">>> lettera\n",
      "plate\n",
      ">>> plating\n",
      ">>> plated\n",
      ">>> plates\n",
      "treat\n",
      ">>> treats\n",
      ">>> treated\n",
      ">>> treaten\n",
      ">>> treating\n",
      ">>> treatest\n",
      "dinner\n",
      ">>> dinners\n",
      "necessary\n",
      ">>> necessarie\n",
      "go\n",
      ">>> gota\n",
      ">>> gos\n",
      ">>> gone\n",
      ">>> went\n",
      ">>> goed\n",
      ">>> goes\n",
      ">>> goren\n",
      ">>> going\n",
      "secret\n",
      ">>> secrets\n",
      ">>> secret\n",
      ">>> secreter\n",
      "table\n",
      ">>> tables\n",
      ">>> tabled\n",
      ">>> tabling\n",
      ">>> tabler\n",
      "create\n",
      ">>> creating\n",
      ">>> creates\n",
      ">>> createing\n",
      ">>> created\n",
      "warm\n",
      ">>> warmest\n",
      ">>> warmed\n",
      ">>> warms\n",
      ">>> warmer\n",
      ">>> warming\n",
      "America\n",
      ">>> americae\n",
      ">>> americas\n",
      ">>> america\n",
      "nobody\n",
      ">>> nobodies\n",
      ">>> nobodys\n",
      "entire\n",
      ">>> entire\n",
      ">>> entired\n",
      "thousand\n",
      ">>> thousands\n",
      "Belgium\n",
      ">>> belgiums\n",
      "anything\n",
      ">>> anythings\n",
      "background\n",
      ">>> background\n",
      "child\n",
      ">>> children\n",
      ">>> childer\n",
      ">>> childs\n",
      ">>> chilt\n",
      "childhood\n",
      ">>> childhoods\n",
      ">>> childhood\n",
      "dependable\n",
      ">>> dependable\n",
      "everything\n",
      ">>> everythung\n",
      ">>> everything\n",
      "grandchild\n",
      ">>> grandchild\n",
      "ketchup\n",
      ">>> ketchups\n",
      ">>> ketchuped\n",
      "point\n",
      ">>> pointing\n",
      ">>> pointest\n",
      ">>> points\n",
      ">>> pointed\n",
      ">>> point\n",
      ">>> pointtest\n",
      "strength\n",
      ">>> strengths\n",
      "star\n",
      ">>> star\n",
      ">>> starred\n",
      ">>> starring\n",
      ">>> starrer\n",
      ">>> stars\n",
      ">>> starer\n",
      "thing\n",
      ">>> thung\n",
      ">>> things\n",
      "coincide\n",
      ">>> coincided\n",
      ">>> coinciding\n",
      ">>> coincides\n",
      "coincidental\n",
      "dance\n",
      ">>> danceing\n",
      ">>> dancing\n",
      ">>> dances\n",
      ">>> danced\n",
      "countryside\n",
      ">>> countrysid\n",
      "break\n",
      ">>> breaks\n",
      ">>> broke\n",
      ">>> breakest\n",
      ">>> breaking\n",
      ">>> broken\n",
      ">>> breaked\n",
      "mother\n",
      ">>> mothers\n",
      ">>> mothering\n",
      ">>> motherin\n",
      ">>> mothered\n",
      "start\n",
      ">>> starttest\n",
      ">>> startd\n",
      ">>> started\n",
      ">>> starts\n",
      ">>> startted\n",
      ">>> starting\n",
      "tip\n",
      ">>> tipping\n",
      ">>> tipped\n",
      ">>> tips\n",
      ">>> tiped\n",
      "apologise\n",
      ">>> apologised\n",
      ">>> apologisin\n",
      ">>> apologises\n",
      "come\n",
      ">>> came\n",
      ">>> comeing\n",
      ">>> comest\n",
      ">>> coming\n",
      ">>> comes\n",
      "curriculum\n",
      ">>> curricula\n",
      ">>> curriculum\n",
      "expertise\n",
      ">>> expertised\n",
      ">>> expertise\n",
      ">>> expertisin\n",
      ">>> expertises\n",
      "freeze\n",
      ">>> freezing\n",
      ">>> froze\n",
      ">>> frozen\n",
      ">>> freezes\n",
      ">>> freezed\n",
      "issue\n",
      ">>> issue\n",
      ">>> issueing\n",
      ">>> issued\n",
      ">>> issuing\n",
      ">>> issues\n",
      "peremptory\n",
      ">>> peremptori\n",
      "parent\n",
      ">>> parented\n",
      ">>> parenting\n",
      ">>> parent\n",
      ">>> parents\n",
      "member\n",
      ">>> members\n",
      "band\n",
      ">>> banding\n",
      ">>> bands\n",
      ">>> bood\n",
      ">>> banded\n",
      "order\n",
      ">>> orders\n",
      ">>> orderi\n",
      ">>> ordering\n",
      ">>> ordered\n",
      ">>> orderest\n",
      "hot\n",
      ">>> hots\n",
      ">>> hoting\n",
      ">>> hotted\n",
      ">>> hotest\n",
      ">>> hotter\n",
      ">>> hotting\n",
      ">>> hoted\n",
      ">>> hottest\n",
      "fly\n",
      ">>> flid\n",
      ">>> flyest\n",
      ">>> flew\n",
      ">>> flying\n",
      ">>> flyed\n",
      ">>> fliest\n",
      ">>> flies\n",
      ">>> flied\n",
      ">>> flys\n",
      "lie\n",
      ">>> lies\n",
      ">>> lying\n",
      ">>> lieing\n",
      ">>> lied\n",
      ">>> lain\n",
      ">>> liebing\n",
      "select\n",
      ">>> selects\n",
      ">>> selected\n",
      ">>> selectin\n",
      ">>> selectest\n",
      ">>> selectted\n",
      ">>> selecting\n",
      "school\n",
      ">>> schools\n",
      ">>> schooling\n",
      ">>> schooled\n",
      "cafe\n",
      ">>> cafes\n",
      "buy\n",
      ">>> buys\n",
      ">>> buying\n",
      ">>> buyest\n",
      ">>> buies\n",
      ">>> buyed\n",
      "tell\n",
      ">>> tellest\n",
      ">>> tollen\n",
      ">>> telling\n",
      ">>> tells\n",
      ">>> told\n",
      "international\n",
      ">>> internatio\n",
      "stand\n",
      ">>> standed\n",
      ">>> stands\n",
      ">>> standest\n",
      ">>> stander\n",
      ">>> stood\n",
      ">>> standing\n",
      "fish\n",
      ">>> fishd\n",
      ">>> fishing\n",
      ">>> fishes\n",
      ">>> fishs\n",
      ">>> fished\n",
      ">>> fishbed\n",
      "benefit\n",
      ">>> benefits\n",
      ">>> benefittin\n",
      ">>> benefitted\n",
      ">>> benefited\n",
      ">>> benefiting\n",
      "intelligent\n",
      ">>> intelligen\n",
      "follow\n",
      ">>> follows\n",
      ">>> followed\n",
      ">>> following\n",
      "journey\n",
      ">>> journeying\n",
      ">>> journeys\n",
      ">>> journeyd\n",
      ">>> journeyin\n",
      ">>> journeyed\n",
      "news\n",
      ">>> newses\n",
      "write\n",
      ">>> writes\n",
      ">>> wrote\n",
      ">>> writing\n",
      ">>> written\n",
      ">>> writeing\n",
      "approbation\n",
      ">>> approbatio\n",
      "read\n",
      ">>> readest\n",
      ">>> reads\n",
      ">>> reader\n",
      ">>> reading\n",
      ">>> readed\n",
      "hear\n",
      ">>> hearred\n",
      ">>> hearing\n",
      ">>> hearther\n",
      ">>> heared\n",
      ">>> horne\n",
      ">>> heard\n",
      ">>> hears\n",
      "feel\n",
      ">>> feeling\n",
      ">>> feelest\n",
      ">>> felt\n",
      ">>> feelling\n",
      ">>> feels\n",
      ">>> feeled\n",
      "be\n",
      ">>> beger\n",
      ">>> bes\n",
      ">>> is\n",
      ">>> am\n",
      ">>> will\n",
      ">>> being\n",
      ">>> were\n",
      ">>> been\n",
      ">>> beren\n",
      ">>> was\n",
      "right\n",
      ">>> rights\n",
      ">>> rightest\n",
      ">>> righter\n",
      ">>> righted\n",
      ">>> righting\n",
      "guru\n",
      ">>> guru\n",
      ">>> gurus\n",
      "beginner\n",
      ">>> beginners\n",
      "collide\n",
      ">>> collode\n",
      ">>> collided\n",
      ">>> collides\n",
      ">>> colliding\n",
      "genetically\n",
      "precedent\n",
      ">>> precedents\n",
      "refugee\n",
      ">>> refugees\n",
      ">>> refugeeing\n",
      "secular\n",
      ">>> seculars\n",
      "pasta\n",
      ">>> pastas\n",
      "beaver\n",
      ">>> beavered\n",
      ">>> beavers\n",
      ">>> beavering\n",
      "tiger\n",
      ">>> tigers\n",
      ">>> tigering\n",
      ">>> tigered\n",
      "lion\n",
      ">>> lions\n",
      "pen\n",
      ">>> penning\n",
      ">>> pened\n",
      ">>> pens\n",
      ">>> penned\n",
      "coconut\n",
      ">>> coconuts\n",
      "dynamite\n",
      ">>> dynamites\n",
      ">>> dynamited\n",
      ">>> dynamiting\n",
      "spoon\n",
      ">>> spoons\n",
      ">>> spoonin\n",
      ">>> spooned\n",
      ">>> spooning\n",
      "ocean\n",
      ">>> ocean\n",
      ">>> oceaner\n",
      ">>> oceans\n",
      "mug\n",
      ">>> mugging\n",
      ">>> mugged\n",
      ">>> mugs\n",
      "shampoo\n",
      ">>> shampoos\n",
      ">>> shampooing\n",
      ">>> shampooed\n",
      "buzzer\n",
      ">>> buzzers\n",
      "exhaustively\n",
      "exhaustively  is not in db\n",
      "apoplexy\n",
      "submissively\n",
      "typhus\n",
      "ravioli\n",
      "meeting\n",
      ">>> meetings\n",
      "actually\n",
      "earring\n",
      ">>> earrings\n",
      ">>> earringed\n",
      "add\n",
      ">>> added\n",
      ">>> adds\n",
      ">>> adding\n",
      "adjective\n",
      ">>> adjectives\n",
      ">>> adjective\n",
      "drawing\n",
      ">>> drawings\n",
      "dream\n",
      ">>> dreamled\n",
      ">>> dreamt\n",
      ">>> dreamest\n",
      ">>> dreaming\n",
      ">>> dreams\n",
      ">>> dreamed\n",
      "dressed\n",
      "driving\n",
      ">>> drivings\n",
      "drum\n",
      ">>> drumming\n",
      ">>> drummed\n",
      ">>> drums\n",
      "dry\n",
      ">>> dryest\n",
      ">>> dries\n",
      ">>> driest\n",
      ">>> drys\n",
      ">>> drying\n",
      ">>> dryed\n",
      "duck\n",
      ">>> ducking\n",
      ">>> ducked\n",
      ">>> ducks\n",
      "advanced\n",
      "during\n",
      "earn\n",
      ">>> earnt\n",
      ">>> earned\n",
      ">>> earn\n",
      ">>> earning\n",
      ">>> earns\n",
      ">>> earnd\n",
      "singular\n",
      ">>> singulars\n",
      "easily\n",
      ">>> easilier\n",
      "east\n",
      ">>> eastest\n",
      ">>> easting\n",
      ">>> easten\n",
      ">>> easts\n",
      ">>> eastren\n",
      ">>> east\n",
      "eighth\n",
      ">>> eighths\n",
      ">>> eighthed\n",
      "adventure\n",
      ">>> adventurin\n",
      ">>> adventures\n",
      ">>> adventure\n",
      ">>> adventured\n",
      "eighty\n",
      ">>> eighties\n",
      "adverb\n",
      ">>> adverbs\n",
      "electric\n",
      "advertisement\n",
      ">>> advertisem\n",
      "century\n",
      ">>> centuries\n",
      ">>> centuried\n",
      "size\n",
      ">>> sizing\n",
      ">>> sizes\n",
      ">>> sized\n",
      "electricity\n",
      ">>> electricit\n",
      "elephant\n",
      ">>> elephants\n",
      "else\n",
      ">>> elses\n",
      ">>> elsing\n",
      "empty\n",
      ">>> emptying\n",
      ">>> emptyed\n",
      ">>> emptied\n",
      ">>> emptiest\n",
      ">>> emptier\n",
      ">>> emptys\n",
      ">>> empties\n",
      "engine\n",
      ">>> engine bed\n",
      ">>> engine\n",
      ">>> engining\n",
      ">>> engines\n",
      ">>> engined\n",
      "engineer\n",
      ">>> engineered\n",
      ">>> engineerin\n",
      ">>> engineers\n",
      "enough\n",
      ">>> enoughs\n",
      "enter\n",
      ">>> entering\n",
      ">>> enters\n",
      ">>> entered\n",
      ">>> enterest\n",
      "entrance\n",
      ">>> entranced\n",
      ">>> entrance\n",
      ">>> entrances\n",
      ">>> entrancing\n",
      "advice\n",
      ">>> adviced\n",
      ">>> advices\n",
      ">>> advice\n",
      ">>> advicing\n",
      "aeroplane\n",
      ">>> aeroplaned\n",
      ">>> aeroplanes\n",
      "envelope\n",
      ">>> envelopes\n",
      ">>> envelope\n",
      "especially\n",
      "euro\n",
      ">>> euros\n",
      "even\n",
      ">>> evenning\n",
      ">>> evens\n",
      ">>> evened\n",
      "afraid\n",
      ">>> afraided\n",
      ">>> afraids\n",
      "afterwards\n",
      ">>> afterwards\n",
      "everyone\n",
      ">>> everyones\n",
      "against\n",
      ">>> againsts\n",
      "everything\n",
      ">>> everythung\n",
      ">>> everything\n",
      "everywhere\n",
      ">>> everywhere\n",
      "aged\n",
      "ago\n",
      ">>> ago\n",
      ">>> agota\n",
      "exactly\n",
      "exam\n",
      ">>> examing\n",
      ">>> exams\n",
      ">>> examed\n",
      ">>> exammed\n",
      "examination\n",
      ">>> examinatio\n",
      "excellent\n",
      ">>> excellente\n",
      "except\n",
      ">>> excepted\n",
      ">>> excepts\n",
      ">>> excepting\n",
      "exercise\n",
      ">>> exercising\n",
      ">>> exercised\n",
      ">>> exercises\n",
      "exit\n",
      ">>> exitting\n",
      ">>> exiting\n",
      ">>> exited\n",
      ">>> exits\n",
      "explain\n",
      ">>> explains\n",
      ">>> explainest\n",
      ">>> explainer\n",
      ">>> explaining\n",
      ">>> explained\n",
      "extra\n",
      ">>> extra bed\n",
      ">>> extras\n",
      "fact\n",
      ">>> facting\n",
      ">>> facted\n",
      ">>> facts\n",
      "fail\n",
      ">>> failling\n",
      ">>> failest\n",
      ">>> fails\n",
      ">>> failing\n",
      ">>> failed\n",
      "fair\n",
      ">>> fairest\n",
      ">>> fairer\n",
      ">>> fair\n",
      ">>> faired\n",
      ">>> fairing\n",
      ">>> fairs\n",
      ">>> fairi\n",
      "fall\n",
      ">>> fallest\n",
      ">>> fell\n",
      ">>> fallling\n",
      ">>> falls\n",
      ">>> falling\n",
      ">>> fallen\n",
      "agree\n",
      ">>> agreeing\n",
      ">>> agreed\n",
      ">>> agrees\n",
      "air\n",
      ">>> airi\n",
      ">>> aird\n",
      ">>> aired\n",
      ">>> airin\n",
      ">>> airs\n",
      ">>> airing\n",
      "airport\n",
      ">>> airports\n",
      "fan\n",
      ">>> fanning\n",
      ">>> fans\n",
      ">>> faner\n",
      ">>> fannest\n",
      ">>> faned\n",
      ">>> fanned\n",
      "fantastic\n",
      ">>> fantastics\n",
      "far\n",
      ">>> farer\n",
      ">>> farther\n",
      ">>> farring\n",
      ">>> farthest\n",
      ">>> furthest\n",
      ">>> further\n",
      ">>> fars\n",
      "farmer\n",
      ">>> farmers\n",
      "fashion\n",
      ">>> fashioned\n",
      ">>> fashions\n",
      ">>> fashioning\n",
      "quite\n",
      "alarm\n",
      ">>> alarming\n",
      ">>> alarmed\n",
      ">>> alarmling\n",
      ">>> alarms\n",
      "album\n",
      ">>> albums\n",
      "alcohol\n",
      ">>> alcohols\n",
      "almost\n",
      "alone\n",
      ">>> aloner\n",
      "field\n",
      ">>> fielding\n",
      ">>> fields\n",
      ">>> fielded\n",
      ">>> fielder\n",
      ">>> field\n",
      "fifth\n",
      ">>> fifths\n",
      "fifty\n",
      ">>> fiftys\n",
      "file\n",
      ">>> fild\n",
      ">>> files\n",
      ">>> file\n",
      ">>> filing\n",
      ">>> filed\n",
      "fill\n",
      ">>> fillling\n",
      ">>> filling\n",
      ">>> filled\n",
      ">>> fills\n",
      ">>> fillled\n",
      ">>> fillest\n",
      "final\n",
      ">>> finals\n",
      "finally\n",
      "finger\n",
      ">>> fingers\n",
      ">>> fingered\n",
      ">>> fingering\n",
      "fire\n",
      ">>> fireing\n",
      ">>> firest\n",
      ">>> fired\n",
      ">>> fires\n",
      ">>> firebed\n",
      ">>> firing\n",
      "fishing\n",
      ">>> fishings\n",
      "fit\n",
      ">>> fitter\n",
      ">>> fiting\n",
      ">>> fited\n",
      ">>> fits\n",
      ">>> fitting\n",
      ">>> fitted\n",
      ">>> fittest\n",
      "flight\n",
      ">>> flights\n",
      ">>> flighting\n",
      ">>> flighter\n",
      ">>> flighted\n",
      ">>> flightin\n",
      "along\n",
      ">>> alonger\n",
      ">>> alongs\n",
      ">>> alonged\n",
      "bedroom\n",
      ">>> bedroomed\n",
      ">>> bedrooms\n",
      "beer\n",
      ">>> beers\n",
      ">>> beeri\n",
      ">>> beered\n",
      "before\n"
     ]
    },
    {
     "name": "stdout",
     "output_type": "stream",
     "text": [
      ">>> befores\n",
      "begin\n",
      ">>> begins\n",
      ">>> began\n",
      ">>> beginning\n",
      ">>> beginer\n",
      ">>> begining\n",
      ">>> beginnest\n",
      ">>> begun\n",
      ">>> begin\n",
      "behind\n",
      ">>> behinds\n",
      "below\n",
      ">>> below\n",
      ">>> belowed\n",
      ">>> belows\n",
      "best\n",
      ">>> bester\n",
      ">>> bests\n",
      ">>> best best\n",
      ">>> besting\n",
      ">>> bestest\n",
      ">>> bested\n",
      "synchrophasotron\n",
      "synchrophasotron  is not in db\n"
     ]
    }
   ],
   "source": [
    "en_fr_wv = parse_from_yandex_lookup_vs_wordforms(\"./y_lookup/en_fr/\")"
   ]
  },
  {
   "cell_type": "code",
   "execution_count": 78,
   "metadata": {},
   "outputs": [],
   "source": [
    "en_fr_wv.to_csv(\"yandex_lookup_en_fr_with_wordforms.csv\")"
   ]
  },
  {
   "cell_type": "code",
   "execution_count": 21,
   "metadata": {},
   "outputs": [
    {
     "data": {
      "text/plain": [
       "(676, 676, 676, 676)"
      ]
     },
     "execution_count": 21,
     "metadata": {},
     "output_type": "execute_result"
    }
   ],
   "source": [
    "len(word), len(local_word), len(examples), len(examples_local)"
   ]
  },
  {
   "cell_type": "code",
   "execution_count": 35,
   "metadata": {},
   "outputs": [
    {
     "data": {
      "text/html": [
       "<div>\n",
       "<style scoped>\n",
       "    .dataframe tbody tr th:only-of-type {\n",
       "        vertical-align: middle;\n",
       "    }\n",
       "\n",
       "    .dataframe tbody tr th {\n",
       "        vertical-align: top;\n",
       "    }\n",
       "\n",
       "    .dataframe thead th {\n",
       "        text-align: right;\n",
       "    }\n",
       "</style>\n",
       "<table border=\"1\" class=\"dataframe\">\n",
       "  <thead>\n",
       "    <tr style=\"text-align: right;\">\n",
       "      <th></th>\n",
       "      <th>word</th>\n",
       "      <th>local_word</th>\n",
       "      <th>examples</th>\n",
       "      <th>local_examples</th>\n",
       "    </tr>\n",
       "  </thead>\n",
       "  <tbody>\n",
       "    <tr>\n",
       "      <th>0</th>\n",
       "      <td>for</td>\n",
       "      <td>для</td>\n",
       "      <td>[for the bank, for last month, for one year, f...</td>\n",
       "      <td>[для банка, за последний месяц, на один год, н...</td>\n",
       "    </tr>\n",
       "    <tr>\n",
       "      <th>1</th>\n",
       "      <td>for</td>\n",
       "      <td>ради</td>\n",
       "      <td>[for god]</td>\n",
       "      <td>[ради бога]</td>\n",
       "    </tr>\n",
       "    <tr>\n",
       "      <th>2</th>\n",
       "      <td>for</td>\n",
       "      <td>в течение</td>\n",
       "      <td>[]</td>\n",
       "      <td>[]</td>\n",
       "    </tr>\n",
       "    <tr>\n",
       "      <th>3</th>\n",
       "      <td>for</td>\n",
       "      <td>в отношении</td>\n",
       "      <td>[]</td>\n",
       "      <td>[]</td>\n",
       "    </tr>\n",
       "    <tr>\n",
       "      <th>4</th>\n",
       "      <td>for</td>\n",
       "      <td>для целей</td>\n",
       "      <td>[]</td>\n",
       "      <td>[]</td>\n",
       "    </tr>\n",
       "  </tbody>\n",
       "</table>\n",
       "</div>"
      ],
      "text/plain": [
       "  word   local_word                                           examples  \\\n",
       "0  for          для  [for the bank, for last month, for one year, f...   \n",
       "1  for         ради                                          [for god]   \n",
       "2  for    в течение                                                 []   \n",
       "3  for  в отношении                                                 []   \n",
       "4  for    для целей                                                 []   \n",
       "\n",
       "                                      local_examples  \n",
       "0  [для банка, за последний месяц, на один год, н...  \n",
       "1                                        [ради бога]  \n",
       "2                                                 []  \n",
       "3                                                 []  \n",
       "4                                                 []  "
      ]
     },
     "execution_count": 35,
     "metadata": {},
     "output_type": "execute_result"
    }
   ],
   "source": [
    "enru_ = parse_from_yandex_lookup(\"./y_lookup/en_ru/\")\n",
    "enru.head()"
   ]
  },
  {
   "cell_type": "code",
   "execution_count": null,
   "metadata": {},
   "outputs": [],
   "source": [
    "enru"
   ]
  },
  {
   "cell_type": "code",
   "execution_count": 23,
   "metadata": {},
   "outputs": [
    {
     "name": "stdout",
     "output_type": "stream",
     "text": [
      "for.json\n",
      "before.json\n",
      "adverb.json\n",
      "during.json\n",
      "airport.json\n",
      "exit.json\n",
      "drum.json\n",
      "empty.json\n",
      "dressed.json\n",
      "cafe.json\n",
      "flight.json\n",
      "begin.json\n",
      "fact.json\n",
      "dream.json\n",
      "alarm.json\n",
      "along.json\n",
      "follow.json\n",
      "warm.json\n",
      "collide.json\n",
      "excellent.json\n",
      "break.json\n",
      "examination.json\n",
      "tiger.json\n",
      "engineer.json\n",
      "lion.json\n",
      "even.json\n",
      "field.json\n",
      "background.json\n",
      "easily.json\n",
      "write.json\n",
      "ravioli.json\n",
      "apologise.json\n",
      "fire.json\n",
      "fly.json\n",
      "beaver.json\n",
      "duck.json\n",
      "coincide.json\n",
      "exactly.json\n",
      "anything.json\n",
      "exhaustively.json\n",
      "apoplexy.json\n",
      "coconut.json\n",
      "not.json\n",
      "international.json\n",
      "synchrophasotron.json\n",
      "best.json\n",
      "parent.json\n",
      "ocean.json\n",
      "coincidental.json\n",
      "buzzer.json\n",
      "century.json\n",
      "euro.json\n",
      "dynamite.json\n",
      "buy.json\n",
      "afraid.json\n",
      "peremptory.json\n",
      "member.json\n",
      "childhood.json\n",
      "go.json\n",
      "plate.json\n",
      "fish.json\n",
      "farmer.json\n",
      "stand.json\n",
      "drawing.json\n",
      "explain.json\n",
      "typhus.json\n",
      "precedent.json\n",
      "advertisement.json\n",
      "issue.json\n",
      "fifty.json\n",
      "thousand.json\n",
      "aged.json\n",
      "file.json\n",
      "pen.json\n",
      "fan.json\n",
      "pasta.json\n",
      "hot.json\n",
      "that.json\n",
      "engine.json\n",
      "advanced.json\n",
      "be.json\n",
      "but.json\n",
      "and.json\n",
      "expertise.json\n",
      "dry.json\n",
      "fantastic.json\n",
      "eighty.json\n",
      "bedroom.json\n",
      "tell.json\n",
      "fit.json\n",
      "earn.json\n",
      "aeroplane.json\n",
      "especially.json\n",
      "entrance.json\n",
      "feel.json\n",
      "extra.json\n",
      "singular.json\n",
      "earring.json\n",
      "fall.json\n",
      "news.json\n",
      "ago.json\n",
      "electric.json\n",
      "enter.json\n",
      "start.json\n",
      "alcohol.json\n",
      "intelligent.json\n",
      "refugee.json\n",
      "create.json\n",
      "enough.json\n",
      "nobody.json\n",
      "word.json\n",
      "behind.json\n",
      "fair.json\n",
      "genetically.json\n",
      "mug.json\n",
      "countryside.json\n",
      "electricity.json\n",
      "spoon.json\n",
      "journey.json\n",
      "you.json\n",
      "table.json\n",
      "thing.json\n",
      "shampoo.json\n",
      "finger.json\n",
      "come.json\n",
      "elephant.json\n",
      "add.json\n",
      "grandchild.json\n",
      "advice.json\n",
      "point.json\n",
      "adventure.json\n",
      "lie.json\n",
      "curriculum.json\n",
      "tip.json\n",
      "entire.json\n",
      "against.json\n",
      "hear.json\n",
      "actually.json\n",
      "right.json\n",
      "else.json\n",
      "album.json\n",
      "fifth.json\n",
      "beer.json\n",
      "secret.json\n",
      "this.json\n",
      "guru.json\n",
      "fashion.json\n",
      "submissively.json\n",
      "except.json\n",
      "star.json\n",
      "east.json\n",
      "benefit.json\n",
      "meeting.json\n",
      "quite.json\n",
      "strength.json\n",
      "ketchup.json\n",
      "afterwards.json\n",
      "beginner.json\n",
      "final.json\n",
      "agree.json\n",
      "alone.json\n",
      "exam.json\n",
      "exercise.json\n",
      "child.json\n",
      "school.json\n",
      "band.json\n",
      "letter.json\n",
      "driving.json\n",
      "fishing.json\n",
      "adjective.json\n",
      "dinner.json\n",
      "America.json\n",
      "dependable.json\n",
      "finally.json\n",
      "Belgium.json\n",
      "almost.json\n",
      "secular.json\n",
      "far.json\n",
      "eighth.json\n",
      "the.json\n",
      "everything.json\n",
      "air.json\n",
      "below.json\n",
      "dance.json\n",
      "mother.json\n",
      "fill.json\n",
      "have.json\n",
      "everywhere.json\n",
      "order.json\n",
      "fail.json\n",
      "everyone.json\n",
      "envelope.json\n",
      "freeze.json\n",
      "necessary.json\n",
      "with.json\n",
      "size.json\n",
      "treat.json\n",
      "approbation.json\n",
      "select.json\n",
      "read.json\n"
     ]
    },
    {
     "data": {
      "text/html": [
       "<div>\n",
       "<style scoped>\n",
       "    .dataframe tbody tr th:only-of-type {\n",
       "        vertical-align: middle;\n",
       "    }\n",
       "\n",
       "    .dataframe tbody tr th {\n",
       "        vertical-align: top;\n",
       "    }\n",
       "\n",
       "    .dataframe thead th {\n",
       "        text-align: right;\n",
       "    }\n",
       "</style>\n",
       "<table border=\"1\" class=\"dataframe\">\n",
       "  <thead>\n",
       "    <tr style=\"text-align: right;\">\n",
       "      <th></th>\n",
       "      <th>word</th>\n",
       "      <th>local_word</th>\n",
       "      <th>examples</th>\n",
       "      <th>local_examples</th>\n",
       "    </tr>\n",
       "  </thead>\n",
       "  <tbody>\n",
       "    <tr>\n",
       "      <th>0</th>\n",
       "      <td>for</td>\n",
       "      <td>pour</td>\n",
       "      <td>[]</td>\n",
       "      <td>[]</td>\n",
       "    </tr>\n",
       "    <tr>\n",
       "      <th>1</th>\n",
       "      <td>before</td>\n",
       "      <td>avant</td>\n",
       "      <td>[]</td>\n",
       "      <td>[]</td>\n",
       "    </tr>\n",
       "    <tr>\n",
       "      <th>2</th>\n",
       "      <td>before</td>\n",
       "      <td>auparavant</td>\n",
       "      <td>[]</td>\n",
       "      <td>[]</td>\n",
       "    </tr>\n",
       "    <tr>\n",
       "      <th>3</th>\n",
       "      <td>adverb</td>\n",
       "      <td>adverbe</td>\n",
       "      <td>[]</td>\n",
       "      <td>[]</td>\n",
       "    </tr>\n",
       "    <tr>\n",
       "      <th>4</th>\n",
       "      <td>during</td>\n",
       "      <td>lors</td>\n",
       "      <td>[]</td>\n",
       "      <td>[]</td>\n",
       "    </tr>\n",
       "  </tbody>\n",
       "</table>\n",
       "</div>"
      ],
      "text/plain": [
       "     word  local_word examples local_examples\n",
       "0     for        pour       []             []\n",
       "1  before       avant       []             []\n",
       "2  before  auparavant       []             []\n",
       "3  adverb     adverbe       []             []\n",
       "4  during        lors       []             []"
      ]
     },
     "execution_count": 23,
     "metadata": {},
     "output_type": "execute_result"
    }
   ],
   "source": [
    "enfr__whole_list = parse_from_yandex_lookup(\"./y_lookup/en_fr_whole_list/\", print_output=True)\n",
    "enfr__whole_list.head()"
   ]
  },
  {
   "cell_type": "code",
   "execution_count": 27,
   "metadata": {},
   "outputs": [
    {
     "ename": "ValueError",
     "evalue": "'nobody' is not in list",
     "output_type": "error",
     "traceback": [
      "\u001b[0;31m---------------------------------------------------------------------------\u001b[0m",
      "\u001b[0;31mValueError\u001b[0m                                Traceback (most recent call last)",
      "\u001b[0;32m<ipython-input-27-252af12bedc0>\u001b[0m in \u001b[0;36m<module>\u001b[0;34m\u001b[0m\n\u001b[0;32m----> 1\u001b[0;31m \u001b[0mlist\u001b[0m\u001b[0;34m(\u001b[0m\u001b[0menfr__whole_list\u001b[0m\u001b[0;34m[\u001b[0m\u001b[0;34m'word'\u001b[0m\u001b[0;34m]\u001b[0m\u001b[0;34m)\u001b[0m\u001b[0;34m.\u001b[0m\u001b[0mindex\u001b[0m\u001b[0;34m(\u001b[0m\u001b[0;34m\"nobody\"\u001b[0m\u001b[0;34m)\u001b[0m\u001b[0;34m\u001b[0m\u001b[0;34m\u001b[0m\u001b[0m\n\u001b[0m",
      "\u001b[0;31mValueError\u001b[0m: 'nobody' is not in list"
     ]
    }
   ],
   "source": [
    "list(enfr__whole_list['word']).index(\"nobody\")"
   ]
  },
  {
   "cell_type": "code",
   "execution_count": 39,
   "metadata": {},
   "outputs": [],
   "source": [
    "enru.to_csv(\"yandex_lookup_en_ru_lemmas_only.csv\")"
   ]
  },
  {
   "cell_type": "code",
   "execution_count": 21,
   "metadata": {},
   "outputs": [],
   "source": [
    "enfr__whole_list.to_csv(\"yandex_lookup_en_fr_lemmas_only_WHOLE_LIST.csv\")"
   ]
  },
  {
   "cell_type": "code",
   "execution_count": 44,
   "metadata": {},
   "outputs": [
    {
     "data": {
      "text/plain": [
       "{'translate': 'écrous et boulons'}"
      ]
     },
     "execution_count": 44,
     "metadata": {},
     "output_type": "execute_result"
    }
   ],
   "source": [
    "url_y = \"http://192.168.122.13:31436/GetTranslate\"\n",
    "h_y = {\"apiVersion\": \"1.0.0\", \"text\": \"гайки и болты\", \"langPair\": {\"source\": \"ru\", \"target\": \"fr\"}}\n",
    "#h_y = {\"apiVersion\": \"1.0.0\", \"text\": \"Landing to the mars\", \"langPair\": \"en-ru\"}\n",
    "r = requests.post(url = url_y, json=h_y)\n",
    "data = r.json()\n",
    "data"
   ]
  },
  {
   "cell_type": "code",
   "execution_count": 41,
   "metadata": {},
   "outputs": [
    {
     "data": {
      "text/plain": [
       "'salut, connard.'"
      ]
     },
     "execution_count": 41,
     "metadata": {},
     "output_type": "execute_result"
    }
   ],
   "source": [
    "def y_translate(text, from_lang, to_lang):\n",
    "    url_y = \"http://192.168.122.13:31436/GetTranslate\"\n",
    "    h_y = {\"apiVersion\": \"1.0.0\", \"text\": text, \"langPair\": {\"source\": from_lang, \"target\": to_lang}}\n",
    "    r = requests.post(url = url_y, json=h_y)\n",
    "    data = r.json()\n",
    "    return data['translate']\n",
    "y_translate(\"привет уеба\", \"ru\", \"fr\")"
   ]
  },
  {
   "cell_type": "code",
   "execution_count": 14,
   "metadata": {},
   "outputs": [
    {
     "data": {
      "text/plain": [
       "1190"
      ]
     },
     "execution_count": 14,
     "metadata": {},
     "output_type": "execute_result"
    }
   ],
   "source": [
    "enru_small = parse_from_yandex_lookup(\"./y_lookup/en_ru/\")\n",
    "len(enru_small)"
   ]
  },
  {
   "cell_type": "code",
   "execution_count": 13,
   "metadata": {},
   "outputs": [
    {
     "data": {
      "text/plain": [
       "19"
      ]
     },
     "execution_count": 13,
     "metadata": {},
     "output_type": "execute_result"
    }
   ],
   "source": []
  },
  {
   "cell_type": "code",
   "execution_count": 12,
   "metadata": {},
   "outputs": [
    {
     "data": {
      "text/plain": [
       "1410"
      ]
     },
     "execution_count": 12,
     "metadata": {},
     "output_type": "execute_result"
    }
   ],
   "source": []
  },
  {
   "cell_type": "code",
   "execution_count": 4,
   "metadata": {},
   "outputs": [
    {
     "name": "stdout",
     "output_type": "stream",
     "text": [
      "1410\n"
     ]
    },
    {
     "data": {
      "text/html": [
       "<div>\n",
       "<style scoped>\n",
       "    .dataframe tbody tr th:only-of-type {\n",
       "        vertical-align: middle;\n",
       "    }\n",
       "\n",
       "    .dataframe tbody tr th {\n",
       "        vertical-align: top;\n",
       "    }\n",
       "\n",
       "    .dataframe thead th {\n",
       "        text-align: right;\n",
       "    }\n",
       "</style>\n",
       "<table border=\"1\" class=\"dataframe\">\n",
       "  <thead>\n",
       "    <tr style=\"text-align: right;\">\n",
       "      <th></th>\n",
       "      <th>word</th>\n",
       "      <th>local_word</th>\n",
       "      <th>examples</th>\n",
       "      <th>local_examples</th>\n",
       "    </tr>\n",
       "  </thead>\n",
       "  <tbody>\n",
       "    <tr>\n",
       "      <th>0</th>\n",
       "      <td>for</td>\n",
       "      <td>для</td>\n",
       "      <td>[for the bank, for last month, for one year, f...</td>\n",
       "      <td>[для банка, за последний месяц, на один год, н...</td>\n",
       "    </tr>\n",
       "    <tr>\n",
       "      <th>1</th>\n",
       "      <td>for</td>\n",
       "      <td>ради</td>\n",
       "      <td>[for god]</td>\n",
       "      <td>[ради бога]</td>\n",
       "    </tr>\n",
       "    <tr>\n",
       "      <th>2</th>\n",
       "      <td>for</td>\n",
       "      <td>в течение</td>\n",
       "      <td>[]</td>\n",
       "      <td>[]</td>\n",
       "    </tr>\n",
       "    <tr>\n",
       "      <th>3</th>\n",
       "      <td>for</td>\n",
       "      <td>в отношении</td>\n",
       "      <td>[]</td>\n",
       "      <td>[]</td>\n",
       "    </tr>\n",
       "    <tr>\n",
       "      <th>4</th>\n",
       "      <td>for</td>\n",
       "      <td>для целей</td>\n",
       "      <td>[]</td>\n",
       "      <td>[]</td>\n",
       "    </tr>\n",
       "  </tbody>\n",
       "</table>\n",
       "</div>"
      ],
      "text/plain": [
       "  word   local_word                                           examples  \\\n",
       "0  for          для  [for the bank, for last month, for one year, f...   \n",
       "1  for         ради                                          [for god]   \n",
       "2  for    в течение                                                 []   \n",
       "3  for  в отношении                                                 []   \n",
       "4  for    для целей                                                 []   \n",
       "\n",
       "                                      local_examples  \n",
       "0  [для банка, за последний месяц, на один год, н...  \n",
       "1                                        [ради бога]  \n",
       "2                                                 []  \n",
       "3                                                 []  \n",
       "4                                                 []  "
      ]
     },
     "execution_count": 4,
     "metadata": {},
     "output_type": "execute_result"
    }
   ],
   "source": [
    "enru_big = parse_from_yandex_lookup(\"./y_lookup/yandex_lookup_big_en_ru/\")\n",
    "print(len(enru_big))\n",
    "enru_big.head()"
   ]
  },
  {
   "cell_type": "code",
   "execution_count": 5,
   "metadata": {},
   "outputs": [],
   "source": [
    "enru_big.to_csv(\"./lookup results/yandex_lookup_en_ru_lemmas_only_WHOLE_LIST.csv\")"
   ]
  },
  {
   "cell_type": "code",
   "execution_count": 58,
   "metadata": {
    "scrolled": true
   },
   "outputs": [],
   "source": [
    "def naive_translation(en_ru_dataframe, from_lang,to_lang):\n",
    "    word = []\n",
    "    local_word = []\n",
    "    example = []\n",
    "    local_example = []\n",
    "    for element_ind in tqdm(range(len(en_ru_dataframe))):\n",
    "        el_list = list(en_ru_dataframe.iloc[element_ind])\n",
    "        word.append(el_list[1])\n",
    "        print(el_list)\n",
    "        #print(el_list[2])\n",
    "        \n",
    "        try:\n",
    "            tr_local_word = y_translate(el_list[2],from_lang,to_lang)\n",
    "            print(el_list[2], \"ok\")\n",
    "        except:\n",
    "            tr_local_word = \"no_translation\"\n",
    "            print(\"failed\", el_list[1])\n",
    "        local_word.append(tr_local_word)\n",
    "        ex = ''\n",
    "        loc_ex = ''\n",
    "        try:\n",
    "            for example_i in el_list[3].split(\"|\"):\n",
    "                if example_i:\n",
    "                    ex += example_i + '|'\n",
    "                    try:\n",
    "                        ex_tr = y_translate(example_i,\"en\",to_lang)\n",
    "                        print(example_i, \"ok\")\n",
    "                    except:\n",
    "                        ex_tr = \"no_translation\"\n",
    "                        print(\"failed\", example_i)\n",
    "                    loc_ex+= ex_tr + '|'\n",
    "        except:\n",
    "            print(\"no examples\")\n",
    "        ex = ex[:-1]\n",
    "        loc_ex = loc_ex[:-1]\n",
    "        example.append(ex)\n",
    "        local_example.append(loc_ex)\n",
    "        if element_ind % 10 == 0: \n",
    "            data = pd.DataFrame(list(zip(word,local_word,example, local_example)),columns =['word', 'local_word', 'examples','local_examples'])\n",
    "            data.to_csv(\"/Users/nigula/LL/adjust_unigr_dict/y_translate/systran_enrufr_naive/\"+str(element_ind)+\".csv\")\n",
    "        \n",
    "        #if element_ind > 10: break\n",
    "    data = pd.DataFrame(list(zip(word,local_word,example, local_example)),columns =['word', 'local_word', 'examples','local_examples'])\n",
    "    return data"
   ]
  },
  {
   "cell_type": "code",
   "execution_count": null,
   "metadata": {},
   "outputs": [],
   "source": [
    "df_enru_whole = naive_translation(enru_big,\"ru\",\"fr\")\n",
    "df_enru_whole.head()"
   ]
  },
  {
   "cell_type": "code",
   "execution_count": 18,
   "metadata": {},
   "outputs": [],
   "source": [
    "df_enru_whole.to_csv(\"naive_transaltion_en_ru_fr_LEMMAS_WHOLE_LIST.csv\")"
   ]
  },
  {
   "cell_type": "markdown",
   "metadata": {},
   "source": [
    "# SYSTRAN EN RU TO FR NAIVE"
   ]
  },
  {
   "cell_type": "code",
   "execution_count": 30,
   "metadata": {},
   "outputs": [],
   "source": [
    "df_systran_en_ru = pd.read_csv(\"systran_en_ru.csv\")"
   ]
  },
  {
   "cell_type": "code",
   "execution_count": 32,
   "metadata": {},
   "outputs": [
    {
     "data": {
      "text/html": [
       "<div>\n",
       "<style scoped>\n",
       "    .dataframe tbody tr th:only-of-type {\n",
       "        vertical-align: middle;\n",
       "    }\n",
       "\n",
       "    .dataframe tbody tr th {\n",
       "        vertical-align: top;\n",
       "    }\n",
       "\n",
       "    .dataframe thead th {\n",
       "        text-align: right;\n",
       "    }\n",
       "</style>\n",
       "<table border=\"1\" class=\"dataframe\">\n",
       "  <thead>\n",
       "    <tr style=\"text-align: right;\">\n",
       "      <th></th>\n",
       "      <th>Unnamed: 0</th>\n",
       "      <th>word</th>\n",
       "      <th>local_word</th>\n",
       "      <th>examples</th>\n",
       "      <th>local_examples</th>\n",
       "      <th>definitions</th>\n",
       "    </tr>\n",
       "  </thead>\n",
       "  <tbody>\n",
       "    <tr>\n",
       "      <th>0</th>\n",
       "      <td>0</td>\n",
       "      <td>word</td>\n",
       "      <td>слово</td>\n",
       "      <td>key word|english word|first word|good word|</td>\n",
       "      <td>ключевое слово | английское слово | первое сло...</td>\n",
       "      <td>speech | expression | term |</td>\n",
       "    </tr>\n",
       "    <tr>\n",
       "      <th>1</th>\n",
       "      <td>1</td>\n",
       "      <td>and</td>\n",
       "      <td>и</td>\n",
       "      <td>NaN</td>\n",
       "      <td>NaN</td>\n",
       "      <td>|</td>\n",
       "    </tr>\n",
       "    <tr>\n",
       "      <th>2</th>\n",
       "      <td>2</td>\n",
       "      <td>and</td>\n",
       "      <td>а</td>\n",
       "      <td>NaN</td>\n",
       "      <td>NaN</td>\n",
       "      <td>but | while |</td>\n",
       "    </tr>\n",
       "    <tr>\n",
       "      <th>3</th>\n",
       "      <td>3</td>\n",
       "      <td>and</td>\n",
       "      <td>и</td>\n",
       "      <td>He thinks of you day and night|</td>\n",
       "      <td>Он думает о вас день и ночь |</td>\n",
       "      <td>NaN</td>\n",
       "    </tr>\n",
       "    <tr>\n",
       "      <th>4</th>\n",
       "      <td>4</td>\n",
       "      <td>and</td>\n",
       "      <td>но</td>\n",
       "      <td>It's an embarrassing joke and not an insult|</td>\n",
       "      <td>Это неуместная шутка, а не оскорбление |</td>\n",
       "      <td>NaN</td>\n",
       "    </tr>\n",
       "    <tr>\n",
       "      <th>5</th>\n",
       "      <td>5</td>\n",
       "      <td>and</td>\n",
       "      <td>а</td>\n",
       "      <td>This is a squid and not an octopus|</td>\n",
       "      <td>Это кальмар, а не осьминог |</td>\n",
       "      <td>NaN</td>\n",
       "    </tr>\n",
       "    <tr>\n",
       "      <th>6</th>\n",
       "      <td>6</td>\n",
       "      <td>that</td>\n",
       "      <td>так</td>\n",
       "      <td>NaN</td>\n",
       "      <td>NaN</td>\n",
       "      <td>as | so | as well as | how | so that | both |</td>\n",
       "    </tr>\n",
       "    <tr>\n",
       "      <th>7</th>\n",
       "      <td>7</td>\n",
       "      <td>that</td>\n",
       "      <td>то</td>\n",
       "      <td>NaN</td>\n",
       "      <td>NaN</td>\n",
       "      <td>|</td>\n",
       "    </tr>\n",
       "    <tr>\n",
       "      <th>8</th>\n",
       "      <td>8</td>\n",
       "      <td>that</td>\n",
       "      <td>который / кто / тот который</td>\n",
       "      <td>I know the guy that sold you the disk|</td>\n",
       "      <td>Я знаю парня, который продал тебе диск |</td>\n",
       "      <td>NaN</td>\n",
       "    </tr>\n",
       "    <tr>\n",
       "      <th>9</th>\n",
       "      <td>9</td>\n",
       "      <td>that</td>\n",
       "      <td>тот</td>\n",
       "      <td>On that evening I met Natalie|Do you see those...</td>\n",
       "      <td>В тот вечер я встретил Натали | Видишь те две ...</td>\n",
       "      <td>NaN</td>\n",
       "    </tr>\n",
       "    <tr>\n",
       "      <th>10</th>\n",
       "      <td>10</td>\n",
       "      <td>that</td>\n",
       "      <td>что</td>\n",
       "      <td>Tell him that Margaret wanted to see him|</td>\n",
       "      <td>Скажите ему, что Марагарет хотела видеть его |</td>\n",
       "      <td>NaN</td>\n",
       "    </tr>\n",
       "    <tr>\n",
       "      <th>11</th>\n",
       "      <td>11</td>\n",
       "      <td>that</td>\n",
       "      <td>чтобы</td>\n",
       "      <td>Turn the mirror so that the room becomes visua...</td>\n",
       "      <td>Поверните зеркало, так чтобы комната казалась ...</td>\n",
       "      <td>NaN</td>\n",
       "    </tr>\n",
       "  </tbody>\n",
       "</table>\n",
       "</div>"
      ],
      "text/plain": [
       "    Unnamed: 0  word                   local_word  \\\n",
       "0            0  word                        слово   \n",
       "1            1   and                            и   \n",
       "2            2   and                            а   \n",
       "3            3   and                            и   \n",
       "4            4   and                           но   \n",
       "5            5   and                            а   \n",
       "6            6  that                          так   \n",
       "7            7  that                           то   \n",
       "8            8  that  который / кто / тот который   \n",
       "9            9  that                          тот   \n",
       "10          10  that                          что   \n",
       "11          11  that                        чтобы   \n",
       "\n",
       "                                             examples  \\\n",
       "0         key word|english word|first word|good word|   \n",
       "1                                                 NaN   \n",
       "2                                                 NaN   \n",
       "3                     He thinks of you day and night|   \n",
       "4        It's an embarrassing joke and not an insult|   \n",
       "5                 This is a squid and not an octopus|   \n",
       "6                                                 NaN   \n",
       "7                                                 NaN   \n",
       "8              I know the guy that sold you the disk|   \n",
       "9   On that evening I met Natalie|Do you see those...   \n",
       "10          Tell him that Margaret wanted to see him|   \n",
       "11  Turn the mirror so that the room becomes visua...   \n",
       "\n",
       "                                       local_examples  \\\n",
       "0   ключевое слово | английское слово | первое сло...   \n",
       "1                                                 NaN   \n",
       "2                                                 NaN   \n",
       "3                      Он думает о вас день и ночь |    \n",
       "4           Это неуместная шутка, а не оскорбление |    \n",
       "5                       Это кальмар, а не осьминог |    \n",
       "6                                                 NaN   \n",
       "7                                                 NaN   \n",
       "8           Я знаю парня, который продал тебе диск |    \n",
       "9   В тот вечер я встретил Натали | Видишь те две ...   \n",
       "10    Скажите ему, что Марагарет хотела видеть его |    \n",
       "11  Поверните зеркало, так чтобы комната казалась ...   \n",
       "\n",
       "                                       definitions  \n",
       "0                    speech | expression | term |   \n",
       "1                                               |   \n",
       "2                                   but | while |   \n",
       "3                                              NaN  \n",
       "4                                              NaN  \n",
       "5                                              NaN  \n",
       "6   as | so | as well as | how | so that | both |   \n",
       "7                                               |   \n",
       "8                                              NaN  \n",
       "9                                              NaN  \n",
       "10                                             NaN  \n",
       "11                                             NaN  "
      ]
     },
     "execution_count": 32,
     "metadata": {},
     "output_type": "execute_result"
    }
   ],
   "source": [
    "df_systran_en_ru.head(12)"
   ]
  },
  {
   "cell_type": "code",
   "execution_count": 59,
   "metadata": {},
   "outputs": [
    {
     "name": "stderr",
     "output_type": "stream",
     "text": [
      "\n",
      "\n",
      "\n",
      "\n",
      "  0%|          | 0/1358 [00:00<?, ?it/s]\u001b[A\u001b[A\u001b[A\u001b[A"
     ]
    },
    {
     "name": "stdout",
     "output_type": "stream",
     "text": [
      "[0, 'word', 'слово', 'key word|english word|first word|good word|', 'ключевое слово | английское слово | первое слово | хорошее слово | ', 'speech | expression | term | ']\n",
      "слово ok\n",
      "key word ok\n",
      "english word ok\n",
      "first word ok\n",
      "good word ok\n"
     ]
    },
    {
     "name": "stderr",
     "output_type": "stream",
     "text": [
      "\n",
      "\n",
      "\n",
      "\n",
      "  0%|          | 1/1358 [00:02<1:07:03,  2.96s/it]\u001b[A\u001b[A\u001b[A\u001b[A"
     ]
    },
    {
     "name": "stdout",
     "output_type": "stream",
     "text": [
      "[1, 'and', 'и', nan, nan, ' | ']\n"
     ]
    },
    {
     "name": "stderr",
     "output_type": "stream",
     "text": [
      "\n",
      "\n",
      "\n",
      "\n",
      "  0%|          | 2/1358 [00:03<48:32,  2.15s/it]  \u001b[A\u001b[A\u001b[A\u001b[A"
     ]
    },
    {
     "name": "stdout",
     "output_type": "stream",
     "text": [
      "и ok\n",
      "no examples\n",
      "[2, 'and', 'а', nan, nan, 'but | while | ']\n"
     ]
    },
    {
     "name": "stderr",
     "output_type": "stream",
     "text": [
      "\n",
      "\n",
      "\n",
      "\n",
      "  0%|          | 3/1358 [00:03<37:48,  1.67s/it]\u001b[A\u001b[A\u001b[A\u001b[A"
     ]
    },
    {
     "name": "stdout",
     "output_type": "stream",
     "text": [
      "а ok\n",
      "no examples\n",
      "[3, 'and', 'и', 'He thinks of you day and night|', 'Он думает о вас день и ночь | ', nan]\n",
      "и ok\n"
     ]
    },
    {
     "name": "stderr",
     "output_type": "stream",
     "text": [
      "\n",
      "\n",
      "\n",
      "\n",
      "  0%|          | 4/1358 [00:04<30:02,  1.33s/it]\u001b[A\u001b[A\u001b[A\u001b[A"
     ]
    },
    {
     "name": "stdout",
     "output_type": "stream",
     "text": [
      "He thinks of you day and night ok\n",
      "[4, 'and', 'но', \"It's an embarrassing joke and not an insult|\", 'Это неуместная шутка, а не оскорбление | ', nan]\n",
      "но ok\n"
     ]
    },
    {
     "name": "stderr",
     "output_type": "stream",
     "text": [
      "\n",
      "\n",
      "\n",
      "\n",
      "  0%|          | 5/1358 [00:05<27:32,  1.22s/it]\u001b[A\u001b[A\u001b[A\u001b[A"
     ]
    },
    {
     "name": "stdout",
     "output_type": "stream",
     "text": [
      "It's an embarrassing joke and not an insult ok\n",
      "[5, 'and', 'а', 'This is a squid and not an octopus|', 'Это кальмар, а не осьминог | ', nan]\n",
      "а ok\n"
     ]
    },
    {
     "name": "stderr",
     "output_type": "stream",
     "text": [
      "\n",
      "\n",
      "\n",
      "\n",
      "  0%|          | 6/1358 [00:06<24:20,  1.08s/it]\u001b[A\u001b[A\u001b[A\u001b[A"
     ]
    },
    {
     "name": "stdout",
     "output_type": "stream",
     "text": [
      "This is a squid and not an octopus ok\n",
      "[6, 'that', 'так', nan, nan, 'as | so | as well as | how | so that | both | ']\n"
     ]
    },
    {
     "name": "stderr",
     "output_type": "stream",
     "text": [
      "\n",
      "\n",
      "\n",
      "\n",
      "  1%|          | 7/1358 [00:06<18:34,  1.21it/s]\u001b[A\u001b[A\u001b[A\u001b[A"
     ]
    },
    {
     "name": "stdout",
     "output_type": "stream",
     "text": [
      "так ok\n",
      "no examples\n",
      "[7, 'that', 'то', nan, nan, ' | ']\n"
     ]
    },
    {
     "name": "stderr",
     "output_type": "stream",
     "text": [
      "\n",
      "\n",
      "\n",
      "\n",
      "  1%|          | 8/1358 [00:06<16:11,  1.39it/s]\u001b[A\u001b[A\u001b[A\u001b[A"
     ]
    },
    {
     "name": "stdout",
     "output_type": "stream",
     "text": [
      "то ok\n",
      "no examples\n",
      "[8, 'that', 'который / кто / тот который', 'I know the guy that sold you the disk|', 'Я знаю парня, который продал тебе диск | ', nan]\n",
      "который / кто / тот который ok\n"
     ]
    },
    {
     "name": "stderr",
     "output_type": "stream",
     "text": [
      "\n",
      "\n",
      "\n",
      "\n",
      "  1%|          | 9/1358 [00:07<16:28,  1.36it/s]\u001b[A\u001b[A\u001b[A\u001b[A"
     ]
    },
    {
     "name": "stdout",
     "output_type": "stream",
     "text": [
      "I know the guy that sold you the disk ok\n",
      "[9, 'that', 'тот', 'On that evening I met Natalie|Do you see those two marks on the wall?|', 'В тот вечер я встретил Натали | Видишь те две отметины на стене? | ', nan]\n",
      "тот ok\n",
      "On that evening I met Natalie ok\n"
     ]
    },
    {
     "name": "stderr",
     "output_type": "stream",
     "text": [
      "\n",
      "\n",
      "\n",
      "\n",
      "  1%|          | 10/1358 [00:10<28:35,  1.27s/it]\u001b[A\u001b[A\u001b[A\u001b[A"
     ]
    },
    {
     "name": "stdout",
     "output_type": "stream",
     "text": [
      "Do you see those two marks on the wall? ok\n",
      "[10, 'that', 'что', 'Tell him that Margaret wanted to see him|', 'Скажите ему, что Марагарет хотела видеть его | ', nan]\n",
      "что ok\n"
     ]
    },
    {
     "name": "stderr",
     "output_type": "stream",
     "text": [
      "\n",
      "\n",
      "\n",
      "\n",
      "  1%|          | 11/1358 [00:10<25:13,  1.12s/it]\u001b[A\u001b[A\u001b[A\u001b[A"
     ]
    },
    {
     "name": "stdout",
     "output_type": "stream",
     "text": [
      "Tell him that Margaret wanted to see him ok\n",
      "[11, 'that', 'чтобы', 'Turn the mirror so that the room becomes visually larger|', 'Поверните зеркало, так чтобы комната казалась больше | ', nan]\n",
      "чтобы ok\n"
     ]
    },
    {
     "name": "stderr",
     "output_type": "stream",
     "text": [
      "\n",
      "\n",
      "\n",
      "\n",
      "  1%|          | 12/1358 [00:11<23:27,  1.05s/it]\u001b[A\u001b[A\u001b[A\u001b[A"
     ]
    },
    {
     "name": "stdout",
     "output_type": "stream",
     "text": [
      "Turn the mirror so that the room becomes visually larger ok\n",
      "[12, 'for', 'для', nan, nan, 'to | ']\n"
     ]
    },
    {
     "name": "stderr",
     "output_type": "stream",
     "text": [
      "\n",
      "\n",
      "\n",
      "\n",
      "  1%|          | 13/1358 [00:11<17:58,  1.25it/s]\u001b[A\u001b[A\u001b[A\u001b[A"
     ]
    },
    {
     "name": "stdout",
     "output_type": "stream",
     "text": [
      "для ok\n",
      "no examples\n",
      "[13, 'for', 'на', nan, nan, 'on | in | to | at | by | ']\n"
     ]
    },
    {
     "name": "stderr",
     "output_type": "stream",
     "text": [
      "\n",
      "\n",
      "\n",
      "\n",
      "  1%|          | 14/1358 [00:12<16:47,  1.33it/s]\u001b[A\u001b[A\u001b[A\u001b[A"
     ]
    },
    {
     "name": "stdout",
     "output_type": "stream",
     "text": [
      "на ok\n",
      "no examples\n",
      "[14, 'for', 'за', nan, nan, 'per | over | during | behind | ']\n"
     ]
    },
    {
     "name": "stderr",
     "output_type": "stream",
     "text": [
      "\n",
      "\n",
      "\n",
      "\n",
      "  1%|          | 15/1358 [00:12<13:35,  1.65it/s]\u001b[A\u001b[A\u001b[A\u001b[A"
     ]
    },
    {
     "name": "stdout",
     "output_type": "stream",
     "text": [
      "за ok\n",
      "no examples\n",
      "[15, 'for', 'в', nan, nan, 'in | to | at | on | into | ']\n"
     ]
    },
    {
     "name": "stderr",
     "output_type": "stream",
     "text": [
      "\n",
      "\n",
      "\n",
      "\n",
      "  1%|          | 16/1358 [00:13<11:00,  2.03it/s]\u001b[A\u001b[A\u001b[A\u001b[A"
     ]
    },
    {
     "name": "stdout",
     "output_type": "stream",
     "text": [
      "в ok\n",
      "no examples\n",
      "[16, 'for', 'по', nan, nan, 'on | by | at | according to | ']\n"
     ]
    },
    {
     "name": "stderr",
     "output_type": "stream",
     "text": [
      "\n",
      "\n",
      "\n",
      "\n",
      "  1%|▏         | 17/1358 [00:13<09:06,  2.45it/s]\u001b[A\u001b[A\u001b[A\u001b[A"
     ]
    },
    {
     "name": "stdout",
     "output_type": "stream",
     "text": [
      "по ok\n",
      "no examples\n",
      "[17, 'for', 'к', nan, nan, 'to | toward | ']\n"
     ]
    },
    {
     "name": "stderr",
     "output_type": "stream",
     "text": [
      "\n",
      "\n",
      "\n",
      "\n",
      "  1%|▏         | 18/1358 [00:13<08:15,  2.70it/s]\u001b[A\u001b[A\u001b[A\u001b[A"
     ]
    },
    {
     "name": "stdout",
     "output_type": "stream",
     "text": [
      "к ok\n",
      "no examples\n",
      "[18, 'for', 'потому что / ибо', \"Lord forgive me, for I've sinned|\", 'Прости меня, Господи, ибо грешен | ', nan]\n",
      "потому что / ибо ok\n"
     ]
    },
    {
     "name": "stderr",
     "output_type": "stream",
     "text": [
      "\n",
      "\n",
      "\n",
      "\n",
      "  1%|▏         | 19/1358 [00:14<10:34,  2.11it/s]\u001b[A\u001b[A\u001b[A\u001b[A"
     ]
    },
    {
     "name": "stdout",
     "output_type": "stream",
     "text": [
      "Lord forgive me, for I've sinned ok\n",
      "[19, 'with', 'с', nan, nan, 'from | to | on | ']\n"
     ]
    },
    {
     "name": "stderr",
     "output_type": "stream",
     "text": [
      "\n",
      "\n",
      "\n",
      "\n",
      "  1%|▏         | 20/1358 [00:14<09:48,  2.27it/s]\u001b[A\u001b[A\u001b[A\u001b[A"
     ]
    },
    {
     "name": "stdout",
     "output_type": "stream",
     "text": [
      "с ok\n",
      "no examples\n",
      "[20, 'with no', 'без', nan, nan, 'without | ']\n"
     ]
    },
    {
     "name": "stderr",
     "output_type": "stream",
     "text": [
      "\n",
      "\n",
      "\n",
      "\n",
      "  2%|▏         | 21/1358 [00:15<10:39,  2.09it/s]\u001b[A\u001b[A\u001b[A\u001b[A"
     ]
    },
    {
     "name": "stdout",
     "output_type": "stream",
     "text": [
      "без ok\n",
      "no examples\n",
      "[21, 'but', 'но', nan, nan, ' | ']\n"
     ]
    },
    {
     "name": "stderr",
     "output_type": "stream",
     "text": [
      "\n",
      "\n",
      "\n",
      "\n",
      "  2%|▏         | 22/1358 [00:16<14:11,  1.57it/s]\u001b[A\u001b[A\u001b[A\u001b[A\n",
      "\n",
      "\n",
      "\n",
      "  2%|▏         | 23/1358 [00:16<11:07,  2.00it/s]\u001b[A\u001b[A\u001b[A\u001b[A"
     ]
    },
    {
     "name": "stdout",
     "output_type": "stream",
     "text": [
      "но ok\n",
      "no examples\n",
      "[22, 'but', 'однако', nan, nan, 'yet | though | ']\n",
      "однако ok\n",
      "no examples\n",
      "[23, 'but', 'а', nan, nan, 'and | while | ']\n"
     ]
    },
    {
     "name": "stderr",
     "output_type": "stream",
     "text": [
      "\n",
      "\n",
      "\n",
      "\n",
      "  2%|▏         | 24/1358 [00:16<09:32,  2.33it/s]\u001b[A\u001b[A\u001b[A\u001b[A"
     ]
    },
    {
     "name": "stdout",
     "output_type": "stream",
     "text": [
      "а ok\n",
      "no examples\n",
      "[24, 'but', 'но', \"He's hardworking but not very intelligent|\", 'Он трудолюбивый, но не очень умный | ', nan]\n",
      "но ok\n"
     ]
    },
    {
     "name": "stderr",
     "output_type": "stream",
     "text": [
      "\n",
      "\n",
      "\n",
      "\n",
      "  2%|▏         | 25/1358 [00:18<17:21,  1.28it/s]\u001b[A\u001b[A\u001b[A\u001b[A"
     ]
    },
    {
     "name": "stdout",
     "output_type": "stream",
     "text": [
      "He's hardworking but not very intelligent ok\n",
      "[25, 'but', 'а', 'You may tell that to others but not to me|', 'Можешь рассказывать это другим, а не мне | ', nan]\n",
      "а ok\n"
     ]
    },
    {
     "name": "stderr",
     "output_type": "stream",
     "text": [
      "\n",
      "\n",
      "\n",
      "\n",
      "  2%|▏         | 26/1358 [00:19<18:58,  1.17it/s]\u001b[A\u001b[A\u001b[A\u001b[A"
     ]
    },
    {
     "name": "stdout",
     "output_type": "stream",
     "text": [
      "You may tell that to others but not to me ok\n",
      "[26, 'but', 'тем не менее', \"What he says is ugly, but it's quite true|\", 'То, что он говорит, отвратно, но тем не менее это совершенная правда | ', nan]\n",
      "тем не менее ok\n"
     ]
    },
    {
     "name": "stderr",
     "output_type": "stream",
     "text": [
      "\n",
      "\n",
      "\n",
      "\n",
      "  2%|▏         | 27/1358 [00:20<21:16,  1.04it/s]\u001b[A\u001b[A\u001b[A\u001b[A"
     ]
    },
    {
     "name": "stdout",
     "output_type": "stream",
     "text": [
      "What he says is ugly, but it's quite true ok\n",
      "[27, 'but', 'однако', 'Sam would have been best, but he was dead|', 'Больше всего подошел бы Сэм, однако он был мертв | ', nan]\n",
      "однако ok\n"
     ]
    },
    {
     "name": "stderr",
     "output_type": "stream",
     "text": [
      "\n",
      "\n",
      "\n",
      "\n",
      "  2%|▏         | 28/1358 [00:21<19:08,  1.16it/s]\u001b[A\u001b[A\u001b[A\u001b[A"
     ]
    },
    {
     "name": "stdout",
     "output_type": "stream",
     "text": [
      "Sam would have been best, but he was dead ok\n",
      "[28, 'but', 'как / кроме как', 'There was nothing else to do but to wait|', 'Не оставалось ничего другого, как ждать | ', nan]\n",
      "как / кроме как ok\n"
     ]
    },
    {
     "name": "stderr",
     "output_type": "stream",
     "text": [
      "\n",
      "\n",
      "\n",
      "\n",
      "  2%|▏         | 29/1358 [00:22<22:51,  1.03s/it]\u001b[A\u001b[A\u001b[A\u001b[A"
     ]
    },
    {
     "name": "stdout",
     "output_type": "stream",
     "text": [
      "There was nothing else to do but to wait ok\n",
      "[29, 'but', 'чтобы не', 'Never a day passes but he calls her|', 'Не проходит и дня, чтобы он ей не позвонил | ', nan]\n",
      "чтобы не ok\n"
     ]
    },
    {
     "name": "stderr",
     "output_type": "stream",
     "text": [
      "\n",
      "\n",
      "\n",
      "\n",
      "  2%|▏         | 30/1358 [00:23<23:40,  1.07s/it]\u001b[A\u001b[A\u001b[A\u001b[A"
     ]
    },
    {
     "name": "stdout",
     "output_type": "stream",
     "text": [
      "Never a day passes but he calls her ok\n",
      "[30, 'you', 'вы', 'May I offer you a drink?|', 'Могу я предложить вам что-нибудь выпить? | ', nan]\n",
      "вы ok\n"
     ]
    },
    {
     "name": "stderr",
     "output_type": "stream",
     "text": [
      "\n",
      "\n",
      "\n",
      "\n",
      "  2%|▏         | 31/1358 [00:24<24:04,  1.09s/it]\u001b[A\u001b[A\u001b[A\u001b[A"
     ]
    },
    {
     "name": "stdout",
     "output_type": "stream",
     "text": [
      "May I offer you a drink? ok\n",
      "[31, 'you', 'ты', \"I'm thinking about you|\", 'Я думаю о тебе | ', nan]\n",
      "ты ok\n"
     ]
    },
    {
     "name": "stderr",
     "output_type": "stream",
     "text": [
      "\n",
      "\n",
      "\n",
      "\n",
      "  2%|▏         | 32/1358 [00:26<26:46,  1.21s/it]\u001b[A\u001b[A\u001b[A\u001b[A"
     ]
    },
    {
     "name": "stdout",
     "output_type": "stream",
     "text": [
      "I'm thinking about you ok\n",
      "[32, 'this', 'этот', 'Do you recognise this object?|', 'Вам знаком этот предмет? | ', nan]\n",
      "этот ok\n"
     ]
    },
    {
     "name": "stderr",
     "output_type": "stream",
     "text": [
      "\n",
      "\n",
      "\n",
      "\n",
      "  2%|▏         | 33/1358 [00:27<24:53,  1.13s/it]\u001b[A\u001b[A\u001b[A\u001b[A"
     ]
    },
    {
     "name": "stdout",
     "output_type": "stream",
     "text": [
      "Do you recognise this object? ok\n",
      "[33, 'this', 'это', 'I will explain this to you more fully later|', 'Я объясню это вам потом подробнее | ', nan]\n",
      "это ok\n"
     ]
    },
    {
     "name": "stderr",
     "output_type": "stream",
     "text": [
      "\n",
      "\n",
      "\n",
      "\n",
      "  3%|▎         | 34/1358 [00:28<27:37,  1.25s/it]\u001b[A\u001b[A\u001b[A\u001b[A\n",
      "\n",
      "\n",
      "\n",
      "  3%|▎         | 35/1358 [00:28<20:22,  1.08it/s]\u001b[A\u001b[A\u001b[A\u001b[A"
     ]
    },
    {
     "name": "stdout",
     "output_type": "stream",
     "text": [
      "I will explain this to you more fully later ok\n",
      "[34, 'not', 'нельзя', nan, nan, ' | ']\n",
      "нельзя ok\n",
      "no examples\n",
      "[35, 'not', 'мало', nan, nan, 'little | not only | poorly | too little | ']\n"
     ]
    },
    {
     "name": "stderr",
     "output_type": "stream",
     "text": [
      "\n",
      "\n",
      "\n",
      "\n",
      "  3%|▎         | 36/1358 [00:29<17:20,  1.27it/s]\u001b[A\u001b[A\u001b[A\u001b[A\n",
      "\n",
      "\n",
      "\n",
      "  3%|▎         | 37/1358 [00:29<13:24,  1.64it/s]\u001b[A\u001b[A\u001b[A\u001b[A"
     ]
    },
    {
     "name": "stdout",
     "output_type": "stream",
     "text": [
      "мало ok\n",
      "no examples\n",
      "[36, 'not', 'недостаточно', nan, nan, 'enough | insufficiently | sufficiently | too little | ']\n",
      "недостаточно ok\n",
      "no examples\n",
      "[37, 'not', 'совсем', nan, nan, 'quite | very | completely | exactly | entirely | totally | absolutely | ']\n"
     ]
    },
    {
     "name": "stderr",
     "output_type": "stream",
     "text": [
      "\n",
      "\n",
      "\n",
      "\n",
      "  3%|▎         | 38/1358 [00:30<12:18,  1.79it/s]\u001b[A\u001b[A\u001b[A\u001b[A"
     ]
    },
    {
     "name": "stdout",
     "output_type": "stream",
     "text": [
      "совсем ok\n",
      "no examples\n",
      "[38, 'not', 'плохо', nan, nan, 'badly | poorly | wrong | ']\n"
     ]
    },
    {
     "name": "stderr",
     "output_type": "stream",
     "text": [
      "\n",
      "\n",
      "\n",
      "\n",
      "  3%|▎         | 39/1358 [00:30<10:00,  2.20it/s]\u001b[A\u001b[A\u001b[A\u001b[A"
     ]
    },
    {
     "name": "stdout",
     "output_type": "stream",
     "text": [
      "плохо ok\n",
      "no examples\n",
      "[39, 'not', 'невозможно', nan, nan, ' | ']\n"
     ]
    },
    {
     "name": "stderr",
     "output_type": "stream",
     "text": [
      "\n",
      "\n",
      "\n",
      "\n",
      "  3%|▎         | 40/1358 [00:30<09:35,  2.29it/s]\u001b[A\u001b[A\u001b[A\u001b[A"
     ]
    },
    {
     "name": "stdout",
     "output_type": "stream",
     "text": [
      "невозможно ok\n",
      "no examples\n",
      "[40, 'have', 'иметь', 'to have the right|to have children|to have consequences|to have access|', 'иметь право | иметь детей | иметь последствия | иметь доступ | ', 'make | mean | be | feature | hold | enjoy | keep | possess | ']\n",
      "иметь ok\n",
      "to have the right ok\n",
      "to have children ok\n",
      "to have consequences ok\n"
     ]
    },
    {
     "name": "stderr",
     "output_type": "stream",
     "text": [
      "\n",
      "\n",
      "\n",
      "\n",
      "  3%|▎         | 41/1358 [00:33<25:14,  1.15s/it]\u001b[A\u001b[A\u001b[A\u001b[A"
     ]
    },
    {
     "name": "stdout",
     "output_type": "stream",
     "text": [
      "to have access ok\n",
      "[41, 'have', 'быть', 'to have time|to have their hands full|to have a product|to have nuclear weapons|', 'быть времени | быть предостаточно | быть продукции | быть ядерного оружия | ', 'be | include | feature | get | come | go | offer | become | ']\n",
      "быть ok\n",
      "to have time ok\n",
      "to have their hands full ok\n",
      "to have a product ok\n"
     ]
    },
    {
     "name": "stderr",
     "output_type": "stream",
     "text": [
      "\n",
      "\n",
      "\n",
      "\n",
      "  3%|▎         | 42/1358 [00:37<42:42,  1.95s/it]\u001b[A\u001b[A\u001b[A\u001b[A"
     ]
    },
    {
     "name": "stdout",
     "output_type": "stream",
     "text": [
      "to have nuclear weapons ok\n",
      "[42, 'have', 'получить', 'to have a chance|to have infections|', 'получить шанс | получить инфекции | ', 'get | receive | obtain | gain | win | find | earn | grant | ']\n",
      "получить ok\n",
      "to have a chance ok\n"
     ]
    },
    {
     "name": "stderr",
     "output_type": "stream",
     "text": [
      "\n",
      "\n",
      "\n",
      "\n",
      "  3%|▎         | 43/1358 [00:38<40:38,  1.85s/it]\u001b[A\u001b[A\u001b[A\u001b[A"
     ]
    },
    {
     "name": "stdout",
     "output_type": "stream",
     "text": [
      "to have infections ok\n",
      "[43, 'have', 'обладать', 'to have legitimacy|to have its own local particularities|', 'обладать легитимностью | обладать местными особенностями | ', 'possess | wield | own | possess | ']\n",
      "обладать ok\n",
      "to have legitimacy ok\n"
     ]
    },
    {
     "name": "stderr",
     "output_type": "stream",
     "text": [
      "\n",
      "\n",
      "\n",
      "\n",
      "  3%|▎         | 44/1358 [00:41<47:16,  2.16s/it]\u001b[A\u001b[A\u001b[A\u001b[A\n",
      "\n",
      "\n",
      "\n",
      "  3%|▎         | 45/1358 [00:41<34:10,  1.56s/it]\u001b[A\u001b[A\u001b[A\u001b[A"
     ]
    },
    {
     "name": "stdout",
     "output_type": "stream",
     "text": [
      "to have its own local particularities ok\n",
      "[44, 'have', 'оказать', nan, nan, 'provide | render | exert | extend | put up | ']\n",
      "оказать ok\n",
      "no examples\n",
      "[45, 'have', 'мочь', nan, nan, 'can | could | allow | may | ']\n"
     ]
    },
    {
     "name": "stderr",
     "output_type": "stream",
     "text": [
      "\n",
      "\n",
      "\n",
      "\n",
      "  3%|▎         | 46/1358 [00:42<29:42,  1.36s/it]\u001b[A\u001b[A\u001b[A\u001b[A"
     ]
    },
    {
     "name": "stdout",
     "output_type": "stream",
     "text": [
      "мочь ok\n",
      "no examples\n",
      "[46, 'have got', 'быть', nan, nan, 'have | be | include | feature | get | come | go | offer | become | ']\n"
     ]
    },
    {
     "name": "stderr",
     "output_type": "stream",
     "text": [
      "\n",
      "\n",
      "\n",
      "\n",
      "  3%|▎         | 47/1358 [00:43<23:15,  1.06s/it]\u001b[A\u001b[A\u001b[A\u001b[A"
     ]
    },
    {
     "name": "stdout",
     "output_type": "stream",
     "text": [
      "быть ok\n",
      "no examples\n",
      "[47, 'have got', 'попалить', nan, nan, 'hit | fall | have got to | land | end up | strike | advance | fall | ']\n"
     ]
    },
    {
     "name": "stderr",
     "output_type": "stream",
     "text": [
      "\n",
      "\n",
      "\n",
      "\n",
      "  4%|▎         | 48/1358 [00:43<20:37,  1.06it/s]\u001b[A\u001b[A\u001b[A\u001b[A"
     ]
    },
    {
     "name": "stdout",
     "output_type": "stream",
     "text": [
      "попалить ok\n",
      "no examples\n",
      "[48, 'have to', 'придтись', nan, nan, 'force | account for | ']\n"
     ]
    },
    {
     "name": "stderr",
     "output_type": "stream",
     "text": [
      "\n",
      "\n",
      "\n",
      "\n",
      "  4%|▎         | 49/1358 [00:44<16:48,  1.30it/s]\u001b[A\u001b[A\u001b[A\u001b[A"
     ]
    },
    {
     "name": "stdout",
     "output_type": "stream",
     "text": [
      "придтись ok\n",
      "no examples\n",
      "[49, 'have to', 'вынудить', nan, nan, 'force | compel | force | cause | induce | prompt | pressure | displace | ']\n"
     ]
    },
    {
     "name": "stderr",
     "output_type": "stream",
     "text": [
      "\n",
      "\n",
      "\n",
      "\n",
      "  4%|▎         | 50/1358 [00:44<14:26,  1.51it/s]\u001b[A\u001b[A\u001b[A\u001b[A"
     ]
    },
    {
     "name": "stdout",
     "output_type": "stream",
     "text": [
      "вынудить ok\n",
      "no examples\n",
      "[50, 'have to', 'приходиться', nan, nan, 'account for | make up | contribute | account for | ']\n"
     ]
    },
    {
     "name": "stderr",
     "output_type": "stream",
     "text": [
      "\n",
      "\n",
      "\n",
      "\n",
      "  4%|▍         | 51/1358 [00:45<15:30,  1.40it/s]\u001b[A\u001b[A\u001b[A\u001b[A"
     ]
    },
    {
     "name": "stdout",
     "output_type": "stream",
     "text": [
      "приходиться ok\n",
      "no examples\n",
      "[51, 'have to', 'следовать', nan, nan, 'follow | pursue | follow | ']\n"
     ]
    },
    {
     "name": "stderr",
     "output_type": "stream",
     "text": [
      "\n",
      "\n",
      "\n",
      "\n",
      "  4%|▍         | 52/1358 [00:45<13:59,  1.56it/s]\u001b[A\u001b[A\u001b[A\u001b[A"
     ]
    },
    {
     "name": "stdout",
     "output_type": "stream",
     "text": [
      "следовать ok\n",
      "no examples\n",
      "[52, 'have to', 'потребоваться', nan, nan, 'require | need | ']\n"
     ]
    },
    {
     "name": "stderr",
     "output_type": "stream",
     "text": [
      "\n",
      "\n",
      "\n",
      "\n",
      "  4%|▍         | 53/1358 [00:46<11:44,  1.85it/s]\u001b[A\u001b[A\u001b[A\u001b[A"
     ]
    },
    {
     "name": "stdout",
     "output_type": "stream",
     "text": [
      "потребоваться ok\n",
      "no examples\n",
      "[53, 'have to', 'обязать', nan, nan, 'owe | order | oblige | must | commit | should | ']\n"
     ]
    },
    {
     "name": "stderr",
     "output_type": "stream",
     "text": [
      "\n",
      "\n",
      "\n",
      "\n",
      "  4%|▍         | 54/1358 [00:46<09:33,  2.27it/s]\u001b[A\u001b[A\u001b[A\u001b[A"
     ]
    },
    {
     "name": "stdout",
     "output_type": "stream",
     "text": [
      "обязать ok\n",
      "no examples\n",
      "[54, 'have to', 'иметь', nan, nan, 'have | make | mean | be | feature | hold | enjoy | keep | possess | ']\n"
     ]
    },
    {
     "name": "stderr",
     "output_type": "stream",
     "text": [
      "\n",
      "\n",
      "\n",
      "\n",
      "  4%|▍         | 55/1358 [00:47<14:57,  1.45it/s]\u001b[A\u001b[A\u001b[A\u001b[A"
     ]
    },
    {
     "name": "stdout",
     "output_type": "stream",
     "text": [
      "иметь ok\n",
      "no examples\n",
      "[55, 'letter', 'письмо', 'open letter|cover letter|official letter|registered letter|', 'открытое письмо | сопроводительное письмо | официальное письмо | заказное письмо | ', 'e-mail | message | mail | writing | ']\n",
      "письмо ok\n",
      "open letter ok\n",
      "cover letter ok\n",
      "official letter ok\n"
     ]
    },
    {
     "name": "stderr",
     "output_type": "stream",
     "text": [
      "\n",
      "\n",
      "\n",
      "\n",
      "  4%|▍         | 56/1358 [00:50<27:38,  1.27s/it]\u001b[A\u001b[A\u001b[A\u001b[A"
     ]
    },
    {
     "name": "stdout",
     "output_type": "stream",
     "text": [
      "registered letter ok\n",
      "[56, 'letter', 'буква', 'drive letter|first letter|letter of the law|capital letter|', 'буква диска | первая буква | буква закона | Заглавная буква | ', 'character | ']\n",
      "буква ok\n",
      "drive letter ok\n",
      "first letter ok\n",
      "letter of the law ok\n"
     ]
    },
    {
     "name": "stderr",
     "output_type": "stream",
     "text": [
      "\n",
      "\n",
      "\n",
      "\n",
      "  4%|▍         | 57/1358 [00:54<47:53,  2.21s/it]\u001b[A\u001b[A\u001b[A\u001b[A"
     ]
    },
    {
     "name": "stdout",
     "output_type": "stream",
     "text": [
      "capital letter ok\n",
      "[57, 'letter', 'символ', 'letters of genetic code|', 'символов генетического кода | ', 'symbol | character | icon | ']\n",
      "символ ok\n"
     ]
    },
    {
     "name": "stderr",
     "output_type": "stream",
     "text": [
      "\n",
      "\n",
      "\n",
      "\n",
      "  4%|▍         | 58/1358 [00:56<42:24,  1.96s/it]\u001b[A\u001b[A\u001b[A\u001b[A"
     ]
    },
    {
     "name": "stdout",
     "output_type": "stream",
     "text": [
      "letters of genetic code ok\n",
      "[58, 'plate', 'пластина', 'color plate|offset plate|phosphorous plate|gold plate|', 'Цветовая пластина | офсетных пластин | Фосфорная пластина | золотые пластины | ', 'sheet | wafer | shutter | platter | ']\n",
      "пластина ok\n",
      "color plate ok\n",
      "offset plate ok\n",
      "phosphorous plate ok\n"
     ]
    },
    {
     "name": "stderr",
     "output_type": "stream",
     "text": [
      "\n",
      "\n",
      "\n",
      "\n",
      "  4%|▍         | 59/1358 [00:59<53:28,  2.47s/it]\u001b[A\u001b[A\u001b[A\u001b[A"
     ]
    },
    {
     "name": "stdout",
     "output_type": "stream",
     "text": [
      "gold plate ok\n",
      "[59, 'plate', 'плита', 'tectonic plate|base plate|sandwich plate|wall plate|', 'тектонические плиты | фундаментная плита | слоистые плиты | настенной плиты | ', 'stove | hob | hotplate | slab | oven | hot plate | stove top | cooker | ']\n",
      "плита ok\n",
      "tectonic plate ok\n",
      "base plate ok\n",
      "sandwich plate ok\n"
     ]
    },
    {
     "name": "stderr",
     "output_type": "stream",
     "text": [
      "\n",
      "\n",
      "\n",
      "\n",
      "  4%|▍         | 60/1358 [01:03<1:03:09,  2.92s/it]\u001b[A\u001b[A\u001b[A\u001b[A"
     ]
    },
    {
     "name": "stdout",
     "output_type": "stream",
     "text": [
      "wall plate ok\n",
      "[60, 'plate', 'тарелка', 'souvenir plates|dinner plate|', 'сувенирные тарелки | обеденную тарелку | ', 'dish | bowl | saucer | mater | sliver | dinner plate | ']\n",
      "тарелка ok\n",
      "souvenir plates ok\n"
     ]
    },
    {
     "name": "stderr",
     "output_type": "stream",
     "text": [
      "\n",
      "\n",
      "\n",
      "\n",
      "  4%|▍         | 61/1358 [01:04<50:08,  2.32s/it]  \u001b[A\u001b[A\u001b[A\u001b[A"
     ]
    },
    {
     "name": "stdout",
     "output_type": "stream",
     "text": [
      "dinner plate ok\n",
      "[61, 'plate', 'пластинка', 'glass plate|X-ray plate|', 'стеклянная пластинка | рентгеновскую пластинку | ', 'disc | record | disk | wafer | vinyl | phonograph record | brace | strip | ']\n",
      "пластинка ok\n",
      "glass plate ok\n"
     ]
    },
    {
     "name": "stderr",
     "output_type": "stream",
     "text": [
      "\n",
      "\n",
      "\n",
      "\n",
      "  5%|▍         | 62/1358 [01:06<46:28,  2.15s/it]\u001b[A\u001b[A\u001b[A\u001b[A"
     ]
    },
    {
     "name": "stdout",
     "output_type": "stream",
     "text": [
      "X-ray plate ok\n",
      "[62, 'plate', 'лист', nan, nan, 'sheet | leaf | piece | slate | sheet steel | ']\n"
     ]
    },
    {
     "name": "stderr",
     "output_type": "stream",
     "text": [
      "\n",
      "\n",
      "\n",
      "\n",
      "  5%|▍         | 63/1358 [01:06<34:18,  1.59s/it]\u001b[A\u001b[A\u001b[A\u001b[A"
     ]
    },
    {
     "name": "stdout",
     "output_type": "stream",
     "text": [
      "лист ok\n",
      "no examples\n",
      "[63, 'plate', 'табличка', nan, nan, 'sign | tablet | plaque | placard | shield | ']\n"
     ]
    },
    {
     "name": "stderr",
     "output_type": "stream",
     "text": [
      "\n",
      "\n",
      "\n",
      "\n",
      "  5%|▍         | 64/1358 [01:07<26:01,  1.21s/it]\u001b[A\u001b[A\u001b[A\u001b[A"
     ]
    },
    {
     "name": "stdout",
     "output_type": "stream",
     "text": [
      "табличка ok\n",
      "no examples\n",
      "[64, 'plate', 'листы', nan, nan, 'sheet | leaf | piece | slate | sheet of paper | ']\n"
     ]
    },
    {
     "name": "stderr",
     "output_type": "stream",
     "text": [
      "\n",
      "\n",
      "\n",
      "\n",
      "  5%|▍         | 65/1358 [01:07<20:12,  1.07it/s]\u001b[A\u001b[A\u001b[A\u001b[A"
     ]
    },
    {
     "name": "stdout",
     "output_type": "stream",
     "text": [
      "листы ok\n",
      "no examples\n",
      "[65, 'plate', 'посуда', nan, nan, 'dish | utensil | kitchenware | crockery | ware | tableware | kitchen utensil | cookware | ']\n"
     ]
    },
    {
     "name": "stderr",
     "output_type": "stream",
     "text": [
      "\n",
      "\n",
      "\n",
      "\n",
      "  5%|▍         | 66/1358 [01:08<21:32,  1.00s/it]\u001b[A\u001b[A\u001b[A\u001b[A"
     ]
    },
    {
     "name": "stdout",
     "output_type": "stream",
     "text": [
      "посуда ok\n",
      "no examples\n",
      "[66, 'plate', 'доска', nan, nan, 'board | plank | plaque | blackboard | whiteboard | chessboard | ']\n"
     ]
    },
    {
     "name": "stderr",
     "output_type": "stream",
     "text": [
      "\n",
      "\n",
      "\n",
      "\n",
      "  5%|▍         | 67/1358 [01:09<23:02,  1.07s/it]\u001b[A\u001b[A\u001b[A\u001b[A"
     ]
    },
    {
     "name": "stdout",
     "output_type": "stream",
     "text": [
      "доска ok\n",
      "no examples\n",
      "[67, 'treat', 'угощение', 'morning treat|', 'утреннее угощение | ', 'feast | ']\n",
      "угощение ok\n"
     ]
    },
    {
     "name": "stderr",
     "output_type": "stream",
     "text": [
      "\n",
      "\n",
      "\n",
      "\n",
      "  5%|▌         | 68/1358 [01:10<19:22,  1.11it/s]\u001b[A\u001b[A\u001b[A\u001b[A"
     ]
    },
    {
     "name": "stdout",
     "output_type": "stream",
     "text": [
      "morning treat ok\n",
      "[68, 'treat', 'удовольствие', nan, nan, 'pleasure | fun | satisfaction | enjoyment | amusement | joy | delight | ']\n"
     ]
    },
    {
     "name": "stderr",
     "output_type": "stream",
     "text": [
      "\n",
      "\n",
      "\n",
      "\n",
      "  5%|▌         | 69/1358 [01:10<15:52,  1.35it/s]\u001b[A\u001b[A\u001b[A\u001b[A"
     ]
    },
    {
     "name": "stdout",
     "output_type": "stream",
     "text": [
      "удовольствие ok\n",
      "no examples\n",
      "[69, 'treat', 'лакомство', nan, nan, 'delicacy | dainty | ']\n"
     ]
    },
    {
     "name": "stderr",
     "output_type": "stream",
     "text": [
      "\n",
      "\n",
      "\n",
      "\n",
      "  5%|▌         | 70/1358 [01:10<13:20,  1.61it/s]\u001b[A\u001b[A\u001b[A\u001b[A"
     ]
    },
    {
     "name": "stdout",
     "output_type": "stream",
     "text": [
      "лакомство ok\n",
      "no examples\n",
      "[70, 'treat', 'лечить', 'to treat people|', 'лечить людей | ', 'heal | cure | heal | dose | ']\n",
      "лечить ok\n"
     ]
    },
    {
     "name": "stderr",
     "output_type": "stream",
     "text": [
      "\n",
      "\n",
      "\n",
      "\n",
      "  5%|▌         | 71/1358 [01:11<15:17,  1.40it/s]\u001b[A\u001b[A\u001b[A\u001b[A"
     ]
    },
    {
     "name": "stdout",
     "output_type": "stream",
     "text": [
      "to treat people ok\n",
      "[71, 'treat', 'рассматривать', nan, nan, 'consider | see | view | regard | examine | review | ']\n"
     ]
    },
    {
     "name": "stderr",
     "output_type": "stream",
     "text": [
      "\n",
      "\n",
      "\n",
      "\n",
      "  5%|▌         | 72/1358 [01:12<13:55,  1.54it/s]\u001b[A\u001b[A\u001b[A\u001b[A"
     ]
    },
    {
     "name": "stdout",
     "output_type": "stream",
     "text": [
      "рассматривать ok\n",
      "no examples\n",
      "[72, 'treat', 'относиться', nan, nan, 'include | apply | belong | relate | concern | view | regard | date back | ']\n"
     ]
    },
    {
     "name": "stderr",
     "output_type": "stream",
     "text": [
      "\n",
      "\n",
      "\n",
      "\n",
      "  5%|▌         | 73/1358 [01:13<18:52,  1.14it/s]\u001b[A\u001b[A\u001b[A\u001b[A"
     ]
    },
    {
     "name": "stdout",
     "output_type": "stream",
     "text": [
      "относиться ok\n",
      "no examples\n",
      "[73, 'treat', 'обращаться', nan, nan, 'turn | contact | apply | appeal | address | deal | turn | reach out | ']\n"
     ]
    },
    {
     "name": "stderr",
     "output_type": "stream",
     "text": [
      "\n",
      "\n",
      "\n",
      "\n",
      "  5%|▌         | 74/1358 [01:14<17:19,  1.24it/s]\u001b[A\u001b[A\u001b[A\u001b[A"
     ]
    },
    {
     "name": "stdout",
     "output_type": "stream",
     "text": [
      "обращаться ok\n",
      "no examples\n",
      "[74, 'treat', 'вылечить', nan, nan, 'cure | heal | ']\n"
     ]
    },
    {
     "name": "stderr",
     "output_type": "stream",
     "text": [
      "\n",
      "\n",
      "\n",
      "\n",
      "  6%|▌         | 75/1358 [01:14<14:04,  1.52it/s]\u001b[A\u001b[A\u001b[A\u001b[A"
     ]
    },
    {
     "name": "stdout",
     "output_type": "stream",
     "text": [
      "вылечить ok\n",
      "no examples\n",
      "[75, 'treat', 'рассматриваться', nan, nan, 'consider | view | address | examine | regard | see | review | construe | ']\n"
     ]
    },
    {
     "name": "stderr",
     "output_type": "stream",
     "text": [
      "\n",
      "\n",
      "\n",
      "\n",
      "  6%|▌         | 76/1358 [01:15<13:35,  1.57it/s]\u001b[A\u001b[A\u001b[A\u001b[A\n",
      "\n",
      "\n",
      "\n",
      "  6%|▌         | 77/1358 [01:15<10:42,  1.99it/s]\u001b[A\u001b[A\u001b[A\u001b[A"
     ]
    },
    {
     "name": "stdout",
     "output_type": "stream",
     "text": [
      "рассматриваться ok\n",
      "no examples\n",
      "[76, 'treat', 'угостить', nan, nan, ' | ']\n",
      "угостить ok\n",
      "no examples\n",
      "[77, 'treat', 'обрабатывать', 'to treat even vast skin areas|', 'обрабатывать даже большие участки кожи | ', 'process | handle | process | handle | machine | cultivate | ']\n",
      "обрабатывать ok\n"
     ]
    },
    {
     "name": "stderr",
     "output_type": "stream",
     "text": [
      "\n",
      "\n",
      "\n",
      "\n",
      "  6%|▌         | 78/1358 [01:16<13:05,  1.63it/s]\u001b[A\u001b[A\u001b[A\u001b[A"
     ]
    },
    {
     "name": "stdout",
     "output_type": "stream",
     "text": [
      "to treat even vast skin areas ok\n",
      "[78, 'treat', 'лечиться', nan, nan, ' | ']\n"
     ]
    },
    {
     "name": "stderr",
     "output_type": "stream",
     "text": [
      "\n",
      "\n",
      "\n",
      "\n",
      "  6%|▌         | 79/1358 [01:16<10:28,  2.03it/s]\u001b[A\u001b[A\u001b[A\u001b[A"
     ]
    },
    {
     "name": "stdout",
     "output_type": "stream",
     "text": [
      "лечиться ok\n",
      "no examples\n",
      "[79, 'diner', 'diners', nan, nan, ' | ']\n"
     ]
    },
    {
     "name": "stderr",
     "output_type": "stream",
     "text": [
      "\n",
      "\n",
      "\n",
      "\n",
      "  6%|▌         | 80/1358 [01:17<10:32,  2.02it/s]\u001b[A\u001b[A\u001b[A\u001b[A"
     ]
    },
    {
     "name": "stdout",
     "output_type": "stream",
     "text": [
      "diners ok\n",
      "no examples\n",
      "[80, 'dinner', 'ужин', 'romantic dinner|gala dinner|family dinner|themed dinner|', 'романтический ужин | торжественный ужин | семейный ужин | тематический ужин | ', 'supper | meal | ']\n",
      "ужин ok\n",
      "romantic dinner ok\n",
      "gala dinner ok\n",
      "family dinner ok\n"
     ]
    },
    {
     "name": "stderr",
     "output_type": "stream",
     "text": [
      "\n",
      "\n",
      "\n",
      "\n",
      "  6%|▌         | 81/1358 [01:19<21:10,  1.01it/s]\u001b[A\u001b[A\u001b[A\u001b[A"
     ]
    },
    {
     "name": "stdout",
     "output_type": "stream",
     "text": [
      "themed dinner ok\n",
      "[81, 'dinner', 'обед', 'business dinner|excellent dinner|', 'деловой обед | прекрасные обеды | ', 'lunch | meal | afternoon | lunchtime | ']\n",
      "обед ok\n",
      "business dinner ok\n"
     ]
    },
    {
     "name": "stderr",
     "output_type": "stream",
     "text": [
      "\n",
      "\n",
      "\n",
      "\n",
      "  6%|▌         | 82/1358 [01:21<26:22,  1.24s/it]\u001b[A\u001b[A\u001b[A\u001b[A"
     ]
    },
    {
     "name": "stdout",
     "output_type": "stream",
     "text": [
      "excellent dinner ok\n",
      "[82, 'necessary', 'нужный', nan, nan, 'right | needed | correct | appropriate | proper | relevant | ']\n"
     ]
    },
    {
     "name": "stderr",
     "output_type": "stream",
     "text": [
      "\n",
      "\n",
      "\n",
      "\n",
      "  6%|▌         | 83/1358 [01:21<20:53,  1.02it/s]\u001b[A\u001b[A\u001b[A\u001b[A"
     ]
    },
    {
     "name": "stdout",
     "output_type": "stream",
     "text": [
      "нужный ok\n",
      "no examples\n",
      "[83, 'necessary', 'обязательный', nan, nan, 'mandatory | compulsory | obligatory | binding | essential | indispensable | optional | ']\n",
      "обязательный ok\n"
     ]
    },
    {
     "name": "stderr",
     "output_type": "stream",
     "text": [
      "\n",
      "\n",
      "\n",
      "\n",
      "  6%|▌         | 84/1358 [01:21<15:53,  1.34it/s]\u001b[A\u001b[A\u001b[A\u001b[A"
     ]
    },
    {
     "name": "stdout",
     "output_type": "stream",
     "text": [
      "no examples\n",
      "[84, 'necessary', 'необходимый', nan, nan, ' | ']\n"
     ]
    },
    {
     "name": "stderr",
     "output_type": "stream",
     "text": [
      "\n",
      "\n",
      "\n",
      "\n",
      "  6%|▋         | 85/1358 [01:22<14:00,  1.51it/s]\u001b[A\u001b[A\u001b[A\u001b[A"
     ]
    },
    {
     "name": "stdout",
     "output_type": "stream",
     "text": [
      "необходимый ok\n",
      "no examples\n",
      "[85, 'necessary', 'неотъемлемый', nan, nan, 'integral | inalienable | essential | inherent | indispensable | vital | ']\n"
     ]
    },
    {
     "name": "stderr",
     "output_type": "stream",
     "text": [
      "\n",
      "\n",
      "\n",
      "\n",
      "  6%|▋         | 86/1358 [01:22<12:33,  1.69it/s]\u001b[A\u001b[A\u001b[A\u001b[A"
     ]
    },
    {
     "name": "stdout",
     "output_type": "stream",
     "text": [
      "неотъемлемый ok\n",
      "no examples\n",
      "[86, 'necessary', 'должный', nan, nan, 'proper | due | adequate | appropriate | ']\n"
     ]
    },
    {
     "name": "stderr",
     "output_type": "stream",
     "text": [
      "\n",
      "\n",
      "\n",
      "\n",
      "  6%|▋         | 87/1358 [01:23<12:38,  1.68it/s]\u001b[A\u001b[A\u001b[A\u001b[A"
     ]
    },
    {
     "name": "stdout",
     "output_type": "stream",
     "text": [
      "должный ok\n",
      "no examples\n",
      "[87, 'go', 'идти', 'to go home|to go further|to go straight|to go forward|', 'идти домой | идти дальше | идти прямо | идти вперед | ', 'come | walk | move | keep | run | walk | follow | ']\n",
      "идти ok\n",
      "to go home ok\n",
      "to go further ok\n",
      "to go straight ok\n"
     ]
    },
    {
     "name": "stderr",
     "output_type": "stream",
     "text": [
      "\n",
      "\n",
      "\n",
      "\n",
      "  6%|▋         | 88/1358 [01:25<23:06,  1.09s/it]\u001b[A\u001b[A\u001b[A\u001b[A"
     ]
    },
    {
     "name": "stdout",
     "output_type": "stream",
     "text": [
      "to go forward ok\n",
      "[88, 'go', 'пойти', 'to go well|to go there|to go down|to go wrong|', 'пойти хорошо | пойти туда | пойти вниз | пойти плохо | ', 'walk | go out | ']\n",
      "пойти ok\n",
      "to go well ok\n",
      "to go there ok\n",
      "to go down ok\n"
     ]
    },
    {
     "name": "stderr",
     "output_type": "stream",
     "text": [
      "\n",
      "\n",
      "\n",
      "\n",
      "  7%|▋         | 89/1358 [01:29<41:30,  1.96s/it]\u001b[A\u001b[A\u001b[A\u001b[A"
     ]
    },
    {
     "name": "stdout",
     "output_type": "stream",
     "text": [
      "to go wrong ok\n",
      "[89, 'go', 'быть', 'to go decisively|to go tomorrow|to go in vain|', 'быть настроены решительно | быть сделано завтра | быть пролита напрасно | ', 'have | be | include | feature | get | come | offer | become | ']\n",
      "быть ok\n",
      "to go decisively ok\n",
      "to go tomorrow ok\n"
     ]
    },
    {
     "name": "stderr",
     "output_type": "stream",
     "text": [
      "\n",
      "\n",
      "\n",
      "\n",
      "  7%|▋         | 90/1358 [01:31<45:22,  2.15s/it]\u001b[A\u001b[A\u001b[A\u001b[A"
     ]
    },
    {
     "name": "stdout",
     "output_type": "stream",
     "text": [
      "to go in vain ok\n",
      "[90, 'go', 'ходить', nan, nan, 'walk | walk | run | walk around | wear | ']\n"
     ]
    },
    {
     "name": "stderr",
     "output_type": "stream",
     "text": [
      "\n",
      "\n",
      "\n",
      "\n",
      "  7%|▋         | 91/1358 [01:32<35:32,  1.68s/it]\u001b[A\u001b[A\u001b[A\u001b[A"
     ]
    },
    {
     "name": "stdout",
     "output_type": "stream",
     "text": [
      "ходить ok\n",
      "no examples\n",
      "[91, 'go', 'пройти', 'to go smoothly|to go here|to go too well|to go into her exam|', 'пройти гладко | пройти сюда | пройти хорошо | пройти экзамен | ', 'pass | hold | took place | undergo | receive | host | walk | complete | ']\n",
      "пройти ok\n",
      "to go smoothly ok\n",
      "to go here ok\n",
      "to go too well ok\n"
     ]
    },
    {
     "name": "stderr",
     "output_type": "stream",
     "text": [
      "\n",
      "\n",
      "\n",
      "\n",
      "  7%|▋         | 92/1358 [01:36<52:28,  2.49s/it]\u001b[A\u001b[A\u001b[A\u001b[A"
     ]
    },
    {
     "name": "stdout",
     "output_type": "stream",
     "text": [
      "to go into her exam ok\n",
      "[92, 'go', 'отправиться', 'to go to summer camp|to go to pristine reefs|to go to this village|', 'отправиться в летний лагерь | отправиться на нетронутые рифы | отправиться в эту деревню | ', 'travel | set out | go out | head | embark | leave | depart | ']\n",
      "отправиться ok\n",
      "to go to summer camp ok\n",
      "to go to pristine reefs ok\n"
     ]
    },
    {
     "name": "stderr",
     "output_type": "stream",
     "text": [
      "\n",
      "\n",
      "\n",
      "\n",
      "  7%|▋         | 93/1358 [01:38<48:30,  2.30s/it]\u001b[A\u001b[A\u001b[A\u001b[A"
     ]
    },
    {
     "name": "stdout",
     "output_type": "stream",
     "text": [
      "to go to this village ok\n",
      "[93, 'go', 'перейти', 'to go to the background image|to go into its pinwheel display|', 'Перейти на фоновое изображение | перейти в режим шутихи | ', 'move | switch | cross | pass | proceed | navigate | shift | turn | ']\n",
      "перейти ok\n",
      "to go to the background image ok\n"
     ]
    },
    {
     "name": "stderr",
     "output_type": "stream",
     "text": [
      "\n",
      "\n",
      "\n",
      "\n",
      "  7%|▋         | 94/1358 [01:40<43:43,  2.08s/it]\u001b[A\u001b[A\u001b[A\u001b[A"
     ]
    },
    {
     "name": "stdout",
     "output_type": "stream",
     "text": [
      "to go into its pinwheel display ok\n",
      "[94, 'go', 'ехать', 'to go there directly|', 'ехать прямо туда | ', 'drive | travel | travel | ride | drive | ']\n",
      "ехать ok\n"
     ]
    },
    {
     "name": "stderr",
     "output_type": "stream",
     "text": [
      "\n",
      "\n",
      "\n",
      "\n",
      "  7%|▋         | 95/1358 [01:42<44:52,  2.13s/it]\u001b[A\u001b[A\u001b[A\u001b[A"
     ]
    },
    {
     "name": "stdout",
     "output_type": "stream",
     "text": [
      "to go there directly ok\n",
      "[95, 'go', 'поехать', nan, nan, 'drive | go there | go back | go out | ride | ']\n"
     ]
    },
    {
     "name": "stderr",
     "output_type": "stream",
     "text": [
      "\n",
      "\n",
      "\n",
      "\n",
      "  7%|▋         | 96/1358 [01:43<34:52,  1.66s/it]\u001b[A\u001b[A\u001b[A\u001b[A"
     ]
    },
    {
     "name": "stdout",
     "output_type": "stream",
     "text": [
      "поехать ok\n",
      "no examples\n",
      "[96, 'go away', 'уезжать', nan, nan, 'leave | go away | go away | ']\n"
     ]
    },
    {
     "name": "stderr",
     "output_type": "stream",
     "text": [
      "\n",
      "\n",
      "\n",
      "\n",
      "  7%|▋         | 97/1358 [01:43<27:17,  1.30s/it]\u001b[A\u001b[A\u001b[A\u001b[A"
     ]
    },
    {
     "name": "stdout",
     "output_type": "stream",
     "text": [
      "уезжать ok\n",
      "no examples\n",
      "[97, 'go up', 'идти вверх', nan, nan, ' | ']\n"
     ]
    },
    {
     "name": "stderr",
     "output_type": "stream",
     "text": [
      "\n",
      "\n",
      "\n",
      "\n",
      "  7%|▋         | 98/1358 [01:43<20:44,  1.01it/s]\u001b[A\u001b[A\u001b[A\u001b[A"
     ]
    },
    {
     "name": "stdout",
     "output_type": "stream",
     "text": [
      "идти вверх ok\n",
      "no examples\n",
      "[98, 'go up', 'подходить', nan, nan, 'suit | fit | approach | come up | walk up | place | go up | match | befit | ']\n"
     ]
    },
    {
     "name": "stderr",
     "output_type": "stream",
     "text": [
      "\n",
      "\n",
      "\n",
      "\n",
      "  7%|▋         | 99/1358 [01:44<19:18,  1.09it/s]\u001b[A\u001b[A\u001b[A\u001b[A"
     ]
    },
    {
     "name": "stdout",
     "output_type": "stream",
     "text": [
      "подходить ok\n",
      "no examples\n",
      "[99, 'go up', 'росить', nan, nan, 'grow | grow up | go up | climb | ']\n"
     ]
    },
    {
     "name": "stderr",
     "output_type": "stream",
     "text": [
      "\n",
      "\n",
      "\n",
      "\n",
      "  7%|▋         | 100/1358 [01:46<22:31,  1.07s/it]\u001b[A\u001b[A\u001b[A\u001b[A"
     ]
    },
    {
     "name": "stdout",
     "output_type": "stream",
     "text": [
      "росить ok\n",
      "no examples\n",
      "[100, 'go awry', 'сойти с ума', nan, nan, ' | ']\n"
     ]
    },
    {
     "name": "stderr",
     "output_type": "stream",
     "text": [
      "\n",
      "\n",
      "\n",
      "\n",
      "  7%|▋         | 101/1358 [01:46<17:15,  1.21it/s]\u001b[A\u001b[A\u001b[A\u001b[A"
     ]
    },
    {
     "name": "stdout",
     "output_type": "stream",
     "text": [
      "сойти с ума ok\n",
      "no examples\n",
      "[101, 'go around', 'обойти', nan, nan, 'bypass | circumvent | evade | bypass | outflank | finesse | tour | walk around | ']\n"
     ]
    },
    {
     "name": "stderr",
     "output_type": "stream",
     "text": [
      "\n",
      "\n",
      "\n",
      "\n",
      "  8%|▊         | 102/1358 [01:46<13:44,  1.52it/s]\u001b[A\u001b[A\u001b[A\u001b[A"
     ]
    },
    {
     "name": "stdout",
     "output_type": "stream",
     "text": [
      "обойти ok\n",
      "no examples\n",
      "[102, 'go around', 'вращаться', nan, nan, 'rotate | revolve | spin | spin | rotate | spin around | move around | ']\n"
     ]
    },
    {
     "name": "stderr",
     "output_type": "stream",
     "text": [
      "\n",
      "\n",
      "\n",
      "\n",
      "  8%|▊         | 103/1358 [01:46<11:04,  1.89it/s]\u001b[A\u001b[A\u001b[A\u001b[A"
     ]
    },
    {
     "name": "stdout",
     "output_type": "stream",
     "text": [
      "вращаться ok\n",
      "no examples\n",
      "[103, 'go around', 'ездить по миру', nan, nan, ' | ']\n"
     ]
    },
    {
     "name": "stderr",
     "output_type": "stream",
     "text": [
      "\n",
      "\n",
      "\n",
      "\n",
      "  8%|▊         | 104/1358 [01:47<09:21,  2.23it/s]\u001b[A\u001b[A\u001b[A\u001b[A"
     ]
    },
    {
     "name": "stdout",
     "output_type": "stream",
     "text": [
      "ездить по миру ok\n",
      "no examples\n",
      "[104, 'go around', 'часто путешествовать', nan, nan, ' | ']\n"
     ]
    },
    {
     "name": "stderr",
     "output_type": "stream",
     "text": [
      "\n",
      "\n",
      "\n",
      "\n",
      "  8%|▊         | 105/1358 [01:47<08:55,  2.34it/s]\u001b[A\u001b[A\u001b[A\u001b[A"
     ]
    },
    {
     "name": "stdout",
     "output_type": "stream",
     "text": [
      "часто путешествовать ok\n",
      "no examples\n",
      "[105, 'go around', 'хватать', nan, nan, 'lack | grab | catch | suffice | afford | miss | deprive | rip | ']\n"
     ]
    },
    {
     "name": "stderr",
     "output_type": "stream",
     "text": [
      "\n",
      "\n",
      "\n",
      "\n",
      "  8%|▊         | 106/1358 [01:47<09:16,  2.25it/s]\u001b[A\u001b[A\u001b[A\u001b[A"
     ]
    },
    {
     "name": "stdout",
     "output_type": "stream",
     "text": [
      "хватать ok\n",
      "no examples\n",
      "[106, 'go around', 'пролетать', nan, nan, 'fly | ']\n"
     ]
    },
    {
     "name": "stderr",
     "output_type": "stream",
     "text": [
      "\n",
      "\n",
      "\n",
      "\n",
      "  8%|▊         | 107/1358 [01:48<09:54,  2.11it/s]\u001b[A\u001b[A\u001b[A\u001b[A"
     ]
    },
    {
     "name": "stdout",
     "output_type": "stream",
     "text": [
      "пролетать ok\n",
      "no examples\n",
      "[107, 'go around', 'ходить вокруг', nan, nan, ' | ']\n"
     ]
    },
    {
     "name": "stderr",
     "output_type": "stream",
     "text": [
      "\n",
      "\n",
      "\n",
      "\n",
      "  8%|▊         | 108/1358 [01:49<11:43,  1.78it/s]\u001b[A\u001b[A\u001b[A\u001b[A"
     ]
    },
    {
     "name": "stdout",
     "output_type": "stream",
     "text": [
      "ходить вокруг ok\n",
      "no examples\n",
      "[108, 'go out', 'выйти', nan, nan, 'go | come out | leave | reach | release | emerge | enter | step | ']\n"
     ]
    },
    {
     "name": "stderr",
     "output_type": "stream",
     "text": [
      "\n",
      "\n",
      "\n",
      "\n",
      "  8%|▊         | 109/1358 [01:49<11:30,  1.81it/s]\u001b[A\u001b[A\u001b[A\u001b[A"
     ]
    },
    {
     "name": "stdout",
     "output_type": "stream",
     "text": [
      "выйти ok\n",
      "no examples\n",
      "[109, 'go out', 'выходить', 'to go out into the streets|', 'выходить на улицу | ', 'go | come out | face | extend | enter | overlook | emerge | withdraw | ']\n",
      "выходить ok\n"
     ]
    },
    {
     "name": "stderr",
     "output_type": "stream",
     "text": [
      "\n",
      "\n",
      "\n",
      "\n",
      "  8%|▊         | 110/1358 [01:50<13:42,  1.52it/s]\u001b[A\u001b[A\u001b[A\u001b[A"
     ]
    },
    {
     "name": "stdout",
     "output_type": "stream",
     "text": [
      "to go out into the streets ok\n",
      "[110, 'go out', 'пойти', nan, nan, 'go | walk | go | ']\n"
     ]
    },
    {
     "name": "stderr",
     "output_type": "stream",
     "text": [
      "\n",
      "\n",
      "\n",
      "\n",
      "  8%|▊         | 111/1358 [01:51<13:53,  1.50it/s]\u001b[A\u001b[A\u001b[A\u001b[A"
     ]
    },
    {
     "name": "stdout",
     "output_type": "stream",
     "text": [
      "пойти ok\n",
      "no examples\n",
      "[111, 'go out', 'уходить', nan, nan, 'go | leave | go away | go | leave | fade | dates back | ']\n"
     ]
    },
    {
     "name": "stderr",
     "output_type": "stream",
     "text": [
      "\n",
      "\n",
      "\n",
      "\n",
      "  8%|▊         | 112/1358 [01:52<19:15,  1.08it/s]\u001b[A\u001b[A\u001b[A\u001b[A"
     ]
    },
    {
     "name": "stdout",
     "output_type": "stream",
     "text": [
      "уходить ok\n",
      "no examples\n",
      "[112, 'go out', 'уйти', nan, nan, 'leave | go | go away | withdraw | get out | get away | escape | resign | ']\n"
     ]
    },
    {
     "name": "stderr",
     "output_type": "stream",
     "text": [
      "\n",
      "\n",
      "\n",
      "\n",
      "  8%|▊         | 113/1358 [01:53<15:30,  1.34it/s]\u001b[A\u001b[A\u001b[A\u001b[A"
     ]
    },
    {
     "name": "stdout",
     "output_type": "stream",
     "text": [
      "уйти ok\n",
      "no examples\n",
      "[113, 'go out', 'выслать', nan, nan, 'send | expel | come out | emerge | qualify | get out | advance | step | ']\n"
     ]
    },
    {
     "name": "stderr",
     "output_type": "stream",
     "text": [
      "\n",
      "\n",
      "\n",
      "\n",
      "  8%|▊         | 114/1358 [01:53<13:36,  1.52it/s]\u001b[A\u001b[A\u001b[A\u001b[A"
     ]
    },
    {
     "name": "stdout",
     "output_type": "stream",
     "text": [
      "выслать ok\n",
      "no examples\n",
      "[114, 'go out', 'отправиться', nan, nan, 'go | travel | set out | head | embark | leave | depart | ']\n"
     ]
    },
    {
     "name": "stderr",
     "output_type": "stream",
     "text": [
      "\n",
      "\n",
      "\n",
      "\n",
      "  8%|▊         | 115/1358 [01:54<13:26,  1.54it/s]\u001b[A\u001b[A\u001b[A\u001b[A"
     ]
    },
    {
     "name": "stdout",
     "output_type": "stream",
     "text": [
      "отправиться ok\n",
      "no examples\n",
      "[115, 'go out', 'отправляться', nan, nan, 'go | leave | depart | head | head out | ']\n"
     ]
    },
    {
     "name": "stderr",
     "output_type": "stream",
     "text": [
      "\n",
      "\n",
      "\n",
      "\n",
      "  9%|▊         | 116/1358 [01:54<11:40,  1.77it/s]\u001b[A\u001b[A\u001b[A\u001b[A"
     ]
    },
    {
     "name": "stdout",
     "output_type": "stream",
     "text": [
      "отправляться ok\n",
      "no examples\n",
      "[116, 'go out', 'выезжать', nan, nan, 'travel | travel | dispatch | ']\n"
     ]
    },
    {
     "name": "stderr",
     "output_type": "stream",
     "text": [
      "\n",
      "\n",
      "\n",
      "\n",
      "  9%|▊         | 117/1358 [01:54<09:42,  2.13it/s]\u001b[A\u001b[A\u001b[A\u001b[A\n",
      "\n",
      "\n",
      "\n",
      "  9%|▊         | 118/1358 [01:55<07:59,  2.59it/s]\u001b[A\u001b[A\u001b[A\u001b[A"
     ]
    },
    {
     "name": "stdout",
     "output_type": "stream",
     "text": [
      "выезжать ok\n",
      "no examples\n",
      "[117, 'go off', 'плыть', nan, nan, 'swim | sail | float | mind | go off | ']\n",
      "плыть ok\n",
      "no examples\n",
      "[118, 'secret', 'секретный', nan, nan, 'confidential | sensitive | covert | secretive | undercover | ']\n"
     ]
    },
    {
     "name": "stderr",
     "output_type": "stream",
     "text": [
      "\n",
      "\n",
      "\n",
      "\n",
      "  9%|▉         | 119/1358 [01:55<06:56,  2.98it/s]\u001b[A\u001b[A\u001b[A\u001b[A"
     ]
    },
    {
     "name": "stdout",
     "output_type": "stream",
     "text": [
      "секретный ok\n",
      "no examples\n",
      "[119, 'secret', 'тайный', nan, nan, 'clandestine | covert | privy | arcane | insidious | esoteric | ']\n"
     ]
    },
    {
     "name": "stderr",
     "output_type": "stream",
     "text": [
      "\n",
      "\n",
      "\n",
      "\n",
      "  9%|▉         | 120/1358 [01:55<06:34,  3.14it/s]\u001b[A\u001b[A\u001b[A\u001b[A"
     ]
    },
    {
     "name": "stdout",
     "output_type": "stream",
     "text": [
      "тайный ok\n",
      "no examples\n",
      "[120, 'secret', 'сокровенный', nan, nan, 'innermost | intimate | ']\n"
     ]
    },
    {
     "name": "stderr",
     "output_type": "stream",
     "text": [
      "\n",
      "\n",
      "\n",
      "\n",
      "  9%|▉         | 121/1358 [01:55<06:21,  3.24it/s]\u001b[A\u001b[A\u001b[A\u001b[A"
     ]
    },
    {
     "name": "stdout",
     "output_type": "stream",
     "text": [
      "сокровенный ok\n",
      "no examples\n",
      "[121, 'secret', 'секрет', 'state secret|secret to high performance|shared secret|little secret|', 'государственные секреты | секрет высокой продуктивности | разделяемый секрет | маленький секрет | ', 'trick | mystery | ']\n",
      "секрет ok\n",
      "state secret ok\n",
      "secret to high performance ok\n",
      "shared secret ok\n"
     ]
    },
    {
     "name": "stderr",
     "output_type": "stream",
     "text": [
      "\n",
      "\n",
      "\n",
      "\n",
      "  9%|▉         | 122/1358 [01:58<18:25,  1.12it/s]\u001b[A\u001b[A\u001b[A\u001b[A"
     ]
    },
    {
     "name": "stdout",
     "output_type": "stream",
     "text": [
      "little secret ok\n",
      "[122, 'secret', 'тайна', 'trade secret|family secret|military secret|official secret|', 'коммерческая тайна | семейная тайна | военная тайна | государственная тайна | ', 'mystery | secrecy | confidentiality | ']\n",
      "тайна ok\n",
      "trade secret ok\n",
      "family secret ok\n",
      "military secret ok\n"
     ]
    },
    {
     "name": "stderr",
     "output_type": "stream",
     "text": [
      "\n",
      "\n",
      "\n",
      "\n",
      "  9%|▉         | 123/1358 [02:00<25:31,  1.24s/it]\u001b[A\u001b[A\u001b[A\u001b[A"
     ]
    },
    {
     "name": "stdout",
     "output_type": "stream",
     "text": [
      "official secret ok\n",
      "[123, 'table', 'табличный', nan, nan, 'tabular | ']\n"
     ]
    },
    {
     "name": "stderr",
     "output_type": "stream",
     "text": [
      "\n",
      "\n",
      "\n",
      "\n",
      "  9%|▉         | 124/1358 [02:00<19:22,  1.06it/s]\u001b[A\u001b[A\u001b[A\u001b[A"
     ]
    },
    {
     "name": "stdout",
     "output_type": "stream",
     "text": [
      "табличный ok\n",
      "no examples\n",
      "[124, 'table', 'настольный', nan, nan, 'desktop | ']\n"
     ]
    },
    {
     "name": "stderr",
     "output_type": "stream",
     "text": [
      "\n",
      "\n",
      "\n",
      "\n",
      "  9%|▉         | 125/1358 [02:01<19:36,  1.05it/s]\u001b[A\u001b[A\u001b[A\u001b[A"
     ]
    },
    {
     "name": "stdout",
     "output_type": "stream",
     "text": [
      "настольный ok\n",
      "no examples\n",
      "[125, 'table', 'стол', 'round table|dining table|pool table|negotiating table|', 'круглый стол | обеденный стол | бильярдный стол | стол переговоров | ', 'desk | desktop | ']\n",
      "стол ok\n",
      "round table ok\n",
      "dining table ok\n",
      "pool table ok\n"
     ]
    },
    {
     "name": "stderr",
     "output_type": "stream",
     "text": [
      "\n",
      "\n",
      "\n",
      "\n",
      "  9%|▉         | 126/1358 [02:04<31:22,  1.53s/it]\u001b[A\u001b[A\u001b[A\u001b[A"
     ]
    },
    {
     "name": "stdout",
     "output_type": "stream",
     "text": [
      "negotiating table ok\n",
      "[126, 'table', 'таблица', 'routing table|following table|periodic table|partition table|', 'Таблица маршрутизации | следующая таблица | периодическая таблица | таблица разделов | ', 'chart | spreadsheet | sheet | ']\n",
      "таблица ok\n",
      "routing table ok\n",
      "following table ok\n",
      "periodic table ok\n"
     ]
    },
    {
     "name": "stderr",
     "output_type": "stream",
     "text": [
      "\n",
      "\n",
      "\n",
      "\n",
      "  9%|▉         | 127/1358 [02:08<46:35,  2.27s/it]\u001b[A\u001b[A\u001b[A\u001b[A"
     ]
    },
    {
     "name": "stdout",
     "output_type": "stream",
     "text": [
      "partition table ok\n",
      "[127, 'table', 'столик', 'coffee table|dressing table|small table|changing table|', 'журнальный столик | туалетный столик | небольшим письменным столиком | пеленальный столик | ', 'reservation | small table | little table | ']\n",
      "столик ok\n",
      "coffee table ok\n",
      "dressing table ok\n",
      "small table ok\n"
     ]
    },
    {
     "name": "stderr",
     "output_type": "stream",
     "text": [
      "\n",
      "\n",
      "\n",
      "\n",
      "  9%|▉         | 128/1358 [02:12<56:28,  2.75s/it]\u001b[A\u001b[A\u001b[A\u001b[A"
     ]
    },
    {
     "name": "stdout",
     "output_type": "stream",
     "text": [
      "changing table ok\n",
      "[128, 'table', 'рассматриваться', nan, nan, 'consider | view | address | examine | treat | regard | see | review | construe | ']\n"
     ]
    },
    {
     "name": "stderr",
     "output_type": "stream",
     "text": [
      "\n",
      "\n",
      "\n",
      "\n",
      "  9%|▉         | 129/1358 [02:12<43:11,  2.11s/it]\u001b[A\u001b[A\u001b[A\u001b[A"
     ]
    },
    {
     "name": "stdout",
     "output_type": "stream",
     "text": [
      "рассматриваться ok\n",
      "no examples\n",
      "[129, 'create', 'создать', 'to create a vacuum|to create conditions|to create a system|to create institutions|', 'создать вакуум | создать условия | создать систему | создать институты | ', 'establish | make | build | setup | form | found | develop | ']\n",
      "создать ok\n",
      "to create a vacuum ok\n",
      "to create conditions ok\n",
      "to create a system ok\n"
     ]
    },
    {
     "name": "stderr",
     "output_type": "stream",
     "text": [
      "\n",
      "\n",
      "\n",
      "\n",
      " 10%|▉         | 130/1358 [02:15<47:54,  2.34s/it]\u001b[A\u001b[A\u001b[A\u001b[A"
     ]
    },
    {
     "name": "stdout",
     "output_type": "stream",
     "text": [
      "to create institutions ok\n",
      "[130, 'create', 'создавать', 'to create a world|to create problems|to create the impression|to create the circumstances|', 'создавать мир | создавать проблемы | создавать впечатление | создавать условия | ', 'make | build | produce | establish | generate | form | setup | ']\n",
      "создавать ok\n",
      "to create a world ok\n",
      "to create problems ok\n",
      "to create the impression ok\n"
     ]
    },
    {
     "name": "stderr",
     "output_type": "stream",
     "text": [
      "\n",
      "\n",
      "\n",
      "\n",
      " 10%|▉         | 131/1358 [02:17<42:30,  2.08s/it]\u001b[A\u001b[A\u001b[A\u001b[A"
     ]
    },
    {
     "name": "stdout",
     "output_type": "stream",
     "text": [
      "to create the circumstances ok\n",
      "[131, 'create', 'создаваться', nan, nan, 'form | ']\n"
     ]
    },
    {
     "name": "stderr",
     "output_type": "stream",
     "text": [
      "\n",
      "\n",
      "\n",
      "\n",
      " 10%|▉         | 132/1358 [02:17<31:50,  1.56s/it]\u001b[A\u001b[A\u001b[A\u001b[A"
     ]
    },
    {
     "name": "stdout",
     "output_type": "stream",
     "text": [
      "создаваться ok\n",
      "no examples\n",
      "[132, 'create', 'образовать', nan, nan, 'form | establish | educate | constitute | found | make up | form | comprise | consist of | ']\n"
     ]
    },
    {
     "name": "stderr",
     "output_type": "stream",
     "text": [
      "\n",
      "\n",
      "\n",
      "\n",
      " 10%|▉         | 133/1358 [02:17<23:40,  1.16s/it]\u001b[A\u001b[A\u001b[A\u001b[A"
     ]
    },
    {
     "name": "stdout",
     "output_type": "stream",
     "text": [
      "образовать ok\n",
      "no examples\n",
      "[133, 'warm', 'теплый', 'very warm|', 'очень теплые | ', 'hot | ']\n",
      "теплый ok\n"
     ]
    },
    {
     "name": "stderr",
     "output_type": "stream",
     "text": [
      "\n",
      "\n",
      "\n",
      "\n",
      " 10%|▉         | 134/1358 [02:18<23:05,  1.13s/it]\u001b[A\u001b[A\u001b[A\u001b[A"
     ]
    },
    {
     "name": "stdout",
     "output_type": "stream",
     "text": [
      "very warm ok\n",
      "[134, 'warm', 'тепло', nan, nan, ' | ']\n"
     ]
    },
    {
     "name": "stderr",
     "output_type": "stream",
     "text": [
      "\n",
      "\n",
      "\n",
      "\n",
      " 10%|▉         | 135/1358 [02:18<17:28,  1.17it/s]\u001b[A\u001b[A\u001b[A\u001b[A"
     ]
    },
    {
     "name": "stdout",
     "output_type": "stream",
     "text": [
      "тепло ok\n",
      "no examples\n",
      "[135, 'warm', 'уютный', nan, nan, 'cosy | comfortable | intimate | charming | friendly | pleasant | ']\n"
     ]
    },
    {
     "name": "stderr",
     "output_type": "stream",
     "text": [
      "\n",
      "\n",
      "\n",
      "\n",
      " 10%|█         | 136/1358 [02:19<14:41,  1.39it/s]\u001b[A\u001b[A\u001b[A\u001b[A"
     ]
    },
    {
     "name": "stdout",
     "output_type": "stream",
     "text": [
      "уютный ok\n",
      "no examples\n",
      "[136, 'warm', 'горячий', nan, nan, 'hot | heated | ardent | ']\n"
     ]
    },
    {
     "name": "stderr",
     "output_type": "stream",
     "text": [
      "\n",
      "\n",
      "\n",
      "\n",
      " 10%|█         | 137/1358 [02:19<11:55,  1.71it/s]\u001b[A\u001b[A\u001b[A\u001b[A\n",
      "\n",
      "\n",
      "\n"
     ]
    },
    {
     "name": "stdout",
     "output_type": "stream",
     "text": [
      "горячий ok\n",
      "no examples\n",
      "[137, 'warm', 'радушный', nan, nan, 'friendly | cordial | hospitable | welcome | kind | ']\n",
      "радушный ok\n",
      "no examples\n"
     ]
    },
    {
     "name": "stderr",
     "output_type": "stream",
     "text": [
      " 10%|█         | 138/1358 [02:19<09:33,  2.13it/s]\u001b[A\u001b[A\u001b[A\u001b[A"
     ]
    },
    {
     "name": "stdout",
     "output_type": "stream",
     "text": [
      "[138, 'warm', 'согревать', nan, nan, ' | ']\n"
     ]
    },
    {
     "name": "stderr",
     "output_type": "stream",
     "text": [
      "\n",
      "\n",
      "\n",
      "\n",
      " 10%|█         | 139/1358 [02:20<09:09,  2.22it/s]\u001b[A\u001b[A\u001b[A\u001b[A"
     ]
    },
    {
     "name": "stdout",
     "output_type": "stream",
     "text": [
      "согревать ok\n",
      "no examples\n",
      "[139, 'warm', 'подогревать', nan, nan, 'fuel | ']\n"
     ]
    },
    {
     "name": "stderr",
     "output_type": "stream",
     "text": [
      "\n",
      "\n",
      "\n",
      "\n",
      " 10%|█         | 140/1358 [02:20<10:01,  2.02it/s]\u001b[A\u001b[A\u001b[A\u001b[A"
     ]
    },
    {
     "name": "stdout",
     "output_type": "stream",
     "text": [
      "подогревать ok\n",
      "no examples\n",
      "[140, 'warm', 'греть', nan, nan, 'heat | ']\n"
     ]
    },
    {
     "name": "stderr",
     "output_type": "stream",
     "text": [
      "\n",
      "\n",
      "\n",
      "\n",
      " 10%|█         | 141/1358 [02:21<10:20,  1.96it/s]\u001b[A\u001b[A\u001b[A\u001b[A"
     ]
    },
    {
     "name": "stdout",
     "output_type": "stream",
     "text": [
      "греть ok\n",
      "no examples\n",
      "[141, 'warm up', 'нагреваться', nan, nan, 'heat | heat up | ']\n"
     ]
    },
    {
     "name": "stderr",
     "output_type": "stream",
     "text": [
      "\n",
      "\n",
      "\n",
      "\n",
      " 10%|█         | 142/1358 [02:21<08:54,  2.27it/s]\u001b[A\u001b[A\u001b[A\u001b[A"
     ]
    },
    {
     "name": "stdout",
     "output_type": "stream",
     "text": [
      "нагреваться ok\n",
      "no examples\n",
      "[142, 'warm up', 'нагреться', nan, nan, 'heat up | ']\n"
     ]
    },
    {
     "name": "stderr",
     "output_type": "stream",
     "text": [
      "\n",
      "\n",
      "\n",
      "\n",
      " 11%|█         | 143/1358 [02:22<08:16,  2.45it/s]\u001b[A\u001b[A\u001b[A\u001b[A"
     ]
    },
    {
     "name": "stdout",
     "output_type": "stream",
     "text": [
      "нагреться ok\n",
      "no examples\n",
      "[143, 'nobody', 'никто', 'Nobody says it will be easy|', 'Никто не говорит, что это будет просто | ', nan]\n",
      "никто ok\n"
     ]
    },
    {
     "name": "stderr",
     "output_type": "stream",
     "text": [
      "\n",
      "\n",
      "\n",
      "\n",
      " 11%|█         | 144/1358 [02:22<09:03,  2.23it/s]\u001b[A\u001b[A\u001b[A\u001b[A"
     ]
    },
    {
     "name": "stdout",
     "output_type": "stream",
     "text": [
      "Nobody says it will be easy ok\n",
      "[144, 'entire', 'всей', nan, nan, 'whole | overall | total | ']\n"
     ]
    },
    {
     "name": "stderr",
     "output_type": "stream",
     "text": [
      "\n",
      "\n",
      "\n",
      "\n",
      " 11%|█         | 145/1358 [02:22<08:18,  2.43it/s]\u001b[A\u001b[A\u001b[A\u001b[A"
     ]
    },
    {
     "name": "stdout",
     "output_type": "stream",
     "text": [
      "всей ok\n",
      "no examples\n",
      "[145, 'entire', 'полный', nan, nan, 'full | complete | total | comprehensive | whole | ']\n"
     ]
    },
    {
     "name": "stderr",
     "output_type": "stream",
     "text": [
      "\n",
      "\n",
      "\n",
      "\n",
      " 11%|█         | 146/1358 [02:23<11:59,  1.69it/s]\u001b[A\u001b[A\u001b[A\u001b[A"
     ]
    },
    {
     "name": "stdout",
     "output_type": "stream",
     "text": [
      "полный ok\n",
      "no examples\n",
      "[146, 'entire', 'целую', nan, nan, 'whole | ']\n"
     ]
    },
    {
     "name": "stderr",
     "output_type": "stream",
     "text": [
      "\n",
      "\n",
      "\n",
      "\n",
      " 11%|█         | 147/1358 [02:24<10:01,  2.01it/s]\u001b[A\u001b[A\u001b[A\u001b[A"
     ]
    },
    {
     "name": "stdout",
     "output_type": "stream",
     "text": [
      "целую ok\n",
      "no examples\n",
      "[147, 'entire', 'весь', nan, nan, 'all | whole | ']\n"
     ]
    },
    {
     "name": "stderr",
     "output_type": "stream",
     "text": [
      "\n",
      "\n",
      "\n",
      "\n",
      " 11%|█         | 148/1358 [02:25<15:48,  1.28it/s]\u001b[A\u001b[A\u001b[A\u001b[A"
     ]
    },
    {
     "name": "stdout",
     "output_type": "stream",
     "text": [
      "весь ok\n",
      "no examples\n",
      "[148, 'entire', 'цельный', nan, nan, 'whole | solid | integral | coherent | consistent | seamless | ']\n"
     ]
    },
    {
     "name": "stderr",
     "output_type": "stream",
     "text": [
      "\n",
      "\n",
      "\n",
      "\n",
      " 11%|█         | 149/1358 [02:25<12:42,  1.58it/s]\u001b[A\u001b[A\u001b[A\u001b[A"
     ]
    },
    {
     "name": "stdout",
     "output_type": "stream",
     "text": [
      "цельный ok\n",
      "no examples\n",
      "[149, 'entire', 'целостный', nan, nan, 'holistic | integral | whole | consistent | seamless | ']\n"
     ]
    },
    {
     "name": "stderr",
     "output_type": "stream",
     "text": [
      "\n",
      "\n",
      "\n",
      "\n",
      " 11%|█         | 150/1358 [02:26<10:32,  1.91it/s]\u001b[A\u001b[A\u001b[A\u001b[A"
     ]
    },
    {
     "name": "stdout",
     "output_type": "stream",
     "text": [
      "целостный ok\n",
      "no examples\n",
      "[150, 'anything', 'что-нибудь', 'Have you ever seen anything like this?|', 'Вам уже приходилось видеть что-нибудь похожее? | ', nan]\n",
      "что-нибудь ok\n"
     ]
    },
    {
     "name": "stderr",
     "output_type": "stream",
     "text": [
      "\n",
      "\n",
      "\n",
      "\n",
      " 11%|█         | 151/1358 [02:26<11:37,  1.73it/s]\u001b[A\u001b[A\u001b[A\u001b[A"
     ]
    },
    {
     "name": "stdout",
     "output_type": "stream",
     "text": [
      "Have you ever seen anything like this? ok\n",
      "[151, 'anything', 'ничто', 'We aren’t going to find anything out here.|', 'Мы ничего здесь не найдем. | ', nan]\n",
      "ничто ok\n"
     ]
    },
    {
     "name": "stderr",
     "output_type": "stream",
     "text": [
      "\n",
      "\n",
      "\n",
      "\n",
      " 11%|█         | 152/1358 [02:27<13:55,  1.44it/s]\u001b[A\u001b[A\u001b[A\u001b[A"
     ]
    },
    {
     "name": "stdout",
     "output_type": "stream",
     "text": [
      "We aren’t going to find anything out here. ok\n",
      "[152, 'anything', 'всё', \"I'll do anything I can|\", 'Я сделаю все, что смогу | ', nan]\n",
      "всё ok\n"
     ]
    },
    {
     "name": "stderr",
     "output_type": "stream",
     "text": [
      "\n",
      "\n",
      "\n",
      "\n",
      " 11%|█▏        | 153/1358 [02:28<13:23,  1.50it/s]\u001b[A\u001b[A\u001b[A\u001b[A"
     ]
    },
    {
     "name": "stdout",
     "output_type": "stream",
     "text": [
      "I'll do anything I can ok\n",
      "[153, 'background', 'фоновый', nan, nan, ' | ']\n"
     ]
    },
    {
     "name": "stderr",
     "output_type": "stream",
     "text": [
      "\n",
      "\n",
      "\n",
      "\n",
      " 11%|█▏        | 154/1358 [02:28<10:38,  1.89it/s]\u001b[A\u001b[A\u001b[A\u001b[A"
     ]
    },
    {
     "name": "stdout",
     "output_type": "stream",
     "text": [
      "фоновый ok\n",
      "no examples\n",
      "[154, 'background', 'справочный', nan, nan, 'manual | ']\n"
     ]
    },
    {
     "name": "stderr",
     "output_type": "stream",
     "text": [
      "\n",
      "\n",
      "\n",
      "\n",
      " 11%|█▏        | 155/1358 [02:29<12:53,  1.56it/s]\u001b[A\u001b[A\u001b[A\u001b[A"
     ]
    },
    {
     "name": "stdout",
     "output_type": "stream",
     "text": [
      "справочный ok\n",
      "no examples\n",
      "[155, 'background', 'фон', 'transparent background|white background|black background|radiation background|', 'прозрачном фоне | белый фон | Черный фон | радиационный фон | ', 'backdrop | background color | ']\n",
      "фон ok\n",
      "transparent background ok\n",
      "white background ok\n",
      "black background ok\n"
     ]
    },
    {
     "name": "stderr",
     "output_type": "stream",
     "text": [
      "\n",
      "\n",
      "\n",
      "\n",
      " 11%|█▏        | 156/1358 [02:32<27:45,  1.39s/it]\u001b[A\u001b[A\u001b[A\u001b[A"
     ]
    },
    {
     "name": "stdout",
     "output_type": "stream",
     "text": [
      "radiation background ok\n",
      "[156, 'background', 'фоновый режим', nan, nan, ' | ']\n"
     ]
    },
    {
     "name": "stderr",
     "output_type": "stream",
     "text": [
      "\n",
      "\n",
      "\n",
      "\n",
      " 12%|█▏        | 157/1358 [02:33<23:32,  1.18s/it]\u001b[A\u001b[A\u001b[A\u001b[A"
     ]
    },
    {
     "name": "stdout",
     "output_type": "stream",
     "text": [
      "фоновый режим ok\n",
      "no examples\n",
      "[157, 'background', 'происхождение', 'ethnic background|family background|', 'этническое происхождение | семейное происхождение | ', 'origin | descent | ancestry | birth | lineage | ']\n",
      "происхождение ok\n",
      "ethnic background ok\n"
     ]
    },
    {
     "name": "stderr",
     "output_type": "stream",
     "text": [
      "\n",
      "\n",
      "\n",
      "\n",
      " 12%|█▏        | 158/1358 [02:34<24:19,  1.22s/it]\u001b[A\u001b[A\u001b[A\u001b[A"
     ]
    },
    {
     "name": "stdout",
     "output_type": "stream",
     "text": [
      "family background ok\n",
      "[158, 'background', 'задний план', nan, nan, ' | ']\n"
     ]
    },
    {
     "name": "stderr",
     "output_type": "stream",
     "text": [
      "\n",
      "\n",
      "\n",
      "\n",
      " 12%|█▏        | 159/1358 [02:35<22:40,  1.13s/it]\u001b[A\u001b[A\u001b[A\u001b[A"
     ]
    },
    {
     "name": "stdout",
     "output_type": "stream",
     "text": [
      "задний план ok\n",
      "no examples\n",
      "[159, 'background', 'фоновое изображение', nan, nan, ' | ']\n"
     ]
    },
    {
     "name": "stderr",
     "output_type": "stream",
     "text": [
      "\n",
      "\n",
      "\n",
      "\n",
      " 12%|█▏        | 160/1358 [02:37<26:54,  1.35s/it]\u001b[A\u001b[A\u001b[A\u001b[A"
     ]
    },
    {
     "name": "stdout",
     "output_type": "stream",
     "text": [
      "фоновое изображение ok\n",
      "no examples\n",
      "[160, 'background', 'предпосылка', nan, nan, 'prerequisite | premise | precondition | assumption | implication | boost | trait | ']\n"
     ]
    },
    {
     "name": "stderr",
     "output_type": "stream",
     "text": [
      "\n",
      "\n",
      "\n",
      "\n",
      " 12%|█▏        | 161/1358 [02:37<21:50,  1.10s/it]\u001b[A\u001b[A\u001b[A\u001b[A"
     ]
    },
    {
     "name": "stdout",
     "output_type": "stream",
     "text": [
      "предпосылка ok\n",
      "no examples\n",
      "[161, 'background', 'корень', 'immigrant background|', 'иммигрантскими корнями | ', 'root | origin | ']\n",
      "корень ok\n"
     ]
    },
    {
     "name": "stderr",
     "output_type": "stream",
     "text": [
      "\n",
      "\n",
      "\n",
      "\n",
      " 12%|█▏        | 162/1358 [02:38<20:16,  1.02s/it]\u001b[A\u001b[A\u001b[A\u001b[A"
     ]
    },
    {
     "name": "stdout",
     "output_type": "stream",
     "text": [
      "immigrant background ok\n",
      "[162, 'child', 'дитя', 'young child|Pakistani children|innocent child|healthy child|', 'маленькое дитя | пакистанские дети | невинные дети | здоровые дети | ', 'kid | baby | ']\n",
      "дитя ok\n",
      "young child ok\n",
      "Pakistani children ok\n",
      "innocent child ok\n"
     ]
    },
    {
     "name": "stderr",
     "output_type": "stream",
     "text": [
      "\n",
      "\n",
      "\n",
      "\n",
      " 12%|█▏        | 163/1358 [02:41<27:26,  1.38s/it]\u001b[A\u001b[A\u001b[A\u001b[A"
     ]
    },
    {
     "name": "stdout",
     "output_type": "stream",
     "text": [
      "healthy child ok\n",
      "[163, 'child', 'ребенок', 'first child|second child|small child|virtual child|', 'первый ребенок | второй ребенок | маленький ребенок | виртуальным ребенком | ', 'baby | kid | ']\n",
      "ребенок ok\n",
      "first child ok\n",
      "second child ok\n",
      "small child ok\n"
     ]
    },
    {
     "name": "stderr",
     "output_type": "stream",
     "text": [
      "\n",
      "\n",
      "\n",
      "\n",
      " 12%|█▏        | 164/1358 [02:43<35:31,  1.78s/it]\u001b[A\u001b[A\u001b[A\u001b[A"
     ]
    },
    {
     "name": "stdout",
     "output_type": "stream",
     "text": [
      "virtual child ok\n",
      "[164, 'child', 'размещении всех детей', nan, nan, ' | ']\n"
     ]
    },
    {
     "name": "stderr",
     "output_type": "stream",
     "text": [
      "\n",
      "\n",
      "\n",
      "\n",
      " 12%|█▏        | 165/1358 [02:44<26:31,  1.33s/it]\u001b[A\u001b[A\u001b[A\u001b[A"
     ]
    },
    {
     "name": "stdout",
     "output_type": "stream",
     "text": [
      "размещении всех детей ok\n",
      "no examples\n",
      "[165, 'child', 'размещении одного ребёнка', nan, nan, ' | ']\n"
     ]
    },
    {
     "name": "stderr",
     "output_type": "stream",
     "text": [
      "\n",
      "\n",
      "\n",
      "\n",
      " 12%|█▏        | 166/1358 [02:44<20:42,  1.04s/it]\u001b[A\u001b[A\u001b[A\u001b[A"
     ]
    },
    {
     "name": "stdout",
     "output_type": "stream",
     "text": [
      "размещении одного ребёнка ok\n",
      "no examples\n",
      "[166, 'childhood', 'детство', 'early childhood|happy childhood|unhappy childhood|very difficult childhood|', 'раннее детство | счастливое детство | несчастливое детство | очень сложное детство | ', ' | ']\n",
      "детство ok\n",
      "early childhood ok\n",
      "happy childhood ok\n",
      "unhappy childhood ok\n"
     ]
    },
    {
     "name": "stderr",
     "output_type": "stream",
     "text": [
      "\n",
      "\n",
      "\n",
      "\n",
      " 12%|█▏        | 167/1358 [02:46<25:08,  1.27s/it]\u001b[A\u001b[A\u001b[A\u001b[A"
     ]
    },
    {
     "name": "stdout",
     "output_type": "stream",
     "text": [
      "very difficult childhood ok\n",
      "[167, 'childhood', 'детском возрасте', nan, nan, ' | ']\n"
     ]
    },
    {
     "name": "stderr",
     "output_type": "stream",
     "text": [
      "\n",
      "\n",
      "\n",
      "\n",
      " 12%|█▏        | 168/1358 [02:46<18:58,  1.04it/s]\u001b[A\u001b[A\u001b[A\u001b[A"
     ]
    },
    {
     "name": "stdout",
     "output_type": "stream",
     "text": [
      "детском возрасте ok\n",
      "no examples\n",
      "[168, 'everything', 'весь / всё', \"Everything else doesn't matter|\", 'Всё остальное не имеет значения | ', nan]\n",
      "весь / всё ok\n"
     ]
    },
    {
     "name": "stderr",
     "output_type": "stream",
     "text": [
      "\n",
      "\n",
      "\n",
      "\n",
      " 12%|█▏        | 169/1358 [02:47<19:39,  1.01it/s]\u001b[A\u001b[A\u001b[A\u001b[A"
     ]
    },
    {
     "name": "stdout",
     "output_type": "stream",
     "text": [
      "Everything else doesn't matter ok\n",
      "[169, 'grandchild', 'внук', 'little grandchildren|', 'маленьких внуков | ', 'grandson | grandkid | ']\n",
      "внук ok\n"
     ]
    },
    {
     "name": "stderr",
     "output_type": "stream",
     "text": [
      "\n",
      "\n",
      "\n",
      "\n",
      " 13%|█▎        | 170/1358 [02:48<18:35,  1.06it/s]\u001b[A\u001b[A\u001b[A\u001b[A"
     ]
    },
    {
     "name": "stdout",
     "output_type": "stream",
     "text": [
      "little grandchildren ok\n",
      "[170, 'ketchup', 'кетчуп', nan, nan, ' | ']\n"
     ]
    },
    {
     "name": "stderr",
     "output_type": "stream",
     "text": [
      "\n",
      "\n",
      "\n",
      "\n",
      " 13%|█▎        | 171/1358 [02:48<14:51,  1.33it/s]\u001b[A\u001b[A\u001b[A\u001b[A"
     ]
    },
    {
     "name": "stdout",
     "output_type": "stream",
     "text": [
      "кетчуп ok\n",
      "no examples\n",
      "[171, 'point', 'точка', 'starting point|access point|percentage point|ideal starting point|', 'отправная точка | точка доступа | процентные точки | идеальная отправная точка | ', 'dot | spot | pixel | location | outlet | ']\n",
      "точка ok\n",
      "starting point ok\n",
      "access point ok\n",
      "percentage point ok\n"
     ]
    },
    {
     "name": "stderr",
     "output_type": "stream",
     "text": [
      "\n",
      "\n",
      "\n",
      "\n",
      " 13%|█▎        | 172/1358 [02:52<31:36,  1.60s/it]\u001b[A\u001b[A\u001b[A\u001b[A"
     ]
    },
    {
     "name": "stdout",
     "output_type": "stream",
     "text": [
      "ideal starting point ok\n",
      "[172, 'point', 'пункт', 'basis point|turning point|vaccination points|passport control points|', 'базовый пункт | поворотный пункт | пункты вакцинации | пунктами паспортного контроля | ', 'item | post | paragraph | clause | pip | outlet | ']\n",
      "пункт ok\n",
      "basis point ok\n",
      "turning point ok\n",
      "vaccination points ok\n"
     ]
    },
    {
     "name": "stderr",
     "output_type": "stream",
     "text": [
      "\n",
      "\n",
      "\n",
      "\n",
      " 13%|█▎        | 173/1358 [02:54<34:14,  1.73s/it]\u001b[A\u001b[A\u001b[A\u001b[A"
     ]
    },
    {
     "name": "stdout",
     "output_type": "stream",
     "text": [
      "passport control points ok\n",
      "[173, 'point', 'момент', 'tipping point|key point|important point|certain point|', 'переломный момент | ключевой момент | важный момент | определенный момент | ', 'moment | time | thing | date | ']\n",
      "момент ok\n",
      "tipping point ok\n",
      "key point ok\n",
      "important point ok\n"
     ]
    },
    {
     "name": "stderr",
     "output_type": "stream",
     "text": [
      "\n",
      "\n",
      "\n",
      "\n",
      " 13%|█▎        | 174/1358 [02:56<37:01,  1.88s/it]\u001b[A\u001b[A\u001b[A\u001b[A"
     ]
    },
    {
     "name": "stdout",
     "output_type": "stream",
     "text": [
      "certain point ok\n",
      "[174, 'point', 'очки', 'ACP Point|bonus point|Reward Point|political point|', 'зачетные очки ашп | бонусные очки | поощрительные очки | политические очки | ', 'glass | run | sunglasses | score | spectacle | goggle | eyeglass | Lounge Point | ']\n",
      "очки ok\n",
      "ACP Point ok\n",
      "bonus point ok\n",
      "Reward Point ok\n"
     ]
    },
    {
     "name": "stderr",
     "output_type": "stream",
     "text": [
      "\n",
      "\n",
      "\n",
      "\n",
      " 13%|█▎        | 175/1358 [02:58<35:53,  1.82s/it]\u001b[A\u001b[A\u001b[A\u001b[A"
     ]
    },
    {
     "name": "stdout",
     "output_type": "stream",
     "text": [
      "political point ok\n",
      "[175, 'point', 'балл', 'penalty point|', 'штрафные баллы | ', 'magnitude | score | vote | ball | grade | ']\n",
      "балл ok\n"
     ]
    },
    {
     "name": "stderr",
     "output_type": "stream",
     "text": [
      "\n",
      "\n",
      "\n",
      "\n",
      " 13%|█▎        | 176/1358 [02:59<35:53,  1.82s/it]\u001b[A\u001b[A\u001b[A\u001b[A"
     ]
    },
    {
     "name": "stdout",
     "output_type": "stream",
     "text": [
      "penalty point ok\n",
      "[176, 'point', 'смысл', nan, nan, 'sense | meaning | way | implication | ']\n"
     ]
    },
    {
     "name": "stderr",
     "output_type": "stream",
     "text": [
      "\n",
      "\n",
      "\n",
      "\n",
      " 13%|█▎        | 177/1358 [03:00<26:40,  1.36s/it]\u001b[A\u001b[A\u001b[A\u001b[A"
     ]
    },
    {
     "name": "stdout",
     "output_type": "stream",
     "text": [
      "смысл ok\n",
      "no examples\n",
      "[177, 'point', 'дело', nan, nan, 'case | affair | business | thing | matter | cause | work | ministry | ']\n"
     ]
    },
    {
     "name": "stderr",
     "output_type": "stream",
     "text": [
      "\n",
      "\n",
      "\n",
      "\n",
      " 13%|█▎        | 178/1358 [03:00<20:37,  1.05s/it]\u001b[A\u001b[A\u001b[A\u001b[A"
     ]
    },
    {
     "name": "stdout",
     "output_type": "stream",
     "text": [
      "дело ok\n",
      "no examples\n",
      "[178, 'point', 'очко', 'first point|', 'первое очко | ', 'run | pip | ']\n",
      "очко ok\n"
     ]
    },
    {
     "name": "stderr",
     "output_type": "stream",
     "text": [
      "\n",
      "\n",
      "\n",
      "\n",
      " 13%|█▎        | 179/1358 [03:01<19:21,  1.01it/s]\u001b[A\u001b[A\u001b[A\u001b[A"
     ]
    },
    {
     "name": "stdout",
     "output_type": "stream",
     "text": [
      "first point ok\n",
      "[179, 'point', 'указывать', 'to point at the map|', 'указывать на карту | ', 'indicate | specify | show | suggest | point out | highlight | emphasize | ']\n",
      "указывать ok\n"
     ]
    },
    {
     "name": "stderr",
     "output_type": "stream",
     "text": [
      "\n",
      "\n",
      "\n",
      "\n",
      " 13%|█▎        | 180/1358 [03:02<19:00,  1.03it/s]\u001b[A\u001b[A\u001b[A\u001b[A"
     ]
    },
    {
     "name": "stdout",
     "output_type": "stream",
     "text": [
      "to point at the map ok\n",
      "[180, 'point', 'указать', 'to point dramatically|to point the way|', 'театрально указать | указать путь | ', 'specify | indicate | enter | select | define | set | point out | state | ']\n",
      "указать ok\n",
      "to point dramatically ok\n"
     ]
    },
    {
     "name": "stderr",
     "output_type": "stream",
     "text": [
      "\n",
      "\n",
      "\n",
      "\n",
      " 13%|█▎        | 181/1358 [03:04<28:26,  1.45s/it]\u001b[A\u001b[A\u001b[A\u001b[A"
     ]
    },
    {
     "name": "stdout",
     "output_type": "stream",
     "text": [
      "to point the way ok\n",
      "[181, 'point', 'направить', nan, nan, 'send | direct | deploy | focus | forward | aim | channel | turn | steer | ']\n"
     ]
    },
    {
     "name": "stderr",
     "output_type": "stream",
     "text": [
      "\n",
      "\n",
      "\n",
      "\n",
      " 13%|█▎        | 182/1358 [03:05<21:27,  1.09s/it]\u001b[A\u001b[A\u001b[A\u001b[A"
     ]
    },
    {
     "name": "stdout",
     "output_type": "stream",
     "text": [
      "направить ok\n",
      "no examples\n",
      "[182, 'point', 'отметить', nan, nan, 'say | note | mark | celebrate | point out | mention | click | observe | notice | ']\n"
     ]
    },
    {
     "name": "stderr",
     "output_type": "stream",
     "text": [
      "\n",
      "\n",
      "\n",
      "\n",
      " 13%|█▎        | 183/1358 [03:05<16:19,  1.20it/s]\u001b[A\u001b[A\u001b[A\u001b[A"
     ]
    },
    {
     "name": "stdout",
     "output_type": "stream",
     "text": [
      "отметить ok\n",
      "no examples\n",
      "[183, 'point', 'ссылаться', nan, nan, 'invoke | link | refer | refer to | quote | cite | fall back | allege | ']\n",
      "ссылаться ok"
     ]
    },
    {
     "name": "stderr",
     "output_type": "stream",
     "text": [
      "\n",
      "\n",
      "\n",
      "\n",
      " 14%|█▎        | 184/1358 [03:05<12:37,  1.55it/s]\u001b[A\u001b[A\u001b[A\u001b[A"
     ]
    },
    {
     "name": "stdout",
     "output_type": "stream",
     "text": [
      "\n",
      "no examples\n",
      "[184, 'point', 'показывать', nan, nan, 'show | indicate | suggest | demonstrate | reveal | display | show | ']\n"
     ]
    },
    {
     "name": "stderr",
     "output_type": "stream",
     "text": [
      "\n",
      "\n",
      "\n",
      "\n",
      " 14%|█▎        | 185/1358 [03:06<11:55,  1.64it/s]\u001b[A\u001b[A\u001b[A\u001b[A"
     ]
    },
    {
     "name": "stdout",
     "output_type": "stream",
     "text": [
      "показывать ok\n",
      "no examples\n",
      "[185, 'point', 'обращать', nan, nan, 'pay | draw | pay | convert | invert | leave aside | ']\n"
     ]
    },
    {
     "name": "stderr",
     "output_type": "stream",
     "text": [
      "\n",
      "\n",
      "\n",
      "\n",
      " 14%|█▎        | 186/1358 [03:06<10:41,  1.83it/s]\u001b[A\u001b[A\u001b[A\u001b[A"
     ]
    },
    {
     "name": "stdout",
     "output_type": "stream",
     "text": [
      "обращать ok\n",
      "no examples\n",
      "[186, 'point', 'отмечать', nan, nan, 'celebrate | note | mark | point out | observe | ']\n"
     ]
    },
    {
     "name": "stderr",
     "output_type": "stream",
     "text": [
      "\n",
      "\n",
      "\n",
      "\n",
      " 14%|█▍        | 187/1358 [03:06<09:52,  1.98it/s]\u001b[A\u001b[A\u001b[A\u001b[A"
     ]
    },
    {
     "name": "stdout",
     "output_type": "stream",
     "text": [
      "отмечать ok\n",
      "no examples\n",
      "[187, 'point out', 'отметить', nan, nan, 'say | note | mark | celebrate | mention | click | observe | notice | ']\n"
     ]
    },
    {
     "name": "stderr",
     "output_type": "stream",
     "text": [
      "\n",
      "\n",
      "\n",
      "\n",
      " 14%|█▍        | 188/1358 [03:07<09:18,  2.10it/s]\u001b[A\u001b[A\u001b[A\u001b[A"
     ]
    },
    {
     "name": "stdout",
     "output_type": "stream",
     "text": [
      "отметить ok\n",
      "no examples\n",
      "[188, 'point out', 'выявить', nan, nan, 'reveal | identify | detect | expose | discover | uncover | highlight | identify | ']\n"
     ]
    },
    {
     "name": "stderr",
     "output_type": "stream",
     "text": [
      "\n",
      "\n",
      "\n",
      "\n",
      " 14%|█▍        | 189/1358 [03:07<07:51,  2.48it/s]\u001b[A\u001b[A\u001b[A\u001b[A"
     ]
    },
    {
     "name": "stdout",
     "output_type": "stream",
     "text": [
      "выявить ok\n",
      "no examples\n",
      "[189, 'point out', 'указывать', \"to sensibly point out gold's risks|to point out gold's risks|to point out the information's absence|\", 'благоразумно указывать на риски золота | указывать на риски золота | указывать на отсутствие информации | ', 'point | indicate | specify | show | suggest | point | highlight | emphasize | ']\n",
      "указывать ok\n",
      "to sensibly point out gold's risks ok\n",
      "to point out gold's risks ok\n"
     ]
    },
    {
     "name": "stderr",
     "output_type": "stream",
     "text": [
      "\n",
      "\n",
      "\n",
      "\n",
      " 14%|█▍        | 190/1358 [03:09<14:54,  1.31it/s]\u001b[A\u001b[A\u001b[A\u001b[A"
     ]
    },
    {
     "name": "stdout",
     "output_type": "stream",
     "text": [
      "to point out the information's absence ok\n",
      "[190, 'point out', 'отмечать', nan, nan, 'celebrate | note | mark | observe | ']\n"
     ]
    },
    {
     "name": "stderr",
     "output_type": "stream",
     "text": [
      "\n",
      "\n",
      "\n",
      "\n",
      " 14%|█▍        | 191/1358 [03:10<15:40,  1.24it/s]\u001b[A\u001b[A\u001b[A\u001b[A"
     ]
    },
    {
     "name": "stdout",
     "output_type": "stream",
     "text": [
      "отмечать ok\n",
      "no examples\n",
      "[191, 'point out', 'указать', nan, nan, 'specify | indicate | point | enter | select | define | set | state | ']\n"
     ]
    },
    {
     "name": "stderr",
     "output_type": "stream",
     "text": [
      "\n",
      "\n",
      "\n",
      "\n",
      " 14%|█▍        | 192/1358 [03:11<19:45,  1.02s/it]\u001b[A\u001b[A\u001b[A\u001b[A"
     ]
    },
    {
     "name": "stdout",
     "output_type": "stream",
     "text": [
      "указать ok\n",
      "no examples\n",
      "[192, 'point out', 'подчеркивать', nan, nan, 'emphasize | stress | highlight | underscore | underline | note | accentuate | ']\n"
     ]
    },
    {
     "name": "stderr",
     "output_type": "stream",
     "text": [
      "\n",
      "\n",
      "\n",
      "\n",
      " 14%|█▍        | 193/1358 [03:11<15:21,  1.26it/s]\u001b[A\u001b[A\u001b[A\u001b[A"
     ]
    },
    {
     "name": "stdout",
     "output_type": "stream",
     "text": [
      "подчеркивать ok\n",
      "no examples\n",
      "[193, 'point out', 'заметить', nan, nan, 'notice | note | see | observe | spot | remark | mention | notice | ']\n"
     ]
    },
    {
     "name": "stderr",
     "output_type": "stream",
     "text": [
      "\n",
      "\n",
      "\n",
      "\n",
      " 14%|█▍        | 194/1358 [03:12<13:54,  1.39it/s]\u001b[A\u001b[A\u001b[A\u001b[A"
     ]
    },
    {
     "name": "stdout",
     "output_type": "stream",
     "text": [
      "заметить ok\n",
      "no examples\n",
      "[194, 'point out', 'отмечаться', nan, nan, 'note | mark | celebrate | state | highlight | mark | ']\n"
     ]
    },
    {
     "name": "stderr",
     "output_type": "stream",
     "text": [
      "\n",
      "\n",
      "\n",
      "\n",
      " 14%|█▍        | 195/1358 [03:12<11:40,  1.66it/s]\u001b[A\u001b[A\u001b[A\u001b[A"
     ]
    },
    {
     "name": "stdout",
     "output_type": "stream",
     "text": [
      "отмечаться ok\n",
      "no examples\n",
      "[195, 'point out', 'напомнить', nan, nan, 'remind | recall | remind | recall | resemble | ']\n"
     ]
    },
    {
     "name": "stderr",
     "output_type": "stream",
     "text": [
      "\n",
      "\n",
      "\n",
      "\n",
      " 14%|█▍        | 196/1358 [03:13<10:08,  1.91it/s]\u001b[A\u001b[A\u001b[A\u001b[A"
     ]
    },
    {
     "name": "stdout",
     "output_type": "stream",
     "text": [
      "напомнить ok\n",
      "no examples\n",
      "[196, 'strength', 'сила', 'physical strength|growing strength|political strength|economic strength|', 'физическая сила | растущая сила | политическая сила | экономической силы | ', 'force | power | ']\n",
      "сила ok\n",
      "physical strength ok\n",
      "growing strength ok\n",
      "political strength ok\n"
     ]
    },
    {
     "name": "stderr",
     "output_type": "stream",
     "text": [
      "\n",
      "\n",
      "\n",
      "\n",
      " 15%|█▍        | 197/1358 [03:17<29:41,  1.53s/it]\u001b[A\u001b[A\u001b[A\u001b[A"
     ]
    },
    {
     "name": "stdout",
     "output_type": "stream",
     "text": [
      "economic strength ok\n",
      "[197, 'strength', 'прочность', 'structural strength|', 'прочность конструкции | ', 'durability | resistance | toughness | solidity | stiffness | resilience | density | ']\n",
      "прочность ok\n"
     ]
    },
    {
     "name": "stderr",
     "output_type": "stream",
     "text": [
      "\n",
      "\n",
      "\n",
      "\n",
      " 15%|█▍        | 198/1358 [03:18<26:41,  1.38s/it]\u001b[A\u001b[A\u001b[A\u001b[A"
     ]
    },
    {
     "name": "stdout",
     "output_type": "stream",
     "text": [
      "structural strength ok\n",
      "[198, 'strength', 'сильная сторона', 'key strength|', 'сильная сторона | ', ' | ']\n",
      "сильная сторона ok\n"
     ]
    },
    {
     "name": "stderr",
     "output_type": "stream",
     "text": [
      "\n",
      "\n",
      "\n",
      "\n",
      " 15%|█▍        | 199/1358 [03:18<22:47,  1.18s/it]\u001b[A\u001b[A\u001b[A\u001b[A"
     ]
    },
    {
     "name": "stdout",
     "output_type": "stream",
     "text": [
      "key strength ok\n",
      "[199, 'strength', 'мощь', 'industrial strength|', 'промышленную мощь | ', 'power | might | capability | muscle | ']\n",
      "мощь ok\n"
     ]
    },
    {
     "name": "stderr",
     "output_type": "stream",
     "text": [
      "\n",
      "\n",
      "\n",
      "\n",
      " 15%|█▍        | 200/1358 [03:19<21:56,  1.14s/it]\u001b[A\u001b[A\u001b[A\u001b[A"
     ]
    },
    {
     "name": "stdout",
     "output_type": "stream",
     "text": [
      "industrial strength ok\n",
      "[200, 'strength', 'преимущество', nan, nan, 'advantage | benefit | edge | ']\n"
     ]
    },
    {
     "name": "stderr",
     "output_type": "stream",
     "text": [
      "\n",
      "\n",
      "\n",
      "\n",
      " 15%|█▍        | 201/1358 [03:20<17:04,  1.13it/s]\u001b[A\u001b[A\u001b[A\u001b[A"
     ]
    },
    {
     "name": "stdout",
     "output_type": "stream",
     "text": [
      "преимущество ok\n",
      "no examples\n",
      "[201, 'strength', 'мощность', nan, nan, 'capacity | power | facility | output | capability | ']\n"
     ]
    },
    {
     "name": "stderr",
     "output_type": "stream",
     "text": [
      "\n",
      "\n",
      "\n",
      "\n",
      " 15%|█▍        | 202/1358 [03:20<15:21,  1.25it/s]\u001b[A\u001b[A\u001b[A\u001b[A"
     ]
    },
    {
     "name": "stdout",
     "output_type": "stream",
     "text": [
      "мощность ok\n",
      "no examples\n",
      "[202, 'star', 'звезда', 'red star|gold star|rising star|bright star|', 'красная звезда | золотая звезда | восходящая звезда | яркая звезда | ', ' | ']\n",
      "звезда ok\n",
      "red star ok\n",
      "gold star ok\n",
      "rising star ok\n"
     ]
    },
    {
     "name": "stderr",
     "output_type": "stream",
     "text": [
      "\n",
      "\n",
      "\n",
      "\n",
      " 15%|█▍        | 203/1358 [03:22<23:41,  1.23s/it]\u001b[A\u001b[A\u001b[A\u001b[A"
     ]
    },
    {
     "name": "stdout",
     "output_type": "stream",
     "text": [
      "bright star ok\n",
      "[203, 'star', 'stars', nan, nan, ' | ']\n"
     ]
    },
    {
     "name": "stderr",
     "output_type": "stream",
     "text": [
      "\n",
      "\n",
      "\n",
      "\n",
      " 15%|█▌        | 204/1358 [03:23<19:45,  1.03s/it]\u001b[A\u001b[A\u001b[A\u001b[A"
     ]
    },
    {
     "name": "stdout",
     "output_type": "stream",
     "text": [
      "stars ok\n",
      "no examples\n",
      "[204, 'star', 'стар', nan, nan, 'historic quarter | ']\n"
     ]
    },
    {
     "name": "stderr",
     "output_type": "stream",
     "text": [
      "\n",
      "\n",
      "\n",
      "\n",
      " 15%|█▌        | 205/1358 [03:23<16:07,  1.19it/s]\u001b[A\u001b[A\u001b[A\u001b[A"
     ]
    },
    {
     "name": "stdout",
     "output_type": "stream",
     "text": [
      "стар ok\n",
      "no examples\n",
      "[205, 'star', 'сниматься', nan, nan, 'film | untie | ']\n"
     ]
    },
    {
     "name": "stderr",
     "output_type": "stream",
     "text": [
      "\n",
      "\n",
      "\n",
      "\n",
      " 15%|█▌        | 206/1358 [03:24<13:40,  1.40it/s]\u001b[A\u001b[A\u001b[A\u001b[A"
     ]
    },
    {
     "name": "stdout",
     "output_type": "stream",
     "text": [
      "сниматься ok\n",
      "no examples\n",
      "[206, 'thing', 'вещь', 'interesting thing|different thing|simple thing|important thing|', 'интересная вещь | разные вещи | простая вещь | важная вещь | ', 'stuff | item | belongings | clothes | object | ']\n",
      "вещь ok\n",
      "interesting thing ok\n",
      "different thing ok\n",
      "simple thing ok\n"
     ]
    },
    {
     "name": "stderr",
     "output_type": "stream",
     "text": [
      "\n",
      "\n",
      "\n",
      "\n",
      " 15%|█▌        | 207/1358 [03:26<22:31,  1.17s/it]\u001b[A\u001b[A\u001b[A\u001b[A"
     ]
    },
    {
     "name": "stdout",
     "output_type": "stream",
     "text": [
      "important thing ok\n",
      "[207, 'thing', 'дело', 'good thing|first thing|terrible thing|', 'хорошее дело | Первое дело | ужасное дело | ', 'case | affair | business | matter | cause | work | ministry | point | ']\n",
      "дело ok\n",
      "good thing ok\n",
      "first thing ok\n"
     ]
    },
    {
     "name": "stderr",
     "output_type": "stream",
     "text": [
      "\n",
      "\n",
      "\n",
      "\n",
      " 15%|█▌        | 208/1358 [03:29<33:59,  1.77s/it]\u001b[A\u001b[A\u001b[A\u001b[A"
     ]
    },
    {
     "name": "stdout",
     "output_type": "stream",
     "text": [
      "terrible thing ok\n",
      "[208, 'thing', 'штука', 'rusted circular thing|marvelously constructed thing|little thing|weird thing|', 'ржавой круглой штукой | изумительно спроектированная штука | маленькими штуками | странные штуки | ', 'piece | stuff | trick | stunt | ']\n",
      "штука ok\n",
      "rusted circular thing ok\n",
      "marvelously constructed thing ok\n",
      "little thing ok\n"
     ]
    },
    {
     "name": "stderr",
     "output_type": "stream",
     "text": [
      "\n",
      "\n",
      "\n",
      "\n",
      " 15%|█▌        | 209/1358 [03:32<39:33,  2.07s/it]\u001b[A\u001b[A\u001b[A\u001b[A"
     ]
    },
    {
     "name": "stdout",
     "output_type": "stream",
     "text": [
      "weird thing ok\n",
      "[209, 'thing', 'ситуация', nan, nan, 'situation | condition | environment | ']\n"
     ]
    },
    {
     "name": "stderr",
     "output_type": "stream",
     "text": [
      "\n",
      "\n",
      "\n",
      "\n",
      " 15%|█▌        | 210/1358 [03:32<30:16,  1.58s/it]\u001b[A\u001b[A\u001b[A\u001b[A"
     ]
    },
    {
     "name": "stdout",
     "output_type": "stream",
     "text": [
      "ситуация ok\n",
      "no examples\n",
      "[210, 'thing', 'предмет', 'non-living thing|', 'неживой предмет | ', 'item | subject | object | piece | Article | matter | artifact | ']\n",
      "предмет ok\n",
      "non-living thing ok\n"
     ]
    },
    {
     "name": "stderr",
     "output_type": "stream",
     "text": [
      "\n",
      "\n",
      "\n",
      "\n",
      " 16%|█▌        | 211/1358 [03:33<24:17,  1.27s/it]\u001b[A\u001b[A\u001b[A\u001b[A"
     ]
    },
    {
     "name": "stdout",
     "output_type": "stream",
     "text": [
      "[211, 'thing', 'событие', nan, nan, 'event | development | ']\n"
     ]
    },
    {
     "name": "stderr",
     "output_type": "stream",
     "text": [
      "\n",
      "\n",
      "\n",
      "\n",
      " 16%|█▌        | 212/1358 [03:33<19:07,  1.00s/it]\u001b[A\u001b[A\u001b[A\u001b[A"
     ]
    },
    {
     "name": "stdout",
     "output_type": "stream",
     "text": [
      "событие ok\n",
      "no examples\n",
      "[212, 'thing', 'момент', 'key thing|very positive thing|second thing|', 'ключевой момент | очень положительный момент | второй момент | ', 'moment | point | time | date | ']\n",
      "момент ok\n",
      "key thing ok\n",
      "very positive thing ok\n"
     ]
    },
    {
     "name": "stderr",
     "output_type": "stream",
     "text": [
      "\n",
      "\n",
      "\n",
      "\n",
      " 16%|█▌        | 213/1358 [03:36<30:50,  1.62s/it]\u001b[A\u001b[A\u001b[A\u001b[A"
     ]
    },
    {
     "name": "stdout",
     "output_type": "stream",
     "text": [
      "second thing ok\n",
      "[213, 'thing', 'объект', nan, nan, 'object | facility | site | installation | target | property | building | entity | ']\n"
     ]
    },
    {
     "name": "stderr",
     "output_type": "stream",
     "text": [
      "\n",
      "\n",
      "\n",
      "\n",
      " 16%|█▌        | 214/1358 [03:37<25:05,  1.32s/it]\u001b[A\u001b[A\u001b[A\u001b[A"
     ]
    },
    {
     "name": "stdout",
     "output_type": "stream",
     "text": [
      "объект ok\n",
      "no examples\n",
      "[214, 'thing', 'явление', 'urban things|common thing|', 'городские явления | привычное явление | ', 'phenomenon | occurrence | ']\n",
      "явление ok\n",
      "urban things ok\n"
     ]
    },
    {
     "name": "stderr",
     "output_type": "stream",
     "text": [
      "\n",
      "\n",
      "\n",
      "\n",
      " 16%|█▌        | 215/1358 [03:38<23:39,  1.24s/it]\u001b[A\u001b[A\u001b[A\u001b[A"
     ]
    },
    {
     "name": "stdout",
     "output_type": "stream",
     "text": [
      "common thing ok\n",
      "[215, 'coincide', 'совпадать', nan, nan, 'match | overlap | fit | match up | correspond | concur | converge | clash | ']\n"
     ]
    },
    {
     "name": "stderr",
     "output_type": "stream",
     "text": [
      "\n",
      "\n",
      "\n",
      "\n",
      " 16%|█▌        | 216/1358 [03:39<23:27,  1.23s/it]\u001b[A\u001b[A\u001b[A\u001b[A"
     ]
    },
    {
     "name": "stdout",
     "output_type": "stream",
     "text": [
      "совпадать ok\n",
      "no examples\n",
      "[216, 'coincide', 'совпасть', 'to coincide precisely|', 'точно совпасть | ', 'match | concur | match up | ']\n",
      "совпасть ok\n"
     ]
    },
    {
     "name": "stderr",
     "output_type": "stream",
     "text": [
      "\n",
      "\n",
      "\n",
      "\n",
      " 16%|█▌        | 217/1358 [03:40<21:07,  1.11s/it]\u001b[A\u001b[A\u001b[A\u001b[A"
     ]
    },
    {
     "name": "stdout",
     "output_type": "stream",
     "text": [
      "to coincide precisely ok\n",
      "[217, 'coincide', 'приурочить', nan, nan, 'time | ']\n"
     ]
    },
    {
     "name": "stderr",
     "output_type": "stream",
     "text": [
      "\n",
      "\n",
      "\n",
      "\n",
      " 16%|█▌        | 218/1358 [03:40<16:29,  1.15it/s]\u001b[A\u001b[A\u001b[A\u001b[A"
     ]
    },
    {
     "name": "stdout",
     "output_type": "stream",
     "text": [
      "приурочить ok\n",
      "no examples\n",
      "[218, 'dance', 'танец', 'folk dance|classical dance|traditional dance|Dance of Fire|', 'народный танец | классический танец | традиционный танец | танец огня | ', 'dancing | dancer | ']\n",
      "танец ok\n",
      "folk dance ok\n",
      "classical dance ok\n",
      "traditional dance ok\n"
     ]
    },
    {
     "name": "stderr",
     "output_type": "stream",
     "text": [
      "\n",
      "\n",
      "\n",
      "\n",
      " 16%|█▌        | 219/1358 [03:43<26:41,  1.41s/it]\u001b[A\u001b[A\u001b[A\u001b[A"
     ]
    },
    {
     "name": "stdout",
     "output_type": "stream",
     "text": [
      "Dance of Fire ok\n",
      "[219, 'dance', 'бал', nan, nan, 'ball | ']\n"
     ]
    },
    {
     "name": "stderr",
     "output_type": "stream",
     "text": [
      "\n",
      "\n",
      "\n",
      "\n",
      " 16%|█▌        | 220/1358 [03:43<20:00,  1.06s/it]\u001b[A\u001b[A\u001b[A\u001b[A"
     ]
    },
    {
     "name": "stdout",
     "output_type": "stream",
     "text": [
      "бал ok\n",
      "no examples\n",
      "[220, 'dance', 'пляска', 'wild dance|', 'беспорядочные пляски | ', 'dancing | ']\n",
      "пляска ok\n"
     ]
    },
    {
     "name": "stderr",
     "output_type": "stream",
     "text": [
      "\n",
      "\n",
      "\n",
      "\n",
      " 16%|█▋        | 221/1358 [03:44<17:37,  1.07it/s]\u001b[A\u001b[A\u001b[A\u001b[A"
     ]
    },
    {
     "name": "stdout",
     "output_type": "stream",
     "text": [
      "wild dance ok\n",
      "[221, 'dance', 'танцевать', 'to dance together|', 'танцевать вместе | ', 'remix | ']\n",
      "танцевать ok\n"
     ]
    },
    {
     "name": "stderr",
     "output_type": "stream",
     "text": [
      "\n",
      "\n",
      "\n",
      "\n",
      " 16%|█▋        | 222/1358 [03:45<16:05,  1.18it/s]\u001b[A\u001b[A\u001b[A\u001b[A"
     ]
    },
    {
     "name": "stdout",
     "output_type": "stream",
     "text": [
      "to dance together ok\n",
      "[222, 'dance', 'плясать', nan, nan, ' | ']\n"
     ]
    },
    {
     "name": "stderr",
     "output_type": "stream",
     "text": [
      "\n",
      "\n",
      "\n",
      "\n",
      " 16%|█▋        | 223/1358 [03:45<13:09,  1.44it/s]\u001b[A\u001b[A\u001b[A\u001b[A"
     ]
    },
    {
     "name": "stdout",
     "output_type": "stream",
     "text": [
      "плясать ok\n",
      "no examples\n",
      "[223, 'dance', 'потанцевать', nan, nan, ' | ']\n"
     ]
    },
    {
     "name": "stderr",
     "output_type": "stream",
     "text": [
      "\n",
      "\n",
      "\n",
      "\n",
      " 16%|█▋        | 224/1358 [03:46<12:56,  1.46it/s]\u001b[A\u001b[A\u001b[A\u001b[A"
     ]
    },
    {
     "name": "stdout",
     "output_type": "stream",
     "text": [
      "потанцевать ok\n",
      "no examples\n",
      "[224, 'countryside', 'местность', 'surrounding countryside|Tuscan countryside|beautiful countryside|green countryside|', 'окружающую загородную местность | тосканскую загородную местность | живописная сельская местность | зеленой загородной местности | ', 'area | terrain | location | setting | locality | landscape | ']\n",
      "местность ok\n",
      "surrounding countryside ok\n",
      "Tuscan countryside ok\n",
      "beautiful countryside ok\n"
     ]
    },
    {
     "name": "stderr",
     "output_type": "stream",
     "text": [
      "\n",
      "\n",
      "\n",
      "\n",
      " 17%|█▋        | 225/1358 [03:48<20:59,  1.11s/it]\u001b[A\u001b[A\u001b[A\u001b[A"
     ]
    },
    {
     "name": "stdout",
     "output_type": "stream",
     "text": [
      "green countryside ok\n",
      "[225, 'countryside', 'деревня', 'Andalusian countryside|', 'андалузская деревня | ', 'village | ']\n",
      "деревня ok\n"
     ]
    },
    {
     "name": "stderr",
     "output_type": "stream",
     "text": [
      "\n",
      "\n",
      "\n",
      "\n",
      " 17%|█▋        | 226/1358 [03:48<18:58,  1.01s/it]\u001b[A\u001b[A\u001b[A\u001b[A"
     ]
    },
    {
     "name": "stdout",
     "output_type": "stream",
     "text": [
      "Andalusian countryside ok\n",
      "[226, 'countryside', 'природа', nan, nan, 'nature | landscape | ']\n"
     ]
    },
    {
     "name": "stderr",
     "output_type": "stream",
     "text": [
      "\n",
      "\n",
      "\n",
      "\n",
      " 17%|█▋        | 227/1358 [03:49<14:27,  1.30it/s]\u001b[A\u001b[A\u001b[A\u001b[A"
     ]
    },
    {
     "name": "stdout",
     "output_type": "stream",
     "text": [
      "природа ok\n",
      "no examples\n",
      "[227, 'countryside', 'окрестность', nan, nan, 'surrounding area | surroundings | neighbourhood | vicinity | surrounding countryside | suburb | outskirt | ']\n"
     ]
    },
    {
     "name": "stderr",
     "output_type": "stream",
     "text": [
      "\n",
      "\n",
      "\n",
      "\n",
      " 17%|█▋        | 228/1358 [03:49<11:48,  1.59it/s]\u001b[A\u001b[A\u001b[A\u001b[A"
     ]
    },
    {
     "name": "stdout",
     "output_type": "stream",
     "text": [
      "окрестность ok\n",
      "no examples\n",
      "[228, 'countryside', 'загородный пейзаж', nan, nan, ' | ']\n"
     ]
    },
    {
     "name": "stderr",
     "output_type": "stream",
     "text": [
      "\n",
      "\n",
      "\n",
      "\n",
      " 17%|█▋        | 229/1358 [03:50<12:19,  1.53it/s]\u001b[A\u001b[A\u001b[A\u001b[A"
     ]
    },
    {
     "name": "stdout",
     "output_type": "stream",
     "text": [
      "загородный пейзаж ok\n",
      "no examples\n",
      "[229, 'countryside', 'пейзаж', nan, nan, 'landscape | scenery | surroundings | ']\n"
     ]
    },
    {
     "name": "stderr",
     "output_type": "stream",
     "text": [
      "\n",
      "\n",
      "\n",
      "\n",
      " 17%|█▋        | 230/1358 [03:50<10:40,  1.76it/s]\u001b[A\u001b[A\u001b[A\u001b[A"
     ]
    },
    {
     "name": "stdout",
     "output_type": "stream",
     "text": [
      "пейзаж ok\n",
      "no examples\n",
      "[230, 'countryside', 'загородные районы', nan, nan, ' | ']\n"
     ]
    },
    {
     "name": "stderr",
     "output_type": "stream",
     "text": [
      "\n",
      "\n",
      "\n",
      "\n",
      " 17%|█▋        | 231/1358 [03:50<09:28,  1.98it/s]\u001b[A\u001b[A\u001b[A\u001b[A"
     ]
    },
    {
     "name": "stdout",
     "output_type": "stream",
     "text": [
      "загородные районы ok\n",
      "no examples\n",
      "[231, 'break', 'перерыв', 'lunch break|winter break|short break|small break|', 'обеденный перерыв | зимнего перерыва | короткий перерыв | небольшой перерыв | ', 'interruption | hiatus | interval | pause | recess | closure | adjournment | coffee break | ']\n",
      "перерыв ok\n",
      "lunch break ok\n",
      "winter break ok\n",
      "short break ok\n"
     ]
    },
    {
     "name": "stderr",
     "output_type": "stream",
     "text": [
      "\n",
      "\n",
      "\n",
      "\n",
      " 17%|█▋        | 232/1358 [03:52<16:28,  1.14it/s]\u001b[A\u001b[A\u001b[A\u001b[A"
     ]
    },
    {
     "name": "stdout",
     "output_type": "stream",
     "text": [
      "small break ok\n",
      "[232, 'break', 'отдых', 'relaxing break|family break|peaceful break|active break|', 'расслабляющий отдых | семейный отдых | спокойный отдых | активный отдых | ', 'holiday | rest | vacation | stay | recreation | relaxation | leisure | activity | ']\n",
      "отдых ok\n",
      "relaxing break ok\n",
      "family break ok\n",
      "peaceful break ok\n"
     ]
    },
    {
     "name": "stderr",
     "output_type": "stream",
     "text": [
      "\n",
      "\n",
      "\n",
      "\n",
      " 17%|█▋        | 233/1358 [03:54<22:58,  1.23s/it]\u001b[A\u001b[A\u001b[A\u001b[A"
     ]
    },
    {
     "name": "stdout",
     "output_type": "stream",
     "text": [
      "active break ok\n",
      "[233, 'break', 'разрыв', 'single-strand breaks|radical break|unrepaired single-strand breaks|', 'однонитевые разрывы | радикальный разрыв | Неустраненные однонитевые разрывы | ', 'gap | rupture | discontinuity | divide | collapse | disconnect | tear | rift | ']\n",
      "разрыв ok\n",
      "single-strand breaks ok\n",
      "radical break ok\n"
     ]
    },
    {
     "name": "stderr",
     "output_type": "stream",
     "text": [
      "\n",
      "\n",
      "\n",
      "\n",
      " 17%|█▋        | 234/1358 [03:56<26:39,  1.42s/it]\u001b[A\u001b[A\u001b[A\u001b[A"
     ]
    },
    {
     "name": "stdout",
     "output_type": "stream",
     "text": [
      "unrepaired single-strand breaks ok\n",
      "[234, 'break', 'льгота', 'tax break|', 'налоговая льгота | ', 'benefit | privilege | concession | incentive | perk | exemption | preference | rebate | ']\n",
      "льгота ok\n"
     ]
    },
    {
     "name": "stderr",
     "output_type": "stream",
     "text": [
      "\n",
      "\n",
      "\n",
      "\n",
      " 17%|█▋        | 235/1358 [03:57<21:40,  1.16s/it]\u001b[A\u001b[A\u001b[A\u001b[A"
     ]
    },
    {
     "name": "stdout",
     "output_type": "stream",
     "text": [
      "tax break ok\n",
      "[235, 'break', 'каникула', 'summer break|spring break|mid-winter break|', 'летние каникулы | весенние каникулы | зимние каникулы | ', 'holiday | vacation | recess | school holiday | ']\n",
      "каникула ok\n",
      "summer break ok\n",
      "spring break ok\n"
     ]
    },
    {
     "name": "stderr",
     "output_type": "stream",
     "text": [
      "\n",
      "\n",
      "\n",
      "\n",
      " 17%|█▋        | 236/1358 [03:59<27:03,  1.45s/it]\u001b[A\u001b[A\u001b[A\u001b[A"
     ]
    },
    {
     "name": "stdout",
     "output_type": "stream",
     "text": [
      "mid-winter break ok\n",
      "[236, 'break', 'перемена', nan, nan, 'change | shift | recess | transformation | ']\n"
     ]
    },
    {
     "name": "stderr",
     "output_type": "stream",
     "text": [
      "\n",
      "\n",
      "\n",
      "\n",
      " 17%|█▋        | 237/1358 [03:59<21:41,  1.16s/it]\u001b[A\u001b[A\u001b[A\u001b[A"
     ]
    },
    {
     "name": "stdout",
     "output_type": "stream",
     "text": [
      "перемена ok\n",
      "no examples\n",
      "[237, 'break', 'отпуск', nan, nan, 'holiday | vacation | leave | leaf | ']\n"
     ]
    },
    {
     "name": "stderr",
     "output_type": "stream",
     "text": [
      "\n",
      "\n",
      "\n",
      "\n",
      " 18%|█▊        | 238/1358 [04:00<18:39,  1.00it/s]\u001b[A\u001b[A\u001b[A\u001b[A\n",
      "\n",
      "\n",
      "\n",
      " 18%|█▊        | 239/1358 [04:00<14:07,  1.32it/s]\u001b[A\u001b[A\u001b[A\u001b[A"
     ]
    },
    {
     "name": "stdout",
     "output_type": "stream",
     "text": [
      "отпуск ok\n",
      "no examples\n",
      "[238, 'break', 'прорыв', nan, nan, 'breakthrough | breakout | advance | rupture | penetration | leap | incursion | ']\n",
      "прорыв ok\n",
      "no examples\n",
      "[239, 'break', 'пауза', 'commercial break|', 'рекламная пауза | ', 'pause | interval | intermission | interruption | ']\n",
      "пауза ok\n"
     ]
    },
    {
     "name": "stderr",
     "output_type": "stream",
     "text": [
      "\n",
      "\n",
      "\n",
      "\n",
      " 18%|█▊        | 240/1358 [04:01<13:46,  1.35it/s]\u001b[A\u001b[A\u001b[A\u001b[A"
     ]
    },
    {
     "name": "stdout",
     "output_type": "stream",
     "text": [
      "commercial break ok\n",
      "[240, 'break', 'сломать', 'to break his legs|', 'сломать ногу | ', 'break down | bring down | fracture | crack | ']\n",
      "сломать ok\n"
     ]
    },
    {
     "name": "stderr",
     "output_type": "stream",
     "text": [
      "\n",
      "\n",
      "\n",
      "\n",
      " 18%|█▊        | 241/1358 [04:02<15:51,  1.17it/s]\u001b[A\u001b[A\u001b[A\u001b[A"
     ]
    },
    {
     "name": "stdout",
     "output_type": "stream",
     "text": [
      "to break his legs ok\n",
      "[241, 'break', 'нарушать', 'to break the law|to break the rules|', 'нарушать закон | нарушать правил | ', 'violate | infringe | disrupt | disturb | upset | breach | abuse | violate | ']\n",
      "нарушать ok\n",
      "to break the law ok\n"
     ]
    },
    {
     "name": "stderr",
     "output_type": "stream",
     "text": [
      "\n",
      "\n",
      "\n",
      "\n",
      " 18%|█▊        | 242/1358 [04:03<18:25,  1.01it/s]\u001b[A\u001b[A\u001b[A\u001b[A"
     ]
    },
    {
     "name": "stdout",
     "output_type": "stream",
     "text": [
      "to break the rules ok\n",
      "[242, 'break', 'нарушить', 'to break with convention|', 'нарушить данное правило | ', 'violate | disrupt | disturb | breach | compromise | violate | upset | ']\n",
      "нарушить ok\n"
     ]
    },
    {
     "name": "stderr",
     "output_type": "stream",
     "text": [
      "\n",
      "\n",
      "\n",
      "\n",
      " 18%|█▊        | 243/1358 [04:04<17:36,  1.06it/s]\u001b[A\u001b[A\u001b[A\u001b[A"
     ]
    },
    {
     "name": "stdout",
     "output_type": "stream",
     "text": [
      "to break with convention ok\n",
      "[243, 'break', 'разбить', 'to break one transaction|to break my heart|', 'разбить одну транзакцию | разбить мое сердце | ', 'smash | shatter | split | divide | dash | crush | partition | break up | ']\n",
      "разбить ok\n",
      "to break one transaction ok\n"
     ]
    },
    {
     "name": "stderr",
     "output_type": "stream",
     "text": [
      "\n",
      "\n",
      "\n",
      "\n",
      " 18%|█▊        | 244/1358 [04:05<19:09,  1.03s/it]\u001b[A\u001b[A\u001b[A\u001b[A"
     ]
    },
    {
     "name": "stdout",
     "output_type": "stream",
     "text": [
      "to break my heart ok\n",
      "[244, 'break', 'ломать', 'to mostly break stealth|', 'ломать защиту самолётов-невидимок | ', 'rack | wring | wreck | ']\n",
      "ломать ok\n"
     ]
    },
    {
     "name": "stderr",
     "output_type": "stream",
     "text": [
      "\n",
      "\n",
      "\n",
      "\n",
      " 18%|█▊        | 245/1358 [04:06<17:29,  1.06it/s]\u001b[A\u001b[A\u001b[A\u001b[A"
     ]
    },
    {
     "name": "stdout",
     "output_type": "stream",
     "text": [
      "to mostly break stealth ok\n",
      "[245, 'break', 'разорвать', 'to break this vicious circle|', 'разорвать этот порочный круг | ', 'tear | sever | break off | disconnect | tore apart | cut off | tear up | sever | ']\n",
      "разорвать ok\n"
     ]
    },
    {
     "name": "stderr",
     "output_type": "stream",
     "text": [
      "\n",
      "\n",
      "\n",
      "\n",
      " 18%|█▊        | 246/1358 [04:07<17:15,  1.07it/s]\u001b[A\u001b[A\u001b[A\u001b[A"
     ]
    },
    {
     "name": "stdout",
     "output_type": "stream",
     "text": [
      "to break this vicious circle ok\n",
      "[246, 'break', 'побивать', 'to break the record|to break every record|', 'побить рекорд | побить все рекорды | ', 'beat | hit | beat up | ']\n",
      "побивать ok\n",
      "to break the record ok\n"
     ]
    },
    {
     "name": "stderr",
     "output_type": "stream",
     "text": [
      "\n",
      "\n",
      "\n",
      "\n",
      " 18%|█▊        | 247/1358 [04:08<20:46,  1.12s/it]\u001b[A\u001b[A\u001b[A\u001b[A"
     ]
    },
    {
     "name": "stdout",
     "output_type": "stream",
     "text": [
      "to break every record ok\n",
      "[247, 'break', 'порвать', nan, nan, 'tear | break up | sever | tear up | ']\n"
     ]
    },
    {
     "name": "stderr",
     "output_type": "stream",
     "text": [
      "\n",
      "\n",
      "\n",
      "\n",
      " 18%|█▊        | 248/1358 [04:09<16:19,  1.13it/s]\u001b[A\u001b[A\u001b[A\u001b[A"
     ]
    },
    {
     "name": "stdout",
     "output_type": "stream",
     "text": [
      "порвать ok\n",
      "no examples\n",
      "[248, 'break', 'разрушить', nan, nan, 'destroy | demolish | ruin | destroy | shatter | damage | disrupt | break down | ']\n"
     ]
    },
    {
     "name": "stderr",
     "output_type": "stream",
     "text": [
      "\n",
      "\n",
      "\n",
      "\n",
      " 18%|█▊        | 249/1358 [04:09<13:03,  1.42it/s]\u001b[A\u001b[A\u001b[A\u001b[A"
     ]
    },
    {
     "name": "stdout",
     "output_type": "stream",
     "text": [
      "разрушить ok\n",
      "no examples\n",
      "[249, 'break up', 'пресечь', nan, nan, 'break up | thwart | curb | disrupt | undercut | cut off | nip | curtail | ']\n"
     ]
    },
    {
     "name": "stderr",
     "output_type": "stream",
     "text": [
      "\n",
      "\n",
      "\n",
      "\n",
      " 18%|█▊        | 250/1358 [04:09<10:52,  1.70it/s]\u001b[A\u001b[A\u001b[A\u001b[A"
     ]
    },
    {
     "name": "stdout",
     "output_type": "stream",
     "text": [
      "пресечь ok\n",
      "no examples\n",
      "[250, 'break up', 'разогнать', nan, nan, 'disperse | break up | dispel | ']\n"
     ]
    },
    {
     "name": "stderr",
     "output_type": "stream",
     "text": [
      "\n",
      "\n",
      "\n",
      "\n",
      " 18%|█▊        | 251/1358 [04:10<09:48,  1.88it/s]\u001b[A\u001b[A\u001b[A\u001b[A"
     ]
    },
    {
     "name": "stdout",
     "output_type": "stream",
     "text": [
      "разогнать ok\n",
      "no examples\n",
      "[251, 'break up', 'ликвидировать', nan, nan, 'eliminate | liquidate | eliminate | eradicate | bust | break up | dismantle | smash | abolish | ']\n"
     ]
    },
    {
     "name": "stderr",
     "output_type": "stream",
     "text": [
      "\n",
      "\n",
      "\n",
      "\n",
      " 19%|█▊        | 252/1358 [04:10<09:05,  2.03it/s]\u001b[A\u001b[A\u001b[A\u001b[A"
     ]
    },
    {
     "name": "stdout",
     "output_type": "stream",
     "text": [
      "ликвидировать ok\n",
      "no examples\n",
      "[252, 'break up', 'развалиться', nan, nan, 'fall apart | collapse | break up | fall down | unravel | break down | ']\n"
     ]
    },
    {
     "name": "stderr",
     "output_type": "stream",
     "text": [
      "\n",
      "\n",
      "\n",
      "\n",
      " 19%|█▊        | 253/1358 [04:10<07:35,  2.42it/s]\u001b[A\u001b[A\u001b[A\u001b[A"
     ]
    },
    {
     "name": "stdout",
     "output_type": "stream",
     "text": [
      "развалиться ok\n",
      "no examples\n",
      "[253, 'break up', 'раскрыть', nan, nan, 'reveal | open | disclose | expose | uncover | expand | reveal | bring out | unveil | ']\n"
     ]
    },
    {
     "name": "stderr",
     "output_type": "stream",
     "text": [
      "\n",
      "\n",
      "\n",
      "\n",
      " 19%|█▊        | 254/1358 [04:11<08:27,  2.17it/s]\u001b[A\u001b[A\u001b[A\u001b[A"
     ]
    },
    {
     "name": "stdout",
     "output_type": "stream",
     "text": [
      "раскрыть ok\n",
      "no examples\n",
      "[254, 'break up', 'распасться', nan, nan, 'collapse | fall apart | break up | disintegrate | ']\n"
     ]
    },
    {
     "name": "stderr",
     "output_type": "stream",
     "text": [
      "\n",
      "\n",
      "\n",
      "\n",
      " 19%|█▉        | 255/1358 [04:11<07:47,  2.36it/s]\u001b[A\u001b[A\u001b[A\u001b[A"
     ]
    },
    {
     "name": "stdout",
     "output_type": "stream",
     "text": [
      "распасться ok\n",
      "no examples\n",
      "[255, 'break up', 'перекрыть', nan, nan, 'block | shut down | close | overlap | break up | close down | cut off | ']\n"
     ]
    },
    {
     "name": "stderr",
     "output_type": "stream",
     "text": [
      "\n",
      "\n",
      "\n",
      "\n",
      " 19%|█▉        | 256/1358 [04:12<06:56,  2.64it/s]\u001b[A\u001b[A\u001b[A\u001b[A"
     ]
    },
    {
     "name": "stdout",
     "output_type": "stream",
     "text": [
      "перекрыть ok\n",
      "no examples\n",
      "[256, 'break up', 'сорвать', nan, nan, 'foil | disrupt | thwart | derail | tear | sabotage | jeopardize | frustrate | break up | ']\n"
     ]
    },
    {
     "name": "stderr",
     "output_type": "stream",
     "text": [
      "\n",
      "\n",
      "\n",
      "\n",
      " 19%|█▉        | 257/1358 [04:12<07:28,  2.45it/s]\u001b[A\u001b[A\u001b[A\u001b[A"
     ]
    },
    {
     "name": "stdout",
     "output_type": "stream",
     "text": [
      "сорвать ok\n",
      "no examples\n",
      "[257, 'break up', 'расстаться', nan, nan, 'part | break up | split up | ']\n"
     ]
    },
    {
     "name": "stderr",
     "output_type": "stream",
     "text": [
      "\n",
      "\n",
      "\n",
      "\n",
      " 19%|█▉        | 258/1358 [04:13<10:15,  1.79it/s]\u001b[A\u001b[A\u001b[A\u001b[A"
     ]
    },
    {
     "name": "stdout",
     "output_type": "stream",
     "text": [
      "расстаться ok\n",
      "no examples\n",
      "[258, 'break down', 'сломаться', nan, nan, 'break | snap | crash | ']\n"
     ]
    },
    {
     "name": "stderr",
     "output_type": "stream",
     "text": [
      "\n",
      "\n",
      "\n",
      "\n",
      " 19%|█▉        | 259/1358 [04:14<11:03,  1.66it/s]\u001b[A\u001b[A\u001b[A\u001b[A"
     ]
    },
    {
     "name": "stdout",
     "output_type": "stream",
     "text": [
      "сломаться ok\n",
      "no examples\n",
      "[259, 'break down', 'разрушить', nan, nan, 'destroy | demolish | ruin | destroy | break | shatter | damage | disrupt | ']\n"
     ]
    },
    {
     "name": "stderr",
     "output_type": "stream",
     "text": [
      "\n",
      "\n",
      "\n",
      "\n",
      " 19%|█▉        | 260/1358 [04:14<09:20,  1.96it/s]\u001b[A\u001b[A\u001b[A\u001b[A"
     ]
    },
    {
     "name": "stdout",
     "output_type": "stream",
     "text": [
      "разрушить ok\n",
      "no examples\n",
      "[260, 'break down', 'ломаться', 'to break down a lot|', 'часто ломаться | ', 'break | ']\n",
      "ломаться ok\n"
     ]
    },
    {
     "name": "stderr",
     "output_type": "stream",
     "text": [
      "\n",
      "\n",
      "\n",
      "\n",
      " 19%|█▉        | 261/1358 [04:15<11:15,  1.62it/s]\u001b[A\u001b[A\u001b[A\u001b[A"
     ]
    },
    {
     "name": "stdout",
     "output_type": "stream",
     "text": [
      "to break down a lot ok\n",
      "[261, 'break down', 'сломать', nan, nan, 'break | bring down | fracture | crack | break | ']\n"
     ]
    },
    {
     "name": "stderr",
     "output_type": "stream",
     "text": [
      "\n",
      "\n",
      "\n",
      "\n",
      " 19%|█▉        | 262/1358 [04:15<11:03,  1.65it/s]\u001b[A\u001b[A\u001b[A\u001b[A\n",
      "\n",
      "\n",
      "\n",
      " 19%|█▉        | 263/1358 [04:16<08:45,  2.09it/s]\u001b[A\u001b[A\u001b[A\u001b[A"
     ]
    },
    {
     "name": "stdout",
     "output_type": "stream",
     "text": [
      "сломать ok\n",
      "no examples\n",
      "[262, 'break down', 'разбивать', nan, nan, 'split | break | categorize | ']\n",
      "разбивать ok\n",
      "no examples\n",
      "[263, 'break down', 'разрушаться', nan, nan, 'collapse | erode | break up | destroy | destroy | melt | ']\n"
     ]
    },
    {
     "name": "stderr",
     "output_type": "stream",
     "text": [
      "\n",
      "\n",
      "\n",
      "\n",
      " 19%|█▉        | 264/1358 [04:16<07:12,  2.53it/s]\u001b[A\u001b[A\u001b[A\u001b[A"
     ]
    },
    {
     "name": "stdout",
     "output_type": "stream",
     "text": [
      "разрушаться ok\n",
      "no examples\n",
      "[264, 'break down', 'нарушаться', nan, nan, 'violate | disturb | ']\n"
     ]
    },
    {
     "name": "stderr",
     "output_type": "stream",
     "text": [
      "\n",
      "\n",
      "\n",
      "\n",
      " 20%|█▉        | 265/1358 [04:16<08:15,  2.20it/s]\u001b[A\u001b[A\u001b[A\u001b[A\n",
      "\n",
      "\n",
      "\n",
      " 20%|█▉        | 266/1358 [04:17<06:47,  2.68it/s]\u001b[A\u001b[A\u001b[A\u001b[A"
     ]
    },
    {
     "name": "stdout",
     "output_type": "stream",
     "text": [
      "нарушаться ok\n",
      "no examples\n",
      "[265, 'break down', 'развеять', nan, nan, 'dispel | allay | ']\n",
      "развеять ok\n",
      "no examples\n",
      "[266, 'break down', 'разрушать', nan, nan, 'destroy | destroy | break | ruin | disrupt | erode | dismantle | demolish | ']\n"
     ]
    },
    {
     "name": "stderr",
     "output_type": "stream",
     "text": [
      "\n",
      "\n",
      "\n",
      "\n",
      " 20%|█▉        | 267/1358 [04:17<05:53,  3.08it/s]\u001b[A\u001b[A\u001b[A\u001b[A\n",
      "\n",
      "\n",
      "\n",
      " 20%|█▉        | 268/1358 [04:17<05:06,  3.55it/s]\u001b[A\u001b[A\u001b[A\u001b[A"
     ]
    },
    {
     "name": "stdout",
     "output_type": "stream",
     "text": [
      "разрушать ok\n",
      "no examples\n",
      "[267, 'break off', 'разорвать', nan, nan, 'break | tear | sever | disconnect | tore apart | cut off | tear up | sever | ']\n",
      "разорвать ok\n",
      "no examples\n",
      "[268, 'break off', 'отламываться', nan, nan, ' | ']\n"
     ]
    },
    {
     "name": "stderr",
     "output_type": "stream",
     "text": [
      "\n",
      "\n",
      "\n",
      "\n",
      " 20%|█▉        | 269/1358 [04:18<08:17,  2.19it/s]\u001b[A\u001b[A\u001b[A\u001b[A\n",
      "\n",
      "\n",
      "\n",
      " 20%|█▉        | 270/1358 [04:18<06:47,  2.67it/s]\u001b[A\u001b[A\u001b[A\u001b[A"
     ]
    },
    {
     "name": "stdout",
     "output_type": "stream",
     "text": [
      "отламываться ok\n",
      "no examples\n",
      "[269, 'break off', 'замолчать', nan, nan, 'silence | pause | ']\n",
      "замолчать ok\n",
      "no examples\n",
      "[270, 'break off', 'сорваться', nan, nan, ' | ']\n"
     ]
    },
    {
     "name": "stderr",
     "output_type": "stream",
     "text": [
      "\n",
      "\n",
      "\n",
      "\n",
      " 20%|█▉        | 271/1358 [04:20<13:45,  1.32it/s]\u001b[A\u001b[A\u001b[A\u001b[A"
     ]
    },
    {
     "name": "stdout",
     "output_type": "stream",
     "text": [
      "сорваться ok\n",
      "no examples\n",
      "[271, 'break off', 'прервать', nan, nan, 'interrupt | break | terminate | disrupt | abort | discontinue | cancel | disconnect | counter | ']\n"
     ]
    },
    {
     "name": "stderr",
     "output_type": "stream",
     "text": [
      "\n",
      "\n",
      "\n",
      "\n",
      " 20%|██        | 272/1358 [04:20<12:07,  1.49it/s]\u001b[A\u001b[A\u001b[A\u001b[A"
     ]
    },
    {
     "name": "stdout",
     "output_type": "stream",
     "text": [
      "прервать ok\n",
      "no examples\n",
      "[272, 'break off', 'разрывать', nan, nan, 'tear up | tear | ']\n"
     ]
    },
    {
     "name": "stderr",
     "output_type": "stream",
     "text": [
      "\n",
      "\n",
      "\n",
      "\n",
      " 20%|██        | 273/1358 [04:21<11:13,  1.61it/s]\u001b[A\u001b[A\u001b[A\u001b[A"
     ]
    },
    {
     "name": "stdout",
     "output_type": "stream",
     "text": [
      "разрывать ok\n",
      "no examples\n",
      "[273, 'break off', 'прерываться', nan, nan, 'interrupt | ']\n"
     ]
    },
    {
     "name": "stderr",
     "output_type": "stream",
     "text": [
      "\n",
      "\n",
      "\n",
      "\n",
      " 20%|██        | 274/1358 [04:21<10:53,  1.66it/s]\u001b[A\u001b[A\u001b[A\u001b[A"
     ]
    },
    {
     "name": "stdout",
     "output_type": "stream",
     "text": [
      "прерываться ok\n",
      "no examples\n",
      "[274, 'break out', 'разразиться', nan, nan, 'erupt | strike | burst | hit | ']\n"
     ]
    },
    {
     "name": "stderr",
     "output_type": "stream",
     "text": [
      "\n",
      "\n",
      "\n",
      "\n",
      " 20%|██        | 275/1358 [04:23<14:51,  1.22it/s]\u001b[A\u001b[A\u001b[A\u001b[A"
     ]
    },
    {
     "name": "stdout",
     "output_type": "stream",
     "text": [
      "разразиться ok\n",
      "no examples\n",
      "[275, 'break out', 'вспыхнуть', nan, nan, 'erupt | flush | flare up | blaze up | flush crimson | spark | light up | flare | ']\n"
     ]
    },
    {
     "name": "stderr",
     "output_type": "stream",
     "text": [
      "\n",
      "\n",
      "\n",
      "\n",
      " 20%|██        | 276/1358 [04:23<12:10,  1.48it/s]\u001b[A\u001b[A\u001b[A\u001b[A"
     ]
    },
    {
     "name": "stdout",
     "output_type": "stream",
     "text": [
      "вспыхнуть ok\n",
      "no examples\n",
      "[276, 'break out', 'начаться', nan, nan, 'begin | start | start | erupt | take place | commence | usher | ']\n"
     ]
    },
    {
     "name": "stderr",
     "output_type": "stream",
     "text": [
      "\n",
      "\n",
      "\n",
      "\n",
      " 20%|██        | 277/1358 [04:23<10:07,  1.78it/s]\u001b[A\u001b[A\u001b[A\u001b[A"
     ]
    },
    {
     "name": "stdout",
     "output_type": "stream",
     "text": [
      "начаться ok\n",
      "no examples\n",
      "[277, 'break out', 'разгореться', nan, nan, 'rekindle | flare | ']\n"
     ]
    },
    {
     "name": "stderr",
     "output_type": "stream",
     "text": [
      "\n",
      "\n",
      "\n",
      "\n",
      " 20%|██        | 278/1358 [04:24<09:46,  1.84it/s]\u001b[A\u001b[A\u001b[A\u001b[A"
     ]
    },
    {
     "name": "stdout",
     "output_type": "stream",
     "text": [
      "разгореться ok\n",
      "no examples\n",
      "[278, 'break out', 'вырваться', nan, nan, 'break free | dash | ']\n"
     ]
    },
    {
     "name": "stderr",
     "output_type": "stream",
     "text": [
      "\n",
      "\n",
      "\n",
      "\n",
      " 21%|██        | 279/1358 [04:24<09:06,  1.97it/s]\u001b[A\u001b[A\u001b[A\u001b[A"
     ]
    },
    {
     "name": "stdout",
     "output_type": "stream",
     "text": [
      "вырваться ok\n",
      "no examples\n",
      "[279, 'break out', 'прорваться', nan, nan, 'break | break through | burst | break in | burst forth | ']\n"
     ]
    },
    {
     "name": "stderr",
     "output_type": "stream",
     "text": [
      "\n",
      "\n",
      "\n",
      "\n",
      " 21%|██        | 280/1358 [04:25<10:29,  1.71it/s]\u001b[A\u001b[A\u001b[A\u001b[A"
     ]
    },
    {
     "name": "stdout",
     "output_type": "stream",
     "text": [
      "прорваться ok\n",
      "no examples\n",
      "[280, 'mother', 'матерь', 'single mother|young mother|surrogate mother|poor mother|', 'Одинокая мать | молодая мать | суррогатной матерью | бедная мать | ', 'mom | ']\n",
      "матерь ok\n",
      "single mother ok\n",
      "young mother ok\n",
      "surrogate mother ok\n"
     ]
    },
    {
     "name": "stderr",
     "output_type": "stream",
     "text": [
      "\n",
      "\n",
      "\n",
      "\n",
      " 21%|██        | 281/1358 [04:27<21:15,  1.18s/it]\u001b[A\u001b[A\u001b[A\u001b[A"
     ]
    },
    {
     "name": "stdout",
     "output_type": "stream",
     "text": [
      "poor mother ok\n",
      "[281, 'mother', 'материя', 'Mother Divine|God Mother|mothers of the dead|', 'Матери Божьей | божьей матери | матери погибших | ', 'matter | mom | ']\n",
      "материя ok\n",
      "Mother Divine ok\n",
      "God Mother ok\n"
     ]
    },
    {
     "name": "stderr",
     "output_type": "stream",
     "text": [
      "\n",
      "\n",
      "\n",
      "\n",
      " 21%|██        | 282/1358 [04:30<27:52,  1.55s/it]\u001b[A\u001b[A\u001b[A\u001b[A"
     ]
    },
    {
     "name": "stdout",
     "output_type": "stream",
     "text": [
      "mothers of the dead ok\n",
      "[282, 'mother', 'мама', 'doting mother|ideal mother|', 'заботливая мама | идеальная мама | ', 'mom | mum | mama | mommy | ']\n",
      "мама ok\n",
      "doting mother ok\n"
     ]
    },
    {
     "name": "stderr",
     "output_type": "stream",
     "text": [
      "\n",
      "\n",
      "\n",
      "\n",
      " 21%|██        | 283/1358 [04:32<30:17,  1.69s/it]\u001b[A\u001b[A\u001b[A\u001b[A"
     ]
    },
    {
     "name": "stdout",
     "output_type": "stream",
     "text": [
      "ideal mother ok\n",
      "[283, 'start', 'начало', \"good start|fresh start|tournament's start|course start|\", 'хорошее начало | новое начало | начала турнира | начала курса | ', 'beginning | launch | onset | origin | outbreak | ']\n",
      "начало ok\n",
      "good start ok\n",
      "fresh start ok\n",
      "tournament's start ok\n"
     ]
    },
    {
     "name": "stderr",
     "output_type": "stream",
     "text": [
      "\n",
      "\n",
      "\n",
      "\n",
      " 21%|██        | 284/1358 [04:34<32:07,  1.79s/it]\u001b[A\u001b[A\u001b[A\u001b[A"
     ]
    },
    {
     "name": "stdout",
     "output_type": "stream",
     "text": [
      "course start ok\n",
      "[284, 'start', 'старт', 'slow start|quick start|Joyful starts|official start|', 'медленный старт | быстрый старт | Веселые старты | официальный старт | ', 'launch | start-up | launching | findings | ']\n",
      "старт ok\n",
      "slow start ok\n",
      "quick start ok\n",
      "Joyful starts ok\n"
     ]
    },
    {
     "name": "stderr",
     "output_type": "stream",
     "text": [
      "\n",
      "\n",
      "\n",
      "\n",
      " 21%|██        | 285/1358 [04:36<33:43,  1.89s/it]\u001b[A\u001b[A\u001b[A\u001b[A"
     ]
    },
    {
     "name": "stdout",
     "output_type": "stream",
     "text": [
      "official start ok\n",
      "[285, 'start', 'запуск', 'remote start|Web Start|first start|first start of the program|', 'дистанционный запуск | сетевой запуск | первый запуск | первого запуска программы | ', 'launch | start-up | run | execution | starting | deployment | ']\n",
      "запуск ok\n",
      "remote start ok\n",
      "Web Start ok\n",
      "first start ok\n"
     ]
    },
    {
     "name": "stderr",
     "output_type": "stream",
     "text": [
      "\n",
      "\n",
      "\n",
      "\n",
      " 21%|██        | 286/1358 [04:39<38:43,  2.17s/it]\u001b[A\u001b[A\u001b[A\u001b[A"
     ]
    },
    {
     "name": "stdout",
     "output_type": "stream",
     "text": [
      "first start of the program ok\n",
      "[286, 'start', 'пуск', nan, nan, 'launch | start-up | firing | launching | starting | start button | ']\n"
     ]
    },
    {
     "name": "stderr",
     "output_type": "stream",
     "text": [
      "\n",
      "\n",
      "\n",
      "\n",
      " 21%|██        | 287/1358 [04:39<29:09,  1.63s/it]\u001b[A\u001b[A\u001b[A\u001b[A"
     ]
    },
    {
     "name": "stdout",
     "output_type": "stream",
     "text": [
      "пуск ok\n",
      "no examples\n",
      "[287, 'start', 'договор СНВ', nan, nan, ' | ']\n"
     ]
    },
    {
     "name": "stderr",
     "output_type": "stream",
     "text": [
      "\n",
      "\n",
      "\n",
      "\n",
      " 21%|██        | 288/1358 [04:40<21:56,  1.23s/it]\u001b[A\u001b[A\u001b[A\u001b[A"
     ]
    },
    {
     "name": "stdout",
     "output_type": "stream",
     "text": [
      "договор СНВ ok\n",
      "no examples\n",
      "[288, 'start', 'начать', 'to start the game|to start now|to start a public campaign|to start a business|', 'начать игру | начать сейчас | начать общественную кампанию | начать свой бизнес | ', 'begin | launch | initiate | open | ']\n",
      "начать ok\n",
      "to start the game ok\n",
      "to start now ok\n",
      "to start a public campaign ok\n"
     ]
    },
    {
     "name": "stderr",
     "output_type": "stream",
     "text": [
      "\n",
      "\n",
      "\n",
      "\n",
      " 21%|██▏       | 289/1358 [04:41<25:31,  1.43s/it]\u001b[A\u001b[A\u001b[A\u001b[A"
     ]
    },
    {
     "name": "stdout",
     "output_type": "stream",
     "text": [
      "to start a business ok\n",
      "[289, 'start', 'начинать', \"to start a bilateral confrontation|to start one's own business effectively|to start beneath the baseline|to start this year|\", 'начинать двустороннюю конфронтацию | начинать собственный бизнес | начинать ниже исходного уровня | начинать с этого года | ', 'begin | launch | initiate | commence | ']\n",
      "начинать ok\n",
      "to start a bilateral confrontation ok\n",
      "to start one's own business effectively ok\n",
      "to start beneath the baseline ok\n"
     ]
    },
    {
     "name": "stderr",
     "output_type": "stream",
     "text": [
      "\n",
      "\n",
      "\n",
      "\n",
      " 21%|██▏       | 290/1358 [04:43<26:26,  1.49s/it]\u001b[A\u001b[A\u001b[A\u001b[A"
     ]
    },
    {
     "name": "stdout",
     "output_type": "stream",
     "text": [
      "to start this year ok\n",
      "[290, 'start', 'начинаться', 'to start here|', 'начинаться здесь | ', 'begin | ']\n",
      "начинаться ok\n"
     ]
    },
    {
     "name": "stderr",
     "output_type": "stream",
     "text": [
      "\n",
      "\n",
      "\n",
      "\n",
      " 21%|██▏       | 291/1358 [04:44<22:57,  1.29s/it]\u001b[A\u001b[A\u001b[A\u001b[A"
     ]
    },
    {
     "name": "stdout",
     "output_type": "stream",
     "text": [
      "to start here ok\n",
      "[291, 'start', 'стать', nan, nan, 'become | begin | become | be | get | make | come | ']\n"
     ]
    },
    {
     "name": "stderr",
     "output_type": "stream",
     "text": [
      "\n",
      "\n",
      "\n",
      "\n",
      " 22%|██▏       | 292/1358 [04:44<18:33,  1.04s/it]\u001b[A\u001b[A\u001b[A\u001b[A"
     ]
    },
    {
     "name": "stdout",
     "output_type": "stream",
     "text": [
      "стать ok\n",
      "no examples\n",
      "[292, 'start', 'начаться', nan, nan, 'begin | break out | erupt | take place | commence | usher | ']\n"
     ]
    },
    {
     "name": "stderr",
     "output_type": "stream",
     "text": [
      "\n",
      "\n",
      "\n",
      "\n",
      " 22%|██▏       | 293/1358 [04:45<16:09,  1.10it/s]\u001b[A\u001b[A\u001b[A\u001b[A"
     ]
    },
    {
     "name": "stdout",
     "output_type": "stream",
     "text": [
      "начаться ok\n",
      "no examples\n",
      "[293, 'start', 'запустить', 'to start the installation process|to start your browser|', 'запустить процесс установки | запустить браузер | ', 'launch | run | execute | trigger | run | ']\n",
      "запустить ok\n",
      "to start the installation process ok\n"
     ]
    },
    {
     "name": "stderr",
     "output_type": "stream",
     "text": [
      "\n",
      "\n",
      "\n",
      "\n",
      " 22%|██▏       | 294/1358 [04:47<22:27,  1.27s/it]\u001b[A\u001b[A\u001b[A\u001b[A"
     ]
    },
    {
     "name": "stdout",
     "output_type": "stream",
     "text": [
      "to start your browser ok\n",
      "[294, 'start', 'приступить', 'to start the normalization process|', 'приступить к процессу нормализации | ', 'begin | launch | proceed | initiate | embark | get down | commence | ']\n",
      "приступить ok\n"
     ]
    },
    {
     "name": "stderr",
     "output_type": "stream",
     "text": [
      "\n",
      "\n",
      "\n",
      "\n",
      " 22%|██▏       | 295/1358 [04:48<19:44,  1.11s/it]\u001b[A\u001b[A\u001b[A\u001b[A"
     ]
    },
    {
     "name": "stdout",
     "output_type": "stream",
     "text": [
      "to start the normalization process ok\n",
      "[295, 'start', 'стартовать', nan, nan, 'launch | kick off | take off | ']\n"
     ]
    },
    {
     "name": "stderr",
     "output_type": "stream",
     "text": [
      "\n",
      "\n",
      "\n",
      "\n",
      " 22%|██▏       | 296/1358 [04:48<16:18,  1.09it/s]\u001b[A\u001b[A\u001b[A\u001b[A"
     ]
    },
    {
     "name": "stdout",
     "output_type": "stream",
     "text": [
      "стартовать ok\n",
      "no examples\n",
      "[296, 'start', 'открыть', 'to start a savings account|to start her own business|', 'открыть сберегательный счет | открыть собственное дело | ', 'open | discover | open up | establish | open | launch | reopen | inaugurate | ']\n",
      "открыть ok\n",
      "to start a savings account ok\n"
     ]
    },
    {
     "name": "stderr",
     "output_type": "stream",
     "text": [
      "\n",
      "\n",
      "\n",
      "\n",
      " 22%|██▏       | 297/1358 [04:50<20:05,  1.14s/it]\u001b[A\u001b[A\u001b[A\u001b[A"
     ]
    },
    {
     "name": "stdout",
     "output_type": "stream",
     "text": [
      "to start her own business ok\n",
      "[297, 'start up', 'запускать', nan, nan, 'run | launch | execute | launch | fly | run | fire | start up | fire up | ']\n"
     ]
    },
    {
     "name": "stderr",
     "output_type": "stream",
     "text": [
      "\n",
      "\n",
      "\n",
      "\n",
      " 22%|██▏       | 298/1358 [04:50<15:25,  1.15it/s]\u001b[A\u001b[A\u001b[A\u001b[A"
     ]
    },
    {
     "name": "stdout",
     "output_type": "stream",
     "text": [
      "запускать ok\n",
      "no examples\n",
      "[298, 'start up', 'запускаться', nan, nan, 'run | start | start up | launch | ']\n"
     ]
    },
    {
     "name": "stderr",
     "output_type": "stream",
     "text": [
      "\n",
      "\n",
      "\n",
      "\n",
      " 22%|██▏       | 299/1358 [04:51<13:00,  1.36it/s]\u001b[A\u001b[A\u001b[A\u001b[A"
     ]
    },
    {
     "name": "stdout",
     "output_type": "stream",
     "text": [
      "запускаться ok\n",
      "no examples\n",
      "[299, 'start up', 'вновь запустить', nan, nan, ' | ']\n"
     ]
    },
    {
     "name": "stderr",
     "output_type": "stream",
     "text": [
      "\n",
      "\n",
      "\n",
      "\n",
      " 22%|██▏       | 300/1358 [04:51<12:27,  1.42it/s]\u001b[A\u001b[A\u001b[A\u001b[A"
     ]
    },
    {
     "name": "stdout",
     "output_type": "stream",
     "text": [
      "вновь запустить ok\n",
      "no examples\n",
      "[300, 'start up', 'запуститься', nan, nan, 'boot | start up | ']\n"
     ]
    },
    {
     "name": "stderr",
     "output_type": "stream",
     "text": [
      "\n",
      "\n",
      "\n",
      "\n",
      " 22%|██▏       | 301/1358 [04:52<10:17,  1.71it/s]\u001b[A\u001b[A\u001b[A\u001b[A"
     ]
    },
    {
     "name": "stdout",
     "output_type": "stream",
     "text": [
      "запуститься ok\n",
      "no examples\n",
      "[301, 'start out', 'начинать с электричества', nan, nan, ' | ']\n"
     ]
    },
    {
     "name": "stderr",
     "output_type": "stream",
     "text": [
      "\n",
      "\n",
      "\n",
      "\n",
      " 22%|██▏       | 302/1358 [04:52<09:09,  1.92it/s]\u001b[A\u001b[A\u001b[A\u001b[A"
     ]
    },
    {
     "name": "stdout",
     "output_type": "stream",
     "text": [
      "начинать с электричества ok\n",
      "no examples\n",
      "[302, 'start off', 'начать', 'to start off with wine first|', 'начать с вина | ', 'start | begin | launch | initiate | open | ']\n",
      "начать ok\n"
     ]
    },
    {
     "name": "stderr",
     "output_type": "stream",
     "text": [
      "\n",
      "\n",
      "\n",
      "\n",
      " 22%|██▏       | 303/1358 [04:53<13:03,  1.35it/s]\u001b[A\u001b[A\u001b[A\u001b[A"
     ]
    },
    {
     "name": "stdout",
     "output_type": "stream",
     "text": [
      "to start off with wine first ok\n",
      "[303, 'tip', 'совет', \"This week's tip|useful tip|general tips|\", 'Совет этой недели | полезный совет | общий совет | ', 'council | board | advice | ']\n",
      "совет ok\n",
      "This week's tip ok\n",
      "useful tip ok\n"
     ]
    },
    {
     "name": "stderr",
     "output_type": "stream",
     "text": [
      "\n",
      "\n",
      "\n",
      "\n",
      " 22%|██▏       | 304/1358 [04:56<22:14,  1.27s/it]\u001b[A\u001b[A\u001b[A\u001b[A\n",
      "\n",
      "\n",
      "\n"
     ]
    },
    {
     "name": "stdout",
     "output_type": "stream",
     "text": [
      "general tips ok\n",
      "[304, 'tip', 'наводка', nan, nan, 'tip-off | ']\n",
      "наводка ok\n",
      "no examples\n"
     ]
    },
    {
     "name": "stderr",
     "output_type": "stream",
     "text": [
      " 22%|██▏       | 305/1358 [04:56<16:36,  1.06it/s]\u001b[A\u001b[A\u001b[A\u001b[A"
     ]
    },
    {
     "name": "stdout",
     "output_type": "stream",
     "text": [
      "[305, 'tip', 'подсказка', 'small tip|', 'небольшая подсказка | ', 'prompt | hint | clue | cue | tooltip | helpful hint | MailTip | tooltips | ']\n",
      "подсказка ok\n"
     ]
    },
    {
     "name": "stderr",
     "output_type": "stream",
     "text": [
      "\n",
      "\n",
      "\n",
      "\n",
      " 23%|██▎       | 306/1358 [04:57<18:12,  1.04s/it]\u001b[A\u001b[A\u001b[A\u001b[A"
     ]
    },
    {
     "name": "stdout",
     "output_type": "stream",
     "text": [
      "small tip ok\n",
      "[306, 'tip', 'опрокидывать', 'to tip the cow|', 'опрокидывать коров | ', ' | ']\n",
      "опрокидывать ok\n"
     ]
    },
    {
     "name": "stderr",
     "output_type": "stream",
     "text": [
      "\n",
      "\n",
      "\n",
      "\n",
      " 23%|██▎       | 307/1358 [04:59<20:58,  1.20s/it]\u001b[A\u001b[A\u001b[A\u001b[A"
     ]
    },
    {
     "name": "stdout",
     "output_type": "stream",
     "text": [
      "to tip the cow ok\n",
      "[307, 'tip', 'опрокинуть', nan, nan, 'overturn | knock | spill | ']\n"
     ]
    },
    {
     "name": "stderr",
     "output_type": "stream",
     "text": [
      "\n",
      "\n",
      "\n",
      "\n",
      " 23%|██▎       | 308/1358 [04:59<16:15,  1.08it/s]\u001b[A\u001b[A\u001b[A\u001b[A"
     ]
    },
    {
     "name": "stdout",
     "output_type": "stream",
     "text": [
      "опрокинуть ok\n",
      "no examples\n",
      "[308, 'tip', 'толкнуть', nan, nan, 'push | ']\n"
     ]
    },
    {
     "name": "stderr",
     "output_type": "stream",
     "text": [
      "\n",
      "\n",
      "\n",
      "\n",
      " 23%|██▎       | 309/1358 [05:00<15:33,  1.12it/s]\u001b[A\u001b[A\u001b[A\u001b[A\n",
      "\n",
      "\n",
      "\n",
      " 23%|██▎       | 310/1358 [05:00<11:53,  1.47it/s]\u001b[A\u001b[A\u001b[A\u001b[A"
     ]
    },
    {
     "name": "stdout",
     "output_type": "stream",
     "text": [
      "толкнуть ok\n",
      "no examples\n",
      "[309, 'tip', 'повергнуть', nan, nan, 'plunge | ']\n",
      "повергнуть ok\n",
      "no examples\n",
      "[310, 'apologize', 'извиниться', nan, nan, ' | ']\n"
     ]
    },
    {
     "name": "stderr",
     "output_type": "stream",
     "text": [
      "\n",
      "\n",
      "\n",
      "\n",
      " 23%|██▎       | 311/1358 [05:00<09:49,  1.78it/s]\u001b[A\u001b[A\u001b[A\u001b[A"
     ]
    },
    {
     "name": "stdout",
     "output_type": "stream",
     "text": [
      "извиниться ok\n",
      "no examples\n",
      "[311, 'apologize', 'извиняться', nan, nan, 'beg your pardon | ']\n"
     ]
    },
    {
     "name": "stderr",
     "output_type": "stream",
     "text": [
      "\n",
      "\n",
      "\n",
      "\n",
      " 23%|██▎       | 312/1358 [05:01<10:26,  1.67it/s]\u001b[A\u001b[A\u001b[A\u001b[A"
     ]
    },
    {
     "name": "stdout",
     "output_type": "stream",
     "text": [
      "извиняться ok\n",
      "no examples\n",
      "[312, 'apologize', 'приносить извинения', nan, nan, ' | ']\n"
     ]
    },
    {
     "name": "stderr",
     "output_type": "stream",
     "text": [
      "\n",
      "\n",
      "\n",
      "\n",
      " 23%|██▎       | 313/1358 [05:01<10:20,  1.68it/s]\u001b[A\u001b[A\u001b[A\u001b[A"
     ]
    },
    {
     "name": "stdout",
     "output_type": "stream",
     "text": [
      "приносить извинения ok\n",
      "no examples\n",
      "[313, 'apologize', 'принести извинения', nan, nan, ' | ']\n"
     ]
    },
    {
     "name": "stderr",
     "output_type": "stream",
     "text": [
      "\n",
      "\n",
      "\n",
      "\n",
      " 23%|██▎       | 314/1358 [05:02<12:26,  1.40it/s]\u001b[A\u001b[A\u001b[A\u001b[A"
     ]
    },
    {
     "name": "stdout",
     "output_type": "stream",
     "text": [
      "принести извинения ok\n",
      "no examples\n",
      "[314, 'apologize', 'приносить свои извинения', nan, nan, ' | ']\n"
     ]
    },
    {
     "name": "stderr",
     "output_type": "stream",
     "text": [
      "\n",
      "\n",
      "\n",
      "\n",
      " 23%|██▎       | 315/1358 [05:03<11:30,  1.51it/s]\u001b[A\u001b[A\u001b[A\u001b[A"
     ]
    },
    {
     "name": "stdout",
     "output_type": "stream",
     "text": [
      "приносить свои извинения ok\n",
      "no examples\n",
      "[315, 'apologize', 'принести свои извинения', nan, nan, ' | ']\n"
     ]
    },
    {
     "name": "stderr",
     "output_type": "stream",
     "text": [
      "\n",
      "\n",
      "\n",
      "\n",
      " 23%|██▎       | 316/1358 [05:03<09:10,  1.89it/s]\u001b[A\u001b[A\u001b[A\u001b[A"
     ]
    },
    {
     "name": "stdout",
     "output_type": "stream",
     "text": [
      "принести свои извинения ok\n",
      "no examples\n",
      "[316, 'apologize', 'попросить прощение', nan, nan, ' | ']\n"
     ]
    },
    {
     "name": "stderr",
     "output_type": "stream",
     "text": [
      "\n",
      "\n",
      "\n",
      "\n",
      " 23%|██▎       | 317/1358 [05:04<09:23,  1.85it/s]\u001b[A\u001b[A\u001b[A\u001b[A"
     ]
    },
    {
     "name": "stdout",
     "output_type": "stream",
     "text": [
      "попросить прощение ok\n",
      "no examples\n",
      "[317, 'come', 'придти', 'to come here|to come to the conclusion|to come home|to come tomorrow|', 'прийти сюда | прийти к заключению | прийти домой | прийти завтра | ', 'arrive | come up | come in | ']\n",
      "придти ok\n",
      "to come here ok\n",
      "to come to the conclusion ok\n",
      "to come home ok\n"
     ]
    },
    {
     "name": "stderr",
     "output_type": "stream",
     "text": [
      "\n",
      "\n",
      "\n",
      "\n",
      " 23%|██▎       | 318/1358 [05:06<20:24,  1.18s/it]\u001b[A\u001b[A\u001b[A\u001b[A"
     ]
    },
    {
     "name": "stdout",
     "output_type": "stream",
     "text": [
      "to come tomorrow ok\n",
      "[318, 'come', 'приходить', 'to come again|to come over here|to now come to power|to come quickly|', 'приходить еще | приходить сюда | в настоящее время приходить к власти | приходить быстро | ', 'arrive | come in | come up | ']\n",
      "приходить ok\n",
      "to come again ok\n",
      "to come over here ok\n",
      "to now come to power ok\n"
     ]
    },
    {
     "name": "stderr",
     "output_type": "stream",
     "text": [
      "\n",
      "\n",
      "\n",
      "\n",
      " 23%|██▎       | 319/1358 [05:08<23:51,  1.38s/it]\u001b[A\u001b[A\u001b[A\u001b[A"
     ]
    },
    {
     "name": "stdout",
     "output_type": "stream",
     "text": [
      "to come quickly ok\n",
      "[319, 'come', 'быть', 'to come down|to come over|', 'быть разобраны | быть перенесена | ', 'have | be | include | feature | get | go | offer | become | ']\n",
      "быть ok\n",
      "to come down ok\n"
     ]
    },
    {
     "name": "stderr",
     "output_type": "stream",
     "text": [
      "\n",
      "\n",
      "\n",
      "\n",
      " 24%|██▎       | 320/1358 [05:11<32:11,  1.86s/it]\u001b[A\u001b[A\u001b[A\u001b[A"
     ]
    },
    {
     "name": "stdout",
     "output_type": "stream",
     "text": [
      "to come over ok\n",
      "[320, 'come', 'приехать', 'to come here again|to come from somewhere|', 'снова приехать сюда | приехать откуда-то | ', 'arrive | travel | come out | ']\n",
      "приехать ok\n",
      "to come here again ok\n"
     ]
    },
    {
     "name": "stderr",
     "output_type": "stream",
     "text": [
      "\n",
      "\n",
      "\n",
      "\n",
      " 24%|██▎       | 321/1358 [05:13<30:49,  1.78s/it]\u001b[A\u001b[A\u001b[A\u001b[A"
     ]
    },
    {
     "name": "stdout",
     "output_type": "stream",
     "text": [
      "to come from somewhere ok\n",
      "[321, 'come', 'прислать', 'to come in yesterday|', 'прислать вчера | ', 'send | arrive | agree | submit | ']\n",
      "прислать ok\n"
     ]
    },
    {
     "name": "stderr",
     "output_type": "stream",
     "text": [
      "\n",
      "\n",
      "\n",
      "\n",
      " 24%|██▎       | 322/1358 [05:14<25:34,  1.48s/it]\u001b[A\u001b[A\u001b[A\u001b[A"
     ]
    },
    {
     "name": "stdout",
     "output_type": "stream",
     "text": [
      "to come in yesterday ok\n",
      "[322, 'come', 'приезжать', 'to come from all over the world|', 'приезжать со всего мира | ', 'arrive | travel | come here | ']\n",
      "приезжать ok\n"
     ]
    },
    {
     "name": "stderr",
     "output_type": "stream",
     "text": [
      "\n",
      "\n",
      "\n",
      "\n",
      " 24%|██▍       | 323/1358 [05:15<25:04,  1.45s/it]\u001b[A\u001b[A\u001b[A\u001b[A"
     ]
    },
    {
     "name": "stdout",
     "output_type": "stream",
     "text": [
      "to come from all over the world ok\n",
      "[323, 'come', 'произойти', nan, nan, 'happen | occur | took place | ']\n"
     ]
    },
    {
     "name": "stderr",
     "output_type": "stream",
     "text": [
      "\n",
      "\n",
      "\n",
      "\n",
      " 24%|██▍       | 324/1358 [05:16<20:01,  1.16s/it]\u001b[A\u001b[A\u001b[A\u001b[A"
     ]
    },
    {
     "name": "stdout",
     "output_type": "stream",
     "text": [
      "произойти ok\n",
      "no examples\n",
      "[324, 'come', 'происходить', nan, nan, 'happen | occur | go on | take place | takes place | happen | took place | derive | ']\n"
     ]
    },
    {
     "name": "stderr",
     "output_type": "stream",
     "text": [
      "\n",
      "\n",
      "\n",
      "\n",
      " 24%|██▍       | 325/1358 [05:16<15:18,  1.12it/s]\u001b[A\u001b[A\u001b[A\u001b[A"
     ]
    },
    {
     "name": "stdout",
     "output_type": "stream",
     "text": [
      "происходить ok\n",
      "no examples\n",
      "[325, 'come', 'идти', nan, nan, 'go | walk | go | move | keep | run | walk | follow | ']\n"
     ]
    },
    {
     "name": "stderr",
     "output_type": "stream",
     "text": [
      "\n",
      "\n",
      "\n",
      "\n",
      " 24%|██▍       | 326/1358 [05:16<12:41,  1.36it/s]\u001b[A\u001b[A\u001b[A\u001b[A"
     ]
    },
    {
     "name": "stdout",
     "output_type": "stream",
     "text": [
      "идти ok\n",
      "no examples\n",
      "[326, 'come out', 'выйти', nan, nan, 'go out | go | come out | leave | reach | release | emerge | enter | step | ']\n"
     ]
    },
    {
     "name": "stderr",
     "output_type": "stream",
     "text": [
      "\n",
      "\n",
      "\n",
      "\n",
      " 24%|██▍       | 327/1358 [05:17<10:27,  1.64it/s]\u001b[A\u001b[A\u001b[A\u001b[A"
     ]
    },
    {
     "name": "stdout",
     "output_type": "stream",
     "text": [
      "выйти ok\n",
      "no examples\n",
      "[327, 'come out', 'выходить', nan, nan, 'go | come out | go out | face | extend | enter | overlook | emerge | withdraw | ']\n"
     ]
    },
    {
     "name": "stderr",
     "output_type": "stream",
     "text": [
      "\n",
      "\n",
      "\n",
      "\n",
      " 24%|██▍       | 328/1358 [05:17<11:39,  1.47it/s]\u001b[A\u001b[A\u001b[A\u001b[A"
     ]
    },
    {
     "name": "stdout",
     "output_type": "stream",
     "text": [
      "выходить ok\n",
      "no examples\n",
      "[328, 'come out', 'выслать', nan, nan, 'send | expel | come out | go out | emerge | qualify | get out | advance | step | ']\n"
     ]
    },
    {
     "name": "stderr",
     "output_type": "stream",
     "text": [
      "\n",
      "\n",
      "\n",
      "\n",
      " 24%|██▍       | 329/1358 [05:18<09:30,  1.80it/s]\u001b[A\u001b[A\u001b[A\u001b[A"
     ]
    },
    {
     "name": "stdout",
     "output_type": "stream",
     "text": [
      "выслать ok\n",
      "no examples\n",
      "[329, 'come out', 'выступить', nan, nan, 'speak | perform | act | issue | deliver | address | come out | speak out | come up | ']\n"
     ]
    },
    {
     "name": "stderr",
     "output_type": "stream",
     "text": [
      "\n",
      "\n",
      "\n",
      "\n",
      " 24%|██▍       | 330/1358 [05:18<08:06,  2.11it/s]\u001b[A\u001b[A\u001b[A\u001b[A"
     ]
    },
    {
     "name": "stdout",
     "output_type": "stream",
     "text": [
      "выступить ok\n",
      "no examples\n",
      "[330, 'come out', 'получиться', nan, nan, 'succeed | come out | turn out | work out | could | result | get there | ']\n"
     ]
    },
    {
     "name": "stderr",
     "output_type": "stream",
     "text": [
      "\n",
      "\n",
      "\n",
      "\n",
      " 24%|██▍       | 331/1358 [05:19<09:05,  1.88it/s]\u001b[A\u001b[A\u001b[A\u001b[A"
     ]
    },
    {
     "name": "stdout",
     "output_type": "stream",
     "text": [
      "получиться ok\n",
      "no examples\n",
      "[331, 'come out', 'получаться', nan, nan, 'turn out | come out | work out | ']\n"
     ]
    },
    {
     "name": "stderr",
     "output_type": "stream",
     "text": [
      "\n",
      "\n",
      "\n",
      "\n",
      " 24%|██▍       | 332/1358 [05:19<08:50,  1.93it/s]\u001b[A\u001b[A\u001b[A\u001b[A"
     ]
    },
    {
     "name": "stdout",
     "output_type": "stream",
     "text": [
      "получаться ok\n",
      "no examples\n",
      "[332, 'come out', 'приехать', nan, nan, 'come | arrive | travel | come | come out | ']\n"
     ]
    },
    {
     "name": "stderr",
     "output_type": "stream",
     "text": [
      "\n",
      "\n",
      "\n",
      "\n",
      " 25%|██▍       | 333/1358 [05:19<07:40,  2.22it/s]\u001b[A\u001b[A\u001b[A\u001b[A"
     ]
    },
    {
     "name": "stdout",
     "output_type": "stream",
     "text": [
      "приехать ok\n",
      "no examples\n",
      "[333, 'come out', 'появляться', nan, nan, 'appear | emerge | show up | appear | arise | ']\n"
     ]
    },
    {
     "name": "stderr",
     "output_type": "stream",
     "text": [
      "\n",
      "\n",
      "\n",
      "\n",
      " 25%|██▍       | 334/1358 [05:20<09:46,  1.74it/s]\u001b[A\u001b[A\u001b[A\u001b[A"
     ]
    },
    {
     "name": "stdout",
     "output_type": "stream",
     "text": [
      "появляться ok\n",
      "no examples\n",
      "[334, 'come out', 'высказаться', nan, nan, 'speak out | come out | comment | speak up | ']\n"
     ]
    },
    {
     "name": "stderr",
     "output_type": "stream",
     "text": [
      "\n",
      "\n",
      "\n",
      "\n",
      " 25%|██▍       | 335/1358 [05:20<08:01,  2.13it/s]\u001b[A\u001b[A\u001b[A\u001b[A"
     ]
    },
    {
     "name": "stdout",
     "output_type": "stream",
     "text": [
      "высказаться ok\n",
      "no examples\n",
      "[335, 'come together', 'объедениться', nan, nan, 'unite | come together | team up | merge | join | join together | get together | reunite | combine | ']\n"
     ]
    },
    {
     "name": "stderr",
     "output_type": "stream",
     "text": [
      "\n",
      "\n",
      "\n",
      "\n",
      " 25%|██▍       | 336/1358 [05:21<07:30,  2.27it/s]\u001b[A\u001b[A\u001b[A\u001b[A"
     ]
    },
    {
     "name": "stdout",
     "output_type": "stream",
     "text": [
      "объедениться ok\n",
      "no examples\n",
      "[336, 'come together', 'собраться', nan, nan, 'gather | assemble | come together | convene | get together | rally | brought together | gather together | mass | ']\n"
     ]
    },
    {
     "name": "stderr",
     "output_type": "stream",
     "text": [
      "\n",
      "\n",
      "\n",
      "\n",
      " 25%|██▍       | 337/1358 [05:22<09:05,  1.87it/s]\u001b[A\u001b[A\u001b[A\u001b[A"
     ]
    },
    {
     "name": "stdout",
     "output_type": "stream",
     "text": [
      "собраться ok\n",
      "no examples\n",
      "[337, 'come together', 'объеденяться', nan, nan, 'unite | join | combine | join together | come together | merge | aggregate | get together | come together | ']\n"
     ]
    },
    {
     "name": "stderr",
     "output_type": "stream",
     "text": [
      "\n",
      "\n",
      "\n",
      "\n",
      " 25%|██▍       | 338/1358 [05:23<13:55,  1.22it/s]\u001b[A\u001b[A\u001b[A\u001b[A"
     ]
    },
    {
     "name": "stdout",
     "output_type": "stream",
     "text": [
      "объеденяться ok\n",
      "no examples\n",
      "[338, 'come together', 'собираться', nan, nan, 'gather | go | collect | assemble | come together | plan | congregate | get together | intend | ']\n"
     ]
    },
    {
     "name": "stderr",
     "output_type": "stream",
     "text": [
      "\n",
      "\n",
      "\n",
      "\n",
      " 25%|██▍       | 339/1358 [05:23<10:58,  1.55it/s]\u001b[A\u001b[A\u001b[A\u001b[A"
     ]
    },
    {
     "name": "stdout",
     "output_type": "stream",
     "text": [
      "собираться ok\n",
      "no examples\n",
      "[339, 'come together', 'объединить свои усилия', nan, nan, ' | ']\n"
     ]
    },
    {
     "name": "stderr",
     "output_type": "stream",
     "text": [
      "\n",
      "\n",
      "\n",
      "\n",
      " 25%|██▌       | 340/1358 [05:24<09:18,  1.82it/s]\u001b[A\u001b[A\u001b[A\u001b[A"
     ]
    },
    {
     "name": "stdout",
     "output_type": "stream",
     "text": [
      "объединить свои усилия ok\n",
      "no examples\n",
      "[340, 'come together', 'встречаться', nan, nan, 'meet | occur | meet | confer | encounter | date | come together | date | ']\n"
     ]
    },
    {
     "name": "stderr",
     "output_type": "stream",
     "text": [
      "\n",
      "\n",
      "\n",
      "\n",
      " 25%|██▌       | 341/1358 [05:24<08:13,  2.06it/s]\u001b[A\u001b[A\u001b[A\u001b[A"
     ]
    },
    {
     "name": "stdout",
     "output_type": "stream",
     "text": [
      "встречаться ok\n",
      "no examples\n",
      "[341, 'come together', 'соединяться', nan, nan, 'connect | incorporate | come together | combine | connect | ']\n"
     ]
    },
    {
     "name": "stderr",
     "output_type": "stream",
     "text": [
      "\n",
      "\n",
      "\n",
      "\n",
      " 25%|██▌       | 342/1358 [05:24<07:21,  2.30it/s]\u001b[A\u001b[A\u001b[A\u001b[A\n",
      "\n",
      "\n",
      "\n",
      " 25%|██▌       | 343/1358 [05:24<06:09,  2.75it/s]\u001b[A\u001b[A\u001b[A\u001b[A"
     ]
    },
    {
     "name": "stdout",
     "output_type": "stream",
     "text": [
      "соединяться ok\n",
      "no examples\n",
      "[342, 'come together', 'сложиться', nan, nan, 'develop | establish | come together | fold | spell | form | ']\n",
      "сложиться ok\n",
      "no examples\n",
      "[343, 'come together', 'слиться воедино', nan, nan, ' | ']\n"
     ]
    },
    {
     "name": "stderr",
     "output_type": "stream",
     "text": [
      "\n",
      "\n",
      "\n",
      "\n",
      " 25%|██▌       | 344/1358 [05:25<08:40,  1.95it/s]\u001b[A\u001b[A\u001b[A\u001b[A"
     ]
    },
    {
     "name": "stdout",
     "output_type": "stream",
     "text": [
      "слиться воедино ok\n",
      "no examples\n",
      "[344, 'come across', 'попадаться', nan, nan, ' | ']\n"
     ]
    },
    {
     "name": "stderr",
     "output_type": "stream",
     "text": [
      "\n",
      "\n",
      "\n",
      "\n",
      " 25%|██▌       | 345/1358 [05:26<08:32,  1.97it/s]\u001b[A\u001b[A\u001b[A\u001b[A"
     ]
    },
    {
     "name": "stdout",
     "output_type": "stream",
     "text": [
      "попадаться ok\n",
      "no examples\n",
      "[345, 'come across', 'сталкиваться', nan, nan, 'face | encounter | confront | collide | deal | clash | suffer | face | hit | ']\n"
     ]
    },
    {
     "name": "stderr",
     "output_type": "stream",
     "text": [
      "\n",
      "\n",
      "\n",
      "\n",
      " 25%|██▌       | 346/1358 [05:27<11:58,  1.41it/s]\u001b[A\u001b[A\u001b[A\u001b[A"
     ]
    },
    {
     "name": "stdout",
     "output_type": "stream",
     "text": [
      "сталкиваться ok\n",
      "no examples\n",
      "[346, 'come across', 'встречать', nan, nan, 'meet | greet | encounter | welcome | meet | meet before | ']\n"
     ]
    },
    {
     "name": "stderr",
     "output_type": "stream",
     "text": [
      "\n",
      "\n",
      "\n",
      "\n",
      " 26%|██▌       | 347/1358 [05:28<10:58,  1.53it/s]\u001b[A\u001b[A\u001b[A\u001b[A"
     ]
    },
    {
     "name": "stdout",
     "output_type": "stream",
     "text": [
      "встречать ok\n",
      "no examples\n",
      "[347, 'come across', 'наткнуться', nan, nan, 'bump | stumble | encounter | ']\n"
     ]
    },
    {
     "name": "stderr",
     "output_type": "stream",
     "text": [
      "\n",
      "\n",
      "\n",
      "\n",
      " 26%|██▌       | 348/1358 [05:28<10:56,  1.54it/s]\u001b[A\u001b[A\u001b[A\u001b[A"
     ]
    },
    {
     "name": "stdout",
     "output_type": "stream",
     "text": [
      "наткнуться ok\n",
      "no examples\n",
      "[348, 'come across', 'попасться', nan, nan, ' | ']\n"
     ]
    },
    {
     "name": "stderr",
     "output_type": "stream",
     "text": [
      "\n",
      "\n",
      "\n",
      "\n",
      " 26%|██▌       | 349/1358 [05:28<09:09,  1.84it/s]\u001b[A\u001b[A\u001b[A\u001b[A"
     ]
    },
    {
     "name": "stdout",
     "output_type": "stream",
     "text": [
      "попасться ok\n",
      "no examples\n",
      "[349, 'come across', 'пересекать', nan, nan, 'cross | cross | intersect | ']\n"
     ]
    },
    {
     "name": "stderr",
     "output_type": "stream",
     "text": [
      "\n",
      "\n",
      "\n",
      "\n",
      " 26%|██▌       | 350/1358 [05:29<08:49,  1.90it/s]\u001b[A\u001b[A\u001b[A\u001b[A"
     ]
    },
    {
     "name": "stdout",
     "output_type": "stream",
     "text": [
      "пересекать ok\n",
      "no examples\n",
      "[350, 'come across', 'натолкнуться', nan, nan, ' | ']\n"
     ]
    },
    {
     "name": "stderr",
     "output_type": "stream",
     "text": [
      "\n",
      "\n",
      "\n",
      "\n",
      " 26%|██▌       | 351/1358 [05:30<10:04,  1.66it/s]\u001b[A\u001b[A\u001b[A\u001b[A"
     ]
    },
    {
     "name": "stdout",
     "output_type": "stream",
     "text": [
      "натолкнуться ok\n",
      "no examples\n",
      "[351, 'come back', 'вернуться', 'to come back quickly|to come back here|', 'Быстро вернуться назад | вернуться сюда | ', 'return | go back | go | get back | come back | return | revert | ']\n",
      "вернуться ok\n",
      "to come back quickly ok\n"
     ]
    },
    {
     "name": "stderr",
     "output_type": "stream",
     "text": [
      "\n",
      "\n",
      "\n",
      "\n",
      " 26%|██▌       | 352/1358 [05:31<11:43,  1.43it/s]\u001b[A\u001b[A\u001b[A\u001b[A"
     ]
    },
    {
     "name": "stdout",
     "output_type": "stream",
     "text": [
      "to come back here ok\n",
      "[352, 'come back', 'возвращаться', 'to come back home late|', 'возвращаться домой поздно | ', 'return | return | go back | come back | get back | move back | revert | ']\n",
      "возвращаться ok\n"
     ]
    },
    {
     "name": "stderr",
     "output_type": "stream",
     "text": [
      "\n",
      "\n",
      "\n",
      "\n",
      " 26%|██▌       | 353/1358 [05:31<11:40,  1.44it/s]\u001b[A\u001b[A\u001b[A\u001b[A"
     ]
    },
    {
     "name": "stdout",
     "output_type": "stream",
     "text": [
      "to come back home late ok\n",
      "[353, 'come back', 'прилетать', nan, nan, 'fly | arrive | show up | ']\n"
     ]
    },
    {
     "name": "stderr",
     "output_type": "stream",
     "text": [
      "\n",
      "\n",
      "\n",
      "\n",
      " 26%|██▌       | 354/1358 [05:32<11:17,  1.48it/s]\u001b[A\u001b[A\u001b[A\u001b[A"
     ]
    },
    {
     "name": "stdout",
     "output_type": "stream",
     "text": [
      "прилетать ok\n",
      "no examples\n",
      "[354, 'come into', 'войти', 'to come into the room|', 'в комнату войти | ', 'enter | include | come in | login | walk | go in | comprise | walk in | logon | ']\n",
      "войти ok\n"
     ]
    },
    {
     "name": "stderr",
     "output_type": "stream",
     "text": [
      "\n",
      "\n",
      "\n",
      "\n",
      " 26%|██▌       | 355/1358 [05:33<10:43,  1.56it/s]\u001b[A\u001b[A\u001b[A\u001b[A"
     ]
    },
    {
     "name": "stdout",
     "output_type": "stream",
     "text": [
      "to come into the room ok\n",
      "[355, 'come into', 'вступить', 'to come into force|', 'вступить в силу | ', 'enter | join | engage | step | take effect | join | exchange | take over | ']\n",
      "вступить ok\n"
     ]
    },
    {
     "name": "stderr",
     "output_type": "stream",
     "text": [
      "\n",
      "\n",
      "\n",
      "\n",
      " 26%|██▌       | 356/1358 [05:33<10:10,  1.64it/s]\u001b[A\u001b[A\u001b[A\u001b[A"
     ]
    },
    {
     "name": "stdout",
     "output_type": "stream",
     "text": [
      "to come into force ok\n",
      "[356, 'come into', 'вступать', 'to come into play|', 'в игру вступать | ', 'enter | engage | join | come in | embark | enroll | adhere | kick in | ']\n",
      "вступать ok\n"
     ]
    },
    {
     "name": "stderr",
     "output_type": "stream",
     "text": [
      "\n",
      "\n",
      "\n",
      "\n",
      " 26%|██▋       | 357/1358 [05:34<13:45,  1.21it/s]\u001b[A\u001b[A\u001b[A\u001b[A"
     ]
    },
    {
     "name": "stdout",
     "output_type": "stream",
     "text": [
      "to come into play ok\n",
      "[357, 'come up', 'подойти', nan, nan, 'come | go up | fit | walk | approach | go over | walk up | suit | ']\n"
     ]
    },
    {
     "name": "stderr",
     "output_type": "stream",
     "text": [
      "\n",
      "\n",
      "\n",
      "\n",
      " 26%|██▋       | 358/1358 [05:35<11:46,  1.42it/s]\u001b[A\u001b[A\u001b[A\u001b[A"
     ]
    },
    {
     "name": "stdout",
     "output_type": "stream",
     "text": [
      "подойти ok\n",
      "no examples\n",
      "[358, 'come up', 'придти', 'to come up that decision|', 'придти к тому решению | ', 'come | arrive | come | come in | ']\n",
      "придти ok\n"
     ]
    },
    {
     "name": "stderr",
     "output_type": "stream",
     "text": [
      "\n",
      "\n",
      "\n",
      "\n",
      " 26%|██▋       | 359/1358 [05:37<18:07,  1.09s/it]\u001b[A\u001b[A\u001b[A\u001b[A"
     ]
    },
    {
     "name": "stdout",
     "output_type": "stream",
     "text": [
      "to come up that decision ok\n",
      "[359, 'come up', 'подходить', nan, nan, 'suit | fit | approach | walk up | place | go up | match | befit | ']\n"
     ]
    },
    {
     "name": "stderr",
     "output_type": "stream",
     "text": [
      "\n",
      "\n",
      "\n",
      "\n",
      " 27%|██▋       | 360/1358 [05:37<14:07,  1.18it/s]\u001b[A\u001b[A\u001b[A\u001b[A"
     ]
    },
    {
     "name": "stdout",
     "output_type": "stream",
     "text": [
      "подходить ok\n",
      "no examples\n",
      "[360, 'come up', 'подниматься', nan, nan, 'rise | go up | climb | get up | lift | rise up | climb up | ']\n"
     ]
    },
    {
     "name": "stderr",
     "output_type": "stream",
     "text": [
      "\n",
      "\n",
      "\n",
      "\n",
      " 27%|██▋       | 361/1358 [05:38<12:10,  1.36it/s]\u001b[A\u001b[A\u001b[A\u001b[A"
     ]
    },
    {
     "name": "stdout",
     "output_type": "stream",
     "text": [
      "подниматься ok\n",
      "no examples\n",
      "[361, 'come up', 'приходить', nan, nan, 'come | come | arrive | come in | ']\n"
     ]
    },
    {
     "name": "stderr",
     "output_type": "stream",
     "text": [
      "\n",
      "\n",
      "\n",
      "\n",
      " 27%|██▋       | 362/1358 [05:38<09:40,  1.72it/s]\u001b[A\u001b[A\u001b[A\u001b[A"
     ]
    },
    {
     "name": "stdout",
     "output_type": "stream",
     "text": [
      "приходить ok\n",
      "no examples\n",
      "[362, 'come up', 'возникать', nan, nan, 'arise | occur | appear | emerge | raise | arise | ']\n"
     ]
    },
    {
     "name": "stderr",
     "output_type": "stream",
     "text": [
      "\n",
      "\n",
      "\n",
      "\n",
      " 27%|██▋       | 363/1358 [05:38<07:59,  2.07it/s]\u001b[A\u001b[A\u001b[A\u001b[A\n",
      "\n",
      "\n",
      "\n",
      " 27%|██▋       | 364/1358 [05:38<06:18,  2.62it/s]\u001b[A\u001b[A\u001b[A\u001b[A"
     ]
    },
    {
     "name": "stdout",
     "output_type": "stream",
     "text": [
      "возникать ok\n",
      "no examples\n",
      "[363, 'come up', 'выступить', nan, nan, 'speak | perform | act | issue | deliver | address | come out | speak out | ']\n",
      "выступить ok\n",
      "no examples\n",
      "[364, 'come up', 'возникнуть', nan, nan, 'arise | emerge | occur | appear | originate | experience | encounter | result | ']\n"
     ]
    },
    {
     "name": "stderr",
     "output_type": "stream",
     "text": [
      "\n",
      "\n",
      "\n",
      "\n",
      " 27%|██▋       | 365/1358 [05:39<06:49,  2.43it/s]\u001b[A\u001b[A\u001b[A\u001b[A"
     ]
    },
    {
     "name": "stdout",
     "output_type": "stream",
     "text": [
      "возникнуть ok\n",
      "no examples\n",
      "[365, 'come up', 'подняться', nan, nan, 'rise | get up | stand up | go up | climb | rise up | service | jump | access | ']\n"
     ]
    },
    {
     "name": "stderr",
     "output_type": "stream",
     "text": [
      "\n",
      "\n",
      "\n",
      "\n",
      " 27%|██▋       | 366/1358 [05:39<08:52,  1.86it/s]\u001b[A\u001b[A\u001b[A\u001b[A"
     ]
    },
    {
     "name": "stdout",
     "output_type": "stream",
     "text": [
      "подняться ok\n",
      "no examples\n",
      "[366, 'come down', 'опускаться', nan, nan, 'fall | drop | lower | sink | descend | go down | come down | get down | come down | ']\n"
     ]
    },
    {
     "name": "stderr",
     "output_type": "stream",
     "text": [
      "\n",
      "\n",
      "\n",
      "\n",
      " 27%|██▋       | 367/1358 [05:40<08:10,  2.02it/s]\u001b[A\u001b[A\u001b[A\u001b[A"
     ]
    },
    {
     "name": "stdout",
     "output_type": "stream",
     "text": [
      "опускаться ok\n",
      "no examples\n",
      "[367, 'curriculum', 'учебная программа', 'educational curriculum|', 'учебная программа | ', ' | ']\n",
      "учебная программа ok\n"
     ]
    },
    {
     "name": "stderr",
     "output_type": "stream",
     "text": [
      "\n",
      "\n",
      "\n",
      "\n",
      " 27%|██▋       | 368/1358 [05:41<10:37,  1.55it/s]\u001b[A\u001b[A\u001b[A\u001b[A\n",
      "\n",
      "\n",
      "\n",
      " 27%|██▋       | 369/1358 [05:41<08:20,  1.98it/s]\u001b[A\u001b[A\u001b[A\u001b[A"
     ]
    },
    {
     "name": "stdout",
     "output_type": "stream",
     "text": [
      "educational curriculum ok\n",
      "[368, 'curriculum', 'учебный план', nan, nan, ' | ']\n",
      "учебный план ok\n",
      "no examples\n",
      "[369, 'curriculum', 'программа обучения', nan, nan, ' | ']\n"
     ]
    },
    {
     "name": "stderr",
     "output_type": "stream",
     "text": [
      "\n",
      "\n",
      "\n",
      "\n",
      " 27%|██▋       | 370/1358 [05:42<08:12,  2.01it/s]\u001b[A\u001b[A\u001b[A\u001b[A"
     ]
    },
    {
     "name": "stdout",
     "output_type": "stream",
     "text": [
      "программа обучения ok\n",
      "no examples\n",
      "[370, 'curriculum', 'школьная программа', 'school curriculum|', 'школьная программа | ', ' | ']\n",
      "школьная программа ok\n"
     ]
    },
    {
     "name": "stderr",
     "output_type": "stream",
     "text": [
      "\n",
      "\n",
      "\n",
      "\n",
      " 27%|██▋       | 371/1358 [05:43<10:42,  1.54it/s]\u001b[A\u001b[A\u001b[A\u001b[A"
     ]
    },
    {
     "name": "stdout",
     "output_type": "stream",
     "text": [
      "school curriculum ok\n",
      "[371, 'curriculum', 'курс обучения', nan, nan, ' | ']\n"
     ]
    },
    {
     "name": "stderr",
     "output_type": "stream",
     "text": [
      "\n",
      "\n",
      "\n",
      "\n",
      " 27%|██▋       | 372/1358 [05:44<13:39,  1.20it/s]\u001b[A\u001b[A\u001b[A\u001b[A"
     ]
    },
    {
     "name": "stdout",
     "output_type": "stream",
     "text": [
      "курс обучения ok\n",
      "no examples\n",
      "[372, 'curriculum', 'учебный курс', nan, nan, ' | ']\n"
     ]
    },
    {
     "name": "stderr",
     "output_type": "stream",
     "text": [
      "\n",
      "\n",
      "\n",
      "\n",
      " 27%|██▋       | 373/1358 [05:44<11:07,  1.48it/s]\u001b[A\u001b[A\u001b[A\u001b[A"
     ]
    },
    {
     "name": "stdout",
     "output_type": "stream",
     "text": [
      "учебный курс ok\n",
      "no examples\n",
      "[373, 'expertise', 'опыт', 'technical expertise|international expertise|considerable expertise|professional expertise|', 'технический опыт | международный опыт | значительный опыт | профессиональный опыт | ', 'experience | practice | ']\n",
      "опыт ok\n",
      "technical expertise ok\n",
      "international expertise ok\n",
      "considerable expertise ok\n"
     ]
    },
    {
     "name": "stderr",
     "output_type": "stream",
     "text": [
      "\n",
      "\n",
      "\n",
      "\n",
      " 28%|██▊       | 374/1358 [05:47<20:14,  1.23s/it]\u001b[A\u001b[A\u001b[A\u001b[A"
     ]
    },
    {
     "name": "stdout",
     "output_type": "stream",
     "text": [
      "professional expertise ok\n",
      "[374, 'expertise', 'знание', 'scientific expertise|', 'научное знание | ', 'knowledge | skill | ']\n",
      "знание ok\n"
     ]
    },
    {
     "name": "stderr",
     "output_type": "stream",
     "text": [
      "\n",
      "\n",
      "\n",
      "\n",
      " 28%|██▊       | 375/1358 [05:47<18:00,  1.10s/it]\u001b[A\u001b[A\u001b[A\u001b[A"
     ]
    },
    {
     "name": "stdout",
     "output_type": "stream",
     "text": [
      "scientific expertise ok\n",
      "[375, 'expertise', 'экспертиза', 'sanitary-hygienical expertise|local expertise|', 'санитарно-гигиенической экспертизы | местную экспертизу | ', 'examination | assessment | review | inspection | evaluation | appraisal | expert review | expert study | ']\n",
      "экспертиза ok\n",
      "sanitary-hygienical expertise ok\n"
     ]
    },
    {
     "name": "stderr",
     "output_type": "stream",
     "text": [
      "\n",
      "\n",
      "\n",
      "\n",
      " 28%|██▊       | 376/1358 [05:48<16:58,  1.04s/it]\u001b[A\u001b[A\u001b[A\u001b[A"
     ]
    },
    {
     "name": "stdout",
     "output_type": "stream",
     "text": [
      "local expertise ok\n",
      "[376, 'expertise', 'компетентность', nan, nan, 'competence | proficiency | ']\n"
     ]
    },
    {
     "name": "stderr",
     "output_type": "stream",
     "text": [
      "\n",
      "\n",
      "\n",
      "\n",
      " 28%|██▊       | 377/1358 [05:49<14:36,  1.12it/s]\u001b[A\u001b[A\u001b[A\u001b[A"
     ]
    },
    {
     "name": "stdout",
     "output_type": "stream",
     "text": [
      "компетентность ok\n",
      "no examples\n",
      "[377, 'expertise', 'компетенция', nan, nan, 'competence | jurisdiction | ']\n"
     ]
    },
    {
     "name": "stderr",
     "output_type": "stream",
     "text": [
      "\n",
      "\n",
      "\n",
      "\n",
      " 28%|██▊       | 378/1358 [05:49<12:26,  1.31it/s]\u001b[A\u001b[A\u001b[A\u001b[A"
     ]
    },
    {
     "name": "stdout",
     "output_type": "stream",
     "text": [
      "компетенция ok\n",
      "no examples\n",
      "[378, 'expertise', 'экспертная оценка', nan, nan, ' | ']\n"
     ]
    },
    {
     "name": "stderr",
     "output_type": "stream",
     "text": [
      "\n",
      "\n",
      "\n",
      "\n",
      " 28%|██▊       | 379/1358 [05:50<10:09,  1.61it/s]\u001b[A\u001b[A\u001b[A\u001b[A"
     ]
    },
    {
     "name": "stdout",
     "output_type": "stream",
     "text": [
      "экспертная оценка ok\n",
      "no examples\n",
      "[379, 'expertise', 'ноу-хау', nan, nan, 'know-how | ']\n"
     ]
    },
    {
     "name": "stderr",
     "output_type": "stream",
     "text": [
      "\n",
      "\n",
      "\n",
      "\n",
      " 28%|██▊       | 380/1358 [05:51<14:28,  1.13it/s]\u001b[A\u001b[A\u001b[A\u001b[A"
     ]
    },
    {
     "name": "stdout",
     "output_type": "stream",
     "text": [
      "ноу-хау ok\n",
      "no examples\n",
      "[380, 'expertise', 'квалификация', nan, nan, 'qualification | skill | training | proficiency | professional skill | professional development | ']\n"
     ]
    },
    {
     "name": "stderr",
     "output_type": "stream",
     "text": [
      "\n",
      "\n",
      "\n",
      "\n",
      " 28%|██▊       | 381/1358 [05:52<12:11,  1.34it/s]\u001b[A\u001b[A\u001b[A\u001b[A\n",
      "\n",
      "\n",
      "\n",
      " 28%|██▊       | 382/1358 [05:52<09:18,  1.75it/s]\u001b[A\u001b[A\u001b[A\u001b[A"
     ]
    },
    {
     "name": "stdout",
     "output_type": "stream",
     "text": [
      "квалификация ok\n",
      "no examples\n",
      "[381, 'expertise', 'специализация', nan, nan, 'specialization | specialty | Ms. | major | ']\n",
      "специализация ok\n",
      "no examples\n",
      "[382, 'freeze', 'замораживание', 'credit freeze|price freeze|settlement freeze|armament freeze|', 'замораживание кредитов | замораживание цен | замораживание поселений | замораживание вооружений | ', 'refrigeration | freezing | ']\n",
      "замораживание ok\n",
      "credit freeze ok\n",
      "price freeze ok\n",
      "settlement freeze ok\n"
     ]
    },
    {
     "name": "stderr",
     "output_type": "stream",
     "text": [
      "\n",
      "\n",
      "\n",
      "\n",
      " 28%|██▊       | 383/1358 [05:55<22:37,  1.39s/it]\u001b[A\u001b[A\u001b[A\u001b[A"
     ]
    },
    {
     "name": "stdout",
     "output_type": "stream",
     "text": [
      "armament freeze ok\n",
      "[383, 'freeze', 'мораторий', nan, nan, 'moratorium | ']\n"
     ]
    },
    {
     "name": "stderr",
     "output_type": "stream",
     "text": [
      "\n",
      "\n",
      "\n",
      "\n",
      " 28%|██▊       | 384/1358 [05:56<18:26,  1.14s/it]\u001b[A\u001b[A\u001b[A\u001b[A"
     ]
    },
    {
     "name": "stdout",
     "output_type": "stream",
     "text": [
      "мораторий ok\n",
      "no examples\n",
      "[384, 'freeze', 'мороз', 'winter freeze|', 'зимние морозы | ', 'frost | cold | ']\n",
      "мороз ok\n"
     ]
    },
    {
     "name": "stderr",
     "output_type": "stream",
     "text": [
      "\n",
      "\n",
      "\n",
      "\n",
      " 28%|██▊       | 385/1358 [05:57<19:40,  1.21s/it]\u001b[A\u001b[A\u001b[A\u001b[A"
     ]
    },
    {
     "name": "stdout",
     "output_type": "stream",
     "text": [
      "winter freeze ok\n",
      "[385, 'freeze', 'заморозок', nan, nan, 'frost | deep-freeze | frozen area | ']\n"
     ]
    },
    {
     "name": "stderr",
     "output_type": "stream",
     "text": [
      "\n",
      "\n",
      "\n",
      "\n",
      " 28%|██▊       | 386/1358 [05:57<16:15,  1.00s/it]\u001b[A\u001b[A\u001b[A\u001b[A"
     ]
    },
    {
     "name": "stdout",
     "output_type": "stream",
     "text": [
      "заморозок ok\n",
      "no examples\n",
      "[386, 'freeze', 'замирание', nan, nan, ' | ']\n"
     ]
    },
    {
     "name": "stderr",
     "output_type": "stream",
     "text": [
      "\n",
      "\n",
      "\n",
      "\n",
      " 28%|██▊       | 387/1358 [05:59<18:33,  1.15s/it]\u001b[A\u001b[A\u001b[A\u001b[A"
     ]
    },
    {
     "name": "stdout",
     "output_type": "stream",
     "text": [
      "замирание ok\n",
      "no examples\n",
      "[387, 'freeze', 'заморозить', 'to freeze history|', 'заморозить историю | ', 'halt | ']\n",
      "заморозить ok\n"
     ]
    },
    {
     "name": "stderr",
     "output_type": "stream",
     "text": [
      "\n",
      "\n",
      "\n",
      "\n",
      " 29%|██▊       | 388/1358 [06:00<16:43,  1.03s/it]\u001b[A\u001b[A\u001b[A\u001b[A"
     ]
    },
    {
     "name": "stdout",
     "output_type": "stream",
     "text": [
      "to freeze history ok\n",
      "[388, 'freeze', 'замораживать', nan, nan, ' | ']\n"
     ]
    },
    {
     "name": "stderr",
     "output_type": "stream",
     "text": [
      "\n",
      "\n",
      "\n",
      "\n",
      " 29%|██▊       | 389/1358 [06:00<14:35,  1.11it/s]\u001b[A\u001b[A\u001b[A\u001b[A"
     ]
    },
    {
     "name": "stdout",
     "output_type": "stream",
     "text": [
      "замораживать ok\n",
      "no examples\n",
      "[389, 'freeze', 'замерзать', nan, nan, ' | ']\n"
     ]
    },
    {
     "name": "stderr",
     "output_type": "stream",
     "text": [
      "\n",
      "\n",
      "\n",
      "\n",
      " 29%|██▊       | 390/1358 [06:01<12:55,  1.25it/s]\u001b[A\u001b[A\u001b[A\u001b[A"
     ]
    },
    {
     "name": "stdout",
     "output_type": "stream",
     "text": [
      "замерзать ok\n",
      "no examples\n",
      "[390, 'freeze', 'замерзнуть', nan, nan, 'freeze over | ']\n"
     ]
    },
    {
     "name": "stderr",
     "output_type": "stream",
     "text": [
      "\n",
      "\n",
      "\n",
      "\n",
      " 29%|██▉       | 391/1358 [06:02<12:54,  1.25it/s]\u001b[A\u001b[A\u001b[A\u001b[A"
     ]
    },
    {
     "name": "stdout",
     "output_type": "stream",
     "text": [
      "замерзнуть ok\n",
      "no examples\n",
      "[391, 'freeze', 'застыть', nan, nan, ' | ']\n"
     ]
    },
    {
     "name": "stderr",
     "output_type": "stream",
     "text": [
      "\n",
      "\n",
      "\n",
      "\n",
      " 29%|██▉       | 392/1358 [06:02<11:28,  1.40it/s]\u001b[A\u001b[A\u001b[A\u001b[A\n",
      "\n",
      "\n",
      "\n",
      " 29%|██▉       | 393/1358 [06:02<08:58,  1.79it/s]\u001b[A\u001b[A\u001b[A\u001b[A"
     ]
    },
    {
     "name": "stdout",
     "output_type": "stream",
     "text": [
      "застыть ok\n",
      "no examples\n",
      "[392, 'freeze', 'замереть', nan, nan, ' | ']\n",
      "замереть ok\n",
      "no examples\n",
      "[393, 'freeze', 'приостановить', nan, nan, 'suspend | halt | pause | stall | shut down | ']\n"
     ]
    },
    {
     "name": "stderr",
     "output_type": "stream",
     "text": [
      "\n",
      "\n",
      "\n",
      "\n",
      " 29%|██▉       | 394/1358 [06:03<07:34,  2.12it/s]\u001b[A\u001b[A\u001b[A\u001b[A"
     ]
    },
    {
     "name": "stdout",
     "output_type": "stream",
     "text": [
      "приостановить ok\n",
      "no examples\n",
      "[394, 'freeze', 'зависать', nan, nan, 'hang | hover | ']\n"
     ]
    },
    {
     "name": "stderr",
     "output_type": "stream",
     "text": [
      "\n",
      "\n",
      "\n",
      "\n",
      " 29%|██▉       | 395/1358 [06:03<06:18,  2.54it/s]\u001b[A\u001b[A\u001b[A\u001b[A"
     ]
    },
    {
     "name": "stdout",
     "output_type": "stream",
     "text": [
      "зависать ok\n",
      "no examples\n",
      "[395, 'freeze', 'мерзнуть', nan, nan, ' | ']\n"
     ]
    },
    {
     "name": "stderr",
     "output_type": "stream",
     "text": [
      "\n",
      "\n",
      "\n",
      "\n",
      " 29%|██▉       | 396/1358 [06:03<06:29,  2.47it/s]\u001b[A\u001b[A\u001b[A\u001b[A"
     ]
    },
    {
     "name": "stdout",
     "output_type": "stream",
     "text": [
      "мерзнуть ok\n",
      "no examples\n",
      "[396, 'issue', 'вопрос', 'key issue|security issue|economic issue|political issue|', 'ключевой вопрос | вопрос безопасности | экономический вопрос | политический вопрос | ', 'question | matter | problem | affair | ']\n",
      "вопрос ok\n",
      "key issue ok\n",
      "security issue ok\n",
      "economic issue ok\n"
     ]
    },
    {
     "name": "stderr",
     "output_type": "stream",
     "text": [
      "\n",
      "\n",
      "\n",
      "\n",
      " 29%|██▉       | 397/1358 [06:06<17:51,  1.11s/it]\u001b[A\u001b[A\u001b[A\u001b[A"
     ]
    },
    {
     "name": "stdout",
     "output_type": "stream",
     "text": [
      "political issue ok\n",
      "[397, 'issue', 'проблема', 'global issue|environmental issue|social issue|serious issue|', 'глобальная проблема | экологическая проблема | социальная проблема | серьезная проблема | ', 'problem | challenge | concern | trouble | ']\n",
      "проблема ok\n",
      "global issue ok\n",
      "environmental issue ok\n",
      "social issue ok\n"
     ]
    },
    {
     "name": "stderr",
     "output_type": "stream",
     "text": [
      "\n",
      "\n",
      "\n",
      "\n",
      " 29%|██▉       | 398/1358 [06:09<26:13,  1.64s/it]\u001b[A\u001b[A\u001b[A\u001b[A"
     ]
    },
    {
     "name": "stdout",
     "output_type": "stream",
     "text": [
      "serious issue ok\n",
      "[398, 'issue', 'выпуск', 'bond issue|special issue|next issue|first issue|', 'выпуск облигаций | специальный выпуск | следующий выпуск | первый выпуск | ', 'release | production | edition | issuance | output | graduation | release note | ']\n",
      "выпуск ok\n",
      "bond issue ok\n",
      "special issue ok\n",
      "next issue ok\n"
     ]
    },
    {
     "name": "stderr",
     "output_type": "stream",
     "text": [
      "\n",
      "\n",
      "\n",
      "\n",
      " 29%|██▉       | 399/1358 [06:12<31:34,  1.98s/it]\u001b[A\u001b[A\u001b[A\u001b[A"
     ]
    },
    {
     "name": "stdout",
     "output_type": "stream",
     "text": [
      "first issue ok\n",
      "[399, 'issue', 'тема', 'priority issue|global hot-button issue|', 'приоритетные темы | глобальной темой | ', 'theme | topic | subject | ']\n",
      "тема ok\n",
      "priority issue ok\n"
     ]
    },
    {
     "name": "stderr",
     "output_type": "stream",
     "text": [
      "\n",
      "\n",
      "\n",
      "\n",
      " 29%|██▉       | 400/1358 [06:14<32:25,  2.03s/it]\u001b[A\u001b[A\u001b[A\u001b[A"
     ]
    },
    {
     "name": "stdout",
     "output_type": "stream",
     "text": [
      "global hot-button issue ok\n",
      "[400, 'issue', 'задача', 'short term issues|foreign - policy issue|current issue|emerging issue|', 'сиюминутные задачи | внешнеполитическая задача | актуальные задачи | новая задача | ', 'task | challenge | problem | goal | mission | objective | job | purpose | ']\n",
      "задача ok\n",
      "short term issues ok\n",
      "foreign - policy issue ok\n",
      "current issue ok\n"
     ]
    },
    {
     "name": "stderr",
     "output_type": "stream",
     "text": [
      "\n",
      "\n",
      "\n",
      "\n",
      " 30%|██▉       | 401/1358 [06:16<33:54,  2.13s/it]\u001b[A\u001b[A\u001b[A\u001b[A"
     ]
    },
    {
     "name": "stdout",
     "output_type": "stream",
     "text": [
      "emerging issue ok\n",
      "[401, 'issue', 'издавать', 'to issue a fatwa|', 'издавать фетву | ', 'publish | release | publish | ']\n",
      "издавать ok\n"
     ]
    },
    {
     "name": "stderr",
     "output_type": "stream",
     "text": [
      "\n",
      "\n",
      "\n",
      "\n",
      " 30%|██▉       | 402/1358 [06:17<27:22,  1.72s/it]\u001b[A\u001b[A\u001b[A\u001b[A"
     ]
    },
    {
     "name": "stdout",
     "output_type": "stream",
     "text": [
      "to issue a fatwa ok\n",
      "[402, 'issue', 'выдать', 'to issue a warning|', 'выдать предупреждение | ', 'extradite | hand over | grant | betray | give out | print | ']\n",
      "выдать ok\n"
     ]
    },
    {
     "name": "stderr",
     "output_type": "stream",
     "text": [
      "\n",
      "\n",
      "\n",
      "\n",
      " 30%|██▉       | 403/1358 [06:18<23:44,  1.49s/it]\u001b[A\u001b[A\u001b[A\u001b[A"
     ]
    },
    {
     "name": "stdout",
     "output_type": "stream",
     "text": [
      "to issue a warning ok\n",
      "[403, 'issue', 'выпустить', nan, nan, 'release | fire | produce | launch | publish | let out | release | ']\n"
     ]
    },
    {
     "name": "stderr",
     "output_type": "stream",
     "text": [
      "\n",
      "\n",
      "\n",
      "\n",
      " 30%|██▉       | 404/1358 [06:19<20:43,  1.30s/it]\u001b[A\u001b[A\u001b[A\u001b[A"
     ]
    },
    {
     "name": "stdout",
     "output_type": "stream",
     "text": [
      "выпустить ok\n",
      "no examples\n",
      "[404, 'issue', 'опубликовать', 'to issue a report|to issue a hit list|', 'опубликовать доклад | опубликовать черный список | ', 'publish | release | post | ']\n",
      "опубликовать ok\n",
      "to issue a report ok\n"
     ]
    },
    {
     "name": "stderr",
     "output_type": "stream",
     "text": [
      "\n",
      "\n",
      "\n",
      "\n",
      " 30%|██▉       | 405/1358 [06:21<24:07,  1.52s/it]\u001b[A\u001b[A\u001b[A\u001b[A"
     ]
    },
    {
     "name": "stdout",
     "output_type": "stream",
     "text": [
      "to issue a hit list ok\n",
      "[405, 'issue', 'выдавать', nan, nan, 'give out | betray | lend out | grant | extradite | hand over | disguise | ']\n"
     ]
    },
    {
     "name": "stderr",
     "output_type": "stream",
     "text": [
      "\n",
      "\n",
      "\n",
      "\n",
      " 30%|██▉       | 406/1358 [06:21<18:19,  1.16s/it]\u001b[A\u001b[A\u001b[A\u001b[A"
     ]
    },
    {
     "name": "stdout",
     "output_type": "stream",
     "text": [
      "выдавать ok\n",
      "no examples\n",
      "[406, 'issue', 'вынести', nan, nan, 'deliver | bear | convict | rule | hand down | endure | pronounce | render | ']\n"
     ]
    },
    {
     "name": "stderr",
     "output_type": "stream",
     "text": [
      "\n",
      "\n",
      "\n",
      "\n",
      " 30%|██▉       | 407/1358 [06:22<15:15,  1.04it/s]\u001b[A\u001b[A\u001b[A\u001b[A"
     ]
    },
    {
     "name": "stdout",
     "output_type": "stream",
     "text": [
      "вынести ok\n",
      "no examples\n",
      "[407, 'issue', 'выпускать', nan, nan, 'produce | release | manufacture | let out | release | graduate | manufacture | roll out | ']\n"
     ]
    },
    {
     "name": "stderr",
     "output_type": "stream",
     "text": [
      "\n",
      "\n",
      "\n",
      "\n",
      " 30%|███       | 408/1358 [06:22<12:09,  1.30it/s]\u001b[A\u001b[A\u001b[A\u001b[A"
     ]
    },
    {
     "name": "stdout",
     "output_type": "stream",
     "text": [
      "выпускать ok\n",
      "no examples\n",
      "[408, 'issue', 'распространить', nan, nan, 'distribute | spread | extend | release | circulate | disseminate | distribute | propagate | ']\n"
     ]
    },
    {
     "name": "stderr",
     "output_type": "stream",
     "text": [
      "\n",
      "\n",
      "\n",
      "\n",
      " 30%|███       | 409/1358 [06:22<10:45,  1.47it/s]\u001b[A\u001b[A\u001b[A\u001b[A"
     ]
    },
    {
     "name": "stdout",
     "output_type": "stream",
     "text": [
      "распространить ok\n",
      "no examples\n",
      "[409, 'issue', 'выступить', nan, nan, 'speak | perform | act | deliver | address | come out | speak out | come up | ']\n"
     ]
    },
    {
     "name": "stderr",
     "output_type": "stream",
     "text": [
      "\n",
      "\n",
      "\n",
      "\n",
      " 30%|███       | 410/1358 [06:23<09:05,  1.74it/s]\u001b[A\u001b[A\u001b[A\u001b[A"
     ]
    },
    {
     "name": "stdout",
     "output_type": "stream",
     "text": [
      "выступить ok\n",
      "no examples\n",
      "[410, 'parent', 'родительский', nan, nan, 'parental | ']\n"
     ]
    },
    {
     "name": "stderr",
     "output_type": "stream",
     "text": [
      "\n",
      "\n",
      "\n",
      "\n",
      " 30%|███       | 411/1358 [06:24<11:07,  1.42it/s]\u001b[A\u001b[A\u001b[A\u001b[A"
     ]
    },
    {
     "name": "stdout",
     "output_type": "stream",
     "text": [
      "родительский ok\n",
      "no examples\n",
      "[411, 'parent', 'родитель', 'genetic parents|Poor parent|American parents|young parent|', 'генетические родители | бедные родители | американские родители | молодые родители | ', ' | ']\n",
      "родитель ok\n",
      "genetic parents ok\n",
      "Poor parent ok\n",
      "American parents ok\n"
     ]
    },
    {
     "name": "stderr",
     "output_type": "stream",
     "text": [
      "\n",
      "\n",
      "\n",
      "\n",
      " 30%|███       | 412/1358 [06:26<17:35,  1.12s/it]\u001b[A\u001b[A\u001b[A\u001b[A"
     ]
    },
    {
     "name": "stdout",
     "output_type": "stream",
     "text": [
      "young parent ok\n",
      "[412, 'member', 'член', 'family member|eu member|IMU member|member of parliament|', 'член семьи | член ЕС | член иду | член парламента | ', 'membership | ']\n",
      "член ok\n",
      "family member ok\n",
      "eu member ok\n",
      "IMU member ok\n"
     ]
    },
    {
     "name": "stderr",
     "output_type": "stream",
     "text": [
      "\n",
      "\n",
      "\n",
      "\n",
      " 30%|███       | 413/1358 [06:28<22:26,  1.42s/it]\u001b[A\u001b[A\u001b[A\u001b[A"
     ]
    },
    {
     "name": "stdout",
     "output_type": "stream",
     "text": [
      "member of parliament ok\n",
      "[413, 'member', 'участник', 'party member|system member|program member|active member|', 'участник отряда | участник системы | участник программы | активный участник | ', 'participant | attendee | user | exhibitor | player | actor | ']\n",
      "участник ok\n",
      "party member ok\n",
      "system member ok\n",
      "program member ok\n"
     ]
    },
    {
     "name": "stderr",
     "output_type": "stream",
     "text": [
      "\n",
      "\n",
      "\n",
      "\n",
      " 30%|███       | 414/1358 [06:31<29:43,  1.89s/it]\u001b[A\u001b[A\u001b[A\u001b[A"
     ]
    },
    {
     "name": "stdout",
     "output_type": "stream",
     "text": [
      "active member ok\n",
      "[414, 'band', 'группа', 'relatively small band|gothic band|classic band|music band|', 'небольшая группа | готической группы | классические группы | музыкальная группа | ', 'group | team | ']\n",
      "группа ok\n",
      "relatively small band ok\n",
      "gothic band ok\n",
      "classic band ok\n"
     ]
    },
    {
     "name": "stderr",
     "output_type": "stream",
     "text": [
      "\n",
      "\n",
      "\n",
      "\n",
      " 31%|███       | 415/1358 [06:34<32:50,  2.09s/it]\u001b[A\u001b[A\u001b[A\u001b[A"
     ]
    },
    {
     "name": "stdout",
     "output_type": "stream",
     "text": [
      "music band ok\n",
      "[415, 'band', 'полоса', 'blues band|', 'синяя полоса | ', 'strip | stripe | lane | streak | swath | belt | bandwidth | ']\n",
      "полоса ok\n"
     ]
    },
    {
     "name": "stderr",
     "output_type": "stream",
     "text": [
      "\n",
      "\n",
      "\n",
      "\n",
      " 31%|███       | 416/1358 [06:34<26:26,  1.68s/it]\u001b[A\u001b[A\u001b[A\u001b[A"
     ]
    },
    {
     "name": "stdout",
     "output_type": "stream",
     "text": [
      "blues band ok\n",
      "[416, 'band', 'диапазон', 'broad band|frequency band|noise band|', 'широкий диапазон | частотный диапазон | диапазона шума | ', 'range | spectrum | scope | ']\n",
      "диапазон ok\n",
      "broad band ok\n",
      "frequency band ok\n"
     ]
    },
    {
     "name": "stderr",
     "output_type": "stream",
     "text": [
      "\n",
      "\n",
      "\n",
      "\n",
      " 31%|███       | 417/1358 [06:36<25:18,  1.61s/it]\u001b[A\u001b[A\u001b[A\u001b[A"
     ]
    },
    {
     "name": "stdout",
     "output_type": "stream",
     "text": [
      "noise band ok\n",
      "[417, 'band', 'коллектив', 'italian band|', 'итальянский коллектив | ', 'team | collective | staff | ensemble | ']\n",
      "коллектив ok\n"
     ]
    },
    {
     "name": "stderr",
     "output_type": "stream",
     "text": [
      "\n",
      "\n",
      "\n",
      "\n",
      " 31%|███       | 418/1358 [06:37<21:40,  1.38s/it]\u001b[A\u001b[A\u001b[A\u001b[A"
     ]
    },
    {
     "name": "stdout",
     "output_type": "stream",
     "text": [
      "italian band ok\n",
      "[418, 'band', 'банда', 'armed band|band of thug|', 'вооруженная банда | банда погромщиков | ', 'gang | ring | ']\n",
      "банда ok\n",
      "armed band ok\n"
     ]
    },
    {
     "name": "stderr",
     "output_type": "stream",
     "text": [
      "\n",
      "\n",
      "\n",
      "\n",
      " 31%|███       | 419/1358 [06:39<26:52,  1.72s/it]\u001b[A\u001b[A\u001b[A\u001b[A"
     ]
    },
    {
     "name": "stdout",
     "output_type": "stream",
     "text": [
      "band of thug ok\n",
      "[419, 'band', 'лента', 'elastic band|steel band|broad rubber band|', 'резиновая лента | стальной ленты | широкую резиновую ленту | ', 'tape | ribbon | belt | feed | strip | stripe | ']\n",
      "лента ok\n",
      "elastic band ok\n",
      "steel band ok\n"
     ]
    },
    {
     "name": "stderr",
     "output_type": "stream",
     "text": [
      "\n",
      "\n",
      "\n",
      "\n",
      " 31%|███       | 420/1358 [06:41<26:28,  1.69s/it]\u001b[A\u001b[A\u001b[A\u001b[A"
     ]
    },
    {
     "name": "stdout",
     "output_type": "stream",
     "text": [
      "broad rubber band ok\n",
      "[420, 'band', 'оркестр', \"brass band|school's marching band|army band|\", 'духового оркестра | школьный оркестр | армейского оркестра | ', 'orchestra | ']\n",
      "оркестр ok\n",
      "brass band ok\n",
      "school's marching band ok\n"
     ]
    },
    {
     "name": "stderr",
     "output_type": "stream",
     "text": [
      "\n",
      "\n",
      "\n",
      "\n",
      " 31%|███       | 421/1358 [06:43<29:21,  1.88s/it]\u001b[A\u001b[A\u001b[A\u001b[A"
     ]
    },
    {
     "name": "stdout",
     "output_type": "stream",
     "text": [
      "army band ok\n",
      "[421, 'band', 'ансамбль', nan, nan, 'ensemble | choir | musician | ']\n"
     ]
    },
    {
     "name": "stderr",
     "output_type": "stream",
     "text": [
      "\n",
      "\n",
      "\n",
      "\n",
      " 31%|███       | 422/1358 [06:44<22:52,  1.47s/it]\u001b[A\u001b[A\u001b[A\u001b[A"
     ]
    },
    {
     "name": "stdout",
     "output_type": "stream",
     "text": [
      "ансамбль ok\n",
      "no examples\n",
      "[422, 'order', 'заказ', 'individual order|special order|export order|initial order|', 'индивидуальный заказ | специальный заказ | экспортные заказы | начального заказа | ', 'reservation | booking | search | contract | request | ']\n",
      "заказ ok\n",
      "individual order ok\n",
      "special order ok\n",
      "export order ok\n"
     ]
    },
    {
     "name": "stderr",
     "output_type": "stream",
     "text": [
      "\n",
      "\n",
      "\n",
      "\n",
      " 31%|███       | 423/1358 [06:46<28:08,  1.81s/it]\u001b[A\u001b[A\u001b[A\u001b[A"
     ]
    },
    {
     "name": "stdout",
     "output_type": "stream",
     "text": [
      "initial order ok\n",
      "[423, 'order', 'порядок', 'public order|world order|international order|liberal order|', 'общественный порядок | мировой порядок | международный порядок | либеральный порядок | ', 'procedure | sequence | formation | ']\n",
      "порядок ok\n",
      "public order ok\n",
      "world order ok\n",
      "international order ok\n"
     ]
    },
    {
     "name": "stderr",
     "output_type": "stream",
     "text": [
      "\n",
      "\n",
      "\n",
      "\n",
      " 31%|███       | 424/1358 [06:48<28:46,  1.85s/it]\u001b[A\u001b[A\u001b[A\u001b[A"
     ]
    },
    {
     "name": "stdout",
     "output_type": "stream",
     "text": [
      "liberal order ok\n",
      "[424, 'order', 'приказ', 'limit order|mental order|government order|court order|', 'ограниченный приказ | мысленный приказ | приказ правительства | судебные приказы | ', 'directive | writ | decree | ']\n",
      "приказ ok\n",
      "limit order ok\n",
      "mental order ok\n",
      "government order ok\n"
     ]
    },
    {
     "name": "stderr",
     "output_type": "stream",
     "text": [
      "\n",
      "\n",
      "\n",
      "\n",
      " 31%|███▏      | 425/1358 [06:51<32:35,  2.10s/it]\u001b[A\u001b[A\u001b[A\u001b[A"
     ]
    },
    {
     "name": "stdout",
     "output_type": "stream",
     "text": [
      "court order ok\n",
      "[425, 'order', 'ордер', 'pending order|market order|open order|', 'отложенный ордер | рыночный ордер | открытый ордер | ', 'warrant | order execution | arrest warrant | ']\n",
      "ордер ok\n",
      "pending order ok\n",
      "market order ok\n"
     ]
    },
    {
     "name": "stderr",
     "output_type": "stream",
     "text": [
      "\n",
      "\n",
      "\n",
      "\n",
      " 31%|███▏      | 426/1358 [06:52<28:00,  1.80s/it]\u001b[A\u001b[A\u001b[A\u001b[A"
     ]
    },
    {
     "name": "stdout",
     "output_type": "stream",
     "text": [
      "open order ok\n",
      "[426, 'order', 'орден', 'religious order|teutonic order|Order of the Red Star|', 'религиозный орден | Тевтонский Орден | орденом Красной Звезды | ', 'medal | badge | ']\n",
      "орден ok\n",
      "religious order ok\n",
      "teutonic order ok\n"
     ]
    },
    {
     "name": "stderr",
     "output_type": "stream",
     "text": [
      "\n",
      "\n",
      "\n",
      "\n",
      " 31%|███▏      | 427/1358 [06:53<26:34,  1.71s/it]\u001b[A\u001b[A\u001b[A\u001b[A"
     ]
    },
    {
     "name": "stdout",
     "output_type": "stream",
     "text": [
      "Order of the Red Star ok\n",
      "[427, 'order', 'распоряжение', 'full order|', 'полное распоряжение | ', 'disposal | directive | instruction | possession | ']\n",
      "распоряжение ok\n"
     ]
    },
    {
     "name": "stderr",
     "output_type": "stream",
     "text": [
      "\n",
      "\n",
      "\n",
      "\n",
      " 32%|███▏      | 428/1358 [06:54<23:31,  1.52s/it]\u001b[A\u001b[A\u001b[A\u001b[A"
     ]
    },
    {
     "name": "stdout",
     "output_type": "stream",
     "text": [
      "full order ok\n",
      "[428, 'order', 'поручение', 'money order|order for collection|', 'платежное поручение | инкассовое поручение | ', 'assignment | instruction | mandate | errand | ']\n",
      "поручение ok\n",
      "money order ok\n"
     ]
    },
    {
     "name": "stderr",
     "output_type": "stream",
     "text": [
      "\n",
      "\n",
      "\n",
      "\n",
      " 32%|███▏      | 429/1358 [06:56<25:00,  1.62s/it]\u001b[A\u001b[A\u001b[A\u001b[A"
     ]
    },
    {
     "name": "stdout",
     "output_type": "stream",
     "text": [
      "order for collection ok\n",
      "[429, 'order', 'постановление', 'restraining order|Supreme Court order|', 'постановление суда | постановление верховного суда | ', 'resolution | decree | decision | regulation | ruling | ordinance | directive | ']\n",
      "постановление ok\n",
      "restraining order ok\n"
     ]
    },
    {
     "name": "stderr",
     "output_type": "stream",
     "text": [
      "\n",
      "\n",
      "\n",
      "\n",
      " 32%|███▏      | 430/1358 [06:57<22:47,  1.47s/it]\u001b[A\u001b[A\u001b[A\u001b[A"
     ]
    },
    {
     "name": "stdout",
     "output_type": "stream",
     "text": [
      "Supreme Court order ok\n",
      "[430, 'order', 'перевод', nan, nan, 'translation | transfer | interpretation | transaction | remittance | ']\n"
     ]
    },
    {
     "name": "stderr",
     "output_type": "stream",
     "text": [
      "\n",
      "\n",
      "\n",
      "\n",
      " 32%|███▏      | 431/1358 [06:58<17:04,  1.10s/it]\u001b[A\u001b[A\u001b[A\u001b[A"
     ]
    },
    {
     "name": "stdout",
     "output_type": "stream",
     "text": [
      "перевод ok\n",
      "no examples\n",
      "[431, 'order', 'заказать', 'to order roast beef|to order room service|to order additional equipment|to order a portrait|', 'заказать ростбиф | заказать обслуживание номеров | заказать дополнительно оборудование | заказать портрет | ', 'enjoy | book | serve | reserve | arrange | request | commission | ']\n",
      "заказать ok\n",
      "to order roast beef ok\n",
      "to order room service ok\n",
      "to order additional equipment ok\n"
     ]
    },
    {
     "name": "stderr",
     "output_type": "stream",
     "text": [
      "\n",
      "\n",
      "\n",
      "\n",
      " 32%|███▏      | 432/1358 [07:01<26:25,  1.71s/it]\u001b[A\u001b[A\u001b[A\u001b[A"
     ]
    },
    {
     "name": "stdout",
     "output_type": "stream",
     "text": [
      "to order a portrait ok\n",
      "[432, 'order', 'приказать', 'to order police|to order the Army|to order all opponents|to order authorities|', 'приказать полиции | приказать армии | приказать всем противникам | приказать властям | ', 'direct | instruct | ']\n",
      "приказать ok\n",
      "to order police ok\n",
      "to order the Army ok\n",
      "to order all opponents ok\n"
     ]
    },
    {
     "name": "stderr",
     "output_type": "stream",
     "text": [
      "\n",
      "\n",
      "\n",
      "\n",
      " 32%|███▏      | 433/1358 [07:03<29:09,  1.89s/it]\u001b[A\u001b[A\u001b[A\u001b[A"
     ]
    },
    {
     "name": "stdout",
     "output_type": "stream",
     "text": [
      "to order authorities ok\n",
      "[433, 'order', 'поручить', 'to order the government|to order officials|to order law enforcement agencies|', 'поручить правительству | поручить чиновникам | поручить правоохранительным органам | ', 'direct | instruct | assign | entrust | task | mandate | commission | ']\n",
      "поручить ok\n",
      "to order the government ok\n",
      "to order officials ok\n"
     ]
    },
    {
     "name": "stderr",
     "output_type": "stream",
     "text": [
      "\n",
      "\n",
      "\n",
      "\n",
      " 32%|███▏      | 434/1358 [07:06<32:31,  2.11s/it]\u001b[A\u001b[A\u001b[A\u001b[A"
     ]
    },
    {
     "name": "stdout",
     "output_type": "stream",
     "text": [
      "to order law enforcement agencies ok\n",
      "[434, 'order', 'заказывать', nan, nan, 'book | ']\n"
     ]
    },
    {
     "name": "stderr",
     "output_type": "stream",
     "text": [
      "\n",
      "\n",
      "\n",
      "\n",
      " 32%|███▏      | 435/1358 [07:06<24:07,  1.57s/it]\u001b[A\u001b[A\u001b[A\u001b[A"
     ]
    },
    {
     "name": "stdout",
     "output_type": "stream",
     "text": [
      "заказывать ok\n",
      "no examples\n",
      "[435, 'order', 'распорядиться', nan, nan, 'authorize | ']\n"
     ]
    },
    {
     "name": "stderr",
     "output_type": "stream",
     "text": [
      "\n",
      "\n",
      "\n",
      "\n",
      " 32%|███▏      | 436/1358 [07:06<19:06,  1.24s/it]\u001b[A\u001b[A\u001b[A\u001b[A"
     ]
    },
    {
     "name": "stdout",
     "output_type": "stream",
     "text": [
      "распорядиться ok\n",
      "no examples\n",
      "[436, 'order', 'постановить', nan, nan, 'rule | decide | direct | decree | affirm | ']\n"
     ]
    },
    {
     "name": "stderr",
     "output_type": "stream",
     "text": [
      "\n",
      "\n",
      "\n",
      "\n",
      " 32%|███▏      | 437/1358 [07:07<16:11,  1.06s/it]\u001b[A\u001b[A\u001b[A\u001b[A"
     ]
    },
    {
     "name": "stdout",
     "output_type": "stream",
     "text": [
      "постановить ok\n",
      "no examples\n",
      "[437, 'order', 'предписать', nan, nan, 'direct | prescribe | enforce | ']\n"
     ]
    },
    {
     "name": "stderr",
     "output_type": "stream",
     "text": [
      "\n",
      "\n",
      "\n",
      "\n",
      " 32%|███▏      | 438/1358 [07:07<12:55,  1.19it/s]\u001b[A\u001b[A\u001b[A\u001b[A"
     ]
    },
    {
     "name": "stdout",
     "output_type": "stream",
     "text": [
      "предписать ok\n",
      "no examples\n",
      "[438, 'order', 'обязать', nan, nan, 'owe | oblige | must | have to | commit | should | ']\n"
     ]
    },
    {
     "name": "stderr",
     "output_type": "stream",
     "text": [
      "\n",
      "\n",
      "\n",
      "\n",
      " 32%|███▏      | 439/1358 [07:08<10:49,  1.41it/s]\u001b[A\u001b[A\u001b[A\u001b[A"
     ]
    },
    {
     "name": "stdout",
     "output_type": "stream",
     "text": [
      "обязать ok\n",
      "no examples\n",
      "[439, 'order', 'потребовать', nan, nan, 'demand | require | seek | request | incur | demand | ']\n"
     ]
    },
    {
     "name": "stderr",
     "output_type": "stream",
     "text": [
      "\n",
      "\n",
      "\n",
      "\n",
      " 32%|███▏      | 440/1358 [07:08<08:51,  1.73it/s]\u001b[A\u001b[A\u001b[A\u001b[A"
     ]
    },
    {
     "name": "stdout",
     "output_type": "stream",
     "text": [
      "потребовать ok\n",
      "no examples\n",
      "[440, 'hot', 'горячий', nan, nan, 'warm | heated | ardent | ']\n"
     ]
    },
    {
     "name": "stderr",
     "output_type": "stream",
     "text": [
      "\n",
      "\n",
      "\n",
      "\n",
      " 32%|███▏      | 441/1358 [07:09<08:23,  1.82it/s]\u001b[A\u001b[A\u001b[A\u001b[A"
     ]
    },
    {
     "name": "stdout",
     "output_type": "stream",
     "text": [
      "горячий ok\n",
      "no examples\n",
      "[441, 'hot', 'гидромассажный', nan, nan, ' | ']\n"
     ]
    },
    {
     "name": "stderr",
     "output_type": "stream",
     "text": [
      "\n",
      "\n",
      "\n",
      "\n",
      " 33%|███▎      | 442/1358 [07:09<09:19,  1.64it/s]\u001b[A\u001b[A\u001b[A\u001b[A"
     ]
    },
    {
     "name": "stdout",
     "output_type": "stream",
     "text": [
      "гидромассажный ok\n",
      "no examples\n",
      "[442, 'hot', 'жаркий', nan, nan, 'heated | fierce | fervent | ']\n"
     ]
    },
    {
     "name": "stderr",
     "output_type": "stream",
     "text": [
      "\n",
      "\n",
      "\n",
      "\n",
      " 33%|███▎      | 443/1358 [07:10<07:51,  1.94it/s]\u001b[A\u001b[A\u001b[A\u001b[A"
     ]
    },
    {
     "name": "stdout",
     "output_type": "stream",
     "text": [
      "жаркий ok\n",
      "no examples\n",
      "[443, 'hot', 'теплый', nan, nan, 'warm | ']\n"
     ]
    },
    {
     "name": "stderr",
     "output_type": "stream",
     "text": [
      "\n",
      "\n",
      "\n",
      "\n",
      " 33%|███▎      | 444/1358 [07:10<06:55,  2.20it/s]\u001b[A\u001b[A\u001b[A\u001b[A"
     ]
    },
    {
     "name": "stdout",
     "output_type": "stream",
     "text": [
      "теплый ok\n",
      "no examples\n",
      "[444, 'fly', 'муха', 'fruit fly|long-probosced fly|', 'фруктовая муха | длиннохоботковая муха | ', ' | ']\n",
      "муха ok\n",
      "fruit fly ok\n"
     ]
    },
    {
     "name": "stderr",
     "output_type": "stream",
     "text": [
      "\n",
      "\n",
      "\n",
      "\n",
      " 33%|███▎      | 445/1358 [07:12<12:38,  1.20it/s]\u001b[A\u001b[A\u001b[A\u001b[A"
     ]
    },
    {
     "name": "stdout",
     "output_type": "stream",
     "text": [
      "long-probosced fly ok\n",
      "[445, 'fly', 'мушка', nan, nan, ' | ']\n"
     ]
    },
    {
     "name": "stderr",
     "output_type": "stream",
     "text": [
      "\n",
      "\n",
      "\n",
      "\n",
      " 33%|███▎      | 446/1358 [07:12<10:10,  1.49it/s]\u001b[A\u001b[A\u001b[A\u001b[A"
     ]
    },
    {
     "name": "stdout",
     "output_type": "stream",
     "text": [
      "мушка ok\n",
      "no examples\n",
      "[446, 'fly', 'летать', nan, nan, 'fly around | navigate | fly too | ']\n"
     ]
    },
    {
     "name": "stderr",
     "output_type": "stream",
     "text": [
      "\n",
      "\n",
      "\n",
      "\n",
      " 33%|███▎      | 447/1358 [07:12<08:26,  1.80it/s]\u001b[A\u001b[A\u001b[A\u001b[A"
     ]
    },
    {
     "name": "stdout",
     "output_type": "stream",
     "text": [
      "летать ok\n",
      "no examples\n",
      "[447, 'fly', 'лететь', nan, nan, 'travel | ']\n"
     ]
    },
    {
     "name": "stderr",
     "output_type": "stream",
     "text": [
      "\n",
      "\n",
      "\n",
      "\n",
      " 33%|███▎      | 448/1358 [07:12<06:50,  2.22it/s]\u001b[A\u001b[A\u001b[A\u001b[A"
     ]
    },
    {
     "name": "stdout",
     "output_type": "stream",
     "text": [
      "лететь ok\n",
      "no examples\n",
      "[448, 'fly', 'вылететь', nan, nan, 'take off | fly out | shatter | depart | ']\n"
     ]
    },
    {
     "name": "stderr",
     "output_type": "stream",
     "text": [
      "\n",
      "\n",
      "\n",
      "\n",
      " 33%|███▎      | 449/1358 [07:13<05:47,  2.62it/s]\u001b[A\u001b[A\u001b[A\u001b[A"
     ]
    },
    {
     "name": "stdout",
     "output_type": "stream",
     "text": [
      "вылететь ok\n",
      "no examples\n",
      "[449, 'fly', 'полететь', nan, nan, 'depart | ']\n"
     ]
    },
    {
     "name": "stderr",
     "output_type": "stream",
     "text": [
      "\n",
      "\n",
      "\n",
      "\n",
      " 33%|███▎      | 450/1358 [07:13<05:15,  2.88it/s]\u001b[A\u001b[A\u001b[A\u001b[A"
     ]
    },
    {
     "name": "stdout",
     "output_type": "stream",
     "text": [
      "полететь ok\n",
      "no examples\n",
      "[450, 'fly', 'пролететь', nan, nan, 'fly by | ']\n"
     ]
    },
    {
     "name": "stderr",
     "output_type": "stream",
     "text": [
      "\n",
      "\n",
      "\n",
      "\n",
      " 33%|███▎      | 451/1358 [07:13<05:24,  2.80it/s]\u001b[A\u001b[A\u001b[A\u001b[A"
     ]
    },
    {
     "name": "stdout",
     "output_type": "stream",
     "text": [
      "пролететь ok\n",
      "no examples\n",
      "[451, 'fly', 'прилетать', nan, nan, 'arrive | show up | ']\n"
     ]
    },
    {
     "name": "stderr",
     "output_type": "stream",
     "text": [
      "\n",
      "\n",
      "\n",
      "\n",
      " 33%|███▎      | 452/1358 [07:14<05:54,  2.55it/s]\u001b[A\u001b[A\u001b[A\u001b[A"
     ]
    },
    {
     "name": "stdout",
     "output_type": "stream",
     "text": [
      "прилетать ok\n",
      "no examples\n",
      "[452, 'fly', 'пролетать', nan, nan, 'go around | ']\n"
     ]
    },
    {
     "name": "stderr",
     "output_type": "stream",
     "text": [
      "\n",
      "\n",
      "\n",
      "\n",
      " 33%|███▎      | 453/1358 [07:14<05:15,  2.87it/s]\u001b[A\u001b[A\u001b[A\u001b[A"
     ]
    },
    {
     "name": "stdout",
     "output_type": "stream",
     "text": [
      "пролетать ok\n",
      "no examples\n",
      "[453, 'fly', 'взлететь', nan, nan, 'soar | take off | fly up | fly out | ']\n"
     ]
    },
    {
     "name": "stderr",
     "output_type": "stream",
     "text": [
      "\n",
      "\n",
      "\n",
      "\n",
      " 33%|███▎      | 454/1358 [07:15<06:32,  2.30it/s]\u001b[A\u001b[A\u001b[A\u001b[A"
     ]
    },
    {
     "name": "stdout",
     "output_type": "stream",
     "text": [
      "взлететь ok\n",
      "no examples\n",
      "[454, 'fly', 'вылетать', nan, nan, 'depart | take off | ']\n"
     ]
    },
    {
     "name": "stderr",
     "output_type": "stream",
     "text": [
      "\n",
      "\n",
      "\n",
      "\n",
      " 34%|███▎      | 455/1358 [07:15<06:03,  2.48it/s]\u001b[A\u001b[A\u001b[A\u001b[A"
     ]
    },
    {
     "name": "stdout",
     "output_type": "stream",
     "text": [
      "вылетать ok\n",
      "no examples\n",
      "[455, 'lie', 'ложь', 'usual lie|deliberate lie|shameless lies|', 'обычной ложью | заведомая ложь | беспардонная ложь | ', 'lodge | falsehood | pious lie | ']\n",
      "ложь ok\n",
      "usual lie ok\n",
      "deliberate lie ok\n"
     ]
    },
    {
     "name": "stderr",
     "output_type": "stream",
     "text": [
      "\n",
      "\n",
      "\n",
      "\n",
      " 34%|███▎      | 456/1358 [07:18<18:27,  1.23s/it]\u001b[A\u001b[A\u001b[A\u001b[A"
     ]
    },
    {
     "name": "stdout",
     "output_type": "stream",
     "text": [
      "shameless lies ok\n",
      "[456, 'lie', 'лжи', nan, nan, 'falsehood | mendacity | liar | ']\n"
     ]
    },
    {
     "name": "stderr",
     "output_type": "stream",
     "text": [
      "\n",
      "\n",
      "\n",
      "\n",
      " 34%|███▎      | 457/1358 [07:19<14:45,  1.02it/s]\u001b[A\u001b[A\u001b[A\u001b[A"
     ]
    },
    {
     "name": "stdout",
     "output_type": "stream",
     "text": [
      "лжи ok\n",
      "no examples\n",
      "[457, 'lie', 'неправда', nan, nan, 'untruth | crook | ']\n"
     ]
    },
    {
     "name": "stderr",
     "output_type": "stream",
     "text": [
      "\n",
      "\n",
      "\n",
      "\n",
      " 34%|███▎      | 458/1358 [07:20<16:07,  1.08s/it]\u001b[A\u001b[A\u001b[A\u001b[A"
     ]
    },
    {
     "name": "stdout",
     "output_type": "stream",
     "text": [
      "неправда ok\n",
      "no examples\n",
      "[458, 'lie', 'вранье', nan, nan, 'bullshit | bunk | ']\n"
     ]
    },
    {
     "name": "stderr",
     "output_type": "stream",
     "text": [
      "\n",
      "\n",
      "\n",
      "\n",
      " 34%|███▍      | 459/1358 [07:20<12:35,  1.19it/s]\u001b[A\u001b[A\u001b[A\u001b[A"
     ]
    },
    {
     "name": "stdout",
     "output_type": "stream",
     "text": [
      "вранье ok\n",
      "no examples\n",
      "[459, 'lie', 'залог', nan, nan, 'bail | deposit | collateral | pledge | guarantee | security deposit | keystone | pawn | ']\n"
     ]
    },
    {
     "name": "stderr",
     "output_type": "stream",
     "text": [
      "\n",
      "\n",
      "\n",
      "\n",
      " 34%|███▍      | 460/1358 [07:22<15:17,  1.02s/it]\u001b[A\u001b[A\u001b[A\u001b[A"
     ]
    },
    {
     "name": "stdout",
     "output_type": "stream",
     "text": [
      "залог ok\n",
      "no examples\n",
      "[460, 'lie', 'лежать', 'to lie somewhere|to lie solely|to lie in the advanced countries|', 'лежать где-то | лежать целиком | лежать на развитых странах | ', 'lay | underlie | belong | lie there | underpin | rest | bear | ']\n",
      "лежать ok\n",
      "to lie somewhere ok\n",
      "to lie solely ok\n"
     ]
    },
    {
     "name": "stderr",
     "output_type": "stream",
     "text": [
      "\n",
      "\n",
      "\n",
      "\n",
      " 34%|███▍      | 461/1358 [07:23<16:57,  1.13s/it]\u001b[A\u001b[A\u001b[A\u001b[A"
     ]
    },
    {
     "name": "stdout",
     "output_type": "stream",
     "text": [
      "to lie in the advanced countries ok\n",
      "[461, 'lie', 'находиться', nan, nan, 'locate | set | find | situate | sit | remain | stay | contain | ']\n"
     ]
    },
    {
     "name": "stderr",
     "output_type": "stream",
     "text": [
      "\n",
      "\n",
      "\n",
      "\n",
      " 34%|███▍      | 462/1358 [07:24<14:08,  1.06it/s]\u001b[A\u001b[A\u001b[A\u001b[A"
     ]
    },
    {
     "name": "stdout",
     "output_type": "stream",
     "text": [
      "находиться ok\n",
      "no examples\n",
      "[462, 'lie', 'заключаться', nan, nan, 'consist | be | consist of | concern | relate | stem from | enclose | ']\n"
     ]
    },
    {
     "name": "stderr",
     "output_type": "stream",
     "text": [
      "\n",
      "\n",
      "\n",
      "\n",
      " 34%|███▍      | 463/1358 [07:25<17:07,  1.15s/it]\u001b[A\u001b[A\u001b[A\u001b[A"
     ]
    },
    {
     "name": "stdout",
     "output_type": "stream",
     "text": [
      "заключаться ok\n",
      "no examples\n",
      "[463, 'lie', 'расположить', nan, nan, 'locate | situate | set | offer | find | enjoy | sit | place | ']\n"
     ]
    },
    {
     "name": "stderr",
     "output_type": "stream",
     "text": [
      "\n",
      "\n",
      "\n",
      "\n",
      " 34%|███▍      | 464/1358 [07:25<13:12,  1.13it/s]\u001b[A\u001b[A\u001b[A\u001b[A"
     ]
    },
    {
     "name": "stdout",
     "output_type": "stream",
     "text": [
      "расположить ok\n",
      "no examples\n",
      "[464, 'lie', 'лгать', nan, nan, 'tell lies | ']\n"
     ]
    },
    {
     "name": "stderr",
     "output_type": "stream",
     "text": [
      "\n",
      "\n",
      "\n",
      "\n",
      " 34%|███▍      | 465/1358 [07:26<12:34,  1.18it/s]\u001b[A\u001b[A\u001b[A\u001b[A"
     ]
    },
    {
     "name": "stdout",
     "output_type": "stream",
     "text": [
      "лгать ok\n",
      "no examples\n",
      "[465, 'lie', 'врать', nan, nan, 'tell a lie | ']\n"
     ]
    },
    {
     "name": "stderr",
     "output_type": "stream",
     "text": [
      "\n",
      "\n",
      "\n",
      "\n",
      " 34%|███▍      | 466/1358 [07:26<09:54,  1.50it/s]\u001b[A\u001b[A\u001b[A\u001b[A"
     ]
    },
    {
     "name": "stdout",
     "output_type": "stream",
     "text": [
      "врать ok\n",
      "no examples\n",
      "[466, 'lie', 'крыться', nan, nan, ' | ']\n"
     ]
    },
    {
     "name": "stderr",
     "output_type": "stream",
     "text": [
      "\n",
      "\n",
      "\n",
      "\n",
      " 34%|███▍      | 467/1358 [07:27<08:55,  1.66it/s]\u001b[A\u001b[A\u001b[A\u001b[A"
     ]
    },
    {
     "name": "stdout",
     "output_type": "stream",
     "text": [
      "крыться ok\n",
      "no examples\n",
      "[467, 'lie', 'располагаться', nan, nan, 'settle down | set | house | host | ']\n"
     ]
    },
    {
     "name": "stderr",
     "output_type": "stream",
     "text": [
      "\n",
      "\n",
      "\n",
      "\n",
      " 34%|███▍      | 468/1358 [07:27<07:37,  1.95it/s]\u001b[A\u001b[A\u001b[A\u001b[A"
     ]
    },
    {
     "name": "stdout",
     "output_type": "stream",
     "text": [
      "располагаться ok\n",
      "no examples\n",
      "[468, 'lie', 'состоять', nan, nan, 'consist | belong | consist of | comprise | lay | compose | make up | ']\n"
     ]
    },
    {
     "name": "stderr",
     "output_type": "stream",
     "text": [
      "\n",
      "\n",
      "\n",
      "\n",
      " 35%|███▍      | 469/1358 [07:27<06:23,  2.32it/s]\u001b[A\u001b[A\u001b[A\u001b[A"
     ]
    },
    {
     "name": "stdout",
     "output_type": "stream",
     "text": [
      "состоять ok\n",
      "no examples\n",
      "[469, 'lie down', 'ложиться', nan, nan, 'go to bed | lie down | lay down | ']\n"
     ]
    },
    {
     "name": "stderr",
     "output_type": "stream",
     "text": [
      "\n",
      "\n",
      "\n",
      "\n",
      " 35%|███▍      | 470/1358 [07:28<06:09,  2.40it/s]\u001b[A\u001b[A\u001b[A\u001b[A"
     ]
    },
    {
     "name": "stdout",
     "output_type": "stream",
     "text": [
      "ложиться ok\n",
      "no examples\n",
      "[470, 'lie down', 'лечь', nan, nan, 'lay down | lay | lie down | result | rest | ']\n"
     ]
    },
    {
     "name": "stderr",
     "output_type": "stream",
     "text": [
      "\n",
      "\n",
      "\n",
      "\n",
      " 35%|███▍      | 471/1358 [07:28<05:52,  2.52it/s]\u001b[A\u001b[A\u001b[A\u001b[A"
     ]
    },
    {
     "name": "stdout",
     "output_type": "stream",
     "text": [
      "лечь ok\n",
      "no examples\n",
      "[471, 'lie down', 'прилечь', nan, nan, 'lie down | lay down | ']\n"
     ]
    },
    {
     "name": "stderr",
     "output_type": "stream",
     "text": [
      "\n",
      "\n",
      "\n",
      "\n",
      " 35%|███▍      | 472/1358 [07:28<05:21,  2.75it/s]\u001b[A\u001b[A\u001b[A\u001b[A"
     ]
    },
    {
     "name": "stdout",
     "output_type": "stream",
     "text": [
      "прилечь ok\n",
      "no examples\n",
      "[472, 'lie down', 'лежать', nan, nan, 'lie | lay | underlie | lie | belong | lie there | underpin | rest | bear | ']\n"
     ]
    },
    {
     "name": "stderr",
     "output_type": "stream",
     "text": [
      "\n",
      "\n",
      "\n",
      "\n",
      " 35%|███▍      | 473/1358 [07:29<04:53,  3.01it/s]\u001b[A\u001b[A\u001b[A\u001b[A"
     ]
    },
    {
     "name": "stdout",
     "output_type": "stream",
     "text": [
      "лежать ok\n",
      "no examples\n",
      "[473, 'select', 'отборный', nan, nan, 'selective | choice | ']\n"
     ]
    },
    {
     "name": "stderr",
     "output_type": "stream",
     "text": [
      "\n",
      "\n",
      "\n",
      "\n",
      " 35%|███▍      | 474/1358 [07:29<05:50,  2.52it/s]\u001b[A\u001b[A\u001b[A\u001b[A"
     ]
    },
    {
     "name": "stdout",
     "output_type": "stream",
     "text": [
      "отборный ok\n",
      "no examples\n",
      "[474, 'select', 'выбрать', 'to select a language|to select this option|to select the partition|to select the link below|', 'выбрать язык | выбрать эту опцию | выбрать раздел | выбрать ссылку ниже | ', 'choose | pick | click | elect | choose | dictate | ']\n",
      "выбрать ok\n",
      "to select a language ok\n",
      "to select this option ok\n",
      "to select the partition ok\n"
     ]
    },
    {
     "name": "stderr",
     "output_type": "stream",
     "text": [
      "\n",
      "\n",
      "\n",
      "\n",
      " 35%|███▍      | 475/1358 [07:32<16:44,  1.14s/it]\u001b[A\u001b[A\u001b[A\u001b[A"
     ]
    },
    {
     "name": "stdout",
     "output_type": "stream",
     "text": [
      "to select the link below ok\n",
      "[475, 'select', 'выбирать', 'to select a program|', 'выбирать программу | ', 'choose | pick | choose | elect | look for | ']\n",
      "выбирать ok\n"
     ]
    },
    {
     "name": "stderr",
     "output_type": "stream",
     "text": [
      "\n",
      "\n",
      "\n",
      "\n",
      " 35%|███▌      | 476/1358 [07:34<20:18,  1.38s/it]\u001b[A\u001b[A\u001b[A\u001b[A"
     ]
    },
    {
     "name": "stdout",
     "output_type": "stream",
     "text": [
      "to select a program ok\n",
      "[476, 'select', 'выделить', nan, nan, 'allocate | highlight | spend | set aside | identify | contribute | commit | budget | ']\n"
     ]
    },
    {
     "name": "stderr",
     "output_type": "stream",
     "text": [
      "\n",
      "\n",
      "\n",
      "\n",
      " 35%|███▌      | 477/1358 [07:35<17:19,  1.18s/it]\u001b[A\u001b[A\u001b[A\u001b[A"
     ]
    },
    {
     "name": "stdout",
     "output_type": "stream",
     "text": [
      "выделить ok\n",
      "no examples\n",
      "[477, 'select', 'отобрать', nan, nan, 'pick | take away | ']\n"
     ]
    },
    {
     "name": "stderr",
     "output_type": "stream",
     "text": [
      "\n",
      "\n",
      "\n",
      "\n",
      " 35%|███▌      | 478/1358 [07:36<15:43,  1.07s/it]\u001b[A\u001b[A\u001b[A\u001b[A"
     ]
    },
    {
     "name": "stdout",
     "output_type": "stream",
     "text": [
      "отобрать ok\n",
      "no examples\n",
      "[478, 'select', 'подобрать', nan, nan, 'choose | pick up | pick | adjust | match | ']\n"
     ]
    },
    {
     "name": "stderr",
     "output_type": "stream",
     "text": [
      "\n",
      "\n",
      "\n",
      "\n",
      " 35%|███▌      | 479/1358 [07:36<14:35,  1.00it/s]\u001b[A\u001b[A\u001b[A\u001b[A"
     ]
    },
    {
     "name": "stdout",
     "output_type": "stream",
     "text": [
      "подобрать ok\n",
      "no examples\n",
      "[479, 'select', 'указать', 'to select a country|to select the type of currency|', 'указать страну | указать валюту | ', 'specify | indicate | point | enter | define | set | point out | state | ']\n",
      "указать ok\n",
      "to select a country ok\n"
     ]
    },
    {
     "name": "stderr",
     "output_type": "stream",
     "text": [
      "\n",
      "\n",
      "\n",
      "\n",
      " 35%|███▌      | 480/1358 [07:38<16:30,  1.13s/it]\u001b[A\u001b[A\u001b[A\u001b[A"
     ]
    },
    {
     "name": "stdout",
     "output_type": "stream",
     "text": [
      "to select the type of currency ok\n",
      "[480, 'select', 'отбирать', nan, nan, 'take away | ']\n"
     ]
    },
    {
     "name": "stderr",
     "output_type": "stream",
     "text": [
      "\n",
      "\n",
      "\n",
      "\n",
      " 35%|███▌      | 481/1358 [07:40<19:17,  1.32s/it]\u001b[A\u001b[A\u001b[A\u001b[A"
     ]
    },
    {
     "name": "stdout",
     "output_type": "stream",
     "text": [
      "отбирать ok\n",
      "no examples\n",
      "[481, 'select', 'выбираться', nan, nan, ' | ']\n"
     ]
    },
    {
     "name": "stderr",
     "output_type": "stream",
     "text": [
      "\n",
      "\n",
      "\n",
      "\n",
      " 35%|███▌      | 482/1358 [07:40<14:42,  1.01s/it]\u001b[A\u001b[A\u001b[A\u001b[A"
     ]
    },
    {
     "name": "stdout",
     "output_type": "stream",
     "text": [
      "выбираться ok\n",
      "no examples\n",
      "[482, 'select', 'выделять', nan, nan, 'allocate | emit | single out | devote | extract | secrete | highlight | come out of | distinguish | ']\n"
     ]
    },
    {
     "name": "stderr",
     "output_type": "stream",
     "text": [
      "\n",
      "\n",
      "\n",
      "\n",
      " 36%|███▌      | 483/1358 [07:41<13:02,  1.12it/s]\u001b[A\u001b[A\u001b[A\u001b[A"
     ]
    },
    {
     "name": "stdout",
     "output_type": "stream",
     "text": [
      "выделять ok\n",
      "no examples\n",
      "[483, 'school', 'школьный', nan, nan, ' | ']\n"
     ]
    },
    {
     "name": "stderr",
     "output_type": "stream",
     "text": [
      "\n",
      "\n",
      "\n",
      "\n",
      " 36%|███▌      | 484/1358 [07:41<10:09,  1.43it/s]\u001b[A\u001b[A\u001b[A\u001b[A"
     ]
    },
    {
     "name": "stdout",
     "output_type": "stream",
     "text": [
      "школьный ok\n",
      "no examples\n",
      "[484, 'school', 'учебный', nan, nan, 'educational | academic | instructional | content | ']\n"
     ]
    },
    {
     "name": "stderr",
     "output_type": "stream",
     "text": [
      "\n",
      "\n",
      "\n",
      "\n",
      " 36%|███▌      | 485/1358 [07:42<12:43,  1.14it/s]\u001b[A\u001b[A\u001b[A\u001b[A"
     ]
    },
    {
     "name": "stdout",
     "output_type": "stream",
     "text": [
      "учебный ok\n",
      "no examples\n",
      "[485, 'school', 'школа', 'primary school|high school|ski school|public school|', 'начальная школа | средняя школа | лыжная школа | государственная школа | ', ' | ']\n",
      "школа ok\n",
      "primary school ok\n",
      "high school ok\n",
      "ski school ok\n"
     ]
    },
    {
     "name": "stderr",
     "output_type": "stream",
     "text": [
      "\n",
      "\n",
      "\n",
      "\n",
      " 36%|███▌      | 486/1358 [07:44<17:49,  1.23s/it]\u001b[A\u001b[A\u001b[A\u001b[A"
     ]
    },
    {
     "name": "stdout",
     "output_type": "stream",
     "text": [
      "public school ok\n",
      "[486, 'cafe', 'кафе', 'local cafe|cosy cafe|charming cafe|pavement cafes|', 'местном кафе | уютное кафе | очаровательное кафе | уличных кафе | ', 'café | coffee shop | cafeteria | coffee | ']\n",
      "кафе ok\n",
      "local cafe ok\n",
      "cosy cafe ok\n",
      "charming cafe ok\n"
     ]
    },
    {
     "name": "stderr",
     "output_type": "stream",
     "text": [
      "\n",
      "\n",
      "\n",
      "\n",
      " 36%|███▌      | 487/1358 [07:47<23:34,  1.62s/it]\u001b[A\u001b[A\u001b[A\u001b[A"
     ]
    },
    {
     "name": "stdout",
     "output_type": "stream",
     "text": [
      "pavement cafes ok\n",
      "[487, 'cafe', 'кафетерий', nan, nan, 'cafeteria | ']\n"
     ]
    },
    {
     "name": "stderr",
     "output_type": "stream",
     "text": [
      "\n",
      "\n",
      "\n",
      "\n",
      " 36%|███▌      | 488/1358 [07:47<19:21,  1.33s/it]\u001b[A\u001b[A\u001b[A\u001b[A"
     ]
    },
    {
     "name": "stdout",
     "output_type": "stream",
     "text": [
      "кафетерий ok\n",
      "no examples\n",
      "[488, 'buy', 'покупка', 'good buy|', 'хорошая покупка | ', 'purchase | shopping | buying | acquisition | ']\n",
      "покупка ok\n"
     ]
    },
    {
     "name": "stderr",
     "output_type": "stream",
     "text": [
      "\n",
      "\n",
      "\n",
      "\n",
      " 36%|███▌      | 489/1358 [07:48<18:42,  1.29s/it]\u001b[A\u001b[A\u001b[A\u001b[A"
     ]
    },
    {
     "name": "stdout",
     "output_type": "stream",
     "text": [
      "good buy ok\n",
      "[489, 'buy', 'buys', nan, nan, ' | ']\n"
     ]
    },
    {
     "name": "stderr",
     "output_type": "stream",
     "text": [
      "\n",
      "\n",
      "\n",
      "\n",
      " 36%|███▌      | 490/1358 [07:49<15:43,  1.09s/it]\u001b[A\u001b[A\u001b[A\u001b[A"
     ]
    },
    {
     "name": "stdout",
     "output_type": "stream",
     "text": [
      "buys ok\n",
      "no examples\n",
      "[490, 'buy', 'купля', nan, nan, ' | ']\n"
     ]
    },
    {
     "name": "stderr",
     "output_type": "stream",
     "text": [
      "\n",
      "\n",
      "\n",
      "\n",
      " 36%|███▌      | 491/1358 [07:50<13:43,  1.05it/s]\u001b[A\u001b[A\u001b[A\u001b[A"
     ]
    },
    {
     "name": "stdout",
     "output_type": "stream",
     "text": [
      "купля ok\n",
      "no examples\n",
      "[491, 'buy', 'купить', 'to buy a ticket|to buy a house|to buy insurance|to buy refrigeration|', 'купить билеты | купить дом | купить страховку | купить охлаждение | ', 'purchase | get | ']\n",
      "купить ok\n",
      "to buy a ticket ok\n",
      "to buy a house ok\n",
      "to buy insurance ok\n"
     ]
    },
    {
     "name": "stderr",
     "output_type": "stream",
     "text": [
      "\n",
      "\n",
      "\n",
      "\n",
      " 36%|███▌      | 492/1358 [07:52<20:00,  1.39s/it]\u001b[A\u001b[A\u001b[A\u001b[A"
     ]
    },
    {
     "name": "stdout",
     "output_type": "stream",
     "text": [
      "to buy refrigeration ok\n",
      "[492, 'buy', 'покупать', 'to buy Turkmen gas|to buy things|to buy Turkmen gas directly|to buy long-term bonds|', 'покупать туркменский газ | покупать вещи | покупать туркменский газ напрямую | покупать долгосрочные облигации | ', 'purchase | ']\n",
      "покупать ok\n",
      "to buy Turkmen gas ok\n",
      "to buy things ok\n",
      "to buy Turkmen gas directly ok\n"
     ]
    },
    {
     "name": "stderr",
     "output_type": "stream",
     "text": [
      "\n",
      "\n",
      "\n",
      "\n",
      " 36%|███▋      | 493/1358 [07:55<28:03,  1.95s/it]\u001b[A\u001b[A\u001b[A\u001b[A"
     ]
    },
    {
     "name": "stdout",
     "output_type": "stream",
     "text": [
      "to buy long-term bonds ok\n",
      "[493, 'buy', 'приобрести', 'to buy houses|to buy tickets|', 'приобретать дома | приобрести билеты | ', 'purchase | acquire | get | gain | obtain | purchase | ']\n",
      "приобрести ok\n",
      "to buy houses ok\n"
     ]
    },
    {
     "name": "stderr",
     "output_type": "stream",
     "text": [
      "\n",
      "\n",
      "\n",
      "\n",
      " 36%|███▋      | 494/1358 [07:57<26:04,  1.81s/it]\u001b[A\u001b[A\u001b[A\u001b[A"
     ]
    },
    {
     "name": "stdout",
     "output_type": "stream",
     "text": [
      "to buy tickets ok\n",
      "[494, 'buy', 'закупать', nan, nan, 'purchase | procure | purchase | ']\n"
     ]
    },
    {
     "name": "stderr",
     "output_type": "stream",
     "text": [
      "\n",
      "\n",
      "\n",
      "\n",
      " 36%|███▋      | 495/1358 [07:57<19:50,  1.38s/it]\u001b[A\u001b[A\u001b[A\u001b[A"
     ]
    },
    {
     "name": "stdout",
     "output_type": "stream",
     "text": [
      "закупать ok\n",
      "no examples\n",
      "[495, 'buy', 'закупить', nan, nan, 'purchase | procure | ']\n"
     ]
    },
    {
     "name": "stderr",
     "output_type": "stream",
     "text": [
      "\n",
      "\n",
      "\n",
      "\n",
      " 37%|███▋      | 496/1358 [07:58<15:50,  1.10s/it]\u001b[A\u001b[A\u001b[A\u001b[A"
     ]
    },
    {
     "name": "stdout",
     "output_type": "stream",
     "text": [
      "закупить ok\n",
      "no examples\n",
      "[496, 'buy', 'скупать', 'to buy dollars|to actively buy dollars|', 'скупать доллары | активно скупать доллары | ', 'buy up | ']\n",
      "скупать ok\n",
      "to buy dollars ok\n"
     ]
    },
    {
     "name": "stderr",
     "output_type": "stream",
     "text": [
      "\n",
      "\n",
      "\n",
      "\n",
      " 37%|███▋      | 497/1358 [07:59<17:11,  1.20s/it]\u001b[A\u001b[A\u001b[A\u001b[A"
     ]
    },
    {
     "name": "stdout",
     "output_type": "stream",
     "text": [
      "to actively buy dollars ok\n",
      "[497, 'buy', 'скупить', nan, nan, 'buy up | buy up | ']\n"
     ]
    },
    {
     "name": "stderr",
     "output_type": "stream",
     "text": [
      "\n",
      "\n",
      "\n",
      "\n",
      " 37%|███▋      | 498/1358 [08:00<17:18,  1.21s/it]\u001b[A\u001b[A\u001b[A\u001b[A"
     ]
    },
    {
     "name": "stdout",
     "output_type": "stream",
     "text": [
      "скупить ok\n",
      "no examples\n",
      "[498, 'buy', 'разъезжать', nan, nan, ' | ']\n"
     ]
    },
    {
     "name": "stderr",
     "output_type": "stream",
     "text": [
      "\n",
      "\n",
      "\n",
      "\n",
      " 37%|███▋      | 499/1358 [08:01<14:22,  1.00s/it]\u001b[A\u001b[A\u001b[A\u001b[A"
     ]
    },
    {
     "name": "stdout",
     "output_type": "stream",
     "text": [
      "разъезжать ok\n",
      "no examples\n",
      "[499, 'buy', 'оттягивать', nan, nan, 'delay | ']\n"
     ]
    },
    {
     "name": "stderr",
     "output_type": "stream",
     "text": [
      "\n",
      "\n",
      "\n",
      "\n",
      " 37%|███▋      | 500/1358 [08:02<13:03,  1.09it/s]\u001b[A\u001b[A\u001b[A\u001b[A"
     ]
    },
    {
     "name": "stdout",
     "output_type": "stream",
     "text": [
      "оттягивать ok\n",
      "no examples\n",
      "[500, 'buy up', 'скупить', nan, nan, 'buy up | buy | buy up | ']\n"
     ]
    },
    {
     "name": "stderr",
     "output_type": "stream",
     "text": [
      "\n",
      "\n",
      "\n",
      "\n",
      " 37%|███▋      | 501/1358 [08:02<12:42,  1.12it/s]\u001b[A\u001b[A\u001b[A\u001b[A"
     ]
    },
    {
     "name": "stdout",
     "output_type": "stream",
     "text": [
      "скупить ok\n",
      "no examples\n",
      "[501, 'buy up', 'скупать', nan, nan, 'buy | buy | buy up | ']\n"
     ]
    },
    {
     "name": "stderr",
     "output_type": "stream",
     "text": [
      "\n",
      "\n",
      "\n",
      "\n",
      " 37%|███▋      | 502/1358 [08:03<11:28,  1.24it/s]\u001b[A\u001b[A\u001b[A\u001b[A"
     ]
    },
    {
     "name": "stdout",
     "output_type": "stream",
     "text": [
      "скупать ok\n",
      "no examples\n",
      "[502, 'buy out', 'выкупить', nan, nan, 'buy | purchase | redeem | buy back | buy out | buy | ']\n"
     ]
    },
    {
     "name": "stderr",
     "output_type": "stream",
     "text": [
      "\n",
      "\n",
      "\n",
      "\n",
      " 37%|███▋      | 503/1358 [08:04<10:30,  1.36it/s]\u001b[A\u001b[A\u001b[A\u001b[A"
     ]
    },
    {
     "name": "stdout",
     "output_type": "stream",
     "text": [
      "выкупить ok\n",
      "no examples\n",
      "[503, 'tell', 'сказать', 'to tell reporters|to tell people|to tell also|to tell police|', 'сказать журналистам | сказать людям | сказать также | сказать полиции | ', 'say | mention | put | discuss | describe | ']\n",
      "сказать ok\n",
      "to tell reporters ok\n",
      "to tell people ok\n",
      "to tell also ok\n"
     ]
    },
    {
     "name": "stderr",
     "output_type": "stream",
     "text": [
      "\n",
      "\n",
      "\n",
      "\n",
      " 37%|███▋      | 504/1358 [08:06<17:42,  1.24s/it]\u001b[A\u001b[A\u001b[A\u001b[A"
     ]
    },
    {
     "name": "stdout",
     "output_type": "stream",
     "text": [
      "to tell police ok\n",
      "[504, 'tell', 'сообщить', 'to tell media|to tell investigators|to tell authorities|to tell AP|', 'сообщить журналистам | сообщить следователям | сообщить власти | сообщить агентству AP | ', 'say | report | inform | announce | let | notify | ']\n",
      "сообщить ok\n",
      "to tell media ok\n",
      "to tell investigators ok\n",
      "to tell authorities ok\n"
     ]
    },
    {
     "name": "stderr",
     "output_type": "stream",
     "text": [
      "\n",
      "\n",
      "\n",
      "\n",
      " 37%|███▋      | 505/1358 [08:08<20:47,  1.46s/it]\u001b[A\u001b[A\u001b[A\u001b[A"
     ]
    },
    {
     "name": "stdout",
     "output_type": "stream",
     "text": [
      "to tell AP ok\n",
      "[505, 'tell', 'рассказать', 'to tell interrogators|to tell their friends|to tell their stories|to tell a story|', 'рассказать следователям | рассказать друзьям | рассказать свою историю | рассказать историю | ', 'explain | speak | ']\n",
      "рассказать ok\n",
      "to tell interrogators ok\n",
      "to tell their friends ok\n",
      "to tell their stories ok\n"
     ]
    },
    {
     "name": "stderr",
     "output_type": "stream",
     "text": [
      "\n",
      "\n",
      "\n",
      "\n",
      " 37%|███▋      | 506/1358 [08:10<24:19,  1.71s/it]\u001b[A\u001b[A\u001b[A\u001b[A"
     ]
    },
    {
     "name": "stdout",
     "output_type": "stream",
     "text": [
      "to tell a story ok\n",
      "[506, 'tell', 'говорить', 'to tell my students|to tell students|to often tell young coaches|to tell the guy|', 'говорить своим студентам | говорить ученикам | часто говорить молодым тренерам | говорить парню | ', 'say | speak | talk | talk about | show | ']\n",
      "говорить ok\n",
      "to tell my students ok\n",
      "to tell students ok\n",
      "to often tell young coaches ok\n"
     ]
    },
    {
     "name": "stderr",
     "output_type": "stream",
     "text": [
      "\n",
      "\n",
      "\n",
      "\n",
      " 37%|███▋      | 507/1358 [08:12<25:21,  1.79s/it]\u001b[A\u001b[A\u001b[A\u001b[A"
     ]
    },
    {
     "name": "stdout",
     "output_type": "stream",
     "text": [
      "to tell the guy ok\n",
      "[507, 'tell', 'заявить', 'to tell the court|to tell Dawn|to tell journalists|to tell K News|', 'заявить суду | заявить Dawn | заявить журналистам | заявить K News | ', 'say | state | declare | announce | claim | ']\n",
      "заявить ok\n",
      "to tell the court ok\n",
      "to tell Dawn ok\n",
      "to tell journalists ok\n"
     ]
    },
    {
     "name": "stderr",
     "output_type": "stream",
     "text": [
      "\n",
      "\n",
      "\n",
      "\n",
      " 37%|███▋      | 508/1358 [08:15<28:54,  2.04s/it]\u001b[A\u001b[A\u001b[A\u001b[A"
     ]
    },
    {
     "name": "stdout",
     "output_type": "stream",
     "text": [
      "to tell K News ok\n",
      "[508, 'tell', 'рассказывать', 'to tell stories|to tell the patient|', 'рассказывать истории | рассказывать пациенту | ', 'explain | share | talk about | relate | cover | ']\n",
      "рассказывать ok\n",
      "to tell stories ok\n"
     ]
    },
    {
     "name": "stderr",
     "output_type": "stream",
     "text": [
      "\n",
      "\n",
      "\n",
      "\n",
      " 37%|███▋      | 509/1358 [08:16<24:33,  1.74s/it]\u001b[A\u001b[A\u001b[A\u001b[A"
     ]
    },
    {
     "name": "stdout",
     "output_type": "stream",
     "text": [
      "to tell the patient ok\n",
      "[509, 'tell', 'сообщать', nan, nan, 'report | inform | announce | notify | ']\n"
     ]
    },
    {
     "name": "stderr",
     "output_type": "stream",
     "text": [
      "\n",
      "\n",
      "\n",
      "\n",
      " 38%|███▊      | 510/1358 [08:16<19:17,  1.37s/it]\u001b[A\u001b[A\u001b[A\u001b[A"
     ]
    },
    {
     "name": "stdout",
     "output_type": "stream",
     "text": [
      "сообщать ok\n",
      "no examples\n",
      "[510, 'international', 'международный', nan, nan, 'global | ']\n"
     ]
    },
    {
     "name": "stderr",
     "output_type": "stream",
     "text": [
      "\n",
      "\n",
      "\n",
      "\n",
      " 38%|███▊      | 511/1358 [08:20<28:14,  2.00s/it]\u001b[A\u001b[A\u001b[A\u001b[A"
     ]
    },
    {
     "name": "stdout",
     "output_type": "stream",
     "text": [
      "международный ok\n",
      "no examples\n",
      "[511, 'international', 'интернациональный', nan, nan, ' | ']\n"
     ]
    },
    {
     "name": "stderr",
     "output_type": "stream",
     "text": [
      "\n",
      "\n",
      "\n",
      "\n",
      " 38%|███▊      | 512/1358 [08:20<21:31,  1.53s/it]\u001b[A\u001b[A\u001b[A\u001b[A"
     ]
    },
    {
     "name": "stdout",
     "output_type": "stream",
     "text": [
      "интернациональный ok\n",
      "no examples\n",
      "[512, 'international', 'мировой', nan, nan, 'global | world | worldwide | ']\n"
     ]
    },
    {
     "name": "stderr",
     "output_type": "stream",
     "text": [
      "\n",
      "\n",
      "\n",
      "\n",
      " 38%|███▊      | 513/1358 [08:21<16:15,  1.15s/it]\u001b[A\u001b[A\u001b[A\u001b[A"
     ]
    },
    {
     "name": "stdout",
     "output_type": "stream",
     "text": [
      "мировой ok\n",
      "no examples\n",
      "[513, 'international', 'международный матч', nan, nan, ' | ']\n"
     ]
    },
    {
     "name": "stderr",
     "output_type": "stream",
     "text": [
      "\n",
      "\n",
      "\n",
      "\n",
      " 38%|███▊      | 514/1358 [08:22<15:51,  1.13s/it]\u001b[A\u001b[A\u001b[A\u001b[A"
     ]
    },
    {
     "name": "stdout",
     "output_type": "stream",
     "text": [
      "международный матч ok\n",
      "no examples\n",
      "[514, 'stand', 'стенд', 'national stand|large stand|exclusive stand|', 'национальный стенд | крупный стенд | Эксклюзивный стенд | ', 'booth | exhibition stand | testbed | stall | bench | ']\n",
      "стенд ok\n",
      "national stand ok\n",
      "large stand ok\n"
     ]
    },
    {
     "name": "stderr",
     "output_type": "stream",
     "text": [
      "\n",
      "\n",
      "\n",
      "\n",
      " 38%|███▊      | 515/1358 [08:23<16:57,  1.21s/it]\u001b[A\u001b[A\u001b[A\u001b[A"
     ]
    },
    {
     "name": "stdout",
     "output_type": "stream",
     "text": [
      "exclusive stand ok\n",
      "[515, 'stand', 'позиция', 'united stand|active stand|decisive stand|principled stand|', 'единой позиции | активная позиция | решительную позицию | принципиальная позиция | ', 'position | stance | ground | attitude | posture | item | ']\n",
      "позиция ok\n",
      "united stand ok\n",
      "active stand ok\n",
      "decisive stand ok\n"
     ]
    },
    {
     "name": "stderr",
     "output_type": "stream",
     "text": [
      "\n",
      "\n",
      "\n",
      "\n",
      " 38%|███▊      | 516/1358 [08:25<18:36,  1.33s/it]\u001b[A\u001b[A\u001b[A\u001b[A"
     ]
    },
    {
     "name": "stdout",
     "output_type": "stream",
     "text": [
      "principled stand ok\n",
      "[516, 'stand', 'остановка', 'bus stand|', 'автобусная остановка | ', 'stop | bus stop | stopover | ']\n",
      "остановка ok\n"
     ]
    },
    {
     "name": "stderr",
     "output_type": "stream",
     "text": [
      "\n",
      "\n",
      "\n",
      "\n",
      " 38%|███▊      | 517/1358 [08:26<17:52,  1.28s/it]\u001b[A\u001b[A\u001b[A\u001b[A"
     ]
    },
    {
     "name": "stdout",
     "output_type": "stream",
     "text": [
      "bus stand ok\n",
      "[517, 'stand', 'трибуна', 'duma stand|', 'думская трибуна | ', 'tribune | podium | grandstand | pulpit | bleacher | ']\n",
      "трибуна ok\n"
     ]
    },
    {
     "name": "stderr",
     "output_type": "stream",
     "text": [
      "\n",
      "\n",
      "\n",
      "\n",
      " 38%|███▊      | 518/1358 [08:27<16:28,  1.18s/it]\u001b[A\u001b[A\u001b[A\u001b[A"
     ]
    },
    {
     "name": "stdout",
     "output_type": "stream",
     "text": [
      "duma stand ok\n",
      "[518, 'stand', 'стойка', nan, nan, 'reception | counter | rack | strut | check-in | concierge | crossbar | stud | ']\n"
     ]
    },
    {
     "name": "stderr",
     "output_type": "stream",
     "text": [
      "\n",
      "\n",
      "\n",
      "\n",
      " 38%|███▊      | 519/1358 [08:27<12:38,  1.11it/s]\u001b[A\u001b[A\u001b[A\u001b[A"
     ]
    },
    {
     "name": "stdout",
     "output_type": "stream",
     "text": [
      "стойка ok\n",
      "no examples\n",
      "[519, 'stand', 'подставка', nan, nan, ' | ']\n"
     ]
    },
    {
     "name": "stderr",
     "output_type": "stream",
     "text": [
      "\n",
      "\n",
      "\n",
      "\n",
      " 38%|███▊      | 520/1358 [08:27<09:58,  1.40it/s]\u001b[A\u001b[A\u001b[A\u001b[A"
     ]
    },
    {
     "name": "stdout",
     "output_type": "stream",
     "text": [
      "подставка ok\n",
      "no examples\n",
      "[520, 'stand', 'киоск', 'news stand|', 'газетный киоск | ', 'kiosk | stall | booth | newsstand | ']\n",
      "киоск ok\n"
     ]
    },
    {
     "name": "stderr",
     "output_type": "stream",
     "text": [
      "\n",
      "\n",
      "\n",
      "\n",
      " 38%|███▊      | 521/1358 [08:28<10:15,  1.36it/s]\u001b[A\u001b[A\u001b[A\u001b[A"
     ]
    },
    {
     "name": "stdout",
     "output_type": "stream",
     "text": [
      "news stand ok\n",
      "[521, 'stand', 'стоянка', 'taxi stand|cab stand|', 'стоянка такси | таксомоторной стоянки | ', 'parking | parking lot | car park | lot | parking place | parking area | car parking | bike parking | ']\n",
      "стоянка ok\n",
      "taxi stand ok\n"
     ]
    },
    {
     "name": "stderr",
     "output_type": "stream",
     "text": [
      "\n",
      "\n",
      "\n",
      "\n",
      " 38%|███▊      | 522/1358 [08:30<14:03,  1.01s/it]\u001b[A\u001b[A\u001b[A\u001b[A"
     ]
    },
    {
     "name": "stdout",
     "output_type": "stream",
     "text": [
      "cab stand ok\n",
      "[522, 'stand', 'клеть', nan, nan, 'cage | kletjah | ']\n"
     ]
    },
    {
     "name": "stderr",
     "output_type": "stream",
     "text": [
      "\n",
      "\n",
      "\n",
      "\n",
      " 39%|███▊      | 523/1358 [08:31<14:16,  1.03s/it]\u001b[A\u001b[A\u001b[A\u001b[A"
     ]
    },
    {
     "name": "stdout",
     "output_type": "stream",
     "text": [
      "клеть ok\n",
      "no examples\n",
      "[523, 'stand', 'постоять', 'to stand still|to stand there|to stand here|to stand in these legs|', 'стоять на месте | стоять там | стоять здесь | стоять на этих ногах | ', 'cost | be worth | face | wait | stand up | stand there | ']\n",
      "постоять ok\n",
      "to stand still ok\n",
      "to stand there ok\n",
      "to stand here ok\n"
     ]
    },
    {
     "name": "stderr",
     "output_type": "stream",
     "text": [
      "\n",
      "\n",
      "\n",
      "\n",
      " 39%|███▊      | 524/1358 [08:34<21:11,  1.52s/it]\u001b[A\u001b[A\u001b[A\u001b[A\n",
      "\n",
      "\n",
      "\n",
      " 39%|███▊      | 525/1358 [08:34<15:38,  1.13s/it]"
     ]
    },
    {
     "name": "stdout",
     "output_type": "stream",
     "text": [
      "to stand in these legs ok\n",
      "[524, 'stand', 'стоить', nan, nan, 'cost | be worth | face | ']\n",
      "стоить ok\n",
      "no examples\n"
     ]
    },
    {
     "name": "stderr",
     "output_type": "stream",
     "text": [
      "\u001b[A\u001b[A\u001b[A\u001b[A"
     ]
    },
    {
     "name": "stdout",
     "output_type": "stream",
     "text": [
      "[525, 'stand', 'выступать', nan, nan, 'act | perform | speak | argue | compete | appear | oppose | speak out | ']\n"
     ]
    },
    {
     "name": "stderr",
     "output_type": "stream",
     "text": [
      "\n",
      "\n",
      "\n",
      "\n",
      " 39%|███▊      | 526/1358 [08:34<13:19,  1.04it/s]\u001b[A\u001b[A\u001b[A\u001b[A"
     ]
    },
    {
     "name": "stdout",
     "output_type": "stream",
     "text": [
      "выступать ok\n",
      "no examples\n",
      "[526, 'stand', 'находиться', nan, nan, 'locate | set | find | situate | lie | sit | remain | stay | contain | ']\n"
     ]
    },
    {
     "name": "stderr",
     "output_type": "stream",
     "text": [
      "\n",
      "\n",
      "\n",
      "\n",
      " 39%|███▉      | 527/1358 [08:35<10:35,  1.31it/s]\u001b[A\u001b[A\u001b[A\u001b[A"
     ]
    },
    {
     "name": "stdout",
     "output_type": "stream",
     "text": [
      "находиться ok\n",
      "no examples\n",
      "[527, 'stand', 'встать', nan, nan, 'rise | get up | stand up | get back | embark | arise | wake up | ']\n"
     ]
    },
    {
     "name": "stderr",
     "output_type": "stream",
     "text": [
      "\n",
      "\n",
      "\n",
      "\n",
      " 39%|███▉      | 528/1358 [08:35<10:13,  1.35it/s]\u001b[A\u001b[A\u001b[A\u001b[A"
     ]
    },
    {
     "name": "stdout",
     "output_type": "stream",
     "text": [
      "встать ok\n",
      "no examples\n",
      "[528, 'stand', 'остановиться', nan, nan, 'stop | stay | pause | stand still | stay | halt | dwell | stall | ']\n"
     ]
    },
    {
     "name": "stderr",
     "output_type": "stream",
     "text": [
      "\n",
      "\n",
      "\n",
      "\n",
      " 39%|███▉      | 529/1358 [08:36<08:25,  1.64it/s]\u001b[A\u001b[A\u001b[A\u001b[A"
     ]
    },
    {
     "name": "stdout",
     "output_type": "stream",
     "text": [
      "остановиться ok\n",
      "no examples\n",
      "[529, 'stand', 'выдержать', 'to stand the test of reality|', 'выдержать испытания действительностью | ', 'withstand | endure | survive | sustain | pass | weather | bear | handle | ']\n",
      "выдержать ok\n"
     ]
    },
    {
     "name": "stderr",
     "output_type": "stream",
     "text": [
      "\n",
      "\n",
      "\n",
      "\n",
      " 39%|███▉      | 530/1358 [08:36<09:42,  1.42it/s]\u001b[A\u001b[A\u001b[A\u001b[A"
     ]
    },
    {
     "name": "stdout",
     "output_type": "stream",
     "text": [
      "to stand the test of reality ok\n",
      "[530, 'stand', 'составлять', nan, nan, 'account for | make | make up | constitute | comprise | represent | form | total | account for | ']\n"
     ]
    },
    {
     "name": "stderr",
     "output_type": "stream",
     "text": [
      "\n",
      "\n",
      "\n",
      "\n",
      " 39%|███▉      | 531/1358 [08:37<09:24,  1.46it/s]\u001b[A\u001b[A\u001b[A\u001b[A"
     ]
    },
    {
     "name": "stdout",
     "output_type": "stream",
     "text": [
      "составлять ok\n",
      "no examples\n",
      "[531, 'stand', 'терпеть', nan, nan, 'tolerate | suffer | endure | bear | put up with | abide | ']\n"
     ]
    },
    {
     "name": "stderr",
     "output_type": "stream",
     "text": [
      "\n",
      "\n",
      "\n",
      "\n",
      " 39%|███▉      | 532/1358 [08:37<07:49,  1.76it/s]\u001b[A\u001b[A\u001b[A\u001b[A"
     ]
    },
    {
     "name": "stdout",
     "output_type": "stream",
     "text": [
      "терпеть ok\n",
      "no examples\n",
      "[532, 'stand up', 'встать', nan, nan, 'rise | get up | stand up | stand | get back | embark | arise | wake up | ']\n"
     ]
    },
    {
     "name": "stderr",
     "output_type": "stream",
     "text": [
      "\n",
      "\n",
      "\n",
      "\n",
      " 39%|███▉      | 533/1358 [08:38<06:34,  2.09it/s]\u001b[A\u001b[A\u001b[A\u001b[A"
     ]
    },
    {
     "name": "stdout",
     "output_type": "stream",
     "text": [
      "встать ok\n",
      "no examples\n",
      "[533, 'stand up', 'подняться', nan, nan, 'rise | get up | stand up | go up | climb | rise up | service | jump | access | ']\n"
     ]
    },
    {
     "name": "stderr",
     "output_type": "stream",
     "text": [
      "\n",
      "\n",
      "\n",
      "\n",
      " 39%|███▉      | 534/1358 [08:38<06:31,  2.10it/s]\u001b[A\u001b[A\u001b[A\u001b[A"
     ]
    },
    {
     "name": "stdout",
     "output_type": "stream",
     "text": [
      "подняться ok\n",
      "no examples\n",
      "[534, 'stand up', 'постоять', nan, nan, 'stand | cost | be worth | stand | face | wait | stand up | stand there | ']\n"
     ]
    },
    {
     "name": "stderr",
     "output_type": "stream",
     "text": [
      "\n",
      "\n",
      "\n",
      "\n",
      " 39%|███▉      | 535/1358 [08:39<06:23,  2.14it/s]\u001b[A\u001b[A\u001b[A\u001b[A"
     ]
    },
    {
     "name": "stdout",
     "output_type": "stream",
     "text": [
      "постоять ok\n",
      "no examples\n",
      "[535, 'stand up', 'вставать', nan, nan, 'get up | stand up | wake up | rise | arise | wake up | get up | ']\n"
     ]
    },
    {
     "name": "stderr",
     "output_type": "stream",
     "text": [
      "\n",
      "\n",
      "\n",
      "\n",
      " 39%|███▉      | 536/1358 [08:39<07:11,  1.91it/s]\u001b[A\u001b[A\u001b[A\u001b[A\n",
      "\n",
      "\n",
      "\n",
      " 40%|███▉      | 537/1358 [08:39<05:47,  2.36it/s]\u001b[A\u001b[A\u001b[A\u001b[A"
     ]
    },
    {
     "name": "stdout",
     "output_type": "stream",
     "text": [
      "вставать ok\n",
      "no examples\n",
      "[536, 'stand up', 'выступить', nan, nan, 'speak | perform | act | issue | deliver | address | come out | speak out | come up | ']\n",
      "выступить ok\n",
      "no examples\n",
      "[537, 'stand up', 'восстать', nan, nan, 'rise up | revolt | rebel | stand up | ']\n"
     ]
    },
    {
     "name": "stderr",
     "output_type": "stream",
     "text": [
      "\n",
      "\n",
      "\n",
      "\n",
      " 40%|███▉      | 538/1358 [08:41<09:32,  1.43it/s]\u001b[A\u001b[A\u001b[A\u001b[A"
     ]
    },
    {
     "name": "stdout",
     "output_type": "stream",
     "text": [
      "восстать ok\n",
      "no examples\n",
      "[538, 'stand up', 'подниматься', nan, nan, 'rise | go up | climb | come up | get up | lift | rise up | climb up | come up | ']\n"
     ]
    },
    {
     "name": "stderr",
     "output_type": "stream",
     "text": [
      "\n",
      "\n",
      "\n",
      "\n",
      " 40%|███▉      | 539/1358 [08:41<07:49,  1.74it/s]\u001b[A\u001b[A\u001b[A\u001b[A"
     ]
    },
    {
     "name": "stdout",
     "output_type": "stream",
     "text": [
      "подниматься ok\n",
      "no examples\n",
      "[539, 'stand up', 'окрепнуть', nan, nan, 'stand up | ']\n"
     ]
    },
    {
     "name": "stderr",
     "output_type": "stream",
     "text": [
      "\n",
      "\n",
      "\n",
      "\n",
      " 40%|███▉      | 540/1358 [08:42<07:44,  1.76it/s]\u001b[A\u001b[A\u001b[A\u001b[A"
     ]
    },
    {
     "name": "stdout",
     "output_type": "stream",
     "text": [
      "окрепнуть ok\n",
      "no examples\n",
      "[540, 'stand up', 'отстаивать', nan, nan, 'assert | defend | advocate | uphold | champion | defend | stand up | ']\n"
     ]
    },
    {
     "name": "stderr",
     "output_type": "stream",
     "text": [
      "\n",
      "\n",
      "\n",
      "\n",
      " 40%|███▉      | 541/1358 [08:42<07:28,  1.82it/s]\u001b[A\u001b[A\u001b[A\u001b[A"
     ]
    },
    {
     "name": "stdout",
     "output_type": "stream",
     "text": [
      "отстаивать ok\n",
      "no examples\n",
      "[541, 'stand out', 'выделяться', nan, nan, 'stand out | allocate | excel | ']\n"
     ]
    },
    {
     "name": "stderr",
     "output_type": "stream",
     "text": [
      "\n",
      "\n",
      "\n",
      "\n",
      " 40%|███▉      | 542/1358 [08:43<08:34,  1.59it/s]\u001b[A\u001b[A\u001b[A\u001b[A"
     ]
    },
    {
     "name": "stdout",
     "output_type": "stream",
     "text": [
      "выделяться ok\n",
      "no examples\n",
      "[542, 'stand out', 'выделиться', nan, nan, 'stand out | ']\n"
     ]
    },
    {
     "name": "stderr",
     "output_type": "stream",
     "text": [
      "\n",
      "\n",
      "\n",
      "\n",
      " 40%|███▉      | 543/1358 [08:43<07:03,  1.92it/s]\u001b[A\u001b[A\u001b[A\u001b[A"
     ]
    },
    {
     "name": "stdout",
     "output_type": "stream",
     "text": [
      "выделиться ok\n",
      "no examples\n",
      "[543, 'stand out', 'отличаться', nan, nan, 'differ | vary | feature | distinguish | boast | stand out | diverge | ']\n"
     ]
    },
    {
     "name": "stderr",
     "output_type": "stream",
     "text": [
      "\n",
      "\n",
      "\n",
      "\n",
      " 40%|████      | 544/1358 [08:44<08:02,  1.69it/s]\u001b[A\u001b[A\u001b[A\u001b[A"
     ]
    },
    {
     "name": "stdout",
     "output_type": "stream",
     "text": [
      "отличаться ok\n",
      "no examples\n",
      "[544, 'stand out', 'заинтересовать', nan, nan, 'interest | engage | motivate | concern | commit | wonder | ']\n"
     ]
    },
    {
     "name": "stderr",
     "output_type": "stream",
     "text": [
      "\n",
      "\n",
      "\n",
      "\n",
      " 40%|████      | 545/1358 [08:44<06:35,  2.06it/s]\u001b[A\u001b[A\u001b[A\u001b[A"
     ]
    },
    {
     "name": "stdout",
     "output_type": "stream",
     "text": [
      "заинтересовать ok\n",
      "no examples\n",
      "[545, 'stand out', 'превосходить', nan, nan, 'exceed | surpass | excel | outweigh | transcend | surpass | outperform | outstrip | stand out | ']\n"
     ]
    },
    {
     "name": "stderr",
     "output_type": "stream",
     "text": [
      "\n",
      "\n",
      "\n",
      "\n",
      " 40%|████      | 546/1358 [08:45<05:50,  2.32it/s]\u001b[A\u001b[A\u001b[A\u001b[A"
     ]
    },
    {
     "name": "stdout",
     "output_type": "stream",
     "text": [
      "превосходить ok\n",
      "no examples\n",
      "[546, 'stand by', 'придерживаться', nan, nan, 'hold | follow | maintain | pursue | embrace | favor | follow | obey | uphold | ']\n"
     ]
    },
    {
     "name": "stderr",
     "output_type": "stream",
     "text": [
      "\n",
      "\n",
      "\n",
      "\n",
      " 40%|████      | 547/1358 [08:45<05:57,  2.27it/s]\u001b[A\u001b[A\u001b[A\u001b[A"
     ]
    },
    {
     "name": "stdout",
     "output_type": "stream",
     "text": [
      "придерживаться ok\n",
      "no examples\n",
      "[547, 'stand by', 'стоять в стороне', nan, nan, ' | ']\n"
     ]
    },
    {
     "name": "stderr",
     "output_type": "stream",
     "text": [
      "\n",
      "\n",
      "\n",
      "\n",
      " 40%|████      | 548/1358 [08:46<10:02,  1.34it/s]\u001b[A\u001b[A\u001b[A\u001b[A"
     ]
    },
    {
     "name": "stdout",
     "output_type": "stream",
     "text": [
      "стоять в стороне ok\n",
      "no examples\n",
      "[548, 'fish', 'рыбный', nan, nan, ' | ']\n"
     ]
    },
    {
     "name": "stderr",
     "output_type": "stream",
     "text": [
      "\n",
      "\n",
      "\n",
      "\n",
      " 40%|████      | 549/1358 [08:47<09:45,  1.38it/s]\u001b[A\u001b[A\u001b[A\u001b[A"
     ]
    },
    {
     "name": "stdout",
     "output_type": "stream",
     "text": [
      "рыбный ok\n",
      "no examples\n",
      "[549, 'fish', 'рыба', 'fresh fish|raw fish|freshwater fish|wild fish|', 'свежая рыба | сырая рыба | пресноводная рыба | дикой рыбы | ', ' | ']\n",
      "рыба ok\n",
      "fresh fish ok\n",
      "raw fish ok\n",
      "freshwater fish ok\n"
     ]
    },
    {
     "name": "stderr",
     "output_type": "stream",
     "text": [
      "\n",
      "\n",
      "\n",
      "\n",
      " 41%|████      | 550/1358 [08:49<15:28,  1.15s/it]\u001b[A\u001b[A\u001b[A\u001b[A"
     ]
    },
    {
     "name": "stdout",
     "output_type": "stream",
     "text": [
      "wild fish ok\n",
      "[550, 'fish', 'рыбка', 'little white fish|gold fish|white fish|', 'маленькая белая рыбка | золотая рыбка | белая рыбка | ', 'small fish | goldfish | ']\n",
      "рыбка ok\n",
      "little white fish ok\n",
      "gold fish ok\n"
     ]
    },
    {
     "name": "stderr",
     "output_type": "stream",
     "text": [
      "\n",
      "\n",
      "\n",
      "\n",
      " 41%|████      | 551/1358 [08:52<19:56,  1.48s/it]\u001b[A\u001b[A\u001b[A\u001b[A"
     ]
    },
    {
     "name": "stdout",
     "output_type": "stream",
     "text": [
      "white fish ok\n",
      "[551, 'fish', 'рыбачить', nan, nan, ' | ']\n"
     ]
    },
    {
     "name": "stderr",
     "output_type": "stream",
     "text": [
      "\n",
      "\n",
      "\n",
      "\n",
      " 41%|████      | 552/1358 [08:52<16:44,  1.25s/it]\u001b[A\u001b[A\u001b[A\u001b[A"
     ]
    },
    {
     "name": "stdout",
     "output_type": "stream",
     "text": [
      "рыбачить ok\n",
      "no examples\n",
      "[552, 'fish', 'ловить рыбу', nan, nan, ' | ']\n"
     ]
    },
    {
     "name": "stderr",
     "output_type": "stream",
     "text": [
      "\n",
      "\n",
      "\n",
      "\n",
      " 41%|████      | 553/1358 [08:53<13:11,  1.02it/s]\u001b[A\u001b[A\u001b[A\u001b[A"
     ]
    },
    {
     "name": "stdout",
     "output_type": "stream",
     "text": [
      "ловить рыбу ok\n",
      "no examples\n",
      "[553, 'fish', 'удить', nan, nan, ' | ']\n"
     ]
    },
    {
     "name": "stderr",
     "output_type": "stream",
     "text": [
      "\n",
      "\n",
      "\n",
      "\n",
      " 41%|████      | 554/1358 [08:53<10:57,  1.22it/s]\u001b[A\u001b[A\u001b[A\u001b[A"
     ]
    },
    {
     "name": "stdout",
     "output_type": "stream",
     "text": [
      "удить ok\n",
      "no examples\n",
      "[554, 'fish', 'выловить', nan, nan, ' | ']\n"
     ]
    },
    {
     "name": "stderr",
     "output_type": "stream",
     "text": [
      "\n",
      "\n",
      "\n",
      "\n",
      " 41%|████      | 555/1358 [08:54<10:03,  1.33it/s]\u001b[A\u001b[A\u001b[A\u001b[A"
     ]
    },
    {
     "name": "stdout",
     "output_type": "stream",
     "text": [
      "выловить ok\n",
      "no examples\n",
      "[555, 'fish', 'ловить', nan, nan, 'catch | catch | bring down | ']\n"
     ]
    },
    {
     "name": "stderr",
     "output_type": "stream",
     "text": [
      "\n",
      "\n",
      "\n",
      "\n",
      " 41%|████      | 556/1358 [08:54<09:29,  1.41it/s]\u001b[A\u001b[A\u001b[A\u001b[A"
     ]
    },
    {
     "name": "stdout",
     "output_type": "stream",
     "text": [
      "ловить ok\n",
      "no examples\n",
      "[556, 'benefit', 'выгода', 'economic benefit|potential benefit|social benefit|maximum benefit|', 'экономическая выгода | потенциальная выгода | социальные выгоды | максимальной выгоды | ', 'gain | advantage | profit | reward | ']\n",
      "выгода ok\n",
      "economic benefit ok\n",
      "potential benefit ok\n",
      "social benefit ok\n"
     ]
    },
    {
     "name": "stderr",
     "output_type": "stream",
     "text": [
      "\n",
      "\n",
      "\n",
      "\n",
      " 41%|████      | 557/1358 [08:57<18:03,  1.35s/it]\u001b[A\u001b[A\u001b[A\u001b[A"
     ]
    },
    {
     "name": "stdout",
     "output_type": "stream",
     "text": [
      "maximum benefit ok\n",
      "[557, 'benefit', 'преимущество', 'additional benefit|main benefit|benefits of globalization|obvious benefit|', 'дополнительное преимущество | основное преимущество | преимущества глобализации | очевидное преимущество | ', 'advantage | edge | strength | ']\n",
      "преимущество ok\n",
      "additional benefit ok\n",
      "main benefit ok\n",
      "benefits of globalization ok\n"
     ]
    },
    {
     "name": "stderr",
     "output_type": "stream",
     "text": [
      "\n",
      "\n",
      "\n",
      "\n",
      " 41%|████      | 558/1358 [09:00<23:20,  1.75s/it]\u001b[A\u001b[A\u001b[A\u001b[A"
     ]
    },
    {
     "name": "stdout",
     "output_type": "stream",
     "text": [
      "obvious benefit ok\n",
      "[558, 'benefit', 'польза', 'real benefit|benefits of slowness|moral benefit|societal benefit|', 'Реальная польза | пользе неторопливости | нравственной пользы | пользу общественности | ', 'favour | use | advantage | good | utility | usefulness | ']\n",
      "польза ok\n",
      "real benefit ok\n",
      "benefits of slowness ok\n",
      "moral benefit ok\n"
     ]
    },
    {
     "name": "stderr",
     "output_type": "stream",
     "text": [
      "\n",
      "\n",
      "\n",
      "\n",
      " 41%|████      | 559/1358 [09:03<28:34,  2.15s/it]\u001b[A\u001b[A\u001b[A\u001b[A"
     ]
    },
    {
     "name": "stdout",
     "output_type": "stream",
     "text": [
      "societal benefit ok\n",
      "[559, 'benefit', 'пособие', 'welfare benefit|Parent’s Benefit|retirement benefit|government benefit|', 'социальное пособие | Родительское пособие | пенсионное пособие | государственное пособие | ', 'allowance | aid | manual | textbook | grant | welfare | stipend | guide | ']\n",
      "пособие ok\n",
      "welfare benefit ok\n",
      "Parent’s Benefit ok\n",
      "retirement benefit ok\n"
     ]
    },
    {
     "name": "stderr",
     "output_type": "stream",
     "text": [
      "\n",
      "\n",
      "\n",
      "\n",
      " 41%|████      | 560/1358 [09:18<1:19:38,  5.99s/it]\u001b[A\u001b[A\u001b[A\u001b[A"
     ]
    },
    {
     "name": "stdout",
     "output_type": "stream",
     "text": [
      "government benefit ok\n",
      "[560, 'benefit', 'льгота', 'tax benefit|pension benefit|housing benefit|special benefit|', 'налоговая льгота | пенсионная льгота | жилищные льготы | специальные льготы | ', 'privilege | break | concession | incentive | perk | exemption | preference | rebate | ']\n",
      "льгота ok\n",
      "tax benefit ok\n",
      "pension benefit ok\n",
      "housing benefit ok\n"
     ]
    },
    {
     "name": "stderr",
     "output_type": "stream",
     "text": [
      "\n",
      "\n",
      "\n",
      "\n",
      " 41%|████▏     | 561/1358 [09:21<1:06:43,  5.02s/it]\u001b[A\u001b[A\u001b[A\u001b[A"
     ]
    },
    {
     "name": "stdout",
     "output_type": "stream",
     "text": [
      "special benefit ok\n",
      "[561, 'benefit', 'благо', 'material benefit|free benefit|joint benefit|', 'материальные блага | бесплатные блага | коллективные блага | ', 'goods | blessing | boon | welfare | wealth | good | good cause | common | ']\n",
      "благо ok\n",
      "material benefit ok\n",
      "free benefit ok\n"
     ]
    },
    {
     "name": "stderr",
     "output_type": "stream",
     "text": [
      "\n",
      "\n",
      "\n",
      "\n",
      " 41%|████▏     | 562/1358 [09:22<52:28,  3.95s/it]  \u001b[A\u001b[A\u001b[A\u001b[A"
     ]
    },
    {
     "name": "stdout",
     "output_type": "stream",
     "text": [
      "joint benefit ok\n",
      "[562, 'benefit', 'прибыль', 'net benefit|huge benefit|', 'чистая прибыль | огромную прибыль | ', 'profit | return | gain | income | revenue | earning | yield | ']\n",
      "прибыль ok\n",
      "net benefit ok\n"
     ]
    },
    {
     "name": "stderr",
     "output_type": "stream",
     "text": [
      "\n",
      "\n",
      "\n",
      "\n",
      " 41%|████▏     | 563/1358 [09:24<43:50,  3.31s/it]\u001b[A\u001b[A\u001b[A\u001b[A"
     ]
    },
    {
     "name": "stdout",
     "output_type": "stream",
     "text": [
      "huge benefit ok\n",
      "[563, 'benefit', 'выплата', 'social insurance benefit|monetary benefit|', 'выплаты по социальному страхованию | денежные выплаты | ', 'payment | pay | payout | payoff | disbursement | slot | multispin | transfer | ']\n",
      "выплата ok\n",
      "social insurance benefit ok\n"
     ]
    },
    {
     "name": "stderr",
     "output_type": "stream",
     "text": [
      "\n",
      "\n",
      "\n",
      "\n",
      " 42%|████▏     | 564/1358 [09:25<34:50,  2.63s/it]\u001b[A\u001b[A\u001b[A\u001b[A"
     ]
    },
    {
     "name": "stdout",
     "output_type": "stream",
     "text": [
      "monetary benefit ok\n",
      "[564, 'benefit', 'выиграть', nan, nan, 'win | win | gain | beat | ']\n"
     ]
    },
    {
     "name": "stderr",
     "output_type": "stream",
     "text": [
      "\n",
      "\n",
      "\n",
      "\n",
      " 42%|████▏     | 565/1358 [09:25<26:16,  1.99s/it]\u001b[A\u001b[A\u001b[A\u001b[A"
     ]
    },
    {
     "name": "stdout",
     "output_type": "stream",
     "text": [
      "выиграть ok\n",
      "no examples\n",
      "[565, 'benefit', 'принести пользу', nan, nan, ' | ']\n"
     ]
    },
    {
     "name": "stderr",
     "output_type": "stream",
     "text": [
      "\n",
      "\n",
      "\n",
      "\n",
      " 42%|████▏     | 566/1358 [09:26<20:44,  1.57s/it]\u001b[A\u001b[A\u001b[A\u001b[A"
     ]
    },
    {
     "name": "stdout",
     "output_type": "stream",
     "text": [
      "принести пользу ok\n",
      "no examples\n",
      "[566, 'benefit', 'извлечь выгоду', nan, nan, ' | ']\n"
     ]
    },
    {
     "name": "stderr",
     "output_type": "stream",
     "text": [
      "\n",
      "\n",
      "\n",
      "\n",
      " 42%|████▏     | 567/1358 [09:26<15:36,  1.18s/it]\u001b[A\u001b[A\u001b[A\u001b[A"
     ]
    },
    {
     "name": "stdout",
     "output_type": "stream",
     "text": [
      "извлечь выгоду ok\n",
      "no examples\n",
      "[567, 'benefit', 'выигрывать', nan, nan, 'win | gain | win | ']\n"
     ]
    },
    {
     "name": "stderr",
     "output_type": "stream",
     "text": [
      "\n",
      "\n",
      "\n",
      "\n",
      " 42%|████▏     | 568/1358 [09:27<13:06,  1.00it/s]\u001b[A\u001b[A\u001b[A\u001b[A"
     ]
    },
    {
     "name": "stdout",
     "output_type": "stream",
     "text": [
      "выигрывать ok\n",
      "no examples\n",
      "[568, 'benefit', 'извлекать выгоду', nan, nan, ' | ']\n"
     ]
    },
    {
     "name": "stderr",
     "output_type": "stream",
     "text": [
      "\n",
      "\n",
      "\n",
      "\n",
      " 42%|████▏     | 569/1358 [09:27<10:46,  1.22it/s]\u001b[A\u001b[A\u001b[A\u001b[A"
     ]
    },
    {
     "name": "stdout",
     "output_type": "stream",
     "text": [
      "извлекать выгоду ok\n",
      "no examples\n",
      "[569, 'benefit', 'приносить пользу', nan, nan, ' | ']\n"
     ]
    },
    {
     "name": "stderr",
     "output_type": "stream",
     "text": [
      "\n",
      "\n",
      "\n",
      "\n",
      " 42%|████▏     | 570/1358 [09:27<08:35,  1.53it/s]\u001b[A\u001b[A\u001b[A\u001b[A"
     ]
    },
    {
     "name": "stdout",
     "output_type": "stream",
     "text": [
      "приносить пользу ok\n",
      "no examples\n",
      "[570, 'benefit', 'извлечь пользу', nan, nan, ' | ']\n"
     ]
    },
    {
     "name": "stderr",
     "output_type": "stream",
     "text": [
      "\n",
      "\n",
      "\n",
      "\n",
      " 42%|████▏     | 571/1358 [09:28<09:50,  1.33it/s]\u001b[A\u001b[A\u001b[A\u001b[A"
     ]
    },
    {
     "name": "stdout",
     "output_type": "stream",
     "text": [
      "извлечь пользу ok\n",
      "no examples\n",
      "[571, 'benefit', 'получать выгоду', nan, nan, ' | ']\n"
     ]
    },
    {
     "name": "stderr",
     "output_type": "stream",
     "text": [
      "\n",
      "\n",
      "\n",
      "\n",
      " 42%|████▏     | 572/1358 [09:29<09:05,  1.44it/s]\u001b[A\u001b[A\u001b[A\u001b[A"
     ]
    },
    {
     "name": "stdout",
     "output_type": "stream",
     "text": [
      "получать выгоду ok\n",
      "no examples\n",
      "[572, 'benefit', 'получить выгоду', nan, nan, ' | ']\n"
     ]
    },
    {
     "name": "stderr",
     "output_type": "stream",
     "text": [
      "\n",
      "\n",
      "\n",
      "\n",
      " 42%|████▏     | 573/1358 [09:30<08:54,  1.47it/s]\u001b[A\u001b[A\u001b[A\u001b[A"
     ]
    },
    {
     "name": "stdout",
     "output_type": "stream",
     "text": [
      "получить выгоду ok\n",
      "no examples\n",
      "[573, 'intelligent', 'умный', 'most intelligent|', 'самый умный | ', 'smart | clever | bright | wise | ']\n",
      "умный ok\n"
     ]
    },
    {
     "name": "stderr",
     "output_type": "stream",
     "text": [
      "\n",
      "\n",
      "\n",
      "\n",
      " 42%|████▏     | 574/1358 [09:30<09:21,  1.40it/s]\u001b[A\u001b[A\u001b[A\u001b[A"
     ]
    },
    {
     "name": "stdout",
     "output_type": "stream",
     "text": [
      "most intelligent ok\n",
      "[574, 'intelligent', 'интеллектуальный', nan, nan, 'intellectual | smart | mental | ']\n"
     ]
    },
    {
     "name": "stderr",
     "output_type": "stream",
     "text": [
      "\n",
      "\n",
      "\n",
      "\n",
      " 42%|████▏     | 575/1358 [09:31<08:18,  1.57it/s]\u001b[A\u001b[A\u001b[A\u001b[A"
     ]
    },
    {
     "name": "stdout",
     "output_type": "stream",
     "text": [
      "интеллектуальный ok\n",
      "no examples\n",
      "[575, 'intelligent', 'разумный', nan, nan, 'reasonable | sensible | sound | smart | rational | wise | prudent | meaningful | ']\n"
     ]
    },
    {
     "name": "stderr",
     "output_type": "stream",
     "text": [
      "\n",
      "\n",
      "\n",
      "\n",
      " 42%|████▏     | 576/1358 [09:32<11:37,  1.12it/s]\u001b[A\u001b[A\u001b[A\u001b[A"
     ]
    },
    {
     "name": "stdout",
     "output_type": "stream",
     "text": [
      "разумный ok\n",
      "no examples\n",
      "[576, 'intelligent', 'интеллигентный', nan, nan, ' | ']\n"
     ]
    },
    {
     "name": "stderr",
     "output_type": "stream",
     "text": [
      "\n",
      "\n",
      "\n",
      "\n",
      " 42%|████▏     | 577/1358 [09:33<10:21,  1.26it/s]\u001b[A\u001b[A\u001b[A\u001b[A"
     ]
    },
    {
     "name": "stdout",
     "output_type": "stream",
     "text": [
      "интеллигентный ok\n",
      "no examples\n",
      "[577, 'intelligent', 'грамотный', nan, nan, 'literate | competent | educated | well-informed | ']\n"
     ]
    },
    {
     "name": "stderr",
     "output_type": "stream",
     "text": [
      "\n",
      "\n",
      "\n",
      "\n",
      " 43%|████▎     | 578/1358 [09:34<09:30,  1.37it/s]\u001b[A\u001b[A\u001b[A\u001b[A"
     ]
    },
    {
     "name": "stdout",
     "output_type": "stream",
     "text": [
      "грамотный ok\n",
      "no examples\n",
      "[578, 'follow', 'следовать', 'to follow the on-screen instructions|to follow the instructions|to follow the signs|to follow the rules|', 'следовать инструкциям на экране | следовать инструкциям | следовать указателям | следовать правилам | ', 'pursue | have to | ']\n",
      "следовать ok\n",
      "to follow the on-screen instructions ok\n",
      "to follow the instructions ok\n",
      "to follow the signs ok\n"
     ]
    },
    {
     "name": "stderr",
     "output_type": "stream",
     "text": [
      "\n",
      "\n",
      "\n",
      "\n",
      " 43%|████▎     | 579/1358 [09:37<18:37,  1.43s/it]\u001b[A\u001b[A\u001b[A\u001b[A"
     ]
    },
    {
     "name": "stdout",
     "output_type": "stream",
     "text": [
      "to follow the rules ok\n",
      "[579, 'follow', 'последовать', 'to follow suit|to follow the troop deployment|to follow that advice|', 'последовать этому примеру | последовать рассредоточению войск | последовать этому совету | ', 'embrace | ensue | result | emulate | ']\n",
      "последовать ok\n",
      "to follow suit ok\n",
      "to follow the troop deployment ok\n"
     ]
    },
    {
     "name": "stderr",
     "output_type": "stream",
     "text": [
      "\n",
      "\n",
      "\n",
      "\n",
      " 43%|████▎     | 580/1358 [09:38<19:23,  1.50s/it]\u001b[A\u001b[A\u001b[A\u001b[A"
     ]
    },
    {
     "name": "stdout",
     "output_type": "stream",
     "text": [
      "to follow that advice ok\n",
      "[580, 'follow', 'соблюдать', 'to follow any comments|to follow any comments here|', 'соблюдать все комментарии | соблюдать все комментарии здесь | ', 'observe | respect | obey | honor | enforce | uphold | practice | adhere | ']\n",
      "соблюдать ok\n",
      "to follow any comments ok\n"
     ]
    },
    {
     "name": "stderr",
     "output_type": "stream",
     "text": [
      "\n",
      "\n",
      "\n",
      "\n",
      " 43%|████▎     | 581/1358 [09:40<18:59,  1.47s/it]\u001b[A\u001b[A\u001b[A\u001b[A"
     ]
    },
    {
     "name": "stdout",
     "output_type": "stream",
     "text": [
      "to follow any comments here ok\n",
      "[581, 'follow', 'следить', 'to follow our news|to follow my cards|', 'следить за нашими новостями | следить за картами | ', 'watch | monitor | track | care | watch out | maintain | keep track of | ']\n",
      "следить ok\n",
      "to follow our news ok\n"
     ]
    },
    {
     "name": "stderr",
     "output_type": "stream",
     "text": [
      "\n",
      "\n",
      "\n",
      "\n",
      " 43%|████▎     | 582/1358 [09:41<19:00,  1.47s/it]\u001b[A\u001b[A\u001b[A\u001b[A"
     ]
    },
    {
     "name": "stdout",
     "output_type": "stream",
     "text": [
      "to follow my cards ok\n",
      "[582, 'follow', 'придерживаться', 'to follow policy|', 'придерживаться политики | ', 'hold | maintain | pursue | embrace | favor | obey | uphold | ']\n",
      "придерживаться ok\n"
     ]
    },
    {
     "name": "stderr",
     "output_type": "stream",
     "text": [
      "\n",
      "\n",
      "\n",
      "\n",
      " 43%|████▎     | 583/1358 [09:43<20:23,  1.58s/it]\u001b[A\u001b[A\u001b[A\u001b[A"
     ]
    },
    {
     "name": "stdout",
     "output_type": "stream",
     "text": [
      "to follow policy ok\n",
      "[583, 'follow', 'выполнить', nan, nan, 'perform | do | fulfill | meet | execute | complete | accomplish | carry out | implement | ']\n"
     ]
    },
    {
     "name": "stderr",
     "output_type": "stream",
     "text": [
      "\n",
      "\n",
      "\n",
      "\n",
      " 43%|████▎     | 584/1358 [09:44<16:25,  1.27s/it]\u001b[A\u001b[A\u001b[A\u001b[A"
     ]
    },
    {
     "name": "stdout",
     "output_type": "stream",
     "text": [
      "выполнить ok\n",
      "no examples\n",
      "[584, 'follow', 'идти', nan, nan, 'go | come | walk | go | move | keep | run | walk | ']\n"
     ]
    },
    {
     "name": "stderr",
     "output_type": "stream",
     "text": [
      "\n",
      "\n",
      "\n",
      "\n",
      " 43%|████▎     | 585/1358 [09:44<12:44,  1.01it/s]\u001b[A\u001b[A\u001b[A\u001b[A"
     ]
    },
    {
     "name": "stdout",
     "output_type": "stream",
     "text": [
      "идти ok\n",
      "no examples\n",
      "[585, 'follow', 'вытекать', 'to follow from inequality|', 'вытекать из неравенства | ', 'derive | result | arise | stem | ']\n",
      "вытекать ok\n"
     ]
    },
    {
     "name": "stderr",
     "output_type": "stream",
     "text": [
      "\n",
      "\n",
      "\n",
      "\n",
      " 43%|████▎     | 586/1358 [09:45<11:30,  1.12it/s]\u001b[A\u001b[A\u001b[A\u001b[A"
     ]
    },
    {
     "name": "stdout",
     "output_type": "stream",
     "text": [
      "to follow from inequality ok\n",
      "[586, 'follow', 'предшествовать', nan, nan, 'precede | predate | ']\n"
     ]
    },
    {
     "name": "stderr",
     "output_type": "stream",
     "text": [
      "\n",
      "\n",
      "\n",
      "\n",
      " 43%|████▎     | 587/1358 [09:45<09:24,  1.37it/s]\u001b[A\u001b[A\u001b[A\u001b[A"
     ]
    },
    {
     "name": "stdout",
     "output_type": "stream",
     "text": [
      "предшествовать ok\n",
      "no examples\n",
      "[587, 'follow up', 'проконсультироваться', nan, nan, 'consult | ']\n"
     ]
    },
    {
     "name": "stderr",
     "output_type": "stream",
     "text": [
      "\n",
      "\n",
      "\n",
      "\n",
      " 43%|████▎     | 588/1358 [09:45<07:37,  1.68it/s]\u001b[A\u001b[A\u001b[A\u001b[A"
     ]
    },
    {
     "name": "stdout",
     "output_type": "stream",
     "text": [
      "проконсультироваться ok\n",
      "no examples\n",
      "[588, 'journey', 'путешествие', 'fascinating journey|musical journey|vagina journey|continuous journey|', 'захватывающее путешествие | музыкальное путешествие | путешествие вагины | непрерывное путешествие | ', 'travel | trip | voyage | tour | ']\n",
      "путешествие ok\n",
      "fascinating journey ok\n",
      "musical journey ok\n",
      "vagina journey ok\n"
     ]
    },
    {
     "name": "stderr",
     "output_type": "stream",
     "text": [
      "\n",
      "\n",
      "\n",
      "\n",
      " 43%|████▎     | 589/1358 [09:48<18:11,  1.42s/it]\u001b[A\u001b[A\u001b[A\u001b[A"
     ]
    },
    {
     "name": "stdout",
     "output_type": "stream",
     "text": [
      "continuous journey ok\n",
      "[589, 'journey', 'путь', 'life journey|long journey|journey of suffering|long journey of suffering|', 'жизненный путь | долгий путь | путь страданий | долгий путь страданий | ', 'way | path | road | route | track | ']\n",
      "путь ok\n",
      "life journey ok\n",
      "long journey ok\n",
      "journey of suffering ok\n"
     ]
    },
    {
     "name": "stderr",
     "output_type": "stream",
     "text": [
      "\n",
      "\n",
      "\n",
      "\n",
      " 43%|████▎     | 590/1358 [09:51<24:05,  1.88s/it]\u001b[A\u001b[A\u001b[A\u001b[A"
     ]
    },
    {
     "name": "stdout",
     "output_type": "stream",
     "text": [
      "long journey of suffering ok\n",
      "[590, 'journey', 'поездка', 'rail journey|', 'железнодорожная поездка | ', 'trip | travel | drive | visit | ride | tour | traveler | ']\n",
      "поездка ok\n"
     ]
    },
    {
     "name": "stderr",
     "output_type": "stream",
     "text": [
      "\n",
      "\n",
      "\n",
      "\n",
      " 44%|████▎     | 591/1358 [09:53<21:05,  1.65s/it]\u001b[A\u001b[A\u001b[A\u001b[A"
     ]
    },
    {
     "name": "stdout",
     "output_type": "stream",
     "text": [
      "rail journey ok\n",
      "[591, 'news', 'новость', 'good news|bad news|weekly news|international news|', 'хорошая новость | плохая новость | Еженедельные новости | международную новость | ', ' | ']\n",
      "новость ok\n",
      "good news ok\n",
      "bad news ok\n",
      "weekly news ok\n"
     ]
    },
    {
     "name": "stderr",
     "output_type": "stream",
     "text": [
      "\n",
      "\n",
      "\n",
      "\n",
      " 44%|████▎     | 592/1358 [09:55<25:02,  1.96s/it]\u001b[A\u001b[A\u001b[A\u001b[A"
     ]
    },
    {
     "name": "stdout",
     "output_type": "stream",
     "text": [
      "international news ok\n",
      "[592, 'news', 'ньюз', nan, nan, 'News added | news report | ']\n"
     ]
    },
    {
     "name": "stderr",
     "output_type": "stream",
     "text": [
      "\n",
      "\n",
      "\n",
      "\n",
      " 44%|████▎     | 593/1358 [09:56<21:24,  1.68s/it]\u001b[A\u001b[A\u001b[A\u001b[A"
     ]
    },
    {
     "name": "stdout",
     "output_type": "stream",
     "text": [
      "ньюз ok\n",
      "no examples\n",
      "[593, 'news', 'известие', 'welcome news|', 'долгожданное известие | ', 'lime | proceeding | ']\n",
      "известие ok\n"
     ]
    },
    {
     "name": "stderr",
     "output_type": "stream",
     "text": [
      "\n",
      "\n",
      "\n",
      "\n",
      " 44%|████▎     | 594/1358 [09:57<18:06,  1.42s/it]\u001b[A\u001b[A\u001b[A\u001b[A"
     ]
    },
    {
     "name": "stdout",
     "output_type": "stream",
     "text": [
      "welcome news ok\n",
      "[594, 'news', 'Ньюз', 'news international|', 'Ньюз интернэшнл | ', ' | ']\n",
      "Ньюз ok\n"
     ]
    },
    {
     "name": "stderr",
     "output_type": "stream",
     "text": [
      "\n",
      "\n",
      "\n",
      "\n",
      " 44%|████▍     | 595/1358 [09:58<17:21,  1.36s/it]\u001b[A\u001b[A\u001b[A\u001b[A"
     ]
    },
    {
     "name": "stdout",
     "output_type": "stream",
     "text": [
      "news international ok\n",
      "[595, 'news', 'собщение', nan, nan, 'message | report | post | e-mail | communication | link | statement | messaging | connection | ']\n"
     ]
    },
    {
     "name": "stderr",
     "output_type": "stream",
     "text": [
      "\n",
      "\n",
      "\n",
      "\n",
      " 44%|████▍     | 596/1358 [09:59<14:02,  1.11s/it]\u001b[A\u001b[A\u001b[A\u001b[A"
     ]
    },
    {
     "name": "stdout",
     "output_type": "stream",
     "text": [
      "собщение ok\n",
      "no examples\n",
      "[596, 'write', 'писать', 'to write software|to write a book|to write here|to write off the West|', 'писать программы | писать книги | писать здесь | писать о Западе | ', 'report | paint | ']\n",
      "писать ok\n",
      "to write software ok\n",
      "to write a book ok\n",
      "to write here ok\n"
     ]
    },
    {
     "name": "stderr",
     "output_type": "stream",
     "text": [
      "\n",
      "\n",
      "\n",
      "\n",
      " 44%|████▍     | 597/1358 [10:02<20:19,  1.60s/it]\u001b[A\u001b[A\u001b[A\u001b[A"
     ]
    },
    {
     "name": "stdout",
     "output_type": "stream",
     "text": [
      "to write off the West ok\n",
      "[597, 'write', 'написать', 'to write this page|to write a program|to write this book|to write an article|', 'написать эту страницу | написать программу | написать эту книгу | написать статью | ', 'contact | label | ']\n",
      "написать ok\n",
      "to write this page ok\n",
      "to write a program ok\n",
      "to write this book ok\n"
     ]
    },
    {
     "name": "stderr",
     "output_type": "stream",
     "text": [
      "\n",
      "\n",
      "\n",
      "\n",
      " 44%|████▍     | 598/1358 [10:05<25:56,  2.05s/it]\u001b[A\u001b[A\u001b[A\u001b[A"
     ]
    },
    {
     "name": "stdout",
     "output_type": "stream",
     "text": [
      "to write an article ok\n",
      "[598, 'write', 'записать', 'to write those stories|', 'записать эти истории | ', 'record | burn | write down | capture | enroll | record | insert | ']\n",
      "записать ok\n"
     ]
    },
    {
     "name": "stderr",
     "output_type": "stream",
     "text": [
      "\n",
      "\n",
      "\n",
      "\n",
      " 44%|████▍     | 599/1358 [10:05<21:14,  1.68s/it]\u001b[A\u001b[A\u001b[A\u001b[A"
     ]
    },
    {
     "name": "stdout",
     "output_type": "stream",
     "text": [
      "to write those stories ok\n",
      "[599, 'write', 'записывать', 'to write the genetic code|to write messages|', 'записывать генетический код | записывать сообщения | ', 'record | write down | burn | record | log | enroll | recode | ']\n",
      "записывать ok\n"
     ]
    },
    {
     "name": "stderr",
     "output_type": "stream",
     "text": [
      "\n",
      "\n",
      "\n",
      "\n",
      " 44%|████▍     | 600/1358 [10:06<18:12,  1.44s/it]\u001b[A\u001b[A\u001b[A\u001b[A"
     ]
    },
    {
     "name": "stdout",
     "output_type": "stream",
     "text": [
      "to write the genetic code ok\n",
      "to write messages ok\n",
      "[600, 'write', 'сочинять', nan, nan, 'compose | ']\n"
     ]
    },
    {
     "name": "stderr",
     "output_type": "stream",
     "text": [
      "\n",
      "\n",
      "\n",
      "\n",
      " 44%|████▍     | 601/1358 [10:07<14:41,  1.16s/it]\u001b[A\u001b[A\u001b[A\u001b[A"
     ]
    },
    {
     "name": "stdout",
     "output_type": "stream",
     "text": [
      "сочинять ok\n",
      "no examples\n",
      "[601, 'write', 'писаться', nan, nan, ' | ']\n"
     ]
    },
    {
     "name": "stderr",
     "output_type": "stream",
     "text": [
      "\n",
      "\n",
      "\n",
      "\n",
      " 44%|████▍     | 602/1358 [10:07<12:00,  1.05it/s]\u001b[A\u001b[A\u001b[A\u001b[A"
     ]
    },
    {
     "name": "stdout",
     "output_type": "stream",
     "text": [
      "писаться ok\n",
      "no examples\n",
      "[602, 'write down', 'записать', nan, nan, 'record | write | burn | write down | capture | enroll | record | write | insert | ']\n"
     ]
    },
    {
     "name": "stderr",
     "output_type": "stream",
     "text": [
      "\n",
      "\n",
      "\n",
      "\n",
      " 44%|████▍     | 603/1358 [10:08<10:07,  1.24it/s]\u001b[A\u001b[A\u001b[A\u001b[A"
     ]
    },
    {
     "name": "stdout",
     "output_type": "stream",
     "text": [
      "записать ok\n",
      "no examples\n",
      "[603, 'write down', 'записывать', nan, nan, 'record | write | write down | burn | write | record | log | enroll | recode | ']\n"
     ]
    },
    {
     "name": "stderr",
     "output_type": "stream",
     "text": [
      "\n",
      "\n",
      "\n",
      "\n",
      " 44%|████▍     | 604/1358 [10:08<09:08,  1.38it/s]\u001b[A\u001b[A\u001b[A\u001b[A"
     ]
    },
    {
     "name": "stdout",
     "output_type": "stream",
     "text": [
      "записывать ok\n",
      "no examples\n",
      "[604, 'write down', 'списать', nan, nan, 'write down | write off | dispose of | ']\n"
     ]
    },
    {
     "name": "stderr",
     "output_type": "stream",
     "text": [
      "\n",
      "\n",
      "\n",
      "\n",
      " 45%|████▍     | 605/1358 [10:09<07:25,  1.69it/s]\u001b[A\u001b[A\u001b[A\u001b[A"
     ]
    },
    {
     "name": "stdout",
     "output_type": "stream",
     "text": [
      "списать ok\n",
      "no examples\n",
      "[605, 'write down', 'выписать', nan, nan, 'discharge | write down | go home | ']\n"
     ]
    },
    {
     "name": "stderr",
     "output_type": "stream",
     "text": [
      "\n",
      "\n",
      "\n",
      "\n",
      " 45%|████▍     | 606/1358 [10:09<06:27,  1.94it/s]\u001b[A\u001b[A\u001b[A\u001b[A"
     ]
    },
    {
     "name": "stdout",
     "output_type": "stream",
     "text": [
      "выписать ok\n",
      "no examples\n",
      "[606, 'approbation', 'апробация', 'clinical approbation|', 'клинической апробации | ', ' | ']\n",
      "апробация ok\n"
     ]
    },
    {
     "name": "stderr",
     "output_type": "stream",
     "text": [
      "\n",
      "\n",
      "\n",
      "\n",
      " 45%|████▍     | 607/1358 [10:10<07:25,  1.68it/s]\u001b[A\u001b[A\u001b[A\u001b[A"
     ]
    },
    {
     "name": "stdout",
     "output_type": "stream",
     "text": [
      "clinical approbation ok\n",
      "[607, 'read', 'чтение', 'read ahead|', 'упреждающее чтение | ', 'reading | reader | ']\n",
      "чтение ok\n"
     ]
    },
    {
     "name": "stderr",
     "output_type": "stream",
     "text": [
      "\n",
      "\n",
      "\n",
      "\n",
      " 45%|████▍     | 608/1358 [10:11<09:57,  1.25it/s]\u001b[A\u001b[A\u001b[A\u001b[A"
     ]
    },
    {
     "name": "stdout",
     "output_type": "stream",
     "text": [
      "read ahead ok\n",
      "[608, 'read', 'читать', 'to read more|to read more here|to read full article|to read books|', 'читать далее | Далее читать здесь | Читать полный текст статьи | читать книги | ', 'recite | ']\n",
      "читать ok\n",
      "to read more ok\n",
      "to read more here ok\n",
      "to read full article ok\n"
     ]
    },
    {
     "name": "stderr",
     "output_type": "stream",
     "text": [
      "\n",
      "\n",
      "\n",
      "\n",
      " 45%|████▍     | 609/1358 [10:13<13:51,  1.11s/it]\u001b[A\u001b[A\u001b[A\u001b[A"
     ]
    },
    {
     "name": "stdout",
     "output_type": "stream",
     "text": [
      "to read books ok\n",
      "[609, 'read', 'прочитать', 'to read the book|to read this message|to read a book|to read that chapter|', 'прочитать книгу | прочитать это сообщение | просто прочитать книгу | прочитать эту главу | ', ' | ']\n",
      "прочитать ok\n",
      "to read the book ok\n",
      "to read this message ok\n",
      "to read a book ok\n"
     ]
    },
    {
     "name": "stderr",
     "output_type": "stream",
     "text": [
      "\n",
      "\n",
      "\n",
      "\n",
      " 45%|████▍     | 610/1358 [10:15<17:21,  1.39s/it]\u001b[A\u001b[A\u001b[A\u001b[A"
     ]
    },
    {
     "name": "stdout",
     "output_type": "stream",
     "text": [
      "to read that chapter ok\n",
      "[610, 'read', 'прочесть', 'to read all your essays|to read the letter|to read our technical documents|to read this article|', 'прочесть все ваши эссе | прочесть письмо | прочесть нашу техническую документацию | прочесть данную статью | ', ' | ']\n",
      "прочесть ok\n",
      "to read all your essays ok\n",
      "to read the letter ok\n",
      "to read our technical documents ok\n"
     ]
    },
    {
     "name": "stderr",
     "output_type": "stream",
     "text": [
      "\n",
      "\n",
      "\n",
      "\n",
      " 45%|████▍     | 611/1358 [10:17<21:09,  1.70s/it]\u001b[A\u001b[A\u001b[A\u001b[A"
     ]
    },
    {
     "name": "stdout",
     "output_type": "stream",
     "text": [
      "to read this article ok\n",
      "[611, 'read', 'почитать', 'to read the newspaper|', 'почитать газету | ', 'esteem | honor | revere | worship | ']\n",
      "почитать ok\n"
     ]
    },
    {
     "name": "stderr",
     "output_type": "stream",
     "text": [
      "\n",
      "\n",
      "\n",
      "\n",
      " 45%|████▌     | 612/1358 [10:18<17:14,  1.39s/it]\u001b[A\u001b[A\u001b[A\u001b[A"
     ]
    },
    {
     "name": "stdout",
     "output_type": "stream",
     "text": [
      "to read the newspaper ok\n",
      "[612, 'read', 'ознакомиться', nan, nan, 'familiarize | learn | review | view | check | acquaint | observe | access | ']\n"
     ]
    },
    {
     "name": "stderr",
     "output_type": "stream",
     "text": [
      "\n",
      "\n",
      "\n",
      "\n",
      " 45%|████▌     | 613/1358 [10:18<13:34,  1.09s/it]\u001b[A\u001b[A\u001b[A\u001b[A"
     ]
    },
    {
     "name": "stdout",
     "output_type": "stream",
     "text": [
      "ознакомиться ok\n",
      "no examples\n",
      "[613, 'read', 'узнать', nan, nan, 'learn | know | find out | recognize | discover | hear | ']\n"
     ]
    },
    {
     "name": "stderr",
     "output_type": "stream",
     "text": [
      "\n",
      "\n",
      "\n",
      "\n",
      " 45%|████▌     | 614/1358 [10:21<18:16,  1.47s/it]\u001b[A\u001b[A\u001b[A\u001b[A"
     ]
    },
    {
     "name": "stdout",
     "output_type": "stream",
     "text": [
      "узнать ok\n",
      "no examples\n",
      "[614, 'read', 'читаться', nan, nan, ' | ']\n"
     ]
    },
    {
     "name": "stderr",
     "output_type": "stream",
     "text": [
      "\n",
      "\n",
      "\n",
      "\n",
      " 45%|████▌     | 615/1358 [10:21<13:49,  1.12s/it]\u001b[A\u001b[A\u001b[A\u001b[A"
     ]
    },
    {
     "name": "stdout",
     "output_type": "stream",
     "text": [
      "читаться ok\n",
      "no examples\n",
      "[615, 'read', 'зачитать', nan, nan, ' | ']\n"
     ]
    },
    {
     "name": "stderr",
     "output_type": "stream",
     "text": [
      "\n",
      "\n",
      "\n",
      "\n",
      " 45%|████▌     | 616/1358 [10:22<12:46,  1.03s/it]\u001b[A\u001b[A\u001b[A\u001b[A"
     ]
    },
    {
     "name": "stdout",
     "output_type": "stream",
     "text": [
      "зачитать ok\n",
      "no examples\n",
      "[616, 'read', 'гласить', nan, nan, 'stipulate | read as follows | ']\n"
     ]
    },
    {
     "name": "stderr",
     "output_type": "stream",
     "text": [
      "\n",
      "\n",
      "\n",
      "\n",
      " 45%|████▌     | 617/1358 [10:22<09:49,  1.26it/s]\u001b[A\u001b[A\u001b[A\u001b[A"
     ]
    },
    {
     "name": "stdout",
     "output_type": "stream",
     "text": [
      "гласить ok\n",
      "no examples\n",
      "[617, 'hear', 'слышать', 'to hear yesterday|to hear a lot|to hear music|to regularly hear often|', 'слышать вчера | много слышать | слышать музыку | регулярно слышать часто | ', 'hear of | listen | ']\n",
      "слышать ok\n",
      "to hear yesterday ok\n",
      "to hear a lot ok\n",
      "to hear music ok\n"
     ]
    },
    {
     "name": "stderr",
     "output_type": "stream",
     "text": [
      "\n",
      "\n",
      "\n",
      "\n",
      " 46%|████▌     | 618/1358 [10:25<17:19,  1.41s/it]\u001b[A\u001b[A\u001b[A\u001b[A"
     ]
    },
    {
     "name": "stdout",
     "output_type": "stream",
     "text": [
      "to regularly hear often ok\n",
      "[618, 'hear', 'услышать', 'to hear the song|to hear a few weird songs|to hear the sound|to hear gunfire|', 'услышать песню | услышать несколько странных песен | услышать звук | услышать выстрелы | ', ' | ']\n",
      "услышать ok\n",
      "to hear the song ok\n",
      "to hear a few weird songs ok\n",
      "to hear the sound ok\n"
     ]
    },
    {
     "name": "stderr",
     "output_type": "stream",
     "text": [
      "\n",
      "\n",
      "\n",
      "\n",
      " 46%|████▌     | 619/1358 [10:27<20:26,  1.66s/it]\u001b[A\u001b[A\u001b[A\u001b[A"
     ]
    },
    {
     "name": "stdout",
     "output_type": "stream",
     "text": [
      "to hear gunfire ok\n",
      "[619, 'hear', 'слушать', nan, nan, 'listen | listen | listen for | obey | ']\n"
     ]
    },
    {
     "name": "stderr",
     "output_type": "stream",
     "text": [
      "\n",
      "\n",
      "\n",
      "\n",
      " 46%|████▌     | 620/1358 [10:28<15:28,  1.26s/it]\u001b[A\u001b[A\u001b[A\u001b[A"
     ]
    },
    {
     "name": "stdout",
     "output_type": "stream",
     "text": [
      "слушать ok\n",
      "no examples\n",
      "[620, 'hear', 'узнать', nan, nan, 'learn | know | find out | recognize | discover | read | ']\n"
     ]
    },
    {
     "name": "stderr",
     "output_type": "stream",
     "text": [
      "\n",
      "\n",
      "\n",
      "\n",
      " 46%|████▌     | 621/1358 [10:28<12:54,  1.05s/it]\u001b[A\u001b[A\u001b[A\u001b[A"
     ]
    },
    {
     "name": "stdout",
     "output_type": "stream",
     "text": [
      "узнать ok\n",
      "no examples\n",
      "[621, 'hear', 'послушать', nan, nan, 'listen | ']\n"
     ]
    },
    {
     "name": "stderr",
     "output_type": "stream",
     "text": [
      "\n",
      "\n",
      "\n",
      "\n",
      " 46%|████▌     | 622/1358 [10:28<10:12,  1.20it/s]\u001b[A\u001b[A\u001b[A\u001b[A"
     ]
    },
    {
     "name": "stdout",
     "output_type": "stream",
     "text": [
      "послушать ok\n",
      "no examples\n",
      "[622, 'hear', 'заслушать', nan, nan, ' | ']\n"
     ]
    },
    {
     "name": "stderr",
     "output_type": "stream",
     "text": [
      "\n",
      "\n",
      "\n",
      "\n",
      " 46%|████▌     | 623/1358 [10:29<08:51,  1.38it/s]\u001b[A\u001b[A\u001b[A\u001b[A"
     ]
    },
    {
     "name": "stdout",
     "output_type": "stream",
     "text": [
      "заслушать ok\n",
      "no examples\n",
      "[623, 'hear', 'выслушать', nan, nan, 'listen | hear out | ']\n"
     ]
    },
    {
     "name": "stderr",
     "output_type": "stream",
     "text": [
      "\n",
      "\n",
      "\n",
      "\n",
      " 46%|████▌     | 624/1358 [10:29<06:58,  1.75it/s]\u001b[A\u001b[A\u001b[A\u001b[A"
     ]
    },
    {
     "name": "stdout",
     "output_type": "stream",
     "text": [
      "выслушать ok\n",
      "no examples\n",
      "[624, 'hear of', 'слышать', nan, nan, 'hear | hear | listen | ']\n"
     ]
    },
    {
     "name": "stderr",
     "output_type": "stream",
     "text": [
      "\n",
      "\n",
      "\n",
      "\n",
      " 46%|████▌     | 625/1358 [10:29<06:01,  2.03it/s]\u001b[A\u001b[A\u001b[A\u001b[A"
     ]
    },
    {
     "name": "stdout",
     "output_type": "stream",
     "text": [
      "слышать ok\n",
      "no examples\n",
      "[625, 'feel', 'ощущение', nan, nan, 'feeling | sense | sensation | experience | perception | impression | ']\n"
     ]
    },
    {
     "name": "stderr",
     "output_type": "stream",
     "text": [
      "\n",
      "\n",
      "\n",
      "\n",
      " 46%|████▌     | 626/1358 [10:30<06:17,  1.94it/s]\u001b[A\u001b[A\u001b[A\u001b[A"
     ]
    },
    {
     "name": "stdout",
     "output_type": "stream",
     "text": [
      "ощущение ok\n",
      "no examples\n",
      "[626, 'feel', 'чувствовать', \"to feel pain|to feel God's love|to feel the need|to feel pressure|\", 'чувствовать боль | чувствовать Божью любовь | чувствовать потребность | чувствовать давление | ', 'sense | experience | ']\n",
      "чувствовать ok\n",
      "to feel pain ok\n",
      "to feel God's love ok\n",
      "to feel the need ok\n"
     ]
    },
    {
     "name": "stderr",
     "output_type": "stream",
     "text": [
      "\n",
      "\n",
      "\n",
      "\n",
      " 46%|████▌     | 627/1358 [10:33<13:42,  1.13s/it]\u001b[A\u001b[A\u001b[A\u001b[A"
     ]
    },
    {
     "name": "stdout",
     "output_type": "stream",
     "text": [
      "to feel pressure ok\n",
      "[627, 'feel', 'почувствовать', nan, nan, 'experience | sense | ']\n"
     ]
    },
    {
     "name": "stderr",
     "output_type": "stream",
     "text": [
      "\n",
      "\n",
      "\n",
      "\n",
      " 46%|████▌     | 628/1358 [10:33<10:38,  1.14it/s]\u001b[A\u001b[A\u001b[A\u001b[A"
     ]
    },
    {
     "name": "stdout",
     "output_type": "stream",
     "text": [
      "почувствовать ok\n",
      "no examples\n",
      "[628, 'feel', 'ощутить', nan, nan, 'experience | sense | perceive | ']\n"
     ]
    },
    {
     "name": "stderr",
     "output_type": "stream",
     "text": [
      "\n",
      "\n",
      "\n",
      "\n",
      " 46%|████▋     | 629/1358 [10:33<09:14,  1.32it/s]\u001b[A\u001b[A\u001b[A\u001b[A"
     ]
    },
    {
     "name": "stdout",
     "output_type": "stream",
     "text": [
      "ощутить ok\n",
      "no examples\n",
      "[629, 'feel', 'считать', nan, nan, 'believe | think | consider | say | see | find | count | regard | ']\n"
     ]
    },
    {
     "name": "stderr",
     "output_type": "stream",
     "text": [
      "\n",
      "\n",
      "\n",
      "\n",
      " 46%|████▋     | 630/1358 [10:34<07:19,  1.66it/s]\u001b[A\u001b[A\u001b[A\u001b[A"
     ]
    },
    {
     "name": "stdout",
     "output_type": "stream",
     "text": [
      "считать ok\n",
      "no examples\n",
      "[630, 'feel', 'испытывать', 'to feel some happiness|', 'испытывать чувство счастья | ', 'experience | face | test | suffer | ']\n",
      "испытывать ok\n"
     ]
    },
    {
     "name": "stderr",
     "output_type": "stream",
     "text": [
      "\n",
      "\n",
      "\n",
      "\n",
      " 46%|████▋     | 631/1358 [10:35<08:55,  1.36it/s]\u001b[A\u001b[A\u001b[A\u001b[A\n",
      "\n",
      "\n",
      "\n",
      " 47%|████▋     | 632/1358 [10:35<06:52,  1.76it/s]\u001b[A\u001b[A\u001b[A\u001b[A"
     ]
    },
    {
     "name": "stdout",
     "output_type": "stream",
     "text": [
      "to feel some happiness ok\n",
      "[631, 'feel', 'казаться', nan, nan, 'seem | think | appear | look | believe | sound | ']\n",
      "казаться ok\n",
      "no examples\n",
      "[632, 'feel', 'ощутиться', nan, nan, 'linger | ']\n"
     ]
    },
    {
     "name": "stderr",
     "output_type": "stream",
     "text": [
      "\n",
      "\n",
      "\n",
      "\n",
      " 47%|████▋     | 633/1358 [10:36<08:09,  1.48it/s]\u001b[A\u001b[A\u001b[A\u001b[A"
     ]
    },
    {
     "name": "stdout",
     "output_type": "stream",
     "text": [
      "ощутиться ok\n",
      "no examples\n",
      "[633, 'feel', 'полезть', nan, nan, 'climb | ']\n"
     ]
    },
    {
     "name": "stderr",
     "output_type": "stream",
     "text": [
      "\n",
      "\n",
      "\n",
      "\n",
      " 47%|████▋     | 634/1358 [10:36<07:35,  1.59it/s]\u001b[A\u001b[A\u001b[A\u001b[A"
     ]
    },
    {
     "name": "stdout",
     "output_type": "stream",
     "text": [
      "полезть ok\n",
      "no examples\n",
      "[634, 'feel', 'прибавить', nan, nan, 'add | pick up | couple | ']\n"
     ]
    },
    {
     "name": "stderr",
     "output_type": "stream",
     "text": [
      "\n",
      "\n",
      "\n",
      "\n",
      " 47%|████▋     | 635/1358 [10:37<07:31,  1.60it/s]\u001b[A\u001b[A\u001b[A\u001b[A"
     ]
    },
    {
     "name": "stdout",
     "output_type": "stream",
     "text": [
      "прибавить ok\n",
      "no examples\n",
      "[635, 'be', 'быть', 'to be in CG|to be here|to be there|', 'быть компьютерным | был здесь | там быть | ', 'have | include | feature | get | come | go | offer | become | ']\n",
      "быть ok\n",
      "to be in CG ok\n",
      "to be here ok\n"
     ]
    },
    {
     "name": "stderr",
     "output_type": "stream",
     "text": [
      "\n",
      "\n",
      "\n",
      "\n",
      " 47%|████▋     | 636/1358 [10:38<11:14,  1.07it/s]\u001b[A\u001b[A\u001b[A\u001b[A\n",
      "\n",
      "\n",
      "\n",
      " 47%|████▋     | 637/1358 [10:39<08:27,  1.42it/s]\u001b[A\u001b[A\u001b[A\u001b[A"
     ]
    },
    {
     "name": "stdout",
     "output_type": "stream",
     "text": [
      "to be there ok\n",
      "[636, 'be', 'стать', nan, nan, 'become | begin | start | become | get | make | come | ']\n",
      "стать ok\n",
      "no examples\n",
      "[637, 'be', 'иметь', nan, nan, 'have | make | mean | feature | hold | enjoy | keep | possess | ']\n"
     ]
    },
    {
     "name": "stderr",
     "output_type": "stream",
     "text": [
      "\n",
      "\n",
      "\n",
      "\n",
      " 47%|████▋     | 638/1358 [10:39<08:06,  1.48it/s]\u001b[A\u001b[A\u001b[A\u001b[A"
     ]
    },
    {
     "name": "stdout",
     "output_type": "stream",
     "text": [
      "иметь ok\n",
      "no examples\n",
      "[638, 'be', 'являться', nan, nan, 'represent | provide | include | constitute | become | remain | belong | ']\n"
     ]
    },
    {
     "name": "stderr",
     "output_type": "stream",
     "text": [
      "\n",
      "\n",
      "\n",
      "\n",
      " 47%|████▋     | 639/1358 [10:40<07:13,  1.66it/s]\u001b[A\u001b[A\u001b[A\u001b[A"
     ]
    },
    {
     "name": "stdout",
     "output_type": "stream",
     "text": [
      "являться ok\n",
      "no examples\n",
      "[639, 'be', 'находиться', nan, nan, 'locate | set | find | situate | lie | sit | remain | stay | contain | ']\n"
     ]
    },
    {
     "name": "stderr",
     "output_type": "stream",
     "text": [
      "\n",
      "\n",
      "\n",
      "\n",
      " 47%|████▋     | 640/1358 [10:40<06:56,  1.72it/s]\u001b[A\u001b[A\u001b[A\u001b[A"
     ]
    },
    {
     "name": "stdout",
     "output_type": "stream",
     "text": [
      "находиться ok\n",
      "no examples\n",
      "[640, 'be', 'заключаться', nan, nan, 'lie | consist | consist of | concern | relate | stem from | enclose | ']\n"
     ]
    },
    {
     "name": "stderr",
     "output_type": "stream",
     "text": [
      "\n",
      "\n",
      "\n",
      "\n",
      " 47%|████▋     | 641/1358 [10:40<05:51,  2.04it/s]\u001b[A\u001b[A\u001b[A\u001b[A"
     ]
    },
    {
     "name": "stdout",
     "output_type": "stream",
     "text": [
      "заключаться ok\n",
      "no examples\n",
      "[641, 'be', 'оказаться', nan, nan, 'prove | appear | turn out | end up | end | face | trap | strand | ']\n"
     ]
    },
    {
     "name": "stderr",
     "output_type": "stream",
     "text": [
      "\n",
      "\n",
      "\n",
      "\n",
      " 47%|████▋     | 642/1358 [10:41<04:57,  2.40it/s]\u001b[A\u001b[A\u001b[A\u001b[A"
     ]
    },
    {
     "name": "stdout",
     "output_type": "stream",
     "text": [
      "оказаться ok\n",
      "no examples\n",
      "[642, 'be', 'нести', nan, nan, 'bear | carry | assume | hold | bring | accept | pose | bore | ']\n"
     ]
    },
    {
     "name": "stderr",
     "output_type": "stream",
     "text": [
      "\n",
      "\n",
      "\n",
      "\n",
      " 47%|████▋     | 643/1358 [10:41<04:15,  2.79it/s]\u001b[A\u001b[A\u001b[A\u001b[A"
     ]
    },
    {
     "name": "stdout",
     "output_type": "stream",
     "text": [
      "нести ok\n",
      "no examples\n",
      "[643, 'be', 'остаться', nan, nan, 'remain | stay | leave | remain | dump | strand | ']\n"
     ]
    },
    {
     "name": "stderr",
     "output_type": "stream",
     "text": [
      "\n",
      "\n",
      "\n",
      "\n",
      " 47%|████▋     | 644/1358 [10:41<03:43,  3.19it/s]\u001b[A\u001b[A\u001b[A\u001b[A"
     ]
    },
    {
     "name": "stdout",
     "output_type": "stream",
     "text": [
      "остаться ok\n",
      "no examples\n",
      "[644, 'be worth', 'стоить', 'to be worth a thousand words|to be worth the candle|to be worth the struggle|', 'стоить тысячи слов | стоить выделки | стоить борьбы | ', 'cost | stand | face | ']\n",
      "стоить ok\n",
      "to be worth a thousand words ok\n",
      "to be worth the candle ok\n"
     ]
    },
    {
     "name": "stderr",
     "output_type": "stream",
     "text": [
      "\n",
      "\n",
      "\n",
      "\n",
      " 47%|████▋     | 645/1358 [10:44<14:07,  1.19s/it]\u001b[A\u001b[A\u001b[A\u001b[A"
     ]
    },
    {
     "name": "stdout",
     "output_type": "stream",
     "text": [
      "to be worth the struggle ok\n",
      "[645, 'be worth', 'постоять', 'to be worth less|', 'постоять меньше | ', 'stand | cost | stand | face | wait | stand up | stand there | ']\n",
      "постоять ok\n"
     ]
    },
    {
     "name": "stderr",
     "output_type": "stream",
     "text": [
      "\n",
      "\n",
      "\n",
      "\n",
      " 48%|████▊     | 646/1358 [10:46<14:14,  1.20s/it]\u001b[A\u001b[A\u001b[A\u001b[A"
     ]
    },
    {
     "name": "stdout",
     "output_type": "stream",
     "text": [
      "to be worth less ok\n",
      "[646, 'be worth', 'оцениваться', nan, nan, 'estimate | evaluate | judge | assess | ']\n"
     ]
    },
    {
     "name": "stderr",
     "output_type": "stream",
     "text": [
      "\n",
      "\n",
      "\n",
      "\n",
      " 48%|████▊     | 647/1358 [10:46<12:52,  1.09s/it]\u001b[A\u001b[A\u001b[A\u001b[A"
     ]
    },
    {
     "name": "stdout",
     "output_type": "stream",
     "text": [
      "оцениваться ok\n",
      "no examples\n",
      "[647, 'be worth', 'следовать', nan, nan, 'follow | pursue | follow | have to | ']\n"
     ]
    },
    {
     "name": "stderr",
     "output_type": "stream",
     "text": [
      "\n",
      "\n",
      "\n",
      "\n",
      " 48%|████▊     | 648/1358 [10:47<09:44,  1.22it/s]\u001b[A\u001b[A\u001b[A\u001b[A"
     ]
    },
    {
     "name": "stdout",
     "output_type": "stream",
     "text": [
      "следовать ok\n",
      "no examples\n",
      "[648, 'be worth', 'заслуживать', nan, nan, 'deserve | merit | deserve | ']\n"
     ]
    },
    {
     "name": "stderr",
     "output_type": "stream",
     "text": [
      "\n",
      "\n",
      "\n",
      "\n",
      " 48%|████▊     | 649/1358 [10:47<07:49,  1.51it/s]\u001b[A\u001b[A\u001b[A\u001b[A\n",
      "\n",
      "\n",
      "\n"
     ]
    },
    {
     "name": "stdout",
     "output_type": "stream",
     "text": [
      "заслуживать ok\n",
      "no examples\n",
      "[649, 'right', 'правильный', nan, nan, 'correct | proper | good | true | appropriate | valid | accurate | ']\n",
      "правильный ok\n",
      "no examples\n"
     ]
    },
    {
     "name": "stderr",
     "output_type": "stream",
     "text": [
      " 48%|████▊     | 650/1358 [10:47<06:10,  1.91it/s]\u001b[A\u001b[A\u001b[A\u001b[A"
     ]
    },
    {
     "name": "stdout",
     "output_type": "stream",
     "text": [
      "[650, 'right', 'правый', 'far right|', 'крайне правый | ', 'right-wing | right-hand | rightist | right hand | wrong | ']\n",
      "правый ok\n"
     ]
    },
    {
     "name": "stderr",
     "output_type": "stream",
     "text": [
      "\n",
      "\n",
      "\n",
      "\n",
      " 48%|████▊     | 651/1358 [10:48<06:38,  1.77it/s]\u001b[A\u001b[A\u001b[A\u001b[A"
     ]
    },
    {
     "name": "stdout",
     "output_type": "stream",
     "text": [
      "far right ok\n",
      "[651, 'right', 'нужный', nan, nan, 'necessary | needed | correct | appropriate | proper | relevant | ']\n"
     ]
    },
    {
     "name": "stderr",
     "output_type": "stream",
     "text": [
      "\n",
      "\n",
      "\n",
      "\n",
      " 48%|████▊     | 652/1358 [10:48<05:35,  2.10it/s]\u001b[A\u001b[A\u001b[A\u001b[A"
     ]
    },
    {
     "name": "stdout",
     "output_type": "stream",
     "text": [
      "нужный ok\n",
      "no examples\n",
      "[652, 'right', 'верный', 'intuitively right|', 'интуитивно верный | ', 'true | correct | faithful | sure | loyal | staunch | accurate | valid | ']\n",
      "верный ok\n"
     ]
    },
    {
     "name": "stderr",
     "output_type": "stream",
     "text": [
      "\n",
      "\n",
      "\n",
      "\n",
      " 48%|████▊     | 653/1358 [10:49<06:41,  1.75it/s]\u001b[A\u001b[A\u001b[A\u001b[A"
     ]
    },
    {
     "name": "stdout",
     "output_type": "stream",
     "text": [
      "intuitively right ok\n",
      "[653, 'right', 'правоцентристский', nan, nan, 'center-right | centre-right | ']\n"
     ]
    },
    {
     "name": "stderr",
     "output_type": "stream",
     "text": [
      "\n",
      "\n",
      "\n",
      "\n",
      " 48%|████▊     | 654/1358 [10:49<06:17,  1.87it/s]\u001b[A\u001b[A\u001b[A\u001b[A"
     ]
    },
    {
     "name": "stdout",
     "output_type": "stream",
     "text": [
      "правоцентристский ok\n",
      "no examples\n",
      "[654, 'right', 'прямо', nan, nan, 'directly | straight | ']\n"
     ]
    },
    {
     "name": "stderr",
     "output_type": "stream",
     "text": [
      "\n",
      "\n",
      "\n",
      "\n",
      " 48%|████▊     | 655/1358 [10:50<05:16,  2.22it/s]\u001b[A\u001b[A\u001b[A\u001b[A\n",
      "\n",
      "\n",
      "\n",
      " 48%|████▊     | 656/1358 [10:50<04:19,  2.70it/s]\u001b[A\u001b[A\u001b[A\u001b[A"
     ]
    },
    {
     "name": "stdout",
     "output_type": "stream",
     "text": [
      "прямо ok\n",
      "no examples\n",
      "[655, 'right', 'правильно', nan, nan, 'correctly | properly | rightly | ']\n",
      "правильно ok\n",
      "no examples\n",
      "[656, 'right', 'непосредственно', nan, nan, 'directly | immediately | ']\n"
     ]
    },
    {
     "name": "stderr",
     "output_type": "stream",
     "text": [
      "\n",
      "\n",
      "\n",
      "\n",
      " 48%|████▊     | 657/1358 [10:50<04:20,  2.69it/s]\u001b[A\u001b[A\u001b[A\u001b[A"
     ]
    },
    {
     "name": "stdout",
     "output_type": "stream",
     "text": [
      "непосредственно ok\n",
      "no examples\n",
      "[657, 'right', 'право', \"women's right|property right|civil right|political right|\", 'право женщин | право собственности | гражданское право | политическое право | ', 'law | ']\n",
      "право ok\n",
      "women's right ok\n",
      "property right ok\n"
     ]
    },
    {
     "name": "stderr",
     "output_type": "stream",
     "text": [
      "\n",
      "\n",
      "\n",
      "\n",
      " 48%|████▊     | 658/1358 [10:52<09:49,  1.19it/s]\u001b[A\u001b[A\u001b[A\u001b[A"
     ]
    },
    {
     "name": "stdout",
     "output_type": "stream",
     "text": [
      "civil right ok\n",
      "political right ok\n",
      "[658, 'guru', 'гура', nan, nan, 'wizard | ']\n"
     ]
    },
    {
     "name": "stderr",
     "output_type": "stream",
     "text": [
      "\n",
      "\n",
      "\n",
      "\n",
      " 49%|████▊     | 659/1358 [10:53<08:42,  1.34it/s]\u001b[A\u001b[A\u001b[A\u001b[A"
     ]
    },
    {
     "name": "stdout",
     "output_type": "stream",
     "text": [
      "гура ok\n",
      "no examples\n",
      "[659, 'guru', 'gurus', nan, nan, ' | ']\n"
     ]
    },
    {
     "name": "stderr",
     "output_type": "stream",
     "text": [
      "\n",
      "\n",
      "\n",
      "\n",
      " 49%|████▊     | 660/1358 [10:53<07:31,  1.55it/s]\u001b[A\u001b[A\u001b[A\u001b[A"
     ]
    },
    {
     "name": "stdout",
     "output_type": "stream",
     "text": [
      "gurus ok\n",
      "no examples\n",
      "[660, 'guru', 'светило', nan, nan, 'luminary | ']\n"
     ]
    },
    {
     "name": "stderr",
     "output_type": "stream",
     "text": [
      "\n",
      "\n",
      "\n",
      "\n",
      " 49%|████▊     | 661/1358 [10:53<06:19,  1.84it/s]\u001b[A\u001b[A\u001b[A\u001b[A"
     ]
    },
    {
     "name": "stdout",
     "output_type": "stream",
     "text": [
      "светило ok\n",
      "no examples\n",
      "[661, 'guru', 'зубр', nan, nan, 'bison | ']\n"
     ]
    },
    {
     "name": "stderr",
     "output_type": "stream",
     "text": [
      "\n",
      "\n",
      "\n",
      "\n",
      " 49%|████▊     | 662/1358 [10:54<06:12,  1.87it/s]\u001b[A\u001b[A\u001b[A\u001b[A"
     ]
    },
    {
     "name": "stdout",
     "output_type": "stream",
     "text": [
      "зубр ok\n",
      "no examples\n",
      "[662, 'beginner', 'новичек', nan, nan, 'newcomer | novice | newbie | recruit | stranger | apprentice | novice user | freshman | ']\n"
     ]
    },
    {
     "name": "stderr",
     "output_type": "stream",
     "text": [
      "\n",
      "\n",
      "\n",
      "\n",
      " 49%|████▉     | 663/1358 [10:54<05:45,  2.01it/s]\u001b[A\u001b[A\u001b[A\u001b[A"
     ]
    },
    {
     "name": "stdout",
     "output_type": "stream",
     "text": [
      "новичек ok\n",
      "no examples\n",
      "[663, 'beginner', 'beginners', nan, nan, ' | ']\n"
     ]
    },
    {
     "name": "stderr",
     "output_type": "stream",
     "text": [
      "\n",
      "\n",
      "\n",
      "\n",
      " 49%|████▉     | 664/1358 [10:55<05:26,  2.12it/s]\u001b[A\u001b[A\u001b[A\u001b[A"
     ]
    },
    {
     "name": "stdout",
     "output_type": "stream",
     "text": [
      "beginners ok\n",
      "no examples\n",
      "[664, 'collide', 'сталкиваться', nan, nan, 'face | encounter | confront | deal | clash | suffer | face | hit | ']\n"
     ]
    },
    {
     "name": "stderr",
     "output_type": "stream",
     "text": [
      "\n",
      "\n",
      "\n",
      "\n",
      " 49%|████▉     | 665/1358 [10:55<06:23,  1.81it/s]\u001b[A\u001b[A\u001b[A\u001b[A"
     ]
    },
    {
     "name": "stdout",
     "output_type": "stream",
     "text": [
      "сталкиваться ok\n",
      "no examples\n",
      "[665, 'collide', 'конфликтовать', nan, nan, 'conflict | ']\n"
     ]
    },
    {
     "name": "stderr",
     "output_type": "stream",
     "text": [
      "\n",
      "\n",
      "\n",
      "\n",
      " 49%|████▉     | 666/1358 [10:56<06:59,  1.65it/s]\u001b[A\u001b[A\u001b[A\u001b[A"
     ]
    },
    {
     "name": "stdout",
     "output_type": "stream",
     "text": [
      "конфликтовать ok\n",
      "no examples\n",
      "[666, 'collide', 'сталкивать', nan, nan, 'push | pit | confront | knock | ']\n"
     ]
    },
    {
     "name": "stderr",
     "output_type": "stream",
     "text": [
      "\n",
      "\n",
      "\n",
      "\n",
      " 49%|████▉     | 667/1358 [10:57<06:39,  1.73it/s]\u001b[A\u001b[A\u001b[A\u001b[A"
     ]
    },
    {
     "name": "stdout",
     "output_type": "stream",
     "text": [
      "сталкивать ok\n",
      "no examples\n",
      "[667, 'genetically', 'генетический', nan, nan, ' | ']\n"
     ]
    },
    {
     "name": "stderr",
     "output_type": "stream",
     "text": [
      "\n",
      "\n",
      "\n",
      "\n",
      " 49%|████▉     | 668/1358 [10:57<06:21,  1.81it/s]\u001b[A\u001b[A\u001b[A\u001b[A"
     ]
    },
    {
     "name": "stdout",
     "output_type": "stream",
     "text": [
      "генетический ok\n",
      "no examples\n",
      "[668, 'precedent', 'прецедент', 'historical precedent|international precedent|legal precedent|powerful precedent|', 'исторический прецедент | международные прецеденты | юридический прецедент | сильный прецедент | ', ' | ']\n",
      "прецедент ok\n",
      "historical precedent ok\n",
      "international precedent ok\n",
      "legal precedent ok\n"
     ]
    },
    {
     "name": "stderr",
     "output_type": "stream",
     "text": [
      "\n",
      "\n",
      "\n",
      "\n",
      " 49%|████▉     | 669/1358 [11:01<16:40,  1.45s/it]\u001b[A\u001b[A\u001b[A\u001b[A"
     ]
    },
    {
     "name": "stdout",
     "output_type": "stream",
     "text": [
      "powerful precedent ok\n",
      "[669, 'refugee', 'беженец', 'Uzbek refugee|Iraqi refugee|Pakistani refugee|political refugee|', 'узбекский беженец | иракские беженцы | Пакистанские беженцы | политические беженцы | ', 'displaced person | ']\n",
      "беженец ok\n",
      "Uzbek refugee ok\n",
      "Iraqi refugee ok\n",
      "Pakistani refugee ok\n"
     ]
    },
    {
     "name": "stderr",
     "output_type": "stream",
     "text": [
      "\n",
      "\n",
      "\n",
      "\n",
      " 49%|████▉     | 670/1358 [11:03<18:55,  1.65s/it]\u001b[A\u001b[A\u001b[A\u001b[A"
     ]
    },
    {
     "name": "stdout",
     "output_type": "stream",
     "text": [
      "political refugee ok\n",
      "[670, 'refugee', 'делам беженцев', nan, nan, ' | ']\n"
     ]
    },
    {
     "name": "stderr",
     "output_type": "stream",
     "text": [
      "\n",
      "\n",
      "\n",
      "\n",
      " 49%|████▉     | 671/1358 [11:03<14:32,  1.27s/it]\u001b[A\u001b[A\u001b[A\u001b[A\n",
      "\n",
      "\n",
      "\n"
     ]
    },
    {
     "name": "stdout",
     "output_type": "stream",
     "text": [
      "делам беженцев ok\n",
      "no examples\n",
      "[671, 'secular', 'светский', nan, nan, ' | ']\n",
      "светский ok\n",
      "no examples\n"
     ]
    },
    {
     "name": "stderr",
     "output_type": "stream",
     "text": [
      " 49%|████▉     | 672/1358 [11:03<10:49,  1.06it/s]\u001b[A\u001b[A\u001b[A\u001b[A"
     ]
    },
    {
     "name": "stdout",
     "output_type": "stream",
     "text": [
      "[672, 'secular', 'мирский', nan, nan, 'worldly | mundane | ']\n"
     ]
    },
    {
     "name": "stderr",
     "output_type": "stream",
     "text": [
      "\n",
      "\n",
      "\n",
      "\n",
      " 50%|████▉     | 673/1358 [11:04<08:34,  1.33it/s]\u001b[A\u001b[A\u001b[A\u001b[A"
     ]
    },
    {
     "name": "stdout",
     "output_type": "stream",
     "text": [
      "мирский ok\n",
      "no examples\n",
      "[673, 'secular', 'вековой', nan, nan, 'century-old | age-old | centuries-long | hundred-year-old | centennial | century old | ']\n"
     ]
    },
    {
     "name": "stderr",
     "output_type": "stream",
     "text": [
      "\n",
      "\n",
      "\n",
      "\n",
      " 50%|████▉     | 674/1358 [11:05<10:49,  1.05it/s]\u001b[A\u001b[A\u001b[A\u001b[A"
     ]
    },
    {
     "name": "stdout",
     "output_type": "stream",
     "text": [
      "вековой ok\n",
      "no examples\n",
      "[674, 'secular', 'долговременный', nan, nan, 'long-term | lasting | permanent | long-standing | long-lasting | durable | long-run | ']\n"
     ]
    },
    {
     "name": "stderr",
     "output_type": "stream",
     "text": [
      "\n",
      "\n",
      "\n",
      "\n",
      " 50%|████▉     | 675/1358 [11:05<08:19,  1.37it/s]\u001b[A\u001b[A\u001b[A\u001b[A"
     ]
    },
    {
     "name": "stdout",
     "output_type": "stream",
     "text": [
      "долговременный ok\n",
      "no examples\n",
      "[675, 'pasta', 'паста', 'homemade pasta|', 'домашняя паста | ', 'paste | pasta dish | toothpaste | ']\n",
      "паста ok\n"
     ]
    },
    {
     "name": "stderr",
     "output_type": "stream",
     "text": [
      "\n",
      "\n",
      "\n",
      "\n",
      " 50%|████▉     | 676/1358 [11:06<07:41,  1.48it/s]\u001b[A\u001b[A\u001b[A\u001b[A"
     ]
    },
    {
     "name": "stdout",
     "output_type": "stream",
     "text": [
      "homemade pasta ok\n",
      "[676, 'pasta', 'макароны', nan, nan, 'macaroni | spaghetti | ']\n"
     ]
    },
    {
     "name": "stderr",
     "output_type": "stream",
     "text": [
      "\n",
      "\n",
      "\n",
      "\n",
      " 50%|████▉     | 677/1358 [11:06<06:31,  1.74it/s]\u001b[A\u001b[A\u001b[A\u001b[A"
     ]
    },
    {
     "name": "stdout",
     "output_type": "stream",
     "text": [
      "макароны ok\n",
      "no examples\n",
      "[677, 'pasta', 'макаронные изделия', nan, nan, ' | ']\n"
     ]
    },
    {
     "name": "stderr",
     "output_type": "stream",
     "text": [
      "\n",
      "\n",
      "\n",
      "\n",
      " 50%|████▉     | 678/1358 [11:06<05:18,  2.13it/s]\u001b[A\u001b[A\u001b[A\u001b[A"
     ]
    },
    {
     "name": "stdout",
     "output_type": "stream",
     "text": [
      "макаронные изделия ok\n",
      "no examples\n",
      "[678, 'pasta', 'спагетти', nan, nan, 'spaghetti | ']\n"
     ]
    },
    {
     "name": "stderr",
     "output_type": "stream",
     "text": [
      "\n",
      "\n",
      "\n",
      "\n",
      " 50%|█████     | 679/1358 [11:07<05:58,  1.89it/s]\u001b[A\u001b[A\u001b[A\u001b[A"
     ]
    },
    {
     "name": "stdout",
     "output_type": "stream",
     "text": [
      "спагетти ok\n",
      "no examples\n",
      "[679, 'pasta', 'пасть', nan, nan, 'maw | jaw | paste | mouth | ']\n"
     ]
    },
    {
     "name": "stderr",
     "output_type": "stream",
     "text": [
      "\n",
      "\n",
      "\n",
      "\n",
      " 50%|█████     | 680/1358 [11:07<05:00,  2.26it/s]\u001b[A\u001b[A\u001b[A\u001b[A"
     ]
    },
    {
     "name": "stdout",
     "output_type": "stream",
     "text": [
      "пасть ok\n",
      "no examples\n",
      "[680, 'beaver', 'бобр', nan, nan, ' | ']\n"
     ]
    },
    {
     "name": "stderr",
     "output_type": "stream",
     "text": [
      "\n",
      "\n",
      "\n",
      "\n",
      " 50%|█████     | 681/1358 [11:08<04:26,  2.54it/s]\u001b[A\u001b[A\u001b[A\u001b[A"
     ]
    },
    {
     "name": "stdout",
     "output_type": "stream",
     "text": [
      "бобр ok\n",
      "no examples\n",
      "[681, 'beaver', 'бивер', nan, nan, ' | ']\n"
     ]
    },
    {
     "name": "stderr",
     "output_type": "stream",
     "text": [
      "\n",
      "\n",
      "\n",
      "\n",
      " 50%|█████     | 682/1358 [11:09<06:44,  1.67it/s]\u001b[A\u001b[A\u001b[A\u001b[A"
     ]
    },
    {
     "name": "stdout",
     "output_type": "stream",
     "text": [
      "бивер ok\n",
      "no examples\n",
      "[682, 'tiger', 'тигр', 'asian tiger|Tamil Tiger|white tiger|Swat Tiger|', 'азиатские тигры | тамильские тигры | белый тигр | Тигры Свата | ', ' | ']\n",
      "тигр ok\n",
      "asian tiger ok\n",
      "Tamil Tiger ok\n",
      "white tiger ok\n"
     ]
    },
    {
     "name": "stderr",
     "output_type": "stream",
     "text": [
      "\n",
      "\n",
      "\n",
      "\n",
      " 50%|█████     | 683/1358 [11:12<16:00,  1.42s/it]\u001b[A\u001b[A\u001b[A\u001b[A"
     ]
    },
    {
     "name": "stdout",
     "output_type": "stream",
     "text": [
      "Swat Tiger ok\n",
      "[683, 'tiger', 'тигрица', nan, nan, ' | ']\n"
     ]
    },
    {
     "name": "stderr",
     "output_type": "stream",
     "text": [
      "\n",
      "\n",
      "\n",
      "\n",
      " 50%|█████     | 684/1358 [11:12<12:05,  1.08s/it]\u001b[A\u001b[A\u001b[A\u001b[A"
     ]
    },
    {
     "name": "stdout",
     "output_type": "stream",
     "text": [
      "тигрица ok\n",
      "no examples\n",
      "[684, 'tiger', 'tigers', nan, nan, ' | ']\n"
     ]
    },
    {
     "name": "stderr",
     "output_type": "stream",
     "text": [
      "\n",
      "\n",
      "\n",
      "\n",
      " 50%|█████     | 685/1358 [11:13<09:56,  1.13it/s]\u001b[A\u001b[A\u001b[A\u001b[A"
     ]
    },
    {
     "name": "stdout",
     "output_type": "stream",
     "text": [
      "tigers ok\n",
      "no examples\n",
      "[685, 'lion', 'лев', 'sea lion|golden lion|young lion|', 'морской лев | Золотым львом | молодой лев | ', 'lev | ']\n",
      "лев ok\n",
      "sea lion ok\n",
      "golden lion ok\n"
     ]
    },
    {
     "name": "stderr",
     "output_type": "stream",
     "text": [
      "\n",
      "\n",
      "\n",
      "\n",
      " 51%|█████     | 686/1358 [11:15<13:57,  1.25s/it]\u001b[A\u001b[A\u001b[A\u001b[A"
     ]
    },
    {
     "name": "stdout",
     "output_type": "stream",
     "text": [
      "young lion ok\n",
      "[686, 'lion', 'lions', nan, nan, ' | ']\n"
     ]
    },
    {
     "name": "stderr",
     "output_type": "stream",
     "text": [
      "\n",
      "\n",
      "\n",
      "\n",
      " 51%|█████     | 687/1358 [11:15<10:39,  1.05it/s]\u001b[A\u001b[A\u001b[A\u001b[A"
     ]
    },
    {
     "name": "stdout",
     "output_type": "stream",
     "text": [
      "lions ok\n",
      "no examples\n",
      "[687, 'lion', 'львица', nan, nan, ' | ']\n"
     ]
    },
    {
     "name": "stderr",
     "output_type": "stream",
     "text": [
      "\n",
      "\n",
      "\n",
      "\n",
      " 51%|█████     | 688/1358 [11:15<08:22,  1.33it/s]\u001b[A\u001b[A\u001b[A\u001b[A"
     ]
    },
    {
     "name": "stdout",
     "output_type": "stream",
     "text": [
      "львица ok\n",
      "no examples\n",
      "[688, 'pen', 'ручка', 'ball-point pen|', 'шариковая ручка | ', 'handle | knob | crank | stick | pencil | lever | shaft | ']\n",
      "ручка ok\n"
     ]
    },
    {
     "name": "stderr",
     "output_type": "stream",
     "text": [
      "\n",
      "\n",
      "\n",
      "\n",
      " 51%|█████     | 689/1358 [11:17<12:01,  1.08s/it]\u001b[A\u001b[A\u001b[A\u001b[A"
     ]
    },
    {
     "name": "stdout",
     "output_type": "stream",
     "text": [
      "ball-point pen ok\n",
      "[689, 'pen', 'перо', 'sea pen|', 'морское перо | ', 'feather | stylus | ']\n",
      "перо ok\n"
     ]
    },
    {
     "name": "stderr",
     "output_type": "stream",
     "text": [
      "\n",
      "\n",
      "\n",
      "\n",
      " 51%|█████     | 690/1358 [11:18<10:59,  1.01it/s]\u001b[A\u001b[A\u001b[A\u001b[A"
     ]
    },
    {
     "name": "stdout",
     "output_type": "stream",
     "text": [
      "sea pen ok\n",
      "[690, 'pen', 'загон', nan, nan, 'stall | corral | ']\n"
     ]
    },
    {
     "name": "stderr",
     "output_type": "stream",
     "text": [
      "\n",
      "\n",
      "\n",
      "\n",
      " 51%|█████     | 691/1358 [11:19<10:31,  1.06it/s]\u001b[A\u001b[A\u001b[A\u001b[A"
     ]
    },
    {
     "name": "stdout",
     "output_type": "stream",
     "text": [
      "загон ok\n",
      "no examples\n",
      "[691, 'pen', 'pens', nan, nan, ' | ']\n"
     ]
    },
    {
     "name": "stderr",
     "output_type": "stream",
     "text": [
      "\n",
      "\n",
      "\n",
      "\n",
      " 51%|█████     | 692/1358 [11:20<09:39,  1.15it/s]\u001b[A\u001b[A\u001b[A\u001b[A"
     ]
    },
    {
     "name": "stdout",
     "output_type": "stream",
     "text": [
      "pens ok\n",
      "no examples\n",
      "[692, 'pen', 'авторучка', nan, nan, 'fountain pen | ']\n"
     ]
    },
    {
     "name": "stderr",
     "output_type": "stream",
     "text": [
      "\n",
      "\n",
      "\n",
      "\n",
      " 51%|█████     | 693/1358 [11:20<07:50,  1.41it/s]\u001b[A\u001b[A\u001b[A\u001b[A"
     ]
    },
    {
     "name": "stdout",
     "output_type": "stream",
     "text": [
      "авторучка ok\n",
      "no examples\n",
      "[693, 'pen', 'карандаш', nan, nan, 'pencil | crayon | ']\n"
     ]
    },
    {
     "name": "stderr",
     "output_type": "stream",
     "text": [
      "\n",
      "\n",
      "\n",
      "\n",
      " 51%|█████     | 694/1358 [11:21<09:22,  1.18it/s]\u001b[A\u001b[A\u001b[A\u001b[A"
     ]
    },
    {
     "name": "stdout",
     "output_type": "stream",
     "text": [
      "карандаш ok\n",
      "no examples\n",
      "[694, 'pen', 'дрожь', nan, nan, 'tremor | chill | ']\n"
     ]
    },
    {
     "name": "stderr",
     "output_type": "stream",
     "text": [
      "\n",
      "\n",
      "\n",
      "\n",
      " 51%|█████     | 695/1358 [11:21<07:38,  1.44it/s]\u001b[A\u001b[A\u001b[A\u001b[A"
     ]
    },
    {
     "name": "stdout",
     "output_type": "stream",
     "text": [
      "дрожь ok\n",
      "no examples\n",
      "[695, 'coconut', 'кокосовый орех', nan, nan, ' | ']\n"
     ]
    },
    {
     "name": "stderr",
     "output_type": "stream",
     "text": [
      "\n",
      "\n",
      "\n",
      "\n",
      " 51%|█████▏    | 696/1358 [11:22<06:54,  1.60it/s]\u001b[A\u001b[A\u001b[A\u001b[A"
     ]
    },
    {
     "name": "stdout",
     "output_type": "stream",
     "text": [
      "кокосовый орех ok\n",
      "no examples\n",
      "[696, 'coconut', 'кокос', nan, nan, 'coco | ']\n"
     ]
    },
    {
     "name": "stderr",
     "output_type": "stream",
     "text": [
      "\n",
      "\n",
      "\n",
      "\n",
      " 51%|█████▏    | 697/1358 [11:22<05:44,  1.92it/s]\u001b[A\u001b[A\u001b[A\u001b[A"
     ]
    },
    {
     "name": "stdout",
     "output_type": "stream",
     "text": [
      "кокос ok\n",
      "no examples\n",
      "[697, 'dynamite', 'динамит', nan, nan, ' | ']\n"
     ]
    },
    {
     "name": "stderr",
     "output_type": "stream",
     "text": [
      "\n",
      "\n",
      "\n",
      "\n",
      " 51%|█████▏    | 698/1358 [11:23<08:02,  1.37it/s]\u001b[A\u001b[A\u001b[A\u001b[A"
     ]
    },
    {
     "name": "stdout",
     "output_type": "stream",
     "text": [
      "динамит ok\n",
      "no examples\n",
      "[698, 'spoon', 'ложок', 'measuring spoon|', 'мерная ложка | ', 'spoonful | teaspoon | ']\n",
      "ложок ok\n"
     ]
    },
    {
     "name": "stderr",
     "output_type": "stream",
     "text": [
      "\n",
      "\n",
      "\n",
      "\n",
      " 51%|█████▏    | 699/1358 [11:24<08:02,  1.36it/s]\u001b[A\u001b[A\u001b[A\u001b[A"
     ]
    },
    {
     "name": "stdout",
     "output_type": "stream",
     "text": [
      "measuring spoon ok\n",
      "[699, 'spoon', 'ложка', nan, nan, 'spoonful | ']\n"
     ]
    },
    {
     "name": "stderr",
     "output_type": "stream",
     "text": [
      "\n",
      "\n",
      "\n",
      "\n",
      " 52%|█████▏    | 700/1358 [11:26<13:36,  1.24s/it]\u001b[A\u001b[A\u001b[A\u001b[A"
     ]
    },
    {
     "name": "stdout",
     "output_type": "stream",
     "text": [
      "ложка ok\n",
      "no examples\n",
      "[700, 'spoon', 'ложечка', nan, nan, 'spoonful | ']\n"
     ]
    },
    {
     "name": "stderr",
     "output_type": "stream",
     "text": [
      "\n",
      "\n",
      "\n",
      "\n",
      " 52%|█████▏    | 701/1358 [11:27<10:21,  1.06it/s]\u001b[A\u001b[A\u001b[A\u001b[A"
     ]
    },
    {
     "name": "stdout",
     "output_type": "stream",
     "text": [
      "ложечка ok\n",
      "no examples\n",
      "[701, 'spoon', 'вилок', nan, nan, 'fork | plug | ']\n"
     ]
    },
    {
     "name": "stderr",
     "output_type": "stream",
     "text": [
      "\n",
      "\n",
      "\n",
      "\n",
      " 52%|█████▏    | 702/1358 [11:27<08:46,  1.25it/s]\u001b[A\u001b[A\u001b[A\u001b[A"
     ]
    },
    {
     "name": "stdout",
     "output_type": "stream",
     "text": [
      "вилок ok\n",
      "no examples\n",
      "[702, 'ocean', 'океан', 'pacific ocean|world ocean|Arctic Ocean|open ocean|', 'тихий океан | мировой океан | Северный Ледовитый океан | открытый океан | ', 'sea | ']\n",
      "океан ok\n",
      "pacific ocean ok\n",
      "world ocean ok\n",
      "Arctic Ocean ok\n"
     ]
    },
    {
     "name": "stderr",
     "output_type": "stream",
     "text": [
      "\n",
      "\n",
      "\n",
      "\n",
      " 52%|█████▏    | 703/1358 [11:30<14:25,  1.32s/it]\u001b[A\u001b[A\u001b[A\u001b[A"
     ]
    },
    {
     "name": "stdout",
     "output_type": "stream",
     "text": [
      "open ocean ok\n",
      "[703, 'mug', 'кружок', 'beer mug|', 'пивные кружки | ', 'circle | bubble | study group | hobby group | dot | ']\n",
      "кружок ok\n"
     ]
    },
    {
     "name": "stderr",
     "output_type": "stream",
     "text": [
      "\n",
      "\n",
      "\n",
      "\n",
      " 52%|█████▏    | 704/1358 [11:31<12:58,  1.19s/it]\u001b[A\u001b[A\u001b[A\u001b[A"
     ]
    },
    {
     "name": "stdout",
     "output_type": "stream",
     "text": [
      "beer mug ok\n",
      "[704, 'mug', 'морда', nan, nan, 'muzzle | snout | ']\n"
     ]
    },
    {
     "name": "stderr",
     "output_type": "stream",
     "text": [
      "\n",
      "\n",
      "\n",
      "\n",
      " 52%|█████▏    | 705/1358 [11:31<10:41,  1.02it/s]\u001b[A\u001b[A\u001b[A\u001b[A\n",
      "\n",
      "\n",
      "\n",
      " 52%|█████▏    | 706/1358 [11:31<08:07,  1.34it/s]"
     ]
    },
    {
     "name": "stdout",
     "output_type": "stream",
     "text": [
      "морда ok\n",
      "no examples\n",
      "[705, 'mug', 'кружка', nan, nan, ' | ']\n",
      "кружка ok\n",
      "no examples\n"
     ]
    },
    {
     "name": "stderr",
     "output_type": "stream",
     "text": [
      "\u001b[A\u001b[A\u001b[A\u001b[A"
     ]
    },
    {
     "name": "stdout",
     "output_type": "stream",
     "text": [
      "[706, 'shampoo', 'шампунь', nan, nan, ' | ']\n"
     ]
    },
    {
     "name": "stderr",
     "output_type": "stream",
     "text": [
      "\n",
      "\n",
      "\n",
      "\n",
      " 52%|█████▏    | 707/1358 [11:32<06:57,  1.56it/s]\u001b[A\u001b[A\u001b[A\u001b[A"
     ]
    },
    {
     "name": "stdout",
     "output_type": "stream",
     "text": [
      "шампунь ok\n",
      "no examples\n",
      "[707, 'buzzer', 'зуммер', nan, nan, ' | ']\n"
     ]
    },
    {
     "name": "stderr",
     "output_type": "stream",
     "text": [
      "\n",
      "\n",
      "\n",
      "\n",
      " 52%|█████▏    | 708/1358 [11:32<05:49,  1.86it/s]\u001b[A\u001b[A\u001b[A\u001b[A"
     ]
    },
    {
     "name": "stdout",
     "output_type": "stream",
     "text": [
      "зуммер ok\n",
      "no examples\n",
      "[708, 'buzzer', 'гудок', nan, nan, 'dial tone | horn | set-up signal | ']\n"
     ]
    },
    {
     "name": "stderr",
     "output_type": "stream",
     "text": [
      "\n",
      "\n",
      "\n",
      "\n",
      " 52%|█████▏    | 709/1358 [11:32<04:54,  2.21it/s]\u001b[A\u001b[A\u001b[A\u001b[A"
     ]
    },
    {
     "name": "stdout",
     "output_type": "stream",
     "text": [
      "гудок ok\n",
      "no examples\n",
      "[709, 'meet', 'встретиться', 'to meet again|to meet last week|to meet that woman|to meet next week|', 'встретисьться снова | встретиться на прошлой неделе | встретисьться с этой женщиной | встретисьться на следующей неделе | ', 'confer | ']\n",
      "встретиться ok\n",
      "to meet again ok\n",
      "to meet last week ok\n",
      "to meet that woman ok\n"
     ]
    },
    {
     "name": "stderr",
     "output_type": "stream",
     "text": [
      "\n",
      "\n",
      "\n",
      "\n",
      " 52%|█████▏    | 710/1358 [11:36<16:16,  1.51s/it]\u001b[A\u001b[A\u001b[A\u001b[A"
     ]
    },
    {
     "name": "stdout",
     "output_type": "stream",
     "text": [
      "to meet next week ok\n",
      "[710, 'meet', 'встретить', 'to meet people|to meet here|to meet a Vietnamese lady|to meet a theater director|', 'встретить людей | встретить здесь | встретить вьетнамку | встретить театрального режиссера | ', 'greet | encounter | welcome | ']\n",
      "встретить ok\n",
      "to meet people ok\n",
      "to meet here ok\n",
      "to meet a Vietnamese lady ok\n"
     ]
    },
    {
     "name": "stderr",
     "output_type": "stream",
     "text": [
      "\n",
      "\n",
      "\n",
      "\n",
      " 52%|█████▏    | 711/1358 [11:38<18:40,  1.73s/it]\u001b[A\u001b[A\u001b[A\u001b[A"
     ]
    },
    {
     "name": "stdout",
     "output_type": "stream",
     "text": [
      "to meet a theater director ok\n",
      "[711, 'meet', 'соответствовать', 'to meet international standards|to meet your needs|to meet your expectations|to meet your requirements|', 'соответствовать международным стандартам | соответствовать вашим потребностям | соответствовать вашим ожиданиям | соответствовать вашим требованиям | ', 'match | fit | correspond | satisfy | fulfill | suit | match | ']\n",
      "соответствовать ok\n",
      "to meet international standards ok\n",
      "to meet your needs ok\n",
      "to meet your expectations ok\n"
     ]
    },
    {
     "name": "stderr",
     "output_type": "stream",
     "text": [
      "\n",
      "\n",
      "\n",
      "\n",
      " 52%|█████▏    | 712/1358 [11:41<20:33,  1.91s/it]\u001b[A\u001b[A\u001b[A\u001b[A"
     ]
    },
    {
     "name": "stdout",
     "output_type": "stream",
     "text": [
      "to meet your requirements ok\n",
      "[712, 'meet', 'отвечать', 'to meet the highest demands|to meet safety standards|', 'отвечать самым высоким требованиям | отвечать нормам безопасности | ', 'answer | reply | respond | satisfy | fulfill | satisfy | fit | ']\n",
      "отвечать ok\n",
      "to meet the highest demands ok\n"
     ]
    },
    {
     "name": "stderr",
     "output_type": "stream",
     "text": [
      "\n",
      "\n",
      "\n",
      "\n",
      " 53%|█████▎    | 713/1358 [11:42<18:01,  1.68s/it]\u001b[A\u001b[A\u001b[A\u001b[A"
     ]
    },
    {
     "name": "stdout",
     "output_type": "stream",
     "text": [
      "to meet safety standards ok\n",
      "[713, 'meet', 'встречаться', 'to meet regularly|to meet the sea|to meet with her husband|to meet slaveholders|', 'регулярно встречаться | встречаться с морем | встречаться со своим мужем | встречаться с рабовладельцами | ', 'occur | confer | encounter | date | come together | date | ']\n",
      "встречаться ok\n",
      "to meet regularly ok\n",
      "to meet the sea ok\n",
      "to meet with her husband ok\n"
     ]
    },
    {
     "name": "stderr",
     "output_type": "stream",
     "text": [
      "\n",
      "\n",
      "\n",
      "\n",
      " 53%|█████▎    | 714/1358 [11:46<24:24,  2.27s/it]\u001b[A\u001b[A\u001b[A\u001b[A"
     ]
    },
    {
     "name": "stdout",
     "output_type": "stream",
     "text": [
      "to meet slaveholders ok\n",
      "[714, 'meet', 'удовлетворить', 'to meet that request|to meet these conditions|to meet the demand|', 'удовлетворить эту просьбу | удовлетворить эти условия | удовлетворить спрос | ', 'satisfy | fulfill | satisfy | please | suit | grant | uphold | ']\n",
      "удовлетворить ok\n",
      "to meet that request ok\n",
      "to meet these conditions ok\n"
     ]
    },
    {
     "name": "stderr",
     "output_type": "stream",
     "text": [
      "\n",
      "\n",
      "\n",
      "\n",
      " 53%|█████▎    | 715/1358 [11:47<22:24,  2.09s/it]\u001b[A\u001b[A\u001b[A\u001b[A\n",
      "\n",
      "\n",
      "\n",
      " 53%|█████▎    | 716/1358 [11:47<16:14,  1.52s/it]\u001b[A\u001b[A\u001b[A\u001b[A"
     ]
    },
    {
     "name": "stdout",
     "output_type": "stream",
     "text": [
      "to meet the demand ok\n",
      "[715, 'meet', 'встречать', nan, nan, 'greet | encounter | welcome | come across | meet before | ']\n",
      "встречать ok\n",
      "no examples\n",
      "[716, 'meet', 'удовлетворять', \"to meet donors' demands|\", 'удовлетворять требования доноров | ', 'satisfy | fulfill | suit | satisfy | ']\n",
      "удовлетворять ok\n"
     ]
    },
    {
     "name": "stderr",
     "output_type": "stream",
     "text": [
      "\n",
      "\n",
      "\n",
      "\n",
      " 53%|█████▎    | 717/1358 [11:49<17:40,  1.65s/it]\u001b[A\u001b[A\u001b[A\u001b[A"
     ]
    },
    {
     "name": "stdout",
     "output_type": "stream",
     "text": [
      "to meet donors' demands ok\n",
      "[717, 'meet', 'выполнить', 'to meet these basic responsibilities|to meet their obligations|', 'выполнить эти основные обязанности | выполнить свои обязательства | ', 'perform | do | fulfill | execute | complete | accomplish | carry out | implement | ']\n",
      "выполнить ok\n",
      "to meet these basic responsibilities ok\n"
     ]
    },
    {
     "name": "stderr",
     "output_type": "stream",
     "text": [
      "\n",
      "\n",
      "\n",
      "\n",
      " 53%|█████▎    | 718/1358 [11:51<16:13,  1.52s/it]\u001b[A\u001b[A\u001b[A\u001b[A"
     ]
    },
    {
     "name": "stdout",
     "output_type": "stream",
     "text": [
      "to meet their obligations ok\n",
      "[718, 'meeting', 'встреча', 'business meeting|first meeting|next meeting|annual meeting|', 'деловая встреча | первая встреча | следующая встреча | ежегодная встреча | ', 'summit | appointment | conference | gathering | encounter | ']\n",
      "встреча ok\n",
      "business meeting ok\n",
      "first meeting ok\n",
      "next meeting ok\n"
     ]
    },
    {
     "name": "stderr",
     "output_type": "stream",
     "text": [
      "\n",
      "\n",
      "\n",
      "\n",
      " 53%|█████▎    | 719/1358 [11:53<18:14,  1.71s/it]\u001b[A\u001b[A\u001b[A\u001b[A"
     ]
    },
    {
     "name": "stdout",
     "output_type": "stream",
     "text": [
      "annual meeting ok\n",
      "[719, 'meeting', 'конференц-зал', nan, nan, 'conference room | meeting room | conference hall | ']\n"
     ]
    },
    {
     "name": "stderr",
     "output_type": "stream",
     "text": [
      "\n",
      "\n",
      "\n",
      "\n",
      " 53%|█████▎    | 720/1358 [11:54<15:23,  1.45s/it]\u001b[A\u001b[A\u001b[A\u001b[A"
     ]
    },
    {
     "name": "stdout",
     "output_type": "stream",
     "text": [
      "конференц-зал ok\n",
      "no examples\n",
      "[720, 'meeting', 'заседание', 'cabinet meeting|joint meeting|third meeting|plenary meeting|', 'заседание правительства | совместное заседание | третье заседание | пленарное заседание | ', 'session | conference | hearing | sitting | ']\n",
      "заседание ok\n",
      "cabinet meeting ok\n",
      "joint meeting ok\n",
      "third meeting ok\n"
     ]
    },
    {
     "name": "stderr",
     "output_type": "stream",
     "text": [
      "\n",
      "\n",
      "\n",
      "\n",
      " 53%|█████▎    | 721/1358 [11:56<17:42,  1.67s/it]\u001b[A\u001b[A\u001b[A\u001b[A"
     ]
    },
    {
     "name": "stdout",
     "output_type": "stream",
     "text": [
      "plenary meeting ok\n",
      "[721, 'meeting', 'собрание', 'general meeting|public meeting|political meeting|staff meeting|', 'общее собрание | общественные собрания | политическое собрание | собрание сотрудников | ', 'assembly | gathering | rally | ']\n",
      "собрание ok\n",
      "general meeting ok\n",
      "public meeting ok\n",
      "political meeting ok\n"
     ]
    },
    {
     "name": "stderr",
     "output_type": "stream",
     "text": [
      "\n",
      "\n",
      "\n",
      "\n",
      " 53%|█████▎    | 722/1358 [11:58<19:12,  1.81s/it]\u001b[A\u001b[A\u001b[A\u001b[A"
     ]
    },
    {
     "name": "stdout",
     "output_type": "stream",
     "text": [
      "staff meeting ok\n",
      "[722, 'meeting', 'совещание', 'emergency meeting|small meeting|spring meeting|high-level meeting|', 'экстренное совещание | небольшое совещание | весеннее совещание | совещания высокого уровня | ', 'conference | session | gathering | consultation | ']\n",
      "совещание ok\n",
      "emergency meeting ok\n",
      "small meeting ok\n",
      "spring meeting ok\n"
     ]
    },
    {
     "name": "stderr",
     "output_type": "stream",
     "text": [
      "\n",
      "\n",
      "\n",
      "\n",
      " 53%|█████▎    | 723/1358 [12:02<24:51,  2.35s/it]\u001b[A\u001b[A\u001b[A\u001b[A"
     ]
    },
    {
     "name": "stdout",
     "output_type": "stream",
     "text": [
      "high-level meeting ok\n",
      "[723, 'meeting', 'митинг', nan, nan, 'rally | demonstration | protest | gathering | march | protester | demonstrator | campaign rally | ']\n"
     ]
    },
    {
     "name": "stderr",
     "output_type": "stream",
     "text": [
      "\n",
      "\n",
      "\n",
      "\n",
      " 53%|█████▎    | 724/1358 [12:02<19:29,  1.84s/it]\u001b[A\u001b[A\u001b[A\u001b[A"
     ]
    },
    {
     "name": "stdout",
     "output_type": "stream",
     "text": [
      "митинг ok\n",
      "no examples\n",
      "[724, 'actually', 'на самом деле', nan, nan, ' | ']\n"
     ]
    },
    {
     "name": "stderr",
     "output_type": "stream",
     "text": [
      "\n",
      "\n",
      "\n",
      "\n",
      " 53%|█████▎    | 725/1358 [12:03<14:51,  1.41s/it]\u001b[A\u001b[A\u001b[A\u001b[A"
     ]
    },
    {
     "name": "stdout",
     "output_type": "stream",
     "text": [
      "на самом деле ok\n",
      "no examples\n",
      "[725, 'actually', 'фактический', nan, nan, 'in fact | virtually | indeed | effectively | ']\n"
     ]
    },
    {
     "name": "stderr",
     "output_type": "stream",
     "text": [
      "\n",
      "\n",
      "\n",
      "\n",
      " 53%|█████▎    | 726/1358 [12:03<12:49,  1.22s/it]\u001b[A\u001b[A\u001b[A\u001b[A"
     ]
    },
    {
     "name": "stdout",
     "output_type": "stream",
     "text": [
      "фактический ok\n",
      "no examples\n",
      "[726, 'actually', 'действительно', nan, nan, 'indeed | really | truly | in fact | ']\n"
     ]
    },
    {
     "name": "stderr",
     "output_type": "stream",
     "text": [
      "\n",
      "\n",
      "\n",
      "\n",
      " 54%|█████▎    | 727/1358 [12:05<12:37,  1.20s/it]\u001b[A\u001b[A\u001b[A\u001b[A"
     ]
    },
    {
     "name": "stdout",
     "output_type": "stream",
     "text": [
      "действительно ok\n",
      "no examples\n",
      "[727, 'actually', 'в действительности', nan, nan, 'indeed | in fact | really | in reality | ']\n"
     ]
    },
    {
     "name": "stderr",
     "output_type": "stream",
     "text": [
      "\n",
      "\n",
      "\n",
      "\n",
      " 54%|█████▎    | 728/1358 [12:06<11:49,  1.13s/it]\u001b[A\u001b[A\u001b[A\u001b[A"
     ]
    },
    {
     "name": "stdout",
     "output_type": "stream",
     "text": [
      "в действительности ok\n",
      "no examples\n",
      "[728, 'actually', 'собственно', nan, nan, 'strictly speaking | ']\n"
     ]
    },
    {
     "name": "stderr",
     "output_type": "stream",
     "text": [
      "\n",
      "\n",
      "\n",
      "\n",
      " 54%|█████▎    | 729/1358 [12:06<09:11,  1.14it/s]\u001b[A\u001b[A\u001b[A\u001b[A"
     ]
    },
    {
     "name": "stdout",
     "output_type": "stream",
     "text": [
      "собственно ok\n",
      "no examples\n",
      "[729, 'actually', 'вообще-то', nan, nan, ' | ']\n"
     ]
    },
    {
     "name": "stderr",
     "output_type": "stream",
     "text": [
      "\n",
      "\n",
      "\n",
      "\n",
      " 54%|█████▍    | 730/1358 [12:06<07:19,  1.43it/s]\u001b[A\u001b[A\u001b[A\u001b[A"
     ]
    },
    {
     "name": "stdout",
     "output_type": "stream",
     "text": [
      "вообще-то ok\n",
      "no examples\n",
      "[730, 'earring', 'серьга', 'diamond earring|', 'бриллиантовые серьги | ', 'shackle | ']\n",
      "серьга ok\n"
     ]
    },
    {
     "name": "stderr",
     "output_type": "stream",
     "text": [
      "\n",
      "\n",
      "\n",
      "\n",
      " 54%|█████▍    | 731/1358 [12:07<07:34,  1.38it/s]\u001b[A\u001b[A\u001b[A\u001b[A"
     ]
    },
    {
     "name": "stdout",
     "output_type": "stream",
     "text": [
      "diamond earring ok\n",
      "[731, 'add', 'добавить', 'to add present-hedonism|to add funds|to add sites|added later|', 'добавить немного сегодняшних наслаждений | добавить средства | добавить сайт | добавлен позднее | ', 'merge | ']\n",
      "добавить ok\n",
      "to add present-hedonism ok\n",
      "to add funds ok\n",
      "to add sites ok\n"
     ]
    },
    {
     "name": "stderr",
     "output_type": "stream",
     "text": [
      "\n",
      "\n",
      "\n",
      "\n",
      " 54%|█████▍    | 732/1358 [12:09<12:48,  1.23s/it]\u001b[A\u001b[A\u001b[A\u001b[A"
     ]
    },
    {
     "name": "stdout",
     "output_type": "stream",
     "text": [
      "added later ok\n",
      "[732, 'add', 'добавлять', 'to add comments|to add photos|to add another level|', 'добавлять комментарии | добавлять фотографии | добавлять еще один уровень | ', 'append | ']\n",
      "добавлять ok\n",
      "to add comments ok\n",
      "to add photos ok\n"
     ]
    },
    {
     "name": "stderr",
     "output_type": "stream",
     "text": [
      "\n",
      "\n",
      "\n",
      "\n",
      " 54%|█████▍    | 733/1358 [12:11<14:13,  1.37s/it]\u001b[A\u001b[A\u001b[A\u001b[A\n",
      "\n",
      "\n",
      "\n"
     ]
    },
    {
     "name": "stdout",
     "output_type": "stream",
     "text": [
      "to add another level ok\n",
      "[733, 'add', 'отметить', nan, nan, 'say | note | mark | celebrate | point out | mention | click | observe | notice | ']\n",
      "отметить ok\n",
      "no examples\n"
     ]
    },
    {
     "name": "stderr",
     "output_type": "stream",
     "text": [
      " 54%|█████▍    | 734/1358 [12:11<10:33,  1.02s/it]\u001b[A\u001b[A\u001b[A\u001b[A"
     ]
    },
    {
     "name": "stdout",
     "output_type": "stream",
     "text": [
      "[734, 'add', 'отмечать', nan, nan, 'celebrate | note | mark | point out | observe | ']\n"
     ]
    },
    {
     "name": "stderr",
     "output_type": "stream",
     "text": [
      "\n",
      "\n",
      "\n",
      "\n",
      " 54%|█████▍    | 735/1358 [12:12<08:43,  1.19it/s]\u001b[A\u001b[A\u001b[A\u001b[A"
     ]
    },
    {
     "name": "stdout",
     "output_type": "stream",
     "text": [
      "отмечать ok\n",
      "no examples\n",
      "[735, 'add up', 'сводиться', nan, nan, 'boil down | come down | add up | amount | confine | focus | ']\n"
     ]
    },
    {
     "name": "stderr",
     "output_type": "stream",
     "text": [
      "\n",
      "\n",
      "\n",
      "\n",
      " 54%|█████▍    | 736/1358 [12:12<07:26,  1.39it/s]\u001b[A\u001b[A\u001b[A\u001b[A"
     ]
    },
    {
     "name": "stdout",
     "output_type": "stream",
     "text": [
      "сводиться ok\n",
      "no examples\n",
      "[736, 'add up', 'складываться', nan, nan, 'fold | add up | fold up | ']\n"
     ]
    },
    {
     "name": "stderr",
     "output_type": "stream",
     "text": [
      "\n",
      "\n",
      "\n",
      "\n",
      " 54%|█████▍    | 737/1358 [12:12<06:24,  1.61it/s]\u001b[A\u001b[A\u001b[A\u001b[A\n",
      "\n",
      "\n",
      "\n",
      " 54%|█████▍    | 738/1358 [12:13<05:00,  2.06it/s]\u001b[A\u001b[A\u001b[A\u001b[A"
     ]
    },
    {
     "name": "stdout",
     "output_type": "stream",
     "text": [
      "складываться ok\n",
      "no examples\n",
      "[737, 'add up', 'сложить', nan, nan, 'lay down | fold | surrender | put down | stack | sum | give up | add up | ']\n",
      "сложить ok\n",
      "no examples\n",
      "[738, 'adjective', 'многочисленными характеристиками', nan, nan, ' | ']\n"
     ]
    },
    {
     "name": "stderr",
     "output_type": "stream",
     "text": [
      "\n",
      "\n",
      "\n",
      "\n",
      " 54%|█████▍    | 739/1358 [12:13<04:25,  2.33it/s]\u001b[A\u001b[A\u001b[A\u001b[A"
     ]
    },
    {
     "name": "stdout",
     "output_type": "stream",
     "text": [
      "многочисленными характеристиками ok\n",
      "no examples\n",
      "[739, 'draw', 'рисовать', 'to draw a picture of God|to draw the story|to draw a steering wheel|', 'рисовать Бога | рисовать историю | рисовать руль | ', 'paint | paint | illustrate | draw by hand | draw again | ']\n",
      "рисовать ok\n",
      "to draw a picture of God ok\n",
      "to draw the story ok\n"
     ]
    },
    {
     "name": "stderr",
     "output_type": "stream",
     "text": [
      "\n",
      "\n",
      "\n",
      "\n",
      " 54%|█████▍    | 740/1358 [12:16<11:56,  1.16s/it]\u001b[A\u001b[A\u001b[A\u001b[A"
     ]
    },
    {
     "name": "stdout",
     "output_type": "stream",
     "text": [
      "to draw a steering wheel ok\n",
      "[740, 'draw', 'привлечь', 'to draw attention|', 'привлечь внимание | ', 'attract | bring | raise | engage | attract | involve | catch | recruit | ']\n",
      "привлечь ok\n"
     ]
    },
    {
     "name": "stderr",
     "output_type": "stream",
     "text": [
      "\n",
      "\n",
      "\n",
      "\n",
      " 55%|█████▍    | 741/1358 [12:16<10:25,  1.01s/it]\u001b[A\u001b[A\u001b[A\u001b[A"
     ]
    },
    {
     "name": "stdout",
     "output_type": "stream",
     "text": [
      "to draw attention ok\n",
      "[741, 'draw', 'нарисовать', 'to draw this article|to draw a sheep|to draw a little car|', 'нарисовать эту статью | нарисовать овцу | нарисовать маленькую машину | ', 'paint | ']\n",
      "нарисовать ok\n",
      "to draw this article ok\n",
      "to draw a sheep ok\n"
     ]
    },
    {
     "name": "stderr",
     "output_type": "stream",
     "text": [
      "\n",
      "\n",
      "\n",
      "\n",
      " 55%|█████▍    | 742/1358 [12:19<15:35,  1.52s/it]\u001b[A\u001b[A\u001b[A\u001b[A"
     ]
    },
    {
     "name": "stdout",
     "output_type": "stream",
     "text": [
      "to draw a little car ok\n",
      "[742, 'draw', 'провести', 'to draw a line|to draw a distinction|to draw a parallel|', 'провести линию | провести различие | провести параллель | ', 'hold | spend | conduct | carry out | do | perform | launch | lead | host | ']\n",
      "провести ok\n",
      "to draw a line ok\n",
      "to draw a distinction ok\n"
     ]
    },
    {
     "name": "stderr",
     "output_type": "stream",
     "text": [
      "\n",
      "\n",
      "\n",
      "\n",
      " 55%|█████▍    | 743/1358 [12:21<17:06,  1.67s/it]\u001b[A\u001b[A\u001b[A\u001b[A"
     ]
    },
    {
     "name": "stdout",
     "output_type": "stream",
     "text": [
      "to draw a parallel ok\n",
      "[743, 'draw', 'привлекать', nan, nan, 'attract | attract | involve | engage | recruit | enlist | ']\n"
     ]
    },
    {
     "name": "stderr",
     "output_type": "stream",
     "text": [
      "\n",
      "\n",
      "\n",
      "\n",
      " 55%|█████▍    | 744/1358 [12:21<12:57,  1.27s/it]\u001b[A\u001b[A\u001b[A\u001b[A"
     ]
    },
    {
     "name": "stdout",
     "output_type": "stream",
     "text": [
      "привлекать ok\n",
      "no examples\n",
      "[744, 'draw', 'вызвать', nan, nan, 'cause | call | trigger | summon | provoke | generate | arouse | spark | ']\n"
     ]
    },
    {
     "name": "stderr",
     "output_type": "stream",
     "text": [
      "\n",
      "\n",
      "\n",
      "\n",
      " 55%|█████▍    | 745/1358 [12:22<10:07,  1.01it/s]\u001b[A\u001b[A\u001b[A\u001b[A"
     ]
    },
    {
     "name": "stdout",
     "output_type": "stream",
     "text": [
      "вызвать ok\n",
      "no examples\n",
      "[745, 'draw', 'обратить', nan, nan, 'pay | turn | convert | reverse | ']\n"
     ]
    },
    {
     "name": "stderr",
     "output_type": "stream",
     "text": [
      "\n",
      "\n",
      "\n",
      "\n",
      " 55%|█████▍    | 746/1358 [12:22<07:44,  1.32it/s]\u001b[A\u001b[A\u001b[A\u001b[A\n",
      "\n",
      "\n",
      "\n",
      " 55%|█████▌    | 747/1358 [12:22<05:57,  1.71it/s]\u001b[A\u001b[A\u001b[A\u001b[A"
     ]
    },
    {
     "name": "stdout",
     "output_type": "stream",
     "text": [
      "обратить ok\n",
      "no examples\n",
      "[746, 'draw', 'извлечь', nan, nan, 'learn | extract | remove | derive | retrieve | pull | reap | benefit | ']\n",
      "извлечь ok\n",
      "no examples\n",
      "[747, 'draw', 'обращать', nan, nan, 'pay | pay | point | convert | invert | leave aside | ']\n"
     ]
    },
    {
     "name": "stderr",
     "output_type": "stream",
     "text": [
      "\n",
      "\n",
      "\n",
      "\n",
      " 55%|█████▌    | 748/1358 [12:22<04:47,  2.12it/s]\u001b[A\u001b[A\u001b[A\u001b[A"
     ]
    },
    {
     "name": "stdout",
     "output_type": "stream",
     "text": [
      "обращать ok\n",
      "no examples\n",
      "[748, 'draw out', 'вытягивать', nan, nan, 'draw out | extract | ']\n"
     ]
    },
    {
     "name": "stderr",
     "output_type": "stream",
     "text": [
      "\n",
      "\n",
      "\n",
      "\n",
      " 55%|█████▌    | 749/1358 [12:23<05:06,  1.98it/s]\u001b[A\u001b[A\u001b[A\u001b[A"
     ]
    },
    {
     "name": "stdout",
     "output_type": "stream",
     "text": [
      "вытягивать ok\n",
      "no examples\n",
      "[749, 'draw out', 'вынуть', nan, nan, 'take out | pull out | pull | draw out | slide | ']\n"
     ]
    },
    {
     "name": "stderr",
     "output_type": "stream",
     "text": [
      "\n",
      "\n",
      "\n",
      "\n",
      " 55%|█████▌    | 750/1358 [12:24<05:54,  1.71it/s]\u001b[A\u001b[A\u001b[A\u001b[A"
     ]
    },
    {
     "name": "stdout",
     "output_type": "stream",
     "text": [
      "вынуть ok\n",
      "no examples\n",
      "[750, 'draw down', 'выводить', nan, nan, 'output | display | print | withdraw | deduce | derive | bring out | draw down | remove | ']\n"
     ]
    },
    {
     "name": "stderr",
     "output_type": "stream",
     "text": [
      "\n",
      "\n",
      "\n",
      "\n",
      " 55%|█████▌    | 751/1358 [12:24<05:57,  1.70it/s]\u001b[A\u001b[A\u001b[A\u001b[A"
     ]
    },
    {
     "name": "stdout",
     "output_type": "stream",
     "text": [
      "выводить ok\n",
      "no examples\n",
      "[751, 'draw up', 'разработать', nan, nan, 'develop | design | devise | work out | elaborate | formulate | ']\n"
     ]
    },
    {
     "name": "stderr",
     "output_type": "stream",
     "text": [
      "\n",
      "\n",
      "\n",
      "\n",
      " 55%|█████▌    | 752/1358 [12:25<05:34,  1.81it/s]\u001b[A\u001b[A\u001b[A\u001b[A"
     ]
    },
    {
     "name": "stdout",
     "output_type": "stream",
     "text": [
      "разработать ok\n",
      "no examples\n",
      "[752, 'draw up', 'составить', nan, nan, 'total | make up | reach | compile | account for | amount | form | put together | ']\n"
     ]
    },
    {
     "name": "stderr",
     "output_type": "stream",
     "text": [
      "\n",
      "\n",
      "\n",
      "\n",
      " 55%|█████▌    | 753/1358 [12:25<04:58,  2.03it/s]\u001b[A\u001b[A\u001b[A\u001b[A"
     ]
    },
    {
     "name": "stdout",
     "output_type": "stream",
     "text": [
      "составить ok\n",
      "no examples\n",
      "[753, 'draw up', 'оформить', nan, nan, 'decorate | feature | furnish | design | issue | arrange | shape | feature | ']\n"
     ]
    },
    {
     "name": "stderr",
     "output_type": "stream",
     "text": [
      "\n",
      "\n",
      "\n",
      "\n",
      " 56%|█████▌    | 754/1358 [12:26<06:06,  1.65it/s]\u001b[A\u001b[A\u001b[A\u001b[A"
     ]
    },
    {
     "name": "stdout",
     "output_type": "stream",
     "text": [
      "оформить ok\n",
      "no examples\n",
      "[754, 'draw up', 'вырабатывать', nan, nan, 'develop | produce | generate | work out | devise | craft | produce | generate | ']\n"
     ]
    },
    {
     "name": "stderr",
     "output_type": "stream",
     "text": [
      "\n",
      "\n",
      "\n",
      "\n",
      " 56%|█████▌    | 755/1358 [12:27<06:31,  1.54it/s]\u001b[A\u001b[A\u001b[A\u001b[A"
     ]
    },
    {
     "name": "stdout",
     "output_type": "stream",
     "text": [
      "вырабатывать ok\n",
      "no examples\n",
      "[755, 'draw up', 'заключать', nan, nan, 'conclude | enclose | lock | strike | forge | pitch | embody | consist | ']\n"
     ]
    },
    {
     "name": "stderr",
     "output_type": "stream",
     "text": [
      "\n",
      "\n",
      "\n",
      "\n",
      " 56%|█████▌    | 756/1358 [12:28<07:38,  1.31it/s]\u001b[A\u001b[A\u001b[A\u001b[A"
     ]
    },
    {
     "name": "stdout",
     "output_type": "stream",
     "text": [
      "заключать ok\n",
      "no examples\n",
      "[756, 'draw up', 'разрабатываться', nan, nan, 'develop | plot | elaborate | ']\n"
     ]
    },
    {
     "name": "stderr",
     "output_type": "stream",
     "text": [
      "\n",
      "\n",
      "\n",
      "\n",
      " 56%|█████▌    | 757/1358 [12:29<07:42,  1.30it/s]\u001b[A\u001b[A\u001b[A\u001b[A"
     ]
    },
    {
     "name": "stdout",
     "output_type": "stream",
     "text": [
      "разрабатываться ok\n",
      "no examples\n",
      "[757, 'drawing', 'рисунок', \"pencil drawing|children's drawings|famous drawing|vector drawing|\", 'карандашный рисунок | детский рисунок | известных рисунков | векторных рисунков | ', 'figure | picture | image | pattern | painting | cartoon | sketch | ']\n",
      "рисунок ok\n",
      "pencil drawing ok\n",
      "children's drawings ok\n",
      "famous drawing ok\n"
     ]
    },
    {
     "name": "stderr",
     "output_type": "stream",
     "text": [
      "\n",
      "\n",
      "\n",
      "\n",
      " 56%|█████▌    | 758/1358 [12:31<13:32,  1.35s/it]\u001b[A\u001b[A\u001b[A\u001b[A"
     ]
    },
    {
     "name": "stdout",
     "output_type": "stream",
     "text": [
      "vector drawing ok\n",
      "[758, 'drawing', 'чертеж', 'technical drawing|detailed drawing|', 'технический чертеж | детальный чертеж | ', 'blueprint | sketch | design drawing | ']\n",
      "чертеж ok\n",
      "technical drawing ok\n"
     ]
    },
    {
     "name": "stderr",
     "output_type": "stream",
     "text": [
      "\n",
      "\n",
      "\n",
      "\n",
      " 56%|█████▌    | 759/1358 [12:33<13:58,  1.40s/it]\u001b[A\u001b[A\u001b[A\u001b[A"
     ]
    },
    {
     "name": "stdout",
     "output_type": "stream",
     "text": [
      "detailed drawing ok\n",
      "[759, 'drawing', 'рисование', nan, nan, 'painting | paint | ']\n"
     ]
    },
    {
     "name": "stderr",
     "output_type": "stream",
     "text": [
      "\n",
      "\n",
      "\n",
      "\n",
      " 56%|█████▌    | 760/1358 [12:33<11:27,  1.15s/it]\u001b[A\u001b[A\u001b[A\u001b[A"
     ]
    },
    {
     "name": "stdout",
     "output_type": "stream",
     "text": [
      "рисование ok\n",
      "no examples\n",
      "[760, 'drawing', 'жеребьевка', nan, nan, 'toss | draw | lottery | ']\n"
     ]
    },
    {
     "name": "stderr",
     "output_type": "stream",
     "text": [
      "\n",
      "\n",
      "\n",
      "\n",
      " 56%|█████▌    | 761/1358 [12:34<11:06,  1.12s/it]\u001b[A\u001b[A\u001b[A\u001b[A"
     ]
    },
    {
     "name": "stdout",
     "output_type": "stream",
     "text": [
      "жеребьевка ok\n",
      "no examples\n",
      "[761, 'drawing', 'розыгрыш', nan, nan, 'draw | lottery | raffle | hoax | practical joke | ']\n"
     ]
    },
    {
     "name": "stderr",
     "output_type": "stream",
     "text": [
      "\n",
      "\n",
      "\n",
      "\n",
      " 56%|█████▌    | 762/1358 [12:35<08:36,  1.15it/s]\u001b[A\u001b[A\u001b[A\u001b[A"
     ]
    },
    {
     "name": "stdout",
     "output_type": "stream",
     "text": [
      "розыгрыш ok\n",
      "no examples\n",
      "[762, 'drawing', 'заимствование', nan, nan, 'borrowing | lending | ']\n"
     ]
    },
    {
     "name": "stderr",
     "output_type": "stream",
     "text": [
      "\n",
      "\n",
      "\n",
      "\n",
      " 56%|█████▌    | 763/1358 [12:37<12:17,  1.24s/it]\u001b[A\u001b[A\u001b[A\u001b[A"
     ]
    },
    {
     "name": "stdout",
     "output_type": "stream",
     "text": [
      "заимствование ok\n",
      "no examples\n",
      "[763, 'drawing', 'графика', nan, nan, 'graphic | graph | chart | schedule | timetable | curve | ']\n"
     ]
    },
    {
     "name": "stderr",
     "output_type": "stream",
     "text": [
      "\n",
      "\n",
      "\n",
      "\n",
      " 56%|█████▋    | 764/1358 [12:37<09:30,  1.04it/s]\u001b[A\u001b[A\u001b[A\u001b[A"
     ]
    },
    {
     "name": "stdout",
     "output_type": "stream",
     "text": [
      "графика ok\n",
      "no examples\n",
      "[764, 'drawing', 'втягивание', 'drawing into an aggressive bloc|drawing into a conflict|', 'втягивание в агрессивный блок | втягивание в конфликт | ', ' | ']\n",
      "втягивание ok\n",
      "drawing into an aggressive bloc ok\n"
     ]
    },
    {
     "name": "stderr",
     "output_type": "stream",
     "text": [
      "\n",
      "\n",
      "\n",
      "\n",
      " 56%|█████▋    | 765/1358 [12:39<12:05,  1.22s/it]\u001b[A\u001b[A\u001b[A\u001b[A"
     ]
    },
    {
     "name": "stdout",
     "output_type": "stream",
     "text": [
      "drawing into a conflict ok\n",
      "[765, 'drawing', 'вытяжка', nan, nan, 'extract | extraction | hood | ']\n"
     ]
    },
    {
     "name": "stderr",
     "output_type": "stream",
     "text": [
      "\n",
      "\n",
      "\n",
      "\n",
      " 56%|█████▋    | 766/1358 [12:40<09:58,  1.01s/it]\u001b[A\u001b[A\u001b[A\u001b[A"
     ]
    },
    {
     "name": "stdout",
     "output_type": "stream",
     "text": [
      "вытяжка ok\n",
      "no examples\n",
      "[766, 'dream', 'сказочный', nan, nan, 'fabulous | fantastic | fairy | magic | supernatural | enchanting | ']\n"
     ]
    },
    {
     "name": "stderr",
     "output_type": "stream",
     "text": [
      "\n",
      "\n",
      "\n",
      "\n",
      " 56%|█████▋    | 767/1358 [12:40<08:01,  1.23it/s]\u001b[A\u001b[A\u001b[A\u001b[A"
     ]
    },
    {
     "name": "stdout",
     "output_type": "stream",
     "text": [
      "сказочный ok\n",
      "no examples\n",
      "[767, 'dream', 'мечта', 'american dream|european dream|distant dream|first dream|', 'американская мечта | европейская мечта | далекая мечта | первая мечта | ', 'vision | ']\n",
      "мечта ok\n",
      "american dream ok\n",
      "european dream ok\n",
      "distant dream ok\n"
     ]
    },
    {
     "name": "stderr",
     "output_type": "stream",
     "text": [
      "\n",
      "\n",
      "\n",
      "\n",
      " 57%|█████▋    | 768/1358 [12:42<10:44,  1.09s/it]\u001b[A\u001b[A\u001b[A\u001b[A"
     ]
    },
    {
     "name": "stdout",
     "output_type": "stream",
     "text": [
      "first dream ok\n",
      "[768, 'dream', 'сон', 'sweet dream|Underworld Dreams|pleasant dream|', 'сладкие сны | сны подземелья | приятного сна | ', 'sleep | nap | slumber | ']\n",
      "сон ok\n",
      "sweet dream ok\n",
      "Underworld Dreams ok\n"
     ]
    },
    {
     "name": "stderr",
     "output_type": "stream",
     "text": [
      "\n",
      "\n",
      "\n",
      "\n",
      " 57%|█████▋    | 769/1358 [12:46<19:17,  1.97s/it]\u001b[A\u001b[A\u001b[A\u001b[A"
     ]
    },
    {
     "name": "stdout",
     "output_type": "stream",
     "text": [
      "pleasant dream ok\n",
      "[769, 'dream', 'соня', 'bad dream|', 'плохой сон | ', 'sleep | nap | dormouse | ']\n",
      "соня ok\n"
     ]
    },
    {
     "name": "stderr",
     "output_type": "stream",
     "text": [
      "\n",
      "\n",
      "\n",
      "\n",
      " 57%|█████▋    | 770/1358 [12:46<16:01,  1.63s/it]\u001b[A\u001b[A\u001b[A\u001b[A"
     ]
    },
    {
     "name": "stdout",
     "output_type": "stream",
     "text": [
      "bad dream ok\n",
      "[770, 'dream', 'dreams', nan, nan, ' | ']\n"
     ]
    },
    {
     "name": "stderr",
     "output_type": "stream",
     "text": [
      "\n",
      "\n",
      "\n",
      "\n",
      " 57%|█████▋    | 771/1358 [12:47<12:01,  1.23s/it]\u001b[A\u001b[A\u001b[A\u001b[A"
     ]
    },
    {
     "name": "stdout",
     "output_type": "stream",
     "text": [
      "dreams ok\n",
      "no examples\n",
      "[771, 'dream', 'мечтание', nan, nan, ' | ']\n"
     ]
    },
    {
     "name": "stderr",
     "output_type": "stream",
     "text": [
      "\n",
      "\n",
      "\n",
      "\n",
      " 57%|█████▋    | 772/1358 [12:47<09:10,  1.06it/s]\u001b[A\u001b[A\u001b[A\u001b[A"
     ]
    },
    {
     "name": "stdout",
     "output_type": "stream",
     "text": [
      "мечтание ok\n",
      "no examples\n",
      "[772, 'dream', 'сновидение', nan, nan, ' | ']\n"
     ]
    },
    {
     "name": "stderr",
     "output_type": "stream",
     "text": [
      "\n",
      "\n",
      "\n",
      "\n",
      " 57%|█████▋    | 773/1358 [12:48<07:51,  1.24it/s]\u001b[A\u001b[A\u001b[A\u001b[A"
     ]
    },
    {
     "name": "stdout",
     "output_type": "stream",
     "text": [
      "сновидение ok\n",
      "no examples\n",
      "[773, 'dream', 'мечтать', nan, nan, 'wish | think | dream about | yearn | aspire | have dreams | ']\n"
     ]
    },
    {
     "name": "stderr",
     "output_type": "stream",
     "text": [
      "\n",
      "\n",
      "\n",
      "\n",
      " 57%|█████▋    | 774/1358 [12:48<07:26,  1.31it/s]\u001b[A\u001b[A\u001b[A\u001b[A"
     ]
    },
    {
     "name": "stdout",
     "output_type": "stream",
     "text": [
      "мечтать ok\n",
      "no examples\n",
      "[774, 'dream', 'сниться', nan, nan, ' | ']\n"
     ]
    },
    {
     "name": "stderr",
     "output_type": "stream",
     "text": [
      "\n",
      "\n",
      "\n",
      "\n",
      " 57%|█████▋    | 775/1358 [12:48<06:04,  1.60it/s]\u001b[A\u001b[A\u001b[A\u001b[A"
     ]
    },
    {
     "name": "stdout",
     "output_type": "stream",
     "text": [
      "сниться ok\n",
      "no examples\n",
      "[775, 'dress', 'одеваться', nan, nan, 'dress up | ']\n"
     ]
    },
    {
     "name": "stderr",
     "output_type": "stream",
     "text": [
      "\n",
      "\n",
      "\n",
      "\n",
      " 57%|█████▋    | 776/1358 [12:50<07:16,  1.33it/s]\u001b[A\u001b[A\u001b[A\u001b[A"
     ]
    },
    {
     "name": "stdout",
     "output_type": "stream",
     "text": [
      "одеваться ok\n",
      "no examples\n",
      "[776, 'dress', 'одеть', nan, nan, 'wear | clothe | dress up | put on | ']\n"
     ]
    },
    {
     "name": "stderr",
     "output_type": "stream",
     "text": [
      "\n",
      "\n",
      "\n",
      "\n",
      " 57%|█████▋    | 777/1358 [12:50<07:31,  1.29it/s]\u001b[A\u001b[A\u001b[A\u001b[A"
     ]
    },
    {
     "name": "stdout",
     "output_type": "stream",
     "text": [
      "одеть ok\n",
      "no examples\n",
      "[777, 'dress', 'одевать', nan, nan, 'wear | clothe | ']\n"
     ]
    },
    {
     "name": "stderr",
     "output_type": "stream",
     "text": [
      "\n",
      "\n",
      "\n",
      "\n",
      " 57%|█████▋    | 778/1358 [12:52<10:07,  1.05s/it]\u001b[A\u001b[A\u001b[A\u001b[A"
     ]
    },
    {
     "name": "stdout",
     "output_type": "stream",
     "text": [
      "одевать ok\n",
      "no examples\n",
      "[778, 'dress', 'одеться', nan, nan, 'dress up | ']\n"
     ]
    },
    {
     "name": "stderr",
     "output_type": "stream",
     "text": [
      "\n",
      "\n",
      "\n",
      "\n",
      " 57%|█████▋    | 779/1358 [12:53<08:50,  1.09it/s]\u001b[A\u001b[A\u001b[A\u001b[A"
     ]
    },
    {
     "name": "stdout",
     "output_type": "stream",
     "text": [
      "одеться ok\n",
      "no examples\n",
      "[779, 'dress', 'оделиться', nan, nan, ' | ']\n"
     ]
    },
    {
     "name": "stderr",
     "output_type": "stream",
     "text": [
      "\n",
      "\n",
      "\n",
      "\n",
      " 57%|█████▋    | 780/1358 [12:53<07:35,  1.27it/s]\u001b[A\u001b[A\u001b[A\u001b[A"
     ]
    },
    {
     "name": "stdout",
     "output_type": "stream",
     "text": [
      "оделиться ok\n",
      "no examples\n",
      "[780, 'dress', 'переодеться', nan, nan, ' | ']\n"
     ]
    },
    {
     "name": "stderr",
     "output_type": "stream",
     "text": [
      "\n",
      "\n",
      "\n",
      "\n",
      " 58%|█████▊    | 781/1358 [12:53<05:59,  1.61it/s]\u001b[A\u001b[A\u001b[A\u001b[A"
     ]
    },
    {
     "name": "stdout",
     "output_type": "stream",
     "text": [
      "переодеться ok\n",
      "no examples\n",
      "[781, 'dress', 'оделить', nan, nan, 'put on | ']\n"
     ]
    },
    {
     "name": "stderr",
     "output_type": "stream",
     "text": [
      "\n",
      "\n",
      "\n",
      "\n",
      " 58%|█████▊    | 782/1358 [12:54<05:17,  1.82it/s]\u001b[A\u001b[A\u001b[A\u001b[A"
     ]
    },
    {
     "name": "stdout",
     "output_type": "stream",
     "text": [
      "оделить ok\n",
      "no examples\n",
      "[782, 'dress up', 'наряжаться', nan, nan, 'dress up | ']\n"
     ]
    },
    {
     "name": "stderr",
     "output_type": "stream",
     "text": [
      "\n",
      "\n",
      "\n",
      "\n",
      " 58%|█████▊    | 783/1358 [12:54<04:33,  2.10it/s]\u001b[A\u001b[A\u001b[A\u001b[A"
     ]
    },
    {
     "name": "stdout",
     "output_type": "stream",
     "text": [
      "наряжаться ok\n",
      "no examples\n",
      "[783, 'dress up', 'одеваться', nan, nan, 'dress | dress | dress up | ']\n"
     ]
    },
    {
     "name": "stderr",
     "output_type": "stream",
     "text": [
      "\n",
      "\n",
      "\n",
      "\n",
      " 58%|█████▊    | 784/1358 [12:54<04:19,  2.21it/s]\u001b[A\u001b[A\u001b[A\u001b[A"
     ]
    },
    {
     "name": "stdout",
     "output_type": "stream",
     "text": [
      "одеваться ok\n",
      "no examples\n",
      "[784, 'dress up', 'нарядиться', nan, nan, 'dress up | ']\n"
     ]
    },
    {
     "name": "stderr",
     "output_type": "stream",
     "text": [
      "\n",
      "\n",
      "\n",
      "\n",
      " 58%|█████▊    | 785/1358 [12:56<07:36,  1.25it/s]\u001b[A\u001b[A\u001b[A\u001b[A"
     ]
    },
    {
     "name": "stdout",
     "output_type": "stream",
     "text": [
      "нарядиться ok\n",
      "no examples\n",
      "[785, 'dress up', 'одеть', nan, nan, 'wear | dress | clothe | dress up | put on | ']\n"
     ]
    },
    {
     "name": "stderr",
     "output_type": "stream",
     "text": [
      "\n",
      "\n",
      "\n",
      "\n",
      " 58%|█████▊    | 786/1358 [12:57<07:20,  1.30it/s]\u001b[A\u001b[A\u001b[A\u001b[A"
     ]
    },
    {
     "name": "stdout",
     "output_type": "stream",
     "text": [
      "одеть ok\n",
      "no examples\n",
      "[786, 'dress up', 'одеться', nan, nan, 'dress | dress up | ']\n"
     ]
    },
    {
     "name": "stderr",
     "output_type": "stream",
     "text": [
      "\n",
      "\n",
      "\n",
      "\n",
      " 58%|█████▊    | 787/1358 [12:57<05:45,  1.65it/s]\u001b[A\u001b[A\u001b[A\u001b[A"
     ]
    },
    {
     "name": "stdout",
     "output_type": "stream",
     "text": [
      "одеться ok\n",
      "no examples\n",
      "[787, 'dress up', 'наряжать', nan, nan, 'dress up | ']\n"
     ]
    },
    {
     "name": "stderr",
     "output_type": "stream",
     "text": [
      "\n",
      "\n",
      "\n",
      "\n",
      " 58%|█████▊    | 788/1358 [12:57<04:43,  2.01it/s]\u001b[A\u001b[A\u001b[A\u001b[A"
     ]
    },
    {
     "name": "stdout",
     "output_type": "stream",
     "text": [
      "наряжать ok\n",
      "no examples\n",
      "[788, 'drive', 'доехать', nan, nan, 'reach | drive away | catch | get there | ']\n",
      "доехать "
     ]
    },
    {
     "name": "stderr",
     "output_type": "stream",
     "text": [
      "\n",
      "\n",
      "\n",
      "\n",
      " 58%|█████▊    | 789/1358 [12:57<03:52,  2.44it/s]\u001b[A\u001b[A\u001b[A\u001b[A"
     ]
    },
    {
     "name": "stdout",
     "output_type": "stream",
     "text": [
      "ok\n",
      "no examples\n",
      "[789, 'drive', 'водить', nan, nan, ' | ']\n"
     ]
    },
    {
     "name": "stderr",
     "output_type": "stream",
     "text": [
      "\n",
      "\n",
      "\n",
      "\n",
      " 58%|█████▊    | 790/1358 [12:58<03:22,  2.81it/s]\u001b[A\u001b[A\u001b[A\u001b[A"
     ]
    },
    {
     "name": "stdout",
     "output_type": "stream",
     "text": [
      "водить ok\n",
      "no examples\n",
      "[790, 'drive', 'ехать', 'to drive home|', 'ехать домой | ', 'go | travel | go | travel | ride | ']\n",
      "ехать ok\n"
     ]
    },
    {
     "name": "stderr",
     "output_type": "stream",
     "text": [
      "\n",
      "\n",
      "\n",
      "\n",
      " 58%|█████▊    | 791/1358 [12:59<06:04,  1.56it/s]\u001b[A\u001b[A\u001b[A\u001b[A"
     ]
    },
    {
     "name": "stdout",
     "output_type": "stream",
     "text": [
      "to drive home ok\n",
      "[791, 'drive', 'управлять', 'to drive cars|', 'управлять автомобилем | ', 'manage | control | run | govern | rule | operate | manage | administer | ']\n",
      "управлять ok\n"
     ]
    },
    {
     "name": "stderr",
     "output_type": "stream",
     "text": [
      "\n",
      "\n",
      "\n",
      "\n",
      " 58%|█████▊    | 792/1358 [13:00<05:47,  1.63it/s]\u001b[A\u001b[A\u001b[A\u001b[A"
     ]
    },
    {
     "name": "stdout",
     "output_type": "stream",
     "text": [
      "to drive cars ok\n",
      "[792, 'drive', 'ездить', nan, nan, 'go | travel | ride | travel | ']\n"
     ]
    },
    {
     "name": "stderr",
     "output_type": "stream",
     "text": [
      "\n",
      "\n",
      "\n",
      "\n",
      " 58%|█████▊    | 793/1358 [13:00<04:58,  1.89it/s]\u001b[A\u001b[A\u001b[A\u001b[A"
     ]
    },
    {
     "name": "stdout",
     "output_type": "stream",
     "text": [
      "ездить ok\n",
      "no examples\n",
      "[793, 'drive', 'привести', nan, nan, 'lead | bring | produce | cite | lead | result | put | lead up | ']\n"
     ]
    },
    {
     "name": "stderr",
     "output_type": "stream",
     "text": [
      "\n",
      "\n",
      "\n",
      "\n",
      " 58%|█████▊    | 794/1358 [13:00<04:39,  2.02it/s]\u001b[A\u001b[A\u001b[A\u001b[A"
     ]
    },
    {
     "name": "stdout",
     "output_type": "stream",
     "text": [
      "привести ok\n",
      "no examples\n",
      "[794, 'drive', 'вести', nan, nan, 'lead | conduct | wage | keep | maintain | run | carry out | fight | lead | ']\n"
     ]
    },
    {
     "name": "stderr",
     "output_type": "stream",
     "text": [
      "\n",
      "\n",
      "\n",
      "\n",
      " 59%|█████▊    | 795/1358 [13:01<04:33,  2.06it/s]\u001b[A\u001b[A\u001b[A\u001b[A\n",
      "\n",
      "\n",
      "\n"
     ]
    },
    {
     "name": "stdout",
     "output_type": "stream",
     "text": [
      "вести ok\n",
      "no examples\n",
      "[795, 'drive', 'приводить', nan, nan, 'lead | bring | cite | lead | contribute | cause | ']\n",
      "приводить ok\n",
      "no examples\n"
     ]
    },
    {
     "name": "stderr",
     "output_type": "stream",
     "text": [
      " 59%|█████▊    | 796/1358 [13:01<03:44,  2.51it/s]\u001b[A\u001b[A\u001b[A\u001b[A"
     ]
    },
    {
     "name": "stdout",
     "output_type": "stream",
     "text": [
      "[796, 'drive', 'проехать', nan, nan, 'travel | ride | drive away | ']\n"
     ]
    },
    {
     "name": "stderr",
     "output_type": "stream",
     "text": [
      "\n",
      "\n",
      "\n",
      "\n",
      " 59%|█████▊    | 797/1358 [13:01<03:39,  2.55it/s]\u001b[A\u001b[A\u001b[A\u001b[A"
     ]
    },
    {
     "name": "stdout",
     "output_type": "stream",
     "text": [
      "проехать ok\n",
      "no examples\n",
      "[797, 'drive away', 'доехать', nan, nan, 'reach | drive | drive away | catch | get there | ']\n"
     ]
    },
    {
     "name": "stderr",
     "output_type": "stream",
     "text": [
      "\n",
      "\n",
      "\n",
      "\n",
      " 59%|█████▉    | 798/1358 [13:02<03:24,  2.74it/s]\u001b[A\u001b[A\u001b[A\u001b[A"
     ]
    },
    {
     "name": "stdout",
     "output_type": "stream",
     "text": [
      "доехать ok\n",
      "no examples\n",
      "[798, 'drive away', 'отгонять', nan, nan, 'drive away | ']\n"
     ]
    },
    {
     "name": "stderr",
     "output_type": "stream",
     "text": [
      "\n",
      "\n",
      "\n",
      "\n",
      " 59%|█████▉    | 799/1358 [13:02<04:05,  2.28it/s]\u001b[A\u001b[A\u001b[A\u001b[A"
     ]
    },
    {
     "name": "stdout",
     "output_type": "stream",
     "text": [
      "отгонять ok\n",
      "no examples\n",
      "[799, 'drive away', 'отпугнуть', nan, nan, 'deter | scare away | scare | drive away | ']\n"
     ]
    },
    {
     "name": "stderr",
     "output_type": "stream",
     "text": [
      "\n",
      "\n",
      "\n",
      "\n",
      " 59%|█████▉    | 800/1358 [13:03<04:51,  1.91it/s]\u001b[A\u001b[A\u001b[A\u001b[A"
     ]
    },
    {
     "name": "stdout",
     "output_type": "stream",
     "text": [
      "отпугнуть ok\n",
      "no examples\n",
      "[800, 'drive away', 'выгнать', nan, nan, 'expel | drive | kick | chase | evict | turn out | drive out | drive away | ']\n"
     ]
    },
    {
     "name": "stderr",
     "output_type": "stream",
     "text": [
      "\n",
      "\n",
      "\n",
      "\n",
      " 59%|█████▉    | 801/1358 [13:03<04:54,  1.89it/s]\u001b[A\u001b[A\u001b[A\u001b[A"
     ]
    },
    {
     "name": "stdout",
     "output_type": "stream",
     "text": [
      "выгнать ok\n",
      "no examples\n",
      "[801, 'drive back', 'уехать назад', nan, nan, ' | ']\n"
     ]
    },
    {
     "name": "stderr",
     "output_type": "stream",
     "text": [
      "\n",
      "\n",
      "\n",
      "\n",
      " 59%|█████▉    | 802/1358 [13:04<05:12,  1.78it/s]\u001b[A\u001b[A\u001b[A\u001b[A"
     ]
    },
    {
     "name": "stdout",
     "output_type": "stream",
     "text": [
      "уехать назад ok\n",
      "no examples\n",
      "[802, 'drive off', 'отъехать', nan, nan, ' | ']\n"
     ]
    },
    {
     "name": "stderr",
     "output_type": "stream",
     "text": [
      "\n",
      "\n",
      "\n",
      "\n",
      " 59%|█████▉    | 803/1358 [13:05<05:27,  1.70it/s]\u001b[A\u001b[A\u001b[A\u001b[A"
     ]
    },
    {
     "name": "stdout",
     "output_type": "stream",
     "text": [
      "отъехать ok\n",
      "no examples\n",
      "[803, 'drive out', 'изгнать', nan, nan, 'expel | drive | oust | evict | flush out | banish | expel | route | ']\n"
     ]
    },
    {
     "name": "stderr",
     "output_type": "stream",
     "text": [
      "\n",
      "\n",
      "\n",
      "\n",
      " 59%|█████▉    | 804/1358 [13:05<05:15,  1.76it/s]\u001b[A\u001b[A\u001b[A\u001b[A"
     ]
    },
    {
     "name": "stdout",
     "output_type": "stream",
     "text": [
      "изгнать ok\n",
      "no examples\n",
      "[804, 'drive out', 'вытеснить', nan, nan, 'displace | drive | supplant | supersede | dislodge | oust | push | crowd out | ']\n"
     ]
    },
    {
     "name": "stderr",
     "output_type": "stream",
     "text": [
      "\n",
      "\n",
      "\n",
      "\n",
      " 59%|█████▉    | 805/1358 [13:06<05:24,  1.70it/s]\u001b[A\u001b[A\u001b[A\u001b[A"
     ]
    },
    {
     "name": "stdout",
     "output_type": "stream",
     "text": [
      "вытеснить ok\n",
      "no examples\n",
      "[805, 'drive out', 'вытеснять', nan, nan, 'crowd out | supplant | supersede | displace | ']\n"
     ]
    },
    {
     "name": "stderr",
     "output_type": "stream",
     "text": [
      "\n",
      "\n",
      "\n",
      "\n",
      " 59%|█████▉    | 806/1358 [13:07<05:28,  1.68it/s]\u001b[A\u001b[A\u001b[A\u001b[A"
     ]
    },
    {
     "name": "stdout",
     "output_type": "stream",
     "text": [
      "вытеснять ok\n",
      "no examples\n",
      "[806, 'drive out', 'выгнать', nan, nan, 'expel | drive | kick | chase | evict | turn out | drive away | ']\n"
     ]
    },
    {
     "name": "stderr",
     "output_type": "stream",
     "text": [
      "\n",
      "\n",
      "\n",
      "\n",
      " 59%|█████▉    | 807/1358 [13:07<06:25,  1.43it/s]\u001b[A\u001b[A\u001b[A\u001b[A"
     ]
    },
    {
     "name": "stdout",
     "output_type": "stream",
     "text": [
      "выгнать ok\n",
      "no examples\n",
      "[807, 'driving', 'ведущий', nan, nan, 'leading | lead | guiding | ']\n"
     ]
    },
    {
     "name": "stderr",
     "output_type": "stream",
     "text": [
      "\n",
      "\n",
      "\n",
      "\n",
      " 59%|█████▉    | 808/1358 [13:08<06:06,  1.50it/s]\u001b[A\u001b[A\u001b[A\u001b[A"
     ]
    },
    {
     "name": "stdout",
     "output_type": "stream",
     "text": [
      "ведущий ok\n",
      "no examples\n",
      "[808, 'driving', 'движущий', nan, nan, 'motive | ']\n"
     ]
    },
    {
     "name": "stderr",
     "output_type": "stream",
     "text": [
      "\n",
      "\n",
      "\n",
      "\n",
      " 60%|█████▉    | 809/1358 [13:08<05:07,  1.78it/s]\u001b[A\u001b[A\u001b[A\u001b[A"
     ]
    },
    {
     "name": "stdout",
     "output_type": "stream",
     "text": [
      "движущий ok\n",
      "no examples\n",
      "[809, 'driving', 'приводной', nan, nan, ' | ']\n"
     ]
    },
    {
     "name": "stderr",
     "output_type": "stream",
     "text": [
      "\n",
      "\n",
      "\n",
      "\n",
      " 60%|█████▉    | 810/1358 [13:09<04:31,  2.02it/s]\u001b[A\u001b[A\u001b[A\u001b[A"
     ]
    },
    {
     "name": "stdout",
     "output_type": "stream",
     "text": [
      "приводной ok\n",
      "no examples\n",
      "[810, 'driving', 'возбуждающий', nan, nan, 'exciting | ']\n"
     ]
    },
    {
     "name": "stderr",
     "output_type": "stream",
     "text": [
      "\n",
      "\n",
      "\n",
      "\n",
      " 60%|█████▉    | 811/1358 [13:09<04:18,  2.12it/s]\u001b[A\u001b[A\u001b[A\u001b[A\n",
      "\n",
      "\n",
      "\n",
      " 60%|█████▉    | 812/1358 [13:09<03:29,  2.61it/s]\u001b[A\u001b[A\u001b[A\u001b[A"
     ]
    },
    {
     "name": "stdout",
     "output_type": "stream",
     "text": [
      "возбуждающий ok\n",
      "no examples\n",
      "[811, 'driving', 'вождение', nan, nan, ' | ']\n",
      "вождение ok\n",
      "no examples\n",
      "[812, 'drum', 'барабан', 'war drum|Turkish drum|tin drum|', 'барабан войны | турецкий барабан | Оловянный барабан | ', 'reel | barrel | roulette wheel | sheave | roller | ']\n",
      "барабан ok\n",
      "war drum ok\n",
      "Turkish drum ok\n"
     ]
    },
    {
     "name": "stderr",
     "output_type": "stream",
     "text": [
      "\n",
      "\n",
      "\n",
      "\n",
      " 60%|█████▉    | 813/1358 [13:11<07:49,  1.16it/s]\u001b[A\u001b[A\u001b[A\u001b[A"
     ]
    },
    {
     "name": "stdout",
     "output_type": "stream",
     "text": [
      "tin drum ok\n",
      "[813, 'drum', 'перкуссия', nan, nan, 'percussion | ']\n"
     ]
    },
    {
     "name": "stderr",
     "output_type": "stream",
     "text": [
      "\n",
      "\n",
      "\n",
      "\n",
      " 60%|█████▉    | 814/1358 [13:12<06:02,  1.50it/s]\u001b[A\u001b[A\u001b[A\u001b[A\n",
      "\n",
      "\n",
      "\n",
      " 60%|██████    | 815/1358 [13:12<04:43,  1.92it/s]\u001b[A\u001b[A\u001b[A\u001b[A"
     ]
    },
    {
     "name": "stdout",
     "output_type": "stream",
     "text": [
      "перкуссия ok\n",
      "no examples\n",
      "[814, 'drum', 'валик', nan, nan, 'roll | roller | cylinder | paint roller | shaft | ']\n",
      "валик ok\n",
      "no examples\n",
      "[815, 'drum', 'ударная установка', nan, nan, ' | ']\n"
     ]
    },
    {
     "name": "stderr",
     "output_type": "stream",
     "text": [
      "\n",
      "\n",
      "\n",
      "\n",
      " 60%|██████    | 816/1358 [13:12<04:00,  2.25it/s]\u001b[A\u001b[A\u001b[A\u001b[A"
     ]
    },
    {
     "name": "stdout",
     "output_type": "stream",
     "text": [
      "ударная установка ok\n",
      "no examples\n",
      "[816, 'dry', 'сухой', nan, nan, ' | ']\n"
     ]
    },
    {
     "name": "stderr",
     "output_type": "stream",
     "text": [
      "\n",
      "\n",
      "\n",
      "\n",
      " 60%|██████    | 817/1358 [13:12<03:30,  2.58it/s]\u001b[A\u001b[A\u001b[A\u001b[A"
     ]
    },
    {
     "name": "stdout",
     "output_type": "stream",
     "text": [
      "сухой ok\n",
      "no examples\n",
      "[817, 'dry', 'засушливый', nan, nan, 'arid | drought-ridden | ']\n"
     ]
    },
    {
     "name": "stderr",
     "output_type": "stream",
     "text": [
      "\n",
      "\n",
      "\n",
      "\n",
      " 60%|██████    | 818/1358 [13:13<03:17,  2.74it/s]\u001b[A\u001b[A\u001b[A\u001b[A"
     ]
    },
    {
     "name": "stdout",
     "output_type": "stream",
     "text": [
      "засушливый ok\n",
      "no examples\n",
      "[818, 'dry', 'сушить', 'to dry fruit|', 'сушить фрукты | ', ' | ']\n",
      "сушить ok\n"
     ]
    },
    {
     "name": "stderr",
     "output_type": "stream",
     "text": [
      "\n",
      "\n",
      "\n",
      "\n",
      " 60%|██████    | 819/1358 [13:14<06:01,  1.49it/s]\u001b[A\u001b[A\u001b[A\u001b[A"
     ]
    },
    {
     "name": "stdout",
     "output_type": "stream",
     "text": [
      "to dry fruit ok\n",
      "[819, 'dry', 'сохнуть', nan, nan, ' | ']\n"
     ]
    },
    {
     "name": "stderr",
     "output_type": "stream",
     "text": [
      "\n",
      "\n",
      "\n",
      "\n",
      " 60%|██████    | 820/1358 [13:14<04:46,  1.88it/s]\u001b[A\u001b[A\u001b[A\u001b[A"
     ]
    },
    {
     "name": "stdout",
     "output_type": "stream",
     "text": [
      "сохнуть ok\n",
      "no examples\n",
      "[820, 'dry', 'высохнуть', nan, nan, 'dry up | dry up | ']\n"
     ]
    },
    {
     "name": "stderr",
     "output_type": "stream",
     "text": [
      "\n",
      "\n",
      "\n",
      "\n",
      " 60%|██████    | 821/1358 [13:15<04:27,  2.01it/s]\u001b[A\u001b[A\u001b[A\u001b[A"
     ]
    },
    {
     "name": "stdout",
     "output_type": "stream",
     "text": [
      "высохнуть ok\n",
      "no examples\n",
      "[821, 'dry', 'высыхать', nan, nan, ' | ']\n"
     ]
    },
    {
     "name": "stderr",
     "output_type": "stream",
     "text": [
      "\n",
      "\n",
      "\n",
      "\n",
      " 61%|██████    | 822/1358 [13:15<03:48,  2.35it/s]\u001b[A\u001b[A\u001b[A\u001b[A\n",
      "\n",
      "\n",
      "\n"
     ]
    },
    {
     "name": "stdout",
     "output_type": "stream",
     "text": [
      "высыхать ok\n",
      "no examples\n",
      "[822, 'dry', 'высушить', nan, nan, ' | ']\n",
      "высушить ok\n",
      "no examples\n"
     ]
    },
    {
     "name": "stderr",
     "output_type": "stream",
     "text": [
      " 61%|██████    | 823/1358 [13:15<03:12,  2.78it/s]\u001b[A\u001b[A\u001b[A\u001b[A"
     ]
    },
    {
     "name": "stdout",
     "output_type": "stream",
     "text": [
      "[823, 'dry', 'высушивать', nan, nan, ' | ']\n"
     ]
    },
    {
     "name": "stderr",
     "output_type": "stream",
     "text": [
      "\n",
      "\n",
      "\n",
      "\n",
      " 61%|██████    | 824/1358 [13:16<03:45,  2.37it/s]\u001b[A\u001b[A\u001b[A\u001b[A"
     ]
    },
    {
     "name": "stdout",
     "output_type": "stream",
     "text": [
      "высушивать ok\n",
      "no examples\n",
      "[824, 'dry', 'просушить', nan, nan, ' | ']\n"
     ]
    },
    {
     "name": "stderr",
     "output_type": "stream",
     "text": [
      "\n",
      "\n",
      "\n",
      "\n",
      " 61%|██████    | 825/1358 [13:16<03:54,  2.27it/s]\u001b[A\u001b[A\u001b[A\u001b[A"
     ]
    },
    {
     "name": "stdout",
     "output_type": "stream",
     "text": [
      "просушить ok\n",
      "no examples\n",
      "[825, 'dry', 'закрепляться', nan, nan, 'settle | ']\n"
     ]
    },
    {
     "name": "stderr",
     "output_type": "stream",
     "text": [
      "\n",
      "\n",
      "\n",
      "\n",
      " 61%|██████    | 826/1358 [13:17<04:07,  2.15it/s]\u001b[A\u001b[A\u001b[A\u001b[A"
     ]
    },
    {
     "name": "stdout",
     "output_type": "stream",
     "text": [
      "закрепляться ok\n",
      "no examples\n",
      "[826, 'dry', 'вытереть', nan, nan, 'wipe | clean off | ']\n"
     ]
    },
    {
     "name": "stderr",
     "output_type": "stream",
     "text": [
      "\n",
      "\n",
      "\n",
      "\n",
      " 61%|██████    | 827/1358 [13:18<05:43,  1.55it/s]\u001b[A\u001b[A\u001b[A\u001b[A"
     ]
    },
    {
     "name": "stdout",
     "output_type": "stream",
     "text": [
      "вытереть ok\n",
      "no examples\n",
      "[827, 'dry up', 'иссякать', nan, nan, 'dry up | ']\n"
     ]
    },
    {
     "name": "stderr",
     "output_type": "stream",
     "text": [
      "\n",
      "\n",
      "\n",
      "\n",
      " 61%|██████    | 828/1358 [13:18<05:47,  1.52it/s]\u001b[A\u001b[A\u001b[A\u001b[A"
     ]
    },
    {
     "name": "stdout",
     "output_type": "stream",
     "text": [
      "иссякать ok\n",
      "no examples\n",
      "[828, 'dry up', 'высохнуть', nan, nan, 'dry | dry up | dry up | ']\n"
     ]
    },
    {
     "name": "stderr",
     "output_type": "stream",
     "text": [
      "\n",
      "\n",
      "\n",
      "\n",
      " 61%|██████    | 829/1358 [13:19<04:54,  1.80it/s]\u001b[A\u001b[A\u001b[A\u001b[A"
     ]
    },
    {
     "name": "stdout",
     "output_type": "stream",
     "text": [
      "высохнуть ok\n",
      "no examples\n",
      "[829, 'dry up', 'иссякнуть', nan, nan, 'run out | dry up | taper off | peter out | ']\n"
     ]
    },
    {
     "name": "stderr",
     "output_type": "stream",
     "text": [
      "\n",
      "\n",
      "\n",
      "\n",
      " 61%|██████    | 830/1358 [13:19<04:04,  2.16it/s]\u001b[A\u001b[A\u001b[A\u001b[A"
     ]
    },
    {
     "name": "stdout",
     "output_type": "stream",
     "text": [
      "иссякнуть ok\n",
      "no examples\n",
      "[830, 'dry up', 'пересыхать', nan, nan, 'dry up | ']\n"
     ]
    },
    {
     "name": "stderr",
     "output_type": "stream",
     "text": [
      "\n",
      "\n",
      "\n",
      "\n",
      " 61%|██████    | 831/1358 [13:19<03:52,  2.27it/s]\u001b[A\u001b[A\u001b[A\u001b[A"
     ]
    },
    {
     "name": "stdout",
     "output_type": "stream",
     "text": [
      "пересыхать ok\n",
      "no examples\n",
      "[831, 'duck', 'уток', nan, nan, ' | ']\n"
     ]
    },
    {
     "name": "stderr",
     "output_type": "stream",
     "text": [
      "\n",
      "\n",
      "\n",
      "\n",
      " 61%|██████▏   | 832/1358 [13:20<03:22,  2.60it/s]\u001b[A\u001b[A\u001b[A\u001b[A"
     ]
    },
    {
     "name": "stdout",
     "output_type": "stream",
     "text": [
      "уток ok\n",
      "no examples\n",
      "[832, 'duck', 'утка', nan, nan, 'flock | ']\n"
     ]
    },
    {
     "name": "stderr",
     "output_type": "stream",
     "text": [
      "\n",
      "\n",
      "\n",
      "\n",
      " 61%|██████▏   | 833/1358 [13:20<03:44,  2.34it/s]\u001b[A\u001b[A\u001b[A\u001b[A"
     ]
    },
    {
     "name": "stdout",
     "output_type": "stream",
     "text": [
      "утка ok\n",
      "no examples\n",
      "[833, 'duck', 'парусина', nan, nan, ' | ']\n"
     ]
    },
    {
     "name": "stderr",
     "output_type": "stream",
     "text": [
      "\n",
      "\n",
      "\n",
      "\n",
      " 61%|██████▏   | 834/1358 [13:20<03:45,  2.32it/s]\u001b[A\u001b[A\u001b[A\u001b[A"
     ]
    },
    {
     "name": "stdout",
     "output_type": "stream",
     "text": [
      "парусина ok\n",
      "no examples\n",
      "[834, 'advance', 'продвинуться', nan, nan, 'push | move on | make a lot of progress | move | make any progress | ']\n"
     ]
    },
    {
     "name": "stderr",
     "output_type": "stream",
     "text": [
      "\n",
      "\n",
      "\n",
      "\n",
      " 61%|██████▏   | 835/1358 [13:21<03:56,  2.21it/s]\u001b[A\u001b[A\u001b[A\u001b[A"
     ]
    },
    {
     "name": "stdout",
     "output_type": "stream",
     "text": [
      "продвинуться ok\n",
      "no examples\n",
      "[835, 'advance', 'выйти', nan, nan, 'go out | go | come out | leave | reach | release | emerge | enter | step | ']\n"
     ]
    },
    {
     "name": "stderr",
     "output_type": "stream",
     "text": [
      "\n",
      "\n",
      "\n",
      "\n",
      " 62%|██████▏   | 836/1358 [13:21<03:58,  2.19it/s]\u001b[A\u001b[A\u001b[A\u001b[A"
     ]
    },
    {
     "name": "stdout",
     "output_type": "stream",
     "text": [
      "выйти ok\n",
      "no examples\n",
      "[836, 'advance', 'пройти', nan, nan, 'pass | go | hold | took place | undergo | receive | host | walk | complete | ']\n"
     ]
    },
    {
     "name": "stderr",
     "output_type": "stream",
     "text": [
      "\n",
      "\n",
      "\n",
      "\n",
      " 62%|██████▏   | 837/1358 [13:22<03:57,  2.20it/s]\u001b[A\u001b[A\u001b[A\u001b[A\n",
      "\n",
      "\n",
      "\n",
      " 62%|██████▏   | 838/1358 [13:22<03:12,  2.71it/s]\u001b[A\u001b[A\u001b[A\u001b[A"
     ]
    },
    {
     "name": "stdout",
     "output_type": "stream",
     "text": [
      "пройти ok\n",
      "no examples\n",
      "[837, 'advance', 'продвигать', nan, nan, 'promote | push | promote | further | champion | ']\n",
      "продвигать ok\n",
      "no examples\n",
      "[838, 'advance', 'развиваться', nan, nan, 'develop | evolve | grow | develop | progress | evolve | unfold | flourish | ']\n"
     ]
    },
    {
     "name": "stderr",
     "output_type": "stream",
     "text": [
      "\n",
      "\n",
      "\n",
      "\n",
      " 62%|██████▏   | 839/1358 [13:22<02:49,  3.06it/s]\u001b[A\u001b[A\u001b[A\u001b[A"
     ]
    },
    {
     "name": "stdout",
     "output_type": "stream",
     "text": [
      "развиваться ok\n",
      "no examples\n",
      "[839, 'advance', 'продвигаться', nan, nan, 'move | progress | move | move forward | proceed | ']\n"
     ]
    },
    {
     "name": "stderr",
     "output_type": "stream",
     "text": [
      "\n",
      "\n",
      "\n",
      "\n",
      " 62%|██████▏   | 840/1358 [13:23<03:03,  2.83it/s]\u001b[A\u001b[A\u001b[A\u001b[A"
     ]
    },
    {
     "name": "stdout",
     "output_type": "stream",
     "text": [
      "продвигаться ok\n",
      "no examples\n",
      "[840, 'advance', 'продвинуть', nan, nan, 'promote | push | ']\n"
     ]
    },
    {
     "name": "stderr",
     "output_type": "stream",
     "text": [
      "\n",
      "\n",
      "\n",
      "\n",
      " 62%|██████▏   | 841/1358 [13:23<02:48,  3.08it/s]\u001b[A\u001b[A\u001b[A\u001b[A"
     ]
    },
    {
     "name": "stdout",
     "output_type": "stream",
     "text": [
      "продвинуть ok\n",
      "no examples\n",
      "[841, 'advance', 'выслать', nan, nan, 'send | expel | come out | go out | emerge | qualify | get out | step | ']\n"
     ]
    },
    {
     "name": "stderr",
     "output_type": "stream",
     "text": [
      "\n",
      "\n",
      "\n",
      "\n",
      " 62%|██████▏   | 842/1358 [13:24<03:21,  2.55it/s]\u001b[A\u001b[A\u001b[A\u001b[A"
     ]
    },
    {
     "name": "stdout",
     "output_type": "stream",
     "text": [
      "выслать ok\n",
      "no examples\n",
      "[842, 'advance', 'выдвигать', nan, nan, 'nominate | put forward | field | file | level | ']\n"
     ]
    },
    {
     "name": "stderr",
     "output_type": "stream",
     "text": [
      "\n",
      "\n",
      "\n",
      "\n",
      " 62%|██████▏   | 843/1358 [13:24<03:55,  2.18it/s]\u001b[A\u001b[A\u001b[A\u001b[A"
     ]
    },
    {
     "name": "stdout",
     "output_type": "stream",
     "text": [
      "выдвигать ok\n",
      "no examples\n",
      "[843, 'advanced', 'развитой', nan, nan, 'rich | industrial | well-developed | ']\n"
     ]
    },
    {
     "name": "stderr",
     "output_type": "stream",
     "text": [
      "\n",
      "\n",
      "\n",
      "\n",
      " 62%|██████▏   | 844/1358 [13:25<04:51,  1.77it/s]\u001b[A\u001b[A\u001b[A\u001b[A"
     ]
    },
    {
     "name": "stdout",
     "output_type": "stream",
     "text": [
      "развитой ok\n",
      "no examples\n",
      "[844, 'advanced', 'передовой', nan, nan, 'forward | leading | cutting-edge | progressive | innovative | front | state-of-the-art | up-to-date | ']\n"
     ]
    },
    {
     "name": "stderr",
     "output_type": "stream",
     "text": [
      "\n",
      "\n",
      "\n",
      "\n",
      " 62%|██████▏   | 845/1358 [13:26<04:57,  1.72it/s]\u001b[A\u001b[A\u001b[A\u001b[A"
     ]
    },
    {
     "name": "stdout",
     "output_type": "stream",
     "text": [
      "передовой ok\n",
      "no examples\n",
      "[845, 'advanced', 'передов', nan, nan, 'forward | cutting-edge | front-line | sophisticated | foremost | ']\n"
     ]
    },
    {
     "name": "stderr",
     "output_type": "stream",
     "text": [
      "\n",
      "\n",
      "\n",
      "\n",
      " 62%|██████▏   | 846/1358 [13:26<04:31,  1.89it/s]\u001b[A\u001b[A\u001b[A\u001b[A"
     ]
    },
    {
     "name": "stdout",
     "output_type": "stream",
     "text": [
      "передов ok\n",
      "no examples\n",
      "[846, 'advanced', 'опытный', nan, nan, 'experienced | senior | skilled | experimental | expert | seasoned | pilot | sophisticated | ']\n"
     ]
    },
    {
     "name": "stderr",
     "output_type": "stream",
     "text": [
      "\n",
      "\n",
      "\n",
      "\n",
      " 62%|██████▏   | 847/1358 [13:27<04:43,  1.80it/s]\u001b[A\u001b[A\u001b[A\u001b[A"
     ]
    },
    {
     "name": "stdout",
     "output_type": "stream",
     "text": [
      "опытный ok\n",
      "no examples\n",
      "[847, 'advanced', 'перспективный', nan, nan, 'promising | prospective | future | up-and-coming | forward-look | challenging | viable | most promising | ']\n"
     ]
    },
    {
     "name": "stderr",
     "output_type": "stream",
     "text": [
      "\n",
      "\n",
      "\n",
      "\n",
      " 62%|██████▏   | 848/1358 [13:27<04:36,  1.85it/s]\u001b[A\u001b[A\u001b[A\u001b[A"
     ]
    },
    {
     "name": "stdout",
     "output_type": "stream",
     "text": [
      "перспективный ok\n",
      "no examples\n",
      "[848, 'advanced', 'прогрессивный', nan, nan, 'progressive | innovative | ']\n"
     ]
    },
    {
     "name": "stderr",
     "output_type": "stream",
     "text": [
      "\n",
      "\n",
      "\n",
      "\n",
      " 63%|██████▎   | 849/1358 [13:28<04:11,  2.02it/s]\u001b[A\u001b[A\u001b[A\u001b[A"
     ]
    },
    {
     "name": "stdout",
     "output_type": "stream",
     "text": [
      "прогрессивный ok\n",
      "no examples\n",
      "[849, 'advanced', 'новейший', nan, nan, 'latest | recent | state-of-the-art | up-to-date | brand new | innovative | cutting-edge | most modern | ']\n"
     ]
    },
    {
     "name": "stderr",
     "output_type": "stream",
     "text": [
      "\n",
      "\n",
      "\n",
      "\n",
      " 63%|██████▎   | 850/1358 [13:28<04:48,  1.76it/s]\u001b[A\u001b[A\u001b[A\u001b[A"
     ]
    },
    {
     "name": "stdout",
     "output_type": "stream",
     "text": [
      "новейший ok\n",
      "no examples\n",
      "[850, 'advanced', 'предварительный', nan, nan, 'preliminary | prior | initial | tentative | early | advance | provisional | ']\n"
     ]
    },
    {
     "name": "stderr",
     "output_type": "stream",
     "text": [
      "\n",
      "\n",
      "\n",
      "\n",
      " 63%|██████▎   | 851/1358 [13:29<04:26,  1.90it/s]\u001b[A\u001b[A\u001b[A\u001b[A"
     ]
    },
    {
     "name": "stdout",
     "output_type": "stream",
     "text": [
      "предварительный ok\n",
      "no examples\n",
      "[851, 'during', 'во время', nan, nan, ' | ']\n"
     ]
    },
    {
     "name": "stderr",
     "output_type": "stream",
     "text": [
      "\n",
      "\n",
      "\n",
      "\n",
      " 63%|██████▎   | 852/1358 [13:29<04:37,  1.83it/s]\u001b[A\u001b[A\u001b[A\u001b[A"
     ]
    },
    {
     "name": "stdout",
     "output_type": "stream",
     "text": [
      "во время ok\n",
      "no examples\n",
      "[852, 'during', 'в течение', nan, nan, 'within | over | throughout | ']\n"
     ]
    },
    {
     "name": "stderr",
     "output_type": "stream",
     "text": [
      "\n",
      "\n",
      "\n",
      "\n",
      " 63%|██████▎   | 853/1358 [13:30<03:53,  2.16it/s]\u001b[A\u001b[A\u001b[A\u001b[A"
     ]
    },
    {
     "name": "stdout",
     "output_type": "stream",
     "text": [
      "в течение ok\n",
      "no examples\n",
      "[853, 'during', 'за', nan, nan, 'for | per | over | behind | ']\n"
     ]
    },
    {
     "name": "stderr",
     "output_type": "stream",
     "text": [
      "\n",
      "\n",
      "\n",
      "\n",
      " 63%|██████▎   | 854/1358 [13:30<03:36,  2.33it/s]\u001b[A\u001b[A\u001b[A\u001b[A"
     ]
    },
    {
     "name": "stdout",
     "output_type": "stream",
     "text": [
      "за ok\n",
      "no examples\n",
      "[854, 'during', 'при', nan, nan, 'at | under | ']\n"
     ]
    },
    {
     "name": "stderr",
     "output_type": "stream",
     "text": [
      "\n",
      "\n",
      "\n",
      "\n",
      " 63%|██████▎   | 855/1358 [13:30<03:37,  2.31it/s]\u001b[A\u001b[A\u001b[A\u001b[A"
     ]
    },
    {
     "name": "stdout",
     "output_type": "stream",
     "text": [
      "при ok\n",
      "no examples\n",
      "[855, 'earn', 'зарабатывать', 'to earn money|to earn more|to earn ten times more today|', 'зарабатывать деньги | зарабатывать больше | зарабатывать сегодня в десятки раз больше | ', 'make money | earn money | make | ']\n",
      "зарабатывать ok\n",
      "to earn money ok\n",
      "to earn more ok\n"
     ]
    },
    {
     "name": "stderr",
     "output_type": "stream",
     "text": [
      "\n",
      "\n",
      "\n",
      "\n",
      " 63%|██████▎   | 856/1358 [13:32<06:15,  1.34it/s]\u001b[A\u001b[A\u001b[A\u001b[A"
     ]
    },
    {
     "name": "stdout",
     "output_type": "stream",
     "text": [
      "to earn ten times more today ok\n",
      "[856, 'earn', 'заработать', 'to earn more money|to earn foreign exchange|to earn extra money|', 'заработать больше | заработать иностранную валюту | заработать дополнительные деньги | ', 'make money | make | score | ']\n",
      "заработать ok\n",
      "to earn more money ok\n",
      "to earn foreign exchange ok\n"
     ]
    },
    {
     "name": "stderr",
     "output_type": "stream",
     "text": [
      "\n",
      "\n",
      "\n",
      "\n",
      " 63%|██████▎   | 857/1358 [13:33<08:28,  1.01s/it]\u001b[A\u001b[A\u001b[A\u001b[A"
     ]
    },
    {
     "name": "stdout",
     "output_type": "stream",
     "text": [
      "to earn extra money ok\n",
      "[857, 'earn', 'получить', 'to earn for being here|to earn a nice profit|', 'уже получить | получить неплохую прибыль | ', 'get | receive | obtain | gain | win | have | find | grant | ']\n",
      "получить ok\n",
      "to earn for being here ok\n"
     ]
    },
    {
     "name": "stderr",
     "output_type": "stream",
     "text": [
      "\n",
      "\n",
      "\n",
      "\n",
      " 63%|██████▎   | 858/1358 [13:35<09:17,  1.12s/it]\u001b[A\u001b[A\u001b[A\u001b[A"
     ]
    },
    {
     "name": "stdout",
     "output_type": "stream",
     "text": [
      "to earn a nice profit ok\n",
      "[858, 'earn', 'получать', nan, nan, 'receive | get | obtain | receive | gain | get | ']\n"
     ]
    },
    {
     "name": "stderr",
     "output_type": "stream",
     "text": [
      "\n",
      "\n",
      "\n",
      "\n",
      " 63%|██████▎   | 859/1358 [13:35<07:53,  1.05it/s]\u001b[A\u001b[A\u001b[A\u001b[A"
     ]
    },
    {
     "name": "stdout",
     "output_type": "stream",
     "text": [
      "получать ok\n",
      "no examples\n",
      "[859, 'earn', 'завоевать', nan, nan, 'win | gain | conquer | win | capture | ']\n"
     ]
    },
    {
     "name": "stderr",
     "output_type": "stream",
     "text": [
      "\n",
      "\n",
      "\n",
      "\n",
      " 63%|██████▎   | 860/1358 [13:37<08:51,  1.07s/it]\u001b[A\u001b[A\u001b[A\u001b[A"
     ]
    },
    {
     "name": "stdout",
     "output_type": "stream",
     "text": [
      "завоевать ok\n",
      "no examples\n",
      "[860, 'earn', 'заслужить', nan, nan, 'deserve | gain | win | ']\n"
     ]
    },
    {
     "name": "stderr",
     "output_type": "stream",
     "text": [
      "\n",
      "\n",
      "\n",
      "\n",
      " 63%|██████▎   | 861/1358 [13:37<07:36,  1.09it/s]\u001b[A\u001b[A\u001b[A\u001b[A"
     ]
    },
    {
     "name": "stdout",
     "output_type": "stream",
     "text": [
      "заслужить ok\n",
      "no examples\n",
      "[861, 'earn', 'принести', nan, nan, 'bring | yield | deliver | bring | carry | sacrifice | ']\n"
     ]
    },
    {
     "name": "stderr",
     "output_type": "stream",
     "text": [
      "\n",
      "\n",
      "\n",
      "\n",
      " 63%|██████▎   | 862/1358 [13:37<05:52,  1.41it/s]\u001b[A\u001b[A\u001b[A\u001b[A"
     ]
    },
    {
     "name": "stdout",
     "output_type": "stream",
     "text": [
      "принести ok\n",
      "no examples\n",
      "[862, 'earn', 'набрать', nan, nan, 'score | gain | type | dial | recruit | accumulate | poll | gather | ']\n"
     ]
    },
    {
     "name": "stderr",
     "output_type": "stream",
     "text": [
      "\n",
      "\n",
      "\n",
      "\n",
      " 64%|██████▎   | 863/1358 [13:38<04:54,  1.68it/s]\u001b[A\u001b[A\u001b[A\u001b[A"
     ]
    },
    {
     "name": "stdout",
     "output_type": "stream",
     "text": [
      "набрать ok\n",
      "no examples\n",
      "[863, 'singular', 'единичный', nan, nan, 'single | unit | sporadic | ']\n"
     ]
    },
    {
     "name": "stderr",
     "output_type": "stream",
     "text": [
      "\n",
      "\n",
      "\n",
      "\n",
      " 64%|██████▎   | 864/1358 [13:38<04:43,  1.74it/s]\u001b[A\u001b[A\u001b[A\u001b[A"
     ]
    },
    {
     "name": "stdout",
     "output_type": "stream",
     "text": [
      "единичный ok\n",
      "no examples\n",
      "[864, 'singular', 'единственное число', nan, nan, ' | ']\n"
     ]
    },
    {
     "name": "stderr",
     "output_type": "stream",
     "text": [
      "\n",
      "\n",
      "\n",
      "\n",
      " 64%|██████▎   | 865/1358 [13:39<04:30,  1.82it/s]\u001b[A\u001b[A\u001b[A\u001b[A"
     ]
    },
    {
     "name": "stdout",
     "output_type": "stream",
     "text": [
      "единственное число ok\n",
      "no examples\n",
      "[865, 'easily', 'легко', nan, nan, ' | ']\n"
     ]
    },
    {
     "name": "stderr",
     "output_type": "stream",
     "text": [
      "\n",
      "\n",
      "\n",
      "\n",
      " 64%|██████▍   | 866/1358 [13:40<04:48,  1.71it/s]\u001b[A\u001b[A\u001b[A\u001b[A"
     ]
    },
    {
     "name": "stdout",
     "output_type": "stream",
     "text": [
      "легко ok\n",
      "no examples\n",
      "[866, 'easily', 'с легкостью', nan, nan, ' | ']\n"
     ]
    },
    {
     "name": "stderr",
     "output_type": "stream",
     "text": [
      "\n",
      "\n",
      "\n",
      "\n",
      " 64%|██████▍   | 867/1358 [13:41<05:48,  1.41it/s]\u001b[A\u001b[A\u001b[A\u001b[A"
     ]
    },
    {
     "name": "stdout",
     "output_type": "stream",
     "text": [
      "с легкостью ok\n",
      "no examples\n",
      "[867, 'easily', 'без труда', nan, nan, ' | ']\n"
     ]
    },
    {
     "name": "stderr",
     "output_type": "stream",
     "text": [
      "\n",
      "\n",
      "\n",
      "\n",
      " 64%|██████▍   | 868/1358 [13:41<05:05,  1.60it/s]\u001b[A\u001b[A\u001b[A\u001b[A"
     ]
    },
    {
     "name": "stdout",
     "output_type": "stream",
     "text": [
      "без труда ok\n",
      "no examples\n",
      "[868, 'east', 'восточный', nan, nan, 'eastern | oriental | ']\n"
     ]
    },
    {
     "name": "stderr",
     "output_type": "stream",
     "text": [
      "\n",
      "\n",
      "\n",
      "\n",
      " 64%|██████▍   | 869/1358 [13:42<05:35,  1.46it/s]\u001b[A\u001b[A\u001b[A\u001b[A"
     ]
    },
    {
     "name": "stdout",
     "output_type": "stream",
     "text": [
      "восточный ok\n",
      "no examples\n",
      "[869, 'east', 'истый', nan, nan, ' | ']\n"
     ]
    },
    {
     "name": "stderr",
     "output_type": "stream",
     "text": [
      "\n",
      "\n",
      "\n",
      "\n",
      " 64%|██████▍   | 870/1358 [13:42<04:44,  1.71it/s]\u001b[A\u001b[A\u001b[A\u001b[A"
     ]
    },
    {
     "name": "stdout",
     "output_type": "stream",
     "text": [
      "истый ok\n",
      "no examples\n",
      "[870, 'east', 'восток', 'far east|Arabian east|', 'дальний восток | арабский Восток | ', 'easterner | ']\n",
      "восток ok\n",
      "far east ok\n"
     ]
    },
    {
     "name": "stderr",
     "output_type": "stream",
     "text": [
      "\n",
      "\n",
      "\n",
      "\n",
      " 64%|██████▍   | 871/1358 [13:44<07:00,  1.16it/s]\u001b[A\u001b[A\u001b[A\u001b[A"
     ]
    },
    {
     "name": "stdout",
     "output_type": "stream",
     "text": [
      "Arabian east ok\n",
      "[871, 'east', 'восточная сторона', nan, nan, ' | ']\n"
     ]
    },
    {
     "name": "stderr",
     "output_type": "stream",
     "text": [
      "\n",
      "\n",
      "\n",
      "\n",
      " 64%|██████▍   | 872/1358 [13:44<06:42,  1.21it/s]\u001b[A\u001b[A\u001b[A\u001b[A"
     ]
    },
    {
     "name": "stdout",
     "output_type": "stream",
     "text": [
      "восточная сторона ok\n",
      "no examples\n",
      "[872, 'adventure', 'приключение', 'epic adventure|dangerous adventure|exciting adventure|', 'эпическое приключение | опасного приключения | волнующее приключение | ', ' | ']\n",
      "приключение ok\n",
      "epic adventure ok\n",
      "dangerous adventure ok\n"
     ]
    },
    {
     "name": "stderr",
     "output_type": "stream",
     "text": [
      "\n",
      "\n",
      "\n",
      "\n",
      " 64%|██████▍   | 873/1358 [13:46<08:27,  1.05s/it]\u001b[A\u001b[A\u001b[A\u001b[A"
     ]
    },
    {
     "name": "stdout",
     "output_type": "stream",
     "text": [
      "exciting adventure ok\n",
      "[873, 'adventure', 'авантюра', 'foreign adventure|arm adventure|caudillist adventures|', 'зарубежные авантюры | вооруженная авантюра | каудиллистскими авантюрами | ', 'venture | adventurism | gamble | proposed adventure | ']\n",
      "авантюра ok\n",
      "foreign adventure ok\n",
      "arm adventure ok\n"
     ]
    },
    {
     "name": "stderr",
     "output_type": "stream",
     "text": [
      "\n",
      "\n",
      "\n",
      "\n",
      " 64%|██████▍   | 874/1358 [13:48<10:49,  1.34s/it]\u001b[A\u001b[A\u001b[A\u001b[A"
     ]
    },
    {
     "name": "stdout",
     "output_type": "stream",
     "text": [
      "caudillist adventures ok\n",
      "[874, 'adventure', 'тура', nan, nan, 'tour | round | runoff | ']\n"
     ]
    },
    {
     "name": "stderr",
     "output_type": "stream",
     "text": [
      "\n",
      "\n",
      "\n",
      "\n",
      " 64%|██████▍   | 875/1358 [13:48<08:12,  1.02s/it]\u001b[A\u001b[A\u001b[A\u001b[A"
     ]
    },
    {
     "name": "stdout",
     "output_type": "stream",
     "text": [
      "тура ok\n",
      "no examples\n",
      "[875, 'adventure', 'adventures', nan, nan, ' | ']\n"
     ]
    },
    {
     "name": "stderr",
     "output_type": "stream",
     "text": [
      "\n",
      "\n",
      "\n",
      "\n",
      " 65%|██████▍   | 876/1358 [13:49<06:56,  1.16it/s]\u001b[A\u001b[A\u001b[A\u001b[A"
     ]
    },
    {
     "name": "stdout",
     "output_type": "stream",
     "text": [
      "adventures ok\n",
      "no examples\n",
      "[876, 'adverb', 'наречие', nan, nan, ' | ']\n"
     ]
    },
    {
     "name": "stderr",
     "output_type": "stream",
     "text": [
      "\n",
      "\n",
      "\n",
      "\n",
      " 65%|██████▍   | 877/1358 [13:49<05:20,  1.50it/s]\u001b[A\u001b[A\u001b[A\u001b[A"
     ]
    },
    {
     "name": "stdout",
     "output_type": "stream",
     "text": [
      "наречие ok\n",
      "no examples\n",
      "[877, 'electric', 'электрический', nan, nan, 'electrical | ']\n"
     ]
    },
    {
     "name": "stderr",
     "output_type": "stream",
     "text": [
      "\n",
      "\n",
      "\n",
      "\n",
      " 65%|██████▍   | 878/1358 [13:49<04:25,  1.81it/s]\u001b[A\u001b[A\u001b[A\u001b[A"
     ]
    },
    {
     "name": "stdout",
     "output_type": "stream",
     "text": [
      "электрический ok\n",
      "no examples\n",
      "[878, 'electric', 'электр', nan, nan, 'electro | ']\n"
     ]
    },
    {
     "name": "stderr",
     "output_type": "stream",
     "text": [
      "\n",
      "\n",
      "\n",
      "\n",
      " 65%|██████▍   | 879/1358 [13:50<03:56,  2.02it/s]\u001b[A\u001b[A\u001b[A\u001b[A"
     ]
    },
    {
     "name": "stdout",
     "output_type": "stream",
     "text": [
      "электр ok\n",
      "no examples\n",
      "[879, 'advertisement', 'реклама', 'outdoor advertisement|visual advertisement|complete advertisement|banner advertisement|', 'наружная реклама | визуальная реклама | готовой рекламы | баннерная реклама | ', 'advertising | ad | commercial | promotion | ']\n",
      "реклама ok\n",
      "outdoor advertisement ok\n",
      "visual advertisement ok\n",
      "complete advertisement ok\n"
     ]
    },
    {
     "name": "stderr",
     "output_type": "stream",
     "text": [
      "\n",
      "\n",
      "\n",
      "\n",
      " 65%|██████▍   | 880/1358 [13:53<09:46,  1.23s/it]\u001b[A\u001b[A\u001b[A\u001b[A"
     ]
    },
    {
     "name": "stdout",
     "output_type": "stream",
     "text": [
      "banner advertisement ok\n",
      "[880, 'advertisement', 'объявление', nan, nan, 'ad | announcement | offer | declaration | advertising | ']\n"
     ]
    },
    {
     "name": "stderr",
     "output_type": "stream",
     "text": [
      "\n",
      "\n",
      "\n",
      "\n",
      " 65%|██████▍   | 881/1358 [13:53<07:34,  1.05it/s]\u001b[A\u001b[A\u001b[A\u001b[A"
     ]
    },
    {
     "name": "stdout",
     "output_type": "stream",
     "text": [
      "объявление ok\n",
      "no examples\n",
      "[881, 'advertisement', 'рекламный ролик', nan, nan, ' | ']\n"
     ]
    },
    {
     "name": "stderr",
     "output_type": "stream",
     "text": [
      "\n",
      "\n",
      "\n",
      "\n",
      " 65%|██████▍   | 882/1358 [13:54<08:50,  1.11s/it]\u001b[A\u001b[A\u001b[A\u001b[A"
     ]
    },
    {
     "name": "stdout",
     "output_type": "stream",
     "text": [
      "рекламный ролик ok\n",
      "no examples\n",
      "[882, 'century', 'веко', 'century of our era|twentieth centuries|american century|past century|', 'века нашей эры | двадцатый век | американский век | прошедший век | ', 'age | eyelid | ']\n",
      "веко ok\n",
      "century of our era ok\n",
      "twentieth centuries ok\n",
      "american century ok\n"
     ]
    },
    {
     "name": "stderr",
     "output_type": "stream",
     "text": [
      "\n",
      "\n",
      "\n",
      "\n",
      " 65%|██████▌   | 883/1358 [13:57<13:26,  1.70s/it]\u001b[A\u001b[A\u001b[A\u001b[A"
     ]
    },
    {
     "name": "stdout",
     "output_type": "stream",
     "text": [
      "past century ok\n",
      "[883, 'century', 'столетие', 'next century|long century|century of war|third century|', 'следующее столетие | долгие столетия | столетие войн | третье столетие | ', ' | ']\n",
      "столетие ok\n",
      "next century ok\n",
      "long century ok\n",
      "century of war ok\n"
     ]
    },
    {
     "name": "stderr",
     "output_type": "stream",
     "text": [
      "\n",
      "\n",
      "\n",
      "\n",
      " 65%|██████▌   | 884/1358 [13:59<14:22,  1.82s/it]\u001b[A\u001b[A\u001b[A\u001b[A"
     ]
    },
    {
     "name": "stdout",
     "output_type": "stream",
     "text": [
      "third century ok\n",
      "[884, 'century', 'век', 'Centuries of Financial Folly|', 'веков финансовой недальновидности | ', 'age | ']\n",
      "век ok\n"
     ]
    },
    {
     "name": "stderr",
     "output_type": "stream",
     "text": [
      "\n",
      "\n",
      "\n",
      "\n",
      " 65%|██████▌   | 885/1358 [14:01<13:25,  1.70s/it]\u001b[A\u001b[A\u001b[A\u001b[A"
     ]
    },
    {
     "name": "stdout",
     "output_type": "stream",
     "text": [
      "Centuries of Financial Folly ok\n",
      "[885, 'size', 'размер', 'file size|different size|family size|maximum size|', 'размер файла | разные размеры | размер семьи | максимальный размер | ', 'dimension | amount | scale | ']\n",
      "размер ok\n",
      "file size ok\n",
      "different size ok\n",
      "family size ok\n"
     ]
    },
    {
     "name": "stderr",
     "output_type": "stream",
     "text": [
      "\n",
      "\n",
      "\n",
      "\n",
      " 65%|██████▌   | 886/1358 [14:02<13:02,  1.66s/it]\u001b[A\u001b[A\u001b[A\u001b[A"
     ]
    },
    {
     "name": "stdout",
     "output_type": "stream",
     "text": [
      "maximum size ok\n",
      "[886, 'size', 'объем', 'total size|memory size|size of the losses|', 'общий объем | объем памяти | объем потерь | ', 'volume | amount | capacity | output | scope | quantity | ']\n",
      "объем ok\n",
      "total size ok\n",
      "memory size ok\n"
     ]
    },
    {
     "name": "stderr",
     "output_type": "stream",
     "text": [
      "\n",
      "\n",
      "\n",
      "\n",
      " 65%|██████▌   | 887/1358 [14:04<12:43,  1.62s/it]\u001b[A\u001b[A\u001b[A\u001b[A"
     ]
    },
    {
     "name": "stdout",
     "output_type": "stream",
     "text": [
      "size of the losses ok\n",
      "[887, 'size', 'величина', 'various size|', 'различной величины | ', 'value | quantity | amount | magnitude | variable | ']\n",
      "величина ok\n"
     ]
    },
    {
     "name": "stderr",
     "output_type": "stream",
     "text": [
      "\n",
      "\n",
      "\n",
      "\n",
      " 65%|██████▌   | 888/1358 [14:05<11:15,  1.44s/it]\u001b[A\u001b[A\u001b[A\u001b[A"
     ]
    },
    {
     "name": "stdout",
     "output_type": "stream",
     "text": [
      "various size ok\n",
      "[888, 'size', 'площадь', nan, nan, 'square | area | space | plaza | ']\n"
     ]
    },
    {
     "name": "stderr",
     "output_type": "stream",
     "text": [
      "\n",
      "\n",
      "\n",
      "\n",
      " 65%|██████▌   | 889/1358 [14:05<08:28,  1.08s/it]\u001b[A\u001b[A\u001b[A\u001b[A"
     ]
    },
    {
     "name": "stdout",
     "output_type": "stream",
     "text": [
      "площадь ok\n",
      "no examples\n",
      "[889, 'size', 'масштаб', 'sizes of attacks|', 'масштаб атаки | ', 'scale | scope | magnitude | extent | proportion | dimension | ']\n",
      "масштаб ok\n"
     ]
    },
    {
     "name": "stderr",
     "output_type": "stream",
     "text": [
      "\n",
      "\n",
      "\n",
      "\n",
      " 66%|██████▌   | 890/1358 [14:06<08:41,  1.11s/it]\u001b[A\u001b[A\u001b[A\u001b[A"
     ]
    },
    {
     "name": "stdout",
     "output_type": "stream",
     "text": [
      "sizes of attacks ok\n",
      "[890, 'size', 'типоразмер', 'size aa|', 'типоразмера АА | ', 'standard size | different size | ']\n",
      "типоразмер ok\n"
     ]
    },
    {
     "name": "stderr",
     "output_type": "stream",
     "text": [
      "\n",
      "\n",
      "\n",
      "\n",
      " 66%|██████▌   | 891/1358 [14:08<10:48,  1.39s/it]\u001b[A\u001b[A\u001b[A\u001b[A"
     ]
    },
    {
     "name": "stdout",
     "output_type": "stream",
     "text": [
      "size aa ok\n",
      "[891, 'electricity', 'электроэнергия', 'Tajik electricity|turkmen electricity|cheap electricity|Kyrgyz electricity|', 'таджикской электроэнергии | туркменская электроэнергия | дешевой электроэнергии | кыргызская электроэнергия | ', 'power | energy | electric power | electric energy | electrical power | ']\n",
      "электроэнергия ok\n",
      "Tajik electricity ok\n",
      "turkmen electricity ok\n",
      "cheap electricity ok\n"
     ]
    },
    {
     "name": "stderr",
     "output_type": "stream",
     "text": [
      "\n",
      "\n",
      "\n",
      "\n",
      " 66%|██████▌   | 892/1358 [14:11<13:17,  1.71s/it]\u001b[A\u001b[A\u001b[A\u001b[A"
     ]
    },
    {
     "name": "stdout",
     "output_type": "stream",
     "text": [
      "Kyrgyz electricity ok\n",
      "[892, 'electricity', 'электричество', 'static electricity|', 'статическое электричество | ', 'power | electric power | ']\n",
      "электричество ok\n"
     ]
    },
    {
     "name": "stderr",
     "output_type": "stream",
     "text": [
      "\n",
      "\n",
      "\n",
      "\n",
      " 66%|██████▌   | 893/1358 [14:12<10:54,  1.41s/it]\u001b[A\u001b[A\u001b[A\u001b[A"
     ]
    },
    {
     "name": "stdout",
     "output_type": "stream",
     "text": [
      "static electricity ok\n",
      "[893, 'electricity', 'энергия', 'solar electricity|', 'солнечная энергия | ', 'energy | power | ']\n",
      "энергия ok\n"
     ]
    },
    {
     "name": "stderr",
     "output_type": "stream",
     "text": [
      "\n",
      "\n",
      "\n",
      "\n",
      " 66%|██████▌   | 894/1358 [14:12<09:23,  1.21s/it]\u001b[A\u001b[A\u001b[A\u001b[A"
     ]
    },
    {
     "name": "stdout",
     "output_type": "stream",
     "text": [
      "solar electricity ok\n",
      "[894, 'electricity', 'электроснабжение', nan, nan, 'power supply | electricity supply | electrical power | electrical service | ']\n"
     ]
    },
    {
     "name": "stderr",
     "output_type": "stream",
     "text": [
      "\n",
      "\n",
      "\n",
      "\n",
      " 66%|██████▌   | 895/1358 [14:14<09:30,  1.23s/it]\u001b[A\u001b[A\u001b[A\u001b[A"
     ]
    },
    {
     "name": "stdout",
     "output_type": "stream",
     "text": [
      "электроснабжение ok\n",
      "no examples\n",
      "[895, 'elephant', 'слон', 'white elephant|', 'белый слон | ', 'bishop | ']\n",
      "слон ok\n"
     ]
    },
    {
     "name": "stderr",
     "output_type": "stream",
     "text": [
      "\n",
      "\n",
      "\n",
      "\n",
      " 66%|██████▌   | 896/1358 [14:15<09:18,  1.21s/it]\u001b[A\u001b[A\u001b[A\u001b[A"
     ]
    },
    {
     "name": "stdout",
     "output_type": "stream",
     "text": [
      "white elephant ok\n",
      "[896, 'else', 'иначе', nan, nan, 'otherwise | differently | ']\n"
     ]
    },
    {
     "name": "stderr",
     "output_type": "stream",
     "text": [
      "\n",
      "\n",
      "\n",
      "\n",
      " 66%|██████▌   | 897/1358 [14:15<07:09,  1.07it/s]\u001b[A\u001b[A\u001b[A\u001b[A"
     ]
    },
    {
     "name": "stdout",
     "output_type": "stream",
     "text": [
      "иначе ok\n",
      "no examples\n",
      "[897, 'else', 'в другом месте', nan, nan, 'elsewhere | anywhere else | ']\n"
     ]
    },
    {
     "name": "stderr",
     "output_type": "stream",
     "text": [
      "\n",
      "\n",
      "\n",
      "\n",
      " 66%|██████▌   | 898/1358 [14:15<05:37,  1.36it/s]\u001b[A\u001b[A\u001b[A\u001b[A"
     ]
    },
    {
     "name": "stdout",
     "output_type": "stream",
     "text": [
      "в другом месте ok\n",
      "no examples\n",
      "[898, 'empty', 'пустой', 'almost empty|completely empty|', 'почти пустой | совершенно пустой | ', 'blank | hollow | ']\n",
      "пустой ok\n",
      "almost empty ok\n"
     ]
    },
    {
     "name": "stderr",
     "output_type": "stream",
     "text": [
      "\n",
      "\n",
      "\n",
      "\n",
      " 66%|██████▌   | 899/1358 [14:17<06:52,  1.11it/s]\u001b[A\u001b[A\u001b[A\u001b[A"
     ]
    },
    {
     "name": "stdout",
     "output_type": "stream",
     "text": [
      "completely empty ok\n",
      "[899, 'empty', 'бессодержательный', nan, nan, ' | ']\n"
     ]
    },
    {
     "name": "stderr",
     "output_type": "stream",
     "text": [
      "\n",
      "\n",
      "\n",
      "\n",
      " 66%|██████▋   | 900/1358 [14:17<05:21,  1.42it/s]\u001b[A\u001b[A\u001b[A\u001b[A"
     ]
    },
    {
     "name": "stdout",
     "output_type": "stream",
     "text": [
      "бессодержательный ok\n",
      "no examples\n",
      "[900, 'empty', 'опустошить', 'to empty the bottle|', 'опустошить бутылку | ', 'devastate | ravage | desert | ']\n",
      "опустошить ok\n"
     ]
    },
    {
     "name": "stderr",
     "output_type": "stream",
     "text": [
      "\n",
      "\n",
      "\n",
      "\n",
      " 66%|██████▋   | 901/1358 [14:17<04:52,  1.56it/s]\u001b[A\u001b[A\u001b[A\u001b[A"
     ]
    },
    {
     "name": "stdout",
     "output_type": "stream",
     "text": [
      "to empty the bottle ok\n",
      "[901, 'empty', 'очистить', nan, nan, 'clear | clean | cleanse | purify | clean up | purge | rid | clean out | ']\n"
     ]
    },
    {
     "name": "stderr",
     "output_type": "stream",
     "text": [
      "\n",
      "\n",
      "\n",
      "\n",
      " 66%|██████▋   | 902/1358 [14:18<04:26,  1.71it/s]\u001b[A\u001b[A\u001b[A\u001b[A"
     ]
    },
    {
     "name": "stdout",
     "output_type": "stream",
     "text": [
      "очистить ok\n",
      "no examples\n",
      "[902, 'empty', 'вылить', nan, nan, 'pour | ']\n"
     ]
    },
    {
     "name": "stderr",
     "output_type": "stream",
     "text": [
      "\n",
      "\n",
      "\n",
      "\n",
      " 66%|██████▋   | 903/1358 [14:18<04:21,  1.74it/s]\u001b[A\u001b[A\u001b[A\u001b[A"
     ]
    },
    {
     "name": "stdout",
     "output_type": "stream",
     "text": [
      "вылить ok\n",
      "no examples\n",
      "[903, 'empty', 'почистить', nan, nan, 'clean | brush | clean | ']\n"
     ]
    },
    {
     "name": "stderr",
     "output_type": "stream",
     "text": [
      "\n",
      "\n",
      "\n",
      "\n",
      " 67%|██████▋   | 904/1358 [14:19<04:11,  1.80it/s]\u001b[A\u001b[A\u001b[A\u001b[A"
     ]
    },
    {
     "name": "stdout",
     "output_type": "stream",
     "text": [
      "почистить ok\n",
      "no examples\n",
      "[904, 'engine', 'двигатель', 'diesel engine|internal combustion engine|steam engine|engine of growth|', 'дизельный двигатель | двигатель внутреннего сгорания | паровой двигатель | двигатель роста | ', 'motor | driver | ']\n",
      "двигатель ok\n",
      "diesel engine ok\n",
      "internal combustion engine ok\n",
      "steam engine ok\n"
     ]
    },
    {
     "name": "stderr",
     "output_type": "stream",
     "text": [
      "\n",
      "\n",
      "\n",
      "\n",
      " 67%|██████▋   | 905/1358 [14:21<07:19,  1.03it/s]\u001b[A\u001b[A\u001b[A\u001b[A"
     ]
    },
    {
     "name": "stdout",
     "output_type": "stream",
     "text": [
      "engine of growth ok\n",
      "[905, 'engine', 'движок', 'graphics engine|script engine|', 'графическом движке | скриптовый движок | ', ' | ']\n",
      "движок ok\n",
      "graphics engine ok\n"
     ]
    },
    {
     "name": "stderr",
     "output_type": "stream",
     "text": [
      "\n",
      "\n",
      "\n",
      "\n",
      " 67%|██████▋   | 906/1358 [14:22<07:56,  1.05s/it]\u001b[A\u001b[A\u001b[A\u001b[A"
     ]
    },
    {
     "name": "stdout",
     "output_type": "stream",
     "text": [
      "script engine ok\n",
      "[906, 'engine', 'мотор', nan, nan, 'motor | ']\n"
     ]
    },
    {
     "name": "stderr",
     "output_type": "stream",
     "text": [
      "\n",
      "\n",
      "\n",
      "\n",
      " 67%|██████▋   | 907/1358 [14:23<06:39,  1.13it/s]\u001b[A\u001b[A\u001b[A\u001b[A"
     ]
    },
    {
     "name": "stdout",
     "output_type": "stream",
     "text": [
      "мотор ok\n",
      "no examples\n",
      "[907, 'engine', 'engines', nan, nan, ' | ']\n"
     ]
    },
    {
     "name": "stderr",
     "output_type": "stream",
     "text": [
      "\n",
      "\n",
      "\n",
      "\n",
      " 67%|██████▋   | 908/1358 [14:23<05:31,  1.36it/s]\u001b[A\u001b[A\u001b[A\u001b[A"
     ]
    },
    {
     "name": "stdout",
     "output_type": "stream",
     "text": [
      "engines ok\n",
      "no examples\n",
      "[908, 'engine', 'локомотив', 'operating engines|', 'работающих локомотива | ', 'locomotive | driving force | ']\n",
      "локомотив ok\n"
     ]
    },
    {
     "name": "stderr",
     "output_type": "stream",
     "text": [
      "\n",
      "\n",
      "\n",
      "\n",
      " 67%|██████▋   | 909/1358 [14:24<06:21,  1.18it/s]\u001b[A\u001b[A\u001b[A\u001b[A"
     ]
    },
    {
     "name": "stdout",
     "output_type": "stream",
     "text": [
      "operating engines ok\n",
      "[909, 'engineer', 'инженер', 'naval engineer|', 'корабельный инженер | ', ' | ']\n",
      "инженер ok\n"
     ]
    },
    {
     "name": "stderr",
     "output_type": "stream",
     "text": [
      "\n",
      "\n",
      "\n",
      "\n",
      " 67%|██████▋   | 910/1358 [14:25<07:02,  1.06it/s]\u001b[A\u001b[A\u001b[A\u001b[A"
     ]
    },
    {
     "name": "stdout",
     "output_type": "stream",
     "text": [
      "naval engineer ok\n",
      "[910, 'engineer', 'инженерных кадров', nan, nan, ' | ']\n"
     ]
    },
    {
     "name": "stderr",
     "output_type": "stream",
     "text": [
      "\n",
      "\n",
      "\n",
      "\n",
      " 67%|██████▋   | 911/1358 [14:26<06:02,  1.23it/s]\u001b[A\u001b[A\u001b[A\u001b[A"
     ]
    },
    {
     "name": "stdout",
     "output_type": "stream",
     "text": [
      "инженерных кадров ok\n",
      "no examples\n",
      "[911, 'engineer', 'engineers', nan, nan, ' | ']\n"
     ]
    },
    {
     "name": "stderr",
     "output_type": "stream",
     "text": [
      "\n",
      "\n",
      "\n",
      "\n",
      " 67%|██████▋   | 912/1358 [14:26<05:23,  1.38it/s]\u001b[A\u001b[A\u001b[A\u001b[A"
     ]
    },
    {
     "name": "stdout",
     "output_type": "stream",
     "text": [
      "engineers ok\n",
      "no examples\n",
      "[912, 'engineer', 'сапер', nan, nan, 'sapper | ']\n"
     ]
    },
    {
     "name": "stderr",
     "output_type": "stream",
     "text": [
      "\n",
      "\n",
      "\n",
      "\n",
      " 67%|██████▋   | 913/1358 [14:27<04:28,  1.66it/s]\u001b[A\u001b[A\u001b[A\u001b[A"
     ]
    },
    {
     "name": "stdout",
     "output_type": "stream",
     "text": [
      "сапер ok\n",
      "no examples\n",
      "[913, 'engineer', 'изобретатель', 'different engineers|', 'различные изобретатели | ', 'inventor | innovator | ']\n",
      "изобретатель ok\n"
     ]
    },
    {
     "name": "stderr",
     "output_type": "stream",
     "text": [
      "\n",
      "\n",
      "\n",
      "\n",
      " 67%|██████▋   | 914/1358 [14:28<05:35,  1.32it/s]\u001b[A\u001b[A\u001b[A\u001b[A"
     ]
    },
    {
     "name": "stdout",
     "output_type": "stream",
     "text": [
      "different engineers ok\n",
      "[914, 'engineer', 'сконструировать', nan, nan, 'design | construct | ']\n"
     ]
    },
    {
     "name": "stderr",
     "output_type": "stream",
     "text": [
      "\n",
      "\n",
      "\n",
      "\n",
      " 67%|██████▋   | 915/1358 [14:28<04:27,  1.65it/s]\u001b[A\u001b[A\u001b[A\u001b[A"
     ]
    },
    {
     "name": "stdout",
     "output_type": "stream",
     "text": [
      "сконструировать ok\n",
      "no examples\n",
      "[915, 'engineer', 'конструировать', nan, nan, 'design | construct | design | ']\n"
     ]
    },
    {
     "name": "stderr",
     "output_type": "stream",
     "text": [
      "\n",
      "\n",
      "\n",
      "\n",
      " 67%|██████▋   | 916/1358 [14:29<04:16,  1.72it/s]\u001b[A\u001b[A\u001b[A\u001b[A"
     ]
    },
    {
     "name": "stdout",
     "output_type": "stream",
     "text": [
      "конструировать ok\n",
      "no examples\n",
      "[916, 'enough', 'достаточно', nan, nan, 'quite | rather | sufficiently | fairly | pretty | reasonably | relatively | ']\n"
     ]
    },
    {
     "name": "stderr",
     "output_type": "stream",
     "text": [
      "\n",
      "\n",
      "\n",
      "\n",
      " 68%|██████▊   | 917/1358 [14:29<04:27,  1.65it/s]\u001b[A\u001b[A\u001b[A\u001b[A"
     ]
    },
    {
     "name": "stdout",
     "output_type": "stream",
     "text": [
      "достаточно ok\n",
      "no examples\n",
      "[917, 'enough', 'настолько', nan, nan, 'so | as | so much | ']\n"
     ]
    },
    {
     "name": "stderr",
     "output_type": "stream",
     "text": [
      "\n",
      "\n",
      "\n",
      "\n",
      " 68%|██████▊   | 918/1358 [14:30<03:59,  1.84it/s]\u001b[A\u001b[A\u001b[A\u001b[A"
     ]
    },
    {
     "name": "stdout",
     "output_type": "stream",
     "text": [
      "настолько ok\n",
      "no examples\n",
      "[918, 'enough', 'недостаточно', nan, nan, 'not | insufficiently | sufficiently | too little | ']\n"
     ]
    },
    {
     "name": "stderr",
     "output_type": "stream",
     "text": [
      "\n",
      "\n",
      "\n",
      "\n",
      " 68%|██████▊   | 919/1358 [14:30<03:17,  2.22it/s]\u001b[A\u001b[A\u001b[A\u001b[A"
     ]
    },
    {
     "name": "stdout",
     "output_type": "stream",
     "text": [
      "недостаточно ok\n",
      "no examples\n",
      "[919, 'enough', 'достаточно', \"I've seen enough|\", 'Я видел достаточно | ', nan]\n",
      "достаточно ok\n"
     ]
    },
    {
     "name": "stderr",
     "output_type": "stream",
     "text": [
      "\n",
      "\n",
      "\n",
      "\n",
      " 68%|██████▊   | 920/1358 [14:31<04:45,  1.53it/s]\u001b[A\u001b[A\u001b[A\u001b[A"
     ]
    },
    {
     "name": "stdout",
     "output_type": "stream",
     "text": [
      "I've seen enough ok\n",
      "[920, 'enough', 'довольно', 'She was pale enough so everybody wondered what was going wrong|', 'Она была довольно бледной, так что все вокруг спрашивали себя, что могло пойти не так | ', nan]\n",
      "довольно ok\n"
     ]
    },
    {
     "name": "stderr",
     "output_type": "stream",
     "text": [
      "\n",
      "\n",
      "\n",
      "\n",
      " 68%|██████▊   | 921/1358 [14:32<05:16,  1.38it/s]\u001b[A\u001b[A\u001b[A\u001b[A"
     ]
    },
    {
     "name": "stdout",
     "output_type": "stream",
     "text": [
      "She was pale enough so everybody wondered what was going wrong ok\n",
      "[921, 'enter', 'ввести', 'to enter later in the process|to enter the other account|to enter keywords|to enter the number|', 'ввести позже | ввести другой счет | ввести ключевое слово | ввести номер | ', 'introduce | impose | type | put | insert | implement | type in | fill | ']\n",
      "ввести ok\n",
      "to enter later in the process ok\n",
      "to enter the other account ok\n",
      "to enter keywords ok\n"
     ]
    },
    {
     "name": "stderr",
     "output_type": "stream",
     "text": [
      "\n",
      "\n",
      "\n",
      "\n",
      " 68%|██████▊   | 922/1358 [14:36<13:04,  1.80s/it]\u001b[A\u001b[A\u001b[A\u001b[A"
     ]
    },
    {
     "name": "stdout",
     "output_type": "stream",
     "text": [
      "to enter the number ok\n",
      "[922, 'enter', 'войти', 'to enter the room|to enter the building|to enter the old city|to enter the house|', 'войти в комнату | войти в здание | войти в Старый город | войти в дом | ', 'include | come in | login | walk | go in | comprise | walk in | logon | ']\n",
      "войти ok\n",
      "to enter the room ok\n",
      "to enter the building ok\n",
      "to enter the old city ok\n"
     ]
    },
    {
     "name": "stderr",
     "output_type": "stream",
     "text": [
      "\n",
      "\n",
      "\n",
      "\n",
      " 68%|██████▊   | 923/1358 [14:39<14:55,  2.06s/it]\u001b[A\u001b[A\u001b[A\u001b[A"
     ]
    },
    {
     "name": "stdout",
     "output_type": "stream",
     "text": [
      "to enter the house ok\n",
      "[923, 'enter', 'входить', nan, nan, 'include | consist of | belong | comprise | walk | ']\n"
     ]
    },
    {
     "name": "stderr",
     "output_type": "stream",
     "text": [
      "\n",
      "\n",
      "\n",
      "\n",
      " 68%|██████▊   | 924/1358 [14:39<10:59,  1.52s/it]\u001b[A\u001b[A\u001b[A\u001b[A"
     ]
    },
    {
     "name": "stdout",
     "output_type": "stream",
     "text": [
      "входить ok\n",
      "no examples\n",
      "[924, 'enter', 'вступить', 'to enter into force|', 'вступить в силу | ', 'join | engage | step | take effect | join | come into | exchange | take over | ']\n",
      "вступить ok\n"
     ]
    },
    {
     "name": "stderr",
     "output_type": "stream",
     "text": [
      "\n",
      "\n",
      "\n",
      "\n",
      " 68%|██████▊   | 925/1358 [14:40<09:03,  1.26s/it]\u001b[A\u001b[A\u001b[A\u001b[A"
     ]
    },
    {
     "name": "stdout",
     "output_type": "stream",
     "text": [
      "to enter into force ok\n",
      "[925, 'enter', 'вводить', nan, nan, 'introduce | impose | type | insert | introduce | inject | input | ']\n"
     ]
    },
    {
     "name": "stderr",
     "output_type": "stream",
     "text": [
      "\n",
      "\n",
      "\n",
      "\n",
      " 68%|██████▊   | 926/1358 [14:40<06:52,  1.05it/s]\u001b[A\u001b[A\u001b[A\u001b[A"
     ]
    },
    {
     "name": "stdout",
     "output_type": "stream",
     "text": [
      "вводить ok\n",
      "no examples\n",
      "[926, 'enter', 'вступать', nan, nan, 'engage | join | come in | embark | enroll | adhere | come into | kick in | ']\n"
     ]
    },
    {
     "name": "stderr",
     "output_type": "stream",
     "text": [
      "\n",
      "\n",
      "\n",
      "\n",
      " 68%|██████▊   | 927/1358 [14:42<08:22,  1.17s/it]\u001b[A\u001b[A\u001b[A\u001b[A"
     ]
    },
    {
     "name": "stdout",
     "output_type": "stream",
     "text": [
      "вступать ok\n",
      "no examples\n",
      "[927, 'enter', 'проникнуть', 'to enter the mosques|to enter the airport|', 'проникнуть в мечеть | проникнуть в аэропорт | ', 'penetrate | infiltrate | sneak | access | ']\n",
      "проникнуть ok\n",
      "to enter the mosques ok\n"
     ]
    },
    {
     "name": "stderr",
     "output_type": "stream",
     "text": [
      "\n",
      "\n",
      "\n",
      "\n",
      " 68%|██████▊   | 928/1358 [14:43<07:59,  1.12s/it]\u001b[A\u001b[A\u001b[A\u001b[A"
     ]
    },
    {
     "name": "stdout",
     "output_type": "stream",
     "text": [
      "to enter the airport ok\n",
      "[928, 'enter', 'указать', 'to Please enter your Postal index|to enter your Postal index|', 'Пожалуйста указать ваш почтовый индекс | указать ваш почтовый индекс | ', 'specify | indicate | point | select | define | set | point out | state | ']\n",
      "указать ok\n",
      "to Please enter your Postal index ok\n"
     ]
    },
    {
     "name": "stderr",
     "output_type": "stream",
     "text": [
      "\n",
      "\n",
      "\n",
      "\n",
      " 68%|██████▊   | 929/1358 [14:44<08:08,  1.14s/it]\u001b[A\u001b[A\u001b[A\u001b[A\n",
      "\n",
      "\n",
      "\n"
     ]
    },
    {
     "name": "stdout",
     "output_type": "stream",
     "text": [
      "to enter your Postal index ok\n",
      "[929, 'enter', 'поступить', nan, nan, 'come | act | enroll | join | arrive | receive | come in | go on | ']\n",
      "поступить ok\n",
      "no examples\n"
     ]
    },
    {
     "name": "stderr",
     "output_type": "stream",
     "text": [
      " 68%|██████▊   | 930/1358 [14:44<06:07,  1.16it/s]\u001b[A\u001b[A\u001b[A\u001b[A"
     ]
    },
    {
     "name": "stdout",
     "output_type": "stream",
     "text": [
      "[930, 'entrance', 'вход', 'private entrance|free entrance|entrance to the mine|main entrance|', 'отдельный вход | бесплатный вход | Вход в шахту | центральный вход | ', 'entry | input | login | door | admission | logon | inlet | ']\n",
      "вход ok\n",
      "private entrance ok\n",
      "free entrance ok\n",
      "entrance to the mine ok\n"
     ]
    },
    {
     "name": "stderr",
     "output_type": "stream",
     "text": [
      "\n",
      "\n",
      "\n",
      "\n",
      " 69%|██████▊   | 931/1358 [14:46<09:02,  1.27s/it]\u001b[A\u001b[A\u001b[A\u001b[A"
     ]
    },
    {
     "name": "stdout",
     "output_type": "stream",
     "text": [
      "main entrance ok\n",
      "[931, 'entrance', 'въезд', 'northern entrance|', 'Северный въезд | ', 'entry | entry point | gateway | traveler | ']\n",
      "въезд ok\n"
     ]
    },
    {
     "name": "stderr",
     "output_type": "stream",
     "text": [
      "\n",
      "\n",
      "\n",
      "\n",
      " 69%|██████▊   | 932/1358 [14:47<07:41,  1.08s/it]\u001b[A\u001b[A\u001b[A\u001b[A"
     ]
    },
    {
     "name": "stdout",
     "output_type": "stream",
     "text": [
      "northern entrance ok\n",
      "[932, 'entrance', 'подезд', 'sixth entrance|', 'шестой подъезд | ', 'porch | front door | entryway | front hall | stair | doorway | ']\n",
      "подезд ok\n"
     ]
    },
    {
     "name": "stderr",
     "output_type": "stream",
     "text": [
      "\n",
      "\n",
      "\n",
      "\n",
      " 69%|██████▊   | 933/1358 [14:48<06:45,  1.05it/s]\u001b[A\u001b[A\u001b[A\u001b[A"
     ]
    },
    {
     "name": "stdout",
     "output_type": "stream",
     "text": [
      "sixth entrance ok\n",
      "[933, 'entrance', 'поступление', 'Annual entrance|', 'Годовое поступление | ', 'revenue | receipt | admission | entry | inflow | arrival | proceeding | proceeds | ']\n",
      "поступление ok\n"
     ]
    },
    {
     "name": "stderr",
     "output_type": "stream",
     "text": [
      "\n",
      "\n",
      "\n",
      "\n",
      " 69%|██████▉   | 934/1358 [14:49<07:04,  1.00s/it]\u001b[A\u001b[A\u001b[A\u001b[A"
     ]
    },
    {
     "name": "stdout",
     "output_type": "stream",
     "text": [
      "Annual entrance ok\n",
      "[934, 'entrance', 'выход', nan, nan, 'exit | output | access | release | withdrawal | gate | yield | way out | outlet | ']\n"
     ]
    },
    {
     "name": "stderr",
     "output_type": "stream",
     "text": [
      "\n",
      "\n",
      "\n",
      "\n",
      " 69%|██████▉   | 935/1358 [14:49<05:33,  1.27it/s]\u001b[A\u001b[A\u001b[A\u001b[A"
     ]
    },
    {
     "name": "stdout",
     "output_type": "stream",
     "text": [
      "выход ok\n",
      "no examples\n",
      "[935, 'entrance', 'вступление', nan, nan, 'entry | accession | membership | admission | introduction | candidate | ']\n"
     ]
    },
    {
     "name": "stderr",
     "output_type": "stream",
     "text": [
      "\n",
      "\n",
      "\n",
      "\n",
      " 69%|██████▉   | 936/1358 [14:49<04:19,  1.63it/s]\u001b[A\u001b[A\u001b[A\u001b[A"
     ]
    },
    {
     "name": "stdout",
     "output_type": "stream",
     "text": [
      "вступление ok\n",
      "no examples\n",
      "[936, 'advice', 'совет', 'good advice|professional advice|IMF advice|practical advice|', 'хороший совет | профессиональный совет | совет мвф | практический совет | ', 'council | tip | board | ']\n",
      "совет ok\n",
      "good advice ok\n",
      "professional advice ok\n",
      "IMF advice ok\n"
     ]
    },
    {
     "name": "stderr",
     "output_type": "stream",
     "text": [
      "\n",
      "\n",
      "\n",
      "\n",
      " 69%|██████▉   | 937/1358 [14:52<09:47,  1.40s/it]\u001b[A\u001b[A\u001b[A\u001b[A"
     ]
    },
    {
     "name": "stdout",
     "output_type": "stream",
     "text": [
      "practical advice ok\n",
      "[937, 'advice', 'консультация', 'legal advice|technical advice|just such advice|financial advice|', 'юридическая консультация | техническая консультация | подобную консультацию | финансовые консультации | ', 'consultation | consultancy | consulting service | ']\n",
      "консультация ok\n",
      "legal advice ok\n",
      "technical advice ok\n",
      "just such advice ok\n"
     ]
    },
    {
     "name": "stderr",
     "output_type": "stream",
     "text": [
      "\n",
      "\n",
      "\n",
      "\n",
      " 69%|██████▉   | 938/1358 [14:54<10:44,  1.53s/it]\u001b[A\u001b[A\u001b[A\u001b[A"
     ]
    },
    {
     "name": "stdout",
     "output_type": "stream",
     "text": [
      "financial advice ok\n",
      "[938, 'advice', 'рекомендация', 'specific advice|trading advice|irresponsible advice|medical advice|', 'конкретная рекомендация | торговые рекомендации | безответственные рекомендации | медицинские рекомендации | ', 'recommendation | guideline | reference | suggestion | guidance | referral | advisory | ']\n",
      "рекомендация ok\n",
      "specific advice ok\n",
      "trading advice ok\n",
      "irresponsible advice ok\n"
     ]
    },
    {
     "name": "stderr",
     "output_type": "stream",
     "text": [
      "\n",
      "\n",
      "\n",
      "\n",
      " 69%|██████▉   | 939/1358 [14:59<18:17,  2.62s/it]\u001b[A\u001b[A\u001b[A\u001b[A"
     ]
    },
    {
     "name": "stdout",
     "output_type": "stream",
     "text": [
      "medical advice ok\n",
      "[939, 'advice', 'консультирование', 'psychological advice|', 'психологическое консультирование | ', 'consultation | consultancy | advisory | mentoring | advisory service | consulting service | ']\n",
      "консультирование ok\n"
     ]
    },
    {
     "name": "stderr",
     "output_type": "stream",
     "text": [
      "\n",
      "\n",
      "\n",
      "\n",
      " 69%|██████▉   | 940/1358 [15:00<14:46,  2.12s/it]\u001b[A\u001b[A\u001b[A\u001b[A"
     ]
    },
    {
     "name": "stdout",
     "output_type": "stream",
     "text": [
      "psychological advice ok\n",
      "[940, 'aeroplane', 'аэроплан', nan, nan, 'airplane | ']\n"
     ]
    },
    {
     "name": "stderr",
     "output_type": "stream",
     "text": [
      "\n",
      "\n",
      "\n",
      "\n",
      " 69%|██████▉   | 941/1358 [15:01<11:20,  1.63s/it]\u001b[A\u001b[A\u001b[A\u001b[A"
     ]
    },
    {
     "name": "stdout",
     "output_type": "stream",
     "text": [
      "аэроплан ok\n",
      "no examples\n",
      "[941, 'envelope', 'конверт', 'sealed envelope|', 'запечатанный конверт | ', 'sleeve | mailer | ']\n",
      "конверт ok\n"
     ]
    },
    {
     "name": "stderr",
     "output_type": "stream",
     "text": [
      "\n",
      "\n",
      "\n",
      "\n",
      " 69%|██████▉   | 942/1358 [15:02<10:41,  1.54s/it]\u001b[A\u001b[A\u001b[A\u001b[A"
     ]
    },
    {
     "name": "stdout",
     "output_type": "stream",
     "text": [
      "sealed envelope ok\n",
      "[942, 'envelope', 'оболочка', nan, nan, 'shell | membrane | casing | coating | jacket | wrapper | working environment | containment | ']\n"
     ]
    },
    {
     "name": "stderr",
     "output_type": "stream",
     "text": [
      "\n",
      "\n",
      "\n",
      "\n",
      " 69%|██████▉   | 943/1358 [15:02<07:56,  1.15s/it]\u001b[A\u001b[A\u001b[A\u001b[A"
     ]
    },
    {
     "name": "stdout",
     "output_type": "stream",
     "text": [
      "оболочка ok\n",
      "no examples\n",
      "[943, 'envelope', 'огибающая', nan, nan, ' | ']\n"
     ]
    },
    {
     "name": "stderr",
     "output_type": "stream",
     "text": [
      "\n",
      "\n",
      "\n",
      "\n",
      " 70%|██████▉   | 944/1358 [15:03<06:04,  1.14it/s]\u001b[A\u001b[A\u001b[A\u001b[A"
     ]
    },
    {
     "name": "stdout",
     "output_type": "stream",
     "text": [
      "огибающая ok\n",
      "no examples\n",
      "[944, 'envelope', 'конвертик', nan, nan, ' | ']\n"
     ]
    },
    {
     "name": "stderr",
     "output_type": "stream",
     "text": [
      "\n",
      "\n",
      "\n",
      "\n",
      " 70%|██████▉   | 945/1358 [15:03<05:03,  1.36it/s]\u001b[A\u001b[A\u001b[A\u001b[A"
     ]
    },
    {
     "name": "stdout",
     "output_type": "stream",
     "text": [
      "конвертик ok\n",
      "no examples\n",
      "[945, 'especially', 'особенно', nan, nan, 'particularly | ']\n"
     ]
    },
    {
     "name": "stderr",
     "output_type": "stream",
     "text": [
      "\n",
      "\n",
      "\n",
      "\n",
      " 70%|██████▉   | 946/1358 [15:03<04:04,  1.69it/s]\u001b[A\u001b[A\u001b[A\u001b[A"
     ]
    },
    {
     "name": "stdout",
     "output_type": "stream",
     "text": [
      "особенно ok\n",
      "no examples\n",
      "[946, 'especially', 'в особенности', nan, nan, ' | ']\n"
     ]
    },
    {
     "name": "stderr",
     "output_type": "stream",
     "text": [
      "\n",
      "\n",
      "\n",
      "\n",
      " 70%|██████▉   | 947/1358 [15:04<03:39,  1.87it/s]\u001b[A\u001b[A\u001b[A\u001b[A"
     ]
    },
    {
     "name": "stdout",
     "output_type": "stream",
     "text": [
      "в особенности ok\n",
      "no examples\n",
      "[947, 'especially', 'специально', nan, nan, 'specially | specifically | ']\n"
     ]
    },
    {
     "name": "stderr",
     "output_type": "stream",
     "text": [
      "\n",
      "\n",
      "\n",
      "\n",
      " 70%|██████▉   | 948/1358 [15:04<03:06,  2.20it/s]\u001b[A\u001b[A\u001b[A\u001b[A"
     ]
    },
    {
     "name": "stdout",
     "output_type": "stream",
     "text": [
      "специально ok\n",
      "no examples\n",
      "[948, 'especially', 'в частности', nan, nan, 'in particular | particularly | specifically | notably | ']\n"
     ]
    },
    {
     "name": "stderr",
     "output_type": "stream",
     "text": [
      "\n",
      "\n",
      "\n",
      "\n",
      " 70%|██████▉   | 949/1358 [15:05<03:40,  1.86it/s]\u001b[A\u001b[A\u001b[A\u001b[A"
     ]
    },
    {
     "name": "stdout",
     "output_type": "stream",
     "text": [
      "в частности ok\n",
      "no examples\n",
      "[949, 'euro', 'европейский', nan, nan, 'european | ']\n"
     ]
    },
    {
     "name": "stderr",
     "output_type": "stream",
     "text": [
      "\n",
      "\n",
      "\n",
      "\n",
      " 70%|██████▉   | 950/1358 [15:05<03:46,  1.80it/s]\u001b[A\u001b[A\u001b[A\u001b[A"
     ]
    },
    {
     "name": "stdout",
     "output_type": "stream",
     "text": [
      "европейский ok\n",
      "no examples\n",
      "[950, 'euro', 'евро', 'casino euro|strong euro|', 'евро казино | сильное евро | ', 'euro zone | ']\n",
      "евро ok\n",
      "casino euro ok\n"
     ]
    },
    {
     "name": "stderr",
     "output_type": "stream",
     "text": [
      "\n",
      "\n",
      "\n",
      "\n",
      " 70%|███████   | 951/1358 [15:07<05:12,  1.30it/s]\u001b[A\u001b[A\u001b[A\u001b[A"
     ]
    },
    {
     "name": "stdout",
     "output_type": "stream",
     "text": [
      "strong euro ok\n",
      "[951, 'euro', 'еврозона', nan, nan, 'eurozone | euro zone | euro-zone | euro area | euro-area | ']\n"
     ]
    },
    {
     "name": "stderr",
     "output_type": "stream",
     "text": [
      "\n",
      "\n",
      "\n",
      "\n",
      " 70%|███████   | 952/1358 [15:07<04:16,  1.58it/s]\u001b[A\u001b[A\u001b[A\u001b[A"
     ]
    },
    {
     "name": "stdout",
     "output_type": "stream",
     "text": [
      "еврозона ok\n",
      "no examples\n",
      "[952, 'even', 'четный', nan, nan, ' | ']\n"
     ]
    },
    {
     "name": "stderr",
     "output_type": "stream",
     "text": [
      "\n",
      "\n",
      "\n",
      "\n",
      " 70%|███████   | 953/1358 [15:08<04:46,  1.42it/s]\u001b[A\u001b[A\u001b[A\u001b[A"
     ]
    },
    {
     "name": "stdout",
     "output_type": "stream",
     "text": [
      "четный ok\n",
      "no examples\n",
      "[953, 'even', 'ровный', nan, nan, 'flat | smooth | equal | level | steady | straight | uniform | ']\n"
     ]
    },
    {
     "name": "stderr",
     "output_type": "stream",
     "text": [
      "\n",
      "\n",
      "\n",
      "\n",
      " 70%|███████   | 954/1358 [15:08<04:11,  1.61it/s]\u001b[A\u001b[A\u001b[A\u001b[A"
     ]
    },
    {
     "name": "stdout",
     "output_type": "stream",
     "text": [
      "ровный ok\n",
      "no examples\n",
      "[954, 'even', 'равномерный', nan, nan, 'uniform | equal | steady | constant | homogeneous | ']\n"
     ]
    },
    {
     "name": "stderr",
     "output_type": "stream",
     "text": [
      "\n",
      "\n",
      "\n",
      "\n",
      " 70%|███████   | 955/1358 [15:09<03:59,  1.69it/s]\u001b[A\u001b[A\u001b[A\u001b[A"
     ]
    },
    {
     "name": "stdout",
     "output_type": "stream",
     "text": [
      "равномерный ok\n",
      "no examples\n",
      "[955, 'even', 'еще', nan, nan, 'still | more | yet | even more | ']\n"
     ]
    },
    {
     "name": "stderr",
     "output_type": "stream",
     "text": [
      "\n",
      "\n",
      "\n",
      "\n",
      " 70%|███████   | 956/1358 [15:09<03:22,  1.99it/s]\u001b[A\u001b[A\u001b[A\u001b[A"
     ]
    },
    {
     "name": "stdout",
     "output_type": "stream",
     "text": [
      "еще ok\n",
      "no examples\n",
      "[956, 'even', 'выровнять', nan, nan, 'equalize | smooth | align | straighten | center | level | ']\n"
     ]
    },
    {
     "name": "stderr",
     "output_type": "stream",
     "text": [
      "\n",
      "\n",
      "\n",
      "\n",
      " 70%|███████   | 957/1358 [15:09<02:52,  2.33it/s]\u001b[A\u001b[A\u001b[A\u001b[A"
     ]
    },
    {
     "name": "stdout",
     "output_type": "stream",
     "text": [
      "выровнять ok\n",
      "no examples\n",
      "[957, 'everyone', 'каждый / любой', 'Everyone could use it|', 'Каждый может использовать его | ', nan]\n",
      "каждый / любой ok\n"
     ]
    },
    {
     "name": "stderr",
     "output_type": "stream",
     "text": [
      "\n",
      "\n",
      "\n",
      "\n",
      " 71%|███████   | 958/1358 [15:11<04:45,  1.40it/s]\u001b[A\u001b[A\u001b[A\u001b[A"
     ]
    },
    {
     "name": "stdout",
     "output_type": "stream",
     "text": [
      "Everyone could use it ok\n",
      "[958, 'against', 'против', nan, nan, 'versus | ']\n"
     ]
    },
    {
     "name": "stderr",
     "output_type": "stream",
     "text": [
      "\n",
      "\n",
      "\n",
      "\n",
      " 71%|███████   | 959/1358 [15:11<04:22,  1.52it/s]\u001b[A\u001b[A\u001b[A\u001b[A"
     ]
    },
    {
     "name": "stdout",
     "output_type": "stream",
     "text": [
      "против ok\n",
      "no examples\n",
      "[959, 'against', 'по отношению к', nan, nan, 'toward | relative to | in relation to | with respect to | ']\n"
     ]
    },
    {
     "name": "stderr",
     "output_type": "stream",
     "text": [
      "\n",
      "\n",
      "\n",
      "\n",
      " 71%|███████   | 960/1358 [15:12<03:45,  1.77it/s]\u001b[A\u001b[A\u001b[A\u001b[A"
     ]
    },
    {
     "name": "stdout",
     "output_type": "stream",
     "text": [
      "по отношению к ok\n",
      "no examples\n",
      "[960, 'everything', 'весь / всё', \"Everything else doesn't matter|\", 'Всё остальное не имеет значения | ', nan]\n",
      "весь / всё ok\n"
     ]
    },
    {
     "name": "stderr",
     "output_type": "stream",
     "text": [
      "\n",
      "\n",
      "\n",
      "\n",
      " 71%|███████   | 961/1358 [15:12<04:29,  1.47it/s]\u001b[A\u001b[A\u001b[A\u001b[A"
     ]
    },
    {
     "name": "stdout",
     "output_type": "stream",
     "text": [
      "Everything else doesn't matter ok\n",
      "[961, 'everywhere', 'везде', nan, nan, 'anywhere | ']\n"
     ]
    },
    {
     "name": "stderr",
     "output_type": "stream",
     "text": [
      "\n",
      "\n",
      "\n",
      "\n",
      " 71%|███████   | 962/1358 [15:13<03:34,  1.85it/s]\u001b[A\u001b[A\u001b[A\u001b[A"
     ]
    },
    {
     "name": "stdout",
     "output_type": "stream",
     "text": [
      "везде ok\n",
      "no examples\n",
      "[962, 'everywhere', 'повсюду', nan, nan, 'elsewhere | all over the place | ']\n"
     ]
    },
    {
     "name": "stderr",
     "output_type": "stream",
     "text": [
      "\n",
      "\n",
      "\n",
      "\n",
      " 71%|███████   | 963/1358 [15:13<03:31,  1.87it/s]\u001b[A\u001b[A\u001b[A\u001b[A\n",
      "\n",
      "\n",
      "\n",
      " 71%|███████   | 964/1358 [15:13<02:46,  2.36it/s]\u001b[A\u001b[A\u001b[A\u001b[A"
     ]
    },
    {
     "name": "stdout",
     "output_type": "stream",
     "text": [
      "повсюду ok\n",
      "no examples\n",
      "[963, 'everywhere', 'повсеместно', nan, nan, 'elsewhere | widely | across the board | universally | all over the place | ']\n",
      "повсеместно ok\n",
      "no examples\n",
      "[964, 'everywhere', 'во всем мире', nan, nan, ' | ']\n"
     ]
    },
    {
     "name": "stderr",
     "output_type": "stream",
     "text": [
      "\n",
      "\n",
      "\n",
      "\n",
      " 71%|███████   | 965/1358 [15:14<02:27,  2.67it/s]\u001b[A\u001b[A\u001b[A\u001b[A"
     ]
    },
    {
     "name": "stdout",
     "output_type": "stream",
     "text": [
      "во всем мире ok\n",
      "no examples\n",
      "[965, 'everywhere', 'всюду', nan, nan, ' | ']\n"
     ]
    },
    {
     "name": "stderr",
     "output_type": "stream",
     "text": [
      "\n",
      "\n",
      "\n",
      "\n",
      " 71%|███████   | 966/1358 [15:14<02:11,  2.98it/s]\u001b[A\u001b[A\u001b[A\u001b[A"
     ]
    },
    {
     "name": "stdout",
     "output_type": "stream",
     "text": [
      "всюду ok\n",
      "no examples\n",
      "[966, 'age', 'стареть', nan, nan, ' | ']\n"
     ]
    },
    {
     "name": "stderr",
     "output_type": "stream",
     "text": [
      "\n",
      "\n",
      "\n",
      "\n",
      " 71%|███████   | 967/1358 [15:14<02:12,  2.95it/s]\u001b[A\u001b[A\u001b[A\u001b[A"
     ]
    },
    {
     "name": "stdout",
     "output_type": "stream",
     "text": [
      "стареть ok\n",
      "no examples\n",
      "[967, 'age', 'постареть', nan, nan, ' | ']\n"
     ]
    },
    {
     "name": "stderr",
     "output_type": "stream",
     "text": [
      "\n",
      "\n",
      "\n",
      "\n",
      " 71%|███████▏  | 968/1358 [15:15<02:08,  3.03it/s]\u001b[A\u001b[A\u001b[A\u001b[A"
     ]
    },
    {
     "name": "stdout",
     "output_type": "stream",
     "text": [
      "постареть ok\n",
      "no examples\n",
      "[968, 'age', 'состарить где-то', nan, nan, ' | ']\n"
     ]
    },
    {
     "name": "stderr",
     "output_type": "stream",
     "text": [
      "\n",
      "\n",
      "\n",
      "\n",
      " 71%|███████▏  | 969/1358 [15:15<02:07,  3.06it/s]\u001b[A\u001b[A\u001b[A\u001b[A"
     ]
    },
    {
     "name": "stdout",
     "output_type": "stream",
     "text": [
      "состарить где-то ok\n",
      "no examples\n",
      "[969, 'exactly', 'точно', nan, nan, 'precisely | accurately | certainly | for sure | definitely | ']\n"
     ]
    },
    {
     "name": "stderr",
     "output_type": "stream",
     "text": [
      "\n",
      "\n",
      "\n",
      "\n",
      " 71%|███████▏  | 970/1358 [15:15<02:16,  2.85it/s]\u001b[A\u001b[A\u001b[A\u001b[A"
     ]
    },
    {
     "name": "stdout",
     "output_type": "stream",
     "text": [
      "точно ok\n",
      "no examples\n",
      "[970, 'exactly', 'именно', nan, nan, 'precisely | specifically | ']\n"
     ]
    },
    {
     "name": "stderr",
     "output_type": "stream",
     "text": [
      "\n",
      "\n",
      "\n",
      "\n",
      " 72%|███████▏  | 971/1358 [15:16<02:11,  2.94it/s]\u001b[A\u001b[A\u001b[A\u001b[A"
     ]
    },
    {
     "name": "stdout",
     "output_type": "stream",
     "text": [
      "именно ok\n",
      "no examples\n",
      "[971, 'exactly', 'в точности', nan, nan, ' | ']\n"
     ]
    },
    {
     "name": "stderr",
     "output_type": "stream",
     "text": [
      "\n",
      "\n",
      "\n",
      "\n",
      " 72%|███████▏  | 972/1358 [15:16<02:30,  2.56it/s]\u001b[A\u001b[A\u001b[A\u001b[A\n",
      "\n",
      "\n",
      "\n",
      " 72%|███████▏  | 973/1358 [15:16<02:08,  3.01it/s]\u001b[A\u001b[A\u001b[A\u001b[A"
     ]
    },
    {
     "name": "stdout",
     "output_type": "stream",
     "text": [
      "в точности ok\n",
      "no examples\n",
      "[972, 'exactly', 'совсем', nan, nan, 'quite | very | completely | entirely | totally | not | absolutely | ']\n",
      "совсем ok\n",
      "no examples\n",
      "[973, 'exactly', 'ровно', nan, nan, ' | ']\n"
     ]
    },
    {
     "name": "stderr",
     "output_type": "stream",
     "text": [
      "\n",
      "\n",
      "\n",
      "\n",
      " 72%|███████▏  | 974/1358 [15:17<02:12,  2.91it/s]\u001b[A\u001b[A\u001b[A\u001b[A"
     ]
    },
    {
     "name": "stdout",
     "output_type": "stream",
     "text": [
      "ровно ok\n",
      "no examples\n",
      "[974, 'exactly', 'как раз', nan, nan, 'precisely | ']\n"
     ]
    },
    {
     "name": "stderr",
     "output_type": "stream",
     "text": [
      "\n",
      "\n",
      "\n",
      "\n",
      " 72%|███████▏  | 975/1358 [15:17<01:57,  3.27it/s]\u001b[A\u001b[A\u001b[A\u001b[A"
     ]
    },
    {
     "name": "stdout",
     "output_type": "stream",
     "text": [
      "как раз ok\n",
      "no examples\n",
      "[975, 'exam', 'экзамен', 'entrance exam|state exam|final exam|important exam|', 'вступительный экзамен | государственный экзамен | выпускной экзамен | важный экзамен | ', 'examination | test | ']\n",
      "экзамен ok\n",
      "entrance exam ok\n",
      "state exam ok\n",
      "final exam ok\n"
     ]
    },
    {
     "name": "stderr",
     "output_type": "stream",
     "text": [
      "\n",
      "\n",
      "\n",
      "\n",
      " 72%|███████▏  | 976/1358 [15:23<13:09,  2.07s/it]\u001b[A\u001b[A\u001b[A\u001b[A"
     ]
    },
    {
     "name": "stdout",
     "output_type": "stream",
     "text": [
      "important exam ok\n",
      "[976, 'exam', 'осмотр', 'free exam|medical exam|', 'бесплатный осмотр | медицинский осмотр | ', 'inspection | examination | survey | checkup | physical exam | physical | viewing | ']\n",
      "осмотр ok\n",
      "free exam ok\n"
     ]
    },
    {
     "name": "stderr",
     "output_type": "stream",
     "text": [
      "\n",
      "\n",
      "\n",
      "\n",
      " 72%|███████▏  | 977/1358 [15:24<11:03,  1.74s/it]\u001b[A\u001b[A\u001b[A\u001b[A"
     ]
    },
    {
     "name": "stdout",
     "output_type": "stream",
     "text": [
      "medical exam ok\n",
      "[977, 'exam', 'обследование', nan, nan, 'examination | survey | checkup | inspection | scan | screening | inquiry | medical examination | ']\n"
     ]
    },
    {
     "name": "stderr",
     "output_type": "stream",
     "text": [
      "\n",
      "\n",
      "\n",
      "\n",
      " 72%|███████▏  | 978/1358 [15:25<08:41,  1.37s/it]\u001b[A\u001b[A\u001b[A\u001b[A"
     ]
    },
    {
     "name": "stdout",
     "output_type": "stream",
     "text": [
      "обследование ok\n",
      "no examples\n",
      "[978, 'examination', 'экзамен', 'entrance examination|dele examination|final examination|intermediate examination|', 'вступительный экзамен | экзамен dele | выпускной экзамен | промежуточный экзамен | ', 'exam | test | ']\n",
      "экзамен ok\n",
      "entrance examination ok\n",
      "dele examination ok\n",
      "final examination ok\n"
     ]
    },
    {
     "name": "stderr",
     "output_type": "stream",
     "text": [
      "\n",
      "\n",
      "\n",
      "\n",
      " 72%|███████▏  | 979/1358 [15:28<11:54,  1.89s/it]\u001b[A\u001b[A\u001b[A\u001b[A"
     ]
    },
    {
     "name": "stdout",
     "output_type": "stream",
     "text": [
      "intermediate examination ok\n",
      "[979, 'examination', 'исследование', 'roentgenologic examination|economic examination|thorough examination|most definitive examination|', 'рентгенологическое исследование | экономическое исследование | всестороннее исследование | Наиболее обоснованное исследование | ', 'research | study | survey | investigation | exploration | ']\n",
      "исследование ok\n",
      "roentgenologic examination ok\n",
      "economic examination ok\n",
      "thorough examination ok\n"
     ]
    },
    {
     "name": "stderr",
     "output_type": "stream",
     "text": [
      "\n",
      "\n",
      "\n",
      "\n",
      " 72%|███████▏  | 980/1358 [15:30<13:11,  2.09s/it]\u001b[A\u001b[A\u001b[A\u001b[A"
     ]
    },
    {
     "name": "stdout",
     "output_type": "stream",
     "text": [
      "most definitive examination ok\n",
      "[980, 'examination', 'обследование', 'relevant examination|medical examination|far examination|free medical examination|', 'соответствующего обследования | медицинское обследование | дальнейшее обследование | бесплатное обследование | ', 'survey | checkup | inspection | exam | scan | screening | inquiry | medical examination | ']\n",
      "обследование ok\n",
      "relevant examination ok\n",
      "medical examination ok\n",
      "far examination ok\n"
     ]
    },
    {
     "name": "stderr",
     "output_type": "stream",
     "text": [
      "\n",
      "\n",
      "\n",
      "\n",
      " 72%|███████▏  | 981/1358 [15:33<14:04,  2.24s/it]\u001b[A\u001b[A\u001b[A\u001b[A"
     ]
    },
    {
     "name": "stdout",
     "output_type": "stream",
     "text": [
      "free medical examination ok\n",
      "[981, 'examination', 'экспертиза', 'forensic examination|selective examination|', 'судебная экспертиза | выборочная экспертиза | ', 'expertise | assessment | review | inspection | evaluation | appraisal | expert review | expert study | ']\n",
      "экспертиза ok\n",
      "forensic examination ok\n"
     ]
    },
    {
     "name": "stderr",
     "output_type": "stream",
     "text": [
      "\n",
      "\n",
      "\n",
      "\n",
      " 72%|███████▏  | 982/1358 [15:34<12:30,  2.00s/it]\u001b[A\u001b[A\u001b[A\u001b[A"
     ]
    },
    {
     "name": "stdout",
     "output_type": "stream",
     "text": [
      "selective examination ok\n",
      "[982, 'examination', 'проверка', 'serious examination|', 'серьезная проверка | ', 'check | inspection | verification | test | audit | review | validation | testing | ']\n",
      "проверка ok\n"
     ]
    },
    {
     "name": "stderr",
     "output_type": "stream",
     "text": [
      "\n",
      "\n",
      "\n",
      "\n",
      " 72%|███████▏  | 983/1358 [15:35<10:38,  1.70s/it]\u001b[A\u001b[A\u001b[A\u001b[A"
     ]
    },
    {
     "name": "stdout",
     "output_type": "stream",
     "text": [
      "serious examination ok\n",
      "[983, 'examination', 'осмотр', 'physical examination|', 'медицинский осмотр | ', 'inspection | exam | survey | checkup | physical exam | physical | viewing | ']\n",
      "осмотр ok\n"
     ]
    },
    {
     "name": "stderr",
     "output_type": "stream",
     "text": [
      "\n",
      "\n",
      "\n",
      "\n",
      " 72%|███████▏  | 984/1358 [15:36<08:57,  1.44s/it]\u001b[A\u001b[A\u001b[A\u001b[A"
     ]
    },
    {
     "name": "stdout",
     "output_type": "stream",
     "text": [
      "physical examination ok\n",
      "[984, 'examination', 'рассмотрение', 'careful examination|', 'внимательное рассмотрение | ', 'consideration | review | inspection | approval | triage | mention | ']\n",
      "рассмотрение ok\n"
     ]
    },
    {
     "name": "stderr",
     "output_type": "stream",
     "text": [
      "\n",
      "\n",
      "\n",
      "\n",
      " 73%|███████▎  | 985/1358 [15:37<07:56,  1.28s/it]\u001b[A\u001b[A\u001b[A\u001b[A"
     ]
    },
    {
     "name": "stdout",
     "output_type": "stream",
     "text": [
      "careful examination ok\n",
      "[985, 'examination', 'изучение', 'critical examination|', 'критического изучения | ', 'study | research | investigation | survey | exploration | learning | ']\n",
      "изучение ok\n"
     ]
    },
    {
     "name": "stderr",
     "output_type": "stream",
     "text": [
      "\n",
      "\n",
      "\n",
      "\n",
      " 73%|███████▎  | 986/1358 [15:38<07:46,  1.25s/it]\u001b[A\u001b[A\u001b[A\u001b[A"
     ]
    },
    {
     "name": "stdout",
     "output_type": "stream",
     "text": [
      "critical examination ok\n",
      "[986, 'examination', 'освидетельствование', nan, nan, 'clearance | ']\n"
     ]
    },
    {
     "name": "stderr",
     "output_type": "stream",
     "text": [
      "\n",
      "\n",
      "\n",
      "\n",
      " 73%|███████▎  | 987/1358 [15:38<06:01,  1.03it/s]\u001b[A\u001b[A\u001b[A\u001b[A"
     ]
    },
    {
     "name": "stdout",
     "output_type": "stream",
     "text": [
      "освидетельствование ok\n",
      "no examples\n",
      "[987, 'excellent', 'отличный', nan, nan, 'great | good | different | perfect | nice | wonderful | fine | outstanding | ']\n"
     ]
    },
    {
     "name": "stderr",
     "output_type": "stream",
     "text": [
      "\n",
      "\n",
      "\n",
      "\n",
      " 73%|███████▎  | 988/1358 [15:39<04:42,  1.31it/s]\u001b[A\u001b[A\u001b[A\u001b[A"
     ]
    },
    {
     "name": "stdout",
     "output_type": "stream",
     "text": [
      "отличный ok\n",
      "no examples\n",
      "[988, 'excellent', 'прекрасный', nan, nan, 'beautiful | great | wonderful | lovely | fine | perfect | nice | splendid | ']\n"
     ]
    },
    {
     "name": "stderr",
     "output_type": "stream",
     "text": [
      "\n",
      "\n",
      "\n",
      "\n",
      " 73%|███████▎  | 989/1358 [15:39<03:50,  1.60it/s]\u001b[A\u001b[A\u001b[A\u001b[A"
     ]
    },
    {
     "name": "stdout",
     "output_type": "stream",
     "text": [
      "прекрасный ok\n",
      "no examples\n",
      "[989, 'excellent', 'превосходный', nan, nan, 'superb | superior | perfect | fine | outstanding | award-win | prime | wonderful | ']\n"
     ]
    },
    {
     "name": "stderr",
     "output_type": "stream",
     "text": [
      "\n",
      "\n",
      "\n",
      "\n",
      " 73%|███████▎  | 990/1358 [15:39<03:22,  1.81it/s]\u001b[A\u001b[A\u001b[A\u001b[A"
     ]
    },
    {
     "name": "stdout",
     "output_type": "stream",
     "text": [
      "превосходный ok\n",
      "no examples\n",
      "[990, 'excellent', 'великолепный', nan, nan, 'magnificent | great | beautiful | splendid | wonderful | superb | stunning | spectacular | ']\n"
     ]
    },
    {
     "name": "stderr",
     "output_type": "stream",
     "text": [
      "\n",
      "\n",
      "\n",
      "\n",
      " 73%|███████▎  | 991/1358 [15:40<03:19,  1.84it/s]\u001b[A\u001b[A\u001b[A\u001b[A"
     ]
    },
    {
     "name": "stdout",
     "output_type": "stream",
     "text": [
      "великолепный ok\n",
      "no examples\n",
      "[991, 'excellent', 'замечательный', nan, nan, 'wonderful | great | remarkable | fantastic | nice | amazing | lovely | splendid | ']\n"
     ]
    },
    {
     "name": "stderr",
     "output_type": "stream",
     "text": [
      "\n",
      "\n",
      "\n",
      "\n",
      " 73%|███████▎  | 992/1358 [15:40<02:56,  2.08it/s]\u001b[A\u001b[A\u001b[A\u001b[A"
     ]
    },
    {
     "name": "stdout",
     "output_type": "stream",
     "text": [
      "замечательный ok\n",
      "no examples\n",
      "[992, 'excellent', 'удобный', nan, nan, 'comfortable | convenient | easy | handy | suitable | useful | cosy | user-friendly | ']\n"
     ]
    },
    {
     "name": "stderr",
     "output_type": "stream",
     "text": [
      "\n",
      "\n",
      "\n",
      "\n",
      " 73%|███████▎  | 993/1358 [15:41<02:31,  2.40it/s]\u001b[A\u001b[A\u001b[A\u001b[A"
     ]
    },
    {
     "name": "stdout",
     "output_type": "stream",
     "text": [
      "удобный ok\n",
      "no examples\n",
      "[993, 'excellent', 'первоклассный', nan, nan, 'first-class | first-rate | high quality | world-class | top-class | prime | premium | state-of-the-art | ']\n"
     ]
    },
    {
     "name": "stderr",
     "output_type": "stream",
     "text": [
      "\n",
      "\n",
      "\n",
      "\n",
      " 73%|███████▎  | 994/1358 [15:41<02:49,  2.15it/s]\u001b[A\u001b[A\u001b[A\u001b[A"
     ]
    },
    {
     "name": "stdout",
     "output_type": "stream",
     "text": [
      "первоклассный ok\n",
      "no examples\n",
      "[994, 'excellent', 'безупречный', nan, nan, 'impeccable | perfect | flawless | faultless | irreproachable | immaculate | unimpeachable | pure | ']\n"
     ]
    },
    {
     "name": "stderr",
     "output_type": "stream",
     "text": [
      "\n",
      "\n",
      "\n",
      "\n",
      " 73%|███████▎  | 995/1358 [15:41<02:35,  2.34it/s]\u001b[A\u001b[A\u001b[A\u001b[A"
     ]
    },
    {
     "name": "stdout",
     "output_type": "stream",
     "text": [
      "безупречный ok\n",
      "no examples\n",
      "[995, 'except', 'кроме', nan, nan, 'besides | in addition to | except for | apart from | other than | beyond | aside from | ']\n"
     ]
    },
    {
     "name": "stderr",
     "output_type": "stream",
     "text": [
      "\n",
      "\n",
      "\n",
      "\n",
      " 73%|███████▎  | 996/1358 [15:42<02:11,  2.76it/s]\u001b[A\u001b[A\u001b[A\u001b[A"
     ]
    },
    {
     "name": "stdout",
     "output_type": "stream",
     "text": [
      "кроме ok\n",
      "no examples\n",
      "[996, 'except for', 'кроме', nan, nan, 'except | besides | in addition to | apart from | other than | beyond | aside from | ']\n"
     ]
    },
    {
     "name": "stderr",
     "output_type": "stream",
     "text": [
      "\n",
      "\n",
      "\n",
      "\n",
      " 73%|███████▎  | 997/1358 [15:42<02:21,  2.55it/s]\u001b[A\u001b[A\u001b[A\u001b[A"
     ]
    },
    {
     "name": "stdout",
     "output_type": "stream",
     "text": [
      "кроме ok\n",
      "no examples\n",
      "[997, 'exercise', 'учение', 'joint exercise|counter-terrorism exercise|naval exercise|peacekeeping exercise|', 'совместное учение | антитеррористические учения | военно-морские учения | миротворческие учения | ', 'teaching | drill | training | doctrine | training exercise | ']\n",
      "учение ok\n",
      "joint exercise ok\n",
      "counter-terrorism exercise ok\n",
      "naval exercise ok\n"
     ]
    },
    {
     "name": "stderr",
     "output_type": "stream",
     "text": [
      "\n",
      "\n",
      "\n",
      "\n",
      " 73%|███████▎  | 998/1358 [15:46<07:44,  1.29s/it]\u001b[A\u001b[A\u001b[A\u001b[A"
     ]
    },
    {
     "name": "stdout",
     "output_type": "stream",
     "text": [
      "peacekeeping exercise ok\n",
      "[998, 'exercise', 'упражнение', 'ballet exercises|exercise of power|cynical exercise|beautiful exercise|', 'балетных упражнений | упражнениях власти | циничных упражнений | прекрасное упражнение | ', ' | ']\n",
      "упражнение ok\n",
      "ballet exercises ok\n",
      "exercise of power ok\n",
      "cynical exercise ok\n"
     ]
    },
    {
     "name": "stderr",
     "output_type": "stream",
     "text": [
      "\n",
      "\n",
      "\n",
      "\n",
      " 74%|███████▎  | 999/1358 [15:49<10:47,  1.80s/it]\u001b[A\u001b[A\u001b[A\u001b[A"
     ]
    },
    {
     "name": "stdout",
     "output_type": "stream",
     "text": [
      "beautiful exercise ok\n",
      "[999, 'exercise', 'занятие', 'practical exercise|', 'практическое занятие | ', 'class | lesson | activity | session | occupation | training | course | study | ']\n",
      "занятие ok\n"
     ]
    },
    {
     "name": "stderr",
     "output_type": "stream",
     "text": [
      "\n",
      "\n",
      "\n",
      "\n",
      " 74%|███████▎  | 1000/1358 [15:49<08:34,  1.44s/it]\u001b[A\u001b[A\u001b[A\u001b[A\n",
      "\n",
      "\n",
      "\n",
      " 74%|███████▎  | 1001/1358 [15:49<06:19,  1.06s/it]\u001b[A\u001b[A\u001b[A\u001b[A"
     ]
    },
    {
     "name": "stdout",
     "output_type": "stream",
     "text": [
      "practical exercise ok\n",
      "[1000, 'exercise', 'тренировка', nan, nan, 'training | practice | training session | workout | fitness | drill | ']\n",
      "тренировка ok\n",
      "no examples\n",
      "[1001, 'exercise', 'физические упражнения', 'physical exercise|', 'физические упражнения | ', ' | ']\n",
      "физические упражнения ok\n"
     ]
    },
    {
     "name": "stderr",
     "output_type": "stream",
     "text": [
      "\n",
      "\n",
      "\n",
      "\n",
      " 74%|███████▍  | 1002/1358 [15:50<06:01,  1.01s/it]\u001b[A\u001b[A\u001b[A\u001b[A"
     ]
    },
    {
     "name": "stdout",
     "output_type": "stream",
     "text": [
      "physical exercise ok\n",
      "[1002, 'exercise', 'осуществлять', nan, nan, 'carry out | perform | conduct | implement | carry out | execute | accomplish | pursue | ']\n"
     ]
    },
    {
     "name": "stderr",
     "output_type": "stream",
     "text": [
      "\n",
      "\n",
      "\n",
      "\n",
      " 74%|███████▍  | 1003/1358 [15:51<05:10,  1.14it/s]\u001b[A\u001b[A\u001b[A\u001b[A"
     ]
    },
    {
     "name": "stdout",
     "output_type": "stream",
     "text": [
      "осуществлять ok\n",
      "no examples\n",
      "[1003, 'exercise', 'проявлять', nan, nan, 'show | manifest | exhibit | have | project | smooth out | exert | ']\n"
     ]
    },
    {
     "name": "stderr",
     "output_type": "stream",
     "text": [
      "\n",
      "\n",
      "\n",
      "\n",
      " 74%|███████▍  | 1004/1358 [15:52<05:07,  1.15it/s]\u001b[A\u001b[A\u001b[A\u001b[A"
     ]
    },
    {
     "name": "stdout",
     "output_type": "stream",
     "text": [
      "проявлять ok\n",
      "no examples\n",
      "[1004, 'exercise', 'тренироваться', nan, nan, 'train | train | work out | practice | practice | work out | ']\n"
     ]
    },
    {
     "name": "stderr",
     "output_type": "stream",
     "text": [
      "\n",
      "\n",
      "\n",
      "\n",
      " 74%|███████▍  | 1005/1358 [15:52<04:39,  1.26it/s]\u001b[A\u001b[A\u001b[A\u001b[A"
     ]
    },
    {
     "name": "stdout",
     "output_type": "stream",
     "text": [
      "тренироваться ok\n",
      "no examples\n",
      "[1005, 'exercise', 'осуществить', 'to exercise their right|', 'осуществить своё право | ', 'implement | carry out | accomplish | realize | perform | fulfill | execute | ']\n",
      "осуществить ok\n"
     ]
    },
    {
     "name": "stderr",
     "output_type": "stream",
     "text": [
      "\n",
      "\n",
      "\n",
      "\n",
      " 74%|███████▍  | 1006/1358 [15:53<04:54,  1.19it/s]\u001b[A\u001b[A\u001b[A\u001b[A"
     ]
    },
    {
     "name": "stdout",
     "output_type": "stream",
     "text": [
      "to exercise their right ok\n",
      "[1006, 'exercise', 'позаниматься', nan, nan, 'work out | keep fit | ']\n"
     ]
    },
    {
     "name": "stderr",
     "output_type": "stream",
     "text": [
      "\n",
      "\n",
      "\n",
      "\n",
      " 74%|███████▍  | 1007/1358 [15:55<05:50,  1.00it/s]\u001b[A\u001b[A\u001b[A\u001b[A"
     ]
    },
    {
     "name": "stdout",
     "output_type": "stream",
     "text": [
      "позаниматься ok\n",
      "no examples\n",
      "[1007, 'exercise', 'отрабатываться', nan, nan, 'simulate | ']\n"
     ]
    },
    {
     "name": "stderr",
     "output_type": "stream",
     "text": [
      "\n",
      "\n",
      "\n",
      "\n",
      " 74%|███████▍  | 1008/1358 [15:55<05:02,  1.16it/s]\u001b[A\u001b[A\u001b[A\u001b[A"
     ]
    },
    {
     "name": "stdout",
     "output_type": "stream",
     "text": [
      "отрабатываться ok\n",
      "no examples\n",
      "[1008, 'exercise', 'тренировать', nan, nan, 'train | coach | train | coach | ']\n"
     ]
    },
    {
     "name": "stderr",
     "output_type": "stream",
     "text": [
      "\n",
      "\n",
      "\n",
      "\n",
      " 74%|███████▍  | 1009/1358 [15:55<04:11,  1.39it/s]\u001b[A\u001b[A\u001b[A\u001b[A"
     ]
    },
    {
     "name": "stdout",
     "output_type": "stream",
     "text": [
      "тренировать ok\n",
      "no examples\n",
      "[1009, 'exercise', 'поупражняться', nan, nan, 'practice | work out | ']\n"
     ]
    },
    {
     "name": "stderr",
     "output_type": "stream",
     "text": [
      "\n",
      "\n",
      "\n",
      "\n",
      " 74%|███████▍  | 1010/1358 [15:56<03:41,  1.57it/s]\u001b[A\u001b[A\u001b[A\u001b[A"
     ]
    },
    {
     "name": "stdout",
     "output_type": "stream",
     "text": [
      "поупражняться ok\n",
      "no examples\n",
      "[1010, 'exercise', 'руководствоваться', nan, nan, 'guide | govern | guide | ']\n"
     ]
    },
    {
     "name": "stderr",
     "output_type": "stream",
     "text": [
      "\n",
      "\n",
      "\n",
      "\n",
      " 74%|███████▍  | 1011/1358 [15:56<03:17,  1.76it/s]\u001b[A\u001b[A\u001b[A\u001b[A"
     ]
    },
    {
     "name": "stdout",
     "output_type": "stream",
     "text": [
      "руководствоваться ok\n",
      "no examples\n",
      "[1011, 'exit', 'выход', 'emergency exit|exit from the eurozone|exit from the monetary union|possible exit|', 'аварийный выход | выход из еврозоны | выход из валютного союза | возможный выход | ', 'output | access | release | withdrawal | gate | yield | way out | outlet | ']\n",
      "выход ok\n",
      "emergency exit ok\n",
      "exit from the eurozone ok\n",
      "exit from the monetary union ok\n"
     ]
    },
    {
     "name": "stderr",
     "output_type": "stream",
     "text": [
      "\n",
      "\n",
      "\n",
      "\n",
      " 75%|███████▍  | 1012/1358 [15:59<06:04,  1.05s/it]\u001b[A\u001b[A\u001b[A\u001b[A"
     ]
    },
    {
     "name": "stdout",
     "output_type": "stream",
     "text": [
      "possible exit ok\n",
      "[1012, 'exit', 'выезд', 'second exit|', 'второй выезд | ', 'check-out | departure | exit point | ']\n",
      "выезд ok\n"
     ]
    },
    {
     "name": "stderr",
     "output_type": "stream",
     "text": [
      "\n",
      "\n",
      "\n",
      "\n",
      " 75%|███████▍  | 1013/1358 [16:00<07:09,  1.25s/it]\u001b[A\u001b[A\u001b[A\u001b[A"
     ]
    },
    {
     "name": "stdout",
     "output_type": "stream",
     "text": [
      "second exit ok\n",
      "[1013, 'exit', 'съезд', 'first exit|', 'первый съезд | ', 'congress | convention | ']\n",
      "съезд ok\n"
     ]
    },
    {
     "name": "stderr",
     "output_type": "stream",
     "text": [
      "\n",
      "\n",
      "\n",
      "\n",
      " 75%|███████▍  | 1014/1358 [16:01<07:00,  1.22s/it]\u001b[A\u001b[A\u001b[A\u001b[A"
     ]
    },
    {
     "name": "stdout",
     "output_type": "stream",
     "text": [
      "first exit ok\n",
      "[1014, 'exit', 'уход', nan, nan, 'care | departure | withdrawal | maintenance | disengagement | resignation | ']\n"
     ]
    },
    {
     "name": "stderr",
     "output_type": "stream",
     "text": [
      "\n",
      "\n",
      "\n",
      "\n",
      " 75%|███████▍  | 1015/1358 [16:02<05:42,  1.00it/s]\u001b[A\u001b[A\u001b[A\u001b[A"
     ]
    },
    {
     "name": "stdout",
     "output_type": "stream",
     "text": [
      "уход ok\n",
      "no examples\n",
      "[1015, 'exit', 'вывод', 'phased exit|', 'поэтапном выводе войск | ', 'conclusion | output | withdrawal | findings | lesson | implication | inference | drawdown | ']\n",
      "вывод ok\n"
     ]
    },
    {
     "name": "stderr",
     "output_type": "stream",
     "text": [
      "\n",
      "\n",
      "\n",
      "\n",
      " 75%|███████▍  | 1016/1358 [16:03<05:23,  1.06it/s]\u001b[A\u001b[A\u001b[A\u001b[A"
     ]
    },
    {
     "name": "stdout",
     "output_type": "stream",
     "text": [
      "phased exit ok\n",
      "[1016, 'exit', 'развязка', nan, nan, 'junction | interchange | endgame | dénouement | bypass | denouement | anagnorisis | ']\n"
     ]
    },
    {
     "name": "stderr",
     "output_type": "stream",
     "text": [
      "\n",
      "\n",
      "\n",
      "\n",
      " 75%|███████▍  | 1017/1358 [16:03<04:25,  1.28it/s]\u001b[A\u001b[A\u001b[A\u001b[A"
     ]
    },
    {
     "name": "stdout",
     "output_type": "stream",
     "text": [
      "развязка ok\n",
      "no examples\n",
      "[1017, 'exit', 'отступление', nan, nan, 'retreat | departure | setback | diversion | deviation | ']\n"
     ]
    },
    {
     "name": "stderr",
     "output_type": "stream",
     "text": [
      "\n",
      "\n",
      "\n",
      "\n",
      " 75%|███████▍  | 1018/1358 [16:03<03:27,  1.64it/s]\u001b[A\u001b[A\u001b[A\u001b[A"
     ]
    },
    {
     "name": "stdout",
     "output_type": "stream",
     "text": [
      "отступление ok\n",
      "no examples\n",
      "[1018, 'exit', 'выйти', 'to exit any open programs|', 'выйти из всех программ | ', 'go out | go | come out | leave | reach | release | emerge | enter | step | ']\n",
      "выйти ok\n"
     ]
    },
    {
     "name": "stderr",
     "output_type": "stream",
     "text": [
      "\n",
      "\n",
      "\n",
      "\n",
      " 75%|███████▌  | 1019/1358 [16:04<03:55,  1.44it/s]\u001b[A\u001b[A\u001b[A\u001b[A"
     ]
    },
    {
     "name": "stdout",
     "output_type": "stream",
     "text": [
      "to exit any open programs ok\n",
      "[1019, 'exit', 'покинуть', nan, nan, 'leave | flee | leave | abandon | depart | quit | displace | ']\n"
     ]
    },
    {
     "name": "stderr",
     "output_type": "stream",
     "text": [
      "\n",
      "\n",
      "\n",
      "\n",
      " 75%|███████▌  | 1020/1358 [16:05<03:36,  1.56it/s]\u001b[A\u001b[A\u001b[A\u001b[A"
     ]
    },
    {
     "name": "stdout",
     "output_type": "stream",
     "text": [
      "покинуть ok\n",
      "no examples\n",
      "[1020, 'exit', 'выходить', nan, nan, 'go | come out | go out | face | extend | enter | overlook | emerge | withdraw | ']\n"
     ]
    },
    {
     "name": "stderr",
     "output_type": "stream",
     "text": [
      "\n",
      "\n",
      "\n",
      "\n",
      " 75%|███████▌  | 1021/1358 [16:05<02:54,  1.93it/s]\u001b[A\u001b[A\u001b[A\u001b[A"
     ]
    },
    {
     "name": "stdout",
     "output_type": "stream",
     "text": [
      "выходить ok\n",
      "no examples\n",
      "[1021, 'exit', 'покидать', nan, nan, 'leave | leave | flee | abandon | depart | come out of | ']\n"
     ]
    },
    {
     "name": "stderr",
     "output_type": "stream",
     "text": [
      "\n",
      "\n",
      "\n",
      "\n",
      " 75%|███████▌  | 1022/1358 [16:05<02:31,  2.22it/s]\u001b[A\u001b[A\u001b[A\u001b[A"
     ]
    },
    {
     "name": "stdout",
     "output_type": "stream",
     "text": [
      "покидать ok\n",
      "no examples\n",
      "[1022, 'exit', 'уходить', nan, nan, 'go | leave | go away | go out | go | leave | fade | dates back | ']\n"
     ]
    },
    {
     "name": "stderr",
     "output_type": "stream",
     "text": [
      "\n",
      "\n",
      "\n",
      "\n",
      " 75%|███████▌  | 1023/1358 [16:05<02:14,  2.49it/s]\u001b[A\u001b[A\u001b[A\u001b[A"
     ]
    },
    {
     "name": "stdout",
     "output_type": "stream",
     "text": [
      "уходить ok\n",
      "no examples\n",
      "[1023, 'exit', 'завершиться', nan, nan, 'end | conclude | complete | finish | culminate | wrap up | ']\n"
     ]
    },
    {
     "name": "stderr",
     "output_type": "stream",
     "text": [
      "\n",
      "\n",
      "\n",
      "\n",
      " 75%|███████▌  | 1024/1358 [16:06<02:39,  2.10it/s]\u001b[A\u001b[A\u001b[A\u001b[A"
     ]
    },
    {
     "name": "stdout",
     "output_type": "stream",
     "text": [
      "завершиться ok\n",
      "no examples\n",
      "[1024, 'explain', 'объяснить', \"to explain consciousness|to explain concepts|to explain the Maoists' unprecedented triumph|to explain in part|\", 'объяснить сознание | объяснить концепцию | объяснить беспрецедентный триумф Маоистов | частично объяснить | ', 'attribute | ']\n",
      "объяснить ok\n",
      "to explain consciousness ok\n",
      "to explain concepts ok\n",
      "to explain the Maoists' unprecedented triumph ok\n"
     ]
    },
    {
     "name": "stderr",
     "output_type": "stream",
     "text": [
      "\n",
      "\n",
      "\n",
      "\n",
      " 75%|███████▌  | 1025/1358 [16:08<05:36,  1.01s/it]\u001b[A\u001b[A\u001b[A\u001b[A"
     ]
    },
    {
     "name": "stdout",
     "output_type": "stream",
     "text": [
      "to explain in part ok\n",
      "[1025, 'explain', 'объяснять', \"to explain this apparent contradiction|to explain these things|to explain insurance policies|to explain today's problems|\", 'объяснять это очевидное противоречие | объяснять здесь эти вещи | объяснять страховые полисы | объяснять сегодняшние проблемы | ', 'attribute | account for | ']\n",
      "объяснять ok\n",
      "to explain this apparent contradiction ok\n",
      "to explain these things ok\n",
      "to explain insurance policies ok\n"
     ]
    },
    {
     "name": "stderr",
     "output_type": "stream",
     "text": [
      "\n",
      "\n",
      "\n",
      "\n",
      " 76%|███████▌  | 1026/1358 [16:11<08:05,  1.46s/it]\u001b[A\u001b[A\u001b[A\u001b[A"
     ]
    },
    {
     "name": "stdout",
     "output_type": "stream",
     "text": [
      "to explain today's problems ok\n",
      "[1026, 'explain', 'пояснить', nan, nan, 'clarify | ']\n"
     ]
    },
    {
     "name": "stderr",
     "output_type": "stream",
     "text": [
      "\n",
      "\n",
      "\n",
      "\n",
      " 76%|███████▌  | 1027/1358 [16:11<06:17,  1.14s/it]\u001b[A\u001b[A\u001b[A\u001b[A"
     ]
    },
    {
     "name": "stdout",
     "output_type": "stream",
     "text": [
      "пояснить ok\n",
      "no examples\n",
      "[1027, 'explain', 'объясняться', nan, nan, 'stem from | account for | interpret | root | underlie | ']\n"
     ]
    },
    {
     "name": "stderr",
     "output_type": "stream",
     "text": [
      "\n",
      "\n",
      "\n",
      "\n",
      " 76%|███████▌  | 1028/1358 [16:12<04:52,  1.13it/s]\u001b[A\u001b[A\u001b[A\u001b[A"
     ]
    },
    {
     "name": "stdout",
     "output_type": "stream",
     "text": [
      "объясняться ok\n",
      "no examples\n",
      "[1028, 'explain', 'рассказать', nan, nan, 'tell | speak | ']\n"
     ]
    },
    {
     "name": "stderr",
     "output_type": "stream",
     "text": [
      "\n",
      "\n",
      "\n",
      "\n",
      " 76%|███████▌  | 1029/1358 [16:12<03:56,  1.39it/s]\u001b[A\u001b[A\u001b[A\u001b[A"
     ]
    },
    {
     "name": "stdout",
     "output_type": "stream",
     "text": [
      "рассказать ok\n",
      "no examples\n",
      "[1029, 'explain', 'пояснять', nan, nan, 'clarify | ']\n"
     ]
    },
    {
     "name": "stderr",
     "output_type": "stream",
     "text": [
      "\n",
      "\n",
      "\n",
      "\n",
      " 76%|███████▌  | 1030/1358 [16:13<04:20,  1.26it/s]\u001b[A\u001b[A\u001b[A\u001b[A"
     ]
    },
    {
     "name": "stdout",
     "output_type": "stream",
     "text": [
      "пояснять ok\n",
      "no examples\n",
      "[1030, 'explain', 'рассказывать', nan, nan, 'tell | tell | share | talk about | relate | cover | ']\n"
     ]
    },
    {
     "name": "stderr",
     "output_type": "stream",
     "text": [
      "\n",
      "\n",
      "\n",
      "\n",
      " 76%|███████▌  | 1031/1358 [16:13<03:46,  1.44it/s]\u001b[A\u001b[A\u001b[A\u001b[A"
     ]
    },
    {
     "name": "stdout",
     "output_type": "stream",
     "text": [
      "рассказывать ok\n",
      "no examples\n",
      "[1031, 'explain', 'разъяснять', nan, nan, 'expound | elaborate | clarify | ']\n"
     ]
    },
    {
     "name": "stderr",
     "output_type": "stream",
     "text": [
      "\n",
      "\n",
      "\n",
      "\n",
      " 76%|███████▌  | 1032/1358 [16:14<03:10,  1.71it/s]\u001b[A\u001b[A\u001b[A\u001b[A\n",
      "\n",
      "\n",
      "\n",
      " 76%|███████▌  | 1033/1358 [16:14<02:30,  2.16it/s]\u001b[A\u001b[A\u001b[A\u001b[A"
     ]
    },
    {
     "name": "stdout",
     "output_type": "stream",
     "text": [
      "разъяснять ok\n",
      "no examples\n",
      "[1032, 'explain', 'разъяснить', nan, nan, 'clarify | elaborate | spell out | clear up | ']\n",
      "разъяснить ok\n",
      "no examples\n",
      "[1033, 'extra', 'дополнительный', nan, nan, 'additional | further | ']\n"
     ]
    },
    {
     "name": "stderr",
     "output_type": "stream",
     "text": [
      "\n",
      "\n",
      "\n",
      "\n",
      " 76%|███████▌  | 1034/1358 [16:15<03:22,  1.60it/s]\u001b[A\u001b[A\u001b[A\u001b[A"
     ]
    },
    {
     "name": "stdout",
     "output_type": "stream",
     "text": [
      "дополнительный ok\n",
      "no examples\n",
      "[1034, 'extra', 'дополнительная услуга', nan, nan, ' | ']\n"
     ]
    },
    {
     "name": "stderr",
     "output_type": "stream",
     "text": [
      "\n",
      "\n",
      "\n",
      "\n",
      " 76%|███████▌  | 1035/1358 [16:15<03:07,  1.72it/s]\u001b[A\u001b[A\u001b[A\u001b[A"
     ]
    },
    {
     "name": "stdout",
     "output_type": "stream",
     "text": [
      "дополнительная услуга ok\n",
      "no examples\n",
      "[1035, 'extra', 'добавок', nan, nan, 'additive | supplement | addition | supplementation | admixture | ']\n"
     ]
    },
    {
     "name": "stderr",
     "output_type": "stream",
     "text": [
      "\n",
      "\n",
      "\n",
      "\n",
      " 76%|███████▋  | 1036/1358 [16:16<02:39,  2.01it/s]\u001b[A\u001b[A\u001b[A\u001b[A"
     ]
    },
    {
     "name": "stdout",
     "output_type": "stream",
     "text": [
      "добавок ok\n",
      "no examples\n",
      "[1036, 'extra', 'статист', nan, nan, ' | ']\n"
     ]
    },
    {
     "name": "stderr",
     "output_type": "stream",
     "text": [
      "\n",
      "\n",
      "\n",
      "\n",
      " 76%|███████▋  | 1037/1358 [16:16<02:36,  2.05it/s]\u001b[A\u001b[A\u001b[A\u001b[A"
     ]
    },
    {
     "name": "stdout",
     "output_type": "stream",
     "text": [
      "статист ok\n",
      "no examples\n",
      "[1037, 'extra', 'дополнительное удобство', nan, nan, ' | ']\n"
     ]
    },
    {
     "name": "stderr",
     "output_type": "stream",
     "text": [
      "\n",
      "\n",
      "\n",
      "\n",
      " 76%|███████▋  | 1038/1358 [16:16<02:23,  2.23it/s]\u001b[A\u001b[A\u001b[A\u001b[A"
     ]
    },
    {
     "name": "stdout",
     "output_type": "stream",
     "text": [
      "дополнительное удобство ok\n",
      "no examples\n",
      "[1038, 'fact', 'факт', 'simple fact|interesting fact|historical fact|obvious fact|', 'простой факт | интересный факт | исторический факт | очевидный факт | ', 'evidence | thing | reality | ']\n",
      "факт ok\n",
      "simple fact ok\n",
      "interesting fact ok\n",
      "historical fact ok\n"
     ]
    },
    {
     "name": "stderr",
     "output_type": "stream",
     "text": [
      "\n",
      "\n",
      "\n",
      "\n",
      " 77%|███████▋  | 1039/1358 [16:19<05:07,  1.04it/s]\u001b[A\u001b[A\u001b[A\u001b[A"
     ]
    },
    {
     "name": "stdout",
     "output_type": "stream",
     "text": [
      "obvious fact ok\n",
      "[1039, 'fact', 'обстоятельство', nan, nan, 'circumstance | ']\n"
     ]
    },
    {
     "name": "stderr",
     "output_type": "stream",
     "text": [
      "\n",
      "\n",
      "\n",
      "\n",
      " 77%|███████▋  | 1040/1358 [16:19<04:52,  1.09it/s]\u001b[A\u001b[A\u001b[A\u001b[A"
     ]
    },
    {
     "name": "stdout",
     "output_type": "stream",
     "text": [
      "обстоятельство ok\n",
      "no examples\n",
      "[1040, 'fail', 'фэйл', nan, nan, ' | ']\n"
     ]
    },
    {
     "name": "stderr",
     "output_type": "stream",
     "text": [
      "\n",
      "\n",
      "\n",
      "\n",
      " 77%|███████▋  | 1041/1358 [16:21<05:42,  1.08s/it]\u001b[A\u001b[A\u001b[A\u001b[A"
     ]
    },
    {
     "name": "stdout",
     "output_type": "stream",
     "text": [
      "фэйл ok\n",
      "no examples\n",
      "[1041, 'fail', 'провалиться', nan, nan, 'collapse | flunk | break down | fail miserably | ']\n"
     ]
    },
    {
     "name": "stderr",
     "output_type": "stream",
     "text": [
      "\n",
      "\n",
      "\n",
      "\n",
      " 77%|███████▋  | 1042/1358 [16:21<04:47,  1.10it/s]\u001b[A\u001b[A\u001b[A\u001b[A"
     ]
    },
    {
     "name": "stdout",
     "output_type": "stream",
     "text": [
      "провалиться ok\n",
      "no examples\n",
      "[1042, 'fail', 'обанкротиться', nan, nan, 'go under | collapse | ']\n"
     ]
    },
    {
     "name": "stderr",
     "output_type": "stream",
     "text": [
      "\n",
      "\n",
      "\n",
      "\n",
      " 77%|███████▋  | 1043/1358 [16:22<04:07,  1.27it/s]\u001b[A\u001b[A\u001b[A\u001b[A"
     ]
    },
    {
     "name": "stdout",
     "output_type": "stream",
     "text": [
      "обанкротиться ok\n",
      "no examples\n",
      "[1043, 'fail', 'потерпеть неудачу', nan, nan, ' | ']\n"
     ]
    },
    {
     "name": "stderr",
     "output_type": "stream",
     "text": [
      "\n",
      "\n",
      "\n",
      "\n",
      " 77%|███████▋  | 1044/1358 [16:23<04:29,  1.17it/s]\u001b[A\u001b[A\u001b[A\u001b[A"
     ]
    },
    {
     "name": "stdout",
     "output_type": "stream",
     "text": [
      "потерпеть неудачу ok\n",
      "no examples\n",
      "[1044, 'fail', 'несостояться', nan, nan, ' | ']\n"
     ]
    },
    {
     "name": "stderr",
     "output_type": "stream",
     "text": [
      "\n",
      "\n",
      "\n",
      "\n",
      " 77%|███████▋  | 1045/1358 [16:23<03:53,  1.34it/s]\u001b[A\u001b[A\u001b[A\u001b[A"
     ]
    },
    {
     "name": "stdout",
     "output_type": "stream",
     "text": [
      "несостояться ok\n",
      "no examples\n",
      "[1045, 'fail', 'провалить', 'to fail in your exam|to fail the test|', 'провалить экзамен | провалить тест | ', 'disrupt | ']\n",
      "провалить ok\n",
      "to fail in your exam ok\n"
     ]
    },
    {
     "name": "stderr",
     "output_type": "stream",
     "text": [
      "\n",
      "\n",
      "\n",
      "\n",
      " 77%|███████▋  | 1046/1358 [16:25<04:49,  1.08it/s]\u001b[A\u001b[A\u001b[A\u001b[A"
     ]
    },
    {
     "name": "stdout",
     "output_type": "stream",
     "text": [
      "to fail the test ok\n",
      "[1046, 'fail', 'терпеть неудачи', nan, nan, ' | ']\n"
     ]
    },
    {
     "name": "stderr",
     "output_type": "stream",
     "text": [
      "\n",
      "\n",
      "\n",
      "\n",
      " 77%|███████▋  | 1047/1358 [16:25<03:42,  1.40it/s]\u001b[A\u001b[A\u001b[A\u001b[A"
     ]
    },
    {
     "name": "stdout",
     "output_type": "stream",
     "text": [
      "терпеть неудачи ok\n",
      "no examples\n",
      "[1047, 'fail', 'потерпеть крах', nan, nan, ' | ']\n"
     ]
    },
    {
     "name": "stderr",
     "output_type": "stream",
     "text": [
      "\n",
      "\n",
      "\n",
      "\n",
      " 77%|███████▋  | 1048/1358 [16:25<03:11,  1.62it/s]\u001b[A\u001b[A\u001b[A\u001b[A"
     ]
    },
    {
     "name": "stdout",
     "output_type": "stream",
     "text": [
      "потерпеть крах ok\n",
      "no examples\n",
      "[1048, 'fail', 'подвести', nan, nan, 'sum up | disappoint | summarize | let down | ']\n"
     ]
    },
    {
     "name": "stderr",
     "output_type": "stream",
     "text": [
      "\n",
      "\n",
      "\n",
      "\n",
      " 77%|███████▋  | 1049/1358 [16:26<03:03,  1.69it/s]\u001b[A\u001b[A\u001b[A\u001b[A"
     ]
    },
    {
     "name": "stdout",
     "output_type": "stream",
     "text": [
      "подвести ok\n",
      "no examples\n",
      "[1049, 'fail', 'не смочь', nan, nan, ' | ']\n"
     ]
    },
    {
     "name": "stderr",
     "output_type": "stream",
     "text": [
      "\n",
      "\n",
      "\n",
      "\n",
      " 77%|███████▋  | 1050/1358 [16:27<03:12,  1.60it/s]\u001b[A\u001b[A\u001b[A\u001b[A"
     ]
    },
    {
     "name": "stdout",
     "output_type": "stream",
     "text": [
      "не смочь ok\n",
      "no examples\n",
      "[1050, 'fair', 'справедливый', nan, nan, 'just | equitable | righteous | ']\n"
     ]
    },
    {
     "name": "stderr",
     "output_type": "stream",
     "text": [
      "\n",
      "\n",
      "\n",
      "\n",
      " 77%|███████▋  | 1051/1358 [16:27<02:39,  1.92it/s]\u001b[A\u001b[A\u001b[A\u001b[A"
     ]
    },
    {
     "name": "stdout",
     "output_type": "stream",
     "text": [
      "справедливый ok\n",
      "no examples\n",
      "[1051, 'fair', 'честный', nan, nan, 'honest | honourable | ']\n"
     ]
    },
    {
     "name": "stderr",
     "output_type": "stream",
     "text": [
      "\n",
      "\n",
      "\n",
      "\n",
      " 77%|███████▋  | 1052/1358 [16:27<02:18,  2.21it/s]\u001b[A\u001b[A\u001b[A\u001b[A"
     ]
    },
    {
     "name": "stdout",
     "output_type": "stream",
     "text": [
      "честный ok\n",
      "no examples\n",
      "[1052, 'fair', 'беспристрастный', nan, nan, 'impartial | dispassionate | unbiased | even-handed | candid | impersonal | non-partisan | ']\n"
     ]
    },
    {
     "name": "stderr",
     "output_type": "stream",
     "text": [
      "\n",
      "\n",
      "\n",
      "\n",
      " 78%|███████▊  | 1053/1358 [16:28<02:20,  2.17it/s]\u001b[A\u001b[A\u001b[A\u001b[A"
     ]
    },
    {
     "name": "stdout",
     "output_type": "stream",
     "text": [
      "беспристрастный ok\n",
      "no examples\n",
      "[1053, 'fair', 'добросовестный', nan, nan, 'conscientious | diligent | ']\n"
     ]
    },
    {
     "name": "stderr",
     "output_type": "stream",
     "text": [
      "\n",
      "\n",
      "\n",
      "\n",
      " 78%|███████▊  | 1054/1358 [16:29<04:04,  1.24it/s]\u001b[A\u001b[A\u001b[A\u001b[A"
     ]
    },
    {
     "name": "stdout",
     "output_type": "stream",
     "text": [
      "добросовестный ok\n",
      "no examples\n",
      "[1054, 'fair', 'ярмарка', 'trade fair|international fair|job fair|book fair|', 'торговая ярмарка | международная ярмарка | ярмарка вакансий | книжная ярмарка | ', 'trade fair | ']\n",
      "ярмарка ok\n",
      "trade fair ok\n",
      "international fair ok\n",
      "job fair ok\n"
     ]
    },
    {
     "name": "stderr",
     "output_type": "stream",
     "text": [
      "\n",
      "\n",
      "\n",
      "\n",
      " 78%|███████▊  | 1055/1358 [16:33<07:48,  1.55s/it]\u001b[A\u001b[A\u001b[A\u001b[A"
     ]
    },
    {
     "name": "stdout",
     "output_type": "stream",
     "text": [
      "book fair ok\n",
      "[1055, 'fair', 'выставка', \"world's fair|international trade fair|building fair|\", 'Всемирная выставка | международная выставка | строительная выставка | ', 'exhibition | show | exhibit | expo | exposition | trade fair | trade show | ']\n",
      "выставка ok\n",
      "world's fair ok\n",
      "international trade fair ok\n"
     ]
    },
    {
     "name": "stderr",
     "output_type": "stream",
     "text": [
      "\n",
      "\n",
      "\n",
      "\n",
      " 78%|███████▊  | 1056/1358 [16:35<08:50,  1.76s/it]\u001b[A\u001b[A\u001b[A\u001b[A"
     ]
    },
    {
     "name": "stdout",
     "output_type": "stream",
     "text": [
      "building fair ok\n",
      "[1056, 'fall', 'падение', \"communism's fall|free fall|serious fall|price fall|\", 'падение коммунизма | свободное падение | серьезное падение | падение цен | ', 'decline | collapse | drop | downfall | crash | demise | dip | plunge | ']\n",
      "падение ok\n",
      "communism's fall ok\n",
      "free fall ok\n",
      "serious fall ok\n"
     ]
    },
    {
     "name": "stderr",
     "output_type": "stream",
     "text": [
      "\n",
      "\n",
      "\n",
      "\n",
      " 78%|███████▊  | 1057/1358 [16:37<10:01,  2.00s/it]\u001b[A\u001b[A\u001b[A\u001b[A"
     ]
    },
    {
     "name": "stdout",
     "output_type": "stream",
     "text": [
      "price fall ok\n",
      "[1057, 'fall', 'осень', 'next fall|', 'следующую осень | ', 'autumn | ']\n",
      "осень ok\n"
     ]
    },
    {
     "name": "stderr",
     "output_type": "stream",
     "text": [
      "\n",
      "\n",
      "\n",
      "\n",
      " 78%|███████▊  | 1058/1358 [16:38<08:04,  1.62s/it]\u001b[A\u001b[A\u001b[A\u001b[A"
     ]
    },
    {
     "name": "stdout",
     "output_type": "stream",
     "text": [
      "next fall ok\n",
      "[1058, 'fall', 'спад', nan, nan, 'recession | decline | downturn | slowdown | drop | slump | contraction | bust | ']\n"
     ]
    },
    {
     "name": "stderr",
     "output_type": "stream",
     "text": [
      "\n",
      "\n",
      "\n",
      "\n",
      " 78%|███████▊  | 1059/1358 [16:39<06:33,  1.32s/it]\u001b[A\u001b[A\u001b[A\u001b[A"
     ]
    },
    {
     "name": "stdout",
     "output_type": "stream",
     "text": [
      "спад ok\n",
      "no examples\n",
      "[1059, 'fall', 'водопад', nan, nan, 'waterfall | cataract | falling water | ']\n"
     ]
    },
    {
     "name": "stderr",
     "output_type": "stream",
     "text": [
      "\n",
      "\n",
      "\n",
      "\n",
      " 78%|███████▊  | 1060/1358 [16:39<05:21,  1.08s/it]\u001b[A\u001b[A\u001b[A\u001b[A"
     ]
    },
    {
     "name": "stdout",
     "output_type": "stream",
     "text": [
      "водопад ok\n",
      "no examples\n",
      "[1060, 'fall', 'снижение', 'fall in child mortality|', 'снижение детской смертности | ', 'reduction | decline | decrease | cut | drop | descent | depreciation | cutting | ']\n",
      "снижение ok\n"
     ]
    },
    {
     "name": "stderr",
     "output_type": "stream",
     "text": [
      "\n",
      "\n",
      "\n",
      "\n",
      " 78%|███████▊  | 1061/1358 [16:40<04:31,  1.09it/s]\u001b[A\u001b[A\u001b[A\u001b[A"
     ]
    },
    {
     "name": "stdout",
     "output_type": "stream",
     "text": [
      "fall in child mortality ok\n",
      "[1061, 'fall', 'свержение', nan, nan, 'overthrow | ouster | removal | ']\n"
     ]
    },
    {
     "name": "stderr",
     "output_type": "stream",
     "text": [
      "\n",
      "\n",
      "\n",
      "\n",
      " 78%|███████▊  | 1062/1358 [16:40<03:31,  1.40it/s]\u001b[A\u001b[A\u001b[A\u001b[A"
     ]
    },
    {
     "name": "stdout",
     "output_type": "stream",
     "text": [
      "свержение ok\n",
      "no examples\n",
      "[1062, 'fall', 'понижение', 'fall of income indices|', 'понижения индексов дохода | ', 'decline | reduction | cut | drop | decrease | depreciation | dent | ']\n",
      "понижение ok\n"
     ]
    },
    {
     "name": "stderr",
     "output_type": "stream",
     "text": [
      "\n",
      "\n",
      "\n",
      "\n",
      " 78%|███████▊  | 1063/1358 [16:41<03:18,  1.49it/s]\u001b[A\u001b[A\u001b[A\u001b[A"
     ]
    },
    {
     "name": "stdout",
     "output_type": "stream",
     "text": [
      "fall of income indices ok\n",
      "[1063, 'fall', 'грехопадение', nan, nan, ' | ']\n"
     ]
    },
    {
     "name": "stderr",
     "output_type": "stream",
     "text": [
      "\n",
      "\n",
      "\n",
      "\n",
      " 78%|███████▊  | 1064/1358 [16:41<02:39,  1.84it/s]\u001b[A\u001b[A\u001b[A\u001b[A"
     ]
    },
    {
     "name": "stdout",
     "output_type": "stream",
     "text": [
      "грехопадение ok\n",
      "no examples\n",
      "[1064, 'fall', 'упадок', nan, nan, 'decline | decay | demise | collapse | decadence | breakdown | degradation | slippage | shortfall | ']\n"
     ]
    },
    {
     "name": "stderr",
     "output_type": "stream",
     "text": [
      "\n",
      "\n",
      "\n",
      "\n",
      " 78%|███████▊  | 1065/1358 [16:41<02:35,  1.88it/s]\u001b[A\u001b[A\u001b[A\u001b[A"
     ]
    },
    {
     "name": "stdout",
     "output_type": "stream",
     "text": [
      "упадок ok\n",
      "no examples\n",
      "[1065, 'fall', 'упасть', 'to fall sharply|to fall downward|to fall more sharply|to fall again|', 'резко упасть | упасть вниз | упасть ниже | снова упасть | ', 'drop | decline | fall down | collapse | plunge | plummet | sink | ']\n",
      "упасть ok\n",
      "to fall sharply ok\n",
      "to fall downward ok\n",
      "to fall more sharply ok\n"
     ]
    },
    {
     "name": "stderr",
     "output_type": "stream",
     "text": [
      "\n",
      "\n",
      "\n",
      "\n",
      " 78%|███████▊  | 1066/1358 [16:44<05:08,  1.06s/it]\u001b[A\u001b[A\u001b[A\u001b[A"
     ]
    },
    {
     "name": "stdout",
     "output_type": "stream",
     "text": [
      "to fall again ok\n",
      "[1066, 'fall', 'падать', 'to fall everywhere|to fall in the forest|', 'во всем мире падать | падать в лесу | ', 'drop | decline | go down | fall down | collapse | depreciate | crash | ']\n",
      "падать ok\n",
      "to fall everywhere ok\n"
     ]
    },
    {
     "name": "stderr",
     "output_type": "stream",
     "text": [
      "\n",
      "\n",
      "\n",
      "\n",
      " 79%|███████▊  | 1067/1358 [16:45<05:42,  1.18s/it]\u001b[A\u001b[A\u001b[A\u001b[A"
     ]
    },
    {
     "name": "stdout",
     "output_type": "stream",
     "text": [
      "to fall in the forest ok\n",
      "[1067, 'fall', 'снизиться', nan, nan, 'decline | drop | decrease | diminish | reduce | go down | lower | slow | ']\n"
     ]
    },
    {
     "name": "stderr",
     "output_type": "stream",
     "text": [
      "\n",
      "\n",
      "\n",
      "\n",
      " 79%|███████▊  | 1068/1358 [16:45<04:25,  1.09it/s]\u001b[A\u001b[A\u001b[A\u001b[A"
     ]
    },
    {
     "name": "stdout",
     "output_type": "stream",
     "text": [
      "снизиться ok\n",
      "no examples\n",
      "[1068, 'fall', 'пасть', nan, nan, 'collapse | come down | topple | sink | ']\n"
     ]
    },
    {
     "name": "stderr",
     "output_type": "stream",
     "text": [
      "\n",
      "\n",
      "\n",
      "\n",
      " 79%|███████▊  | 1069/1358 [16:46<03:27,  1.39it/s]\u001b[A\u001b[A\u001b[A\u001b[A"
     ]
    },
    {
     "name": "stdout",
     "output_type": "stream",
     "text": [
      "пасть ok\n",
      "no examples\n",
      "[1069, 'fall', 'сократиться', nan, nan, 'reduce | decrease | drop | decline | shrink | contract | diminish | collapse | ']\n"
     ]
    },
    {
     "name": "stderr",
     "output_type": "stream",
     "text": [
      "\n",
      "\n",
      "\n",
      "\n",
      " 79%|███████▉  | 1070/1358 [16:46<03:38,  1.32it/s]\u001b[A\u001b[A\u001b[A\u001b[A"
     ]
    },
    {
     "name": "stdout",
     "output_type": "stream",
     "text": [
      "сократиться ok\n",
      "no examples\n",
      "[1070, 'fall', 'снижаться', nan, nan, 'decline | decrease | go down | come down | drop | diminish | slow | ']\n"
     ]
    },
    {
     "name": "stderr",
     "output_type": "stream",
     "text": [
      "\n",
      "\n",
      "\n",
      "\n",
      " 79%|███████▉  | 1071/1358 [16:48<04:31,  1.06it/s]\u001b[A\u001b[A\u001b[A\u001b[A"
     ]
    },
    {
     "name": "stdout",
     "output_type": "stream",
     "text": [
      "снижаться ok\n",
      "no examples\n",
      "[1071, 'fall', 'погибнуть', nan, nan, 'kill | die | kill | leave | lose | slay | bereave | perish | ']\n"
     ]
    },
    {
     "name": "stderr",
     "output_type": "stream",
     "text": [
      "\n",
      "\n",
      "\n",
      "\n",
      " 79%|███████▉  | 1072/1358 [16:48<03:36,  1.32it/s]\u001b[A\u001b[A\u001b[A\u001b[A"
     ]
    },
    {
     "name": "stdout",
     "output_type": "stream",
     "text": [
      "погибнуть ok\n",
      "no examples\n",
      "[1072, 'fall', 'опускаться', nan, nan, 'drop | lower | sink | descend | go down | come down | get down | come down | ']\n"
     ]
    },
    {
     "name": "stderr",
     "output_type": "stream",
     "text": [
      "\n",
      "\n",
      "\n",
      "\n",
      " 79%|███████▉  | 1073/1358 [16:48<02:55,  1.62it/s]\u001b[A\u001b[A\u001b[A\u001b[A"
     ]
    },
    {
     "name": "stdout",
     "output_type": "stream",
     "text": [
      "опускаться ok\n",
      "no examples\n",
      "[1073, 'fall', 'попалить', 'to fall under a tram-car|', 'попалить под трамвай | ', 'hit | have got | have got to | land | end up | strike | advance | ']\n",
      "попалить ok\n"
     ]
    },
    {
     "name": "stderr",
     "output_type": "stream",
     "text": [
      "\n",
      "\n",
      "\n",
      "\n",
      " 79%|███████▉  | 1074/1358 [16:49<03:16,  1.45it/s]\u001b[A\u001b[A\u001b[A\u001b[A"
     ]
    },
    {
     "name": "stdout",
     "output_type": "stream",
     "text": [
      "to fall under a tram-car ok\n",
      "[1074, 'fall down', 'упасть', nan, nan, 'fall | drop | decline | fall down | collapse | plunge | plummet | sink | fall | ']\n"
     ]
    },
    {
     "name": "stderr",
     "output_type": "stream",
     "text": [
      "\n",
      "\n",
      "\n",
      "\n",
      " 79%|███████▉  | 1075/1358 [16:50<02:39,  1.77it/s]\u001b[A\u001b[A\u001b[A\u001b[A"
     ]
    },
    {
     "name": "stdout",
     "output_type": "stream",
     "text": [
      "упасть ok\n",
      "no examples\n",
      "[1075, 'fall down', 'падать', nan, nan, 'fall | fall | drop | decline | go down | fall down | collapse | depreciate | crash | ']\n"
     ]
    },
    {
     "name": "stderr",
     "output_type": "stream",
     "text": [
      "\n",
      "\n",
      "\n",
      "\n",
      " 79%|███████▉  | 1076/1358 [16:50<02:18,  2.03it/s]\u001b[A\u001b[A\u001b[A\u001b[A"
     ]
    },
    {
     "name": "stdout",
     "output_type": "stream",
     "text": [
      "падать ok\n",
      "no examples\n",
      "[1076, 'fall down', 'развалиться', nan, nan, 'fall apart | collapse | break up | fall down | unravel | break down | ']\n"
     ]
    },
    {
     "name": "stderr",
     "output_type": "stream",
     "text": [
      "\n",
      "\n",
      "\n",
      "\n",
      " 79%|███████▉  | 1077/1358 [16:50<01:59,  2.35it/s]\u001b[A\u001b[A\u001b[A\u001b[A"
     ]
    },
    {
     "name": "stdout",
     "output_type": "stream",
     "text": [
      "развалиться ok\n",
      "no examples\n",
      "[1077, 'fall down', 'уменьшаться', nan, nan, 'decrease | diminish | decline | shrink | shrink | go down | fall down | decrease | wane | ']\n"
     ]
    },
    {
     "name": "stderr",
     "output_type": "stream",
     "text": [
      "\n",
      "\n",
      "\n",
      "\n",
      " 79%|███████▉  | 1078/1358 [16:51<02:10,  2.15it/s]\u001b[A\u001b[A\u001b[A\u001b[A"
     ]
    },
    {
     "name": "stdout",
     "output_type": "stream",
     "text": [
      "уменьшаться ok\n",
      "no examples\n",
      "[1078, 'fall apart', 'развалиться', nan, nan, 'fall apart | collapse | break up | fall down | unravel | break down | ']\n"
     ]
    },
    {
     "name": "stderr",
     "output_type": "stream",
     "text": [
      "\n",
      "\n",
      "\n",
      "\n",
      " 79%|███████▉  | 1079/1358 [16:51<02:02,  2.28it/s]\u001b[A\u001b[A\u001b[A\u001b[A"
     ]
    },
    {
     "name": "stdout",
     "output_type": "stream",
     "text": [
      "развалиться ok\n",
      "no examples\n",
      "[1079, 'fall apart', 'распасться', nan, nan, 'collapse | fall apart | break up | disintegrate | ']\n"
     ]
    },
    {
     "name": "stderr",
     "output_type": "stream",
     "text": [
      "\n",
      "\n",
      "\n",
      "\n",
      " 80%|███████▉  | 1080/1358 [16:51<01:49,  2.55it/s]\u001b[A\u001b[A\u001b[A\u001b[A"
     ]
    },
    {
     "name": "stdout",
     "output_type": "stream",
     "text": [
      "распасться ok\n",
      "no examples\n",
      "[1080, 'fall apart', 'распалиться', nan, nan, 'fall apart | collapse | implode | break up | disintegrate | ']\n"
     ]
    },
    {
     "name": "stderr",
     "output_type": "stream",
     "text": [
      "\n",
      "\n",
      "\n",
      "\n",
      " 80%|███████▉  | 1081/1358 [16:53<03:15,  1.42it/s]\u001b[A\u001b[A\u001b[A\u001b[A"
     ]
    },
    {
     "name": "stdout",
     "output_type": "stream",
     "text": [
      "распалиться ok\n",
      "no examples\n",
      "[1081, 'fall apart', 'разваливаться', nan, nan, 'collapse | fall apart | break down | ']\n"
     ]
    },
    {
     "name": "stderr",
     "output_type": "stream",
     "text": [
      "\n",
      "\n",
      "\n",
      "\n",
      " 80%|███████▉  | 1082/1358 [16:53<02:53,  1.60it/s]\u001b[A\u001b[A\u001b[A\u001b[A"
     ]
    },
    {
     "name": "stdout",
     "output_type": "stream",
     "text": [
      "разваливаться ok\n",
      "no examples\n",
      "[1082, 'fall apart', 'разлагаться', nan, nan, 'demoralize | degrade | decay | fall apart | ']\n"
     ]
    },
    {
     "name": "stderr",
     "output_type": "stream",
     "text": [
      "\n",
      "\n",
      "\n",
      "\n",
      " 80%|███████▉  | 1083/1358 [16:54<02:47,  1.64it/s]\u001b[A\u001b[A\u001b[A\u001b[A"
     ]
    },
    {
     "name": "stdout",
     "output_type": "stream",
     "text": [
      "разлагаться ok\n",
      "no examples\n",
      "[1083, 'fall apart', 'распадаться', nan, nan, 'disintegrate | split | break up | fall apart | ']\n"
     ]
    },
    {
     "name": "stderr",
     "output_type": "stream",
     "text": [
      "\n",
      "\n",
      "\n",
      "\n",
      " 80%|███████▉  | 1084/1358 [16:54<02:21,  1.93it/s]\u001b[A\u001b[A\u001b[A\u001b[A"
     ]
    },
    {
     "name": "stdout",
     "output_type": "stream",
     "text": [
      "распадаться ok\n",
      "no examples\n",
      "[1084, 'fall back', 'прибегать', nan, nan, 'resort | resort | fall back | ']\n"
     ]
    },
    {
     "name": "stderr",
     "output_type": "stream",
     "text": [
      "\n",
      "\n",
      "\n",
      "\n",
      " 80%|███████▉  | 1085/1358 [16:55<02:22,  1.91it/s]\u001b[A\u001b[A\u001b[A\u001b[A"
     ]
    },
    {
     "name": "stdout",
     "output_type": "stream",
     "text": [
      "прибегать ok\n",
      "no examples\n",
      "[1085, 'fall back', 'возвратиться', nan, nan, 'return | return | fall back | reenter | ']\n"
     ]
    },
    {
     "name": "stderr",
     "output_type": "stream",
     "text": [
      "\n",
      "\n",
      "\n",
      "\n",
      " 80%|███████▉  | 1086/1358 [16:55<02:23,  1.89it/s]\u001b[A\u001b[A\u001b[A\u001b[A"
     ]
    },
    {
     "name": "stdout",
     "output_type": "stream",
     "text": [
      "возвратиться ok\n",
      "no examples\n",
      "[1086, 'fall back', 'всегда ссылаться', nan, nan, ' | ']\n"
     ]
    },
    {
     "name": "stderr",
     "output_type": "stream",
     "text": [
      "\n",
      "\n",
      "\n",
      "\n",
      " 80%|████████  | 1087/1358 [16:56<02:35,  1.74it/s]\u001b[A\u001b[A\u001b[A\u001b[A"
     ]
    },
    {
     "name": "stdout",
     "output_type": "stream",
     "text": [
      "всегда ссылаться ok\n",
      "no examples\n",
      "[1087, 'fall back', 'ссылаться', nan, nan, 'invoke | link | refer | refer to | point | quote | cite | fall back | allege | ']\n"
     ]
    },
    {
     "name": "stderr",
     "output_type": "stream",
     "text": [
      "\n",
      "\n",
      "\n",
      "\n",
      " 80%|████████  | 1088/1358 [16:56<02:28,  1.82it/s]\u001b[A\u001b[A\u001b[A\u001b[A"
     ]
    },
    {
     "name": "stdout",
     "output_type": "stream",
     "text": [
      "ссылаться ok\n",
      "no examples\n",
      "[1088, 'fall short', 'не соответствовать', nan, nan, ' | ']\n"
     ]
    },
    {
     "name": "stderr",
     "output_type": "stream",
     "text": [
      "\n",
      "\n",
      "\n",
      "\n",
      " 80%|████████  | 1089/1358 [16:57<02:25,  1.85it/s]\u001b[A\u001b[A\u001b[A\u001b[A"
     ]
    },
    {
     "name": "stdout",
     "output_type": "stream",
     "text": [
      "не соответствовать ok\n",
      "no examples\n",
      "[1089, 'fall short', 'не отвечать', nan, nan, ' | ']\n"
     ]
    },
    {
     "name": "stderr",
     "output_type": "stream",
     "text": [
      "\n",
      "\n",
      "\n",
      "\n",
      " 80%|████████  | 1090/1358 [16:57<02:08,  2.09it/s]\u001b[A\u001b[A\u001b[A\u001b[A"
     ]
    },
    {
     "name": "stdout",
     "output_type": "stream",
     "text": [
      "не отвечать ok\n",
      "no examples\n",
      "[1090, 'agree', 'согласиться', 'to agree sadly|', 'печально согласиться | ', 'accept | admit | ']\n",
      "согласиться ok\n"
     ]
    },
    {
     "name": "stderr",
     "output_type": "stream",
     "text": [
      "\n",
      "\n",
      "\n",
      "\n",
      " 80%|████████  | 1091/1358 [16:58<02:50,  1.57it/s]\u001b[A\u001b[A\u001b[A\u001b[A"
     ]
    },
    {
     "name": "stdout",
     "output_type": "stream",
     "text": [
      "to agree sadly ok\n",
      "[1091, 'agree', 'соглашаться', nan, nan, 'accept | consent | admit | acknowledge | ']\n"
     ]
    },
    {
     "name": "stderr",
     "output_type": "stream",
     "text": [
      "\n",
      "\n",
      "\n",
      "\n",
      " 80%|████████  | 1092/1358 [16:59<02:46,  1.60it/s]\u001b[A\u001b[A\u001b[A\u001b[A"
     ]
    },
    {
     "name": "stdout",
     "output_type": "stream",
     "text": [
      "соглашаться ok\n",
      "no examples\n",
      "[1092, 'agree', 'договориться', nan, nan, 'arrange | negotiate | make arrangements | ']\n"
     ]
    },
    {
     "name": "stderr",
     "output_type": "stream",
     "text": [
      "\n",
      "\n",
      "\n",
      "\n",
      " 80%|████████  | 1093/1358 [16:59<02:44,  1.61it/s]\u001b[A\u001b[A\u001b[A\u001b[A"
     ]
    },
    {
     "name": "stdout",
     "output_type": "stream",
     "text": [
      "договориться ok\n",
      "no examples\n",
      "[1093, 'agree', 'согласовать', nan, nan, 'coordinate | agree upon | reconcile | negotiate | harmonize | finalize | concert | customize | ']\n"
     ]
    },
    {
     "name": "stderr",
     "output_type": "stream",
     "text": [
      "\n",
      "\n",
      "\n",
      "\n",
      " 81%|████████  | 1094/1358 [17:00<02:22,  1.86it/s]\u001b[A\u001b[A\u001b[A\u001b[A"
     ]
    },
    {
     "name": "stdout",
     "output_type": "stream",
     "text": [
      "согласовать ok\n",
      "no examples\n",
      "[1094, 'agree', 'сходиться', nan, nan, 'converge | come together | ']\n"
     ]
    },
    {
     "name": "stderr",
     "output_type": "stream",
     "text": [
      "\n",
      "\n",
      "\n",
      "\n",
      " 81%|████████  | 1095/1358 [17:01<03:05,  1.42it/s]\u001b[A\u001b[A\u001b[A\u001b[A\n",
      "\n",
      "\n",
      "\n",
      " 81%|████████  | 1096/1358 [17:01<02:23,  1.83it/s]\u001b[A\u001b[A\u001b[A\u001b[A"
     ]
    },
    {
     "name": "stdout",
     "output_type": "stream",
     "text": [
      "сходиться ok\n",
      "no examples\n",
      "[1095, 'agree', 'прислать', nan, nan, 'send | come | come | arrive | submit | ']\n",
      "прислать ok\n",
      "no examples\n",
      "[1096, 'agree', 'обязоваться', nan, nan, 'undertake | shall | ']\n"
     ]
    },
    {
     "name": "stderr",
     "output_type": "stream",
     "text": [
      "\n",
      "\n",
      "\n",
      "\n",
      " 81%|████████  | 1097/1358 [17:02<02:13,  1.95it/s]\u001b[A\u001b[A\u001b[A\u001b[A"
     ]
    },
    {
     "name": "stdout",
     "output_type": "stream",
     "text": [
      "обязоваться ok\n",
      "no examples\n",
      "[1097, 'agree', 'удаваться', nan, nan, 'succeed | manage | fail | go right | disperse | ']\n"
     ]
    },
    {
     "name": "stderr",
     "output_type": "stream",
     "text": [
      "\n",
      "\n",
      "\n",
      "\n",
      " 81%|████████  | 1098/1358 [17:02<02:19,  1.87it/s]\u001b[A\u001b[A\u001b[A\u001b[A"
     ]
    },
    {
     "name": "stdout",
     "output_type": "stream",
     "text": [
      "удаваться ok\n",
      "no examples\n",
      "[1098, 'agree upon', 'согласовать', nan, nan, 'agree | coordinate | reconcile | negotiate | harmonize | finalize | concert | customize | ']\n"
     ]
    },
    {
     "name": "stderr",
     "output_type": "stream",
     "text": [
      "\n",
      "\n",
      "\n",
      "\n",
      " 81%|████████  | 1099/1358 [17:02<02:00,  2.15it/s]\u001b[A\u001b[A\u001b[A\u001b[A"
     ]
    },
    {
     "name": "stdout",
     "output_type": "stream",
     "text": [
      "согласовать ok\n",
      "no examples\n",
      "[1099, 'agree upon', 'оговорить', nan, nan, 'stipulate | state | ']\n"
     ]
    },
    {
     "name": "stderr",
     "output_type": "stream",
     "text": [
      "\n",
      "\n",
      "\n",
      "\n",
      " 81%|████████  | 1100/1358 [17:03<02:02,  2.10it/s]\u001b[A\u001b[A\u001b[A\u001b[A"
     ]
    },
    {
     "name": "stdout",
     "output_type": "stream",
     "text": [
      "оговорить ok\n",
      "no examples\n",
      "[1100, 'agree upon', 'согласовываться', nan, nan, ' | ']\n"
     ]
    },
    {
     "name": "stderr",
     "output_type": "stream",
     "text": [
      "\n",
      "\n",
      "\n",
      "\n",
      " 81%|████████  | 1101/1358 [17:03<02:00,  2.14it/s]\u001b[A\u001b[A\u001b[A\u001b[A"
     ]
    },
    {
     "name": "stdout",
     "output_type": "stream",
     "text": [
      "согласовываться ok\n",
      "no examples\n",
      "[1101, 'air', 'воздушный', nan, nan, 'aerial | airborne | airy | overhead | ']\n"
     ]
    },
    {
     "name": "stderr",
     "output_type": "stream",
     "text": [
      "\n",
      "\n",
      "\n",
      "\n",
      " 81%|████████  | 1102/1358 [17:05<03:28,  1.23it/s]\u001b[A\u001b[A\u001b[A\u001b[A"
     ]
    },
    {
     "name": "stdout",
     "output_type": "stream",
     "text": [
      "воздушный ok\n",
      "no examples\n",
      "[1102, 'air', 'авиационный', nan, nan, 'aeronautical | aerial | plane | airborne | ']\n"
     ]
    },
    {
     "name": "stderr",
     "output_type": "stream",
     "text": [
      "\n",
      "\n",
      "\n",
      "\n",
      " 81%|████████  | 1103/1358 [17:07<04:22,  1.03s/it]\u001b[A\u001b[A\u001b[A\u001b[A"
     ]
    },
    {
     "name": "stdout",
     "output_type": "stream",
     "text": [
      "авиационный ok\n",
      "no examples\n",
      "[1103, 'air', 'противовоздушный', nan, nan, ' | ']\n"
     ]
    },
    {
     "name": "stderr",
     "output_type": "stream",
     "text": [
      "\n",
      "\n",
      "\n",
      "\n",
      " 81%|████████▏ | 1104/1358 [17:07<04:01,  1.05it/s]\u001b[A\u001b[A\u001b[A\u001b[A"
     ]
    },
    {
     "name": "stdout",
     "output_type": "stream",
     "text": [
      "противовоздушный ok\n",
      "no examples\n",
      "[1104, 'air', 'пневматический', nan, nan, 'pneumatic | ']\n"
     ]
    },
    {
     "name": "stderr",
     "output_type": "stream",
     "text": [
      "\n",
      "\n",
      "\n",
      "\n",
      " 81%|████████▏ | 1105/1358 [17:08<03:20,  1.26it/s]\u001b[A\u001b[A\u001b[A\u001b[A"
     ]
    },
    {
     "name": "stdout",
     "output_type": "stream",
     "text": [
      "пневматический ok\n",
      "no examples\n",
      "[1105, 'air', 'атмосферный', nan, nan, 'atmospheric | barometric | airborne | ambient | ']\n"
     ]
    },
    {
     "name": "stderr",
     "output_type": "stream",
     "text": [
      "\n",
      "\n",
      "\n",
      "\n",
      " 81%|████████▏ | 1106/1358 [17:08<03:03,  1.38it/s]\u001b[A\u001b[A\u001b[A\u001b[A"
     ]
    },
    {
     "name": "stdout",
     "output_type": "stream",
     "text": [
      "атмосферный ok\n",
      "no examples\n",
      "[1106, 'air', 'военно-воздушный', nan, nan, 'air force | ']\n"
     ]
    },
    {
     "name": "stderr",
     "output_type": "stream",
     "text": [
      "\n",
      "\n",
      "\n",
      "\n",
      " 82%|████████▏ | 1107/1358 [17:09<02:38,  1.58it/s]\u001b[A\u001b[A\u001b[A\u001b[A"
     ]
    },
    {
     "name": "stdout",
     "output_type": "stream",
     "text": [
      "военно-воздушный ok\n",
      "no examples\n",
      "[1107, 'air', 'вентиляционный', nan, nan, ' | ']\n"
     ]
    },
    {
     "name": "stderr",
     "output_type": "stream",
     "text": [
      "\n",
      "\n",
      "\n",
      "\n",
      " 82%|████████▏ | 1108/1358 [17:10<02:55,  1.42it/s]\u001b[A\u001b[A\u001b[A\u001b[A"
     ]
    },
    {
     "name": "stdout",
     "output_type": "stream",
     "text": [
      "вентиляционный ok\n",
      "no examples\n",
      "[1108, 'air', 'воздух', 'fresh air|compressed air|mountain air|clean air|', 'свежий воздух | сжатый воздух | горный воздух | чистый воздух | ', ' | ']\n",
      "воздух ok\n",
      "fresh air ok\n",
      "compressed air ok\n",
      "mountain air ok\n"
     ]
    },
    {
     "name": "stderr",
     "output_type": "stream",
     "text": [
      "\n",
      "\n",
      "\n",
      "\n",
      " 82%|████████▏ | 1109/1358 [17:12<05:06,  1.23s/it]\u001b[A\u001b[A\u001b[A\u001b[A"
     ]
    },
    {
     "name": "stdout",
     "output_type": "stream",
     "text": [
      "clean air ok\n",
      "[1109, 'air', 'эфир', nan, nan, 'ether | broadcast | ester | airwave | airtime | broadcasting | ']\n"
     ]
    },
    {
     "name": "stderr",
     "output_type": "stream",
     "text": [
      "\n",
      "\n",
      "\n",
      "\n",
      " 82%|████████▏ | 1110/1358 [17:12<03:55,  1.05it/s]\u001b[A\u001b[A\u001b[A\u001b[A"
     ]
    },
    {
     "name": "stdout",
     "output_type": "stream",
     "text": [
      "эфир ok\n",
      "no examples\n",
      "[1110, 'air', 'авиация', nan, nan, 'aviation | aircraft | ']\n"
     ]
    },
    {
     "name": "stderr",
     "output_type": "stream",
     "text": [
      "\n",
      "\n",
      "\n",
      "\n",
      " 82%|████████▏ | 1111/1358 [17:13<03:20,  1.23it/s]\u001b[A\u001b[A\u001b[A\u001b[A"
     ]
    },
    {
     "name": "stdout",
     "output_type": "stream",
     "text": [
      "авиация ok\n",
      "no examples\n",
      "[1111, 'air', 'небо', 'open air|', 'открытое небо | ', 'sky | heaven | palate | ']\n",
      "небо ok\n"
     ]
    },
    {
     "name": "stderr",
     "output_type": "stream",
     "text": [
      "\n",
      "\n",
      "\n",
      "\n",
      " 82%|████████▏ | 1112/1358 [17:14<03:27,  1.18it/s]\u001b[A\u001b[A\u001b[A\u001b[A"
     ]
    },
    {
     "name": "stdout",
     "output_type": "stream",
     "text": [
      "open air ok\n",
      "[1112, 'air', 'странслироваться', nan, nan, 'broadcast | ']\n"
     ]
    },
    {
     "name": "stderr",
     "output_type": "stream",
     "text": [
      "\n",
      "\n",
      "\n",
      "\n",
      " 82%|████████▏ | 1113/1358 [17:15<03:31,  1.16it/s]\u001b[A\u001b[A\u001b[A\u001b[A"
     ]
    },
    {
     "name": "stdout",
     "output_type": "stream",
     "text": [
      "странслироваться ok\n",
      "no examples\n",
      "[1113, 'air', 'странслировать', nan, nan, 'broadcast | transmit | ']\n"
     ]
    },
    {
     "name": "stderr",
     "output_type": "stream",
     "text": [
      "\n",
      "\n",
      "\n",
      "\n",
      " 82%|████████▏ | 1114/1358 [17:15<03:12,  1.27it/s]\u001b[A\u001b[A\u001b[A\u001b[A"
     ]
    },
    {
     "name": "stdout",
     "output_type": "stream",
     "text": [
      "странслировать ok\n",
      "no examples\n",
      "[1114, 'air', 'проветривать', nan, nan, ' | ']\n"
     ]
    },
    {
     "name": "stderr",
     "output_type": "stream",
     "text": [
      "\n",
      "\n",
      "\n",
      "\n",
      " 82%|████████▏ | 1115/1358 [17:16<02:34,  1.57it/s]\u001b[A\u001b[A\u001b[A\u001b[A"
     ]
    },
    {
     "name": "stdout",
     "output_type": "stream",
     "text": [
      "проветривать ok\n",
      "no examples\n",
      "[1115, 'airport', 'аэродромный', nan, nan, 'ground | ']\n"
     ]
    },
    {
     "name": "stderr",
     "output_type": "stream",
     "text": [
      "\n",
      "\n",
      "\n",
      "\n",
      " 82%|████████▏ | 1116/1358 [17:16<02:40,  1.51it/s]\u001b[A\u001b[A\u001b[A\u001b[A"
     ]
    },
    {
     "name": "stdout",
     "output_type": "stream",
     "text": [
      "аэродромный ok\n",
      "no examples\n",
      "[1116, 'airport', 'аэропорт', 'international airport|island airport|destination airport|local airport|', 'международный аэропорт | аэропорт острова | аэропорт назначения | Местный аэропорт | ', ' | ']\n",
      "аэропорт ok\n",
      "international airport ok\n",
      "island airport ok\n",
      "destination airport ok\n"
     ]
    },
    {
     "name": "stderr",
     "output_type": "stream",
     "text": [
      "\n",
      "\n",
      "\n",
      "\n",
      " 82%|████████▏ | 1117/1358 [17:19<05:25,  1.35s/it]\u001b[A\u001b[A\u001b[A\u001b[A"
     ]
    },
    {
     "name": "stdout",
     "output_type": "stream",
     "text": [
      "local airport ok\n",
      "[1117, 'fan', 'вентилятор', 'ceiling fan|centrifugal fan|axial fan|electric fan|', 'потолочный вентилятор | радиальный вентилятор | осевые вентиляторы | электрический вентилятор | ', 'ventilator | cooling fan | blower | electric fan | ']\n",
      "вентилятор ok\n",
      "ceiling fan ok\n",
      "centrifugal fan ok\n",
      "axial fan ok\n"
     ]
    },
    {
     "name": "stderr",
     "output_type": "stream",
     "text": [
      "\n",
      "\n",
      "\n",
      "\n",
      " 82%|████████▏ | 1118/1358 [17:21<06:25,  1.61s/it]\u001b[A\u001b[A\u001b[A\u001b[A"
     ]
    },
    {
     "name": "stdout",
     "output_type": "stream",
     "text": [
      "electric fan ok\n",
      "[1118, 'fan', 'фанат', 'football fan|true fan|real fan|long-haired fans|', 'футбольные фанаты | истинных фанатов | настоящий фанат | длинноволосые фанаты | ', 'zealot | fanboy | ']\n",
      "фанат ok\n",
      "football fan ok\n",
      "true fan ok\n",
      "real fan ok\n"
     ]
    },
    {
     "name": "stderr",
     "output_type": "stream",
     "text": [
      "\n",
      "\n",
      "\n",
      "\n",
      " 82%|████████▏ | 1119/1358 [17:25<08:21,  2.10s/it]\u001b[A\u001b[A\u001b[A\u001b[A"
     ]
    },
    {
     "name": "stdout",
     "output_type": "stream",
     "text": [
      "long-haired fans ok\n",
      "[1119, 'fan', 'болельщик', 'Pakistani fans|sports fan|cricket fan|Kazakh fans|', 'пакистанские болельщики | спортивные болельщики | болельщики крикета | казахстанских болельщиков | ', 'supporter | spectator | cricket fan | enthusiast | sports fan | ']\n",
      "болельщик ok\n",
      "Pakistani fans ok\n",
      "sports fan ok\n",
      "cricket fan ok\n"
     ]
    },
    {
     "name": "stderr",
     "output_type": "stream",
     "text": [
      "\n",
      "\n",
      "\n",
      "\n",
      " 82%|████████▏ | 1120/1358 [17:27<08:16,  2.09s/it]\u001b[A\u001b[A\u001b[A\u001b[A"
     ]
    },
    {
     "name": "stdout",
     "output_type": "stream",
     "text": [
      "Kazakh fans ok\n",
      "[1120, 'fan', 'поклонник', 'Erasure fan|old fan|music fan|fan of the band|', 'поклонники Erasure | старые поклонники | поклонники музыки | поклонник группы | ', 'admirer | devotee | lover | aficionado | worshipper | ']\n",
      "поклонник ok\n",
      "Erasure fan ok\n",
      "old fan ok\n",
      "music fan ok\n"
     ]
    },
    {
     "name": "stderr",
     "output_type": "stream",
     "text": [
      "\n",
      "\n",
      "\n",
      "\n",
      " 83%|████████▎ | 1121/1358 [17:29<08:27,  2.14s/it]\u001b[A\u001b[A\u001b[A\u001b[A"
     ]
    },
    {
     "name": "stdout",
     "output_type": "stream",
     "text": [
      "fan of the band ok\n",
      "[1121, 'fan', 'любитель', nan, nan, 'lover | amateur | enthusiast | buff | fancier | ']\n"
     ]
    },
    {
     "name": "stderr",
     "output_type": "stream",
     "text": [
      "\n",
      "\n",
      "\n",
      "\n",
      " 83%|████████▎ | 1122/1358 [17:30<07:38,  1.94s/it]\u001b[A\u001b[A\u001b[A\u001b[A"
     ]
    },
    {
     "name": "stdout",
     "output_type": "stream",
     "text": [
      "любитель ok\n",
      "no examples\n",
      "[1122, 'fan', 'разжигать', nan, nan, 'fuel | foment | incite | ignite | stoke | ']\n"
     ]
    },
    {
     "name": "stderr",
     "output_type": "stream",
     "text": [
      "\n",
      "\n",
      "\n",
      "\n",
      " 83%|████████▎ | 1123/1358 [17:31<05:59,  1.53s/it]\u001b[A\u001b[A\u001b[A\u001b[A\n",
      "\n",
      "\n",
      "\n"
     ]
    },
    {
     "name": "stdout",
     "output_type": "stream",
     "text": [
      "разжигать ok\n",
      "no examples\n",
      "[1123, 'fan', 'раздуть', nan, nan, 'inflate | ']\n",
      "раздуть ok\n",
      "no examples\n"
     ]
    },
    {
     "name": "stderr",
     "output_type": "stream",
     "text": [
      " 83%|████████▎ | 1124/1358 [17:31<04:24,  1.13s/it]\u001b[A\u001b[A\u001b[A\u001b[A"
     ]
    },
    {
     "name": "stdout",
     "output_type": "stream",
     "text": [
      "[1124, 'fan', 'раздувать', nan, nan, 'inflate | swell | ']\n"
     ]
    },
    {
     "name": "stderr",
     "output_type": "stream",
     "text": [
      "\n",
      "\n",
      "\n",
      "\n",
      " 83%|████████▎ | 1125/1358 [17:32<03:25,  1.14it/s]\u001b[A\u001b[A\u001b[A\u001b[A"
     ]
    },
    {
     "name": "stdout",
     "output_type": "stream",
     "text": [
      "раздувать ok\n",
      "no examples\n",
      "[1125, 'fantastic', 'фантастический', nan, nan, ' | ']\n"
     ]
    },
    {
     "name": "stderr",
     "output_type": "stream",
     "text": [
      "\n",
      "\n",
      "\n",
      "\n",
      " 83%|████████▎ | 1126/1358 [17:32<02:55,  1.33it/s]\u001b[A\u001b[A\u001b[A\u001b[A"
     ]
    },
    {
     "name": "stdout",
     "output_type": "stream",
     "text": [
      "фантастический ok\n",
      "no examples\n",
      "[1126, 'fantastic', 'замечательный', nan, nan, 'wonderful | great | remarkable | excellent | nice | amazing | lovely | splendid | ']\n"
     ]
    },
    {
     "name": "stderr",
     "output_type": "stream",
     "text": [
      "\n",
      "\n",
      "\n",
      "\n",
      " 83%|████████▎ | 1127/1358 [17:32<02:16,  1.69it/s]\u001b[A\u001b[A\u001b[A\u001b[A"
     ]
    },
    {
     "name": "stdout",
     "output_type": "stream",
     "text": [
      "замечательный ok\n",
      "no examples\n",
      "[1127, 'fantastic', 'сказочный', nan, nan, 'fabulous | fairy | magic | dream | supernatural | enchanting | ']\n"
     ]
    },
    {
     "name": "stderr",
     "output_type": "stream",
     "text": [
      "\n",
      "\n",
      "\n",
      "\n",
      " 83%|████████▎ | 1128/1358 [17:33<02:06,  1.82it/s]\u001b[A\u001b[A\u001b[A\u001b[A"
     ]
    },
    {
     "name": "stdout",
     "output_type": "stream",
     "text": [
      "сказочный ok\n",
      "no examples\n",
      "[1128, 'fantastic', 'великолепный', nan, nan, 'magnificent | great | beautiful | splendid | excellent | wonderful | superb | stunning | spectacular | ']\n"
     ]
    },
    {
     "name": "stderr",
     "output_type": "stream",
     "text": [
      "\n",
      "\n",
      "\n",
      "\n",
      " 83%|████████▎ | 1129/1358 [17:33<02:00,  1.89it/s]\u001b[A\u001b[A\u001b[A\u001b[A\n",
      "\n",
      "\n",
      "\n",
      " 83%|████████▎ | 1130/1358 [17:33<01:37,  2.33it/s]\u001b[A\u001b[A\u001b[A\u001b[A"
     ]
    },
    {
     "name": "stdout",
     "output_type": "stream",
     "text": [
      "великолепный ok\n",
      "no examples\n",
      "[1129, 'fantastic', 'удивительный', nan, nan, 'amazing | surprising | wonderful | extraordinary | remarkable | astonishing | strange | incredible | fascinating | ']\n",
      "удивительный ok\n",
      "no examples\n",
      "[1130, 'fantastic', 'превосходный', nan, nan, 'excellent | superb | superior | perfect | fine | outstanding | award-win | prime | wonderful | ']"
     ]
    },
    {
     "name": "stderr",
     "output_type": "stream",
     "text": [
      "\n",
      "\n",
      "\n",
      "\n",
      " 83%|████████▎ | 1131/1358 [17:34<01:33,  2.42it/s]\u001b[A\u001b[A\u001b[A\u001b[A"
     ]
    },
    {
     "name": "stdout",
     "output_type": "stream",
     "text": [
      "\n",
      "превосходный ok\n",
      "no examples\n",
      "[1131, 'fantastic', 'невероятный', nan, nan, 'incredible | unbelievable | extraordinary | improbable | tremendous | enormous | amazing | unlikely | fabulous | ']\n"
     ]
    },
    {
     "name": "stderr",
     "output_type": "stream",
     "text": [
      "\n",
      "\n",
      "\n",
      "\n",
      " 83%|████████▎ | 1132/1358 [17:34<01:38,  2.30it/s]\u001b[A\u001b[A\u001b[A\u001b[A"
     ]
    },
    {
     "name": "stdout",
     "output_type": "stream",
     "text": [
      "невероятный ok\n",
      "no examples\n",
      "[1132, 'fantastic', 'причудливый', nan, nan, 'bizarre | quaint | whimsical | fancy | weird | freakish | very fancy | fanciful | ']\n"
     ]
    },
    {
     "name": "stderr",
     "output_type": "stream",
     "text": [
      "\n",
      "\n",
      "\n",
      "\n",
      " 83%|████████▎ | 1133/1358 [17:35<01:43,  2.18it/s]\u001b[A\u001b[A\u001b[A\u001b[A"
     ]
    },
    {
     "name": "stdout",
     "output_type": "stream",
     "text": [
      "причудливый ok\n",
      "no examples\n",
      "[1133, 'far', 'дальний', nan, nan, 'distant | remote | long-range | long distance | long-distance | long-haul | outlying | ']\n"
     ]
    },
    {
     "name": "stderr",
     "output_type": "stream",
     "text": [
      "\n",
      "\n",
      "\n",
      "\n",
      " 84%|████████▎ | 1134/1358 [17:35<01:29,  2.50it/s]\u001b[A\u001b[A\u001b[A\u001b[A"
     ]
    },
    {
     "name": "stdout",
     "output_type": "stream",
     "text": [
      "дальний ok\n",
      "no examples\n",
      "[1134, 'far', 'далекий', nan, nan, 'distant | remote | faraway | far-off | very remote | ']\n"
     ]
    },
    {
     "name": "stderr",
     "output_type": "stream",
     "text": [
      "\n",
      "\n",
      "\n",
      "\n",
      " 84%|████████▎ | 1135/1358 [17:36<01:39,  2.24it/s]\u001b[A\u001b[A\u001b[A\u001b[A"
     ]
    },
    {
     "name": "stdout",
     "output_type": "stream",
     "text": [
      "далекий ok\n",
      "no examples\n",
      "[1135, 'far', 'дальше', nan, nan, 'further | next | future | far-reaching | ']\n"
     ]
    },
    {
     "name": "stderr",
     "output_type": "stream",
     "text": [
      "\n",
      "\n",
      "\n",
      "\n",
      " 84%|████████▎ | 1136/1358 [17:36<01:39,  2.24it/s]\u001b[A\u001b[A\u001b[A\u001b[A"
     ]
    },
    {
     "name": "stdout",
     "output_type": "stream",
     "text": [
      "дальше ok\n",
      "no examples\n",
      "[1136, 'far', 'дальнейший', nan, nan, 'further | future | following | ']\n"
     ]
    },
    {
     "name": "stderr",
     "output_type": "stream",
     "text": [
      "\n",
      "\n",
      "\n",
      "\n",
      " 84%|████████▎ | 1137/1358 [17:36<01:31,  2.42it/s]\u001b[A\u001b[A\u001b[A\u001b[A"
     ]
    },
    {
     "name": "stdout",
     "output_type": "stream",
     "text": [
      "дальнейший ok\n",
      "no examples\n",
      "[1137, 'far', 'крайний', nan, nan, 'extreme | utter | dire | abject | ultimate | ']\n"
     ]
    },
    {
     "name": "stderr",
     "output_type": "stream",
     "text": [
      "\n",
      "\n",
      "\n",
      "\n",
      " 84%|████████▍ | 1138/1358 [17:37<01:20,  2.74it/s]\u001b[A\u001b[A\u001b[A\u001b[A"
     ]
    },
    {
     "name": "stdout",
     "output_type": "stream",
     "text": [
      "крайний ok\n",
      "no examples\n",
      "[1138, 'far', 'гораздо', nan, nan, 'much | a lot | ']\n"
     ]
    },
    {
     "name": "stderr",
     "output_type": "stream",
     "text": [
      "\n",
      "\n",
      "\n",
      "\n",
      " 84%|████████▍ | 1139/1358 [17:38<02:15,  1.61it/s]\u001b[A\u001b[A\u001b[A\u001b[A"
     ]
    },
    {
     "name": "stdout",
     "output_type": "stream",
     "text": [
      "гораздо ok\n",
      "no examples\n",
      "[1139, 'far', 'намного', nan, nan, 'much | a lot | so much | ']\n"
     ]
    },
    {
     "name": "stderr",
     "output_type": "stream",
     "text": [
      "\n",
      "\n",
      "\n",
      "\n",
      " 84%|████████▍ | 1140/1358 [17:39<02:28,  1.47it/s]\u001b[A\u001b[A\u001b[A\u001b[A"
     ]
    },
    {
     "name": "stdout",
     "output_type": "stream",
     "text": [
      "намного ok\n",
      "no examples\n",
      "[1140, 'far', 'далеко', nan, nan, 'far away | so far | ']\n"
     ]
    },
    {
     "name": "stderr",
     "output_type": "stream",
     "text": [
      "\n",
      "\n",
      "\n",
      "\n",
      " 84%|████████▍ | 1141/1358 [17:39<02:09,  1.68it/s]\u001b[A\u001b[A\u001b[A\u001b[A"
     ]
    },
    {
     "name": "stdout",
     "output_type": "stream",
     "text": [
      "далеко ok\n",
      "no examples\n",
      "[1141, 'far', 'значительно', nan, nan, 'significantly | much | considerably | greatly | dramatically | substantially | vastly | well | ']\n"
     ]
    },
    {
     "name": "stderr",
     "output_type": "stream",
     "text": [
      "\n",
      "\n",
      "\n",
      "\n",
      " 84%|████████▍ | 1142/1358 [17:39<01:46,  2.02it/s]\u001b[A\u001b[A\u001b[A\u001b[A"
     ]
    },
    {
     "name": "stdout",
     "output_type": "stream",
     "text": [
      "значительно ok\n",
      "no examples\n",
      "[1142, 'farmer', 'крестьянин', 'landless farmers|Romanian farmers|', 'безземельный крестьянин | румынские крестьяне | ', 'peasant | villager | peasant farmer | peasantry | ']\n",
      "крестьянин ok\n",
      "landless farmers ok\n"
     ]
    },
    {
     "name": "stderr",
     "output_type": "stream",
     "text": [
      "\n",
      "\n",
      "\n",
      "\n",
      " 84%|████████▍ | 1143/1358 [17:41<02:39,  1.34it/s]\u001b[A\u001b[A\u001b[A\u001b[A"
     ]
    },
    {
     "name": "stdout",
     "output_type": "stream",
     "text": [
      "Romanian farmers ok\n",
      "[1143, 'farmer', 'хозяйство', 'cotton farmer|', 'хлопковые фермерские хозяйства | ', 'agriculture | farm | economy | household | ']\n",
      "хозяйство ok\n"
     ]
    },
    {
     "name": "stderr",
     "output_type": "stream",
     "text": [
      "\n",
      "\n",
      "\n",
      "\n",
      " 84%|████████▍ | 1144/1358 [17:41<02:34,  1.39it/s]\u001b[A\u001b[A\u001b[A\u001b[A"
     ]
    },
    {
     "name": "stdout",
     "output_type": "stream",
     "text": [
      "cotton farmer ok\n",
      "[1144, 'farmer', 'дехкане', nan, nan, ' | ']\n"
     ]
    },
    {
     "name": "stderr",
     "output_type": "stream",
     "text": [
      "\n",
      "\n",
      "\n",
      "\n",
      " 84%|████████▍ | 1145/1358 [17:42<02:10,  1.63it/s]\u001b[A\u001b[A\u001b[A\u001b[A"
     ]
    },
    {
     "name": "stdout",
     "output_type": "stream",
     "text": [
      "дехкане ok\n",
      "no examples\n",
      "[1145, 'farmer', 'фермер', 'poverty - stricken farmer|substantial farmer|', 'бедный фермер | зажиточный фермер | ', ' | ']\n",
      "фермер ok\n",
      "poverty - stricken farmer ok\n"
     ]
    },
    {
     "name": "stderr",
     "output_type": "stream",
     "text": [
      "\n",
      "\n",
      "\n",
      "\n",
      " 84%|████████▍ | 1146/1358 [17:43<03:00,  1.17it/s]\u001b[A\u001b[A\u001b[A\u001b[A"
     ]
    },
    {
     "name": "stdout",
     "output_type": "stream",
     "text": [
      "substantial farmer ok\n",
      "[1146, 'farmer', 'сельхозпроизводитель', nan, nan, ' | ']\n"
     ]
    },
    {
     "name": "stderr",
     "output_type": "stream",
     "text": [
      "\n",
      "\n",
      "\n",
      "\n",
      " 84%|████████▍ | 1147/1358 [17:44<03:16,  1.08it/s]\u001b[A\u001b[A\u001b[A\u001b[A"
     ]
    },
    {
     "name": "stdout",
     "output_type": "stream",
     "text": [
      "сельхозпроизводитель ok\n",
      "no examples\n",
      "[1147, 'farmer', 'аграрий', nan, nan, ' | ']\n"
     ]
    },
    {
     "name": "stderr",
     "output_type": "stream",
     "text": [
      "\n",
      "\n",
      "\n",
      "\n",
      " 85%|████████▍ | 1148/1358 [17:45<03:03,  1.14it/s]\u001b[A\u001b[A\u001b[A\u001b[A"
     ]
    },
    {
     "name": "stdout",
     "output_type": "stream",
     "text": [
      "аграрий ok\n",
      "no examples\n",
      "[1148, 'farmer', 'земледелие', nan, nan, 'agriculture | farming | ']\n"
     ]
    },
    {
     "name": "stderr",
     "output_type": "stream",
     "text": [
      "\n",
      "\n",
      "\n",
      "\n",
      " 85%|████████▍ | 1149/1358 [17:45<02:23,  1.46it/s]\u001b[A\u001b[A\u001b[A\u001b[A"
     ]
    },
    {
     "name": "stdout",
     "output_type": "stream",
     "text": [
      "земледелие ok\n",
      "no examples\n",
      "[1149, 'farmer', 'фермерство', nan, nan, ' | ']\n"
     ]
    },
    {
     "name": "stderr",
     "output_type": "stream",
     "text": [
      "\n",
      "\n",
      "\n",
      "\n",
      " 85%|████████▍ | 1150/1358 [17:45<01:54,  1.82it/s]\u001b[A\u001b[A\u001b[A\u001b[A"
     ]
    },
    {
     "name": "stdout",
     "output_type": "stream",
     "text": [
      "фермерство ok\n",
      "no examples\n",
      "[1150, 'farmer', 'дехканин', nan, nan, ' | ']\n"
     ]
    },
    {
     "name": "stderr",
     "output_type": "stream",
     "text": [
      "\n",
      "\n",
      "\n",
      "\n",
      " 85%|████████▍ | 1151/1358 [17:47<03:02,  1.13it/s]\u001b[A\u001b[A\u001b[A\u001b[A"
     ]
    },
    {
     "name": "stdout",
     "output_type": "stream",
     "text": [
      "дехканин ok\n",
      "no examples\n",
      "[1151, 'fashion', 'мода', 'high fashion|economic fashion|children’s fashion|fast fashion|', 'высокая мода | экономической моды | детской моды | быстрой моды | ', 'vogue | ']\n",
      "мода ok\n",
      "high fashion ok\n",
      "economic fashion ok\n",
      "children’s fashion ok\n"
     ]
    },
    {
     "name": "stderr",
     "output_type": "stream",
     "text": [
      "\n",
      "\n",
      "\n",
      "\n",
      " 85%|████████▍ | 1152/1358 [17:50<04:50,  1.41s/it]\u001b[A\u001b[A\u001b[A\u001b[A"
     ]
    },
    {
     "name": "stdout",
     "output_type": "stream",
     "text": [
      "fast fashion ok\n",
      "[1152, 'fashion', 'мод', nan, nan, ' | ']\n"
     ]
    },
    {
     "name": "stderr",
     "output_type": "stream",
     "text": [
      "\n",
      "\n",
      "\n",
      "\n",
      " 85%|████████▍ | 1153/1358 [17:51<04:36,  1.35s/it]\u001b[A\u001b[A\u001b[A\u001b[A"
     ]
    },
    {
     "name": "stdout",
     "output_type": "stream",
     "text": [
      "мод ok\n",
      "no examples\n",
      "[1153, 'fashion', 'образ', nan, nan, 'image | way | manner | pattern | ']\n"
     ]
    },
    {
     "name": "stderr",
     "output_type": "stream",
     "text": [
      "\n",
      "\n",
      "\n",
      "\n",
      " 85%|████████▍ | 1154/1358 [17:51<03:28,  1.02s/it]\u001b[A\u001b[A\u001b[A\u001b[A"
     ]
    },
    {
     "name": "stdout",
     "output_type": "stream",
     "text": [
      "образ ok\n",
      "no examples\n",
      "[1154, 'fashion', 'манера', 'more enlightened fashion|', 'более просвещенной манере | ', 'manner | breeding habits | ']\n",
      "манера ok\n"
     ]
    },
    {
     "name": "stderr",
     "output_type": "stream",
     "text": [
      "\n",
      "\n",
      "\n",
      "\n",
      " 85%|████████▌ | 1155/1358 [17:52<03:13,  1.05it/s]\u001b[A\u001b[A\u001b[A\u001b[A"
     ]
    },
    {
     "name": "stdout",
     "output_type": "stream",
     "text": [
      "more enlightened fashion ok\n",
      "[1155, 'fashion', 'одежда', 'cheap trendy fashion|', 'дешевую модную одежду | ', 'clothes | clothing | dress | garment | wear | apparel | cloth | ']\n",
      "одежда ok\n"
     ]
    },
    {
     "name": "stderr",
     "output_type": "stream",
     "text": [
      "\n",
      "\n",
      "\n",
      "\n",
      " 85%|████████▌ | 1156/1358 [17:53<02:55,  1.15it/s]\u001b[A\u001b[A\u001b[A\u001b[A"
     ]
    },
    {
     "name": "stdout",
     "output_type": "stream",
     "text": [
      "cheap trendy fashion ok\n",
      "[1156, 'quite', 'довольно', nan, nan, 'rather | pretty | fairly | relatively | ']\n"
     ]
    },
    {
     "name": "stderr",
     "output_type": "stream",
     "text": [
      "\n",
      "\n",
      "\n",
      "\n",
      " 85%|████████▌ | 1157/1358 [17:53<02:19,  1.44it/s]\u001b[A\u001b[A\u001b[A\u001b[A"
     ]
    },
    {
     "name": "stdout",
     "output_type": "stream",
     "text": [
      "довольно ok\n",
      "no examples\n",
      "[1157, 'quite', 'совсем', nan, nan, 'very | completely | exactly | entirely | totally | not | absolutely | ']\n"
     ]
    },
    {
     "name": "stderr",
     "output_type": "stream",
     "text": [
      "\n",
      "\n",
      "\n",
      "\n",
      " 85%|████████▌ | 1158/1358 [17:53<01:53,  1.77it/s]\u001b[A\u001b[A\u001b[A\u001b[A"
     ]
    },
    {
     "name": "stdout",
     "output_type": "stream",
     "text": [
      "совсем ok\n",
      "no examples\n",
      "[1158, 'quite', 'достаточно', nan, nan, 'enough | rather | sufficiently | fairly | pretty | reasonably | relatively | ']\n"
     ]
    },
    {
     "name": "stderr",
     "output_type": "stream",
     "text": [
      "\n",
      "\n",
      "\n",
      "\n",
      " 85%|████████▌ | 1159/1358 [17:53<01:31,  2.18it/s]\u001b[A\u001b[A\u001b[A\u001b[A"
     ]
    },
    {
     "name": "stdout",
     "output_type": "stream",
     "text": [
      "достаточно ok\n",
      "no examples\n",
      "[1159, 'quite', 'вполне', nan, nan, 'entirely | pretty | perfectly | ']\n"
     ]
    },
    {
     "name": "stderr",
     "output_type": "stream",
     "text": [
      "\n",
      "\n",
      "\n",
      "\n",
      " 85%|████████▌ | 1160/1358 [17:54<02:04,  1.59it/s]\u001b[A\u001b[A\u001b[A\u001b[A"
     ]
    },
    {
     "name": "stdout",
     "output_type": "stream",
     "text": [
      "вполне ok\n",
      "no examples\n",
      "[1160, 'quite', 'совершенно', nan, nan, 'completely | absolutely | totally | entirely | perfectly | utterly | ']\n"
     ]
    },
    {
     "name": "stderr",
     "output_type": "stream",
     "text": [
      "\n",
      "\n",
      "\n",
      "\n",
      " 85%|████████▌ | 1161/1358 [17:55<02:03,  1.59it/s]\u001b[A\u001b[A\u001b[A\u001b[A"
     ]
    },
    {
     "name": "stdout",
     "output_type": "stream",
     "text": [
      "совершенно ok\n",
      "no examples\n",
      "[1161, 'quite', 'весьма', nan, nan, 'very | highly | rather | extremely | pretty | ']\n"
     ]
    },
    {
     "name": "stderr",
     "output_type": "stream",
     "text": [
      "\n",
      "\n",
      "\n",
      "\n",
      " 86%|████████▌ | 1162/1358 [17:55<01:43,  1.89it/s]\u001b[A\u001b[A\u001b[A\u001b[A"
     ]
    },
    {
     "name": "stdout",
     "output_type": "stream",
     "text": [
      "весьма ok\n",
      "no examples\n",
      "[1162, 'alarm', 'тревога', 'false alarm|growing alarm|', 'ложная тревога | растущей тревоги | ', 'anxiety | concern | worry | dismay | alert | alarm bell | uneasiness | agitation | ']\n",
      "тревога ok\n",
      "false alarm ok\n"
     ]
    },
    {
     "name": "stderr",
     "output_type": "stream",
     "text": [
      "\n",
      "\n",
      "\n",
      "\n",
      " 86%|████████▌ | 1163/1358 [17:58<03:53,  1.20s/it]\u001b[A\u001b[A\u001b[A\u001b[A"
     ]
    },
    {
     "name": "stdout",
     "output_type": "stream",
     "text": [
      "growing alarm ok\n",
      "[1163, 'alarm', 'сигнализация', 'burglar alarm|smoke alarm|audible alarm|', 'охранная сигнализация | противопожарная сигнализация | звуковая сигнализация | ', 'alarm system | signaling | signalling system | burglar alarm | signalling | signalization | ']\n",
      "сигнализация ok\n",
      "burglar alarm ok\n",
      "smoke alarm ok\n"
     ]
    },
    {
     "name": "stderr",
     "output_type": "stream",
     "text": [
      "\n",
      "\n",
      "\n",
      "\n",
      " 86%|████████▌ | 1164/1358 [18:00<04:42,  1.45s/it]\u001b[A\u001b[A\u001b[A\u001b[A"
     ]
    },
    {
     "name": "stdout",
     "output_type": "stream",
     "text": [
      "audible alarm ok\n",
      "[1164, 'alarm', 'будильник', 'built-in alarm|', 'встроенным будильником | ', 'alarm clock | ']\n",
      "будильник ok\n"
     ]
    },
    {
     "name": "stderr",
     "output_type": "stream",
     "text": [
      "\n",
      "\n",
      "\n",
      "\n",
      " 86%|████████▌ | 1165/1358 [18:01<04:03,  1.26s/it]\u001b[A\u001b[A\u001b[A\u001b[A"
     ]
    },
    {
     "name": "stdout",
     "output_type": "stream",
     "text": [
      "built-in alarm ok\n",
      "[1165, 'alarm', 'сигнал', nan, nan, 'signal | message | sign | ']\n"
     ]
    },
    {
     "name": "stderr",
     "output_type": "stream",
     "text": [
      "\n",
      "\n",
      "\n",
      "\n",
      " 86%|████████▌ | 1166/1358 [18:01<03:04,  1.04it/s]\u001b[A\u001b[A\u001b[A\u001b[A"
     ]
    },
    {
     "name": "stdout",
     "output_type": "stream",
     "text": [
      "сигнал ok\n",
      "no examples\n",
      "[1166, 'alarm', 'испуг', nan, nan, 'fright | dismay | ']\n"
     ]
    },
    {
     "name": "stderr",
     "output_type": "stream",
     "text": [
      "\n",
      "\n",
      "\n",
      "\n",
      " 86%|████████▌ | 1167/1358 [18:02<02:27,  1.30it/s]\u001b[A\u001b[A\u001b[A\u001b[A"
     ]
    },
    {
     "name": "stdout",
     "output_type": "stream",
     "text": [
      "испуг ok\n",
      "no examples\n",
      "[1167, 'alarm', 'срабатывание', nan, nan, 'positive | ']\n"
     ]
    },
    {
     "name": "stderr",
     "output_type": "stream",
     "text": [
      "\n",
      "\n",
      "\n",
      "\n",
      " 86%|████████▌ | 1168/1358 [18:02<02:06,  1.50it/s]\u001b[A\u001b[A\u001b[A\u001b[A"
     ]
    },
    {
     "name": "stdout",
     "output_type": "stream",
     "text": [
      "срабатывание ok\n",
      "no examples\n",
      "[1168, 'alarm', 'волнение', nan, nan, 'unrest | excitement | agitation | emotion | disturbance | anxiety | worry | riot | turbulence | ']\n"
     ]
    },
    {
     "name": "stderr",
     "output_type": "stream",
     "text": [
      "\n",
      "\n",
      "\n",
      "\n",
      " 86%|████████▌ | 1169/1358 [18:03<02:29,  1.26it/s]\u001b[A\u001b[A\u001b[A\u001b[A"
     ]
    },
    {
     "name": "stdout",
     "output_type": "stream",
     "text": [
      "волнение ok\n",
      "no examples\n",
      "[1169, 'alarm', 'извещатель', nan, nan, 'detector | ']\n"
     ]
    },
    {
     "name": "stderr",
     "output_type": "stream",
     "text": [
      "\n",
      "\n",
      "\n",
      "\n",
      " 86%|████████▌ | 1170/1358 [18:04<02:13,  1.40it/s]\u001b[A\u001b[A\u001b[A\u001b[A"
     ]
    },
    {
     "name": "stdout",
     "output_type": "stream",
     "text": [
      "извещатель ok\n",
      "no examples\n",
      "[1170, 'alarm', 'настораживать', nan, nan, ' | ']\n"
     ]
    },
    {
     "name": "stderr",
     "output_type": "stream",
     "text": [
      "\n",
      "\n",
      "\n",
      "\n",
      " 86%|████████▌ | 1171/1358 [18:04<02:02,  1.53it/s]\u001b[A\u001b[A\u001b[A\u001b[A"
     ]
    },
    {
     "name": "stdout",
     "output_type": "stream",
     "text": [
      "настораживать ok\n",
      "no examples\n",
      "[1171, 'alarm', 'встревожить', nan, nan, 'trouble | disturb | ']\n"
     ]
    },
    {
     "name": "stderr",
     "output_type": "stream",
     "text": [
      "\n",
      "\n",
      "\n",
      "\n",
      " 86%|████████▋ | 1172/1358 [18:04<01:43,  1.80it/s]\u001b[A\u001b[A\u001b[A\u001b[A"
     ]
    },
    {
     "name": "stdout",
     "output_type": "stream",
     "text": [
      "встревожить ok\n",
      "no examples\n",
      "[1172, 'alarm', 'вызывать тревогу', nan, nan, ' | ']\n"
     ]
    },
    {
     "name": "stderr",
     "output_type": "stream",
     "text": [
      "\n",
      "\n",
      "\n",
      "\n",
      " 86%|████████▋ | 1173/1358 [18:05<01:46,  1.74it/s]\u001b[A\u001b[A\u001b[A\u001b[A"
     ]
    },
    {
     "name": "stdout",
     "output_type": "stream",
     "text": [
      "вызывать тревогу ok\n",
      "no examples\n",
      "[1173, 'alarm', 'беспокоить', nan, nan, 'bother | worry | concern | trouble | disturb | care | harass | afflict | ']\n"
     ]
    },
    {
     "name": "stderr",
     "output_type": "stream",
     "text": [
      "\n",
      "\n",
      "\n",
      "\n",
      " 86%|████████▋ | 1174/1358 [18:05<01:28,  2.08it/s]\u001b[A\u001b[A\u001b[A\u001b[A"
     ]
    },
    {
     "name": "stdout",
     "output_type": "stream",
     "text": [
      "беспокоить ok\n",
      "no examples\n",
      "[1174, 'alarm', 'пугать', nan, nan, 'frighten | scare | terrify | ']\n"
     ]
    },
    {
     "name": "stderr",
     "output_type": "stream",
     "text": [
      "\n",
      "\n",
      "\n",
      "\n",
      " 87%|████████▋ | 1175/1358 [18:06<01:13,  2.49it/s]\u001b[A\u001b[A\u001b[A\u001b[A"
     ]
    },
    {
     "name": "stdout",
     "output_type": "stream",
     "text": [
      "пугать ok\n",
      "no examples\n",
      "[1175, 'alarm', 'обеспокоиться', nan, nan, ' | ']\n"
     ]
    },
    {
     "name": "stderr",
     "output_type": "stream",
     "text": [
      "\n",
      "\n",
      "\n",
      "\n",
      " 87%|████████▋ | 1176/1358 [18:06<01:10,  2.58it/s]\u001b[A\u001b[A\u001b[A\u001b[A"
     ]
    },
    {
     "name": "stdout",
     "output_type": "stream",
     "text": [
      "обеспокоиться ok\n",
      "no examples\n",
      "[1176, 'album', 'альбом', 'first album|debut album|solo album|second album|', 'первый альбом | дебютный альбом | сольный альбом | второй альбом | ', ' | ']\n",
      "альбом ok\n",
      "first album ok\n",
      "debut album ok\n",
      "solo album ok\n"
     ]
    },
    {
     "name": "stderr",
     "output_type": "stream",
     "text": [
      "\n",
      "\n",
      "\n",
      "\n",
      " 87%|████████▋ | 1177/1358 [18:08<02:36,  1.16it/s]\u001b[A\u001b[A\u001b[A\u001b[A"
     ]
    },
    {
     "name": "stdout",
     "output_type": "stream",
     "text": [
      "second album ok\n",
      "[1177, 'alcohol', 'алкоголь', nan, nan, 'liquor | alcoholic drink | ']\n"
     ]
    },
    {
     "name": "stderr",
     "output_type": "stream",
     "text": [
      "\n",
      "\n",
      "\n",
      "\n",
      " 87%|████████▋ | 1178/1358 [18:08<02:02,  1.47it/s]\u001b[A\u001b[A\u001b[A\u001b[A"
     ]
    },
    {
     "name": "stdout",
     "output_type": "stream",
     "text": [
      "алкоголь ok\n",
      "no examples\n",
      "[1178, 'alcohol', 'спирт', 'brandy alcohol|pure alcohol|', 'коньячный спирт | чистый спирт | ', 'spirit | ethanol | ']\n",
      "спирт ok\n",
      "brandy alcohol ok\n"
     ]
    },
    {
     "name": "stderr",
     "output_type": "stream",
     "text": [
      "\n",
      "\n",
      "\n",
      "\n",
      " 87%|████████▋ | 1179/1358 [18:09<02:23,  1.25it/s]\u001b[A\u001b[A\u001b[A\u001b[A"
     ]
    },
    {
     "name": "stdout",
     "output_type": "stream",
     "text": [
      "pure alcohol ok\n",
      "[1179, 'alcohol', 'алкогольный напиток', nan, nan, ' | ']\n"
     ]
    },
    {
     "name": "stderr",
     "output_type": "stream",
     "text": [
      "\n",
      "\n",
      "\n",
      "\n",
      " 87%|████████▋ | 1180/1358 [18:10<02:09,  1.38it/s]\u001b[A\u001b[A\u001b[A\u001b[A"
     ]
    },
    {
     "name": "stdout",
     "output_type": "stream",
     "text": [
      "алкогольный напиток ok\n",
      "no examples\n",
      "[1180, 'alcohol', 'алкоголизм', nan, nan, 'alcoholism | ']\n"
     ]
    },
    {
     "name": "stderr",
     "output_type": "stream",
     "text": [
      "\n",
      "\n",
      "\n",
      "\n",
      " 87%|████████▋ | 1181/1358 [18:10<01:58,  1.49it/s]\u001b[A\u001b[A\u001b[A\u001b[A"
     ]
    },
    {
     "name": "stdout",
     "output_type": "stream",
     "text": [
      "алкоголизм ok\n",
      "no examples\n",
      "[1181, 'alcohol', 'алкогольной продукции', nan, nan, ' | ']\n"
     ]
    },
    {
     "name": "stderr",
     "output_type": "stream",
     "text": [
      "\n",
      "\n",
      "\n",
      "\n",
      " 87%|████████▋ | 1182/1358 [18:11<01:38,  1.78it/s]\u001b[A\u001b[A\u001b[A\u001b[A"
     ]
    },
    {
     "name": "stdout",
     "output_type": "stream",
     "text": [
      "алкогольной продукции ok\n",
      "no examples\n",
      "[1182, 'alcohol', 'спиртной напиток', nan, nan, ' | ']\n"
     ]
    },
    {
     "name": "stderr",
     "output_type": "stream",
     "text": [
      "\n",
      "\n",
      "\n",
      "\n",
      " 87%|████████▋ | 1183/1358 [18:11<01:51,  1.57it/s]\u001b[A\u001b[A\u001b[A\u001b[A"
     ]
    },
    {
     "name": "stdout",
     "output_type": "stream",
     "text": [
      "спиртной напиток ok\n",
      "no examples\n",
      "[1183, 'alcohol', 'употребление алкоголя', 'drinking alcohol|', 'употребление алкоголя | ', ' | ']\n",
      "употребление алкоголя ok\n"
     ]
    },
    {
     "name": "stderr",
     "output_type": "stream",
     "text": [
      "\n",
      "\n",
      "\n",
      "\n",
      " 87%|████████▋ | 1184/1358 [18:12<01:47,  1.62it/s]\u001b[A\u001b[A\u001b[A\u001b[A"
     ]
    },
    {
     "name": "stdout",
     "output_type": "stream",
     "text": [
      "drinking alcohol ok\n",
      "[1184, 'almost', 'почти', nan, nan, 'nearly | about | ']\n"
     ]
    },
    {
     "name": "stderr",
     "output_type": "stream",
     "text": [
      "\n",
      "\n",
      "\n",
      "\n",
      " 87%|████████▋ | 1185/1358 [18:12<01:27,  1.99it/s]\u001b[A\u001b[A\u001b[A\u001b[A"
     ]
    },
    {
     "name": "stdout",
     "output_type": "stream",
     "text": [
      "почти ok\n",
      "no examples\n",
      "[1185, 'almost', 'практический', nan, nan, 'practically | virtually | nearly | basically | ']\n"
     ]
    },
    {
     "name": "stderr",
     "output_type": "stream",
     "text": [
      "\n",
      "\n",
      "\n",
      "\n",
      " 87%|████████▋ | 1186/1358 [18:12<01:14,  2.31it/s]\u001b[A\u001b[A\u001b[A\u001b[A"
     ]
    },
    {
     "name": "stdout",
     "output_type": "stream",
     "text": [
      "практический ok\n",
      "no examples\n",
      "[1186, 'alone', 'одинокий', nan, nan, 'lonely | single | lone | solitary | lonesome | ']\n"
     ]
    },
    {
     "name": "stderr",
     "output_type": "stream",
     "text": [
      "\n",
      "\n",
      "\n",
      "\n",
      " 87%|████████▋ | 1187/1358 [18:13<01:15,  2.27it/s]\u001b[A\u001b[A\u001b[A\u001b[A"
     ]
    },
    {
     "name": "stdout",
     "output_type": "stream",
     "text": [
      "одинокий ok\n",
      "no examples\n",
      "[1187, 'alone', 'только', nan, nan, 'only | just | not only | ']\n"
     ]
    },
    {
     "name": "stderr",
     "output_type": "stream",
     "text": [
      "\n",
      "\n",
      "\n",
      "\n",
      " 87%|████████▋ | 1188/1358 [18:13<01:14,  2.27it/s]\u001b[A\u001b[A\u001b[A\u001b[A"
     ]
    },
    {
     "name": "stdout",
     "output_type": "stream",
     "text": [
      "только ok\n",
      "no examples\n",
      "[1188, 'alone', 'в одиночку', nan, nan, ' | ']\n"
     ]
    },
    {
     "name": "stderr",
     "output_type": "stream",
     "text": [
      "\n",
      "\n",
      "\n",
      "\n",
      " 88%|████████▊ | 1189/1358 [18:14<01:04,  2.61it/s]\u001b[A\u001b[A\u001b[A\u001b[A\n",
      "\n",
      "\n",
      "\n",
      " 88%|████████▊ | 1190/1358 [18:14<00:54,  3.07it/s]\u001b[A\u001b[A\u001b[A\u001b[A"
     ]
    },
    {
     "name": "stdout",
     "output_type": "stream",
     "text": [
      "в одиночку ok\n",
      "no examples\n",
      "[1189, 'alone', 'самостоятельно', nan, nan, 'independently | by themselves | ']\n",
      "самостоятельно ok\n",
      "no examples\n",
      "[1190, 'field', 'полевой', nan, nan, 'militant | insurgent | Taliban | combat | ']\n"
     ]
    },
    {
     "name": "stderr",
     "output_type": "stream",
     "text": [
      "\n",
      "\n",
      "\n",
      "\n",
      " 88%|████████▊ | 1191/1358 [18:15<01:21,  2.06it/s]\u001b[A\u001b[A\u001b[A\u001b[A"
     ]
    },
    {
     "name": "stdout",
     "output_type": "stream",
     "text": [
      "полевой ok\n",
      "no examples\n",
      "[1191, 'field', 'выездной', nan, nan, 'mobile | away | ']\n"
     ]
    },
    {
     "name": "stderr",
     "output_type": "stream",
     "text": [
      "\n",
      "\n",
      "\n",
      "\n",
      " 88%|████████▊ | 1192/1358 [18:15<01:07,  2.45it/s]\u001b[A\u001b[A\u001b[A\u001b[A"
     ]
    },
    {
     "name": "stdout",
     "output_type": "stream",
     "text": [
      "выездной ok\n",
      "no examples\n",
      "[1192, 'field', 'поле', 'magnetic field|cotton field|soccer field|electric field|', 'магнитное поле | хлопковые поля | футбольного поля | электрическое поле | ', 'floor | gender | pitch | margin | sex | flooring | ']\n",
      "поле ok\n",
      "magnetic field ok\n",
      "cotton field ok\n",
      "soccer field ok\n"
     ]
    },
    {
     "name": "stderr",
     "output_type": "stream",
     "text": [
      "\n",
      "\n",
      "\n",
      "\n",
      " 88%|████████▊ | 1193/1358 [18:17<02:40,  1.03it/s]\u001b[A\u001b[A\u001b[A\u001b[A"
     ]
    },
    {
     "name": "stdout",
     "output_type": "stream",
     "text": [
      "electric field ok\n",
      "[1193, 'field', 'область', 'various field|field of telecommunications|field of application|field of medicine|', 'различные области | области электрической связи | область применения | область медицины | ', 'area | region | oblasts | oblast | province | domain | sphere | ']\n",
      "область ok\n",
      "various field ok\n",
      "field of telecommunications ok\n",
      "field of application ok\n"
     ]
    },
    {
     "name": "stderr",
     "output_type": "stream",
     "text": [
      "\n",
      "\n",
      "\n",
      "\n",
      " 88%|████████▊ | 1194/1358 [18:20<03:51,  1.41s/it]\u001b[A\u001b[A\u001b[A\u001b[A"
     ]
    },
    {
     "name": "stdout",
     "output_type": "stream",
     "text": [
      "field of medicine ok\n",
      "[1194, 'field', 'пола', 'search field|football field|input field|dusty field|', 'поле поиска | футбольном поле | поле ввода | пыльном поле | ', 'floor | box | pitch | flooring | ']\n",
      "пола ok\n",
      "search field ok\n",
      "football field ok\n",
      "input field ok\n"
     ]
    },
    {
     "name": "stderr",
     "output_type": "stream",
     "text": [
      "\n",
      "\n",
      "\n",
      "\n",
      " 88%|████████▊ | 1195/1358 [18:23<05:09,  1.90s/it]\u001b[A\u001b[A\u001b[A\u001b[A"
     ]
    },
    {
     "name": "stdout",
     "output_type": "stream",
     "text": [
      "dusty field ok\n",
      "[1195, 'field', 'сфера', 'field of activity|field of construction|commercial field|social field|', 'сфера деятельности | сфере строительства | коммерческой сфере | социальная сфера | ', 'sphere | area | sector | industry | realm | scope | domain | ']\n",
      "сфера ok\n",
      "field of activity ok\n",
      "field of construction ok\n",
      "commercial field ok\n"
     ]
    },
    {
     "name": "stderr",
     "output_type": "stream",
     "text": [
      "\n",
      "\n",
      "\n",
      "\n",
      " 88%|████████▊ | 1196/1358 [18:26<06:28,  2.40s/it]\u001b[A\u001b[A\u001b[A\u001b[A"
     ]
    },
    {
     "name": "stdout",
     "output_type": "stream",
     "text": [
      "social field ok\n",
      "[1196, 'field', 'месторождение', 'gas field|diamond field|large field|silver field|', 'газовое месторождение | Алмазное месторождение | крупное месторождение | Серебряное месторождение | ', 'deposit | mine | oil field | reserve | well | ']\n",
      "месторождение ok\n",
      "gas field ok\n",
      "diamond field ok\n",
      "large field ok\n"
     ]
    },
    {
     "name": "stderr",
     "output_type": "stream",
     "text": [
      "\n",
      "\n",
      "\n",
      "\n",
      " 88%|████████▊ | 1197/1358 [18:29<06:39,  2.48s/it]\u001b[A\u001b[A\u001b[A\u001b[A"
     ]
    },
    {
     "name": "stdout",
     "output_type": "stream",
     "text": [
      "silver field ok\n",
      "[1197, 'field', 'отрасль', 'field of economy|legal field|construction field|petrochemical field|', 'отрасль экономики | отраслей действующего права | строительная отрасль | нефтехимической отрасли | ', 'industry | sector | branch | sphere | ']\n",
      "отрасль ok\n",
      "field of economy ok\n",
      "legal field ok\n",
      "construction field ok\n"
     ]
    },
    {
     "name": "stderr",
     "output_type": "stream",
     "text": [
      "\n",
      "\n",
      "\n",
      "\n",
      " 88%|████████▊ | 1198/1358 [18:31<06:28,  2.43s/it]\u001b[A\u001b[A\u001b[A\u001b[A"
     ]
    },
    {
     "name": "stdout",
     "output_type": "stream",
     "text": [
      "petrochemical field ok\n",
      "[1198, 'field', 'направление', 'field of study|', 'направления обучения | ', 'direction | area | way | destination | trend | line | ']\n",
      "направление ok\n"
     ]
    },
    {
     "name": "stderr",
     "output_type": "stream",
     "text": [
      "\n",
      "\n",
      "\n",
      "\n",
      " 88%|████████▊ | 1199/1358 [18:32<05:04,  1.91s/it]\u001b[A\u001b[A\u001b[A\u001b[A"
     ]
    },
    {
     "name": "stdout",
     "output_type": "stream",
     "text": [
      "field of study ok\n",
      "[1199, 'field', 'площадка', 'sports field|paintball field|Millennium field|lighted sports field|', 'спортивная площадка | пейнтбольная площадка | площадка Millennium | освещенной спортивной площадкой | ', 'area | playground | platform | site | ground | venue | landing | pad | ']\n",
      "площадка ok\n",
      "sports field ok\n",
      "paintball field ok\n",
      "Millennium field ok\n"
     ]
    },
    {
     "name": "stderr",
     "output_type": "stream",
     "text": [
      "\n",
      "\n",
      "\n",
      "\n",
      " 88%|████████▊ | 1200/1358 [18:34<05:26,  2.06s/it]\u001b[A\u001b[A\u001b[A\u001b[A"
     ]
    },
    {
     "name": "stdout",
     "output_type": "stream",
     "text": [
      "lighted sports field ok\n",
      "[1200, 'field', 'выставить', 'to field a single Olympic team|', 'выставить единую олимпийскую команду | ', 'display | exhibit | expose | activate | showcase | advance | unveil | ']\n",
      "выставить ok\n"
     ]
    },
    {
     "name": "stderr",
     "output_type": "stream",
     "text": [
      "\n",
      "\n",
      "\n",
      "\n",
      " 88%|████████▊ | 1201/1358 [18:35<04:27,  1.70s/it]\u001b[A\u001b[A\u001b[A\u001b[A"
     ]
    },
    {
     "name": "stdout",
     "output_type": "stream",
     "text": [
      "to field a single Olympic team ok\n",
      "[1201, 'field', 'отбивать', nan, nan, 'bat | bat | ']\n"
     ]
    },
    {
     "name": "stderr",
     "output_type": "stream",
     "text": [
      "\n",
      "\n",
      "\n",
      "\n",
      " 89%|████████▊ | 1202/1358 [18:36<03:24,  1.31s/it]\u001b[A\u001b[A\u001b[A\u001b[A"
     ]
    },
    {
     "name": "stdout",
     "output_type": "stream",
     "text": [
      "отбивать ok\n",
      "no examples\n",
      "[1202, 'field', 'выдвигать', nan, nan, 'nominate | advance | put forward | file | level | ']\n"
     ]
    },
    {
     "name": "stderr",
     "output_type": "stream",
     "text": [
      "\n",
      "\n",
      "\n",
      "\n",
      " 89%|████████▊ | 1203/1358 [18:37<03:08,  1.22s/it]\u001b[A\u001b[A\u001b[A\u001b[A"
     ]
    },
    {
     "name": "stdout",
     "output_type": "stream",
     "text": [
      "выдвигать ok\n",
      "no examples\n",
      "[1203, 'field', 'выдвинуть', nan, nan, 'nominate | put forward | put forth | advance | sponsor | file | ']\n"
     ]
    },
    {
     "name": "stderr",
     "output_type": "stream",
     "text": [
      "\n",
      "\n",
      "\n",
      "\n",
      " 89%|████████▊ | 1204/1358 [18:37<02:30,  1.03it/s]\u001b[A\u001b[A\u001b[A\u001b[A"
     ]
    },
    {
     "name": "stdout",
     "output_type": "stream",
     "text": [
      "выдвинуть ok\n",
      "no examples\n",
      "[1204, 'field', 'выставлять', nan, nan, 'expose | ']\n"
     ]
    },
    {
     "name": "stderr",
     "output_type": "stream",
     "text": [
      "\n",
      "\n",
      "\n",
      "\n",
      " 89%|████████▊ | 1205/1358 [18:38<02:11,  1.17it/s]\u001b[A\u001b[A\u001b[A\u001b[A"
     ]
    },
    {
     "name": "stdout",
     "output_type": "stream",
     "text": [
      "выставлять ok\n",
      "no examples\n",
      "[1205, 'fifth', 'в-пятых', nan, nan, ' | ']\n"
     ]
    },
    {
     "name": "stderr",
     "output_type": "stream",
     "text": [
      "\n",
      "\n",
      "\n",
      "\n",
      " 89%|████████▉ | 1206/1358 [18:38<01:46,  1.43it/s]\u001b[A\u001b[A\u001b[A\u001b[A"
     ]
    },
    {
     "name": "stdout",
     "output_type": "stream",
     "text": [
      "в-пятых ok\n",
      "no examples\n",
      "[1206, 'fifth', 'пятое место', nan, nan, ' | ']\n"
     ]
    },
    {
     "name": "stderr",
     "output_type": "stream",
     "text": [
      "\n",
      "\n",
      "\n",
      "\n",
      " 89%|████████▉ | 1207/1358 [18:38<01:24,  1.79it/s]\u001b[A\u001b[A\u001b[A\u001b[A"
     ]
    },
    {
     "name": "stdout",
     "output_type": "stream",
     "text": [
      "пятое место ok\n",
      "no examples\n",
      "[1207, 'fifth', 'пята', nan, nan, 'heel | pivot | ']\n"
     ]
    },
    {
     "name": "stderr",
     "output_type": "stream",
     "text": [
      "\n",
      "\n",
      "\n",
      "\n",
      " 89%|████████▉ | 1208/1358 [18:39<01:16,  1.95it/s]\u001b[A\u001b[A\u001b[A\u001b[A"
     ]
    },
    {
     "name": "stdout",
     "output_type": "stream",
     "text": [
      "пята ok\n",
      "no examples\n",
      "[1208, 'file', 'файл', 'configuration file|answer file|text file|temporary file|', 'конфигурационный файл | файл ответа | текстовый файл | временный файл | ', ' | ']\n",
      "файл ok\n",
      "configuration file ok\n",
      "answer file ok\n",
      "text file ok\n"
     ]
    },
    {
     "name": "stderr",
     "output_type": "stream",
     "text": [
      "\n",
      "\n",
      "\n",
      "\n",
      " 89%|████████▉ | 1209/1358 [18:41<02:58,  1.20s/it]\u001b[A\u001b[A\u001b[A\u001b[A"
     ]
    },
    {
     "name": "stdout",
     "output_type": "stream",
     "text": [
      "temporary file ok\n",
      "[1209, 'file', 'подать', 'to file a lawsuit|', 'подать иск | ', 'submit | serve | apply | hand | lodge | feed | ']\n",
      "подать ok\n"
     ]
    },
    {
     "name": "stderr",
     "output_type": "stream",
     "text": [
      "\n",
      "\n",
      "\n",
      "\n",
      " 89%|████████▉ | 1210/1358 [18:42<02:51,  1.16s/it]\u001b[A\u001b[A\u001b[A\u001b[A"
     ]
    },
    {
     "name": "stdout",
     "output_type": "stream",
     "text": [
      "to file a lawsuit ok\n",
      "[1210, 'file', 'обратиться', nan, nan, 'turn | ask | appeal | contact | apply | address | reach out | approach | turn | ']\n"
     ]
    },
    {
     "name": "stderr",
     "output_type": "stream",
     "text": [
      "\n",
      "\n",
      "\n",
      "\n",
      " 89%|████████▉ | 1211/1358 [18:43<02:32,  1.04s/it]\u001b[A\u001b[A\u001b[A\u001b[A"
     ]
    },
    {
     "name": "stdout",
     "output_type": "stream",
     "text": [
      "обратиться ok\n",
      "no examples\n",
      "[1211, 'file', 'предъявить', nan, nan, 'present | face | indict | ']\n"
     ]
    },
    {
     "name": "stderr",
     "output_type": "stream",
     "text": [
      "\n",
      "\n",
      "\n",
      "\n",
      " 89%|████████▉ | 1212/1358 [18:43<01:58,  1.24it/s]\u001b[A\u001b[A\u001b[A\u001b[A"
     ]
    },
    {
     "name": "stdout",
     "output_type": "stream",
     "text": [
      "предъявить ok\n",
      "no examples\n",
      "[1212, 'file', 'подаваться', nan, nan, 'serve | serve | supply | ']\n"
     ]
    },
    {
     "name": "stderr",
     "output_type": "stream",
     "text": [
      "\n",
      "\n",
      "\n",
      "\n",
      " 89%|████████▉ | 1213/1358 [18:44<01:42,  1.42it/s]\u001b[A\u001b[A\u001b[A\u001b[A"
     ]
    },
    {
     "name": "stdout",
     "output_type": "stream",
     "text": [
      "подаваться ok\n",
      "no examples\n",
      "[1213, 'file', 'храниться', nan, nan, 'store | store | ']\n"
     ]
    },
    {
     "name": "stderr",
     "output_type": "stream",
     "text": [
      "\n",
      "\n",
      "\n",
      "\n",
      " 89%|████████▉ | 1214/1358 [18:45<01:48,  1.32it/s]\u001b[A\u001b[A\u001b[A\u001b[A"
     ]
    },
    {
     "name": "stdout",
     "output_type": "stream",
     "text": [
      "храниться ok\n",
      "no examples\n",
      "[1214, 'file', 'заполнять', nan, nan, 'fill | fill out | fill in | fill | fill up | eat | populate | inhabit | ']\n"
     ]
    },
    {
     "name": "stderr",
     "output_type": "stream",
     "text": [
      "\n",
      "\n",
      "\n",
      "\n",
      " 89%|████████▉ | 1215/1358 [18:45<01:29,  1.60it/s]\u001b[A\u001b[A\u001b[A\u001b[A"
     ]
    },
    {
     "name": "stdout",
     "output_type": "stream",
     "text": [
      "заполнять ok\n",
      "no examples\n",
      "[1215, 'file', 'возбудить', nan, nan, 'initiate | rouse | arouse | institute | awaken | ']\n"
     ]
    },
    {
     "name": "stderr",
     "output_type": "stream",
     "text": [
      "\n",
      "\n",
      "\n",
      "\n",
      " 90%|████████▉ | 1216/1358 [18:46<01:27,  1.62it/s]\u001b[A\u001b[A\u001b[A\u001b[A"
     ]
    },
    {
     "name": "stdout",
     "output_type": "stream",
     "text": [
      "возбудить ok\n",
      "no examples\n",
      "[1216, 'file', 'составить отчёты', nan, nan, ' | ']\n"
     ]
    },
    {
     "name": "stderr",
     "output_type": "stream",
     "text": [
      "\n",
      "\n",
      "\n",
      "\n",
      " 90%|████████▉ | 1217/1358 [18:46<01:14,  1.90it/s]\u001b[A\u001b[A\u001b[A\u001b[A"
     ]
    },
    {
     "name": "stdout",
     "output_type": "stream",
     "text": [
      "составить отчёты ok\n",
      "no examples\n",
      "[1217, 'file', 'выдвигать', nan, nan, 'nominate | advance | put forward | field | level | ']\n"
     ]
    },
    {
     "name": "stderr",
     "output_type": "stream",
     "text": [
      "\n",
      "\n",
      "\n",
      "\n",
      " 90%|████████▉ | 1218/1358 [18:46<01:00,  2.30it/s]\u001b[A\u001b[A\u001b[A\u001b[A"
     ]
    },
    {
     "name": "stdout",
     "output_type": "stream",
     "text": [
      "выдвигать ok\n",
      "no examples\n",
      "[1218, 'fill', 'заполнение', 'void fill|', 'заполнение пустот | ', 'filling | filing | completion | fill type | ']\n",
      "заполнение ok\n"
     ]
    },
    {
     "name": "stderr",
     "output_type": "stream",
     "text": [
      "\n",
      "\n",
      "\n",
      "\n",
      " 90%|████████▉ | 1219/1358 [18:47<01:24,  1.64it/s]\u001b[A\u001b[A\u001b[A\u001b[A"
     ]
    },
    {
     "name": "stdout",
     "output_type": "stream",
     "text": [
      "void fill ok\n",
      "[1219, 'fill', 'заполнить', 'to fill the form|to fill in|to fill in the form|to fill the form below|', 'заполнить форму | заполнить внутри | заполнить формуляр | заполнить форму ниже | ', 'fill out | fill in | complete | fill up | populate | ']\n",
      "заполнить ok\n",
      "to fill the form ok\n",
      "to fill in ok\n",
      "to fill in the form ok\n"
     ]
    },
    {
     "name": "stderr",
     "output_type": "stream",
     "text": [
      "\n",
      "\n",
      "\n",
      "\n",
      " 90%|████████▉ | 1220/1358 [18:49<02:31,  1.10s/it]\u001b[A\u001b[A\u001b[A\u001b[A"
     ]
    },
    {
     "name": "stdout",
     "output_type": "stream",
     "text": [
      "to fill the form below ok\n",
      "[1220, 'fill', 'заполнять', 'to fill in all the cracks|', 'заполнять все щели | ', 'fill out | fill in | fill up | file | eat | populate | inhabit | ']\n",
      "заполнять ok\n"
     ]
    },
    {
     "name": "stderr",
     "output_type": "stream",
     "text": [
      "\n",
      "\n",
      "\n",
      "\n",
      " 90%|████████▉ | 1221/1358 [18:51<02:29,  1.09s/it]\u001b[A\u001b[A\u001b[A\u001b[A"
     ]
    },
    {
     "name": "stdout",
     "output_type": "stream",
     "text": [
      "to fill in all the cracks ok\n",
      "[1221, 'fill', 'наполнять', nan, nan, 'pour | pervade | fill up | fuel | flood | ']\n"
     ]
    },
    {
     "name": "stderr",
     "output_type": "stream",
     "text": [
      "\n",
      "\n",
      "\n",
      "\n",
      " 90%|████████▉ | 1222/1358 [18:51<02:05,  1.08it/s]\u001b[A\u001b[A\u001b[A\u001b[A"
     ]
    },
    {
     "name": "stdout",
     "output_type": "stream",
     "text": [
      "наполнять ok\n",
      "no examples\n",
      "[1222, 'fill', 'наполнить', nan, nan, ' | ']\n"
     ]
    },
    {
     "name": "stderr",
     "output_type": "stream",
     "text": [
      "\n",
      "\n",
      "\n",
      "\n",
      " 90%|█████████ | 1223/1358 [18:51<01:36,  1.40it/s]\u001b[A\u001b[A\u001b[A\u001b[A\n",
      "\n",
      "\n",
      "\n",
      " 90%|█████████ | 1224/1358 [18:52<01:14,  1.79it/s]\u001b[A\u001b[A\u001b[A\u001b[A"
     ]
    },
    {
     "name": "stdout",
     "output_type": "stream",
     "text": [
      "наполнить ok\n",
      "no examples\n",
      "[1223, 'fill', 'занять', nan, nan, 'take | finish | occupy | win | borrow | take up | rank | place | ']\n",
      "занять ok\n",
      "no examples\n",
      "[1224, 'fill', 'ввести', nan, nan, 'enter | introduce | impose | type | put | insert | implement | type in | ']\n"
     ]
    },
    {
     "name": "stderr",
     "output_type": "stream",
     "text": [
      "\n",
      "\n",
      "\n",
      "\n",
      " 90%|█████████ | 1225/1358 [18:52<01:02,  2.13it/s]\u001b[A\u001b[A\u001b[A\u001b[A"
     ]
    },
    {
     "name": "stdout",
     "output_type": "stream",
     "text": [
      "ввести ok\n",
      "no examples\n",
      "[1225, 'fill', 'восполнить', nan, nan, 'make up for | replenish | supplement | ease | ']\n"
     ]
    },
    {
     "name": "stderr",
     "output_type": "stream",
     "text": [
      "\n",
      "\n",
      "\n",
      "\n",
      " 90%|█████████ | 1226/1358 [18:52<01:02,  2.11it/s]\u001b[A\u001b[A\u001b[A\u001b[A\n",
      "\n",
      "\n",
      "\n",
      " 90%|█████████ | 1227/1358 [18:52<00:50,  2.59it/s]\u001b[A\u001b[A\u001b[A\u001b[A"
     ]
    },
    {
     "name": "stdout",
     "output_type": "stream",
     "text": [
      "восполнить ok\n",
      "no examples\n",
      "[1226, 'fill', 'заполняться', nan, nan, ' | ']\n",
      "заполняться ok\n",
      "no examples\n",
      "[1227, 'fill', 'наполниться', nan, nan, ' | ']\n"
     ]
    },
    {
     "name": "stderr",
     "output_type": "stream",
     "text": [
      "\n",
      "\n",
      "\n",
      "\n",
      " 90%|█████████ | 1228/1358 [18:53<00:52,  2.46it/s]\u001b[A\u001b[A\u001b[A\u001b[A"
     ]
    },
    {
     "name": "stdout",
     "output_type": "stream",
     "text": [
      "наполниться ok\n",
      "no examples\n",
      "[1228, 'fill out', 'заполнить', nan, nan, 'fill | fill out | fill in | complete | fill up | populate | ']\n"
     ]
    },
    {
     "name": "stderr",
     "output_type": "stream",
     "text": [
      "\n",
      "\n",
      "\n",
      "\n",
      " 91%|█████████ | 1229/1358 [18:53<00:47,  2.72it/s]\u001b[A\u001b[A\u001b[A\u001b[A\n",
      "\n",
      "\n",
      "\n"
     ]
    },
    {
     "name": "stdout",
     "output_type": "stream",
     "text": [
      "заполнить ok\n",
      "no examples\n",
      "[1229, 'fill out', 'заполнять', nan, nan, 'fill | fill out | fill in | fill | fill up | file | eat | populate | inhabit | ']\n",
      "заполнять ok\n",
      "no examples\n"
     ]
    },
    {
     "name": "stderr",
     "output_type": "stream",
     "text": [
      " 91%|█████████ | 1230/1358 [18:53<00:40,  3.15it/s]\u001b[A\u001b[A\u001b[A\u001b[A"
     ]
    },
    {
     "name": "stdout",
     "output_type": "stream",
     "text": [
      "[1230, 'fill up', 'заполнить', nan, nan, 'fill | fill out | fill in | complete | fill up | populate | ']\n"
     ]
    },
    {
     "name": "stderr",
     "output_type": "stream",
     "text": [
      "\n",
      "\n",
      "\n",
      "\n",
      " 91%|█████████ | 1231/1358 [18:55<01:20,  1.58it/s]\u001b[A\u001b[A\u001b[A\u001b[A"
     ]
    },
    {
     "name": "stdout",
     "output_type": "stream",
     "text": [
      "заполнить ok\n",
      "no examples\n",
      "[1231, 'fill up', 'пополнить', nan, nan, 'replenish | recharge | fund | fill up | top up | supplement | ']\n"
     ]
    },
    {
     "name": "stderr",
     "output_type": "stream",
     "text": [
      "\n",
      "\n",
      "\n",
      "\n",
      " 91%|█████████ | 1232/1358 [18:55<01:03,  1.98it/s]\u001b[A\u001b[A\u001b[A\u001b[A"
     ]
    },
    {
     "name": "stdout",
     "output_type": "stream",
     "text": [
      "пополнить ok\n",
      "no examples\n",
      "[1232, 'fill up', 'заполнять', nan, nan, 'fill | fill out | fill in | fill | fill up | file | eat | populate | inhabit | ']\n"
     ]
    },
    {
     "name": "stderr",
     "output_type": "stream",
     "text": [
      "\n",
      "\n",
      "\n",
      "\n",
      " 91%|█████████ | 1233/1358 [18:55<00:54,  2.31it/s]\u001b[A\u001b[A\u001b[A\u001b[A"
     ]
    },
    {
     "name": "stdout",
     "output_type": "stream",
     "text": [
      "заполнять ok\n",
      "no examples\n",
      "[1233, 'fill up', 'наполнять', nan, nan, 'fill | pour | pervade | fill up | fuel | flood | fill | ']\n"
     ]
    },
    {
     "name": "stderr",
     "output_type": "stream",
     "text": [
      "\n",
      "\n",
      "\n",
      "\n",
      " 91%|█████████ | 1234/1358 [18:56<00:53,  2.33it/s]\u001b[A\u001b[A\u001b[A\u001b[A"
     ]
    },
    {
     "name": "stdout",
     "output_type": "stream",
     "text": [
      "наполнять ok\n",
      "no examples\n",
      "[1234, 'final', 'окончательный', nan, nan, 'ultimate | definitive | eventual | permanent | ']\n"
     ]
    },
    {
     "name": "stderr",
     "output_type": "stream",
     "text": [
      "\n",
      "\n",
      "\n",
      "\n",
      " 91%|█████████ | 1235/1358 [18:56<00:47,  2.59it/s]\u001b[A\u001b[A\u001b[A\u001b[A"
     ]
    },
    {
     "name": "stdout",
     "output_type": "stream",
     "text": [
      "окончательный ok\n",
      "no examples\n",
      "[1235, 'final', 'конечный', nan, nan, 'ultimate | finite | end | eventual | terminal | net | ']\n"
     ]
    },
    {
     "name": "stderr",
     "output_type": "stream",
     "text": [
      "\n",
      "\n",
      "\n",
      "\n",
      " 91%|█████████ | 1236/1358 [18:57<00:56,  2.18it/s]\u001b[A\u001b[A\u001b[A\u001b[A"
     ]
    },
    {
     "name": "stdout",
     "output_type": "stream",
     "text": [
      "конечный ok\n",
      "no examples\n",
      "[1236, 'final', 'заключительный', nan, nan, 'closing | last | ']\n"
     ]
    },
    {
     "name": "stderr",
     "output_type": "stream",
     "text": [
      "\n",
      "\n",
      "\n",
      "\n",
      " 91%|█████████ | 1237/1358 [18:57<00:54,  2.22it/s]\u001b[A\u001b[A\u001b[A\u001b[A"
     ]
    },
    {
     "name": "stdout",
     "output_type": "stream",
     "text": [
      "заключительный ok\n",
      "no examples\n",
      "[1237, 'final', 'финальный', nan, nan, 'last | ']\n"
     ]
    },
    {
     "name": "stderr",
     "output_type": "stream",
     "text": [
      "\n",
      "\n",
      "\n",
      "\n",
      " 91%|█████████ | 1238/1358 [18:57<00:50,  2.38it/s]\u001b[A\u001b[A\u001b[A\u001b[A"
     ]
    },
    {
     "name": "stdout",
     "output_type": "stream",
     "text": [
      "финальный ok\n",
      "no examples\n",
      "[1238, 'final', 'итоговый', nan, nan, 'summary | bottom | aggregate | ']\n"
     ]
    },
    {
     "name": "stderr",
     "output_type": "stream",
     "text": [
      "\n",
      "\n",
      "\n",
      "\n",
      " 91%|█████████ | 1239/1358 [18:58<01:04,  1.85it/s]\u001b[A\u001b[A\u001b[A\u001b[A"
     ]
    },
    {
     "name": "stdout",
     "output_type": "stream",
     "text": [
      "итоговый ok\n",
      "no examples\n",
      "[1239, 'final', 'готовый', nan, nan, 'ready | finished | ready-made | available | complete | turnkey | ']\n"
     ]
    },
    {
     "name": "stderr",
     "output_type": "stream",
     "text": [
      "\n",
      "\n",
      "\n",
      "\n",
      " 91%|█████████▏| 1240/1358 [18:58<00:56,  2.07it/s]\u001b[A\u001b[A\u001b[A\u001b[A"
     ]
    },
    {
     "name": "stdout",
     "output_type": "stream",
     "text": [
      "готовый ok\n",
      "no examples\n",
      "[1240, 'final', 'финал', \"world cup final|cup final|President's Cup final|thrilling final|\", 'финал кубка мира | финал кубка | финал кубка президента | захватывающий финал | ', 'finale | ending | final round | final match | ']\n",
      "финал ok\n",
      "world cup final ok\n",
      "cup final ok\n",
      "President's Cup final ok\n"
     ]
    },
    {
     "name": "stderr",
     "output_type": "stream",
     "text": [
      "\n",
      "\n",
      "\n",
      "\n",
      " 91%|█████████▏| 1241/1358 [19:01<02:10,  1.11s/it]\u001b[A\u001b[A\u001b[A\u001b[A"
     ]
    },
    {
     "name": "stdout",
     "output_type": "stream",
     "text": [
      "thrilling final ok\n",
      "[1241, 'final', 'финальная стадия', nan, nan, ' | ']\n"
     ]
    },
    {
     "name": "stderr",
     "output_type": "stream",
     "text": [
      "\n",
      "\n",
      "\n",
      "\n",
      " 91%|█████████▏| 1242/1358 [19:01<01:41,  1.14it/s]\u001b[A\u001b[A\u001b[A\u001b[A"
     ]
    },
    {
     "name": "stdout",
     "output_type": "stream",
     "text": [
      "финальная стадия ok\n",
      "no examples\n",
      "[1242, 'finally', 'наконец', nan, nan, 'at last | ']\n"
     ]
    },
    {
     "name": "stderr",
     "output_type": "stream",
     "text": [
      "\n",
      "\n",
      "\n",
      "\n",
      " 92%|█████████▏| 1243/1358 [19:02<01:30,  1.27it/s]\u001b[A\u001b[A\u001b[A\u001b[A\n",
      "\n",
      "\n",
      "\n",
      " 92%|█████████▏| 1244/1358 [19:02<01:08,  1.67it/s]\u001b[A\u001b[A\u001b[A\u001b[A"
     ]
    },
    {
     "name": "stdout",
     "output_type": "stream",
     "text": [
      "наконец ok\n",
      "no examples\n",
      "[1243, 'finally', 'в конце концов', nan, nan, ' | ']\n",
      "в конце концов ok\n",
      "no examples\n",
      "[1244, 'finally', 'наконец-то', nan, nan, 'at last | at long last | ']\n"
     ]
    },
    {
     "name": "stderr",
     "output_type": "stream",
     "text": [
      "\n",
      "\n",
      "\n",
      "\n",
      " 92%|█████████▏| 1245/1358 [19:03<01:14,  1.53it/s]\u001b[A\u001b[A\u001b[A\u001b[A"
     ]
    },
    {
     "name": "stdout",
     "output_type": "stream",
     "text": [
      "наконец-то ok\n",
      "no examples\n",
      "[1245, 'finally', 'окончательно', nan, nan, 'definitively | permanently | irrevocably | ']\n"
     ]
    },
    {
     "name": "stderr",
     "output_type": "stream",
     "text": [
      "\n",
      "\n",
      "\n",
      "\n",
      " 92%|█████████▏| 1246/1358 [19:03<01:08,  1.63it/s]\u001b[A\u001b[A\u001b[A\u001b[A"
     ]
    },
    {
     "name": "stdout",
     "output_type": "stream",
     "text": [
      "окончательно ok\n",
      "no examples\n",
      "[1246, 'finger', 'палец', 'index finger|ring finger|long finger|real fingers|', 'указательный палец | безымянный палец | длинный палец | настоящими пальцами | ', 'toe | thumb | ']\n",
      "палец ok\n",
      "index finger ok\n",
      "ring finger ok\n",
      "long finger ok\n"
     ]
    },
    {
     "name": "stderr",
     "output_type": "stream",
     "text": [
      "\n",
      "\n",
      "\n",
      "\n",
      " 92%|█████████▏| 1247/1358 [19:07<02:42,  1.46s/it]\u001b[A\u001b[A\u001b[A\u001b[A"
     ]
    },
    {
     "name": "stdout",
     "output_type": "stream",
     "text": [
      "real fingers ok\n",
      "[1247, 'finger', 'fingers', nan, nan, ' | ']\n"
     ]
    },
    {
     "name": "stderr",
     "output_type": "stream",
     "text": [
      "\n",
      "\n",
      "\n",
      "\n",
      " 92%|█████████▏| 1248/1358 [19:08<02:26,  1.33s/it]\u001b[A\u001b[A\u001b[A\u001b[A"
     ]
    },
    {
     "name": "stdout",
     "output_type": "stream",
     "text": [
      "fingers ok\n",
      "no examples\n",
      "[1248, 'finger', 'перст', nan, nan, ' | ']\n"
     ]
    },
    {
     "name": "stderr",
     "output_type": "stream",
     "text": [
      "\n",
      "\n",
      "\n",
      "\n",
      " 92%|█████████▏| 1249/1358 [19:08<01:52,  1.03s/it]\u001b[A\u001b[A\u001b[A\u001b[A"
     ]
    },
    {
     "name": "stdout",
     "output_type": "stream",
     "text": [
      "перст ok\n",
      "no examples\n",
      "[1249, 'fire', 'пожарный', nan, nan, ' | ']\n"
     ]
    },
    {
     "name": "stderr",
     "output_type": "stream",
     "text": [
      "\n",
      "\n",
      "\n",
      "\n",
      " 92%|█████████▏| 1250/1358 [19:09<01:40,  1.08it/s]\u001b[A\u001b[A\u001b[A\u001b[A"
     ]
    },
    {
     "name": "stdout",
     "output_type": "stream",
     "text": [
      "пожарный ok\n",
      "no examples\n",
      "[1250, 'fire', 'огневой', nan, nan, ' | ']\n"
     ]
    },
    {
     "name": "stderr",
     "output_type": "stream",
     "text": [
      "\n",
      "\n",
      "\n",
      "\n",
      " 92%|█████████▏| 1251/1358 [19:09<01:22,  1.29it/s]\u001b[A\u001b[A\u001b[A\u001b[A"
     ]
    },
    {
     "name": "stdout",
     "output_type": "stream",
     "text": [
      "огневой ok\n",
      "no examples\n",
      "[1251, 'fire', 'дымогарный', nan, nan, ' | ']\n"
     ]
    },
    {
     "name": "stderr",
     "output_type": "stream",
     "text": [
      "\n",
      "\n",
      "\n",
      "\n",
      " 92%|█████████▏| 1252/1358 [19:10<01:07,  1.57it/s]\u001b[A\u001b[A\u001b[A\u001b[A"
     ]
    },
    {
     "name": "stdout",
     "output_type": "stream",
     "text": [
      "дымогарный ok\n",
      "no examples\n",
      "[1252, 'fire', 'огнеупорный', nan, nan, 'refractory | fire-resistant | heat-resistant | fireproof | ']\n"
     ]
    },
    {
     "name": "stderr",
     "output_type": "stream",
     "text": [
      "\n",
      "\n",
      "\n",
      "\n",
      " 92%|█████████▏| 1253/1358 [19:10<00:55,  1.90it/s]\u001b[A\u001b[A\u001b[A\u001b[A\n",
      "\n",
      "\n",
      "\n"
     ]
    },
    {
     "name": "stdout",
     "output_type": "stream",
     "text": [
      "огнеупорный ok\n",
      "no examples\n",
      "[1253, 'fire', 'противопожарный', nan, nan, 'firefighting | ']\n",
      "противопожарный ok\n",
      "no examples\n"
     ]
    },
    {
     "name": "stderr",
     "output_type": "stream",
     "text": [
      " 92%|█████████▏| 1254/1358 [19:10<00:44,  2.33it/s]\u001b[A\u001b[A\u001b[A\u001b[A"
     ]
    },
    {
     "name": "stdout",
     "output_type": "stream",
     "text": [
      "[1254, 'fire', 'огонь', 'open fire|enemy fire|return fire|automatic fire|', 'открытый огонь | огонь противника | ответный огонь | автоматический огонь | ', 'light | flame | ']\n",
      "огонь ok\n",
      "open fire ok\n",
      "enemy fire ok\n",
      "return fire ok\n"
     ]
    },
    {
     "name": "stderr",
     "output_type": "stream",
     "text": [
      "\n",
      "\n",
      "\n",
      "\n",
      " 92%|█████████▏| 1255/1358 [19:13<02:02,  1.19s/it]\u001b[A\u001b[A\u001b[A\u001b[A"
     ]
    },
    {
     "name": "stdout",
     "output_type": "stream",
     "text": [
      "automatic fire ok\n",
      "[1255, 'fire', 'пожар', 'forest fire|electrical fire|frequent forest fires|raging fire|', 'лесной пожар | электрические пожары | частыми лесными пожарами | бушующий пожар | ', 'conflagration | wildfire | ']\n",
      "пожар ok\n",
      "forest fire ok\n",
      "electrical fire ok\n",
      "frequent forest fires ok\n"
     ]
    },
    {
     "name": "stderr",
     "output_type": "stream",
     "text": [
      "\n",
      "\n",
      "\n",
      "\n",
      " 92%|█████████▏| 1256/1358 [19:15<02:33,  1.51s/it]\u001b[A\u001b[A\u001b[A\u001b[A"
     ]
    },
    {
     "name": "stdout",
     "output_type": "stream",
     "text": [
      "raging fire ok\n",
      "[1256, 'fire', 'камин', 'real fire|cosy open fire|', 'настоящий камин | уютный камин | ', 'fireplace | open fire | open fireplace | fire place | chimney | ']\n",
      "камин ok\n",
      "real fire ok\n"
     ]
    },
    {
     "name": "stderr",
     "output_type": "stream",
     "text": [
      "\n",
      "\n",
      "\n",
      "\n",
      " 93%|█████████▎| 1257/1358 [19:17<02:40,  1.59s/it]\u001b[A\u001b[A\u001b[A\u001b[A"
     ]
    },
    {
     "name": "stdout",
     "output_type": "stream",
     "text": [
      "cosy open fire ok\n",
      "[1257, 'fire', 'костер', nan, nan, 'campfire | bonfire | stake | pyre | firewood | fire pit | camp fire | ']\n"
     ]
    },
    {
     "name": "stderr",
     "output_type": "stream",
     "text": [
      "\n",
      "\n",
      "\n",
      "\n",
      " 93%|█████████▎| 1258/1358 [19:17<01:58,  1.19s/it]\u001b[A\u001b[A\u001b[A\u001b[A"
     ]
    },
    {
     "name": "stdout",
     "output_type": "stream",
     "text": [
      "костер ok\n",
      "no examples\n",
      "[1258, 'fire', 'обстрел', nan, nan, 'bombardment | shooting | gunfire | firing | shelling | fortification | ambush | ']\n"
     ]
    },
    {
     "name": "stderr",
     "output_type": "stream",
     "text": [
      "\n",
      "\n",
      "\n",
      "\n",
      " 93%|█████████▎| 1259/1358 [19:18<01:28,  1.12it/s]\u001b[A\u001b[A\u001b[A\u001b[A"
     ]
    },
    {
     "name": "stdout",
     "output_type": "stream",
     "text": [
      "обстрел ok\n",
      "no examples\n",
      "[1259, 'fire', 'стрельба', nan, nan, 'shooting | gunfire | firing | marksmanship | aerial firing | gunnery | gunshot | ']\n"
     ]
    },
    {
     "name": "stderr",
     "output_type": "stream",
     "text": [
      "\n",
      "\n",
      "\n",
      "\n",
      " 93%|█████████▎| 1260/1358 [19:18<01:07,  1.45it/s]\u001b[A\u001b[A\u001b[A\u001b[A"
     ]
    },
    {
     "name": "stdout",
     "output_type": "stream",
     "text": [
      "стрельба ok\n",
      "no examples\n",
      "[1260, 'fire', 'перестрелка', nan, nan, 'shootout | gun battle | clash | firefight | shooting | gunfire | gunfight | skirmish | ']\n"
     ]
    },
    {
     "name": "stderr",
     "output_type": "stream",
     "text": [
      "\n",
      "\n",
      "\n",
      "\n",
      " 93%|█████████▎| 1261/1358 [19:18<00:57,  1.69it/s]\u001b[A\u001b[A\u001b[A\u001b[A"
     ]
    },
    {
     "name": "stdout",
     "output_type": "stream",
     "text": [
      "перестрелка ok\n",
      "no examples\n",
      "[1261, 'fire', 'уволить', 'to simply fire his prime minister|to fire his prime minister|', 'просто уволить своего премьер-министра | уволить своего премьер-министра | ', 'sack | dismiss | lay off | ']\n",
      "уволить ok\n",
      "to simply fire his prime minister ok\n"
     ]
    },
    {
     "name": "stderr",
     "output_type": "stream",
     "text": [
      "\n",
      "\n",
      "\n",
      "\n",
      " 93%|█████████▎| 1262/1358 [19:20<01:22,  1.16it/s]\u001b[A\u001b[A\u001b[A\u001b[A"
     ]
    },
    {
     "name": "stdout",
     "output_type": "stream",
     "text": [
      "to fire his prime minister ok\n",
      "[1262, 'fire', 'выпустить', nan, nan, 'release | issue | produce | launch | publish | let out | release | ']\n"
     ]
    },
    {
     "name": "stderr",
     "output_type": "stream",
     "text": [
      "\n",
      "\n",
      "\n",
      "\n",
      " 93%|█████████▎| 1263/1358 [19:20<01:18,  1.21it/s]\u001b[A\u001b[A\u001b[A\u001b[A"
     ]
    },
    {
     "name": "stdout",
     "output_type": "stream",
     "text": [
      "выпустить ok\n",
      "no examples\n",
      "[1263, 'fire', 'стрелять', 'to fire guns in the air|', 'стрелять в воздух | ', 'shoot | shoot | go boom | ']\n",
      "стрелять ok\n"
     ]
    },
    {
     "name": "stderr",
     "output_type": "stream",
     "text": [
      "\n",
      "\n",
      "\n",
      "\n",
      " 93%|█████████▎| 1264/1358 [19:21<01:08,  1.37it/s]\u001b[A\u001b[A\u001b[A\u001b[A"
     ]
    },
    {
     "name": "stdout",
     "output_type": "stream",
     "text": [
      "to fire guns in the air ok\n",
      "[1264, 'fire', 'обстрелять', 'to fire at a border post|', 'обстрелять пограничный пост | ', 'shell | attack | pound | ambush | target | shoot | bomb | bombard | ']\n",
      "обстрелять ok\n"
     ]
    },
    {
     "name": "stderr",
     "output_type": "stream",
     "text": [
      "\n",
      "\n",
      "\n",
      "\n",
      " 93%|█████████▎| 1265/1358 [19:23<01:49,  1.18s/it]\u001b[A\u001b[A\u001b[A\u001b[A"
     ]
    },
    {
     "name": "stdout",
     "output_type": "stream",
     "text": [
      "to fire at a border post ok\n",
      "[1265, 'fire', 'открыть огонь', nan, nan, ' | ']\n"
     ]
    },
    {
     "name": "stderr",
     "output_type": "stream",
     "text": [
      "\n",
      "\n",
      "\n",
      "\n",
      " 93%|█████████▎| 1266/1358 [19:24<01:33,  1.02s/it]\u001b[A\u001b[A\u001b[A\u001b[A"
     ]
    },
    {
     "name": "stdout",
     "output_type": "stream",
     "text": [
      "открыть огонь ok\n",
      "no examples\n",
      "[1266, 'fire', 'увольнять', 'to fire employees|', 'увольнять сотрудников | ', 'lay off | dismiss | ']\n",
      "увольнять ok\n"
     ]
    },
    {
     "name": "stderr",
     "output_type": "stream",
     "text": [
      "\n",
      "\n",
      "\n",
      "\n",
      " 93%|█████████▎| 1267/1358 [19:25<01:31,  1.01s/it]\u001b[A\u001b[A\u001b[A\u001b[A"
     ]
    },
    {
     "name": "stdout",
     "output_type": "stream",
     "text": [
      "to fire employees ok\n",
      "[1267, 'fire', 'выстрелить', nan, nan, 'shoot | get shot | ']\n"
     ]
    },
    {
     "name": "stderr",
     "output_type": "stream",
     "text": [
      "\n",
      "\n",
      "\n",
      "\n",
      " 93%|█████████▎| 1268/1358 [19:25<01:17,  1.16it/s]\u001b[A\u001b[A\u001b[A\u001b[A"
     ]
    },
    {
     "name": "stdout",
     "output_type": "stream",
     "text": [
      "выстрелить ok\n",
      "no examples\n",
      "[1268, 'fire', 'произвести', nan, nan, 'produce | make | perform | generate | manufacture | produce | ']\n"
     ]
    },
    {
     "name": "stderr",
     "output_type": "stream",
     "text": [
      "\n",
      "\n",
      "\n",
      "\n",
      " 93%|█████████▎| 1269/1358 [19:26<01:02,  1.43it/s]\u001b[A\u001b[A\u001b[A\u001b[A"
     ]
    },
    {
     "name": "stdout",
     "output_type": "stream",
     "text": [
      "произвести ok\n",
      "no examples\n",
      "[1269, 'fire', 'применить', 'to fire tear gas|', 'применить слезоточивый газ | ', 'apply | implement | deploy | apply | impose | ']\n",
      "применить ok\n"
     ]
    },
    {
     "name": "stderr",
     "output_type": "stream",
     "text": [
      "\n",
      "\n",
      "\n",
      "\n",
      " 94%|█████████▎| 1270/1358 [19:26<01:02,  1.41it/s]\u001b[A\u001b[A\u001b[A\u001b[A"
     ]
    },
    {
     "name": "stdout",
     "output_type": "stream",
     "text": [
      "to fire tear gas ok\n",
      "[1270, 'fire up', 'запускать', nan, nan, 'run | launch | execute | launch | fly | run | fire | start up | fire up | ']\n"
     ]
    },
    {
     "name": "stderr",
     "output_type": "stream",
     "text": [
      "\n",
      "\n",
      "\n",
      "\n",
      " 94%|█████████▎| 1271/1358 [19:27<01:09,  1.25it/s]\u001b[A\u001b[A\u001b[A\u001b[A"
     ]
    },
    {
     "name": "stdout",
     "output_type": "stream",
     "text": [
      "запускать ok\n",
      "no examples\n",
      "[1271, 'fish', 'рыбачить', nan, nan, ' | ']\n"
     ]
    },
    {
     "name": "stderr",
     "output_type": "stream",
     "text": [
      "\n",
      "\n",
      "\n",
      "\n",
      " 94%|█████████▎| 1272/1358 [19:28<00:56,  1.53it/s]\u001b[A\u001b[A\u001b[A\u001b[A"
     ]
    },
    {
     "name": "stdout",
     "output_type": "stream",
     "text": [
      "рыбачить ok\n",
      "no examples\n",
      "[1272, 'fish', 'ловить рыбу', nan, nan, ' | ']\n"
     ]
    },
    {
     "name": "stderr",
     "output_type": "stream",
     "text": [
      "\n",
      "\n",
      "\n",
      "\n",
      " 94%|█████████▎| 1273/1358 [19:28<00:47,  1.81it/s]\u001b[A\u001b[A\u001b[A\u001b[A"
     ]
    },
    {
     "name": "stdout",
     "output_type": "stream",
     "text": [
      "ловить рыбу ok\n",
      "no examples\n",
      "[1273, 'fish', 'удить', nan, nan, ' | ']\n"
     ]
    },
    {
     "name": "stderr",
     "output_type": "stream",
     "text": [
      "\n",
      "\n",
      "\n",
      "\n",
      " 94%|█████████▍| 1274/1358 [19:28<00:38,  2.21it/s]\u001b[A\u001b[A\u001b[A\u001b[A"
     ]
    },
    {
     "name": "stdout",
     "output_type": "stream",
     "text": [
      "удить ok\n",
      "no examples\n",
      "[1274, 'fish', 'выловить', nan, nan, ' | ']\n"
     ]
    },
    {
     "name": "stderr",
     "output_type": "stream",
     "text": [
      "\n",
      "\n",
      "\n",
      "\n",
      " 94%|█████████▍| 1275/1358 [19:29<00:37,  2.20it/s]\u001b[A\u001b[A\u001b[A\u001b[A"
     ]
    },
    {
     "name": "stdout",
     "output_type": "stream",
     "text": [
      "выловить ok\n",
      "no examples\n",
      "[1275, 'fish', 'ловить', nan, nan, 'catch | catch | bring down | ']\n"
     ]
    },
    {
     "name": "stderr",
     "output_type": "stream",
     "text": [
      "\n",
      "\n",
      "\n",
      "\n",
      " 94%|█████████▍| 1276/1358 [19:29<00:32,  2.56it/s]\u001b[A\u001b[A\u001b[A\u001b[A"
     ]
    },
    {
     "name": "stdout",
     "output_type": "stream",
     "text": [
      "ловить ok\n",
      "no examples\n",
      "[1276, 'fishing', 'рыбная ловля', nan, nan, ' | ']\n"
     ]
    },
    {
     "name": "stderr",
     "output_type": "stream",
     "text": [
      "\n",
      "\n",
      "\n",
      "\n",
      " 94%|█████████▍| 1277/1358 [19:29<00:34,  2.34it/s]\u001b[A\u001b[A\u001b[A\u001b[A"
     ]
    },
    {
     "name": "stdout",
     "output_type": "stream",
     "text": [
      "рыбная ловля ok\n",
      "no examples\n",
      "[1277, 'fishing', 'рыбалка', 'sport fishing|winter fishing|', 'спортивная рыбалка | зимняя рыбалка | ', 'fishing trip | angler | fishery | ']\n",
      "рыбалка ok\n",
      "sport fishing ok\n"
     ]
    },
    {
     "name": "stderr",
     "output_type": "stream",
     "text": [
      "\n",
      "\n",
      "\n",
      "\n",
      " 94%|█████████▍| 1278/1358 [19:31<00:51,  1.56it/s]\u001b[A\u001b[A\u001b[A\u001b[A"
     ]
    },
    {
     "name": "stdout",
     "output_type": "stream",
     "text": [
      "winter fishing ok\n",
      "[1278, 'fishing', 'рыболовство', 'industrial fishing|amateur fishing|commercial fishing|', 'промышленное рыболовство | любительского рыболовства | промысловое рыболовство | ', 'fishery | ']\n",
      "рыболовство ok\n",
      "industrial fishing ok\n",
      "amateur fishing ok\n"
     ]
    },
    {
     "name": "stderr",
     "output_type": "stream",
     "text": [
      "\n",
      "\n",
      "\n",
      "\n",
      " 94%|█████████▍| 1279/1358 [19:32<01:11,  1.10it/s]\u001b[A\u001b[A\u001b[A\u001b[A"
     ]
    },
    {
     "name": "stdout",
     "output_type": "stream",
     "text": [
      "commercial fishing ok\n",
      "[1279, 'fishing', 'ловля', nan, nan, 'fishery | ']\n"
     ]
    },
    {
     "name": "stderr",
     "output_type": "stream",
     "text": [
      "\n",
      "\n",
      "\n",
      "\n",
      " 94%|█████████▍| 1280/1358 [19:32<00:56,  1.37it/s]\u001b[A\u001b[A\u001b[A\u001b[A"
     ]
    },
    {
     "name": "stdout",
     "output_type": "stream",
     "text": [
      "ловля ok\n",
      "no examples\n",
      "[1280, 'fishing', 'лов', nan, nan, ' | ']\n"
     ]
    },
    {
     "name": "stderr",
     "output_type": "stream",
     "text": [
      "\n",
      "\n",
      "\n",
      "\n",
      " 94%|█████████▍| 1281/1358 [19:33<00:44,  1.73it/s]\u001b[A\u001b[A\u001b[A\u001b[A"
     ]
    },
    {
     "name": "stdout",
     "output_type": "stream",
     "text": [
      "лов ok\n",
      "no examples\n",
      "[1281, 'fishing', 'любители рыбалки', nan, nan, ' | ']\n"
     ]
    },
    {
     "name": "stderr",
     "output_type": "stream",
     "text": [
      "\n",
      "\n",
      "\n",
      "\n",
      " 94%|█████████▍| 1282/1358 [19:33<00:41,  1.81it/s]\u001b[A\u001b[A\u001b[A\u001b[A"
     ]
    },
    {
     "name": "stdout",
     "output_type": "stream",
     "text": [
      "любители рыбалки ok\n",
      "no examples\n",
      "[1282, 'fishing', 'вылов', 'sturgeon fishing|', 'вылов осетровых | ', 'catch | ']\n",
      "вылов ok\n"
     ]
    },
    {
     "name": "stderr",
     "output_type": "stream",
     "text": [
      "\n",
      "\n",
      "\n",
      "\n",
      " 94%|█████████▍| 1283/1358 [19:34<00:47,  1.59it/s]\u001b[A\u001b[A\u001b[A\u001b[A"
     ]
    },
    {
     "name": "stdout",
     "output_type": "stream",
     "text": [
      "sturgeon fishing ok\n",
      "[1283, 'fishing', 'рыбное хозяйство', nan, nan, ' | ']\n"
     ]
    },
    {
     "name": "stderr",
     "output_type": "stream",
     "text": [
      "\n",
      "\n",
      "\n",
      "\n",
      " 95%|█████████▍| 1284/1358 [19:34<00:38,  1.92it/s]\u001b[A\u001b[A\u001b[A\u001b[A"
     ]
    },
    {
     "name": "stdout",
     "output_type": "stream",
     "text": [
      "рыбное хозяйство ok\n",
      "no examples\n",
      "[1284, 'fishing', 'промысел', nan, nan, 'craft | oil field | handicraft | ']\n"
     ]
    },
    {
     "name": "stderr",
     "output_type": "stream",
     "text": [
      "\n",
      "\n",
      "\n",
      "\n",
      " 95%|█████████▍| 1285/1358 [19:35<00:33,  2.15it/s]\u001b[A\u001b[A\u001b[A\u001b[A\n",
      "\n",
      "\n",
      "\n",
      " 95%|█████████▍| 1286/1358 [19:35<00:27,  2.61it/s]\u001b[A\u001b[A\u001b[A\u001b[A"
     ]
    },
    {
     "name": "stdout",
     "output_type": "stream",
     "text": [
      "промысел ok\n",
      "no examples\n",
      "[1285, 'fit', 'стройный', nan, nan, 'slender | slim | thin | better looking | ']\n",
      "стройный ok\n",
      "no examples\n",
      "[1286, 'fit', 'посадка', nan, nan, 'landing | boarding | gate | planting | soft landing | sitting | plantation | ']\n"
     ]
    },
    {
     "name": "stderr",
     "output_type": "stream",
     "text": [
      "\n",
      "\n",
      "\n",
      "\n",
      " 95%|█████████▍| 1287/1358 [19:36<00:39,  1.81it/s]\u001b[A\u001b[A\u001b[A\u001b[A"
     ]
    },
    {
     "name": "stdout",
     "output_type": "stream",
     "text": [
      "посадка ok\n",
      "no examples\n",
      "[1287, 'fit', 'приступ', nan, nan, 'attack | bout | seizure | episode | stroke | heart attack | spurt | tantrum | ']\n"
     ]
    },
    {
     "name": "stderr",
     "output_type": "stream",
     "text": [
      "\n",
      "\n",
      "\n",
      "\n",
      " 95%|█████████▍| 1288/1358 [19:36<00:37,  1.85it/s]\u001b[A\u001b[A\u001b[A\u001b[A"
     ]
    },
    {
     "name": "stdout",
     "output_type": "stream",
     "text": [
      "приступ ok\n",
      "no examples\n",
      "[1288, 'fit', 'соответствие', nan, nan, 'compliance | conformity | correspondence | match | accordance | consistency | alignment | conformance | ']\n"
     ]
    },
    {
     "name": "stderr",
     "output_type": "stream",
     "text": [
      "\n",
      "\n",
      "\n",
      "\n",
      " 95%|█████████▍| 1289/1358 [19:37<00:36,  1.87it/s]\u001b[A\u001b[A\u001b[A\u001b[A"
     ]
    },
    {
     "name": "stdout",
     "output_type": "stream",
     "text": [
      "соответствие ok\n",
      "no examples\n",
      "[1289, 'fit', 'припадок', nan, nan, 'seizure | ']\n"
     ]
    },
    {
     "name": "stderr",
     "output_type": "stream",
     "text": [
      "\n",
      "\n",
      "\n",
      "\n",
      " 95%|█████████▍| 1290/1358 [19:37<00:40,  1.67it/s]\u001b[A\u001b[A\u001b[A\u001b[A"
     ]
    },
    {
     "name": "stdout",
     "output_type": "stream",
     "text": [
      "припадок ok\n",
      "no examples\n",
      "[1290, 'fit', 'порыв', 'fit of passion|', 'порыве страсти | ', 'impulse | gust | rush | ']\n",
      "порыв ok\n"
     ]
    },
    {
     "name": "stderr",
     "output_type": "stream",
     "text": [
      "\n",
      "\n",
      "\n",
      "\n",
      " 95%|█████████▌| 1291/1358 [19:39<01:04,  1.04it/s]\u001b[A\u001b[A\u001b[A\u001b[A"
     ]
    },
    {
     "name": "stdout",
     "output_type": "stream",
     "text": [
      "fit of passion ok\n",
      "[1291, 'fit', 'физическая форма', nan, nan, ' | ']\n"
     ]
    },
    {
     "name": "stderr",
     "output_type": "stream",
     "text": [
      "\n",
      "\n",
      "\n",
      "\n",
      " 95%|█████████▌| 1292/1358 [19:40<00:57,  1.15it/s]\u001b[A\u001b[A\u001b[A\u001b[A"
     ]
    },
    {
     "name": "stdout",
     "output_type": "stream",
     "text": [
      "физическая форма ok\n",
      "no examples\n",
      "[1292, 'fit', 'подбор', nan, nan, 'selection | recruitment | sourcing | picking | ']\n"
     ]
    },
    {
     "name": "stderr",
     "output_type": "stream",
     "text": [
      "\n",
      "\n",
      "\n",
      "\n",
      " 95%|█████████▌| 1293/1358 [19:41<00:52,  1.24it/s]\u001b[A\u001b[A\u001b[A\u001b[A"
     ]
    },
    {
     "name": "stdout",
     "output_type": "stream",
     "text": [
      "подбор ok\n",
      "no examples\n",
      "[1293, 'fit', 'подходить', 'to fit perfectly|', 'отлично подходить | ', 'suit | approach | come up | walk up | place | go up | match | befit | ']\n",
      "подходить ok\n"
     ]
    },
    {
     "name": "stderr",
     "output_type": "stream",
     "text": [
      "\n",
      "\n",
      "\n",
      "\n",
      " 95%|█████████▌| 1294/1358 [19:43<01:26,  1.35s/it]\u001b[A\u001b[A\u001b[A\u001b[A"
     ]
    },
    {
     "name": "stdout",
     "output_type": "stream",
     "text": [
      "to fit perfectly ok\n",
      "[1294, 'fit', 'соответствовать', 'to fit that description|', 'соответствовать этому описанию | ', 'meet | match | correspond | satisfy | fulfill | suit | meet | match | ']\n",
      "соответствовать ok\n"
     ]
    },
    {
     "name": "stderr",
     "output_type": "stream",
     "text": [
      "\n",
      "\n",
      "\n",
      "\n",
      " 95%|█████████▌| 1295/1358 [19:44<01:14,  1.18s/it]\u001b[A\u001b[A\u001b[A\u001b[A"
     ]
    },
    {
     "name": "stdout",
     "output_type": "stream",
     "text": [
      "to fit that description ok\n",
      "[1295, 'fit', 'вписываться', 'to fit very well|', 'точно вписываться | ', ' | ']\n",
      "вписываться ok\n"
     ]
    },
    {
     "name": "stderr",
     "output_type": "stream",
     "text": [
      "\n",
      "\n",
      "\n",
      "\n",
      " 95%|█████████▌| 1296/1358 [19:45<01:02,  1.01s/it]\u001b[A\u001b[A\u001b[A\u001b[A"
     ]
    },
    {
     "name": "stdout",
     "output_type": "stream",
     "text": [
      "to fit very well ok\n",
      "[1296, 'fit', 'помещаться', nan, nan, 'place | house therein | ']\n"
     ]
    },
    {
     "name": "stderr",
     "output_type": "stream",
     "text": [
      "\n",
      "\n",
      "\n",
      "\n",
      " 96%|█████████▌| 1297/1358 [19:45<00:47,  1.29it/s]\u001b[A\u001b[A\u001b[A\u001b[A\n",
      "\n",
      "\n",
      "\n",
      " 96%|█████████▌| 1298/1358 [19:45<00:35,  1.67it/s]\u001b[A\u001b[A\u001b[A\u001b[A"
     ]
    },
    {
     "name": "stdout",
     "output_type": "stream",
     "text": [
      "помещаться ok\n",
      "no examples\n",
      "[1297, 'fit', 'подойти', nan, nan, 'come | come up | go up | walk | approach | go over | walk up | suit | ']\n",
      "подойти ok\n",
      "no examples\n",
      "[1298, 'fit', 'отвечать', nan, nan, 'meet | answer | reply | respond | satisfy | fulfill | satisfy | ']\n"
     ]
    },
    {
     "name": "stderr",
     "output_type": "stream",
     "text": [
      "\n",
      "\n",
      "\n",
      "\n",
      " 96%|█████████▌| 1299/1358 [19:45<00:29,  1.99it/s]\u001b[A\u001b[A\u001b[A\u001b[A"
     ]
    },
    {
     "name": "stdout",
     "output_type": "stream",
     "text": [
      "отвечать ok\n",
      "no examples\n",
      "[1299, 'fit', 'поместиться', nan, nan, ' | ']\n"
     ]
    },
    {
     "name": "stderr",
     "output_type": "stream",
     "text": [
      "\n",
      "\n",
      "\n",
      "\n",
      " 96%|█████████▌| 1300/1358 [19:46<00:26,  2.22it/s]\u001b[A\u001b[A\u001b[A\u001b[A"
     ]
    },
    {
     "name": "stdout",
     "output_type": "stream",
     "text": [
      "поместиться ok\n",
      "no examples\n",
      "[1300, 'fit', 'укладываться', nan, nan, 'stack | ']\n"
     ]
    },
    {
     "name": "stderr",
     "output_type": "stream",
     "text": [
      "\n",
      "\n",
      "\n",
      "\n",
      " 96%|█████████▌| 1301/1358 [19:46<00:25,  2.27it/s]\u001b[A\u001b[A\u001b[A\u001b[A"
     ]
    },
    {
     "name": "stdout",
     "output_type": "stream",
     "text": [
      "укладываться ok\n",
      "no examples\n",
      "[1301, 'fit', 'уместиться', nan, nan, ' | ']\n"
     ]
    },
    {
     "name": "stderr",
     "output_type": "stream",
     "text": [
      "\n",
      "\n",
      "\n",
      "\n",
      " 96%|█████████▌| 1302/1358 [19:46<00:22,  2.51it/s]\u001b[A\u001b[A\u001b[A\u001b[A"
     ]
    },
    {
     "name": "stdout",
     "output_type": "stream",
     "text": [
      "уместиться ok\n",
      "no examples\n",
      "[1302, 'flight', 'рейс', 'international flight|connecting flight|charter flight|regular flight|', 'международный рейс | стыковочный рейс | чартерный рейс | регулярный рейс | ', 'departure | ']\n",
      "рейс ok\n",
      "international flight ok\n",
      "connecting flight ok\n",
      "charter flight ok\n"
     ]
    },
    {
     "name": "stderr",
     "output_type": "stream",
     "text": [
      "\n",
      "\n",
      "\n",
      "\n",
      " 96%|█████████▌| 1303/1358 [19:50<01:09,  1.26s/it]\u001b[A\u001b[A\u001b[A\u001b[A"
     ]
    },
    {
     "name": "stdout",
     "output_type": "stream",
     "text": [
      "regular flight ok\n",
      "[1303, 'flight', 'полет', 'space flight|first flight|first space flight|Creative Flight|', 'космический полет | первый полет | Первый космический полет | творческий полет | ', 'mission | flying | ']\n",
      "полет ok\n",
      "space flight ok\n",
      "first flight ok\n",
      "first space flight ok\n"
     ]
    },
    {
     "name": "stderr",
     "output_type": "stream",
     "text": [
      "\n",
      "\n",
      "\n",
      "\n",
      " 96%|█████████▌| 1304/1358 [19:52<01:19,  1.46s/it]\u001b[A\u001b[A\u001b[A\u001b[A"
     ]
    },
    {
     "name": "stdout",
     "output_type": "stream",
     "text": [
      "Creative Flight ok\n",
      "[1304, 'flight', 'самолет', nan, nan, 'aircraft | plane | airplane | jet | airliner | ']\n"
     ]
    },
    {
     "name": "stderr",
     "output_type": "stream",
     "text": [
      "\n",
      "\n",
      "\n",
      "\n",
      " 96%|█████████▌| 1305/1358 [19:52<00:58,  1.10s/it]\u001b[A\u001b[A\u001b[A\u001b[A"
     ]
    },
    {
     "name": "stdout",
     "output_type": "stream",
     "text": [
      "самолет ok\n",
      "no examples\n",
      "[1305, 'flight', 'перелет', 'long flight|', 'длительный перелет | ', ' | ']\n",
      "перелет ok\n"
     ]
    },
    {
     "name": "stderr",
     "output_type": "stream",
     "text": [
      "\n",
      "\n",
      "\n",
      "\n",
      " 96%|█████████▌| 1306/1358 [19:52<00:48,  1.07it/s]\u001b[A\u001b[A\u001b[A\u001b[A"
     ]
    },
    {
     "name": "stdout",
     "output_type": "stream",
     "text": [
      "long flight ok\n",
      "[1306, 'flight', 'авиарейс', 'domestic flight|', 'внутренний авиарейс | ', ' | ']\n",
      "авиарейс ok\n"
     ]
    },
    {
     "name": "stderr",
     "output_type": "stream",
     "text": [
      "\n",
      "\n",
      "\n",
      "\n",
      " 96%|█████████▌| 1307/1358 [19:54<00:58,  1.15s/it]\u001b[A\u001b[A\u001b[A\u001b[A"
     ]
    },
    {
     "name": "stdout",
     "output_type": "stream",
     "text": [
      "domestic flight ok\n",
      "[1307, 'flight', 'бегство', 'capital flight|', 'бегство капитала | ', 'escape | run | exodus | stampede | ']\n",
      "бегство ok\n"
     ]
    },
    {
     "name": "stderr",
     "output_type": "stream",
     "text": [
      "\n",
      "\n",
      "\n",
      "\n",
      " 96%|█████████▋| 1308/1358 [19:56<01:04,  1.30s/it]\u001b[A\u001b[A\u001b[A\u001b[A"
     ]
    },
    {
     "name": "stdout",
     "output_type": "stream",
     "text": [
      "capital flight ok\n",
      "[1308, 'flight', 'вылет', nan, nan, 'departure | sortie | take-off | departure time | radius | flight departure | escape | ']\n"
     ]
    },
    {
     "name": "stderr",
     "output_type": "stream",
     "text": [
      "\n",
      "\n",
      "\n",
      "\n",
      " 96%|█████████▋| 1309/1358 [19:56<00:48,  1.01it/s]\u001b[A\u001b[A\u001b[A\u001b[A"
     ]
    },
    {
     "name": "stdout",
     "output_type": "stream",
     "text": [
      "вылет ok\n",
      "no examples\n",
      "[1309, 'flight', 'авиабилет', nan, nan, 'ticket | air ticket | airline ticket | flight ticket | airtickets | airfare | plane-ticket | ']\n"
     ]
    },
    {
     "name": "stderr",
     "output_type": "stream",
     "text": [
      "\n",
      "\n",
      "\n",
      "\n",
      " 96%|█████████▋| 1310/1358 [19:57<00:52,  1.10s/it]\u001b[A\u001b[A\u001b[A\u001b[A"
     ]
    },
    {
     "name": "stdout",
     "output_type": "stream",
     "text": [
      "авиабилет ok\n",
      "no examples\n",
      "[1310, 'along', 'вдоль', nan, nan, ' | ']\n"
     ]
    },
    {
     "name": "stderr",
     "output_type": "stream",
     "text": [
      "\n",
      "\n",
      "\n",
      "\n",
      " 97%|█████████▋| 1311/1358 [19:58<00:40,  1.15it/s]\u001b[A\u001b[A\u001b[A\u001b[A"
     ]
    },
    {
     "name": "stdout",
     "output_type": "stream",
     "text": [
      "вдоль ok\n",
      "no examples\n",
      "[1311, 'along', 'вдоль', nan, nan, ' | ']\n"
     ]
    },
    {
     "name": "stderr",
     "output_type": "stream",
     "text": [
      "\n",
      "\n",
      "\n",
      "\n",
      " 97%|█████████▋| 1312/1358 [19:59<00:54,  1.18s/it]\u001b[A\u001b[A\u001b[A\u001b[A"
     ]
    },
    {
     "name": "stdout",
     "output_type": "stream",
     "text": [
      "вдоль ok\n",
      "no examples\n",
      "[1312, 'along with', 'вместе с', nan, nan, 'together with | alongside | ']\n"
     ]
    },
    {
     "name": "stderr",
     "output_type": "stream",
     "text": [
      "\n",
      "\n",
      "\n",
      "\n",
      " 97%|█████████▋| 1313/1358 [20:00<00:41,  1.09it/s]\u001b[A\u001b[A\u001b[A\u001b[A"
     ]
    },
    {
     "name": "stdout",
     "output_type": "stream",
     "text": [
      "вместе с ok\n",
      "no examples\n",
      "[1313, 'along with', 'наряду с', nan, nan, 'together with | alongside | in addition to | apart from | besides | ']\n"
     ]
    },
    {
     "name": "stderr",
     "output_type": "stream",
     "text": [
      "\n",
      "\n",
      "\n",
      "\n",
      " 97%|█████████▋| 1314/1358 [20:00<00:31,  1.39it/s]\u001b[A\u001b[A\u001b[A\u001b[A"
     ]
    },
    {
     "name": "stdout",
     "output_type": "stream",
     "text": [
      "наряду с ok\n",
      "no examples\n",
      "[1314, 'along with', 'совместно с', nan, nan, 'together with | jointly with | in conjunction with | in cooperation with | in partnership with | in collaboration with | ']\n"
     ]
    },
    {
     "name": "stderr",
     "output_type": "stream",
     "text": [
      "\n",
      "\n",
      "\n",
      "\n",
      " 97%|█████████▋| 1315/1358 [20:01<00:28,  1.53it/s]\u001b[A\u001b[A\u001b[A\u001b[A"
     ]
    },
    {
     "name": "stdout",
     "output_type": "stream",
     "text": [
      "совместно с ok\n",
      "no examples\n",
      "[1315, 'along with', 'помимо', nan, nan, 'besides | in addition to | apart from | beyond | aside from | other than | as well as | ']\n"
     ]
    },
    {
     "name": "stderr",
     "output_type": "stream",
     "text": [
      "\n",
      "\n",
      "\n",
      "\n",
      " 97%|█████████▋| 1316/1358 [20:01<00:25,  1.64it/s]\u001b[A\u001b[A\u001b[A\u001b[A"
     ]
    },
    {
     "name": "stdout",
     "output_type": "stream",
     "text": [
      "помимо ok\n",
      "no examples\n",
      "[1316, 'bedroom', 'спальня', 'separate bedroom|spacious bedroom|double bedroom|large bedroom|', 'отдельная спальня | просторная спальня | двухместная спальня | большая спальня | ', 'bedroom apartment | ']\n",
      "спальня ok\n",
      "separate bedroom ok\n",
      "spacious bedroom ok\n",
      "double bedroom ok\n"
     ]
    },
    {
     "name": "stderr",
     "output_type": "stream",
     "text": [
      "\n",
      "\n",
      "\n",
      "\n",
      " 97%|█████████▋| 1317/1358 [20:03<00:41,  1.01s/it]\u001b[A\u001b[A\u001b[A\u001b[A"
     ]
    },
    {
     "name": "stdout",
     "output_type": "stream",
     "text": [
      "large bedroom ok\n",
      "[1317, 'beer', 'пиво', 'draft beer|cold beer|belgian beer|Czech beer|', 'разливное пиво | холодное пиво | бельгийское пиво | чешское пиво | ', ' | ']\n",
      "пиво ok\n",
      "draft beer ok\n",
      "cold beer ok\n",
      "belgian beer ok\n"
     ]
    },
    {
     "name": "stderr",
     "output_type": "stream",
     "text": [
      "\n",
      "\n",
      "\n",
      "\n",
      " 97%|█████████▋| 1318/1358 [20:05<00:55,  1.38s/it]\u001b[A\u001b[A\u001b[A\u001b[A"
     ]
    },
    {
     "name": "stdout",
     "output_type": "stream",
     "text": [
      "Czech beer ok\n",
      "[1318, 'beer', 'сорта пива', nan, nan, ' | ']\n"
     ]
    },
    {
     "name": "stderr",
     "output_type": "stream",
     "text": [
      "\n",
      "\n",
      "\n",
      "\n",
      " 97%|█████████▋| 1319/1358 [20:05<00:40,  1.03s/it]\u001b[A\u001b[A\u001b[A\u001b[A"
     ]
    },
    {
     "name": "stdout",
     "output_type": "stream",
     "text": [
      "сорта пива ok\n",
      "no examples\n",
      "[1319, 'before', 'прежде', nan, nan, 'previously | formerly | ']\n"
     ]
    },
    {
     "name": "stderr",
     "output_type": "stream",
     "text": [
      "\n",
      "\n",
      "\n",
      "\n",
      " 97%|█████████▋| 1320/1358 [20:06<00:34,  1.11it/s]\u001b[A\u001b[A\u001b[A\u001b[A"
     ]
    },
    {
     "name": "stdout",
     "output_type": "stream",
     "text": [
      "прежде ok\n",
      "no examples\n",
      "[1320, 'before', 'назад', nan, nan, 'back | backward | early | ']\n"
     ]
    },
    {
     "name": "stderr",
     "output_type": "stream",
     "text": [
      "\n",
      "\n",
      "\n",
      "\n",
      " 97%|█████████▋| 1321/1358 [20:06<00:26,  1.41it/s]\u001b[A\u001b[A\u001b[A\u001b[A"
     ]
    },
    {
     "name": "stdout",
     "output_type": "stream",
     "text": [
      "назад ok\n",
      "no examples\n",
      "[1321, 'before', 'до', nan, nan, 'to | until | up to | till | ']\n"
     ]
    },
    {
     "name": "stderr",
     "output_type": "stream",
     "text": [
      "\n",
      "\n",
      "\n",
      "\n",
      " 97%|█████████▋| 1322/1358 [20:07<00:27,  1.32it/s]\u001b[A\u001b[A\u001b[A\u001b[A"
     ]
    },
    {
     "name": "stdout",
     "output_type": "stream",
     "text": [
      "до ok\n",
      "no examples\n",
      "[1322, 'before', 'перед', nan, nan, 'in front of | prior to | ']\n"
     ]
    },
    {
     "name": "stderr",
     "output_type": "stream",
     "text": [
      "\n",
      "\n",
      "\n",
      "\n",
      " 97%|█████████▋| 1323/1358 [20:07<00:21,  1.66it/s]\u001b[A\u001b[A\u001b[A\u001b[A"
     ]
    },
    {
     "name": "stdout",
     "output_type": "stream",
     "text": [
      "перед ok\n",
      "no examples\n",
      "[1323, 'before', 'пока не', \"Let's just stop it now before we start saying things we might regret later|\", 'Лучше остановиться, пока мы не наговорили друг другу таких вещей, о которых потом будем сожалеть | ', nan]\n",
      "пока не ok\n"
     ]
    },
    {
     "name": "stderr",
     "output_type": "stream",
     "text": [
      "\n",
      "\n",
      "\n",
      "\n",
      " 97%|█████████▋| 1324/1358 [20:08<00:24,  1.39it/s]\u001b[A\u001b[A\u001b[A\u001b[A"
     ]
    },
    {
     "name": "stdout",
     "output_type": "stream",
     "text": [
      "Let's just stop it now before we start saying things we might regret later ok\n",
      "[1324, 'before', 'прежде чем', 'She went away before I could say anything|', 'Она ушла, прежде чем я успел что-то сказать | ', nan]\n",
      "прежде чем ok\n"
     ]
    },
    {
     "name": "stderr",
     "output_type": "stream",
     "text": [
      "\n",
      "\n",
      "\n",
      "\n",
      " 98%|█████████▊| 1325/1358 [20:09<00:23,  1.41it/s]\u001b[A\u001b[A\u001b[A\u001b[A"
     ]
    },
    {
     "name": "stdout",
     "output_type": "stream",
     "text": [
      "She went away before I could say anything ok\n",
      "[1325, 'begin', 'начать', 'to begin work|to begin the game|to begin an investigation|to begin his drug war|', 'начать работу | начать игру | начать расследование | начать свою войну | ', 'start | launch | initiate | open | ']\n",
      "начать ok\n",
      "to begin work ok\n",
      "to begin the game ok\n",
      "to begin an investigation ok\n"
     ]
    },
    {
     "name": "stderr",
     "output_type": "stream",
     "text": [
      "\n",
      "\n",
      "\n",
      "\n",
      " 98%|█████████▊| 1326/1358 [20:12<00:43,  1.37s/it]\u001b[A\u001b[A\u001b[A\u001b[A"
     ]
    },
    {
     "name": "stdout",
     "output_type": "stream",
     "text": [
      "to begin his drug war ok\n",
      "[1326, 'begin', 'начинать', 'to begin his story|to begin the test company|', 'начинать свой рассказ | начинать тестовое предприятие | ', 'start | launch | initiate | commence | ']\n",
      "начинать ok\n",
      "to begin his story ok\n"
     ]
    },
    {
     "name": "stderr",
     "output_type": "stream",
     "text": [
      "\n",
      "\n",
      "\n",
      "\n",
      " 98%|█████████▊| 1327/1358 [20:13<00:39,  1.27s/it]\u001b[A\u001b[A\u001b[A\u001b[A"
     ]
    },
    {
     "name": "stdout",
     "output_type": "stream",
     "text": [
      "to begin the test company ok\n",
      "[1327, 'begin', 'начинаться', 'to begin with the first step|', 'начинаться с первого шага | ', 'start | ']\n",
      "начинаться ok\n"
     ]
    },
    {
     "name": "stderr",
     "output_type": "stream",
     "text": [
      "\n",
      "\n",
      "\n",
      "\n",
      " 98%|█████████▊| 1328/1358 [20:14<00:33,  1.13s/it]\u001b[A\u001b[A\u001b[A\u001b[A"
     ]
    },
    {
     "name": "stdout",
     "output_type": "stream",
     "text": [
      "to begin with the first step ok\n",
      "[1328, 'begin', 'стать', nan, nan, 'become | start | become | be | get | make | come | ']\n"
     ]
    },
    {
     "name": "stderr",
     "output_type": "stream",
     "text": [
      "\n",
      "\n",
      "\n",
      "\n",
      " 98%|█████████▊| 1329/1358 [20:14<00:28,  1.03it/s]\u001b[A\u001b[A\u001b[A\u001b[A"
     ]
    },
    {
     "name": "stdout",
     "output_type": "stream",
     "text": [
      "стать ok\n",
      "no examples\n",
      "[1329, 'begin', 'начаться', 'to begin this week|', 'начаться на этой неделе | ', 'start | start | break out | erupt | take place | commence | usher | ']\n",
      "начаться ok\n"
     ]
    },
    {
     "name": "stderr",
     "output_type": "stream",
     "text": [
      "\n",
      "\n",
      "\n",
      "\n",
      " 98%|█████████▊| 1330/1358 [20:15<00:24,  1.15it/s]\u001b[A\u001b[A\u001b[A\u001b[A"
     ]
    },
    {
     "name": "stdout",
     "output_type": "stream",
     "text": [
      "to begin this week ok\n",
      "[1330, 'begin', 'приступить', nan, nan, 'start | launch | proceed | initiate | embark | get down | commence | ']\n"
     ]
    },
    {
     "name": "stderr",
     "output_type": "stream",
     "text": [
      "\n",
      "\n",
      "\n",
      "\n",
      " 98%|█████████▊| 1331/1358 [20:15<00:19,  1.41it/s]\u001b[A\u001b[A\u001b[A\u001b[A"
     ]
    },
    {
     "name": "stdout",
     "output_type": "stream",
     "text": [
      "приступить ok\n",
      "no examples\n",
      "[1331, 'behind', 'позади', nan, nan, 'in the back | ']\n"
     ]
    },
    {
     "name": "stderr",
     "output_type": "stream",
     "text": [
      "\n",
      "\n",
      "\n",
      "\n",
      " 98%|█████████▊| 1332/1358 [20:16<00:14,  1.76it/s]\u001b[A\u001b[A\u001b[A\u001b[A"
     ]
    },
    {
     "name": "stdout",
     "output_type": "stream",
     "text": [
      "позади ok\n",
      "no examples\n",
      "[1332, 'behind', 'сзади', nan, nan, 'from behind | at the back | in the back | ']\n"
     ]
    },
    {
     "name": "stderr",
     "output_type": "stream",
     "text": [
      "\n",
      "\n",
      "\n",
      "\n",
      " 98%|█████████▊| 1333/1358 [20:16<00:11,  2.12it/s]\u001b[A\u001b[A\u001b[A\u001b[A"
     ]
    },
    {
     "name": "stdout",
     "output_type": "stream",
     "text": [
      "сзади ok\n",
      "no examples\n",
      "[1333, 'behind', 'за', nan, nan, 'for | per | over | during | ']\n"
     ]
    },
    {
     "name": "stderr",
     "output_type": "stream",
     "text": [
      "\n",
      "\n",
      "\n",
      "\n",
      " 98%|█████████▊| 1334/1358 [20:16<00:09,  2.43it/s]\u001b[A\u001b[A\u001b[A\u001b[A"
     ]
    },
    {
     "name": "stdout",
     "output_type": "stream",
     "text": [
      "за ok\n",
      "no examples\n",
      "[1334, 'behind', 'позади', nan, nan, ' | ']\n"
     ]
    },
    {
     "name": "stderr",
     "output_type": "stream",
     "text": [
      "\n",
      "\n",
      "\n",
      "\n",
      " 98%|█████████▊| 1335/1358 [20:17<00:14,  1.58it/s]\u001b[A\u001b[A\u001b[A\u001b[A"
     ]
    },
    {
     "name": "stdout",
     "output_type": "stream",
     "text": [
      "позади ok\n",
      "no examples\n",
      "[1335, 'below', 'ниже', nan, nan, 'low | following | ']\n"
     ]
    },
    {
     "name": "stderr",
     "output_type": "stream",
     "text": [
      "\n",
      "\n",
      "\n",
      "\n",
      " 98%|█████████▊| 1336/1358 [20:18<00:11,  1.86it/s]\u001b[A\u001b[A\u001b[A\u001b[A"
     ]
    },
    {
     "name": "stdout",
     "output_type": "stream",
     "text": [
      "ниже ok\n",
      "no examples\n",
      "[1336, 'below', 'внизу', nan, nan, 'down | downstairs | at the bottom | underneath | ']\n"
     ]
    },
    {
     "name": "stderr",
     "output_type": "stream",
     "text": [
      "\n",
      "\n",
      "\n",
      "\n",
      " 98%|█████████▊| 1337/1358 [20:18<00:10,  2.01it/s]\u001b[A\u001b[A\u001b[A\u001b[A"
     ]
    },
    {
     "name": "stdout",
     "output_type": "stream",
     "text": [
      "внизу ok\n",
      "no examples\n",
      "[1337, 'below', 'снизу', nan, nan, 'from below | from the bottom | at the bottom | from bottom | underneath | ']\n"
     ]
    },
    {
     "name": "stderr",
     "output_type": "stream",
     "text": [
      "\n",
      "\n",
      "\n",
      "\n",
      " 99%|█████████▊| 1338/1358 [20:18<00:08,  2.42it/s]\u001b[A\u001b[A\u001b[A\u001b[A"
     ]
    },
    {
     "name": "stdout",
     "output_type": "stream",
     "text": [
      "снизу ok\n",
      "no examples\n",
      "[1338, 'best', 'лучший', 'very best|', 'самый лучший | ', 'better | top | fine | great | ']\n",
      "лучший ok\n"
     ]
    },
    {
     "name": "stderr",
     "output_type": "stream",
     "text": [
      "\n",
      "\n",
      "\n",
      "\n",
      " 99%|█████████▊| 1339/1358 [20:19<00:09,  2.09it/s]\u001b[A\u001b[A\u001b[A\u001b[A"
     ]
    },
    {
     "name": "stdout",
     "output_type": "stream",
     "text": [
      "very best ok\n",
      "[1339, 'best', 'наилучший', nan, nan, 'best possible | well | optimal | ']\n"
     ]
    },
    {
     "name": "stderr",
     "output_type": "stream",
     "text": [
      "\n",
      "\n",
      "\n",
      "\n",
      " 99%|█████████▊| 1340/1358 [20:19<00:08,  2.09it/s]\u001b[A\u001b[A\u001b[A\u001b[A"
     ]
    },
    {
     "name": "stdout",
     "output_type": "stream",
     "text": [
      "наилучший ok\n",
      "no examples\n",
      "[1340, 'best', 'лучше', nan, nan, 'better | better off | ']\n"
     ]
    },
    {
     "name": "stderr",
     "output_type": "stream",
     "text": [
      "\n",
      "\n",
      "\n",
      "\n",
      " 99%|█████████▊| 1341/1358 [20:20<00:06,  2.45it/s]\u001b[A\u001b[A\u001b[A\u001b[A"
     ]
    },
    {
     "name": "stdout",
     "output_type": "stream",
     "text": [
      "лучше ok\n",
      "no examples\n",
      "[1341, 'best', 'самый', nan, nan, 'very | top | latest | ']\n"
     ]
    },
    {
     "name": "stderr",
     "output_type": "stream",
     "text": [
      "\n",
      "\n",
      "\n",
      "\n",
      " 99%|█████████▉| 1342/1358 [20:20<00:05,  2.82it/s]\u001b[A\u001b[A\u001b[A\u001b[A"
     ]
    },
    {
     "name": "stdout",
     "output_type": "stream",
     "text": [
      "самый ok\n",
      "no examples\n",
      "[1342, 'best', 'оптимальный', nan, nan, 'optimal | optimum | perfect | ideal | best possible | ']\n"
     ]
    },
    {
     "name": "stderr",
     "output_type": "stream",
     "text": [
      "\n",
      "\n",
      "\n",
      "\n",
      " 99%|█████████▉| 1343/1358 [20:20<00:05,  2.96it/s]\u001b[A\u001b[A\u001b[A\u001b[A"
     ]
    },
    {
     "name": "stdout",
     "output_type": "stream",
     "text": [
      "оптимальный ok\n",
      "no examples\n",
      "[1343, 'best', 'максимум усилий', nan, nan, ' | ']\n"
     ]
    },
    {
     "name": "stderr",
     "output_type": "stream",
     "text": [
      "\n",
      "\n",
      "\n",
      "\n",
      " 99%|█████████▉| 1344/1358 [20:21<00:05,  2.68it/s]\u001b[A\u001b[A\u001b[A\u001b[A"
     ]
    },
    {
     "name": "stdout",
     "output_type": "stream",
     "text": [
      "максимум усилий ok\n",
      "no examples\n",
      "[1344, 'best', 'отель best', 'Hotel Best|', 'отель best | ', ' | ']\n"
     ]
    },
    {
     "name": "stderr",
     "output_type": "stream",
     "text": [
      "\n",
      "\n",
      "\n",
      "\n",
      " 99%|█████████▉| 1345/1358 [20:21<00:05,  2.46it/s]\u001b[A\u001b[A\u001b[A\u001b[A"
     ]
    },
    {
     "name": "stdout",
     "output_type": "stream",
     "text": [
      "отель best ok\n",
      "Hotel Best ok\n",
      "[1345, 'best', 'мерея', nan, nan, 'extent | ']\n"
     ]
    },
    {
     "name": "stderr",
     "output_type": "stream",
     "text": [
      "\n",
      "\n",
      "\n",
      "\n",
      " 99%|█████████▉| 1346/1358 [20:21<00:04,  2.72it/s]\u001b[A\u001b[A\u001b[A\u001b[A"
     ]
    },
    {
     "name": "stdout",
     "output_type": "stream",
     "text": [
      "мерея ok\n",
      "no examples\n",
      "[1346, 'best', 'максимум', nan, nan, 'maximum | peak | high | ']\n"
     ]
    },
    {
     "name": "stderr",
     "output_type": "stream",
     "text": [
      "\n",
      "\n",
      "\n",
      "\n",
      " 99%|█████████▉| 1347/1358 [20:22<00:04,  2.66it/s]\u001b[A\u001b[A\u001b[A\u001b[A"
     ]
    },
    {
     "name": "stdout",
     "output_type": "stream",
     "text": [
      "максимум ok\n",
      "no examples\n",
      "[1347, 'best', 'Бриф', nan, nan, 'brief | ']\n"
     ]
    },
    {
     "name": "stderr",
     "output_type": "stream",
     "text": [
      "\n",
      "\n",
      "\n",
      "\n",
      " 99%|█████████▉| 1348/1358 [20:22<00:03,  2.88it/s]\u001b[A\u001b[A\u001b[A\u001b[A"
     ]
    },
    {
     "name": "stdout",
     "output_type": "stream",
     "text": [
      "Бриф ok\n",
      "no examples\n",
      "[1348, 'good', 'хороший', 'very good|really good|especially good|pretty good|', 'очень хороший | действительно хороший | особенно хороший | довольно хороший | ', 'nice | great | fine | ']\n",
      "хороший ok\n",
      "very good ok\n",
      "really good ok\n",
      "especially good ok\n"
     ]
    },
    {
     "name": "stderr",
     "output_type": "stream",
     "text": [
      "\n",
      "\n",
      "\n",
      "\n",
      " 99%|█████████▉| 1349/1358 [20:25<00:10,  1.16s/it]\u001b[A\u001b[A\u001b[A\u001b[A\n",
      "\n",
      "\n",
      "\n",
      " 99%|█████████▉| 1350/1358 [20:25<00:06,  1.16it/s]\u001b[A\u001b[A\u001b[A\u001b[A"
     ]
    },
    {
     "name": "stdout",
     "output_type": "stream",
     "text": [
      "pretty good ok\n",
      "[1349, 'good', 'добрый', nan, nan, 'kind | good-natured | ']\n",
      "добрый ok\n",
      "no examples\n",
      "[1350, 'good', 'отличный', nan, nan, 'excellent | great | different | perfect | nice | wonderful | fine | outstanding | ']\n"
     ]
    },
    {
     "name": "stderr",
     "output_type": "stream",
     "text": [
      "\n",
      "\n",
      "\n",
      "\n",
      " 99%|█████████▉| 1351/1358 [20:26<00:04,  1.42it/s]\u001b[A\u001b[A\u001b[A\u001b[A"
     ]
    },
    {
     "name": "stdout",
     "output_type": "stream",
     "text": [
      "отличный ok\n",
      "no examples\n",
      "[1351, 'good', 'полезный', 'good for the economy|', 'полезный для экономики | ', 'useful | helpful | healthy | beneficial | valuable | ']\n",
      "полезный ok\n"
     ]
    },
    {
     "name": "stderr",
     "output_type": "stream",
     "text": [
      "\n",
      "\n",
      "\n",
      "\n",
      "100%|█████████▉| 1352/1358 [20:26<00:04,  1.34it/s]\u001b[A\u001b[A\u001b[A\u001b[A"
     ]
    },
    {
     "name": "stdout",
     "output_type": "stream",
     "text": [
      "good for the economy ok\n",
      "[1352, 'good', 'неплохой', nan, nan, 'nice | quite good | very nice | ']\n"
     ]
    },
    {
     "name": "stderr",
     "output_type": "stream",
     "text": [
      "\n",
      "\n",
      "\n",
      "\n",
      "100%|█████████▉| 1353/1358 [20:27<00:03,  1.32it/s]\u001b[A\u001b[A\u001b[A\u001b[A"
     ]
    },
    {
     "name": "stdout",
     "output_type": "stream",
     "text": [
      "неплохой ok\n",
      "no examples\n",
      "[1353, 'good', 'правильный', nan, nan, 'right | correct | proper | true | appropriate | valid | accurate | ']\n"
     ]
    },
    {
     "name": "stderr",
     "output_type": "stream",
     "text": [
      "\n",
      "\n",
      "\n",
      "\n",
      "100%|█████████▉| 1354/1358 [20:28<00:02,  1.38it/s]\u001b[A\u001b[A\u001b[A\u001b[A"
     ]
    },
    {
     "name": "stdout",
     "output_type": "stream",
     "text": [
      "правильный ok\n",
      "no examples\n",
      "[1354, 'well', 'здоровый', nan, nan, 'healthy | sound | robust | ']\n"
     ]
    },
    {
     "name": "stderr",
     "output_type": "stream",
     "text": [
      "\n",
      "\n",
      "\n",
      "\n",
      "100%|█████████▉| 1355/1358 [20:29<00:02,  1.40it/s]\u001b[A\u001b[A\u001b[A\u001b[A"
     ]
    },
    {
     "name": "stdout",
     "output_type": "stream",
     "text": [
      "здоровый ok\n",
      "no examples\n",
      "[1355, 'well', 'наилучший', nan, nan, 'best | best possible | optimal | ']\n"
     ]
    },
    {
     "name": "stderr",
     "output_type": "stream",
     "text": [
      "\n",
      "\n",
      "\n",
      "\n",
      "100%|█████████▉| 1356/1358 [20:29<00:01,  1.55it/s]\u001b[A\u001b[A\u001b[A\u001b[A"
     ]
    },
    {
     "name": "stdout",
     "output_type": "stream",
     "text": [
      "наилучший ok\n",
      "no examples\n",
      "[1356, 'well', 'зажиточный', nan, nan, 'affluent | wealthy | well-off | prosperous | well-to-do | ']\n"
     ]
    },
    {
     "name": "stderr",
     "output_type": "stream",
     "text": [
      "\n",
      "\n",
      "\n",
      "\n",
      "100%|█████████▉| 1357/1358 [20:30<00:00,  1.35it/s]\u001b[A\u001b[A\u001b[A\u001b[A"
     ]
    },
    {
     "name": "stdout",
     "output_type": "stream",
     "text": [
      "зажиточный ok\n",
      "no examples\n",
      "[1357, 'well', 'колодезный', nan, nan, ' | ']\n"
     ]
    },
    {
     "name": "stderr",
     "output_type": "stream",
     "text": [
      "\n",
      "\n",
      "\n",
      "\n",
      "100%|██████████| 1358/1358 [20:30<00:00,  1.63it/s]\u001b[A\u001b[A\u001b[A\u001b[A"
     ]
    },
    {
     "name": "stdout",
     "output_type": "stream",
     "text": [
      "колодезный ok\n",
      "no examples\n"
     ]
    }
   ],
   "source": [
    "df_systran_en_ru_fr = naive_translation(df_systran_en_ru,\"ru\",\"fr\")"
   ]
  },
  {
   "cell_type": "code",
   "execution_count": 61,
   "metadata": {},
   "outputs": [
    {
     "data": {
      "text/plain": [
       "['слово',\n",
       " 'и',\n",
       " 'а',\n",
       " 'и',\n",
       " 'но',\n",
       " 'а',\n",
       " 'так',\n",
       " 'то',\n",
       " 'который / кто / тот который',\n",
       " 'тот',\n",
       " 'что',\n",
       " 'чтобы',\n",
       " 'для',\n",
       " 'на',\n",
       " 'за',\n",
       " 'в',\n",
       " 'по',\n",
       " 'к',\n",
       " 'потому что / ибо',\n",
       " 'с',\n",
       " 'без',\n",
       " 'но',\n",
       " 'однако',\n",
       " 'а',\n",
       " 'но',\n",
       " 'а',\n",
       " 'тем не менее',\n",
       " 'однако',\n",
       " 'как / кроме как',\n",
       " 'чтобы не',\n",
       " 'вы',\n",
       " 'ты',\n",
       " 'этот',\n",
       " 'это',\n",
       " 'нельзя',\n",
       " 'мало',\n",
       " 'недостаточно',\n",
       " 'совсем',\n",
       " 'плохо',\n",
       " 'невозможно',\n",
       " 'иметь',\n",
       " 'быть',\n",
       " 'получить',\n",
       " 'обладать',\n",
       " 'оказать',\n",
       " 'мочь',\n",
       " 'быть',\n",
       " 'попалить',\n",
       " 'придтись',\n",
       " 'вынудить',\n",
       " 'приходиться',\n",
       " 'следовать',\n",
       " 'потребоваться',\n",
       " 'обязать',\n",
       " 'иметь',\n",
       " 'письмо',\n",
       " 'буква',\n",
       " 'символ',\n",
       " 'пластина',\n",
       " 'плита',\n",
       " 'тарелка',\n",
       " 'пластинка',\n",
       " 'лист',\n",
       " 'табличка',\n",
       " 'листы',\n",
       " 'посуда',\n",
       " 'доска',\n",
       " 'угощение',\n",
       " 'удовольствие',\n",
       " 'лакомство',\n",
       " 'лечить',\n",
       " 'рассматривать',\n",
       " 'относиться',\n",
       " 'обращаться',\n",
       " 'вылечить',\n",
       " 'рассматриваться',\n",
       " 'угостить',\n",
       " 'обрабатывать',\n",
       " 'лечиться',\n",
       " 'diners',\n",
       " 'ужин',\n",
       " 'обед',\n",
       " 'нужный',\n",
       " 'обязательный',\n",
       " 'необходимый',\n",
       " 'неотъемлемый',\n",
       " 'должный',\n",
       " 'идти',\n",
       " 'пойти',\n",
       " 'быть',\n",
       " 'ходить',\n",
       " 'пройти',\n",
       " 'отправиться',\n",
       " 'перейти',\n",
       " 'ехать',\n",
       " 'поехать',\n",
       " 'уезжать',\n",
       " 'идти вверх',\n",
       " 'подходить',\n",
       " 'росить',\n",
       " 'сойти с ума',\n",
       " 'обойти',\n",
       " 'вращаться',\n",
       " 'ездить по миру',\n",
       " 'часто путешествовать',\n",
       " 'хватать',\n",
       " 'пролетать',\n",
       " 'ходить вокруг',\n",
       " 'выйти',\n",
       " 'выходить',\n",
       " 'пойти',\n",
       " 'уходить',\n",
       " 'уйти',\n",
       " 'выслать',\n",
       " 'отправиться',\n",
       " 'отправляться',\n",
       " 'выезжать',\n",
       " 'плыть',\n",
       " 'секретный',\n",
       " 'тайный',\n",
       " 'сокровенный',\n",
       " 'секрет',\n",
       " 'тайна',\n",
       " 'табличный',\n",
       " 'настольный',\n",
       " 'стол',\n",
       " 'таблица',\n",
       " 'столик',\n",
       " 'рассматриваться',\n",
       " 'создать',\n",
       " 'создавать',\n",
       " 'создаваться',\n",
       " 'образовать',\n",
       " 'теплый',\n",
       " 'тепло',\n",
       " 'уютный',\n",
       " 'горячий',\n",
       " 'радушный',\n",
       " 'согревать',\n",
       " 'подогревать',\n",
       " 'греть',\n",
       " 'нагреваться',\n",
       " 'нагреться',\n",
       " 'никто',\n",
       " 'всей',\n",
       " 'полный',\n",
       " 'целую',\n",
       " 'весь',\n",
       " 'цельный',\n",
       " 'целостный',\n",
       " 'что-нибудь',\n",
       " 'ничто',\n",
       " 'всё',\n",
       " 'фоновый',\n",
       " 'справочный',\n",
       " 'фон',\n",
       " 'фоновый режим',\n",
       " 'происхождение',\n",
       " 'задний план',\n",
       " 'фоновое изображение',\n",
       " 'предпосылка',\n",
       " 'корень',\n",
       " 'дитя',\n",
       " 'ребенок',\n",
       " 'размещении всех детей',\n",
       " 'размещении одного ребёнка',\n",
       " 'детство',\n",
       " 'детском возрасте',\n",
       " 'весь / всё',\n",
       " 'внук',\n",
       " 'кетчуп',\n",
       " 'точка',\n",
       " 'пункт',\n",
       " 'момент',\n",
       " 'очки',\n",
       " 'балл',\n",
       " 'смысл',\n",
       " 'дело',\n",
       " 'очко',\n",
       " 'указывать',\n",
       " 'указать',\n",
       " 'направить',\n",
       " 'отметить',\n",
       " 'ссылаться',\n",
       " 'показывать',\n",
       " 'обращать',\n",
       " 'отмечать',\n",
       " 'отметить',\n",
       " 'выявить',\n",
       " 'указывать',\n",
       " 'отмечать',\n",
       " 'указать',\n",
       " 'подчеркивать',\n",
       " 'заметить',\n",
       " 'отмечаться',\n",
       " 'напомнить',\n",
       " 'сила',\n",
       " 'прочность',\n",
       " 'сильная сторона',\n",
       " 'мощь',\n",
       " 'преимущество',\n",
       " 'мощность',\n",
       " 'звезда',\n",
       " 'stars',\n",
       " 'стар',\n",
       " 'сниматься',\n",
       " 'вещь',\n",
       " 'дело',\n",
       " 'штука',\n",
       " 'ситуация',\n",
       " 'предмет',\n",
       " 'событие',\n",
       " 'момент',\n",
       " 'объект',\n",
       " 'явление',\n",
       " 'совпадать',\n",
       " 'совпасть',\n",
       " 'приурочить',\n",
       " 'танец',\n",
       " 'бал',\n",
       " 'пляска',\n",
       " 'танцевать',\n",
       " 'плясать',\n",
       " 'потанцевать',\n",
       " 'местность',\n",
       " 'деревня',\n",
       " 'природа',\n",
       " 'окрестность',\n",
       " 'загородный пейзаж',\n",
       " 'пейзаж',\n",
       " 'загородные районы',\n",
       " 'перерыв',\n",
       " 'отдых',\n",
       " 'разрыв',\n",
       " 'льгота',\n",
       " 'каникула',\n",
       " 'перемена',\n",
       " 'отпуск',\n",
       " 'прорыв',\n",
       " 'пауза',\n",
       " 'сломать',\n",
       " 'нарушать',\n",
       " 'нарушить',\n",
       " 'разбить',\n",
       " 'ломать',\n",
       " 'разорвать',\n",
       " 'побивать',\n",
       " 'порвать',\n",
       " 'разрушить',\n",
       " 'пресечь',\n",
       " 'разогнать',\n",
       " 'ликвидировать',\n",
       " 'развалиться',\n",
       " 'раскрыть',\n",
       " 'распасться',\n",
       " 'перекрыть',\n",
       " 'сорвать',\n",
       " 'расстаться',\n",
       " 'сломаться',\n",
       " 'разрушить',\n",
       " 'ломаться',\n",
       " 'сломать',\n",
       " 'разбивать',\n",
       " 'разрушаться',\n",
       " 'нарушаться',\n",
       " 'развеять',\n",
       " 'разрушать',\n",
       " 'разорвать',\n",
       " 'отламываться',\n",
       " 'замолчать',\n",
       " 'сорваться',\n",
       " 'прервать',\n",
       " 'разрывать',\n",
       " 'прерываться',\n",
       " 'разразиться',\n",
       " 'вспыхнуть',\n",
       " 'начаться',\n",
       " 'разгореться',\n",
       " 'вырваться',\n",
       " 'прорваться',\n",
       " 'матерь',\n",
       " 'материя',\n",
       " 'мама',\n",
       " 'начало',\n",
       " 'старт',\n",
       " 'запуск',\n",
       " 'пуск',\n",
       " 'договор СНВ',\n",
       " 'начать',\n",
       " 'начинать',\n",
       " 'начинаться',\n",
       " 'стать',\n",
       " 'начаться',\n",
       " 'запустить',\n",
       " 'приступить',\n",
       " 'стартовать',\n",
       " 'открыть',\n",
       " 'запускать',\n",
       " 'запускаться',\n",
       " 'вновь запустить',\n",
       " 'запуститься',\n",
       " 'начинать с электричества',\n",
       " 'начать',\n",
       " 'совет',\n",
       " 'наводка',\n",
       " 'подсказка',\n",
       " 'опрокидывать',\n",
       " 'опрокинуть',\n",
       " 'толкнуть',\n",
       " 'повергнуть',\n",
       " 'извиниться',\n",
       " 'извиняться',\n",
       " 'приносить извинения',\n",
       " 'принести извинения',\n",
       " 'приносить свои извинения',\n",
       " 'принести свои извинения',\n",
       " 'попросить прощение',\n",
       " 'придти',\n",
       " 'приходить',\n",
       " 'быть',\n",
       " 'приехать',\n",
       " 'прислать',\n",
       " 'приезжать',\n",
       " 'произойти',\n",
       " 'происходить',\n",
       " 'идти',\n",
       " 'выйти',\n",
       " 'выходить',\n",
       " 'выслать',\n",
       " 'выступить',\n",
       " 'получиться',\n",
       " 'получаться',\n",
       " 'приехать',\n",
       " 'появляться',\n",
       " 'высказаться',\n",
       " 'объедениться',\n",
       " 'собраться',\n",
       " 'объеденяться',\n",
       " 'собираться',\n",
       " 'объединить свои усилия',\n",
       " 'встречаться',\n",
       " 'соединяться',\n",
       " 'сложиться',\n",
       " 'слиться воедино',\n",
       " 'попадаться',\n",
       " 'сталкиваться',\n",
       " 'встречать',\n",
       " 'наткнуться',\n",
       " 'попасться',\n",
       " 'пересекать',\n",
       " 'натолкнуться',\n",
       " 'вернуться',\n",
       " 'возвращаться',\n",
       " 'прилетать',\n",
       " 'войти',\n",
       " 'вступить',\n",
       " 'вступать',\n",
       " 'подойти',\n",
       " 'придти',\n",
       " 'подходить',\n",
       " 'подниматься',\n",
       " 'приходить',\n",
       " 'возникать',\n",
       " 'выступить',\n",
       " 'возникнуть',\n",
       " 'подняться',\n",
       " 'опускаться',\n",
       " 'учебная программа',\n",
       " 'учебный план',\n",
       " 'программа обучения',\n",
       " 'школьная программа',\n",
       " 'курс обучения',\n",
       " 'учебный курс',\n",
       " 'опыт',\n",
       " 'знание',\n",
       " 'экспертиза',\n",
       " 'компетентность',\n",
       " 'компетенция',\n",
       " 'экспертная оценка',\n",
       " 'ноу-хау',\n",
       " 'квалификация',\n",
       " 'специализация',\n",
       " 'замораживание',\n",
       " 'мораторий',\n",
       " 'мороз',\n",
       " 'заморозок',\n",
       " 'замирание',\n",
       " 'заморозить',\n",
       " 'замораживать',\n",
       " 'замерзать',\n",
       " 'замерзнуть',\n",
       " 'застыть',\n",
       " 'замереть',\n",
       " 'приостановить',\n",
       " 'зависать',\n",
       " 'мерзнуть',\n",
       " 'вопрос',\n",
       " 'проблема',\n",
       " 'выпуск',\n",
       " 'тема',\n",
       " 'задача',\n",
       " 'издавать',\n",
       " 'выдать',\n",
       " 'выпустить',\n",
       " 'опубликовать',\n",
       " 'выдавать',\n",
       " 'вынести',\n",
       " 'выпускать',\n",
       " 'распространить',\n",
       " 'выступить',\n",
       " 'родительский',\n",
       " 'родитель',\n",
       " 'член',\n",
       " 'участник',\n",
       " 'группа',\n",
       " 'полоса',\n",
       " 'диапазон',\n",
       " 'коллектив',\n",
       " 'банда',\n",
       " 'лента',\n",
       " 'оркестр',\n",
       " 'ансамбль',\n",
       " 'заказ',\n",
       " 'порядок',\n",
       " 'приказ',\n",
       " 'ордер',\n",
       " 'орден',\n",
       " 'распоряжение',\n",
       " 'поручение',\n",
       " 'постановление',\n",
       " 'перевод',\n",
       " 'заказать',\n",
       " 'приказать',\n",
       " 'поручить',\n",
       " 'заказывать',\n",
       " 'распорядиться',\n",
       " 'постановить',\n",
       " 'предписать',\n",
       " 'обязать',\n",
       " 'потребовать',\n",
       " 'горячий',\n",
       " 'гидромассажный',\n",
       " 'жаркий',\n",
       " 'теплый',\n",
       " 'муха',\n",
       " 'мушка',\n",
       " 'летать',\n",
       " 'лететь',\n",
       " 'вылететь',\n",
       " 'полететь',\n",
       " 'пролететь',\n",
       " 'прилетать',\n",
       " 'пролетать',\n",
       " 'взлететь',\n",
       " 'вылетать',\n",
       " 'ложь',\n",
       " 'лжи',\n",
       " 'неправда',\n",
       " 'вранье',\n",
       " 'залог',\n",
       " 'лежать',\n",
       " 'находиться',\n",
       " 'заключаться',\n",
       " 'расположить',\n",
       " 'лгать',\n",
       " 'врать',\n",
       " 'крыться',\n",
       " 'располагаться',\n",
       " 'состоять',\n",
       " 'ложиться',\n",
       " 'лечь',\n",
       " 'прилечь',\n",
       " 'лежать',\n",
       " 'отборный',\n",
       " 'выбрать',\n",
       " 'выбирать',\n",
       " 'выделить',\n",
       " 'отобрать',\n",
       " 'подобрать',\n",
       " 'указать',\n",
       " 'отбирать',\n",
       " 'выбираться',\n",
       " 'выделять',\n",
       " 'школьный',\n",
       " 'учебный',\n",
       " 'школа',\n",
       " 'кафе',\n",
       " 'кафетерий',\n",
       " 'покупка',\n",
       " 'buys',\n",
       " 'купля',\n",
       " 'купить',\n",
       " 'покупать',\n",
       " 'приобрести',\n",
       " 'закупать',\n",
       " 'закупить',\n",
       " 'скупать',\n",
       " 'скупить',\n",
       " 'разъезжать',\n",
       " 'оттягивать',\n",
       " 'скупить',\n",
       " 'скупать',\n",
       " 'выкупить',\n",
       " 'сказать',\n",
       " 'сообщить',\n",
       " 'рассказать',\n",
       " 'говорить',\n",
       " 'заявить',\n",
       " 'рассказывать',\n",
       " 'сообщать',\n",
       " 'международный',\n",
       " 'интернациональный',\n",
       " 'мировой',\n",
       " 'международный матч',\n",
       " 'стенд',\n",
       " 'позиция',\n",
       " 'остановка',\n",
       " 'трибуна',\n",
       " 'стойка',\n",
       " 'подставка',\n",
       " 'киоск',\n",
       " 'стоянка',\n",
       " 'клеть',\n",
       " 'постоять',\n",
       " 'стоить',\n",
       " 'выступать',\n",
       " 'находиться',\n",
       " 'встать',\n",
       " 'остановиться',\n",
       " 'выдержать',\n",
       " 'составлять',\n",
       " 'терпеть',\n",
       " 'встать',\n",
       " 'подняться',\n",
       " 'постоять',\n",
       " 'вставать',\n",
       " 'выступить',\n",
       " 'восстать',\n",
       " 'подниматься',\n",
       " 'окрепнуть',\n",
       " 'отстаивать',\n",
       " 'выделяться',\n",
       " 'выделиться',\n",
       " 'отличаться',\n",
       " 'заинтересовать',\n",
       " 'превосходить',\n",
       " 'придерживаться',\n",
       " 'стоять в стороне',\n",
       " 'рыбный',\n",
       " 'рыба',\n",
       " 'рыбка',\n",
       " 'рыбачить',\n",
       " 'ловить рыбу',\n",
       " 'удить',\n",
       " 'выловить',\n",
       " 'ловить',\n",
       " 'выгода',\n",
       " 'преимущество',\n",
       " 'польза',\n",
       " 'пособие',\n",
       " 'льгота',\n",
       " 'благо',\n",
       " 'прибыль',\n",
       " 'выплата',\n",
       " 'выиграть',\n",
       " 'принести пользу',\n",
       " 'извлечь выгоду',\n",
       " 'выигрывать',\n",
       " 'извлекать выгоду',\n",
       " 'приносить пользу',\n",
       " 'извлечь пользу',\n",
       " 'получать выгоду',\n",
       " 'получить выгоду',\n",
       " 'умный',\n",
       " 'интеллектуальный',\n",
       " 'разумный',\n",
       " 'интеллигентный',\n",
       " 'грамотный',\n",
       " 'следовать',\n",
       " 'последовать',\n",
       " 'соблюдать',\n",
       " 'следить',\n",
       " 'придерживаться',\n",
       " 'выполнить',\n",
       " 'идти',\n",
       " 'вытекать',\n",
       " 'предшествовать',\n",
       " 'проконсультироваться',\n",
       " 'путешествие',\n",
       " 'путь',\n",
       " 'поездка',\n",
       " 'новость',\n",
       " 'ньюз',\n",
       " 'известие',\n",
       " 'Ньюз',\n",
       " 'собщение',\n",
       " 'писать',\n",
       " 'написать',\n",
       " 'записать',\n",
       " 'записывать',\n",
       " 'сочинять',\n",
       " 'писаться',\n",
       " 'записать',\n",
       " 'записывать',\n",
       " 'списать',\n",
       " 'выписать',\n",
       " 'апробация',\n",
       " 'чтение',\n",
       " 'читать',\n",
       " 'прочитать',\n",
       " 'прочесть',\n",
       " 'почитать',\n",
       " 'ознакомиться',\n",
       " 'узнать',\n",
       " 'читаться',\n",
       " 'зачитать',\n",
       " 'гласить',\n",
       " 'слышать',\n",
       " 'услышать',\n",
       " 'слушать',\n",
       " 'узнать',\n",
       " 'послушать',\n",
       " 'заслушать',\n",
       " 'выслушать',\n",
       " 'слышать',\n",
       " 'ощущение',\n",
       " 'чувствовать',\n",
       " 'почувствовать',\n",
       " 'ощутить',\n",
       " 'считать',\n",
       " 'испытывать',\n",
       " 'казаться',\n",
       " 'ощутиться',\n",
       " 'полезть',\n",
       " 'прибавить',\n",
       " 'быть',\n",
       " 'стать',\n",
       " 'иметь',\n",
       " 'являться',\n",
       " 'находиться',\n",
       " 'заключаться',\n",
       " 'оказаться',\n",
       " 'нести',\n",
       " 'остаться',\n",
       " 'стоить',\n",
       " 'постоять',\n",
       " 'оцениваться',\n",
       " 'следовать',\n",
       " 'заслуживать',\n",
       " 'правильный',\n",
       " 'правый',\n",
       " 'нужный',\n",
       " 'верный',\n",
       " 'правоцентристский',\n",
       " 'прямо',\n",
       " 'правильно',\n",
       " 'непосредственно',\n",
       " 'право',\n",
       " 'гура',\n",
       " 'gurus',\n",
       " 'светило',\n",
       " 'зубр',\n",
       " 'новичек',\n",
       " 'beginners',\n",
       " 'сталкиваться',\n",
       " 'конфликтовать',\n",
       " 'сталкивать',\n",
       " 'генетический',\n",
       " 'прецедент',\n",
       " 'беженец',\n",
       " 'делам беженцев',\n",
       " 'светский',\n",
       " 'мирский',\n",
       " 'вековой',\n",
       " 'долговременный',\n",
       " 'паста',\n",
       " 'макароны',\n",
       " 'макаронные изделия',\n",
       " 'спагетти',\n",
       " 'пасть',\n",
       " 'бобр',\n",
       " 'бивер',\n",
       " 'тигр',\n",
       " 'тигрица',\n",
       " 'tigers',\n",
       " 'лев',\n",
       " 'lions',\n",
       " 'львица',\n",
       " 'ручка',\n",
       " 'перо',\n",
       " 'загон',\n",
       " 'pens',\n",
       " 'авторучка',\n",
       " 'карандаш',\n",
       " 'дрожь',\n",
       " 'кокосовый орех',\n",
       " 'кокос',\n",
       " 'динамит',\n",
       " 'ложок',\n",
       " 'ложка',\n",
       " 'ложечка',\n",
       " 'вилок',\n",
       " 'океан',\n",
       " 'кружок',\n",
       " 'морда',\n",
       " 'кружка',\n",
       " 'шампунь',\n",
       " 'зуммер',\n",
       " 'гудок',\n",
       " 'встретиться',\n",
       " 'встретить',\n",
       " 'соответствовать',\n",
       " 'отвечать',\n",
       " 'встречаться',\n",
       " 'удовлетворить',\n",
       " 'встречать',\n",
       " 'удовлетворять',\n",
       " 'выполнить',\n",
       " 'встреча',\n",
       " 'конференц-зал',\n",
       " 'заседание',\n",
       " 'собрание',\n",
       " 'совещание',\n",
       " 'митинг',\n",
       " 'на самом деле',\n",
       " 'фактический',\n",
       " 'действительно',\n",
       " 'в действительности',\n",
       " 'собственно',\n",
       " 'вообще-то',\n",
       " 'серьга',\n",
       " 'добавить',\n",
       " 'добавлять',\n",
       " 'отметить',\n",
       " 'отмечать',\n",
       " 'сводиться',\n",
       " 'складываться',\n",
       " 'сложить',\n",
       " 'многочисленными характеристиками',\n",
       " 'рисовать',\n",
       " 'привлечь',\n",
       " 'нарисовать',\n",
       " 'провести',\n",
       " 'привлекать',\n",
       " 'вызвать',\n",
       " 'обратить',\n",
       " 'извлечь',\n",
       " 'обращать',\n",
       " 'вытягивать',\n",
       " 'вынуть',\n",
       " 'выводить',\n",
       " 'разработать',\n",
       " 'составить',\n",
       " 'оформить',\n",
       " 'вырабатывать',\n",
       " 'заключать',\n",
       " 'разрабатываться',\n",
       " 'рисунок',\n",
       " 'чертеж',\n",
       " 'рисование',\n",
       " 'жеребьевка',\n",
       " 'розыгрыш',\n",
       " 'заимствование',\n",
       " 'графика',\n",
       " 'втягивание',\n",
       " 'вытяжка',\n",
       " 'сказочный',\n",
       " 'мечта',\n",
       " 'сон',\n",
       " 'соня',\n",
       " 'dreams',\n",
       " 'мечтание',\n",
       " 'сновидение',\n",
       " 'мечтать',\n",
       " 'сниться',\n",
       " 'одеваться',\n",
       " 'одеть',\n",
       " 'одевать',\n",
       " 'одеться',\n",
       " 'оделиться',\n",
       " 'переодеться',\n",
       " 'оделить',\n",
       " 'наряжаться',\n",
       " 'одеваться',\n",
       " 'нарядиться',\n",
       " 'одеть',\n",
       " 'одеться',\n",
       " 'наряжать',\n",
       " 'доехать',\n",
       " 'водить',\n",
       " 'ехать',\n",
       " 'управлять',\n",
       " 'ездить',\n",
       " 'привести',\n",
       " 'вести',\n",
       " 'приводить',\n",
       " 'проехать',\n",
       " 'доехать',\n",
       " 'отгонять',\n",
       " 'отпугнуть',\n",
       " 'выгнать',\n",
       " 'уехать назад',\n",
       " 'отъехать',\n",
       " 'изгнать',\n",
       " 'вытеснить',\n",
       " 'вытеснять',\n",
       " 'выгнать',\n",
       " 'ведущий',\n",
       " 'движущий',\n",
       " 'приводной',\n",
       " 'возбуждающий',\n",
       " 'вождение',\n",
       " 'барабан',\n",
       " 'перкуссия',\n",
       " 'валик',\n",
       " 'ударная установка',\n",
       " 'сухой',\n",
       " 'засушливый',\n",
       " 'сушить',\n",
       " 'сохнуть',\n",
       " 'высохнуть',\n",
       " 'высыхать',\n",
       " 'высушить',\n",
       " 'высушивать',\n",
       " 'просушить',\n",
       " 'закрепляться',\n",
       " 'вытереть',\n",
       " 'иссякать',\n",
       " 'высохнуть',\n",
       " 'иссякнуть',\n",
       " 'пересыхать',\n",
       " 'уток',\n",
       " 'утка',\n",
       " 'парусина',\n",
       " 'продвинуться',\n",
       " 'выйти',\n",
       " 'пройти',\n",
       " 'продвигать',\n",
       " 'развиваться',\n",
       " 'продвигаться',\n",
       " 'продвинуть',\n",
       " 'выслать',\n",
       " 'выдвигать',\n",
       " 'развитой',\n",
       " 'передовой',\n",
       " 'передов',\n",
       " 'опытный',\n",
       " 'перспективный',\n",
       " 'прогрессивный',\n",
       " 'новейший',\n",
       " 'предварительный',\n",
       " 'во время',\n",
       " 'в течение',\n",
       " 'за',\n",
       " 'при',\n",
       " 'зарабатывать',\n",
       " 'заработать',\n",
       " 'получить',\n",
       " 'получать',\n",
       " 'завоевать',\n",
       " 'заслужить',\n",
       " 'принести',\n",
       " 'набрать',\n",
       " 'единичный',\n",
       " 'единственное число',\n",
       " 'легко',\n",
       " 'с легкостью',\n",
       " 'без труда',\n",
       " 'восточный',\n",
       " 'истый',\n",
       " 'восток',\n",
       " 'восточная сторона',\n",
       " 'приключение',\n",
       " 'авантюра',\n",
       " 'тура',\n",
       " 'adventures',\n",
       " 'наречие',\n",
       " 'электрический',\n",
       " 'электр',\n",
       " 'реклама',\n",
       " 'объявление',\n",
       " 'рекламный ролик',\n",
       " 'веко',\n",
       " 'столетие',\n",
       " 'век',\n",
       " 'размер',\n",
       " 'объем',\n",
       " 'величина',\n",
       " 'площадь',\n",
       " 'масштаб',\n",
       " 'типоразмер',\n",
       " 'электроэнергия',\n",
       " 'электричество',\n",
       " 'энергия',\n",
       " 'электроснабжение',\n",
       " 'слон',\n",
       " 'иначе',\n",
       " 'в другом месте',\n",
       " 'пустой',\n",
       " 'бессодержательный',\n",
       " 'опустошить',\n",
       " 'очистить',\n",
       " 'вылить',\n",
       " 'почистить',\n",
       " 'двигатель',\n",
       " 'движок',\n",
       " 'мотор',\n",
       " 'engines',\n",
       " 'локомотив',\n",
       " 'инженер',\n",
       " 'инженерных кадров',\n",
       " 'engineers',\n",
       " 'сапер',\n",
       " 'изобретатель',\n",
       " 'сконструировать',\n",
       " 'конструировать',\n",
       " 'достаточно',\n",
       " 'настолько',\n",
       " 'недостаточно',\n",
       " 'достаточно',\n",
       " 'довольно',\n",
       " 'ввести',\n",
       " 'войти',\n",
       " 'входить',\n",
       " 'вступить',\n",
       " 'вводить',\n",
       " 'вступать',\n",
       " 'проникнуть',\n",
       " 'указать',\n",
       " 'поступить',\n",
       " 'вход',\n",
       " 'въезд',\n",
       " 'подезд',\n",
       " 'поступление',\n",
       " 'выход',\n",
       " 'вступление',\n",
       " 'совет',\n",
       " 'консультация',\n",
       " 'рекомендация',\n",
       " 'консультирование',\n",
       " 'аэроплан',\n",
       " 'конверт',\n",
       " 'оболочка',\n",
       " 'огибающая',\n",
       " 'конвертик',\n",
       " 'особенно',\n",
       " 'в особенности',\n",
       " 'специально',\n",
       " 'в частности',\n",
       " 'европейский',\n",
       " 'евро',\n",
       " 'еврозона',\n",
       " 'четный',\n",
       " 'ровный',\n",
       " 'равномерный',\n",
       " 'еще',\n",
       " 'выровнять',\n",
       " 'каждый / любой',\n",
       " 'против',\n",
       " 'по отношению к',\n",
       " 'весь / всё',\n",
       " 'везде',\n",
       " 'повсюду',\n",
       " 'повсеместно',\n",
       " 'во всем мире',\n",
       " 'всюду',\n",
       " 'стареть',\n",
       " 'постареть',\n",
       " 'состарить где-то',\n",
       " 'точно',\n",
       " 'именно',\n",
       " 'в точности',\n",
       " 'совсем',\n",
       " 'ровно',\n",
       " 'как раз',\n",
       " 'экзамен',\n",
       " 'осмотр',\n",
       " 'обследование',\n",
       " 'экзамен',\n",
       " 'исследование',\n",
       " 'обследование',\n",
       " 'экспертиза',\n",
       " 'проверка',\n",
       " 'осмотр',\n",
       " 'рассмотрение',\n",
       " 'изучение',\n",
       " 'освидетельствование',\n",
       " 'отличный',\n",
       " 'прекрасный',\n",
       " 'превосходный',\n",
       " 'великолепный',\n",
       " 'замечательный',\n",
       " 'удобный',\n",
       " 'первоклассный',\n",
       " 'безупречный',\n",
       " 'кроме',\n",
       " 'кроме',\n",
       " 'учение',\n",
       " 'упражнение',\n",
       " 'занятие',\n",
       " ...]"
      ]
     },
     "execution_count": 61,
     "metadata": {},
     "output_type": "execute_result"
    }
   ],
   "source": [
    "list(df_systran_en_ru['local_word'])"
   ]
  },
  {
   "cell_type": "code",
   "execution_count": 63,
   "metadata": {},
   "outputs": [],
   "source": [
    "df_systran_en_ru_fr['rus_word'] = list(df_systran_en_ru['local_word'])"
   ]
  },
  {
   "cell_type": "code",
   "execution_count": 66,
   "metadata": {},
   "outputs": [],
   "source": [
    "df_systran_en_ru_fr = df_systran_en_ru_fr.reindex(columns = ['word','rus_word', 'local_word','examples','local_examples'])"
   ]
  },
  {
   "cell_type": "code",
   "execution_count": 67,
   "metadata": {
    "scrolled": true
   },
   "outputs": [
    {
     "data": {
      "text/html": [
       "<div>\n",
       "<style scoped>\n",
       "    .dataframe tbody tr th:only-of-type {\n",
       "        vertical-align: middle;\n",
       "    }\n",
       "\n",
       "    .dataframe tbody tr th {\n",
       "        vertical-align: top;\n",
       "    }\n",
       "\n",
       "    .dataframe thead th {\n",
       "        text-align: right;\n",
       "    }\n",
       "</style>\n",
       "<table border=\"1\" class=\"dataframe\">\n",
       "  <thead>\n",
       "    <tr style=\"text-align: right;\">\n",
       "      <th></th>\n",
       "      <th>word</th>\n",
       "      <th>rus_word</th>\n",
       "      <th>local_word</th>\n",
       "      <th>examples</th>\n",
       "      <th>local_examples</th>\n",
       "    </tr>\n",
       "  </thead>\n",
       "  <tbody>\n",
       "    <tr>\n",
       "      <th>0</th>\n",
       "      <td>word</td>\n",
       "      <td>слово</td>\n",
       "      <td>mot</td>\n",
       "      <td>key word|english word|first word|good word</td>\n",
       "      <td>le mot-clé|mot anglais|premier mot|bonne parole</td>\n",
       "    </tr>\n",
       "    <tr>\n",
       "      <th>1</th>\n",
       "      <td>and</td>\n",
       "      <td>и</td>\n",
       "      <td>et</td>\n",
       "      <td></td>\n",
       "      <td></td>\n",
       "    </tr>\n",
       "    <tr>\n",
       "      <th>2</th>\n",
       "      <td>and</td>\n",
       "      <td>а</td>\n",
       "      <td>et</td>\n",
       "      <td></td>\n",
       "      <td></td>\n",
       "    </tr>\n",
       "    <tr>\n",
       "      <th>3</th>\n",
       "      <td>and</td>\n",
       "      <td>и</td>\n",
       "      <td>et</td>\n",
       "      <td>He thinks of you day and night</td>\n",
       "      <td>Il pense à toi jour et nuit</td>\n",
       "    </tr>\n",
       "    <tr>\n",
       "      <th>4</th>\n",
       "      <td>and</td>\n",
       "      <td>но</td>\n",
       "      <td>mais</td>\n",
       "      <td>It's an embarrassing joke and not an insult</td>\n",
       "      <td>C'est embarrassant blague et pas une insulte</td>\n",
       "    </tr>\n",
       "    <tr>\n",
       "      <th>5</th>\n",
       "      <td>and</td>\n",
       "      <td>а</td>\n",
       "      <td>et</td>\n",
       "      <td>This is a squid and not an octopus</td>\n",
       "      <td>C'est un calmar et pas un poulpe</td>\n",
       "    </tr>\n",
       "    <tr>\n",
       "      <th>6</th>\n",
       "      <td>that</td>\n",
       "      <td>так</td>\n",
       "      <td>donc</td>\n",
       "      <td></td>\n",
       "      <td></td>\n",
       "    </tr>\n",
       "    <tr>\n",
       "      <th>7</th>\n",
       "      <td>that</td>\n",
       "      <td>то</td>\n",
       "      <td>ce</td>\n",
       "      <td></td>\n",
       "      <td></td>\n",
       "    </tr>\n",
       "    <tr>\n",
       "      <th>8</th>\n",
       "      <td>that</td>\n",
       "      <td>который / кто / тот который</td>\n",
       "      <td>qui / qui / celui qui</td>\n",
       "      <td>I know the guy that sold you the disk</td>\n",
       "      <td>Je connais le gars qui vous a vendu le disque</td>\n",
       "    </tr>\n",
       "    <tr>\n",
       "      <th>9</th>\n",
       "      <td>that</td>\n",
       "      <td>тот</td>\n",
       "      <td>le</td>\n",
       "      <td>On that evening I met Natalie|Do you see those...</td>\n",
       "      <td>Sur la soirée, j'ai rencontré Natalie|Voyez-vo...</td>\n",
       "    </tr>\n",
       "    <tr>\n",
       "      <th>10</th>\n",
       "      <td>that</td>\n",
       "      <td>что</td>\n",
       "      <td>que</td>\n",
       "      <td>Tell him that Margaret wanted to see him</td>\n",
       "      <td>Dites-lui que Margaret voulait le voir</td>\n",
       "    </tr>\n",
       "    <tr>\n",
       "      <th>11</th>\n",
       "      <td>that</td>\n",
       "      <td>чтобы</td>\n",
       "      <td>pour</td>\n",
       "      <td>Turn the mirror so that the room becomes visua...</td>\n",
       "      <td>Tourner le miroir de sorte que la pièce devien...</td>\n",
       "    </tr>\n",
       "    <tr>\n",
       "      <th>12</th>\n",
       "      <td>for</td>\n",
       "      <td>для</td>\n",
       "      <td>pour</td>\n",
       "      <td></td>\n",
       "      <td></td>\n",
       "    </tr>\n",
       "    <tr>\n",
       "      <th>13</th>\n",
       "      <td>for</td>\n",
       "      <td>на</td>\n",
       "      <td>sur</td>\n",
       "      <td></td>\n",
       "      <td></td>\n",
       "    </tr>\n",
       "    <tr>\n",
       "      <th>14</th>\n",
       "      <td>for</td>\n",
       "      <td>за</td>\n",
       "      <td>pour</td>\n",
       "      <td></td>\n",
       "      <td></td>\n",
       "    </tr>\n",
       "    <tr>\n",
       "      <th>15</th>\n",
       "      <td>for</td>\n",
       "      <td>в</td>\n",
       "      <td>dans</td>\n",
       "      <td></td>\n",
       "      <td></td>\n",
       "    </tr>\n",
       "    <tr>\n",
       "      <th>16</th>\n",
       "      <td>for</td>\n",
       "      <td>по</td>\n",
       "      <td>par</td>\n",
       "      <td></td>\n",
       "      <td></td>\n",
       "    </tr>\n",
       "    <tr>\n",
       "      <th>17</th>\n",
       "      <td>for</td>\n",
       "      <td>к</td>\n",
       "      <td>de</td>\n",
       "      <td></td>\n",
       "      <td></td>\n",
       "    </tr>\n",
       "    <tr>\n",
       "      <th>18</th>\n",
       "      <td>for</td>\n",
       "      <td>потому что / ибо</td>\n",
       "      <td>parce que / pour</td>\n",
       "      <td>Lord forgive me, for I've sinned</td>\n",
       "      <td>Seigneur, pardonne-moi, car j'ai péché</td>\n",
       "    </tr>\n",
       "    <tr>\n",
       "      <th>19</th>\n",
       "      <td>with</td>\n",
       "      <td>с</td>\n",
       "      <td>avec</td>\n",
       "      <td></td>\n",
       "      <td></td>\n",
       "    </tr>\n",
       "    <tr>\n",
       "      <th>20</th>\n",
       "      <td>with no</td>\n",
       "      <td>без</td>\n",
       "      <td>sans</td>\n",
       "      <td></td>\n",
       "      <td></td>\n",
       "    </tr>\n",
       "    <tr>\n",
       "      <th>21</th>\n",
       "      <td>but</td>\n",
       "      <td>но</td>\n",
       "      <td>mais</td>\n",
       "      <td></td>\n",
       "      <td></td>\n",
       "    </tr>\n",
       "    <tr>\n",
       "      <th>22</th>\n",
       "      <td>but</td>\n",
       "      <td>однако</td>\n",
       "      <td>cependant</td>\n",
       "      <td></td>\n",
       "      <td></td>\n",
       "    </tr>\n",
       "    <tr>\n",
       "      <th>23</th>\n",
       "      <td>but</td>\n",
       "      <td>а</td>\n",
       "      <td>et</td>\n",
       "      <td></td>\n",
       "      <td></td>\n",
       "    </tr>\n",
       "    <tr>\n",
       "      <th>24</th>\n",
       "      <td>but</td>\n",
       "      <td>но</td>\n",
       "      <td>mais</td>\n",
       "      <td>He's hardworking but not very intelligent</td>\n",
       "      <td>Il est laborieux mais pas très intelligent</td>\n",
       "    </tr>\n",
       "    <tr>\n",
       "      <th>25</th>\n",
       "      <td>but</td>\n",
       "      <td>а</td>\n",
       "      <td>et</td>\n",
       "      <td>You may tell that to others but not to me</td>\n",
       "      <td>Vous pouvez dire que pour les autres mais pas ...</td>\n",
       "    </tr>\n",
       "    <tr>\n",
       "      <th>26</th>\n",
       "      <td>but</td>\n",
       "      <td>тем не менее</td>\n",
       "      <td>néanmoins</td>\n",
       "      <td>What he says is ugly, but it's quite true</td>\n",
       "      <td>Ce qu'il dit, c'est moche, mais c'est tout à f...</td>\n",
       "    </tr>\n",
       "    <tr>\n",
       "      <th>27</th>\n",
       "      <td>but</td>\n",
       "      <td>однако</td>\n",
       "      <td>cependant</td>\n",
       "      <td>Sam would have been best, but he was dead</td>\n",
       "      <td>Sam aurait été mieux, mais il était mort</td>\n",
       "    </tr>\n",
       "    <tr>\n",
       "      <th>28</th>\n",
       "      <td>but</td>\n",
       "      <td>как / кроме как</td>\n",
       "      <td>comme / sauf comme</td>\n",
       "      <td>There was nothing else to do but to wait</td>\n",
       "      <td>Il n'y avait rien d'autre à faire que d'attendre</td>\n",
       "    </tr>\n",
       "    <tr>\n",
       "      <th>29</th>\n",
       "      <td>but</td>\n",
       "      <td>чтобы не</td>\n",
       "      <td>pour ne pas</td>\n",
       "      <td>Never a day passes but he calls her</td>\n",
       "      <td>Jamais un jour ne passe sans qu'il l'appelle</td>\n",
       "    </tr>\n",
       "    <tr>\n",
       "      <th>...</th>\n",
       "      <td>...</td>\n",
       "      <td>...</td>\n",
       "      <td>...</td>\n",
       "      <td>...</td>\n",
       "      <td>...</td>\n",
       "    </tr>\n",
       "    <tr>\n",
       "      <th>70</th>\n",
       "      <td>treat</td>\n",
       "      <td>лечить</td>\n",
       "      <td>traiter</td>\n",
       "      <td>to treat people</td>\n",
       "      <td>traiter les gens de</td>\n",
       "    </tr>\n",
       "    <tr>\n",
       "      <th>71</th>\n",
       "      <td>treat</td>\n",
       "      <td>рассматривать</td>\n",
       "      <td>considérer</td>\n",
       "      <td></td>\n",
       "      <td></td>\n",
       "    </tr>\n",
       "    <tr>\n",
       "      <th>72</th>\n",
       "      <td>treat</td>\n",
       "      <td>относиться</td>\n",
       "      <td>se rapporter à</td>\n",
       "      <td></td>\n",
       "      <td></td>\n",
       "    </tr>\n",
       "    <tr>\n",
       "      <th>73</th>\n",
       "      <td>treat</td>\n",
       "      <td>обращаться</td>\n",
       "      <td>se tourner</td>\n",
       "      <td></td>\n",
       "      <td></td>\n",
       "    </tr>\n",
       "    <tr>\n",
       "      <th>74</th>\n",
       "      <td>treat</td>\n",
       "      <td>вылечить</td>\n",
       "      <td>guérir</td>\n",
       "      <td></td>\n",
       "      <td></td>\n",
       "    </tr>\n",
       "    <tr>\n",
       "      <th>75</th>\n",
       "      <td>treat</td>\n",
       "      <td>рассматриваться</td>\n",
       "      <td>se considérer</td>\n",
       "      <td></td>\n",
       "      <td></td>\n",
       "    </tr>\n",
       "    <tr>\n",
       "      <th>76</th>\n",
       "      <td>treat</td>\n",
       "      <td>угостить</td>\n",
       "      <td>régaler</td>\n",
       "      <td></td>\n",
       "      <td></td>\n",
       "    </tr>\n",
       "    <tr>\n",
       "      <th>77</th>\n",
       "      <td>treat</td>\n",
       "      <td>обрабатывать</td>\n",
       "      <td>traiter</td>\n",
       "      <td>to treat even vast skin areas</td>\n",
       "      <td>pour traiter de vastes zones de la peau</td>\n",
       "    </tr>\n",
       "    <tr>\n",
       "      <th>78</th>\n",
       "      <td>treat</td>\n",
       "      <td>лечиться</td>\n",
       "      <td>se soigner</td>\n",
       "      <td></td>\n",
       "      <td></td>\n",
       "    </tr>\n",
       "    <tr>\n",
       "      <th>79</th>\n",
       "      <td>diner</td>\n",
       "      <td>diners</td>\n",
       "      <td>diners</td>\n",
       "      <td></td>\n",
       "      <td></td>\n",
       "    </tr>\n",
       "    <tr>\n",
       "      <th>80</th>\n",
       "      <td>dinner</td>\n",
       "      <td>ужин</td>\n",
       "      <td>dîner</td>\n",
       "      <td>romantic dinner|gala dinner|family dinner|them...</td>\n",
       "      <td>dîner romantique|gala|les repas de famille|dîn...</td>\n",
       "    </tr>\n",
       "    <tr>\n",
       "      <th>81</th>\n",
       "      <td>dinner</td>\n",
       "      <td>обед</td>\n",
       "      <td>dîner</td>\n",
       "      <td>business dinner|excellent dinner</td>\n",
       "      <td>dîner d'affaires|excellent dîner</td>\n",
       "    </tr>\n",
       "    <tr>\n",
       "      <th>82</th>\n",
       "      <td>necessary</td>\n",
       "      <td>нужный</td>\n",
       "      <td>nécessaire</td>\n",
       "      <td></td>\n",
       "      <td></td>\n",
       "    </tr>\n",
       "    <tr>\n",
       "      <th>83</th>\n",
       "      <td>necessary</td>\n",
       "      <td>обязательный</td>\n",
       "      <td>obligatoire</td>\n",
       "      <td></td>\n",
       "      <td></td>\n",
       "    </tr>\n",
       "    <tr>\n",
       "      <th>84</th>\n",
       "      <td>necessary</td>\n",
       "      <td>необходимый</td>\n",
       "      <td>nécessaire</td>\n",
       "      <td></td>\n",
       "      <td></td>\n",
       "    </tr>\n",
       "    <tr>\n",
       "      <th>85</th>\n",
       "      <td>necessary</td>\n",
       "      <td>неотъемлемый</td>\n",
       "      <td>inaliénable</td>\n",
       "      <td></td>\n",
       "      <td></td>\n",
       "    </tr>\n",
       "    <tr>\n",
       "      <th>86</th>\n",
       "      <td>necessary</td>\n",
       "      <td>должный</td>\n",
       "      <td>dû</td>\n",
       "      <td></td>\n",
       "      <td></td>\n",
       "    </tr>\n",
       "    <tr>\n",
       "      <th>87</th>\n",
       "      <td>go</td>\n",
       "      <td>идти</td>\n",
       "      <td>aller</td>\n",
       "      <td>to go home|to go further|to go straight|to go ...</td>\n",
       "      <td>rentrer|pour aller plus loin|pour aller tout d...</td>\n",
       "    </tr>\n",
       "    <tr>\n",
       "      <th>88</th>\n",
       "      <td>go</td>\n",
       "      <td>пойти</td>\n",
       "      <td>aller</td>\n",
       "      <td>to go well|to go there|to go down|to go wrong</td>\n",
       "      <td>pour aller bien|pour y aller|descendre|aller d...</td>\n",
       "    </tr>\n",
       "    <tr>\n",
       "      <th>89</th>\n",
       "      <td>go</td>\n",
       "      <td>быть</td>\n",
       "      <td>être</td>\n",
       "      <td>to go decisively|to go tomorrow|to go in vain</td>\n",
       "      <td>pour aller de manière décisive|aller demain|po...</td>\n",
       "    </tr>\n",
       "    <tr>\n",
       "      <th>90</th>\n",
       "      <td>go</td>\n",
       "      <td>ходить</td>\n",
       "      <td>marcher</td>\n",
       "      <td></td>\n",
       "      <td></td>\n",
       "    </tr>\n",
       "    <tr>\n",
       "      <th>91</th>\n",
       "      <td>go</td>\n",
       "      <td>пройти</td>\n",
       "      <td>passer</td>\n",
       "      <td>to go smoothly|to go here|to go too well|to go...</td>\n",
       "      <td>aller en douceur|aller ici|aller trop bien|pou...</td>\n",
       "    </tr>\n",
       "    <tr>\n",
       "      <th>92</th>\n",
       "      <td>go</td>\n",
       "      <td>отправиться</td>\n",
       "      <td>aller</td>\n",
       "      <td>to go to summer camp|to go to pristine reefs|t...</td>\n",
       "      <td>pour aller à un camp d'été|pour aller aux réci...</td>\n",
       "    </tr>\n",
       "    <tr>\n",
       "      <th>93</th>\n",
       "      <td>go</td>\n",
       "      <td>перейти</td>\n",
       "      <td>passer</td>\n",
       "      <td>to go to the background image|to go into its p...</td>\n",
       "      <td>pour aller à l'image d'arrière-plan|pour aller...</td>\n",
       "    </tr>\n",
       "    <tr>\n",
       "      <th>94</th>\n",
       "      <td>go</td>\n",
       "      <td>ехать</td>\n",
       "      <td>aller</td>\n",
       "      <td>to go there directly</td>\n",
       "      <td>pour y aller directement</td>\n",
       "    </tr>\n",
       "    <tr>\n",
       "      <th>95</th>\n",
       "      <td>go</td>\n",
       "      <td>поехать</td>\n",
       "      <td>aller à</td>\n",
       "      <td></td>\n",
       "      <td></td>\n",
       "    </tr>\n",
       "    <tr>\n",
       "      <th>96</th>\n",
       "      <td>go away</td>\n",
       "      <td>уезжать</td>\n",
       "      <td>quitter</td>\n",
       "      <td></td>\n",
       "      <td></td>\n",
       "    </tr>\n",
       "    <tr>\n",
       "      <th>97</th>\n",
       "      <td>go up</td>\n",
       "      <td>идти вверх</td>\n",
       "      <td>monter</td>\n",
       "      <td></td>\n",
       "      <td></td>\n",
       "    </tr>\n",
       "    <tr>\n",
       "      <th>98</th>\n",
       "      <td>go up</td>\n",
       "      <td>подходить</td>\n",
       "      <td>convenir</td>\n",
       "      <td></td>\n",
       "      <td></td>\n",
       "    </tr>\n",
       "    <tr>\n",
       "      <th>99</th>\n",
       "      <td>go up</td>\n",
       "      <td>росить</td>\n",
       "      <td>rosée</td>\n",
       "      <td></td>\n",
       "      <td></td>\n",
       "    </tr>\n",
       "  </tbody>\n",
       "</table>\n",
       "<p>100 rows × 5 columns</p>\n",
       "</div>"
      ],
      "text/plain": [
       "         word                     rus_word             local_word  \\\n",
       "0        word                        слово                    mot   \n",
       "1         and                            и                     et   \n",
       "2         and                            а                     et   \n",
       "3         and                            и                     et   \n",
       "4         and                           но                   mais   \n",
       "5         and                            а                     et   \n",
       "6        that                          так                   donc   \n",
       "7        that                           то                     ce   \n",
       "8        that  который / кто / тот который  qui / qui / celui qui   \n",
       "9        that                          тот                     le   \n",
       "10       that                          что                    que   \n",
       "11       that                        чтобы                   pour   \n",
       "12        for                          для                   pour   \n",
       "13        for                           на                    sur   \n",
       "14        for                           за                   pour   \n",
       "15        for                            в                   dans   \n",
       "16        for                           по                    par   \n",
       "17        for                            к                     de   \n",
       "18        for             потому что / ибо       parce que / pour   \n",
       "19       with                            с                   avec   \n",
       "20    with no                          без                   sans   \n",
       "21        but                           но                   mais   \n",
       "22        but                       однако              cependant   \n",
       "23        but                            а                     et   \n",
       "24        but                           но                   mais   \n",
       "25        but                            а                     et   \n",
       "26        but                 тем не менее              néanmoins   \n",
       "27        but                       однако              cependant   \n",
       "28        but              как / кроме как     comme / sauf comme   \n",
       "29        but                     чтобы не            pour ne pas   \n",
       "..        ...                          ...                    ...   \n",
       "70      treat                       лечить                traiter   \n",
       "71      treat                рассматривать             considérer   \n",
       "72      treat                   относиться         se rapporter à   \n",
       "73      treat                   обращаться             se tourner   \n",
       "74      treat                     вылечить                 guérir   \n",
       "75      treat              рассматриваться          se considérer   \n",
       "76      treat                     угостить                régaler   \n",
       "77      treat                 обрабатывать                traiter   \n",
       "78      treat                     лечиться             se soigner   \n",
       "79      diner                       diners                 diners   \n",
       "80     dinner                         ужин                  dîner   \n",
       "81     dinner                         обед                  dîner   \n",
       "82  necessary                       нужный             nécessaire   \n",
       "83  necessary                 обязательный            obligatoire   \n",
       "84  necessary                  необходимый             nécessaire   \n",
       "85  necessary                 неотъемлемый            inaliénable   \n",
       "86  necessary                      должный                     dû   \n",
       "87         go                         идти                  aller   \n",
       "88         go                        пойти                  aller   \n",
       "89         go                         быть                   être   \n",
       "90         go                       ходить                marcher   \n",
       "91         go                       пройти                 passer   \n",
       "92         go                  отправиться                  aller   \n",
       "93         go                      перейти                 passer   \n",
       "94         go                        ехать                  aller   \n",
       "95         go                      поехать                aller à   \n",
       "96    go away                      уезжать                quitter   \n",
       "97      go up                   идти вверх                 monter   \n",
       "98      go up                    подходить               convenir   \n",
       "99      go up                       росить                  rosée   \n",
       "\n",
       "                                             examples  \\\n",
       "0          key word|english word|first word|good word   \n",
       "1                                                       \n",
       "2                                                       \n",
       "3                      He thinks of you day and night   \n",
       "4         It's an embarrassing joke and not an insult   \n",
       "5                  This is a squid and not an octopus   \n",
       "6                                                       \n",
       "7                                                       \n",
       "8               I know the guy that sold you the disk   \n",
       "9   On that evening I met Natalie|Do you see those...   \n",
       "10           Tell him that Margaret wanted to see him   \n",
       "11  Turn the mirror so that the room becomes visua...   \n",
       "12                                                      \n",
       "13                                                      \n",
       "14                                                      \n",
       "15                                                      \n",
       "16                                                      \n",
       "17                                                      \n",
       "18                   Lord forgive me, for I've sinned   \n",
       "19                                                      \n",
       "20                                                      \n",
       "21                                                      \n",
       "22                                                      \n",
       "23                                                      \n",
       "24          He's hardworking but not very intelligent   \n",
       "25          You may tell that to others but not to me   \n",
       "26          What he says is ugly, but it's quite true   \n",
       "27          Sam would have been best, but he was dead   \n",
       "28           There was nothing else to do but to wait   \n",
       "29                Never a day passes but he calls her   \n",
       "..                                                ...   \n",
       "70                                    to treat people   \n",
       "71                                                      \n",
       "72                                                      \n",
       "73                                                      \n",
       "74                                                      \n",
       "75                                                      \n",
       "76                                                      \n",
       "77                      to treat even vast skin areas   \n",
       "78                                                      \n",
       "79                                                      \n",
       "80  romantic dinner|gala dinner|family dinner|them...   \n",
       "81                   business dinner|excellent dinner   \n",
       "82                                                      \n",
       "83                                                      \n",
       "84                                                      \n",
       "85                                                      \n",
       "86                                                      \n",
       "87  to go home|to go further|to go straight|to go ...   \n",
       "88      to go well|to go there|to go down|to go wrong   \n",
       "89      to go decisively|to go tomorrow|to go in vain   \n",
       "90                                                      \n",
       "91  to go smoothly|to go here|to go too well|to go...   \n",
       "92  to go to summer camp|to go to pristine reefs|t...   \n",
       "93  to go to the background image|to go into its p...   \n",
       "94                               to go there directly   \n",
       "95                                                      \n",
       "96                                                      \n",
       "97                                                      \n",
       "98                                                      \n",
       "99                                                      \n",
       "\n",
       "                                       local_examples  \n",
       "0     le mot-clé|mot anglais|premier mot|bonne parole  \n",
       "1                                                      \n",
       "2                                                      \n",
       "3                         Il pense à toi jour et nuit  \n",
       "4        C'est embarrassant blague et pas une insulte  \n",
       "5                    C'est un calmar et pas un poulpe  \n",
       "6                                                      \n",
       "7                                                      \n",
       "8       Je connais le gars qui vous a vendu le disque  \n",
       "9   Sur la soirée, j'ai rencontré Natalie|Voyez-vo...  \n",
       "10             Dites-lui que Margaret voulait le voir  \n",
       "11  Tourner le miroir de sorte que la pièce devien...  \n",
       "12                                                     \n",
       "13                                                     \n",
       "14                                                     \n",
       "15                                                     \n",
       "16                                                     \n",
       "17                                                     \n",
       "18             Seigneur, pardonne-moi, car j'ai péché  \n",
       "19                                                     \n",
       "20                                                     \n",
       "21                                                     \n",
       "22                                                     \n",
       "23                                                     \n",
       "24         Il est laborieux mais pas très intelligent  \n",
       "25  Vous pouvez dire que pour les autres mais pas ...  \n",
       "26  Ce qu'il dit, c'est moche, mais c'est tout à f...  \n",
       "27           Sam aurait été mieux, mais il était mort  \n",
       "28   Il n'y avait rien d'autre à faire que d'attendre  \n",
       "29       Jamais un jour ne passe sans qu'il l'appelle  \n",
       "..                                                ...  \n",
       "70                                traiter les gens de  \n",
       "71                                                     \n",
       "72                                                     \n",
       "73                                                     \n",
       "74                                                     \n",
       "75                                                     \n",
       "76                                                     \n",
       "77            pour traiter de vastes zones de la peau  \n",
       "78                                                     \n",
       "79                                                     \n",
       "80  dîner romantique|gala|les repas de famille|dîn...  \n",
       "81                   dîner d'affaires|excellent dîner  \n",
       "82                                                     \n",
       "83                                                     \n",
       "84                                                     \n",
       "85                                                     \n",
       "86                                                     \n",
       "87  rentrer|pour aller plus loin|pour aller tout d...  \n",
       "88  pour aller bien|pour y aller|descendre|aller d...  \n",
       "89  pour aller de manière décisive|aller demain|po...  \n",
       "90                                                     \n",
       "91  aller en douceur|aller ici|aller trop bien|pou...  \n",
       "92  pour aller à un camp d'été|pour aller aux réci...  \n",
       "93  pour aller à l'image d'arrière-plan|pour aller...  \n",
       "94                           pour y aller directement  \n",
       "95                                                     \n",
       "96                                                     \n",
       "97                                                     \n",
       "98                                                     \n",
       "99                                                     \n",
       "\n",
       "[100 rows x 5 columns]"
      ]
     },
     "execution_count": 67,
     "metadata": {},
     "output_type": "execute_result"
    }
   ],
   "source": [
    "df_systran_en_ru_fr.head(100)"
   ]
  },
  {
   "cell_type": "code",
   "execution_count": 68,
   "metadata": {},
   "outputs": [],
   "source": [
    "df_systran_en_ru_fr.to_csv(\"enrufr_naive_translation_systran_lookup_whole_list.csv\")"
   ]
  }
 ],
 "metadata": {
  "kernelspec": {
   "display_name": "Python 3",
   "language": "python",
   "name": "python3"
  },
  "language_info": {
   "codemirror_mode": {
    "name": "ipython",
    "version": 3
   },
   "file_extension": ".py",
   "mimetype": "text/x-python",
   "name": "python",
   "nbconvert_exporter": "python",
   "pygments_lexer": "ipython3",
   "version": "3.7.4"
  }
 },
 "nbformat": 4,
 "nbformat_minor": 2
}
