{
 "cells": [
  {
   "cell_type": "code",
   "execution_count": 1,
   "metadata": {},
   "outputs": [],
   "source": [
    "import json\n",
    "import os\n",
    "import pandas as pd\n",
    "import requests\n",
    "from tqdm import tqdm\n",
    "import psycopg2\n",
    "import math"
   ]
  },
  {
   "cell_type": "code",
   "execution_count": null,
   "metadata": {},
   "outputs": [],
   "source": [
    "conn = psycopg2.connect(dbname='pgstage', user='linguist', password='eDQGK0GCStlYlHNV', host='192.168.122.183')\n",
    "cursor = conn.cursor()\n"
   ]
  },
  {
   "cell_type": "code",
   "execution_count": null,
   "metadata": {},
   "outputs": [],
   "source": [
    "word = []\n",
    "#definition = []\n",
    "local_word = []\n",
    "examples = []\n",
    "examples_local = []\n",
    "parent = \"./y_lookup/en_ru/\"\n",
    "for file in os.listdir(parent):\n",
    "    with open(os.path.join(parent,file), \"r\") as f: \n",
    "        data = json.load(f)\n",
    "        for definition in data['def']:\n",
    "            word_current =  definition['text']\n",
    "            for translation in definition['tr']: \n",
    "                word.append(word_current)\n",
    "                local_word.append(translation['text'])\n",
    "                ex_en = []\n",
    "                ex_rus = []\n",
    "                if 'ex' in translation:\n",
    "                    for exmpl in translation['ex']:\n",
    "                        #print(exmpl)\n",
    "                        ex_en.append(exmpl['text'])\n",
    "                        ex_rus.append(exmpl['tr'][0]['text'])\n",
    "                examples.append(ex_en)\n",
    "                examples_local.append(ex_rus)\n",
    "                #print(translation)\n",
    "                #print()\n",
    "    "
   ]
  },
  {
   "cell_type": "code",
   "execution_count": 3,
   "metadata": {},
   "outputs": [],
   "source": [
    "def parse_from_yandex_lookup(directory, print_output = False):\n",
    "    word = []\n",
    "    local_word = []\n",
    "    pos_list = []\n",
    "    examples = []\n",
    "    examples_local = []\n",
    "    \n",
    "    for file in os.listdir(directory):\n",
    "        if print_output == True: print(file)\n",
    "        with open(os.path.join(directory,file), \"r\") as f: \n",
    "            data = json.load(f)\n",
    "            for definition in data['def']:\n",
    "                word_current =  definition['text']\n",
    "                if 'pos' in definition:\n",
    "                    global_pos = definition['pos']\n",
    "                else:\n",
    "                    global_pos = 'no_pos_available'\n",
    "                for translation in definition['tr']: \n",
    "                    #print(translation)\n",
    "                    if 'pos' in translation:\n",
    "                        pos = translation['pos']\n",
    "                    else:\n",
    "                        pos = global_pos\n",
    "                    pos_list.append(pos)\n",
    "                    word.append(word_current)\n",
    "                    local_word.append(translation['text'])\n",
    "                    ex_en = []\n",
    "                    ex_rus = []\n",
    "                    if 'ex' in translation:\n",
    "                        for exmpl in translation['ex']:\n",
    "                            #print(exmpl)\n",
    "                            ex_en.append(exmpl['text'])\n",
    "                            ex_rus.append(exmpl['tr'][0]['text'])\n",
    "                    examples.append(ex_en)\n",
    "                    examples_local.append(ex_rus)\n",
    "    data = pd.DataFrame(list(zip(word,local_word,pos_list, examples, examples_local)),columns =['word', 'local_word', 'pos', 'examples','local_examples'])\n",
    "    return  data\n"
   ]
  },
  {
   "cell_type": "code",
   "execution_count": null,
   "metadata": {},
   "outputs": [],
   "source": []
  },
  {
   "cell_type": "code",
   "execution_count": 5,
   "metadata": {},
   "outputs": [
    {
     "data": {
      "text/html": [
       "<div>\n",
       "<style scoped>\n",
       "    .dataframe tbody tr th:only-of-type {\n",
       "        vertical-align: middle;\n",
       "    }\n",
       "\n",
       "    .dataframe tbody tr th {\n",
       "        vertical-align: top;\n",
       "    }\n",
       "\n",
       "    .dataframe thead th {\n",
       "        text-align: right;\n",
       "    }\n",
       "</style>\n",
       "<table border=\"1\" class=\"dataframe\">\n",
       "  <thead>\n",
       "    <tr style=\"text-align: right;\">\n",
       "      <th></th>\n",
       "      <th>word</th>\n",
       "      <th>local_word</th>\n",
       "      <th>pos</th>\n",
       "      <th>examples</th>\n",
       "      <th>local_examples</th>\n",
       "    </tr>\n",
       "  </thead>\n",
       "  <tbody>\n",
       "    <tr>\n",
       "      <th>0</th>\n",
       "      <td>подчиненный</td>\n",
       "      <td>inferior</td>\n",
       "      <td>noun</td>\n",
       "      <td>[подчиненное положение]</td>\n",
       "      <td>[inferior position]</td>\n",
       "    </tr>\n",
       "    <tr>\n",
       "      <th>1</th>\n",
       "      <td>подчиненный</td>\n",
       "      <td>subject</td>\n",
       "      <td>noun</td>\n",
       "      <td>[]</td>\n",
       "      <td>[]</td>\n",
       "    </tr>\n",
       "    <tr>\n",
       "      <th>2</th>\n",
       "      <td>подчиненный</td>\n",
       "      <td>subordination</td>\n",
       "      <td>noun</td>\n",
       "      <td>[]</td>\n",
       "      <td>[]</td>\n",
       "    </tr>\n",
       "    <tr>\n",
       "      <th>3</th>\n",
       "      <td>подчиненный</td>\n",
       "      <td>underling</td>\n",
       "      <td>noun</td>\n",
       "      <td>[]</td>\n",
       "      <td>[]</td>\n",
       "    </tr>\n",
       "    <tr>\n",
       "      <th>4</th>\n",
       "      <td>подчиненный</td>\n",
       "      <td>subaltern</td>\n",
       "      <td>noun</td>\n",
       "      <td>[]</td>\n",
       "      <td>[]</td>\n",
       "    </tr>\n",
       "  </tbody>\n",
       "</table>\n",
       "</div>"
      ],
      "text/plain": [
       "          word     local_word   pos                 examples  \\\n",
       "0  подчиненный       inferior  noun  [подчиненное положение]   \n",
       "1  подчиненный        subject  noun                       []   \n",
       "2  подчиненный  subordination  noun                       []   \n",
       "3  подчиненный      underling  noun                       []   \n",
       "4  подчиненный      subaltern  noun                       []   \n",
       "\n",
       "        local_examples  \n",
       "0  [inferior position]  \n",
       "1                   []  \n",
       "2                   []  \n",
       "3                   []  \n",
       "4                   []  "
      ]
     },
     "execution_count": 5,
     "metadata": {},
     "output_type": "execute_result"
    }
   ],
   "source": [
    "yandex_lookup_ru_en= parse_from_yandex_lookup(\"/Users/nigula/LL/adjust_unigr_dict/lookup/yandex_lookup_ru_en\")\n",
    "yandex_lookup_ru_en.head()\n"
   ]
  },
  {
   "cell_type": "code",
   "execution_count": 6,
   "metadata": {},
   "outputs": [],
   "source": [
    "yandex_lookup_ru_en.to_csv(\"/Users/nigula/LL/adjust_unigr_dict/lookup results/yandex_lookup_ru_en.csv\")"
   ]
  },
  {
   "cell_type": "code",
   "execution_count": 14,
   "metadata": {},
   "outputs": [],
   "source": [
    "yandex_lookup_ru_en.to_csv(\"/Users/nigula/LL/adjust_unigr_dict/lookup/yandex_ru_en_fr.csv\")"
   ]
  },
  {
   "cell_type": "code",
   "execution_count": 7,
   "metadata": {},
   "outputs": [],
   "source": [
    "yandex_lookup_ru_fr= parse_from_yandex_lookup(\"/Users/nigula/LL/adjust_unigr_dict/lookup/yandex_lookup_ru_fr\")"
   ]
  },
  {
   "cell_type": "code",
   "execution_count": 8,
   "metadata": {},
   "outputs": [
    {
     "data": {
      "text/html": [
       "<div>\n",
       "<style scoped>\n",
       "    .dataframe tbody tr th:only-of-type {\n",
       "        vertical-align: middle;\n",
       "    }\n",
       "\n",
       "    .dataframe tbody tr th {\n",
       "        vertical-align: top;\n",
       "    }\n",
       "\n",
       "    .dataframe thead th {\n",
       "        text-align: right;\n",
       "    }\n",
       "</style>\n",
       "<table border=\"1\" class=\"dataframe\">\n",
       "  <thead>\n",
       "    <tr style=\"text-align: right;\">\n",
       "      <th></th>\n",
       "      <th>word</th>\n",
       "      <th>local_word</th>\n",
       "      <th>pos</th>\n",
       "      <th>examples</th>\n",
       "      <th>local_examples</th>\n",
       "    </tr>\n",
       "  </thead>\n",
       "  <tbody>\n",
       "    <tr>\n",
       "      <th>0</th>\n",
       "      <td>подчиненный</td>\n",
       "      <td>subordonné</td>\n",
       "      <td>noun</td>\n",
       "      <td>[]</td>\n",
       "      <td>[]</td>\n",
       "    </tr>\n",
       "    <tr>\n",
       "      <th>1</th>\n",
       "      <td>подчиненный</td>\n",
       "      <td>subalterne</td>\n",
       "      <td>noun</td>\n",
       "      <td>[подчиненное положение]</td>\n",
       "      <td>[position subalterne]</td>\n",
       "    </tr>\n",
       "    <tr>\n",
       "      <th>2</th>\n",
       "      <td>подчиненный</td>\n",
       "      <td>assujetti</td>\n",
       "      <td>noun</td>\n",
       "      <td>[]</td>\n",
       "      <td>[]</td>\n",
       "    </tr>\n",
       "    <tr>\n",
       "      <th>3</th>\n",
       "      <td>подчиненный</td>\n",
       "      <td>sujet</td>\n",
       "      <td>noun</td>\n",
       "      <td>[]</td>\n",
       "      <td>[]</td>\n",
       "    </tr>\n",
       "    <tr>\n",
       "      <th>4</th>\n",
       "      <td>подчиненный</td>\n",
       "      <td>sous-ordre</td>\n",
       "      <td>noun</td>\n",
       "      <td>[]</td>\n",
       "      <td>[]</td>\n",
       "    </tr>\n",
       "  </tbody>\n",
       "</table>\n",
       "</div>"
      ],
      "text/plain": [
       "          word  local_word   pos                 examples  \\\n",
       "0  подчиненный  subordonné  noun                       []   \n",
       "1  подчиненный  subalterne  noun  [подчиненное положение]   \n",
       "2  подчиненный   assujetti  noun                       []   \n",
       "3  подчиненный       sujet  noun                       []   \n",
       "4  подчиненный  sous-ordre  noun                       []   \n",
       "\n",
       "          local_examples  \n",
       "0                     []  \n",
       "1  [position subalterne]  \n",
       "2                     []  \n",
       "3                     []  \n",
       "4                     []  "
      ]
     },
     "execution_count": 8,
     "metadata": {},
     "output_type": "execute_result"
    }
   ],
   "source": [
    "yandex_lookup_ru_fr.head()"
   ]
  },
  {
   "cell_type": "code",
   "execution_count": 11,
   "metadata": {},
   "outputs": [],
   "source": [
    "yandex_lookup_ru_fr.to_csv(\"/Users/nigula/LL/adjust_unigr_dict/lookup results/yandex_lookup_ru_fr.csv\")"
   ]
  },
  {
   "cell_type": "code",
   "execution_count": 4,
   "metadata": {},
   "outputs": [],
   "source": [
    "yandex_lookup_fr_en= parse_from_yandex_lookup(\"/Users/nigula/LL/adjust_unigr_dict/lookup/yandex_fr_en\")"
   ]
  },
  {
   "cell_type": "code",
   "execution_count": 5,
   "metadata": {},
   "outputs": [
    {
     "data": {
      "text/html": [
       "<div>\n",
       "<style scoped>\n",
       "    .dataframe tbody tr th:only-of-type {\n",
       "        vertical-align: middle;\n",
       "    }\n",
       "\n",
       "    .dataframe tbody tr th {\n",
       "        vertical-align: top;\n",
       "    }\n",
       "\n",
       "    .dataframe thead th {\n",
       "        text-align: right;\n",
       "    }\n",
       "</style>\n",
       "<table border=\"1\" class=\"dataframe\">\n",
       "  <thead>\n",
       "    <tr style=\"text-align: right;\">\n",
       "      <th></th>\n",
       "      <th>word</th>\n",
       "      <th>local_word</th>\n",
       "      <th>pos</th>\n",
       "      <th>examples</th>\n",
       "      <th>local_examples</th>\n",
       "    </tr>\n",
       "  </thead>\n",
       "  <tbody>\n",
       "    <tr>\n",
       "      <th>0</th>\n",
       "      <td>tomber</td>\n",
       "      <td>fall</td>\n",
       "      <td>verb</td>\n",
       "      <td>[]</td>\n",
       "      <td>[]</td>\n",
       "    </tr>\n",
       "    <tr>\n",
       "      <th>1</th>\n",
       "      <td>tomber</td>\n",
       "      <td>fell</td>\n",
       "      <td>noun</td>\n",
       "      <td>[]</td>\n",
       "      <td>[]</td>\n",
       "    </tr>\n",
       "    <tr>\n",
       "      <th>2</th>\n",
       "      <td>tomber</td>\n",
       "      <td>fall down</td>\n",
       "      <td>verb</td>\n",
       "      <td>[]</td>\n",
       "      <td>[]</td>\n",
       "    </tr>\n",
       "    <tr>\n",
       "      <th>3</th>\n",
       "      <td>pénétrer</td>\n",
       "      <td>penetrate</td>\n",
       "      <td>verb</td>\n",
       "      <td>[]</td>\n",
       "      <td>[]</td>\n",
       "    </tr>\n",
       "    <tr>\n",
       "      <th>4</th>\n",
       "      <td>complet</td>\n",
       "      <td>full</td>\n",
       "      <td>noun</td>\n",
       "      <td>[]</td>\n",
       "      <td>[]</td>\n",
       "    </tr>\n",
       "  </tbody>\n",
       "</table>\n",
       "</div>"
      ],
      "text/plain": [
       "       word local_word   pos examples local_examples\n",
       "0    tomber       fall  verb       []             []\n",
       "1    tomber       fell  noun       []             []\n",
       "2    tomber  fall down  verb       []             []\n",
       "3  pénétrer  penetrate  verb       []             []\n",
       "4   complet       full  noun       []             []"
      ]
     },
     "execution_count": 5,
     "metadata": {},
     "output_type": "execute_result"
    }
   ],
   "source": [
    "yandex_lookup_fr_en.head()"
   ]
  },
  {
   "cell_type": "code",
   "execution_count": 4,
   "metadata": {},
   "outputs": [],
   "source": [
    "yandex_lookup_fr_ru= parse_from_yandex_lookup(\"/Users/nigula/LL/adjust_unigr_dict/lookup/yandex_lookup_fr_ru\")"
   ]
  },
  {
   "cell_type": "code",
   "execution_count": 5,
   "metadata": {},
   "outputs": [
    {
     "data": {
      "text/html": [
       "<div>\n",
       "<style scoped>\n",
       "    .dataframe tbody tr th:only-of-type {\n",
       "        vertical-align: middle;\n",
       "    }\n",
       "\n",
       "    .dataframe tbody tr th {\n",
       "        vertical-align: top;\n",
       "    }\n",
       "\n",
       "    .dataframe thead th {\n",
       "        text-align: right;\n",
       "    }\n",
       "</style>\n",
       "<table border=\"1\" class=\"dataframe\">\n",
       "  <thead>\n",
       "    <tr style=\"text-align: right;\">\n",
       "      <th></th>\n",
       "      <th>word</th>\n",
       "      <th>local_word</th>\n",
       "      <th>pos</th>\n",
       "      <th>examples</th>\n",
       "      <th>local_examples</th>\n",
       "    </tr>\n",
       "  </thead>\n",
       "  <tbody>\n",
       "    <tr>\n",
       "      <th>0</th>\n",
       "      <td>tomber</td>\n",
       "      <td>упасть</td>\n",
       "      <td>verb</td>\n",
       "      <td>[branches tombées, tomber à terre, tomber vict...</td>\n",
       "      <td>[упавшие ветви, падать на землю, пасть жертвам...</td>\n",
       "    </tr>\n",
       "    <tr>\n",
       "      <th>1</th>\n",
       "      <td>tomber</td>\n",
       "      <td>попасть</td>\n",
       "      <td>verb</td>\n",
       "      <td>[tomber en disgrâce]</td>\n",
       "      <td>[попадать в немилость]</td>\n",
       "    </tr>\n",
       "    <tr>\n",
       "      <th>2</th>\n",
       "      <td>tomber</td>\n",
       "      <td>опускать</td>\n",
       "      <td>verb</td>\n",
       "      <td>[]</td>\n",
       "      <td>[]</td>\n",
       "    </tr>\n",
       "    <tr>\n",
       "      <th>3</th>\n",
       "      <td>tomber</td>\n",
       "      <td>опадать</td>\n",
       "      <td>verb</td>\n",
       "      <td>[]</td>\n",
       "      <td>[]</td>\n",
       "    </tr>\n",
       "    <tr>\n",
       "      <th>4</th>\n",
       "      <td>tomber</td>\n",
       "      <td>положить</td>\n",
       "      <td>verb</td>\n",
       "      <td>[]</td>\n",
       "      <td>[]</td>\n",
       "    </tr>\n",
       "  </tbody>\n",
       "</table>\n",
       "</div>"
      ],
      "text/plain": [
       "     word local_word   pos                                           examples  \\\n",
       "0  tomber     упасть  verb  [branches tombées, tomber à terre, tomber vict...   \n",
       "1  tomber    попасть  verb                               [tomber en disgrâce]   \n",
       "2  tomber   опускать  verb                                                 []   \n",
       "3  tomber    опадать  verb                                                 []   \n",
       "4  tomber   положить  verb                                                 []   \n",
       "\n",
       "                                      local_examples  \n",
       "0  [упавшие ветви, падать на землю, пасть жертвам...  \n",
       "1                             [попадать в немилость]  \n",
       "2                                                 []  \n",
       "3                                                 []  \n",
       "4                                                 []  "
      ]
     },
     "execution_count": 5,
     "metadata": {},
     "output_type": "execute_result"
    }
   ],
   "source": [
    "yandex_lookup_fr_ru.head()"
   ]
  },
  {
   "cell_type": "code",
   "execution_count": 6,
   "metadata": {},
   "outputs": [],
   "source": [
    "yandex_lookup_fr_ru.to_csv(\"/Users/nigula/LL/adjust_unigr_dict/lookup results/yandex_lookup_fr_ru.csv\")"
   ]
  },
  {
   "cell_type": "code",
   "execution_count": 6,
   "metadata": {},
   "outputs": [],
   "source": [
    "yandex_lookup_fr_en.to_csv(\"yandex_lookup_fr_en.csv\")"
   ]
  },
  {
   "cell_type": "code",
   "execution_count": null,
   "metadata": {},
   "outputs": [],
   "source": []
  },
  {
   "cell_type": "code",
   "execution_count": 14,
   "metadata": {},
   "outputs": [],
   "source": [
    "yandex_lookup_en_ru_new = parse_from_yandex_lookup(\"/Users/nigula/LL/adjust_unigr_dict/lookup/yandex_lookup_en_ru\")"
   ]
  },
  {
   "cell_type": "code",
   "execution_count": 15,
   "metadata": {},
   "outputs": [
    {
     "data": {
      "text/html": [
       "<div>\n",
       "<style scoped>\n",
       "    .dataframe tbody tr th:only-of-type {\n",
       "        vertical-align: middle;\n",
       "    }\n",
       "\n",
       "    .dataframe tbody tr th {\n",
       "        vertical-align: top;\n",
       "    }\n",
       "\n",
       "    .dataframe thead th {\n",
       "        text-align: right;\n",
       "    }\n",
       "</style>\n",
       "<table border=\"1\" class=\"dataframe\">\n",
       "  <thead>\n",
       "    <tr style=\"text-align: right;\">\n",
       "      <th></th>\n",
       "      <th>word</th>\n",
       "      <th>local_word</th>\n",
       "      <th>pos</th>\n",
       "      <th>examples</th>\n",
       "      <th>local_examples</th>\n",
       "    </tr>\n",
       "  </thead>\n",
       "  <tbody>\n",
       "    <tr>\n",
       "      <th>0</th>\n",
       "      <td>before</td>\n",
       "      <td>до</td>\n",
       "      <td>preposition</td>\n",
       "      <td>[before the war]</td>\n",
       "      <td>[до войны]</td>\n",
       "    </tr>\n",
       "    <tr>\n",
       "      <th>1</th>\n",
       "      <td>before</td>\n",
       "      <td>впереди</td>\n",
       "      <td>preposition</td>\n",
       "      <td>[]</td>\n",
       "      <td>[]</td>\n",
       "    </tr>\n",
       "    <tr>\n",
       "      <th>2</th>\n",
       "      <td>before</td>\n",
       "      <td>пред</td>\n",
       "      <td>preposition</td>\n",
       "      <td>[]</td>\n",
       "      <td>[]</td>\n",
       "    </tr>\n",
       "    <tr>\n",
       "      <th>3</th>\n",
       "      <td>before</td>\n",
       "      <td>накануне</td>\n",
       "      <td>preposition</td>\n",
       "      <td>[]</td>\n",
       "      <td>[]</td>\n",
       "    </tr>\n",
       "    <tr>\n",
       "      <th>4</th>\n",
       "      <td>before</td>\n",
       "      <td>передо</td>\n",
       "      <td>preposition</td>\n",
       "      <td>[]</td>\n",
       "      <td>[]</td>\n",
       "    </tr>\n",
       "  </tbody>\n",
       "</table>\n",
       "</div>"
      ],
      "text/plain": [
       "     word local_word          pos          examples local_examples\n",
       "0  before         до  preposition  [before the war]     [до войны]\n",
       "1  before    впереди  preposition                []             []\n",
       "2  before       пред  preposition                []             []\n",
       "3  before   накануне  preposition                []             []\n",
       "4  before     передо  preposition                []             []"
      ]
     },
     "execution_count": 15,
     "metadata": {},
     "output_type": "execute_result"
    }
   ],
   "source": [
    "yandex_lookup_en_ru_new.head()"
   ]
  },
  {
   "cell_type": "code",
   "execution_count": 17,
   "metadata": {},
   "outputs": [],
   "source": [
    "yandex_lookup_en_ru_new.to_csv(\"yandex_lookup_en_ru_new_vs_pos.csv\")"
   ]
  },
  {
   "cell_type": "code",
   "execution_count": 18,
   "metadata": {},
   "outputs": [],
   "source": [
    "yandex_lookup_en_fr_new = parse_from_yandex_lookup(\"/Users/nigula/LL/adjust_unigr_dict/lookup/yandex_lookup_en_fr\")"
   ]
  },
  {
   "cell_type": "code",
   "execution_count": 19,
   "metadata": {},
   "outputs": [
    {
     "data": {
      "text/html": [
       "<div>\n",
       "<style scoped>\n",
       "    .dataframe tbody tr th:only-of-type {\n",
       "        vertical-align: middle;\n",
       "    }\n",
       "\n",
       "    .dataframe tbody tr th {\n",
       "        vertical-align: top;\n",
       "    }\n",
       "\n",
       "    .dataframe thead th {\n",
       "        text-align: right;\n",
       "    }\n",
       "</style>\n",
       "<table border=\"1\" class=\"dataframe\">\n",
       "  <thead>\n",
       "    <tr style=\"text-align: right;\">\n",
       "      <th></th>\n",
       "      <th>word</th>\n",
       "      <th>local_word</th>\n",
       "      <th>pos</th>\n",
       "      <th>examples</th>\n",
       "      <th>local_examples</th>\n",
       "    </tr>\n",
       "  </thead>\n",
       "  <tbody>\n",
       "    <tr>\n",
       "      <th>0</th>\n",
       "      <td>before</td>\n",
       "      <td>avant</td>\n",
       "      <td>preposition</td>\n",
       "      <td>[]</td>\n",
       "      <td>[]</td>\n",
       "    </tr>\n",
       "    <tr>\n",
       "      <th>1</th>\n",
       "      <td>before</td>\n",
       "      <td>auparavant</td>\n",
       "      <td>adverb</td>\n",
       "      <td>[]</td>\n",
       "      <td>[]</td>\n",
       "    </tr>\n",
       "    <tr>\n",
       "      <th>2</th>\n",
       "      <td>adverb</td>\n",
       "      <td>adverbe</td>\n",
       "      <td>noun</td>\n",
       "      <td>[]</td>\n",
       "      <td>[]</td>\n",
       "    </tr>\n",
       "    <tr>\n",
       "      <th>3</th>\n",
       "      <td>during</td>\n",
       "      <td>lors</td>\n",
       "      <td>adverb</td>\n",
       "      <td>[]</td>\n",
       "      <td>[]</td>\n",
       "    </tr>\n",
       "    <tr>\n",
       "      <th>4</th>\n",
       "      <td>during</td>\n",
       "      <td>durant</td>\n",
       "      <td>preposition</td>\n",
       "      <td>[]</td>\n",
       "      <td>[]</td>\n",
       "    </tr>\n",
       "  </tbody>\n",
       "</table>\n",
       "</div>"
      ],
      "text/plain": [
       "     word  local_word          pos examples local_examples\n",
       "0  before       avant  preposition       []             []\n",
       "1  before  auparavant       adverb       []             []\n",
       "2  adverb     adverbe         noun       []             []\n",
       "3  during        lors       adverb       []             []\n",
       "4  during      durant  preposition       []             []"
      ]
     },
     "execution_count": 19,
     "metadata": {},
     "output_type": "execute_result"
    }
   ],
   "source": [
    "yandex_lookup_en_fr_new.head()"
   ]
  },
  {
   "cell_type": "code",
   "execution_count": 20,
   "metadata": {},
   "outputs": [],
   "source": [
    "yandex_lookup_en_fr_new.to_csv(\"yandex_lookup_en_fr_new_vs_pos.csv\")"
   ]
  },
  {
   "cell_type": "code",
   "execution_count": 16,
   "metadata": {},
   "outputs": [
    {
     "data": {
      "text/plain": [
       "{'adjective',\n",
       " 'adverb',\n",
       " 'conjunction',\n",
       " 'foreign word',\n",
       " 'no_pos_available',\n",
       " 'noun',\n",
       " 'numeral',\n",
       " 'participle',\n",
       " 'particle',\n",
       " 'predicative',\n",
       " 'preposition',\n",
       " 'pronoun',\n",
       " 'verb'}"
      ]
     },
     "execution_count": 16,
     "metadata": {},
     "output_type": "execute_result"
    }
   ],
   "source": [
    "set(yandex_lookup_en_ru_new['pos'])"
   ]
  },
  {
   "cell_type": "code",
   "execution_count": null,
   "metadata": {},
   "outputs": [],
   "source": [
    "yandex2common_dict = {\"adjective\"}"
   ]
  },
  {
   "cell_type": "code",
   "execution_count": null,
   "metadata": {},
   "outputs": [],
   "source": [
    "def get_word_forms(word):\n",
    "    req = \"\"\"SELECT DISTINCT\n",
    "    content_words.word_id,content_words.word_lemma, content_words.word_value\n",
    "    FROM content_words\n",
    "    WHERE content_words.word_value !~ ('\\W') AND\n",
    "    (array_length(regexp_split_to_array(content_words.word_value, '[ ''-]'), 1) = 1) \n",
    "    and word_lemma != 0 and word_hash = calc_hash(' \"\"\" + word + \"\"\"')\"\"\"\n",
    "    cursor.execute(req)\n",
    "    req_res = cursor.fetchone()\n",
    "    if not req_res:\n",
    "        print(word, \" is not in db\")\n",
    "        return []\n",
    "    else:\n",
    "        #print(a[0])\n",
    "        word_id = req_res[0]\n",
    "    word_forms_request = \"\"\"SELECT DISTINCT \n",
    "    content_words.word_value\n",
    "    FROM content_words\n",
    "    where word_lemma = \"\"\" + str(word_id) + \"\"\"  and word_lemma != word_id \"\"\"\n",
    "    cursor.execute(word_forms_request)\n",
    "    word_forms = []\n",
    "    for word in cursor:\n",
    "        #print(word[0])\n",
    "        word_forms.append(word[0])\n",
    "    return word_forms\n",
    "get_word_forms(\"book\")\n"
   ]
  },
  {
   "cell_type": "code",
   "execution_count": null,
   "metadata": {},
   "outputs": [],
   "source": [
    "def parse_json(path, word, local_word,examples,examples_local):\n",
    "    try:\n",
    "        with open(path, \"r\") as f: \n",
    "            data = json.load(f)\n",
    "            for definition in data['def']:\n",
    "                word_current =  definition['text']\n",
    "                for translation in definition['tr']: \n",
    "                    word.append(word_current)\n",
    "                    local_word.append(translation['text'])\n",
    "                    ex_en = []\n",
    "                    ex_rus = []\n",
    "                    if 'ex' in translation:\n",
    "                        for exmpl in translation['ex']:\n",
    "                            #print(exmpl)\n",
    "                            ex_en.append(exmpl['text'])\n",
    "                            ex_rus.append(exmpl['tr'][0]['text'])\n",
    "                    examples.append(ex_en)\n",
    "                    examples_local.append(ex_rus)\n",
    "    except:\n",
    "        pass"
   ]
  },
  {
   "cell_type": "code",
   "execution_count": null,
   "metadata": {},
   "outputs": [],
   "source": [
    "def parse_from_yandex_lookup_vs_wordforms(directory):\n",
    "    word = []\n",
    "    local_word = []\n",
    "    examples = []\n",
    "    examples_local = []\n",
    "    words = pd.read_csv(\"test_words.csv\", header = None)\n",
    "    for word_i in words[0].items():\n",
    "        print (word_i[1])\n",
    "        file = word_i[1] + \".json\"\n",
    "        parse_json(os.path.join(directory,file),word, local_word,examples,examples_local)\n",
    "        wordforms = get_word_forms(word_i[1].lower())\n",
    "        for wf in wordforms:\n",
    "            print(\">>>\", wf)\n",
    "            file = wf + \".json\"\n",
    "            parse_json(os.path.join(directory,file),word, local_word,examples,examples_local)\n",
    "        \n",
    "    data = pd.DataFrame(list(zip(word,local_word,examples, examples_local)),columns =['word', 'local_word', 'examples','local_examples'])\n",
    "    return  data\n",
    "enru_wv = parse_from_yandex_lookup_vs_wordforms(\"./y_lookup/en_ru/\")"
   ]
  },
  {
   "cell_type": "code",
   "execution_count": null,
   "metadata": {},
   "outputs": [],
   "source": [
    "enru_wv.to_csv(\"yandex_lookup_en_ru_with_wordforms.csv\")"
   ]
  },
  {
   "cell_type": "code",
   "execution_count": null,
   "metadata": {},
   "outputs": [],
   "source": [
    "enru_wv.head(30)"
   ]
  },
  {
   "cell_type": "code",
   "execution_count": null,
   "metadata": {},
   "outputs": [],
   "source": [
    "en_fr_wv = parse_from_yandex_lookup_vs_wordforms(\"./y_lookup/en_fr/\")"
   ]
  },
  {
   "cell_type": "code",
   "execution_count": null,
   "metadata": {},
   "outputs": [],
   "source": [
    "en_fr_wv.to_csv(\"yandex_lookup_en_fr_with_wordforms.csv\")"
   ]
  },
  {
   "cell_type": "code",
   "execution_count": null,
   "metadata": {},
   "outputs": [],
   "source": [
    "len(word), len(local_word), len(examples), len(examples_local)"
   ]
  },
  {
   "cell_type": "code",
   "execution_count": null,
   "metadata": {},
   "outputs": [],
   "source": [
    "enru_ = parse_from_yandex_lookup(\"./y_lookup/en_ru/\")\n",
    "enru.head()"
   ]
  },
  {
   "cell_type": "code",
   "execution_count": null,
   "metadata": {},
   "outputs": [],
   "source": [
    "enru"
   ]
  },
  {
   "cell_type": "code",
   "execution_count": null,
   "metadata": {},
   "outputs": [],
   "source": [
    "enfr__whole_list = parse_from_yandex_lookup(\"./y_lookup/en_fr_whole_list/\", print_output=True)\n",
    "enfr__whole_list.head()"
   ]
  },
  {
   "cell_type": "code",
   "execution_count": null,
   "metadata": {},
   "outputs": [],
   "source": [
    "list(enfr__whole_list['word']).index(\"nobody\")"
   ]
  },
  {
   "cell_type": "code",
   "execution_count": null,
   "metadata": {},
   "outputs": [],
   "source": [
    "enru.to_csv(\"yandex_lookup_en_ru_lemmas_only.csv\")"
   ]
  },
  {
   "cell_type": "code",
   "execution_count": null,
   "metadata": {},
   "outputs": [],
   "source": [
    "enfr__whole_list.to_csv(\"yandex_lookup_en_fr_lemmas_only_WHOLE_LIST.csv\")"
   ]
  },
  {
   "cell_type": "code",
   "execution_count": null,
   "metadata": {},
   "outputs": [],
   "source": [
    "url_y = \"http://192.168.122.13:31436/GetTranslate\"\n",
    "h_y = {\"apiVersion\": \"1.0.0\", \"text\": \"гайки и болты\", \"langPair\": {\"source\": \"ru\", \"target\": \"fr\"}}\n",
    "#h_y = {\"apiVersion\": \"1.0.0\", \"text\": \"Landing to the mars\", \"langPair\": \"en-ru\"}\n",
    "r = requests.post(url = url_y, json=h_y)\n",
    "data = r.json()\n",
    "data"
   ]
  },
  {
   "cell_type": "code",
   "execution_count": null,
   "metadata": {},
   "outputs": [],
   "source": [
    "def y_translate(text, from_lang, to_lang):\n",
    "    url_y = \"http://192.168.122.13:31436/GetTranslate\"\n",
    "    h_y = {\"apiVersion\": \"1.0.0\", \"text\": text, \"langPair\": {\"source\": from_lang, \"target\": to_lang}}\n",
    "    r = requests.post(url = url_y, json=h_y)\n",
    "    data = r.json()\n",
    "    return data['translate']\n",
    "y_translate(\"привет уеба\", \"ru\", \"fr\")"
   ]
  },
  {
   "cell_type": "code",
   "execution_count": null,
   "metadata": {},
   "outputs": [],
   "source": [
    "enru_small = parse_from_yandex_lookup(\"./y_lookup/en_ru/\")\n",
    "len(enru_small)"
   ]
  },
  {
   "cell_type": "code",
   "execution_count": null,
   "metadata": {},
   "outputs": [],
   "source": []
  },
  {
   "cell_type": "code",
   "execution_count": null,
   "metadata": {},
   "outputs": [],
   "source": []
  },
  {
   "cell_type": "code",
   "execution_count": 3,
   "metadata": {},
   "outputs": [
    {
     "name": "stdout",
     "output_type": "stream",
     "text": [
      "before.json\n",
      "adverb.json\n",
      "during.json\n",
      "airport.json\n",
      "drum.json\n",
      "empty.json\n",
      "dressed.json\n",
      "cafe.json\n",
      "flight.json\n",
      "begin.json\n",
      "fact.json\n",
      "dream.json\n",
      "alarm.json\n",
      "along.json\n",
      "warm.json\n",
      "collide.json\n",
      "excellent.json\n",
      "break.json\n",
      "examination.json\n",
      "tiger.json\n",
      "engineer.json\n",
      "lion.json\n",
      "even.json\n",
      "field.json\n",
      "background.json\n",
      "easily.json\n",
      "write.json\n",
      "ravioli.json\n",
      "apologise.json\n",
      "fire.json\n",
      "fly.json\n",
      "beaver.json\n",
      "duck.json\n",
      "coincide.json\n",
      "exactly.json\n",
      "exhaustively.json\n",
      "apoplexy.json\n",
      "coconut.json\n",
      "international.json\n",
      "synchrophasotron.json\n",
      "best.json\n",
      "parent.json\n",
      "ocean.json\n",
      "coincidental.json\n",
      "buzzer.json\n",
      "century.json\n",
      "euro.json\n",
      "dynamite.json\n",
      "afraid.json\n",
      "peremptory.json\n",
      "member.json\n",
      "childhood.json\n",
      "plate.json\n",
      "fish.json\n",
      "farmer.json\n",
      "drawing.json\n",
      "explain.json\n",
      "typhus.json\n",
      "precedent.json\n",
      "advertisement.json\n",
      "issue.json\n",
      "fifty.json\n",
      "thousand.json\n",
      "aged.json\n",
      "file.json\n",
      "pen.json\n",
      "fan.json\n",
      "pasta.json\n",
      "hot.json\n",
      "engine.json\n",
      "advanced.json\n",
      "expertise.json\n",
      "dry.json\n",
      "fantastic.json\n",
      "eighty.json\n",
      "bedroom.json\n",
      "fit.json\n",
      "earn.json\n",
      "aeroplane.json\n",
      "especially.json\n",
      "entrance.json\n",
      "extra.json\n",
      "singular.json\n",
      "earring.json\n",
      "fall.json\n",
      "news.json\n",
      "ago.json\n",
      "electric.json\n",
      "enter.json\n",
      "start.json\n",
      "alcohol.json\n",
      "intelligent.json\n",
      "refugee.json\n",
      "enough.json\n",
      "behind.json\n",
      "fair.json\n",
      "genetically.json\n",
      "mug.json\n",
      "countryside.json\n",
      "electricity.json\n",
      "spoon.json\n",
      "journey.json\n",
      "table.json\n",
      "shampoo.json\n",
      "finger.json\n",
      "elephant.json\n",
      "add.json\n",
      "grandchild.json\n",
      "advice.json\n",
      "point.json\n",
      "curriculum.json\n",
      "tip.json\n",
      "entire.json\n",
      "against.json\n",
      "hear.json\n",
      "actually.json\n",
      "right.json\n",
      "else.json\n",
      "album.json\n",
      "beer.json\n",
      "secret.json\n",
      "guru.json\n",
      "fashion.json\n",
      "submissively.json\n",
      "except.json\n",
      "star.json\n",
      "east.json\n",
      "benefit.json\n",
      "meeting.json\n",
      "quite.json\n",
      "strength.json\n",
      "ketchup.json\n",
      "afterwards.json\n",
      "beginner.json\n",
      "final.json\n",
      "agree.json\n",
      "alone.json\n",
      "exam.json\n",
      "exercise.json\n",
      "child.json\n",
      "school.json\n",
      "band.json\n",
      "letter.json\n",
      "driving.json\n",
      "fishing.json\n",
      "adjective.json\n",
      "dinner.json\n",
      "America.json\n",
      "dependable.json\n",
      "finally.json\n",
      "Belgium.json\n",
      "almost.json\n",
      "secular.json\n",
      "far.json\n",
      "eighth.json\n",
      "exit\n",
      ".json\n",
      "everything.json\n",
      "air.json\n",
      "below.json\n",
      "dance.json\n",
      "mother.json\n",
      "everywhere.json\n",
      "order.json\n",
      "fail.json\n",
      "everyone.json\n",
      "envelope.json\n",
      "freeze.json\n",
      "necessary.json\n",
      "size.json\n",
      "approbation.json\n",
      "select.json\n",
      "read.json\n",
      "1218\n"
     ]
    },
    {
     "data": {
      "text/html": [
       "<div>\n",
       "<style scoped>\n",
       "    .dataframe tbody tr th:only-of-type {\n",
       "        vertical-align: middle;\n",
       "    }\n",
       "\n",
       "    .dataframe tbody tr th {\n",
       "        vertical-align: top;\n",
       "    }\n",
       "\n",
       "    .dataframe thead th {\n",
       "        text-align: right;\n",
       "    }\n",
       "</style>\n",
       "<table border=\"1\" class=\"dataframe\">\n",
       "  <thead>\n",
       "    <tr style=\"text-align: right;\">\n",
       "      <th></th>\n",
       "      <th>word</th>\n",
       "      <th>local_word</th>\n",
       "      <th>examples</th>\n",
       "      <th>local_examples</th>\n",
       "    </tr>\n",
       "  </thead>\n",
       "  <tbody>\n",
       "    <tr>\n",
       "      <th>0</th>\n",
       "      <td>before</td>\n",
       "      <td>до</td>\n",
       "      <td>[before the war]</td>\n",
       "      <td>[до войны]</td>\n",
       "    </tr>\n",
       "    <tr>\n",
       "      <th>1</th>\n",
       "      <td>before</td>\n",
       "      <td>впереди</td>\n",
       "      <td>[]</td>\n",
       "      <td>[]</td>\n",
       "    </tr>\n",
       "    <tr>\n",
       "      <th>2</th>\n",
       "      <td>before</td>\n",
       "      <td>пред</td>\n",
       "      <td>[]</td>\n",
       "      <td>[]</td>\n",
       "    </tr>\n",
       "    <tr>\n",
       "      <th>3</th>\n",
       "      <td>before</td>\n",
       "      <td>накануне</td>\n",
       "      <td>[]</td>\n",
       "      <td>[]</td>\n",
       "    </tr>\n",
       "    <tr>\n",
       "      <th>4</th>\n",
       "      <td>before</td>\n",
       "      <td>передо</td>\n",
       "      <td>[]</td>\n",
       "      <td>[]</td>\n",
       "    </tr>\n",
       "  </tbody>\n",
       "</table>\n",
       "</div>"
      ],
      "text/plain": [
       "     word local_word          examples local_examples\n",
       "0  before         до  [before the war]     [до войны]\n",
       "1  before    впереди                []             []\n",
       "2  before       пред                []             []\n",
       "3  before   накануне                []             []\n",
       "4  before     передо                []             []"
      ]
     },
     "execution_count": 3,
     "metadata": {},
     "output_type": "execute_result"
    }
   ],
   "source": [
    "enru_big = parse_from_yandex_lookup(\"./lookup/yandex_lookup_en_ru/\", print_output=True)\n",
    "print(len(enru_big))\n",
    "enru_big.head()"
   ]
  },
  {
   "cell_type": "code",
   "execution_count": 4,
   "metadata": {},
   "outputs": [
    {
     "data": {
      "text/html": [
       "<div>\n",
       "<style scoped>\n",
       "    .dataframe tbody tr th:only-of-type {\n",
       "        vertical-align: middle;\n",
       "    }\n",
       "\n",
       "    .dataframe tbody tr th {\n",
       "        vertical-align: top;\n",
       "    }\n",
       "\n",
       "    .dataframe thead th {\n",
       "        text-align: right;\n",
       "    }\n",
       "</style>\n",
       "<table border=\"1\" class=\"dataframe\">\n",
       "  <thead>\n",
       "    <tr style=\"text-align: right;\">\n",
       "      <th></th>\n",
       "      <th>word</th>\n",
       "      <th>local_word</th>\n",
       "      <th>examples</th>\n",
       "      <th>local_examples</th>\n",
       "    </tr>\n",
       "  </thead>\n",
       "  <tbody>\n",
       "    <tr>\n",
       "      <th>0</th>\n",
       "      <td>before</td>\n",
       "      <td>до</td>\n",
       "      <td>[before the war]</td>\n",
       "      <td>[до войны]</td>\n",
       "    </tr>\n",
       "    <tr>\n",
       "      <th>1</th>\n",
       "      <td>before</td>\n",
       "      <td>впереди</td>\n",
       "      <td>[]</td>\n",
       "      <td>[]</td>\n",
       "    </tr>\n",
       "    <tr>\n",
       "      <th>2</th>\n",
       "      <td>before</td>\n",
       "      <td>пред</td>\n",
       "      <td>[]</td>\n",
       "      <td>[]</td>\n",
       "    </tr>\n",
       "    <tr>\n",
       "      <th>3</th>\n",
       "      <td>before</td>\n",
       "      <td>накануне</td>\n",
       "      <td>[]</td>\n",
       "      <td>[]</td>\n",
       "    </tr>\n",
       "    <tr>\n",
       "      <th>4</th>\n",
       "      <td>before</td>\n",
       "      <td>передо</td>\n",
       "      <td>[]</td>\n",
       "      <td>[]</td>\n",
       "    </tr>\n",
       "  </tbody>\n",
       "</table>\n",
       "</div>"
      ],
      "text/plain": [
       "     word local_word          examples local_examples\n",
       "0  before         до  [before the war]     [до войны]\n",
       "1  before    впереди                []             []\n",
       "2  before       пред                []             []\n",
       "3  before   накануне                []             []\n",
       "4  before     передо                []             []"
      ]
     },
     "execution_count": 4,
     "metadata": {},
     "output_type": "execute_result"
    }
   ],
   "source": [
    "enru_big.head()"
   ]
  },
  {
   "cell_type": "code",
   "execution_count": 5,
   "metadata": {},
   "outputs": [],
   "source": [
    "enru_big.to_csv(\"./lookup results/yandex_lookup_en_ru_lemmas_only.csv\")"
   ]
  },
  {
   "cell_type": "code",
   "execution_count": null,
   "metadata": {
    "scrolled": true
   },
   "outputs": [],
   "source": [
    "def naive_translation(en_ru_dataframe, from_lang,to_lang):\n",
    "    word = []\n",
    "    local_word = []\n",
    "    example = []\n",
    "    local_example = []\n",
    "    for element_ind in tqdm(range(len(en_ru_dataframe))):\n",
    "        el_list = list(en_ru_dataframe.iloc[element_ind])\n",
    "        word.append(el_list[1])\n",
    "        print(el_list)\n",
    "        #print(el_list[2])\n",
    "        \n",
    "        try:\n",
    "            tr_local_word = y_translate(el_list[2],from_lang,to_lang)\n",
    "            print(el_list[2], \"ok\")\n",
    "        except:\n",
    "            tr_local_word = \"no_translation\"\n",
    "            print(\"failed\", el_list[1])\n",
    "        local_word.append(tr_local_word)\n",
    "        ex = ''\n",
    "        loc_ex = ''\n",
    "        try:\n",
    "            for example_i in el_list[3].split(\"|\"):\n",
    "                if example_i:\n",
    "                    ex += example_i + '|'\n",
    "                    try:\n",
    "                        ex_tr = y_translate(example_i,\"en\",to_lang)\n",
    "                        print(example_i, \"ok\")\n",
    "                    except:\n",
    "                        ex_tr = \"no_translation\"\n",
    "                        print(\"failed\", example_i)\n",
    "                    loc_ex+= ex_tr + '|'\n",
    "        except:\n",
    "            print(\"no examples\")\n",
    "        ex = ex[:-1]\n",
    "        loc_ex = loc_ex[:-1]\n",
    "        example.append(ex)\n",
    "        local_example.append(loc_ex)\n",
    "        if element_ind % 10 == 0: \n",
    "            data = pd.DataFrame(list(zip(word,local_word,example, local_example)),columns =['word', 'local_word', 'examples','local_examples'])\n",
    "            data.to_csv(\"/Users/nigula/LL/adjust_unigr_dict/y_translate/systran_enrufr_naive/\"+str(element_ind)+\".csv\")\n",
    "        \n",
    "        #if element_ind > 10: break\n",
    "    data = pd.DataFrame(list(zip(word,local_word,example, local_example)),columns =['word', 'local_word', 'examples','local_examples'])\n",
    "    return data"
   ]
  },
  {
   "cell_type": "code",
   "execution_count": null,
   "metadata": {},
   "outputs": [],
   "source": [
    "df_enru_whole = naive_translation(enru_big,\"ru\",\"fr\")\n",
    "df_enru_whole.head()"
   ]
  },
  {
   "cell_type": "code",
   "execution_count": null,
   "metadata": {},
   "outputs": [],
   "source": [
    "df_enru_whole.to_csv(\"naive_transaltion_en_ru_fr_LEMMAS_WHOLE_LIST.csv\")"
   ]
  },
  {
   "cell_type": "markdown",
   "metadata": {},
   "source": [
    "# SYSTRAN EN RU TO FR NAIVE"
   ]
  },
  {
   "cell_type": "code",
   "execution_count": null,
   "metadata": {},
   "outputs": [],
   "source": [
    "df_systran_en_ru = pd.read_csv(\"systran_en_ru.csv\")"
   ]
  },
  {
   "cell_type": "code",
   "execution_count": null,
   "metadata": {},
   "outputs": [],
   "source": [
    "df_systran_en_ru.head(12)"
   ]
  },
  {
   "cell_type": "code",
   "execution_count": null,
   "metadata": {},
   "outputs": [],
   "source": [
    "df_systran_en_ru_fr = naive_translation(df_systran_en_ru,\"ru\",\"fr\")"
   ]
  },
  {
   "cell_type": "code",
   "execution_count": null,
   "metadata": {},
   "outputs": [],
   "source": [
    "list(df_systran_en_ru['local_word'])"
   ]
  },
  {
   "cell_type": "code",
   "execution_count": null,
   "metadata": {},
   "outputs": [],
   "source": [
    "df_systran_en_ru_fr['rus_word'] = list(df_systran_en_ru['local_word'])"
   ]
  },
  {
   "cell_type": "code",
   "execution_count": null,
   "metadata": {},
   "outputs": [],
   "source": [
    "df_systran_en_ru_fr = df_systran_en_ru_fr.reindex(columns = ['word','rus_word', 'local_word','examples','local_examples'])"
   ]
  },
  {
   "cell_type": "code",
   "execution_count": null,
   "metadata": {
    "scrolled": true
   },
   "outputs": [],
   "source": [
    "df_systran_en_ru_fr.head(100)"
   ]
  },
  {
   "cell_type": "code",
   "execution_count": null,
   "metadata": {},
   "outputs": [],
   "source": [
    "df_systran_en_ru_fr.to_csv(\"enrufr_naive_translation_systran_lookup_whole_list.csv\")"
   ]
  }
 ],
 "metadata": {
  "kernelspec": {
   "display_name": "Python 3",
   "language": "python",
   "name": "python3"
  },
  "language_info": {
   "codemirror_mode": {
    "name": "ipython",
    "version": 3
   },
   "file_extension": ".py",
   "mimetype": "text/x-python",
   "name": "python",
   "nbconvert_exporter": "python",
   "pygments_lexer": "ipython3",
   "version": "3.7.4"
  }
 },
 "nbformat": 4,
 "nbformat_minor": 2
}
