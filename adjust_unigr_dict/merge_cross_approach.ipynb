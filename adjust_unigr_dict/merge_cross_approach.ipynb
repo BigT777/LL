{
 "cells": [
  {
   "cell_type": "markdown",
   "metadata": {},
   "source": [
    "# УЧЕСТЬ ВКЛЮЧЕНИЕ no equality В СТРУКТУРУ\n",
    "\n",
    "lang должен быть ткой от которого нет no_eq\n",
    "\n",
    "merge dict запускать не листом а последосвательно к каой паре продумывая какой язык на какое место постпаить\n",
    "\n",
    "скорее всего это будет lang1 lang2 lang3 : базовый - куда лукап - таргет"
   ]
  },
  {
   "cell_type": "code",
   "execution_count": 2,
   "metadata": {},
   "outputs": [],
   "source": [
    "import pandas as pd\n",
    "from tqdm import tqdm\n",
    "import math\n"
   ]
  },
  {
   "cell_type": "code",
   "execution_count": 3,
   "metadata": {},
   "outputs": [],
   "source": [
    "df_fr_en_ru = pd.read_csv(\"/Users/nigula/LL/adjust_unigr_dict/reverse_connected_dicts/y_crossrevers_vs_pos_cycle/fr_en_ru_no_cossim.csv\")"
   ]
  },
  {
   "cell_type": "code",
   "execution_count": 4,
   "metadata": {},
   "outputs": [],
   "source": [
    "df_en_fr_ru = pd.read_csv(\"/Users/nigula/LL/adjust_unigr_dict/reverse_connected_dicts/y_crossrevers_vs_pos_cycle/en_fr_ru_no_cossim.csv\")"
   ]
  },
  {
   "cell_type": "code",
   "execution_count": null,
   "metadata": {},
   "outputs": [],
   "source": [
    "====endof1"
   ]
  },
  {
   "cell_type": "code",
   "execution_count": 5,
   "metadata": {},
   "outputs": [],
   "source": [
    "df_en_ru_fr = pd.read_csv(\"/Users/nigula/LL/adjust_unigr_dict/reverse_connected_dicts/y_crossrevers_vs_pos_cycle/en_ru_fr_no_cossim.csv\")"
   ]
  },
  {
   "cell_type": "code",
   "execution_count": null,
   "metadata": {},
   "outputs": [],
   "source": [
    "====endof2"
   ]
  },
  {
   "cell_type": "code",
   "execution_count": 6,
   "metadata": {},
   "outputs": [],
   "source": [
    "df_fr_ru_en = pd.read_csv(\"/Users/nigula/LL/adjust_unigr_dict/reverse_connected_dicts/y_crossrevers_vs_pos_cycle/fr_ru_en_no_cossim.csv\")"
   ]
  },
  {
   "cell_type": "code",
   "execution_count": null,
   "metadata": {},
   "outputs": [],
   "source": [
    "====endof3"
   ]
  },
  {
   "cell_type": "code",
   "execution_count": 7,
   "metadata": {},
   "outputs": [],
   "source": [
    "df_ru_fr_en = pd.read_csv(\"/Users/nigula/LL/adjust_unigr_dict/reverse_connected_dicts/y_crossrevers_vs_pos_cycle/ru_fr_en.csv\")"
   ]
  },
  {
   "cell_type": "code",
   "execution_count": 8,
   "metadata": {},
   "outputs": [],
   "source": [
    "def detect_nan(string):\n",
    "    \n",
    "    if 'float' in str(type(string)): return True\n",
    "    try:\n",
    "        isnan = math.isnan(string) \n",
    "        if isnan == True: return True\n",
    "    \n",
    "    except:\n",
    "        return False"
   ]
  },
  {
   "cell_type": "code",
   "execution_count": 9,
   "metadata": {},
   "outputs": [],
   "source": [
    "def get_df_from_dict(glob_dct, current_lang1, current_lang2, current_lang3):\n",
    "    lang1_list = []\n",
    "    lang2_list = []\n",
    "    lang3_list = []\n",
    "    votes = []\n",
    "\n",
    "    for lang_1_word in glob_dct.keys():\n",
    "        #print(lang_1_word, glob_dct[lang_1_word],'\\n')\n",
    "        for lang_2_word in glob_dct[lang_1_word].keys():\n",
    "            #print(lang_2_word, glob_dct[lang_1_word],'\\n')\n",
    "            for lang_3_word in glob_dct[lang_1_word][lang_2_word].keys():\n",
    "                #print(lang_3_word, glob_dct[lang_1_word][lang_2_word])\n",
    "                lang1_list.append(lang_1_word)\n",
    "                lang2_list.append(lang_2_word)\n",
    "                lang3_list.append(lang_3_word)\n",
    "                votes.append(glob_dct[lang_1_word][lang_2_word][lang_3_word])\n",
    "    data = pd.DataFrame(list(zip(lang1_list, lang2_list,lang3_list, votes)),\n",
    "                        columns =[current_lang1, current_lang2, current_lang3,'vote'])\n",
    "    return data"
   ]
  },
  {
   "cell_type": "code",
   "execution_count": 10,
   "metadata": {},
   "outputs": [
    {
     "name": "stderr",
     "output_type": "stream",
     "text": [
      "100%|██████████| 3109/3109 [00:00<00:00, 4395.18it/s]\n",
      "100%|██████████| 920/920 [00:00<00:00, 5055.89it/s]\n"
     ]
    }
   ],
   "source": [
    "def merge_cycle_dicts(overall_df_and_new_df_list, lookup_from, lookup_to, target):\n",
    "    reversed_dict = {}\n",
    "    count = 0 \n",
    "    for df in overall_df_and_new_df_list:\n",
    "        if 'vote' not in list(df.columns): \n",
    "            df['vote'] = [1 for i in range(len(df))]\n",
    "        for index, row in tqdm(df.iterrows(), total=df.shape[0]):\n",
    "            #print(row['en'], row['ru'],row['fr'] )\n",
    "            lang_one_word = row[lookup_from]\n",
    "            lang_two_word = row[lookup_to]\n",
    "            lang_three_word = row[target]\n",
    "            vote = row['vote']\n",
    "            #print(count, lang_one_word,lang_two_word,  lang_three_word, vote)\n",
    "            isnan = False\n",
    "            word_list = [lang_one_word,lang_two_word,  lang_three_word]\n",
    "            for word in word_list:\n",
    "                isnan = detect_nan(word)\n",
    "                if isnan == True:\n",
    "                    break\n",
    "            if isnan == False:\n",
    "                if lang_one_word in reversed_dict :\n",
    "                    if lang_two_word in reversed_dict[lang_one_word]:\n",
    "                        if lang_three_word in reversed_dict[lang_one_word][lang_two_word]:\n",
    "                            #count_element = lang_one_word + '_' + lang_two_word + '_' + lang_three_word\n",
    "                            reversed_dict[lang_one_word][lang_two_word][lang_three_word] += int(vote) \n",
    "                        else:\n",
    "                            reversed_dict[lang_one_word][lang_two_word][lang_three_word] = int(vote) \n",
    "                    else:\n",
    "                        reversed_dict[lang_one_word][lang_two_word] = {}\n",
    "                        reversed_dict[lang_one_word][lang_two_word][lang_three_word] = int(vote) \n",
    "                else:\n",
    "                    reversed_dict[lang_one_word] = {}\n",
    "                    reversed_dict[lang_one_word][lang_two_word] = {}\n",
    "                    reversed_dict[lang_one_word][lang_two_word][lang_three_word] = int(vote) \n",
    "        count += 1\n",
    "            \n",
    "    return reversed_dict\n",
    "gl_dct = merge_cycle_dicts([df_fr_en_ru, df_en_fr_ru], \"fr\", \"en\", \"ru\")"
   ]
  },
  {
   "cell_type": "code",
   "execution_count": 12,
   "metadata": {},
   "outputs": [],
   "source": [
    "df_step_1 = get_df_from_dict(gl_dct, \"fr\", \"en\", \"ru\")"
   ]
  },
  {
   "cell_type": "code",
   "execution_count": 13,
   "metadata": {},
   "outputs": [
    {
     "data": {
      "text/html": [
       "<div>\n",
       "<style scoped>\n",
       "    .dataframe tbody tr th:only-of-type {\n",
       "        vertical-align: middle;\n",
       "    }\n",
       "\n",
       "    .dataframe tbody tr th {\n",
       "        vertical-align: top;\n",
       "    }\n",
       "\n",
       "    .dataframe thead th {\n",
       "        text-align: right;\n",
       "    }\n",
       "</style>\n",
       "<table border=\"1\" class=\"dataframe\">\n",
       "  <thead>\n",
       "    <tr style=\"text-align: right;\">\n",
       "      <th></th>\n",
       "      <th>fr</th>\n",
       "      <th>en</th>\n",
       "      <th>ru</th>\n",
       "      <th>vote</th>\n",
       "    </tr>\n",
       "  </thead>\n",
       "  <tbody>\n",
       "    <tr>\n",
       "      <th>0</th>\n",
       "      <td>tomber</td>\n",
       "      <td>fall</td>\n",
       "      <td>упасть</td>\n",
       "      <td>2</td>\n",
       "    </tr>\n",
       "    <tr>\n",
       "      <th>1</th>\n",
       "      <td>tomber</td>\n",
       "      <td>fall</td>\n",
       "      <td>падать</td>\n",
       "      <td>2</td>\n",
       "    </tr>\n",
       "    <tr>\n",
       "      <th>2</th>\n",
       "      <td>tomber</td>\n",
       "      <td>fall</td>\n",
       "      <td>пасть</td>\n",
       "      <td>2</td>\n",
       "    </tr>\n",
       "    <tr>\n",
       "      <th>3</th>\n",
       "      <td>tomber</td>\n",
       "      <td>fall</td>\n",
       "      <td>оказаться</td>\n",
       "      <td>2</td>\n",
       "    </tr>\n",
       "    <tr>\n",
       "      <th>4</th>\n",
       "      <td>tomber</td>\n",
       "      <td>fall</td>\n",
       "      <td>опускаться</td>\n",
       "      <td>1</td>\n",
       "    </tr>\n",
       "  </tbody>\n",
       "</table>\n",
       "</div>"
      ],
      "text/plain": [
       "       fr    en          ru  vote\n",
       "0  tomber  fall      упасть     2\n",
       "1  tomber  fall      падать     2\n",
       "2  tomber  fall       пасть     2\n",
       "3  tomber  fall   оказаться     2\n",
       "4  tomber  fall  опускаться     1"
      ]
     },
     "execution_count": 13,
     "metadata": {},
     "output_type": "execute_result"
    }
   ],
   "source": [
    "df_step_1.head()"
   ]
  },
  {
   "cell_type": "code",
   "execution_count": 14,
   "metadata": {},
   "outputs": [
    {
     "name": "stderr",
     "output_type": "stream",
     "text": [
      "100%|██████████| 3473/3473 [00:00<00:00, 5357.25it/s]\n",
      "100%|██████████| 1685/1685 [00:00<00:00, 2973.68it/s]\n"
     ]
    }
   ],
   "source": [
    "gl_dct_2 = merge_cycle_dicts([df_step_1, df_en_ru_fr], \"en\",\"ru\", \"fr\")"
   ]
  },
  {
   "cell_type": "code",
   "execution_count": 16,
   "metadata": {},
   "outputs": [],
   "source": [
    "df_after_step_2 = get_df_from_dict(gl_dct_2, \"en\",\"ru\", \"fr\")\n"
   ]
  },
  {
   "cell_type": "code",
   "execution_count": 17,
   "metadata": {},
   "outputs": [
    {
     "name": "stderr",
     "output_type": "stream",
     "text": [
      "100%|██████████| 4891/4891 [00:00<00:00, 5578.44it/s]\n",
      "100%|██████████| 8385/8385 [00:01<00:00, 5091.12it/s]\n"
     ]
    }
   ],
   "source": [
    "#df_fr_ru_en\n",
    "gl_dct_3 = merge_cycle_dicts([df_after_step_2, df_fr_ru_en], \"fr\",\"ru\",\"en\" )"
   ]
  },
  {
   "cell_type": "code",
   "execution_count": 19,
   "metadata": {},
   "outputs": [],
   "source": [
    "df_after_step_3 = get_df_from_dict(gl_dct_3, \"fr\",\"ru\",\"en\" )"
   ]
  },
  {
   "cell_type": "code",
   "execution_count": 20,
   "metadata": {},
   "outputs": [
    {
     "data": {
      "text/html": [
       "<div>\n",
       "<style scoped>\n",
       "    .dataframe tbody tr th:only-of-type {\n",
       "        vertical-align: middle;\n",
       "    }\n",
       "\n",
       "    .dataframe tbody tr th {\n",
       "        vertical-align: top;\n",
       "    }\n",
       "\n",
       "    .dataframe thead th {\n",
       "        text-align: right;\n",
       "    }\n",
       "</style>\n",
       "<table border=\"1\" class=\"dataframe\">\n",
       "  <thead>\n",
       "    <tr style=\"text-align: right;\">\n",
       "      <th></th>\n",
       "      <th>fr</th>\n",
       "      <th>ru</th>\n",
       "      <th>en</th>\n",
       "      <th>vote</th>\n",
       "    </tr>\n",
       "  </thead>\n",
       "  <tbody>\n",
       "    <tr>\n",
       "      <th>0</th>\n",
       "      <td>tomber</td>\n",
       "      <td>упасть</td>\n",
       "      <td>fall</td>\n",
       "      <td>4</td>\n",
       "    </tr>\n",
       "    <tr>\n",
       "      <th>1</th>\n",
       "      <td>tomber</td>\n",
       "      <td>упасть</td>\n",
       "      <td>fell</td>\n",
       "      <td>1</td>\n",
       "    </tr>\n",
       "    <tr>\n",
       "      <th>2</th>\n",
       "      <td>tomber</td>\n",
       "      <td>упасть</td>\n",
       "      <td>fall down</td>\n",
       "      <td>2</td>\n",
       "    </tr>\n",
       "    <tr>\n",
       "      <th>3</th>\n",
       "      <td>tomber</td>\n",
       "      <td>упасть</td>\n",
       "      <td>drop</td>\n",
       "      <td>1</td>\n",
       "    </tr>\n",
       "    <tr>\n",
       "      <th>4</th>\n",
       "      <td>tomber</td>\n",
       "      <td>падать</td>\n",
       "      <td>fall</td>\n",
       "      <td>2</td>\n",
       "    </tr>\n",
       "  </tbody>\n",
       "</table>\n",
       "</div>"
      ],
      "text/plain": [
       "       fr      ru         en  vote\n",
       "0  tomber  упасть       fall     4\n",
       "1  tomber  упасть       fell     1\n",
       "2  tomber  упасть  fall down     2\n",
       "3  tomber  упасть       drop     1\n",
       "4  tomber  падать       fall     2"
      ]
     },
     "execution_count": 20,
     "metadata": {},
     "output_type": "execute_result"
    }
   ],
   "source": [
    "df_after_step_3.head()"
   ]
  },
  {
   "cell_type": "code",
   "execution_count": 21,
   "metadata": {},
   "outputs": [
    {
     "name": "stderr",
     "output_type": "stream",
     "text": [
      "100%|██████████| 12092/12092 [00:02<00:00, 5578.34it/s]\n",
      "100%|██████████| 36425/36425 [00:05<00:00, 6254.87it/s]\n"
     ]
    }
   ],
   "source": [
    "gl_dct_4 = merge_cycle_dicts([df_after_step_3, df_ru_fr_en], \"ru\",\"fr\",\"en\" )"
   ]
  },
  {
   "cell_type": "code",
   "execution_count": 22,
   "metadata": {},
   "outputs": [],
   "source": [
    "df_after_step_4 = get_df_from_dict(gl_dct_4, \"ru\",\"fr\",\"en\")\n"
   ]
  },
  {
   "cell_type": "code",
   "execution_count": 23,
   "metadata": {},
   "outputs": [
    {
     "data": {
      "text/html": [
       "<div>\n",
       "<style scoped>\n",
       "    .dataframe tbody tr th:only-of-type {\n",
       "        vertical-align: middle;\n",
       "    }\n",
       "\n",
       "    .dataframe tbody tr th {\n",
       "        vertical-align: top;\n",
       "    }\n",
       "\n",
       "    .dataframe thead th {\n",
       "        text-align: right;\n",
       "    }\n",
       "</style>\n",
       "<table border=\"1\" class=\"dataframe\">\n",
       "  <thead>\n",
       "    <tr style=\"text-align: right;\">\n",
       "      <th></th>\n",
       "      <th>ru</th>\n",
       "      <th>fr</th>\n",
       "      <th>en</th>\n",
       "      <th>vote</th>\n",
       "    </tr>\n",
       "  </thead>\n",
       "  <tbody>\n",
       "    <tr>\n",
       "      <th>0</th>\n",
       "      <td>упасть</td>\n",
       "      <td>tomber</td>\n",
       "      <td>fall</td>\n",
       "      <td>5</td>\n",
       "    </tr>\n",
       "    <tr>\n",
       "      <th>1</th>\n",
       "      <td>упасть</td>\n",
       "      <td>tomber</td>\n",
       "      <td>fell</td>\n",
       "      <td>1</td>\n",
       "    </tr>\n",
       "    <tr>\n",
       "      <th>2</th>\n",
       "      <td>упасть</td>\n",
       "      <td>tomber</td>\n",
       "      <td>fall down</td>\n",
       "      <td>3</td>\n",
       "    </tr>\n",
       "    <tr>\n",
       "      <th>3</th>\n",
       "      <td>упасть</td>\n",
       "      <td>tomber</td>\n",
       "      <td>drop</td>\n",
       "      <td>2</td>\n",
       "    </tr>\n",
       "    <tr>\n",
       "      <th>4</th>\n",
       "      <td>упасть</td>\n",
       "      <td>baisser</td>\n",
       "      <td>fall</td>\n",
       "      <td>1</td>\n",
       "    </tr>\n",
       "    <tr>\n",
       "      <th>5</th>\n",
       "      <td>упасть</td>\n",
       "      <td>baisser</td>\n",
       "      <td>drop</td>\n",
       "      <td>1</td>\n",
       "    </tr>\n",
       "    <tr>\n",
       "      <th>6</th>\n",
       "      <td>упасть</td>\n",
       "      <td>se laisser tomber</td>\n",
       "      <td>no_equality</td>\n",
       "      <td>1</td>\n",
       "    </tr>\n",
       "    <tr>\n",
       "      <th>7</th>\n",
       "      <td>упасть</td>\n",
       "      <td>faire chute</td>\n",
       "      <td>fall</td>\n",
       "      <td>1</td>\n",
       "    </tr>\n",
       "    <tr>\n",
       "      <th>8</th>\n",
       "      <td>упасть</td>\n",
       "      <td>faire chute</td>\n",
       "      <td>drop</td>\n",
       "      <td>1</td>\n",
       "    </tr>\n",
       "    <tr>\n",
       "      <th>9</th>\n",
       "      <td>упасть</td>\n",
       "      <td>faire chute</td>\n",
       "      <td>collapse</td>\n",
       "      <td>1</td>\n",
       "    </tr>\n",
       "    <tr>\n",
       "      <th>10</th>\n",
       "      <td>упасть</td>\n",
       "      <td>se planter</td>\n",
       "      <td>crash</td>\n",
       "      <td>1</td>\n",
       "    </tr>\n",
       "    <tr>\n",
       "      <th>11</th>\n",
       "      <td>упасть</td>\n",
       "      <td>se foutre</td>\n",
       "      <td>no_equality</td>\n",
       "      <td>1</td>\n",
       "    </tr>\n",
       "    <tr>\n",
       "      <th>12</th>\n",
       "      <td>упасть</td>\n",
       "      <td>s'abattre</td>\n",
       "      <td>fall down</td>\n",
       "      <td>1</td>\n",
       "    </tr>\n",
       "    <tr>\n",
       "      <th>13</th>\n",
       "      <td>упасть</td>\n",
       "      <td>se répandre</td>\n",
       "      <td>no_equality</td>\n",
       "      <td>1</td>\n",
       "    </tr>\n",
       "    <tr>\n",
       "      <th>14</th>\n",
       "      <td>упасть</td>\n",
       "      <td>s'aplatir</td>\n",
       "      <td>collapse</td>\n",
       "      <td>1</td>\n",
       "    </tr>\n",
       "    <tr>\n",
       "      <th>15</th>\n",
       "      <td>упасть</td>\n",
       "      <td>dévisser</td>\n",
       "      <td>no_equality</td>\n",
       "      <td>1</td>\n",
       "    </tr>\n",
       "    <tr>\n",
       "      <th>16</th>\n",
       "      <td>упасть</td>\n",
       "      <td>se ramasser</td>\n",
       "      <td>no_equality</td>\n",
       "      <td>1</td>\n",
       "    </tr>\n",
       "    <tr>\n",
       "      <th>17</th>\n",
       "      <td>падать</td>\n",
       "      <td>tomber</td>\n",
       "      <td>fall</td>\n",
       "      <td>3</td>\n",
       "    </tr>\n",
       "    <tr>\n",
       "      <th>18</th>\n",
       "      <td>падать</td>\n",
       "      <td>tomber</td>\n",
       "      <td>fall down</td>\n",
       "      <td>2</td>\n",
       "    </tr>\n",
       "    <tr>\n",
       "      <th>19</th>\n",
       "      <td>падать</td>\n",
       "      <td>tomber</td>\n",
       "      <td>drop</td>\n",
       "      <td>1</td>\n",
       "    </tr>\n",
       "  </tbody>\n",
       "</table>\n",
       "</div>"
      ],
      "text/plain": [
       "        ru                 fr           en  vote\n",
       "0   упасть             tomber         fall     5\n",
       "1   упасть             tomber         fell     1\n",
       "2   упасть             tomber    fall down     3\n",
       "3   упасть             tomber         drop     2\n",
       "4   упасть            baisser         fall     1\n",
       "5   упасть            baisser         drop     1\n",
       "6   упасть  se laisser tomber  no_equality     1\n",
       "7   упасть        faire chute         fall     1\n",
       "8   упасть        faire chute         drop     1\n",
       "9   упасть        faire chute     collapse     1\n",
       "10  упасть         se planter        crash     1\n",
       "11  упасть          se foutre  no_equality     1\n",
       "12  упасть          s'abattre    fall down     1\n",
       "13  упасть        se répandre  no_equality     1\n",
       "14  упасть          s'aplatir     collapse     1\n",
       "15  упасть           dévisser  no_equality     1\n",
       "16  упасть        se ramasser  no_equality     1\n",
       "17  падать             tomber         fall     3\n",
       "18  падать             tomber    fall down     2\n",
       "19  падать             tomber         drop     1"
      ]
     },
     "execution_count": 23,
     "metadata": {},
     "output_type": "execute_result"
    }
   ],
   "source": [
    "df_after_step_4.head(20)"
   ]
  },
  {
   "cell_type": "code",
   "execution_count": 108,
   "metadata": {},
   "outputs": [],
   "source": [
    "df_after_step_4.to_csv(\"/Users/nigula/LL/adjust_unigr_dict/reverse_connected_dicts/glob_dict_v2.csv\")"
   ]
  },
  {
   "cell_type": "code",
   "execution_count": null,
   "metadata": {},
   "outputs": [],
   "source": []
  },
  {
   "cell_type": "markdown",
   "metadata": {},
   "source": [
    "# 4DIRECTIONS_ONLY"
   ]
  },
  {
   "cell_type": "markdown",
   "metadata": {},
   "source": [
    "# 1шаг - два максимально родственных языка пополняют таргетный язык"
   ]
  },
  {
   "cell_type": "code",
   "execution_count": 27,
   "metadata": {},
   "outputs": [],
   "source": [
    "df_fr_en_ru = pd.read_csv(\"/Users/nigula/LL/adjust_unigr_dict/reverse_connected_dicts/y_crossrevers_vs_pos_cycle/fr_en_ru_no_cossim.csv\")\n",
    "df_en_fr_ru = pd.read_csv(\"/Users/nigula/LL/adjust_unigr_dict/reverse_connected_dicts/y_crossrevers_vs_pos_cycle/en_fr_ru_no_cossim.csv\")\n",
    "\n"
   ]
  },
  {
   "cell_type": "code",
   "execution_count": 28,
   "metadata": {},
   "outputs": [
    {
     "name": "stderr",
     "output_type": "stream",
     "text": [
      "100%|██████████| 3109/3109 [00:00<00:00, 4634.93it/s]\n",
      "100%|██████████| 920/920 [00:00<00:00, 5098.00it/s]\n"
     ]
    }
   ],
   "source": [
    "gl_dct = merge_cycle_dicts([df_fr_en_ru, df_en_fr_ru], \"fr\", \"en\", \"ru\")"
   ]
  },
  {
   "cell_type": "code",
   "execution_count": 30,
   "metadata": {},
   "outputs": [],
   "source": [
    "df_after_step_1 = get_df_from_dict(gl_dct, \"fr\", \"en\", \"ru\")"
   ]
  },
  {
   "cell_type": "code",
   "execution_count": 31,
   "metadata": {},
   "outputs": [],
   "source": [
    "df_en_ru_fr = pd.read_csv(\"/Users/nigula/LL/adjust_unigr_dict/reverse_connected_dicts/y_crossrevers_vs_pos_cycle/en_ru_fr_no_cossim.csv\")"
   ]
  },
  {
   "cell_type": "markdown",
   "metadata": {},
   "source": [
    "# 2 шаг - таргетный язык в паре с превым языком пополняет второй"
   ]
  },
  {
   "cell_type": "code",
   "execution_count": 32,
   "metadata": {},
   "outputs": [
    {
     "name": "stderr",
     "output_type": "stream",
     "text": [
      "100%|██████████| 3473/3473 [00:00<00:00, 4737.71it/s]\n",
      "100%|██████████| 1685/1685 [00:00<00:00, 4654.70it/s]\n"
     ]
    }
   ],
   "source": [
    "gl_dct_2 = merge_cycle_dicts([df_after_step_1, df_en_ru_fr], \"en\",\"ru\", \"fr\")"
   ]
  },
  {
   "cell_type": "code",
   "execution_count": 33,
   "metadata": {},
   "outputs": [],
   "source": [
    "df_after_step_2 = get_df_from_dict(gl_dct_2, \"en\",\"ru\", \"fr\")"
   ]
  },
  {
   "cell_type": "markdown",
   "metadata": {},
   "source": [
    "# 3 шаг - таргетный язык в паре со вторым языком пополняет первый"
   ]
  },
  {
   "cell_type": "code",
   "execution_count": 35,
   "metadata": {},
   "outputs": [
    {
     "name": "stderr",
     "output_type": "stream",
     "text": [
      "100%|██████████| 4891/4891 [00:00<00:00, 4988.38it/s]\n",
      "100%|██████████| 8385/8385 [00:01<00:00, 4628.95it/s]\n"
     ]
    }
   ],
   "source": [
    "gl_dct_3 = merge_cycle_dicts([df_after_step_2, df_fr_ru_en], \"fr\",\"ru\",\"en\" )"
   ]
  },
  {
   "cell_type": "code",
   "execution_count": 36,
   "metadata": {},
   "outputs": [],
   "source": [
    "df_after_step_3 = get_df_from_dict(gl_dct_3, \"fr\",\"ru\",\"en\" )"
   ]
  },
  {
   "cell_type": "code",
   "execution_count": 37,
   "metadata": {},
   "outputs": [
    {
     "data": {
      "text/html": [
       "<div>\n",
       "<style scoped>\n",
       "    .dataframe tbody tr th:only-of-type {\n",
       "        vertical-align: middle;\n",
       "    }\n",
       "\n",
       "    .dataframe tbody tr th {\n",
       "        vertical-align: top;\n",
       "    }\n",
       "\n",
       "    .dataframe thead th {\n",
       "        text-align: right;\n",
       "    }\n",
       "</style>\n",
       "<table border=\"1\" class=\"dataframe\">\n",
       "  <thead>\n",
       "    <tr style=\"text-align: right;\">\n",
       "      <th></th>\n",
       "      <th>fr</th>\n",
       "      <th>ru</th>\n",
       "      <th>en</th>\n",
       "      <th>vote</th>\n",
       "    </tr>\n",
       "  </thead>\n",
       "  <tbody>\n",
       "    <tr>\n",
       "      <th>0</th>\n",
       "      <td>tomber</td>\n",
       "      <td>упасть</td>\n",
       "      <td>fall</td>\n",
       "      <td>4</td>\n",
       "    </tr>\n",
       "    <tr>\n",
       "      <th>1</th>\n",
       "      <td>tomber</td>\n",
       "      <td>упасть</td>\n",
       "      <td>fell</td>\n",
       "      <td>1</td>\n",
       "    </tr>\n",
       "    <tr>\n",
       "      <th>2</th>\n",
       "      <td>tomber</td>\n",
       "      <td>упасть</td>\n",
       "      <td>fall down</td>\n",
       "      <td>2</td>\n",
       "    </tr>\n",
       "    <tr>\n",
       "      <th>3</th>\n",
       "      <td>tomber</td>\n",
       "      <td>упасть</td>\n",
       "      <td>drop</td>\n",
       "      <td>1</td>\n",
       "    </tr>\n",
       "    <tr>\n",
       "      <th>4</th>\n",
       "      <td>tomber</td>\n",
       "      <td>падать</td>\n",
       "      <td>fall</td>\n",
       "      <td>2</td>\n",
       "    </tr>\n",
       "  </tbody>\n",
       "</table>\n",
       "</div>"
      ],
      "text/plain": [
       "       fr      ru         en  vote\n",
       "0  tomber  упасть       fall     4\n",
       "1  tomber  упасть       fell     1\n",
       "2  tomber  упасть  fall down     2\n",
       "3  tomber  упасть       drop     1\n",
       "4  tomber  падать       fall     2"
      ]
     },
     "execution_count": 37,
     "metadata": {},
     "output_type": "execute_result"
    }
   ],
   "source": [
    "df_after_step_3.head()"
   ]
  },
  {
   "cell_type": "code",
   "execution_count": 39,
   "metadata": {},
   "outputs": [],
   "source": [
    "df_after_step_3.to_csv(\"/Users/nigula/Desktop/adjust_unigr_dict/reverse_connected_dicts/y_crossrevers_vs_pos_cycle/three_steps_dict_v3.csv\")\n",
    "\n"
   ]
  }
 ],
 "metadata": {
  "kernelspec": {
   "display_name": "Python 3",
   "language": "python",
   "name": "python3"
  },
  "language_info": {
   "codemirror_mode": {
    "name": "ipython",
    "version": 3
   },
   "file_extension": ".py",
   "mimetype": "text/x-python",
   "name": "python",
   "nbconvert_exporter": "python",
   "pygments_lexer": "ipython3",
   "version": "3.7.4"
  }
 },
 "nbformat": 4,
 "nbformat_minor": 2
}
