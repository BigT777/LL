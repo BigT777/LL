{
 "cells": [
  {
   "cell_type": "code",
   "execution_count": 1,
   "metadata": {},
   "outputs": [],
   "source": [
    "import requests\n",
    "import json\n",
    "from bs4 import BeautifulSoup as bs\n",
    "import time\n",
    "import random\n",
    "import re\n",
    "\n",
    "import psycopg2\n",
    "import copy\n",
    "\n",
    "from nltk.stem import WordNetLemmatizer \n",
    "from nltk import pos_tag, word_tokenize\n",
    "from nltk.corpus import wordnet\n",
    "\n",
    "lemmatizer = WordNetLemmatizer()\n",
    "\n",
    "import pymorphy2\n",
    "morph = pymorphy2.MorphAnalyzer()"
   ]
  },
  {
   "cell_type": "code",
   "execution_count": 11,
   "metadata": {},
   "outputs": [],
   "source": [
    "conn = psycopg2.connect(dbname='pgstage', user='linguist', password='eDQGK0GCStlYlHNV', host='192.168.122.183')\n",
    "cursor = conn.cursor()"
   ]
  },
  {
   "cell_type": "code",
   "execution_count": 3,
   "metadata": {},
   "outputs": [],
   "source": [
    "def get_def_info(word, from_lang, to_lang, multisence_dict, print_ouput = False):\n",
    "    multisence_dict[word] = {'lemma_branch':[], 'wordforms_branch':{}}\n",
    "    definitions = []\n",
    "    same_page = False\n",
    "    for index in range(1,4):\n",
    "        url = \"https://dictionary.cambridge.org/dictionary/\" + from_lang + \"-\" + to_lang + \"/\" + word + \"_\" + str(index)\n",
    "        if print_ouput:print(url)\n",
    "        headers = {'User-Agent': 'Mozilla/5.0 (Macintosh; Intel Mac OS X 10_10_1) AppleWebKit/537.36 (KHTML, like Gecko) Chrome/39.0.2171.95 Safari/537.36'}\n",
    "        response = requests.get(url, headers=headers)\n",
    "        response.encoding = 'utf-8' \n",
    "        soup = bs(response.text, 'html.parser')\n",
    "        current_definition = {}\n",
    "        for link in soup.find_all([\"span\",\"b\"]):\n",
    "    \n",
    "            classes = link.get('class')\n",
    "            if classes and \"def\" in classes:\n",
    "                if link.text.strip() in definitions:\n",
    "                    same_page = True\n",
    "                    break\n",
    "                if print_ouput: print(\"DEFINITION\", link.text.strip())\n",
    "                current_definition['definition'] = link.text.strip()\n",
    "                definitions.append(link.text.strip())\n",
    "                \n",
    "            if classes and \"def-body\" in classes:\n",
    "                if print_ouput:print(\"RUS_DEFIN\", link.find(\"span\", attrs = {'class':\"trans\"}).text.strip())\n",
    "                current_definition['local_word'] = link.find(\"span\", attrs = {'class':\"trans\"}).text.strip()\n",
    "                current_definition['examples'] = []\n",
    "                for ex in link.find_all(\"span\", attrs = {'class':\"eg\"}):\n",
    "                    current_definition['examples'].append(ex.text.strip())\n",
    "                    if print_ouput:print(\"ENG_DEFIN_EX\", ex.text.strip())\n",
    "                if print_ouput:print(current_definition)\n",
    "                multisence_dict[word]['lemma_branch'].append(current_definition)\n",
    "                current_definition = {}\n",
    "                if print_ouput:print(\"===\")\n",
    "\n",
    "        if same_page == True:\n",
    "            break\n",
    "        time.sleep(random.uniform(0.5,0.9))\n",
    "sence_dict = {}      \n",
    "get_def_info(\"book\", \"english\",\"russian\",sence_dict)\n"
   ]
  },
  {
   "cell_type": "code",
   "execution_count": 4,
   "metadata": {},
   "outputs": [
    {
     "data": {
      "text/plain": [
       "{'lemma_branch': [{'definition': 'a set of pages fastened together in a cover for people to read',\n",
       "   'local_word': 'книга',\n",
       "   'examples': ['a book about animals']},\n",
       "  {'definition': 'a set of stamps, tickets, etc that are fastened together inside a cover',\n",
       "   'local_word': 'книжечка',\n",
       "   'examples': []},\n",
       "  {'definition': 'a set of pages fastened together in a cover and used for writing on',\n",
       "   'local_word': 'записная книжка',\n",
       "   'examples': ['an address book']},\n",
       "  {'definition': 'to arrange to use or do something at a particular time in the future',\n",
       "   'local_word': 'бронировать',\n",
       "   'examples': ['to book a ticket/hotel room',\n",
       "    \"We've booked a trip to Spain for next month.\",\n",
       "    'Sorry, the hotel is fully booked (= has no more rooms).']},\n",
       "  {'definition': 'to officially accuse someone of a crime',\n",
       "   'local_word': 'заводить дело',\n",
       "   'examples': ['Detectives booked him for resisting arrest.']},\n",
       "  {'definition': 'If a sports official books you, they write an official record of something you have done wrong.',\n",
       "   'local_word': 'штрафовать (в спорте)',\n",
       "   'examples': ['The referee booked two players for fighting during the game.']}],\n",
       " 'wordforms_branch': {}}"
      ]
     },
     "execution_count": 4,
     "metadata": {},
     "output_type": "execute_result"
    }
   ],
   "source": [
    "sence_dict['book']\n"
   ]
  },
  {
   "cell_type": "code",
   "execution_count": 5,
   "metadata": {},
   "outputs": [
    {
     "data": {
      "text/plain": [
       "'have'"
      ]
     },
     "execution_count": 5,
     "metadata": {},
     "output_type": "execute_result"
    }
   ],
   "source": [
    "def get_wordnet_pos(treebank_tag):\n",
    "\n",
    "    if treebank_tag.startswith('J'):\n",
    "        return wordnet.ADJ\n",
    "    elif treebank_tag.startswith('V'):\n",
    "        return wordnet.VERB\n",
    "    elif treebank_tag.startswith('N'):\n",
    "        return wordnet.NOUN\n",
    "    elif treebank_tag.startswith('R'):\n",
    "        return wordnet.ADV\n",
    "    else:\n",
    "        return None\n",
    "\n",
    "def nltk_lemmatize(word):\n",
    "    pos = pos_tag(word_tokenize(word))[0][1]\n",
    "    wordnet_pos = get_wordnet_pos(pos)\n",
    "    if wordnet_pos:\n",
    "        lemma = lemmatizer.lemmatize(word, pos = wordnet_pos)\n",
    "    else:\n",
    "        lemma = lemmatizer.lemmatize(word)\n",
    "    return lemma\n",
    "\n",
    "nltk_lemmatize(\"having\")"
   ]
  },
  {
   "cell_type": "code",
   "execution_count": 14,
   "metadata": {
    "scrolled": true
   },
   "outputs": [
    {
     "name": "stdout",
     "output_type": "stream",
     "text": [
      "наличие\n",
      "после\n",
      "имеющих\n",
      "имеющие\n",
      "чтобы\n",
      "имея\n",
      "весело\n",
      "необходимости\n",
      "того\n",
      "оказывает\n",
      "есть\n",
      "имеют\n",
      "имеет\n",
      "поскольку\n",
      "оказывают\n",
      "========================================\n",
      "\n",
      "EXAMPLES FOR SENCE  наличие \n",
      "\n",
      "========================================\n",
      "\n",
      "EXAMPLES FOR SENCE  после \n",
      "\n",
      "========================================\n",
      "\n",
      "EXAMPLES FOR SENCE  имеющих \n",
      "\n",
      "Such policy completely ensures enrolment in the higher education system of students having such social status.\n",
      "Article 120 of the Labour Code fixes the duration of basic leave for employees recognized as having rendered special service to Azerbaijan.\n",
      "Such persons should be coded as having no fixed place of work.\n",
      "========================================\n",
      "\n",
      "EXAMPLES FOR SENCE  имеющие \n",
      "\n",
      "The President was given the authority to issue decrees having the force of law.\n",
      "The Indian Supreme Court has interpreted such provisions as having real significance.\n",
      "Grant me, Divine Father, the delegation of having power over malevolent spirits.\n",
      "========================================\n",
      "\n",
      "EXAMPLES FOR SENCE  чтобы \n",
      "\n",
      "========================================\n",
      "\n",
      "EXAMPLES FOR SENCE  имея \n",
      "\n",
      "Not having a rope, you can easily lose each other.\n",
      "It's like I'm having some kind of a breakdown.\n",
      "They're just having a big meeting about next fall's chorus program.\n",
      "Indeed, having a shopping cart is the internet marketing strategy of the new era.\n",
      "And it's amazing how having one nice thing actually made us a better family.\n",
      "It is hard to advance without having an agreement on our priorities.\n",
      "It is meaningless to further the study without having a clear understanding of the organizations that are currently operating.\n",
      "========================================\n",
      "\n",
      "EXAMPLES FOR SENCE  весело \n",
      "\n",
      "You know, for a moment there, you were actually having fun, Detective.\n",
      "It looked like you were having so much fun together.\n",
      "========================================\n",
      "\n",
      "EXAMPLES FOR SENCE  необходимости \n",
      "\n",
      "========================================\n",
      "\n",
      "EXAMPLES FOR SENCE  того \n",
      "\n",
      "========================================\n",
      "\n",
      "EXAMPLES FOR SENCE  оказывает \n",
      "\n",
      "========================================\n",
      "\n",
      "EXAMPLES FOR SENCE  есть \n",
      "\n",
      "========================================\n",
      "\n",
      "EXAMPLES FOR SENCE  имеют \n",
      "\n",
      "========================================\n",
      "\n",
      "EXAMPLES FOR SENCE  имеет \n",
      "\n",
      "========================================\n",
      "\n",
      "EXAMPLES FOR SENCE  поскольку \n",
      "\n",
      "========================================\n",
      "\n",
      "EXAMPLES FOR SENCE  оказывают \n",
      "\n"
     ]
    }
   ],
   "source": [
    "def get_sencewords_and_examples_reverso(eng_wordform, from_lang, to_lang, print_output = False):\n",
    "    wordform_localsencewords_examples_dict = {}\n",
    "    url = \"https://context.reverso.net/перевод/\" + from_lang + \"-\" + to_lang + \"/\" + eng_wordform \n",
    "    login = {'inUserName': 'n.babakov@lingualeo.com', 'inUserPass': '33vec33'}\n",
    "    header_main = {'User-Agent': 'Mozilla/5.0 (Macintosh; Intel Mac OS X 10_10_1) AppleWebKit/537.36 (KHTML, like Gecko) Chrome/39.0.2171.95 Safari/537.36'}\n",
    "    response = requests.get(url, headers=header_main, data = login)\n",
    "    response.encoding = 'utf-8' \n",
    "    soup = bs(response.text, 'html.parser')\n",
    "    first_string_passed = False\n",
    "    translations_variants = []\n",
    "    for link in soup.find_all(\"a\", attrs={\"class\" : \"translation\"}):\n",
    "        if first_string_passed == True:\n",
    "            sence_word = link.text.strip()\n",
    "            if print_output:print(sence_word)\n",
    "            wordform_localsencewords_examples_dict[sence_word] = []\n",
    "            translations_variants.append(sence_word)\n",
    "        first_string_passed = True\n",
    "    time.sleep(random.uniform(0.4,0.8))\n",
    "    for transl_word in translations_variants:\n",
    "        time.sleep(random.uniform(0.4,1.0))\n",
    "        url_example = \"https://context.reverso.net/перевод/\" + to_lang + \"-\" + from_lang + \"/\" + transl_word\n",
    "        response_ex = requests.get(url_example, headers=header_main)\n",
    "        soup_sub = bs(response_ex.text, 'html.parser')\n",
    "        if print_output:\n",
    "            print(\"========================================\")\n",
    "            print(\"\\nEXAMPLES FOR SENCE \",transl_word,\"\\n\" )\n",
    "        for l in soup_sub.find_all('span', attrs = {'class':'text', 'lang':'en'}):\n",
    "            example = l.text.strip()\n",
    "            #print(example, word in example, type(l.text.strip()), word)\n",
    "            regex = \"\\W\" + eng_wordform + \"\\w{0,1}\\W\"\n",
    "            find = re.findall(regex, example)\n",
    "            if len(find) > 0 :\n",
    "                wordform_localsencewords_examples_dict[transl_word].append(example)\n",
    "                if print_output: print(example)\n",
    "    return wordform_localsencewords_examples_dict\n",
    "w_locsence_ex_dict = get_sencewords_and_examples_reverso('having',\"английский\",\"русский\", print_output = True )   \n",
    "    "
   ]
  },
  {
   "cell_type": "code",
   "execution_count": 7,
   "metadata": {},
   "outputs": [
    {
     "data": {
      "text/plain": [
       "{'наличие': [],\n",
       " 'после': [],\n",
       " 'имеющих': ['Such policy completely ensures enrolment in the higher education system of students having such social status.',\n",
       "  'Article 120 of the Labour Code fixes the duration of basic leave for employees recognized as having rendered special service to Azerbaijan.',\n",
       "  'Such persons should be coded as having no fixed place of work.'],\n",
       " 'имеющие': ['The President was given the authority to issue decrees having the force of law.',\n",
       "  'The Indian Supreme Court has interpreted such provisions as having real significance.',\n",
       "  'Grant me, Divine Father, the delegation of having power over malevolent spirits.'],\n",
       " 'чтобы': [],\n",
       " 'имея': ['Not having a rope, you can easily lose each other.',\n",
       "  \"It's like I'm having some kind of a breakdown.\",\n",
       "  \"They're just having a big meeting about next fall's chorus program.\",\n",
       "  'Indeed, having a shopping cart is the internet marketing strategy of the new era.',\n",
       "  \"And it's amazing how having one nice thing actually made us a better family.\",\n",
       "  'It is hard to advance without having an agreement on our priorities.',\n",
       "  'It is meaningless to further the study without having a clear understanding of the organizations that are currently operating.'],\n",
       " 'весело': ['You know, for a moment there, you were actually having fun, Detective.',\n",
       "  'It looked like you were having so much fun together.'],\n",
       " 'необходимости': [],\n",
       " 'того': [],\n",
       " 'оказывает': [],\n",
       " 'есть': [],\n",
       " 'имеют': [],\n",
       " 'имеет': [],\n",
       " 'поскольку': [],\n",
       " 'оказывают': []}"
      ]
     },
     "execution_count": 7,
     "metadata": {},
     "output_type": "execute_result"
    }
   ],
   "source": [
    "w_locsence_ex_dict"
   ]
  },
  {
   "cell_type": "code",
   "execution_count": 8,
   "metadata": {},
   "outputs": [
    {
     "data": {
      "text/plain": [
       "'бронировать'"
      ]
     },
     "execution_count": 8,
     "metadata": {},
     "output_type": "execute_result"
    }
   ],
   "source": [
    "\n",
    "l = ['книга', 'книжечка', 'записная книжка', 'бронировать', 'заводить дело', 'штрафовать (в спорте)']\n",
    "word = 'забронировать'\n",
    "def look_for_sublemma_word(wordform, lemmas_list):\n",
    "    if isinstance(lemmas_list, list) or isinstance(lemmas_list, set):\n",
    "        for lemma in lemmas_list:\n",
    "            if len(lemma.split()) == 1:\n",
    "                if wordform in lemma or lemma in wordform:\n",
    "                    #print(wordform)\n",
    "                    return lemma\n",
    "        return None\n",
    "    elif isinstance(lemmas_list, str):\n",
    "        if len(lemmas_list.split()) == 1:\n",
    "            if wordform in lemmas_list or lemmas_list in wordform:\n",
    "                return lemma\n",
    "            else:\n",
    "                return None\n",
    "    else:\n",
    "        return None #\"no type\" + str(type(lemmas_list))\n",
    "\n",
    "look_for_sublemma_word(word, l) \n",
    "            "
   ]
  },
  {
   "cell_type": "code",
   "execution_count": 9,
   "metadata": {},
   "outputs": [
    {
     "name": "stdout",
     "output_type": "stream",
     "text": [
      "WILL LOOK THROUGH LOCAL WORDFORMS ['книга', 'книжечка', 'записная книжка', 'бронировать', 'заводить дело', 'штрафовать (в спорте)']\n",
      "\n",
      "NOWPROCESSING наличие\n",
      "наличие \n",
      "no such lemma in orig dict\n",
      "\n",
      "NOWPROCESSING после\n",
      "после \n",
      "no such lemma in orig dict\n",
      "\n",
      "NOWPROCESSING имеющих\n",
      "имеющих \n",
      "no such lemma in orig dict\n",
      "\n",
      "NOWPROCESSING имеющие\n",
      "имеющие \n",
      "no such lemma in orig dict\n",
      "\n",
      "NOWPROCESSING чтобы\n",
      "чтобы \n",
      "no such lemma in orig dict\n",
      "\n",
      "NOWPROCESSING имея\n",
      "имея \n",
      "no such lemma in orig dict\n",
      "\n",
      "NOWPROCESSING весело\n",
      "весело \n",
      "no such lemma in orig dict\n",
      "\n",
      "NOWPROCESSING необходимости\n",
      "необходимости \n",
      "no such lemma in orig dict\n",
      "\n",
      "NOWPROCESSING того\n",
      "того \n",
      "no such lemma in orig dict\n",
      "\n",
      "NOWPROCESSING оказывает\n",
      "оказывает \n",
      "no such lemma in orig dict\n",
      "\n",
      "NOWPROCESSING есть\n",
      "есть \n",
      "no such lemma in orig dict\n",
      "\n",
      "NOWPROCESSING имеют\n",
      "имеют \n",
      "no such lemma in orig dict\n",
      "\n",
      "NOWPROCESSING имеет\n",
      "имеет \n",
      "no such lemma in orig dict\n",
      "\n",
      "NOWPROCESSING поскольку\n",
      "поскольку \n",
      "no such lemma in orig dict\n",
      "\n",
      "NOWPROCESSING оказывают\n",
      "оказывают \n",
      "no such lemma in orig dict\n"
     ]
    },
    {
     "data": {
      "text/plain": [
       "{'book': {'lemma_branch': [{'definition': 'a set of pages fastened together in a cover for people to read',\n",
       "    'local_word': 'книга',\n",
       "    'examples': ['a book about animals']},\n",
       "   {'definition': 'a set of stamps, tickets, etc that are fastened together inside a cover',\n",
       "    'local_word': 'книжечка',\n",
       "    'examples': []},\n",
       "   {'definition': 'a set of pages fastened together in a cover and used for writing on',\n",
       "    'local_word': 'записная книжка',\n",
       "    'examples': ['an address book']},\n",
       "   {'definition': 'to arrange to use or do something at a particular time in the future',\n",
       "    'local_word': 'бронировать',\n",
       "    'examples': ['to book a ticket/hotel room',\n",
       "     \"We've booked a trip to Spain for next month.\",\n",
       "     'Sorry, the hotel is fully booked (= has no more rooms).']},\n",
       "   {'definition': 'to officially accuse someone of a crime',\n",
       "    'local_word': 'заводить дело',\n",
       "    'examples': ['Detectives booked him for resisting arrest.']},\n",
       "   {'definition': 'If a sports official books you, they write an official record of something you have done wrong.',\n",
       "    'local_word': 'штрафовать (в спорте)',\n",
       "    'examples': ['The referee booked two players for fighting during the game.']}],\n",
       "  'wordforms_branch': {}}}"
      ]
     },
     "execution_count": 9,
     "metadata": {},
     "output_type": "execute_result"
    }
   ],
   "source": [
    "def merge_lemma_context_vs_oxford_examples(eng_lemma, local_wordsence_examples_dict, general_dict, print_output = False):\n",
    "    oxford_sensewords_list = []\n",
    "    oxford_lemmas_examples_pointers_dict = {}\n",
    "    for definition_element in general_dict[eng_lemma]['lemma_branch']:\n",
    "        #if print_output: print(definition_element)\n",
    "        oxford_sensewords_list.append(definition_element['local_word'])\n",
    "        oxford_lemmas_examples_pointers_dict[definition_element['local_word']] = definition_element['examples']\n",
    "    if print_output: print(\"WILL LOOK THROUGH LOCAL WORDFORMS\", oxford_sensewords_list)\n",
    "    oxford_sensewords_list = set(oxford_sensewords_list)\n",
    "    for context_local_lemma in local_wordsence_examples_dict.keys():\n",
    "        if print_output: print(\"\\nNOWPROCESSING\", context_local_lemma)\n",
    "        orig_intersection_lemma = look_for_sublemma_word(context_local_lemma, oxford_sensewords_list)\n",
    "        if not orig_intersection_lemma:\n",
    "            if print_output: print(context_local_lemma, \"\\nno such lemma in orig dict\")\n",
    "            pass\n",
    "        elif len(local_wordsence_examples_dict[context_local_lemma]) == 0:\n",
    "            if print_output: print(context_local_lemma, \"\\ndoes not have examples with english wodform\")\n",
    "            pass\n",
    "        else:\n",
    "            #general_dict[eng_lemma]['lemma_branch'][context_local_lemma]['examples'].extend(local_wordsence_examples_dict[context_local_lemma][:3])\n",
    "            if print_output:print(oxford_lemmas_examples_pointers_dict[orig_intersection_lemma])\n",
    "            oxford_lemmas_examples_pointers_dict[orig_intersection_lemma].extend(local_wordsence_examples_dict[context_local_lemma][:3])\n",
    "            if print_output:print(\"add\",local_wordsence_examples_dict[context_local_lemma][:3] )\n",
    "dct = copy.deepcopy(sence_dict)\n",
    "merge_lemma_context_vs_oxford_examples(\"book\",w_locsence_ex_dict, dct, print_output = True)        \n",
    "dct\n"
   ]
  },
  {
   "cell_type": "code",
   "execution_count": 21,
   "metadata": {},
   "outputs": [],
   "source": [
    "def merge_locsence_ex_vs_lemma_structure(eng_wordform, eng_lemma, local_wordsence_examples_dict, general_dict, print_output = False):\n",
    "    general_dict[eng_lemma]['wordforms_branch'][eng_wordform] = []\n",
    "    oxford_sensewords_list = []\n",
    "    for definition_element in general_dict[eng_lemma]['lemma_branch']:\n",
    "        #if print_output: print(definition_element)\n",
    "        oxford_sensewords_list.append(definition_element['local_word'])\n",
    "    if print_output: print(\"WILL LOOK THROUGH LOCAL WORDFORMS\", oxford_sensewords_list)\n",
    "    oxford_sensewords_list = set(oxford_sensewords_list)\n",
    "    successfull_merge_count = 0\n",
    "    for local_wordform in local_wordsence_examples_dict.keys():\n",
    "        p = morph.parse(local_wordform)[0]\n",
    "        local_lemma = p.normal_form\n",
    "        if print_output: print(\"\\nNOWPROCESSING\", local_wordform, local_lemma, look_for_sublemma_word (local_lemma, oxford_sensewords_list))\n",
    "        if look_for_sublemma_word (local_wordform, oxford_sensewords_list):\n",
    "            if print_output: print(local_wordform, \"\\nis original lemma itself\")\n",
    "            pass\n",
    "        elif len(local_wordsence_examples_dict[local_wordform]) == 0:\n",
    "            if print_output: print(local_wordform, \"\\ndoes not have examples with english wodform\")\n",
    "            pass\n",
    "        else:\n",
    "            if print_output: print(local_wordform, \"\\nno match but no limitations\")\n",
    "            local_wordform_dict = {\"sence_wordform_local\":local_wordform,\"context\":local_wordsence_examples_dict[local_wordform][:3]}\n",
    "            if print_output: print(\"LOCAL_DICT_OBJECT\",local_wordform_dict)\n",
    "            general_dict[eng_lemma]['wordforms_branch'][eng_wordform].append(local_wordform_dict)\n",
    "        \"\"\"\n",
    "        elif look_for_sublemma_word (local_lemma, oxford_sensewords_list) == True:\n",
    "            if print_output: print(local_wordform, \"\\nlocal_wordform to local lemma or viceversa match\")\n",
    "            successfull_merge_count += 1\n",
    "            local_wordform_dict = {\"sence_wordform_local\":local_wordform,\n",
    "                                   \"context\":[]}\n",
    "            for definition_element in general_dict[eng_lemma]['lemma_branch']:\n",
    "                \n",
    "                if look_for_sublemma_word (local_lemma, definition_element['local_word']):\n",
    "                    local_wordform_examples = copy.deepcopy(definition_element['examples'])\n",
    "                    local_wordform_dict['context'] = local_wordform_examples\n",
    "                    try:\n",
    "                        local_wordform_dict['context'].extend(local_wordsence_examples_dict[local_wordform][:3])\n",
    "                        definition_element['examples'].extend(local_wordsence_examples_dict[local_wordform][:3])\n",
    "                    except:\n",
    "                        local_wordform_dict['context'].extend(local_wordsence_examples_dict[definition_element['local_word']][:3])\n",
    "                        definition_element['examples'].extend(local_wordsence_examples_dict[definition_element['local_word']][:3])\n",
    "            general_dict[eng_lemma]['wordforms_branch'][eng_wordform].append(local_wordform_dict)\n",
    "            if print_output: print(\"LOCAL_DICT_OBJECT\",local_wordform_dict)\n",
    "        \"\"\"\n",
    "        \n",
    "    if print_output:\n",
    "        if successfull_merge_count == 0: print(\"NO LOCAL INTERSECTIONS FOR WORDWORM\", eng_wordform)\n",
    "    if len(general_dict[eng_lemma]['wordforms_branch'][eng_wordform]) == 0:\n",
    "        del general_dict[eng_lemma]['wordforms_branch'][eng_wordform] \n",
    "        \n",
    "        \n",
    "#merge_locsence_ex_vs_lemma_structure(\"booking\",\"book\",w_locsence_ex_dict, big_diCKt, print_output = True)        \n",
    "#big_diCKt"
   ]
  },
  {
   "cell_type": "code",
   "execution_count": null,
   "metadata": {},
   "outputs": [],
   "source": [
    "time.now()"
   ]
  },
  {
   "cell_type": "code",
   "execution_count": 26,
   "metadata": {
    "scrolled": true
   },
   "outputs": [
    {
     "name": "stdout",
     "output_type": "stream",
     "text": [
      "get_def_info 4.0450239181518555\n",
      "lemma_sence_ex_dict 19.71959114074707\n",
      "merge_lemma_context_vs_oxford_examples 0.000225067138671875\n",
      "word request to lldb 1.325551986694336\n",
      "word forms request to lldb 0.011990070343017578\n",
      "wordform iteration 10.0308837890625\n",
      "wordform iteration 4.740480899810791\n",
      "wordform iteration 18.385943174362183\n"
     ]
    },
    {
     "data": {
      "text/plain": [
       "{'book': {'lemma_branch': [{'definition': 'a set of pages fastened together in a cover for people to read',\n",
       "    'local_word': 'книга',\n",
       "    'examples': ['a book about animals',\n",
       "     'Recently has published as a co-author with Ra-Ma the book entitled Internet protocols.',\n",
       "     'The book aimed to sensitize children to the different aspects of poverty.',\n",
       "     'The book is available on the OHCHR web site.']},\n",
       "   {'definition': 'a set of stamps, tickets, etc that are fastened together inside a cover',\n",
       "    'local_word': 'книжечка',\n",
       "    'examples': ['Have you got an autograph book?',\n",
       "     'Where is your book?',\n",
       "     'You taking Little League book like you did last year?']},\n",
       "   {'definition': 'a set of pages fastened together in a cover and used for writing on',\n",
       "    'local_word': 'записная книжка',\n",
       "    'examples': ['an address book']},\n",
       "   {'definition': 'to arrange to use or do something at a particular time in the future',\n",
       "    'local_word': 'бронировать',\n",
       "    'examples': ['to book a ticket/hotel room',\n",
       "     \"We've booked a trip to Spain for next month.\",\n",
       "     'Sorry, the hotel is fully booked (= has no more rooms).',\n",
       "     \"I'm sorry, it won't let me book it without the correct ranking.\",\n",
       "     'You need to go ahead and book your ticket.',\n",
       "     'The tourist information offices in Nordland will help you book accommodation and activities.',\n",
       "     'We advise to book a room according to the number of guests that will occupy it.',\n",
       "     'After the date you will have to book the rooms yourself.',\n",
       "     'Conference participants are encouraged to book online.']},\n",
       "   {'definition': 'to officially accuse someone of a crime',\n",
       "    'local_word': 'заводить дело',\n",
       "    'examples': ['Detectives booked him for resisting arrest.']},\n",
       "   {'definition': 'If a sports official books you, they write an official record of something you have done wrong.',\n",
       "    'local_word': 'штрафовать (в спорте)',\n",
       "    'examples': ['The referee booked two players for fighting during the game.']}],\n",
       "  'wordforms_branch': {'booked': [{'sence_wordform_local': 'заказал',\n",
       "     'context': [\"Calvin's booked the best DJ on campus for the after-party.\",\n",
       "      'So I booked an O.R. for the next five hours.',\n",
       "      'I booked the O.R. I read up on the procedure.']},\n",
       "    {'sence_wordform_local': 'забронировал',\n",
       "     'context': ['The Spanish lawyer booked a flight to Istanbul but never made it.',\n",
       "      'I booked a nice cozy room for you at the Don Jail.',\n",
       "      'I booked a trip to Europe in the fall.']},\n",
       "    {'sence_wordform_local': 'забронировала',\n",
       "     'context': ['I mean, I just booked my friends a gig.',\n",
       "      'I booked you a room in the hotel.',\n",
       "      'I booked a room for us in our favourite hotel at Lake Chiemsee.']},\n",
       "    {'sence_wordform_local': 'забронировали',\n",
       "     'context': ['We booked you a family room at the hotel on the roundabout.',\n",
       "      \"No, I don't think so, we only booked two.\",\n",
       "      'When we were together, we booked a cruise.']},\n",
       "    {'sence_wordform_local': 'заказали',\n",
       "     'context': [\"We booked a table at Papa Del's.\",\n",
       "      'We booked it, we sent out invitations...']},\n",
       "    {'sence_wordform_local': 'занят',\n",
       "     'context': [\"Well, I'm pretty much booked, tripp.\"]},\n",
       "    {'sence_wordform_local': 'забронированы',\n",
       "     'context': ['I have three suites and two rooms booked in my name.',\n",
       "      'The conference venue had been chosen, the meeting rooms booked and a transport system organized.',\n",
       "      'The rooms can be booked with half-board (at an additional cost).']},\n",
       "    {'sence_wordform_local': 'заказан',\n",
       "     'context': [\"You'd be booked all season.\",\n",
       "      \"I've booked passage on an Andorian transport.\",\n",
       "      'This conversation was booked in English.']}],\n",
       "   'booking': [{'sence_wordform_local': 'бронирование',\n",
       "     'context': ['Because you can make the booking any time you want.',\n",
       "      'Consultations and booking of tickets for all flights of the Airline.',\n",
       "      'If the customer cancels the booking, the invoice will be cancelled automatically.']},\n",
       "    {'sence_wordform_local': 'резервирование',\n",
       "     'context': ['The organizers are responsible for providing premises for the workshop and booking hotels for participants.',\n",
       "      'In this case, Pilgram Apartments performs the confirmation of the booking itself.']}],\n",
       "   'books': [{'sence_wordform_local': 'книги',\n",
       "     'context': [\"It's not easy to get books in English around here.\",\n",
       "      'She sent the companion into Reading to exchange some library books, and took some sleeping pills.',\n",
       "      'So there must be a reason why they used two books.']},\n",
       "    {'sence_wordform_local': 'учебники',\n",
       "     'context': [\"Educational history books have been rewritten to legitimize Russia's actions.\",\n",
       "      'Some of the books are unsuitable and in need of comprehensive overhaul and updating.',\n",
       "      'In primary education, the adoption of school books, interactive games and online tools has proved to be particularly useful.']},\n",
       "    {'sence_wordform_local': 'книжек',\n",
       "     'context': ['I read one of your books, by the way.',\n",
       "      \"Apparently he read a couple books in the '80s.\",\n",
       "      'I was so nervous with my mom, think I put like ten books in there.']},\n",
       "    {'sence_wordform_local': 'книжках',\n",
       "     'context': [\"That's what you get in children's books.\",\n",
       "      'Do you want to be in the good books or the bad books?',\n",
       "      'Well, she sleeps with her both hands tucked under her cheek like in those kid books.']},\n",
       "    {'sence_wordform_local': 'бухгалтерию',\n",
       "     'context': ['And that would open up our books in an alarming way.',\n",
       "      'Now, no businessman wants to open up his books, especially one with $43 billion.',\n",
       "      'Took down the whole setup, books, cash, everything.']}]}}}"
      ]
     },
     "execution_count": 26,
     "metadata": {},
     "output_type": "execute_result"
    }
   ],
   "source": [
    "def process_lemma_and_forms(word, dictionary, show_words = False):\n",
    "    moment_1 = time.time()\n",
    "    get_def_info(word, \"english\",\"russian\",dictionary)\n",
    "    moment_2 = time.time()\n",
    "    print(\"get_def_info\",moment_2 - moment_1)\n",
    "    \n",
    "    lemma_sence_ex_dict = get_sencewords_and_examples_reverso(word,\"английский\",\"русский\", print_output = False )\n",
    "    moment_3 = time.time()\n",
    "    print(\"lemma_sence_ex_dict\",moment_3 - moment_2)\n",
    "    \n",
    "    merge_lemma_context_vs_oxford_examples(word,lemma_sence_ex_dict, dictionary, print_output = False) \n",
    "    moment_4 = time.time()\n",
    "    print(\"merge_lemma_context_vs_oxford_examples\",moment_4 - moment_3)\n",
    "    \n",
    "    req = \"\"\"SELECT DISTINCT\n",
    "    content_words.word_id,content_words.word_lemma, content_words.word_value\n",
    "    FROM content_words\n",
    "    WHERE content_words.word_value !~ ('\\W') AND\n",
    "    (array_length(regexp_split_to_array(content_words.word_value, '[ ''-]'), 1) = 1) \n",
    "    and word_lemma != 0 and word_hash = calc_hash(' \"\"\" + word + \"\"\"')\"\"\"\n",
    "    cursor.execute(req)\n",
    "    moment_5 = time.time()\n",
    "    print(\"word request to lldb\",moment_5 - moment_4)\n",
    "    \n",
    "    req_res = cursor.fetchone()\n",
    "    if not req_res:\n",
    "        if show_words == True: print(word, \" is not in db\")\n",
    "        return 0\n",
    "    else:\n",
    "        #print(a[0])\n",
    "        word_id = req_res[0]\n",
    "        if show_words == True: print(req_res[2])\n",
    "    \n",
    "    word_forms_request = \"\"\"SELECT DISTINCT \n",
    "    content_words.word_value\n",
    "    FROM content_words\n",
    "    where word_lemma = \"\"\" + str(word_id) + \"\"\"  and word_lemma != word_id \"\"\"\n",
    "    cursor.execute(word_forms_request)\n",
    "    moment_6 = time.time()\n",
    "    print(\"word forms request to lldb\",moment_6 - moment_5)\n",
    "    for wordform in cursor:\n",
    "        if show_words == True: print(wordform[0])\n",
    "        wordform_lemma = nltk_lemmatize(wordform[0])\n",
    "        if wordform_lemma == word:\n",
    "            if show_words == True: print(\"will process\", wordform[0])\n",
    "            start = time.time()\n",
    "            local_wordforms_sence_examples_dict = get_sencewords_and_examples_reverso(wordform[0],\"английский\", \"русский\")  \n",
    "            merge_locsence_ex_vs_lemma_structure(wordform[0],word, local_wordforms_sence_examples_dict,dictionary ,\n",
    "                                                                                 print_output= False)\n",
    "            end = time.time()\n",
    "            print(\"wordform iteration\", end - start)\n",
    "            #если после этого узел englsih_wordform оказывается пустым списком значит reverso не нашел нормальной словесной единицы для этого\n",
    "            #то есть слово скорее всгео херовое как показала практика типа haveing haved\n",
    "        else:\n",
    "            if show_words == True: print(\"will not process\", wordform[0], \"lemma is\",wordform_lemma )\n",
    "        #get_def_info(wordform[0], \"english\",\"russian\",dictionary,is_word_form = True, original_word = word )\n",
    "        \n",
    "big_diCKt = {}        \n",
    "process_lemma_and_forms(\"book\",big_diCKt)\n",
    "big_diCKt"
   ]
  },
  {
   "cell_type": "code",
   "execution_count": null,
   "metadata": {},
   "outputs": [],
   "source": [
    "import json\n",
    "with open(\"one_word_transalte.json\", \"w\") as f:\n",
    "    json.dump(big_diCKt, f, ensure_ascii=False, indent = 4)"
   ]
  },
  {
   "cell_type": "code",
   "execution_count": null,
   "metadata": {
    "scrolled": true
   },
   "outputs": [],
   "source": [
    "big_diCKt"
   ]
  },
  {
   "cell_type": "code",
   "execution_count": 15,
   "metadata": {},
   "outputs": [],
   "source": [
    "import pandas as pd\n",
    "from tqdm import tqdm"
   ]
  },
  {
   "cell_type": "code",
   "execution_count": 16,
   "metadata": {},
   "outputs": [],
   "source": [
    "test_words_db = pd.read_csv(\"test_words.csv\")\n",
    "test_words = list(test_words_db['word'])"
   ]
  },
  {
   "cell_type": "code",
   "execution_count": 18,
   "metadata": {},
   "outputs": [],
   "source": [
    "a = {'f':[]}"
   ]
  },
  {
   "cell_type": "code",
   "execution_count": 20,
   "metadata": {},
   "outputs": [
    {
     "data": {
      "text/plain": [
       "{}"
      ]
     },
     "execution_count": 20,
     "metadata": {},
     "output_type": "execute_result"
    }
   ],
   "source": [
    "del a['f']\n",
    "a"
   ]
  },
  {
   "cell_type": "code",
   "execution_count": 27,
   "metadata": {},
   "outputs": [
    {
     "name": "stderr",
     "output_type": "stream",
     "text": [
      "\n",
      "\n",
      "\n",
      "  0%|          | 0/99 [00:00<?, ?it/s]\u001b[A\u001b[A\u001b[A"
     ]
    },
    {
     "name": "stdout",
     "output_type": "stream",
     "text": [
      "get_def_info 4.092491149902344\n",
      "lemma_sence_ex_dict 3.1477370262145996\n",
      "merge_lemma_context_vs_oxford_examples 0.00018477439880371094\n"
     ]
    },
    {
     "name": "stderr",
     "output_type": "stream",
     "text": [
      "\n",
      "\n",
      "\n",
      "  1%|          | 1/99 [00:09<14:42,  9.01s/it]\u001b[A\u001b[A\u001b[A"
     ]
    },
    {
     "name": "stdout",
     "output_type": "stream",
     "text": [
      "word request to lldb 1.756822109222412\n",
      "word forms request to lldb 0.011679887771606445\n",
      "get_def_info 3.841831922531128\n",
      "lemma_sence_ex_dict 2.5514490604400635\n",
      "merge_lemma_context_vs_oxford_examples 0.00018405914306640625\n"
     ]
    },
    {
     "name": "stderr",
     "output_type": "stream",
     "text": [
      "\n",
      "\n",
      "\n",
      "  2%|▏         | 2/99 [00:16<13:48,  8.55s/it]\u001b[A\u001b[A\u001b[A"
     ]
    },
    {
     "name": "stdout",
     "output_type": "stream",
     "text": [
      "word request to lldb 1.0139780044555664\n",
      "word forms request to lldb 0.05191802978515625\n",
      "get_def_info 1.9285612106323242\n",
      "lemma_sence_ex_dict 21.207242012023926\n",
      "merge_lemma_context_vs_oxford_examples 0.00018978118896484375\n",
      "word request to lldb 1.0436758995056152\n",
      "word forms request to lldb 0.04903817176818848\n"
     ]
    },
    {
     "name": "stderr",
     "output_type": "stream",
     "text": [
      "\n",
      "\n",
      "\n",
      "  3%|▎         | 3/99 [01:00<30:45, 19.23s/it]\u001b[A\u001b[A\u001b[A"
     ]
    },
    {
     "name": "stdout",
     "output_type": "stream",
     "text": [
      "wordform iteration 19.910714864730835\n",
      "get_def_info 1.8178660869598389\n",
      "lemma_sence_ex_dict 19.266682147979736\n",
      "merge_lemma_context_vs_oxford_examples 0.00017571449279785156\n"
     ]
    },
    {
     "name": "stderr",
     "output_type": "stream",
     "text": [
      "\n",
      "\n",
      "\n",
      "  4%|▍         | 4/99 [01:22<31:51, 20.12s/it]\u001b[A\u001b[A\u001b[A"
     ]
    },
    {
     "name": "stdout",
     "output_type": "stream",
     "text": [
      "word request to lldb 1.0906319618225098\n",
      "word forms request to lldb 0.014922142028808594\n",
      "get_def_info 1.9207980632781982\n",
      "lemma_sence_ex_dict 5.772356033325195\n",
      "merge_lemma_context_vs_oxford_examples 0.00021409988403320312\n",
      "word request to lldb 1.029432773590088\n",
      "word forms request to lldb 0.026484966278076172\n"
     ]
    },
    {
     "name": "stderr",
     "output_type": "stream",
     "text": [
      "\n",
      "\n",
      "\n",
      "  5%|▌         | 5/99 [01:35<28:07, 17.95s/it]\u001b[A\u001b[A\u001b[A"
     ]
    },
    {
     "name": "stdout",
     "output_type": "stream",
     "text": [
      "wordform iteration 4.147286891937256\n",
      "get_def_info 2.08899188041687\n",
      "lemma_sence_ex_dict 17.75824809074402\n",
      "merge_lemma_context_vs_oxford_examples 0.00027298927307128906\n",
      "word request to lldb 1.0257890224456787\n",
      "word forms request to lldb 0.04927802085876465\n",
      "wordform iteration 22.54624891281128\n",
      "wordform iteration 16.980808973312378\n"
     ]
    },
    {
     "name": "stderr",
     "output_type": "stream",
     "text": [
      "\n",
      "\n",
      "\n",
      "  6%|▌         | 6/99 [02:51<54:53, 35.41s/it]\u001b[A\u001b[A\u001b[A"
     ]
    },
    {
     "name": "stdout",
     "output_type": "stream",
     "text": [
      "wordform iteration 15.683690071105957\n",
      "get_def_info 2.258190870285034\n",
      "lemma_sence_ex_dict 2.4071788787841797\n",
      "merge_lemma_context_vs_oxford_examples 0.0002541542053222656\n",
      "word request to lldb 1.0218818187713623\n",
      "word forms request to lldb 0.01544499397277832\n",
      "wordform iteration 2.2145581245422363\n"
     ]
    },
    {
     "name": "stderr",
     "output_type": "stream",
     "text": [
      "\n",
      "\n",
      "\n",
      "  7%|▋         | 7/99 [03:02<42:44, 27.88s/it]\u001b[A\u001b[A\u001b[A"
     ]
    },
    {
     "name": "stdout",
     "output_type": "stream",
     "text": [
      "wordform iteration 2.3590142726898193\n",
      "get_def_info 2.04626202583313\n",
      "lemma_sence_ex_dict 19.612568140029907\n",
      "merge_lemma_context_vs_oxford_examples 0.0002009868621826172\n",
      "word request to lldb 1.0063278675079346\n",
      "word forms request to lldb 0.013860940933227539\n"
     ]
    },
    {
     "name": "stderr",
     "output_type": "stream",
     "text": [
      "\n",
      "\n",
      "\n",
      "  8%|▊         | 8/99 [03:34<44:09, 29.11s/it]\u001b[A\u001b[A\u001b[A"
     ]
    },
    {
     "name": "stdout",
     "output_type": "stream",
     "text": [
      "wordform iteration 9.316962957382202\n",
      "get_def_info 3.6288859844207764\n",
      "lemma_sence_ex_dict 15.991965055465698\n",
      "merge_lemma_context_vs_oxford_examples 0.00026798248291015625\n",
      "word request to lldb 1.0892970561981201\n",
      "word forms request to lldb 0.011765003204345703\n",
      "wordform iteration 17.93591809272766\n",
      "wordform iteration 19.60310697555542\n"
     ]
    },
    {
     "name": "stderr",
     "output_type": "stream",
     "text": [
      "\n",
      "\n",
      "\n",
      "  9%|▉         | 9/99 [04:44<1:02:02, 41.36s/it]\u001b[A\u001b[A\u001b[A"
     ]
    },
    {
     "name": "stdout",
     "output_type": "stream",
     "text": [
      "wordform iteration 11.645902872085571\n",
      "get_def_info 4.051474332809448\n",
      "lemma_sence_ex_dict 13.723628044128418\n",
      "merge_lemma_context_vs_oxford_examples 0.00018262863159179688\n"
     ]
    },
    {
     "name": "stderr",
     "output_type": "stream",
     "text": [
      "\n",
      "\n",
      "\n",
      " 10%|█         | 10/99 [05:02<51:21, 34.62s/it] \u001b[A\u001b[A\u001b[A"
     ]
    },
    {
     "name": "stdout",
     "output_type": "stream",
     "text": [
      "word request to lldb 1.1103131771087646\n",
      "word forms request to lldb 0.011852025985717773\n",
      "get_def_info 3.8542919158935547\n",
      "lemma_sence_ex_dict 19.195032119750977\n",
      "merge_lemma_context_vs_oxford_examples 0.0009195804595947266\n",
      "word request to lldb 0.9859762191772461\n",
      "word forms request to lldb 0.022417783737182617\n"
     ]
    },
    {
     "name": "stderr",
     "output_type": "stream",
     "text": [
      "\n",
      "\n",
      "\n",
      " 11%|█         | 11/99 [05:28<46:38, 31.80s/it]\u001b[A\u001b[A\u001b[A"
     ]
    },
    {
     "name": "stdout",
     "output_type": "stream",
     "text": [
      "wordform iteration 1.1639320850372314\n",
      "get_def_info 3.614528179168701\n",
      "lemma_sence_ex_dict 4.697324991226196\n",
      "merge_lemma_context_vs_oxford_examples 0.0001690387725830078\n",
      "word request to lldb 1.0176727771759033\n",
      "word forms request to lldb 0.01754903793334961\n",
      "wordform iteration 0.9892210960388184\n",
      "wordform iteration 1.0457727909088135\n"
     ]
    },
    {
     "name": "stderr",
     "output_type": "stream",
     "text": [
      "\n",
      "\n",
      "\n",
      " 12%|█▏        | 12/99 [05:47<40:52, 28.19s/it]\u001b[A\u001b[A\u001b[A"
     ]
    },
    {
     "name": "stdout",
     "output_type": "stream",
     "text": [
      "wordform iteration 8.367164850234985\n",
      "get_def_info 3.7438900470733643\n",
      "lemma_sence_ex_dict 14.396926879882812\n",
      "merge_lemma_context_vs_oxford_examples 0.0002791881561279297\n",
      "word request to lldb 1.0205907821655273\n",
      "word forms request to lldb 0.1793231964111328\n",
      "wordform iteration 3.803874969482422\n",
      "wordform iteration 1.1750211715698242\n"
     ]
    },
    {
     "name": "stderr",
     "output_type": "stream",
     "text": [
      "\n",
      "\n",
      "\n",
      " 13%|█▎        | 13/99 [06:15<40:19, 28.13s/it]\u001b[A\u001b[A\u001b[A"
     ]
    },
    {
     "name": "stdout",
     "output_type": "stream",
     "text": [
      "wordform iteration 3.6604509353637695\n",
      "get_def_info 3.7363381385803223\n",
      "lemma_sence_ex_dict 11.843981266021729\n",
      "merge_lemma_context_vs_oxford_examples 0.00023674964904785156\n",
      "word request to lldb 1.0235180854797363\n",
      "word forms request to lldb 0.021461009979248047\n",
      "wordform iteration 1.2642338275909424\n"
     ]
    },
    {
     "name": "stderr",
     "output_type": "stream",
     "text": [
      "\n",
      "\n",
      "\n",
      " 14%|█▍        | 14/99 [06:38<37:22, 26.38s/it]\u001b[A\u001b[A\u001b[A"
     ]
    },
    {
     "name": "stdout",
     "output_type": "stream",
     "text": [
      "wordform iteration 4.401113271713257\n",
      "get_def_info 1.8713698387145996\n",
      "lemma_sence_ex_dict 18.489540815353394\n",
      "merge_lemma_context_vs_oxford_examples 0.00020933151245117188\n",
      "word request to lldb 1.0460259914398193\n"
     ]
    },
    {
     "name": "stderr",
     "output_type": "stream",
     "text": [
      "\n",
      "\n",
      "\n",
      " 15%|█▌        | 15/99 [07:00<35:06, 25.07s/it]\u001b[A\u001b[A\u001b[A"
     ]
    },
    {
     "name": "stdout",
     "output_type": "stream",
     "text": [
      "word forms request to lldb 0.6183817386627197\n",
      "get_def_info 1.913599967956543\n",
      "lemma_sence_ex_dict 20.186735153198242\n",
      "merge_lemma_context_vs_oxford_examples 0.0002181529998779297\n",
      "word request to lldb 1.0662078857421875\n"
     ]
    },
    {
     "name": "stderr",
     "output_type": "stream",
     "text": [
      "\n",
      "\n",
      "\n",
      " 16%|█▌        | 16/99 [07:23<34:06, 24.66s/it]\u001b[A\u001b[A\u001b[A"
     ]
    },
    {
     "name": "stdout",
     "output_type": "stream",
     "text": [
      "word forms request to lldb 0.5121250152587891\n",
      "get_def_info 1.7696049213409424\n",
      "lemma_sence_ex_dict 9.343464136123657\n",
      "merge_lemma_context_vs_oxford_examples 0.00026702880859375\n",
      "word request to lldb 0.9915299415588379\n",
      "word forms request to lldb 0.011713027954101562\n",
      "wordform iteration 19.99170207977295\n",
      "wordform iteration 8.428346157073975\n"
     ]
    },
    {
     "name": "stderr",
     "output_type": "stream",
     "text": [
      "\n",
      "\n",
      "\n",
      " 17%|█▋        | 17/99 [08:16<45:07, 33.02s/it]\u001b[A\u001b[A\u001b[A"
     ]
    },
    {
     "name": "stdout",
     "output_type": "stream",
     "text": [
      "wordform iteration 11.982739925384521\n",
      "get_def_info 3.7089641094207764\n",
      "lemma_sence_ex_dict 2.21449875831604\n",
      "merge_lemma_context_vs_oxford_examples 0.0007851123809814453\n",
      "word request to lldb 1.0325849056243896\n",
      "word forms request to lldb 0.031658172607421875\n"
     ]
    },
    {
     "name": "stderr",
     "output_type": "stream",
     "text": [
      "\n",
      "\n",
      "\n",
      " 18%|█▊        | 18/99 [08:24<34:34, 25.62s/it]\u001b[A\u001b[A\u001b[A"
     ]
    },
    {
     "name": "stdout",
     "output_type": "stream",
     "text": [
      "wordform iteration 1.324152946472168\n",
      "get_def_info 2.1144068241119385\n",
      "lemma_sence_ex_dict 16.89454698562622\n",
      "merge_lemma_context_vs_oxford_examples 0.00020194053649902344\n"
     ]
    },
    {
     "name": "stderr",
     "output_type": "stream",
     "text": [
      "\n",
      "\n",
      "\n",
      " 19%|█▉        | 19/99 [08:44<31:56, 23.95s/it]\u001b[A\u001b[A\u001b[A"
     ]
    },
    {
     "name": "stdout",
     "output_type": "stream",
     "text": [
      "word request to lldb 1.0435030460357666\n",
      "word forms request to lldb 0.011673212051391602\n",
      "get_def_info 5.5625221729278564\n",
      "lemma_sence_ex_dict 17.54373073577881\n",
      "merge_lemma_context_vs_oxford_examples 0.00019931793212890625\n",
      "word request to lldb 1.1033270359039307\n",
      "word forms request to lldb 0.01967477798461914\n",
      "wordform iteration 0.9250400066375732\n"
     ]
    },
    {
     "name": "stderr",
     "output_type": "stream",
     "text": [
      "\n",
      "\n",
      "\n",
      " 20%|██        | 20/99 [09:25<38:12, 29.02s/it]\u001b[A\u001b[A\u001b[A"
     ]
    },
    {
     "name": "stdout",
     "output_type": "stream",
     "text": [
      "wordform iteration 15.658194065093994\n",
      "get_def_info 3.6926708221435547\n",
      "lemma_sence_ex_dict 5.98366117477417\n",
      "merge_lemma_context_vs_oxford_examples 0.0001690387725830078\n",
      "word request to lldb 1.0902738571166992\n",
      "word forms request to lldb 0.02114582061767578\n"
     ]
    },
    {
     "name": "stderr",
     "output_type": "stream",
     "text": [
      "\n",
      "\n",
      "\n",
      " 21%|██        | 21/99 [09:37<30:58, 23.83s/it]\u001b[A\u001b[A\u001b[A"
     ]
    },
    {
     "name": "stdout",
     "output_type": "stream",
     "text": [
      "wordform iteration 0.921698808670044\n",
      "get_def_info 1.8324809074401855\n",
      "lemma_sence_ex_dict 4.742124795913696\n",
      "merge_lemma_context_vs_oxford_examples 0.0005621910095214844\n",
      "word request to lldb 1.033346176147461\n",
      "word forms request to lldb 0.012979745864868164\n",
      "wordform iteration 5.497716903686523\n",
      "wordform iteration 4.210626125335693\n"
     ]
    },
    {
     "name": "stderr",
     "output_type": "stream",
     "text": [
      "\n",
      "\n",
      "\n",
      " 22%|██▏       | 22/99 [09:56<28:35, 22.27s/it]\u001b[A\u001b[A\u001b[A"
     ]
    },
    {
     "name": "stdout",
     "output_type": "stream",
     "text": [
      "wordform iteration 1.2987661361694336\n",
      "get_def_info 1.8500196933746338\n",
      "lemma_sence_ex_dict 2.012455940246582\n",
      "merge_lemma_context_vs_oxford_examples 0.00020122528076171875\n",
      "word request to lldb 1.31174898147583\n",
      "word forms request to lldb 0.03637290000915527\n"
     ]
    },
    {
     "name": "stderr",
     "output_type": "stream",
     "text": [
      "\n",
      "\n",
      "\n",
      " 23%|██▎       | 23/99 [10:03<22:36, 17.85s/it]\u001b[A\u001b[A\u001b[A"
     ]
    },
    {
     "name": "stdout",
     "output_type": "stream",
     "text": [
      "wordform iteration 2.3238511085510254\n",
      "get_def_info 1.846168041229248\n",
      "lemma_sence_ex_dict 1.2142441272735596\n",
      "merge_lemma_context_vs_oxford_examples 0.00025391578674316406\n",
      "word request to lldb 1.021394968032837\n",
      "word forms request to lldb 0.014550924301147461\n"
     ]
    },
    {
     "name": "stderr",
     "output_type": "stream",
     "text": [
      "\n",
      "\n",
      "\n",
      " 24%|██▍       | 24/99 [10:08<17:36, 14.09s/it]\u001b[A\u001b[A\u001b[A"
     ]
    },
    {
     "name": "stdout",
     "output_type": "stream",
     "text": [
      "wordform iteration 1.2028238773345947\n",
      "get_def_info 2.195371150970459\n",
      "lemma_sence_ex_dict 11.456904172897339\n",
      "merge_lemma_context_vs_oxford_examples 0.00019097328186035156\n"
     ]
    },
    {
     "name": "stderr",
     "output_type": "stream",
     "text": [
      "\n",
      "\n",
      "\n",
      " 25%|██▌       | 25/99 [10:23<17:40, 14.33s/it]\u001b[A\u001b[A\u001b[A"
     ]
    },
    {
     "name": "stdout",
     "output_type": "stream",
     "text": [
      "word request to lldb 1.0506188869476318\n",
      "word forms request to lldb 0.18412995338439941\n",
      "get_def_info 1.9001140594482422\n",
      "lemma_sence_ex_dict 7.31315016746521\n",
      "merge_lemma_context_vs_oxford_examples 0.0001659393310546875\n"
     ]
    },
    {
     "name": "stderr",
     "output_type": "stream",
     "text": [
      "\n",
      "\n",
      "\n",
      " 26%|██▋       | 26/99 [10:34<15:57, 13.12s/it]\u001b[A\u001b[A\u001b[A"
     ]
    },
    {
     "name": "stdout",
     "output_type": "stream",
     "text": [
      "word request to lldb 1.0638909339904785\n",
      "word forms request to lldb 0.011960983276367188\n",
      "get_def_info 2.0522711277008057\n",
      "lemma_sence_ex_dict 6.241429090499878\n",
      "merge_lemma_context_vs_oxford_examples 0.0014357566833496094\n",
      "word request to lldb 1.0064871311187744\n",
      "word forms request to lldb 0.015587091445922852\n"
     ]
    },
    {
     "name": "stderr",
     "output_type": "stream",
     "text": [
      "\n",
      "\n",
      "\n",
      " 27%|██▋       | 27/99 [10:59<20:00, 16.68s/it]\u001b[A\u001b[A\u001b[A"
     ]
    },
    {
     "name": "stdout",
     "output_type": "stream",
     "text": [
      "wordform iteration 15.65699577331543\n",
      "get_def_info 1.8553221225738525\n",
      "lemma_sence_ex_dict 18.958401918411255\n",
      "merge_lemma_context_vs_oxford_examples 0.00043702125549316406\n",
      "word request to lldb 1.0572481155395508\n",
      "word forms request to lldb 0.016641616821289062\n",
      "wordform iteration 2.6108529567718506\n",
      "wordform iteration 10.32892107963562\n"
     ]
    },
    {
     "name": "stderr",
     "output_type": "stream",
     "text": [
      "\n",
      "\n",
      "\n",
      " 28%|██▊       | 28/99 [11:35<26:39, 22.53s/it]\u001b[A\u001b[A\u001b[A"
     ]
    },
    {
     "name": "stdout",
     "output_type": "stream",
     "text": [
      "wordform iteration 1.3295931816101074\n",
      "get_def_info 2.060490131378174\n",
      "lemma_sence_ex_dict 18.1898250579834\n",
      "merge_lemma_context_vs_oxford_examples 0.00019669532775878906\n"
     ]
    },
    {
     "name": "stderr",
     "output_type": "stream",
     "text": [
      "\n",
      "\n",
      "\n",
      " 29%|██▉       | 29/99 [11:56<25:51, 22.17s/it]\u001b[A\u001b[A\u001b[A"
     ]
    },
    {
     "name": "stdout",
     "output_type": "stream",
     "text": [
      "word request to lldb 1.034013271331787\n",
      "word forms request to lldb 0.048861026763916016\n",
      "get_def_info 1.9393649101257324\n",
      "lemma_sence_ex_dict 2.180014133453369\n",
      "merge_lemma_context_vs_oxford_examples 0.000431060791015625\n",
      "word request to lldb 1.4382877349853516\n",
      "word forms request to lldb 0.011832237243652344\n"
     ]
    },
    {
     "name": "stderr",
     "output_type": "stream",
     "text": [
      "\n",
      "\n",
      "\n",
      " 30%|███       | 30/99 [12:08<22:03, 19.18s/it]\u001b[A\u001b[A\u001b[A"
     ]
    },
    {
     "name": "stdout",
     "output_type": "stream",
     "text": [
      "wordform iteration 6.637300252914429\n",
      "get_def_info 1.947622299194336\n",
      "lemma_sence_ex_dict 17.53519105911255\n",
      "merge_lemma_context_vs_oxford_examples 0.00021982192993164062\n"
     ]
    },
    {
     "name": "stderr",
     "output_type": "stream",
     "text": [
      "\n",
      "\n",
      "\n",
      " 31%|███▏      | 31/99 [12:29<22:12, 19.60s/it]\u001b[A\u001b[A\u001b[A"
     ]
    },
    {
     "name": "stdout",
     "output_type": "stream",
     "text": [
      "word request to lldb 1.06107497215271\n",
      "word forms request to lldb 0.01671123504638672\n",
      "get_def_info 3.714331865310669\n",
      "lemma_sence_ex_dict 12.502295017242432\n",
      "merge_lemma_context_vs_oxford_examples 0.0001819133758544922\n",
      "word request to lldb 1.0894219875335693\n",
      "word forms request to lldb 0.02732992172241211\n",
      "wordform iteration 2.1590850353240967\n",
      "wordform iteration 2.5007801055908203\n",
      "wordform iteration 12.26457929611206\n"
     ]
    },
    {
     "name": "stderr",
     "output_type": "stream",
     "text": [
      "\n",
      "\n",
      "\n",
      " 32%|███▏      | 32/99 [13:04<27:08, 24.31s/it]\u001b[A\u001b[A\u001b[A"
     ]
    },
    {
     "name": "stdout",
     "output_type": "stream",
     "text": [
      "wordform iteration 1.0139141082763672\n",
      "get_def_info 2.3655009269714355\n",
      "lemma_sence_ex_dict 19.158651113510132\n",
      "merge_lemma_context_vs_oxford_examples 0.00019097328186035156\n",
      "word request to lldb 0.9804251194000244\n",
      "word forms request to lldb 0.022510766983032227\n",
      "wordform iteration 17.88645100593567\n"
     ]
    },
    {
     "name": "stderr",
     "output_type": "stream",
     "text": [
      "\n",
      "\n",
      "\n",
      " 33%|███▎      | 33/99 [14:01<37:17, 33.91s/it]\u001b[A\u001b[A\u001b[A"
     ]
    },
    {
     "name": "stdout",
     "output_type": "stream",
     "text": [
      "wordform iteration 15.874070167541504\n",
      "get_def_info 3.564897060394287\n",
      "lemma_sence_ex_dict 5.789429187774658\n",
      "merge_lemma_context_vs_oxford_examples 0.00016188621520996094\n",
      "word request to lldb 1.035933017730713\n",
      "word forms request to lldb 0.011862039566040039\n",
      "wordform iteration 1.2556428909301758\n"
     ]
    },
    {
     "name": "stderr",
     "output_type": "stream",
     "text": [
      "\n",
      "\n",
      "\n",
      " 34%|███▍      | 34/99 [14:19<31:46, 29.34s/it]\u001b[A\u001b[A\u001b[A"
     ]
    },
    {
     "name": "stdout",
     "output_type": "stream",
     "text": [
      "wordform iteration 6.996275186538696\n",
      "get_def_info 1.4823031425476074\n",
      "lemma_sence_ex_dict 20.418089151382446\n",
      "merge_lemma_context_vs_oxford_examples 0.0002167224884033203\n",
      "word request to lldb 1.152482032775879\n",
      "word forms request to lldb 0.011008024215698242\n"
     ]
    },
    {
     "name": "stderr",
     "output_type": "stream",
     "text": [
      "\n",
      "\n",
      "\n",
      " 35%|███▌      | 35/99 [14:43<29:37, 27.77s/it]\u001b[A\u001b[A\u001b[A"
     ]
    },
    {
     "name": "stdout",
     "output_type": "stream",
     "text": [
      "wordform iteration 1.0376930236816406\n",
      "get_def_info 1.9414527416229248\n",
      "lemma_sence_ex_dict 21.94998025894165\n",
      "merge_lemma_context_vs_oxford_examples 0.00031280517578125\n",
      "word request to lldb 1.0292983055114746\n",
      "word forms request to lldb 0.016096830368041992\n",
      "wordform iteration 15.079012870788574\n"
     ]
    },
    {
     "name": "stderr",
     "output_type": "stream",
     "text": [
      "\n",
      "\n",
      "\n",
      " 36%|███▋      | 36/99 [15:44<39:29, 37.61s/it]\u001b[A\u001b[A\u001b[A"
     ]
    },
    {
     "name": "stdout",
     "output_type": "stream",
     "text": [
      "wordform iteration 20.51703906059265\n",
      "get_def_info 2.0499520301818848\n",
      "lemma_sence_ex_dict 10.8596351146698\n",
      "merge_lemma_context_vs_oxford_examples 0.00021791458129882812\n",
      "word request to lldb 1.2434711456298828\n",
      "word forms request to lldb 0.013070821762084961\n",
      "wordform iteration 1.248061180114746\n",
      "wordform iteration 10.547559261322021\n",
      "wordform iteration 7.346659898757935\n"
     ]
    },
    {
     "name": "stderr",
     "output_type": "stream",
     "text": [
      "\n",
      "\n",
      "\n",
      " 37%|███▋      | 37/99 [16:18<37:53, 36.66s/it]\u001b[A\u001b[A\u001b[A"
     ]
    },
    {
     "name": "stdout",
     "output_type": "stream",
     "text": [
      "wordform iteration 1.1462547779083252\n",
      "get_def_info 1.6402959823608398\n",
      "lemma_sence_ex_dict 22.357640981674194\n",
      "merge_lemma_context_vs_oxford_examples 0.0001800060272216797\n",
      "word request to lldb 1.1531519889831543\n",
      "word forms request to lldb 0.013334989547729492\n",
      "wordform iteration 0.9115948677062988\n"
     ]
    },
    {
     "name": "stderr",
     "output_type": "stream",
     "text": [
      "\n",
      "\n",
      "\n",
      " 38%|███▊      | 38/99 [17:06<40:36, 39.94s/it]\u001b[A\u001b[A\u001b[A"
     ]
    },
    {
     "name": "stdout",
     "output_type": "stream",
     "text": [
      "wordform iteration 21.479045152664185\n",
      "get_def_info 2.00026798248291\n",
      "lemma_sence_ex_dict 2.6057839393615723\n",
      "merge_lemma_context_vs_oxford_examples 0.00020503997802734375\n",
      "word request to lldb 1.2323150634765625\n",
      "word forms request to lldb 0.02502894401550293\n"
     ]
    },
    {
     "name": "stderr",
     "output_type": "stream",
     "text": [
      "\n",
      "\n",
      "\n",
      " 39%|███▉      | 39/99 [17:16<30:49, 30.83s/it]\u001b[A\u001b[A\u001b[A"
     ]
    },
    {
     "name": "stdout",
     "output_type": "stream",
     "text": [
      "wordform iteration 3.6953670978546143\n",
      "get_def_info 2.005122184753418\n",
      "lemma_sence_ex_dict 4.479145050048828\n",
      "merge_lemma_context_vs_oxford_examples 0.00016808509826660156\n",
      "word request to lldb 1.016507863998413\n",
      "word forms request to lldb 0.22213196754455566\n",
      "wordform iteration 4.912294864654541\n"
     ]
    },
    {
     "name": "stderr",
     "output_type": "stream",
     "text": [
      "\n",
      "\n",
      "\n",
      " 40%|████      | 40/99 [17:33<26:14, 26.69s/it]\u001b[A\u001b[A\u001b[A"
     ]
    },
    {
     "name": "stdout",
     "output_type": "stream",
     "text": [
      "wordform iteration 4.392167091369629\n",
      "get_def_info 1.7977721691131592\n",
      "lemma_sence_ex_dict 18.465378761291504\n",
      "merge_lemma_context_vs_oxford_examples 0.0001919269561767578\n"
     ]
    },
    {
     "name": "stderr",
     "output_type": "stream",
     "text": [
      "\n",
      "\n",
      "\n",
      " 41%|████▏     | 41/99 [17:54<24:14, 25.08s/it]\u001b[A\u001b[A\u001b[A"
     ]
    },
    {
     "name": "stdout",
     "output_type": "stream",
     "text": [
      "word request to lldb 1.0286650657653809\n",
      "word forms request to lldb 0.019037961959838867\n",
      "get_def_info 3.634748935699463\n",
      "lemma_sence_ex_dict 7.3121232986450195\n",
      "merge_lemma_context_vs_oxford_examples 0.00017571449279785156\n",
      "word request to lldb 1.1349971294403076\n",
      "word forms request to lldb 0.027637958526611328\n"
     ]
    },
    {
     "name": "stderr",
     "output_type": "stream",
     "text": [
      "\n",
      "\n",
      "\n",
      " 42%|████▏     | 42/99 [18:08<20:41, 21.77s/it]\u001b[A\u001b[A\u001b[A"
     ]
    },
    {
     "name": "stdout",
     "output_type": "stream",
     "text": [
      "wordform iteration 1.9415321350097656\n",
      "get_def_info 3.5083608627319336\n",
      "lemma_sence_ex_dict 15.785922050476074\n",
      "merge_lemma_context_vs_oxford_examples 0.00024509429931640625\n",
      "word request to lldb 1.3824570178985596\n",
      "word forms request to lldb 0.09677290916442871\n",
      "wordform iteration 0.9801199436187744\n"
     ]
    },
    {
     "name": "stderr",
     "output_type": "stream",
     "text": [
      "\n",
      "\n",
      "\n",
      " 43%|████▎     | 43/99 [18:31<20:36, 22.08s/it]\u001b[A\u001b[A\u001b[A"
     ]
    },
    {
     "name": "stdout",
     "output_type": "stream",
     "text": [
      "wordform iteration 1.0343101024627686\n",
      "get_def_info 2.050126791000366\n",
      "lemma_sence_ex_dict 20.401105880737305\n",
      "merge_lemma_context_vs_oxford_examples 0.00019621849060058594\n",
      "word request to lldb 1.089249849319458\n"
     ]
    },
    {
     "name": "stderr",
     "output_type": "stream",
     "text": [
      "\n",
      "\n",
      "\n",
      " 44%|████▍     | 44/99 [18:55<20:42, 22.59s/it]\u001b[A\u001b[A\u001b[A"
     ]
    },
    {
     "name": "stdout",
     "output_type": "stream",
     "text": [
      "word forms request to lldb 0.23322010040283203\n",
      "get_def_info 1.9915289878845215\n",
      "lemma_sence_ex_dict 8.352383136749268\n",
      "merge_lemma_context_vs_oxford_examples 0.0005328655242919922\n",
      "word request to lldb 1.0223021507263184\n",
      "word forms request to lldb 0.012057065963745117\n"
     ]
    },
    {
     "name": "stderr",
     "output_type": "stream",
     "text": [
      "\n",
      "\n",
      "\n",
      " 45%|████▌     | 45/99 [19:14<19:22, 21.52s/it]\u001b[A\u001b[A\u001b[A"
     ]
    },
    {
     "name": "stdout",
     "output_type": "stream",
     "text": [
      "wordform iteration 7.642208099365234\n",
      "get_def_info 1.9307060241699219\n",
      "lemma_sence_ex_dict 18.736997842788696\n",
      "merge_lemma_context_vs_oxford_examples 0.0002491474151611328\n"
     ]
    },
    {
     "name": "stderr",
     "output_type": "stream",
     "text": [
      "\n",
      "\n",
      "\n",
      " 46%|████▋     | 46/99 [19:35<19:05, 21.61s/it]\u001b[A\u001b[A\u001b[A"
     ]
    },
    {
     "name": "stdout",
     "output_type": "stream",
     "text": [
      "word request to lldb 1.1315817832946777\n",
      "word forms request to lldb 0.017333030700683594\n",
      "get_def_info 1.9195079803466797\n",
      "lemma_sence_ex_dict 19.60705804824829\n",
      "merge_lemma_context_vs_oxford_examples 0.00023484230041503906\n"
     ]
    },
    {
     "name": "stderr",
     "output_type": "stream",
     "text": [
      "\n",
      "\n",
      "\n",
      " 47%|████▋     | 47/99 [19:58<18:59, 21.92s/it]\u001b[A\u001b[A\u001b[A"
     ]
    },
    {
     "name": "stdout",
     "output_type": "stream",
     "text": [
      "word request to lldb 1.0905230045318604\n",
      "word forms request to lldb 0.012870073318481445\n",
      "get_def_info 1.7892332077026367\n",
      "lemma_sence_ex_dict 18.994308710098267\n",
      "merge_lemma_context_vs_oxford_examples 0.0001900196075439453\n",
      "word request to lldb 1.048781156539917\n",
      "word forms request to lldb 0.014971017837524414\n"
     ]
    },
    {
     "name": "stderr",
     "output_type": "stream",
     "text": [
      "\n",
      "\n",
      "\n",
      " 48%|████▊     | 48/99 [20:39<23:34, 27.74s/it]\u001b[A\u001b[A\u001b[A"
     ]
    },
    {
     "name": "stdout",
     "output_type": "stream",
     "text": [
      "wordform iteration 19.470165967941284\n",
      "get_def_info 1.6625192165374756\n",
      "lemma_sence_ex_dict 18.997623682022095\n",
      "merge_lemma_context_vs_oxford_examples 0.000179290771484375\n",
      "word request to lldb 1.1543188095092773\n",
      "word forms request to lldb 0.3586301803588867\n"
     ]
    },
    {
     "name": "stderr",
     "output_type": "stream",
     "text": [
      "\n",
      "\n",
      "\n",
      " 49%|████▉     | 49/99 [21:21<26:28, 31.78s/it]\u001b[A\u001b[A\u001b[A"
     ]
    },
    {
     "name": "stdout",
     "output_type": "stream",
     "text": [
      "wordform iteration 19.01261806488037\n",
      "get_def_info 3.5578598976135254\n",
      "lemma_sence_ex_dict 17.984119176864624\n",
      "merge_lemma_context_vs_oxford_examples 0.00020694732666015625\n"
     ]
    },
    {
     "name": "stderr",
     "output_type": "stream",
     "text": [
      "\n",
      "\n",
      "\n",
      " 51%|█████     | 50/99 [21:43<23:41, 29.02s/it]\u001b[A\u001b[A\u001b[A"
     ]
    },
    {
     "name": "stdout",
     "output_type": "stream",
     "text": [
      "word request to lldb 1.017392873764038\n",
      "word forms request to lldb 0.015043020248413086\n",
      "get_def_info 1.8320109844207764\n",
      "lemma_sence_ex_dict 12.721933126449585\n",
      "merge_lemma_context_vs_oxford_examples 0.0002758502960205078\n",
      "word request to lldb 1.031311273574829\n",
      "word forms request to lldb 0.017390727996826172\n"
     ]
    },
    {
     "name": "stderr",
     "output_type": "stream",
     "text": [
      "\n",
      "\n",
      "\n",
      " 52%|█████▏    | 51/99 [22:10<22:44, 28.43s/it]\u001b[A\u001b[A\u001b[A"
     ]
    },
    {
     "name": "stdout",
     "output_type": "stream",
     "text": [
      "wordform iteration 11.458394050598145\n",
      "get_def_info 2.02148699760437\n",
      "lemma_sence_ex_dict 18.80511784553528\n",
      "merge_lemma_context_vs_oxford_examples 0.00037407875061035156\n"
     ]
    },
    {
     "name": "stderr",
     "output_type": "stream",
     "text": [
      "\n",
      "\n",
      "\n",
      " 53%|█████▎    | 52/99 [22:32<20:45, 26.51s/it]\u001b[A\u001b[A\u001b[A"
     ]
    },
    {
     "name": "stdout",
     "output_type": "stream",
     "text": [
      "word request to lldb 1.0947768688201904\n",
      "word forms request to lldb 0.09322905540466309\n",
      "get_def_info 1.7396738529205322\n",
      "lemma_sence_ex_dict 5.700688123703003\n",
      "merge_lemma_context_vs_oxford_examples 0.00021505355834960938\n",
      "word request to lldb 1.0582430362701416\n",
      "word forms request to lldb 0.016481637954711914\n"
     ]
    },
    {
     "name": "stderr",
     "output_type": "stream",
     "text": [
      "\n",
      "\n",
      "\n",
      " 54%|█████▎    | 53/99 [22:49<18:02, 23.54s/it]\u001b[A\u001b[A\u001b[A"
     ]
    },
    {
     "name": "stdout",
     "output_type": "stream",
     "text": [
      "wordform iteration 8.08786392211914\n",
      "get_def_info 1.6449270248413086\n",
      "lemma_sence_ex_dict 19.043535947799683\n",
      "merge_lemma_context_vs_oxford_examples 0.000225067138671875\n"
     ]
    },
    {
     "name": "stderr",
     "output_type": "stream",
     "text": [
      "\n",
      "\n",
      "\n",
      " 55%|█████▍    | 54/99 [23:11<17:14, 22.99s/it]\u001b[A\u001b[A\u001b[A"
     ]
    },
    {
     "name": "stdout",
     "output_type": "stream",
     "text": [
      "word request to lldb 1.0056040287017822\n",
      "word forms request to lldb 0.01433706283569336\n",
      "get_def_info 1.768286943435669\n",
      "lemma_sence_ex_dict 13.096692085266113\n",
      "merge_lemma_context_vs_oxford_examples 0.0014448165893554688\n"
     ]
    },
    {
     "name": "stderr",
     "output_type": "stream",
     "text": [
      "\n",
      "\n",
      "\n",
      " 56%|█████▌    | 55/99 [23:27<15:19, 20.89s/it]\u001b[A\u001b[A\u001b[A"
     ]
    },
    {
     "name": "stdout",
     "output_type": "stream",
     "text": [
      "word request to lldb 1.0859341621398926\n",
      "word forms request to lldb 0.031044960021972656\n",
      "get_def_info 1.8620610237121582\n",
      "lemma_sence_ex_dict 19.56017303466797\n",
      "merge_lemma_context_vs_oxford_examples 0.0002110004425048828\n",
      "word request to lldb 1.044191837310791\n",
      "word forms request to lldb 0.013077974319458008\n",
      "wordform iteration 2.6037209033966064\n"
     ]
    },
    {
     "name": "stderr",
     "output_type": "stream",
     "text": [
      "\n",
      "\n",
      "\n",
      " 57%|█████▋    | 56/99 [23:54<16:23, 22.87s/it]\u001b[A\u001b[A\u001b[A"
     ]
    },
    {
     "name": "stdout",
     "output_type": "stream",
     "text": [
      "wordform iteration 2.3832569122314453\n",
      "get_def_info 4.154853820800781\n",
      "lemma_sence_ex_dict 25.205811023712158\n",
      "merge_lemma_context_vs_oxford_examples 0.00030803680419921875\n",
      "word request to lldb 1.0318500995635986\n",
      "word forms request to lldb 0.051316022872924805\n",
      "wordform iteration 18.16414785385132\n",
      "wordform iteration 19.953393697738647\n"
     ]
    },
    {
     "name": "stderr",
     "output_type": "stream",
     "text": [
      "\n",
      "\n",
      "\n",
      " 58%|█████▊    | 57/99 [25:21<29:30, 42.14s/it]\u001b[A\u001b[A\u001b[A"
     ]
    },
    {
     "name": "stdout",
     "output_type": "stream",
     "text": [
      "wordform iteration 18.537396907806396\n",
      "get_def_info 3.8409619331359863\n",
      "lemma_sence_ex_dict 17.325143098831177\n",
      "merge_lemma_context_vs_oxford_examples 0.00024390220642089844\n",
      "word request to lldb 0.9906251430511475\n",
      "word forms request to lldb 0.3405470848083496\n",
      "wordform iteration 1.2054240703582764\n",
      "wordform iteration 1.229491949081421\n"
     ]
    },
    {
     "name": "stderr",
     "output_type": "stream",
     "text": [
      "\n",
      "\n",
      "\n",
      " 59%|█████▊    | 58/99 [25:55<27:03, 39.61s/it]\u001b[A\u001b[A\u001b[A"
     ]
    },
    {
     "name": "stdout",
     "output_type": "stream",
     "text": [
      "wordform iteration 8.734316110610962\n",
      "get_def_info 2.017090082168579\n",
      "lemma_sence_ex_dict 19.84702777862549\n",
      "merge_lemma_context_vs_oxford_examples 0.0006301403045654297\n",
      "word request to lldb 1.0313220024108887\n",
      "word forms request to lldb 0.35021185874938965\n",
      "wordform iteration 20.231001138687134\n"
     ]
    },
    {
     "name": "stderr",
     "output_type": "stream",
     "text": [
      "\n",
      "\n",
      "\n",
      " 60%|█████▉    | 59/99 [26:59<31:23, 47.08s/it]\u001b[A\u001b[A\u001b[A"
     ]
    },
    {
     "name": "stdout",
     "output_type": "stream",
     "text": [
      "wordform iteration 21.012401342391968\n",
      "get_def_info 3.415459632873535\n",
      "lemma_sence_ex_dict 16.06097412109375\n",
      "merge_lemma_context_vs_oxford_examples 0.0005161762237548828\n",
      "word request to lldb 1.0249338150024414\n",
      "word forms request to lldb 0.01875901222229004\n"
     ]
    },
    {
     "name": "stderr",
     "output_type": "stream",
     "text": [
      "\n",
      "\n",
      "\n",
      " 61%|██████    | 60/99 [27:21<25:39, 39.46s/it]\u001b[A\u001b[A\u001b[A"
     ]
    },
    {
     "name": "stdout",
     "output_type": "stream",
     "text": [
      "wordform iteration 1.14544677734375\n",
      "get_def_info 1.9915881156921387\n",
      "lemma_sence_ex_dict 18.855506896972656\n",
      "merge_lemma_context_vs_oxford_examples 0.00021600723266601562\n",
      "word request to lldb 1.0084638595581055\n",
      "word forms request to lldb 0.025564193725585938\n"
     ]
    },
    {
     "name": "stderr",
     "output_type": "stream",
     "text": [
      "\n",
      "\n",
      "\n",
      " 62%|██████▏   | 61/99 [28:01<25:09, 39.73s/it]\u001b[A\u001b[A\u001b[A"
     ]
    },
    {
     "name": "stdout",
     "output_type": "stream",
     "text": [
      "wordform iteration 18.46591305732727\n",
      "get_def_info 3.5587692260742188\n",
      "lemma_sence_ex_dict 13.088568925857544\n",
      "merge_lemma_context_vs_oxford_examples 0.0007178783416748047\n",
      "word request to lldb 1.0993940830230713\n",
      "word forms request to lldb 0.012017965316772461\n",
      "wordform iteration 10.684900999069214\n"
     ]
    },
    {
     "name": "stderr",
     "output_type": "stream",
     "text": [
      "\n",
      "\n",
      "\n",
      " 63%|██████▎   | 62/99 [28:50<26:08, 42.40s/it]\u001b[A\u001b[A\u001b[A"
     ]
    },
    {
     "name": "stdout",
     "output_type": "stream",
     "text": [
      "wordform iteration 20.164257049560547\n",
      "get_def_info 4.2914979457855225\n",
      "lemma_sence_ex_dict 19.1801700592041\n",
      "merge_lemma_context_vs_oxford_examples 0.0004048347473144531\n",
      "word request to lldb 1.0057170391082764\n",
      "word forms request to lldb 0.278961181640625\n",
      "wordform iteration 17.90279507637024\n",
      "wordform iteration 1.2585160732269287\n",
      "wordform iteration 0.8596088886260986\n"
     ]
    },
    {
     "name": "stderr",
     "output_type": "stream",
     "text": [
      "\n",
      "\n",
      "\n",
      " 64%|██████▎   | 63/99 [29:44<27:29, 45.82s/it]\u001b[A\u001b[A\u001b[A"
     ]
    },
    {
     "name": "stdout",
     "output_type": "stream",
     "text": [
      "wordform iteration 8.979038953781128\n",
      "get_def_info 3.3365848064422607\n",
      "lemma_sence_ex_dict 20.687369108200073\n",
      "merge_lemma_context_vs_oxford_examples 0.0004830360412597656\n",
      "word request to lldb 1.0179059505462646\n",
      "word forms request to lldb 0.01158595085144043\n",
      "wordform iteration 19.779440879821777\n",
      "wordform iteration 18.72890877723694\n"
     ]
    },
    {
     "name": "stderr",
     "output_type": "stream",
     "text": [
      "\n",
      "\n",
      "\n",
      " 65%|██████▍   | 64/99 [31:06<33:05, 56.73s/it]\u001b[A\u001b[A\u001b[A"
     ]
    },
    {
     "name": "stdout",
     "output_type": "stream",
     "text": [
      "wordform iteration 18.586055040359497\n",
      "get_def_info 1.9975030422210693\n",
      "lemma_sence_ex_dict 20.19313907623291\n",
      "merge_lemma_context_vs_oxford_examples 0.00020003318786621094\n",
      "word request to lldb 1.0280189514160156\n",
      "word forms request to lldb 0.050421953201293945\n",
      "wordform iteration 15.620871782302856\n"
     ]
    },
    {
     "name": "stderr",
     "output_type": "stream",
     "text": [
      "\n",
      "\n",
      "\n",
      " 66%|██████▌   | 65/99 [32:05<32:34, 57.50s/it]\u001b[A\u001b[A\u001b[A"
     ]
    },
    {
     "name": "stdout",
     "output_type": "stream",
     "text": [
      "wordform iteration 20.391112327575684\n",
      "get_def_info 3.510175943374634\n",
      "lemma_sence_ex_dict 19.65396785736084\n",
      "merge_lemma_context_vs_oxford_examples 0.00043511390686035156\n",
      "word request to lldb 1.3782939910888672\n",
      "word forms request to lldb 0.013545989990234375\n",
      "wordform iteration 3.7484469413757324\n",
      "wordform iteration 0.9076189994812012\n"
     ]
    },
    {
     "name": "stderr",
     "output_type": "stream",
     "text": [
      "\n",
      "\n",
      "\n",
      " 67%|██████▋   | 66/99 [32:35<27:07, 49.32s/it]\u001b[A\u001b[A\u001b[A"
     ]
    },
    {
     "name": "stdout",
     "output_type": "stream",
     "text": [
      "wordform iteration 0.9910731315612793\n",
      "get_def_info 1.6248068809509277\n",
      "lemma_sence_ex_dict 6.367230176925659\n",
      "merge_lemma_context_vs_oxford_examples 0.00015974044799804688\n",
      "word request to lldb 1.0844674110412598\n",
      "word forms request to lldb 0.01595592498779297\n"
     ]
    },
    {
     "name": "stderr",
     "output_type": "stream",
     "text": [
      "\n",
      "\n",
      "\n",
      " 68%|██████▊   | 67/99 [32:55<21:32, 40.40s/it]\u001b[A\u001b[A\u001b[A"
     ]
    },
    {
     "name": "stdout",
     "output_type": "stream",
     "text": [
      "wordform iteration 10.478804111480713\n",
      "get_def_info 3.594627857208252\n",
      "lemma_sence_ex_dict 17.31530213356018\n",
      "merge_lemma_context_vs_oxford_examples 0.0001938343048095703\n",
      "word request to lldb 0.9973008632659912\n",
      "word forms request to lldb 0.011595964431762695\n",
      "wordform iteration 0.944861888885498\n",
      "wordform iteration 20.054989099502563\n",
      "wordform iteration 19.825856924057007\n"
     ]
    },
    {
     "name": "stderr",
     "output_type": "stream",
     "text": [
      "\n",
      "\n",
      "\n",
      " 69%|██████▊   | 68/99 [33:59<24:30, 47.42s/it]\u001b[A\u001b[A\u001b[A"
     ]
    },
    {
     "name": "stdout",
     "output_type": "stream",
     "text": [
      "wordform iteration 1.0520257949829102\n",
      "get_def_info 1.778200626373291\n",
      "lemma_sence_ex_dict 12.064753293991089\n",
      "merge_lemma_context_vs_oxford_examples 0.00020575523376464844\n",
      "word request to lldb 1.3735532760620117\n"
     ]
    },
    {
     "name": "stderr",
     "output_type": "stream",
     "text": [
      "\n",
      "\n",
      "\n",
      " 70%|██████▉   | 69/99 [34:14<18:56, 37.87s/it]\u001b[A\u001b[A\u001b[A"
     ]
    },
    {
     "name": "stdout",
     "output_type": "stream",
     "text": [
      "word forms request to lldb 0.3575606346130371\n",
      "get_def_info 3.6824638843536377\n",
      "lemma_sence_ex_dict 18.231674194335938\n",
      "merge_lemma_context_vs_oxford_examples 0.00030493736267089844\n",
      "word request to lldb 0.9862971305847168\n",
      "word forms request to lldb 0.01314091682434082\n",
      "wordform iteration 18.837939977645874\n"
     ]
    },
    {
     "name": "stderr",
     "output_type": "stream",
     "text": [
      "\n",
      "\n",
      "\n",
      " 71%|███████   | 70/99 [34:57<19:00, 39.33s/it]\u001b[A\u001b[A\u001b[A"
     ]
    },
    {
     "name": "stdout",
     "output_type": "stream",
     "text": [
      "wordform iteration 0.9709780216217041\n",
      "get_def_info 1.9234709739685059\n",
      "lemma_sence_ex_dict 7.578627824783325\n",
      "merge_lemma_context_vs_oxford_examples 0.00021195411682128906\n",
      "word request to lldb 1.062244176864624\n",
      "word forms request to lldb 0.01129007339477539\n"
     ]
    },
    {
     "name": "stderr",
     "output_type": "stream",
     "text": [
      "\n",
      "\n",
      "\n",
      " 72%|███████▏  | 71/99 [35:27<17:00, 36.45s/it]\u001b[A\u001b[A\u001b[A"
     ]
    },
    {
     "name": "stdout",
     "output_type": "stream",
     "text": [
      "wordform iteration 19.12668490409851\n",
      "get_def_info 3.957289934158325\n",
      "lemma_sence_ex_dict 13.667776107788086\n",
      "merge_lemma_context_vs_oxford_examples 0.00023698806762695312\n",
      "word request to lldb 1.0271480083465576\n",
      "word forms request to lldb 0.024512052536010742\n",
      "wordform iteration 1.0704009532928467\n",
      "wordform iteration 1.2426121234893799\n"
     ]
    },
    {
     "name": "stderr",
     "output_type": "stream",
     "text": [
      "\n",
      "\n",
      "\n",
      " 73%|███████▎  | 72/99 [35:49<14:29, 32.21s/it]\u001b[A\u001b[A\u001b[A"
     ]
    },
    {
     "name": "stdout",
     "output_type": "stream",
     "text": [
      "wordform iteration 1.3300652503967285\n",
      "get_def_info 1.8803901672363281\n",
      "lemma_sence_ex_dict 19.009140968322754\n",
      "merge_lemma_context_vs_oxford_examples 0.0008368492126464844\n"
     ]
    },
    {
     "name": "stderr",
     "output_type": "stream",
     "text": [
      "\n",
      "\n",
      "\n",
      " 74%|███████▎  | 73/99 [36:11<12:38, 29.17s/it]\u001b[A\u001b[A\u001b[A"
     ]
    },
    {
     "name": "stdout",
     "output_type": "stream",
     "text": [
      "word request to lldb 1.0130820274353027\n",
      "word forms request to lldb 0.15462803840637207\n",
      "get_def_info 3.7125320434570312\n",
      "lemma_sence_ex_dict 14.69910192489624\n",
      "merge_lemma_context_vs_oxford_examples 0.0002040863037109375\n",
      "word request to lldb 1.017275094985962\n",
      "word forms request to lldb 0.15105676651000977\n",
      "wordform iteration 11.398806095123291\n"
     ]
    },
    {
     "name": "stderr",
     "output_type": "stream",
     "text": [
      "\n",
      "\n",
      "\n",
      " 75%|███████▍  | 74/99 [36:49<13:10, 31.62s/it]\u001b[A\u001b[A\u001b[A"
     ]
    },
    {
     "name": "stdout",
     "output_type": "stream",
     "text": [
      "wordform iteration 6.348155975341797\n",
      "get_def_info 1.8126399517059326\n",
      "lemma_sence_ex_dict 3.6946160793304443\n",
      "merge_lemma_context_vs_oxford_examples 0.00015425682067871094\n",
      "word request to lldb 1.0497889518737793\n",
      "word forms request to lldb 0.014172792434692383\n"
     ]
    },
    {
     "name": "stderr",
     "output_type": "stream",
     "text": [
      "\n",
      "\n",
      "\n",
      " 76%|███████▌  | 75/99 [37:01<10:19, 25.83s/it]\u001b[A\u001b[A\u001b[A"
     ]
    },
    {
     "name": "stdout",
     "output_type": "stream",
     "text": [
      "wordform iteration 5.744375228881836\n",
      "get_def_info 1.7630341053009033\n",
      "lemma_sence_ex_dict 18.421435832977295\n",
      "merge_lemma_context_vs_oxford_examples 0.00016999244689941406\n",
      "word request to lldb 1.117927074432373\n",
      "word forms request to lldb 0.37819695472717285\n"
     ]
    },
    {
     "name": "stderr",
     "output_type": "stream",
     "text": [
      "\n",
      "\n",
      "\n",
      " 77%|███████▋  | 76/99 [37:25<09:42, 25.31s/it]\u001b[A\u001b[A\u001b[A"
     ]
    },
    {
     "name": "stdout",
     "output_type": "stream",
     "text": [
      "wordform iteration 2.397037982940674\n",
      "get_def_info 2.028959035873413\n",
      "lemma_sence_ex_dict 16.639189958572388\n",
      "merge_lemma_context_vs_oxford_examples 0.00018215179443359375\n"
     ]
    },
    {
     "name": "stderr",
     "output_type": "stream",
     "text": [
      "\n",
      "\n",
      "\n",
      " 78%|███████▊  | 77/99 [37:45<08:39, 23.62s/it]\u001b[A\u001b[A\u001b[A"
     ]
    },
    {
     "name": "stdout",
     "output_type": "stream",
     "text": [
      "word request to lldb 1.0066239833831787\n",
      "word forms request to lldb 0.014214754104614258\n",
      "get_def_info 1.9072821140289307\n",
      "lemma_sence_ex_dict 21.388797760009766\n",
      "merge_lemma_context_vs_oxford_examples 0.00041604042053222656\n"
     ]
    },
    {
     "name": "stderr",
     "output_type": "stream",
     "text": [
      "\n",
      "\n",
      "\n",
      " 79%|███████▉  | 78/99 [38:09<08:20, 23.84s/it]\u001b[A\u001b[A\u001b[A"
     ]
    },
    {
     "name": "stdout",
     "output_type": "stream",
     "text": [
      "word request to lldb 1.045133113861084\n",
      "word forms request to lldb 0.012094974517822266\n",
      "get_def_info 3.3638651371002197\n",
      "lemma_sence_ex_dict 19.72057795524597\n",
      "merge_lemma_context_vs_oxford_examples 0.0005657672882080078\n",
      "word request to lldb 1.1082911491394043\n",
      "word forms request to lldb 0.012814998626708984\n",
      "wordform iteration 19.717305898666382\n",
      "wordform iteration 2.6313281059265137\n"
     ]
    },
    {
     "name": "stderr",
     "output_type": "stream",
     "text": [
      "\n",
      "\n",
      "\n",
      " 80%|███████▉  | 79/99 [39:15<12:08, 36.43s/it]\u001b[A\u001b[A\u001b[A"
     ]
    },
    {
     "name": "stdout",
     "output_type": "stream",
     "text": [
      "wordform iteration 19.222882986068726\n",
      "get_def_info 3.7796759605407715\n",
      "lemma_sence_ex_dict 9.844758033752441\n",
      "merge_lemma_context_vs_oxford_examples 0.000247955322265625\n",
      "word request to lldb 1.2957661151885986\n",
      "word forms request to lldb 0.01529383659362793\n"
     ]
    },
    {
     "name": "stderr",
     "output_type": "stream",
     "text": [
      "\n",
      "\n",
      "\n",
      " 81%|████████  | 80/99 [39:32<09:41, 30.62s/it]\u001b[A\u001b[A\u001b[A"
     ]
    },
    {
     "name": "stdout",
     "output_type": "stream",
     "text": [
      "wordform iteration 2.118889093399048\n",
      "get_def_info 1.6799230575561523\n",
      "lemma_sence_ex_dict 2.375770092010498\n",
      "merge_lemma_context_vs_oxford_examples 0.00017786026000976562\n",
      "word request to lldb 1.0088860988616943\n",
      "word forms request to lldb 0.12911200523376465\n"
     ]
    },
    {
     "name": "stderr",
     "output_type": "stream",
     "text": [
      "\n",
      "\n",
      "\n",
      " 82%|████████▏ | 81/99 [39:40<07:07, 23.76s/it]\u001b[A\u001b[A\u001b[A"
     ]
    },
    {
     "name": "stdout",
     "output_type": "stream",
     "text": [
      "wordform iteration 2.570401906967163\n",
      "get_def_info 3.8880462646484375\n",
      "lemma_sence_ex_dict 19.65222978591919\n",
      "merge_lemma_context_vs_oxford_examples 0.00034618377685546875\n",
      "word request to lldb 1.1104018688201904\n",
      "word forms request to lldb 0.015516042709350586\n",
      "wordform iteration 19.679846048355103\n",
      "wordform iteration 18.888998985290527\n"
     ]
    },
    {
     "name": "stderr",
     "output_type": "stream",
     "text": [
      "\n",
      "\n",
      "\n",
      " 83%|████████▎ | 82/99 [41:03<11:45, 41.47s/it]\u001b[A\u001b[A\u001b[A"
     ]
    },
    {
     "name": "stdout",
     "output_type": "stream",
     "text": [
      "wordform iteration 19.535964965820312\n",
      "get_def_info 3.5854380130767822\n",
      "lemma_sence_ex_dict 17.01224398612976\n",
      "merge_lemma_context_vs_oxford_examples 0.0002810955047607422\n",
      "word request to lldb 1.0145118236541748\n",
      "word forms request to lldb 0.013792991638183594\n",
      "wordform iteration 18.385385990142822\n",
      "wordform iteration 17.607486963272095\n"
     ]
    },
    {
     "name": "stderr",
     "output_type": "stream",
     "text": [
      "\n",
      "\n",
      "\n",
      " 84%|████████▍ | 83/99 [42:04<12:38, 47.42s/it]\u001b[A\u001b[A\u001b[A"
     ]
    },
    {
     "name": "stdout",
     "output_type": "stream",
     "text": [
      "wordform iteration 3.6583330631256104\n",
      "get_def_info 3.5385890007019043\n",
      "lemma_sence_ex_dict 18.372504949569702\n",
      "merge_lemma_context_vs_oxford_examples 0.0006489753723144531\n",
      "word request to lldb 1.1398899555206299\n",
      "word forms request to lldb 0.014551162719726562\n"
     ]
    },
    {
     "name": "stderr",
     "output_type": "stream",
     "text": [
      "\n",
      "\n",
      "\n",
      " 85%|████████▍ | 84/99 [42:33<10:27, 41.84s/it]\u001b[A\u001b[A\u001b[A"
     ]
    },
    {
     "name": "stdout",
     "output_type": "stream",
     "text": [
      "wordform iteration 5.7416441440582275\n",
      "get_def_info 1.6375670433044434\n",
      "lemma_sence_ex_dict 21.359972715377808\n",
      "merge_lemma_context_vs_oxford_examples 0.00019812583923339844\n"
     ]
    },
    {
     "name": "stderr",
     "output_type": "stream",
     "text": [
      "\n",
      "\n",
      "\n",
      " 86%|████████▌ | 85/99 [42:57<08:30, 36.49s/it]\u001b[A\u001b[A\u001b[A"
     ]
    },
    {
     "name": "stdout",
     "output_type": "stream",
     "text": [
      "word request to lldb 1.0082499980926514\n",
      "word forms request to lldb 0.015352010726928711\n",
      "get_def_info 4.222840070724487\n",
      "lemma_sence_ex_dict 8.43359375\n",
      "merge_lemma_context_vs_oxford_examples 0.00021219253540039062\n",
      "word request to lldb 1.0057199001312256\n",
      "word forms request to lldb 0.012542963027954102\n",
      "wordform iteration 19.768774032592773\n",
      "wordform iteration 1.1811728477478027\n"
     ]
    },
    {
     "name": "stderr",
     "output_type": "stream",
     "text": [
      "\n",
      "\n",
      "\n",
      " 87%|████████▋ | 86/99 [43:33<07:51, 36.30s/it]\u001b[A\u001b[A\u001b[A"
     ]
    },
    {
     "name": "stdout",
     "output_type": "stream",
     "text": [
      "wordform iteration 1.2012951374053955\n",
      "get_def_info 4.077814817428589\n",
      "lemma_sence_ex_dict 20.228748083114624\n",
      "merge_lemma_context_vs_oxford_examples 0.0004439353942871094\n",
      "word request to lldb 1.0087409019470215\n",
      "word forms request to lldb 0.01330113410949707\n",
      "wordform iteration 1.0309269428253174\n",
      "wordform iteration 19.324967861175537\n",
      "wordform iteration 20.33792519569397\n"
     ]
    },
    {
     "name": "stderr",
     "output_type": "stream",
     "text": [
      "\n",
      "\n",
      "\n",
      " 88%|████████▊ | 87/99 [44:58<10:13, 51.13s/it]\u001b[A\u001b[A\u001b[A"
     ]
    },
    {
     "name": "stdout",
     "output_type": "stream",
     "text": [
      "wordform iteration 19.701629877090454\n",
      "get_def_info 1.864974021911621\n",
      "lemma_sence_ex_dict 20.429710865020752\n",
      "merge_lemma_context_vs_oxford_examples 0.00021195411682128906\n",
      "word request to lldb 1.4272339344024658\n",
      "word forms request to lldb 0.2976241111755371\n"
     ]
    },
    {
     "name": "stderr",
     "output_type": "stream",
     "text": [
      "\n",
      "\n",
      "\n",
      " 89%|████████▉ | 88/99 [45:24<07:57, 43.37s/it]\u001b[A\u001b[A\u001b[A"
     ]
    },
    {
     "name": "stdout",
     "output_type": "stream",
     "text": [
      "wordform iteration 1.2192559242248535\n",
      "get_def_info 3.366541862487793\n",
      "lemma_sence_ex_dict 18.93053102493286\n",
      "merge_lemma_context_vs_oxford_examples 0.0002880096435546875\n",
      "word request to lldb 1.0033447742462158\n",
      "word forms request to lldb 0.21624422073364258\n",
      "wordform iteration 1.642995834350586\n",
      "wordform iteration 20.450781106948853\n",
      "wordform iteration 11.695878267288208\n",
      "wordform iteration 12.180354118347168\n"
     ]
    },
    {
     "name": "stderr",
     "output_type": "stream",
     "text": [
      "\n",
      "\n",
      "\n",
      " 90%|████████▉ | 89/99 [46:35<08:38, 51.88s/it]\u001b[A\u001b[A\u001b[A"
     ]
    },
    {
     "name": "stdout",
     "output_type": "stream",
     "text": [
      "wordform iteration 2.2238879203796387\n",
      "get_def_info 1.955960988998413\n",
      "lemma_sence_ex_dict 19.886036157608032\n",
      "merge_lemma_context_vs_oxford_examples 0.00021696090698242188\n",
      "word request to lldb 1.4615890979766846\n",
      "word forms request to lldb 0.011363744735717773\n",
      "wordform iteration 18.823503971099854\n",
      "wordform iteration 21.481096029281616\n"
     ]
    },
    {
     "name": "stderr",
     "output_type": "stream",
     "text": [
      "\n",
      "\n",
      "\n",
      " 91%|█████████ | 90/99 [47:41<08:23, 55.97s/it]\u001b[A\u001b[A\u001b[A"
     ]
    },
    {
     "name": "stdout",
     "output_type": "stream",
     "text": [
      "wordform iteration 1.8668889999389648\n",
      "get_def_info 3.7734830379486084\n",
      "lemma_sence_ex_dict 20.126583099365234\n",
      "merge_lemma_context_vs_oxford_examples 0.000209808349609375\n",
      "word request to lldb 1.3137240409851074\n"
     ]
    },
    {
     "name": "stderr",
     "output_type": "stream",
     "text": [
      "\n",
      "\n",
      "\n",
      " 92%|█████████▏| 91/99 [48:06<06:14, 46.83s/it]\u001b[A\u001b[A\u001b[A"
     ]
    },
    {
     "name": "stdout",
     "output_type": "stream",
     "text": [
      "word forms request to lldb 0.29235005378723145\n",
      "get_def_info 1.7627089023590088\n",
      "lemma_sence_ex_dict 7.46479606628418\n",
      "merge_lemma_context_vs_oxford_examples 0.0002658367156982422\n",
      "word request to lldb 1.4142401218414307\n",
      "word forms request to lldb 0.013267278671264648\n"
     ]
    },
    {
     "name": "stderr",
     "output_type": "stream",
     "text": [
      "\n",
      "\n",
      "\n",
      " 93%|█████████▎| 92/99 [48:23<04:24, 37.82s/it]\u001b[A\u001b[A\u001b[A"
     ]
    },
    {
     "name": "stdout",
     "output_type": "stream",
     "text": [
      "wordform iteration 6.11399507522583\n",
      "get_def_info 2.1283111572265625\n",
      "lemma_sence_ex_dict 5.861292600631714\n",
      "merge_lemma_context_vs_oxford_examples 0.00021719932556152344\n",
      "word request to lldb 1.0071940422058105\n",
      "word forms request to lldb 0.01262807846069336\n"
     ]
    },
    {
     "name": "stderr",
     "output_type": "stream",
     "text": [
      "\n",
      "\n",
      "\n",
      " 94%|█████████▍| 93/99 [48:38<03:05, 30.97s/it]\u001b[A\u001b[A\u001b[A"
     ]
    },
    {
     "name": "stdout",
     "output_type": "stream",
     "text": [
      "wordform iteration 5.978210210800171\n",
      "get_def_info 3.6412761211395264\n",
      "lemma_sence_ex_dict 25.030625820159912\n",
      "merge_lemma_context_vs_oxford_examples 0.0004892349243164062\n"
     ]
    },
    {
     "name": "stderr",
     "output_type": "stream",
     "text": [
      "\n",
      "\n",
      "\n",
      " 95%|█████████▍| 94/99 [49:08<02:32, 30.60s/it]\u001b[A\u001b[A\u001b[A"
     ]
    },
    {
     "name": "stdout",
     "output_type": "stream",
     "text": [
      "word request to lldb 1.0402429103851318\n",
      "word forms request to lldb 0.011157035827636719\n",
      "get_def_info 1.9481379985809326\n",
      "lemma_sence_ex_dict 15.151579141616821\n",
      "merge_lemma_context_vs_oxford_examples 0.0003037452697753906\n",
      "word request to lldb 1.0394690036773682\n",
      "word forms request to lldb 0.013065099716186523\n",
      "wordform iteration 17.555891036987305\n",
      "wordform iteration 19.920122146606445\n",
      "wordform iteration 18.60799789428711\n",
      "wordform iteration 18.868309020996094\n"
     ]
    },
    {
     "name": "stderr",
     "output_type": "stream",
     "text": [
      "\n",
      "\n",
      "\n",
      " 96%|█████████▌| 95/99 [50:57<03:36, 54.17s/it]\u001b[A\u001b[A\u001b[A"
     ]
    },
    {
     "name": "stdout",
     "output_type": "stream",
     "text": [
      "wordform iteration 16.042036771774292\n",
      "get_def_info 1.5647730827331543\n",
      "lemma_sence_ex_dict 18.754573822021484\n",
      "merge_lemma_context_vs_oxford_examples 0.00024008750915527344\n",
      "word request to lldb 1.0675032138824463\n",
      "word forms request to lldb 0.14288067817687988\n"
     ]
    },
    {
     "name": "stderr",
     "output_type": "stream",
     "text": [
      "\n",
      "\n",
      "\n",
      " 97%|█████████▋| 96/99 [51:20<02:14, 44.74s/it]\u001b[A\u001b[A\u001b[A"
     ]
    },
    {
     "name": "stdout",
     "output_type": "stream",
     "text": [
      "wordform iteration 1.1835007667541504\n",
      "get_def_info 1.775688886642456\n",
      "lemma_sence_ex_dict 19.66780424118042\n",
      "merge_lemma_context_vs_oxford_examples 0.00018477439880371094\n",
      "word request to lldb 1.0682222843170166\n",
      "word forms request to lldb 0.013170957565307617\n"
     ]
    },
    {
     "name": "stderr",
     "output_type": "stream",
     "text": [
      "\n",
      "\n",
      "\n",
      " 98%|█████████▊| 97/99 [52:01<01:27, 43.85s/it]\u001b[A\u001b[A\u001b[A"
     ]
    },
    {
     "name": "stdout",
     "output_type": "stream",
     "text": [
      "wordform iteration 19.242025136947632\n",
      "get_def_info 3.9408249855041504\n",
      "lemma_sence_ex_dict 18.176921844482422\n",
      "merge_lemma_context_vs_oxford_examples 0.0006041526794433594\n",
      "word request to lldb 1.0007801055908203\n",
      "word forms request to lldb 0.03246188163757324\n",
      "wordform iteration 0.9461040496826172\n"
     ]
    },
    {
     "name": "stderr",
     "output_type": "stream",
     "text": [
      "\n",
      "\n",
      "\n",
      " 99%|█████████▉| 98/99 [52:27<00:38, 38.29s/it]\u001b[A\u001b[A\u001b[A"
     ]
    },
    {
     "name": "stdout",
     "output_type": "stream",
     "text": [
      "wordform iteration 1.175771951675415\n",
      "get_def_info 4.100193023681641\n",
      "lemma_sence_ex_dict 0.9635319709777832\n",
      "merge_lemma_context_vs_oxford_examples 0.0003509521484375\n"
     ]
    },
    {
     "name": "stderr",
     "output_type": "stream",
     "text": [
      "\n",
      "\n",
      "\n",
      "100%|██████████| 99/99 [52:33<00:00, 28.64s/it]\u001b[A\u001b[A\u001b[A"
     ]
    },
    {
     "name": "stdout",
     "output_type": "stream",
     "text": [
      "word request to lldb 1.0372672080993652\n"
     ]
    }
   ],
   "source": [
    "global_dict = {}\n",
    "for word in tqdm(test_words[101:]):\n",
    "    process_lemma_and_forms(word.lower(), global_dict)"
   ]
  },
  {
   "cell_type": "code",
   "execution_count": 25,
   "metadata": {},
   "outputs": [],
   "source": [
    "with open(\"big_dict_attempt_v3.json\", \"w\") as f:\n",
    "    json.dump(global_dict, f, ensure_ascii=False, indent = 4)"
   ]
  }
 ],
 "metadata": {
  "kernelspec": {
   "display_name": "Python 3",
   "language": "python",
   "name": "python3"
  },
  "language_info": {
   "codemirror_mode": {
    "name": "ipython",
    "version": 3
   },
   "file_extension": ".py",
   "mimetype": "text/x-python",
   "name": "python",
   "nbconvert_exporter": "python",
   "pygments_lexer": "ipython3",
   "version": "3.7.0"
  }
 },
 "nbformat": 4,
 "nbformat_minor": 2
}
