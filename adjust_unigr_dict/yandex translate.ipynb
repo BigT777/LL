{
 "cells": [
  {
   "cell_type": "code",
   "execution_count": 1,
   "metadata": {},
   "outputs": [],
   "source": [
    "import requests"
   ]
  },
  {
   "cell_type": "code",
   "execution_count": null,
   "metadata": {},
   "outputs": [],
   "source": [
    "https://tech.yandex.com/translate/doc/dg/reference/translate-docpage/#JSON"
   ]
  },
  {
   "cell_type": "code",
   "execution_count": null,
   "metadata": {},
   "outputs": [],
   "source": [
    "headers_tr = {#TR_SPECIFIC\n",
    "    'key': 'trnsl.1.1.20190814T102820Z.e4a8f75c7e5a00a7.df13cdf91ce9bde28e9a55c481cb88adfd119fba',\n",
    "    'text': 'hello world',\n",
    "    'lang':'en-ru','format':'plain'\n",
    "    }\n",
    "url_tr = 'https://translate.yandex.net/api/v1.5/tr.json/translate'\n",
    "r = requests.post(url = url_tr, headers=headers_tr)\n",
    "data = r.json()\n",
    "data"
   ]
  },
  {
   "cell_type": "code",
   "execution_count": null,
   "metadata": {},
   "outputs": [],
   "source": [
    "https://cloud.yandex.com/docs/translate/api-ref/Translation/translate"
   ]
  },
  {
   "cell_type": "code",
   "execution_count": null,
   "metadata": {},
   "outputs": [],
   "source": []
  },
  {
   "cell_type": "code",
   "execution_count": null,
   "metadata": {},
   "outputs": [],
   "source": [
    "url_tr = 'https://translate.api.cloud.yandex.net/translate/v2/translate'\n",
    "h = {\n",
    "  \"sourceLanguageCode\": \"en\",\n",
    "  \"targetLanguageCode\": \"ru\",\n",
    "  \"format\": \"PLAIN_TEXT\",\n",
    "  \"texts\": \"helo world\",\n",
    "  #\"folderId\": \"string\",\n",
    "  #\"model\": \"string\",\n",
    "  \n",
    "}\n",
    "r = requests.post(url = url_tr, headers=h)\n",
    "data = r.json()\n",
    "data"
   ]
  },
  {
   "cell_type": "code",
   "execution_count": 21,
   "metadata": {},
   "outputs": [
    {
     "data": {
      "text/plain": [
       "{'translate': '预订航班'}"
      ]
     },
     "execution_count": 21,
     "metadata": {},
     "output_type": "execute_result"
    }
   ],
   "source": [
    "url_y = \"http://192.168.122.13:31436/GetTranslate\"\n",
    "h_y = {\"apiVersion\": \"1.0.0\", \"text\": \"book flight\", \"langPair\": {\"source\": \"en\", \"target\": \"zh\"}}\n",
    "#h_y = {\"apiVersion\": \"1.0.0\", \"text\": \"Landing to the mars\", \"langPair\": \"en-ru\"}\n",
    "r = requests.post(url = url_y, json=h_y)\n",
    "data = r.json()\n",
    "data"
   ]
  },
  {
   "cell_type": "code",
   "execution_count": 16,
   "metadata": {},
   "outputs": [
    {
     "data": {
      "text/plain": [
       "<Response [401]>"
      ]
     },
     "execution_count": 16,
     "metadata": {},
     "output_type": "execute_result"
    }
   ],
   "source": [
    "lang_url = \"https://translate.api.cloud.yandex.net/translate/v2/languages\"\n",
    "requests.post(lang_url)"
   ]
  },
  {
   "cell_type": "code",
   "execution_count": 23,
   "metadata": {},
   "outputs": [
    {
     "data": {
      "text/plain": [
       "{'code': 16, 'message': 'IAM token or API key has to be passed in request'}"
      ]
     },
     "execution_count": 23,
     "metadata": {},
     "output_type": "execute_result"
    }
   ],
   "source": [
    "url_y = \"https://translate.api.cloud.yandex.net/translate/v2/translate\"\n",
    "h_y = {\n",
    "    \"folder_id\": \"b1gvmob95yysaplct532\",\n",
    "    \"texts\": [\"angel\"],\n",
    "    \"targetLanguageCode\": \"ru\",\n",
    "    \"sourceLanguageCode\": \"de\"\n",
    "}\n",
    "#h_y = {\"apiVersion\": \"1.0.0\", \"text\": \"Landing to the mars\", \"langPair\": \"en-ru\"}\n",
    "r = requests.post(url = url_y, json=h_y)\n",
    "data = r.json()\n",
    "data"
   ]
  }
 ],
 "metadata": {
  "kernelspec": {
   "display_name": "Python 3",
   "language": "python",
   "name": "python3"
  },
  "language_info": {
   "codemirror_mode": {
    "name": "ipython",
    "version": 3
   },
   "file_extension": ".py",
   "mimetype": "text/x-python",
   "name": "python",
   "nbconvert_exporter": "python",
   "pygments_lexer": "ipython3",
   "version": "3.7.4"
  }
 },
 "nbformat": 4,
 "nbformat_minor": 2
}
