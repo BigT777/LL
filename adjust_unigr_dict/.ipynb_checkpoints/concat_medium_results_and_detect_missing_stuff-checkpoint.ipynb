{
 "cells": [
  {
   "cell_type": "code",
   "execution_count": 67,
   "metadata": {},
   "outputs": [],
   "source": [
    "import pandas as pd\n",
    "import os\n",
    "from tqdm.auto import tqdm\n",
    "import requests\n",
    "url = \"https://dictionary.yandex.net/api/v1/dicservice.json/lookup\"\n",
    "import time"
   ]
  },
  {
   "cell_type": "code",
   "execution_count": null,
   "metadata": {},
   "outputs": [],
   "source": []
  },
  {
   "cell_type": "markdown",
   "metadata": {},
   "source": [
    "# en ru fr"
   ]
  },
  {
   "cell_type": "code",
   "execution_count": 8,
   "metadata": {},
   "outputs": [
    {
     "name": "stdout",
     "output_type": "stream",
     "text": [
      "48400_stop.csv\n",
      "30500_stop.csv\n",
      "39900_stop.csv\n",
      "59900_stop.csv\n",
      "30100_stop.csv\n",
      "36400_stop.csv\n",
      "32000_stop.csv\n",
      "60000_stop.csv\n",
      "75300_stop.csv\n",
      "90000_stop.csv\n",
      "63700_stop.csv\n",
      "8600_stop.csv\n",
      "500_stop.csv\n",
      "30000_stop.csv\n",
      "4300_stop.csv\n",
      "16300_stop.csv\n",
      "1100_stop.csv\n",
      "29900_stop.csv\n",
      "300_stop.csv\n"
     ]
    }
   ],
   "source": [
    "store_folder = \"/Users/nigula/LL/adjust_unigr_dict/reverse_connected_dicts/cross_barbos\"\n",
    "all_pd = []\n",
    "for obj in os.listdir(store_folder):\n",
    "    if \".\" not in obj:\n",
    "        for pd_save_file in os.listdir(os.path.join(store_folder, obj)):\n",
    "            if \"_\" in pd_save_file and \"DS_Store\" not in pd_save_file:\n",
    "                print (pd_save_file)\n",
    "                curr_pd = pd.read_csv(os.path.join(store_folder, obj, pd_save_file))\n",
    "                all_pd.append(curr_pd)"
   ]
  },
  {
   "cell_type": "code",
   "execution_count": 9,
   "metadata": {},
   "outputs": [],
   "source": [
    "prev_res = pd.read_csv(\"/Users/nigula/LL/adjust_unigr_dict/reverse_connected_dicts/cross_barbos/current_en_ru_fr_no_dub_friday.csv\")"
   ]
  },
  {
   "cell_type": "code",
   "execution_count": 10,
   "metadata": {},
   "outputs": [],
   "source": [
    "all_pd.append(prev_res)"
   ]
  },
  {
   "cell_type": "code",
   "execution_count": 11,
   "metadata": {},
   "outputs": [
    {
     "data": {
      "text/html": [
       "<div>\n",
       "<style scoped>\n",
       "    .dataframe tbody tr th:only-of-type {\n",
       "        vertical-align: middle;\n",
       "    }\n",
       "\n",
       "    .dataframe tbody tr th {\n",
       "        vertical-align: top;\n",
       "    }\n",
       "\n",
       "    .dataframe thead th {\n",
       "        text-align: right;\n",
       "    }\n",
       "</style>\n",
       "<table border=\"1\" class=\"dataframe\">\n",
       "  <thead>\n",
       "    <tr style=\"text-align: right;\">\n",
       "      <th></th>\n",
       "      <th>Unnamed: 0</th>\n",
       "      <th>en</th>\n",
       "      <th>ru</th>\n",
       "      <th>fr</th>\n",
       "    </tr>\n",
       "  </thead>\n",
       "  <tbody>\n",
       "    <tr>\n",
       "      <th>0</th>\n",
       "      <td>0</td>\n",
       "      <td>gaily</td>\n",
       "      <td>весело</td>\n",
       "      <td>joyeusement</td>\n",
       "    </tr>\n",
       "    <tr>\n",
       "      <th>1</th>\n",
       "      <td>1</td>\n",
       "      <td>gaily</td>\n",
       "      <td>ярко</td>\n",
       "      <td>no_equality</td>\n",
       "    </tr>\n",
       "    <tr>\n",
       "      <th>2</th>\n",
       "      <td>2</td>\n",
       "      <td>nightcap</td>\n",
       "      <td>ночной колпак</td>\n",
       "      <td>bonnet de nuit</td>\n",
       "    </tr>\n",
       "    <tr>\n",
       "      <th>3</th>\n",
       "      <td>3</td>\n",
       "      <td>nightcap</td>\n",
       "      <td>ночной чепец</td>\n",
       "      <td>no_equality</td>\n",
       "    </tr>\n",
       "    <tr>\n",
       "      <th>4</th>\n",
       "      <td>4</td>\n",
       "      <td>Dominator</td>\n",
       "      <td>властелин</td>\n",
       "      <td>no_equality</td>\n",
       "    </tr>\n",
       "  </tbody>\n",
       "</table>\n",
       "</div>"
      ],
      "text/plain": [
       "   Unnamed: 0         en             ru              fr\n",
       "0           0      gaily         весело     joyeusement\n",
       "1           1      gaily           ярко     no_equality\n",
       "2           2   nightcap  ночной колпак  bonnet de nuit\n",
       "3           3   nightcap   ночной чепец     no_equality\n",
       "4           4  Dominator      властелин     no_equality"
      ]
     },
     "execution_count": 11,
     "metadata": {},
     "output_type": "execute_result"
    }
   ],
   "source": [
    "overall_df = pd.concat(all_pd)\n",
    "overall_df.head()"
   ]
  },
  {
   "cell_type": "code",
   "execution_count": 12,
   "metadata": {},
   "outputs": [
    {
     "name": "stdout",
     "output_type": "stream",
     "text": [
      "<class 'pandas.core.frame.DataFrame'>\n",
      "Int64Index: 198607 entries, 0 to 43337\n",
      "Data columns (total 4 columns):\n",
      "Unnamed: 0    198607 non-null int64\n",
      "en            198607 non-null object\n",
      "ru            198607 non-null object\n",
      "fr            198607 non-null object\n",
      "dtypes: int64(1), object(3)\n",
      "memory usage: 7.6+ MB\n"
     ]
    }
   ],
   "source": [
    "overall_df.info()"
   ]
  },
  {
   "cell_type": "code",
   "execution_count": 14,
   "metadata": {},
   "outputs": [],
   "source": [
    "overall_df_unique = overall_df.drop_duplicates()"
   ]
  },
  {
   "cell_type": "code",
   "execution_count": 15,
   "metadata": {},
   "outputs": [
    {
     "name": "stdout",
     "output_type": "stream",
     "text": [
      "<class 'pandas.core.frame.DataFrame'>\n",
      "Int64Index: 164692 entries, 0 to 43337\n",
      "Data columns (total 4 columns):\n",
      "Unnamed: 0    164692 non-null int64\n",
      "en            164692 non-null object\n",
      "ru            164692 non-null object\n",
      "fr            164692 non-null object\n",
      "dtypes: int64(1), object(3)\n",
      "memory usage: 6.3+ MB\n"
     ]
    }
   ],
   "source": [
    "overall_df_unique.info()"
   ]
  },
  {
   "cell_type": "code",
   "execution_count": 16,
   "metadata": {},
   "outputs": [
    {
     "data": {
      "text/html": [
       "<div>\n",
       "<style scoped>\n",
       "    .dataframe tbody tr th:only-of-type {\n",
       "        vertical-align: middle;\n",
       "    }\n",
       "\n",
       "    .dataframe tbody tr th {\n",
       "        vertical-align: top;\n",
       "    }\n",
       "\n",
       "    .dataframe thead th {\n",
       "        text-align: right;\n",
       "    }\n",
       "</style>\n",
       "<table border=\"1\" class=\"dataframe\">\n",
       "  <thead>\n",
       "    <tr style=\"text-align: right;\">\n",
       "      <th></th>\n",
       "      <th>Unnamed: 0</th>\n",
       "      <th>en</th>\n",
       "      <th>ru</th>\n",
       "      <th>fr</th>\n",
       "    </tr>\n",
       "  </thead>\n",
       "  <tbody>\n",
       "    <tr>\n",
       "      <th>0</th>\n",
       "      <td>0</td>\n",
       "      <td>gaily</td>\n",
       "      <td>весело</td>\n",
       "      <td>joyeusement</td>\n",
       "    </tr>\n",
       "    <tr>\n",
       "      <th>1</th>\n",
       "      <td>1</td>\n",
       "      <td>gaily</td>\n",
       "      <td>ярко</td>\n",
       "      <td>no_equality</td>\n",
       "    </tr>\n",
       "    <tr>\n",
       "      <th>2</th>\n",
       "      <td>2</td>\n",
       "      <td>nightcap</td>\n",
       "      <td>ночной колпак</td>\n",
       "      <td>bonnet de nuit</td>\n",
       "    </tr>\n",
       "    <tr>\n",
       "      <th>3</th>\n",
       "      <td>3</td>\n",
       "      <td>nightcap</td>\n",
       "      <td>ночной чепец</td>\n",
       "      <td>no_equality</td>\n",
       "    </tr>\n",
       "    <tr>\n",
       "      <th>4</th>\n",
       "      <td>4</td>\n",
       "      <td>Dominator</td>\n",
       "      <td>властелин</td>\n",
       "      <td>no_equality</td>\n",
       "    </tr>\n",
       "  </tbody>\n",
       "</table>\n",
       "</div>"
      ],
      "text/plain": [
       "   Unnamed: 0         en             ru              fr\n",
       "0           0      gaily         весело     joyeusement\n",
       "1           1      gaily           ярко     no_equality\n",
       "2           2   nightcap  ночной колпак  bonnet de nuit\n",
       "3           3   nightcap   ночной чепец     no_equality\n",
       "4           4  Dominator      властелин     no_equality"
      ]
     },
     "execution_count": 16,
     "metadata": {},
     "output_type": "execute_result"
    }
   ],
   "source": [
    "overall_df_unique.head()"
   ]
  },
  {
   "cell_type": "code",
   "execution_count": 21,
   "metadata": {},
   "outputs": [],
   "source": [
    "handled_eng_words = set(list(overall_df_unique['en']))"
   ]
  },
  {
   "cell_type": "code",
   "execution_count": 22,
   "metadata": {},
   "outputs": [
    {
     "data": {
      "text/plain": [
       "38777"
      ]
     },
     "execution_count": 22,
     "metadata": {},
     "output_type": "execute_result"
    }
   ],
   "source": [
    "len(handled_eng_words)"
   ]
  },
  {
   "cell_type": "code",
   "execution_count": 19,
   "metadata": {},
   "outputs": [],
   "source": [
    "all_eng_lemmas = pd.read_csv(\"/Users/nigula/LL/adjust_unigr_dict/BASIC_ENG_VOCAB/eng_vocab_all_lemmas.csv\")"
   ]
  },
  {
   "cell_type": "code",
   "execution_count": 20,
   "metadata": {
    "scrolled": true
   },
   "outputs": [
    {
     "data": {
      "text/html": [
       "<div>\n",
       "<style scoped>\n",
       "    .dataframe tbody tr th:only-of-type {\n",
       "        vertical-align: middle;\n",
       "    }\n",
       "\n",
       "    .dataframe tbody tr th {\n",
       "        vertical-align: top;\n",
       "    }\n",
       "\n",
       "    .dataframe thead th {\n",
       "        text-align: right;\n",
       "    }\n",
       "</style>\n",
       "<table border=\"1\" class=\"dataframe\">\n",
       "  <thead>\n",
       "    <tr style=\"text-align: right;\">\n",
       "      <th></th>\n",
       "      <th>Unnamed: 0</th>\n",
       "      <th>word</th>\n",
       "    </tr>\n",
       "  </thead>\n",
       "  <tbody>\n",
       "    <tr>\n",
       "      <th>0</th>\n",
       "      <td>0</td>\n",
       "      <td>variorum</td>\n",
       "    </tr>\n",
       "    <tr>\n",
       "      <th>1</th>\n",
       "      <td>1</td>\n",
       "      <td>shun</td>\n",
       "    </tr>\n",
       "    <tr>\n",
       "      <th>2</th>\n",
       "      <td>2</td>\n",
       "      <td>couple</td>\n",
       "    </tr>\n",
       "    <tr>\n",
       "      <th>3</th>\n",
       "      <td>3</td>\n",
       "      <td>anticipate</td>\n",
       "    </tr>\n",
       "    <tr>\n",
       "      <th>4</th>\n",
       "      <td>4</td>\n",
       "      <td>affair</td>\n",
       "    </tr>\n",
       "  </tbody>\n",
       "</table>\n",
       "</div>"
      ],
      "text/plain": [
       "   Unnamed: 0        word\n",
       "0           0    variorum\n",
       "1           1        shun\n",
       "2           2      couple\n",
       "3           3  anticipate\n",
       "4           4      affair"
      ]
     },
     "execution_count": 20,
     "metadata": {},
     "output_type": "execute_result"
    }
   ],
   "source": [
    "all_eng_lemmas.head()"
   ]
  },
  {
   "cell_type": "code",
   "execution_count": 23,
   "metadata": {},
   "outputs": [],
   "source": [
    "all_eng_lemmas_eng = set(list((all_eng_lemmas['word'])))"
   ]
  },
  {
   "cell_type": "code",
   "execution_count": 27,
   "metadata": {},
   "outputs": [
    {
     "data": {
      "text/plain": [
       "54044"
      ]
     },
     "execution_count": 27,
     "metadata": {},
     "output_type": "execute_result"
    }
   ],
   "source": [
    "len(all_eng_lemmas_eng)"
   ]
  },
  {
   "cell_type": "code",
   "execution_count": 26,
   "metadata": {},
   "outputs": [
    {
     "data": {
      "text/plain": [
       "61583"
      ]
     },
     "execution_count": 26,
     "metadata": {},
     "output_type": "execute_result"
    }
   ],
   "source": [
    "len(all_eng_lemmas_eng - handled_eng_words) + len(handled_eng_words)"
   ]
  },
  {
   "cell_type": "code",
   "execution_count": 30,
   "metadata": {},
   "outputs": [],
   "source": [
    "import json"
   ]
  },
  {
   "cell_type": "code",
   "execution_count": 77,
   "metadata": {},
   "outputs": [
    {
     "data": {
      "application/vnd.jupyter.widget-view+json": {
       "model_id": "e9420206483c46ce9a9a52d3524a692a",
       "version_major": 2,
       "version_minor": 0
      },
      "text/plain": [
       "HBox(children=(IntProgress(value=0, max=56075), HTML(value='')))"
      ]
     },
     "metadata": {},
     "output_type": "display_data"
    },
    {
     "name": "stdout",
     "output_type": "stream",
     "text": [
      "\n"
     ]
    }
   ],
   "source": [
    "empty_lookup = []\n",
    "\n",
    "folder = \"/Users/nigula/LL/adjust_unigr_dict/lookup/yandex_lookup_en_ru\"\n",
    "for file in tqdm(os.listdir(folder)):\n",
    "    #print(os.path.join(folder,file))\n",
    "    if \"DS_Store\" not in file:\n",
    "        with open (os.path.join(folder,file), \"r\") as f:\n",
    "            try:\n",
    "                lookup = json.load(f, encoding = \"utf-8\")\n",
    "            except:\n",
    "                print(file)\n",
    "                lookup = json.load(f, encoding = \"cp1252\")\n",
    "        if len(lookup['def']) == 0:\n",
    "            empty_lookup.append(file.split(\".\")[0])\n",
    "    "
   ]
  },
  {
   "cell_type": "code",
   "execution_count": 51,
   "metadata": {},
   "outputs": [
    {
     "data": {
      "text/plain": [
       "15973"
      ]
     },
     "execution_count": 51,
     "metadata": {},
     "output_type": "execute_result"
    }
   ],
   "source": [
    "len(empty_lookup)"
   ]
  },
  {
   "cell_type": "code",
   "execution_count": 53,
   "metadata": {},
   "outputs": [],
   "source": [
    "unhandled_words_in_current_df = all_eng_lemmas_eng - handled_eng_words"
   ]
  },
  {
   "cell_type": "code",
   "execution_count": 54,
   "metadata": {},
   "outputs": [],
   "source": [
    "unhandled_lookup_set = set(unhandled_lookup)"
   ]
  },
  {
   "cell_type": "code",
   "execution_count": 55,
   "metadata": {},
   "outputs": [
    {
     "data": {
      "text/plain": [
       "(22806, 15973)"
      ]
     },
     "execution_count": 55,
     "metadata": {},
     "output_type": "execute_result"
    }
   ],
   "source": [
    "len(unhandled_words_in_current_df), len(unhandled_lookup_set)"
   ]
  },
  {
   "cell_type": "code",
   "execution_count": 57,
   "metadata": {},
   "outputs": [
    {
     "data": {
      "text/plain": [
       "7429"
      ]
     },
     "execution_count": 57,
     "metadata": {},
     "output_type": "execute_result"
    }
   ],
   "source": [
    "len(unhandled_words_in_current_df - unhandled_lookup_set)\n"
   ]
  },
  {
   "cell_type": "code",
   "execution_count": 59,
   "metadata": {},
   "outputs": [],
   "source": [
    "unhandled_non_lookedup_words = unhandled_words_in_current_df - unhandled_lookup_set\n"
   ]
  },
  {
   "cell_type": "code",
   "execution_count": 61,
   "metadata": {},
   "outputs": [],
   "source": [
    "vertolet_token = \"dict.1.1.20191029T212638Z.e3a6524ff15de8ee.53dbf57d908343531709c5f0686045121f0fc6ae\"\n"
   ]
  },
  {
   "cell_type": "code",
   "execution_count": 69,
   "metadata": {},
   "outputs": [],
   "source": [
    "def get_y_lookup_json(from_lang_words_list, from_lang, to_lang, token, directory_with_handled_files):\n",
    "    handled_words_from_folder = []\n",
    "    for word in os.listdir(directory_with_handled_files):\n",
    "        handled_words_from_folder.append(word.split('.')[0])\n",
    "    handled_words_from_folder = set(handled_words_from_folder)\n",
    "\n",
    "    handled_here = []\n",
    "    save_folder = \"./lookup/yandex_lookup_\" + from_lang + \"_\" + to_lang\n",
    "    handled_before = 0\n",
    "    count = 0 \n",
    "    for fr_word in tqdm(from_lang_words_list):\n",
    "        #print(fr_word)\n",
    "        isnan = False\n",
    "        #print(count, start_from_count)\n",
    "        try:\n",
    "            isnan = math.isnan(fr_word)\n",
    "        except:\n",
    "            pass\n",
    "        if fr_word in handled_words_from_folder:\n",
    "            handled_before += 1\n",
    "        if fr_word != \"no_equality\" and isnan == False and fr_word not in handled_here and fr_word not in handled_words_from_folder:\n",
    "            lang_pair = from_lang + \"-\" + to_lang\n",
    "            headers = {\"key\":token,\n",
    "                  \"lang\":lang_pair,\"text\":fr_word}\n",
    "            ddd = requests.get(url, headers).json()\n",
    "            if 'message' in ddd and ddd['message'] == \"Limit of daily requests exceeded\":\n",
    "                print(\"LIMIT REACHED\")\n",
    "                break\n",
    "            try:\n",
    "                save_loc = save_folder + \"/\" + fr_word + \".json\"\n",
    "            except:\n",
    "                print(fr_word, \"is ambigious float or smth\")\n",
    "                continue\n",
    "            with open(save_loc, 'w') as f:\n",
    "                json.dump(ddd, f, indent = 4, ensure_ascii=False)\n",
    "            handled_here.append(fr_word)\n",
    "            time.sleep(0.0001)\n",
    "        else:\n",
    "            #print(\"===>>>>skipped\")\n",
    "            pass\n",
    "            \n",
    "        count += 1\n",
    "    print(handled_before,\"handled_before\",count, \"count\" )\n",
    "        \n"
   ]
  },
  {
   "cell_type": "code",
   "execution_count": 76,
   "metadata": {},
   "outputs": [
    {
     "data": {
      "text/plain": [
       "56075"
      ]
     },
     "execution_count": 76,
     "metadata": {},
     "output_type": "execute_result"
    }
   ],
   "source": [
    "looked_up_list = []\n",
    "for word_lookup in os.listdir(handled):\n",
    "    w = word_lookup.split(\".\")[0]\n",
    "    looked_up_list.append(w)\n",
    "len(set(looked_up_list))  "
   ]
  },
  {
   "cell_type": "code",
   "execution_count": 75,
   "metadata": {},
   "outputs": [
    {
     "data": {
      "text/plain": [
       "38777"
      ]
     },
     "execution_count": 75,
     "metadata": {},
     "output_type": "execute_result"
    }
   ],
   "source": [
    "handled_eng_words = set(list(overall_df_unique['en']))\n",
    "len(handled_eng_words)"
   ]
  },
  {
   "cell_type": "code",
   "execution_count": 78,
   "metadata": {},
   "outputs": [
    {
     "data": {
      "text/plain": [
       "15973"
      ]
     },
     "execution_count": 78,
     "metadata": {},
     "output_type": "execute_result"
    }
   ],
   "source": [
    "len(empty_lookup)"
   ]
  },
  {
   "cell_type": "code",
   "execution_count": 80,
   "metadata": {},
   "outputs": [
    {
     "data": {
      "text/plain": [
       "list"
      ]
     },
     "execution_count": 80,
     "metadata": {},
     "output_type": "execute_result"
    }
   ],
   "source": [
    "type(empty_lookup)"
   ]
  },
  {
   "cell_type": "code",
   "execution_count": null,
   "metadata": {},
   "outputs": [],
   "source": [
    "handled_eng_words + "
   ]
  },
  {
   "cell_type": "code",
   "execution_count": 79,
   "metadata": {},
   "outputs": [
    {
     "data": {
      "text/plain": [
       "54750"
      ]
     },
     "execution_count": 79,
     "metadata": {},
     "output_type": "execute_result"
    }
   ],
   "source": [
    "len(handled_eng_words) + len(empty_lookup)"
   ]
  },
  {
   "cell_type": "code",
   "execution_count": 70,
   "metadata": {},
   "outputs": [
    {
     "data": {
      "application/vnd.jupyter.widget-view+json": {
       "model_id": "b4d5669f243142ea82d9a9ce3ab1d60d",
       "version_major": 2,
       "version_minor": 0
      },
      "text/plain": [
       "HBox(children=(IntProgress(value=0, max=7429), HTML(value='')))"
      ]
     },
     "metadata": {},
     "output_type": "display_data"
    },
    {
     "name": "stdout",
     "output_type": "stream",
     "text": [
      "nan is ambigious float or smth\n",
      "\n",
      "7426 handled_before 7428 count\n"
     ]
    }
   ],
   "source": [
    "handled = \"/Users/nigula/LL/adjust_unigr_dict/lookup/yandex_lookup_en_ru\"\n",
    "\n",
    "get_y_lookup_json(list(unhandled_non_lookedup_words), \"en\", \"ru\", token = vertolet_token,\n",
    "                  directory_with_handled_files = handled)\n",
    "\n"
   ]
  }
 ],
 "metadata": {
  "kernelspec": {
   "display_name": "Python 3",
   "language": "python",
   "name": "python3"
  },
  "language_info": {
   "codemirror_mode": {
    "name": "ipython",
    "version": 3
   },
   "file_extension": ".py",
   "mimetype": "text/x-python",
   "name": "python",
   "nbconvert_exporter": "python",
   "pygments_lexer": "ipython3",
   "version": "3.7.4"
  }
 },
 "nbformat": 4,
 "nbformat_minor": 2
}
