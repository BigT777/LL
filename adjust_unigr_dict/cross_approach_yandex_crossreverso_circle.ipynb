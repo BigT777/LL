{
 "cells": [
  {
   "cell_type": "code",
   "execution_count": null,
   "metadata": {},
   "outputs": [],
   "source": [
    "en-ru >> fr ready_res\n",
    "ru-en >> fr\n",
    "\n",
    "en-fr >>ru ready_res\n",
    "fr-en >>ru ready_res\n",
    "\n",
    "ru-fr>>en ready_res\n",
    "fr-ru>>en ready_res"
   ]
  },
  {
   "cell_type": "code",
   "execution_count": 1,
   "metadata": {
    "colab": {},
    "colab_type": "code",
    "id": "SynNbJussEzB"
   },
   "outputs": [],
   "source": [
    "import requests\n",
    "import json\n",
    "from bs4 import BeautifulSoup as bs\n",
    "import time\n",
    "import random\n",
    "import re\n",
    "import pandas as pd\n",
    "import os\n",
    "import numpy as np"
   ]
  },
  {
   "cell_type": "code",
   "execution_count": 0,
   "metadata": {
    "colab": {},
    "colab_type": "code",
    "id": "dUNB3bGQsEzI",
    "outputId": "b71ff529-382e-4f2c-84c5-85d068b3ae4c"
   },
   "outputs": [
    {
     "name": "stdout",
     "output_type": "stream",
     "text": [
      "13:01:41.294317\n"
     ]
    }
   ],
   "source": [
    "print(datetime.datetime.now().time())"
   ]
  },
  {
   "cell_type": "code",
   "execution_count": 3,
   "metadata": {
    "colab": {},
    "colab_type": "code",
    "id": "xc41uje9sEzT"
   },
   "outputs": [],
   "source": [
    "import datetime"
   ]
  },
  {
   "cell_type": "code",
   "execution_count": 2,
   "metadata": {
    "colab": {},
    "colab_type": "code",
    "id": "pLEumRS3sEzg"
   },
   "outputs": [],
   "source": [
    "from nltk import word_tokenize, pos_tag\n",
    "from nltk.corpus import wordnet\n",
    "from nltk.stem import WordNetLemmatizer \n",
    "lemmatizer = WordNetLemmatizer()\n",
    "from nltk.corpus import stopwords\n",
    "\n",
    "import numpy as np\n",
    "from tqdm import tqdm"
   ]
  },
  {
   "cell_type": "code",
   "execution_count": 0,
   "metadata": {
    "colab": {},
    "colab_type": "code",
    "id": "TIxvfbqMsEzj"
   },
   "outputs": [],
   "source": [
    "from  sklearn.metrics.pairwise import cosine_similarity"
   ]
  },
  {
   "cell_type": "code",
   "execution_count": 0,
   "metadata": {
    "colab": {},
    "colab_type": "code",
    "id": "jfLLWwBPsEzr"
   },
   "outputs": [],
   "source": [
    "%%time\n",
    "from gensim.models.wrappers import FastText\n",
    "model_fr = FastText.load_fasttext_format('/Users/nigula/input/fr/fr.bin')\n"
   ]
  },
  {
   "cell_type": "code",
   "execution_count": 0,
   "metadata": {
    "colab": {},
    "colab_type": "code",
    "id": "JWVvgOL_sEzt",
    "outputId": "2dcc5b81-640b-4d85-f9ce-8f59b8e2023d"
   },
   "outputs": [
    {
     "name": "stdout",
     "output_type": "stream",
     "text": [
      "CPU times: user 657 ms, sys: 3.79 s, total: 4.45 s\n",
      "Wall time: 10.7 s\n"
     ]
    }
   ],
   "source": [
    "%%time\n",
    "from gensim.models.keyedvectors import FastTextKeyedVectors\n",
    "model_ru= FastTextKeyedVectors.load('/Users/nigula/input/araneum_none_fasttextcbow_300_5_2018/araneum_none_fasttextcbow_300_5_2018.model')"
   ]
  },
  {
   "cell_type": "code",
   "execution_count": 0,
   "metadata": {
    "colab": {},
    "colab_type": "code",
    "id": "BJ7MljBlsEzv",
    "outputId": "458036e6-9180-48e9-f359-aa6feb184243"
   },
   "outputs": [
    {
     "name": "stdout",
     "output_type": "stream",
     "text": [
      "Collecting simpy.io\n",
      "  Using cached https://files.pythonhosted.org/packages/3e/21/dfc98e6240f82c8507c1955aaad9f2649cf9fb351dbf4f46e2f33e9bf25e/simpy.io-0.2.3-py2.py3-none-any.whl\n",
      "Collecting SimPy>=3.0.9 (from simpy.io)\n",
      "  Using cached https://files.pythonhosted.org/packages/5a/64/8f0fc71400d41b6c2c6443d333a1cade458d23d4945ccda700c810ff6aae/simpy-3.0.11-py2.py3-none-any.whl\n",
      "Installing collected packages: SimPy, simpy.io\n",
      "Successfully installed SimPy-3.0.11 simpy.io-0.2.3\n"
     ]
    }
   ],
   "source": [
    "!pip3 install simpy.io"
   ]
  },
  {
   "cell_type": "code",
   "execution_count": 0,
   "metadata": {
    "colab": {},
    "colab_type": "code",
    "id": "JuvllSTdsEzy"
   },
   "outputs": [],
   "source": [
    "from simpy.io import select as backend"
   ]
  },
  {
   "cell_type": "code",
   "execution_count": 0,
   "metadata": {
    "colab": {},
    "colab_type": "code",
    "id": "a2z-WH6osEz0",
    "outputId": "5af06e68-c52d-4237-aca0-0230a7b505ba"
   },
   "outputs": [
    {
     "ename": "AttributeError",
     "evalue": "module 'simpy.io.select' has no attribute 'open'",
     "output_type": "error",
     "traceback": [
      "\u001b[0;31m---------------------------------------------------------------------------\u001b[0m",
      "\u001b[0;31mAttributeError\u001b[0m                            Traceback (most recent call last)",
      "\u001b[0;32m<timed exec>\u001b[0m in \u001b[0;36m<module>\u001b[0;34m\u001b[0m\n",
      "\u001b[0;32m<timed exec>\u001b[0m in \u001b[0;36mload_vectors\u001b[0;34m(fname)\u001b[0m\n",
      "\u001b[0;31mAttributeError\u001b[0m: module 'simpy.io.select' has no attribute 'open'"
     ]
    }
   ],
   "source": [
    "%%time\n",
    "#import io\n",
    "def load_vectors(fname):\n",
    "    fin = backend.open(fname, 'r', encoding='utf-8', newline='\\n', errors='ignore')\n",
    "    n, d = map(int, fin.readline().split())\n",
    "    data = {}\n",
    "    for line in fin:\n",
    "        tokens = line.rstrip().split(' ')\n",
    "        data[tokens[0]] = map(float, tokens[1:])\n",
    "    return data\n",
    "model_en = load_vectors(\"/Users/nigula/input/wiki-news-300d-1M.vec\")"
   ]
  },
  {
   "cell_type": "code",
   "execution_count": 26,
   "metadata": {
    "colab": {},
    "colab_type": "code",
    "id": "sRY0p2iIsEz2"
   },
   "outputs": [],
   "source": [
    "def send_request_func(from_lang,to_lang, word, header_main, login, en_from_lang, en_to_lang):\n",
    "    start = time.time()\n",
    "    url = \"https://context.reverso.net/перевод/\" + from_lang + \"-\" + to_lang + \"/\" + word \n",
    "    print(\"going to find word in\", url)\n",
    "    response = requests.get(url, headers=header_main, data = login)\n",
    "    response.encoding = 'utf-8' \n",
    "    #\n",
    "    save_dir = os.path.join(\"/Users/nigula/LL/adjust_unigr_dict/lookup/reverso\" + \"_\" + en_from_lang + \"_\" + en_to_lang,word + \".xls\")\n",
    "    file = open(save_dir, \"wb\")\n",
    "    file.write(response.content)\n",
    "    file.close()\n",
    "    print(\"saved to directory\", save_dir)\n",
    "    soup = bs(response.text, 'html.parser') \n",
    "    time.sleep(0.01)\n",
    "    print(\"request_time\",time.time() - start) \n",
    "    check_restiction(soup)\n",
    "    return soup"
   ]
  },
  {
   "cell_type": "code",
   "execution_count": 25,
   "metadata": {},
   "outputs": [],
   "source": [
    "def check_restiction(soup):\n",
    "    for link in soup.find_all(\"section\", attrs={\"id\" : \"error-content\"}):\n",
    "        restrict = ['Your', 'access', 'is', 'temporarily', 'restricted']\n",
    "        #print(link, \"\\\\\")\n",
    "        for l in link.find_all(\"p\"):\n",
    "            count = 0 \n",
    "            restict = False\n",
    "            for word in l.text.strip().split()[:5]:\n",
    "                #print(word, restrict[count])\n",
    "                if word == restrict[count]:\n",
    "                    restict = True\n",
    "                else:\n",
    "                    restict = False\n",
    "                count += 1\n",
    "            if restict == True:\n",
    "                raise Exception('Restiction_limit!!!!!!!!!!!!!!')\n",
    "\n"
   ]
  },
  {
   "cell_type": "code",
   "execution_count": 0,
   "metadata": {
    "colab": {},
    "colab_type": "code",
    "id": "Dyi-HHt0sEz5",
    "outputId": "b26c232d-9c09-4057-f7d7-7095616ff2d6"
   },
   "outputs": [
    {
     "data": {
      "text/plain": [
       "0"
      ]
     },
     "execution_count": 195,
     "metadata": {
      "tags": []
     },
     "output_type": "execute_result"
    }
   ],
   "source": [
    "a = ''\n",
    "len(a)"
   ]
  },
  {
   "cell_type": "code",
   "execution_count": 18,
   "metadata": {
    "colab": {},
    "colab_type": "code",
    "id": "Fjo1jO1ssEz-",
    "outputId": "60a57d07-d2c9-4d39-c986-68bc9d8df2c2"
   },
   "outputs": [
    {
     "name": "stdout",
     "output_type": "stream",
     "text": [
      "found_word_in /Users/nigula/LL/adjust_unigr_dict/lookup/reverso_ru_fr/одобрять.xls\n",
      "definiotns_time 0.08157706260681152\n"
     ]
    },
    {
     "data": {
      "text/plain": [
       "[{'sence_word': 'approuver', 'pos': 'v'},\n",
       " {'sence_word': 'entériner', 'pos': 'v'},\n",
       " {'sence_word': 'avaliser', 'pos': 'v'}]"
      ]
     },
     "execution_count": 18,
     "metadata": {},
     "output_type": "execute_result"
    }
   ],
   "source": [
    "def get_definitions_reverso(word, from_lang, to_lang, print_output = False):\n",
    "    start = time.time()\n",
    "    login = {'inUserName': 'n.babakov@lingualeo.com', 'inUserPass': '33vec33'}\n",
    "    header_main = {'User-Agent': 'Mozilla/5.0 (Macintosh; Intel Mac OS X 10_10_1) AppleWebKit/537.36 (KHTML, like Gecko) Chrome/39.0.2171.95 Safari/537.36'}\n",
    "    senseword_list = []\n",
    "    land_dict = {\"русский\":\"ru\",\"французский\":\"fr\", \"английский\":\"en\"}\n",
    "    try:\n",
    "        word_dir = os.path.join(\"/Users/nigula/LL/adjust_unigr_dict/lookup/reverso\" + \"_\" + land_dict[from_lang] + \"_\" + land_dict[to_lang],word + \".xls\")\n",
    "        infile = open(word_dir,\"r\")\n",
    "        print(\"found_word_in\", word_dir)\n",
    "        contents = infile.read()\n",
    "        soup = bs(contents,'html.parser')\n",
    "    except:\n",
    "        soup = send_request_func(from_lang,to_lang, word, header_main, login, land_dict[from_lang], land_dict[to_lang])\n",
    "    #print(soup.prettify())\n",
    "    first_string_passed = False\n",
    "    pos = ''\n",
    "    for link in soup.find_all(\"a\", attrs={\"class\" : \"translation\"}):\n",
    "        #print(link.prettify())\n",
    "        try:\n",
    "            #print(\"||\",link['data-pos'])\n",
    "            pos = link['data-pos'][1:-1]\n",
    "        except:\n",
    "            pass\n",
    "        if first_string_passed == True:\n",
    "            sence_word = link.text.strip()\n",
    "            if len(sence_word) >0:\n",
    "                senseword_list.append({\"sence_word\":sence_word.lower(), \"pos\":pos})\n",
    "            #print(sence_word)\n",
    "        first_string_passed = True\n",
    "        \n",
    "    for link in soup.find_all(\"div\", attrs={\"class\" : \"translation\"}):\n",
    "        #print(link.prettify())\n",
    "        try:\n",
    "            #print(\"||\",link['data-pos'])\n",
    "            pos = link['data-pos'][1:-1]\n",
    "        except:\n",
    "            pass\n",
    "        if first_string_passed == True:\n",
    "            sence_word = link.text.strip()\n",
    "            if len(sence_word) >0:\n",
    "                senseword_list.append({\"sence_word\":sence_word.lower(), \"pos\":pos})\n",
    "            #print(sence_word)\n",
    "        first_string_passed = True\n",
    "    if len (senseword_list) == 0:\n",
    "        print(\"turn to alternative marks\")\n",
    "        for link in soup.find_all(\"div\", attrs={\"lang\" : \"fr\"}):\n",
    "            try:\n",
    "                #print(\"||\",link['data-pos'])\n",
    "                pos = link['data-pos'][1:-1]\n",
    "            except:\n",
    "                pass\n",
    "            sence_word = link.text.strip()\n",
    "            senseword_list.append({\"sence_word\":sence_word.lower(), \"pos\":pos})\n",
    "            #print(link.prettify())\n",
    "    print(\"definiotns_time\", time.time() - start)\n",
    "    return senseword_list\n",
    "\n",
    "\n",
    "get_definitions_reverso(\"одобрять\", \"русский\", \"французский\", print_output = False)\n",
    "#русский-французский/одобрять\n"
   ]
  },
  {
   "cell_type": "code",
   "execution_count": 6,
   "metadata": {
    "colab": {},
    "colab_type": "code",
    "id": "yRGjmrRjsE0C",
    "outputId": "0c214889-5cd0-402a-fdb3-8b2ffc403336"
   },
   "outputs": [
    {
     "name": "stdout",
     "output_type": "stream",
     "text": [
      "found_word_in /Users/nigula/LL/adjust_unigr_dict/lookup/reverso_en_ru/brother.xls\n",
      "definiotns_time 0.11357283592224121\n"
     ]
    },
    {
     "data": {
      "text/plain": [
       "[{'sence_word': 'брат', 'pos': 'nm'},\n",
       " {'sence_word': 'братец', 'pos': 'n'},\n",
       " {'sence_word': 'братишка', 'pos': 'n'},\n",
       " {'sence_word': 'братик', 'pos': 'n'},\n",
       " {'sence_word': 'братан', 'pos': 'n'},\n",
       " {'sence_word': 'братья', 'pos': 'n'},\n",
       " {'sence_word': 'дружище', 'pos': 'n'},\n",
       " {'sence_word': 'браток', 'pos': 'n'},\n",
       " {'sence_word': 'братские', 'pos': 'n'},\n",
       " {'sence_word': 'родной брат', 'pos': 'n'},\n",
       " {'sence_word': 'брательник', 'pos': 'n'},\n",
       " {'sence_word': 'братских', 'pos': 'n'}]"
      ]
     },
     "execution_count": 6,
     "metadata": {},
     "output_type": "execute_result"
    }
   ],
   "source": [
    "get_definitions_reverso(\"brother\", \"английский\", \"русский\", print_output = False)"
   ]
  },
  {
   "cell_type": "code",
   "execution_count": 0,
   "metadata": {
    "colab": {},
    "colab_type": "code",
    "id": "14dxu8DusE0G",
    "outputId": "429efa10-9317-4bb7-b675-4c7d5b7b096a"
   },
   "outputs": [
    {
     "name": "stdout",
     "output_type": "stream",
     "text": [
      "going to find word in https://context.reverso.net/перевод/французский-русский/réchauffer\n",
      "saved to directory /Users/nigula/LL/adjust_unigr_dict/lookup/reverso_fr_ru/réchauffer.xls\n"
     ]
    },
    {
     "data": {
      "text/plain": [
       "[{'sence_word': 'согреть', 'pos': 'v'},\n",
       " {'sence_word': 'согреться', 'pos': 'v'},\n",
       " {'sence_word': 'разогреть', 'pos': 'v'},\n",
       " {'sence_word': 'подогреть', 'pos': 'v'}]"
      ]
     },
     "execution_count": 41,
     "metadata": {
      "tags": []
     },
     "output_type": "execute_result"
    }
   ],
   "source": [
    "get_definitions_reverso(\"réchauffer\", \"французский\", \"русский\", print_output = False)"
   ]
  },
  {
   "cell_type": "markdown",
   "metadata": {
    "colab_type": "text",
    "id": "YjtjxzLdsE0L"
   },
   "source": [
    "# LEMMATIZERS"
   ]
  },
  {
   "cell_type": "code",
   "execution_count": 7,
   "metadata": {
    "colab": {},
    "colab_type": "code",
    "id": "ueFh47c5sE0R"
   },
   "outputs": [],
   "source": [
    "from french_lefff_lemmatizer.french_lefff_lemmatizer import FrenchLefffLemmatizer\n",
    "lemmatizer = FrenchLefffLemmatizer()\n",
    "\n",
    "def fr_lemmatize(word):\n",
    "    lemma = lemmatizer.lemmatize(word)\n",
    "    return lemma\n",
    "def preprocess_words(words_list, lemmatizer_func):\n",
    "    start = time.time()\n",
    "    preprocessed_words = []\n",
    "    for word in words_list:\n",
    "        lemma = lemmatizer_func(word['sence_word'].lower())\n",
    "        word['sence_word'] = lemma\n",
    "    print(\"lemmat_time\", time.time() - start)\n",
    "        #print(\"lemma\",lemma)\n",
    "        #preprocessed_words.append(lemma)\n",
    "    #return preprocessed_words\n",
    "        "
   ]
  },
  {
   "cell_type": "code",
   "execution_count": 8,
   "metadata": {
    "colab": {},
    "colab_type": "code",
    "id": "3xoyXhQwsE0a"
   },
   "outputs": [],
   "source": [
    "\n",
    "def get_wordnet_pos(treebank_tag):\n",
    "\n",
    "    if treebank_tag.startswith('J'):\n",
    "        return wordnet.ADJ\n",
    "    elif treebank_tag.startswith('V'):\n",
    "        return wordnet.VERB\n",
    "    elif treebank_tag.startswith('N'):\n",
    "        return wordnet.NOUN\n",
    "    elif treebank_tag.startswith('R'):\n",
    "        return wordnet.ADV\n",
    "    else:\n",
    "        return None\n",
    "    \n",
    "def get_nonstopwords_vectors_sum(lemm_list):\n",
    "    orig_vector = np.zeros(shape = 100)\n",
    "    for lemma in lemm_list:\n",
    "        if lemma not in stopWords:\n",
    "            #print (lemma)\n",
    "            try:\n",
    "                orig_vector += model[lemma]\n",
    "            except:\n",
    "                pass\n",
    "    return orig_vector\n",
    "\n",
    "\n",
    "def en_lemmatize(line):\n",
    "    pos_tagged_ngramm = pos_tag(line.split())\n",
    "    lemmatized_line_list = []\n",
    "    for word_el in pos_tagged_ngramm:\n",
    "        pos = get_wordnet_pos(word_el[1])\n",
    "        if pos:\n",
    "            lemma = lemmatizer.lemmatize(word_el[0], pos =pos)\n",
    "        else:\n",
    "            lemma = word_el[0]\n",
    "        lemmatized_line_list.append(lemma)\n",
    "    return ' '.join(lemmatized_line_list)"
   ]
  },
  {
   "cell_type": "code",
   "execution_count": 9,
   "metadata": {
    "colab": {},
    "colab_type": "code",
    "id": "c5NXjPnhsE0e",
    "outputId": "7eefff3e-f465-4a11-b67a-ba8669e19b48"
   },
   "outputs": [
    {
     "name": "stdout",
     "output_type": "stream",
     "text": [
      "красивый мама красиво мыть рама\n",
      "\n"
     ]
    }
   ],
   "source": [
    "from pymystem3 import Mystem\n",
    "text = \"Красивая мама красиво мыла раму\"\n",
    "mystem = Mystem()\n",
    "lemmas = mystem.lemmatize(text)\n",
    "print(''.join(lemmas))"
   ]
  },
  {
   "cell_type": "code",
   "execution_count": 0,
   "metadata": {
    "colab": {},
    "colab_type": "code",
    "id": "WCKptyvRsE0h"
   },
   "outputs": [],
   "source": []
  },
  {
   "cell_type": "code",
   "execution_count": 0,
   "metadata": {
    "colab": {},
    "colab_type": "code",
    "id": "EQnUI9hhsE0j"
   },
   "outputs": [],
   "source": []
  },
  {
   "cell_type": "code",
   "execution_count": 0,
   "metadata": {
    "colab": {},
    "colab_type": "code",
    "id": "0R7gNMkdsE0o",
    "outputId": "4204de5f-55fb-4bfb-ba2e-11ce05a99b4a"
   },
   "outputs": [
    {
     "data": {
      "text/plain": [
       "'стать'"
      ]
     },
     "execution_count": 98,
     "metadata": {
      "tags": []
     },
     "output_type": "execute_result"
    }
   ],
   "source": [
    "p = morph.parse('стали')[0]\n",
    "p.normal_form"
   ]
  },
  {
   "cell_type": "code",
   "execution_count": 11,
   "metadata": {
    "colab": {},
    "colab_type": "code",
    "id": "pwQwxxDbsE0w",
    "outputId": "1fc0b354-f83f-496a-998b-529931ed8474"
   },
   "outputs": [
    {
     "data": {
      "text/plain": [
       "'красивый мама красиво мыло рам'"
      ]
     },
     "execution_count": 11,
     "metadata": {},
     "output_type": "execute_result"
    }
   ],
   "source": [
    "import pymorphy2\n",
    "morph = pymorphy2.MorphAnalyzer()\n",
    "def ru_lemmatize(line):\n",
    "    line_lemm = ''\n",
    "    for word in line.split():\n",
    "        lemma = morph.parse(word)[0]\n",
    "        lemma = lemma.normal_form\n",
    "        line_lemm += lemma + ' '\n",
    "    line_lemm = line_lemm.strip()\n",
    "    return line_lemm\n",
    "\n",
    "ru_lemmatize(\"Красивая мама красиво мыла раму\")"
   ]
  },
  {
   "cell_type": "code",
   "execution_count": 12,
   "metadata": {
    "colab": {},
    "colab_type": "code",
    "id": "Oix7jToosE00",
    "outputId": "b48c5d78-42c4-4620-9223-da5c6b424485"
   },
   "outputs": [
    {
     "data": {
      "text/plain": [
       "'красивый мама красиво мыть рама'"
      ]
     },
     "execution_count": 12,
     "metadata": {},
     "output_type": "execute_result"
    }
   ],
   "source": [
    "def ru_lemmatize(line):\n",
    "    lemmas = mystem.lemmatize(line)\n",
    "    return ''.join(lemmas)[:-1]\n",
    "ru_lemmatize(\"Красивая мама красиво мыла раму\")"
   ]
  },
  {
   "cell_type": "markdown",
   "metadata": {
    "colab_type": "text",
    "id": "2QuJ2bPisE02"
   },
   "source": [
    "\n",
    "# GOON"
   ]
  },
  {
   "cell_type": "code",
   "execution_count": 0,
   "metadata": {
    "colab": {},
    "colab_type": "code",
    "id": "A7_G-BtIsE03"
   },
   "outputs": [],
   "source": [
    "%%time\n",
    "from gensim.models.wrappers import FastText\n",
    "model_fr = FastText.load_fasttext_format('/Users/nigula/input/fr/fr.bin')\n"
   ]
  },
  {
   "cell_type": "code",
   "execution_count": 0,
   "metadata": {
    "colab": {},
    "colab_type": "code",
    "id": "cH_SB3tRsE07"
   },
   "outputs": [],
   "source": [
    "from gensim.models.keyedvectors import FastTextKeyedVectors\n",
    "MOD= FastTextKeyedVectors.load('/Users/nigula/input/araneum_none_fasttextcbow_300_5_2018/araneum_none_fasttextcbow_300_5_2018.model')"
   ]
  },
  {
   "cell_type": "code",
   "execution_count": 0,
   "metadata": {
    "colab": {},
    "colab_type": "code",
    "id": "YJX6Z2dQsE0_"
   },
   "outputs": [],
   "source": []
  },
  {
   "cell_type": "code",
   "execution_count": 0,
   "metadata": {
    "colab": {},
    "colab_type": "code",
    "id": "5H476975sE1B",
    "outputId": "30df069e-6f19-4980-b572-e169e08ba0a1",
    "scrolled": true
   },
   "outputs": [
    {
     "data": {
      "text/plain": [
       "array([ 0.02138138,  0.01521608,  0.00986125,  0.02197128,  0.06427927,\n",
       "       -0.05983834, -0.01036269,  0.11541053,  0.03949647,  0.1092683 ,\n",
       "       -0.03268374,  0.07753018, -0.01910948, -0.01419521, -0.03510416,\n",
       "       -0.00682221, -0.04483933,  0.02470068, -0.09457379,  0.04353607,\n",
       "       -0.05531164, -0.0661241 ,  0.08448623, -0.03727661, -0.0334726 ,\n",
       "       -0.0091603 , -0.019973  , -0.08635031,  0.06308096, -0.01417614,\n",
       "        0.02844894,  0.07066223,  0.03661515, -0.02241797,  0.00413776,\n",
       "        0.02788121,  0.00193861, -0.03643694,  0.00609269,  0.00339793,\n",
       "       -0.10118162, -0.06926611, -0.02972721,  0.06692997,  0.02539542,\n",
       "       -0.01415602,  0.05340702,  0.00175135, -0.03582824,  0.01966216,\n",
       "        0.0118806 ,  0.09134583,  0.01786702, -0.03293948,  0.03018913,\n",
       "        0.04765303, -0.03240753,  0.03975621,  0.07407223, -0.10373922,\n",
       "       -0.01794396,  0.01649946, -0.01978012,  0.0038766 , -0.02459781,\n",
       "       -0.04664146, -0.01794693,  0.0562874 ,  0.00174485,  0.03830188,\n",
       "       -0.04050888,  0.04395746,  0.01538204,  0.01920639,  0.06833242,\n",
       "        0.00431692, -0.02607976, -0.01425861,  0.00551537, -0.03233028,\n",
       "       -0.07066537, -0.00418476,  0.02327764, -0.0185284 ,  0.11412386,\n",
       "        0.00763024, -0.00090952, -0.04359652,  0.02328096,  0.03660957,\n",
       "        0.14361885,  0.23345295,  0.10235704,  0.02620183,  0.00464395,\n",
       "        0.02333102, -0.01555094,  0.00165928,  0.00864888, -0.04162374,\n",
       "       -0.10616017,  0.00799934,  0.07997725,  0.00711623,  0.03785124,\n",
       "        0.00854497, -0.02761322,  0.03822472,  0.05527895, -0.04857942,\n",
       "        0.02196639,  0.01280134, -0.08177077,  0.01084061, -0.02865081,\n",
       "        0.03524111, -0.02521828, -0.01379196, -0.09764193,  0.0250622 ,\n",
       "       -0.05557987, -0.00540766,  0.05565878,  0.08703735, -0.01501891,\n",
       "        0.10186526,  0.02667707,  0.01841419, -0.07674198,  0.03734567,\n",
       "        0.03824984, -0.01952965,  0.11235105, -0.0840525 , -0.01844532,\n",
       "        0.09339644,  0.06935468,  0.07866946, -0.00585476,  0.09953301,\n",
       "       -0.13751951,  0.06001747,  0.0123468 ,  0.12014138, -0.05843075,\n",
       "       -0.09301843,  0.03061134,  0.00995575,  0.00237644,  0.09172063,\n",
       "       -0.01915856,  0.10396091, -0.05310688, -0.03496263, -0.11060013,\n",
       "        0.06656688, -0.06338782,  0.04089622,  0.09772369,  0.0978143 ,\n",
       "        0.06280524,  0.01198208, -0.02868967, -0.00395788, -0.00587028,\n",
       "        0.02504886, -0.0522816 ,  0.01173668, -0.13718572, -0.00289792,\n",
       "       -0.01452914,  0.03897234, -0.03842174, -0.09760359,  0.0057798 ,\n",
       "        0.02017874, -0.01962653, -0.03191812, -0.02980438, -0.00255593,\n",
       "        0.04386466,  0.0713683 ,  0.02779667,  0.03340527, -0.03576959,\n",
       "        0.00256951, -0.0507839 ,  0.01693988, -0.03945619, -0.02374157,\n",
       "        0.05061624, -0.07746214,  0.03663157, -0.13345785,  0.04941211,\n",
       "       -0.03097214,  0.06137781, -0.03114613,  0.03127447,  0.04069255,\n",
       "        0.1283342 , -0.01646408,  0.04421281,  0.00030568,  0.02570018,\n",
       "        0.03297702, -0.02023812, -0.02354429, -0.04354963,  0.05745483,\n",
       "       -0.02647885,  0.04213436,  0.06161758, -0.03142031, -0.0291359 ,\n",
       "       -0.0270802 ,  0.01612753,  0.02023027,  0.01503881, -0.01112629,\n",
       "       -0.08213472,  0.04662057,  0.02865126, -0.005564  , -0.0304307 ,\n",
       "       -0.00168683,  0.05979084, -0.03915584, -0.02951168, -0.01312868,\n",
       "       -0.09941254,  0.11839044,  0.052814  , -0.01691543,  0.00163459,\n",
       "        0.03698814, -0.04532215,  0.06955303, -0.0553485 , -0.03635368,\n",
       "        0.04610294, -0.03785643,  0.04030263,  0.01508134,  0.06537785,\n",
       "       -0.01188274, -0.08510736,  0.10476795, -0.0941463 , -0.12153708,\n",
       "        0.06354688, -0.0075214 , -0.11019873,  0.03607517, -0.1096128 ,\n",
       "       -0.02089453,  0.15357499,  0.11194974, -0.03433454, -0.06915935,\n",
       "        0.01855655,  0.00423869, -0.04240734, -0.02726391, -0.0845615 ,\n",
       "        0.03264098, -0.11041864,  0.00175337, -0.01886701, -0.0559902 ,\n",
       "       -0.08464356, -0.00509273, -0.10693544,  0.10180785, -0.0497932 ,\n",
       "        0.12569034, -0.03186777,  0.15946783, -0.02101031, -0.12471382,\n",
       "        0.00936839, -0.08793023, -0.01089422, -0.00389116,  0.09607045,\n",
       "        0.07000918, -0.00769543,  0.05175558, -0.00186771, -0.00212624,\n",
       "       -0.05280524, -0.01231772, -0.00146557, -0.03225961,  0.00876222,\n",
       "        0.05068265, -0.00186053,  0.05989864, -0.03774288,  0.02490134],\n",
       "      dtype=float32)"
      ]
     },
     "execution_count": 58,
     "metadata": {
      "tags": []
     },
     "output_type": "execute_result"
    }
   ],
   "source": [
    "MOD['мама']"
   ]
  },
  {
   "cell_type": "code",
   "execution_count": 0,
   "metadata": {
    "colab": {},
    "colab_type": "code",
    "id": "bsQoSiTpsE1D",
    "outputId": "7a804731-8b0b-4def-d96b-551b6bfdf454"
   },
   "outputs": [
    {
     "data": {
      "text/plain": [
       "0.8403615321417536"
      ]
     },
     "execution_count": 64,
     "metadata": {
      "tags": []
     },
     "output_type": "execute_result"
    }
   ],
   "source": [
    "l1 = \"maman\"\n",
    "l2 = 'maman famille'\n",
    "\n",
    "def get_vectors_sum(lemm_line, lang):\n",
    "    if lang == \"французский\": model = model_fr\n",
    "    elif lang == \"русский\": model = MOD\n",
    "    else:\n",
    "        print(\"NO_MODEL_FOUND\")\n",
    "        return np.zeros(shape = 300)\n",
    "    orig_vector = np.zeros(shape = 300)\n",
    "    for lemma in lemm_line.split():\n",
    "        #print(lemma)\n",
    "        try:\n",
    "            orig_vector += model[lemma]\n",
    "        except:\n",
    "            pass\n",
    "    return orig_vector\n",
    "\n",
    "def find_lines_similarity(line_1, line_2, lang):\n",
    "    l1_vect = get_vectors_sum(line_1, lang)\n",
    "    l2_vect = get_vectors_sum(line_2, lang)\n",
    "    cos_sim = cosine_similarity(l1_vect.reshape(1, -1), l2_vect.reshape(1, -1))[0][0]\n",
    "    #print(cos_sim)\n",
    "    return cos_sim\n",
    "\n",
    "find_lines_similarity(l1, l2, \"французский\")\n",
    "#find_lines_similarity(l1, l2, \"русский\")\n",
    "\n"
   ]
  },
  {
   "cell_type": "code",
   "execution_count": 13,
   "metadata": {
    "colab": {},
    "colab_type": "code",
    "id": "b5nBGKBesE1F"
   },
   "outputs": [],
   "source": [
    "def compare_pos(pos1, pos2):\n",
    "    if pos1 == pos2:\n",
    "        #print(\"abs eq\", pos1, pos2)\n",
    "        return True\n",
    "    elif pos1 in pos2 or pos2 in pos1:\n",
    "        #print(\"inclusive eq\", pos1, pos2)\n",
    "        return True\n",
    "    #print(\"no eq\", pos1, pos2)\n",
    "    return False\n",
    "def equate_empty_pos(pos1, pos2):\n",
    "    if pos1 == '': \n",
    "        pos1 = pos2\n",
    "        #print(\"pos1 eqauted\")\n",
    "    elif pos2 == '': \n",
    "        pos2 = pos1\n",
    "        #print(\"pos2 eqauted\")\n",
    "    return pos1, pos2"
   ]
  },
  {
   "cell_type": "code",
   "execution_count": 14,
   "metadata": {
    "colab": {},
    "colab_type": "code",
    "id": "3e2Oi9zEsE1I",
    "outputId": "b11ea4eb-ce5d-4ff4-fe9d-71cf89d3eab0"
   },
   "outputs": [
    {
     "data": {
      "text/plain": [
       "True"
      ]
     },
     "execution_count": 14,
     "metadata": {},
     "output_type": "execute_result"
    }
   ],
   "source": [
    "def find_lines_inclusive_similarity(line_1,line_2):\n",
    "    if line_1 in line_2: return True\n",
    "    elif line_2 in line_1: return True\n",
    "    else: return False\n",
    "    \n",
    "    \n",
    "find_lines_inclusive_similarity(\"chauffer\",\"réchauffer\")"
   ]
  },
  {
   "cell_type": "code",
   "execution_count": 0,
   "metadata": {
    "colab": {},
    "colab_type": "code",
    "id": "uuhN9ydQsE1O"
   },
   "outputs": [],
   "source": [
    "#handle indirect similarity\n",
    "handled_words = []\n",
    "for word_1 in list_1:\n",
    "    for word_2 in list_2:\n",
    "        word_1['pos'], word_2['pos'] = equate_empty_pos(word_1['pos'], word_2['pos'])\n",
    "        pos_eq = compare_pos(word_1['pos'],word_2['pos'])\n",
    "        if pos_eq == True and word_1['sence_word'] != word_2['sence_word'] and word_1['sence_word'] not in handled_words and word_2['sence_word'] not in handled_words:\n",
    "            sim = find_lines_similarity(word_1['sence_word'], word_2['sence_word'], lists_lang)\n",
    "            if sim > 0.9:\n",
    "                print('COS_SIM_WORKED', word_1['sence_word'], word_2['sence_word'])\n",
    "                if word_1['sence_word'] in cos_sim_dict:\n",
    "                    handled_words.append(word_2['sence_word'])\n",
    "                    cos_sim_dict[word_1['sence_word']].append(word_2['sence_word'])\n",
    "                   # overall_intersection[word_1_index] += '| ' + word_2\n",
    "\n",
    "                elif word_2['sence_word'] in cos_sim_dict:\n",
    "                     handled_words.append(word_1['sence_word'])\n",
    "                     cos_sim_dict[word_2['sence_word']].append(word_1['sence_word'])\n",
    "                else:\n",
    "                    cos_sim_dict[word_1['sence_word']] = [word_2['sence_word']]"
   ]
  },
  {
   "cell_type": "code",
   "execution_count": 0,
   "metadata": {
    "colab": {},
    "colab_type": "code",
    "id": "GGfkmfQlsE1R",
    "outputId": "0d5f9c3b-2e9c-47f5-8f46-4a32bb3d297d"
   },
   "outputs": [
    {
     "data": {
      "text/plain": [
       "1571135656.759556"
      ]
     },
     "execution_count": 199,
     "metadata": {
      "tags": []
     },
     "output_type": "execute_result"
    }
   ],
   "source": [
    "time.time()"
   ]
  },
  {
   "cell_type": "code",
   "execution_count": 15,
   "metadata": {
    "colab": {},
    "colab_type": "code",
    "id": "gTyURtRUsE1T",
    "outputId": "6796d6af-1702-4983-8ee8-be46ff4ee361"
   },
   "outputs": [
    {
     "name": "stdout",
     "output_type": "stream",
     "text": [
      "7.700920104980469e-05 passed get_two_target_lang_lists_intersection\n"
     ]
    },
    {
     "data": {
      "text/plain": [
       "['réchauffer']"
      ]
     },
     "execution_count": 15,
     "metadata": {},
     "output_type": "execute_result"
    }
   ],
   "source": [
    "def get_two_target_lang_lists_intersection(list_1, list_2, lists_lang):\n",
    "    start = time.time()\n",
    "    overall_intersection = []\n",
    "    cos_sim_dict ={}\n",
    "    #overall_intersection\n",
    "    for word_1 in list_1:\n",
    "        for word_2 in list_2:\n",
    "            #print(word_1, word_2)\n",
    "            word_1['pos'], word_2['pos'] = equate_empty_pos(word_1['pos'], word_2['pos'])\n",
    "            pos_eq = compare_pos(word_1['pos'],word_2['pos'])  \n",
    "            if pos_eq == True and word_1['sence_word'] == word_2['sence_word']:\n",
    "                #overall_intersection.append(word_1)\n",
    "                cos_sim_dict[word_1['sence_word']] = []\n",
    "    #print(cos_sim_dict)             \n",
    "    #GETET INTERSECTION LIST\n",
    "    for first_word in cos_sim_dict.keys():\n",
    "        intersect_element = first_word\n",
    "        for similar_word in cos_sim_dict[first_word]:\n",
    "            intersect_element += \" | \" + similar_word\n",
    "        overall_intersection.append(intersect_element)\n",
    "    print(time.time() - start, \"passed get_two_target_lang_lists_intersection\")\n",
    "    return overall_intersection\n",
    "\n",
    "fr_proc_1 = [{'sence_word': 'réchauffer', 'pos': 'v'}, {'sence_word': 'chaud', 'pos': 'v'}]\n",
    "\n",
    "fr_proc_2 = [{'sence_word': 'chaud', 'pos': 'adj'},\n",
    " {'sence_word': 'chaleureux', 'pos': 'adj'},\n",
    " {'sence_word': 'tiède', 'pos': 'adj'},\n",
    " {'sence_word': 'doux', 'pos': 'adj'},\n",
    " {'sence_word': 'bon', 'pos': 'adj/nm'},\n",
    " {'sence_word': 'cordial', 'pos': 'adj'},\n",
    " {'sence_word': 'réchauffer', 'pos': 'v'},\n",
    " {'sence_word': 'chauffer', 'pos': 'v'},\n",
    " {'sence_word': 'échauffer', 'pos': 'v'},\n",
    " {'sence_word': 'se réchauffer', 'pos': 'v'},\n",
    " {'sence_word': 'tiédir', 'pos': 'v'},\n",
    " {'sence_word': 'chaleur', 'pos': 'nf'},\n",
    " {'sence_word': 'accueil', 'pos': 'nm'},\n",
    " {'sence_word': 'chaleureusement', 'pos': 'adv'},\n",
    " {'sence_word': 'warm', 'pos': 'adv'},\n",
    " {'sence_word': 'accueillante', 'pos': 'adv'},\n",
    " {'sence_word': 'conviviale', 'pos': 'adv'}]\n",
    "get_two_target_lang_lists_intersection(fr_proc_1, fr_proc_2, \"fr\")      \n",
    "            "
   ]
  },
  {
   "cell_type": "code",
   "execution_count": 19,
   "metadata": {
    "colab": {},
    "colab_type": "code",
    "id": "Akx2-LChsE1V",
    "outputId": "196f265c-c623-400e-c213-85d7ba64d8f4"
   },
   "outputs": [
    {
     "name": "stdout",
     "output_type": "stream",
     "text": [
      "found_word_in /Users/nigula/LL/adjust_unigr_dict/lookup/reverso_en_fr/warm.xls\n",
      "definiotns_time 0.10599303245544434\n",
      "lemmat_time 6.198883056640625e-05\n",
      "found_word_in /Users/nigula/LL/adjust_unigr_dict/lookup/reverso_ru_fr/согревать.xls\n",
      "definiotns_time 0.07021808624267578\n",
      "lemmat_time 1.71661376953125e-05\n",
      "lang_1_to_target_words_dict [{'sence_word': 'chaud', 'pos': 'adj'}, {'sence_word': 'chaleureux', 'pos': 'adj'}, {'sence_word': 'tiède', 'pos': 'adj'}, {'sence_word': 'doux', 'pos': 'adj'}, {'sence_word': 'bon', 'pos': 'adj/nm'}, {'sence_word': 'cordial', 'pos': 'adj'}, {'sence_word': 'réchauffer', 'pos': 'v'}, {'sence_word': 'chauffer', 'pos': 'v'}, {'sence_word': 'échauffer', 'pos': 'v'}, {'sence_word': 'se réchauffer', 'pos': 'v'}, {'sence_word': 'tiédir', 'pos': 'v'}, {'sence_word': 'chaleur', 'pos': 'nf'}, {'sence_word': 'accueil', 'pos': 'nm'}, {'sence_word': 'chaleureusement', 'pos': 'adv'}, {'sence_word': 'warm', 'pos': 'adv'}, {'sence_word': 'accueillante', 'pos': 'adv'}, {'sence_word': 'conviviale', 'pos': 'adv'}, {'sence_word': 'bien au chaud', 'pos': 'adj'}, {'sence_word': 'enflammée', 'pos': 'adj'}] \n",
      "\n",
      "lang_2_to_target_words_dict [{'sence_word': 'réchauffer', 'pos': 'v'}, {'sence_word': 'chaud', 'pos': 'v'}]\n",
      "3.0994415283203125e-05 passed get_two_target_lang_lists_intersection\n"
     ]
    },
    {
     "data": {
      "text/plain": [
       "['réchauffer']"
      ]
     },
     "execution_count": 19,
     "metadata": {},
     "output_type": "execute_result"
    }
   ],
   "source": [
    "def get_cross_translate_reverso(word_lang_1, lang_1, word_lang_2, lang_2, target_lang, lemmatizer_func):\n",
    "    lang_1_to_target_words_dict = get_definitions_reverso(word_lang_1, lang_1, target_lang, print_output=True)\n",
    "    preprocess_words(lang_1_to_target_words_dict, lemmatizer_func)\n",
    "    \n",
    "    lang_2_to_target_words_dict = get_definitions_reverso(word_lang_2, lang_2, target_lang, print_output=True)\n",
    "    preprocess_words(lang_2_to_target_words_dict, lemmatizer_func)\n",
    "    \n",
    "    print(\"lang_1_to_target_words_dict\", lang_1_to_target_words_dict,\"\\n\")\n",
    "    print(\"lang_2_to_target_words_dict\", lang_2_to_target_words_dict)\n",
    "    \n",
    "    intersected_elements = get_two_target_lang_lists_intersection(lang_1_to_target_words_dict, lang_2_to_target_words_dict,\n",
    "                                                                 target_lang)\n",
    "    \n",
    "    if len(intersected_elements) == 0:intersected_elements.append(\"no_equality\")\n",
    "    return intersected_elements\n",
    "\n",
    "get_cross_translate_reverso(\"warm\", \"английский\", \"согревать\",\"русский\", \"французский\", fr_lemmatize)\n"
   ]
  },
  {
   "cell_type": "code",
   "execution_count": 0,
   "metadata": {
    "colab": {},
    "colab_type": "code",
    "id": "yOAvWR9OsE1X"
   },
   "outputs": [],
   "source": []
  },
  {
   "cell_type": "markdown",
   "metadata": {
    "colab_type": "text",
    "id": "xjOtQdlVsE1h"
   },
   "source": [
    "# en_ru_fr"
   ]
  },
  {
   "cell_type": "code",
   "execution_count": 0,
   "metadata": {
    "colab": {},
    "colab_type": "code",
    "id": "7xy_S8oRsE1i",
    "outputId": "ede9c64c-4749-49bd-a37d-73e44351304e"
   },
   "outputs": [
    {
     "data": {
      "text/html": [
       "<div>\n",
       "<style scoped>\n",
       "    .dataframe tbody tr th:only-of-type {\n",
       "        vertical-align: middle;\n",
       "    }\n",
       "\n",
       "    .dataframe tbody tr th {\n",
       "        vertical-align: top;\n",
       "    }\n",
       "\n",
       "    .dataframe thead th {\n",
       "        text-align: right;\n",
       "    }\n",
       "</style>\n",
       "<table border=\"1\" class=\"dataframe\">\n",
       "  <thead>\n",
       "    <tr style=\"text-align: right;\">\n",
       "      <th></th>\n",
       "      <th>Unnamed: 0</th>\n",
       "      <th>word</th>\n",
       "      <th>local_word</th>\n",
       "      <th>pos</th>\n",
       "      <th>examples</th>\n",
       "      <th>local_examples</th>\n",
       "    </tr>\n",
       "  </thead>\n",
       "  <tbody>\n",
       "    <tr>\n",
       "      <th>0</th>\n",
       "      <td>0</td>\n",
       "      <td>before</td>\n",
       "      <td>до</td>\n",
       "      <td>preposition</td>\n",
       "      <td>['before the war']</td>\n",
       "      <td>['до войны']</td>\n",
       "    </tr>\n",
       "    <tr>\n",
       "      <th>1</th>\n",
       "      <td>1</td>\n",
       "      <td>before</td>\n",
       "      <td>впереди</td>\n",
       "      <td>preposition</td>\n",
       "      <td>[]</td>\n",
       "      <td>[]</td>\n",
       "    </tr>\n",
       "    <tr>\n",
       "      <th>2</th>\n",
       "      <td>2</td>\n",
       "      <td>before</td>\n",
       "      <td>пред</td>\n",
       "      <td>preposition</td>\n",
       "      <td>[]</td>\n",
       "      <td>[]</td>\n",
       "    </tr>\n",
       "    <tr>\n",
       "      <th>3</th>\n",
       "      <td>3</td>\n",
       "      <td>before</td>\n",
       "      <td>накануне</td>\n",
       "      <td>preposition</td>\n",
       "      <td>[]</td>\n",
       "      <td>[]</td>\n",
       "    </tr>\n",
       "    <tr>\n",
       "      <th>4</th>\n",
       "      <td>4</td>\n",
       "      <td>before</td>\n",
       "      <td>передо</td>\n",
       "      <td>preposition</td>\n",
       "      <td>[]</td>\n",
       "      <td>[]</td>\n",
       "    </tr>\n",
       "  </tbody>\n",
       "</table>\n",
       "</div>"
      ],
      "text/plain": [
       "   Unnamed: 0    word local_word          pos            examples  \\\n",
       "0           0  before         до  preposition  ['before the war']   \n",
       "1           1  before    впереди  preposition                  []   \n",
       "2           2  before       пред  preposition                  []   \n",
       "3           3  before   накануне  preposition                  []   \n",
       "4           4  before     передо  preposition                  []   \n",
       "\n",
       "  local_examples  \n",
       "0   ['до войны']  \n",
       "1             []  \n",
       "2             []  \n",
       "3             []  \n",
       "4             []  "
      ]
     },
     "execution_count": 128,
     "metadata": {
      "tags": []
     },
     "output_type": "execute_result"
    }
   ],
   "source": [
    "df_en_ru_yandex = pd.read_csv(\"/Users/nigula/LL/adjust_unigr_dict/lookup results/yandex_lookup_en_ru_new_vs_pos.csv\")\n",
    "df_en_ru_yandex.head()"
   ]
  },
  {
   "cell_type": "code",
   "execution_count": 20,
   "metadata": {
    "colab": {},
    "colab_type": "code",
    "id": "Lt9oxF_3sE1k",
    "scrolled": true
   },
   "outputs": [],
   "source": [
    "def get_multilang_from_df(df, lookup_from, lookup_to, target_lang, target_lang_lemmatizer_func):\n",
    "    land_dict = {\"русский\":\"ru\",\"французский\":\"fr\", \"английский\":\"en\"}\n",
    "    eng_word_list = []\n",
    "    lang_1_word_list = []\n",
    "    lang_2_word_list = []\n",
    "    eng_word = 'first_word'\n",
    "    save_triple_path = land_dict[lookup_from] + '_' + land_dict[lookup_to] + '_' + land_dict[target_lang]\n",
    "    \n",
    "    start = False\n",
    "    \n",
    "    #for df_ind in tqdm(range(len(df))):\n",
    "    count = 0 \n",
    "    for index, row in tqdm(df.iterrows(), total=df.shape[0]):\n",
    "        if eng_word != row[\"word\"]: print(\"\\n************************************\\n\")\n",
    "        eng_word = row[\"word\"]\n",
    "        #if eng_word == \"trajet\": start = True\n",
    "        #if start == True:\n",
    "        loc_1_word = row[\"local_word\"]\n",
    "        print(eng_word, loc_1_word)\n",
    "        sense_intersect = get_cross_translate_reverso(eng_word, lookup_from, loc_1_word, lookup_to, target_lang, target_lang_lemmatizer_func)\n",
    "        #sense_intersect = get_cross_translate_yand(eng_word, \"en\", loc_1_word,\"ru\", \"fr\", fr_lemmatize)\n",
    "        print(\"\\n SENSE_INTERSECTION \", sense_intersect)\n",
    "        for sense_intersect_element in sense_intersect:\n",
    "            eng_word_list.append(eng_word)\n",
    "            lang_1_word_list.append(loc_1_word)\n",
    "            lang_2_word_list.append(sense_intersect_element)\n",
    "\n",
    "\n",
    "        if count % 10 == 0 and count != 0:\n",
    "\n",
    "            save_path = os.path.join(\"/Users/nigula/LL/adjust_unigr_dict/reverse_connected_dicts/cross_barbos\",\n",
    "                         save_triple_path, str(count) + \".csv\")\n",
    "            print(save_path)\n",
    "            data = pd.DataFrame(list(zip(eng_word_list, lang_1_word_list,lang_2_word_list)),\n",
    "                        columns =[land_dict[lookup_from], land_dict[lookup_to], land_dict[target_lang]])\n",
    "            data.to_csv(save_path)\n",
    "        count += 1\n",
    "            \n",
    "    data = pd.DataFrame(list(zip(eng_word_list, lang_1_word_list,lang_2_word_list)),\n",
    "                        columns =[land_dict[lookup_from], land_dict[lookup_to], land_dict[target_lang]])\n",
    "    \n",
    "    return data\n",
    "\n",
    "#df_din = get_multilang_from_df(df_en_ru_yandex, \"английский\", \"русский\", \"французский\", fr_lemmatize)\n",
    "#df_din.head()"
   ]
  },
  {
   "cell_type": "markdown",
   "metadata": {
    "colab_type": "text",
    "id": "xNEeBMK-sE1m"
   },
   "source": [
    "# EN_RU_FR"
   ]
  },
  {
   "cell_type": "code",
   "execution_count": 21,
   "metadata": {
    "colab": {},
    "colab_type": "code",
    "id": "u7s0z0hvsE1m",
    "outputId": "e6f2f303-1bfd-4521-8094-dc5813fe8012"
   },
   "outputs": [
    {
     "data": {
      "text/html": [
       "<div>\n",
       "<style scoped>\n",
       "    .dataframe tbody tr th:only-of-type {\n",
       "        vertical-align: middle;\n",
       "    }\n",
       "\n",
       "    .dataframe tbody tr th {\n",
       "        vertical-align: top;\n",
       "    }\n",
       "\n",
       "    .dataframe thead th {\n",
       "        text-align: right;\n",
       "    }\n",
       "</style>\n",
       "<table border=\"1\" class=\"dataframe\">\n",
       "  <thead>\n",
       "    <tr style=\"text-align: right;\">\n",
       "      <th></th>\n",
       "      <th>Unnamed: 0</th>\n",
       "      <th>word</th>\n",
       "      <th>local_word</th>\n",
       "      <th>pos</th>\n",
       "      <th>examples</th>\n",
       "      <th>local_examples</th>\n",
       "    </tr>\n",
       "  </thead>\n",
       "  <tbody>\n",
       "    <tr>\n",
       "      <th>0</th>\n",
       "      <td>0</td>\n",
       "      <td>youngling</td>\n",
       "      <td>детеныш</td>\n",
       "      <td>noun</td>\n",
       "      <td>[]</td>\n",
       "      <td>[]</td>\n",
       "    </tr>\n",
       "    <tr>\n",
       "      <th>1</th>\n",
       "      <td>1</td>\n",
       "      <td>youngling</td>\n",
       "      <td>юнец</td>\n",
       "      <td>noun</td>\n",
       "      <td>[]</td>\n",
       "      <td>[]</td>\n",
       "    </tr>\n",
       "    <tr>\n",
       "      <th>2</th>\n",
       "      <td>2</td>\n",
       "      <td>asperity</td>\n",
       "      <td>лишения</td>\n",
       "      <td>noun</td>\n",
       "      <td>[]</td>\n",
       "      <td>[]</td>\n",
       "    </tr>\n",
       "    <tr>\n",
       "      <th>3</th>\n",
       "      <td>3</td>\n",
       "      <td>asperity</td>\n",
       "      <td>шероховатость</td>\n",
       "      <td>noun</td>\n",
       "      <td>[]</td>\n",
       "      <td>[]</td>\n",
       "    </tr>\n",
       "    <tr>\n",
       "      <th>4</th>\n",
       "      <td>4</td>\n",
       "      <td>asperity</td>\n",
       "      <td>резкость</td>\n",
       "      <td>noun</td>\n",
       "      <td>[]</td>\n",
       "      <td>[]</td>\n",
       "    </tr>\n",
       "  </tbody>\n",
       "</table>\n",
       "</div>"
      ],
      "text/plain": [
       "   Unnamed: 0       word     local_word   pos examples local_examples\n",
       "0           0  youngling        детеныш  noun       []             []\n",
       "1           1  youngling           юнец  noun       []             []\n",
       "2           2   asperity        лишения  noun       []             []\n",
       "3           3   asperity  шероховатость  noun       []             []\n",
       "4           4   asperity       резкость  noun       []             []"
      ]
     },
     "execution_count": 21,
     "metadata": {},
     "output_type": "execute_result"
    }
   ],
   "source": [
    "df_en_ru_yandex = pd.read_csv(\"/Users/nigula/LL/adjust_unigr_dict/lookup results/yandex_lookup_en_ru_new_vs_pos_to_37353_no_freq.csv\")\n",
    "df_en_ru_yandex.head()"
   ]
  },
  {
   "cell_type": "code",
   "execution_count": 22,
   "metadata": {
    "colab": {},
    "colab_type": "code",
    "id": "rbJ11F39sE1t",
    "outputId": "d4320525-f25d-4372-83cd-9a88d93cb173"
   },
   "outputs": [
    {
     "name": "stdout",
     "output_type": "stream",
     "text": [
      "<class 'pandas.core.frame.DataFrame'>\n",
      "RangeIndex: 120000 entries, 0 to 119999\n",
      "Data columns (total 6 columns):\n",
      "Unnamed: 0        120000 non-null int64\n",
      "word              120000 non-null object\n",
      "local_word        120000 non-null object\n",
      "pos               120000 non-null object\n",
      "examples          120000 non-null object\n",
      "local_examples    120000 non-null object\n",
      "dtypes: int64(1), object(5)\n",
      "memory usage: 5.5+ MB\n"
     ]
    }
   ],
   "source": [
    "df_en_ru_yandex.info()"
   ]
  },
  {
   "cell_type": "code",
   "execution_count": 24,
   "metadata": {
    "colab": {},
    "colab_type": "code",
    "id": "s_B5Xtmiuhsx"
   },
   "outputs": [
    {
     "name": "stderr",
     "output_type": "stream",
     "text": [
      "\r",
      "  0%|          | 0/120000 [00:00<?, ?it/s]"
     ]
    },
    {
     "name": "stdout",
     "output_type": "stream",
     "text": [
      "\n",
      "************************************\n",
      "\n",
      "youngling детеныш\n",
      "found_word_in /Users/nigula/LL/adjust_unigr_dict/lookup/reverso_en_fr/youngling.xls\n"
     ]
    },
    {
     "name": "stderr",
     "output_type": "stream",
     "text": [
      "\r",
      "  0%|          | 1/120000 [00:00<12:52:04,  2.59it/s]"
     ]
    },
    {
     "name": "stdout",
     "output_type": "stream",
     "text": [
      "definiotns_time 0.24503612518310547\n",
      "lemmat_time 1.9073486328125e-05\n",
      "found_word_in /Users/nigula/LL/adjust_unigr_dict/lookup/reverso_ru_fr/детеныш.xls\n",
      "definiotns_time 0.08924221992492676\n",
      "lemmat_time 1.4781951904296875e-05\n",
      "lang_1_to_target_words_dict [{'sence_word': 'fillot', 'pos': 'n'}, {'sence_word': 'petit', 'pos': 'n'}, {'sence_word': 'jeunes jedi', 'pos': 'n'}] \n",
      "\n",
      "lang_2_to_target_words_dict [{'sence_word': 'bébé', 'pos': 'nm'}, {'sence_word': 'petit', 'pos': 'nm'}]\n",
      "9.059906005859375e-06 passed get_two_target_lang_lists_intersection\n",
      "\n",
      " SENSE_INTERSECTION  ['petit']\n",
      "youngling юнец\n",
      "found_word_in /Users/nigula/LL/adjust_unigr_dict/lookup/reverso_en_fr/youngling.xls\n",
      "definiotns_time 0.08182191848754883\n",
      "lemmat_time 1.6927719116210938e-05\n",
      "found_word_in /Users/nigula/LL/adjust_unigr_dict/lookup/reverso_ru_fr/юнец.xls\n"
     ]
    },
    {
     "name": "stderr",
     "output_type": "stream",
     "text": [
      "\r",
      "  0%|          | 2/120000 [00:00<10:36:19,  3.14it/s]"
     ]
    },
    {
     "name": "stdout",
     "output_type": "stream",
     "text": [
      "definiotns_time 0.07413887977600098\n",
      "lemmat_time 2.4080276489257812e-05\n",
      "lang_1_to_target_words_dict [{'sence_word': 'fillot', 'pos': 'n'}, {'sence_word': 'petit', 'pos': 'n'}, {'sence_word': 'jeunes jedi', 'pos': 'n'}] \n",
      "\n",
      "lang_2_to_target_words_dict [{'sence_word': 'jeune homme', 'pos': 'nm'}, {'sence_word': 'tout jeune', 'pos': 'nm'}, {'sence_word': 'gamin', 'pos': 'nm'}, {'sence_word': 'junior', 'pos': 'nm'}, {'sence_word': 'blanc-bec', 'pos': 'nm'}]\n",
      "1.7881393432617188e-05 passed get_two_target_lang_lists_intersection\n",
      "\n",
      " SENSE_INTERSECTION  ['no_equality']\n",
      "\n",
      "************************************\n",
      "\n",
      "asperity лишения\n",
      "found_word_in /Users/nigula/LL/adjust_unigr_dict/lookup/reverso_en_fr/asperity.xls\n",
      "definiotns_time 0.15161395072937012\n",
      "lemmat_time 1.9073486328125e-05\n",
      "found_word_in /Users/nigula/LL/adjust_unigr_dict/lookup/reverso_ru_fr/лишения.xls\n"
     ]
    },
    {
     "name": "stderr",
     "output_type": "stream",
     "text": [
      "\r",
      "  0%|          | 3/120000 [00:00<9:42:27,  3.43it/s] "
     ]
    },
    {
     "name": "stdout",
     "output_type": "stream",
     "text": [
      "definiotns_time 0.07378602027893066\n",
      "lemmat_time 5.0067901611328125e-05\n",
      "lang_1_to_target_words_dict [{'sence_word': 'aspérité', 'pos': 'nf'}, {'sence_word': 'rudesse', 'pos': 'nf'}, {'sence_word': 'rugosité', 'pos': 'nf'}] \n",
      "\n",
      "lang_2_to_target_words_dict [{'sence_word': 'privation', 'pos': 'nf'}, {'sence_word': 'dénuement', 'pos': 'nm'}, {'sence_word': 'déchéance', 'pos': 'nf'}, {'sence_word': 'priver', 'pos': 'nf'}, {'sence_word': 'difficulté', 'pos': 'nf'}, {'sence_word': 'misère', 'pos': 'nf'}, {'sence_word': 'peine privative', 'pos': 'nf'}, {'sence_word': 'retrait', 'pos': 'nm'}, {'sence_word': 'perte', 'pos': 'nf'}, {'sence_word': 'déni', 'pos': 'nm'}, {'sence_word': 'dénationalisation', 'pos': 'nm'}, {'sence_word': 'révocation', 'pos': 'nm'}, {'sence_word': 'dépossession', 'pos': 'nm'}]\n",
      "3.0994415283203125e-05 passed get_two_target_lang_lists_intersection\n",
      "\n",
      " SENSE_INTERSECTION  ['no_equality']\n",
      "asperity шероховатость\n",
      "found_word_in /Users/nigula/LL/adjust_unigr_dict/lookup/reverso_en_fr/asperity.xls\n",
      "definiotns_time 0.17727088928222656\n",
      "lemmat_time 2.5987625122070312e-05\n",
      "found_word_in /Users/nigula/LL/adjust_unigr_dict/lookup/reverso_ru_fr/шероховатость.xls\n"
     ]
    },
    {
     "name": "stderr",
     "output_type": "stream",
     "text": [
      "\r",
      "  0%|          | 4/120000 [00:01<9:47:00,  3.41it/s]"
     ]
    },
    {
     "name": "stdout",
     "output_type": "stream",
     "text": [
      "definiotns_time 0.11339592933654785\n",
      "lemmat_time 1.52587890625e-05\n",
      "lang_1_to_target_words_dict [{'sence_word': 'aspérité', 'pos': 'nf'}, {'sence_word': 'rudesse', 'pos': 'nf'}, {'sence_word': 'rugosité', 'pos': 'nf'}] \n",
      "\n",
      "lang_2_to_target_words_dict [{'sence_word': 'rugosité', 'pos': 'n'}]\n",
      "1.2159347534179688e-05 passed get_two_target_lang_lists_intersection\n",
      "\n",
      " SENSE_INTERSECTION  ['rugosité']\n",
      "asperity резкость\n",
      "found_word_in /Users/nigula/LL/adjust_unigr_dict/lookup/reverso_en_fr/asperity.xls\n",
      "definiotns_time 0.08810806274414062\n",
      "lemmat_time 1.8835067749023438e-05\n",
      "found_word_in /Users/nigula/LL/adjust_unigr_dict/lookup/reverso_ru_fr/резкость.xls\n"
     ]
    },
    {
     "name": "stderr",
     "output_type": "stream",
     "text": [
      "\r",
      "  0%|          | 5/120000 [00:01<9:36:37,  3.47it/s]"
     ]
    },
    {
     "name": "stdout",
     "output_type": "stream",
     "text": [
      "definiotns_time 0.18576288223266602\n",
      "lemmat_time 2.09808349609375e-05\n",
      "lang_1_to_target_words_dict [{'sence_word': 'aspérité', 'pos': 'nf'}, {'sence_word': 'rudesse', 'pos': 'nf'}, {'sence_word': 'rugosité', 'pos': 'nf'}] \n",
      "\n",
      "lang_2_to_target_words_dict [{'sence_word': 'violence', 'pos': 'nf'}, {'sence_word': 'affine', 'pos': 'nf'}]\n",
      "1.1920928955078125e-05 passed get_two_target_lang_lists_intersection\n",
      "\n",
      " SENSE_INTERSECTION  ['no_equality']\n",
      "asperity выступ\n",
      "found_word_in /Users/nigula/LL/adjust_unigr_dict/lookup/reverso_en_fr/asperity.xls\n",
      "definiotns_time 0.12813806533813477\n",
      "lemmat_time 2.002716064453125e-05\n",
      "found_word_in /Users/nigula/LL/adjust_unigr_dict/lookup/reverso_ru_fr/выступ.xls\n"
     ]
    },
    {
     "name": "stderr",
     "output_type": "stream",
     "text": [
      "  0%|          | 7/120000 [00:01<8:17:23,  4.02it/s]"
     ]
    },
    {
     "name": "stdout",
     "output_type": "stream",
     "text": [
      "definiotns_time 0.09280991554260254\n",
      "lemmat_time 2.3126602172851562e-05\n",
      "lang_1_to_target_words_dict [{'sence_word': 'aspérité', 'pos': 'nf'}, {'sence_word': 'rudesse', 'pos': 'nf'}, {'sence_word': 'rugosité', 'pos': 'nf'}] \n",
      "\n",
      "lang_2_to_target_words_dict [{'sence_word': 'saillie', 'pos': 'n'}, {'sence_word': 'rebord', 'pos': 'nm'}, {'sence_word': 'corniche', 'pos': 'nf'}, {'sence_word': 'rocher', 'pos': 'nf'}]\n",
      "1.6927719116210938e-05 passed get_two_target_lang_lists_intersection\n",
      "\n",
      " SENSE_INTERSECTION  ['no_equality']\n",
      "asperity строгость\n",
      "found_word_in /Users/nigula/LL/adjust_unigr_dict/lookup/reverso_en_fr/asperity.xls\n",
      "definiotns_time 0.11706805229187012\n",
      "lemmat_time 2.09808349609375e-05\n",
      "found_word_in /Users/nigula/LL/adjust_unigr_dict/lookup/reverso_ru_fr/строгость.xls\n",
      "definiotns_time 0.07349896430969238\n",
      "lemmat_time 1.811981201171875e-05\n",
      "lang_1_to_target_words_dict [{'sence_word': 'aspérité', 'pos': 'nf'}, {'sence_word': 'rudesse', 'pos': 'nf'}, {'sence_word': 'rugosité', 'pos': 'nf'}] \n",
      "\n",
      "lang_2_to_target_words_dict [{'sence_word': 'rigueur', 'pos': 'nf'}, {'sence_word': 'sévérité', 'pos': 'n'}, {'sence_word': 'austérité', 'pos': 'nf'}]\n",
      "1.0013580322265625e-05 passed get_two_target_lang_lists_intersection\n",
      "\n",
      " SENSE_INTERSECTION  ['no_equality']\n",
      "\n",
      "************************************\n",
      "\n",
      "embolden поощрять\n",
      "found_word_in /Users/nigula/LL/adjust_unigr_dict/lookup/reverso_en_fr/embolden.xls\n",
      "definiotns_time 0.0904991626739502\n",
      "lemmat_time 1.5974044799804688e-05\n",
      "found_word_in /Users/nigula/LL/adjust_unigr_dict/lookup/reverso_ru_fr/поощрять.xls\n"
     ]
    },
    {
     "name": "stderr",
     "output_type": "stream",
     "text": [
      "  0%|          | 9/120000 [00:02<8:15:48,  4.03it/s]"
     ]
    },
    {
     "name": "stdout",
     "output_type": "stream",
     "text": [
      "definiotns_time 0.2860531806945801\n",
      "lemmat_time 7.414817810058594e-05\n",
      "lang_1_to_target_words_dict [{'sence_word': 'encourager', 'pos': 'v'}, {'sence_word': 'enhardir', 'pos': 'v'}] \n",
      "\n",
      "lang_2_to_target_words_dict [{'sence_word': 'encourager', 'pos': 'v'}, {'sence_word': 'promouvoir', 'pos': 'v'}, {'sence_word': 'favoriser', 'pos': 'v'}, {'sence_word': 'inciter', 'pos': 'v'}, {'sence_word': 'faciliter', 'pos': 'v'}, {'sence_word': 'récompenser', 'pos': 'v'}, {'sence_word': 'promotion', 'pos': 'v'}, {'sence_word': 'stimuler', 'pos': 'v'}, {'sence_word': 'soutenir', 'pos': 'v'}]\n",
      "2.574920654296875e-05 passed get_two_target_lang_lists_intersection\n",
      "\n",
      " SENSE_INTERSECTION  ['encourager']\n",
      "embolden придать смелости\n",
      "found_word_in /Users/nigula/LL/adjust_unigr_dict/lookup/reverso_en_fr/embolden.xls\n",
      "definiotns_time 0.07508087158203125\n",
      "lemmat_time 1.621246337890625e-05\n",
      "found_word_in /Users/nigula/LL/adjust_unigr_dict/lookup/reverso_ru_fr/придать смелости.xls\n",
      "definiotns_time 0.06848788261413574\n",
      "lemmat_time 3.1948089599609375e-05\n",
      "lang_1_to_target_words_dict [{'sence_word': 'encourager', 'pos': 'v'}, {'sence_word': 'enhardir', 'pos': 'v'}] \n",
      "\n",
      "lang_2_to_target_words_dict [{'sence_word': 'donner', 'pos': ''}, {'sence_word': 'rendre', 'pos': ''}, {'sence_word': 'accorder', 'pos': ''}, {'sence_word': 'imprimer', 'pos': ''}, {'sence_word': 'conférer', 'pos': ''}, {'sence_word': 'courage', 'pos': ''}, {'sence_word': 'audace', 'pos': ''}, {'sence_word': 'enhardi', 'pos': ''}, {'sence_word': 'courageux pour', 'pos': ''}]\n",
      "1.621246337890625e-05 passed get_two_target_lang_lists_intersection\n",
      "\n",
      " SENSE_INTERSECTION  ['no_equality']\n",
      "embolden вдохновить\n",
      "found_word_in /Users/nigula/LL/adjust_unigr_dict/lookup/reverso_en_fr/embolden.xls\n"
     ]
    },
    {
     "name": "stderr",
     "output_type": "stream",
     "text": [
      "\r",
      "  0%|          | 10/120000 [00:02<7:13:37,  4.61it/s]"
     ]
    },
    {
     "name": "stdout",
     "output_type": "stream",
     "text": [
      "definiotns_time 0.06592297554016113\n",
      "lemmat_time 2.9802322387695312e-05\n",
      "found_word_in /Users/nigula/LL/adjust_unigr_dict/lookup/reverso_ru_fr/вдохновить.xls\n",
      "definiotns_time 0.07407903671264648\n",
      "lemmat_time 1.9073486328125e-05\n",
      "lang_1_to_target_words_dict [{'sence_word': 'encourager', 'pos': 'v'}, {'sence_word': 'enhardir', 'pos': 'v'}] \n",
      "\n",
      "lang_2_to_target_words_dict [{'sence_word': 'inspirer', 'pos': 'v'}, {'sence_word': \"être une source d'inspiration\", 'pos': 'v'}, {'sence_word': 'motiver', 'pos': 'v'}, {'sence_word': 'inciter', 'pos': 'v'}]\n",
      "1.0013580322265625e-05 passed get_two_target_lang_lists_intersection\n",
      "\n",
      " SENSE_INTERSECTION  ['no_equality']\n",
      "\n",
      "************************************\n",
      "\n",
      "for для\n",
      "found_word_in /Users/nigula/LL/adjust_unigr_dict/lookup/reverso_en_fr/for.xls\n",
      "definiotns_time 0.08920407295227051\n",
      "lemmat_time 0.00011229515075683594\n",
      "found_word_in /Users/nigula/LL/adjust_unigr_dict/lookup/reverso_ru_fr/для.xls\n"
     ]
    },
    {
     "name": "stderr",
     "output_type": "stream",
     "text": [
      "\r",
      "  0%|          | 11/120000 [00:02<7:08:50,  4.66it/s]"
     ]
    },
    {
     "name": "stdout",
     "output_type": "stream",
     "text": [
      "definiotns_time 0.10297513008117676\n",
      "lemmat_time 5.91278076171875e-05\n",
      "lang_1_to_target_words_dict [{'sence_word': 'pour', 'pos': 'adv'}, {'sence_word': 'pendant', 'pos': 'adv'}, {'sence_word': 'car', 'pos': 'adv'}, {'sence_word': 'malgré', 'pos': 'adv'}, {'sence_word': 'au titre de', 'pos': 'adv'}, {'sence_word': 'à destination de', 'pos': 'adv'}, {'sence_word': 'de', 'pos': 'adv'}, {'sence_word': 'à', 'pos': 'adv'}, {'sence_word': 'aux', 'pos': 'adv'}, {'sence_word': 'par', 'pos': 'adv'}, {'sence_word': 'permettant', 'pos': 'adv'}, {'sence_word': 'dans', 'pos': 'adv'}, {'sence_word': 'destiné', 'pos': 'adv'}, {'sence_word': 'depuis', 'pos': 'adv'}, {'sence_word': 'au', 'pos': 'adv'}, {'sence_word': 'que', 'pos': 'adv'}, {'sence_word': 'en', 'pos': 'adv'}, {'sence_word': 'sur', 'pos': 'adv'}, {'sence_word': 'durant', 'pos': 'adv'}, {'sence_word': 'moyennant', 'pos': 'adv'}, {'sence_word': 'puisque', 'pos': 'adv'}, {'sence_word': \"à l'intention de\", 'pos': 'adv'}, {'sence_word': 'en faveur de', 'pos': 'adv'}, {'sence_word': 'en raison de', 'pos': 'adv'}, {'sence_word': 'à la destination de', 'pos': 'adv'}] \n",
      "\n",
      "lang_2_to_target_words_dict [{'sence_word': 'pour', 'pos': 'adv'}, {'sence_word': 'qui', 'pos': 'adv'}, {'sence_word': 'à', 'pos': 'adv'}, {'sence_word': \"d'\", 'pos': 'adv'}, {'sence_word': 'aux', 'pos': 'adv'}, {'sence_word': 'afin', 'pos': 'adv'}, {'sence_word': 'de', 'pos': 'adv'}, {'sence_word': 'sur', 'pos': 'adv'}, {'sence_word': 'dans', 'pos': 'adv'}, {'sence_word': 'au', 'pos': 'adv'}, {'sence_word': 'vue', 'pos': 'adv'}, {'sence_word': 'en', 'pos': 'adv'}, {'sence_word': 'par', 'pos': 'adv'}, {'sence_word': \"c'\", 'pos': 'adv'}, {'sence_word': \"à l'intention de\", 'pos': 'adv'}, {'sence_word': 'juste pour', 'pos': 'adv'}, {'sence_word': \"à l'usage de\", 'pos': 'adv'}, {'sence_word': 'en vue de', 'pos': 'adv'}, {'sence_word': \"à l'attention de\", 'pos': 'adv'}]\n",
      "0.00030994415283203125 passed get_two_target_lang_lists_intersection\n",
      "\n",
      " SENSE_INTERSECTION  ['pour', 'de', 'à', 'aux', 'par', 'dans', 'au', 'en', 'sur', \"à l'intention de\"]\n",
      "/Users/nigula/LL/adjust_unigr_dict/reverse_connected_dicts/cross_barbos/en_ru_fr/10.csv\n",
      "for ради\n",
      "found_word_in /Users/nigula/LL/adjust_unigr_dict/lookup/reverso_en_fr/for.xls\n",
      "definiotns_time 0.07941079139709473\n",
      "lemmat_time 7.486343383789062e-05\n",
      "going to find word in https://context.reverso.net/перевод/русский-французский/ради\n"
     ]
    },
    {
     "name": "stderr",
     "output_type": "stream",
     "text": [
      "\r",
      "  0%|          | 12/120000 [00:03<11:40:01,  2.86it/s]"
     ]
    },
    {
     "name": "stdout",
     "output_type": "stream",
     "text": [
      "saved to directory /Users/nigula/LL/adjust_unigr_dict/lookup/reverso_ru_fr/ради.xls\n",
      "request_time 0.5542011260986328\n",
      "definiotns_time 0.582423210144043\n",
      "lemmat_time 0.00010085105895996094\n",
      "lang_1_to_target_words_dict [{'sence_word': 'pour', 'pos': 'adv'}, {'sence_word': 'pendant', 'pos': 'adv'}, {'sence_word': 'car', 'pos': 'adv'}, {'sence_word': 'malgré', 'pos': 'adv'}, {'sence_word': 'au titre de', 'pos': 'adv'}, {'sence_word': 'à destination de', 'pos': 'adv'}, {'sence_word': 'de', 'pos': 'adv'}, {'sence_word': 'à', 'pos': 'adv'}, {'sence_word': 'aux', 'pos': 'adv'}, {'sence_word': 'par', 'pos': 'adv'}, {'sence_word': 'permettant', 'pos': 'adv'}, {'sence_word': 'dans', 'pos': 'adv'}, {'sence_word': 'destiné', 'pos': 'adv'}, {'sence_word': 'depuis', 'pos': 'adv'}, {'sence_word': 'au', 'pos': 'adv'}, {'sence_word': 'que', 'pos': 'adv'}, {'sence_word': 'en', 'pos': 'adv'}, {'sence_word': 'sur', 'pos': 'adv'}, {'sence_word': 'durant', 'pos': 'adv'}, {'sence_word': 'moyennant', 'pos': 'adv'}, {'sence_word': 'puisque', 'pos': 'adv'}, {'sence_word': \"à l'intention de\", 'pos': 'adv'}, {'sence_word': 'en faveur de', 'pos': 'adv'}, {'sence_word': 'en raison de', 'pos': 'adv'}, {'sence_word': 'à la destination de', 'pos': 'adv'}] \n",
      "\n",
      "lang_2_to_target_words_dict [{'sence_word': 'pour', 'pos': 'adv'}, {'sence_word': 'cause', 'pos': 'adv'}, {'sence_word': 'au nom', 'pos': 'adv'}, {'sence_word': 'pourquoi', 'pos': 'adv'}, {'sence_word': 'amour', 'pos': 'adv'}, {'sence_word': 'afin', 'pos': 'adv'}, {'sence_word': 'intérêt', 'pos': 'adv'}, {'sence_word': 'raison', 'pos': 'adv'}, {'sence_word': 'propos', 'pos': 'adv'}, {'sence_word': 'en vue', 'pos': 'adv'}, {'sence_word': 'argent', 'pos': 'adv'}, {'sence_word': 'but', 'pos': 'adv'}, {'sence_word': 'faire', 'pos': 'adv'}, {'sence_word': 'agit', 'pos': 'adv'}, {'sence_word': 'au service', 'pos': 'adv'}]\n",
      "0.0002429485321044922 passed get_two_target_lang_lists_intersection\n",
      "\n",
      " SENSE_INTERSECTION  ['pour']\n",
      "for в течение\n",
      "found_word_in /Users/nigula/LL/adjust_unigr_dict/lookup/reverso_en_fr/for.xls\n"
     ]
    },
    {
     "name": "stderr",
     "output_type": "stream",
     "text": [
      "\r",
      "  0%|          | 13/120000 [00:03<10:04:11,  3.31it/s]"
     ]
    },
    {
     "name": "stdout",
     "output_type": "stream",
     "text": [
      "definiotns_time 0.10773777961730957\n",
      "lemmat_time 7.295608520507812e-05\n",
      "found_word_in /Users/nigula/LL/adjust_unigr_dict/lookup/reverso_ru_fr/в течение.xls\n",
      "definiotns_time 0.0760810375213623\n",
      "lemmat_time 7.82012939453125e-05\n",
      "lang_1_to_target_words_dict [{'sence_word': 'pour', 'pos': 'adv'}, {'sence_word': 'pendant', 'pos': 'adv'}, {'sence_word': 'car', 'pos': 'adv'}, {'sence_word': 'malgré', 'pos': 'adv'}, {'sence_word': 'au titre de', 'pos': 'adv'}, {'sence_word': 'à destination de', 'pos': 'adv'}, {'sence_word': 'de', 'pos': 'adv'}, {'sence_word': 'à', 'pos': 'adv'}, {'sence_word': 'aux', 'pos': 'adv'}, {'sence_word': 'par', 'pos': 'adv'}, {'sence_word': 'permettant', 'pos': 'adv'}, {'sence_word': 'dans', 'pos': 'adv'}, {'sence_word': 'destiné', 'pos': 'adv'}, {'sence_word': 'depuis', 'pos': 'adv'}, {'sence_word': 'au', 'pos': 'adv'}, {'sence_word': 'que', 'pos': 'adv'}, {'sence_word': 'en', 'pos': 'adv'}, {'sence_word': 'sur', 'pos': 'adv'}, {'sence_word': 'durant', 'pos': 'adv'}, {'sence_word': 'moyennant', 'pos': 'adv'}, {'sence_word': 'puisque', 'pos': 'adv'}, {'sence_word': \"à l'intention de\", 'pos': 'adv'}, {'sence_word': 'en faveur de', 'pos': 'adv'}, {'sence_word': 'en raison de', 'pos': 'adv'}, {'sence_word': 'à la destination de', 'pos': 'adv'}] \n",
      "\n",
      "lang_2_to_target_words_dict [{'sence_word': 'pendant', 'pos': 'adv'}, {'sence_word': 'dans le délai', 'pos': 'adv'}, {'sence_word': 'au cours', 'pos': 'adv'}, {'sence_word': 'durant', 'pos': 'adv'}, {'sence_word': 'dans les', 'pos': 'adv'}, {'sence_word': 'dans un délai', 'pos': 'adv'}, {'sence_word': 'au fil', 'pos': 'adv'}, {'sence_word': 'sur une période', 'pos': 'adv'}, {'sence_word': 'pour une période', 'pos': 'adv'}, {'sence_word': 'lors', 'pos': 'adv'}, {'sence_word': 'par', 'pos': 'adv'}, {'sence_word': \"d'ici à\", 'pos': 'adv'}, {'sence_word': \"en l'espace de\", 'pos': 'adv'}, {'sence_word': 'lors de', 'pos': 'adv'}, {'sence_word': 'pour la durée de', 'pos': 'adv'}, {'sence_word': 'dans le courant de', 'pos': 'adv'}, {'sence_word': 'au cours de', 'pos': 'adv'}, {'sence_word': \"dans l'espace de\", 'pos': 'adv'}]\n",
      "0.0002880096435546875 passed get_two_target_lang_lists_intersection\n",
      "\n",
      " SENSE_INTERSECTION  ['pendant', 'par', 'durant']\n",
      "for в отношении\n",
      "found_word_in /Users/nigula/LL/adjust_unigr_dict/lookup/reverso_en_fr/for.xls\n",
      "definiotns_time 0.07874488830566406\n",
      "lemmat_time 7.486343383789062e-05\n",
      "going to find word in https://context.reverso.net/перевод/русский-французский/в отношении\n"
     ]
    },
    {
     "name": "stderr",
     "output_type": "stream",
     "text": [
      "\r",
      "  0%|          | 14/120000 [00:04<18:15:29,  1.83it/s]"
     ]
    },
    {
     "name": "stdout",
     "output_type": "stream",
     "text": [
      "saved to directory /Users/nigula/LL/adjust_unigr_dict/lookup/reverso_ru_fr/в отношении.xls\n",
      "request_time 1.0052869319915771\n",
      "definiotns_time 1.0352418422698975\n",
      "lemmat_time 7.200241088867188e-05\n",
      "lang_1_to_target_words_dict [{'sence_word': 'pour', 'pos': 'adv'}, {'sence_word': 'pendant', 'pos': 'adv'}, {'sence_word': 'car', 'pos': 'adv'}, {'sence_word': 'malgré', 'pos': 'adv'}, {'sence_word': 'au titre de', 'pos': 'adv'}, {'sence_word': 'à destination de', 'pos': 'adv'}, {'sence_word': 'de', 'pos': 'adv'}, {'sence_word': 'à', 'pos': 'adv'}, {'sence_word': 'aux', 'pos': 'adv'}, {'sence_word': 'par', 'pos': 'adv'}, {'sence_word': 'permettant', 'pos': 'adv'}, {'sence_word': 'dans', 'pos': 'adv'}, {'sence_word': 'destiné', 'pos': 'adv'}, {'sence_word': 'depuis', 'pos': 'adv'}, {'sence_word': 'au', 'pos': 'adv'}, {'sence_word': 'que', 'pos': 'adv'}, {'sence_word': 'en', 'pos': 'adv'}, {'sence_word': 'sur', 'pos': 'adv'}, {'sence_word': 'durant', 'pos': 'adv'}, {'sence_word': 'moyennant', 'pos': 'adv'}, {'sence_word': 'puisque', 'pos': 'adv'}, {'sence_word': \"à l'intention de\", 'pos': 'adv'}, {'sence_word': 'en faveur de', 'pos': 'adv'}, {'sence_word': 'en raison de', 'pos': 'adv'}, {'sence_word': 'à la destination de', 'pos': 'adv'}] \n",
      "\n",
      "lang_2_to_target_words_dict [{'sence_word': \"à l'égard\", 'pos': 'adv'}, {'sence_word': 'en ce qui concerne', 'pos': 'adv'}, {'sence_word': 'à propos', 'pos': 'adv'}, {'sence_word': 'en vue', 'pos': 'adv'}, {'sence_word': 'concernant', 'pos': 'adv'}, {'sence_word': 'en matière', 'pos': 'adv'}, {'sence_word': \"à l'encontre\", 'pos': 'adv'}, {'sence_word': 'au sujet', 'pos': 'adv'}, {'sence_word': \"s'agissant\", 'pos': 'adv'}, {'sence_word': 'en faveur', 'pos': 'adv'}, {'sence_word': 'quant à', 'pos': 'adv'}, {'sence_word': 'au titre', 'pos': 'adv'}, {'sence_word': 'dans le cas', 'pos': 'adv'}, {'sence_word': 'quant au', 'pos': 'adv'}, {'sence_word': 'dans le domaine', 'pos': 'adv'}, {'sence_word': \"à l'endroit de\", 'pos': 'adv'}]\n",
      "0.0003299713134765625 passed get_two_target_lang_lists_intersection\n",
      "\n",
      " SENSE_INTERSECTION  ['no_equality']\n",
      "for для целей\n",
      "found_word_in /Users/nigula/LL/adjust_unigr_dict/lookup/reverso_en_fr/for.xls\n",
      "definiotns_time 0.30198216438293457\n",
      "lemmat_time 0.00014495849609375\n",
      "going to find word in https://context.reverso.net/перевод/русский-французский/для целей\n"
     ]
    },
    {
     "name": "stderr",
     "output_type": "stream",
     "text": [
      "\r",
      "  0%|          | 15/120000 [00:05<22:22:15,  1.49it/s]"
     ]
    },
    {
     "name": "stdout",
     "output_type": "stream",
     "text": [
      "saved to directory /Users/nigula/LL/adjust_unigr_dict/lookup/reverso_ru_fr/для целей.xls\n",
      "request_time 0.6260180473327637\n",
      "definiotns_time 0.6521298885345459\n",
      "lemmat_time 5.2928924560546875e-05\n",
      "lang_1_to_target_words_dict [{'sence_word': 'pour', 'pos': 'adv'}, {'sence_word': 'pendant', 'pos': 'adv'}, {'sence_word': 'car', 'pos': 'adv'}, {'sence_word': 'malgré', 'pos': 'adv'}, {'sence_word': 'au titre de', 'pos': 'adv'}, {'sence_word': 'à destination de', 'pos': 'adv'}, {'sence_word': 'de', 'pos': 'adv'}, {'sence_word': 'à', 'pos': 'adv'}, {'sence_word': 'aux', 'pos': 'adv'}, {'sence_word': 'par', 'pos': 'adv'}, {'sence_word': 'permettant', 'pos': 'adv'}, {'sence_word': 'dans', 'pos': 'adv'}, {'sence_word': 'destiné', 'pos': 'adv'}, {'sence_word': 'depuis', 'pos': 'adv'}, {'sence_word': 'au', 'pos': 'adv'}, {'sence_word': 'que', 'pos': 'adv'}, {'sence_word': 'en', 'pos': 'adv'}, {'sence_word': 'sur', 'pos': 'adv'}, {'sence_word': 'durant', 'pos': 'adv'}, {'sence_word': 'moyennant', 'pos': 'adv'}, {'sence_word': 'puisque', 'pos': 'adv'}, {'sence_word': \"à l'intention de\", 'pos': 'adv'}, {'sence_word': 'en faveur de', 'pos': 'adv'}, {'sence_word': 'en raison de', 'pos': 'adv'}, {'sence_word': 'à la destination de', 'pos': 'adv'}] \n",
      "\n",
      "lang_2_to_target_words_dict [{'sence_word': 'pour', 'pos': 'adv'}, {'sence_word': 'aux fins', 'pos': 'adv'}, {'sence_word': 'à des fins', 'pos': 'adv'}, {'sence_word': 'au service', 'pos': 'adv'}, {'sence_word': 'en matière', 'pos': 'adv'}, {'sence_word': 'vue', 'pos': 'adv'}, {'sence_word': 'afin', 'pos': 'adv'}, {'sence_word': \"à l'\", 'pos': 'adv'}, {'sence_word': 'à la', 'pos': 'adv'}, {'sence_word': 'dans le cadre', 'pos': 'adv'}, {'sence_word': 'au sens', 'pos': 'adv'}, {'sence_word': 'au titre', 'pos': 'adv'}, {'sence_word': 'dans le but', 'pos': 'adv'}, {'sence_word': 'acquisition', 'pos': 'adv'}, {'sence_word': 'aux objectifs', 'pos': 'adv'}]\n",
      "0.00023818016052246094 passed get_two_target_lang_lists_intersection\n",
      "\n",
      " SENSE_INTERSECTION  ['pour']\n",
      "for ибо\n",
      "found_word_in /Users/nigula/LL/adjust_unigr_dict/lookup/reverso_en_fr/for.xls\n",
      "definiotns_time 0.08015799522399902\n",
      "lemmat_time 7.414817810058594e-05\n",
      "going to find word in https://context.reverso.net/перевод/русский-французский/ибо\n"
     ]
    },
    {
     "name": "stderr",
     "output_type": "stream",
     "text": [
      "\r",
      "  0%|          | 16/120000 [00:06<21:42:52,  1.53it/s]"
     ]
    },
    {
     "name": "stdout",
     "output_type": "stream",
     "text": [
      "saved to directory /Users/nigula/LL/adjust_unigr_dict/lookup/reverso_ru_fr/ибо.xls\n",
      "request_time 0.5001027584075928\n",
      "definiotns_time 0.5235691070556641\n",
      "lemmat_time 4.482269287109375e-05\n",
      "lang_1_to_target_words_dict [{'sence_word': 'pour', 'pos': 'adv'}, {'sence_word': 'pendant', 'pos': 'adv'}, {'sence_word': 'car', 'pos': 'adv'}, {'sence_word': 'malgré', 'pos': 'adv'}, {'sence_word': 'au titre de', 'pos': 'adv'}, {'sence_word': 'à destination de', 'pos': 'adv'}, {'sence_word': 'de', 'pos': 'adv'}, {'sence_word': 'à', 'pos': 'adv'}, {'sence_word': 'aux', 'pos': 'adv'}, {'sence_word': 'par', 'pos': 'adv'}, {'sence_word': 'permettant', 'pos': 'adv'}, {'sence_word': 'dans', 'pos': 'adv'}, {'sence_word': 'destiné', 'pos': 'adv'}, {'sence_word': 'depuis', 'pos': 'adv'}, {'sence_word': 'au', 'pos': 'adv'}, {'sence_word': 'que', 'pos': 'adv'}, {'sence_word': 'en', 'pos': 'adv'}, {'sence_word': 'sur', 'pos': 'adv'}, {'sence_word': 'durant', 'pos': 'adv'}, {'sence_word': 'moyennant', 'pos': 'adv'}, {'sence_word': 'puisque', 'pos': 'adv'}, {'sence_word': \"à l'intention de\", 'pos': 'adv'}, {'sence_word': 'en faveur de', 'pos': 'adv'}, {'sence_word': 'en raison de', 'pos': 'adv'}, {'sence_word': 'à la destination de', 'pos': 'adv'}] \n",
      "\n",
      "lang_2_to_target_words_dict [{'sence_word': 'car', 'pos': 'adv'}, {'sence_word': \"parce qu'\", 'pos': 'adv'}, {'sence_word': \"puisqu'\", 'pos': 'adv'}, {'sence_word': 'parce que', 'pos': 'adv'}, {'sence_word': 'puisque', 'pos': 'adv'}, {'sence_word': 'mesure où', 'pos': 'adv'}, {'sence_word': 'étant donné que', 'pos': 'adv'}]\n",
      "0.00011897087097167969 passed get_two_target_lang_lists_intersection\n",
      "\n",
      " SENSE_INTERSECTION  ['car', 'puisque']\n",
      "for чтобы\n",
      "found_word_in /Users/nigula/LL/adjust_unigr_dict/lookup/reverso_en_fr/for.xls\n",
      "definiotns_time 0.07816076278686523\n",
      "lemmat_time 8.082389831542969e-05\n",
      "going to find word in https://context.reverso.net/перевод/русский-французский/чтобы\n"
     ]
    },
    {
     "name": "stderr",
     "output_type": "stream",
     "text": [
      "\r",
      "  0%|          | 17/120000 [00:06<20:16:23,  1.64it/s]"
     ]
    },
    {
     "name": "stdout",
     "output_type": "stream",
     "text": [
      "saved to directory /Users/nigula/LL/adjust_unigr_dict/lookup/reverso_ru_fr/чтобы.xls\n",
      "request_time 0.4084310531616211\n",
      "definiotns_time 0.4267098903656006\n",
      "lemmat_time 0.00011205673217773438\n",
      "lang_1_to_target_words_dict [{'sence_word': 'pour', 'pos': 'adv'}, {'sence_word': 'pendant', 'pos': 'adv'}, {'sence_word': 'car', 'pos': 'adv'}, {'sence_word': 'malgré', 'pos': 'adv'}, {'sence_word': 'au titre de', 'pos': 'adv'}, {'sence_word': 'à destination de', 'pos': 'adv'}, {'sence_word': 'de', 'pos': 'adv'}, {'sence_word': 'à', 'pos': 'adv'}, {'sence_word': 'aux', 'pos': 'adv'}, {'sence_word': 'par', 'pos': 'adv'}, {'sence_word': 'permettant', 'pos': 'adv'}, {'sence_word': 'dans', 'pos': 'adv'}, {'sence_word': 'destiné', 'pos': 'adv'}, {'sence_word': 'depuis', 'pos': 'adv'}, {'sence_word': 'au', 'pos': 'adv'}, {'sence_word': 'que', 'pos': 'adv'}, {'sence_word': 'en', 'pos': 'adv'}, {'sence_word': 'sur', 'pos': 'adv'}, {'sence_word': 'durant', 'pos': 'adv'}, {'sence_word': 'moyennant', 'pos': 'adv'}, {'sence_word': 'puisque', 'pos': 'adv'}, {'sence_word': \"à l'intention de\", 'pos': 'adv'}, {'sence_word': 'en faveur de', 'pos': 'adv'}, {'sence_word': 'en raison de', 'pos': 'adv'}, {'sence_word': 'à la destination de', 'pos': 'adv'}] \n",
      "\n",
      "lang_2_to_target_words_dict [{'sence_word': 'pour que', 'pos': 'adv'}, {'sence_word': 'afin que', 'pos': 'adv'}, {'sence_word': 'si', 'pos': 'adv'}, {'sence_word': 'où', 'pos': 'adv'}, {'sence_word': 'donc', 'pos': 'adv'}, {'sence_word': 'juste', 'pos': 'adv'}, {'sence_word': 'pour', 'pos': 'adv'}, {'sence_word': 'pouvoir', 'pos': 'adv'}, {'sence_word': 'manière', 'pos': 'adv'}, {'sence_word': 'veux', 'pos': 'adv'}, {'sence_word': 'avoir', 'pos': 'adv'}, {'sence_word': 'vue', 'pos': 'adv'}, {'sence_word': 'veut', 'pos': 'adv'}, {'sence_word': 'but', 'pos': 'adv'}, {'sence_word': 'venu', 'pos': 'adv'}, {'sence_word': 'de crainte que', 'pos': 'adv'}, {'sence_word': 'en vue de', 'pos': 'adv'}]\n",
      "0.00027108192443847656 passed get_two_target_lang_lists_intersection\n",
      "\n",
      " SENSE_INTERSECTION  ['pour']\n",
      "\n",
      "************************************\n",
      "\n",
      "desertification опустынивание\n",
      "going to find word in https://context.reverso.net/перевод/английский-французский/desertification\n",
      "saved to directory /Users/nigula/LL/adjust_unigr_dict/lookup/reverso_en_fr/desertification.xls\n",
      "request_time 0.41851305961608887\n",
      "definiotns_time 0.4362010955810547\n",
      "lemmat_time 2.4080276489257812e-05\n",
      "going to find word in https://context.reverso.net/перевод/русский-французский/опустынивание\n"
     ]
    },
    {
     "name": "stderr",
     "output_type": "stream",
     "text": [
      "\r",
      "  0%|          | 18/120000 [00:08<28:49:29,  1.16it/s]"
     ]
    },
    {
     "name": "stdout",
     "output_type": "stream",
     "text": [
      "saved to directory /Users/nigula/LL/adjust_unigr_dict/lookup/reverso_ru_fr/опустынивание.xls\n",
      "request_time 1.004317045211792\n",
      "definiotns_time 1.023313045501709\n",
      "lemmat_time 2.002716064453125e-05\n",
      "lang_1_to_target_words_dict [{'sence_word': 'désertification', 'pos': 'nf'}, {'sence_word': 'ce phénomène', 'pos': 'nf'}] \n",
      "\n",
      "lang_2_to_target_words_dict [{'sence_word': 'désertification', 'pos': 'nf'}]\n",
      "8.821487426757812e-06 passed get_two_target_lang_lists_intersection\n",
      "\n",
      " SENSE_INTERSECTION  ['désertification']\n",
      "\n",
      "************************************\n",
      "\n",
      "colloidal коллоидный\n",
      "going to find word in https://context.reverso.net/перевод/английский-французский/colloidal\n",
      "saved to directory /Users/nigula/LL/adjust_unigr_dict/lookup/reverso_en_fr/colloidal.xls\n",
      "request_time 0.5857038497924805\n",
      "definiotns_time 0.6113836765289307\n",
      "lemmat_time 2.8133392333984375e-05\n",
      "going to find word in https://context.reverso.net/перевод/русский-французский/коллоидный\n"
     ]
    },
    {
     "name": "stderr",
     "output_type": "stream",
     "text": [
      "\r",
      "  0%|          | 19/120000 [00:09<30:39:52,  1.09it/s]"
     ]
    },
    {
     "name": "stdout",
     "output_type": "stream",
     "text": [
      "saved to directory /Users/nigula/LL/adjust_unigr_dict/lookup/reverso_ru_fr/коллоидный.xls\n",
      "request_time 0.415647029876709\n",
      "turn to alternative marks\n",
      "definiotns_time 0.4319322109222412\n",
      "lemmat_time 9.5367431640625e-07\n",
      "lang_1_to_target_words_dict [{'sence_word': 'colloïdal', 'pos': 'adj'}, {'sence_word': 'colloïde', 'pos': 'adj'}] \n",
      "\n",
      "lang_2_to_target_words_dict []\n",
      "2.1457672119140625e-06 passed get_two_target_lang_lists_intersection\n",
      "\n",
      " SENSE_INTERSECTION  ['no_equality']\n",
      "\n",
      "************************************\n",
      "\n",
      "acute острый\n",
      "found_word_in /Users/nigula/LL/adjust_unigr_dict/lookup/reverso_en_fr/acute.xls\n",
      "definiotns_time 0.07961201667785645\n",
      "lemmat_time 0.00010323524475097656\n",
      "found_word_in /Users/nigula/LL/adjust_unigr_dict/lookup/reverso_ru_fr/острый.xls\n"
     ]
    },
    {
     "name": "stderr",
     "output_type": "stream",
     "text": [
      "\r",
      "  0%|          | 20/120000 [00:09<23:02:03,  1.45it/s]"
     ]
    },
    {
     "name": "stdout",
     "output_type": "stream",
     "text": [
      "definiotns_time 0.07481098175048828\n",
      "lemmat_time 7.581710815429688e-05\n",
      "lang_1_to_target_words_dict [{'sence_word': 'aigu', 'pos': 'adj'}, {'sence_word': 'grave', 'pos': 'adj'}, {'sence_word': 'extrême', 'pos': 'adj'}, {'sence_word': 'critique', 'pos': 'adj'}, {'sence_word': 'acute', 'pos': 'adj'}, {'sence_word': 'pressant', 'pos': 'adj'}, {'sence_word': 'vive', 'pos': 'adj'}, {'sence_word': 'préoccupant', 'pos': 'adj'}, {'sence_word': 'criant', 'pos': 'adj'}, {'sence_word': 'épineux', 'pos': 'adj'}, {'sence_word': 'acuité', 'pos': 'adj'}, {'sence_word': 'courte durée', 'pos': 'adj'}, {'sence_word': 'pointu', 'pos': 'adj'}, {'sence_word': 'perspicace', 'pos': 'adj'}, {'sence_word': 'aïgu', 'pos': 'adj'}] \n",
      "\n",
      "lang_2_to_target_words_dict [{'sence_word': 'aigu', 'pos': 'adj'}, {'sence_word': 'piquante', 'pos': 'adj'}, {'sence_word': 'grave', 'pos': 'adj'}, {'sence_word': 'épicé', 'pos': 'adj'}, {'sence_word': 'aiguisé', 'pos': 'adj'}, {'sence_word': 'pointu', 'pos': 'adj'}, {'sence_word': 'tranchant', 'pos': 'adj'}, {'sence_word': 'piquant', 'pos': 'adj'}, {'sence_word': 'vif', 'pos': 'adj'}, {'sence_word': 'acéré', 'pos': 'adj'}, {'sence_word': 'coupant', 'pos': 'adj'}, {'sence_word': 'affûté', 'pos': 'adj'}, {'sence_word': 'épineux', 'pos': 'adj'}, {'sence_word': 'âcre', 'pos': 'adj'}]\n",
      "0.00013899803161621094 passed get_two_target_lang_lists_intersection\n",
      "\n",
      " SENSE_INTERSECTION  ['aigu', 'grave', 'épineux', 'pointu']\n",
      "acute проницательный\n",
      "found_word_in /Users/nigula/LL/adjust_unigr_dict/lookup/reverso_en_fr/acute.xls\n",
      "definiotns_time 0.08380889892578125\n",
      "lemmat_time 4.9114227294921875e-05\n",
      "going to find word in https://context.reverso.net/перевод/русский-французский/проницательный\n"
     ]
    },
    {
     "name": "stderr",
     "output_type": "stream",
     "text": [
      "\r",
      "  0%|          | 21/120000 [00:10<27:33:32,  1.21it/s]"
     ]
    },
    {
     "name": "stdout",
     "output_type": "stream",
     "text": [
      "saved to directory /Users/nigula/LL/adjust_unigr_dict/lookup/reverso_ru_fr/проницательный.xls\n",
      "request_time 1.0363590717315674\n",
      "definiotns_time 1.0526070594787598\n",
      "lemmat_time 2.6702880859375e-05\n",
      "lang_1_to_target_words_dict [{'sence_word': 'aigu', 'pos': 'adj'}, {'sence_word': 'grave', 'pos': 'adj'}, {'sence_word': 'extrême', 'pos': 'adj'}, {'sence_word': 'critique', 'pos': 'adj'}, {'sence_word': 'acute', 'pos': 'adj'}, {'sence_word': 'pressant', 'pos': 'adj'}, {'sence_word': 'vive', 'pos': 'adj'}, {'sence_word': 'préoccupant', 'pos': 'adj'}, {'sence_word': 'criant', 'pos': 'adj'}, {'sence_word': 'épineux', 'pos': 'adj'}, {'sence_word': 'acuité', 'pos': 'adj'}, {'sence_word': 'courte durée', 'pos': 'adj'}, {'sence_word': 'pointu', 'pos': 'adj'}, {'sence_word': 'perspicace', 'pos': 'adj'}, {'sence_word': 'aïgu', 'pos': 'adj'}] \n",
      "\n",
      "lang_2_to_target_words_dict [{'sence_word': 'perspicace', 'pos': 'adj'}, {'sence_word': 'clairvoyant', 'pos': 'adj'}]\n",
      "5.698204040527344e-05 passed get_two_target_lang_lists_intersection\n",
      "\n",
      " SENSE_INTERSECTION  ['perspicace']\n",
      "/Users/nigula/LL/adjust_unigr_dict/reverse_connected_dicts/cross_barbos/en_ru_fr/20.csv\n",
      "acute актуальный\n",
      "found_word_in /Users/nigula/LL/adjust_unigr_dict/lookup/reverso_en_fr/acute.xls\n",
      "definiotns_time 0.18109488487243652\n",
      "lemmat_time 0.0001251697540283203\n",
      "going to find word in https://context.reverso.net/перевод/русский-французский/актуальный\n"
     ]
    },
    {
     "name": "stderr",
     "output_type": "stream",
     "text": [
      "\r",
      "  0%|          | 22/120000 [00:11<26:53:45,  1.24it/s]"
     ]
    },
    {
     "name": "stdout",
     "output_type": "stream",
     "text": [
      "saved to directory /Users/nigula/LL/adjust_unigr_dict/lookup/reverso_ru_fr/актуальный.xls\n",
      "request_time 0.5593698024749756\n",
      "definiotns_time 0.5775468349456787\n",
      "lemmat_time 4.00543212890625e-05\n",
      "lang_1_to_target_words_dict [{'sence_word': 'aigu', 'pos': 'adj'}, {'sence_word': 'grave', 'pos': 'adj'}, {'sence_word': 'extrême', 'pos': 'adj'}, {'sence_word': 'critique', 'pos': 'adj'}, {'sence_word': 'acute', 'pos': 'adj'}, {'sence_word': 'pressant', 'pos': 'adj'}, {'sence_word': 'vive', 'pos': 'adj'}, {'sence_word': 'préoccupant', 'pos': 'adj'}, {'sence_word': 'criant', 'pos': 'adj'}, {'sence_word': 'épineux', 'pos': 'adj'}, {'sence_word': 'acuité', 'pos': 'adj'}, {'sence_word': 'courte durée', 'pos': 'adj'}, {'sence_word': 'pointu', 'pos': 'adj'}, {'sence_word': 'perspicace', 'pos': 'adj'}, {'sence_word': 'aïgu', 'pos': 'adj'}] \n",
      "\n",
      "lang_2_to_target_words_dict [{'sence_word': 'pertinent', 'pos': 'adj'}, {'sence_word': 'actuel', 'pos': 'adj'}, {'sence_word': 'actualité', 'pos': 'adj'}, {'sence_word': 'pertinence', 'pos': 'adj'}]\n",
      "4.410743713378906e-05 passed get_two_target_lang_lists_intersection\n",
      "\n",
      " SENSE_INTERSECTION  ['no_equality']\n",
      "acute акутовый\n",
      "found_word_in /Users/nigula/LL/adjust_unigr_dict/lookup/reverso_en_fr/acute.xls\n",
      "definiotns_time 0.0806736946105957\n",
      "lemmat_time 7.987022399902344e-05\n",
      "going to find word in https://context.reverso.net/перевод/русский-французский/акутовый\n"
     ]
    },
    {
     "name": "stderr",
     "output_type": "stream",
     "text": [
      "\r",
      "  0%|          | 23/120000 [00:11<25:27:49,  1.31it/s]"
     ]
    },
    {
     "name": "stdout",
     "output_type": "stream",
     "text": [
      "saved to directory /Users/nigula/LL/adjust_unigr_dict/lookup/reverso_ru_fr/акутовый.xls\n",
      "request_time 0.5635230541229248\n",
      "definiotns_time 0.5812718868255615\n",
      "lemmat_time 9.059906005859375e-06\n",
      "lang_1_to_target_words_dict [{'sence_word': 'aigu', 'pos': 'adj'}, {'sence_word': 'grave', 'pos': 'adj'}, {'sence_word': 'extrême', 'pos': 'adj'}, {'sence_word': 'critique', 'pos': 'adj'}, {'sence_word': 'acute', 'pos': 'adj'}, {'sence_word': 'pressant', 'pos': 'adj'}, {'sence_word': 'vive', 'pos': 'adj'}, {'sence_word': 'préoccupant', 'pos': 'adj'}, {'sence_word': 'criant', 'pos': 'adj'}, {'sence_word': 'épineux', 'pos': 'adj'}, {'sence_word': 'acuité', 'pos': 'adj'}, {'sence_word': 'courte durée', 'pos': 'adj'}, {'sence_word': 'pointu', 'pos': 'adj'}, {'sence_word': 'perspicace', 'pos': 'adj'}, {'sence_word': 'aïgu', 'pos': 'adj'}] \n",
      "\n",
      "lang_2_to_target_words_dict [{'sence_word': 'la salle', 'pos': ''}]\n",
      "1.4781951904296875e-05 passed get_two_target_lang_lists_intersection\n",
      "\n",
      " SENSE_INTERSECTION  ['no_equality']\n",
      "acute серьезный\n",
      "found_word_in /Users/nigula/LL/adjust_unigr_dict/lookup/reverso_en_fr/acute.xls\n",
      "definiotns_time 0.11430907249450684\n",
      "lemmat_time 5.602836608886719e-05\n",
      "going to find word in https://context.reverso.net/перевод/русский-французский/серьезный\n"
     ]
    },
    {
     "name": "stderr",
     "output_type": "stream",
     "text": [
      "\r",
      "  0%|          | 24/120000 [00:12<23:50:04,  1.40it/s]"
     ]
    },
    {
     "name": "stdout",
     "output_type": "stream",
     "text": [
      "saved to directory /Users/nigula/LL/adjust_unigr_dict/lookup/reverso_ru_fr/серьезный.xls\n",
      "request_time 0.46387195587158203\n",
      "definiotns_time 0.48221421241760254\n",
      "lemmat_time 9.417533874511719e-05\n",
      "lang_1_to_target_words_dict [{'sence_word': 'aigu', 'pos': 'adj'}, {'sence_word': 'grave', 'pos': 'adj'}, {'sence_word': 'extrême', 'pos': 'adj'}, {'sence_word': 'critique', 'pos': 'adj'}, {'sence_word': 'acute', 'pos': 'adj'}, {'sence_word': 'pressant', 'pos': 'adj'}, {'sence_word': 'vive', 'pos': 'adj'}, {'sence_word': 'préoccupant', 'pos': 'adj'}, {'sence_word': 'criant', 'pos': 'adj'}, {'sence_word': 'épineux', 'pos': 'adj'}, {'sence_word': 'acuité', 'pos': 'adj'}, {'sence_word': 'courte durée', 'pos': 'adj'}, {'sence_word': 'pointu', 'pos': 'adj'}, {'sence_word': 'perspicace', 'pos': 'adj'}, {'sence_word': 'aïgu', 'pos': 'adj'}] \n",
      "\n",
      "lang_2_to_target_words_dict [{'sence_word': 'grave', 'pos': 'adj'}, {'sence_word': 'sérieux', 'pos': 'adj'}, {'sence_word': 'grand', 'pos': 'adj'}, {'sence_word': 'majeur', 'pos': 'adj'}, {'sence_word': 'importante', 'pos': 'adj'}, {'sence_word': 'sérieusement', 'pos': 'adj'}, {'sence_word': 'gravement', 'pos': 'adj'}, {'sence_word': 'gros', 'pos': 'adj'}, {'sence_word': 'gravissime', 'pos': 'adj'}, {'sence_word': 'dangereux', 'pos': 'adj'}, {'sence_word': 'considérable', 'pos': 'adj'}]\n",
      "0.00010919570922851562 passed get_two_target_lang_lists_intersection\n",
      "\n",
      " SENSE_INTERSECTION  ['grave']\n",
      "acute обостренный\n",
      "found_word_in /Users/nigula/LL/adjust_unigr_dict/lookup/reverso_en_fr/acute.xls\n",
      "definiotns_time 0.07879281044006348\n",
      "lemmat_time 5.0067901611328125e-05\n",
      "going to find word in https://context.reverso.net/перевод/русский-французский/обостренный\n"
     ]
    },
    {
     "name": "stderr",
     "output_type": "stream",
     "text": [
      "\r",
      "  0%|          | 25/120000 [00:13<21:41:03,  1.54it/s]"
     ]
    },
    {
     "name": "stdout",
     "output_type": "stream",
     "text": [
      "saved to directory /Users/nigula/LL/adjust_unigr_dict/lookup/reverso_ru_fr/обостренный.xls\n",
      "request_time 0.40547609329223633\n",
      "turn to alternative marks\n",
      "definiotns_time 0.41954517364501953\n",
      "lemmat_time 1.1920928955078125e-06\n",
      "lang_1_to_target_words_dict [{'sence_word': 'aigu', 'pos': 'adj'}, {'sence_word': 'grave', 'pos': 'adj'}, {'sence_word': 'extrême', 'pos': 'adj'}, {'sence_word': 'critique', 'pos': 'adj'}, {'sence_word': 'acute', 'pos': 'adj'}, {'sence_word': 'pressant', 'pos': 'adj'}, {'sence_word': 'vive', 'pos': 'adj'}, {'sence_word': 'préoccupant', 'pos': 'adj'}, {'sence_word': 'criant', 'pos': 'adj'}, {'sence_word': 'épineux', 'pos': 'adj'}, {'sence_word': 'acuité', 'pos': 'adj'}, {'sence_word': 'courte durée', 'pos': 'adj'}, {'sence_word': 'pointu', 'pos': 'adj'}, {'sence_word': 'perspicace', 'pos': 'adj'}, {'sence_word': 'aïgu', 'pos': 'adj'}] \n",
      "\n",
      "lang_2_to_target_words_dict []\n",
      "2.86102294921875e-06 passed get_two_target_lang_lists_intersection\n",
      "\n",
      " SENSE_INTERSECTION  ['no_equality']\n",
      "acute экстренный\n",
      "found_word_in /Users/nigula/LL/adjust_unigr_dict/lookup/reverso_en_fr/acute.xls\n",
      "definiotns_time 0.08594727516174316\n",
      "lemmat_time 5.316734313964844e-05\n",
      "found_word_in /Users/nigula/LL/adjust_unigr_dict/lookup/reverso_ru_fr/экстренный.xls\n"
     ]
    },
    {
     "name": "stderr",
     "output_type": "stream",
     "text": [
      "\r",
      "  0%|          | 26/120000 [00:13<16:53:08,  1.97it/s]"
     ]
    },
    {
     "name": "stdout",
     "output_type": "stream",
     "text": [
      "definiotns_time 0.08242201805114746\n",
      "lemmat_time 3.790855407714844e-05\n",
      "lang_1_to_target_words_dict [{'sence_word': 'aigu', 'pos': 'adj'}, {'sence_word': 'grave', 'pos': 'adj'}, {'sence_word': 'extrême', 'pos': 'adj'}, {'sence_word': 'critique', 'pos': 'adj'}, {'sence_word': 'acute', 'pos': 'adj'}, {'sence_word': 'pressant', 'pos': 'adj'}, {'sence_word': 'vive', 'pos': 'adj'}, {'sence_word': 'préoccupant', 'pos': 'adj'}, {'sence_word': 'criant', 'pos': 'adj'}, {'sence_word': 'épineux', 'pos': 'adj'}, {'sence_word': 'acuité', 'pos': 'adj'}, {'sence_word': 'courte durée', 'pos': 'adj'}, {'sence_word': 'pointu', 'pos': 'adj'}, {'sence_word': 'perspicace', 'pos': 'adj'}, {'sence_word': 'aïgu', 'pos': 'adj'}] \n",
      "\n",
      "lang_2_to_target_words_dict [{'sence_word': 'urgence', 'pos': ''}, {'sence_word': 'urgent', 'pos': 'adj'}]\n",
      "2.5033950805664062e-05 passed get_two_target_lang_lists_intersection\n",
      "\n",
      " SENSE_INTERSECTION  ['no_equality']\n",
      "acute острая форма\n",
      "found_word_in /Users/nigula/LL/adjust_unigr_dict/lookup/reverso_en_fr/acute.xls\n",
      "definiotns_time 0.11186099052429199\n",
      "lemmat_time 5.602836608886719e-05\n",
      "going to find word in https://context.reverso.net/перевод/русский-французский/острая форма\n"
     ]
    },
    {
     "name": "stderr",
     "output_type": "stream",
     "text": [
      "\r",
      "  0%|          | 27/120000 [00:14<21:12:03,  1.57it/s]"
     ]
    },
    {
     "name": "stdout",
     "output_type": "stream",
     "text": [
      "saved to directory /Users/nigula/LL/adjust_unigr_dict/lookup/reverso_ru_fr/острая форма.xls\n",
      "request_time 0.7920529842376709\n",
      "definiotns_time 0.8187079429626465\n",
      "lemmat_time 7.295608520507812e-05\n",
      "lang_1_to_target_words_dict [{'sence_word': 'aigu', 'pos': 'adj'}, {'sence_word': 'grave', 'pos': 'adj'}, {'sence_word': 'extrême', 'pos': 'adj'}, {'sence_word': 'critique', 'pos': 'adj'}, {'sence_word': 'acute', 'pos': 'adj'}, {'sence_word': 'pressant', 'pos': 'adj'}, {'sence_word': 'vive', 'pos': 'adj'}, {'sence_word': 'préoccupant', 'pos': 'adj'}, {'sence_word': 'criant', 'pos': 'adj'}, {'sence_word': 'épineux', 'pos': 'adj'}, {'sence_word': 'acuité', 'pos': 'adj'}, {'sence_word': 'courte durée', 'pos': 'adj'}, {'sence_word': 'pointu', 'pos': 'adj'}, {'sence_word': 'perspicace', 'pos': 'adj'}, {'sence_word': 'aïgu', 'pos': 'adj'}] \n",
      "\n",
      "lang_2_to_target_words_dict [{'sence_word': 'aiguë', 'pos': ''}, {'sence_word': 'grave', 'pos': ''}, {'sence_word': 'épicé', 'pos': ''}, {'sence_word': 'aigu', 'pos': ''}, {'sence_word': 'forme', 'pos': ''}, {'sence_word': 'uniforme', 'pos': ''}, {'sence_word': 'formulaire', 'pos': ''}, {'sence_word': 'présentation', 'pos': ''}, {'sence_word': 'formule', 'pos': ''}]\n",
      "9.083747863769531e-05 passed get_two_target_lang_lists_intersection\n",
      "\n",
      " SENSE_INTERSECTION  ['aigu', 'grave']\n",
      "\n",
      "************************************\n",
      "\n",
      "dropper капельница\n",
      "going to find word in https://context.reverso.net/перевод/английский-французский/dropper\n",
      "saved to directory /Users/nigula/LL/adjust_unigr_dict/lookup/reverso_en_fr/dropper.xls\n",
      "request_time 0.55206298828125\n",
      "definiotns_time 0.5772819519042969\n",
      "lemmat_time 8.487701416015625e-05\n",
      "going to find word in https://context.reverso.net/перевод/русский-французский/капельница\n"
     ]
    },
    {
     "name": "stderr",
     "output_type": "stream",
     "text": [
      "\r",
      "  0%|          | 28/120000 [00:15<25:15:12,  1.32it/s]"
     ]
    },
    {
     "name": "stdout",
     "output_type": "stream",
     "text": [
      "saved to directory /Users/nigula/LL/adjust_unigr_dict/lookup/reverso_ru_fr/капельница.xls\n",
      "request_time 0.44124484062194824\n",
      "definiotns_time 0.46240687370300293\n",
      "lemmat_time 4.601478576660156e-05\n",
      "lang_1_to_target_words_dict [{'sence_word': 'compte-gouttes', 'pos': 'nm'}, {'sence_word': 'pipette', 'pos': 'nf'}, {'sence_word': 'potence', 'pos': 'nf'}, {'sence_word': 'compte-goutte', 'pos': 'nm'}, {'sence_word': 'stilligoutte', 'pos': 'nm'}, {'sence_word': 'passoire', 'pos': 'nf'}, {'sence_word': 'ravensare', 'pos': 'nf'}, {'sence_word': 'dropper', 'pos': 'nf'}, {'sence_word': 'buteur', 'pos': 'nf'}, {'sence_word': 'goutte', 'pos': 'nf'}, {'sence_word': 'flacon', 'pos': 'nf'}] \n",
      "\n",
      "lang_2_to_target_words_dict [{'sence_word': 'perfusion', 'pos': 'nf'}, {'sence_word': 'intraveineuse', 'pos': 'nf'}, {'sence_word': 'du plasma', 'pos': 'nf'}, {'sence_word': 'i.v', 'pos': 'nf'}]\n",
      "3.409385681152344e-05 passed get_two_target_lang_lists_intersection\n",
      "\n",
      " SENSE_INTERSECTION  ['no_equality']\n",
      "\n",
      "************************************\n",
      "\n",
      "unidirectional однонаправленный\n",
      "going to find word in https://context.reverso.net/перевод/английский-французский/unidirectional\n",
      "saved to directory /Users/nigula/LL/adjust_unigr_dict/lookup/reverso_en_fr/unidirectional.xls\n",
      "request_time 0.6031901836395264\n",
      "definiotns_time 0.6317691802978516\n",
      "lemmat_time 3.0040740966796875e-05\n",
      "going to find word in https://context.reverso.net/перевод/русский-французский/однонаправленный\n"
     ]
    },
    {
     "name": "stderr",
     "output_type": "stream",
     "text": [
      "\r",
      "  0%|          | 29/120000 [00:16<29:23:26,  1.13it/s]"
     ]
    },
    {
     "name": "stdout",
     "output_type": "stream",
     "text": [
      "saved to directory /Users/nigula/LL/adjust_unigr_dict/lookup/reverso_ru_fr/однонаправленный.xls\n",
      "request_time 0.5110068321228027\n",
      "turn to alternative marks\n",
      "definiotns_time 0.5361542701721191\n",
      "lemmat_time 9.5367431640625e-07\n",
      "lang_1_to_target_words_dict [{'sence_word': 'unidirectionnel', 'pos': 'adj'}, {'sence_word': 'simple flux', 'pos': 'adj'}, {'sence_word': 'monodirectionnel', 'pos': 'adj'}, {'sence_word': 'unidirectionnellement', 'pos': 'adj'}, {'sence_word': 'unidirectional', 'pos': 'adj'}, {'sence_word': 'sens unique', 'pos': 'adj'}] \n",
      "\n",
      "lang_2_to_target_words_dict []\n",
      "1.9073486328125e-06 passed get_two_target_lang_lists_intersection\n",
      "\n",
      " SENSE_INTERSECTION  ['no_equality']\n",
      "unidirectional нереверсивный\n",
      "found_word_in /Users/nigula/LL/adjust_unigr_dict/lookup/reverso_en_fr/unidirectional.xls\n",
      "definiotns_time 0.06489181518554688\n",
      "lemmat_time 2.002716064453125e-05\n",
      "going to find word in https://context.reverso.net/перевод/русский-французский/нереверсивный\n"
     ]
    },
    {
     "name": "stderr",
     "output_type": "stream",
     "text": [
      "\r",
      "  0%|          | 30/120000 [00:17<28:37:52,  1.16it/s]"
     ]
    },
    {
     "name": "stdout",
     "output_type": "stream",
     "text": [
      "saved to directory /Users/nigula/LL/adjust_unigr_dict/lookup/reverso_ru_fr/нереверсивный.xls\n",
      "request_time 0.7179131507873535\n",
      "turn to alternative marks\n",
      "definiotns_time 0.73775315284729\n",
      "lemmat_time 1.9073486328125e-06\n",
      "lang_1_to_target_words_dict [{'sence_word': 'unidirectionnel', 'pos': 'adj'}, {'sence_word': 'simple flux', 'pos': 'adj'}, {'sence_word': 'monodirectionnel', 'pos': 'adj'}, {'sence_word': 'unidirectionnellement', 'pos': 'adj'}, {'sence_word': 'unidirectional', 'pos': 'adj'}, {'sence_word': 'sens unique', 'pos': 'adj'}] \n",
      "\n",
      "lang_2_to_target_words_dict []\n",
      "3.0994415283203125e-06 passed get_two_target_lang_lists_intersection\n",
      "\n",
      " SENSE_INTERSECTION  ['no_equality']\n",
      "\n",
      "************************************\n",
      "\n",
      "line up выстроиться\n",
      "going to find word in https://context.reverso.net/перевод/английский-французский/line up\n",
      "saved to directory /Users/nigula/LL/adjust_unigr_dict/lookup/reverso_en_fr/line up.xls\n",
      "request_time 0.587691068649292\n",
      "definiotns_time 0.6064813137054443\n",
      "lemmat_time 9.703636169433594e-05\n",
      "going to find word in https://context.reverso.net/перевод/русский-французский/выстроиться\n"
     ]
    },
    {
     "name": "stderr",
     "output_type": "stream",
     "text": [
      "\r",
      "  0%|          | 31/120000 [00:18<34:02:38,  1.02s/it]"
     ]
    },
    {
     "name": "stdout",
     "output_type": "stream",
     "text": [
      "saved to directory /Users/nigula/LL/adjust_unigr_dict/lookup/reverso_ru_fr/выстроиться.xls\n",
      "request_time 0.7530710697174072\n",
      "turn to alternative marks\n",
      "definiotns_time 0.7792410850524902\n",
      "lemmat_time 2.1457672119140625e-06\n",
      "lang_1_to_target_words_dict [{'sence_word': 'aligner', 'pos': 'v'}, {'sence_word': 'ranger', 'pos': 'v'}, {'sence_word': 'ligne', 'pos': 'v'}, {'sence_word': 'alignez-vous', 'pos': 'v'}, {'sence_word': 'file', 'pos': 'v'}, {'sence_word': 'queue', 'pos': 'v'}, {'sence_word': 'rang', 'pos': 'v'}, {'sence_word': 'gamme', 'pos': 'v'}, {'sence_word': \"s'aligner\", 'pos': 'v'}, {'sence_word': 'se mettre en rang', 'pos': 'v'}, {'sence_word': 'se ranger', 'pos': 'v'}, {'sence_word': 'faire la queue', 'pos': 'v'}, {'sence_word': 'line-up', 'pos': 'v'}, {'sence_word': 'mettez-vous', 'pos': 'v'}, {'sence_word': 'formation', 'pos': 'v'}] \n",
      "\n",
      "lang_2_to_target_words_dict []\n",
      "2.86102294921875e-06 passed get_two_target_lang_lists_intersection\n",
      "\n",
      " SENSE_INTERSECTION  ['no_equality']\n",
      "/Users/nigula/LL/adjust_unigr_dict/reverse_connected_dicts/cross_barbos/en_ru_fr/30.csv\n",
      "line up выравнивать\n",
      "found_word_in /Users/nigula/LL/adjust_unigr_dict/lookup/reverso_en_fr/line up.xls\n"
     ]
    },
    {
     "name": "stderr",
     "output_type": "stream",
     "text": [
      "\r",
      "  0%|          | 32/120000 [00:18<26:27:53,  1.26it/s]"
     ]
    },
    {
     "name": "stdout",
     "output_type": "stream",
     "text": [
      "definiotns_time 0.10969114303588867\n",
      "lemmat_time 8.177757263183594e-05\n",
      "found_word_in /Users/nigula/LL/adjust_unigr_dict/lookup/reverso_ru_fr/выравнивать.xls\n",
      "definiotns_time 0.14948701858520508\n",
      "lemmat_time 3.218650817871094e-05\n",
      "lang_1_to_target_words_dict [{'sence_word': 'aligner', 'pos': 'v'}, {'sence_word': 'ranger', 'pos': 'v'}, {'sence_word': 'ligne', 'pos': 'v'}, {'sence_word': 'alignez-vous', 'pos': 'v'}, {'sence_word': 'file', 'pos': 'v'}, {'sence_word': 'queue', 'pos': 'v'}, {'sence_word': 'rang', 'pos': 'v'}, {'sence_word': 'gamme', 'pos': 'v'}, {'sence_word': \"s'aligner\", 'pos': 'v'}, {'sence_word': 'se mettre en rang', 'pos': 'v'}, {'sence_word': 'se ranger', 'pos': 'v'}, {'sence_word': 'faire la queue', 'pos': 'v'}, {'sence_word': 'line-up', 'pos': 'v'}, {'sence_word': 'mettez-vous', 'pos': 'v'}, {'sence_word': 'formation', 'pos': 'v'}] \n",
      "\n",
      "lang_2_to_target_words_dict [{'sence_word': 'aligner', 'pos': 'v'}, {'sence_word': 'cadrer', 'pos': 'v'}]\n",
      "0.0006439685821533203 passed get_two_target_lang_lists_intersection\n",
      "\n",
      " SENSE_INTERSECTION  ['aligner']\n",
      "line up выстраиваться в очередь\n",
      "found_word_in /Users/nigula/LL/adjust_unigr_dict/lookup/reverso_en_fr/line up.xls\n",
      "definiotns_time 0.13821101188659668\n",
      "lemmat_time 7.295608520507812e-05\n",
      "going to find word in https://context.reverso.net/перевод/русский-французский/выстраиваться в очередь\n"
     ]
    },
    {
     "name": "stderr",
     "output_type": "stream",
     "text": [
      "\r",
      "  0%|          | 33/120000 [00:19<28:14:09,  1.18it/s]"
     ]
    },
    {
     "name": "stdout",
     "output_type": "stream",
     "text": [
      "saved to directory /Users/nigula/LL/adjust_unigr_dict/lookup/reverso_ru_fr/выстраиваться в очередь.xls\n",
      "request_time 0.8115921020507812\n",
      "definiotns_time 0.8266608715057373\n",
      "lemmat_time 1.9311904907226562e-05\n",
      "lang_1_to_target_words_dict [{'sence_word': 'aligner', 'pos': 'v'}, {'sence_word': 'ranger', 'pos': 'v'}, {'sence_word': 'ligne', 'pos': 'v'}, {'sence_word': 'alignez-vous', 'pos': 'v'}, {'sence_word': 'file', 'pos': 'v'}, {'sence_word': 'queue', 'pos': 'v'}, {'sence_word': 'rang', 'pos': 'v'}, {'sence_word': 'gamme', 'pos': 'v'}, {'sence_word': \"s'aligner\", 'pos': 'v'}, {'sence_word': 'se mettre en rang', 'pos': 'v'}, {'sence_word': 'se ranger', 'pos': 'v'}, {'sence_word': 'faire la queue', 'pos': 'v'}, {'sence_word': 'line-up', 'pos': 'v'}, {'sence_word': 'mettez-vous', 'pos': 'v'}, {'sence_word': 'formation', 'pos': 'v'}] \n",
      "\n",
      "lang_2_to_target_words_dict [{'sence_word': 'la queue', 'pos': ''}, {'sence_word': 'en ligne', 'pos': ''}, {'sence_word': 'dans la file', 'pos': ''}, {'sence_word': \"sur liste d'attente\", 'pos': ''}, {'sence_word': 'en rang', 'pos': ''}]\n",
      "5.2928924560546875e-05 passed get_two_target_lang_lists_intersection\n",
      "\n",
      " SENSE_INTERSECTION  ['no_equality']\n",
      "line up выстраиваться в линию\n",
      "found_word_in /Users/nigula/LL/adjust_unigr_dict/lookup/reverso_en_fr/line up.xls\n",
      "definiotns_time 0.07033276557922363\n",
      "lemmat_time 4.1961669921875e-05\n",
      "going to find word in https://context.reverso.net/перевод/русский-французский/выстраиваться в линию\n"
     ]
    },
    {
     "name": "stderr",
     "output_type": "stream",
     "text": [
      "\r",
      "  0%|          | 34/120000 [00:20<27:34:46,  1.21it/s]"
     ]
    },
    {
     "name": "stdout",
     "output_type": "stream",
     "text": [
      "saved to directory /Users/nigula/LL/adjust_unigr_dict/lookup/reverso_ru_fr/выстраиваться в линию.xls\n",
      "request_time 0.6911787986755371\n",
      "definiotns_time 0.7061848640441895\n",
      "lemmat_time 1.811981201171875e-05\n",
      "lang_1_to_target_words_dict [{'sence_word': 'aligner', 'pos': 'v'}, {'sence_word': 'ranger', 'pos': 'v'}, {'sence_word': 'ligne', 'pos': 'v'}, {'sence_word': 'alignez-vous', 'pos': 'v'}, {'sence_word': 'file', 'pos': 'v'}, {'sence_word': 'queue', 'pos': 'v'}, {'sence_word': 'rang', 'pos': 'v'}, {'sence_word': 'gamme', 'pos': 'v'}, {'sence_word': \"s'aligner\", 'pos': 'v'}, {'sence_word': 'se mettre en rang', 'pos': 'v'}, {'sence_word': 'se ranger', 'pos': 'v'}, {'sence_word': 'faire la queue', 'pos': 'v'}, {'sence_word': 'line-up', 'pos': 'v'}, {'sence_word': 'mettez-vous', 'pos': 'v'}, {'sence_word': 'formation', 'pos': 'v'}] \n",
      "\n",
      "lang_2_to_target_words_dict [{'sence_word': 'en ligne', 'pos': ''}, {'sence_word': 'en rang', 'pos': ''}]\n",
      "2.6941299438476562e-05 passed get_two_target_lang_lists_intersection\n",
      "\n",
      " SENSE_INTERSECTION  ['no_equality']\n",
      "line up строиться\n",
      "found_word_in /Users/nigula/LL/adjust_unigr_dict/lookup/reverso_en_fr/line up.xls\n",
      "definiotns_time 0.07814407348632812\n",
      "lemmat_time 4.291534423828125e-05\n",
      "going to find word in https://context.reverso.net/перевод/русский-французский/строиться\n"
     ]
    },
    {
     "name": "stderr",
     "output_type": "stream",
     "text": [
      "\r",
      "  0%|          | 35/120000 [00:21<25:38:58,  1.30it/s]"
     ]
    },
    {
     "name": "stdout",
     "output_type": "stream",
     "text": [
      "saved to directory /Users/nigula/LL/adjust_unigr_dict/lookup/reverso_ru_fr/строиться.xls\n",
      "request_time 0.5288310050964355\n",
      "definiotns_time 0.5540878772735596\n",
      "lemmat_time 4.982948303222656e-05\n",
      "lang_1_to_target_words_dict [{'sence_word': 'aligner', 'pos': 'v'}, {'sence_word': 'ranger', 'pos': 'v'}, {'sence_word': 'ligne', 'pos': 'v'}, {'sence_word': 'alignez-vous', 'pos': 'v'}, {'sence_word': 'file', 'pos': 'v'}, {'sence_word': 'queue', 'pos': 'v'}, {'sence_word': 'rang', 'pos': 'v'}, {'sence_word': 'gamme', 'pos': 'v'}, {'sence_word': \"s'aligner\", 'pos': 'v'}, {'sence_word': 'se mettre en rang', 'pos': 'v'}, {'sence_word': 'se ranger', 'pos': 'v'}, {'sence_word': 'faire la queue', 'pos': 'v'}, {'sence_word': 'line-up', 'pos': 'v'}, {'sence_word': 'mettez-vous', 'pos': 'v'}, {'sence_word': 'formation', 'pos': 'v'}] \n",
      "\n",
      "lang_2_to_target_words_dict [{'sence_word': 'se fonder', 'pos': 'v'}, {'sence_word': 'construire', 'pos': 'v'}, {'sence_word': 'être fondée', 'pos': 'v'}, {'sence_word': 'se construire', 'pos': 'v'}, {'sence_word': 'prendre appui', 'pos': 'v'}, {'sence_word': \"s'articuler autour\", 'pos': 'v'}, {'sence_word': 'se fonderont', 'pos': 'v'}, {'sence_word': 'fondé', 'pos': 'v'}, {'sence_word': \"s'appuiera\", 'pos': 'v'}, {'sence_word': 'reposeront', 'pos': 'v'}, {'sence_word': 'se faire', 'pos': 'v'}]\n",
      "0.0001289844512939453 passed get_two_target_lang_lists_intersection\n",
      "\n",
      " SENSE_INTERSECTION  ['no_equality']\n",
      "\n",
      "************************************\n",
      "\n",
      "remover пятновыводитель\n",
      "going to find word in https://context.reverso.net/перевод/английский-французский/remover\n",
      "saved to directory /Users/nigula/LL/adjust_unigr_dict/lookup/reverso_en_fr/remover.xls\n",
      "request_time 0.5081708431243896\n",
      "definiotns_time 0.5265960693359375\n",
      "lemmat_time 8.702278137207031e-05\n",
      "going to find word in https://context.reverso.net/перевод/русский-французский/пятновыводитель\n"
     ]
    },
    {
     "name": "stderr",
     "output_type": "stream",
     "text": [
      "\r",
      "  0%|          | 36/120000 [00:22<27:21:26,  1.22it/s]"
     ]
    },
    {
     "name": "stdout",
     "output_type": "stream",
     "text": [
      "saved to directory /Users/nigula/LL/adjust_unigr_dict/lookup/reverso_ru_fr/пятновыводитель.xls\n",
      "request_time 0.39533305168151855\n",
      "definiotns_time 0.4105989933013916\n",
      "lemmat_time 1.4066696166992188e-05\n",
      "lang_1_to_target_words_dict [{'sence_word': 'dissolvant', 'pos': 'nm'}, {'sence_word': 'décapant', 'pos': 'nm'}, {'sence_word': 'démaquillant', 'pos': 'nm'}, {'sence_word': 'détachant', 'pos': 'n'}, {'sence_word': 'extracteur', 'pos': 'nm'}, {'sence_word': 'éliminateur', 'pos': 'nm'}, {'sence_word': 'solvant', 'pos': 'nm'}, {'sence_word': 'quoi supprimer', 'pos': 'nm'}, {'sence_word': \"dispositif d'élimination\", 'pos': 'nm'}, {'sence_word': 'remover', 'pos': 'nm'}, {'sence_word': 'déménageur', 'pos': 'nm'}, {'sence_word': 'séparateur', 'pos': 'nm'}, {'sence_word': 'suppresseur', 'pos': 'n'}, {'sence_word': \"agent d'élimination\", 'pos': 'n'}, {'sence_word': 'décapante', 'pos': 'n'}] \n",
      "\n",
      "lang_2_to_target_words_dict [{'sence_word': 'détachant', 'pos': 'nm'}, {'sence_word': \"de l'eau de javel\", 'pos': 'nm'}]\n",
      "2.5033950805664062e-05 passed get_two_target_lang_lists_intersection\n",
      "\n",
      " SENSE_INTERSECTION  ['détachant']\n",
      "remover перевозчик\n",
      "found_word_in /Users/nigula/LL/adjust_unigr_dict/lookup/reverso_en_fr/remover.xls\n",
      "definiotns_time 0.1750500202178955\n",
      "lemmat_time 7.700920104980469e-05\n",
      "going to find word in https://context.reverso.net/перевод/русский-французский/перевозчик\n"
     ]
    },
    {
     "name": "stderr",
     "output_type": "stream",
     "text": [
      "\r",
      "  0%|          | 37/120000 [00:22<25:53:41,  1.29it/s]"
     ]
    },
    {
     "name": "stdout",
     "output_type": "stream",
     "text": [
      "saved to directory /Users/nigula/LL/adjust_unigr_dict/lookup/reverso_ru_fr/перевозчик.xls\n",
      "request_time 0.4786849021911621\n",
      "definiotns_time 0.4956519603729248\n",
      "lemmat_time 3.886222839355469e-05\n",
      "lang_1_to_target_words_dict [{'sence_word': 'dissolvant', 'pos': 'nm'}, {'sence_word': 'décapant', 'pos': 'nm'}, {'sence_word': 'démaquillant', 'pos': 'nm'}, {'sence_word': 'détachant', 'pos': 'n'}, {'sence_word': 'extracteur', 'pos': 'nm'}, {'sence_word': 'éliminateur', 'pos': 'nm'}, {'sence_word': 'solvant', 'pos': 'nm'}, {'sence_word': 'quoi supprimer', 'pos': 'nm'}, {'sence_word': \"dispositif d'élimination\", 'pos': 'nm'}, {'sence_word': 'remover', 'pos': 'nm'}, {'sence_word': 'déménageur', 'pos': 'nm'}, {'sence_word': 'séparateur', 'pos': 'nm'}, {'sence_word': 'suppresseur', 'pos': 'n'}, {'sence_word': \"agent d'élimination\", 'pos': 'n'}, {'sence_word': 'décapante', 'pos': 'n'}] \n",
      "\n",
      "lang_2_to_target_words_dict [{'sence_word': 'transporteur', 'pos': 'n'}, {'sence_word': 'passeur', 'pos': 'nm'}]\n",
      "2.6226043701171875e-05 passed get_two_target_lang_lists_intersection\n",
      "\n",
      " SENSE_INTERSECTION  ['no_equality']\n",
      "remover съемник\n",
      "found_word_in /Users/nigula/LL/adjust_unigr_dict/lookup/reverso_en_fr/remover.xls\n",
      "definiotns_time 0.06989216804504395\n",
      "lemmat_time 4.7206878662109375e-05\n",
      "going to find word in https://context.reverso.net/перевод/русский-французский/съемник\n"
     ]
    },
    {
     "name": "stderr",
     "output_type": "stream",
     "text": [
      "\r",
      "  0%|          | 38/120000 [00:23<24:56:04,  1.34it/s]"
     ]
    },
    {
     "name": "stdout",
     "output_type": "stream",
     "text": [
      "saved to directory /Users/nigula/LL/adjust_unigr_dict/lookup/reverso_ru_fr/съемник.xls\n",
      "request_time 0.5794079303741455\n",
      "turn to alternative marks\n",
      "definiotns_time 0.6081328392028809\n",
      "lemmat_time 2.1457672119140625e-06\n",
      "lang_1_to_target_words_dict [{'sence_word': 'dissolvant', 'pos': 'nm'}, {'sence_word': 'décapant', 'pos': 'nm'}, {'sence_word': 'démaquillant', 'pos': 'nm'}, {'sence_word': 'détachant', 'pos': 'n'}, {'sence_word': 'extracteur', 'pos': 'nm'}, {'sence_word': 'éliminateur', 'pos': 'nm'}, {'sence_word': 'solvant', 'pos': 'nm'}, {'sence_word': 'quoi supprimer', 'pos': 'nm'}, {'sence_word': \"dispositif d'élimination\", 'pos': 'nm'}, {'sence_word': 'remover', 'pos': 'nm'}, {'sence_word': 'déménageur', 'pos': 'nm'}, {'sence_word': 'séparateur', 'pos': 'nm'}, {'sence_word': 'suppresseur', 'pos': 'n'}, {'sence_word': \"agent d'élimination\", 'pos': 'n'}, {'sence_word': 'décapante', 'pos': 'n'}] \n",
      "\n",
      "lang_2_to_target_words_dict []\n",
      "3.0994415283203125e-06 passed get_two_target_lang_lists_intersection\n",
      "\n",
      " SENSE_INTERSECTION  ['no_equality']\n",
      "remover перевозчик мебели\n",
      "found_word_in /Users/nigula/LL/adjust_unigr_dict/lookup/reverso_en_fr/remover.xls\n",
      "definiotns_time 0.07236218452453613\n",
      "lemmat_time 4.887580871582031e-05\n",
      "going to find word in https://context.reverso.net/перевод/русский-французский/перевозчик мебели\n"
     ]
    },
    {
     "name": "stderr",
     "output_type": "stream",
     "text": [
      "\r",
      "  0%|          | 39/120000 [00:24<23:08:25,  1.44it/s]"
     ]
    },
    {
     "name": "stdout",
     "output_type": "stream",
     "text": [
      "saved to directory /Users/nigula/LL/adjust_unigr_dict/lookup/reverso_ru_fr/перевозчик мебели.xls\n",
      "request_time 0.48152875900268555\n",
      "definiotns_time 0.49070119857788086\n",
      "lemmat_time 9.393692016601562e-05\n",
      "lang_1_to_target_words_dict [{'sence_word': 'dissolvant', 'pos': 'nm'}, {'sence_word': 'décapant', 'pos': 'nm'}, {'sence_word': 'démaquillant', 'pos': 'nm'}, {'sence_word': 'détachant', 'pos': 'n'}, {'sence_word': 'extracteur', 'pos': 'nm'}, {'sence_word': 'éliminateur', 'pos': 'nm'}, {'sence_word': 'solvant', 'pos': 'nm'}, {'sence_word': 'quoi supprimer', 'pos': 'nm'}, {'sence_word': \"dispositif d'élimination\", 'pos': 'nm'}, {'sence_word': 'remover', 'pos': 'nm'}, {'sence_word': 'déménageur', 'pos': 'nm'}, {'sence_word': 'séparateur', 'pos': 'nm'}, {'sence_word': 'suppresseur', 'pos': 'n'}, {'sence_word': \"agent d'élimination\", 'pos': 'n'}, {'sence_word': 'décapante', 'pos': 'n'}] \n",
      "\n",
      "lang_2_to_target_words_dict [{'sence_word': 'transporteur', 'pos': ''}, {'sence_word': 'passeur', 'pos': ''}, {'sence_word': 'mobilier', 'pos': ''}, {'sence_word': 'meuble', 'pos': ''}, {'sence_word': 'ameublement', 'pos': ''}]\n",
      "0.0001010894775390625 passed get_two_target_lang_lists_intersection\n",
      "\n",
      " SENSE_INTERSECTION  ['no_equality']\n",
      "remover растворитель\n",
      "found_word_in /Users/nigula/LL/adjust_unigr_dict/lookup/reverso_en_fr/remover.xls\n",
      "definiotns_time 0.10295701026916504\n",
      "lemmat_time 5.817413330078125e-05\n",
      "going to find word in https://context.reverso.net/перевод/русский-французский/растворитель\n"
     ]
    },
    {
     "name": "stderr",
     "output_type": "stream",
     "text": [
      "\r",
      "  0%|          | 40/120000 [00:24<22:11:24,  1.50it/s]"
     ]
    },
    {
     "name": "stdout",
     "output_type": "stream",
     "text": [
      "saved to directory /Users/nigula/LL/adjust_unigr_dict/lookup/reverso_ru_fr/растворитель.xls\n",
      "request_time 0.476931095123291\n",
      "definiotns_time 0.49329495429992676\n",
      "lemmat_time 3.719329833984375e-05\n",
      "lang_1_to_target_words_dict [{'sence_word': 'dissolvant', 'pos': 'nm'}, {'sence_word': 'décapant', 'pos': 'nm'}, {'sence_word': 'démaquillant', 'pos': 'nm'}, {'sence_word': 'détachant', 'pos': 'n'}, {'sence_word': 'extracteur', 'pos': 'nm'}, {'sence_word': 'éliminateur', 'pos': 'nm'}, {'sence_word': 'solvant', 'pos': 'nm'}, {'sence_word': 'quoi supprimer', 'pos': 'nm'}, {'sence_word': \"dispositif d'élimination\", 'pos': 'nm'}, {'sence_word': 'remover', 'pos': 'nm'}, {'sence_word': 'déménageur', 'pos': 'nm'}, {'sence_word': 'séparateur', 'pos': 'nm'}, {'sence_word': 'suppresseur', 'pos': 'n'}, {'sence_word': \"agent d'élimination\", 'pos': 'n'}, {'sence_word': 'décapante', 'pos': 'n'}] \n",
      "\n",
      "lang_2_to_target_words_dict [{'sence_word': 'solvant', 'pos': 'nm'}, {'sence_word': 'diluant', 'pos': 'nm'}, {'sence_word': 'dissolvant', 'pos': 'nm'}]\n",
      "4.315376281738281e-05 passed get_two_target_lang_lists_intersection\n",
      "\n",
      " SENSE_INTERSECTION  ['dissolvant', 'solvant']\n",
      "\n",
      "************************************\n",
      "\n",
      "humble смиренный\n",
      "found_word_in /Users/nigula/LL/adjust_unigr_dict/lookup/reverso_en_fr/humble.xls\n",
      "definiotns_time 0.07247805595397949\n",
      "lemmat_time 9.799003601074219e-05\n",
      "going to find word in https://context.reverso.net/перевод/русский-французский/смиренный\n"
     ]
    },
    {
     "name": "stderr",
     "output_type": "stream",
     "text": [
      "\r",
      "  0%|          | 41/120000 [00:25<21:49:21,  1.53it/s]"
     ]
    },
    {
     "name": "stdout",
     "output_type": "stream",
     "text": [
      "saved to directory /Users/nigula/LL/adjust_unigr_dict/lookup/reverso_ru_fr/смиренный.xls\n",
      "request_time 0.5227413177490234\n",
      "turn to alternative marks\n",
      "definiotns_time 0.5469598770141602\n",
      "lemmat_time 9.5367431640625e-07\n",
      "lang_1_to_target_words_dict [{'sence_word': 'humble', 'pos': 'adj'}, {'sence_word': 'modeste', 'pos': 'adj'}, {'sence_word': 'simple', 'pos': 'adj'}, {'sence_word': 'humilier', 'pos': 'v'}, {'sence_word': 'humilité', 'pos': 'v'}, {'sence_word': 'modestie', 'pos': 'v'}, {'sence_word': 'humblement', 'pos': 'v'}, {'sence_word': 'pauvre', 'pos': 'v'}, {'sence_word': 'rabaisser', 'pos': 'v'}, {'sence_word': 'débonnaires', 'pos': 'v'}, {'sence_word': 'humiliez-vous', 'pos': 'v'}, {'sence_word': 'abaisser', 'pos': 'v'}, {'sence_word': 'modestement', 'pos': 'v'}, {'sence_word': 'malheureux', 'pos': 'v'}, {'sence_word': 'humilie-toi', 'pos': 'v'}] \n",
      "\n",
      "lang_2_to_target_words_dict []\n",
      "1.9073486328125e-06 passed get_two_target_lang_lists_intersection\n",
      "\n",
      " SENSE_INTERSECTION  ['no_equality']\n",
      "/Users/nigula/LL/adjust_unigr_dict/reverse_connected_dicts/cross_barbos/en_ru_fr/40.csv\n",
      "humble скромный\n",
      "found_word_in /Users/nigula/LL/adjust_unigr_dict/lookup/reverso_en_fr/humble.xls\n",
      "definiotns_time 0.09393715858459473\n",
      "lemmat_time 5.984306335449219e-05\n",
      "going to find word in https://context.reverso.net/перевод/русский-французский/скромный\n"
     ]
    },
    {
     "name": "stderr",
     "output_type": "stream",
     "text": [
      "\r",
      "  0%|          | 42/120000 [00:25<21:31:49,  1.55it/s]"
     ]
    },
    {
     "name": "stdout",
     "output_type": "stream",
     "text": [
      "saved to directory /Users/nigula/LL/adjust_unigr_dict/lookup/reverso_ru_fr/скромный.xls\n",
      "request_time 0.4976482391357422\n",
      "definiotns_time 0.5259230136871338\n",
      "lemmat_time 0.00011301040649414062\n",
      "lang_1_to_target_words_dict [{'sence_word': 'humble', 'pos': 'adj'}, {'sence_word': 'modeste', 'pos': 'adj'}, {'sence_word': 'simple', 'pos': 'adj'}, {'sence_word': 'humilier', 'pos': 'v'}, {'sence_word': 'humilité', 'pos': 'v'}, {'sence_word': 'modestie', 'pos': 'v'}, {'sence_word': 'humblement', 'pos': 'v'}, {'sence_word': 'pauvre', 'pos': 'v'}, {'sence_word': 'rabaisser', 'pos': 'v'}, {'sence_word': 'débonnaires', 'pos': 'v'}, {'sence_word': 'humiliez-vous', 'pos': 'v'}, {'sence_word': 'abaisser', 'pos': 'v'}, {'sence_word': 'modestement', 'pos': 'v'}, {'sence_word': 'malheureux', 'pos': 'v'}, {'sence_word': 'humilie-toi', 'pos': 'v'}] \n",
      "\n",
      "lang_2_to_target_words_dict [{'sence_word': 'modeste', 'pos': 'adj'}, {'sence_word': 'humble', 'pos': 'adj'}, {'sence_word': 'timide', 'pos': 'adj'}, {'sence_word': 'discret', 'pos': 'adj'}, {'sence_word': 'modestement', 'pos': 'adj'}, {'sence_word': 'petit', 'pos': 'adj'}]\n",
      "0.0005919933319091797 passed get_two_target_lang_lists_intersection\n",
      "\n",
      " SENSE_INTERSECTION  ['humble', 'modeste']\n",
      "humble простой\n",
      "found_word_in /Users/nigula/LL/adjust_unigr_dict/lookup/reverso_en_fr/humble.xls\n"
     ]
    },
    {
     "name": "stderr",
     "output_type": "stream",
     "text": [
      "\r",
      "  0%|          | 43/120000 [00:26<16:50:18,  1.98it/s]"
     ]
    },
    {
     "name": "stdout",
     "output_type": "stream",
     "text": [
      "definiotns_time 0.08431100845336914\n",
      "lemmat_time 5.3882598876953125e-05\n",
      "found_word_in /Users/nigula/LL/adjust_unigr_dict/lookup/reverso_ru_fr/простой.xls\n",
      "definiotns_time 0.08381271362304688\n",
      "lemmat_time 7.796287536621094e-05\n",
      "lang_1_to_target_words_dict [{'sence_word': 'humble', 'pos': 'adj'}, {'sence_word': 'modeste', 'pos': 'adj'}, {'sence_word': 'simple', 'pos': 'adj'}, {'sence_word': 'humilier', 'pos': 'v'}, {'sence_word': 'humilité', 'pos': 'v'}, {'sence_word': 'modestie', 'pos': 'v'}, {'sence_word': 'humblement', 'pos': 'v'}, {'sence_word': 'pauvre', 'pos': 'v'}, {'sence_word': 'rabaisser', 'pos': 'v'}, {'sence_word': 'débonnaires', 'pos': 'v'}, {'sence_word': 'humiliez-vous', 'pos': 'v'}, {'sence_word': 'abaisser', 'pos': 'v'}, {'sence_word': 'modestement', 'pos': 'v'}, {'sence_word': 'malheureux', 'pos': 'v'}, {'sence_word': 'humilie-toi', 'pos': 'v'}] \n",
      "\n",
      "lang_2_to_target_words_dict [{'sence_word': 'simple', 'pos': 'adj'}, {'sence_word': 'facile', 'pos': 'adj'}, {'sence_word': 'ordinaire', 'pos': 'adj/nm'}, {'sence_word': 'simplement', 'pos': 'adj/nm'}, {'sence_word': 'basique', 'pos': 'adj'}, {'sence_word': 'inactivité', 'pos': 'nf'}, {'sence_word': 'surestaries', 'pos': 'nf'}, {'sence_word': 'suis juste', 'pos': 'nf'}, {'sence_word': 'modeste', 'pos': 'nf'}, {'sence_word': 'simplicité', 'pos': 'nf'}]\n",
      "0.00010180473327636719 passed get_two_target_lang_lists_intersection\n",
      "\n",
      " SENSE_INTERSECTION  ['simple']\n",
      "humble робкий\n",
      "found_word_in /Users/nigula/LL/adjust_unigr_dict/lookup/reverso_en_fr/humble.xls\n",
      "definiotns_time 0.07119226455688477\n",
      "lemmat_time 4.696846008300781e-05\n",
      "going to find word in https://context.reverso.net/перевод/русский-французский/робкий\n"
     ]
    },
    {
     "name": "stderr",
     "output_type": "stream",
     "text": [
      "\r",
      "  0%|          | 44/120000 [00:26<18:15:54,  1.82it/s]"
     ]
    },
    {
     "name": "stdout",
     "output_type": "stream",
     "text": [
      "saved to directory /Users/nigula/LL/adjust_unigr_dict/lookup/reverso_ru_fr/робкий.xls\n",
      "request_time 0.5552480220794678\n",
      "definiotns_time 0.5734162330627441\n",
      "lemmat_time 2.3126602172851562e-05\n",
      "lang_1_to_target_words_dict [{'sence_word': 'humble', 'pos': 'adj'}, {'sence_word': 'modeste', 'pos': 'adj'}, {'sence_word': 'simple', 'pos': 'adj'}, {'sence_word': 'humilier', 'pos': 'v'}, {'sence_word': 'humilité', 'pos': 'v'}, {'sence_word': 'modestie', 'pos': 'v'}, {'sence_word': 'humblement', 'pos': 'v'}, {'sence_word': 'pauvre', 'pos': 'v'}, {'sence_word': 'rabaisser', 'pos': 'v'}, {'sence_word': 'débonnaires', 'pos': 'v'}, {'sence_word': 'humiliez-vous', 'pos': 'v'}, {'sence_word': 'abaisser', 'pos': 'v'}, {'sence_word': 'modestement', 'pos': 'v'}, {'sence_word': 'malheureux', 'pos': 'v'}, {'sence_word': 'humilie-toi', 'pos': 'v'}] \n",
      "\n",
      "lang_2_to_target_words_dict [{'sence_word': 'timide', 'pos': 'adj'}, {'sence_word': 'craintif', 'pos': 'adj'}]\n",
      "2.8133392333984375e-05 passed get_two_target_lang_lists_intersection\n",
      "\n",
      " SENSE_INTERSECTION  ['no_equality']\n",
      "humble бедный\n",
      "found_word_in /Users/nigula/LL/adjust_unigr_dict/lookup/reverso_en_fr/humble.xls\n",
      "definiotns_time 0.0868232250213623\n",
      "lemmat_time 5.2928924560546875e-05\n",
      "going to find word in https://context.reverso.net/перевод/русский-французский/бедный\n",
      "saved to directory /Users/nigula/LL/adjust_unigr_dict/lookup/reverso_ru_fr/бедный.xls\n"
     ]
    },
    {
     "ename": "KeyboardInterrupt",
     "evalue": "",
     "output_type": "error",
     "traceback": [
      "\u001b[0;31m---------------------------------------------------------------------------\u001b[0m",
      "\u001b[0;31mFileNotFoundError\u001b[0m                         Traceback (most recent call last)",
      "\u001b[0;32m<ipython-input-18-b4cdd87fe97a>\u001b[0m in \u001b[0;36mget_definitions_reverso\u001b[0;34m(word, from_lang, to_lang, print_output)\u001b[0m\n\u001b[1;32m      8\u001b[0m         \u001b[0mword_dir\u001b[0m \u001b[0;34m=\u001b[0m \u001b[0mos\u001b[0m\u001b[0;34m.\u001b[0m\u001b[0mpath\u001b[0m\u001b[0;34m.\u001b[0m\u001b[0mjoin\u001b[0m\u001b[0;34m(\u001b[0m\u001b[0;34m\"/Users/nigula/LL/adjust_unigr_dict/lookup/reverso\"\u001b[0m \u001b[0;34m+\u001b[0m \u001b[0;34m\"_\"\u001b[0m \u001b[0;34m+\u001b[0m \u001b[0mland_dict\u001b[0m\u001b[0;34m[\u001b[0m\u001b[0mfrom_lang\u001b[0m\u001b[0;34m]\u001b[0m \u001b[0;34m+\u001b[0m \u001b[0;34m\"_\"\u001b[0m \u001b[0;34m+\u001b[0m \u001b[0mland_dict\u001b[0m\u001b[0;34m[\u001b[0m\u001b[0mto_lang\u001b[0m\u001b[0;34m]\u001b[0m\u001b[0;34m,\u001b[0m\u001b[0mword\u001b[0m \u001b[0;34m+\u001b[0m \u001b[0;34m\".xls\"\u001b[0m\u001b[0;34m)\u001b[0m\u001b[0;34m\u001b[0m\u001b[0;34m\u001b[0m\u001b[0m\n\u001b[0;32m----> 9\u001b[0;31m         \u001b[0minfile\u001b[0m \u001b[0;34m=\u001b[0m \u001b[0mopen\u001b[0m\u001b[0;34m(\u001b[0m\u001b[0mword_dir\u001b[0m\u001b[0;34m,\u001b[0m\u001b[0;34m\"r\"\u001b[0m\u001b[0;34m)\u001b[0m\u001b[0;34m\u001b[0m\u001b[0;34m\u001b[0m\u001b[0m\n\u001b[0m\u001b[1;32m     10\u001b[0m         \u001b[0mprint\u001b[0m\u001b[0;34m(\u001b[0m\u001b[0;34m\"found_word_in\"\u001b[0m\u001b[0;34m,\u001b[0m \u001b[0mword_dir\u001b[0m\u001b[0;34m)\u001b[0m\u001b[0;34m\u001b[0m\u001b[0;34m\u001b[0m\u001b[0m\n",
      "\u001b[0;31mFileNotFoundError\u001b[0m: [Errno 2] No such file or directory: '/Users/nigula/LL/adjust_unigr_dict/lookup/reverso_ru_fr/бедный.xls'",
      "\nDuring handling of the above exception, another exception occurred:\n",
      "\u001b[0;31mKeyboardInterrupt\u001b[0m                         Traceback (most recent call last)",
      "\u001b[0;32m<ipython-input-24-ee075aeec6e6>\u001b[0m in \u001b[0;36m<module>\u001b[0;34m\u001b[0m\n\u001b[0;32m----> 1\u001b[0;31m \u001b[0mdf_en_ru_fr\u001b[0m \u001b[0;34m=\u001b[0m \u001b[0mget_multilang_from_df\u001b[0m\u001b[0;34m(\u001b[0m\u001b[0mdf_en_ru_yandex\u001b[0m\u001b[0;34m,\u001b[0m \u001b[0;34m\"английский\"\u001b[0m\u001b[0;34m,\u001b[0m \u001b[0;34m\"русский\"\u001b[0m\u001b[0;34m,\u001b[0m \u001b[0;34m\"французский\"\u001b[0m\u001b[0;34m,\u001b[0m \u001b[0mfr_lemmatize\u001b[0m\u001b[0;34m)\u001b[0m\u001b[0;34m\u001b[0m\u001b[0;34m\u001b[0m\u001b[0m\n\u001b[0m",
      "\u001b[0;32m<ipython-input-20-aaae8fb7a0f5>\u001b[0m in \u001b[0;36mget_multilang_from_df\u001b[0;34m(df, lookup_from, lookup_to, target_lang, target_lang_lemmatizer_func)\u001b[0m\n\u001b[1;32m     18\u001b[0m         \u001b[0mloc_1_word\u001b[0m \u001b[0;34m=\u001b[0m \u001b[0mrow\u001b[0m\u001b[0;34m[\u001b[0m\u001b[0;34m\"local_word\"\u001b[0m\u001b[0;34m]\u001b[0m\u001b[0;34m\u001b[0m\u001b[0;34m\u001b[0m\u001b[0m\n\u001b[1;32m     19\u001b[0m         \u001b[0mprint\u001b[0m\u001b[0;34m(\u001b[0m\u001b[0meng_word\u001b[0m\u001b[0;34m,\u001b[0m \u001b[0mloc_1_word\u001b[0m\u001b[0;34m)\u001b[0m\u001b[0;34m\u001b[0m\u001b[0;34m\u001b[0m\u001b[0m\n\u001b[0;32m---> 20\u001b[0;31m         \u001b[0msense_intersect\u001b[0m \u001b[0;34m=\u001b[0m \u001b[0mget_cross_translate_reverso\u001b[0m\u001b[0;34m(\u001b[0m\u001b[0meng_word\u001b[0m\u001b[0;34m,\u001b[0m \u001b[0mlookup_from\u001b[0m\u001b[0;34m,\u001b[0m \u001b[0mloc_1_word\u001b[0m\u001b[0;34m,\u001b[0m \u001b[0mlookup_to\u001b[0m\u001b[0;34m,\u001b[0m \u001b[0mtarget_lang\u001b[0m\u001b[0;34m,\u001b[0m \u001b[0mtarget_lang_lemmatizer_func\u001b[0m\u001b[0;34m)\u001b[0m\u001b[0;34m\u001b[0m\u001b[0;34m\u001b[0m\u001b[0m\n\u001b[0m\u001b[1;32m     21\u001b[0m         \u001b[0;31m#sense_intersect = get_cross_translate_yand(eng_word, \"en\", loc_1_word,\"ru\", \"fr\", fr_lemmatize)\u001b[0m\u001b[0;34m\u001b[0m\u001b[0;34m\u001b[0m\u001b[0;34m\u001b[0m\u001b[0m\n\u001b[1;32m     22\u001b[0m         \u001b[0mprint\u001b[0m\u001b[0;34m(\u001b[0m\u001b[0;34m\"\\n SENSE_INTERSECTION \"\u001b[0m\u001b[0;34m,\u001b[0m \u001b[0msense_intersect\u001b[0m\u001b[0;34m)\u001b[0m\u001b[0;34m\u001b[0m\u001b[0;34m\u001b[0m\u001b[0m\n",
      "\u001b[0;32m<ipython-input-19-8e1ffa24b5ad>\u001b[0m in \u001b[0;36mget_cross_translate_reverso\u001b[0;34m(word_lang_1, lang_1, word_lang_2, lang_2, target_lang, lemmatizer_func)\u001b[0m\n\u001b[1;32m      3\u001b[0m     \u001b[0mpreprocess_words\u001b[0m\u001b[0;34m(\u001b[0m\u001b[0mlang_1_to_target_words_dict\u001b[0m\u001b[0;34m,\u001b[0m \u001b[0mlemmatizer_func\u001b[0m\u001b[0;34m)\u001b[0m\u001b[0;34m\u001b[0m\u001b[0;34m\u001b[0m\u001b[0m\n\u001b[1;32m      4\u001b[0m \u001b[0;34m\u001b[0m\u001b[0m\n\u001b[0;32m----> 5\u001b[0;31m     \u001b[0mlang_2_to_target_words_dict\u001b[0m \u001b[0;34m=\u001b[0m \u001b[0mget_definitions_reverso\u001b[0m\u001b[0;34m(\u001b[0m\u001b[0mword_lang_2\u001b[0m\u001b[0;34m,\u001b[0m \u001b[0mlang_2\u001b[0m\u001b[0;34m,\u001b[0m \u001b[0mtarget_lang\u001b[0m\u001b[0;34m,\u001b[0m \u001b[0mprint_output\u001b[0m\u001b[0;34m=\u001b[0m\u001b[0;32mTrue\u001b[0m\u001b[0;34m)\u001b[0m\u001b[0;34m\u001b[0m\u001b[0;34m\u001b[0m\u001b[0m\n\u001b[0m\u001b[1;32m      6\u001b[0m     \u001b[0mpreprocess_words\u001b[0m\u001b[0;34m(\u001b[0m\u001b[0mlang_2_to_target_words_dict\u001b[0m\u001b[0;34m,\u001b[0m \u001b[0mlemmatizer_func\u001b[0m\u001b[0;34m)\u001b[0m\u001b[0;34m\u001b[0m\u001b[0;34m\u001b[0m\u001b[0m\n\u001b[1;32m      7\u001b[0m \u001b[0;34m\u001b[0m\u001b[0m\n",
      "\u001b[0;32m<ipython-input-18-b4cdd87fe97a>\u001b[0m in \u001b[0;36mget_definitions_reverso\u001b[0;34m(word, from_lang, to_lang, print_output)\u001b[0m\n\u001b[1;32m     12\u001b[0m         \u001b[0msoup\u001b[0m \u001b[0;34m=\u001b[0m \u001b[0mbs\u001b[0m\u001b[0;34m(\u001b[0m\u001b[0mcontents\u001b[0m\u001b[0;34m,\u001b[0m\u001b[0;34m'html.parser'\u001b[0m\u001b[0;34m)\u001b[0m\u001b[0;34m\u001b[0m\u001b[0;34m\u001b[0m\u001b[0m\n\u001b[1;32m     13\u001b[0m     \u001b[0;32mexcept\u001b[0m\u001b[0;34m:\u001b[0m\u001b[0;34m\u001b[0m\u001b[0;34m\u001b[0m\u001b[0m\n\u001b[0;32m---> 14\u001b[0;31m         \u001b[0msoup\u001b[0m \u001b[0;34m=\u001b[0m \u001b[0msend_request_func\u001b[0m\u001b[0;34m(\u001b[0m\u001b[0mfrom_lang\u001b[0m\u001b[0;34m,\u001b[0m\u001b[0mto_lang\u001b[0m\u001b[0;34m,\u001b[0m \u001b[0mword\u001b[0m\u001b[0;34m,\u001b[0m \u001b[0mheader_main\u001b[0m\u001b[0;34m,\u001b[0m \u001b[0mlogin\u001b[0m\u001b[0;34m,\u001b[0m \u001b[0mland_dict\u001b[0m\u001b[0;34m[\u001b[0m\u001b[0mfrom_lang\u001b[0m\u001b[0;34m]\u001b[0m\u001b[0;34m,\u001b[0m \u001b[0mland_dict\u001b[0m\u001b[0;34m[\u001b[0m\u001b[0mto_lang\u001b[0m\u001b[0;34m]\u001b[0m\u001b[0;34m)\u001b[0m\u001b[0;34m\u001b[0m\u001b[0;34m\u001b[0m\u001b[0m\n\u001b[0m\u001b[1;32m     15\u001b[0m     \u001b[0;31m#print(soup.prettify())\u001b[0m\u001b[0;34m\u001b[0m\u001b[0;34m\u001b[0m\u001b[0;34m\u001b[0m\u001b[0m\n\u001b[1;32m     16\u001b[0m     \u001b[0mfirst_string_passed\u001b[0m \u001b[0;34m=\u001b[0m \u001b[0;32mFalse\u001b[0m\u001b[0;34m\u001b[0m\u001b[0;34m\u001b[0m\u001b[0m\n",
      "\u001b[0;32m<ipython-input-4-bafdf17107d1>\u001b[0m in \u001b[0;36msend_request_func\u001b[0;34m(from_lang, to_lang, word, header_main, login, en_from_lang, en_to_lang)\u001b[0m\n\u001b[1;32m     11\u001b[0m     \u001b[0mfile\u001b[0m\u001b[0;34m.\u001b[0m\u001b[0mclose\u001b[0m\u001b[0;34m(\u001b[0m\u001b[0;34m)\u001b[0m\u001b[0;34m\u001b[0m\u001b[0;34m\u001b[0m\u001b[0m\n\u001b[1;32m     12\u001b[0m     \u001b[0mprint\u001b[0m\u001b[0;34m(\u001b[0m\u001b[0;34m\"saved to directory\"\u001b[0m\u001b[0;34m,\u001b[0m \u001b[0msave_dir\u001b[0m\u001b[0;34m)\u001b[0m\u001b[0;34m\u001b[0m\u001b[0;34m\u001b[0m\u001b[0m\n\u001b[0;32m---> 13\u001b[0;31m     \u001b[0msoup\u001b[0m \u001b[0;34m=\u001b[0m \u001b[0mbs\u001b[0m\u001b[0;34m(\u001b[0m\u001b[0mresponse\u001b[0m\u001b[0;34m.\u001b[0m\u001b[0mtext\u001b[0m\u001b[0;34m,\u001b[0m \u001b[0;34m'html.parser'\u001b[0m\u001b[0;34m)\u001b[0m\u001b[0;34m\u001b[0m\u001b[0;34m\u001b[0m\u001b[0m\n\u001b[0m\u001b[1;32m     14\u001b[0m     \u001b[0mtime\u001b[0m\u001b[0;34m.\u001b[0m\u001b[0msleep\u001b[0m\u001b[0;34m(\u001b[0m\u001b[0;36m0.01\u001b[0m\u001b[0;34m)\u001b[0m\u001b[0;34m\u001b[0m\u001b[0;34m\u001b[0m\u001b[0m\n\u001b[1;32m     15\u001b[0m     \u001b[0mprint\u001b[0m\u001b[0;34m(\u001b[0m\u001b[0;34m\"request_time\"\u001b[0m\u001b[0;34m,\u001b[0m\u001b[0mtime\u001b[0m\u001b[0;34m.\u001b[0m\u001b[0mtime\u001b[0m\u001b[0;34m(\u001b[0m\u001b[0;34m)\u001b[0m \u001b[0;34m-\u001b[0m \u001b[0mstart\u001b[0m\u001b[0;34m)\u001b[0m\u001b[0;34m\u001b[0m\u001b[0;34m\u001b[0m\u001b[0m\n",
      "\u001b[0;32m~/Library/Python/3.7/lib/python/site-packages/bs4/__init__.py\u001b[0m in \u001b[0;36m__init__\u001b[0;34m(self, markup, features, builder, parse_only, from_encoding, exclude_encodings, **kwargs)\u001b[0m\n\u001b[1;32m    279\u001b[0m             \u001b[0mself\u001b[0m\u001b[0;34m.\u001b[0m\u001b[0mreset\u001b[0m\u001b[0;34m(\u001b[0m\u001b[0;34m)\u001b[0m\u001b[0;34m\u001b[0m\u001b[0;34m\u001b[0m\u001b[0m\n\u001b[1;32m    280\u001b[0m             \u001b[0;32mtry\u001b[0m\u001b[0;34m:\u001b[0m\u001b[0;34m\u001b[0m\u001b[0;34m\u001b[0m\u001b[0m\n\u001b[0;32m--> 281\u001b[0;31m                 \u001b[0mself\u001b[0m\u001b[0;34m.\u001b[0m\u001b[0m_feed\u001b[0m\u001b[0;34m(\u001b[0m\u001b[0;34m)\u001b[0m\u001b[0;34m\u001b[0m\u001b[0;34m\u001b[0m\u001b[0m\n\u001b[0m\u001b[1;32m    282\u001b[0m                 \u001b[0;32mbreak\u001b[0m\u001b[0;34m\u001b[0m\u001b[0;34m\u001b[0m\u001b[0m\n\u001b[1;32m    283\u001b[0m             \u001b[0;32mexcept\u001b[0m \u001b[0mParserRejectedMarkup\u001b[0m\u001b[0;34m:\u001b[0m\u001b[0;34m\u001b[0m\u001b[0;34m\u001b[0m\u001b[0m\n",
      "\u001b[0;32m~/Library/Python/3.7/lib/python/site-packages/bs4/__init__.py\u001b[0m in \u001b[0;36m_feed\u001b[0;34m(self)\u001b[0m\n\u001b[1;32m    340\u001b[0m         \u001b[0mself\u001b[0m\u001b[0;34m.\u001b[0m\u001b[0mbuilder\u001b[0m\u001b[0;34m.\u001b[0m\u001b[0mreset\u001b[0m\u001b[0;34m(\u001b[0m\u001b[0;34m)\u001b[0m\u001b[0;34m\u001b[0m\u001b[0;34m\u001b[0m\u001b[0m\n\u001b[1;32m    341\u001b[0m \u001b[0;34m\u001b[0m\u001b[0m\n\u001b[0;32m--> 342\u001b[0;31m         \u001b[0mself\u001b[0m\u001b[0;34m.\u001b[0m\u001b[0mbuilder\u001b[0m\u001b[0;34m.\u001b[0m\u001b[0mfeed\u001b[0m\u001b[0;34m(\u001b[0m\u001b[0mself\u001b[0m\u001b[0;34m.\u001b[0m\u001b[0mmarkup\u001b[0m\u001b[0;34m)\u001b[0m\u001b[0;34m\u001b[0m\u001b[0;34m\u001b[0m\u001b[0m\n\u001b[0m\u001b[1;32m    343\u001b[0m         \u001b[0;31m# Close out any unfinished strings and close all the open tags.\u001b[0m\u001b[0;34m\u001b[0m\u001b[0;34m\u001b[0m\u001b[0;34m\u001b[0m\u001b[0m\n\u001b[1;32m    344\u001b[0m         \u001b[0mself\u001b[0m\u001b[0;34m.\u001b[0m\u001b[0mendData\u001b[0m\u001b[0;34m(\u001b[0m\u001b[0;34m)\u001b[0m\u001b[0;34m\u001b[0m\u001b[0;34m\u001b[0m\u001b[0m\n",
      "\u001b[0;32m~/Library/Python/3.7/lib/python/site-packages/bs4/builder/_htmlparser.py\u001b[0m in \u001b[0;36mfeed\u001b[0;34m(self, markup)\u001b[0m\n\u001b[1;32m    245\u001b[0m         \u001b[0mparser\u001b[0m\u001b[0;34m.\u001b[0m\u001b[0msoup\u001b[0m \u001b[0;34m=\u001b[0m \u001b[0mself\u001b[0m\u001b[0;34m.\u001b[0m\u001b[0msoup\u001b[0m\u001b[0;34m\u001b[0m\u001b[0;34m\u001b[0m\u001b[0m\n\u001b[1;32m    246\u001b[0m         \u001b[0;32mtry\u001b[0m\u001b[0;34m:\u001b[0m\u001b[0;34m\u001b[0m\u001b[0;34m\u001b[0m\u001b[0m\n\u001b[0;32m--> 247\u001b[0;31m             \u001b[0mparser\u001b[0m\u001b[0;34m.\u001b[0m\u001b[0mfeed\u001b[0m\u001b[0;34m(\u001b[0m\u001b[0mmarkup\u001b[0m\u001b[0;34m)\u001b[0m\u001b[0;34m\u001b[0m\u001b[0;34m\u001b[0m\u001b[0m\n\u001b[0m\u001b[1;32m    248\u001b[0m             \u001b[0mparser\u001b[0m\u001b[0;34m.\u001b[0m\u001b[0mclose\u001b[0m\u001b[0;34m(\u001b[0m\u001b[0;34m)\u001b[0m\u001b[0;34m\u001b[0m\u001b[0;34m\u001b[0m\u001b[0m\n\u001b[1;32m    249\u001b[0m         \u001b[0;32mexcept\u001b[0m \u001b[0mHTMLParseError\u001b[0m \u001b[0;32mas\u001b[0m \u001b[0me\u001b[0m\u001b[0;34m:\u001b[0m\u001b[0;34m\u001b[0m\u001b[0;34m\u001b[0m\u001b[0m\n",
      "\u001b[0;32m/usr/local/Cellar/python/3.7.4/Frameworks/Python.framework/Versions/3.7/lib/python3.7/html/parser.py\u001b[0m in \u001b[0;36mfeed\u001b[0;34m(self, data)\u001b[0m\n\u001b[1;32m    109\u001b[0m         \"\"\"\n\u001b[1;32m    110\u001b[0m         \u001b[0mself\u001b[0m\u001b[0;34m.\u001b[0m\u001b[0mrawdata\u001b[0m \u001b[0;34m=\u001b[0m \u001b[0mself\u001b[0m\u001b[0;34m.\u001b[0m\u001b[0mrawdata\u001b[0m \u001b[0;34m+\u001b[0m \u001b[0mdata\u001b[0m\u001b[0;34m\u001b[0m\u001b[0;34m\u001b[0m\u001b[0m\n\u001b[0;32m--> 111\u001b[0;31m         \u001b[0mself\u001b[0m\u001b[0;34m.\u001b[0m\u001b[0mgoahead\u001b[0m\u001b[0;34m(\u001b[0m\u001b[0;36m0\u001b[0m\u001b[0;34m)\u001b[0m\u001b[0;34m\u001b[0m\u001b[0;34m\u001b[0m\u001b[0m\n\u001b[0m\u001b[1;32m    112\u001b[0m \u001b[0;34m\u001b[0m\u001b[0m\n\u001b[1;32m    113\u001b[0m     \u001b[0;32mdef\u001b[0m \u001b[0mclose\u001b[0m\u001b[0;34m(\u001b[0m\u001b[0mself\u001b[0m\u001b[0;34m)\u001b[0m\u001b[0;34m:\u001b[0m\u001b[0;34m\u001b[0m\u001b[0;34m\u001b[0m\u001b[0m\n",
      "\u001b[0;32m/usr/local/Cellar/python/3.7.4/Frameworks/Python.framework/Versions/3.7/lib/python3.7/html/parser.py\u001b[0m in \u001b[0;36mgoahead\u001b[0;34m(self, end)\u001b[0m\n\u001b[1;32m    152\u001b[0m                     \u001b[0mj\u001b[0m \u001b[0;34m=\u001b[0m \u001b[0mn\u001b[0m\u001b[0;34m\u001b[0m\u001b[0;34m\u001b[0m\u001b[0m\n\u001b[1;32m    153\u001b[0m             \u001b[0;32melse\u001b[0m\u001b[0;34m:\u001b[0m\u001b[0;34m\u001b[0m\u001b[0;34m\u001b[0m\u001b[0m\n\u001b[0;32m--> 154\u001b[0;31m                 \u001b[0mmatch\u001b[0m \u001b[0;34m=\u001b[0m \u001b[0mself\u001b[0m\u001b[0;34m.\u001b[0m\u001b[0minteresting\u001b[0m\u001b[0;34m.\u001b[0m\u001b[0msearch\u001b[0m\u001b[0;34m(\u001b[0m\u001b[0mrawdata\u001b[0m\u001b[0;34m,\u001b[0m \u001b[0mi\u001b[0m\u001b[0;34m)\u001b[0m  \u001b[0;31m# < or &\u001b[0m\u001b[0;34m\u001b[0m\u001b[0;34m\u001b[0m\u001b[0m\n\u001b[0m\u001b[1;32m    155\u001b[0m                 \u001b[0;32mif\u001b[0m \u001b[0mmatch\u001b[0m\u001b[0;34m:\u001b[0m\u001b[0;34m\u001b[0m\u001b[0;34m\u001b[0m\u001b[0m\n\u001b[1;32m    156\u001b[0m                     \u001b[0mj\u001b[0m \u001b[0;34m=\u001b[0m \u001b[0mmatch\u001b[0m\u001b[0;34m.\u001b[0m\u001b[0mstart\u001b[0m\u001b[0;34m(\u001b[0m\u001b[0;34m)\u001b[0m\u001b[0;34m\u001b[0m\u001b[0;34m\u001b[0m\u001b[0m\n",
      "\u001b[0;31mKeyboardInterrupt\u001b[0m: "
     ]
    }
   ],
   "source": [
    "df_en_ru_fr = get_multilang_from_df(df_en_ru_yandex, \"английский\", \"русский\", \"французский\", fr_lemmatize)\n"
   ]
  },
  {
   "cell_type": "code",
   "execution_count": 0,
   "metadata": {
    "colab": {},
    "colab_type": "code",
    "id": "otVYJOfjsE10",
    "outputId": "97c5d002-4dbf-4b98-b339-cf07bec044e3"
   },
   "outputs": [
    {
     "data": {
      "text/html": [
       "<div>\n",
       "<style scoped>\n",
       "    .dataframe tbody tr th:only-of-type {\n",
       "        vertical-align: middle;\n",
       "    }\n",
       "\n",
       "    .dataframe tbody tr th {\n",
       "        vertical-align: top;\n",
       "    }\n",
       "\n",
       "    .dataframe thead th {\n",
       "        text-align: right;\n",
       "    }\n",
       "</style>\n",
       "<table border=\"1\" class=\"dataframe\">\n",
       "  <thead>\n",
       "    <tr style=\"text-align: right;\">\n",
       "      <th></th>\n",
       "      <th>en</th>\n",
       "      <th>ru</th>\n",
       "      <th>fr</th>\n",
       "    </tr>\n",
       "  </thead>\n",
       "  <tbody>\n",
       "    <tr>\n",
       "      <th>0</th>\n",
       "      <td>before</td>\n",
       "      <td>до</td>\n",
       "      <td>avant</td>\n",
       "    </tr>\n",
       "    <tr>\n",
       "      <th>1</th>\n",
       "      <td>before</td>\n",
       "      <td>до</td>\n",
       "      <td>auparavant</td>\n",
       "    </tr>\n",
       "    <tr>\n",
       "      <th>2</th>\n",
       "      <td>before</td>\n",
       "      <td>до</td>\n",
       "      <td>précédant</td>\n",
       "    </tr>\n",
       "    <tr>\n",
       "      <th>3</th>\n",
       "      <td>before</td>\n",
       "      <td>впереди</td>\n",
       "      <td>devant</td>\n",
       "    </tr>\n",
       "    <tr>\n",
       "      <th>4</th>\n",
       "      <td>before</td>\n",
       "      <td>пред</td>\n",
       "      <td>devant</td>\n",
       "    </tr>\n",
       "  </tbody>\n",
       "</table>\n",
       "</div>"
      ],
      "text/plain": [
       "       en       ru          fr\n",
       "0  before       до       avant\n",
       "1  before       до  auparavant\n",
       "2  before       до   précédant\n",
       "3  before  впереди      devant\n",
       "4  before     пред      devant"
      ]
     },
     "execution_count": 132,
     "metadata": {
      "tags": []
     },
     "output_type": "execute_result"
    }
   ],
   "source": [
    "df_en_ru_fr.head()"
   ]
  },
  {
   "cell_type": "code",
   "execution_count": 0,
   "metadata": {
    "colab": {},
    "colab_type": "code",
    "id": "z-LtVYVosE14"
   },
   "outputs": [],
   "source": [
    "df_en_ru_fr.to_csv(\"/Users/nigula/LL/adjust_unigr_dict/reverse_connected_dicts/y_crossrevers_vs_pos_cycle/en_ru_fr_no_cossim.csv\")"
   ]
  },
  {
   "cell_type": "markdown",
   "metadata": {
    "colab_type": "text",
    "id": "k-vru-HLsE15"
   },
   "source": [
    "# FR_EN_RU"
   ]
  },
  {
   "cell_type": "code",
   "execution_count": 0,
   "metadata": {
    "colab": {},
    "colab_type": "code",
    "id": "CjHFXAWusE16",
    "outputId": "7911a40e-b101-44f3-c3e8-48f97d9e12ce",
    "scrolled": false
   },
   "outputs": [
    {
     "data": {
      "text/html": [
       "<div>\n",
       "<style scoped>\n",
       "    .dataframe tbody tr th:only-of-type {\n",
       "        vertical-align: middle;\n",
       "    }\n",
       "\n",
       "    .dataframe tbody tr th {\n",
       "        vertical-align: top;\n",
       "    }\n",
       "\n",
       "    .dataframe thead th {\n",
       "        text-align: right;\n",
       "    }\n",
       "</style>\n",
       "<table border=\"1\" class=\"dataframe\">\n",
       "  <thead>\n",
       "    <tr style=\"text-align: right;\">\n",
       "      <th></th>\n",
       "      <th>Unnamed: 0</th>\n",
       "      <th>word</th>\n",
       "      <th>local_word</th>\n",
       "      <th>pos</th>\n",
       "      <th>examples</th>\n",
       "      <th>local_examples</th>\n",
       "    </tr>\n",
       "  </thead>\n",
       "  <tbody>\n",
       "    <tr>\n",
       "      <th>0</th>\n",
       "      <td>0</td>\n",
       "      <td>tomber</td>\n",
       "      <td>fall</td>\n",
       "      <td>verb</td>\n",
       "      <td>[]</td>\n",
       "      <td>[]</td>\n",
       "    </tr>\n",
       "    <tr>\n",
       "      <th>1</th>\n",
       "      <td>1</td>\n",
       "      <td>tomber</td>\n",
       "      <td>fell</td>\n",
       "      <td>noun</td>\n",
       "      <td>[]</td>\n",
       "      <td>[]</td>\n",
       "    </tr>\n",
       "    <tr>\n",
       "      <th>2</th>\n",
       "      <td>2</td>\n",
       "      <td>tomber</td>\n",
       "      <td>fall down</td>\n",
       "      <td>verb</td>\n",
       "      <td>[]</td>\n",
       "      <td>[]</td>\n",
       "    </tr>\n",
       "    <tr>\n",
       "      <th>3</th>\n",
       "      <td>3</td>\n",
       "      <td>pénétrer</td>\n",
       "      <td>penetrate</td>\n",
       "      <td>verb</td>\n",
       "      <td>[]</td>\n",
       "      <td>[]</td>\n",
       "    </tr>\n",
       "    <tr>\n",
       "      <th>4</th>\n",
       "      <td>4</td>\n",
       "      <td>complet</td>\n",
       "      <td>full</td>\n",
       "      <td>noun</td>\n",
       "      <td>[]</td>\n",
       "      <td>[]</td>\n",
       "    </tr>\n",
       "  </tbody>\n",
       "</table>\n",
       "</div>"
      ],
      "text/plain": [
       "   Unnamed: 0      word local_word   pos examples local_examples\n",
       "0           0    tomber       fall  verb       []             []\n",
       "1           1    tomber       fell  noun       []             []\n",
       "2           2    tomber  fall down  verb       []             []\n",
       "3           3  pénétrer  penetrate  verb       []             []\n",
       "4           4   complet       full  noun       []             []"
      ]
     },
     "execution_count": 90,
     "metadata": {
      "tags": []
     },
     "output_type": "execute_result"
    }
   ],
   "source": [
    "df_fr_en_yandex = pd.read_csv(\"/Users/nigula/LL/adjust_unigr_dict/lookup results/yandex_lookup_fr_en.csv\")\n",
    "df_fr_en_yandex.head()"
   ]
  },
  {
   "cell_type": "code",
   "execution_count": 0,
   "metadata": {
    "colab": {},
    "colab_type": "code",
    "id": "0bnpMG4JsE1-",
    "outputId": "af10fb32-d40b-4a76-9442-8bd20834a872"
   },
   "outputs": [
    {
     "name": "stdout",
     "output_type": "stream",
     "text": [
      "<class 'pandas.core.frame.DataFrame'>\n",
      "RangeIndex: 1048 entries, 0 to 1047\n",
      "Data columns (total 6 columns):\n",
      "Unnamed: 0        1048 non-null int64\n",
      "word              1048 non-null object\n",
      "local_word        1048 non-null object\n",
      "pos               1048 non-null object\n",
      "examples          1048 non-null object\n",
      "local_examples    1048 non-null object\n",
      "dtypes: int64(1), object(5)\n",
      "memory usage: 49.2+ KB\n"
     ]
    }
   ],
   "source": [
    "df_fr_en_yandex.info()"
   ]
  },
  {
   "cell_type": "code",
   "execution_count": 0,
   "metadata": {
    "colab": {},
    "colab_type": "code",
    "id": "89qlbMEsvJPv"
   },
   "outputs": [],
   "source": [
    "df_fr_en_ru = get_multilang_from_df(df_fr_en_yandex, \"французский\", \"английский\", \"русский\", ru_lemmatize)\n"
   ]
  },
  {
   "cell_type": "code",
   "execution_count": 0,
   "metadata": {
    "colab": {},
    "colab_type": "code",
    "id": "pOeZYF_AsE2G"
   },
   "outputs": [],
   "source": [
    "df_fr_en_ru.to_csv(\"/Users/nigula/LL/adjust_unigr_dict/reverse_connected_dicts/y_crossrevers_vs_pos_cycle/fr_en_ru_no_cossim.csv\")\n",
    "\n"
   ]
  },
  {
   "cell_type": "code",
   "execution_count": 0,
   "metadata": {
    "colab": {},
    "colab_type": "code",
    "id": "JKn-6M4ZsE2J",
    "outputId": "e872a0ef-8603-4dc3-9fa1-97ba4486dd09",
    "scrolled": true
   },
   "outputs": [
    {
     "data": {
      "text/html": [
       "<div>\n",
       "<style scoped>\n",
       "    .dataframe tbody tr th:only-of-type {\n",
       "        vertical-align: middle;\n",
       "    }\n",
       "\n",
       "    .dataframe tbody tr th {\n",
       "        vertical-align: top;\n",
       "    }\n",
       "\n",
       "    .dataframe thead th {\n",
       "        text-align: right;\n",
       "    }\n",
       "</style>\n",
       "<table border=\"1\" class=\"dataframe\">\n",
       "  <thead>\n",
       "    <tr style=\"text-align: right;\">\n",
       "      <th></th>\n",
       "      <th>fr</th>\n",
       "      <th>en</th>\n",
       "      <th>ru</th>\n",
       "    </tr>\n",
       "  </thead>\n",
       "  <tbody>\n",
       "    <tr>\n",
       "      <th>0</th>\n",
       "      <td>tomber</td>\n",
       "      <td>fall</td>\n",
       "      <td>упасть</td>\n",
       "    </tr>\n",
       "    <tr>\n",
       "      <th>1</th>\n",
       "      <td>tomber</td>\n",
       "      <td>fall</td>\n",
       "      <td>падать</td>\n",
       "    </tr>\n",
       "    <tr>\n",
       "      <th>2</th>\n",
       "      <td>tomber</td>\n",
       "      <td>fall</td>\n",
       "      <td>пасть</td>\n",
       "    </tr>\n",
       "    <tr>\n",
       "      <th>3</th>\n",
       "      <td>tomber</td>\n",
       "      <td>fall</td>\n",
       "      <td>оказаться</td>\n",
       "    </tr>\n",
       "    <tr>\n",
       "      <th>4</th>\n",
       "      <td>tomber</td>\n",
       "      <td>fell</td>\n",
       "      <td>упасть</td>\n",
       "    </tr>\n",
       "    <tr>\n",
       "      <th>5</th>\n",
       "      <td>tomber</td>\n",
       "      <td>fell</td>\n",
       "      <td>пасть</td>\n",
       "    </tr>\n",
       "    <tr>\n",
       "      <th>6</th>\n",
       "      <td>tomber</td>\n",
       "      <td>fall down</td>\n",
       "      <td>упасть</td>\n",
       "    </tr>\n",
       "    <tr>\n",
       "      <th>7</th>\n",
       "      <td>tomber</td>\n",
       "      <td>fall down</td>\n",
       "      <td>падать</td>\n",
       "    </tr>\n",
       "    <tr>\n",
       "      <th>8</th>\n",
       "      <td>pénétrer</td>\n",
       "      <td>penetrate</td>\n",
       "      <td>проникнуть</td>\n",
       "    </tr>\n",
       "    <tr>\n",
       "      <th>9</th>\n",
       "      <td>pénétrer</td>\n",
       "      <td>penetrate</td>\n",
       "      <td>проникать</td>\n",
       "    </tr>\n",
       "    <tr>\n",
       "      <th>10</th>\n",
       "      <td>complet</td>\n",
       "      <td>full</td>\n",
       "      <td>полный</td>\n",
       "    </tr>\n",
       "    <tr>\n",
       "      <th>11</th>\n",
       "      <td>complet</td>\n",
       "      <td>full</td>\n",
       "      <td>всеобъемлющий</td>\n",
       "    </tr>\n",
       "    <tr>\n",
       "      <th>12</th>\n",
       "      <td>complet</td>\n",
       "      <td>full</td>\n",
       "      <td>всесторонний</td>\n",
       "    </tr>\n",
       "    <tr>\n",
       "      <th>13</th>\n",
       "      <td>complet</td>\n",
       "      <td>complete</td>\n",
       "      <td>полный</td>\n",
       "    </tr>\n",
       "    <tr>\n",
       "      <th>14</th>\n",
       "      <td>complet</td>\n",
       "      <td>complete</td>\n",
       "      <td>всесторонний</td>\n",
       "    </tr>\n",
       "    <tr>\n",
       "      <th>15</th>\n",
       "      <td>complet</td>\n",
       "      <td>comprehensive</td>\n",
       "      <td>полный</td>\n",
       "    </tr>\n",
       "    <tr>\n",
       "      <th>16</th>\n",
       "      <td>complet</td>\n",
       "      <td>comprehensive</td>\n",
       "      <td>всеобъемлющий</td>\n",
       "    </tr>\n",
       "    <tr>\n",
       "      <th>17</th>\n",
       "      <td>complet</td>\n",
       "      <td>comprehensive</td>\n",
       "      <td>комплексный</td>\n",
       "    </tr>\n",
       "    <tr>\n",
       "      <th>18</th>\n",
       "      <td>complet</td>\n",
       "      <td>comprehensive</td>\n",
       "      <td>всесторонний</td>\n",
       "    </tr>\n",
       "    <tr>\n",
       "      <th>19</th>\n",
       "      <td>complet</td>\n",
       "      <td>comprehensive</td>\n",
       "      <td>подробный</td>\n",
       "    </tr>\n",
       "    <tr>\n",
       "      <th>20</th>\n",
       "      <td>complet</td>\n",
       "      <td>comprehensive</td>\n",
       "      <td>исчерпывающий</td>\n",
       "    </tr>\n",
       "    <tr>\n",
       "      <th>21</th>\n",
       "      <td>complet</td>\n",
       "      <td>entire</td>\n",
       "      <td>полный</td>\n",
       "    </tr>\n",
       "    <tr>\n",
       "      <th>22</th>\n",
       "      <td>complet</td>\n",
       "      <td>fully</td>\n",
       "      <td>полный</td>\n",
       "    </tr>\n",
       "    <tr>\n",
       "      <th>23</th>\n",
       "      <td>complet</td>\n",
       "      <td>fully</td>\n",
       "      <td>всесторонний</td>\n",
       "    </tr>\n",
       "    <tr>\n",
       "      <th>24</th>\n",
       "      <td>ultérieurement</td>\n",
       "      <td>later</td>\n",
       "      <td>впоследствии</td>\n",
       "    </tr>\n",
       "    <tr>\n",
       "      <th>25</th>\n",
       "      <td>ultérieurement</td>\n",
       "      <td>later</td>\n",
       "      <td>поздний</td>\n",
       "    </tr>\n",
       "    <tr>\n",
       "      <th>26</th>\n",
       "      <td>ultérieurement</td>\n",
       "      <td>later</td>\n",
       "      <td>последующий</td>\n",
       "    </tr>\n",
       "    <tr>\n",
       "      <th>27</th>\n",
       "      <td>ultérieurement</td>\n",
       "      <td>later</td>\n",
       "      <td>дальнейший</td>\n",
       "    </tr>\n",
       "    <tr>\n",
       "      <th>28</th>\n",
       "      <td>ultérieurement</td>\n",
       "      <td>subsequently</td>\n",
       "      <td>впоследствии</td>\n",
       "    </tr>\n",
       "    <tr>\n",
       "      <th>29</th>\n",
       "      <td>ultérieurement</td>\n",
       "      <td>subsequently</td>\n",
       "      <td>поздний</td>\n",
       "    </tr>\n",
       "    <tr>\n",
       "      <th>30</th>\n",
       "      <td>ultérieurement</td>\n",
       "      <td>subsequently</td>\n",
       "      <td>последующий</td>\n",
       "    </tr>\n",
       "    <tr>\n",
       "      <th>31</th>\n",
       "      <td>convenir</td>\n",
       "      <td>agree</td>\n",
       "      <td>согласовать</td>\n",
       "    </tr>\n",
       "    <tr>\n",
       "      <th>32</th>\n",
       "      <td>convenir</td>\n",
       "      <td>agree</td>\n",
       "      <td>согласиться</td>\n",
       "    </tr>\n",
       "    <tr>\n",
       "      <th>33</th>\n",
       "      <td>convenir</td>\n",
       "      <td>agree</td>\n",
       "      <td>согласование</td>\n",
       "    </tr>\n",
       "    <tr>\n",
       "      <th>34</th>\n",
       "      <td>convenir</td>\n",
       "      <td>suitable</td>\n",
       "      <td>no_equality</td>\n",
       "    </tr>\n",
       "    <tr>\n",
       "      <th>35</th>\n",
       "      <td>convenir</td>\n",
       "      <td>suit</td>\n",
       "      <td>no_equality</td>\n",
       "    </tr>\n",
       "    <tr>\n",
       "      <th>36</th>\n",
       "      <td>convenir</td>\n",
       "      <td>agreed</td>\n",
       "      <td>no_equality</td>\n",
       "    </tr>\n",
       "    <tr>\n",
       "      <th>37</th>\n",
       "      <td>réellement</td>\n",
       "      <td>actually</td>\n",
       "      <td>действительно</td>\n",
       "    </tr>\n",
       "    <tr>\n",
       "      <th>38</th>\n",
       "      <td>réellement</td>\n",
       "      <td>actually</td>\n",
       "      <td>на самый дело</td>\n",
       "    </tr>\n",
       "    <tr>\n",
       "      <th>39</th>\n",
       "      <td>réellement</td>\n",
       "      <td>actually</td>\n",
       "      <td>реально</td>\n",
       "    </tr>\n",
       "    <tr>\n",
       "      <th>40</th>\n",
       "      <td>réellement</td>\n",
       "      <td>actually</td>\n",
       "      <td>фактически</td>\n",
       "    </tr>\n",
       "    <tr>\n",
       "      <th>41</th>\n",
       "      <td>réellement</td>\n",
       "      <td>really</td>\n",
       "      <td>действительно</td>\n",
       "    </tr>\n",
       "    <tr>\n",
       "      <th>42</th>\n",
       "      <td>réellement</td>\n",
       "      <td>really</td>\n",
       "      <td>на самый дело</td>\n",
       "    </tr>\n",
       "    <tr>\n",
       "      <th>43</th>\n",
       "      <td>réellement</td>\n",
       "      <td>really</td>\n",
       "      <td>реально</td>\n",
       "    </tr>\n",
       "    <tr>\n",
       "      <th>44</th>\n",
       "      <td>réellement</td>\n",
       "      <td>really</td>\n",
       "      <td>поистине</td>\n",
       "    </tr>\n",
       "    <tr>\n",
       "      <th>45</th>\n",
       "      <td>devant</td>\n",
       "      <td>front</td>\n",
       "      <td>впереди</td>\n",
       "    </tr>\n",
       "    <tr>\n",
       "      <th>46</th>\n",
       "      <td>devant</td>\n",
       "      <td>front</td>\n",
       "      <td>вперёд</td>\n",
       "    </tr>\n",
       "    <tr>\n",
       "      <th>47</th>\n",
       "      <td>devant</td>\n",
       "      <td>front</td>\n",
       "      <td>спереди</td>\n",
       "    </tr>\n",
       "    <tr>\n",
       "      <th>48</th>\n",
       "      <td>devant</td>\n",
       "      <td>front</td>\n",
       "      <td>прямо</td>\n",
       "    </tr>\n",
       "    <tr>\n",
       "      <th>49</th>\n",
       "      <td>devant</td>\n",
       "      <td>front</td>\n",
       "      <td>перед</td>\n",
       "    </tr>\n",
       "  </tbody>\n",
       "</table>\n",
       "</div>"
      ],
      "text/plain": [
       "                fr             en             ru\n",
       "0           tomber           fall         упасть\n",
       "1           tomber           fall         падать\n",
       "2           tomber           fall          пасть\n",
       "3           tomber           fall      оказаться\n",
       "4           tomber           fell         упасть\n",
       "5           tomber           fell          пасть\n",
       "6           tomber      fall down         упасть\n",
       "7           tomber      fall down         падать\n",
       "8         pénétrer      penetrate     проникнуть\n",
       "9         pénétrer      penetrate      проникать\n",
       "10         complet           full         полный\n",
       "11         complet           full  всеобъемлющий\n",
       "12         complet           full   всесторонний\n",
       "13         complet       complete         полный\n",
       "14         complet       complete   всесторонний\n",
       "15         complet  comprehensive         полный\n",
       "16         complet  comprehensive  всеобъемлющий\n",
       "17         complet  comprehensive    комплексный\n",
       "18         complet  comprehensive   всесторонний\n",
       "19         complet  comprehensive      подробный\n",
       "20         complet  comprehensive  исчерпывающий\n",
       "21         complet         entire         полный\n",
       "22         complet          fully         полный\n",
       "23         complet          fully   всесторонний\n",
       "24  ultérieurement          later   впоследствии\n",
       "25  ultérieurement          later        поздний\n",
       "26  ultérieurement          later    последующий\n",
       "27  ultérieurement          later     дальнейший\n",
       "28  ultérieurement   subsequently   впоследствии\n",
       "29  ultérieurement   subsequently        поздний\n",
       "30  ultérieurement   subsequently    последующий\n",
       "31        convenir          agree    согласовать\n",
       "32        convenir          agree    согласиться\n",
       "33        convenir          agree   согласование\n",
       "34        convenir       suitable    no_equality\n",
       "35        convenir           suit    no_equality\n",
       "36        convenir         agreed    no_equality\n",
       "37      réellement       actually  действительно\n",
       "38      réellement       actually  на самый дело\n",
       "39      réellement       actually        реально\n",
       "40      réellement       actually     фактически\n",
       "41      réellement         really  действительно\n",
       "42      réellement         really  на самый дело\n",
       "43      réellement         really        реально\n",
       "44      réellement         really       поистине\n",
       "45          devant          front        впереди\n",
       "46          devant          front         вперёд\n",
       "47          devant          front        спереди\n",
       "48          devant          front          прямо\n",
       "49          devant          front          перед"
      ]
     },
     "execution_count": 127,
     "metadata": {
      "tags": []
     },
     "output_type": "execute_result"
    }
   ],
   "source": [
    "df_fr_en_ru.head(50)"
   ]
  },
  {
   "cell_type": "markdown",
   "metadata": {
    "colab_type": "text",
    "id": "3nHZB3-BsE2g"
   },
   "source": [
    "# EN_FR_RU"
   ]
  },
  {
   "cell_type": "code",
   "execution_count": 0,
   "metadata": {
    "colab": {},
    "colab_type": "code",
    "id": "kPYSp2hpsE2h",
    "outputId": "7338a478-8727-448d-e85c-fd64b85cfd7a"
   },
   "outputs": [
    {
     "data": {
      "text/html": [
       "<div>\n",
       "<style scoped>\n",
       "    .dataframe tbody tr th:only-of-type {\n",
       "        vertical-align: middle;\n",
       "    }\n",
       "\n",
       "    .dataframe tbody tr th {\n",
       "        vertical-align: top;\n",
       "    }\n",
       "\n",
       "    .dataframe thead th {\n",
       "        text-align: right;\n",
       "    }\n",
       "</style>\n",
       "<table border=\"1\" class=\"dataframe\">\n",
       "  <thead>\n",
       "    <tr style=\"text-align: right;\">\n",
       "      <th></th>\n",
       "      <th>Unnamed: 0</th>\n",
       "      <th>word</th>\n",
       "      <th>local_word</th>\n",
       "      <th>pos</th>\n",
       "      <th>examples</th>\n",
       "      <th>local_examples</th>\n",
       "    </tr>\n",
       "  </thead>\n",
       "  <tbody>\n",
       "    <tr>\n",
       "      <th>0</th>\n",
       "      <td>0</td>\n",
       "      <td>before</td>\n",
       "      <td>avant</td>\n",
       "      <td>preposition</td>\n",
       "      <td>[]</td>\n",
       "      <td>[]</td>\n",
       "    </tr>\n",
       "    <tr>\n",
       "      <th>1</th>\n",
       "      <td>1</td>\n",
       "      <td>before</td>\n",
       "      <td>auparavant</td>\n",
       "      <td>adverb</td>\n",
       "      <td>[]</td>\n",
       "      <td>[]</td>\n",
       "    </tr>\n",
       "    <tr>\n",
       "      <th>2</th>\n",
       "      <td>2</td>\n",
       "      <td>adverb</td>\n",
       "      <td>adverbe</td>\n",
       "      <td>noun</td>\n",
       "      <td>[]</td>\n",
       "      <td>[]</td>\n",
       "    </tr>\n",
       "    <tr>\n",
       "      <th>3</th>\n",
       "      <td>3</td>\n",
       "      <td>during</td>\n",
       "      <td>lors</td>\n",
       "      <td>adverb</td>\n",
       "      <td>[]</td>\n",
       "      <td>[]</td>\n",
       "    </tr>\n",
       "    <tr>\n",
       "      <th>4</th>\n",
       "      <td>4</td>\n",
       "      <td>during</td>\n",
       "      <td>durant</td>\n",
       "      <td>preposition</td>\n",
       "      <td>[]</td>\n",
       "      <td>[]</td>\n",
       "    </tr>\n",
       "  </tbody>\n",
       "</table>\n",
       "</div>"
      ],
      "text/plain": [
       "   Unnamed: 0    word  local_word          pos examples local_examples\n",
       "0           0  before       avant  preposition       []             []\n",
       "1           1  before  auparavant       adverb       []             []\n",
       "2           2  adverb     adverbe         noun       []             []\n",
       "3           3  during        lors       adverb       []             []\n",
       "4           4  during      durant  preposition       []             []"
      ]
     },
     "execution_count": 144,
     "metadata": {
      "tags": []
     },
     "output_type": "execute_result"
    }
   ],
   "source": [
    "df_en_fr_yandex = pd.read_csv(\"/Users/nigula/LL/adjust_unigr_dict/lookup results/yandex_lookup_en_fr_new_vs_pos.csv\")\n",
    "df_en_fr_yandex.head()"
   ]
  },
  {
   "cell_type": "code",
   "execution_count": 0,
   "metadata": {
    "colab": {},
    "colab_type": "code",
    "id": "AYFvDuOSsE2q"
   },
   "outputs": [],
   "source": [
    "del df_en_fr_yandex['Unnamed: 0']\n",
    "df_en_fr_ru = get_multilang_from_df(df_en_fr_yandex, \"английский\", \"французский\", \"русский\", ru_lemmatize)\n"
   ]
  },
  {
   "cell_type": "code",
   "execution_count": 0,
   "metadata": {
    "colab": {},
    "colab_type": "code",
    "id": "CED3A5dxsE2x"
   },
   "outputs": [],
   "source": [
    "df_en_fr_ru.to_csv(\"/Users/nigula/LL/adjust_unigr_dict/reverse_connected_dicts/y_crossrevers_vs_pos_cycle/en_fr_ru_no_cossim.csv\")\n"
   ]
  },
  {
   "cell_type": "markdown",
   "metadata": {
    "colab_type": "text",
    "id": "ZNXzscK7sE2y"
   },
   "source": [
    "# FR_RU_EN"
   ]
  },
  {
   "cell_type": "code",
   "execution_count": 3,
   "metadata": {
    "colab": {},
    "colab_type": "code",
    "id": "6s1Ovqu4w9hf"
   },
   "outputs": [],
   "source": [
    "def get_reverse_dict(df_path, lookup_from, lookup_to, target, lemmatizer_func):\n",
    "    df = pd.read_csv(df_path)\n",
    "    try:\n",
    "        del df['Unnamed: 0']\n",
    "    except:\n",
    "        pass\n",
    "    df_crosslang = get_multilang_from_df(df, lookup_from, lookup_to, target, lemmatizer_func)\n",
    "    return df_crosslang\n",
    "               \n"
   ]
  },
  {
   "cell_type": "code",
   "execution_count": null,
   "metadata": {},
   "outputs": [],
   "source": [
    "df_fr_ru_en = get_reverse_dict(\"/Users/nigula/LL/adjust_unigr_dict/lookup results/yandex_lookup_fr_ru.csv\",\n",
    "                     \"французский\", \"русский\",\"английский\", en_lemmatize)"
   ]
  },
  {
   "cell_type": "code",
   "execution_count": 0,
   "metadata": {
    "colab": {},
    "colab_type": "code",
    "id": "kcLYmX5RsE3c",
    "outputId": "f8794ca9-16e4-49a8-b1b9-1e081e1425f7"
   },
   "outputs": [
    {
     "data": {
      "text/html": [
       "<div>\n",
       "<style scoped>\n",
       "    .dataframe tbody tr th:only-of-type {\n",
       "        vertical-align: middle;\n",
       "    }\n",
       "\n",
       "    .dataframe tbody tr th {\n",
       "        vertical-align: top;\n",
       "    }\n",
       "\n",
       "    .dataframe thead th {\n",
       "        text-align: right;\n",
       "    }\n",
       "</style>\n",
       "<table border=\"1\" class=\"dataframe\">\n",
       "  <thead>\n",
       "    <tr style=\"text-align: right;\">\n",
       "      <th></th>\n",
       "      <th>fr</th>\n",
       "      <th>ru</th>\n",
       "      <th>en</th>\n",
       "    </tr>\n",
       "  </thead>\n",
       "  <tbody>\n",
       "    <tr>\n",
       "      <th>0</th>\n",
       "      <td>tomber</td>\n",
       "      <td>упасть</td>\n",
       "      <td>fall</td>\n",
       "    </tr>\n",
       "    <tr>\n",
       "      <th>1</th>\n",
       "      <td>tomber</td>\n",
       "      <td>упасть</td>\n",
       "      <td>drop</td>\n",
       "    </tr>\n",
       "    <tr>\n",
       "      <th>2</th>\n",
       "      <td>tomber</td>\n",
       "      <td>упасть</td>\n",
       "      <td>fall down</td>\n",
       "    </tr>\n",
       "    <tr>\n",
       "      <th>3</th>\n",
       "      <td>tomber</td>\n",
       "      <td>попасть</td>\n",
       "      <td>fall into</td>\n",
       "    </tr>\n",
       "    <tr>\n",
       "      <th>5</th>\n",
       "      <td>tomber</td>\n",
       "      <td>опускать</td>\n",
       "      <td>drop out</td>\n",
       "    </tr>\n",
       "    <tr>\n",
       "      <th>6</th>\n",
       "      <td>tomber</td>\n",
       "      <td>опадать</td>\n",
       "      <td>no_equality</td>\n",
       "    </tr>\n",
       "    <tr>\n",
       "      <th>8</th>\n",
       "      <td>tomber</td>\n",
       "      <td>снижаться</td>\n",
       "      <td>fall</td>\n",
       "    </tr>\n",
       "    <tr>\n",
       "      <th>9</th>\n",
       "      <td>tomber</td>\n",
       "      <td>снижаться</td>\n",
       "      <td>drop</td>\n",
       "    </tr>\n",
       "    <tr>\n",
       "      <th>10</th>\n",
       "      <td>tomber</td>\n",
       "      <td>снижаться</td>\n",
       "      <td>go down</td>\n",
       "    </tr>\n",
       "    <tr>\n",
       "      <th>11</th>\n",
       "      <td>tomber</td>\n",
       "      <td>снижаться</td>\n",
       "      <td>come down</td>\n",
       "    </tr>\n",
       "    <tr>\n",
       "      <th>12</th>\n",
       "      <td>tomber</td>\n",
       "      <td>приходиться</td>\n",
       "      <td>no_equality</td>\n",
       "    </tr>\n",
       "    <tr>\n",
       "      <th>13</th>\n",
       "      <td>pénétrer</td>\n",
       "      <td>проникать</td>\n",
       "      <td>enter</td>\n",
       "    </tr>\n",
       "    <tr>\n",
       "      <th>14</th>\n",
       "      <td>pénétrer</td>\n",
       "      <td>проникать</td>\n",
       "      <td>penetrate</td>\n",
       "    </tr>\n",
       "    <tr>\n",
       "      <th>15</th>\n",
       "      <td>pénétrer</td>\n",
       "      <td>проникать</td>\n",
       "      <td>permeate</td>\n",
       "    </tr>\n",
       "    <tr>\n",
       "      <th>16</th>\n",
       "      <td>pénétrer</td>\n",
       "      <td>проникать</td>\n",
       "      <td>infiltrate</td>\n",
       "    </tr>\n",
       "    <tr>\n",
       "      <th>17</th>\n",
       "      <td>pénétrer</td>\n",
       "      <td>пронизывать</td>\n",
       "      <td>penetrate</td>\n",
       "    </tr>\n",
       "    <tr>\n",
       "      <th>18</th>\n",
       "      <td>pénétrer</td>\n",
       "      <td>пронизывать</td>\n",
       "      <td>permeate</td>\n",
       "    </tr>\n",
       "    <tr>\n",
       "      <th>19</th>\n",
       "      <td>pénétrer</td>\n",
       "      <td>пронизывать</td>\n",
       "      <td>pervade</td>\n",
       "    </tr>\n",
       "    <tr>\n",
       "      <th>20</th>\n",
       "      <td>pénétrer</td>\n",
       "      <td>входить</td>\n",
       "      <td>enter</td>\n",
       "    </tr>\n",
       "    <tr>\n",
       "      <th>21</th>\n",
       "      <td>pénétrer</td>\n",
       "      <td>входить</td>\n",
       "      <td>get into</td>\n",
       "    </tr>\n",
       "  </tbody>\n",
       "</table>\n",
       "</div>"
      ],
      "text/plain": [
       "          fr           ru           en\n",
       "0     tomber       упасть         fall\n",
       "1     tomber       упасть         drop\n",
       "2     tomber       упасть    fall down\n",
       "3     tomber      попасть    fall into\n",
       "5     tomber     опускать     drop out\n",
       "6     tomber      опадать  no_equality\n",
       "8     tomber    снижаться         fall\n",
       "9     tomber    снижаться         drop\n",
       "10    tomber    снижаться      go down\n",
       "11    tomber    снижаться    come down\n",
       "12    tomber  приходиться  no_equality\n",
       "13  pénétrer    проникать        enter\n",
       "14  pénétrer    проникать    penetrate\n",
       "15  pénétrer    проникать     permeate\n",
       "16  pénétrer    проникать   infiltrate\n",
       "17  pénétrer  пронизывать    penetrate\n",
       "18  pénétrer  пронизывать     permeate\n",
       "19  pénétrer  пронизывать      pervade\n",
       "20  pénétrer      входить        enter\n",
       "21  pénétrer      входить     get into"
      ]
     },
     "execution_count": 192,
     "metadata": {
      "tags": []
     },
     "output_type": "execute_result"
    }
   ],
   "source": [
    "df_fr_ru_en_full_only = df_fr_ru_en[df_fr_ru_en['en'] != '']\n",
    "df_fr_ru_en_full_only.head(20)"
   ]
  },
  {
   "cell_type": "code",
   "execution_count": 0,
   "metadata": {
    "colab": {},
    "colab_type": "code",
    "id": "-NYPCgdlsE3t"
   },
   "outputs": [],
   "source": [
    "df_fr_ru_en_full_only.to_csv(\"/Users/nigula/LL/adjust_unigr_dict/reverse_connected_dicts/y_crossrevers_vs_pos_cycle/fr_ru_en_no_cossim.csv\")\n"
   ]
  },
  {
   "cell_type": "code",
   "execution_count": 0,
   "metadata": {
    "colab": {},
    "colab_type": "code",
    "id": "mpAaPQCwsE3w"
   },
   "outputs": [],
   "source": [
    "df_fr_ru_en_full_only"
   ]
  },
  {
   "cell_type": "code",
   "execution_count": 0,
   "metadata": {
    "colab": {},
    "colab_type": "code",
    "id": "VI5YpJkvsE30",
    "outputId": "8eca8852-5602-472f-c19e-7ad726c3e606",
    "scrolled": false
   },
   "outputs": [
    {
     "data": {
      "text/html": [
       "<div>\n",
       "<style scoped>\n",
       "    .dataframe tbody tr th:only-of-type {\n",
       "        vertical-align: middle;\n",
       "    }\n",
       "\n",
       "    .dataframe tbody tr th {\n",
       "        vertical-align: top;\n",
       "    }\n",
       "\n",
       "    .dataframe thead th {\n",
       "        text-align: right;\n",
       "    }\n",
       "</style>\n",
       "<table border=\"1\" class=\"dataframe\">\n",
       "  <thead>\n",
       "    <tr style=\"text-align: right;\">\n",
       "      <th></th>\n",
       "      <th>Unnamed: 0</th>\n",
       "      <th>word</th>\n",
       "      <th>local_word</th>\n",
       "      <th>pos</th>\n",
       "      <th>examples</th>\n",
       "      <th>local_examples</th>\n",
       "    </tr>\n",
       "  </thead>\n",
       "  <tbody>\n",
       "    <tr>\n",
       "      <th>0</th>\n",
       "      <td>0</td>\n",
       "      <td>tomber</td>\n",
       "      <td>упасть</td>\n",
       "      <td>verb</td>\n",
       "      <td>['branches tombées', 'tomber à terre', 'tomber...</td>\n",
       "      <td>['упавшие ветви', 'падать на землю', 'пасть же...</td>\n",
       "    </tr>\n",
       "    <tr>\n",
       "      <th>1</th>\n",
       "      <td>1</td>\n",
       "      <td>tomber</td>\n",
       "      <td>попасть</td>\n",
       "      <td>verb</td>\n",
       "      <td>['tomber en disgrâce']</td>\n",
       "      <td>['попадать в немилость']</td>\n",
       "    </tr>\n",
       "    <tr>\n",
       "      <th>2</th>\n",
       "      <td>2</td>\n",
       "      <td>tomber</td>\n",
       "      <td>опускать</td>\n",
       "      <td>verb</td>\n",
       "      <td>[]</td>\n",
       "      <td>[]</td>\n",
       "    </tr>\n",
       "    <tr>\n",
       "      <th>3</th>\n",
       "      <td>3</td>\n",
       "      <td>tomber</td>\n",
       "      <td>опадать</td>\n",
       "      <td>verb</td>\n",
       "      <td>[]</td>\n",
       "      <td>[]</td>\n",
       "    </tr>\n",
       "    <tr>\n",
       "      <th>4</th>\n",
       "      <td>4</td>\n",
       "      <td>tomber</td>\n",
       "      <td>положить</td>\n",
       "      <td>verb</td>\n",
       "      <td>[]</td>\n",
       "      <td>[]</td>\n",
       "    </tr>\n",
       "  </tbody>\n",
       "</table>\n",
       "</div>"
      ],
      "text/plain": [
       "   Unnamed: 0    word local_word   pos  \\\n",
       "0           0  tomber     упасть  verb   \n",
       "1           1  tomber    попасть  verb   \n",
       "2           2  tomber   опускать  verb   \n",
       "3           3  tomber    опадать  verb   \n",
       "4           4  tomber   положить  verb   \n",
       "\n",
       "                                            examples  \\\n",
       "0  ['branches tombées', 'tomber à terre', 'tomber...   \n",
       "1                             ['tomber en disgrâce']   \n",
       "2                                                 []   \n",
       "3                                                 []   \n",
       "4                                                 []   \n",
       "\n",
       "                                      local_examples  \n",
       "0  ['упавшие ветви', 'падать на землю', 'пасть же...  \n",
       "1                           ['попадать в немилость']  \n",
       "2                                                 []  \n",
       "3                                                 []  \n",
       "4                                                 []  "
      ]
     },
     "execution_count": 156,
     "metadata": {
      "tags": []
     },
     "output_type": "execute_result"
    }
   ],
   "source": [
    "df_fr_ru_yandex = pd.read_csv(\"/Users/nigula/LL/adjust_unigr_dict/lookup results/yandex_lookup_fr_ru.csv\")\n",
    "df_fr_ru_yandex.head()"
   ]
  },
  {
   "cell_type": "code",
   "execution_count": 0,
   "metadata": {
    "colab": {},
    "colab_type": "code",
    "id": "5w2sfqYAsE32"
   },
   "outputs": [],
   "source": [
    "del df_fr_ru_yandex['Unnamed: 0']"
   ]
  },
  {
   "cell_type": "markdown",
   "metadata": {
    "colab_type": "text",
    "id": "xJ6cdGLcsE33"
   },
   "source": [
    "# RU_FR_EN"
   ]
  },
  {
   "cell_type": "code",
   "execution_count": 0,
   "metadata": {
    "colab": {},
    "colab_type": "code",
    "id": "uoxJGoxUvt9S"
   },
   "outputs": [],
   "source": [
    "df_ru_fr_en = get_reverse_dict(\"/Users/nigula/LL/adjust_unigr_dict/lookup results/yandex_lookup_ru_fr.csv\",\n",
    "                     \"русский\", \"французский\",\"английский\", ru_lemmatize)"
   ]
  },
  {
   "cell_type": "code",
   "execution_count": 0,
   "metadata": {
    "colab": {},
    "colab_type": "code",
    "id": "s0lNm6jvsE6K"
   },
   "outputs": [],
   "source": [
    "df_ru_fr_en.to_csv(\"/Users/nigula/LL/adjust_unigr_dict/lookup results/yandex_lookup_ru_fr_en.csv\")"
   ]
  },
  {
   "cell_type": "markdown",
   "metadata": {},
   "source": [
    "# RU_EN_FR"
   ]
  },
  {
   "cell_type": "markdown",
   "metadata": {},
   "source": [
    "df_ru_en_fr = get_reverse_dict(\"/Users/nigula/LL/adjust_unigr_dict/lookup/yandex_ru_en_fr.csv\", \"русский\",\n",
    "                                     \"английский\", \"французский\", fr_lemmatize )"
   ]
  }
 ],
 "metadata": {
  "colab": {
   "name": "cross_approach_yandex_crossreverso_circle.ipynb",
   "provenance": []
  },
  "kernelspec": {
   "display_name": "Python 3",
   "language": "python",
   "name": "python3"
  },
  "language_info": {
   "codemirror_mode": {
    "name": "ipython",
    "version": 3
   },
   "file_extension": ".py",
   "mimetype": "text/x-python",
   "name": "python",
   "nbconvert_exporter": "python",
   "pygments_lexer": "ipython3",
   "version": "3.7.4"
  }
 },
 "nbformat": 4,
 "nbformat_minor": 1
}
