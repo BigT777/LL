{
 "cells": [
  {
   "cell_type": "code",
   "execution_count": 1,
   "metadata": {},
   "outputs": [],
   "source": [
    "import pandas as pd\n",
    "import numpy as np"
   ]
  },
  {
   "cell_type": "code",
   "execution_count": 2,
   "metadata": {},
   "outputs": [],
   "source": [
    "df = pd.read_csv(\"/Users/nigula/LL/adjust_unigr_dict/reverse_connected_dicts/reverse_dict_eval_dataframe/MARKED_cross_Y_contrev_WITH_POS_cossim05_coverage075 - df_yandex_context_revers_cross_approach_eval_vs_pos.csv\")"
   ]
  },
  {
   "cell_type": "code",
   "execution_count": 3,
   "metadata": {},
   "outputs": [
    {
     "data": {
      "text/html": [
       "<div>\n",
       "<style scoped>\n",
       "    .dataframe tbody tr th:only-of-type {\n",
       "        vertical-align: middle;\n",
       "    }\n",
       "\n",
       "    .dataframe tbody tr th {\n",
       "        vertical-align: top;\n",
       "    }\n",
       "\n",
       "    .dataframe thead th {\n",
       "        text-align: right;\n",
       "    }\n",
       "</style>\n",
       "<table border=\"1\" class=\"dataframe\">\n",
       "  <thead>\n",
       "    <tr style=\"text-align: right;\">\n",
       "      <th></th>\n",
       "      <th>Unnamed: 0</th>\n",
       "      <th>eng_word</th>\n",
       "      <th>reference_coverage</th>\n",
       "      <th>paired_eval_pairs</th>\n",
       "      <th>некорректная эквивалентность</th>\n",
       "      <th>non_absolute_equialence_list</th>\n",
       "      <th>equialence_list</th>\n",
       "      <th>reference_pairs_list</th>\n",
       "      <th>evaluated_pairs_list</th>\n",
       "      <th>Unnamed: 9</th>\n",
       "      <th>Unnamed: 10</th>\n",
       "      <th>Unnamed: 11</th>\n",
       "      <th>Unnamed: 12</th>\n",
       "    </tr>\n",
       "  </thead>\n",
       "  <tbody>\n",
       "    <tr>\n",
       "      <th>0</th>\n",
       "      <td>0</td>\n",
       "      <td>letter</td>\n",
       "      <td>6.666670e+15</td>\n",
       "      <td>1.818180e+16</td>\n",
       "      <td>0</td>\n",
       "      <td>NaN</td>\n",
       "      <td>письмо_lettre==письмо_lettre || буква_lettre==...</td>\n",
       "      <td>['письмо_lettre', 'буква_lettre', 'буква_carac...</td>\n",
       "      <td>['письмо_lettre', 'письмо_courrier', 'письмо_é...</td>\n",
       "      <td>NaN</td>\n",
       "      <td>NaN</td>\n",
       "      <td>NaN</td>\n",
       "      <td>NaN</td>\n",
       "    </tr>\n",
       "    <tr>\n",
       "      <th>1</th>\n",
       "      <td>1</td>\n",
       "      <td>plate</td>\n",
       "      <td>5.000000e-01</td>\n",
       "      <td>6.666670e+15</td>\n",
       "      <td>0</td>\n",
       "      <td>NaN</td>\n",
       "      <td>тарелка_assiette==тарелка_assiette ||</td>\n",
       "      <td>['тарелка_assiette', 'тарелка_plat']</td>\n",
       "      <td>['пластина_plaque', 'пластина_planche', 'плита...</td>\n",
       "      <td>NaN</td>\n",
       "      <td>NaN</td>\n",
       "      <td>NaN</td>\n",
       "      <td>NaN</td>\n",
       "    </tr>\n",
       "    <tr>\n",
       "      <th>2</th>\n",
       "      <td>2</td>\n",
       "      <td>dinner</td>\n",
       "      <td>1.000000e+00</td>\n",
       "      <td>4.545450e+16</td>\n",
       "      <td>5</td>\n",
       "      <td>обед_déjeuner==обед_dîner || обед_déjeuner==об...</td>\n",
       "      <td>обед_déjeuner==обед_dîner || обед_déjeuner==об...</td>\n",
       "      <td>['обед_déjeuner', 'ужин_dîner']</td>\n",
       "      <td>['обед_dîner', 'обед_souper', 'обед_repas', 'о...</td>\n",
       "      <td>NaN</td>\n",
       "      <td>NaN</td>\n",
       "      <td>NaN</td>\n",
       "      <td>NaN</td>\n",
       "    </tr>\n",
       "    <tr>\n",
       "      <th>3</th>\n",
       "      <td>3</td>\n",
       "      <td>necessary</td>\n",
       "      <td>1.000000e+00</td>\n",
       "      <td>2.000000e-01</td>\n",
       "      <td>0</td>\n",
       "      <td>необходимый_nécessaire==необходимый_indispensa...</td>\n",
       "      <td>необходимый_nécessaire==необходимый_nécessaire...</td>\n",
       "      <td>['необходимый_nécessaire']</td>\n",
       "      <td>['необходимый_nécessaire', 'необходимый_indisp...</td>\n",
       "      <td>NaN</td>\n",
       "      <td>NaN</td>\n",
       "      <td>NaN</td>\n",
       "      <td>NaN</td>\n",
       "    </tr>\n",
       "    <tr>\n",
       "      <th>4</th>\n",
       "      <td>4</td>\n",
       "      <td>secret</td>\n",
       "      <td>1.000000e+00</td>\n",
       "      <td>3.076920e+15</td>\n",
       "      <td>1</td>\n",
       "      <td>секретный_secret==тайный_secret || секретный_s...</td>\n",
       "      <td>секрет_secret==секрет_secret || тайный_secret=...</td>\n",
       "      <td>['секрет_secret', 'секретный_secret', 'тайный_...</td>\n",
       "      <td>['секрет_secret', 'тайный_secret', 'потайной_n...</td>\n",
       "      <td>NaN</td>\n",
       "      <td>NaN</td>\n",
       "      <td>NaN</td>\n",
       "      <td>NaN</td>\n",
       "    </tr>\n",
       "  </tbody>\n",
       "</table>\n",
       "</div>"
      ],
      "text/plain": [
       "   Unnamed: 0   eng_word  reference_coverage  paired_eval_pairs  \\\n",
       "0           0     letter        6.666670e+15       1.818180e+16   \n",
       "1           1      plate        5.000000e-01       6.666670e+15   \n",
       "2           2     dinner        1.000000e+00       4.545450e+16   \n",
       "3           3  necessary        1.000000e+00       2.000000e-01   \n",
       "4           4     secret        1.000000e+00       3.076920e+15   \n",
       "\n",
       "   некорректная эквивалентность  \\\n",
       "0                             0   \n",
       "1                             0   \n",
       "2                             5   \n",
       "3                             0   \n",
       "4                             1   \n",
       "\n",
       "                        non_absolute_equialence_list  \\\n",
       "0                                                NaN   \n",
       "1                                                NaN   \n",
       "2  обед_déjeuner==обед_dîner || обед_déjeuner==об...   \n",
       "3  необходимый_nécessaire==необходимый_indispensa...   \n",
       "4  секретный_secret==тайный_secret || секретный_s...   \n",
       "\n",
       "                                     equialence_list  \\\n",
       "0  письмо_lettre==письмо_lettre || буква_lettre==...   \n",
       "1              тарелка_assiette==тарелка_assiette ||   \n",
       "2  обед_déjeuner==обед_dîner || обед_déjeuner==об...   \n",
       "3  необходимый_nécessaire==необходимый_nécessaire...   \n",
       "4  секрет_secret==секрет_secret || тайный_secret=...   \n",
       "\n",
       "                                reference_pairs_list  \\\n",
       "0  ['письмо_lettre', 'буква_lettre', 'буква_carac...   \n",
       "1               ['тарелка_assiette', 'тарелка_plat']   \n",
       "2                    ['обед_déjeuner', 'ужин_dîner']   \n",
       "3                         ['необходимый_nécessaire']   \n",
       "4  ['секрет_secret', 'секретный_secret', 'тайный_...   \n",
       "\n",
       "                                evaluated_pairs_list Unnamed: 9 Unnamed: 10  \\\n",
       "0  ['письмо_lettre', 'письмо_courrier', 'письмо_é...        NaN         NaN   \n",
       "1  ['пластина_plaque', 'пластина_planche', 'плита...        NaN         NaN   \n",
       "2  ['обед_dîner', 'обед_souper', 'обед_repas', 'о...        NaN         NaN   \n",
       "3  ['необходимый_nécessaire', 'необходимый_indisp...        NaN         NaN   \n",
       "4  ['секрет_secret', 'тайный_secret', 'потайной_n...        NaN         NaN   \n",
       "\n",
       "   Unnamed: 11 Unnamed: 12  \n",
       "0          NaN         NaN  \n",
       "1          NaN         NaN  \n",
       "2          NaN         NaN  \n",
       "3          NaN         NaN  \n",
       "4          NaN         NaN  "
      ]
     },
     "execution_count": 3,
     "metadata": {},
     "output_type": "execute_result"
    }
   ],
   "source": [
    "df.head()"
   ]
  },
  {
   "cell_type": "code",
   "execution_count": 5,
   "metadata": {},
   "outputs": [
    {
     "data": {
      "text/html": [
       "<div>\n",
       "<style scoped>\n",
       "    .dataframe tbody tr th:only-of-type {\n",
       "        vertical-align: middle;\n",
       "    }\n",
       "\n",
       "    .dataframe tbody tr th {\n",
       "        vertical-align: top;\n",
       "    }\n",
       "\n",
       "    .dataframe thead th {\n",
       "        text-align: right;\n",
       "    }\n",
       "</style>\n",
       "<table border=\"1\" class=\"dataframe\">\n",
       "  <thead>\n",
       "    <tr style=\"text-align: right;\">\n",
       "      <th></th>\n",
       "      <th>incorrect_eq</th>\n",
       "      <th>non_absolute_equialence_list</th>\n",
       "      <th>whole_equialence_list</th>\n",
       "    </tr>\n",
       "  </thead>\n",
       "  <tbody>\n",
       "    <tr>\n",
       "      <th>0</th>\n",
       "      <td>0</td>\n",
       "      <td>NaN</td>\n",
       "      <td>письмо_lettre==письмо_lettre || буква_lettre==...</td>\n",
       "    </tr>\n",
       "    <tr>\n",
       "      <th>1</th>\n",
       "      <td>0</td>\n",
       "      <td>NaN</td>\n",
       "      <td>тарелка_assiette==тарелка_assiette ||</td>\n",
       "    </tr>\n",
       "    <tr>\n",
       "      <th>2</th>\n",
       "      <td>5</td>\n",
       "      <td>обед_déjeuner==обед_dîner || обед_déjeuner==об...</td>\n",
       "      <td>обед_déjeuner==обед_dîner || обед_déjeuner==об...</td>\n",
       "    </tr>\n",
       "    <tr>\n",
       "      <th>3</th>\n",
       "      <td>0</td>\n",
       "      <td>необходимый_nécessaire==необходимый_indispensa...</td>\n",
       "      <td>необходимый_nécessaire==необходимый_nécessaire...</td>\n",
       "    </tr>\n",
       "    <tr>\n",
       "      <th>4</th>\n",
       "      <td>1</td>\n",
       "      <td>секретный_secret==тайный_secret || секретный_s...</td>\n",
       "      <td>секрет_secret==секрет_secret || тайный_secret=...</td>\n",
       "    </tr>\n",
       "  </tbody>\n",
       "</table>\n",
       "</div>"
      ],
      "text/plain": [
       "   incorrect_eq                       non_absolute_equialence_list  \\\n",
       "0             0                                                NaN   \n",
       "1             0                                                NaN   \n",
       "2             5  обед_déjeuner==обед_dîner || обед_déjeuner==об...   \n",
       "3             0  необходимый_nécessaire==необходимый_indispensa...   \n",
       "4             1  секретный_secret==тайный_secret || секретный_s...   \n",
       "\n",
       "                               whole_equialence_list  \n",
       "0  письмо_lettre==письмо_lettre || буква_lettre==...  \n",
       "1              тарелка_assiette==тарелка_assiette ||  \n",
       "2  обед_déjeuner==обед_dîner || обед_déjeuner==об...  \n",
       "3  необходимый_nécessaire==необходимый_nécessaire...  \n",
       "4  секрет_secret==секрет_secret || тайный_secret=...  "
      ]
     },
     "execution_count": 5,
     "metadata": {},
     "output_type": "execute_result"
    }
   ],
   "source": [
    "short_df = pd.DataFrame()\n",
    "short_df['incorrect_eq'] = df['некорректная эквивалентность']\n",
    "short_df['non_absolute_equialence_list'] = df['non_absolute_equialence_list']\n",
    "short_df['whole_equialence_list'] = df['equialence_list']\n",
    "\n",
    "short_df.head()"
   ]
  },
  {
   "cell_type": "code",
   "execution_count": 9,
   "metadata": {},
   "outputs": [
    {
     "data": {
      "text/html": [
       "<div>\n",
       "<style scoped>\n",
       "    .dataframe tbody tr th:only-of-type {\n",
       "        vertical-align: middle;\n",
       "    }\n",
       "\n",
       "    .dataframe tbody tr th {\n",
       "        vertical-align: top;\n",
       "    }\n",
       "\n",
       "    .dataframe thead th {\n",
       "        text-align: right;\n",
       "    }\n",
       "</style>\n",
       "<table border=\"1\" class=\"dataframe\">\n",
       "  <thead>\n",
       "    <tr style=\"text-align: right;\">\n",
       "      <th></th>\n",
       "      <th>incorrect_eq</th>\n",
       "      <th>non_absolute_equialence_list</th>\n",
       "      <th>whole_equialence_list</th>\n",
       "      <th>nonabseq_pairs_number</th>\n",
       "      <th>all_pairs_number</th>\n",
       "    </tr>\n",
       "  </thead>\n",
       "  <tbody>\n",
       "    <tr>\n",
       "      <th>0</th>\n",
       "      <td>0</td>\n",
       "      <td>NaN</td>\n",
       "      <td>письмо_lettre==письмо_lettre || буква_lettre==...</td>\n",
       "      <td>0</td>\n",
       "      <td>2</td>\n",
       "    </tr>\n",
       "    <tr>\n",
       "      <th>1</th>\n",
       "      <td>0</td>\n",
       "      <td>NaN</td>\n",
       "      <td>тарелка_assiette==тарелка_assiette ||</td>\n",
       "      <td>0</td>\n",
       "      <td>1</td>\n",
       "    </tr>\n",
       "    <tr>\n",
       "      <th>2</th>\n",
       "      <td>5</td>\n",
       "      <td>обед_déjeuner==обед_dîner || обед_déjeuner==об...</td>\n",
       "      <td>обед_déjeuner==обед_dîner || обед_déjeuner==об...</td>\n",
       "      <td>6</td>\n",
       "      <td>7</td>\n",
       "    </tr>\n",
       "    <tr>\n",
       "      <th>3</th>\n",
       "      <td>0</td>\n",
       "      <td>необходимый_nécessaire==необходимый_indispensa...</td>\n",
       "      <td>необходимый_nécessaire==необходимый_nécessaire...</td>\n",
       "      <td>1</td>\n",
       "      <td>2</td>\n",
       "    </tr>\n",
       "    <tr>\n",
       "      <th>4</th>\n",
       "      <td>1</td>\n",
       "      <td>секретный_secret==тайный_secret || секретный_s...</td>\n",
       "      <td>секрет_secret==секрет_secret || тайный_secret=...</td>\n",
       "      <td>3</td>\n",
       "      <td>5</td>\n",
       "    </tr>\n",
       "  </tbody>\n",
       "</table>\n",
       "</div>"
      ],
      "text/plain": [
       "   incorrect_eq                       non_absolute_equialence_list  \\\n",
       "0             0                                                NaN   \n",
       "1             0                                                NaN   \n",
       "2             5  обед_déjeuner==обед_dîner || обед_déjeuner==об...   \n",
       "3             0  необходимый_nécessaire==необходимый_indispensa...   \n",
       "4             1  секретный_secret==тайный_secret || секретный_s...   \n",
       "\n",
       "                               whole_equialence_list  nonabseq_pairs_number  \\\n",
       "0  письмо_lettre==письмо_lettre || буква_lettre==...                      0   \n",
       "1              тарелка_assiette==тарелка_assiette ||                      0   \n",
       "2  обед_déjeuner==обед_dîner || обед_déjeuner==об...                      6   \n",
       "3  необходимый_nécessaire==необходимый_nécessaire...                      1   \n",
       "4  секрет_secret==секрет_secret || тайный_secret=...                      3   \n",
       "\n",
       "   all_pairs_number  \n",
       "0                 2  \n",
       "1                 1  \n",
       "2                 7  \n",
       "3                 2  \n",
       "4                 5  "
      ]
     },
     "execution_count": 9,
     "metadata": {},
     "output_type": "execute_result"
    }
   ],
   "source": [
    "def get_pairs_number(pairs_list):\n",
    "    if 'float' not in str(type(pairs_list)):\n",
    "        pairs_list_split = pairs_list.split(\"||\")\n",
    "        return len(pairs_list_split) - 1\n",
    "    else:\n",
    "        return 0\n",
    "short_df['nonabseq_pairs_number'] = short_df['non_absolute_equialence_list'].apply(get_pairs_number)\n",
    "short_df['all_pairs_number'] = short_df['whole_equialence_list'].apply(get_pairs_number)\n",
    "\n",
    "short_df.head()"
   ]
  },
  {
   "cell_type": "code",
   "execution_count": 10,
   "metadata": {},
   "outputs": [
    {
     "data": {
      "text/plain": [
       "0.7591836734693878"
      ]
     },
     "execution_count": 10,
     "metadata": {},
     "output_type": "execute_result"
    }
   ],
   "source": [
    "1 - np.sum(short_df['incorrect_eq'])/np.sum(short_df['nonabseq_pairs_number'])"
   ]
  },
  {
   "cell_type": "code",
   "execution_count": 11,
   "metadata": {},
   "outputs": [
    {
     "data": {
      "text/html": [
       "<div>\n",
       "<style scoped>\n",
       "    .dataframe tbody tr th:only-of-type {\n",
       "        vertical-align: middle;\n",
       "    }\n",
       "\n",
       "    .dataframe tbody tr th {\n",
       "        vertical-align: top;\n",
       "    }\n",
       "\n",
       "    .dataframe thead th {\n",
       "        text-align: right;\n",
       "    }\n",
       "</style>\n",
       "<table border=\"1\" class=\"dataframe\">\n",
       "  <thead>\n",
       "    <tr style=\"text-align: right;\">\n",
       "      <th></th>\n",
       "      <th>incorrect_eq</th>\n",
       "      <th>non_absolute_equialence_list</th>\n",
       "      <th>whole_equialence_list</th>\n",
       "      <th>nonabseq_pairs_number</th>\n",
       "      <th>all_pairs_number</th>\n",
       "    </tr>\n",
       "  </thead>\n",
       "  <tbody>\n",
       "    <tr>\n",
       "      <th>2</th>\n",
       "      <td>5</td>\n",
       "      <td>обед_déjeuner==обед_dîner || обед_déjeuner==об...</td>\n",
       "      <td>обед_déjeuner==обед_dîner || обед_déjeuner==об...</td>\n",
       "      <td>6</td>\n",
       "      <td>7</td>\n",
       "    </tr>\n",
       "    <tr>\n",
       "      <th>3</th>\n",
       "      <td>0</td>\n",
       "      <td>необходимый_nécessaire==необходимый_indispensa...</td>\n",
       "      <td>необходимый_nécessaire==необходимый_nécessaire...</td>\n",
       "      <td>1</td>\n",
       "      <td>2</td>\n",
       "    </tr>\n",
       "    <tr>\n",
       "      <th>4</th>\n",
       "      <td>1</td>\n",
       "      <td>секретный_secret==тайный_secret || секретный_s...</td>\n",
       "      <td>секрет_secret==секрет_secret || тайный_secret=...</td>\n",
       "      <td>3</td>\n",
       "      <td>5</td>\n",
       "    </tr>\n",
       "    <tr>\n",
       "      <th>6</th>\n",
       "      <td>1</td>\n",
       "      <td>согревать_réchauffer==согревать_réchauffer | c...</td>\n",
       "      <td>теплый_chaud==теплый_chaud || теплый_chaleureu...</td>\n",
       "      <td>1</td>\n",
       "      <td>3</td>\n",
       "    </tr>\n",
       "    <tr>\n",
       "      <th>7</th>\n",
       "      <td>0</td>\n",
       "      <td>Америка_Amérique==Америка_amérique ||</td>\n",
       "      <td>Америка_Amérique==Америка_amérique ||</td>\n",
       "      <td>1</td>\n",
       "      <td>1</td>\n",
       "    </tr>\n",
       "  </tbody>\n",
       "</table>\n",
       "</div>"
      ],
      "text/plain": [
       "   incorrect_eq                       non_absolute_equialence_list  \\\n",
       "2             5  обед_déjeuner==обед_dîner || обед_déjeuner==об...   \n",
       "3             0  необходимый_nécessaire==необходимый_indispensa...   \n",
       "4             1  секретный_secret==тайный_secret || секретный_s...   \n",
       "6             1  согревать_réchauffer==согревать_réchauffer | c...   \n",
       "7             0              Америка_Amérique==Америка_amérique ||   \n",
       "\n",
       "                               whole_equialence_list  nonabseq_pairs_number  \\\n",
       "2  обед_déjeuner==обед_dîner || обед_déjeuner==об...                      6   \n",
       "3  необходимый_nécessaire==необходимый_nécessaire...                      1   \n",
       "4  секрет_secret==секрет_secret || тайный_secret=...                      3   \n",
       "6  теплый_chaud==теплый_chaud || теплый_chaleureu...                      1   \n",
       "7              Америка_Amérique==Америка_amérique ||                      1   \n",
       "\n",
       "   all_pairs_number  \n",
       "2                 7  \n",
       "3                 2  \n",
       "4                 5  \n",
       "6                 3  \n",
       "7                 1  "
      ]
     },
     "execution_count": 11,
     "metadata": {},
     "output_type": "execute_result"
    }
   ],
   "source": [
    "non_abs_eq = pd.DataFrame()\n",
    "non_abs_eq = short_df[short_df['nonabseq_pairs_number'] != 0]\n",
    "non_abs_eq.head()"
   ]
  },
  {
   "cell_type": "code",
   "execution_count": 13,
   "metadata": {},
   "outputs": [
    {
     "data": {
      "text/plain": [
       "(0.0, 2.0)"
      ]
     },
     "execution_count": 13,
     "metadata": {},
     "output_type": "execute_result"
    }
   ],
   "source": [
    "np.median(non_abs_eq['incorrect_eq']), np.median(non_abs_eq['nonabseq_pairs_number'])"
   ]
  },
  {
   "cell_type": "code",
   "execution_count": 14,
   "metadata": {},
   "outputs": [
    {
     "data": {
      "text/plain": [
       "(0.6344086021505376, 2.6344086021505375)"
      ]
     },
     "execution_count": 14,
     "metadata": {},
     "output_type": "execute_result"
    }
   ],
   "source": [
    "np.mean(non_abs_eq['incorrect_eq']), np.mean(non_abs_eq['nonabseq_pairs_number'])"
   ]
  },
  {
   "cell_type": "code",
   "execution_count": 18,
   "metadata": {},
   "outputs": [
    {
     "data": {
      "text/plain": [
       "(0.7591836734693878, 0.24081632653061225)"
      ]
     },
     "execution_count": 18,
     "metadata": {},
     "output_type": "execute_result"
    }
   ],
   "source": [
    "1 - np.sum(non_abs_eq['incorrect_eq'])/np.sum(non_abs_eq['nonabseq_pairs_number']), np.sum(non_abs_eq['incorrect_eq'])/np.sum(non_abs_eq['nonabseq_pairs_number'])"
   ]
  },
  {
   "cell_type": "code",
   "execution_count": 19,
   "metadata": {},
   "outputs": [
    {
     "data": {
      "text/plain": [
       "(0.8314285714285714, 0.16857142857142857)"
      ]
     },
     "execution_count": 19,
     "metadata": {},
     "output_type": "execute_result"
    }
   ],
   "source": [
    "1 - np.sum(non_abs_eq['incorrect_eq'])/np.sum(non_abs_eq['all_pairs_number']), np.sum(non_abs_eq['incorrect_eq'])/np.sum(non_abs_eq['all_pairs_number'])"
   ]
  },
  {
   "cell_type": "code",
   "execution_count": 20,
   "metadata": {},
   "outputs": [
    {
     "data": {
      "text/plain": [
       "(0.864367816091954, 0.135632183908046)"
      ]
     },
     "execution_count": 20,
     "metadata": {},
     "output_type": "execute_result"
    }
   ],
   "source": [
    "1 - np.sum(short_df['incorrect_eq'])/np.sum(short_df['all_pairs_number']), np.sum(short_df['incorrect_eq'])/np.sum(short_df['all_pairs_number'])"
   ]
  }
 ],
 "metadata": {
  "kernelspec": {
   "display_name": "Python 3",
   "language": "python",
   "name": "python3"
  },
  "language_info": {
   "codemirror_mode": {
    "name": "ipython",
    "version": 3
   },
   "file_extension": ".py",
   "mimetype": "text/x-python",
   "name": "python",
   "nbconvert_exporter": "python",
   "pygments_lexer": "ipython3",
   "version": "3.7.4"
  }
 },
 "nbformat": 4,
 "nbformat_minor": 2
}
