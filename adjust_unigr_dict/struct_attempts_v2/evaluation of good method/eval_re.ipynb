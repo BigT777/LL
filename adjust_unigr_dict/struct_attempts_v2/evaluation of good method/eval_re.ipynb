{
 "cells": [
  {
   "cell_type": "code",
   "execution_count": 11,
   "metadata": {},
   "outputs": [],
   "source": [
    "from string import punctuation\n",
    "full_punctuation = punctuation + '–' + ',' + '»' + '«' + '…' +'’'"
   ]
  },
  {
   "cell_type": "code",
   "execution_count": 25,
   "metadata": {},
   "outputs": [
    {
     "ename": "ImportError",
     "evalue": "cannot import name 'FastTextKeyedVectorsn' from 'gensim.models.keyedvectors' (/Users/nigula/Library/Python/3.7/lib/python/site-packages/gensim/models/keyedvectors.py)",
     "output_type": "error",
     "traceback": [
      "\u001b[0;31m---------------------------------------------------------------------------\u001b[0m",
      "\u001b[0;31mImportError\u001b[0m                               Traceback (most recent call last)",
      "\u001b[0;32m<ipython-input-25-4878df1a9131>\u001b[0m in \u001b[0;36m<module>\u001b[0;34m\u001b[0m\n\u001b[1;32m      2\u001b[0m \u001b[0;31m#model_fr = FastText.load_fasttext_format('/Users/nigula/input/fr/fr.bin')\u001b[0m\u001b[0;34m\u001b[0m\u001b[0;34m\u001b[0m\u001b[0;34m\u001b[0m\u001b[0m\n\u001b[1;32m      3\u001b[0m \u001b[0;34m\u001b[0m\u001b[0m\n\u001b[0;32m----> 4\u001b[0;31m \u001b[0;32mfrom\u001b[0m \u001b[0mgensim\u001b[0m\u001b[0;34m.\u001b[0m\u001b[0mmodels\u001b[0m\u001b[0;34m.\u001b[0m\u001b[0mkeyedvectors\u001b[0m \u001b[0;32mimport\u001b[0m \u001b[0mFastTextKeyedVectorsn\u001b[0m\u001b[0;34m\u001b[0m\u001b[0;34m\u001b[0m\u001b[0m\n\u001b[0m\u001b[1;32m      5\u001b[0m \u001b[0;34m\u001b[0m\u001b[0m\n\u001b[1;32m      6\u001b[0m \u001b[0;32mfrom\u001b[0m  \u001b[0msklearn\u001b[0m\u001b[0;34m.\u001b[0m\u001b[0mmetrics\u001b[0m\u001b[0;34m.\u001b[0m\u001b[0mpairwise\u001b[0m \u001b[0;32mimport\u001b[0m \u001b[0mcosine_similarityn\u001b[0m\u001b[0;34m\u001b[0m\u001b[0;34m\u001b[0m\u001b[0m\n",
      "\u001b[0;31mImportError\u001b[0m: cannot import name 'FastTextKeyedVectorsn' from 'gensim.models.keyedvectors' (/Users/nigula/Library/Python/3.7/lib/python/site-packages/gensim/models/keyedvectors.py)"
     ]
    }
   ],
   "source": [
    "from gensim.models.wrappers import FastText\n",
    "#model_fr = FastText.load_fasttext_format('/Users/nigula/input/fr/fr.bin')\n",
    "\n",
    "from gensim.models.keyedvectors import FastTextKeyedVectorsn\n",
    "\n",
    "from  sklearn.metrics.pairwise import cosine_similarityn\n",
    "\n",
    "model_rus = FastTextKeyedVectors.load('/Users/nigula/input/araneum_none_fasttextcbow_300_5_2018/araneum_none_fasttextcbow_300_5_2018.model')\n"
   ]
  },
  {
   "cell_type": "code",
   "execution_count": 1,
   "metadata": {},
   "outputs": [],
   "source": [
    "import pandas as pd"
   ]
  },
  {
   "cell_type": "code",
   "execution_count": 2,
   "metadata": {},
   "outputs": [
    {
     "data": {
      "text/html": [
       "<div>\n",
       "<style scoped>\n",
       "    .dataframe tbody tr th:only-of-type {\n",
       "        vertical-align: middle;\n",
       "    }\n",
       "\n",
       "    .dataframe tbody tr th {\n",
       "        vertical-align: top;\n",
       "    }\n",
       "\n",
       "    .dataframe thead th {\n",
       "        text-align: right;\n",
       "    }\n",
       "</style>\n",
       "<table border=\"1\" class=\"dataframe\">\n",
       "  <thead>\n",
       "    <tr style=\"text-align: right;\">\n",
       "      <th></th>\n",
       "      <th>English</th>\n",
       "      <th>Russian</th>\n",
       "      <th>French</th>\n",
       "    </tr>\n",
       "  </thead>\n",
       "  <tbody>\n",
       "    <tr>\n",
       "      <th>0</th>\n",
       "      <td>letter</td>\n",
       "      <td>письмо</td>\n",
       "      <td>lettre</td>\n",
       "    </tr>\n",
       "    <tr>\n",
       "      <th>1</th>\n",
       "      <td>letter</td>\n",
       "      <td>буква</td>\n",
       "      <td>lettre</td>\n",
       "    </tr>\n",
       "    <tr>\n",
       "      <th>2</th>\n",
       "      <td>letter</td>\n",
       "      <td>буква</td>\n",
       "      <td>caractère</td>\n",
       "    </tr>\n",
       "    <tr>\n",
       "      <th>3</th>\n",
       "      <td>plate</td>\n",
       "      <td>тарелка</td>\n",
       "      <td>assiette</td>\n",
       "    </tr>\n",
       "    <tr>\n",
       "      <th>4</th>\n",
       "      <td>plate</td>\n",
       "      <td>тарелка</td>\n",
       "      <td>plat</td>\n",
       "    </tr>\n",
       "  </tbody>\n",
       "</table>\n",
       "</div>"
      ],
      "text/plain": [
       "  English  Russian     French\n",
       "0  letter   письмо     lettre\n",
       "1  letter    буква     lettre\n",
       "2  letter    буква  caractère\n",
       "3   plate  тарелка   assiette\n",
       "4   plate  тарелка       plat"
      ]
     },
     "execution_count": 2,
     "metadata": {},
     "output_type": "execute_result"
    }
   ],
   "source": [
    "reference_dict = pd.read_csv(\"/Users/nigula/LL/adjust_unigr_dict/reference_dicts/reference_dict_v3.csv\")\n",
    "reference_dict.head()"
   ]
  },
  {
   "cell_type": "code",
   "execution_count": 6,
   "metadata": {},
   "outputs": [],
   "source": [
    " def update_dict (ref_dict_eng_word, l1_w, l2_w):\n",
    "        if l1_w in ref_dict_eng_word:\n",
    "            ref_dict_eng_word[l1_w].append((l1_w, l2_w))\n",
    "        else:\n",
    "            ref_dict_eng_word[l1_w] = []\n",
    "            ref_dict_eng_word[l1_w].append((l1_w, l2_w))\n",
    "   "
   ]
  },
  {
   "cell_type": "code",
   "execution_count": 7,
   "metadata": {},
   "outputs": [],
   "source": [
    "def reference_to_dict (df):\n",
    "    ref_dict = {}\n",
    "    for df_ind, val in df.iterrows():\n",
    "        #print(list(val))\n",
    "\n",
    "        val_list = list(val)\n",
    "        eng_word = val_list[0]\n",
    "        l1_word = val_list[1] \n",
    "        l2_word = val_list[2]\n",
    "\n",
    "        if eng_word in ref_dict:\n",
    "            update_dict(ref_dict[eng_word],l1_word, l2_word)\n",
    "            #ref_dict[eng_word].append((l1_word, l2_word))\n",
    "        else:\n",
    "            ref_dict[eng_word] = {}\n",
    "            update_dict(ref_dict[eng_word],l1_word, l2_word)\n",
    "            #ref_dict[eng_word].append((l1_word, l2_word))\n",
    "        #break\n",
    "    return ref_dict\n",
    "\n",
    "ref_dct = reference_to_dict(reference_dict)"
   ]
  },
  {
   "cell_type": "code",
   "execution_count": 12,
   "metadata": {},
   "outputs": [
    {
     "data": {
      "text/plain": [
       "{'пауза': [('пауза', 'pause ')],\n",
       " 'перерыв': [('перерыв', 'vacances')],\n",
       " 'поломка, скол': [('поломка, скол', 'félure')],\n",
       " 'ломать': [('ломать', 'briser'), ('ломать', 'casser')],\n",
       " 'игнорировать': [('игнорировать', 'désobéir à')],\n",
       " 'пренебречь': [('пренебречь', 'manquer à')],\n",
       " 'прерывать': [('прерывать', 'interrompre')],\n",
       " 'разразиться': [('разразиться', 'éclater')]}"
      ]
     },
     "execution_count": 12,
     "metadata": {},
     "output_type": "execute_result"
    }
   ],
   "source": [
    "ref_dct['break']"
   ]
  },
  {
   "cell_type": "code",
   "execution_count": 17,
   "metadata": {},
   "outputs": [
    {
     "data": {
      "text/html": [
       "<div>\n",
       "<style scoped>\n",
       "    .dataframe tbody tr th:only-of-type {\n",
       "        vertical-align: middle;\n",
       "    }\n",
       "\n",
       "    .dataframe tbody tr th {\n",
       "        vertical-align: top;\n",
       "    }\n",
       "\n",
       "    .dataframe thead th {\n",
       "        text-align: right;\n",
       "    }\n",
       "</style>\n",
       "<table border=\"1\" class=\"dataframe\">\n",
       "  <thead>\n",
       "    <tr style=\"text-align: right;\">\n",
       "      <th></th>\n",
       "      <th>Unnamed: 0</th>\n",
       "      <th>eng_word</th>\n",
       "      <th>l1</th>\n",
       "      <th>l1_context</th>\n",
       "      <th>l2</th>\n",
       "      <th>l2_context</th>\n",
       "    </tr>\n",
       "  </thead>\n",
       "  <tbody>\n",
       "    <tr>\n",
       "      <th>0</th>\n",
       "      <td>0</td>\n",
       "      <td>treat</td>\n",
       "      <td>gâterie</td>\n",
       "      <td>wholesome treat|sweet treats|</td>\n",
       "      <td>угощение</td>\n",
       "      <td>morning treat|feast |</td>\n",
       "    </tr>\n",
       "    <tr>\n",
       "      <th>1</th>\n",
       "      <td>1</td>\n",
       "      <td>treat</td>\n",
       "      <td>gâterie</td>\n",
       "      <td>wholesome treat|sweet treats|</td>\n",
       "      <td>удовольствие</td>\n",
       "      <td>pleasure | fun | satisfaction | enjoyment | am...</td>\n",
       "    </tr>\n",
       "    <tr>\n",
       "      <th>2</th>\n",
       "      <td>2</td>\n",
       "      <td>treat</td>\n",
       "      <td>soigner</td>\n",
       "      <td>to treat people|to treat angina|cure | heal | ...</td>\n",
       "      <td>лечить</td>\n",
       "      <td>to treat people|heal | cure | heal | dose |</td>\n",
       "    </tr>\n",
       "    <tr>\n",
       "      <th>3</th>\n",
       "      <td>3</td>\n",
       "      <td>treat</td>\n",
       "      <td>soigner</td>\n",
       "      <td>to treat people|to treat angina|cure | heal | ...</td>\n",
       "      <td>вылечить</td>\n",
       "      <td>cure | heal |</td>\n",
       "    </tr>\n",
       "    <tr>\n",
       "      <th>4</th>\n",
       "      <td>4</td>\n",
       "      <td>treat</td>\n",
       "      <td>considérer</td>\n",
       "      <td>treated on a case-by-case basis|treated confid...</td>\n",
       "      <td>рассматривать</td>\n",
       "      <td>consider | see | view | regard | examine | rev...</td>\n",
       "    </tr>\n",
       "  </tbody>\n",
       "</table>\n",
       "</div>"
      ],
      "text/plain": [
       "   Unnamed: 0 eng_word          l1  \\\n",
       "0           0    treat     gâterie   \n",
       "1           1    treat     gâterie   \n",
       "2           2    treat     soigner   \n",
       "3           3    treat     soigner   \n",
       "4           4    treat  considérer   \n",
       "\n",
       "                                          l1_context             l2  \\\n",
       "0                      wholesome treat|sweet treats|       угощение   \n",
       "1                      wholesome treat|sweet treats|   удовольствие   \n",
       "2  to treat people|to treat angina|cure | heal | ...         лечить   \n",
       "3  to treat people|to treat angina|cure | heal | ...       вылечить   \n",
       "4  treated on a case-by-case basis|treated confid...  рассматривать   \n",
       "\n",
       "                                          l2_context  \n",
       "0                             morning treat|feast |   \n",
       "1  pleasure | fun | satisfaction | enjoyment | am...  \n",
       "2       to treat people|heal | cure | heal | dose |   \n",
       "3                                     cure | heal |   \n",
       "4  consider | see | view | regard | examine | rev...  "
      ]
     },
     "execution_count": 17,
     "metadata": {},
     "output_type": "execute_result"
    }
   ],
   "source": [
    "merge_cont = pd.read_csv('/Users/nigula/LL/adjust_unigr_dict/reverse_connected_dicts/systran_merge_mean_04_similarity_vs_pos.csv')\n",
    "merge_cont.head()"
   ]
  },
  {
   "cell_type": "code",
   "execution_count": 18,
   "metadata": {},
   "outputs": [
    {
     "data": {
      "text/html": [
       "<div>\n",
       "<style scoped>\n",
       "    .dataframe tbody tr th:only-of-type {\n",
       "        vertical-align: middle;\n",
       "    }\n",
       "\n",
       "    .dataframe tbody tr th {\n",
       "        vertical-align: top;\n",
       "    }\n",
       "\n",
       "    .dataframe thead th {\n",
       "        text-align: right;\n",
       "    }\n",
       "</style>\n",
       "<table border=\"1\" class=\"dataframe\">\n",
       "  <thead>\n",
       "    <tr style=\"text-align: right;\">\n",
       "      <th></th>\n",
       "      <th>en</th>\n",
       "      <th>rus</th>\n",
       "      <th>fr</th>\n",
       "    </tr>\n",
       "  </thead>\n",
       "  <tbody>\n",
       "    <tr>\n",
       "      <th>0</th>\n",
       "      <td>treat</td>\n",
       "      <td>угощение</td>\n",
       "      <td>gâterie</td>\n",
       "    </tr>\n",
       "    <tr>\n",
       "      <th>1</th>\n",
       "      <td>treat</td>\n",
       "      <td>удовольствие</td>\n",
       "      <td>gâterie</td>\n",
       "    </tr>\n",
       "    <tr>\n",
       "      <th>2</th>\n",
       "      <td>treat</td>\n",
       "      <td>лечить</td>\n",
       "      <td>soigner</td>\n",
       "    </tr>\n",
       "    <tr>\n",
       "      <th>3</th>\n",
       "      <td>treat</td>\n",
       "      <td>вылечить</td>\n",
       "      <td>soigner</td>\n",
       "    </tr>\n",
       "    <tr>\n",
       "      <th>4</th>\n",
       "      <td>treat</td>\n",
       "      <td>рассматривать</td>\n",
       "      <td>considérer</td>\n",
       "    </tr>\n",
       "  </tbody>\n",
       "</table>\n",
       "</div>"
      ],
      "text/plain": [
       "      en            rus          fr\n",
       "0  treat       угощение     gâterie\n",
       "1  treat   удовольствие     gâterie\n",
       "2  treat         лечить     soigner\n",
       "3  treat       вылечить     soigner\n",
       "4  treat  рассматривать  considérer"
      ]
     },
     "execution_count": 18,
     "metadata": {},
     "output_type": "execute_result"
    }
   ],
   "source": [
    "merge_cont_short = pd.DataFrame()\n",
    "merge_cont_short['en'] = merge_cont['eng_word']\n",
    "merge_cont_short['rus'] = merge_cont['l2']\n",
    "merge_cont_short['fr'] = merge_cont['l1']\n",
    "merge_cont_short.head()"
   ]
  },
  {
   "cell_type": "code",
   "execution_count": 21,
   "metadata": {},
   "outputs": [],
   "source": [
    "l1 = 'поломка, '\n",
    "l2 = 'сломать'"
   ]
  },
  {
   "cell_type": "code",
   "execution_count": 22,
   "metadata": {},
   "outputs": [
    {
     "ename": "NameError",
     "evalue": "name 'model_rus' is not defined",
     "output_type": "error",
     "traceback": [
      "\u001b[0;31m---------------------------------------------------------------------------\u001b[0m",
      "\u001b[0;31mNameError\u001b[0m                                 Traceback (most recent call last)",
      "\u001b[0;32m<ipython-input-22-2aad6e604e82>\u001b[0m in \u001b[0;36m<module>\u001b[0;34m\u001b[0m\n\u001b[1;32m     24\u001b[0m     \u001b[0;32mreturn\u001b[0m \u001b[0mcos_sim\u001b[0m\u001b[0;34m\u001b[0m\u001b[0;34m\u001b[0m\u001b[0m\n\u001b[1;32m     25\u001b[0m \u001b[0;34m\u001b[0m\u001b[0m\n\u001b[0;32m---> 26\u001b[0;31m \u001b[0mfind_lines_similarity\u001b[0m\u001b[0;34m(\u001b[0m\u001b[0ml1\u001b[0m\u001b[0;34m,\u001b[0m \u001b[0ml2\u001b[0m\u001b[0;34m,\u001b[0m \u001b[0mmodel_rus\u001b[0m\u001b[0;34m)\u001b[0m\u001b[0;34m\u001b[0m\u001b[0;34m\u001b[0m\u001b[0m\n\u001b[0m",
      "\u001b[0;31mNameError\u001b[0m: name 'model_rus' is not defined"
     ]
    }
   ],
   "source": [
    "def get_vectors_sum(lemm_line, model):\n",
    "        orig_vector = np.zeros(shape = 300)\n",
    "        for lemma in lemm_line.split():\n",
    "            #print(lemma)\n",
    "            try:\n",
    "                orig_vector += model[lemma]\n",
    "            except:\n",
    "                pass\n",
    "        return orig_vector\n",
    "    \n",
    "def find_lines_similarity(line_1, line_2, model):\n",
    "    line_1_clear = ''\n",
    "    for line_1_char in line_1:\n",
    "        if line_1_char not in full_punctuation:\n",
    "            line_1_clear += line_1_char\n",
    "    line_2_clear = ''\n",
    "    for line_2_char in line_2:\n",
    "        if line_2_char not in full_punctuation:\n",
    "            line_2_clear += line_2_char\n",
    "    l1_vect = get_vectors_sum(line_1_clear, model)\n",
    "    l2_vect = get_vectors_sum(line_2_clear, model)\n",
    "    cos_sim = cosine_similarity(l1_vect.reshape(1, -1), l2_vect.reshape(1, -1))[0][0]\n",
    "    #print(cos_sim)\n",
    "    return cos_sim\n",
    "\n",
    "find_lines_similarity(l1, l2, model_rus)"
   ]
  }
 ],
 "metadata": {
  "kernelspec": {
   "display_name": "Python 3",
   "language": "python",
   "name": "python3"
  },
  "language_info": {
   "codemirror_mode": {
    "name": "ipython",
    "version": 3
   },
   "file_extension": ".py",
   "mimetype": "text/x-python",
   "name": "python",
   "nbconvert_exporter": "python",
   "pygments_lexer": "ipython3",
   "version": "3.7.4"
  }
 },
 "nbformat": 4,
 "nbformat_minor": 2
}
