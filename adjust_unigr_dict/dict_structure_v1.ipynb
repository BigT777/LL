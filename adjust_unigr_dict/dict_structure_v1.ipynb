{
 "cells": [
  {
   "cell_type": "code",
   "execution_count": 1,
   "metadata": {},
   "outputs": [],
   "source": [
    "import requests\n",
    "import json\n",
    "from bs4 import BeautifulSoup as bs\n",
    "import time\n",
    "import random\n",
    "import re"
   ]
  },
  {
   "cell_type": "code",
   "execution_count": 5,
   "metadata": {},
   "outputs": [],
   "source": [
    "import psycopg2\n"
   ]
  },
  {
   "cell_type": "code",
   "execution_count": 24,
   "metadata": {},
   "outputs": [
    {
     "name": "stdout",
     "output_type": "stream",
     "text": [
      "https://dictionary.cambridge.org/dictionary/english-russian/mother_1\n",
      "DEFINITION your female parent\n",
      "RUS_DEFIN мать\n",
      "ENG_DEFIN_EX a single mother\n",
      "ENG_DEFIN_EX My mother and father are divorced.\n",
      "{'definition': 'your female parent', 'local_word': 'мать', 'examples': ['a single mother', 'My mother and father are divorced.']}\n",
      "===\n",
      "DEFINITION the title of an important nun (= woman who lives in a female religious group)\n",
      "RUS_DEFIN мать (церковное звание)\n",
      "ENG_DEFIN_EX Mother Teresa\n",
      "{'definition': 'the title of an important nun (= woman who lives in a female religious group)', 'local_word': 'мать (церковное звание)', 'examples': ['Mother Teresa']}\n",
      "===\n",
      "https://dictionary.cambridge.org/dictionary/english-russian/mother_2\n"
     ]
    }
   ],
   "source": [
    "def get_def_info(word, from_lang, to_lang, multisence_dict):\n",
    "    multisence_dict[word] = []\n",
    "    definitions = []\n",
    "    same_page = False\n",
    "    for index in range(1,4):\n",
    "        url = \"https://dictionary.cambridge.org/dictionary/\" + from_lang + \"-\" + to_lang + \"/\" + word + \"_\" + str(index)\n",
    "        print(url)\n",
    "        headers = {'User-Agent': 'Mozilla/5.0 (Macintosh; Intel Mac OS X 10_10_1) AppleWebKit/537.36 (KHTML, like Gecko) Chrome/39.0.2171.95 Safari/537.36'}\n",
    "        response = requests.get(url, headers=headers)\n",
    "        response.encoding = 'utf-8' \n",
    "        soup = bs(response.text, 'html.parser')\n",
    "        current_definition = {}\n",
    "        for link in soup.find_all([\"span\",\"b\"]):\n",
    "    \n",
    "            classes = link.get('class')\n",
    "            if classes and \"def\" in classes:\n",
    "                if link.text.strip() in definitions:\n",
    "                    same_page = True\n",
    "                    break\n",
    "                print(\"DEFINITION\", link.text.strip())\n",
    "                current_definition['definition'] = link.text.strip()\n",
    "                definitions.append(link.text.strip())\n",
    "                \n",
    "            if classes and \"def-body\" in classes:\n",
    "                print(\"RUS_DEFIN\", link.find(\"span\", attrs = {'class':\"trans\"}).text.strip())\n",
    "                current_definition['local_word'] = link.find(\"span\", attrs = {'class':\"trans\"}).text.strip()\n",
    "                current_definition['examples'] = []\n",
    "                for ex in link.find_all(\"span\", attrs = {'class':\"eg\"}):\n",
    "                    current_definition['examples'].append(ex.text.strip())\n",
    "                    print(\"ENG_DEFIN_EX\", ex.text.strip())\n",
    "                print(current_definition)\n",
    "                multisence_dict[word].append(current_definition)\n",
    "                current_definition = {}\n",
    "                print(\"===\")\n",
    "\n",
    "        if same_page == True:\n",
    "            break\n",
    "        time.sleep(random.uniform(0.5,0.9))\n",
    "sence_dict = {}      \n",
    "get_def_info(\"mother\", \"english\",\"russian\",sence_dict)\n"
   ]
  },
  {
   "cell_type": "code",
   "execution_count": 8,
   "metadata": {},
   "outputs": [
    {
     "data": {
      "text/plain": [
       "{'lemma_definitions': [{'definition': 'your female parent',\n",
       "   'local_word': 'мать',\n",
       "   'examples': ['a single mother', 'My mother and father are divorced.']},\n",
       "  {'definition': 'the title of an important nun (= woman who lives in a female religious group)',\n",
       "   'local_word': 'мать (церковное звание)',\n",
       "   'examples': ['Mother Teresa']}]}"
      ]
     },
     "execution_count": 8,
     "metadata": {},
     "output_type": "execute_result"
    }
   ],
   "source": [
    "sence_dict['mother']"
   ]
  },
  {
   "cell_type": "code",
   "execution_count": 20,
   "metadata": {},
   "outputs": [],
   "source": [
    "conn = psycopg2.connect(dbname='pgstage', user='linguist', password='eDQGK0GCStlYlHNV', host='192.168.122.183')\n",
    "cursor = conn.cursor()"
   ]
  },
  {
   "cell_type": "code",
   "execution_count": 23,
   "metadata": {},
   "outputs": [
    {
     "name": "stdout",
     "output_type": "stream",
     "text": [
      "https://dictionary.cambridge.org/dictionary/english-russian/dad_1\n",
      "DEFINITION father\n",
      "RUS_DEFIN папа\n",
      "ENG_DEFIN_EX Can I go to the park, Dad?\n",
      "{'definition': 'father', 'local_word': 'папа', 'examples': ['Can I go to the park, Dad?']}\n",
      "===\n",
      "https://dictionary.cambridge.org/dictionary/english-russian/dad_2\n",
      "dad\n",
      "dads\n",
      "https://dictionary.cambridge.org/dictionary/english-russian/dads_1\n",
      "https://dictionary.cambridge.org/dictionary/english-russian/dads_2\n",
      "https://dictionary.cambridge.org/dictionary/english-russian/dads_3\n"
     ]
    },
    {
     "data": {
      "text/plain": [
       "{'dad': {'definitions': [{'definition': 'father',\n",
       "    'local_word': 'папа',\n",
       "    'examples': ['Can I go to the park, Dad?']}],\n",
       "  'wordforms': {'dads': {'definitions': []}}}}"
      ]
     },
     "execution_count": 23,
     "metadata": {},
     "output_type": "execute_result"
    }
   ],
   "source": [
    "def process_lemma_and_forms(word, dictionary):\n",
    "    get_def_info(word, \"english\",\"russian\",dictionary)\n",
    "    req = \"\"\"SELECT DISTINCT\n",
    "    content_words.word_id,content_words.word_lemma, content_words.word_value\n",
    "    FROM content_words\n",
    "    WHERE content_words.word_value !~ ('\\W') AND\n",
    "    (array_length(regexp_split_to_array(content_words.word_value, '[ ''-]'), 1) = 1) \n",
    "    and word_lemma != 0 and word_hash = calc_hash(' \"\"\" + word + \"\"\"')\"\"\"\n",
    "    cursor.execute(req)\n",
    "    req_res = cursor.fetchone()\n",
    "    if not req_res:\n",
    "        print(word, \" is not in db\")\n",
    "        return 0\n",
    "    else:\n",
    "        #print(a[0])\n",
    "        word_id = req_res[0]\n",
    "        print(req_res[2])\n",
    "    word_forms_request = \"\"\"SELECT DISTINCT \n",
    "    content_words.word_value\n",
    "    FROM content_words\n",
    "    where word_lemma = \"\"\" + str(word_id) + \"\"\"  and word_lemma != word_id \"\"\"\n",
    "    cursor.execute(word_forms_request)\n",
    "    for wordform in cursor:\n",
    "        print(wordform[0])\n",
    "        get_def_info(wordform[0], \"english\",\"russian\",dictionary,is_word_form = True, original_word = word )\n",
    "        \n",
    "big_diCKt = {}        \n",
    "process_lemma_and_forms(\"dad\",big_diCKt)\n",
    "big_diCKt"
   ]
  },
  {
   "cell_type": "code",
   "execution_count": null,
   "metadata": {},
   "outputs": [],
   "source": []
  },
  {
   "cell_type": "code",
   "execution_count": null,
   "metadata": {},
   "outputs": [],
   "source": []
  },
  {
   "cell_type": "code",
   "execution_count": null,
   "metadata": {},
   "outputs": [],
   "source": []
  },
  {
   "cell_type": "code",
   "execution_count": null,
   "metadata": {},
   "outputs": [],
   "source": []
  },
  {
   "cell_type": "code",
   "execution_count": null,
   "metadata": {},
   "outputs": [],
   "source": [
    "def get_def_info(word, from_lang, to_lang, multisence_dict, is_word_form = False, original_word = None ):\n",
    "    if is_word_form == False:\n",
    "        multisence_dict[word] = {'definitions':[], 'wordforms':{}}\n",
    "    else:\n",
    "        multisence_dict[original_word]['wordforms'][word]={'definitions':[]}\n",
    "        \n",
    "    definitions = []\n",
    "    same_page = False\n",
    "    for index in range(1,4):\n",
    "        url = \"https://dictionary.cambridge.org/dictionary/\" + from_lang + \"-\" + to_lang + \"/\" + word + \"_\" + str(index)\n",
    "        print(url)\n",
    "        headers = {'User-Agent': 'Mozilla/5.0 (Macintosh; Intel Mac OS X 10_10_1) AppleWebKit/537.36 (KHTML, like Gecko) Chrome/39.0.2171.95 Safari/537.36'}\n",
    "        response = requests.get(url, headers=headers)\n",
    "        response.encoding = 'utf-8' \n",
    "        soup = bs(response.text, 'html.parser')\n",
    "        current_definition = {}\n",
    "        for link in soup.find_all([\"span\",\"b\"]):\n",
    "    \n",
    "            classes = link.get('class')\n",
    "            if classes and \"def\" in classes:\n",
    "                if link.text.strip() in definitions:\n",
    "                    same_page = True\n",
    "                    break\n",
    "                print(\"DEFINITION\", link.text.strip())\n",
    "                current_definition['definition'] = link.text.strip()\n",
    "                definitions.append(link.text.strip())\n",
    "                \n",
    "            if classes and \"def-body\" in classes:\n",
    "                print(\"RUS_DEFIN\", link.find(\"span\", attrs = {'class':\"trans\"}).text.strip())\n",
    "                current_definition['local_word'] = link.find(\"span\", attrs = {'class':\"trans\"}).text.strip()\n",
    "                current_definition['examples'] = []\n",
    "                for ex in link.find_all(\"span\", attrs = {'class':\"eg\"}):\n",
    "                    current_definition['examples'].append(ex.text.strip())\n",
    "                    print(\"ENG_DEFIN_EX\", ex.text.strip())\n",
    "                print(current_definition)\n",
    "                if is_word_form == False:\n",
    "                    multisence_dict[word]['definitions'].append(current_definition)\n",
    "                else:\n",
    "                    multisence_dict[original_word]['wordforms'][word]['definitions'].append(current_definition)\n",
    "                current_definition = {}\n",
    "                print(\"===\")\n",
    "\n",
    "        if same_page == True:\n",
    "            break\n",
    "        time.sleep(random.uniform(0.5,0.9))\n",
    "sence_dict = {}      \n",
    "get_def_info(\"mother\", \"english\",\"russian\",sence_dict)\n",
    "\n"
   ]
  }
 ],
 "metadata": {
  "kernelspec": {
   "display_name": "Python 3",
   "language": "python",
   "name": "python3"
  },
  "language_info": {
   "codemirror_mode": {
    "name": "ipython",
    "version": 3
   },
   "file_extension": ".py",
   "mimetype": "text/x-python",
   "name": "python",
   "nbconvert_exporter": "python",
   "pygments_lexer": "ipython3",
   "version": "3.7.4"
  }
 },
 "nbformat": 4,
 "nbformat_minor": 2
}
