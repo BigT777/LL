{
 "cells": [
  {
   "cell_type": "code",
   "execution_count": 6,
   "metadata": {},
   "outputs": [],
   "source": [
    "from concurrent.futures import ProcessPoolExecutor\n",
    "from concurrent.futures import ThreadPoolExecutor\n",
    "from concurrent.futures import Future "
   ]
  },
  {
   "cell_type": "code",
   "execution_count": 7,
   "metadata": {},
   "outputs": [],
   "source": [
    "import pandas as pd\n",
    "import time\n",
    "import requests\n",
    "import os\n",
    "from tqdm.auto import tqdm\n",
    "import random\n",
    "from bs4 import BeautifulSoup as bs\n"
   ]
  },
  {
   "cell_type": "code",
   "execution_count": null,
   "metadata": {},
   "outputs": [],
   "source": [
    "pool = ProcessPoolExecutor(3) # This means a pool of 3 processes \n"
   ]
  },
  {
   "cell_type": "code",
   "execution_count": null,
   "metadata": {},
   "outputs": [],
   "source": [
    "df_en_ru_yandex = pd.read_csv(\"/Users/nigula/LL/adjust_unigr_dict/lookup results/yandex_lookup_en_ru_new_vs_pos_to_37353_no_freq.csv\")\n"
   ]
  },
  {
   "cell_type": "code",
   "execution_count": null,
   "metadata": {},
   "outputs": [],
   "source": [
    "def get_link(from_lang,to_lang, word):\n",
    "    start = time.time()\n",
    "    url = \"https://context.reverso.net/перевод/\" + from_lang + \"-\" + to_lang + \"/\" + word \n",
    "    return url\n",
    "\n",
    "\n",
    "\n",
    "#     #print(\"going to find word in\", url)\n",
    "#     response = requests.get(url, headers=header_main, data = login)\n",
    "#     response.encoding = 'utf-8' \n",
    "#     #\n",
    "#     save_dir = os.path.join(\"/Users/nigula/LL/adjust_unigr_dict/lookup/reverso\" + \"_\" + en_from_lang + \"_\" + en_to_lang,word + \".xls\")\n",
    "#     file = open(save_dir, \"wb\")\n",
    "#     file.write(response.content)\n",
    "#     file.close()\n",
    "#     #print(\"saved to directory\", save_dir)\n",
    "#     time.sleep(random.uniform(0.1,1))\n",
    "#     #print(\"request_time\",time.time() - start) \n"
   ]
  },
  {
   "cell_type": "code",
   "execution_count": null,
   "metadata": {},
   "outputs": [],
   "source": [
    "v2_dict = pd.read_csv(\"./reverse_connected_dicts/to_release/merge_reverse_en_ru_fr_vs_ru_fr_en.csv\")\n",
    "words_to_be_handled_fr = list(set(v2_dict['fr']))\n",
    "words_to_be_handled_en = list(set(v2_dict['en']))"
   ]
  },
  {
   "cell_type": "code",
   "execution_count": null,
   "metadata": {},
   "outputs": [],
   "source": [
    "def get_links(df, lookup_from, lookup_to, target_lang, start_from_df_ind = None, finish_index = None):\n",
    "    land_dict = {\"русский\":\"ru\",\"французский\":\"fr\", \"английский\":\"en\"}\n",
    "    count = 0 \n",
    "    except_count = 0\n",
    "    if start_from_df_ind == None:\n",
    "        start = True\n",
    "    else:\n",
    "        start = False\n",
    "    if finish_index == None:\n",
    "        finish_index = len(df)\n",
    "    url_list = []\n",
    "    url_to_list = []\n",
    "    handled_en = []\n",
    "    habdled_local_word = []\n",
    "    for index, row in tqdm(df.iterrows(), total=int(finish_index)):\n",
    "        if str(count) == str(start_from_df_ind):\n",
    "            start = True\n",
    "        if str(count) == str(finish_index):\n",
    "            print(\"FINISHED_ITERATE_COUNT\")\n",
    "            break\n",
    "        if start == True:\n",
    "            eng_word = row[land_dict[lookup_from]]\n",
    "            local_word = row[land_dict[lookup_to]]\n",
    "            \n",
    "            #print(eng_word)\n",
    "            if eng_word not in handled_en:\n",
    "                url_curr = get_link(lookup_from, target_lang, eng_word)\n",
    "                url_list.append(url_curr)\n",
    "                handled_en.append(eng_word)\n",
    "            if local_word not in habdled_local_word:\n",
    "                url_curr = get_link(lookup_to, target_lang, local_word)\n",
    "                url_to_list.append(url_curr)\n",
    "                habdled_local_word.append(eng_word)\n",
    "            \n",
    "        count += 1\n",
    "    return url_list, url_to_list"
   ]
  },
  {
   "cell_type": "code",
   "execution_count": null,
   "metadata": {},
   "outputs": [],
   "source": [
    "url_list_fr_en,url_list_en_ru  = get_links(v2_dict, \"французский\", \"английский\", \"русский\")"
   ]
  },
  {
   "cell_type": "code",
   "execution_count": null,
   "metadata": {},
   "outputs": [],
   "source": []
  },
  {
   "cell_type": "code",
   "execution_count": null,
   "metadata": {},
   "outputs": [],
   "source": [
    "en_ru_fr_dict = pd.read_csv(\"/Users/nigula/LL/adjust_unigr_dict/reverse_connected_dicts/to_release/en_ru_fr_V1.csv\")\n",
    "russian_words = list(set(en_ru_fr_dict['ru']))"
   ]
  },
  {
   "cell_type": "code",
   "execution_count": null,
   "metadata": {},
   "outputs": [],
   "source": [
    "url_list_fr_en,url_list_ru_en  = get_links(en_ru_fr_dict, \"французский\", \"русский\", \"английский\")"
   ]
  },
  {
   "cell_type": "code",
   "execution_count": null,
   "metadata": {
    "scrolled": true
   },
   "outputs": [],
   "source": [
    "url_list_en_fr,url_list_ru_fr  = get_multilang_from_df(df_en_ru_yandex, \"английский\", \"русский\", \"французский\", \n",
    "                                                       start_from_df_ind= 45000,\n",
    "                                                      finish_index = 120000)"
   ]
  },
  {
   "cell_type": "code",
   "execution_count": null,
   "metadata": {},
   "outputs": [],
   "source": [
    "print(len(url_list_ru_fr))\n",
    "url_list_ru_fr[:10]"
   ]
  },
  {
   "cell_type": "code",
   "execution_count": null,
   "metadata": {},
   "outputs": [],
   "source": [
    "url_list_en_fr.index(\"https://context.reverso.net/перевод/английский-французский/reservoir\")"
   ]
  },
  {
   "cell_type": "code",
   "execution_count": null,
   "metadata": {},
   "outputs": [],
   "source": [
    "print(len(url_list_en_fr))\n",
    "url_list_en_fr[:10]"
   ]
  },
  {
   "cell_type": "code",
   "execution_count": 8,
   "metadata": {},
   "outputs": [],
   "source": [
    "infile = open(\"abuse_example.xls\",\"r\")\n",
    "contents = infile.read()\n",
    "soup_out = bs(contents,'html.parser')"
   ]
  },
  {
   "cell_type": "code",
   "execution_count": 9,
   "metadata": {},
   "outputs": [
    {
     "name": "stdout",
     "output_type": "stream",
     "text": [
      "restcit_eba\n"
     ]
    },
    {
     "ename": "Exception",
     "evalue": "Restiction_limit!!!!!!!!!!!!!!",
     "output_type": "error",
     "traceback": [
      "\u001b[0;31m---------------------------------------------------------------------------\u001b[0m",
      "\u001b[0;31mException\u001b[0m                                 Traceback (most recent call last)",
      "\u001b[0;32m<ipython-input-9-3e7b609cdb07>\u001b[0m in \u001b[0;36m<module>\u001b[0;34m\u001b[0m\n\u001b[1;32m     17\u001b[0m                 \u001b[0;32mraise\u001b[0m \u001b[0mException\u001b[0m\u001b[0;34m(\u001b[0m\u001b[0;34m'Restiction_limit!!!!!!!!!!!!!!'\u001b[0m\u001b[0;34m)\u001b[0m\u001b[0;34m\u001b[0m\u001b[0;34m\u001b[0m\u001b[0m\n\u001b[1;32m     18\u001b[0m \u001b[0;34m\u001b[0m\u001b[0m\n\u001b[0;32m---> 19\u001b[0;31m \u001b[0mcheck_restiction\u001b[0m\u001b[0;34m(\u001b[0m\u001b[0msoup_out\u001b[0m\u001b[0;34m)\u001b[0m\u001b[0;34m\u001b[0m\u001b[0;34m\u001b[0m\u001b[0m\n\u001b[0m",
      "\u001b[0;32m<ipython-input-9-3e7b609cdb07>\u001b[0m in \u001b[0;36mcheck_restiction\u001b[0;34m(soup)\u001b[0m\n\u001b[1;32m     15\u001b[0m             \u001b[0;32mif\u001b[0m \u001b[0mrestict\u001b[0m \u001b[0;34m==\u001b[0m \u001b[0;32mTrue\u001b[0m\u001b[0;34m:\u001b[0m\u001b[0;34m\u001b[0m\u001b[0;34m\u001b[0m\u001b[0m\n\u001b[1;32m     16\u001b[0m                 \u001b[0mprint\u001b[0m\u001b[0;34m(\u001b[0m\u001b[0;34m\"restcit_eba\"\u001b[0m\u001b[0;34m)\u001b[0m\u001b[0;34m\u001b[0m\u001b[0;34m\u001b[0m\u001b[0m\n\u001b[0;32m---> 17\u001b[0;31m                 \u001b[0;32mraise\u001b[0m \u001b[0mException\u001b[0m\u001b[0;34m(\u001b[0m\u001b[0;34m'Restiction_limit!!!!!!!!!!!!!!'\u001b[0m\u001b[0;34m)\u001b[0m\u001b[0;34m\u001b[0m\u001b[0;34m\u001b[0m\u001b[0m\n\u001b[0m\u001b[1;32m     18\u001b[0m \u001b[0;34m\u001b[0m\u001b[0m\n\u001b[1;32m     19\u001b[0m \u001b[0mcheck_restiction\u001b[0m\u001b[0;34m(\u001b[0m\u001b[0msoup_out\u001b[0m\u001b[0;34m)\u001b[0m\u001b[0;34m\u001b[0m\u001b[0;34m\u001b[0m\u001b[0m\n",
      "\u001b[0;31mException\u001b[0m: Restiction_limit!!!!!!!!!!!!!!"
     ]
    }
   ],
   "source": [
    "def check_restiction(soup):\n",
    "    for link in soup.find_all(\"section\", attrs={\"id\" : \"error-content\"}):\n",
    "        restrict = ['Your', 'access', 'is', 'temporarily', 'restricted']\n",
    "        #print(link, \"\\\\\")\n",
    "        for l in link.find_all(\"p\"):\n",
    "            count = 0 \n",
    "            restict = False\n",
    "            for word in l.text.strip().split()[:5]:\n",
    "                #print(word, restrict[count])\n",
    "                if word == restrict[count]:\n",
    "                    restict = True\n",
    "                else:\n",
    "                    restict = False\n",
    "                count += 1\n",
    "            if restict == True:\n",
    "                print(\"restcit_eba\")\n",
    "                raise Exception('Restiction_limit!!!!!!!!!!!!!!')\n",
    "\n",
    "check_restiction(soup_out)"
   ]
  },
  {
   "cell_type": "code",
   "execution_count": null,
   "metadata": {},
   "outputs": [],
   "source": [
    "ur = 'https://context.reverso.net/перевод/русский-французский/заросли'\n",
    "ur.split(\"/\")[-1]"
   ]
  },
  {
   "cell_type": "code",
   "execution_count": 10,
   "metadata": {},
   "outputs": [],
   "source": [
    "def only_send_request_func(url):\n",
    "    #print(\"here\")\n",
    "    land_dict = {\"русский\":\"ru\",\"французский\":\"fr\", \"английский\":\"en\"}\n",
    "    lang_pair = url.split(\"/\")[-2]\n",
    "    from_lang = lang_pair.split(\"-\")[0]\n",
    "    to_lang = lang_pair.split(\"-\")[1]\n",
    "    save_loc_base = \"/Users/nigula/LL/adjust_unigr_dict/lookup/reverso_\" + land_dict[from_lang] + \"_\" + land_dict[to_lang]\n",
    "    handled_words_list = []\n",
    "    for word in os.listdir(save_loc_base):\n",
    "        handled_words_list.append(word.split(\".\")[0])\n",
    "    handled_words_set = set(handled_words_list)   \n",
    "    word_to_be_requested = url.split(\"/\")[-1]\n",
    "    #print(\"extract word\")\n",
    "    if word_to_be_requested not in handled_words_set:\n",
    "        #print(\"to be handled\")\n",
    "        login = {'inUserName': 'n.babakov@lingualeo.com', 'inUserPass': '33vec33'}\n",
    "        header_main = {'User-Agent': 'Mozilla/5.0 (Macintosh; Intel Mac OS X 10_10_1) AppleWebKit/537.36 (KHTML, like Gecko) Chrome/39.0.2171.95 Safari/537.36'}\n",
    "        start = time.time()\n",
    "        response = requests.get(url, headers=header_main, data = login)\n",
    "        response.encoding = 'utf-8' \n",
    "        soup = bs(response.text, 'html.parser') \n",
    "        is_restricted = check_restiction(soup)\n",
    "        save_dir = os.path.join(save_loc_base ,url.split(\"/\")[-1] + \".xls\")\n",
    "        #print(\"saved at \",save_dir)\n",
    "        file = open(save_dir, \"wb\")\n",
    "        file.write(response.content)\n",
    "        file.close()\n",
    "        time.sleep(random.uniform(0.1, 1))\n",
    "    else:\n",
    "        #print(word_to_be_requested, \"already_handles\")\n",
    "        pass\n",
    "only_send_request_func('https://context.reverso.net/перевод/русский-французский/мама')\n"
   ]
  },
  {
   "cell_type": "code",
   "execution_count": null,
   "metadata": {},
   "outputs": [],
   "source": [
    "url_list_fr_en[:10]"
   ]
  },
  {
   "cell_type": "code",
   "execution_count": 11,
   "metadata": {},
   "outputs": [],
   "source": [
    "login = {'inUserName': 'n.babakov@lingualeo.com', 'inUserPass': '33vec33'}\n",
    "header_main = {'User-Agent': 'Mozilla/5.0 (Macintosh; Intel Mac OS X 10_10_1) AppleWebKit/537.36 (KHTML, like Gecko) Chrome/39.0.2171.95 Safari/537.36'}\n",
    "only_send_request_func(\"https://context.reverso.net/перевод/французский-английский/joyeusement\")\n"
   ]
  },
  {
   "cell_type": "code",
   "execution_count": 12,
   "metadata": {},
   "outputs": [],
   "source": [
    "from concurrent.futures import ProcessPoolExecutor, as_completed"
   ]
  },
  {
   "cell_type": "code",
   "execution_count": 13,
   "metadata": {},
   "outputs": [
    {
     "ename": "NameError",
     "evalue": "name 'url_list_fr_en' is not defined",
     "output_type": "error",
     "traceback": [
      "\u001b[0;31m---------------------------------------------------------------------------\u001b[0m",
      "\u001b[0;31mNameError\u001b[0m                                 Traceback (most recent call last)",
      "\u001b[0;32m<ipython-input-13-55f01b852bce>\u001b[0m in \u001b[0;36m<module>\u001b[0;34m\u001b[0m\n\u001b[0;32m----> 1\u001b[0;31m \u001b[0mlen\u001b[0m\u001b[0;34m(\u001b[0m\u001b[0murl_list_fr_en\u001b[0m\u001b[0;34m)\u001b[0m\u001b[0;34m\u001b[0m\u001b[0;34m\u001b[0m\u001b[0m\n\u001b[0m",
      "\u001b[0;31mNameError\u001b[0m: name 'url_list_fr_en' is not defined"
     ]
    }
   ],
   "source": [
    "len(url_list_fr_en)"
   ]
  },
  {
   "cell_type": "code",
   "execution_count": 14,
   "metadata": {},
   "outputs": [],
   "source": [
    "import json"
   ]
  },
  {
   "cell_type": "code",
   "execution_count": 2,
   "metadata": {},
   "outputs": [],
   "source": [
    "with open(\"url_list_en_ru.json\" , \"r\") as f:\n",
    "    url_list_en_ru = json.load(f)"
   ]
  },
  {
   "cell_type": "code",
   "execution_count": 3,
   "metadata": {},
   "outputs": [
    {
     "data": {
      "text/plain": [
       "['https://context.reverso.net/перевод/английский-русский/gaily',\n",
       " 'https://context.reverso.net/перевод/английский-русский/merrily',\n",
       " 'https://context.reverso.net/перевод/английский-русский/blithely',\n",
       " 'https://context.reverso.net/перевод/английский-русский/cheerily',\n",
       " 'https://context.reverso.net/перевод/английский-русский/jolly',\n",
       " 'https://context.reverso.net/перевод/английский-русский/happy',\n",
       " 'https://context.reverso.net/перевод/английский-русский/cheerful',\n",
       " 'https://context.reverso.net/перевод/английский-русский/jolly',\n",
       " 'https://context.reverso.net/перевод/английский-русский/jauntily',\n",
       " 'https://context.reverso.net/перевод/английский-русский/humorously']"
      ]
     },
     "execution_count": 3,
     "metadata": {},
     "output_type": "execute_result"
    }
   ],
   "source": [
    "url_list_en_ru[:10]"
   ]
  },
  {
   "cell_type": "code",
   "execution_count": null,
   "metadata": {},
   "outputs": [],
   "source": [
    "with open(\"url_list_en_ru.json\" , \"w\") as f:\n",
    "    json.dump(url_list_en_ru, f, indent = 1)"
   ]
  },
  {
   "cell_type": "code",
   "execution_count": null,
   "metadata": {},
   "outputs": [],
   "source": [
    "url_list_fr_en[:10]"
   ]
  },
  {
   "cell_type": "code",
   "execution_count": null,
   "metadata": {},
   "outputs": [],
   "source": [
    "with open(\"url_list_fr_ru.json\" , \"w\") as f:\n",
    "    json.dump(url_list_fr_en, f, indent = 1)"
   ]
  },
  {
   "cell_type": "code",
   "execution_count": 16,
   "metadata": {
    "scrolled": true
   },
   "outputs": [
    {
     "data": {
      "application/vnd.jupyter.widget-view+json": {
       "model_id": "4213506d5829433a89ad1046f73465f4",
       "version_major": 2,
       "version_minor": 0
      },
      "text/plain": [
       "HBox(children=(IntProgress(value=0, max=225797), HTML(value='')))"
      ]
     },
     "metadata": {},
     "output_type": "display_data"
    },
    {
     "name": "stdout",
     "output_type": "stream",
     "text": [
      "\n",
      "Time Taken: 33.838780s\n"
     ]
    }
   ],
   "source": [
    "list_to_be_processed = url_list_en_ru\n",
    "from_ind = 0\n",
    "to_ind = len(list_to_be_processed)\n",
    "\n",
    "with ProcessPoolExecutor(max_workers=2) as executor:\n",
    "    start = time.time()\n",
    "    futures = [ executor.submit(only_send_request_func, url) for url in list_to_be_processed[from_ind:to_ind]]\n",
    "    results = []\n",
    "    for result in tqdm(as_completed(futures), total=int(to_ind-from_ind)):\n",
    "        results.append(result)\n",
    "    end = time.time()\n",
    "    print(\"Time Taken: {:.6f}s\".format(end-start))"
   ]
  },
  {
   "cell_type": "code",
   "execution_count": null,
   "metadata": {},
   "outputs": [],
   "source": []
  }
 ],
 "metadata": {
  "kernelspec": {
   "display_name": "Python 3",
   "language": "python",
   "name": "python3"
  },
  "language_info": {
   "codemirror_mode": {
    "name": "ipython",
    "version": 3
   },
   "file_extension": ".py",
   "mimetype": "text/x-python",
   "name": "python",
   "nbconvert_exporter": "python",
   "pygments_lexer": "ipython3",
   "version": "3.7.4"
  }
 },
 "nbformat": 4,
 "nbformat_minor": 2
}
