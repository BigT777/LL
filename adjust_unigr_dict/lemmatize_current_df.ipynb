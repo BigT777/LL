{
 "cells": [
  {
   "cell_type": "code",
   "execution_count": 22,
   "metadata": {},
   "outputs": [],
   "source": [
    "from tqdm.auto import tqdm"
   ]
  },
  {
   "cell_type": "code",
   "execution_count": 40,
   "metadata": {},
   "outputs": [],
   "source": [
    "from pymystem3 import Mystem\n",
    "\n",
    "mystem = Mystem()\n"
   ]
  },
  {
   "cell_type": "code",
   "execution_count": 2,
   "metadata": {},
   "outputs": [
    {
     "data": {
      "text/plain": [
       "'красивый мама красиво мыть рама'"
      ]
     },
     "execution_count": 2,
     "metadata": {},
     "output_type": "execute_result"
    }
   ],
   "source": [
    "def ru_lemmatize(line):\n",
    "    lemmas = mystem.lemmatize(line)\n",
    "    return ''.join(lemmas)[:-1]\n",
    "ru_lemmatize(\"Красивая мама красиво мыла раму\")"
   ]
  },
  {
   "cell_type": "code",
   "execution_count": 3,
   "metadata": {},
   "outputs": [],
   "source": [
    "from french_lefff_lemmatizer.french_lefff_lemmatizer import FrenchLefffLemmatizer\n",
    "lemmatizer = FrenchLefffLemmatizer()\n"
   ]
  },
  {
   "cell_type": "code",
   "execution_count": 5,
   "metadata": {},
   "outputs": [
    {
     "data": {
      "text/plain": [
       "'voiture'"
      ]
     },
     "execution_count": 5,
     "metadata": {},
     "output_type": "execute_result"
    }
   ],
   "source": [
    "def fr_lemmatize(word):\n",
    "    lemma = lemmatizer.lemmatize(word)\n",
    "    return lemma\n",
    "fr_lemmatize(\"voitures\")"
   ]
  },
  {
   "cell_type": "code",
   "execution_count": 15,
   "metadata": {},
   "outputs": [],
   "source": [
    "from nltk import word_tokenize, pos_tag\n",
    "from nltk.corpus import wordnet\n",
    "from nltk.stem import WordNetLemmatizer \n",
    "lemmatizer = WordNetLemmatizer()"
   ]
  },
  {
   "cell_type": "code",
   "execution_count": 36,
   "metadata": {},
   "outputs": [
    {
     "data": {
      "text/plain": [
       "'cheerily'"
      ]
     },
     "execution_count": 36,
     "metadata": {},
     "output_type": "execute_result"
    }
   ],
   "source": [
    "def get_wordnet_pos(treebank_tag):\n",
    "\n",
    "    if treebank_tag.startswith('J'):\n",
    "        return wordnet.ADJ\n",
    "    elif treebank_tag.startswith('V'):\n",
    "        return wordnet.VERB\n",
    "    elif treebank_tag.startswith('N'):\n",
    "        return wordnet.NOUN\n",
    "    elif treebank_tag.startswith('R'):\n",
    "        return wordnet.ADV\n",
    "    else:\n",
    "        return None\n",
    "    \n",
    "def en_lemmatize(line):\n",
    "    pos_tagged_ngramm = pos_tag(line.split())\n",
    "    lemmatized_line_list = []\n",
    "    for word_el in pos_tagged_ngramm:\n",
    "        pos = get_wordnet_pos(word_el[1])\n",
    "        if pos:\n",
    "            lemma = lemmatizer.lemmatize(word_el[0], pos =pos)\n",
    "        else:\n",
    "            lemma = word_el[0]\n",
    "        lemmatized_line_list.append(lemma)\n",
    "    return ' '.join(lemmatized_line_list)\n",
    "\n",
    "preprocess_words(\"cheerily\", en_lemmatize)"
   ]
  },
  {
   "cell_type": "code",
   "execution_count": 10,
   "metadata": {},
   "outputs": [
    {
     "data": {
      "text/plain": [
       "'les voiture'"
      ]
     },
     "execution_count": 10,
     "metadata": {},
     "output_type": "execute_result"
    }
   ],
   "source": [
    "def preprocess_words(words_string, lemmatizer_func):\n",
    "    preprocessed_words = []\n",
    "    for word in words_string.split():\n",
    "        lemma = lemmatizer_func(word.lower())\n",
    "        preprocessed_words.append(lemma)\n",
    "    return ' '.join(preprocessed_words)\n",
    "preprocess_words(\"les voitures\", fr_lemmatize)"
   ]
  },
  {
   "cell_type": "code",
   "execution_count": 17,
   "metadata": {},
   "outputs": [],
   "source": [
    "import pandas as pd"
   ]
  },
  {
   "cell_type": "code",
   "execution_count": 49,
   "metadata": {},
   "outputs": [],
   "source": [
    "three_steps_with_wordforms = pd.read_csv(\"./reverse_connected_dicts/to_release/three_steps_with_wordforms.csv\")"
   ]
  },
  {
   "cell_type": "code",
   "execution_count": 19,
   "metadata": {},
   "outputs": [
    {
     "data": {
      "text/html": [
       "<div>\n",
       "<style scoped>\n",
       "    .dataframe tbody tr th:only-of-type {\n",
       "        vertical-align: middle;\n",
       "    }\n",
       "\n",
       "    .dataframe tbody tr th {\n",
       "        vertical-align: top;\n",
       "    }\n",
       "\n",
       "    .dataframe thead th {\n",
       "        text-align: right;\n",
       "    }\n",
       "</style>\n",
       "<table border=\"1\" class=\"dataframe\">\n",
       "  <thead>\n",
       "    <tr style=\"text-align: right;\">\n",
       "      <th></th>\n",
       "      <th>en</th>\n",
       "      <th>ru</th>\n",
       "      <th>fr</th>\n",
       "      <th>vote</th>\n",
       "    </tr>\n",
       "  </thead>\n",
       "  <tbody>\n",
       "    <tr>\n",
       "      <th>0</th>\n",
       "      <td>gaily</td>\n",
       "      <td>весело</td>\n",
       "      <td>joyeusement</td>\n",
       "      <td>2</td>\n",
       "    </tr>\n",
       "    <tr>\n",
       "      <th>1</th>\n",
       "      <td>gaily</td>\n",
       "      <td>ярко</td>\n",
       "      <td>no_equality</td>\n",
       "      <td>2</td>\n",
       "    </tr>\n",
       "    <tr>\n",
       "      <th>2</th>\n",
       "      <td>merrily</td>\n",
       "      <td>весело</td>\n",
       "      <td>joyeusement</td>\n",
       "      <td>2</td>\n",
       "    </tr>\n",
       "    <tr>\n",
       "      <th>3</th>\n",
       "      <td>merrily</td>\n",
       "      <td>счастливо</td>\n",
       "      <td>joyeusement</td>\n",
       "      <td>2</td>\n",
       "    </tr>\n",
       "    <tr>\n",
       "      <th>4</th>\n",
       "      <td>merrily</td>\n",
       "      <td>тонет</td>\n",
       "      <td>no_equality</td>\n",
       "      <td>1</td>\n",
       "    </tr>\n",
       "  </tbody>\n",
       "</table>\n",
       "</div>"
      ],
      "text/plain": [
       "        en         ru           fr  vote\n",
       "0    gaily     весело  joyeusement     2\n",
       "1    gaily       ярко  no_equality     2\n",
       "2  merrily     весело  joyeusement     2\n",
       "3  merrily  счастливо  joyeusement     2\n",
       "4  merrily      тонет  no_equality     1"
      ]
     },
     "execution_count": 19,
     "metadata": {},
     "output_type": "execute_result"
    }
   ],
   "source": [
    "three_steps_with_wordforms.head()"
   ]
  },
  {
   "cell_type": "code",
   "execution_count": 30,
   "metadata": {},
   "outputs": [],
   "source": [
    "def et_lemma_list(orig_word_row,  lemmat_funct):\n",
    "    lemma_dict = {}\n",
    "    for orig_word in tqdm(list(set(orig_word_row))):\n",
    "        lemma = preprocess_words(orig_word, lemmat_funct)\n",
    "        lemma_dict[orig_word] = lemma\n",
    "    expand_lemmas = []\n",
    "    for orig_word_n_unique in list(orig_word_row):\n",
    "        expand_lemmas.append(lemma_dict[orig_word_n_unique])  \n",
    "    return expand_lemmas"
   ]
  },
  {
   "cell_type": "code",
   "execution_count": 31,
   "metadata": {},
   "outputs": [
    {
     "data": {
      "application/vnd.jupyter.widget-view+json": {
       "model_id": "14781523eedd41db9cb3653ed5383f5f",
       "version_major": 2,
       "version_minor": 0
      },
      "text/plain": [
       "HBox(children=(IntProgress(value=0, max=84263), HTML(value='')))"
      ]
     },
     "metadata": {},
     "output_type": "display_data"
    }
   ],
   "source": [
    "eng_lemmas= et_lemma_list(three_steps_with_wordforms['en'], en_lemmatize)"
   ]
  },
  {
   "cell_type": "code",
   "execution_count": 32,
   "metadata": {},
   "outputs": [
    {
     "data": {
      "text/plain": [
       "(670002, 670002)"
      ]
     },
     "execution_count": 32,
     "metadata": {},
     "output_type": "execute_result"
    }
   ],
   "source": [
    "len(three_steps_with_wordforms), len(eng_lemmas)"
   ]
  },
  {
   "cell_type": "code",
   "execution_count": 50,
   "metadata": {},
   "outputs": [
    {
     "data": {
      "text/html": [
       "<div>\n",
       "<style scoped>\n",
       "    .dataframe tbody tr th:only-of-type {\n",
       "        vertical-align: middle;\n",
       "    }\n",
       "\n",
       "    .dataframe tbody tr th {\n",
       "        vertical-align: top;\n",
       "    }\n",
       "\n",
       "    .dataframe thead th {\n",
       "        text-align: right;\n",
       "    }\n",
       "</style>\n",
       "<table border=\"1\" class=\"dataframe\">\n",
       "  <thead>\n",
       "    <tr style=\"text-align: right;\">\n",
       "      <th></th>\n",
       "      <th>en</th>\n",
       "      <th>ru</th>\n",
       "      <th>fr</th>\n",
       "      <th>vote</th>\n",
       "      <th>en_lemmas</th>\n",
       "    </tr>\n",
       "  </thead>\n",
       "  <tbody>\n",
       "    <tr>\n",
       "      <th>0</th>\n",
       "      <td>gaily</td>\n",
       "      <td>весело</td>\n",
       "      <td>joyeusement</td>\n",
       "      <td>2</td>\n",
       "      <td>gaily</td>\n",
       "    </tr>\n",
       "    <tr>\n",
       "      <th>1</th>\n",
       "      <td>gaily</td>\n",
       "      <td>ярко</td>\n",
       "      <td>no_equality</td>\n",
       "      <td>2</td>\n",
       "      <td>gaily</td>\n",
       "    </tr>\n",
       "    <tr>\n",
       "      <th>2</th>\n",
       "      <td>merrily</td>\n",
       "      <td>весело</td>\n",
       "      <td>joyeusement</td>\n",
       "      <td>2</td>\n",
       "      <td>merrily</td>\n",
       "    </tr>\n",
       "    <tr>\n",
       "      <th>3</th>\n",
       "      <td>merrily</td>\n",
       "      <td>счастливо</td>\n",
       "      <td>joyeusement</td>\n",
       "      <td>2</td>\n",
       "      <td>merrily</td>\n",
       "    </tr>\n",
       "    <tr>\n",
       "      <th>4</th>\n",
       "      <td>merrily</td>\n",
       "      <td>тонет</td>\n",
       "      <td>no_equality</td>\n",
       "      <td>1</td>\n",
       "      <td>merrily</td>\n",
       "    </tr>\n",
       "  </tbody>\n",
       "</table>\n",
       "</div>"
      ],
      "text/plain": [
       "        en         ru           fr  vote en_lemmas\n",
       "0    gaily     весело  joyeusement     2     gaily\n",
       "1    gaily       ярко  no_equality     2     gaily\n",
       "2  merrily     весело  joyeusement     2   merrily\n",
       "3  merrily  счастливо  joyeusement     2   merrily\n",
       "4  merrily      тонет  no_equality     1   merrily"
      ]
     },
     "execution_count": 50,
     "metadata": {},
     "output_type": "execute_result"
    }
   ],
   "source": [
    "three_steps_with_wordforms['en_lemmas'] = eng_lemmas\n",
    "three_steps_with_wordforms.head()"
   ]
  },
  {
   "cell_type": "code",
   "execution_count": 51,
   "metadata": {},
   "outputs": [
    {
     "data": {
      "application/vnd.jupyter.widget-view+json": {
       "model_id": "6a2c232f1cce46058978bca1ab8b2850",
       "version_major": 2,
       "version_minor": 0
      },
      "text/plain": [
       "HBox(children=(IntProgress(value=0, max=196622), HTML(value='')))"
      ]
     },
     "metadata": {},
     "output_type": "display_data"
    },
    {
     "data": {
      "application/vnd.jupyter.widget-view+json": {
       "model_id": "8bae165413f0495698be0983686813af",
       "version_major": 2,
       "version_minor": 0
      },
      "text/plain": [
       "HBox(children=(IntProgress(value=0, max=71099), HTML(value='')))"
      ]
     },
     "metadata": {},
     "output_type": "display_data"
    }
   ],
   "source": [
    "ru_lemmas= et_lemma_list(three_steps_with_wordforms['ru'], ru_lemmatize)\n",
    "fr_lemmas= et_lemma_list(three_steps_with_wordforms['fr'], fr_lemmatize)"
   ]
  },
  {
   "cell_type": "code",
   "execution_count": 46,
   "metadata": {},
   "outputs": [
    {
     "data": {
      "text/plain": [
       "['en', 'ru', 'fr', 'vote', 'en_lemmas', 'ru_lemmas', 'fr_lemmas']"
      ]
     },
     "execution_count": 46,
     "metadata": {},
     "output_type": "execute_result"
    }
   ],
   "source": [
    "list(three_steps_with_wordforms.columns.values)"
   ]
  },
  {
   "cell_type": "code",
   "execution_count": 54,
   "metadata": {},
   "outputs": [
    {
     "data": {
      "text/html": [
       "<div>\n",
       "<style scoped>\n",
       "    .dataframe tbody tr th:only-of-type {\n",
       "        vertical-align: middle;\n",
       "    }\n",
       "\n",
       "    .dataframe tbody tr th {\n",
       "        vertical-align: top;\n",
       "    }\n",
       "\n",
       "    .dataframe thead th {\n",
       "        text-align: right;\n",
       "    }\n",
       "</style>\n",
       "<table border=\"1\" class=\"dataframe\">\n",
       "  <thead>\n",
       "    <tr style=\"text-align: right;\">\n",
       "      <th></th>\n",
       "      <th>en</th>\n",
       "      <th>ru</th>\n",
       "      <th>fr</th>\n",
       "      <th>vote</th>\n",
       "      <th>en_lemmas</th>\n",
       "      <th>ru_lemmas</th>\n",
       "      <th>fr_lemmas</th>\n",
       "    </tr>\n",
       "  </thead>\n",
       "  <tbody>\n",
       "    <tr>\n",
       "      <th>0</th>\n",
       "      <td>gaily</td>\n",
       "      <td>весело</td>\n",
       "      <td>joyeusement</td>\n",
       "      <td>2</td>\n",
       "      <td>gaily</td>\n",
       "      <td>весело</td>\n",
       "      <td>joyeusement</td>\n",
       "    </tr>\n",
       "    <tr>\n",
       "      <th>1</th>\n",
       "      <td>gaily</td>\n",
       "      <td>ярко</td>\n",
       "      <td>no_equality</td>\n",
       "      <td>2</td>\n",
       "      <td>gaily</td>\n",
       "      <td>ярко</td>\n",
       "      <td>no_equality</td>\n",
       "    </tr>\n",
       "    <tr>\n",
       "      <th>2</th>\n",
       "      <td>merrily</td>\n",
       "      <td>весело</td>\n",
       "      <td>joyeusement</td>\n",
       "      <td>2</td>\n",
       "      <td>merrily</td>\n",
       "      <td>весело</td>\n",
       "      <td>joyeusement</td>\n",
       "    </tr>\n",
       "    <tr>\n",
       "      <th>3</th>\n",
       "      <td>merrily</td>\n",
       "      <td>счастливо</td>\n",
       "      <td>joyeusement</td>\n",
       "      <td>2</td>\n",
       "      <td>merrily</td>\n",
       "      <td>счастливо</td>\n",
       "      <td>joyeusement</td>\n",
       "    </tr>\n",
       "    <tr>\n",
       "      <th>4</th>\n",
       "      <td>merrily</td>\n",
       "      <td>тонет</td>\n",
       "      <td>no_equality</td>\n",
       "      <td>1</td>\n",
       "      <td>merrily</td>\n",
       "      <td>тонуть</td>\n",
       "      <td>no_equality</td>\n",
       "    </tr>\n",
       "  </tbody>\n",
       "</table>\n",
       "</div>"
      ],
      "text/plain": [
       "        en         ru           fr  vote en_lemmas  ru_lemmas    fr_lemmas\n",
       "0    gaily     весело  joyeusement     2     gaily     весело  joyeusement\n",
       "1    gaily       ярко  no_equality     2     gaily       ярко  no_equality\n",
       "2  merrily     весело  joyeusement     2   merrily     весело  joyeusement\n",
       "3  merrily  счастливо  joyeusement     2   merrily  счастливо  joyeusement\n",
       "4  merrily      тонет  no_equality     1   merrily     тонуть  no_equality"
      ]
     },
     "execution_count": 54,
     "metadata": {},
     "output_type": "execute_result"
    }
   ],
   "source": [
    "three_steps_with_wordforms['ru_lemmas'] = ru_lemmas\n",
    "three_steps_with_wordforms['fr_lemmas'] = fr_lemmas\n",
    "three_steps_with_wordforms.head()"
   ]
  },
  {
   "cell_type": "code",
   "execution_count": 56,
   "metadata": {},
   "outputs": [],
   "source": [
    "new_order = ['en', 'en_lemmas','ru', 'ru_lemmas','fr','fr_lemmas', 'vote']"
   ]
  },
  {
   "cell_type": "code",
   "execution_count": 57,
   "metadata": {},
   "outputs": [
    {
     "name": "stderr",
     "output_type": "stream",
     "text": [
      "/Users/nigula/Library/Python/3.7/lib/python/site-packages/ipykernel_launcher.py:1: DeprecationWarning: \n",
      ".ix is deprecated. Please use\n",
      ".loc for label based indexing or\n",
      ".iloc for positional indexing\n",
      "\n",
      "See the documentation here:\n",
      "http://pandas.pydata.org/pandas-docs/stable/indexing.html#ix-indexer-is-deprecated\n",
      "  \"\"\"Entry point for launching an IPython kernel.\n"
     ]
    },
    {
     "data": {
      "text/html": [
       "<div>\n",
       "<style scoped>\n",
       "    .dataframe tbody tr th:only-of-type {\n",
       "        vertical-align: middle;\n",
       "    }\n",
       "\n",
       "    .dataframe tbody tr th {\n",
       "        vertical-align: top;\n",
       "    }\n",
       "\n",
       "    .dataframe thead th {\n",
       "        text-align: right;\n",
       "    }\n",
       "</style>\n",
       "<table border=\"1\" class=\"dataframe\">\n",
       "  <thead>\n",
       "    <tr style=\"text-align: right;\">\n",
       "      <th></th>\n",
       "      <th>en</th>\n",
       "      <th>en_lemmas</th>\n",
       "      <th>ru</th>\n",
       "      <th>ru_lemmas</th>\n",
       "      <th>fr</th>\n",
       "      <th>fr_lemmas</th>\n",
       "      <th>vote</th>\n",
       "    </tr>\n",
       "  </thead>\n",
       "  <tbody>\n",
       "    <tr>\n",
       "      <th>0</th>\n",
       "      <td>gaily</td>\n",
       "      <td>gaily</td>\n",
       "      <td>весело</td>\n",
       "      <td>весело</td>\n",
       "      <td>joyeusement</td>\n",
       "      <td>joyeusement</td>\n",
       "      <td>2</td>\n",
       "    </tr>\n",
       "    <tr>\n",
       "      <th>1</th>\n",
       "      <td>gaily</td>\n",
       "      <td>gaily</td>\n",
       "      <td>ярко</td>\n",
       "      <td>ярко</td>\n",
       "      <td>no_equality</td>\n",
       "      <td>no_equality</td>\n",
       "      <td>2</td>\n",
       "    </tr>\n",
       "    <tr>\n",
       "      <th>2</th>\n",
       "      <td>merrily</td>\n",
       "      <td>merrily</td>\n",
       "      <td>весело</td>\n",
       "      <td>весело</td>\n",
       "      <td>joyeusement</td>\n",
       "      <td>joyeusement</td>\n",
       "      <td>2</td>\n",
       "    </tr>\n",
       "    <tr>\n",
       "      <th>3</th>\n",
       "      <td>merrily</td>\n",
       "      <td>merrily</td>\n",
       "      <td>счастливо</td>\n",
       "      <td>счастливо</td>\n",
       "      <td>joyeusement</td>\n",
       "      <td>joyeusement</td>\n",
       "      <td>2</td>\n",
       "    </tr>\n",
       "    <tr>\n",
       "      <th>4</th>\n",
       "      <td>merrily</td>\n",
       "      <td>merrily</td>\n",
       "      <td>тонет</td>\n",
       "      <td>тонуть</td>\n",
       "      <td>no_equality</td>\n",
       "      <td>no_equality</td>\n",
       "      <td>1</td>\n",
       "    </tr>\n",
       "  </tbody>\n",
       "</table>\n",
       "</div>"
      ],
      "text/plain": [
       "        en en_lemmas         ru  ru_lemmas           fr    fr_lemmas  vote\n",
       "0    gaily     gaily     весело     весело  joyeusement  joyeusement     2\n",
       "1    gaily     gaily       ярко       ярко  no_equality  no_equality     2\n",
       "2  merrily   merrily     весело     весело  joyeusement  joyeusement     2\n",
       "3  merrily   merrily  счастливо  счастливо  joyeusement  joyeusement     2\n",
       "4  merrily   merrily      тонет     тонуть  no_equality  no_equality     1"
      ]
     },
     "execution_count": 57,
     "metadata": {},
     "output_type": "execute_result"
    }
   ],
   "source": [
    "three_steps_with_wordforms = three_steps_with_wordforms.ix[:,new_order]\n",
    "three_steps_with_wordforms.head()"
   ]
  },
  {
   "cell_type": "code",
   "execution_count": 58,
   "metadata": {},
   "outputs": [],
   "source": [
    "three_steps_with_wordforms.to_csv(\"./reverse_connected_dicts/to_release/three_steps_with_wordforms.csv\", index = False)"
   ]
  },
  {
   "cell_type": "code",
   "execution_count": 76,
   "metadata": {},
   "outputs": [],
   "source": [
    "three_steps_with_wordforms_f = three_steps_with_wordforms.iloc[:200000]"
   ]
  },
  {
   "cell_type": "code",
   "execution_count": 78,
   "metadata": {},
   "outputs": [
    {
     "data": {
      "text/plain": [
       "200000"
      ]
     },
     "execution_count": 78,
     "metadata": {},
     "output_type": "execute_result"
    }
   ],
   "source": [
    "len(three_steps_with_wordforms_f)"
   ]
  },
  {
   "cell_type": "code",
   "execution_count": 79,
   "metadata": {},
   "outputs": [],
   "source": [
    "three_steps_with_wordforms_f.to_csv(\"./reverse_connected_dicts/to_release/three_steps_with_wordforms_20k.csv\", index = False)"
   ]
  },
  {
   "cell_type": "code",
   "execution_count": 80,
   "metadata": {},
   "outputs": [
    {
     "name": "stdout",
     "output_type": "stream",
     "text": [
      "<class 'pandas.core.frame.DataFrame'>\n",
      "RangeIndex: 200000 entries, 0 to 199999\n",
      "Data columns (total 7 columns):\n",
      "en           200000 non-null object\n",
      "en_lemmas    200000 non-null object\n",
      "ru           200000 non-null object\n",
      "ru_lemmas    200000 non-null object\n",
      "fr           200000 non-null object\n",
      "fr_lemmas    200000 non-null object\n",
      "vote         200000 non-null int64\n",
      "dtypes: int64(1), object(6)\n",
      "memory usage: 10.7+ MB\n"
     ]
    }
   ],
   "source": [
    "three_steps_with_wordforms_f.info()"
   ]
  },
  {
   "cell_type": "code",
   "execution_count": 86,
   "metadata": {},
   "outputs": [],
   "source": [
    "three_steps_with_wordforms_20_40k = three_steps_with_wordforms.iloc[200000:400000]\n",
    "three_steps_with_wordforms_20_40k.to_csv(\"./reverse_connected_dicts/to_release/three_steps_with_wordforms_20_40k.csv\", index = False)"
   ]
  },
  {
   "cell_type": "code",
   "execution_count": 87,
   "metadata": {
    "scrolled": true
   },
   "outputs": [
    {
     "name": "stdout",
     "output_type": "stream",
     "text": [
      "<class 'pandas.core.frame.DataFrame'>\n",
      "RangeIndex: 200000 entries, 200000 to 399999\n",
      "Data columns (total 7 columns):\n",
      "en           200000 non-null object\n",
      "en_lemmas    200000 non-null object\n",
      "ru           200000 non-null object\n",
      "ru_lemmas    200000 non-null object\n",
      "fr           200000 non-null object\n",
      "fr_lemmas    200000 non-null object\n",
      "vote         200000 non-null int64\n",
      "dtypes: int64(1), object(6)\n",
      "memory usage: 10.7+ MB\n"
     ]
    }
   ],
   "source": [
    "three_steps_with_wordforms_20_40k.info()"
   ]
  },
  {
   "cell_type": "code",
   "execution_count": 88,
   "metadata": {},
   "outputs": [],
   "source": [
    "three_steps_with_wordforms_40k_pl = three_steps_with_wordforms.iloc[400000:600000]\n",
    "three_steps_with_wordforms_40k_pl.to_csv(\"./reverse_connected_dicts/to_release/three_steps_with_wordforms_40k_pl.csv\", index = False)"
   ]
  },
  {
   "cell_type": "code",
   "execution_count": 89,
   "metadata": {},
   "outputs": [],
   "source": [
    "three_steps_with_wordforms_last = three_steps_with_wordforms.iloc[600000:]\n",
    "three_steps_with_wordforms_last.to_csv(\"./reverse_connected_dicts/to_release/three_steps_with_wordforms_last.csv\", index = False)"
   ]
  },
  {
   "cell_type": "code",
   "execution_count": 84,
   "metadata": {},
   "outputs": [
    {
     "name": "stdout",
     "output_type": "stream",
     "text": [
      "<class 'pandas.core.frame.DataFrame'>\n",
      "RangeIndex: 270002 entries, 400000 to 670001\n",
      "Data columns (total 7 columns):\n",
      "en           270002 non-null object\n",
      "en_lemmas    270002 non-null object\n",
      "ru           270002 non-null object\n",
      "ru_lemmas    270002 non-null object\n",
      "fr           270002 non-null object\n",
      "fr_lemmas    270002 non-null object\n",
      "vote         270002 non-null int64\n",
      "dtypes: int64(1), object(6)\n",
      "memory usage: 14.4+ MB\n"
     ]
    }
   ],
   "source": [
    "three_steps_with_wordforms_40k_pl.info()"
   ]
  },
  {
   "cell_type": "code",
   "execution_count": 93,
   "metadata": {},
   "outputs": [
    {
     "data": {
      "text/plain": [
       "{1, 2}"
      ]
     },
     "execution_count": 93,
     "metadata": {},
     "output_type": "execute_result"
    }
   ],
   "source": [
    "a = set()\n",
    "a.add(1)\n",
    "a.add(1)\n",
    "a.add(2)\n",
    "a"
   ]
  },
  {
   "cell_type": "code",
   "execution_count": null,
   "metadata": {},
   "outputs": [],
   "source": []
  },
  {
   "cell_type": "code",
   "execution_count": null,
   "metadata": {},
   "outputs": [],
   "source": [
    "en_lemmas = []\n",
    "for en_word in tqdm():\n",
    "    lemma = "
   ]
  }
 ],
 "metadata": {
  "kernelspec": {
   "display_name": "Python 3",
   "language": "python",
   "name": "python3"
  },
  "language_info": {
   "codemirror_mode": {
    "name": "ipython",
    "version": 3
   },
   "file_extension": ".py",
   "mimetype": "text/x-python",
   "name": "python",
   "nbconvert_exporter": "python",
   "pygments_lexer": "ipython3",
   "version": "3.7.4"
  }
 },
 "nbformat": 4,
 "nbformat_minor": 2
}
