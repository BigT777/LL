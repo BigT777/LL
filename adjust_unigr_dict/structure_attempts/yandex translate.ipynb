{
 "cells": [
  {
   "cell_type": "code",
   "execution_count": 2,
   "metadata": {},
   "outputs": [],
   "source": [
    "import requests"
   ]
  },
  {
   "cell_type": "markdown",
   "metadata": {},
   "source": [
    "# наша ручка"
   ]
  },
  {
   "cell_type": "code",
   "execution_count": 3,
   "metadata": {
    "scrolled": true
   },
   "outputs": [
    {
     "data": {
      "text/plain": [
       "{'directionEnglish': False,\n",
       " 'error_msg': '',\n",
       " 'id': 26408,\n",
       " 'is_user': 0,\n",
       " 'putLogs': {'apiId': 87,\n",
       "  'caseId': 0,\n",
       "  'logRef': None,\n",
       "  'platformId': 0,\n",
       "  'xp_points_added': 0},\n",
       " 'sound_url': 'https://audiocdn.lingualeo.com/v2//26408-631152008.mp3',\n",
       " 'status': 'ok',\n",
       " 'transcription': 'ˈmʌðər',\n",
       " 'translate': [{'id': 1,\n",
       "   'is_user': None,\n",
       "   'pic_url': 'https://contentcdn.lingualeo-beta.com/uploads/picture/3232459.png',\n",
       "   'translate_value': 'мать',\n",
       "   'ut': None,\n",
       "   'value': 'мать',\n",
       "   'votes': 274359,\n",
       "   'vt': 274359},\n",
       "  {'id': 2,\n",
       "   'is_user': None,\n",
       "   'pic_url': 'https://contentcdn.lingualeo-beta.com/uploads/picture/331272.png',\n",
       "   'translate_value': 'мама',\n",
       "   'ut': None,\n",
       "   'value': 'мама',\n",
       "   'votes': 10471,\n",
       "   'vt': 10471},\n",
       "  {'id': 3,\n",
       "   'is_user': None,\n",
       "   'pic_url': 'https://contentcdn.lingualeo-beta.com/uploads/upimages/0bbdd3793cb97ec4189557013fc4d6e4bed4f714.png',\n",
       "   'translate_value': 'мамочка',\n",
       "   'ut': None,\n",
       "   'value': 'мамочка',\n",
       "   'votes': 1501,\n",
       "   'vt': 1501},\n",
       "  {'id': 4,\n",
       "   'is_user': None,\n",
       "   'pic_url': 'https://contentcdn.lingualeo-beta.com/uploads/upimages/0bbdd3793cb97ec4189557013fc4d6e4bed4f714.png',\n",
       "   'translate_value': 'быть матерью',\n",
       "   'ut': None,\n",
       "   'value': 'быть матерью',\n",
       "   'votes': 576,\n",
       "   'vt': 576},\n",
       "  {'id': 5,\n",
       "   'is_user': None,\n",
       "   'pic_url': 'https://contentcdn.lingualeo-beta.com/uploads/upimages/0bbdd3793cb97ec4189557013fc4d6e4bed4f714.png',\n",
       "   'translate_value': 'родить',\n",
       "   'ut': None,\n",
       "   'value': 'родить',\n",
       "   'votes': 405,\n",
       "   'vt': 405}],\n",
       " 'translate_source': 'base',\n",
       " 'word_forms': [{'type': '7', 'word': 'mother'}],\n",
       " 'word_id': 26408,\n",
       " 'word_top': -1,\n",
       " 'word_type': 1}"
      ]
     },
     "execution_count": 3,
     "metadata": {},
     "output_type": "execute_result"
    }
   ],
   "source": [
    "url_y = \"http://192.168.122.15:30556/getTranslates\"\n",
    "h_y = {\"apiVersion\": \"1.0.0\", \"text\": \"mother\", \"langPair\": {\"source\": \"en\", \"target\": \"ru\"}}\n",
    "#h_y = {\"apiVersion\": \"1.0.0\", \"text\": \"Landing to the mars\", \"langPair\": \"en-ru\"}\n",
    "r = requests.post(url = url_y, json=h_y)\n",
    "data = r.json()\n",
    "data"
   ]
  },
  {
   "cell_type": "code",
   "execution_count": 5,
   "metadata": {},
   "outputs": [
    {
     "data": {
      "text/plain": [
       "'материнство'"
      ]
     },
     "execution_count": 5,
     "metadata": {},
     "output_type": "execute_result"
    }
   ],
   "source": [
    "data['translate']['translate_value']"
   ]
  },
  {
   "cell_type": "markdown",
   "metadata": {},
   "source": [
    "# НАПРЯМУЮ К ЯНДЕКС ПЕРЕВОДЧИКУ"
   ]
  },
  {
   "cell_type": "code",
   "execution_count": 9,
   "metadata": {},
   "outputs": [
    {
     "data": {
      "text/plain": [
       "{'translate': 'шестидесятые годы'}"
      ]
     },
     "execution_count": 9,
     "metadata": {},
     "output_type": "execute_result"
    }
   ],
   "source": [
    "url_y = \"http://192.168.122.13:31436/GetTranslate\"\n",
    "h_y = {\"apiVersion\": \"1.0.0\", \"text\": \"the sixties\", \"langPair\": {\"source\": \"en\", \"target\": \"ru\"}}\n",
    "#h_y = {\"apiVersion\": \"1.0.0\", \"text\": \"Landing to the mars\", \"langPair\": \"en-ru\"}\n",
    "r = requests.post(url = url_y, json=h_y)\n",
    "data = r.json()\n",
    "data"
   ]
  },
  {
   "cell_type": "code",
   "execution_count": null,
   "metadata": {},
   "outputs": [],
   "source": []
  },
  {
   "cell_type": "code",
   "execution_count": null,
   "metadata": {},
   "outputs": [],
   "source": []
  },
  {
   "cell_type": "code",
   "execution_count": null,
   "metadata": {},
   "outputs": [],
   "source": [
    "#https://tech.yandex.com/translate/doc/dg/reference/translate-docpage/#JSON\n",
    "headers_tr = {#TR_SPECIFIC\n",
    "    'key': 'trnsl.1.1.20190814T102820Z.e4a8f75c7e5a00a7.df13cdf91ce9bde28e9a55c481cb88adfd119fba',\n",
    "    'text': 'hello world',\n",
    "    'lang':'en-ru','format':'plain'\n",
    "    }\n",
    "url_tr = 'https://translate.yandex.net/api/v1.5/tr.json/translate'\n",
    "r = requests.post(url = url_tr, headers=headers_tr)\n",
    "data = r.json()\n",
    "data\n",
    "\n",
    "\n",
    "#https://cloud.yandex.com/docs/translate/api-ref/Translation/translate\n",
    "url_tr = 'https://translate.api.cloud.yandex.net/translate/v2/translate'\n",
    "h = {\n",
    "  \"sourceLanguageCode\": \"en\",\n",
    "  \"targetLanguageCode\": \"ru\",\n",
    "  \"format\": \"PLAIN_TEXT\",\n",
    "  \"texts\": \"helo world\",\n",
    "  #\"folderId\": \"string\",\n",
    "  #\"model\": \"string\",\n",
    "  \n",
    "}\n",
    "r = requests.post(url = url_tr, headers=h)\n",
    "data = r.json()\n",
    "data"
   ]
  },
  {
   "cell_type": "code",
   "execution_count": null,
   "metadata": {},
   "outputs": [],
   "source": []
  },
  {
   "cell_type": "code",
   "execution_count": 16,
   "metadata": {},
   "outputs": [
    {
     "data": {
      "text/plain": [
       "<Response [401]>"
      ]
     },
     "execution_count": 16,
     "metadata": {},
     "output_type": "execute_result"
    }
   ],
   "source": [
    "lang_url = \"https://translate.api.cloud.yandex.net/translate/v2/languages\"\n",
    "requests.post(lang_url)"
   ]
  },
  {
   "cell_type": "code",
   "execution_count": 23,
   "metadata": {},
   "outputs": [
    {
     "data": {
      "text/plain": [
       "{'code': 16, 'message': 'IAM token or API key has to be passed in request'}"
      ]
     },
     "execution_count": 23,
     "metadata": {},
     "output_type": "execute_result"
    }
   ],
   "source": [
    "url_y = \"https://translate.api.cloud.yandex.net/translate/v2/translate\"\n",
    "h_y = {\n",
    "    \"folder_id\": \"b1gvmob95yysaplct532\",\n",
    "    \"texts\": [\"angel\"],\n",
    "    \"targetLanguageCode\": \"ru\",\n",
    "    \"sourceLanguageCode\": \"de\"\n",
    "}\n",
    "#h_y = {\"apiVersion\": \"1.0.0\", \"text\": \"Landing to the mars\", \"langPair\": \"en-ru\"}\n",
    "r = requests.post(url = url_y, json=h_y)\n",
    "data = r.json()\n",
    "data"
   ]
  },
  {
   "cell_type": "code",
   "execution_count": 25,
   "metadata": {},
   "outputs": [
    {
     "ename": "JSONDecodeError",
     "evalue": "Expecting value: line 1 column 1 (char 0)",
     "output_type": "error",
     "traceback": [
      "\u001b[0;31m---------------------------------------------------------------------------\u001b[0m",
      "\u001b[0;31mJSONDecodeError\u001b[0m                           Traceback (most recent call last)",
      "\u001b[0;32m<ipython-input-25-14545e0ce57e>\u001b[0m in \u001b[0;36m<module>\u001b[0;34m\u001b[0m\n\u001b[1;32m      1\u001b[0m \u001b[0;31m#\"https://translate.yandex.ru/?lang=en-ru&text=book\"\u001b[0m\u001b[0;34m\u001b[0m\u001b[0;34m\u001b[0m\u001b[0;34m\u001b[0m\u001b[0m\n\u001b[1;32m      2\u001b[0m \u001b[0mr\u001b[0m \u001b[0;34m=\u001b[0m \u001b[0mrequests\u001b[0m\u001b[0;34m.\u001b[0m\u001b[0mpost\u001b[0m\u001b[0;34m(\u001b[0m\u001b[0murl\u001b[0m \u001b[0;34m=\u001b[0m \u001b[0;34m\"https://translate.yandex.ru/?lang=en-ru&text=book\"\u001b[0m\u001b[0;34m)\u001b[0m\u001b[0;34m\u001b[0m\u001b[0;34m\u001b[0m\u001b[0m\n\u001b[0;32m----> 3\u001b[0;31m \u001b[0mdata\u001b[0m \u001b[0;34m=\u001b[0m \u001b[0mr\u001b[0m\u001b[0;34m.\u001b[0m\u001b[0mjson\u001b[0m\u001b[0;34m(\u001b[0m\u001b[0;34m)\u001b[0m\u001b[0;34m\u001b[0m\u001b[0;34m\u001b[0m\u001b[0m\n\u001b[0m\u001b[1;32m      4\u001b[0m \u001b[0mdata\u001b[0m\u001b[0;34m\u001b[0m\u001b[0;34m\u001b[0m\u001b[0m\n",
      "\u001b[0;32m~/Library/Python/3.7/lib/python/site-packages/requests/models.py\u001b[0m in \u001b[0;36mjson\u001b[0;34m(self, **kwargs)\u001b[0m\n\u001b[1;32m    895\u001b[0m                     \u001b[0;31m# used.\u001b[0m\u001b[0;34m\u001b[0m\u001b[0;34m\u001b[0m\u001b[0;34m\u001b[0m\u001b[0m\n\u001b[1;32m    896\u001b[0m                     \u001b[0;32mpass\u001b[0m\u001b[0;34m\u001b[0m\u001b[0;34m\u001b[0m\u001b[0m\n\u001b[0;32m--> 897\u001b[0;31m         \u001b[0;32mreturn\u001b[0m \u001b[0mcomplexjson\u001b[0m\u001b[0;34m.\u001b[0m\u001b[0mloads\u001b[0m\u001b[0;34m(\u001b[0m\u001b[0mself\u001b[0m\u001b[0;34m.\u001b[0m\u001b[0mtext\u001b[0m\u001b[0;34m,\u001b[0m \u001b[0;34m**\u001b[0m\u001b[0mkwargs\u001b[0m\u001b[0;34m)\u001b[0m\u001b[0;34m\u001b[0m\u001b[0;34m\u001b[0m\u001b[0m\n\u001b[0m\u001b[1;32m    898\u001b[0m \u001b[0;34m\u001b[0m\u001b[0m\n\u001b[1;32m    899\u001b[0m     \u001b[0;34m@\u001b[0m\u001b[0mproperty\u001b[0m\u001b[0;34m\u001b[0m\u001b[0;34m\u001b[0m\u001b[0m\n",
      "\u001b[0;32m~/Library/Python/3.7/lib/python/site-packages/simplejson/__init__.py\u001b[0m in \u001b[0;36mloads\u001b[0;34m(s, encoding, cls, object_hook, parse_float, parse_int, parse_constant, object_pairs_hook, use_decimal, **kw)\u001b[0m\n\u001b[1;32m    516\u001b[0m             \u001b[0mparse_constant\u001b[0m \u001b[0;32mis\u001b[0m \u001b[0;32mNone\u001b[0m \u001b[0;32mand\u001b[0m \u001b[0mobject_pairs_hook\u001b[0m \u001b[0;32mis\u001b[0m \u001b[0;32mNone\u001b[0m\u001b[0;34m\u001b[0m\u001b[0;34m\u001b[0m\u001b[0m\n\u001b[1;32m    517\u001b[0m             and not use_decimal and not kw):\n\u001b[0;32m--> 518\u001b[0;31m         \u001b[0;32mreturn\u001b[0m \u001b[0m_default_decoder\u001b[0m\u001b[0;34m.\u001b[0m\u001b[0mdecode\u001b[0m\u001b[0;34m(\u001b[0m\u001b[0ms\u001b[0m\u001b[0;34m)\u001b[0m\u001b[0;34m\u001b[0m\u001b[0;34m\u001b[0m\u001b[0m\n\u001b[0m\u001b[1;32m    519\u001b[0m     \u001b[0;32mif\u001b[0m \u001b[0mcls\u001b[0m \u001b[0;32mis\u001b[0m \u001b[0;32mNone\u001b[0m\u001b[0;34m:\u001b[0m\u001b[0;34m\u001b[0m\u001b[0;34m\u001b[0m\u001b[0m\n\u001b[1;32m    520\u001b[0m         \u001b[0mcls\u001b[0m \u001b[0;34m=\u001b[0m \u001b[0mJSONDecoder\u001b[0m\u001b[0;34m\u001b[0m\u001b[0;34m\u001b[0m\u001b[0m\n",
      "\u001b[0;32m~/Library/Python/3.7/lib/python/site-packages/simplejson/decoder.py\u001b[0m in \u001b[0;36mdecode\u001b[0;34m(self, s, _w, _PY3)\u001b[0m\n\u001b[1;32m    368\u001b[0m         \u001b[0;32mif\u001b[0m \u001b[0m_PY3\u001b[0m \u001b[0;32mand\u001b[0m \u001b[0misinstance\u001b[0m\u001b[0;34m(\u001b[0m\u001b[0ms\u001b[0m\u001b[0;34m,\u001b[0m \u001b[0mbytes\u001b[0m\u001b[0;34m)\u001b[0m\u001b[0;34m:\u001b[0m\u001b[0;34m\u001b[0m\u001b[0;34m\u001b[0m\u001b[0m\n\u001b[1;32m    369\u001b[0m             \u001b[0ms\u001b[0m \u001b[0;34m=\u001b[0m \u001b[0mstr\u001b[0m\u001b[0;34m(\u001b[0m\u001b[0ms\u001b[0m\u001b[0;34m,\u001b[0m \u001b[0mself\u001b[0m\u001b[0;34m.\u001b[0m\u001b[0mencoding\u001b[0m\u001b[0;34m)\u001b[0m\u001b[0;34m\u001b[0m\u001b[0;34m\u001b[0m\u001b[0m\n\u001b[0;32m--> 370\u001b[0;31m         \u001b[0mobj\u001b[0m\u001b[0;34m,\u001b[0m \u001b[0mend\u001b[0m \u001b[0;34m=\u001b[0m \u001b[0mself\u001b[0m\u001b[0;34m.\u001b[0m\u001b[0mraw_decode\u001b[0m\u001b[0;34m(\u001b[0m\u001b[0ms\u001b[0m\u001b[0;34m)\u001b[0m\u001b[0;34m\u001b[0m\u001b[0;34m\u001b[0m\u001b[0m\n\u001b[0m\u001b[1;32m    371\u001b[0m         \u001b[0mend\u001b[0m \u001b[0;34m=\u001b[0m \u001b[0m_w\u001b[0m\u001b[0;34m(\u001b[0m\u001b[0ms\u001b[0m\u001b[0;34m,\u001b[0m \u001b[0mend\u001b[0m\u001b[0;34m)\u001b[0m\u001b[0;34m.\u001b[0m\u001b[0mend\u001b[0m\u001b[0;34m(\u001b[0m\u001b[0;34m)\u001b[0m\u001b[0;34m\u001b[0m\u001b[0;34m\u001b[0m\u001b[0m\n\u001b[1;32m    372\u001b[0m         \u001b[0;32mif\u001b[0m \u001b[0mend\u001b[0m \u001b[0;34m!=\u001b[0m \u001b[0mlen\u001b[0m\u001b[0;34m(\u001b[0m\u001b[0ms\u001b[0m\u001b[0;34m)\u001b[0m\u001b[0;34m:\u001b[0m\u001b[0;34m\u001b[0m\u001b[0;34m\u001b[0m\u001b[0m\n",
      "\u001b[0;32m~/Library/Python/3.7/lib/python/site-packages/simplejson/decoder.py\u001b[0m in \u001b[0;36mraw_decode\u001b[0;34m(self, s, idx, _w, _PY3)\u001b[0m\n\u001b[1;32m    398\u001b[0m             \u001b[0;32melif\u001b[0m \u001b[0mord0\u001b[0m \u001b[0;34m==\u001b[0m \u001b[0;36m0xef\u001b[0m \u001b[0;32mand\u001b[0m \u001b[0ms\u001b[0m\u001b[0;34m[\u001b[0m\u001b[0midx\u001b[0m\u001b[0;34m:\u001b[0m\u001b[0midx\u001b[0m \u001b[0;34m+\u001b[0m \u001b[0;36m3\u001b[0m\u001b[0;34m]\u001b[0m \u001b[0;34m==\u001b[0m \u001b[0;34m'\\xef\\xbb\\xbf'\u001b[0m\u001b[0;34m:\u001b[0m\u001b[0;34m\u001b[0m\u001b[0;34m\u001b[0m\u001b[0m\n\u001b[1;32m    399\u001b[0m                 \u001b[0midx\u001b[0m \u001b[0;34m+=\u001b[0m \u001b[0;36m3\u001b[0m\u001b[0;34m\u001b[0m\u001b[0;34m\u001b[0m\u001b[0m\n\u001b[0;32m--> 400\u001b[0;31m         \u001b[0;32mreturn\u001b[0m \u001b[0mself\u001b[0m\u001b[0;34m.\u001b[0m\u001b[0mscan_once\u001b[0m\u001b[0;34m(\u001b[0m\u001b[0ms\u001b[0m\u001b[0;34m,\u001b[0m \u001b[0midx\u001b[0m\u001b[0;34m=\u001b[0m\u001b[0m_w\u001b[0m\u001b[0;34m(\u001b[0m\u001b[0ms\u001b[0m\u001b[0;34m,\u001b[0m \u001b[0midx\u001b[0m\u001b[0;34m)\u001b[0m\u001b[0;34m.\u001b[0m\u001b[0mend\u001b[0m\u001b[0;34m(\u001b[0m\u001b[0;34m)\u001b[0m\u001b[0;34m)\u001b[0m\u001b[0;34m\u001b[0m\u001b[0;34m\u001b[0m\u001b[0m\n\u001b[0m",
      "\u001b[0;31mJSONDecodeError\u001b[0m: Expecting value: line 1 column 1 (char 0)"
     ]
    }
   ],
   "source": [
    "#\"https://translate.yandex.ru/?lang=en-ru&text=book\"\n",
    "r = requests.post(url = \"https://translate.yandex.ru/?lang=en-ru&text=book\")\n",
    "data = r.json()\n",
    "data"
   ]
  }
 ],
 "metadata": {
  "kernelspec": {
   "display_name": "Python 3",
   "language": "python",
   "name": "python3"
  },
  "language_info": {
   "codemirror_mode": {
    "name": "ipython",
    "version": 3
   },
   "file_extension": ".py",
   "mimetype": "text/x-python",
   "name": "python",
   "nbconvert_exporter": "python",
   "pygments_lexer": "ipython3",
   "version": "3.7.4"
  }
 },
 "nbformat": 4,
 "nbformat_minor": 2
}
