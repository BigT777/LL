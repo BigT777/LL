{
 "cells": [
  {
   "cell_type": "code",
   "execution_count": 1,
   "metadata": {},
   "outputs": [],
   "source": [
    "from nltk.corpus import wordnet as wn"
   ]
  },
  {
   "cell_type": "code",
   "execution_count": 5,
   "metadata": {},
   "outputs": [
    {
     "data": {
      "text/plain": [
       "(['the dog barked all night'],\n",
       " 'a member of the genus Canis (probably descended from the common wolf) that has been domesticated by man since prehistoric times; occurs in many breeds')"
      ]
     },
     "execution_count": 5,
     "metadata": {},
     "output_type": "execute_result"
    }
   ],
   "source": [
    "wn.synsets('dog')[0].examples(), wn.synsets('dog')[0].definition()"
   ]
  },
  {
   "cell_type": "code",
   "execution_count": 11,
   "metadata": {},
   "outputs": [
    {
     "name": "stdout",
     "output_type": "stream",
     "text": [
      "a flexible container with a single opening\n",
      "['he stuffed his laundry into a large bag']\n",
      "\n",
      "the quantity of game taken in a particular period (usually by one person)\n",
      "['his bag included two deer']\n",
      "\n",
      "a place that the runner must touch before scoring\n",
      "['he scrambled to get back to the bag']\n",
      "\n",
      "a container used for carrying money and small personal items or accessories (especially by women)\n",
      "['she reached into her bag and found a comb']\n",
      "\n",
      "the quantity that a bag will hold\n",
      "['he ate a large bag of popcorn']\n",
      "\n",
      "a portable rectangular container for carrying clothes\n",
      "['he carried his small bag onto the plane with him']\n",
      "\n",
      "an ugly or ill-tempered woman\n",
      "['he was romancing the old bag for her money']\n",
      "\n",
      "mammary gland of bovids (cows and sheep and goats)\n",
      "[]\n",
      "\n",
      "an activity that you like or at which you are superior\n",
      "['chemistry is not my cup of tea', 'his bag now is learning to play golf', 'marriage was scarcely his dish']\n",
      "\n",
      "capture or kill, as in hunting\n",
      "['bag a few pheasants']\n",
      "\n",
      "hang loosely, like an empty bag\n",
      "[]\n",
      "\n",
      "bulge out; form a bulge outward, or be so full as to appear to bulge\n",
      "[]\n",
      "\n",
      "take unlawfully\n",
      "[]\n",
      "\n",
      "put into a bag\n",
      "['The supermarket clerk bagged the groceries']\n",
      "\n"
     ]
    }
   ],
   "source": [
    "word = \"bag\"\n",
    "for i, synset in enumerate(wn.synsets(word)):\n",
    "    #if (debug): print(i, synset)\n",
    "    comparison_data = []    \n",
    "    current_definition = synset.definition()\n",
    "    examples =  synset.examples()\n",
    "    print(current_definition)\n",
    "    print(examples)\n",
    "    print()"
   ]
  }
 ],
 "metadata": {
  "kernelspec": {
   "display_name": "Python 3",
   "language": "python",
   "name": "python3"
  },
  "language_info": {
   "codemirror_mode": {
    "name": "ipython",
    "version": 3
   },
   "file_extension": ".py",
   "mimetype": "text/x-python",
   "name": "python",
   "nbconvert_exporter": "python",
   "pygments_lexer": "ipython3",
   "version": "3.7.4"
  }
 },
 "nbformat": 4,
 "nbformat_minor": 2
}
